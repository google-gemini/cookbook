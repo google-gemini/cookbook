{
  "cells": [
    {
      "cell_type": "markdown",
      "metadata": {
        "id": "Tce3stUlHN0L"
      },
      "source": [
        "##### Copyright 2025 Google LLC."
      ]
    },
    {
      "cell_type": "code",
      "execution_count": null,
      "metadata": {
        "cellView": "form",
        "id": "tuOe1ymfHZPu"
      },
      "outputs": [],
      "source": [
        "# @title Licensed under the Apache License, Version 2.0 (the \"License\");\n",
        "# you may not use this file except in compliance with the License.\n",
        "# You may obtain a copy of the License at\n",
        "#\n",
        "# https://www.apache.org/licenses/LICENSE-2.0\n",
        "#\n",
        "# Unless required by applicable law or agreed to in writing, software\n",
        "# distributed under the License is distributed on an \"AS IS\" BASIS,\n",
        "# WITHOUT WARRANTIES OR CONDITIONS OF ANY KIND, either express or implied.\n",
        "# See the License for the specific language governing permissions and\n",
        "# limitations under the License."
      ]
    },
    {
      "cell_type": "markdown",
      "metadata": {
        "id": "BuhjNPTpju5n"
      },
      "source": [
        "# Gemini API: Getting started with Gemini embedding models\n",
        "\n",
        "<a target=\"_blank\" href=\"https://colab.research.google.com/github/google-gemini/cookbook/blob/main/quickstarts/Embeddings.ipynb\"><img src=\"https://colab.research.google.com/assets/colab-badge.svg\" height=30/></a>"
      ]
    },
    {
      "cell_type": "markdown",
      "metadata": {
        "id": "ddZb9-z46mM5"
      },
      "source": [
        "Embeddings are numerical representations that capture the relationships between different inputs. Text embeddings achieve this by converting text into arrays of floating-point numbers known as vectors. The primary purpose of these vectors is to encapsulate the semantic meaning of the text. The dimensionality of the vector, which is the length of the embedding array, can be quite large, with a passage of text sometimes being represented by a vector with hundreds of dimensions.\n",
        "\n",
        "The Gemini API generates state-of-the-art text embeddings. An embedding is a list of floating point numbers that represent the meaning of a word, sentence, or paragraph. You can use embeddings in many downstream applications like document search.\n",
        "\n",
        "This notebook provides quick code examples that show you how to get started generating embeddings."
      ]
    },
    {
      "cell_type": "markdown",
      "metadata": {
        "id": "ckLd8Ou9Py8J"
      },
      "source": [
        "## Table of Contents\n",
        "\n",
        "1.  **Setup:** Install the SDK and set up your API key.\n",
        "2.  **Embed content:** Generate text embeddings for single or multiple inputs.\n",
        "3.  **Truncating embeddings:** Explore how to reduce the dimensionality of embeddings.\n",
        "4.  **Embeddings in practice - Sentences similarity analysis:** Use embeddings to analyze the similarity between sentences using cosine similarity and visualize the results with a heatmap.\n",
        "5.  **Using `task_type` for different scenarios:** Learn how to use `task_type` for various applications like Retrieval Augmented Generation (RAG), including an example of building a simple FAQ system."
      ]
    },
    {
      "cell_type": "markdown",
      "metadata": {
        "id": "H05wT2GkRb3v"
      },
      "source": [
        "## Setup"
      ]
    },
    {
      "cell_type": "markdown",
      "metadata": {
        "id": "gZzJh3knRe0X"
      },
      "source": [
        "### Install SDK\n",
        "\n",
        "Install the SDK from [PyPI](https://github.com/googleapis/python-genai)."
      ]
    },
    {
      "cell_type": "code",
      "execution_count": null,
      "metadata": {
        "id": "YD6urJjWGVDf"
      },
      "outputs": [
        {
          "name": "stdout",
          "output_type": "stream",
          "text": [
            "\u001b[2K     \u001b[90m━━━━━━━━━━━━━━━━━━━━━━━━━━━━━━━━━━━━━━━━\u001b[0m \u001b[32m41.6/41.6 kB\u001b[0m \u001b[31m2.1 MB/s\u001b[0m eta \u001b[36m0:00:00\u001b[0m\n",
            "\u001b[2K   \u001b[90m━━━━━━━━━━━━━━━━━━━━━━━━━━━━━━━━━━━━━━━━\u001b[0m \u001b[32m226.8/226.8 kB\u001b[0m \u001b[31m7.1 MB/s\u001b[0m eta \u001b[36m0:00:00\u001b[0m\n",
            "\u001b[?25h"
          ]
        }
      ],
      "source": [
        "%pip install -q -U \"google-genai>=1.0.0\""
      ]
    },
    {
      "cell_type": "markdown",
      "metadata": {
        "id": "DJriBaWmkL6Z"
      },
      "source": [
        "### Setup your API key\n",
        "\n",
        "To run the following cell, your API key must be stored it in a Colab Secret named `GOOGLE_API_KEY`. If you don't already have an API key or you aren't sure how to create a Colab Secret, see [Authentication](../quickstarts/Authentication.ipynb) for an example."
      ]
    },
    {
      "cell_type": "code",
      "execution_count": null,
      "metadata": {
        "id": "Zey3UiYGDDzU"
      },
      "outputs": [],
      "source": [
        "from google.colab import userdata\n",
        "\n",
        "GEMINI_API_KEY = userdata.get('GEMINI_API_KEY')"
      ]
    },
    {
      "cell_type": "markdown",
      "metadata": {
        "id": "amMID20-Rq1G"
      },
      "source": [
        "### Initialize SDK client\n",
        "\n",
        "With the new SDK, now you only need to initialize a client with you API key (or OAuth if using [Vertex AI](https://cloud.google.com/vertex-ai)). The model is now set in each call."
      ]
    },
    {
      "cell_type": "code",
      "execution_count": 2,
      "metadata": {
        "id": "Do3kAVjCRtc6"
      },
      "outputs": [],
      "source": [
        "from google import genai\n",
        "\n",
        "client = genai.Client(api_key=GEMINI_API_KEY)"
      ]
    },
    {
      "cell_type": "markdown",
      "metadata": {
        "id": "mrjaYGUpRSb3"
      },
      "source": [
        "### Choose a model\n",
        "\n",
        "Select the model you want to use in this guide. You can either select one from the list or enter a model name manually.\n",
        "\n",
        "For a full overview of all Gemini models, check the [documentation](https://ai.google.dev/gemini-api/docs/models/gemini)."
      ]
    },
    {
      "cell_type": "code",
      "execution_count": 3,
      "metadata": {
        "id": "Kfb47RCGR5T-"
      },
      "outputs": [],
      "source": [
        "MODEL_ID = \"gemini-embedding-001\" # @param [\"gemini-embedding-001\", \"text-embedding-004\"] {\"allow-input\":true, isTemplate: true}"
      ]
    },
    {
      "cell_type": "markdown",
      "metadata": {
        "id": "gGpQ8Eg0kNXW"
      },
      "source": [
        "## Embed content\n",
        "\n",
        "Call the `embed_content` method with the model to generate text embeddings."
      ]
    },
    {
      "cell_type": "code",
      "execution_count": 4,
      "metadata": {
        "id": "J76TNa3QDwCc"
      },
      "outputs": [
        {
          "name": "stdout",
          "output_type": "stream",
          "text": [
            "[-0.02342152, 0.01676572, 0.009261323, -0.06383, - ... TRIMMED]\n"
          ]
        }
      ],
      "source": [
        "text = [\"Hello world\"]\n",
        "result = client.models.embed_content(model=MODEL_ID, contents=text)\n",
        "[embedding] = result.embeddings\n",
        "\n",
        "# Print just a part of the embedding to keep the output manageable\n",
        "print(str(embedding.values)[:50], '... TRIMMED]')"
      ]
    },
    {
      "cell_type": "code",
      "execution_count": 5,
      "metadata": {
        "id": "rU6XX33547Ll"
      },
      "outputs": [
        {
          "name": "stdout",
          "output_type": "stream",
          "text": [
            "3072\n"
          ]
        }
      ],
      "source": [
        "print(len(embedding.values))  # The embeddings have 3072 dimensions by default"
      ]
    },
    {
      "cell_type": "markdown",
      "metadata": {
        "id": "BUKqxF9yQuZl"
      },
      "source": [
        "## Batch embed content\n",
        "\n",
        "You can embed a list of multiple prompts with one API call for efficiency."
      ]
    },
    {
      "cell_type": "code",
      "execution_count": 6,
      "metadata": {
        "id": "Hzz-7Heuf4tV"
      },
      "outputs": [
        {
          "name": "stdout",
          "output_type": "stream",
          "text": [
            "values=[-0.022374554, -0.004560777, 0.013309286, - ... TRIMMED]\n",
            "values=[-0.007975887, -0.02141119, -0.0016711014,  ... TRIMMED]\n",
            "values=[-0.0047850125, 0.008764064, 0.0062852204,  ... TRIMMED]\n"
          ]
        }
      ],
      "source": [
        "result = client.models.embed_content(\n",
        "    model=MODEL_ID,\n",
        "    contents=[\n",
        "      'What is the meaning of life?',\n",
        "      'How much wood would a woodchuck chuck?',\n",
        "      'How does the brain work?'])\n",
        "\n",
        "for embedding in result.embeddings:\n",
        "    # Print just a part of the embedding to keep the output manageable\n",
        "  print(str(embedding)[:50], '... TRIMMED]')"
      ]
    },
    {
      "cell_type": "markdown",
      "metadata": {
        "id": "r0r0dt958QQg"
      },
      "source": [
        "## Setting embeddings dimensionality\n",
        "\n",
        "The embedding models also supports lower embedding dimensions. Specify `output_dimensionality` to truncate the output."
      ]
    },
    {
      "cell_type": "code",
      "execution_count": 7,
      "metadata": {
        "id": "bX_AjfMx8PvV"
      },
      "outputs": [
        {
          "data": {
            "text/plain": [
              "(3072, 10)"
            ]
          },
          "execution_count": 7,
          "metadata": {},
          "output_type": "execute_result"
        }
      ],
      "source": [
        "text=[\"Hello world\"]\n",
        "# Not truncated\n",
        "result1 = client.models.embed_content(\n",
        "    model=MODEL_ID,\n",
        "    contents=text)\n",
        "\n",
        "\n",
        "# Truncated\n",
        "from google.genai import types\n",
        "\n",
        "result2 = client.models.embed_content(\n",
        "    model=MODEL_ID,\n",
        "    contents=text,\n",
        "    config=types.EmbedContentConfig(output_dimensionality=10))\n",
        "\n",
        "[embedding1] = result1.embeddings\n",
        "[embedding2] = result2.embeddings\n",
        "\n",
        "\n",
        "(len(embedding1.values), len(embedding2.values))"
      ]
    },
    {
      "cell_type": "markdown",
      "metadata": {
        "id": "7eSLTv0Q5Lrr"
      },
      "source": [
        "## Embeddings in practice - Sentences similarity analysis\n",
        "\n",
        "Sentence similarity analysis leverages embedding models to transform sentences into numerical vectors that encapsulate their semantic meaning. This allows for the comparison of sentences by measuring the distance or angle between their respective vectors in a high-dimensional space - This way, texts with similar meanings will have vectors that are closer together.\n",
        "\n",
        "For this example, you will use a Pandas dataframe to store sentences and calculate the similarity of an external sentence against them.\n"
      ]
    },
    {
      "cell_type": "code",
      "execution_count": 8,
      "metadata": {
        "id": "L5NVK_VY5rzX"
      },
      "outputs": [
        {
          "data": {
            "text/html": [
              "<div>\n",
              "<style scoped>\n",
              "    .dataframe tbody tr th:only-of-type {\n",
              "        vertical-align: middle;\n",
              "    }\n",
              "\n",
              "    .dataframe tbody tr th {\n",
              "        vertical-align: top;\n",
              "    }\n",
              "\n",
              "    .dataframe thead th {\n",
              "        text-align: right;\n",
              "    }\n",
              "</style>\n",
              "<table border=\"1\" class=\"dataframe\">\n",
              "  <thead>\n",
              "    <tr style=\"text-align: right;\">\n",
              "      <th></th>\n",
              "      <th>text</th>\n",
              "    </tr>\n",
              "  </thead>\n",
              "  <tbody>\n",
              "    <tr>\n",
              "      <th>0</th>\n",
              "      <td>I really enjoyed last night's movie</td>\n",
              "    </tr>\n",
              "    <tr>\n",
              "      <th>1</th>\n",
              "      <td>we watched a lot of acrobatic scenes yesterday</td>\n",
              "    </tr>\n",
              "    <tr>\n",
              "      <th>2</th>\n",
              "      <td>I had fun writing my first program in Python</td>\n",
              "    </tr>\n",
              "    <tr>\n",
              "      <th>3</th>\n",
              "      <td>a tremendous feeling of relief to finally get ...</td>\n",
              "    </tr>\n",
              "    <tr>\n",
              "      <th>4</th>\n",
              "      <td>Oh Romeo, Romeo, wherefore art thou Romeo?</td>\n",
              "    </tr>\n",
              "  </tbody>\n",
              "</table>\n",
              "</div>"
            ],
            "text/plain": [
              "                                                text\n",
              "0                I really enjoyed last night's movie\n",
              "1     we watched a lot of acrobatic scenes yesterday\n",
              "2       I had fun writing my first program in Python\n",
              "3  a tremendous feeling of relief to finally get ...\n",
              "4         Oh Romeo, Romeo, wherefore art thou Romeo?"
            ]
          },
          "execution_count": 8,
          "metadata": {},
          "output_type": "execute_result"
        }
      ],
      "source": [
        "import pandas as pd\n",
        "\n",
        "text = [\n",
        "    \"I really enjoyed last night's movie\",\n",
        "    \"we watched a lot of acrobatic scenes yesterday\",\n",
        "    \"I had fun writing my first program in Python\",\n",
        "    \"a tremendous feeling of relief to finally get my Nodejs scripts to run without errors!\",\n",
        "    \"Oh Romeo, Romeo, wherefore art thou Romeo?\"\n",
        "]\n",
        "\n",
        "df = pd.DataFrame(text, columns=[\"text\"])\n",
        "df"
      ]
    },
    {
      "cell_type": "markdown",
      "metadata": {
        "id": "Fd9oPYjF6RC7"
      },
      "source": [
        "Now you will create a new dataframe column called `embeddings` to generate the embeddings for each text using the embedding model."
      ]
    },
    {
      "cell_type": "code",
      "execution_count": 9,
      "metadata": {
        "id": "kTS5wO_n5rwD"
      },
      "outputs": [
        {
          "data": {
            "text/html": [
              "<div>\n",
              "<style scoped>\n",
              "    .dataframe tbody tr th:only-of-type {\n",
              "        vertical-align: middle;\n",
              "    }\n",
              "\n",
              "    .dataframe tbody tr th {\n",
              "        vertical-align: top;\n",
              "    }\n",
              "\n",
              "    .dataframe thead th {\n",
              "        text-align: right;\n",
              "    }\n",
              "</style>\n",
              "<table border=\"1\" class=\"dataframe\">\n",
              "  <thead>\n",
              "    <tr style=\"text-align: right;\">\n",
              "      <th></th>\n",
              "      <th>text</th>\n",
              "      <th>embeddings</th>\n",
              "    </tr>\n",
              "  </thead>\n",
              "  <tbody>\n",
              "    <tr>\n",
              "      <th>0</th>\n",
              "      <td>I really enjoyed last night's movie</td>\n",
              "      <td>[-0.008643071, -0.0053559155, -0.021297632, -0...</td>\n",
              "    </tr>\n",
              "    <tr>\n",
              "      <th>1</th>\n",
              "      <td>we watched a lot of acrobatic scenes yesterday</td>\n",
              "      <td>[0.0020033775, 0.011857256, 0.014011001, -0.05...</td>\n",
              "    </tr>\n",
              "    <tr>\n",
              "      <th>2</th>\n",
              "      <td>I had fun writing my first program in Python</td>\n",
              "      <td>[0.006098604, 0.01440329, 0.003543624, -0.0668...</td>\n",
              "    </tr>\n",
              "    <tr>\n",
              "      <th>3</th>\n",
              "      <td>a tremendous feeling of relief to finally get ...</td>\n",
              "      <td>[0.002211906, -0.010089638, -0.010465407, -0.0...</td>\n",
              "    </tr>\n",
              "    <tr>\n",
              "      <th>4</th>\n",
              "      <td>Oh Romeo, Romeo, wherefore art thou Romeo?</td>\n",
              "      <td>[-0.023238435, 0.0008168684, -0.01867058, -0.0...</td>\n",
              "    </tr>\n",
              "  </tbody>\n",
              "</table>\n",
              "</div>"
            ],
            "text/plain": [
              "                                                text  \\\n",
              "0                I really enjoyed last night's movie   \n",
              "1     we watched a lot of acrobatic scenes yesterday   \n",
              "2       I had fun writing my first program in Python   \n",
              "3  a tremendous feeling of relief to finally get ...   \n",
              "4         Oh Romeo, Romeo, wherefore art thou Romeo?   \n",
              "\n",
              "                                          embeddings  \n",
              "0  [-0.008643071, -0.0053559155, -0.021297632, -0...  \n",
              "1  [0.0020033775, 0.011857256, 0.014011001, -0.05...  \n",
              "2  [0.006098604, 0.01440329, 0.003543624, -0.0668...  \n",
              "3  [0.002211906, -0.010089638, -0.010465407, -0.0...  \n",
              "4  [-0.023238435, 0.0008168684, -0.01867058, -0.0...  "
            ]
          },
          "execution_count": 9,
          "metadata": {},
          "output_type": "execute_result"
        }
      ],
      "source": [
        "df[\"embeddings\"] = df.apply(lambda x: client.models.embed_content(model=MODEL_ID, contents=(x['text'])).embeddings[0].values, axis=1)\n",
        "df"
      ]
    },
    {
      "cell_type": "markdown",
      "metadata": {
        "id": "QtpYXdVXCqmg"
      },
      "source": [
        "### Analyzing the similarity of text examples with cosine similarity\n",
        "\n",
        "By converting text into embeddings, you can calculate similarity scores. There are many ways to calculate similarity scores, and a common technique is to use [cosine similarity](https://en.wikipedia.org/wiki/Cosine_similarity).\n",
        "\n",
        "In the example above, two of the sentences in the text column refer to enjoying a movie, and the other two relate to enjoying programming. The cosine similarity scores should be higher (close to 1.0) when making pairwise comparisons between semantically related sentences, and the scores should be lower between semantically different sentences.\n",
        "\n",
        "The DataFrame output below shows the resulting cosine similarity scores between the embeddings:"
      ]
    },
    {
      "cell_type": "code",
      "execution_count": 10,
      "metadata": {
        "id": "g7P-TIGKDcLV"
      },
      "outputs": [
        {
          "data": {
            "text/html": [
              "<div>\n",
              "<style scoped>\n",
              "    .dataframe tbody tr th:only-of-type {\n",
              "        vertical-align: middle;\n",
              "    }\n",
              "\n",
              "    .dataframe tbody tr th {\n",
              "        vertical-align: top;\n",
              "    }\n",
              "\n",
              "    .dataframe thead th {\n",
              "        text-align: right;\n",
              "    }\n",
              "</style>\n",
              "<table border=\"1\" class=\"dataframe\">\n",
              "  <thead>\n",
              "    <tr style=\"text-align: right;\">\n",
              "      <th></th>\n",
              "      <th>I really enjoyed last night's movie</th>\n",
              "      <th>we watched a lot of acrobatic scenes yesterday</th>\n",
              "      <th>I had fun writing my first program in Python</th>\n",
              "      <th>a tremendous feeling of relief to finally get my Nodejs scripts to run without errors!</th>\n",
              "      <th>Oh Romeo, Romeo, wherefore art thou Romeo?</th>\n",
              "    </tr>\n",
              "  </thead>\n",
              "  <tbody>\n",
              "    <tr>\n",
              "      <th>I really enjoyed last night's movie</th>\n",
              "      <td>1.000000</td>\n",
              "      <td>0.689709</td>\n",
              "      <td>0.649973</td>\n",
              "      <td>0.610519</td>\n",
              "      <td>0.504257</td>\n",
              "    </tr>\n",
              "    <tr>\n",
              "      <th>we watched a lot of acrobatic scenes yesterday</th>\n",
              "      <td>0.689709</td>\n",
              "      <td>1.000000</td>\n",
              "      <td>0.572219</td>\n",
              "      <td>0.528064</td>\n",
              "      <td>0.529288</td>\n",
              "    </tr>\n",
              "    <tr>\n",
              "      <th>I had fun writing my first program in Python</th>\n",
              "      <td>0.649973</td>\n",
              "      <td>0.572219</td>\n",
              "      <td>1.000000</td>\n",
              "      <td>0.642147</td>\n",
              "      <td>0.483042</td>\n",
              "    </tr>\n",
              "    <tr>\n",
              "      <th>a tremendous feeling of relief to finally get my Nodejs scripts to run without errors!</th>\n",
              "      <td>0.610519</td>\n",
              "      <td>0.528064</td>\n",
              "      <td>0.642147</td>\n",
              "      <td>1.000000</td>\n",
              "      <td>0.480117</td>\n",
              "    </tr>\n",
              "    <tr>\n",
              "      <th>Oh Romeo, Romeo, wherefore art thou Romeo?</th>\n",
              "      <td>0.504257</td>\n",
              "      <td>0.529288</td>\n",
              "      <td>0.483042</td>\n",
              "      <td>0.480117</td>\n",
              "      <td>1.000000</td>\n",
              "    </tr>\n",
              "  </tbody>\n",
              "</table>\n",
              "</div>"
            ],
            "text/plain": [
              "                                                    I really enjoyed last night's movie  \\\n",
              "I really enjoyed last night's movie                                            1.000000   \n",
              "we watched a lot of acrobatic scenes yesterday                                 0.689709   \n",
              "I had fun writing my first program in Python                                   0.649973   \n",
              "a tremendous feeling of relief to finally get m...                             0.610519   \n",
              "Oh Romeo, Romeo, wherefore art thou Romeo?                                     0.504257   \n",
              "\n",
              "                                                    we watched a lot of acrobatic scenes yesterday  \\\n",
              "I really enjoyed last night's movie                                                       0.689709   \n",
              "we watched a lot of acrobatic scenes yesterday                                            1.000000   \n",
              "I had fun writing my first program in Python                                              0.572219   \n",
              "a tremendous feeling of relief to finally get m...                                        0.528064   \n",
              "Oh Romeo, Romeo, wherefore art thou Romeo?                                                0.529288   \n",
              "\n",
              "                                                    I had fun writing my first program in Python  \\\n",
              "I really enjoyed last night's movie                                                     0.649973   \n",
              "we watched a lot of acrobatic scenes yesterday                                          0.572219   \n",
              "I had fun writing my first program in Python                                            1.000000   \n",
              "a tremendous feeling of relief to finally get m...                                      0.642147   \n",
              "Oh Romeo, Romeo, wherefore art thou Romeo?                                              0.483042   \n",
              "\n",
              "                                                    a tremendous feeling of relief to finally get my Nodejs scripts to run without errors!  \\\n",
              "I really enjoyed last night's movie                                                          0.610519                                        \n",
              "we watched a lot of acrobatic scenes yesterday                                               0.528064                                        \n",
              "I had fun writing my first program in Python                                                 0.642147                                        \n",
              "a tremendous feeling of relief to finally get m...                                           1.000000                                        \n",
              "Oh Romeo, Romeo, wherefore art thou Romeo?                                                   0.480117                                        \n",
              "\n",
              "                                                    Oh Romeo, Romeo, wherefore art thou Romeo?  \n",
              "I really enjoyed last night's movie                                                   0.504257  \n",
              "we watched a lot of acrobatic scenes yesterday                                        0.529288  \n",
              "I had fun writing my first program in Python                                          0.483042  \n",
              "a tremendous feeling of relief to finally get m...                                    0.480117  \n",
              "Oh Romeo, Romeo, wherefore art thou Romeo?                                            1.000000  "
            ]
          },
          "execution_count": 10,
          "metadata": {},
          "output_type": "execute_result"
        }
      ],
      "source": [
        "from sklearn.metrics.pairwise import cosine_similarity\n",
        "\n",
        "cos_sim_array = cosine_similarity(list(df.embeddings.values))\n",
        "\n",
        "# display as DataFrame\n",
        "similarities = pd.DataFrame(cos_sim_array, index=text, columns=text)\n",
        "similarities"
      ]
    },
    {
      "cell_type": "markdown",
      "metadata": {
        "id": "0nKojP0yD3B0"
      },
      "source": [
        "To make this easier to understand, you can use a heatmap. Naturally, the text is most similar when they are identical (score of `1.0`). The next highest scores are when the sentences are semantically similar. The lowest scores are when the sentences are quite different in meaning."
      ]
    },
    {
      "cell_type": "code",
      "execution_count": 11,
      "metadata": {
        "id": "GGRwVXUkD6Ey"
      },
      "outputs": [
        {
          "data": {
            "image/png": "[encoded data removed]",
            "text/plain": [
              "<Figure size 800x600 with 2 Axes>"
            ]
          },
          "metadata": {},
          "output_type": "display_data"
        }
      ],
      "source": [
        "import seaborn as sns\n",
        "import matplotlib.pyplot as plt\n",
        "\n",
        "plt.figure(figsize=(8, 6))\n",
        "ax = sns.heatmap(similarities, annot=True, cmap=\"crest\")\n",
        "ax.xaxis.tick_top()\n",
        "ax.set_xticklabels(text, rotation=90)\n",
        "plt.show()"
      ]
    },
    {
      "cell_type": "markdown",
      "metadata": {
        "id": "GneVOB1yPMXg"
      },
      "source": [
        "## Using `task_type` for different scenarios\n",
        "\n",
        "When generating embeddings, especially for complex systems like Retrieval Augmented Generation (RAG), a one-size-fits-all approach can sometimes lead to lower-quality results. For instance, a question like \"Why is the sky blue?\" and its answer, \"The scattering of sunlight causes the blue color,\" have distinct meanings as statements, and a general-purpose embedding model might not recognize their strong relationship. To solve this, you can specify a `task_type` when creating embeddings. This instructs the model to produce vectors that are specifically optimized for your intended use case, which can significantly improve performance while also saving time and cost.\n",
        "\n",
        "The Gemini embedding model supports several task types, each tailored for a specific goal. Here’s a general overview of the available types and their applications:\n",
        "\n",
        "*   **`SEMANTIC_SIMILARITY`**: Use this when your goal is to assess how semantically similar two pieces of text are.\n",
        "*   **`RETRIEVAL_QUERY`** and **`RETRIEVAL_DOCUMENT`**: These are essential for information retrieval tasks. Use `RETRIEVAL_QUERY` for the user's search query and `RETRIEVAL_DOCUMENT` for the texts in your database that you want to search through. This is the foundation for building effective semantic search and RAG systems.\n",
        "*   **`CLASSIFICATION`**: Choose this task type when you intend to use the embeddings to train a model that classifies text into a set of predefined categories.\n",
        "*   **`CLUSTERING`**: If your goal is to group similar texts together to identify hidden trends or topics without pre-existing labels, this task type will generate embeddings optimized for that purpose."
      ]
    },
    {
      "cell_type": "markdown",
      "metadata": {
        "id": "ppL4T_b_exro"
      },
      "source": [
        "This example is an intuition of how more complex RAG systems work - like when you are building one FAQ system. You will:\n",
        "\n",
        "- define some information, representing data from documents\n",
        "- use the embedding model to generate the embeddings for those information\n",
        "- look for information similar to the question asked\n",
        "- then use a Gemini generative model to customize one answer to the question.\n",
        "\n",
        "First you will declare the information representing the documents, create one structure including document titles and contents and create a dataframe from it."
      ]
    },
    {
      "cell_type": "code",
      "execution_count": 12,
      "metadata": {
        "id": "cVg9Ifh8jsBc"
      },
      "outputs": [
        {
          "data": {
            "text/html": [
              "<div>\n",
              "<style scoped>\n",
              "    .dataframe tbody tr th:only-of-type {\n",
              "        vertical-align: middle;\n",
              "    }\n",
              "\n",
              "    .dataframe tbody tr th {\n",
              "        vertical-align: top;\n",
              "    }\n",
              "\n",
              "    .dataframe thead th {\n",
              "        text-align: right;\n",
              "    }\n",
              "</style>\n",
              "<table border=\"1\" class=\"dataframe\">\n",
              "  <thead>\n",
              "    <tr style=\"text-align: right;\">\n",
              "      <th></th>\n",
              "      <th>title</th>\n",
              "      <th>contents</th>\n",
              "    </tr>\n",
              "  </thead>\n",
              "  <tbody>\n",
              "    <tr>\n",
              "      <th>0</th>\n",
              "      <td>Climate control system</td>\n",
              "      <td>Operating the Climate Control System Your Goog...</td>\n",
              "    </tr>\n",
              "    <tr>\n",
              "      <th>1</th>\n",
              "      <td>Touchscreen</td>\n",
              "      <td>Your Googlecar has a large touchscreen display...</td>\n",
              "    </tr>\n",
              "    <tr>\n",
              "      <th>2</th>\n",
              "      <td>Shifting gears</td>\n",
              "      <td>Shifting Gears Your Googlecar has an automatic...</td>\n",
              "    </tr>\n",
              "  </tbody>\n",
              "</table>\n",
              "</div>"
            ],
            "text/plain": [
              "                    title                                           contents\n",
              "0  Climate control system  Operating the Climate Control System Your Goog...\n",
              "1             Touchscreen  Your Googlecar has a large touchscreen display...\n",
              "2          Shifting gears  Shifting Gears Your Googlecar has an automatic..."
            ]
          },
          "execution_count": 12,
          "metadata": {},
          "output_type": "execute_result"
        }
      ],
      "source": [
        "contents01 = \"\"\"Operating the Climate Control System Your Googlecar has a climate control system that allows you to adjust the temperature and airflow in the car.\n",
        "To operate the climate control system, use the buttons and knobs located on the center console.\n",
        "Temperature: The temperature knob controls the temperature inside the car.\n",
        "Turn the knob clockwise to increase the temperature or counterclockwise to decrease the temperature.\n",
        "Airflow: The airflow knob controls the amount of airflow inside the car.\n",
        "Turn the knob clockwise to increase the airflow or counterclockwise to decrease the airflow.\n",
        "Fan speed: The fan speed knob controls the speed of the fan.\n",
        "Turn the knob clockwise to increase the fan speed or counterclockwise to decrease the fan speed.\n",
        "Mode: The mode button allows you to select the desired mode.\n",
        "The available modes are: Auto: The car will automatically adjust the temperature and airflow to maintain a comfortable level.\n",
        "Cool: The car will blow cool air into the car.\n",
        "Heat: The car will blow warm air into the car.\n",
        "Defrost: The car will blow warm air onto the windshield to defrost it.\n",
        "\"\"\"\n",
        "\n",
        "contents02 = \"\"\"Your Googlecar has a large touchscreen display that provides access to a variety of features, including navigation, entertainment, and climate control.\n",
        "To use the touchscreen display, simply touch the desired icon.\n",
        "For example, you can touch the \"Navigation\" icon to get directions to your destination or touch the \"Music\" icon to play your favorite songs.\n",
        "\"\"\"\n",
        "\n",
        "contents03 = \"\"\"Shifting Gears Your Googlecar has an automatic transmission.\n",
        "To shift gears, simply move the shift lever to the desired position.\n",
        "Park: This position is used when you are parked. The wheels are locked and the car cannot move.\n",
        "Reverse: This position is used to back up.\n",
        "Neutral: This position is used when you are stopped at a light or in traffic.\n",
        "The car is not in gear and will not move unless you press the gas pedal.\n",
        "Drive: This position is used to drive forward.\n",
        "Low: This position is used for driving in snow or other slippery conditions.\n",
        "\"\"\"\n",
        "\n",
        "document01 = {\n",
        "    \"title\": \"Climate control system\",\n",
        "    \"contents\": \" \".join(contents01.split())\n",
        "}\n",
        "document02 = {\n",
        "    \"title\": \"Touchscreen\",\n",
        "    \"contents\": \" \".join(contents02.split())\n",
        "}\n",
        "document03 = {\n",
        "    \"title\": \"Shifting gears\",\n",
        "    \"contents\": \" \".join(contents03.split())\n",
        "}\n",
        "\n",
        "documents = [document01, document02, document03]\n",
        "\n",
        "docs_df = pd.DataFrame(documents)\n",
        "docs_df.columns = ['title', 'contents']\n",
        "docs_df"
      ]
    },
    {
      "cell_type": "markdown",
      "metadata": {
        "id": "ACoh7e3ZpiTO"
      },
      "source": [
        "Now you will create the embeddings using the (`RETRIEVAL_DOCUMENT` task type) column into the dataframe:"
      ]
    },
    {
      "cell_type": "code",
      "execution_count": 17,
      "metadata": {
        "id": "nMeeFpSUpp2Q"
      },
      "outputs": [
        {
          "data": {
            "text/html": [
              "<div>\n",
              "<style scoped>\n",
              "    .dataframe tbody tr th:only-of-type {\n",
              "        vertical-align: middle;\n",
              "    }\n",
              "\n",
              "    .dataframe tbody tr th {\n",
              "        vertical-align: top;\n",
              "    }\n",
              "\n",
              "    .dataframe thead th {\n",
              "        text-align: right;\n",
              "    }\n",
              "</style>\n",
              "<table border=\"1\" class=\"dataframe\">\n",
              "  <thead>\n",
              "    <tr style=\"text-align: right;\">\n",
              "      <th></th>\n",
              "      <th>title</th>\n",
              "      <th>contents</th>\n",
              "      <th>embeddings</th>\n",
              "    </tr>\n",
              "  </thead>\n",
              "  <tbody>\n",
              "    <tr>\n",
              "      <th>0</th>\n",
              "      <td>Climate control system</td>\n",
              "      <td>Operating the Climate Control System Your Goog...</td>\n",
              "      <td>[0.025201924, -0.003934131, 0.013785498, -0.04...</td>\n",
              "    </tr>\n",
              "    <tr>\n",
              "      <th>1</th>\n",
              "      <td>Touchscreen</td>\n",
              "      <td>Your Googlecar has a large touchscreen display...</td>\n",
              "      <td>[0.02184716, -0.004145778, 0.004038047, -0.059...</td>\n",
              "    </tr>\n",
              "    <tr>\n",
              "      <th>2</th>\n",
              "      <td>Shifting gears</td>\n",
              "      <td>Shifting Gears Your Googlecar has an automatic...</td>\n",
              "      <td>[0.012534659, 0.017149324, 0.0006287712, -0.04...</td>\n",
              "    </tr>\n",
              "  </tbody>\n",
              "</table>\n",
              "</div>"
            ],
            "text/plain": [
              "                    title                                           contents  \\\n",
              "0  Climate control system  Operating the Climate Control System Your Goog...   \n",
              "1             Touchscreen  Your Googlecar has a large touchscreen display...   \n",
              "2          Shifting gears  Shifting Gears Your Googlecar has an automatic...   \n",
              "\n",
              "                                          embeddings  \n",
              "0  [0.025201924, -0.003934131, 0.013785498, -0.04...  \n",
              "1  [0.02184716, -0.004145778, 0.004038047, -0.059...  \n",
              "2  [0.012534659, 0.017149324, 0.0006287712, -0.04...  "
            ]
          },
          "execution_count": 17,
          "metadata": {},
          "output_type": "execute_result"
        }
      ],
      "source": [
        "docs_df[\"embeddings\"] = docs_df.apply(lambda x: client.models.embed_content(model=MODEL_ID, contents=(x['contents']), config=types.EmbedContentConfig(task_type=\"RETRIEVAL_DOCUMENT\")).embeddings[0].values, axis=1)\n",
        "docs_df"
      ]
    },
    {
      "cell_type": "markdown",
      "metadata": {
        "id": "5TvY9uIXqsdF"
      },
      "source": [
        "Now you will create a function to do the interaction between questions and the search in the dataframe.\n",
        "\n",
        "The `find_best_passage` function to, instead of searching for simple keywords, it searches for meaning.\n",
        "\n",
        "Here’s a step-by-step breakdown of what it does when you ask a question:\n",
        "\n",
        "- First, the function takes your query (e.g., \"how do I change gears?\") and uses the embedding model to convert it into an embedding using the `RETRIEVAL_QUERY` task type.\n",
        "- Then the function compares the embeddings from your question to the numbers of every single document. It calculates a similarity score for each pair. A higher score means the meanings are more closely aligned.\n",
        "- Finally, the function identifies the document with the single highest similarity score and returns its original text as the most relevant answer to your question"
      ]
    },
    {
      "cell_type": "code",
      "execution_count": 18,
      "metadata": {
        "id": "5kdBf-Phkr-n"
      },
      "outputs": [],
      "source": [
        "import numpy as np\n",
        "\n",
        "def find_best_passage(query: str, dataframe: pd.DataFrame, model: str) -> str:\n",
        "\n",
        "  # 1. Create an embedding for the user's query.\n",
        "  query_embedding = client.models.embed_content(\n",
        "      model=model,\n",
        "      contents=query,\n",
        "      config=types.EmbedContentConfig(task_type=\"RETRIEVAL_QUERY\")\n",
        "  )\n",
        "\n",
        "  # 2. Calculate the dot product to find the similarity between the query and all documents\n",
        "  dot_products = np.dot(np.stack(dataframe.embeddings), query_embedding.embeddings[0].values)\n",
        "\n",
        "  # 3. Find the index of the highest score and return the corresponding text.\n",
        "  best_passage_index = np.argmax(dot_products)\n",
        "\n",
        "  # 4. return the document contents more relevant to the question\n",
        "  return dataframe.contents.iloc[best_passage_index]"
      ]
    },
    {
      "cell_type": "markdown",
      "metadata": {
        "id": "4o5jcdkarYvU"
      },
      "source": [
        "Per example, for the question `\"how to make the fan speed stronger on the car cooling system\"` you have the following passage as the closest one:"
      ]
    },
    {
      "cell_type": "code",
      "execution_count": 19,
      "metadata": {
        "id": "tPiIDbivo2pU"
      },
      "outputs": [
        {
          "data": {
            "text/plain": [
              "'Operating the Climate Control System Your Googlecar has a climate control system that allows you to adjust the temperature and airflow in the car. To operate the climate control system, use the buttons and knobs located on the center console. Temperature: The temperature knob controls the temperature inside the car. Turn the knob clockwise to increase the temperature or counterclockwise to decrease the temperature. Airflow: The airflow knob controls the amount of airflow inside the car. Turn the knob clockwise to increase the airflow or counterclockwise to decrease the airflow. Fan speed: The fan speed knob controls the speed of the fan. Turn the knob clockwise to increase the fan speed or counterclockwise to decrease the fan speed. Mode: The mode button allows you to select the desired mode. The available modes are: Auto: The car will automatically adjust the temperature and airflow to maintain a comfortable level. Cool: The car will blow cool air into the car. Heat: The car will blow warm air into the car. Defrost: The car will blow warm air onto the windshield to defrost it.'"
            ]
          },
          "execution_count": 19,
          "metadata": {},
          "output_type": "execute_result"
        }
      ],
      "source": [
        "question = \"\"\"how to make the fan speed stronger on the car cooling system\"\"\"\n",
        "\n",
        "best_passage = find_best_passage(question, docs_df, MODEL_ID)\n",
        "best_passage"
      ]
    },
    {
      "cell_type": "markdown",
      "metadata": {
        "id": "74iiOsaC3YKA"
      },
      "source": [
        "Now you can do one augmented generation (the last step of the RAG process) using the best passage found by the first step, but still having custom answers for users instead of simply pasting large documents chunks directly:"
      ]
    },
    {
      "cell_type": "code",
      "execution_count": 20,
      "metadata": {
        "id": "jHW1eX6p3mGj"
      },
      "outputs": [
        {
          "data": {
            "text/markdown": [
              "Hello there! I can definitely help you understand how to make the fan speed stronger in your Googlecar.\n",
              "\n",
              "Based on the information provided, to make the fan speed stronger, you'll want to:\n",
              "\n",
              "1.  Look for the **fan speed knob** on the center console of your car.\n",
              "2.  Once you find it, simply **turn this knob clockwise**. Turning it clockwise will increase how fast the fan blows air, making it stronger!\n",
              "\n",
              "I hope this helps you get the airflow just right!"
            ],
            "text/plain": [
              "<IPython.core.display.Markdown object>"
            ]
          },
          "execution_count": 20,
          "metadata": {},
          "output_type": "execute_result"
        }
      ],
      "source": [
        "from IPython.display import Markdown\n",
        "\n",
        "final_answer_prompt = f\"\"\"Your Role: You are a friendly AI assistant. Your purpose is to explain information to users who are not experts.\n",
        "\n",
        "Your Task: Use the provided \"Source Text\" below to answer the user's question.\n",
        "\n",
        "Guidelines for your Response:\n",
        "\n",
        "Be Clear and Simple: Explain any complicated ideas in easy-to-understand terms. Avoid jargon.\n",
        "Be Friendly: Write in a warm, conversational, and approachable tone.\n",
        "Be Thorough: Construct a complete and detailed answer in full sentences, using all the relevant information from the source text.\n",
        "Stay on Topic: If the source text does not contain the answer, you must state that the information is not available in the provided material. Do not use outside knowledge.\n",
        "\n",
        "QUESTION: {question}\n",
        "PASSAGE: {best_passage}\n",
        "\"\"\"\n",
        "\n",
        "MODEL_ID = \"gemini-2.5-flash\"\n",
        "\n",
        "final_answer = client.models.generate_content(\n",
        "    model=MODEL_ID,\n",
        "    contents=final_answer_prompt,\n",
        ")\n",
        "\n",
        "Markdown(final_answer.text)"
      ]
    },
    {
      "cell_type": "markdown",
      "metadata": {
        "id": "-v40U2QWRNCT"
      },
      "source": [
        "# Learning more\n",
        "\n",
        "Check out these examples in the Cookbook to learn more about what you can do with embeddings:\n",
        "\n",
        "- [Search Reranking](../examples/Search_reranking_using_embeddings.ipynb): Use embeddings from the Gemini API to rerank search results from Wikipedia.\n",
        "- [Anomaly detection with embeddings](../examples/anomaly_detection.ipynb): Use embeddings from the Gemini API to detect potential outliers in your dataset.\n",
        "- [Train a text classifier](../examples/Classify_text_with_embeddings.ipynb): Use embeddings from the Gemini API to train a model that can classify different types of newsgroup posts based on the topic.\n",
        "\n",
        "Embeddings have many applications in Vector Databases, too. Check out these examples:\n",
        "- With [Chroma DB](../examples/chromadb)\n",
        "- With [LangChain](../examples/langchain)\n",
        "- With [LlamaIndex](../examples/llamaindex)\n",
        "- With [Qdrant](../examples/qdrant)\n",
        "- With [Weaviate](../examples/weaviate)\n",
        "\n",
        "You can learn more about embeddings in general on ai.google.dev in the embeddings guide\n",
        "\n",
        "You can find additional code examples with the Python SDK here.\n"
      ]
    }
  ],
  "metadata": {
    "colab": {
      "collapsed_sections": [
        "DJriBaWmkL6Z"
      ],
      "name": "Embeddings.ipynb",
      "toc_visible": true
    },
    "kernelspec": {
      "display_name": "Python 3",
      "name": "python3"
    }
  },
  "nbformat": 4,
  "nbformat_minor": 0
}
