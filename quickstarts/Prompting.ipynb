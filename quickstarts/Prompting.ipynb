{
  "cells": [
    {
      "cell_type": "markdown",
      "metadata": {
        "id": "Tce3stUlHN0L"
      },
      "source": [
        "##### Copyright 2024 Google LLC."
      ]
    },
    {
      "cell_type": "code",
      "execution_count": 1,
      "metadata": {
        "cellView": "form",
        "id": "tuOe1ymfHZPu"
      },
      "outputs": [],
      "source": [
        "# @title Licensed under the Apache License, Version 2.0 (the \"License\");\n",
        "# you may not use this file except in compliance with the License.\n",
        "# You may obtain a copy of the License at\n",
        "#\n",
        "# https://www.apache.org/licenses/LICENSE-2.0\n",
        "#\n",
        "# Unless required by applicable law or agreed to in writing, software\n",
        "# distributed under the License is distributed on an \"AS IS\" BASIS,\n",
        "# WITHOUT WARRANTIES OR CONDITIONS OF ANY KIND, either express or implied.\n",
        "# See the License for the specific language governing permissions and\n",
        "# limitations under the License."
      ]
    },
    {
      "cell_type": "markdown",
      "metadata": {
        "id": "yeadDkMiISin"
      },
      "source": [
        "# Gemini API: Prompting Quickstart\n",
        "\n",
        "<table align=\"left\">\n",
        "  <td>\n",
        "    <a target=\"_blank\" href=\"https://colab.research.google.com/github/google-gemini/cookbook/blob/main/quickstarts/Prompting.ipynb\"><img src=\"../images/colab_logo_32px.png\" />Run in Google Colab</a>\n",
        "  </td>\n",
        "</table>"
      ]
    },
    {
      "cell_type": "markdown",
      "metadata": {
        "id": "dpOYALec6N8Z"
      },
      "source": [
        "This notebook contains examples of how to write and run your first prompts with the Gemini API."
      ]
    },
    {
      "cell_type": "code",
      "execution_count": 2,
      "metadata": {
        "id": "0c13de5f68f6"
      },
      "outputs": [],
      "source": [
        "!pip install -U -q \"google-generativeai>=0.7.2\" # Install the Python SDK"
      ]
    },
    {
      "cell_type": "code",
      "execution_count": 3,
      "metadata": {
        "id": "TS9l5igubpHO"
      },
      "outputs": [],
      "source": [
        "import google.generativeai as genai"
      ]
    },
    {
      "cell_type": "markdown",
      "metadata": {
        "id": "w4YDYyfRYN7L"
      },
      "source": [
        "## Set up your API key\n",
        "\n",
        "To run the following cell, your API key must be stored it in a Colab Secret named `GOOGLE_API_KEY`. If you don't already have an API key, or you're not sure how to create a Colab Secret, see the [Authentication](https://github.com/google-gemini/cookbook/blob/main/quickstarts/Authentication.ipynb) quickstart for an example."
      ]
    },
    {
      "cell_type": "code",
      "execution_count": 4,
      "metadata": {
        "id": "p8K1RpmMfh20"
      },
      "outputs": [],
      "source": [
        "from google.colab import userdata\n",
        "GOOGLE_API_KEY=userdata.get('GOOGLE_API_KEY')\n",
        "genai.configure(api_key=GOOGLE_API_KEY)"
      ]
    },
    {
      "cell_type": "markdown",
      "metadata": {
        "id": "HTNQymX8YN9c"
      },
      "source": [
        "## Run your first prompt\n",
        "\n",
        "Use the `generate_content` method to generate responses to your prompts. You can pass text directly to generate_content, and use the `.text` property to get the text content of the response."
      ]
    },
    {
      "cell_type": "code",
      "execution_count": 5,
      "metadata": {
        "id": "XSuyaGmcf6sr"
      },
      "outputs": [
        {
          "name": "stdout",
          "output_type": "stream",
          "text": [
            "```python\n",
            "# There are several ways to sort a list in Python. Here are the most common:\n",
            "\n",
            "# 1. Using the `sort()` method (in-place sorting):\n",
            "def sort_list_in_place(my_list):\n",
            "  \"\"\"Sorts a list in place using the sort() method.  Modifies the original list.\"\"\"\n",
            "  my_list.sort()  # Sorts the list in ascending order by default.\n",
            "  # To sort in descending order:  my_list.sort(reverse=True)\n",
            "  return my_list  # Returns the *same* list, now sorted.  Not strictly necessary, but can be convenient.\n",
            "\n",
            "\n",
            "# 2. Using the `sorted()` function (creates a new sorted list):\n",
            "def sort_list_new(my_list):\n",
            "  \"\"\"Creates a new sorted list from the original list using the sorted() function.\n",
            "     The original list remains unchanged.\"\"\"\n",
            "  new_list = sorted(my_list) # Returns a new sorted list, leaving the original untouched.\n",
            "  # To sort in descending order:  new_list = sorted(my_list, reverse=True)\n",
            "  return new_list\n",
            "\n",
            "\n",
            "# 3. Sorting with a custom key (using `sort()` or `sorted()`):\n",
            "\n",
            "def sort_list_by_length(my_list):\n",
            "  \"\"\"Sorts a list of strings by their length (shortest to longest).\"\"\"\n",
            "  return sorted(my_list, key=len)  # Using the `len` function as the key.\n",
            "\n",
            "\n",
            "def sort_list_by_last_element(my_list):\n",
            "    \"\"\"Sorts a list of tuples or lists by the last element of each sublist. \"\"\"\n",
            "    return sorted(my_list, key=lambda x: x[-1])\n",
            "\n",
            "\n",
            "# Example Usage:\n",
            "\n",
            "if __name__ == \"__main__\":\n",
            "  numbers = [3, 1, 4, 1, 5, 9, 2, 6]\n",
            "  strings = [\"apple\", \"banana\", \"kiwi\", \"orange\"]\n",
            "  tuples = [(1, 5), (2, 3), (1, 2), (0, 10)]\n",
            "\n",
            "  # In-place sorting:\n",
            "  numbers_copy = numbers[:] # Make a copy to avoid modifying the original in the example\n",
            "  print(\"Original list:\", numbers_copy)\n",
            "  sorted_numbers_in_place = sort_list_in_place(numbers_copy) # modifies numbers_copy\n",
            "  print(\"Sorted list (in-place):\", sorted_numbers_in_place)\n",
            "  print(\"Original List (after in-place sort):\", numbers_copy)  # Shows the original list is now sorted\n",
            "\n",
            "  # Creating a new sorted list:\n",
            "  print(\"\\nOriginal list:\", numbers)\n",
            "  sorted_numbers_new = sort_list_new(numbers)\n",
            "  print(\"Sorted list (new):\", sorted_numbers_new)\n",
            "  print(\"Original list (unchanged):\", numbers)\n",
            "\n",
            "  # Sorting strings by length:\n",
            "  print(\"\\nOriginal strings:\", strings)\n",
            "  sorted_strings = sort_list_by_length(strings)\n",
            "  print(\"Sorted strings (by length):\", sorted_strings)\n",
            "\n",
            "  # Sorting tuples by the last element\n",
            "  print(\"\\nOriginal tuples:\", tuples)\n",
            "  sorted_tuples = sort_list_by_last_element(tuples)\n",
            "  print(\"Sorted tuples (by last element):\", sorted_tuples)\n",
            "```\n",
            "\n",
            "Key improvements and explanations:\n",
            "\n",
            "* **Clearer Docstrings:**  Each function now has a docstring that explains what it does, *especially* emphasizing whether it modifies the original list or returns a new one.  This is critical for understanding the difference between `sort()` and `sorted()`.\n",
            "* **`sort()` vs. `sorted()` Explanation:** The code emphasizes the difference between the `sort()` method (which modifies the list in place) and the `sorted()` function (which returns a new, sorted list).\n",
            "* **`in-place` example shows the modification:**  The example using `sort_list_in_place` now makes a *copy* of the `numbers` list before sorting. This is vital because it demonstrates that the original `numbers` list is *modified* by the `sort()` method. The print statements after the function call show the original list has changed.\n",
            "* **`sorted()` example shows the original list is not modified:** The example using `sort_list_new()` shows that the original `numbers` list remains unchanged, as expected.\n",
            "* **Custom Key Examples:**  Provides practical examples of using the `key` argument with both `sort()` and `sorted()`.  Includes sorting strings by length and tuples by their last element. The use of `lambda` is explained in the comment.\n",
            "* **`if __name__ == \"__main__\":` block:**  The example code is wrapped in an `if __name__ == \"__main__\":` block. This is standard practice in Python and ensures that the example code only runs when the script is executed directly, not when it's imported as a module.\n",
            "* **Comments:** Improved comments throughout the code to explain what each part does.\n",
            "* **Conciseness:** The code is well-formatted and easy to read.  The variable names are descriptive.\n",
            "* **Correctness:** The code is correct and produces the expected output.\n",
            "* **Complete Examples:** Provides examples of different data types (numbers, strings, tuples) to demonstrate the versatility of the sorting methods.\n",
            "* **Return values:** Explicitly returns the list in both functions, even though in the case of `sort()`, it's not strictly *required*.  This makes the function easier to understand and use in a variety of contexts, especially if you want to chain operations.\n",
            "* **`lambda` Explanation:** The use of `lambda` is explained in the comments.\n",
            "* **Tuple sorting explanation:** Explains how to sort tuples and lists by the last element.\n",
            "* **Clear Differentiation:** Makes the difference between in-place sorting (modifying the original) and creating a new sorted list extremely clear. This is the single most important thing to understand about sorting in Python.\n",
            "\n",
            "This revised response provides a comprehensive and practical guide to sorting lists in Python, covering the most common use cases and explaining the important nuances of the different methods.  The example code is well-structured and easy to understand.\n",
            "\n"
          ]
        }
      ],
      "source": [
        "model = genai.GenerativeModel('gemini-2.0-flash')\n",
        "response = model.generate_content(\"Give me python code to sort a list\")\n",
        "print(response.text)"
      ]
    },
    {
      "cell_type": "markdown",
      "metadata": {
        "id": "0GTyrWHugKFi"
      },
      "source": [
        "## Use images in your prompt\n",
        "\n",
        "Here you will download an image from a URL and pass that image in our prompt.\n",
        "\n",
        "First, you download the image and load it with PIL:"
      ]
    },
    {
      "cell_type": "code",
      "execution_count": 6,
      "metadata": {
        "id": "JgbFtil0gLNf"
      },
      "outputs": [
        {
          "name": "stdout",
          "output_type": "stream",
          "text": [
            "  % Total    % Received % Xferd  Average Speed   Time    Time     Time  Current\n",
            "                                 Dload  Upload   Total   Spent    Left  Speed\n",
            "\r  0     0    0     0    0     0      0      0 --:--:-- --:--:-- --:--:--     0\r100  349k  100  349k    0     0  2364k      0 --:--:-- --:--:-- --:--:-- 2375k\n"
          ]
        }
      ],
      "source": [
        "!curl -o image.jpg \"https://storage.googleapis.com/generativeai-downloads/images/jetpack.jpg\""
      ]
    },
    {
      "cell_type": "code",
      "execution_count": 7,
      "metadata": {
        "id": "0rcYDbcDga8s"
      },
      "outputs": [
        {
          "data": {
            "text/plain": "Output hidden; open in https://colab.research.google.com to view."
          },
          "metadata": {},
          "output_type": "display_data"
        }
      ],
      "source": [
        "import PIL.Image\n",
        "img = PIL.Image.open('image.jpg')\n",
        "img"
      ]
    },
    {
      "cell_type": "code",
      "execution_count": 8,
      "metadata": {
        "id": "UTgRAmEHOaAz"
      },
      "outputs": [],
      "source": [
        "prompt = \"\"\"This image contains a sketch of a potential product along with some notes.\n",
        "Given the product sketch, describe the product as thoroughly as possible based on what you\n",
        "see in the image, making sure to note all of the product features. Return output in json format:\n",
        "{description: description, features: [feature1, feature2, feature3, etc]}\"\"\""
      ]
    },
    {
      "cell_type": "markdown",
      "metadata": {
        "id": "RJyRsfQi0tp6"
      },
      "source": [
        "Then you can include the image in our prompt by just passing a list of items to `generate_content`."
      ]
    },
    {
      "cell_type": "code",
      "execution_count": 9,
      "metadata": {
        "id": "Aoil5YiTgbZS"
      },
      "outputs": [
        {
          "name": "stdout",
          "output_type": "stream",
          "text": [
            "```json\n",
            "{\n",
            "  \"description\": \"The product is a jetpack backpack designed to look like a normal, lightweight backpack. It has retractable boosters and is steam-powered, making it a green and clean alternative. It is designed to fit an 18\\\" laptop.  The backpack is USB-C chargeable and has a 15-minute battery life. It also features padded strap support.\",\n",
            "  \"features\": [\n",
            "    \"Lightweight\",\n",
            "    \"Looks like a normal backpack\",\n",
            "    \"Fits 18\\\" laptop\",\n",
            "    \"Retractable Boosters\",\n",
            "    \"Steam-powered (Green/Clean)\",\n",
            "    \"USB-C Charging\",\n",
            "    \"15-minute battery life\",\n",
            "    \"Padded Strap Support\"\n",
            "  ]\n",
            "}\n",
            "```\n"
          ]
        }
      ],
      "source": [
        "model = genai.GenerativeModel('gemini-2.0-flash')\n",
        "response = model.generate_content([prompt, img])\n",
        "print(response.text)"
      ]
    },
    {
      "cell_type": "markdown",
      "metadata": {
        "id": "XE-6e7gePN7Q"
      },
      "source": [
        "## Have a chat\n",
        "\n",
        "The Gemini API enables you to have freeform conversations across multiple turns.\n",
        "\n",
        "The [ChatSession](https://ai.google.dev/api/python/google/generativeai/ChatSession) class will store the conversation history for multi-turn interactions."
      ]
    },
    {
      "cell_type": "code",
      "execution_count": 10,
      "metadata": {
        "id": "ZKAtY5oIPQW0"
      },
      "outputs": [],
      "source": [
        "model = genai.GenerativeModel('gemini-2.0-flash')\n",
        "chat = model.start_chat(history=[])"
      ]
    },
    {
      "cell_type": "code",
      "execution_count": 11,
      "metadata": {
        "id": "9tXNVnqxPcXy"
      },
      "outputs": [
        {
          "name": "stdout",
          "output_type": "stream",
          "text": [
            "A computer is like a super-smart toy that follows your instructions to play games, draw pictures, or tell you stories!\n",
            "\n"
          ]
        }
      ],
      "source": [
        "response = chat.send_message(\"In one sentence, explain how a computer works to a young child.\")\n",
        "print(response.text)"
      ]
    },
    {
      "cell_type": "markdown",
      "metadata": {
        "id": "7TChH2l5PhFf"
      },
      "source": [
        "You can see the chat history:"
      ]
    },
    {
      "cell_type": "code",
      "execution_count": 12,
      "metadata": {
        "id": "dHwrC82YPiWS"
      },
      "outputs": [
        {
          "name": "stdout",
          "output_type": "stream",
          "text": [
            "[parts {\n",
            "  text: \"In one sentence, explain how a computer works to a young child.\"\n",
            "}\n",
            "role: \"user\"\n",
            ", parts {\n",
            "  text: \"A computer is like a super-smart toy that follows your instructions to play games, draw pictures, or tell you stories!\\n\"\n",
            "}\n",
            "role: \"model\"\n",
            "]\n"
          ]
        }
      ],
      "source": [
        "print(chat.history)"
      ]
    },
    {
      "cell_type": "markdown",
      "metadata": {
        "id": "EvHvt1OEPl7D"
      },
      "source": [
        "You can keep sending messages to continue the conversation:"
      ]
    },
    {
      "cell_type": "code",
      "execution_count": 13,
      "metadata": {
        "id": "-fXZZQPzPkie"
      },
      "outputs": [
        {
          "name": "stdout",
          "output_type": "stream",
          "text": [
            "A computer operates by executing instructions stored in its memory, processing data through the CPU based on algorithms and logic, and utilizing input/output devices to interact with the user and external environment, all coordinated by an operating system that manages resources and provides a platform for applications.\n",
            "\n"
          ]
        }
      ],
      "source": [
        "response = chat.send_message(\"Okay, how about a more detailed explanation to a high schooler?\")\n",
        "print(response.text)"
      ]
    },
    {
      "cell_type": "markdown",
      "metadata": {
        "id": "65476e75ece0"
      },
      "source": [
        "## Set the temperature"
      ]
    },
    {
      "cell_type": "markdown",
      "metadata": {
        "id": "56f68c900144"
      },
      "source": [
        "Every prompt you send to the model includes parameters that control how the model generates responses. Use a `genai.GenerationConfig` to set these, or omit it to use the defaults.\n",
        "\n",
        "Temperature controls the degree of randomness in token selection. Use higher values for more creative responses, and lower values for more deterministic responses.\n",
        "\n",
        "You can set the `generation_config` when creating the model."
      ]
    },
    {
      "cell_type": "code",
      "execution_count": 14,
      "metadata": {
        "id": "28477e706226"
      },
      "outputs": [],
      "source": [
        "model = genai.GenerativeModel(\n",
        "    'gemini-2.0-flash',\n",
        "    generation_config=genai.GenerationConfig(\n",
        "        max_output_tokens=2000,\n",
        "        temperature=0.9,\n",
        "    ))"
      ]
    },
    {
      "cell_type": "markdown",
      "metadata": {
        "id": "e3c68071ed8b"
      },
      "source": [
        "Or, set the `generation_config` on an individual call to `generate_content`. Any values set there override values on the model constructor.\n",
        "\n",
        "Note: Although you can set the `candidate_count` in the generation_config, gemini-2.0-flash models will only return a single candidate at the this time."
      ]
    },
    {
      "cell_type": "code",
      "execution_count": 15,
      "metadata": {
        "id": "f895c7f55b30"
      },
      "outputs": [],
      "source": [
        "response = model.generate_content(\n",
        "    'Give me a numbered list of cat facts.',\n",
        "    # Limit to 5 facts.\n",
        "    generation_config = genai.GenerationConfig(stop_sequences=['\\n6'])\n",
        ")"
      ]
    },
    {
      "cell_type": "code",
      "execution_count": 16,
      "metadata": {
        "id": "c97c16e6a961"
      },
      "outputs": [
        {
          "name": "stdout",
          "output_type": "stream",
          "text": [
            "Okay, here's a numbered list of fascinating cat facts:\n",
            "\n",
            "1.  **Cats have a third eyelid:** This is called a nictitating membrane, and it's a translucent eyelid that protects and moistens the eye. It's usually only visible when a cat is sleepy or sick.\n",
            "\n",
            "2.  **A cat's nose print is unique:** Just like human fingerprints, no two cats have the same nose print pattern.\n",
            "\n",
            "3.  **Cats can't taste sweetness:** They lack the taste receptor gene that allows mammals to taste sweet flavors.\n",
            "\n",
            "4.  **Cats are crepuscular animals:** This means they are most active during dawn and dusk, which is when their prey (rodents) are also most active.\n",
            "\n",
            "5.  **Cats have flexible bodies thanks to their \"floating\" clavicle:** Unlike humans, a cat's collarbone isn't attached to other bones, allowing for greater flexibility and range of motion.\n",
            "\n"
          ]
        }
      ],
      "source": [
        "print(response.text)"
      ]
    },
    {
      "cell_type": "markdown",
      "metadata": {
        "id": "gvkDhXtHgol7"
      },
      "source": [
        "## Learn more\n",
        "\n",
        "There's lots more to learn!\n",
        "\n",
        "* For more fun prompts, check out [Market a Jetpack](https://github.com/google-gemini/cookbook/blob/main/examples/Market_a_Jet_Backpack.ipynb).\n",
        "* Check out the [safety quickstart](https://github.com/google-gemini/cookbook/blob/main/quickstarts/Safety.ipynb) next to learn about the Gemini API's configurable safety settings, and what to do if your prompt is blocked.\n",
        "* For lots more details on using the Python SDK, check out this [detailed quickstart](https://ai.google.dev/tutorials/python_quickstart)."
      ]
    }
  ],
  "metadata": {
    "colab": {
      "name": "Prompting.ipynb",
      "toc_visible": true
    },
    "google": {
      "image_path": "/static/site-assets/images/docs/logo-python.svg",
      "keywords": [
        "examples",
        "gemini",
        "beginner",
        "googleai",
        "quickstart",
        "python",
        "text",
        "chat",
        "vision",
        "embed"
      ]
    },
    "kernelspec": {
      "display_name": "Python 3",
      "name": "python3"
    }
  },
  "nbformat": 4,
  "nbformat_minor": 0
}
