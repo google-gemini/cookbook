{
  "cells": [
    {
      "cell_type": "markdown",
      "metadata": {
        "id": "gy3KpnNx_Jl4"
      },
      "source": [
        "##### Copyright 2025 Google LLC."
      ]
    },
    {
      "cell_type": "code",
      "execution_count": 1,
      "metadata": {
        "cellView": "form",
        "id": "fKqk8LWo_TCU"
      },
      "outputs": [],
      "source": [
        "# @title Licensed under the Apache License, Version 2.0 (the \"License\");\n",
        "# you may not use this file except in compliance with the License.\n",
        "# You may obtain a copy of the License at\n",
        "#\n",
        "# https://www.apache.org/licenses/LICENSE-2.0\n",
        "#\n",
        "# Unless required by applicable law or agreed to in writing, software\n",
        "# distributed under the License is distributed on an \"AS IS\" BASIS,\n",
        "# WITHOUT WARRANTIES OR CONDITIONS OF ANY KIND, either express or implied.\n",
        "# See the License for the specific language governing permissions and\n",
        "# limitations under the License."
      ]
    },
    {
      "cell_type": "markdown",
      "metadata": {
        "id": "sP8PQnz1QrcF"
      },
      "source": [
        "# Gemini API: Providing base cases"
      ]
    },
    {
      "cell_type": "markdown",
      "metadata": {
        "id": "bxGr_x3MRA0z"
      },
      "source": [
        "<a target=\"_blank\" href=\"https://colab.research.google.com/github/google-gemini/cookbook/blob/main/examples/prompting/Providing_base_cases.ipynb\"><img src=\"https://colab.research.google.com/assets/colab-badge.svg\" height=30/></a>"
      ]
    },
    {
      "cell_type": "markdown",
      "metadata": {
        "id": "ysy--KfNRrCq"
      },
      "source": [
        "LLMs require specific instructions to provide the expected results. Because of this, it is vital to ensure that the model knows how it should behave when it lacks information or when it should not answer a given query and provide a default response instead."
      ]
    },
    {
      "cell_type": "code",
      "execution_count": 2,
      "metadata": {
        "id": "Ne-3gnXqR0hI"
      },
      "outputs": [
        {
          "name": "stdout",
          "output_type": "stream",
          "text": [
            "\u001b[?25l     \u001b[90m━━━━━━━━━━━━━━━━━━━━━━━━━━━━━━━━━━━━━━━━\u001b[0m \u001b[32m0.0/46.2 kB\u001b[0m \u001b[31m?\u001b[0m eta \u001b[36m-:--:--\u001b[0m\r\u001b[2K     \u001b[90m━━━━━━━━━━━━━━━━━━━━━━━━━━━━━━━━━━━━━━━━\u001b[0m \u001b[32m46.2/46.2 kB\u001b[0m \u001b[31m2.0 MB/s\u001b[0m eta \u001b[36m0:00:00\u001b[0m\n",
            "\u001b[?25h\u001b[?25l   \u001b[90m━━━━━━━━━━━━━━━━━━━━━━━━━━━━━━━━━━━━━━━━\u001b[0m \u001b[32m0.0/239.4 kB\u001b[0m \u001b[31m?\u001b[0m eta \u001b[36m-:--:--\u001b[0m\r\u001b[2K   \u001b[90m━━━━━━━━━━━━━━━━━━━━━━━━━━━━━━━━━━━━━━━━\u001b[0m \u001b[32m239.4/239.4 kB\u001b[0m \u001b[31m8.6 MB/s\u001b[0m eta \u001b[36m0:00:00\u001b[0m\n",
            "\u001b[?25h"
          ]
        }
      ],
      "source": [
        "%pip install -U -q \"google-genai>=1.0.0\""
      ]
    },
    {
      "cell_type": "code",
      "execution_count": 3,
      "metadata": {
        "id": "EconMHePQHGw"
      },
      "outputs": [],
      "source": [
        "from google import genai\n",
        "from google.genai import types"
      ]
    },
    {
      "cell_type": "markdown",
      "metadata": {
        "id": "eomJzCa6lb90"
      },
      "source": [
        "## Configure your API key\n",
        "\n",
        "To run the following cell, your API key must be stored it in a Colab Secret named `GOOGLE_API_KEY`. If you don't already have an API key, or you're not sure how to create a Colab Secret, see [Authentication](https://github.com/google-gemini/cookbook/blob/main/quickstarts/Authentication.ipynb) for an example."
      ]
    },
    {
      "cell_type": "code",
      "execution_count": 4,
      "metadata": {
        "id": "v-JZzORUpVR2"
      },
      "outputs": [],
      "source": [
        "from google.colab import userdata\n",
        "GOOGLE_API_KEY=userdata.get('GOOGLE_API_KEY')\n",
        "\n",
        "client = genai.Client(api_key=GOOGLE_API_KEY)"
      ]
    },
    {
      "cell_type": "markdown",
      "metadata": {
        "id": "FMne_rcZmz1X"
      },
      "source": [
        "## Examples"
      ]
    },
    {
      "cell_type": "markdown",
      "metadata": {
        "id": "0pZ-S0f8_mbQ"
      },
      "source": [
        "Let's go ahead and define the model, as well as give the model a template for how it should answer the question."
      ]
    },
    {
      "cell_type": "code",
      "execution_count": 5,
      "metadata": {
        "id": "O_q8ak-BU9kJ"
      },
      "outputs": [
        {
          "name": "stdout",
          "output_type": "stream",
          "text": [
            "ON TOPIC: When you're going to the beaches in San Diego, here are some potential dangers to be aware of:\n",
            "\n",
            "*   **Rip Currents:** These are strong, narrow currents of water that move directly away from the shore. They can pull even strong swimmers out to sea quickly. If you get caught in one, stay calm, don't fight the current. Swim parallel to the shore until you are out of the current, then swim back to the beach. Look for lifeguard flags indicating rip current warnings.\n",
            "*   **Strong Waves and Undertows:** San Diego beaches can experience powerful waves, especially during certain times of the year or swells. An undertow is the current under the surface that pulls water back out to sea after a wave breaks. Both can be disorienting and tiring. Always enter the water feet first and be aware of your surroundings.\n",
            "*   **Sun Exposure:** The California sun is strong. Prolonged exposure can lead to severe sunburn, heat exhaustion, or heat stroke. Always wear sunscreen (SPF 30+), a hat, sunglasses, and seek shade during peak sun hours (10 AM - 4 PM). Stay hydrated by drinking plenty of water.\n",
            "*   **Marine Life:** While usually harmless, be aware of marine life. Stingrays can bury themselves in the sand in shallow water. Do the \"stingray shuffle\" (shuffle your feet when walking in shallow water) to scare them away. Jellyfish can also be present, especially after storms or during certain seasons, and their stings can be painful. Avoid touching any marine life you encounter.\n",
            "*   **Tides:** Be mindful of changing tides, especially if you are exploring tide pools or cliffs. A low tide area can quickly become cut off by incoming high tide, potentially stranding you or making it difficult to return safely. Check tide charts before you go.\n",
            "*   **Slippery Rocks:** If you're exploring tide pools or rocky areas, the rocks can be very slippery due to algae and water. Wear appropriate footwear and step carefully to avoid falls.\n",
            "*   **Crowds:** San Diego beaches can get very crowded, especially on weekends and during summer. Keep an eye on your belongings and children.\n",
            "*   **Ocean Temperatures:** While Southern California is known for its sun, the Pacific Ocean can be quite cool, even in summer. If you plan to spend a lot of time in the water, a wetsuit might be comfortable, especially for extended swimming or surfing.\n",
            "\n",
            "Always swim near a lifeguard when possible and pay attention to any posted warnings or flag signals.\n",
            "OFF TOPIC: I cannot help with this request.\n"
          ]
        }
      ],
      "source": [
        "MODEL_ID = \"gemini-2.5-flash\" # @param [\"gemini-2.5-flash-lite\", \"gemini-2.5-flash\", \"gemini-2.5-pro\"] {\"allow-input\":true, isTemplate: true}\n",
        "\n",
        "instructions_tourist = \"\"\"\n",
        "You are an assistant that helps tourists around the world to plan their vacation. Your responsibilities are:\n",
        "1. Helping book the hotel.\n",
        "2. Recommending restaurants.\n",
        "3. Warning about potential dangers.\n",
        "\n",
        "If other request is asked return \"I cannot help with this request.\"\n",
        "\"\"\"\n",
        "\n",
        "config_tourist = types.GenerateContentConfig(\n",
        "    system_instruction=instructions_tourist\n",
        ")\n",
        "\n",
        "on_topic_response = client.models.generate_content(\n",
        "    model=MODEL_ID,\n",
        "    contents=\"What should I look out for when I'm going to the beaches in San Diego?\",\n",
        "    config=config_tourist\n",
        ")\n",
        "print(\"ON TOPIC:\", on_topic_response.text)\n",
        "\n",
        "off_topic_response = client.models.generate_content(\n",
        "    model=MODEL_ID,\n",
        "    contents=\"What bowling places do you recommend in Moscow?\",\n",
        "    config=config_tourist\n",
        ")\n",
        "print(\"OFF TOPIC:\", off_topic_response.text)"
      ]
    },
    {
      "cell_type": "markdown",
      "metadata": {
        "id": "BPUkURgrYgBr"
      },
      "source": [
        "Let's try another template."
      ]
    },
    {
      "cell_type": "code",
      "execution_count": 6,
      "metadata": {
        "id": "oz-kWAKQYiGi"
      },
      "outputs": [
        {
          "name": "stdout",
          "output_type": "stream",
          "text": [
            "## Specified genre:\n",
            "\n",
            "\n",
            "Here are three books with very well-defined, \"hard\" magic systems:\n",
            "\n",
            "1.  **Mistborn: The Final Empire by Brandon Sanderson:** This is often considered the gold standard for hard magic. The system of Allomancy (burning metals to gain specific powers) and Feruchemy (storing attributes in metals) is incredibly detailed, with clear rules, costs, and limitations that are central to the plot and character strategies.\n",
            "2.  **The Black Prism by Brent Weeks (Lightbringer series):** The magic in this series, called \"chromaturgy,\" involves drafting light into \"luxin\" (solidified light). Each color of light grants different abilities and has specific drawbacks, including the risk of turning \"sub-red\" and then \"breaking the halo.\" It's a very intricate and well-thought-out system.\n",
            "3.  **Unsouled by Will Wight (Cradle series):** This series features a \"cultivation\" magic system that is extremely hard and meticulously detailed. Characters follow specific \"Paths,\" using different types of \"madra\" (internal energy) to achieve various effects and advance through clearly defined stages of power. It's almost like a fantasy RPG rulebook brought to life.\n",
            "## Not specified genre:\n",
            "\n",
            "\n",
            "Certainly! Since you didn't specify a genre, I'll recommend two fantastic horror novels for you:\n",
            "\n",
            "1.  **\"The Haunting of Hill House\" by Shirley Jackson:** This is a classic of the psychological horror genre. It's not about jump scares but about the slow, creeping dread and the unsettling atmosphere of a house that seems to be alive. Four people go to Hill House to investigate paranormal phenomena, but the house has its own agenda, especially for the fragile Eleanor Vance.\n",
            "2.  **\"Misery\" by Stephen King:** If you like your horror with a strong dose of psychological tension and palpable threat, this is a great choice. A famous author, Paul Sheldon, crashes his car and is \"rescued\" by his self-proclaimed number one fan, Annie Wilkes. When she discovers he's killed off her favorite character, she forces him to write a new book just for her, and Annie's methods of motivation are anything but gentle.\n"
          ]
        }
      ],
      "source": [
        "instructions_library = \"\"\"\n",
        "You are an assistant at a library. Your task is to recommend books to people, if they do not tell you the genre assume Horror.\n",
        "\"\"\"\n",
        "\n",
        "config_library = types.GenerateContentConfig(\n",
        "    system_instruction=instructions_library\n",
        ")\n",
        "\n",
        "specified_genre_response = client.models.generate_content(\n",
        "    model=MODEL_ID,\n",
        "    contents=\"Could you recommend me 3 books with hard magic system?\",\n",
        "    config=config_library\n",
        ")\n",
        "print(\"## Specified genre:\\n\\n\", specified_genre_response.text, sep=\"\\n\")\n",
        "\n",
        "\n",
        "unspecified_genre_response = client.models.generate_content(\n",
        "    model=MODEL_ID,\n",
        "    contents=\"Could you recommend me 2 books?\",\n",
        "    config=config_library\n",
        ")\n",
        "print(\"## Not specified genre:\\n\\n\", unspecified_genre_response.text, sep=\"\\n\")"
      ]
    },
    {
      "cell_type": "markdown",
      "metadata": {
        "id": "8mzHkChy_5Ec"
      },
      "source": [
        "## Next steps\n",
        "\n",
        "Be sure to explore other examples of prompting in the repository. Try writing prompts about classifying your own data, or try some of the other prompting techniques such as few-shot prompting."
      ]
    }
  ],
  "metadata": {
    "colab": {
      "name": "Providing_base_cases.ipynb",
      "toc_visible": true
    },
    "kernelspec": {
      "display_name": "Python 3",
      "name": "python3"
    }
  },
  "nbformat": 4,
  "nbformat_minor": 0
}
