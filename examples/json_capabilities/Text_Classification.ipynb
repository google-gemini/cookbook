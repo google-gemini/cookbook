{
  "cells": [
    {
      "cell_type": "markdown",
      "metadata": {
        "id": "Tce3stUlHN0L"
      },
      "source": [
        "##### Copyright 2024 Google LLC."
      ]
    },
    {
      "cell_type": "code",
      "execution_count": null,
      "metadata": {
        "cellView": "form",
        "id": "tuOe1ymfHZPu"
      },
      "outputs": [],
      "source": [
        "#@title Licensed under the Apache License, Version 2.0 (the \"License\");\n",
        "# you may not use this file except in compliance with the License.\n",
        "# You may obtain a copy of the License at\n",
        "#\n",
        "# https://www.apache.org/licenses/LICENSE-2.0\n",
        "#\n",
        "# Unless required by applicable law or agreed to in writing, software\n",
        "# distributed under the License is distributed on an \"AS IS\" BASIS,\n",
        "# WITHOUT WARRANTIES OR CONDITIONS OF ANY KIND, either express or implied.\n",
        "# See the License for the specific language governing permissions and\n",
        "# limitations under the License."
      ]
    },
    {
      "cell_type": "markdown",
      "metadata": {
        "id": "qFdPvlXBOdUN"
      },
      "source": [
        "# Gemini API: Text Classification\n",
        "\n",
        "---\n"
      ]
    },
    {
      "cell_type": "markdown",
      "metadata": {
        "id": "MfBg1C5NB3X0"
      },
      "source": [
        "<table align=\"left\">\n",
        "  <td>\n",
        "    <a target=\"_blank\" href=\"https://colab.research.google.com/github/google-gemini/cookbook/blob/main/examples/json_capabilities/Text_Classification.ipynb\"><img src = \"../../images/colab_logo_32px.png\"/>Run in Google Colab</a>\n",
        "  </td>\n",
        "</table>\n"
      ]
    },
    {
      "cell_type": "markdown",
      "metadata": {
        "id": "xHxb-dlhMIzW"
      },
      "source": [
        "You will use the Gemini API to classify what topics are relevant in the text."
      ]
    },
    {
      "cell_type": "markdown",
      "metadata": {
        "id": "SmNOGuCRK0xk"
      },
      "source": [
        "## Install dependencies"
      ]
    },
    {
      "cell_type": "code",
      "execution_count": 1,
      "metadata": {
        "id": "AQJjzmYgH3sX"
      },
      "outputs": [],
      "source": [
        "!pip install -U -q \"google-generativeai>=0.7.2\"  # Install the Python SDK"
      ]
    },
    {
      "cell_type": "code",
      "execution_count": 2,
      "metadata": {
        "id": "iQSKjF5WH5N9"
      },
      "outputs": [],
      "source": [
        "import google.generativeai as genai\n",
        "import json\n",
        "from IPython.display import Markdown\n",
        "from typing_extensions import TypedDict # in python 3.12 replace typing_extensions with typing"
      ]
    },
    {
      "cell_type": "markdown",
      "metadata": {
        "id": "MUXex9ctTuDB"
      },
      "source": [
        "## Set up your API key\n",
        "\n",
        "To run the following cell, your API key must be stored it in a Colab Secret named `GOOGLE_API_KEY`. If you don't already have an API key, or you're not sure how to create a Colab Secret, see the [Authentication](https://github.com/google-gemini/cookbook/blob/main/quickstarts/Authentication.ipynb) quickstart for an example."
      ]
    },
    {
      "cell_type": "code",
      "execution_count": 3,
      "metadata": {
        "id": "wltbMJLIIXGk"
      },
      "outputs": [],
      "source": [
        "from google.colab import userdata\n",
        "\n",
        "GOOGLE_API_KEY = userdata.get(\"GOOGLE_API_KEY\")\n",
        "genai.configure(api_key=GOOGLE_API_KEY)"
      ]
    },
    {
      "cell_type": "markdown",
      "metadata": {
        "id": "Gv7pRql-LGGr"
      },
      "source": [
        "## Example"
      ]
    },
    {
      "cell_type": "code",
      "execution_count": 6,
      "metadata": {
        "id": "Ba3pV3hwLKET"
      },
      "outputs": [
        {
          "data": {
            "text/markdown": "## The Unifying Power of Sport: A Bridge Across the Digital Divide\n\nSports have always been a powerful force in bringing people together. From the shared thrill of a game-winning shot to the camaraderie of cheering on a team, the universal language of competition transcends cultural boundaries and unites individuals in a common experience. This unifying power of sports is particularly crucial in today's increasingly digital world, where social isolation and digital divides can become isolating forces.\n\nIn a society increasingly reliant on virtual interaction, sports provide a much-needed outlet for real-life connections. Whether it's participating in a local league, attending a community game, or simply discussing the latest sporting news with friends and family, sports offer a tangible way to connect with others and build relationships. This shared experience, often centered around passion and excitement, helps to bridge the digital gap and foster a sense of belonging.\n\nBeyond the social aspect, sports can also serve as a vital tool for combating the negative effects of excessive screen time. Physical activity, a key element of many sports, promotes both mental and physical well-being. Engaging in sports encourages kids to disconnect from their devices and experience the joys of active play, fostering healthy habits and combating sedentary lifestyles. This is especially important in today's digital landscape where children are increasingly bombarded with screens.\n\nFurthermore, sports can help to bridge the educational divide by providing opportunities for mentorship and learning. By participating in sports, children and young adults can learn valuable life lessons such as teamwork, discipline, and perseverance.  Sports also offer a platform for role models and mentors, allowing young people to connect with individuals who have achieved success through hard work and dedication. This mentorship can empower and inspire the next generation, regardless of their socioeconomic background or access to technology.\n\nUltimately, the unifying power of sports remains a vital force in navigating the complexities of the digital age. By fostering real-life connections, encouraging physical activity, and providing opportunities for learning and mentorship, sports offer a valuable antidote to the isolating effects of technology and can contribute to a more connected and well-rounded society. \n",
            "text/plain": [
              "<IPython.core.display.Markdown object>"
            ]
          },
          "execution_count": 6,
          "metadata": {},
          "output_type": "execute_result"
        }
      ],
      "source": [
        "model = genai.GenerativeModel(model_name='gemini-2.0-flash')\n",
        "response = model.generate_content(\"Generate a 5 paragraph article about Sports, include one other topic\")\n",
        "article = response.text\n",
        "Markdown(article)"
      ]
    },
    {
      "cell_type": "code",
      "execution_count": 7,
      "metadata": {
        "id": "s6OUVYx5LfJz"
      },
      "outputs": [],
      "source": [
        "prompt = f\"\"\"\n",
        "Generate topics from text, the topics should be general e.g. Health:\n",
        "Return a Topics.\n",
        "\n",
        "Follow this schema to generate JSON:\n",
        "\n",
        "class Topic(TypedDict):\n",
        "  topic: str # should be general\n",
        "  relevance: float\n",
        "\n",
        "class Topics(TypedDict):\n",
        "  topics: list[Topic]\n",
        "\n",
        "{article}\"\"\"\n",
        "response = model.generate_content(prompt, generation_config={\"response_mime_type\": \"application/json\"})"
      ]
    },
    {
      "cell_type": "code",
      "execution_count": 8,
      "metadata": {
        "id": "owfUpKKHL0tF"
      },
      "outputs": [
        {
          "name": "stdout",
          "output_type": "stream",
          "text": [
            "{\n",
            "    \"topics\": [\n",
            "        {\n",
            "            \"topic\": \"Sports\",\n",
            "            \"relevance\": 0.8\n",
            "        },\n",
            "        {\n",
            "            \"topic\": \"Social Connection\",\n",
            "            \"relevance\": 0.7\n",
            "        },\n",
            "        {\n",
            "            \"topic\": \"Digital Divide\",\n",
            "            \"relevance\": 0.6\n",
            "        },\n",
            "        {\n",
            "            \"topic\": \"Health\",\n",
            "            \"relevance\": 0.5\n",
            "        },\n",
            "        {\n",
            "            \"topic\": \"Education\",\n",
            "            \"relevance\": 0.4\n",
            "        },\n",
            "        {\n",
            "            \"topic\": \"Technology\",\n",
            "            \"relevance\": 0.3\n",
            "        },\n",
            "        {\n",
            "            \"topic\": \"Mentorship\",\n",
            "            \"relevance\": 0.2\n",
            "        }\n",
            "    ]\n",
            "}\n"
          ]
        }
      ],
      "source": [
        "print(json.dumps(json.loads(response.text), indent=4))"
      ]
    },
    {
      "cell_type": "markdown",
      "metadata": {
        "id": "1ZmEIByML5ZG"
      },
      "source": [
        "## Summary\n",
        "Now, you know how to classify text into different categories. Feel free to experiment with other texts, or provide a specific set of possible topics.\n",
        "\n",
        "Please see the other notebooks in this directory to learn more about how you can use the Gemini API for other JSON related tasks."
      ]
    }
  ],
  "metadata": {
    "colab": {
      "collapsed_sections": [
        "Tce3stUlHN0L"
      ],
      "name": "Text_Classification.ipynb",
      "toc_visible": true
    },
    "kernelspec": {
      "display_name": "Python 3",
      "name": "python3"
    }
  },
  "nbformat": 4,
  "nbformat_minor": 0
}
