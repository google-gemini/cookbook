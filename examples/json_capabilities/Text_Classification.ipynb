{
  "cells": [
    {
      "cell_type": "markdown",
      "metadata": {
        "id": "Tce3stUlHN0L"
      },
      "source": [
        "##### Copyright 2024 Google LLC."
      ]
    },
    {
      "cell_type": "code",
      "execution_count": null,
      "metadata": {
        "cellView": "form",
        "id": "tuOe1ymfHZPu"
      },
      "outputs": [],
      "source": [
        "#@title Licensed under the Apache License, Version 2.0 (the \"License\");\n",
        "# you may not use this file except in compliance with the License.\n",
        "# You may obtain a copy of the License at\n",
        "#\n",
        "# https://www.apache.org/licenses/LICENSE-2.0\n",
        "#\n",
        "# Unless required by applicable law or agreed to in writing, software\n",
        "# distributed under the License is distributed on an \"AS IS\" BASIS,\n",
        "# WITHOUT WARRANTIES OR CONDITIONS OF ANY KIND, either express or implied.\n",
        "# See the License for the specific language governing permissions and\n",
        "# limitations under the License."
      ]
    },
    {
      "cell_type": "markdown",
      "metadata": {
        "id": "qFdPvlXBOdUN"
      },
      "source": [
        "# Gemini API: Text Classification\n",
        "\n",
        "---\n"
      ]
    },
    {
      "cell_type": "markdown",
      "metadata": {
        "id": "MfBg1C5NB3X0"
      },
      "source": [
        "<table align=\"left\">\n",
        "  <td>\n",
        "    <a target=\"_blank\" href=\"https://colab.research.google.com/github/google-gemini/cookbook/blob/main/examples/json_capabilities/Text_Classification.ipynb\"><img src = \"../../images/colab_logo_32px.png\"/>Run in Google Colab</a>\n",
        "  </td>\n",
        "</table>\n"
      ]
    },
    {
      "cell_type": "markdown",
      "metadata": {
        "id": "xHxb-dlhMIzW"
      },
      "source": [
        "You will use the Gemini API to classify what topics are relevant in the text."
      ]
    },
    {
      "cell_type": "markdown",
      "metadata": {
        "id": "SmNOGuCRK0xk"
      },
      "source": [
        "## Install dependencies"
      ]
    },
    {
      "cell_type": "code",
      "execution_count": 13,
      "metadata": {
        "id": "AQJjzmYgH3sX"
      },
      "outputs": [],
      "source": [
        "%pip install -U -q \"google-genai>=1.0.0\""
      ]
    },
    {
      "cell_type": "markdown",
      "metadata": {
        "id": "MUXex9ctTuDB"
      },
      "source": [
        "## Set up your API key\n",
        "\n",
        "To run the following cell, your API key must be stored it in a Colab Secret named `GOOGLE_API_KEY`. If you don't already have an API key, or you're not sure how to create a Colab Secret, see the [Authentication](https://github.com/google-gemini/cookbook/blob/main/quickstarts/Authentication.ipynb) quickstart for an example."
      ]
    },
    {
      "cell_type": "code",
      "execution_count": 14,
      "metadata": {
        "id": "wltbMJLIIXGk"
      },
      "outputs": [],
      "source": [
        "from google.colab import userdata\n",
        "from google import genai\n",
        "\n",
        "GOOGLE_API_KEY = userdata.get(\"GOOGLE_API_KEY\")\n",
        "client = genai.Client(api_key=GOOGLE_API_KEY)"
      ]
    },
    {
      "cell_type": "markdown",
      "metadata": {
        "id": "Gv7pRql-LGGr"
      },
      "source": [
        "## Example"
      ]
    },
    {
      "cell_type": "code",
      "execution_count": 15,
      "metadata": {
        "id": "Ba3pV3hwLKET"
      },
      "outputs": [
        {
          "data": {
            "text/markdown": "## The Enduring Power of Sports and its Surprising Connection to History\n\nSports, in their myriad forms, are a cornerstone of human culture, offering a unique blend of physical exertion, strategic thinking, and emotional connection. From the grassroots level of local park leagues to the global spectacles of the Olympics and World Cup, sports provide entertainment, inspire dedication, and foster a sense of community. They teach valuable life lessons, instilling discipline, teamwork, and resilience in participants. The thrill of victory, the agony of defeat, and the camaraderie forged in shared struggle resonate deeply with audiences, transcending language and cultural barriers to unite people in a collective experience.\n\nBeyond the individual benefits, sports play a crucial role in shaping societal values. They promote fair play, respect for rules, and acceptance of diverse perspectives. The heroes and role models that emerge from the sporting world often inspire positive change, advocating for social justice and equality. Furthermore, the economic impact of sports is undeniable, generating revenue through ticket sales, merchandise, sponsorships, and broadcasting rights, contributing significantly to local and national economies. The dedication and athleticism showcased in sports often push the boundaries of human potential, inspiring advancements in training methodologies, nutrition, and technology.\n\nInterestingly, the history of sports provides a fascinating window into the evolution of human civilization. Many modern sports have roots stretching back centuries, reflecting societal values and technological advancements of their respective eras. For example, the ancient Olympic Games in Greece were inextricably linked to religious festivals and philosophical ideals, showcasing not only athletic prowess but also the pursuit of excellence and moral virtue. The development of team sports like cricket and baseball in the Victorian era reflected the growing emphasis on industrial organization and strategic planning.\n\nExamining the historical context of sports reveals how they have been shaped by political ideologies, social movements, and technological innovations. The Cold War saw intense competition between nations in sporting events, using athletic achievements as a proxy for ideological superiority. The civil rights movement in the United States found crucial support from athletes who used their platforms to advocate for equality and justice. The advent of television and the internet revolutionized the way sports are consumed, transforming athletes into global icons and fostering unprecedented levels of engagement.\n\nUltimately, the enduring power of sports lies in its ability to connect us to our shared humanity. It provides a space for competition, camaraderie, and collective celebration, reflecting our values and shaping our aspirations. By understanding the historical context of sports, we gain a deeper appreciation for their significance in shaping societies and cultures across time. From the ancient arenas to the modern stadiums, sports continue to captivate and inspire, reminding us of the enduring power of the human spirit.\n",
            "text/plain": [
              "<IPython.core.display.Markdown object>"
            ]
          },
          "execution_count": 15,
          "metadata": {},
          "output_type": "execute_result"
        }
      ],
      "source": [
        "from IPython.display import Markdown\n",
        "\n",
        "MODEL_ID = \"gemini-2.0-flash\" # @param [\"gemini-2.0-flash-lite\",\"gemini-2.0-flash\",\"gemini-2.0-pro-exp-02-05\"] {\"allow-input\":true, isTemplate: true}\n",
        "response = client.models.generate_content(\n",
        "    model=MODEL_ID,\n",
        "    contents=\"Generate a 5 paragraph article about Sports, include one other topic\",\n",
        "    )\n",
        "article = response.text\n",
        "Markdown(article)"
      ]
    },
    {
      "cell_type": "code",
      "execution_count": 16,
      "metadata": {
        "id": "s6OUVYx5LfJz"
      },
      "outputs": [],
      "source": [
        "from typing_extensions import TypedDict # in python 3.12 replace typing_extensions with typing\n",
        "\n",
        "prompt = f\"\"\"\n",
        "Generate topics from text, the topics should be general e.g. Health:\n",
        "Return a Topics.\n",
        "\n",
        "Follow this schema to generate JSON:\n",
        "\n",
        "class Topic(TypedDict):\n",
        "  topic: str # should be general\n",
        "  relevance: float\n",
        "\n",
        "class Topics(TypedDict):\n",
        "  topics: list[Topic]\n",
        "\n",
        "{article}\"\"\"\n",
        "response = client.models.generate_content(\n",
        "    model=MODEL_ID,\n",
        "    contents=prompt,\n",
        "    config={\n",
        "        \"response_mime_type\": \"application/json\"\n",
        "        }\n",
        "    )"
      ]
    },
    {
      "cell_type": "code",
      "execution_count": 17,
      "metadata": {
        "id": "owfUpKKHL0tF"
      },
      "outputs": [
        {
          "name": "stdout",
          "output_type": "stream",
          "text": [
            "{\n",
            "    \"topics\": [\n",
            "        {\n",
            "            \"topic\": \"Sports\",\n",
            "            \"relevance\": 0.9\n",
            "        },\n",
            "        {\n",
            "            \"topic\": \"History\",\n",
            "            \"relevance\": 0.6\n",
            "        },\n",
            "        {\n",
            "            \"topic\": \"Society\",\n",
            "            \"relevance\": 0.5\n",
            "        },\n",
            "        {\n",
            "            \"topic\": \"Economics\",\n",
            "            \"relevance\": 0.3\n",
            "        },\n",
            "        {\n",
            "            \"topic\": \"Culture\",\n",
            "            \"relevance\": 0.7\n",
            "        }\n",
            "    ]\n",
            "}\n"
          ]
        }
      ],
      "source": [
        "import json\n",
        "\n",
        "print(json.dumps(json.loads(response.text), indent=4))"
      ]
    },
    {
      "cell_type": "markdown",
      "metadata": {
        "id": "1ZmEIByML5ZG"
      },
      "source": [
        "## Summary\n",
        "Now, you know how to classify text into different categories. Feel free to experiment with other texts, or provide a specific set of possible topics.\n",
        "\n",
        "Please see the other notebooks in this directory to learn more about how you can use the Gemini API for other JSON related tasks."
      ]
    }
  ],
  "metadata": {
    "colab": {
      "collapsed_sections": [
        "Tce3stUlHN0L"
      ],
      "name": "Text_Classification.ipynb",
      "toc_visible": true
    },
    "kernelspec": {
      "display_name": "Python 3",
      "name": "python3"
    }
  },
  "nbformat": 4,
  "nbformat_minor": 0
}
