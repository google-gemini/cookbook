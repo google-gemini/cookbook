{
  "cells": [
    {
      "cell_type": "markdown",
      "metadata": {
        "id": "Tce3stUlHN0L"
      },
      "source": [
        "##### Copyright 2025 Google LLC."
      ]
    },
    {
      "cell_type": "code",
      "execution_count": null,
      "metadata": {
        "cellView": "form",
        "id": "tuOe1ymfHZPu"
      },
      "outputs": [],
      "source": [
        "# @title Licensed under the Apache License, Version 2.0 (the \"License\");\n",
        "# you may not use this file except in compliance with the License.\n",
        "# You may obtain a copy of the License at\n",
        "#\n",
        "# https://www.apache.org/licenses/LICENSE-2.0\n",
        "#\n",
        "# Unless required by applicable law or agreed to in writing, software\n",
        "# distributed under the License is distributed on an \"AS IS\" BASIS,\n",
        "# WITHOUT WARRANTIES OR CONDITIONS OF ANY KIND, either express or implied.\n",
        "# See the License for the specific language governing permissions and\n",
        "# limitations under the License."
      ]
    },
    {
      "cell_type": "markdown",
      "metadata": {
        "id": "xmzgQqBasA0v"
      },
      "source": [
        "# Gemini API: Prompting Quickstart with REST\n",
        "\n",
        "<a target=\"_blank\" href=\"https://colab.research.google.com/github/google-gemini/cookbook/blob/main/quickstarts/rest/Prompting_REST.ipynb\"><img src=\"https://colab.research.google.com/assets/colab-badge.svg\" height=30/></a>"
      ]
    },
    {
      "cell_type": "markdown",
      "metadata": {
        "id": "265f8066d5d5"
      },
      "source": [
        "If you want to quickly try out the Gemini API, you can use `curl` commands to call the methods in the REST API.\n",
        "\n",
        "This notebook contains `curl` commands you can run in Google Colab, or copy to your terminal.\n",
        "\n",
        "To run this notebook, your API key must be stored it in a Colab Secret named GOOGLE_API_KEY. If you are running in a different environment, you can store your key in an environment variable. See [Authentication](https://github.com/google-gemini/cookbook/blob/main/quickstarts/Authentication.ipynb) to learn more."
      ]
    },
    {
      "cell_type": "code",
      "execution_count": null,
      "metadata": {
        "id": "GgaOvPo_r2SB"
      },
      "outputs": [],
      "source": [
        "import os\n",
        "from google.colab import userdata"
      ]
    },
    {
      "cell_type": "code",
      "execution_count": null,
      "metadata": {
        "id": "-PqX1RI_sjoV"
      },
      "outputs": [],
      "source": [
        "os.environ['GOOGLE_API_KEY'] = userdata.get('GOOGLE_API_KEY')"
      ]
    },
    {
      "cell_type": "markdown",
      "metadata": {
        "id": "9WjnnMbysntU"
      },
      "source": [
        "## Run your first prompt\n",
        "\n",
        "Use the `generateContent` method to generate responses to your prompts. You can pass text directly to `generateContent`.\n"
      ]
    },
    {
      "cell_type": "code",
      "execution_count": null,
      "metadata": {
        "id": "4eB7rHRpsw0L"
      },
      "outputs": [
        {
          "name": "stdout",
          "output_type": "stream",
          "text": [
            "{\n",
            "  \"candidates\": [\n",
            "    {\n",
            "      \"content\": {\n",
            "        \"parts\": [\n",
            "          {\n",
            "            \"text\": \"```python\\n# Example list to be sorted\\nmy_list = [5, 3, 1, 2, 4]\\n\\n# Sort the list in ascending order using the sort() method\\nmy_list.sort()\\n\\n# Print the sorted list\\nprint(my_list)\\n```\\n\\nOutput:\\n\\n```\\n[1, 2, 3, 4, 5]\\n```\"\n",
            "          }\n",
            "        ],\n",
            "        \"role\": \"model\"\n",
            "      },\n",
            "      \"finishReason\": \"STOP\",\n",
            "      \"index\": 0,\n",
            "      \"safetyRatings\": [\n",
            "        {\n",
            "          \"category\": \"HARM_CATEGORY_SEXUALLY_EXPLICIT\",\n",
            "          \"probability\": \"NEGLIGIBLE\"\n",
            "        },\n",
            "        {\n",
            "          \"category\": \"HARM_CATEGORY_HATE_SPEECH\",\n",
            "          \"probability\": \"NEGLIGIBLE\"\n",
            "        },\n",
            "        {\n",
            "          \"category\": \"HARM_CATEGORY_HARASSMENT\",\n",
            "          \"probability\": \"NEGLIGIBLE\"\n",
            "        },\n",
            "        {\n",
            "          \"category\": \"HARM_CATEGORY_DANGEROUS_CONTENT\",\n",
            "          \"probability\": \"NEGLIGIBLE\"\n",
            "        }\n",
            "      ]\n",
            "    }\n",
            "  ],\n",
            "  \"usageMetadata\": {\n",
            "    \"promptTokenCount\": 9,\n",
            "    \"candidatesTokenCount\": 87,\n",
            "    \"totalTokenCount\": 96\n",
            "  }\n",
            "}\n"
          ]
        }
      ],
      "source": [
        "%%bash\n",
        "\n",
        "curl \"https://generativelanguage.googleapis.com/v1beta/models/gemini-2.5-flash:generateContent?key=$GOOGLE_API_KEY\" \\\n",
        "    -H 'Content-Type: application/json' \\\n",
        "    -X POST \\\n",
        "    -d '{\n",
        "      \"contents\": [{\n",
        "        \"parts\":[{\"text\": \"Give me python code to sort a list.\"}]\n",
        "        }]\n",
        "       }' 2> /dev/null"
      ]
    },
    {
      "cell_type": "markdown",
      "metadata": {
        "id": "JcvzZhMUs9q2"
      },
      "source": [
        "### Use images in your prompt\n",
        "\n",
        "Here you will download an image from a URL and pass that image in the prompt."
      ]
    },
    {
      "cell_type": "code",
      "execution_count": null,
      "metadata": {
        "id": "NpwYp7citE4l"
      },
      "outputs": [
        {
          "name": "stderr",
          "output_type": "stream",
          "text": [
            "  % Total    % Received % Xferd  Average Speed   Time    Time     Time  Current\n",
            "                                 Dload  Upload   Total   Spent    Left  Speed\n",
            "\r",
            "  0     0    0     0    0     0      0      0 --:--:-- --:--:-- --:--:--     0\r",
            "100  349k  100  349k    0     0  1548k      0 --:--:-- --:--:-- --:--:-- 1551k\n"
          ]
        }
      ],
      "source": [
        "%%bash\n",
        "\n",
        "curl -o image.jpg \"https://storage.googleapis.com/generativeai-downloads/images/jetpack.jpg\""
      ]
    },
    {
      "cell_type": "code",
      "execution_count": null,
      "metadata": {
        "id": "ucoEV-IStHsu"
      },
      "outputs": [
        {
          "data": {
            "image/jpeg": "[encoded data removed]",
            "text/plain": [
              "<PIL.Image.Image image mode=RGB size=512x434>"
            ]
          },
          "execution_count": 5,
          "metadata": {},
          "output_type": "execute_result"
        }
      ],
      "source": [
        "import PIL.Image\n",
        "\n",
        "img = PIL.Image.open(\"image.jpg\")\n",
        "img.resize((512, int(img.height*512/img.width)))"
      ]
    },
    {
      "cell_type": "markdown",
      "metadata": {
        "id": "ZZenFznXQvJF"
      },
      "source": [
        "Now you will base64 encode the image, and include it in the prompt.\n",
        "\n",
        "There are slight output differences of different base64 encoding tools, so you will need to pick the right one.\n",
        "\n",
        "The following will work in Google Colab."
      ]
    },
    {
      "cell_type": "code",
      "execution_count": null,
      "metadata": {
        "id": "r5pKFznERak4"
      },
      "outputs": [],
      "source": [
        "%%bash\n",
        "\n",
        "echo '{\n",
        "  \"contents\":[\n",
        "    {\n",
        "      \"parts\":[\n",
        "        {\"text\": \"This image contains a sketch of a potential product along with some notes. \\\n",
        "        Given the product sketch, describe the product as thoroughly as possible based on what you \\\n",
        "        see in the image, making sure to note all of the product features. Return output in json format: \\\n",
        "        {description: description, features: [feature1, feature2, feature3, etc]}\"},\n",
        "        {\n",
        "          \"inline_data\": {\n",
        "            \"mime_type\":\"image/jpeg\",\n",
        "            \"data\": \"'$(base64 -w0 image.jpg)'\"\n",
        "          }\n",
        "        }\n",
        "      ]\n",
        "    }\n",
        "  ]\n",
        "}' > request.json"
      ]
    },
    {
      "cell_type": "markdown",
      "metadata": {
        "id": "qFG3q7tJY2NW"
      },
      "source": [
        "Then you can include the image in the prompt by just passing in the `request.json` created to `generateContent`."
      ]
    },
    {
      "cell_type": "code",
      "execution_count": null,
      "metadata": {
        "id": "PEXoPG37Rceo"
      },
      "outputs": [
        {
          "name": "stdout",
          "output_type": "stream",
          "text": [
            "{\n",
            "  \"candidates\": [\n",
            "    {\n",
            "      \"content\": {\n",
            "        \"parts\": [\n",
            "          {\n",
            "            \"text\": \"```json\\n{\\n \\\"description\\\": \\\"The Jetpack Backpack is a backpack that allows the user to fly. It looks and functions like a normal backpack, but has retractable boosters that are powered by steam. The backpack has a 15-minute battery life and is charged via USB-C.  The backpack is also lightweight and has padded strap support.\\\",\\n \\\"features\\\": [\\n  \\\"retractable boosters\\\",\\n  \\\"steam-powered\\\",\\n  \\\"green/clean\\\",\\n  \\\"15-min battery life\\\",\\n  \\\"USB-C charging\\\",\\n  \\\"padded strap support\\\",\\n  \\\"lightweight\\\",\\n  \\\"looks like a normal backpack\\\",\\n  \\\"fits 18\\\\\\\" laptop\\\"\\n ]\\n}\\n```\"\n",
            "          }\n",
            "        ],\n",
            "        \"role\": \"model\"\n",
            "      },\n",
            "      \"finishReason\": \"STOP\",\n",
            "      \"index\": 0,\n",
            "      \"safetyRatings\": [\n",
            "        {\n",
            "          \"category\": \"HARM_CATEGORY_SEXUALLY_EXPLICIT\",\n",
            "          \"probability\": \"NEGLIGIBLE\"\n",
            "        },\n",
            "        {\n",
            "          \"category\": \"HARM_CATEGORY_HATE_SPEECH\",\n",
            "          \"probability\": \"NEGLIGIBLE\"\n",
            "        },\n",
            "        {\n",
            "          \"category\": \"HARM_CATEGORY_HARASSMENT\",\n",
            "          \"probability\": \"NEGLIGIBLE\"\n",
            "        },\n",
            "        {\n",
            "          \"category\": \"HARM_CATEGORY_DANGEROUS_CONTENT\",\n",
            "          \"probability\": \"NEGLIGIBLE\"\n",
            "        }\n",
            "      ]\n",
            "    }\n",
            "  ],\n",
            "  \"usageMetadata\": {\n",
            "    \"promptTokenCount\": 331,\n",
            "    \"candidatesTokenCount\": 154,\n",
            "    \"totalTokenCount\": 485\n",
            "  }\n",
            "}\n"
          ]
        },
        {
          "name": "stderr",
          "output_type": "stream",
          "text": [
            "  % Total    % Received % Xferd  Average Speed   Time    Time     Time  Current\n",
            "                                 Dload  Upload   Total   Spent    Left  Speed\n",
            "\r",
            "  0     0    0     0    0     0      0      0 --:--:-- --:--:-- --:--:--     0\r",
            "  0     0    0     0    0     0      0      0 --:--:-- --:--:-- --:--:--     0\r",
            "100  466k    0     0  100  466k      0   298k  0:00:01  0:00:01 --:--:--  298k\r",
            "100  467k    0  1410  100  466k    727   240k  0:00:01  0:00:01 --:--:--  240k\n"
          ]
        }
      ],
      "source": [
        "%%bash\n",
        "\n",
        "curl \"https://generativelanguage.googleapis.com/v1beta/models/gemini-2.5-flash:generateContent?key=${GOOGLE_API_KEY}\" \\\n",
        "        -H 'Content-Type: application/json' \\\n",
        "        -d @request.json"
      ]
    },
    {
      "cell_type": "markdown",
      "metadata": {
        "id": "UjtoueAPQmMe"
      },
      "source": [
        "If you are running on a Mac, copy and paste this command into your terminal instead."
      ]
    },
    {
      "cell_type": "markdown",
      "metadata": {
        "id": "miPi9m0eQgN8"
      },
      "source": [
        "```\n",
        "curl \"https://generativelanguage.googleapis.com/v1beta/models/gemini-2.5-flash:generateContent?key=${GOOGLE_API_KEY}\" \\\n",
        "        -H 'Content-Type: application/json' \\\n",
        "        -d '{\n",
        "  \"contents\":[\n",
        "    {\n",
        "      \"parts\":[\n",
        "        {\"text\": \"foo\"},\n",
        "        {\n",
        "          \"inline_data\": {\n",
        "            \"mime_type\":\"image/jpeg\",\n",
        "            \"data\": \"'$(base64 -i image.jpg)'\"\n",
        "          }\n",
        "        }\n",
        "      ]\n",
        "    }\n",
        "  ]\n",
        "}'   2> /dev/null  | grep -C 5 \"text\"\n",
        "```"
      ]
    },
    {
      "cell_type": "markdown",
      "metadata": {
        "id": "gpMssqFdNRDS"
      },
      "source": [
        "Here image is being `base64` encoded, then savie the curl request with the image data in a JSON file. Run this cell to see which version of `base64` you have. Based on the output, you may need to run this request on either a Mac or on Colab."
      ]
    },
    {
      "cell_type": "code",
      "execution_count": null,
      "metadata": {
        "id": "nnCtnzdDO6kW"
      },
      "outputs": [
        {
          "name": "stdout",
          "output_type": "stream",
          "text": [
            "base64 (GNU coreutils) 8.32\n"
          ]
        }
      ],
      "source": [
        "%%bash\n",
        "\n",
        "base64 --version | head -n 1"
      ]
    },
    {
      "cell_type": "markdown",
      "metadata": {
        "id": "rNVbculVPIyK"
      },
      "source": [
        "If you get `FreeBSD base64 ...`, (Mac) use `base64 -i`.\n",
        "\n",
        "If you get `base64 (GNU coreutils)...` (Colab) use `base64 -w0`."
      ]
    },
    {
      "cell_type": "markdown",
      "metadata": {
        "id": "KphGNbSG4AlQ"
      },
      "source": [
        "### Have a chat\n",
        "\n",
        "The Gemini API enables you to have freeform conversations across multiple turns."
      ]
    },
    {
      "cell_type": "code",
      "execution_count": null,
      "metadata": {
        "id": "u-ZiCr3l4sif"
      },
      "outputs": [
        {
          "name": "stdout",
          "output_type": "stream",
          "text": [
            "  \"candidates\": [\n",
            "    {\n",
            "      \"content\": {\n",
            "        \"parts\": [\n",
            "          {\n",
            "            \"text\": \"A computer is an electronic device that can be programmed to carry out a set of instructions. It consists of hardware, which are the physical components of the computer, and software, which are the programs that run on the computer. The hardware includes the central processing unit (CPU), which is the \\\"brain\\\" of the computer and controls all of its operations, as well as memory, storage devices, input devices (such as keyboards and mice), and output devices (such as monitors and printers). The software includes the operating system, which manages the computer's resources and provides a platform for running applications, as well as application software, which performs specific tasks for the user, such as word processing, spreadsheets, and games. When a user gives a command to the computer, the CPU fetches the appropriate instructions from memory and executes them. The results of the instructions are then stored in memory or sent to an output device. Computers are used for a wide variety of tasks, including communication, entertainment, education, and scientific research.\"\n",
            "          }\n",
            "        ],\n",
            "        \"role\": \"model\"\n",
            "      },\n",
            "      \"finishReason\": \"STOP\",\n"
          ]
        }
      ],
      "source": [
        "%%bash\n",
        "curl \"https://generativelanguage.googleapis.com/v1beta/models/gemini-2.5-flash:generateContent?key=$GOOGLE_API_KEY\" \\\n",
        "    -H 'Content-Type: application/json' \\\n",
        "    -X POST \\\n",
        "    -d '{\n",
        "      \"contents\": [\n",
        "        {\"role\":\"user\",\n",
        "         \"parts\":[{\n",
        "           \"text\": \"In one sentence, explain how a computer works to a young child.\"}]},\n",
        "        {\"role\": \"model\",\n",
        "         \"parts\":[{\n",
        "           \"text\": \"A computer is like a smart helper that can store information, do math problems, and follow our instructions to make things happen.\"}]},\n",
        "        {\"role\": \"user\",\n",
        "         \"parts\":[{\n",
        "           \"text\": \"Okay, how about a more detailed explanation to a high schooler?\"}]},\n",
        "      ]\n",
        "    }' 2> /dev/null | grep -C 5 \"text\""
      ]
    },
    {
      "cell_type": "markdown",
      "metadata": {
        "id": "OCpQfq4H5pYH"
      },
      "source": [
        "### Configuration\n",
        "\n",
        "Every prompt you send to the model includes parameter values that control how the model generates a response. The model can generate different results for different parameter values. Learn more about [model parameters](https://ai.google.dev/docs/concepts#model_parameters).\n",
        "\n",
        "For instance, `temperature` controls the degree of randomness in token selection. Use higher values for more creative responses, and lower values for more deterministic responses.\n",
        "\n",
        "The following example specifies values for all the parameters of the `generateContent` method."
      ]
    },
    {
      "cell_type": "code",
      "execution_count": null,
      "metadata": {
        "id": "2dur4CGN6iXj"
      },
      "outputs": [
        {
          "name": "stdout",
          "output_type": "stream",
          "text": [
            "            \"text\": \"1. Cats have 32 muscles in their ears, allowing them to rotate them 180 degrees.\\n2. The average lifespan of a domestic cat is 12-15 years.\\n3. Cats have five toes on their front paws and four on their back paws.\\n4. A group of cats is called a clowder or a glaring.\\n5. Cats have a keen sense of smell, with approximately 200 million scent receptors in their noses.\\n6. Cats are obligate carnivores, meaning they must eat meat to survive.\\n7. The domestication of cats began around 9,000 years ago in the Middle East.\\n8. Cats have a unique organ called the Jacobson's organ, which helps them detect scents and pheromones.\\n9. Cats can purr at a frequency of 25-150 hertz, which is believed to have therapeutic effects.\\n10. The world's smallest cat breed is the Singapura, which weighs around 4-8 pounds.\"\n"
          ]
        }
      ],
      "source": [
        "%%bash\n",
        "\n",
        "curl \"https://generativelanguage.googleapis.com/v1beta/models/gemini-2.5-flash:generateContent?key=$GOOGLE_API_KEY\" \\\n",
        "    -H 'Content-Type: application/json' \\\n",
        "    -X POST \\\n",
        "    -d '{\n",
        "        \"contents\": [{\n",
        "            \"parts\":[\n",
        "                {\"text\": \"Give me a numbered list of cat facts.\"}\n",
        "            ]\n",
        "        }],\n",
        "        \"safetySettings\": [\n",
        "            {\n",
        "                \"category\": \"HARM_CATEGORY_DANGEROUS_CONTENT\",\n",
        "                \"threshold\": \"BLOCK_ONLY_HIGH\"\n",
        "            }\n",
        "        ],\n",
        "        \"generationConfig\": {\n",
        "            \"stopSequences\": [\n",
        "                \"Title\"\n",
        "            ],\n",
        "            \"temperature\": 0.9,\n",
        "            \"maxOutputTokens\": 2000,\n",
        "        }\n",
        "    }'  2> /dev/null | grep \"text\""
      ]
    },
    {
      "cell_type": "markdown",
      "metadata": {
        "id": "pCS37WdchZiZ"
      },
      "source": [
        "## Next steps\n",
        "\n",
        "The Gemini API has configurable safety settings. Learn more [here](https://github.com/google-gemini/cookbook/blob/main/quickstarts/rest/Safety_REST.ipynb)."
      ]
    }
  ],
  "metadata": {
    "colab": {
      "name": "Prompting_REST.ipynb",
      "toc_visible": true
    },
    "kernelspec": {
      "display_name": "Python 3",
      "name": "python3"
    }
  },
  "nbformat": 4,
  "nbformat_minor": 0
}
