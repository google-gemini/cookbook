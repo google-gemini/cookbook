{
  "cells": [
    {
      "cell_type": "markdown",
      "metadata": {
        "id": "0fgOxpmGrOvn"
      },
      "source": [
        "##### Copyright 2024 Google LLC."
      ]
    },
    {
      "cell_type": "code",
      "execution_count": null,
      "metadata": {
        "cellView": "form",
        "id": "zxdx4xJxrTfP"
      },
      "outputs": [],
      "source": [
        "# @title Licensed under the Apache License, Version 2.0 (the \"License\");\n",
        "# you may not use this file except in compliance with the License.\n",
        "# You may obtain a copy of the License at\n",
        "#\n",
        "# https://www.apache.org/licenses/LICENSE-2.0\n",
        "#\n",
        "# Unless required by applicable law or agreed to in writing, software\n",
        "# distributed under the License is distributed on an \"AS IS\" BASIS,\n",
        "# WITHOUT WARRANTIES OR CONDITIONS OF ANY KIND, either express or implied.\n",
        "# See the License for the specific language governing permissions and\n",
        "# limitations under the License."
      ]
    },
    {
      "cell_type": "markdown",
      "metadata": {
        "id": "Qw6ttkOtrQ_D"
      },
      "source": [
        "# Gemini API: Search Grounding\n",
        "\n",
        "<table align=\"left\">\n",
        "  <td>\n",
        "    <a target=\"_blank\" href=\"https://colab.research.google.com/github/google-gemini/cookbook/blob/main/quickstarts/rest/Search_Grounding.ipynb\"><img src=\"../images/colab_logo_32px.png?raw=1\" />Run in Google Colab</a>\n",
        "  </td>\n",
        "</table>"
      ]
    },
    {
      "cell_type": "markdown",
      "metadata": {
        "id": "xmzgQqBasA0v"
      },
      "source": [
        "### Authentication\n",
        "\n",
        "To run this notebook, your API key must be stored it in a Colab Secret named GOOGLE_API_KEY. If you are running in a different environment, you can store your key in an environment variable. See [Authentication](../../quickstarts/Authentication.ipynb) to learn more."
      ]
    },
    {
      "cell_type": "markdown",
      "metadata": {
        "id": "MNH54XHTsWoH"
      },
      "source": [
        "This first cell is in python, just to copy your API key to an environment variable, so you can access it from the shell:"
      ]
    },
    {
      "cell_type": "code",
      "execution_count": null,
      "metadata": {
        "id": "GgaOvPo_r2SB"
      },
      "outputs": [],
      "source": [
        "import os\n",
        "from google.colab import userdata\n",
        "os.environ['GOOGLE_API_KEY'] = userdata.get('GOOGLE_API_KEY')"
      ]
    },
    {
      "cell_type": "markdown",
      "metadata": {
        "id": "3xovmcsts5vW"
      },
      "source": [
        "## Call the api"
      ]
    },
    {
      "cell_type": "markdown",
      "metadata": {
        "id": "aIn2wj3tsh4Q"
      },
      "source": [
        "Call search grounding. The `dynamic_threshold` is optional, it sets how likely the model is to do a google-search."
      ]
    },
    {
      "cell_type": "code",
      "execution_count": null,
      "metadata": {
        "id": "jG3msvzFw-YN"
      },
      "outputs": [],
      "source": [
        "%%bash\n",
        "curl \"https://generativelanguage.googleapis.com/v1beta/models/gemini-1.5-flash:generateContent?key=$GOOGLE_API_KEY\" \\\n",
        "  -H \"Content-Type: application/json\" \\\n",
        "  -d '{\n",
        "      \"contents\": [\n",
        "          {\n",
        "              \"parts\": [\n",
        "                  {\"text\": \"What is the current Google stock price?\"}\n",
        "              ]\n",
        "          }\n",
        "      ],\n",
        "      \"tools\": [\n",
        "          {\n",
        "              \"google_search_retrieval\": {\n",
        "                  \"dynamic_retrieval_config\": {\n",
        "                      \"mode\": \"MODE_DYNAMIC\",\n",
        "                      \"dynamic_threshold\": 1,\n",
        "                  }\n",
        "              }\n",
        "          }\n",
        "      ]\n",
        "  }' > result.json"
      ]
    },
    {
      "cell_type": "markdown",
      "metadata": {
        "id": "bGQ0-POKs8j6"
      },
      "source": [
        "## Explore the output"
      ]
    },
    {
      "cell_type": "markdown",
      "metadata": {
        "id": "UDmuP83prn1o"
      },
      "source": [
        "Use `jq` to colorize the output, and make it easier to explore."
      ]
    },
    {
      "cell_type": "code",
      "execution_count": null,
      "metadata": {
        "id": "v7wEfiFNrnNF"
      },
      "outputs": [],
      "source": [
        "!sudo apt install -q jq"
      ]
    },
    {
      "cell_type": "markdown",
      "metadata": {
        "id": "jTYRhyY6rujJ"
      },
      "source": [
        "Here's all the output:"
      ]
    },
    {
      "cell_type": "code",
      "execution_count": null,
      "metadata": {
        "id": "uCWcvi_nqSkx"
      },
      "outputs": [],
      "source": [
        "!jq \"\" -r result.json"
      ]
    },
    {
      "cell_type": "markdown",
      "metadata": {
        "id": "0kRHIQFgrxSV"
      },
      "source": [
        "Here is the text response:"
      ]
    },
    {
      "cell_type": "code",
      "execution_count": null,
      "metadata": {
        "id": "IdjXdj5IpNNY"
      },
      "outputs": [],
      "source": [
        "!jq -r \".candidates[0].content.parts[0].text\" result.json"
      ]
    },
    {
      "cell_type": "markdown",
      "metadata": {
        "id": "5zao1BLbr0iD"
      },
      "source": [
        "Here is the `groundingMetadata`, including links to any supports used:"
      ]
    },
    {
      "cell_type": "code",
      "execution_count": null,
      "metadata": {
        "id": "NIqD3Qp9qqnC"
      },
      "outputs": [],
      "source": [
        "!jq -r \".candidates[0].groundingMetadata\" result.json"
      ]
    },
    {
      "cell_type": "markdown",
      "metadata": {
        "id": "I9E3UjrPsCpZ"
      },
      "source": [
        "The `rendered_content` is how you link users to the google-search results that helped produce the response:"
      ]
    },
    {
      "cell_type": "markdown",
      "metadata": {
        "id": "GxhLyWoDW1DO"
      },
      "source": [
        "> Important: If you use search grounding you **must** follow the [requirements outlined here](https://googledevai.devsite.corp.google.com/gemini-api/docs/grounding/search-suggestions?hl=en#requirements), which includes \"Display the Search Suggestion exactly as provided\" and \"Take users directly to the Google Search results page (SRP) when they interact with the Search Suggestion\"."
      ]
    },
    {
      "cell_type": "code",
      "execution_count": null,
      "metadata": {
        "id": "Mn249uJ1rEdt"
      },
      "outputs": [],
      "source": [
        "!jq -r \".candidates[0].groundingMetadata.searchEntryPoint.renderedContent\" result.json > rendered_content.html"
      ]
    },
    {
      "cell_type": "code",
      "execution_count": null,
      "metadata": {
        "id": "tLohvh3DqfSW"
      },
      "outputs": [],
      "source": [
        "# Python so you can display it in this notebook\n",
        "from IPython.display import HTML\n",
        "HTML('rendered_content.html')"
      ]
    }
  ],
  "metadata": {
    "colab": {
      "name": "Search_Grounding.ipynb",
      "toc_visible": true
    },
    "kernelspec": {
      "display_name": "Python 3",
      "name": "python3"
    }
  },
  "nbformat": 4,
  "nbformat_minor": 0
}
