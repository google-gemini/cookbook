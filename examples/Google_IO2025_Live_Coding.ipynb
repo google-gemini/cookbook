{
  "cells": [
    {
      "cell_type": "code",
      "execution_count": null,
      "metadata": {
        "cellView": "form",
        "id": "VmA72WDHqxpQ"
      },
      "outputs": [],
      "source": [
        "# @title Licensed under the Apache License, Version 2.0 (the \"License\");\n",
        "#\n",
        "# Licensed under the Apache License, Version 2.0 (the \"License\");\n",
        "# you may not use this file except in compliance with the License.\n",
        "# You may obtain a copy of the License at\n",
        "#\n",
        "#     https://www.apache.org/licenses/LICENSE-2.0\n",
        "#\n",
        "# Unless required by applicable law or agreed to in writing, software\n",
        "# distributed under the License is distributed on an \"AS IS\" BASIS,\n",
        "# WITHOUT WARRANTIES OR CONDITIONS OF ANY KIND, either express or implied.\n",
        "# See the License for the specific language governing permissions and\n",
        "# limitations under the License."
      ]
    },
    {
      "cell_type": "markdown",
      "metadata": {
        "id": "7lgixL36qzHX"
      },
      "source": [
        "# Google I/O 2025 - Live coding experiences with the Gemini API\n",
        "\n",
        "<a target=\"_blank\" href=\"https://colab.research.google.com/github/google-gemini/cookbook/blob/main/examples/IO2025_Gemini_API_live_coding.ipynb\"><img src=\"https://colab.research.google.com/assets/colab-badge.svg\" height=30/></a>\n",
        "\n",
        "Welcome to the official Colab notebook from the **Google I/O 2025 live coding session** on the Gemini API!\n",
        "\n",
        "This notebook serves as a comprehensive, hands-on guide to exploring the cutting-edge capabilities of the Gemini models, as demonstrated live during the presentation. You will dive deep into how developers can leverage the Gemini API to build powerful, innovative, and highly intelligent AI-powered applications.\n",
        "\n",
        "Throughout this interactive session, you'll find practical demonstrations covering the **latest advancements** in Gemini, including:\n",
        "\n",
        "*   **Generative Media (GenMedia models):** Learn to create stunning images with **Imagen3** and the experimental **Gemini 2.0 Flash image generation**, and generate dynamic videos with the powerful **Veo2** model.\n",
        "*   **Advanced Multimodality:** Understand and generate content across various modalities, seamlessly combining text, images, and videos in your prompts and responses.\n",
        "*   **Text-to-Speech (TTS):** Transform written text into natural-sounding audio, exploring customizable voices, language options, and even multi-speaker dialogues.\n",
        "*   **Intelligent Tool Use:** Empower Gemini with built-in tools like **Code Execution** (for solving complex problems in a sandbox), real-time **grounding via Google Search**, and **URL context** to interact with external systems and fetch factual information directly from the web.\n",
        "*   **Adaptive Thinking & Agentic Solutions:** Discover how Gemini models can perform internal reasoning and problem-solving with their **thinking capability**, and how to build complex, multi-step AI agents using the **Google Agent Development Kit (ADK)** for advanced use cases.\n",
        "\n",
        "This notebook is designed to be fully runnable, allowing you to execute the code, experiment with different prompts, and directly experience the versatility and power of the Gemini API. Get ready to unlock new possibilities and code the future!"
      ]
    },
    {
      "cell_type": "markdown",
      "metadata": {
        "id": "-9U_TTsGrFRQ"
      },
      "source": [
        "## Setup\n",
        "\n",
        "Before diving into the exciting world of Gemini API, we need to set up our environment. This involves installing the necessary SDK and configuring your API key."
      ]
    },
    {
      "cell_type": "markdown",
      "metadata": {
        "id": "o01T9qxbrF8M"
      },
      "source": [
        "### Install SDK\n",
        "\n",
        "The `google-genai` Python SDK is essential for interacting with the Gemini API. This SDK provides a streamlined way to access different Gemini models and their functionalities.\n",
        "\n",
        "Install the SDK from [PyPI](https://github.com/googleapis/python-genai)."
      ]
    },
    {
      "cell_type": "code",
      "execution_count": null,
      "metadata": {
        "id": "nFlTvSWDq52G"
      },
      "outputs": [
        {
          "name": "stdout",
          "output_type": "stream",
          "text": [
            "\u001b[?25l   \u001b[90m━━━━━━━━━━━━━━━━━━━━━━━━━━━━━━━━━━━━━━━━\u001b[0m \u001b[32m0.0/196.3 kB\u001b[0m \u001b[31m?\u001b[0m eta \u001b[36m-:--:--\u001b[0m\r",
            "\u001b[2K   \u001b[91m━━━━━━━━━━━━━━━━━━━━━━━━━━━━━━━━━━━━━━━\u001b[0m\u001b[91m╸\u001b[0m \u001b[32m194.6/196.3 kB\u001b[0m \u001b[31m9.7 MB/s\u001b[0m eta \u001b[36m0:00:01\u001b[0m\r",
            "\u001b[2K   \u001b[90m━━━━━━━━━━━━━━━━━━━━━━━━━━━━━━━━━━━━━━━━\u001b[0m \u001b[32m196.3/196.3 kB\u001b[0m \u001b[31m4.9 MB/s\u001b[0m eta \u001b[36m0:00:00\u001b[0m\n",
            "\u001b[?25h"
          ]
        }
      ],
      "source": [
        "%pip install -U -q 'google-genai>=1.16'"
      ]
    },
    {
      "cell_type": "markdown",
      "metadata": {
        "id": "IOUtdgvSrVqq"
      },
      "source": [
        "### Setup your API key\n",
        "\n",
        "To authenticate your requests with the Gemini API, you need an API key. This key allows you to access Google's powerful generative AI models. It's recommended to store your API key securely, for instance, as a Colab Secret named `GEMINI_API_KEY`.\n",
        "\n",
        "If you don't already have an API key or you aren't sure how to create a Colab Secret, see [Authentication](../quickstarts/Authentication.ipynb) for an example."
      ]
    },
    {
      "cell_type": "code",
      "execution_count": null,
      "metadata": {
        "id": "n2rr8RVWrKTV"
      },
      "outputs": [],
      "source": [
        "from google.colab import userdata\n",
        "\n",
        "GEMINI_API_KEY = userdata.get('GEMINI_API_KEY')"
      ]
    },
    {
      "cell_type": "markdown",
      "metadata": {
        "id": "NYr5KYJoraqs"
      },
      "source": [
        "### Initialize SDK client\n",
        "\n",
        "With the `google-genai` SDK, initializing the client is straightforward. You pass your API key to `genai.Client`, and the client handles communication with the Gemini API. Individual model settings are then applied in each API call."
      ]
    },
    {
      "cell_type": "code",
      "execution_count": null,
      "metadata": {
        "id": "ZH8iaojUtpRN"
      },
      "outputs": [],
      "source": [
        "import time\n",
        "from google import genai\n",
        "from google.genai import types\n",
        "from IPython.display import Video, HTML, Markdown, Image\n",
        "\n",
        "client = genai.Client(api_key=GEMINI_API_KEY)"
      ]
    },
    {
      "cell_type": "markdown",
      "metadata": {
        "id": "vgLcm4GMrfCw"
      },
      "source": [
        "# Working with GenMedia models\n",
        "\n",
        "The Gemini API offers access to various GenMedia models, enabling advanced capabilities like generating images and videos from text prompts. These models push the boundaries of what's possible in creative content generation."
      ]
    },
    {
      "cell_type": "markdown",
      "metadata": {
        "id": "LODbUtGSuq8p"
      },
      "source": [
        "## Generating images with Imagen3\n",
        "\n",
        "[Imagen 3](https://ai.google.dev/gemini-api/docs/imagen) is Google's most advanced text-to-image model, capable of producing highly detailed images with rich lighting and fewer artifacts than previous versions. It excels in scenarios where image quality and specific artistic styles are paramount.\n",
        "\n",
        "<!-- Warning Badge -->\n",
        "<table>\n",
        "  <tr>\n",
        "    <!-- Emoji -->\n",
        "    <td bgcolor=\"#f5949e\">\n",
        "      <font size=30>⚠️</font>\n",
        "    </td>\n",
        "    <!-- Text Content Cell -->\n",
        "    <td bgcolor=\"#f5949e\">\n",
        "      <h3><font color=black>Imagen is a paid-only feature and won't work if you are on the free tier.</font></h3>\n",
        "    </td>\n",
        "  </tr>\n",
        "</table>"
      ]
    },
    {
      "cell_type": "markdown",
      "metadata": {
        "id": "V50XP8zdvF8D"
      },
      "source": [
        "### Select the Imagen3 model to be used\n",
        "\n",
        "The `imagen-3.0-generate-002` model is specifically designed for high-quality image generation from textual prompts."
      ]
    },
    {
      "cell_type": "code",
      "execution_count": null,
      "metadata": {
        "id": "e8l0Heizvs-Q"
      },
      "outputs": [],
      "source": [
        "MODEL_ID = \"imagen-3.0-generate-002\" # @param {isTemplate: true}"
      ]
    },
    {
      "cell_type": "markdown",
      "metadata": {
        "id": "Zmz3-BhwwCfz"
      },
      "source": [
        "### Imagen3 image generation prompt\n",
        "\n",
        "When generating images with Imagen 3, you provide a descriptive prompt to guide the output. You can also specify parameters like the number of images, person_generation (to allow or disallow generating images of people), and aspect_ratio for different output dimensions."
      ]
    },
    {
      "cell_type": "code",
      "execution_count": null,
      "metadata": {
        "id": "tijw1mzZvtfK"
      },
      "outputs": [
        {
          "name": "stdout",
          "output_type": "stream",
          "text": [
            "CPU times: user 82.6 ms, sys: 13 ms, total: 95.6 ms\n",
            "Wall time: 4.59 s\n"
          ]
        }
      ],
      "source": [
        "%%time\n",
        "\n",
        "prompt = \"\"\"\n",
        "  Dynamic anime illustration: A happy Brazilian man with short grey hair and a\n",
        "  grey beard, mid-presentation at a tech conference. He's wearing a fun blue\n",
        "  short-sleeve shirt covered in mini avocado prints. Capture a funny, energetic\n",
        "  moment where he's clearly enjoying himself, perhaps with an exaggerated joyful\n",
        "  expression or a humorous gesture, stage background visible.\n",
        "\"\"\"\n",
        "\n",
        "number_of_images = 1 # @param {type:\"slider\", min:1, max:4, step:1}\n",
        "person_generation = \"ALLOW_ADULT\" # @param ['DONT_ALLOW', 'ALLOW_ADULT']\n",
        "aspect_ratio = \"1:1\" # @param [\"1:1\", \"3:4\", \"4:3\", \"16:9\", \"9:16\"]\n",
        "\n",
        "result = client.models.generate_images(\n",
        "    model=MODEL_ID,\n",
        "    prompt=prompt,\n",
        "    config=dict(\n",
        "        number_of_images=number_of_images,\n",
        "        output_mime_type=\"image/jpeg\",\n",
        "        person_generation=person_generation,\n",
        "        aspect_ratio=aspect_ratio\n",
        "    )\n",
        ")"
      ]
    },
    {
      "cell_type": "markdown",
      "metadata": {
        "id": "CnyfpmWPDLcb"
      },
      "source": [
        "After generation, the `result.generated_images` object contains the generated images, which can then be displayed."
      ]
    },
    {
      "cell_type": "code",
      "execution_count": null,
      "metadata": {
        "id": "L3ow933Lvtch"
      },
      "outputs": [
        {
          "data": {
            "image/jpeg": "[encoded data removed]",
            "text/plain": [
              "<PIL.JpegImagePlugin.JpegImageFile image mode=RGB size=1024x1024>"
            ]
          },
          "metadata": {},
          "output_type": "display_data"
        }
      ],
      "source": [
        "for generated_image in result.generated_images:\n",
        "  imagen_image = generated_image.image.show()"
      ]
    },
    {
      "cell_type": "markdown",
      "metadata": {
        "id": "4AAz3s8_ywwT"
      },
      "source": [
        "## Generating images with Gemini 2.0 Flash image out model (experimental)\n",
        "\n",
        "\n",
        "The `gemini-2.0-flash-preview-image-generation model` extends Gemini's multimodal capabilities to include conversational image generation and editing. This model can generate images along with text responses, making it highly versatile for mixed-media content creation."
      ]
    },
    {
      "cell_type": "markdown",
      "metadata": {
        "id": "2sWFaz71y2Kt"
      },
      "source": [
        "### Select the Gemini 2.0 image out model\n",
        "\n",
        "This model is specifically designed for generating and editing images conversationally."
      ]
    },
    {
      "cell_type": "code",
      "execution_count": null,
      "metadata": {
        "id": "bqlECK8gvtaC"
      },
      "outputs": [],
      "source": [
        "MODEL_ID = \"gemini-2.0-flash-preview-image-generation\""
      ]
    },
    {
      "cell_type": "markdown",
      "metadata": {
        "id": "5qmjLxL1SK2C"
      },
      "source": [
        "### Gemini 2.0 Flash image generation prompt (with interleaved text)\n",
        "\n",
        "This example demonstrates how Gemini 2.0 Flash can generate both text and images in an interleaved fashion, providing a rich, conversational output that combines instructions with visual aids. You must explicitly set response_modalities to `['Text', 'Image']` to enable this feature."
      ]
    },
    {
      "cell_type": "code",
      "execution_count": null,
      "metadata": {
        "id": "-K7EQOHZSLmQ"
      },
      "outputs": [
        {
          "name": "stdout",
          "output_type": "stream",
          "text": [
            "CPU times: user 459 ms, sys: 53.7 ms, total: 513 ms\n",
            "Wall time: 19.6 s\n"
          ]
        }
      ],
      "source": [
        "%%time\n",
        "\n",
        "contents = \"\"\"\n",
        "  Show me how to cook a Brazilian cuscuz with coconut milk and grated coconut.\n",
        "  Include detailed step by step guidance with images.\n",
        "\"\"\"\n",
        "\n",
        "response = client.models.generate_content(\n",
        "    model=MODEL_ID,\n",
        "    contents=contents,\n",
        "    config=types.GenerateContentConfig(\n",
        "        response_modalities=['Text', 'Image']\n",
        "    )\n",
        ")"
      ]
    },
    {
      "cell_type": "markdown",
      "metadata": {
        "id": "Q68ZhhSAilsd"
      },
      "source": [
        "The output `response.candidates.content.parts` can contain both text and inline image data, which are then displayed accordingly."
      ]
    },
    {
      "cell_type": "code",
      "execution_count": null,
      "metadata": {
        "id": "yesEuvCBSZT3"
      },
      "outputs": [],
      "source": [
        "for part in response.candidates[0].content.parts:\n",
        "    if part.text is not None:\n",
        "      display(Markdown(part.text))\n",
        "    elif part.inline_data is not None:\n",
        "      mime = part.inline_data.mime_type\n",
        "      print(mime)\n",
        "      data = part.inline_data.data\n",
        "      display(Image(data=data, width=512, height=512))"
      ]
    },
    {
      "cell_type": "markdown",
      "metadata": {
        "id": "Z6lgW6NxzDvV"
      },
      "source": [
        "### Gemini 2.0 Flash image generation prompt\n",
        "\n",
        "This example focuses on generating an image based on a descriptive text prompt, similar to Imagen 3, but utilizing the Gemini 2.0 Flash model's capabilities for image generation within a text-based generation flow."
      ]
    },
    {
      "cell_type": "code",
      "execution_count": null,
      "metadata": {
        "id": "qaZt1ZImy7Ok"
      },
      "outputs": [
        {
          "name": "stdout",
          "output_type": "stream",
          "text": [
            "CPU times: user 112 ms, sys: 6.52 ms, total: 118 ms\n",
            "Wall time: 3.5 s\n"
          ]
        }
      ],
      "source": [
        "%%time\n",
        "\n",
        "prompt = \"\"\"\n",
        "  Dynamic anime illustration: A happy Brazilian man with short grey hair and a\n",
        "  grey beard, mid-presentation at a tech conference. He's wearing a fun blue\n",
        "  short-sleeve shirt covered in mini avocado prints. Capture a funny, energetic\n",
        "  moment where he's clearly enjoying himself, perhaps with an exaggerated joyful\n",
        "  expression or a humorous gesture, stage background visible.\n",
        "\"\"\"\n",
        "\n",
        "response = client.models.generate_content(\n",
        "    model=MODEL_ID,\n",
        "    contents=prompt,\n",
        "    config=types.GenerateContentConfig(\n",
        "        response_modalities=['Text', 'Image']\n",
        "    )\n",
        ")"
      ]
    },
    {
      "cell_type": "markdown",
      "metadata": {
        "id": "06FBGz9Fi0jx"
      },
      "source": [
        "The generated content is then processed to display the image parts."
      ]
    },
    {
      "cell_type": "code",
      "execution_count": null,
      "metadata": {
        "id": "zGH5LQnUy7Lu"
      },
      "outputs": [
        {
          "name": "stdout",
          "output_type": "stream",
          "text": [
            "image/png\n"
          ]
        },
        {
          "data": {
            "image/jpeg": "[encoded data removed]",
            "text/plain": [
              "<IPython.core.display.Image object>"
            ]
          },
          "metadata": {},
          "output_type": "display_data"
        }
      ],
      "source": [
        "for part in response.candidates[0].content.parts:\n",
        "  if part.inline_data is not None and part.inline_data.mime_type is not None:\n",
        "    mime = part.inline_data.mime_type\n",
        "    print(mime)\n",
        "    data = part.inline_data.data\n",
        "    display(Image(data=data))"
      ]
    },
    {
      "cell_type": "markdown",
      "metadata": {
        "id": "7qYG5fCa11AN"
      },
      "source": [
        "#### Saving the generated image\n",
        "\n",
        "The generated image data can be extracted from the response and saved locally, typically as a PNG file."
      ]
    },
    {
      "cell_type": "code",
      "execution_count": null,
      "metadata": {
        "id": "g_rpT08c12_i"
      },
      "outputs": [],
      "source": [
        "import pathlib\n",
        "\n",
        "for part in response.candidates[0].content.parts:\n",
        "    if part.text is not None:\n",
        "      continue\n",
        "    elif part.inline_data is not None:\n",
        "      mime = part.inline_data.mime_type\n",
        "      data = part.inline_data.data\n",
        "      pathlib.Path(\"gemini_imgout.png\").write_bytes(data)"
      ]
    },
    {
      "cell_type": "markdown",
      "metadata": {
        "id": "4rtoDIhg1rhT"
      },
      "source": [
        "### Editing images with Gemini 2.0 Flash image out\n",
        "\n",
        "Gemini 2.0 Flash also supports image editing. You can provide an image as input along with a text prompt describing the desired modifications. This allows for conversational image manipulation."
      ]
    },
    {
      "cell_type": "code",
      "execution_count": null,
      "metadata": {
        "id": "DUJiVQ_5y7In"
      },
      "outputs": [
        {
          "name": "stdout",
          "output_type": "stream",
          "text": [
            "CPU times: user 678 ms, sys: 15.6 ms, total: 694 ms\n",
            "Wall time: 5.79 s\n"
          ]
        }
      ],
      "source": [
        "%%time\n",
        "\n",
        "import PIL\n",
        "\n",
        "prompt = \"\"\"\n",
        "  make the image background in full white and add a wireless presentation\n",
        "  clicker on the hand of the person\n",
        "\"\"\"\n",
        "\n",
        "response = client.models.generate_content(\n",
        "    model=MODEL_ID,\n",
        "    contents=[\n",
        "        prompt,\n",
        "        PIL.Image.open('gemini_imgout.png')\n",
        "    ],\n",
        "    config=types.GenerateContentConfig(\n",
        "        response_modalities=['Text', 'Image']\n",
        "    )\n",
        ")"
      ]
    },
    {
      "cell_type": "markdown",
      "metadata": {
        "id": "CgGitdLikVGs"
      },
      "source": [
        "The edited image and any accompanying text are then displayed."
      ]
    },
    {
      "cell_type": "code",
      "execution_count": null,
      "metadata": {
        "id": "31yDZp_Wy7GD"
      },
      "outputs": [
        {
          "name": "stdout",
          "output_type": "stream",
          "text": [
            "image/png\n"
          ]
        },
        {
          "data": {
            "image/jpeg": "[encoded data removed]",
            "text/plain": [
              "<IPython.core.display.Image object>"
            ]
          },
          "metadata": {},
          "output_type": "display_data"
        }
      ],
      "source": [
        "for part in response.candidates[0].content.parts:\n",
        "    if part.text is not None:\n",
        "      display(Markdown(part.text))\n",
        "    elif part.inline_data is not None:\n",
        "      mime = part.inline_data.mime_type\n",
        "      print(mime)\n",
        "      data = part.inline_data.data\n",
        "      display(Image(data=data))"
      ]
    },
    {
      "cell_type": "markdown",
      "metadata": {
        "id": "YyIqgd6rkYln"
      },
      "source": [
        "The edited image is saved, overwriting the previous `gemini_imgout.png` file (for future usage in this notebook)."
      ]
    },
    {
      "cell_type": "code",
      "execution_count": null,
      "metadata": {
        "id": "4ZZayEQiLjvn"
      },
      "outputs": [],
      "source": [
        "for part in response.candidates[0].content.parts:\n",
        "    if part.text is not None:\n",
        "      continue\n",
        "    elif part.inline_data is not None:\n",
        "      mime = part.inline_data.mime_type\n",
        "      data = part.inline_data.data\n",
        "      pathlib.Path(\"gemini_imgout.png\").write_bytes(data)"
      ]
    },
    {
      "cell_type": "markdown",
      "metadata": {
        "id": "F0ga9Ujksp7D"
      },
      "source": [
        "## Generating videos with the Veo2 model\n",
        "\n",
        "Veo 2 is Google's advanced text-to-video and image-to-video model, capable of generating high-quality videos with detailed cinematic and visual styles. It can capture prompt nuances and maintain consistency across frames.\n",
        "<br/>\n",
        "<br/>\n",
        "\n",
        "<!-- Princing warning Badge -->\n",
        "<table>\n",
        "  <tr>\n",
        "    <!-- Emoji -->\n",
        "    <td bgcolor=\"#f5949e\">\n",
        "      <font size=30>⚠️</font>\n",
        "    </td>\n",
        "    <!-- Text Content Cell -->\n",
        "    <td bgcolor=\"#f5949e\">\n",
        "      <h3><font color=black>Veo is a paid-only feature and won't work if you are on the free tier.<br></font></h3>\n",
        "    </td>\n",
        "  </tr>\n",
        "</table>"
      ]
    },
    {
      "cell_type": "markdown",
      "metadata": {
        "id": "7giQoVTztdqv"
      },
      "source": [
        "### Select the Veo2 model to be used\n",
        "\n",
        "The `veo-2.0-generate-001` model is used for video generation tasks."
      ]
    },
    {
      "cell_type": "code",
      "execution_count": null,
      "metadata": {
        "id": "Wl0wzDM2tg6G"
      },
      "outputs": [],
      "source": [
        "VEO_MODEL_ID = \"veo-2.0-generate-001\""
      ]
    },
    {
      "cell_type": "markdown",
      "metadata": {
        "id": "avisrx6btgXs"
      },
      "source": [
        "### Run a text-to-video generation prompt\n",
        "\n",
        "This section demonstrates how to generate videos directly from a text prompt. You can specify various configurations like `person_generation`, `aspect_ratio`, `number_of_videos`, `duration`, and a `negative_prompt` to guide the video generation process. Video generation is an asynchronous operation, so the code includes a loop to wait for the operation to complete."
      ]
    },
    {
      "cell_type": "code",
      "execution_count": null,
      "metadata": {
        "id": "FMR8UGjMrYKD"
      },
      "outputs": [
        {
          "name": "stdout",
          "output_type": "stream",
          "text": [
            "name='models/veo-2.0-generate-001/operations/zmrlsiqnzaw2' metadata=None done=None error=None response=None result=None\n",
            "name='models/veo-2.0-generate-001/operations/zmrlsiqnzaw2' metadata=None done=True error=None response=GenerateVideosResponse(generated_videos=[GeneratedVideo(video=Video(uri=https://generativelanguage.googleapis.com/v1beta/files/p0w3cekzjwdc:download?alt=media, video_bytes=None, mime_type=None))], rai_media_filtered_count=None, rai_media_filtered_reasons=None) result=GenerateVideosResponse(generated_videos=[GeneratedVideo(video=Video(uri=https://generativelanguage.googleapis.com/v1beta/files/p0w3cekzjwdc:download?alt=media, video_bytes=None, mime_type=None))], rai_media_filtered_count=None, rai_media_filtered_reasons=None)\n",
            "[GeneratedVideo(video=Video(uri=https://generativelanguage.googleapis.com/v1beta/files/p0w3cekzjwdc:download?alt=media, video_bytes=None, mime_type=None))]\n",
            "CPU times: user 188 ms, sys: 37.1 ms, total: 225 ms\n",
            "Wall time: 40.7 s\n"
          ]
        }
      ],
      "source": [
        "%%time\n",
        "\n",
        "import time\n",
        "from google.genai import types\n",
        "from IPython.display import Video, HTML\n",
        "\n",
        "prompt = \"\"\"\n",
        "  Dynamic anime scene: A happy Brazilian man with short grey hair and a\n",
        "  grey beard, mid-presentation at a tech conference. He's wearing a fun blue\n",
        "  short-sleeve shirt covered in mini avocado prints. Capture a funny, energetic\n",
        "  moment where he's clearly enjoying himself, perhaps with an exaggerated joyful\n",
        "  expression or a humorous gesture, stage background visible.\n",
        "\"\"\"\n",
        "\n",
        "# Optional parameters\n",
        "negative_prompt = \"\" # @param {type: \"string\"}\n",
        "person_generation = \"allow_adult\"  # @param [\"dont_allow\", \"allow_adult\"]\n",
        "aspect_ratio = \"16:9\" # @param [\"16:9\", \"9:16\"]\n",
        "number_of_videos = 1 # @param {type:\"slider\", min:1, max:4, step:1}\n",
        "duration = 8 # @param {type:\"slider\", min:5, max:8, step:1}\n",
        "\n",
        "operation = client.models.generate_videos(\n",
        "    model=VEO_MODEL_ID,\n",
        "    prompt=prompt,\n",
        "    config=types.GenerateVideosConfig(\n",
        "      # At the moment the config must not be empty\n",
        "      person_generation=person_generation,\n",
        "      aspect_ratio=aspect_ratio,  # 16:9 or 9:16\n",
        "      number_of_videos=number_of_videos, # supported value is 1-4\n",
        "      negative_prompt=negative_prompt,\n",
        "      duration_seconds=duration, # supported value is 5-8\n",
        "    ),\n",
        ")\n",
        "\n",
        "# Waiting for the video(s) to be generated\n",
        "while not operation.done:\n",
        "    time.sleep(20)\n",
        "    operation = client.operations.get(operation)\n",
        "    print(operation)\n",
        "\n",
        "print(operation.result.generated_videos)"
      ]
    },
    {
      "cell_type": "markdown",
      "metadata": {
        "id": "SNlNKLJ0t16u"
      },
      "source": [
        "### See the video generation results\n",
        "\n",
        "Once the video generation operation is complete, the generated video(s) can be downloaded and displayed within the notebook. Generated videos are stored for 2 days on the server, so it's important to save a local copy if needed."
      ]
    },
    {
      "cell_type": "code",
      "execution_count": null,
      "metadata": {
        "id": "YvNECMpjt1D2"
      },
      "outputs": [],
      "source": [
        "for n, generated_video in enumerate(operation.result.generated_videos):\n",
        "  client.files.download(file=generated_video.video)\n",
        "  generated_video.video.save(f'video{n}.mp4') # Saves the video(s)\n",
        "  display(generated_video.video.show()) # Displays the video(s) in a notebook"
      ]
    },
    {
      "cell_type": "markdown",
      "metadata": {
        "id": "xreTw0LyQole"
      },
      "source": [
        "### Run a image-to-video generation prompt\n",
        "\n",
        "Veo 2 can also generate videos from an input image, using the image as the starting frame. This allows you to bring static images to life by adding motion and narrative based on a text prompt."
      ]
    },
    {
      "cell_type": "code",
      "execution_count": null,
      "metadata": {
        "id": "7o6bhR7ot3kA"
      },
      "outputs": [
        {
          "name": "stdout",
          "output_type": "stream",
          "text": [
            "name='models/veo-2.0-generate-001/operations/7rz7rsx527t2' metadata=None done=None error=None response=None result=None\n",
            "name='models/veo-2.0-generate-001/operations/7rz7rsx527t2' metadata=None done=True error=None response=GenerateVideosResponse(generated_videos=[GeneratedVideo(video=Video(uri=https://generativelanguage.googleapis.com/v1beta/files/p4yyv2k2oso2:download?alt=media, video_bytes=None, mime_type=None))], rai_media_filtered_count=None, rai_media_filtered_reasons=None) result=GenerateVideosResponse(generated_videos=[GeneratedVideo(video=Video(uri=https://generativelanguage.googleapis.com/v1beta/files/p4yyv2k2oso2:download?alt=media, video_bytes=None, mime_type=None))], rai_media_filtered_count=None, rai_media_filtered_reasons=None)\n",
            "[GeneratedVideo(video=Video(uri=https://generativelanguage.googleapis.com/v1beta/files/p4yyv2k2oso2:download?alt=media, video_bytes=None, mime_type=None))]\n",
            "CPU times: user 670 ms, sys: 27.9 ms, total: 698 ms\n",
            "Wall time: 41.4 s\n"
          ]
        }
      ],
      "source": [
        "%%time\n",
        "\n",
        "import io\n",
        "from PIL import Image\n",
        "\n",
        "prompt = \"\"\"\n",
        "  Dynamic anime scene: A happy Brazilian man with short grey hair and a\n",
        "  grey beard, mid-presentation at a tech conference. He's wearing a fun blue\n",
        "  short-sleeve shirt covered in mini avocado prints. Capture a funny, energetic\n",
        "  moment where he's clearly enjoying himself, perhaps with an exaggerated joyful\n",
        "  expression or a humorous gesture, stage background visible.\n",
        "\"\"\"\n",
        "\n",
        "image_name = \"gemini_imgout.png\"\n",
        "\n",
        "# Optional parameters\n",
        "negative_prompt = \"ugly, low quality\" # @param {type: \"string\"}\n",
        "aspect_ratio = \"16:9\" # @param [\"16:9\", \"9:16\"]\n",
        "number_of_videos = 1 # @param {type:\"slider\", min:1, max:4, step:1}\n",
        "duration = 8 # @param {type:\"slider\", min:5, max:8, step:1}\n",
        "\n",
        "# Loading the image\n",
        "im = Image.open(image_name)\n",
        "\n",
        "# converting the image to bytes\n",
        "image_bytes_io = io.BytesIO()\n",
        "im.save(image_bytes_io, format=im.format)\n",
        "image_bytes = image_bytes_io.getvalue()\n",
        "\n",
        "operation = client.models.generate_videos(\n",
        "    model=VEO_MODEL_ID,\n",
        "    prompt=prompt,\n",
        "    image=types.Image(image_bytes=image_bytes, mime_type=im.format),\n",
        "    config=types.GenerateVideosConfig(\n",
        "      # At the moment the config must not be empty\n",
        "      aspect_ratio = aspect_ratio,  # 16:9 or 9:16\n",
        "      number_of_videos = number_of_videos, # supported value is 1-4\n",
        "      negative_prompt = negative_prompt,\n",
        "      duration_seconds = duration, # supported value is 5-8\n",
        "    ),\n",
        ")\n",
        "\n",
        "# Waiting for the video(s) to be generated\n",
        "while not operation.done:\n",
        "    time.sleep(20)\n",
        "    operation = client.operations.get(operation)\n",
        "    print(operation)\n",
        "\n",
        "print(operation.result.generated_videos)"
      ]
    },
    {
      "cell_type": "markdown",
      "metadata": {
        "id": "ioPlTUMQmDS-"
      },
      "source": [
        "The generated videos are then saved and displayed."
      ]
    },
    {
      "cell_type": "code",
      "execution_count": null,
      "metadata": {
        "id": "8Szy65EMRl2I"
      },
      "outputs": [],
      "source": [
        "for n, generated_video in enumerate(operation.result.generated_videos):\n",
        "  client.files.download(file=generated_video.video)\n",
        "  generated_video.video.save(f'video{n}.mp4') # Saves the video(s)\n",
        "  display(generated_video.video.show()) # Displays the video(s) in a notebook"
      ]
    },
    {
      "cell_type": "markdown",
      "metadata": {
        "id": "_KtcD8kcxWKv"
      },
      "source": [
        "## Generating text-to-speech (TTS) with Gemini models\n",
        "\n",
        "The Gemini API offers native text-to-speech (TTS) capabilities, allowing you to transform text into natural-sounding audio. This feature provides fine-grained control over various aspects of speech, including style, accent, pace, and tone."
      ]
    },
    {
      "cell_type": "markdown",
      "metadata": {
        "id": "Q-6t1jE7xsBz"
      },
      "source": [
        "### Select the TTS model to be used\n",
        "\n",
        "The `gemini-2.5-flash-preview-tts` and `gemini-2.5-pro-preview-tts` models are optimized for low-latency, controllable audio generation, supporting both single-speaker and multi-speaker outputs."
      ]
    },
    {
      "cell_type": "code",
      "execution_count": null,
      "metadata": {
        "id": "8o0q2VFNxuAm"
      },
      "outputs": [],
      "source": [
        "MODEL_ID = \"gemini-2.5-flash-preview-tts\" # @param [\"gemini-2.5-flash-preview-tts\",\"gemini-2.5-pro-preview-tts\"] {\"allow-input\":true, isTemplate: true}"
      ]
    },
    {
      "cell_type": "code",
      "execution_count": null,
      "metadata": {
        "cellView": "form",
        "id": "5BAPQ2-1R3BC"
      },
      "outputs": [],
      "source": [
        "# @title Helper functions (just run that cell)\n",
        "\n",
        "import contextlib\n",
        "import wave\n",
        "from IPython.display import Audio\n",
        "\n",
        "file_index = 0\n",
        "\n",
        "@contextlib.contextmanager\n",
        "def wave_file(filename, channels=1, rate=24000, sample_width=2):\n",
        "    with wave.open(filename, \"wb\") as wf:\n",
        "        wf.setnchannels(channels)\n",
        "        wf.setsampwidth(sample_width)\n",
        "        wf.setframerate(rate)\n",
        "        yield wf\n",
        "\n",
        "def play_audio_blob(blob):\n",
        "  global file_index\n",
        "  file_index += 1\n",
        "\n",
        "  fname = f'audio_{file_index}.wav'\n",
        "  with wave_file(fname) as wav:\n",
        "    wav.writeframes(blob.data)\n",
        "\n",
        "  return Audio(fname, autoplay=True)\n",
        "\n",
        "def play_audio(response):\n",
        "    return play_audio_blob(response.candidates[0].content.parts[0].inline_data)"
      ]
    },
    {
      "cell_type": "markdown",
      "metadata": {
        "id": "xayGXJKfx80D"
      },
      "source": [
        "### Generating a simple audio output\n",
        "\n",
        "his example demonstrates the basic text-to-speech functionality, converting a simple text string into an audio output. The response_modalities configuration is set to `['Audio']`."
      ]
    },
    {
      "cell_type": "code",
      "execution_count": null,
      "metadata": {
        "id": "FNbT18y8x29R"
      },
      "outputs": [],
      "source": [
        "%%time\n",
        "\n",
        "response = client.models.generate_content(\n",
        "  model=MODEL_ID,\n",
        "  contents=\"Say 'hello there! My name is Gemini and I'm really glad to be here at the Google I/O 2025!!'\",\n",
        "  config={\"response_modalities\": ['Audio']},\n",
        ")\n",
        "print(response)\n",
        "\n",
        "blob = response.candidates[0].content.parts[0].inline_data\n",
        "play_audio_blob(blob)"
      ]
    },
    {
      "cell_type": "markdown",
      "metadata": {
        "id": "1Q55LCmGyuq5"
      },
      "source": [
        "### Controlling how the model speaks\n",
        "\n",
        "The Gemini TTS models allow you to control the style, tone, accent, and pace of the generated speech using natural language prompts within the contents and by selecting a specific `voice_name` from a variety of prebuilt voices."
      ]
    },
    {
      "cell_type": "code",
      "execution_count": null,
      "metadata": {
        "id": "sfkzPjt3yOCh"
      },
      "outputs": [],
      "source": [
        "%%time\n",
        "\n",
        "voice_name = \"Sadaltager\" # @param [\"Zephyr\", \"Puck\", \"Charon\", \"Kore\", \"Fenrir\", \"Leda\", \"Orus\", \"Aoede\", \"Callirhoe\", \"Autonoe\", \"Enceladus\", \"Iapetus\", \"Umbriel\", \"Algieba\", \"Despina\", \"Erinome\", \"Algenib\", \"Rasalgethi\", \"Laomedeia\", \"Achernar\", \"Alnilam\", \"Schedar\", \"Gacrux\", \"Pulcherrima\", \"Achird\", \"Zubenelgenubi\", \"Vindemiatrix\", \"Sadachbia\", \"Sadaltager\", \"Sulafar\"]\n",
        "\n",
        "response = client.models.generate_content(\n",
        "  model=MODEL_ID,\n",
        "  contents=\"\"\"Say \"I am a very knowlegeable model, especially when using grounding\", wait 3 seconds, while counting from one to three, then say \"Don't you think?\".\"\"\",\n",
        "  config={\n",
        "      \"response_modalities\": ['Audio'],\n",
        "      \"speech_config\": {\n",
        "          \"voice_config\": {\n",
        "              \"prebuilt_voice_config\": {\n",
        "                  \"voice_name\": voice_name\n",
        "              }\n",
        "          }\n",
        "      }\n",
        "  },\n",
        ")\n",
        "\n",
        "play_audio(response)"
      ]
    },
    {
      "cell_type": "markdown",
      "metadata": {
        "id": "WDssIEn_zJ8M"
      },
      "source": [
        "### Changing the audio language\n",
        "\n",
        "The TTS models can automatically detect the input language and generate speech in that language. They support a wide range of languages."
      ]
    },
    {
      "cell_type": "code",
      "execution_count": null,
      "metadata": {
        "id": "TsqY6XvyzA2e"
      },
      "outputs": [],
      "source": [
        "%%time\n",
        "\n",
        "response = client.models.generate_content(\n",
        "  model=MODEL_ID,\n",
        "  contents=\"\"\"\n",
        "    Read this in Brazilian portuguese:\n",
        "    A comida brasileira é a melhor do mundo!\n",
        "  \"\"\",\n",
        "  config={\"response_modalities\": ['Audio']},\n",
        ")\n",
        "play_audio(response)"
      ]
    },
    {
      "cell_type": "markdown",
      "metadata": {
        "id": "-b9E9DLE0WtC"
      },
      "source": [
        "You can also instruct the model to read text in a particular style or pace, as demonstrated in this disclaimer reading example."
      ]
    },
    {
      "cell_type": "code",
      "execution_count": null,
      "metadata": {
        "id": "fQhzjbSmzjbC"
      },
      "outputs": [],
      "source": [
        "%%time\n",
        "\n",
        "response = client.models.generate_content(\n",
        "  model=MODEL_ID,\n",
        "  contents=\"\"\"\n",
        "    Read this disclaimer in as fast a voice as possible:\n",
        "\n",
        "    [The author] assumes no responsibility or liability for any errors or omissions in the content of this site.\n",
        "    The information contained in this site is provided on an 'as is' basis with no guarantees of completeness, accuracy, usefulness or timeliness\n",
        "  \"\"\",\n",
        "  config={\"response_modalities\": ['Audio']},\n",
        ")\n",
        "\n",
        "play_audio(response)"
      ]
    },
    {
      "cell_type": "markdown",
      "metadata": {
        "id": "qsi5-SUk0w85"
      },
      "source": [
        "### Working with multi-speakers\n",
        "\n",
        "For conversations or scenarios requiring multiple distinct voices, the Gemini TTS models support multi-speaker audio generation. You define different speakers within the MultiSpeakerVoiceConfig and assign specific voices to them. The model can then process a transcript and assign parts to each speaker. First, a sample transcript is generated by a Gemini text model.\n"
      ]
    },
    {
      "cell_type": "code",
      "execution_count": null,
      "metadata": {
        "id": "taO5AUz80c39"
      },
      "outputs": [
        {
          "name": "stdout",
          "output_type": "stream",
          "text": [
            "**Speaker A:** Okay, so, Google I/O 2025? Absolute mind-blow. Seriously, my brain’s still buzzing from all the AI announcements!\n",
            "\n",
            "**Speaker B:** Right?! Gemini 2.5 alone… the *on-device* multimodality was unreal. And the performance gains across the whole stack? Unbelievable! The new agentic capabilities are going to change everything.\n",
            "\n",
            "**Speaker A:** Totally! But seriously, forget the keynotes for a sec. The *highlight* for me? Hands down, Luciano Martins’ live coding session.\n",
            "\n",
            "**Speaker B:** YES! That was next level! He just *built* a fully agentic workflow with the new Gemini 2.5 APIs in like, 10 minutes, *live*, with zero hiccups. That's the real magic. Forget the shiny demos; that's the part that truly blew my mind! Best session of the whole conference.\n",
            "CPU times: user 38 ms, sys: 2.05 ms, total: 40 ms\n",
            "Wall time: 6.46 s\n"
          ]
        }
      ],
      "source": [
        "%%time\n",
        "\n",
        "transcript = client.models.generate_content(\n",
        "    model='gemini-2.5-flash',\n",
        "    contents=\"\"\"\n",
        "      Generate a short (like 100 words) transcript that reads like\n",
        "      it was clipped from a podcast by excited computer scientists talking\n",
        "      about all the AI (including Gemini 2.5 models) news announced at Google I/O 2025.\n",
        "      Highlight the fact that the live coding session with Luciano Martins was the best.\n",
        "    \"\"\"\n",
        "  ).text\n",
        "\n",
        "print(transcript)"
      ]
    },
    {
      "cell_type": "markdown",
      "metadata": {
        "id": "VfNr2vICnVqA"
      },
      "source": [
        "Then, the generated transcript is passed to the TTS model with multi-speaker configuration."
      ]
    },
    {
      "cell_type": "code",
      "execution_count": null,
      "metadata": {
        "id": "TLTW2mt01DwR"
      },
      "outputs": [],
      "source": [
        "%%time\n",
        "\n",
        "config = types.GenerateContentConfig(\n",
        "    response_modalities=[\"AUDIO\"],\n",
        "    speech_config=types.SpeechConfig(\n",
        "        multi_speaker_voice_config=types.MultiSpeakerVoiceConfig(\n",
        "            speaker_voice_configs=[\n",
        "                types.SpeakerVoiceConfig(\n",
        "                    speaker='Podcast host',\n",
        "                    voice_config=types.VoiceConfig(\n",
        "                        prebuilt_voice_config=types.PrebuiltVoiceConfig(\n",
        "                            voice_name='sulafat',\n",
        "                        )\n",
        "                    )\n",
        "                ),\n",
        "                types.SpeakerVoiceConfig(\n",
        "                    speaker='Podcast guest',\n",
        "                    voice_config=types.VoiceConfig(\n",
        "                        prebuilt_voice_config=types.PrebuiltVoiceConfig(\n",
        "                            voice_name='leda',\n",
        "                        )\n",
        "                    )\n",
        "                ),\n",
        "            ]\n",
        "        )\n",
        "    )\n",
        ")\n",
        "\n",
        "response = client.models.generate_content(\n",
        "  model=MODEL_ID,\n",
        "  contents=\"TTS the following conversation between a very excited Podcast host and the Podcast guest: \"+transcript,\n",
        "  config=config,\n",
        ")\n",
        "print(response)\n",
        "play_audio(response)"
      ]
    },
    {
      "cell_type": "markdown",
      "metadata": {
        "id": "IBTLJ1JF3SRd"
      },
      "source": [
        "## Working with the Gemini 2.5 models\n",
        "\n",
        "The Gemini 2.5 series models, including Flash and Pro, offer enhanced capabilities such as adaptive thinking, multimodal understanding, and advanced reasoning, making them suitable for a wide range of complex tasks."
      ]
    },
    {
      "cell_type": "markdown",
      "metadata": {
        "id": "S_peaCkc7czL"
      },
      "source": [
        "### Counting token\n",
        "\n",
        "Token counting helps you understand the length of your input and output, which is relevant for managing model context windows and estimating costs. A token is roughly equivalent to 4 characters for Gemini models."
      ]
    },
    {
      "cell_type": "code",
      "execution_count": null,
      "metadata": {
        "id": "_3zWIKW610u5"
      },
      "outputs": [],
      "source": [
        "MODEL_ID = \"gemini-2.5-flash\""
      ]
    },
    {
      "cell_type": "code",
      "execution_count": null,
      "metadata": {
        "id": "RrEHxAAE7WeC"
      },
      "outputs": [
        {
          "name": "stdout",
          "output_type": "stream",
          "text": [
            "total_tokens=13 cached_content_token_count=None\n"
          ]
        }
      ],
      "source": [
        "response = client.models.count_tokens(\n",
        "    model=MODEL_ID,\n",
        "    contents=\"What is the venue where Google I/O normally happens?\",\n",
        ")\n",
        "\n",
        "print(response)"
      ]
    },
    {
      "cell_type": "markdown",
      "metadata": {
        "id": "lzcdhi4W7gyQ"
      },
      "source": [
        "### Sending your first prompt\n",
        "\n",
        "Making a request to a Gemini model is straightforward using the generate_content method. You specify the model and the content (your prompt), and the model returns a text response."
      ]
    },
    {
      "cell_type": "code",
      "execution_count": null,
      "metadata": {
        "id": "RYj6cgwJ7QUV"
      },
      "outputs": [
        {
          "data": {
            "text/markdown": [
              "Google I/O normally happens at the **Shoreline Amphitheatre** in **Mountain View, California**."
            ],
            "text/plain": [
              "<IPython.core.display.Markdown object>"
            ]
          },
          "metadata": {},
          "output_type": "display_data"
        },
        {
          "name": "stdout",
          "output_type": "stream",
          "text": [
            "\n"
          ]
        },
        {
          "data": {
            "text/plain": [
              "GenerateContentResponseUsageMetadata(cache_tokens_details=None, cached_content_token_count=None, candidates_token_count=22, candidates_tokens_details=None, prompt_token_count=13, prompt_tokens_details=[ModalityTokenCount(modality=<MediaModality.TEXT: 'TEXT'>, token_count=13)], thoughts_token_count=375, tool_use_prompt_token_count=None, tool_use_prompt_tokens_details=None, total_token_count=410, traffic_type=None)"
            ]
          },
          "execution_count": 34,
          "metadata": {},
          "output_type": "execute_result"
        }
      ],
      "source": [
        "from IPython.display import Markdown\n",
        "\n",
        "response = client.models.generate_content(\n",
        "    model=MODEL_ID,\n",
        "    contents=\"What is the venue where Google I/O normally happens?\"\n",
        ")\n",
        "\n",
        "display(Markdown(response.text))\n",
        "print()\n",
        "response.usage_metadata"
      ]
    },
    {
      "cell_type": "markdown",
      "metadata": {
        "id": "3k5rWFA4_4Tr"
      },
      "source": [
        "### Your first streaming interaction\n",
        "\n",
        "For more fluid interactions, especially with longer responses, you can use streaming. The `generate_content_stream` method allows you to receive parts of the response incrementally as they are generated, rather than waiting for the entire output."
      ]
    },
    {
      "cell_type": "code",
      "execution_count": null,
      "metadata": {
        "id": "hrjcaAYO_2q2"
      },
      "outputs": [
        {
          "name": "stdout",
          "output_type": "stream",
          "text": [
            "Google I/O normally happens at the **Shoreline Amphitheatre** in **Mountain View, California**.Google I/O normally happens at the **Shoreline Amphitheatre** in **Mountain View, California**.Google I/O normally happens at the **Shoreline Amphitheatre** in **Mountain View, California**.Google I/O normally happens at the **Shoreline Amphitheatre** in **Mountain View, California**.Google I/O normally happens at the **Shoreline Amphitheatre** in **Mountain View, California**.Google I/O normally happens at the **Shoreline Amphitheatre** in **Mountain View, California**.Google I/O normally happens at the **Shoreline Amphitheatre** in **Mountain View, California**.Google I/O normally happens at the **Shoreline Amphitheatre** in **Mountain View, California**.Google I/O normally happens at the **Shoreline Amphitheatre** in **Mountain View, California**.Google I/O normally happens at the **Shoreline Amphitheatre** in **Mountain View, California**.Google I/O normally happens at the **Shoreline Amphitheatre** in **Mountain View, California**.Google I/O normally happens at the **Shoreline Amphitheatre** in **Mountain View, California**.Google I/O normally happens at the **Shoreline Amphitheatre** in **Mountain View, California**.Google I/O normally happens at the **Shoreline Amphitheatre** in **Mountain View, California**.Google I/O normally happens at the **Shoreline Amphitheatre** in **Mountain View, California**.Google I/O normally happens at the **Shoreline Amphitheatre** in **Mountain View, California**.Google I/O normally happens at the **Shoreline Amphitheatre** in **Mountain View, California**.Google I/O normally happens at the **Shoreline Amphitheatre** in **Mountain View, California**.Google I/O normally happens at the **Shoreline Amphitheatre** in **Mountain View, California**."
          ]
        }
      ],
      "source": [
        "from IPython.display import Markdown\n",
        "\n",
        "for chunk in client.models.generate_content_stream(\n",
        "    model=MODEL_ID,\n",
        "    contents=\"Tell me a story about a software engineer attending Google I/O for the first time\"\n",
        "):\n",
        "  print(response.text, end=\"\")"
      ]
    },
    {
      "cell_type": "markdown",
      "metadata": {
        "id": "lo4wiYjm8298"
      },
      "source": [
        "### Working with multimodal prompts\n",
        "\n",
        "Gemini models are inherently multimodal, meaning they can process and generate content based on various input types, including text, images, video, and audio. This example demonstrates how to provide an image alongside a text prompt."
      ]
    },
    {
      "cell_type": "code",
      "execution_count": null,
      "metadata": {
        "id": "bsCBIRpv7ltj"
      },
      "outputs": [
        {
          "data": {
            "image/jpeg": "[encoded data removed]",
            "text/plain": [
              "<PIL.PngImagePlugin.PngImageFile image mode=RGBA size=512x256>"
            ]
          },
          "metadata": {},
          "output_type": "display_data"
        }
      ],
      "source": [
        "import requests\n",
        "import pathlib\n",
        "from PIL import Image\n",
        "\n",
        "img = \"https://storage.googleapis.com/gweb-developer-goog-blog-assets/images/developer-keynote-recap-google-io.2e16d0ba.fill-1200x600.png\"\n",
        "\n",
        "img_bytes = requests.get(img).content\n",
        "\n",
        "img_path = pathlib.Path('image.png')\n",
        "img_path.write_bytes(img_bytes)\n",
        "\n",
        "image = Image.open(img_path)\n",
        "image.thumbnail([512,512])\n",
        "\n",
        "display(image)"
      ]
    },
    {
      "cell_type": "markdown",
      "metadata": {
        "id": "cD7PA1Hbn4kk"
      },
      "source": [
        "The image and a textual prompt are combined to ask the model to describe the image."
      ]
    },
    {
      "cell_type": "code",
      "execution_count": null,
      "metadata": {
        "id": "ZVUbs03cBJt_"
      },
      "outputs": [
        {
          "data": {
            "text/markdown": [
              "This image is a sleek, modern, and abstract graphic, likely promotional material for Google I/O, a developer conference.\n",
              "\n",
              "Here's a detailed description:\n",
              "\n",
              "*   **Overall Composition:** The image features a minimalist, dark background (appears to be a very dark gray or black) which provides strong contrast for the foreground elements. The composition is dynamic, with three main visual clusters arranged diagonally.\n",
              "*   **Branding:** At the top center, the text \"Google I/O\" is displayed in clean, white sans-serif font. The \"I/O\" portion is stylized, with the \"I\" as a vertical bar and the \"O\" as a perfect circle, consistent with the Google I/O logo.\n",
              "*   **Platforms/Bases:** Three distinct, white, square-like platforms are positioned in the foreground, rendered with an isometric projection, giving them a three-dimensional, blocky appearance. Each platform has a subtle grid pattern on its top surface, suggesting a technical or computational theme (like graph paper or a digital grid).\n",
              "*   **3D Objects:** On each platform, there's a unique, three-dimensional geometric object:\n",
              "    *   **Top-Left:** A sharp, angular object resembling an arrow or a folded plane, pointing diagonally upwards and to the right.\n",
              "    *   **Top-Right:** Two stylized, curved shapes that resemble an \"f\" or a flowing, intertwined symbol. They appear to be mirrored or interlocked.\n",
              "    *   **Bottom-Middle (partially visible):** Two chunky, interlocked \"L\" shapes, which are also rounded and volumetric.\n",
              "*   **Color Scheme & Texture:** The 3D objects are the most striking visual element, featuring a vibrant, smooth gradient that cycles through the full spectrum of rainbow colors (red, orange, yellow, green, blue, purple). This gradient gives them a iridescent, almost reflective quality, suggesting dynamism, creativity, and a broad range of applications. The lighting on these objects emphasizes their three-dimensionality, creating distinct surfaces and shadows.\n",
              "*   **Implied Themes:** The overall aesthetic conveys themes of technology, innovation, development, and connectivity, with a clean and futuristic feel. The isometric projection and grid patterns hint at architecture, coding, or system design."
            ],
            "text/plain": [
              "<IPython.core.display.Markdown object>"
            ]
          },
          "execution_count": 37,
          "metadata": {},
          "output_type": "execute_result"
        }
      ],
      "source": [
        "response = client.models.generate_content(\n",
        "    model=MODEL_ID,\n",
        "    contents=[\n",
        "        image,\n",
        "        \"Describe this image\"\n",
        "    ]\n",
        ")\n",
        "\n",
        "Markdown(response.text)"
      ]
    },
    {
      "cell_type": "markdown",
      "metadata": {
        "id": "hdYroleSoES2"
      },
      "source": [
        "Here, the model is asked to generate a blog post based on the provided image, showcasing its creative content generation capabilities from multimodal input."
      ]
    },
    {
      "cell_type": "code",
      "execution_count": null,
      "metadata": {
        "id": "0wa7ZbDZ9I3I"
      },
      "outputs": [
        {
          "data": {
            "text/markdown": [
              "## Unveiling Google I/O: The Future, Built in Full Color\n",
              "\n",
              "As the digital world hums with anticipation, a familiar sight emerges on our screens: the vibrant, geometric invitation to Google I/O. More than just a conference, I/O is a beacon for developers, innovators, and anyone curious about the cutting edge of technology. And this year's visual really sets the stage for what's to come.\n",
              "\n",
              "This striking image isn't just eye candy; it's a visual metaphor. The precise isometric grid serves as our digital canvas, a stable foundation upon which new ideas are built. Rising from it are dynamically colored, three-dimensional shapes – reminiscent of building blocks, lines of code, or perhaps even abstract representations of new APIs and frameworks. We see a sharp arrow pointing forward, signaling progress and new directions, alongside playful 'f' shapes that might hint at Flutter or Firebase, and other abstract forms hinting at the vast ecosystem Google empowers.\n",
              "\n",
              "The rainbow gradients splashed across their surfaces don't just add vibrancy; they symbolize the diverse spectrum of technologies, ideas, and people that converge at I/O. From AI advancements to Android updates, from web innovations to cloud solutions, Google I/O is where these disparate elements come together to form a cohesive, colorful future.\n",
              "\n",
              "At its heart, Google I/O is where the magic happens. It's where Google unveils its latest advancements, hosts deep-dive technical sessions, and delivers keynote announcements that often define the trajectory of the tech landscape for the year ahead. But beyond the big reveals, I/O fosters a unique sense of community, connecting developers with the tools, insights, and each other to turn ambitious ideas into reality.\n",
              "\n",
              "So, as we look at this vivid imagery, let it serve as a reminder: Google I/O isn't just an event to watch; it's an invitation to participate. It's about empowering creators, fostering collaboration, and collectively shaping the digital experiences of tomorrow. Whether you're a seasoned developer or simply fascinated by what's next, prepare to be inspired. The future is being built, block by colorful block, and Google I/O is where we get to see it unfold. Get ready to dive in!"
            ],
            "text/plain": [
              "<IPython.core.display.Markdown object>"
            ]
          },
          "execution_count": 38,
          "metadata": {},
          "output_type": "execute_result"
        }
      ],
      "source": [
        "response = client.models.generate_content(\n",
        "    model=MODEL_ID,\n",
        "    contents=[\n",
        "        image,\n",
        "        \"Write a short and engaging blog post based on this picture.\"\n",
        "    ]\n",
        ")\n",
        "\n",
        "Markdown(response.text)"
      ]
    },
    {
      "cell_type": "markdown",
      "metadata": {
        "id": "kY-ceuCtBSxq"
      },
      "source": [
        "## Video understanding with Gemini models\n",
        "\n",
        "Gemini models can process and understand video content, enabling a wide range of use cases such as describing scenes, extracting information, answering questions about video content, and referring to specific timestamps.\n",
        "\n",
        "First, a sample video is downloaded, then uploaded using the `client.files.upload` method, which is suitable for larger videos or for reusing the video across multiple requests."
      ]
    },
    {
      "cell_type": "code",
      "execution_count": null,
      "metadata": {
        "id": "0nFlnbN19w1V"
      },
      "outputs": [
        {
          "name": "stdout",
          "output_type": "stream",
          "text": [
            "Waiting for video to be processed.\n",
            "Waiting for video to be processed.\n",
            "Waiting for video to be processed.\n",
            "Waiting for video to be processed.\n",
            "Video processing complete: https://generativelanguage.googleapis.com/v1beta/files/zyg3jyh4pdm9\n"
          ]
        }
      ],
      "source": [
        "import time\n",
        "\n",
        "!wget https://storage.googleapis.com/generativeai-downloads/videos/Jukin_Trailcam_Videounderstanding.mp4 -O Trailcam.mp4 -q\n",
        "\n",
        "def upload_video(video_file_name):\n",
        "  video_file = client.files.upload(file=video_file_name)\n",
        "\n",
        "  while video_file.state == \"PROCESSING\":\n",
        "      print('Waiting for video to be processed.')\n",
        "      time.sleep(5)\n",
        "      video_file = client.files.get(name=video_file.name)\n",
        "\n",
        "  if video_file.state == \"FAILED\":\n",
        "    raise ValueError(video_file.state)\n",
        "  print(f'Video processing complete: ' + video_file.uri)\n",
        "\n",
        "  return video_file\n",
        "\n",
        "trailcam_video = upload_video('Trailcam.mp4')"
      ]
    },
    {
      "cell_type": "markdown",
      "metadata": {
        "id": "qcmnDs3tDa66"
      },
      "source": [
        "### Do a semantic search in the video"
      ]
    },
    {
      "cell_type": "markdown",
      "metadata": {
        "id": "F9MMd2B0oP0N"
      },
      "source": [
        "You can prompt the model to analyze video content for specific information, such as organizing scenes, identifying objects, and estimating emotional states. The model processes both the visual frames and the audio track to provide a comprehensive understanding."
      ]
    },
    {
      "cell_type": "code",
      "execution_count": null,
      "metadata": {
        "id": "WZitwaqWB6q8"
      },
      "outputs": [
        {
          "name": "stdout",
          "output_type": "stream",
          "text": [
            "CPU times: user 91.1 ms, sys: 14.8 ms, total: 106 ms\n",
            "Wall time: 18 s\n"
          ]
        },
        {
          "data": {
            "text/markdown": [
              "Here's a detailed log of the video scenes:\n",
              "\n",
              "| Timecode | Description | Objects | Excitement (1-10) |\n",
              "|---|---|---|---|\n",
              "| 00:00 | Close-up of a gray fox's fur as it moves away from the camera. | 🦊 | 3 |\n",
              "| 00:01 | Two gray foxes approach and sniff around rocks and fallen leaves. | 🦊🦊, 🪨, 🍂 | 5 |\n",
              "| 00:11 | One fox jumps onto a rock while the other continues sniffing around. | 🦊🦊, 🪨, 🍂 | 6 |\n",
              "| 00:17 | A mountain lion walks towards the camera, sniffing the ground. (Night vision) | 🦁, 🌳, 🍂 | 7 |\n",
              "| 00:34 | Two gray foxes move around, one gets spooked by the camera flash and jumps. (Night vision) | 🦊🦊, 🌳, 🍂, 💥 | 8 |\n",
              "| 00:50 | Another camera flash, then two mountain lions appear, one chasing the other. (Night vision) | 🦁🦁, 🪨, 💥 | 9 |\n",
              "| 01:04 | A mountain lion walks past the camera, looks back, and then continues walking away. (Night vision) | 🦁, 🌳, 🪨 | 7 |\n",
              "| 01:17 | Two mountain lions are in the frame, one approaching the camera and the other further back. (Night vision) | 🦁🦁, 🌳, 🪨 | 8 |\n",
              "| 01:29 | A bobcat is seen sniffing around the ground in the darkness. (Night vision) | 🐱, 🌳, 🍂 | 6 |\n",
              "| 01:51 | A black bear walks towards the camera, sniffs the ground, and then walks past. | 🐻, 🌳, 🍂 | 7 |\n",
              "| 01:57 | A mountain lion walks quickly across the frame from left to right. (Night vision) | 🦁, 🌳, 🍂 | 6 |\n",
              "| 02:04 | A large bear walks past the camera. | 🐻, 🌳, 🍂 | 6 |\n",
              "| 02:12 | Two bears appear, one large and one smaller (possibly a cub). The large one sniffs and then walks away. | 🐻🐻, 🌳, 🍂 | 7 |\n",
              "| 02:23 | A gray fox is on a hill overlooking a city at night, sniffing the ground. (Night vision) | 🦊, 🏙️, 🌃 | 7 |\n",
              "| 02:35 | A bear walks across the frame on a hill with city lights in the background. (Night vision) | 🐻, 🏙️, 🌃 | 7 |\n",
              "| 02:42 | A mountain lion walks across the frame on a hill with city lights in the background. (Night vision) | 🦁, 🏙️, 🌃 | 8 |\n",
              "| 02:52 | A mountain lion sniffs the ground near a tree and then walks away. (Night vision) | 🦁, 🌳, 🍂 | 6 |\n",
              "| 03:05 | A large black bear stands in the forest, looking around, then walks away. | 🐻, 🌳, 🍂 | 7 |\n",
              "| 03:22 | A brown bear stands in the forest, looking around, then walks away. | 🐻, 🌳, 🍂 | 7 |\n",
              "| 03:32 | A brown bear and a cub are in the forest, sniffing the ground and moving around. | 🐻🐻, 🌳, 🍂 | 8 |\n",
              "| 03:41 | Two brown bears (a mother and a cub) move through the forest, sniffing the ground. The cub scratches itself. | 🐻🐻, 🌳, 🍂 | 8 |\n",
              "| 04:03 | A mother brown bear and her cub walk towards the camera, sniffing the ground. | 🐻🐻, 🌳, 🍂 | 8 |\n",
              "| 04:22 | A bobcat is seen in the forest at night, looking at the camera, then walking away. (Night vision) | 🐱, 🌳, 🍂 | 6 |\n",
              "| 04:30 | A bobcat appears in the distance, then walks towards and past the camera. (Night vision) | 🐱, 🌳, 🍂 | 6 |\n",
              "| 04:45 | A bobcat approaches the camera from the distance, then turns and runs away when the flash goes off. (Night vision) | 🐱, 🌳, 🍂, 💥 | 8 |\n",
              "| 04:50 | A bobcat walks into the frame, sniffs, and then walks away. (Night vision) | 🐱, 🌳, 🍂 | 6 |\n",
              "| 04:57 | A mountain lion walks towards the camera, sniffs the ground, and then walks past. (Night vision) | 🦁, 🌳, 🍂 | 7 |"
            ],
            "text/plain": [
              "<IPython.core.display.Markdown object>"
            ]
          },
          "execution_count": 40,
          "metadata": {},
          "output_type": "execute_result"
        }
      ],
      "source": [
        "%%time\n",
        "\n",
        "prompt = \"\"\"\n",
        "  Organize all scenes from this video in a table, along with timecode, a short\n",
        "  description, a list of objects visible in the scene (with representative emojis)\n",
        "  and an estimation of the level of excitement on a scale of 1 to 10\n",
        "\"\"\"\n",
        "video = trailcam_video\n",
        "\n",
        "response = client.models.generate_content(\n",
        "    model=MODEL_ID,\n",
        "    contents=[\n",
        "        video,\n",
        "        prompt,\n",
        "    ]\n",
        ")\n",
        "\n",
        "Markdown(response.text)"
      ]
    },
    {
      "cell_type": "markdown",
      "metadata": {
        "id": "G65ulumcD9P0"
      },
      "source": [
        "### Analyze YouTube videos\n",
        "\n",
        "The Gemini API can also process publicly available YouTube videos directly by providing their URL. This allows for tasks like summarizing video content or finding specific mentions within the video."
      ]
    },
    {
      "cell_type": "code",
      "execution_count": null,
      "metadata": {
        "id": "XvqTvbqDFXy4"
      },
      "outputs": [
        {
          "data": {
            "image/jpeg": "[encoded data removed]",
            "text/html": [
              "\n",
              "        <iframe\n",
              "            width=\"800\"\n",
              "            height=\"600\"\n",
              "            src=\"https://www.youtube.com/embed/ixRanV-rdAQ\"\n",
              "            frameborder=\"0\"\n",
              "            allowfullscreen\n",
              "            \n",
              "        ></iframe>\n",
              "        "
            ],
            "text/plain": [
              "<IPython.lib.display.YouTubeVideo at 0x7df7cd42c1d0>"
            ]
          },
          "execution_count": 41,
          "metadata": {},
          "output_type": "execute_result"
        }
      ],
      "source": [
        "from IPython.display import YouTubeVideo\n",
        "\n",
        "YouTubeVideo('ixRanV-rdAQ', width=800, height=600)"
      ]
    },
    {
      "cell_type": "markdown",
      "metadata": {
        "id": "LgVlbNU6ogkU"
      },
      "source": [
        "The model can find specific instances of words or phrases and provide timestamps and context, as demonstrated by searching for \"AI\" in Sundar Pichai's keynote from Google IO 2023."
      ]
    },
    {
      "cell_type": "code",
      "execution_count": null,
      "metadata": {
        "id": "35bZ-HYRC-MH"
      },
      "outputs": [
        {
          "name": "stdout",
          "output_type": "stream",
          "text": [
            "CPU times: user 251 ms, sys: 43.9 ms, total: 295 ms\n",
            "Wall time: 52.3 s\n"
          ]
        },
        {
          "data": {
            "text/markdown": [
              "Here are all the instances where Sundar Pichai says \"AI\" in the video, along with timestamps and broader context:\n",
              "\n",
              "1.  **0:29** - \"As you may have heard, **AI** is having a very busy year.\"\n",
              "    *   **Context:** Sundar Pichai opens the Google I/O keynote by welcoming the audience and immediately highlights the significant advancements and activity in the field of AI, setting the stage for the presentations that follow.\n",
              "\n",
              "2.  **0:38** - \"Seven years into our journey as an **AI**-first company, we are at an exciting inflection point.\"\n",
              "    *   **Context:** He reflects on Google's long-term strategic shift to being an \"AI-first company,\" emphasizing the current moment as a pivotal point for the technology and its potential impact.\n",
              "\n",
              "3.  **0:45** - \"We have an opportunity to make **AI** even more helpful for people, for businesses, for communities, for everyone.\"\n",
              "    *   **Context:** Following the declaration of being an \"AI-first company,\" he articulates Google's core mission for AI: to enhance its utility and accessibility for a wide range of users and sectors.\n",
              "\n",
              "4.  **0:54** - \"We've been applying **AI** to make our products radically more helpful for a while.\"\n",
              "    *   **Context:** He transitions from the overarching vision to concrete applications, stating that AI has already been integrated into Google's existing products to significantly improve their functionality.\n",
              "\n",
              "5.  **0:59** - \"With generative **AI**, we are taking the next step.\"\n",
              "    *   **Context:** Sundar introduces generative AI as the next frontier for Google, implying a significant leap in how their products will evolve, leading into specific examples of generative AI in action.\n",
              "\n",
              "6.  **1:41** - \"Smart Compose led to more advanced writing features powered by **AI**.\"\n",
              "    *   **Context:** In the segment discussing Gmail's new \"Help me write\" feature, he traces the evolution of AI-powered writing tools within Google Workspace, starting with Smart Compose.\n",
              "\n",
              "7.  **3:03** - \"Since the early days of Street View, **AI** has stitched together billions of panoramic images so people can explore the world from their device.\"\n",
              "    *   **Context:** During the Maps demonstration, he highlights AI's foundational role in creating Street View by seamlessly combining massive amounts of imagery, enabling virtual exploration.\n",
              "\n",
              "8.  **3:14** - \"At last year’s I/O, we introduced Immersive View, which uses **AI** to create a high-fidelity representation of a place so you can experience it before you visit.\"\n",
              "    *   **Context:** Continuing with Maps, he explains how AI is crucial for Immersive View, a feature allowing users to virtually explore locations in a detailed, 3D environment, setting up the new \"Immersive View for routes.\"\n",
              "\n",
              "9.  **5:16** - \"It was one of our first **AI**-native products.\"\n",
              "    *   **Context:** Referring to Google Photos, he emphasizes that it was designed from its inception with AI at its core, enabling features like searching photos for specific content (people, objects, etc.).\n",
              "\n",
              "10. **5:39** - \"**AI** advancements give us more powerful ways to do this.\"\n",
              "    *   **Context:** After mentioning that billions of images are edited monthly in Google Photos, he explains that new AI advancements are empowering users with even more sophisticated photo editing capabilities, leading into the \"Magic Editor\" demo.\n",
              "\n",
              "11. **5:48** - \"Magic Eraser, launched first on Pixel, uses **AI**-powered computational photography to remove unwanted distractions.\"\n",
              "    *   **Context:** He provides a specific example of an AI feature in Google Photos, showcasing \"Magic Eraser's\" ability to intelligently remove elements from images.\n",
              "\n",
              "12. **5:58** - \"And later this year, using a combination of semantic understanding and generative **AI**, you can do much more with a new experience called Magic Editor.\"\n",
              "    *   **Context:** He introduces \"Magic Editor\" as an advanced photo editing tool that leverages the power of generative AI and semantic understanding to perform more complex and creative edits.\n",
              "\n",
              "13. **7:41** - \"From Gmail and Photos to Maps, these are just a few examples of how **AI** can help you in moments that matter.\"\n",
              "    *   **Context:** Sundar summarizes the product updates he has just shown, emphasizing how AI is being integrated into various Google products to provide helpful and meaningful experiences.\n",
              "\n",
              "14. **8:24** - \"Looking ahead, making **AI** helpful for everyone is the most profound way we will advance our mission.\"\n",
              "    *   **Context:** He transitions to Google's overarching mission, stating that making AI universally beneficial is the most impactful way to fulfill their long-term goals.\n",
              "\n",
              "15. **8:54** - \"And finally, by building and deploying **AI** responsibly so that everyone can benefit equally.\"\n",
              "    *   **Context:** As one of four key ways Google plans to advance its mission with AI, he stresses the importance of responsible development and deployment to ensure equitable benefits for all.\n",
              "\n",
              "16. **9:03** - \"Our ability to make **AI** helpful for everyone relies on continuously advancing our foundation models.\"\n",
              "    *   **Context:** He connects the goal of making AI helpful to the underlying technological progress in foundation models, leading into the announcement of PaLM 2.\n",
              "\n",
              "17. **12:47** - \"PaLM 2 is the latest step in our decade-long journey to bring **AI** in responsible ways to billions of people.\"\n",
              "    *   **Context:** He reiterates the long-term commitment to AI development, positioning PaLM 2 as a significant milestone in Google's effort to scale AI responsibly to a global audience.\n",
              "\n",
              "18. **13:00** - \"Looking back at the defining breakthroughs in **AI** over the last decade, these teams have contributed to a significant number of them.\"\n",
              "    *   **Context:** He highlights Google's historical contributions to fundamental AI research, showcasing key advancements that have shaped the field over the past ten years.\n",
              "\n",
              "19. **14:10** - \"As we invest in more advanced models, we are also deeply investing in **AI** responsibility.\"\n",
              "    *   **Context:** He emphasizes that Google's pursuit of more capable AI models is paired with a strong commitment to ethical and responsible AI development, leading into a discussion of watermarking and metadata.\n",
              "\n",
              "20. **15:11** - \"James will talk about our responsible approach to **AI** later.\"\n",
              "    *   **Context:** He previews an upcoming segment by another speaker, highlighting the dedicated focus Google has on addressing the ethical and societal implications of AI.\n",
              "\n",
              "21. **15:29** - \"That's the opportunity we have with Bard, our experiment for conversational **AI**.\"\n",
              "    *   **Context:** He introduces Bard as Google's direct conversational AI experiment, emphasizing its potential for user interaction and collaboration."
            ],
            "text/plain": [
              "<IPython.core.display.Markdown object>"
            ]
          },
          "execution_count": 42,
          "metadata": {},
          "output_type": "execute_result"
        }
      ],
      "source": [
        "%%time\n",
        "\n",
        "response = client.models.generate_content(\n",
        "    model=MODEL_ID,\n",
        "    contents=types.Content(\n",
        "        parts=[\n",
        "            types.Part(text=\"Find all the instances where Sundar says \\\"AI\\\". Provide timestamps and broader context for each instance.\"),\n",
        "            types.Part(\n",
        "                file_data=types.FileData(file_uri='https://www.youtube.com/watch?v=ixRanV-rdAQ')\n",
        "            )\n",
        "        ]\n",
        "    )\n",
        ")\n",
        "\n",
        "Markdown(response.text)"
      ]
    },
    {
      "cell_type": "markdown",
      "metadata": {
        "id": "poNCKim6ELFC"
      },
      "source": [
        "### Analyze specific parts of videos using clipping intervals\n"
      ]
    },
    {
      "cell_type": "markdown",
      "metadata": {
        "id": "tNL8siU_oohy"
      },
      "source": [
        "For more focused analysis, you can specify `video_metadata` with `start_offset` and `end_offset` to define clipping intervals. This tells the model to analyze only a specific segment of the video."
      ]
    },
    {
      "cell_type": "code",
      "execution_count": null,
      "metadata": {
        "id": "5DQouXBdFgrn"
      },
      "outputs": [
        {
          "data": {
            "image/jpeg": "[encoded data removed]",
            "text/html": [
              "\n",
              "        <iframe\n",
              "            width=\"800\"\n",
              "            height=\"600\"\n",
              "            src=\"https://www.youtube.com/embed/XEzRZ35urlk\"\n",
              "            frameborder=\"0\"\n",
              "            allowfullscreen\n",
              "            \n",
              "        ></iframe>\n",
              "        "
            ],
            "text/plain": [
              "<IPython.lib.display.YouTubeVideo at 0x7df7cd4309d0>"
            ]
          },
          "execution_count": 43,
          "metadata": {},
          "output_type": "execute_result"
        }
      ],
      "source": [
        "YouTubeVideo('XEzRZ35urlk', width=800, height=600)"
      ]
    },
    {
      "cell_type": "markdown",
      "metadata": {
        "id": "TJViLP-Pou1Q"
      },
      "source": [
        "The model will then summarize only the specified segment."
      ]
    },
    {
      "cell_type": "code",
      "execution_count": null,
      "metadata": {
        "id": "iEi4HBqdEDBR"
      },
      "outputs": [
        {
          "name": "stdout",
          "output_type": "stream",
          "text": [
            "CPU times: user 282 ms, sys: 39.8 ms, total: 322 ms\n",
            "Wall time: 58.7 s\n"
          ]
        },
        {
          "data": {
            "text/markdown": [
              "Demis Hassabis shares his lifelong pursuit of Artificial General Intelligence, which led him to co-found DeepMind, now Google DeepMind, with the goal of building AI that can benefit humanity responsibly. He highlights several of DeepMind's recent breakthroughs, including RT-2 for robotics, SIMA for virtual environments, AlphaGeometry for math, GNoME for material discovery, and the new AlphaFold 3 for molecular modeling. Hassabis then introduces Gemini 1.5 Flash, a faster and more efficient multimodal model with a large context window, and unveils \"Project Astra,\" a universal AI agent designed to be helpful in everyday life through quick, natural, and context-aware interactions."
            ],
            "text/plain": [
              "<IPython.core.display.Markdown object>"
            ]
          },
          "execution_count": 44,
          "metadata": {},
          "output_type": "execute_result"
        }
      ],
      "source": [
        "%%time\n",
        "\n",
        "response = client.models.generate_content(\n",
        "    model=MODEL_ID,\n",
        "    contents=types.Content(\n",
        "        parts=[\n",
        "            types.Part(\n",
        "                file_data=types.FileData(file_uri='https://www.youtube.com/watch?v=XEzRZ35urlk'),\n",
        "                video_metadata=types.VideoMetadata(\n",
        "                    start_offset='1250s',\n",
        "                    end_offset='1570s'\n",
        "                )\n",
        "            ),\n",
        "            types.Part(text='Summarize the video in 3 sentences.')\n",
        "        ]\n",
        "    )\n",
        ")\n",
        "\n",
        "Markdown(response.text)"
      ]
    },
    {
      "cell_type": "markdown",
      "metadata": {
        "id": "HVdzgRKhE1Tm"
      },
      "source": [
        "### Customize the number of video frames per second (FPS) analyzed"
      ]
    },
    {
      "cell_type": "markdown",
      "metadata": {
        "id": "2k959jEwozjQ"
      },
      "source": [
        "By default, Gemini models sample videos at 1 frame per second (FPS) for analysis. You can customize this by passing an `fps` argument to `video_metadata`. A higher FPS can capture more details in rapidly changing visuals, while a lower FPS is useful for mostly static videos like lectures."
      ]
    },
    {
      "cell_type": "code",
      "execution_count": null,
      "metadata": {
        "id": "03b-MCthFncs"
      },
      "outputs": [
        {
          "data": {
            "image/jpeg": "[encoded data removed]",
            "text/html": [
              "\n",
              "        <iframe\n",
              "            width=\"800\"\n",
              "            height=\"600\"\n",
              "            src=\"https://www.youtube.com/embed/McN0-DpyHzE\"\n",
              "            frameborder=\"0\"\n",
              "            allowfullscreen\n",
              "            \n",
              "        ></iframe>\n",
              "        "
            ],
            "text/plain": [
              "<IPython.lib.display.YouTubeVideo at 0x7df7cd42f390>"
            ]
          },
          "execution_count": 45,
          "metadata": {},
          "output_type": "execute_result"
        }
      ],
      "source": [
        "YouTubeVideo('McN0-DpyHzE', width=800, height=600)"
      ]
    },
    {
      "cell_type": "markdown",
      "metadata": {
        "id": "mXFiMKtRo68i"
      },
      "source": [
        "By adjusting the FPS, you can control the granularity of video analysis, which is particularly useful for tasks requiring close attention to visual details."
      ]
    },
    {
      "cell_type": "code",
      "execution_count": null,
      "metadata": {
        "id": "yXsXZkYKEc3Z"
      },
      "outputs": [
        {
          "name": "stdout",
          "output_type": "stream",
          "text": [
            "CPU times: user 90.1 ms, sys: 13.8 ms, total: 104 ms\n",
            "Wall time: 17.8 s\n"
          ]
        },
        {
          "data": {
            "text/markdown": [
              "Based on the video, it appears that **all four tires** were changed (both front and both rear).\n",
              "\n",
              "The pit crew can be seen actively changing tires on both the left and right sides of the car, and the process extends from the front to the rear of the vehicle, indicating a full tire change."
            ],
            "text/plain": [
              "<IPython.core.display.Markdown object>"
            ]
          },
          "execution_count": 46,
          "metadata": {},
          "output_type": "execute_result"
        }
      ],
      "source": [
        "%%time\n",
        "\n",
        "response = client.models.generate_content(\n",
        "    model=MODEL_ID,\n",
        "    contents=types.Content(\n",
        "        parts=[\n",
        "            types.Part(\n",
        "                file_data=types.FileData(file_uri='https://www.youtube.com/watch?v=McN0-DpyHzE'),\n",
        "                video_metadata=types.VideoMetadata(\n",
        "                    start_offset='15s',\n",
        "                    end_offset='35s',\n",
        "                    fps=24\n",
        "                )\n",
        "            ),\n",
        "            types.Part(text='How many tires where changed? Front tires or rear tires?')\n",
        "        ]\n",
        "    )\n",
        ")\n",
        "\n",
        "Markdown(response.text)"
      ]
    },
    {
      "cell_type": "markdown",
      "metadata": {
        "id": "ZuwgR0cKF3dt"
      },
      "source": [
        "## Working with Tools\n",
        "\n",
        "The Gemini API enables models to interact with external systems and perform specialized tasks through the use of tools. These tools enhance the model's capabilities by allowing it to execute code, search the web, or process information from specific URLs."
      ]
    },
    {
      "cell_type": "code",
      "execution_count": null,
      "metadata": {
        "cellView": "form",
        "id": "h51mK8lSHkX_"
      },
      "outputs": [],
      "source": [
        "# @title Helper functions (just run that cell)\n",
        "\n",
        "from IPython.display import Image, Markdown, Code, HTML\n",
        "\n",
        "def display_code_execution_result(response):\n",
        "  for part in response.candidates[0].content.parts:\n",
        "    if part.text is not None:\n",
        "      display(Markdown(part.text))\n",
        "    if part.executable_code is not None:\n",
        "      code_html = f'<pre style=\"background-color: green;\">{part.executable_code.code}</pre>' # Change code color\n",
        "      display(HTML(code_html))\n",
        "    if part.code_execution_result is not None:\n",
        "      display(Markdown(part.code_execution_result.output))\n",
        "    if part.inline_data is not None:\n",
        "      display(Image(data=part.inline_data.data, width=800, format=\"png\"))\n",
        "    display(Markdown(\"---\"))"
      ]
    },
    {
      "cell_type": "markdown",
      "metadata": {
        "id": "8U6xIL-CpS7i"
      },
      "source": [
        "### Code execution\n",
        "\n",
        "The `code_execution` tool allows the Gemini model to generate and execute Python code. This is particularly useful for tasks requiring precise calculations, data manipulation, or algorithmic problem-solving. The model can iteratively learn from the execution results to refine its output."
      ]
    },
    {
      "cell_type": "code",
      "execution_count": null,
      "metadata": {
        "id": "sPVOhMJbE7OH"
      },
      "outputs": [
        {
          "data": {
            "text/html": [
              "<pre style=\"background-color: green;\">word = \"strawberry\"\n",
              "count_r = word.count('r')\n",
              "print(f\"The letter 'r' appears {count_r} times in the word '{word}'.\")\n",
              "</pre>"
            ],
            "text/plain": [
              "<IPython.core.display.HTML object>"
            ]
          },
          "metadata": {},
          "output_type": "display_data"
        },
        {
          "data": {
            "text/markdown": [
              "---"
            ],
            "text/plain": [
              "<IPython.core.display.Markdown object>"
            ]
          },
          "metadata": {},
          "output_type": "display_data"
        },
        {
          "data": {
            "text/markdown": [
              "The letter 'r' appears 3 times in the word 'strawberry'.\n"
            ],
            "text/plain": [
              "<IPython.core.display.Markdown object>"
            ]
          },
          "metadata": {},
          "output_type": "display_data"
        },
        {
          "data": {
            "text/markdown": [
              "---"
            ],
            "text/plain": [
              "<IPython.core.display.Markdown object>"
            ]
          },
          "metadata": {},
          "output_type": "display_data"
        },
        {
          "data": {
            "text/markdown": [
              "The letter 'r' appears 3 times in the word \"strawberry\"."
            ],
            "text/plain": [
              "<IPython.core.display.Markdown object>"
            ]
          },
          "metadata": {},
          "output_type": "display_data"
        },
        {
          "data": {
            "text/markdown": [
              "---"
            ],
            "text/plain": [
              "<IPython.core.display.Markdown object>"
            ]
          },
          "metadata": {},
          "output_type": "display_data"
        },
        {
          "name": "stdout",
          "output_type": "stream",
          "text": [
            "CPU times: user 50.5 ms, sys: 2.96 ms, total: 53.5 ms\n",
            "Wall time: 6.56 s\n"
          ]
        }
      ],
      "source": [
        "%%time\n",
        "\n",
        "from IPython.display import Code\n",
        "\n",
        "response = client.models.generate_content(\n",
        "    model=MODEL_ID,\n",
        "    contents=\"Generate and run a script to count how many letter r there are in the word strawberry\",\n",
        "    config = types.GenerateContentConfig(\n",
        "        tools=[types.Tool(code_execution=types.ToolCodeExecution)]\n",
        "    )\n",
        ")\n",
        "\n",
        "display_code_execution_result(response)"
      ]
    },
    {
      "cell_type": "markdown",
      "metadata": {
        "id": "V_UiYSyDGwGs"
      },
      "source": [
        "### Multimodality with code execution\n",
        "\n",
        "The code execution tool can be combined with multimodal inputs. This example demonstrates how the model can receive an image (related to the Monty Hall problem) and then generate and execute Python code to simulate the problem, providing a programmatic solution to a visually presented challenge."
      ]
    },
    {
      "cell_type": "code",
      "execution_count": null,
      "metadata": {
        "id": "HPXFte8uGHzH"
      },
      "outputs": [
        {
          "name": "stdout",
          "output_type": "stream",
          "text": [
            "  % Total    % Received % Xferd  Average Speed   Time    Time     Time  Current\n",
            "                                 Dload  Upload   Total   Spent    Left  Speed\n",
            "\r",
            "  0     0    0     0    0     0      0      0 --:--:-- --:--:-- --:--:--     0\r",
            " 55 24719   55 13805    0     0  71293      0 --:--:-- --:--:-- --:--:-- 71159\r",
            "100 24719  100 24719    0     0   122k      0 --:--:-- --:--:-- --:--:--  121k\n"
          ]
        },
        {
          "data": {
            "image/jpeg": "[encoded data removed]",
            "text/plain": [
              "<PIL.PngImagePlugin.PngImageFile image mode=RGBA size=640x356>"
            ]
          },
          "execution_count": 49,
          "metadata": {},
          "output_type": "execute_result"
        }
      ],
      "source": [
        "!curl -o montey_hall.png https://upload.wikimedia.org/wikipedia/commons/thumb/3/3f/Monty_open_door.svg/640px-Monty_open_door.svg.png\n",
        "\n",
        "montey_hall_image = PIL.Image.open(\"montey_hall.png\")\n",
        "montey_hall_image"
      ]
    },
    {
      "cell_type": "markdown",
      "metadata": {
        "id": "G3dnL-EjpfhB"
      },
      "source": [
        "The model is prompted to run a simulation, demonstrating its ability to reason about a problem and use code to solve it, even with a visual aid as part of the prompt."
      ]
    },
    {
      "cell_type": "code",
      "execution_count": null,
      "metadata": {
        "id": "w4UYdIvVG9lY"
      },
      "outputs": [
        {
          "data": {
            "text/markdown": [
              "Okay, I can definitely help you understand the Monty Hall Problem through a simulation! It's a classic probability puzzle that often counter-intuitive at first glance.\n",
              "\n",
              "I will simulate the game 1,000 times for two strategies:\n",
              "1.  **\"Stay\" strategy:** The contestant sticks with their initial door choice.\n",
              "2.  **\"Switch\" strategy:** The contestant switches to the other unopened door after Monty reveals a goat.\n",
              "\n",
              "Let's run the simulation!\n",
              "\n"
            ],
            "text/plain": [
              "<IPython.core.display.Markdown object>"
            ]
          },
          "metadata": {},
          "output_type": "display_data"
        },
        {
          "data": {
            "text/markdown": [
              "---"
            ],
            "text/plain": [
              "<IPython.core.display.Markdown object>"
            ]
          },
          "metadata": {},
          "output_type": "display_data"
        },
        {
          "data": {
            "text/html": [
              "<pre style=\"background-color: green;\">import random\n",
              "\n",
              "def run_monty_hall_trial(switch_strategy):\n",
              "    \"\"\"\n",
              "    Simulates a single trial of the Monty Hall Problem.\n",
              "\n",
              "    Args:\n",
              "        switch_strategy (bool): True if the player switches doors, False if they stick.\n",
              "\n",
              "    Returns:\n",
              "        bool: True if the player wins the car, False otherwise.\n",
              "    \"\"\"\n",
              "    # 0, 1, 2 represent the three doors\n",
              "    doors = [0, 1, 2]\n",
              "\n",
              "    # Randomly place the car behind one of the doors\n",
              "    car_door = random.choice(doors)\n",
              "\n",
              "    # Player makes an initial random choice\n",
              "    initial_choice = random.choice(doors)\n",
              "\n",
              "    # Monty opens a door:\n",
              "    # It must be a door that is not the car_door and not the initial_choice.\n",
              "    # If initial_choice is the car_door, Monty can open either of the other two goat doors.\n",
              "    # If initial_choice is a goat_door, Monty *must* open the *other* goat door.\n",
              "\n",
              "    # Find potential doors Monty can open (not player's choice, not car door)\n",
              "    monty_can_open = []\n",
              "    for door in doors:\n",
              "        if door != initial_choice and door != car_door:\n",
              "            monty_can_open.append(door)\n",
              "\n",
              "    # If the initial choice was the car door, Monty has two goat doors to choose from.\n",
              "    # If the initial choice was a goat door, Monty has only one goat door to choose from.\n",
              "    # This logic already handles both cases correctly.\n",
              "    monty_opens = random.choice(monty_can_open)\n",
              "\n",
              "\n",
              "    # Player decides whether to switch or stay\n",
              "    final_choice = -1\n",
              "    if switch_strategy:\n",
              "        # Switch to the remaining unopened door\n",
              "        for door in doors:\n",
              "            if door != initial_choice and door != monty_opens:\n",
              "                final_choice = door\n",
              "                break\n",
              "    else:\n",
              "        # Stay with the initial choice\n",
              "        final_choice = initial_choice\n",
              "\n",
              "    # Check if the player won\n",
              "    return final_choice == car_door\n",
              "\n",
              "# Number of trials\n",
              "num_trials = 1000\n",
              "\n",
              "# Counters for wins\n",
              "wins_stay = 0\n",
              "wins_switch = 0\n",
              "\n",
              "for _ in range(num_trials):\n",
              "    if run_monty_hall_trial(switch_strategy=False):\n",
              "        wins_stay += 1\n",
              "    if run_monty_hall_trial(switch_strategy=True):\n",
              "        wins_switch += 1\n",
              "\n",
              "# Calculate win percentages\n",
              "percentage_stay = (wins_stay / num_trials) * 100\n",
              "percentage_switch = (wins_switch / num_trials) * 100\n",
              "\n",
              "print(f\"Simulation Results over {num_trials} trials:\")\n",
              "print(f\"  Stay Strategy Wins: {wins_stay} ({percentage_stay:.2f}%)\")\n",
              "print(f\"  Switch Strategy Wins: {wins_switch} ({percentage_switch:.2f}%)\")\n",
              "\n",
              "if percentage_switch > percentage_stay:\n",
              "    print(\"\\nBased on this simulation, the 'Switch' strategy is the best strategy.\")\n",
              "elif percentage_stay > percentage_switch:\n",
              "    print(\"\\nBased on this simulation, the 'Stay' strategy is the best strategy.\")\n",
              "else:\n",
              "    print(\"\\nBased on this simulation, both strategies perform equally.\")</pre>"
            ],
            "text/plain": [
              "<IPython.core.display.HTML object>"
            ]
          },
          "metadata": {},
          "output_type": "display_data"
        },
        {
          "data": {
            "text/markdown": [
              "---"
            ],
            "text/plain": [
              "<IPython.core.display.Markdown object>"
            ]
          },
          "metadata": {},
          "output_type": "display_data"
        },
        {
          "data": {
            "text/markdown": [
              "Simulation Results over 1000 trials:\n",
              "  Stay Strategy Wins: 343 (34.30%)\n",
              "  Switch Strategy Wins: 691 (69.10%)\n",
              "\n",
              "Based on this simulation, the 'Switch' strategy is the best strategy.\n"
            ],
            "text/plain": [
              "<IPython.core.display.Markdown object>"
            ]
          },
          "metadata": {},
          "output_type": "display_data"
        },
        {
          "data": {
            "text/markdown": [
              "---"
            ],
            "text/plain": [
              "<IPython.core.display.Markdown object>"
            ]
          },
          "metadata": {},
          "output_type": "display_data"
        },
        {
          "data": {
            "text/markdown": [
              "The simulation results clearly demonstrate the advantage of the \"switch\" strategy in the Monty Hall Problem.\n",
              "\n",
              "Here's a summary of the findings from 1,000 trials:\n",
              "\n",
              "*   **Stay Strategy Wins:** 343 times (34.30%)\n",
              "*   **Switch Strategy Wins:** 691 times (69.10%)\n",
              "\n",
              "As you can see, the **\"Switch\" strategy resulted in winning approximately double the number of times compared to the \"Stay\" strategy.**\n",
              "\n",
              "### Why Switching is the Best Strategy:\n",
              "\n",
              "The simulation confirms what the mathematical solution shows:\n",
              "\n",
              "1.  **Your Initial Pick:** When you first choose a door, you have a `1/3` chance of picking the door with the car behind it, and a `2/3` chance of picking a door with a goat.\n",
              "\n",
              "2.  **Monty's Role:** Monty *always* opens a door that has a goat and is *not* your chosen door. This action provides crucial information.\n",
              "    *   **If you initially picked the car (1/3 probability):** Monty will open one of the two goat doors. If you switch, you'll switch to a goat and lose.\n",
              "    *   **If you initially picked a goat (2/3 probability):** Monty *must* open the *other* goat door. This means the remaining unopened door (the one you didn't pick and Monty didn't open) *must* have the car behind it. If you switch, you'll switch to the car and win.\n",
              "\n",
              "Since you are twice as likely to have initially picked a goat (2/3 chance) than the car (1/3 chance), switching your choice after Monty reveals a goat allows you to win in those 2/3 of scenarios where your initial guess was wrong. You're effectively betting on your initial pick being wrong, which it is most of the time!"
            ],
            "text/plain": [
              "<IPython.core.display.Markdown object>"
            ]
          },
          "metadata": {},
          "output_type": "display_data"
        },
        {
          "data": {
            "text/markdown": [
              "---"
            ],
            "text/plain": [
              "<IPython.core.display.Markdown object>"
            ]
          },
          "metadata": {},
          "output_type": "display_data"
        },
        {
          "name": "stdout",
          "output_type": "stream",
          "text": [
            "CPU times: user 112 ms, sys: 17.7 ms, total: 130 ms\n",
            "Wall time: 14.9 s\n"
          ]
        }
      ],
      "source": [
        "%%time\n",
        "\n",
        "prompt=\"\"\"\n",
        "    Run a simulation of the Monty Hall Problem with 1,000 trials.\n",
        "\n",
        "    The answer has always been a little difficult for me to understand when people\n",
        "    solve it with math - so run a simulation with Python to show me what the\n",
        "    best strategy is.\n",
        "\"\"\"\n",
        "result = client.models.generate_content(\n",
        "    model=MODEL_ID,\n",
        "    contents=[\n",
        "        prompt,\n",
        "        montey_hall_image\n",
        "    ],\n",
        "    config=types.GenerateContentConfig(\n",
        "        tools=[types.Tool(code_execution=types.ToolCodeExecution)]\n",
        "    )\n",
        ")\n",
        "\n",
        "display_code_execution_result(result)"
      ]
    },
    {
      "cell_type": "markdown",
      "metadata": {
        "id": "kd5Bpi6kInze"
      },
      "source": [
        "### Grounding information with Google Search\n",
        "\n",
        "The `google_search` tool allows Gemini models to access up-to-date information beyond their training data by querying Google Search. This significantly improves the accuracy and recency of responses, especially for questions about current events or highly specific topics. When enabled, the Gemini API can also return grounding sources and search suggestions.\n",
        "\n",
        "First, a prompt without Google Search grounding is sent. The model responds based on its internal knowledge, which might be outdated."
      ]
    },
    {
      "cell_type": "code",
      "execution_count": null,
      "metadata": {
        "id": "uR601hu8HQAr"
      },
      "outputs": [
        {
          "data": {
            "text/markdown": [
              "The latest match between Brazil and Argentina was on **November 21, 2023**, as part of the FIFA World Cup 2026 Qualifiers (CONMEBOL).\n",
              "\n",
              "The final score was:\n",
              "**Brazil 0 - 1 Argentina**"
            ],
            "text/plain": [
              "<IPython.core.display.Markdown object>"
            ]
          },
          "execution_count": 51,
          "metadata": {},
          "output_type": "execute_result"
        }
      ],
      "source": [
        "response = client.models.generate_content(\n",
        "    model=MODEL_ID,\n",
        "    contents=\"What was the final score of the latest Brasil vs. Argentina football game?\",\n",
        ")\n",
        "\n",
        "Markdown(response.text)"
      ]
    },
    {
      "cell_type": "markdown",
      "metadata": {
        "id": "SleTG3rlpqDX"
      },
      "source": [
        "Next, the same prompt is sent with the `google_search` tool enabled. This allows the model to perform a live search to retrieve the most current information."
      ]
    },
    {
      "cell_type": "code",
      "execution_count": null,
      "metadata": {
        "id": "9vkFZLzkIzeE"
      },
      "outputs": [
        {
          "data": {
            "text/markdown": [
              "Response:\n",
              " The latest football match between Brazil and Argentina took place on March 26, 2025, as part of the 2026 FIFA World Cup qualifiers. Argentina won the game with a final score of 4-1 against Brazil."
            ],
            "text/plain": [
              "<IPython.core.display.Markdown object>"
            ]
          },
          "metadata": {},
          "output_type": "display_data"
        },
        {
          "name": "stdout",
          "output_type": "stream",
          "text": [
            "\n",
            "\n",
            "Search Query: ['latest Brazil vs Argentina football game score', 'Brazil vs Argentina last match date and score']\n",
            "\n",
            "Search Pages: 365scores.com, 365scores.com, sofascore.com, thehindu.com, skysports.com\n",
            "\n"
          ]
        },
        {
          "data": {
            "text/html": [
              "<style>\n",
              ".container {\n",
              "  align-items: center;\n",
              "  border-radius: 8px;\n",
              "  display: flex;\n",
              "  font-family: Google Sans, Roboto, sans-serif;\n",
              "  font-size: 14px;\n",
              "  line-height: 20px;\n",
              "  padding: 8px 12px;\n",
              "}\n",
              ".chip {\n",
              "  display: inline-block;\n",
              "  border: solid 1px;\n",
              "  border-radius: 16px;\n",
              "  min-width: 14px;\n",
              "  padding: 5px 16px;\n",
              "  text-align: center;\n",
              "  user-select: none;\n",
              "  margin: 0 8px;\n",
              "  -webkit-tap-highlight-color: transparent;\n",
              "}\n",
              ".carousel {\n",
              "  overflow: auto;\n",
              "  scrollbar-width: none;\n",
              "  white-space: nowrap;\n",
              "  margin-right: -12px;\n",
              "}\n",
              ".headline {\n",
              "  display: flex;\n",
              "  margin-right: 4px;\n",
              "}\n",
              ".gradient-container {\n",
              "  position: relative;\n",
              "}\n",
              ".gradient {\n",
              "  position: absolute;\n",
              "  transform: translate(3px, -9px);\n",
              "  height: 36px;\n",
              "  width: 9px;\n",
              "}\n",
              "@media (prefers-color-scheme: light) {\n",
              "  .container {\n",
              "    background-color: #fafafa;\n",
              "    box-shadow: 0 0 0 1px #0000000f;\n",
              "  }\n",
              "  .headline-label {\n",
              "    color: #1f1f1f;\n",
              "  }\n",
              "  .chip {\n",
              "    background-color: #ffffff;\n",
              "    border-color: #d2d2d2;\n",
              "    color: #5e5e5e;\n",
              "    text-decoration: none;\n",
              "  }\n",
              "  .chip:hover {\n",
              "    background-color: #f2f2f2;\n",
              "  }\n",
              "  .chip:focus {\n",
              "    background-color: #f2f2f2;\n",
              "  }\n",
              "  .chip:active {\n",
              "    background-color: #d8d8d8;\n",
              "    border-color: #b6b6b6;\n",
              "  }\n",
              "  .logo-dark {\n",
              "    display: none;\n",
              "  }\n",
              "  .gradient {\n",
              "    background: linear-gradient(90deg, #fafafa 15%, #fafafa00 100%);\n",
              "  }\n",
              "}\n",
              "@media (prefers-color-scheme: dark) {\n",
              "  .container {\n",
              "    background-color: #1f1f1f;\n",
              "    box-shadow: 0 0 0 1px #ffffff26;\n",
              "  }\n",
              "  .headline-label {\n",
              "    color: #fff;\n",
              "  }\n",
              "  .chip {\n",
              "    background-color: #2c2c2c;\n",
              "    border-color: #3c4043;\n",
              "    color: #fff;\n",
              "    text-decoration: none;\n",
              "  }\n",
              "  .chip:hover {\n",
              "    background-color: #353536;\n",
              "  }\n",
              "  .chip:focus {\n",
              "    background-color: #353536;\n",
              "  }\n",
              "  .chip:active {\n",
              "    background-color: #464849;\n",
              "    border-color: #53575b;\n",
              "  }\n",
              "  .logo-light {\n",
              "    display: none;\n",
              "  }\n",
              "  .gradient {\n",
              "    background: linear-gradient(90deg, #1f1f1f 15%, #1f1f1f00 100%);\n",
              "  }\n",
              "}\n",
              "</style>\n",
              "<div class=\"container\">\n",
              "  <div class=\"headline\">\n",
              "    <svg class=\"logo-light\" width=\"18\" height=\"18\" viewBox=\"9 9 35 35\" fill=\"none\" xmlns=\"http://www.w3.org/2000/svg\">\n",
              "      <path fill-rule=\"evenodd\" clip-rule=\"evenodd\" d=\"M42.8622 27.0064C42.8622 25.7839 42.7525 24.6084 42.5487 23.4799H26.3109V30.1568H35.5897C35.1821 32.3041 33.9596 34.1222 32.1258 35.3448V39.6864H37.7213C40.9814 36.677 42.8622 32.2571 42.8622 27.0064V27.0064Z\" fill=\"#4285F4\"/>\n",
              "      <path fill-rule=\"evenodd\" clip-rule=\"evenodd\" d=\"M26.3109 43.8555C30.9659 43.8555 34.8687 42.3195 37.7213 39.6863L32.1258 35.3447C30.5898 36.3792 28.6306 37.0061 26.3109 37.0061C21.8282 37.0061 18.0195 33.9811 16.6559 29.906H10.9194V34.3573C13.7563 39.9841 19.5712 43.8555 26.3109 43.8555V43.8555Z\" fill=\"#34A853\"/>\n",
              "      <path fill-rule=\"evenodd\" clip-rule=\"evenodd\" d=\"M16.6559 29.8904C16.3111 28.8559 16.1074 27.7588 16.1074 26.6146C16.1074 25.4704 16.3111 24.3733 16.6559 23.3388V18.8875H10.9194C9.74388 21.2072 9.06992 23.8247 9.06992 26.6146C9.06992 29.4045 9.74388 32.022 10.9194 34.3417L15.3864 30.8621L16.6559 29.8904V29.8904Z\" fill=\"#FBBC05\"/>\n",
              "      <path fill-rule=\"evenodd\" clip-rule=\"evenodd\" d=\"M26.3109 16.2386C28.85 16.2386 31.107 17.1164 32.9095 18.8091L37.8466 13.8719C34.853 11.082 30.9659 9.3736 26.3109 9.3736C19.5712 9.3736 13.7563 13.245 10.9194 18.8875L16.6559 23.3388C18.0195 19.2636 21.8282 16.2386 26.3109 16.2386V16.2386Z\" fill=\"#EA4335\"/>\n",
              "    </svg>\n",
              "    <svg class=\"logo-dark\" width=\"18\" height=\"18\" viewBox=\"0 0 48 48\" xmlns=\"http://www.w3.org/2000/svg\">\n",
              "      <circle cx=\"24\" cy=\"23\" fill=\"#FFF\" r=\"22\"/>\n",
              "      <path d=\"M33.76 34.26c2.75-2.56 4.49-6.37 4.49-11.26 0-.89-.08-1.84-.29-3H24.01v5.99h8.03c-.4 2.02-1.5 3.56-3.07 4.56v.75l3.91 2.97h.88z\" fill=\"#4285F4\"/>\n",
              "      <path d=\"M15.58 25.77A8.845 8.845 0 0 0 24 31.86c1.92 0 3.62-.46 4.97-1.31l4.79 3.71C31.14 36.7 27.65 38 24 38c-5.93 0-11.01-3.4-13.45-8.36l.17-1.01 4.06-2.85h.8z\" fill=\"#34A853\"/>\n",
              "      <path d=\"M15.59 20.21a8.864 8.864 0 0 0 0 5.58l-5.03 3.86c-.98-2-1.53-4.25-1.53-6.64 0-2.39.55-4.64 1.53-6.64l1-.22 3.81 2.98.22 1.08z\" fill=\"#FBBC05\"/>\n",
              "      <path d=\"M24 14.14c2.11 0 4.02.75 5.52 1.98l4.36-4.36C31.22 9.43 27.81 8 24 8c-5.93 0-11.01 3.4-13.45 8.36l5.03 3.85A8.86 8.86 0 0 1 24 14.14z\" fill=\"#EA4335\"/>\n",
              "    </svg>\n",
              "    <div class=\"gradient-container\"><div class=\"gradient\"></div></div>\n",
              "  </div>\n",
              "  <div class=\"carousel\">\n",
              "    <a class=\"chip\" href=\"https://vertexaisearch.cloud.google.com/grounding-api-redirect/AbF9wXF-zvxNN3VRdxQrqO6AP_rCq57E5B0UAVJ1dER5uLvwlgQpyGjiYo9rd56e01cUgJdI8xJuLQq83f5z2eUOijA-oDFGoV32hUnM9JQD_OCsqsbdobeR3rMsNhunzjSbA_eAu-0HBiAi_XbqC8JUHwegaS3Jiv8dFc7VselrL2RD6bmVpelRRXtUSPjdtBt_IdpkWHvQDUQ4gViXxwaJLJwMIoCJdBtjOrze6o0=\">Brazil vs Argentina last match date and score</a>\n",
              "    <a class=\"chip\" href=\"https://vertexaisearch.cloud.google.com/grounding-api-redirect/AbF9wXEhF_dGRCTgW_L-CCunPPz9Nnkkp3ggnBm0_VdP8QzdXMhMjdv-WaplwgLznji5lba55A-dLTg3Gc0Z2PuL4izDo1KM-pAUOItGiYwq6J6NDLdV5TtPglbIW1bedv0XTg8xarYd0zhJsSKMLshCkzImsD6bBlNmsP5W17wSkPYbmb6rVg_REXT7xoOummPnkCHyH2Xzk4oePsDHETDi7LKSr45yNZI70hPxFeBc\">latest Brazil vs Argentina football game score</a>\n",
              "  </div>\n",
              "</div>\n"
            ],
            "text/plain": [
              "<IPython.core.display.HTML object>"
            ]
          },
          "metadata": {},
          "output_type": "display_data"
        }
      ],
      "source": [
        "response = client.models.generate_content(\n",
        "    model=MODEL_ID,\n",
        "    contents=\"What was the final score of the latest Brasil vs. Argentina football game?\",\n",
        "    config={\"tools\": [{\"google_search\": {}}]},\n",
        ")\n",
        "\n",
        "# print the response\n",
        "display(Markdown(f\"Response:\\n {response.text}\"))\n",
        "# print the search details\n",
        "print(f\"\\n\\nSearch Query: {response.candidates[0].grounding_metadata.web_search_queries}\", end=\"\\n\\n\")\n",
        "# urls used for grounding\n",
        "print(f\"Search Pages: {', '.join([site.web.title for site in response.candidates[0].grounding_metadata.grounding_chunks])}\", end=\"\\n\\n\")\n",
        "\n",
        "display(HTML(response.candidates[0].grounding_metadata.search_entry_point.rendered_content))"
      ]
    },
    {
      "cell_type": "markdown",
      "metadata": {
        "id": "m3p6A7lBKIPf"
      },
      "source": [
        "### Using Code Execution and Google Search grounding together\n",
        "\n",
        "The power of Gemini models is further amplified when multiple tools are used in conjunction. Here, both `code_execution` and `google_search` tools are enabled. This allows the model to search for information (e.g., about movies) and then use code to process and visualize that data (e.g., generate a chart based on movie durations)."
      ]
    },
    {
      "cell_type": "code",
      "execution_count": null,
      "metadata": {
        "id": "5xU2i2IlKLcV"
      },
      "outputs": [
        {
          "data": {
            "text/html": [
              "<pre style=\"background-color: green;\">concise_search(\"Daniel Villeneuve movies popularity duration\")\n",
              "</pre>"
            ],
            "text/plain": [
              "<IPython.core.display.HTML object>"
            ]
          },
          "metadata": {},
          "output_type": "display_data"
        },
        {
          "data": {
            "text/markdown": [
              "---"
            ],
            "text/plain": [
              "<IPython.core.display.Markdown object>"
            ]
          },
          "metadata": {},
          "output_type": "display_data"
        },
        {
          "data": {
            "text/markdown": [
              "Looking up information on Google Search.\n"
            ],
            "text/plain": [
              "<IPython.core.display.Markdown object>"
            ]
          },
          "metadata": {},
          "output_type": "display_data"
        },
        {
          "data": {
            "text/markdown": [
              "---"
            ],
            "text/plain": [
              "<IPython.core.display.Markdown object>"
            ]
          },
          "metadata": {},
          "output_type": "display_data"
        },
        {
          "data": {
            "text/html": [
              "<pre style=\"background-color: green;\">import matplotlib.pyplot as plt\n",
              "import random\n",
              "\n",
              "# Data for the top 10 Denis Villeneuve movies, ordered by duration\n",
              "movies_data = [\n",
              "    {\"name\": \"Polytechnique\", \"duration\": 77, \"popularity\": 72},\n",
              "    {\"name\": \"Maelstrom\", \"duration\": 87, \"popularity\": 67},\n",
              "    {\"name\": \"Enemy\", \"duration\": 90, \"popularity\": 73},\n",
              "    {\"name\": \"Arrival\", \"duration\": 116, \"popularity\": 81},\n",
              "    {\"name\": \"Sicario\", \"duration\": 121, \"popularity\": 82},\n",
              "    {\"name\": \"Incendies\", \"duration\": 130, \"popularity\": 80},\n",
              "    {\"name\": \"Prisoners\", \"duration\": 153, \"popularity\": 82},\n",
              "    {\"name\": \"Dune: Part One\", \"duration\": 155, \"popularity\": 80},\n",
              "    {\"name\": \"Blade Runner 2049\", \"duration\": 164, \"popularity\": 81},\n",
              "    {\"name\": \"Dune: Part Two\", \"duration\": 195, \"popularity\": 85}\n",
              "]\n",
              "\n",
              "# Extract names and durations for plotting\n",
              "movie_names = [movie['name'] for movie in movies_data]\n",
              "movie_durations = [movie['duration'] for movie in movies_data]\n",
              "\n",
              "# Generate a list of distinct colors\n",
              "colors = []\n",
              "for _ in range(len(movies_data)):\n",
              "    r = random.random()\n",
              "    g = random.random()\n",
              "    b = random.random()\n",
              "    colors.append((r, g, b))\n",
              "\n",
              "# Create the bar chart\n",
              "plt.figure(figsize=(12, 8))\n",
              "bars = plt.bar(movie_names, movie_durations, color=colors)\n",
              "\n",
              "# Add titles and labels\n",
              "plt.xlabel(\"Movie\")\n",
              "plt.ylabel(\"Duration (minutes)\")\n",
              "plt.title(\"Top-10 Denis Villeneuve Movies by Popularity, Ordered by Duration\")\n",
              "plt.xticks(rotation=45, ha=\"right\") # Rotate labels for better readability\n",
              "\n",
              "# Add tags on each bar\n",
              "for bar in bars:\n",
              "    yval = bar.get_height()\n",
              "    plt.text(bar.get_x() + bar.get_width()/2, yval + 2,\n",
              "             f\"{bar.get_height()} min\", ha='center', va='bottom', fontsize=9)\n",
              "    # Adding movie name below duration tag, can adjust position if needed\n",
              "    # plt.text(bar.get_x() + bar.get_width()/2, yval / 2,\n",
              "    #          f\"{movie_names[list(bars).index(bar)]}\", ha='center', va='center', fontsize=8, color='black', rotation=90)\n",
              "\n",
              "\n",
              "plt.tight_layout() # Adjust layout to prevent labels from overlapping\n",
              "plt.show()</pre>"
            ],
            "text/plain": [
              "<IPython.core.display.HTML object>"
            ]
          },
          "metadata": {},
          "output_type": "display_data"
        },
        {
          "data": {
            "text/markdown": [
              "---"
            ],
            "text/plain": [
              "<IPython.core.display.Markdown object>"
            ]
          },
          "metadata": {},
          "output_type": "display_data"
        },
        {
          "data": {
            "image/jpeg": "[encoded data removed]",
            "text/plain": [
              "<IPython.core.display.Image object>"
            ]
          },
          "metadata": {
            "image/png": {
              "width": 800
            }
          },
          "output_type": "display_data"
        },
        {
          "data": {
            "text/markdown": [
              "---"
            ],
            "text/plain": [
              "<IPython.core.display.Markdown object>"
            ]
          },
          "metadata": {},
          "output_type": "display_data"
        },
        {
          "data": {
            "text/markdown": [
              "The chart has been generated successfully. It displays the top 10 Denis Villeneuve movies (assuming \"Daniel\" was a typo), ordered by their duration, with each bar in a different color and labeled with the movie's duration in minutes. The movie names are on the x-axis, and duration is on the y-axis."
            ],
            "text/plain": [
              "<IPython.core.display.Markdown object>"
            ]
          },
          "metadata": {},
          "output_type": "display_data"
        },
        {
          "data": {
            "text/markdown": [
              "---"
            ],
            "text/plain": [
              "<IPython.core.display.Markdown object>"
            ]
          },
          "metadata": {},
          "output_type": "display_data"
        },
        {
          "data": {
            "text/markdown": [
              "The chart showing the top 10 Denis Villeneuve movies by popularity, ordered by duration, with each bar in a different color and labeled with the movie name and duration, has been successfully generated."
            ],
            "text/plain": [
              "<IPython.core.display.Markdown object>"
            ]
          },
          "metadata": {},
          "output_type": "display_data"
        },
        {
          "data": {
            "text/markdown": [
              "---"
            ],
            "text/plain": [
              "<IPython.core.display.Markdown object>"
            ]
          },
          "metadata": {},
          "output_type": "display_data"
        },
        {
          "name": "stdout",
          "output_type": "stream",
          "text": [
            "CPU times: user 156 ms, sys: 28.4 ms, total: 184 ms\n",
            "Wall time: 24.1 s\n"
          ]
        }
      ],
      "source": [
        "%%time\n",
        "\n",
        "prompt=\"\"\"\n",
        "    What are the top-10 Daniel Villeneuve movies by popularity?\n",
        "\n",
        "    generate a chart bars using matplotlib, ordering the movies by duration.\n",
        "    paint each bar in a different color.\n",
        "    include tags on each bar with movies names and its duration in minutes.\n",
        "\"\"\"\n",
        "result = client.models.generate_content(\n",
        "    model=MODEL_ID,\n",
        "    contents=[\n",
        "        prompt,\n",
        "        montey_hall_image\n",
        "    ],\n",
        "    config=types.GenerateContentConfig(\n",
        "        tools=[\n",
        "          types.Tool(code_execution=types.ToolCodeExecution),\n",
        "          types.Tool(google_search=types.GoogleSearch())\n",
        "        ]\n",
        "    )\n",
        ")\n",
        "\n",
        "display_code_execution_result(result)"
      ]
    },
    {
      "cell_type": "markdown",
      "metadata": {
        "id": "WYGJDfz6JU6L"
      },
      "source": [
        "### Grounding information with custom links (URL context)\n",
        "\n",
        "The `url_context` tool allows you to provide specific URLs as additional context for your prompt. The model can then retrieve content from these URLs and use it to inform its response, enabling tasks like summarizing documents, comparing information across multiple links, or analyzing content for specific purposes.\n",
        "\n",
        "First, a prompt is sent without the `url_context` tool. The model provides a general answer based on its training data."
      ]
    },
    {
      "cell_type": "code",
      "execution_count": null,
      "metadata": {
        "id": "jlPHHERFJgU4"
      },
      "outputs": [
        {
          "data": {
            "text/markdown": [
              "It seems there might be a slight misunderstanding in the naming conventions of Google's Gemini models. As of my last update, Google has *not* publicly released models named \"Gemini 2.0\" or \"Gemini 2.5\" as distinct, standalone public versions after Gemini 1.0.\n",
              "\n",
              "The key progression and major public releases have been:\n",
              "\n",
              "1.  **Gemini 1.0 Series:** This was the initial major public release (Ultra, Pro, Nano versions).\n",
              "2.  **Gemini 1.5 Series:** This is the significant leap forward, comprising **Gemini 1.5 Pro** and **Gemini 1.5 Flash**. These are the most advanced publicly available versions.\n",
              "\n",
              "Therefore, instead of comparing non-existent \"2.0\" and \"2.5\" models, I will compare the **Gemini 1.0 series** with **Gemini 1.5 Pro** and **Gemini 1.5 Flash**, as these represent the actual key differences in Google's publicly available Gemini lineup.\n",
              "\n",
              "Here's a breakdown and comparison:\n",
              "\n",
              "---\n",
              "\n",
              "### Understanding the Gemini Lineup\n",
              "\n",
              "*   **Gemini 1.0 (Series):** This was the foundational launch. It came in different sizes:\n",
              "    *   **Gemini Ultra:** The largest and most capable, designed for highly complex tasks.\n",
              "    *   **Gemini Pro:** A versatile model, optimized for a wide range of tasks and scalable applications.\n",
              "    *   **Gemini Nano:** Smaller, on-device models for mobile applications (Nano-1, Nano-2).\n",
              "*   **Gemini 1.5 Pro:** The next major evolution. It brought a massive leap in context window size and native multimodality, making it incredibly powerful for processing vast amounts of information. It also leverages a Mixture-of-Experts (MoE) architecture for efficiency.\n",
              "*   **Gemini 1.5 Flash:** A lighter, faster, and more cost-efficient version of 1.5 Pro. It retains the large context window but is optimized for high-volume, low-latency applications where speed and cost are critical.\n",
              "\n",
              "---\n",
              "\n",
              "### Key Differences Comparison Table\n",
              "\n",
              "| Feature                  | Gemini 1.0 (Series - e.g., Pro/Ultra)             | Gemini 1.5 Pro                                       | Gemini 1.5 Flash                                       |\n",
              "| :----------------------- | :------------------------------------------------ | :--------------------------------------------------- | :----------------------------------------------------- |\n",
              "| **Release Date**         | December 2023                                     | February 2024 (Preview), April 2024 (Wider Availability) | April 2024                                             |\n",
              "| **Primary Focus**        | General-purpose, multi-modal capabilities         | Massive context window, advanced reasoning, native multimodality | Speed, cost-efficiency, large context window           |\n",
              "| **Context Window Size**  | Up to 32K tokens (typical for high-end models)    | Up to 1 Million tokens (initial), 2 Million tokens (expanded) | Up to 1 Million tokens (initial), 2 Million tokens (expanded) |\n",
              "| **Multimodality**        | Good, but often involved separate processing for vision/audio inputs | Native and unified understanding of text, images, audio, and video directly | Native and unified understanding of text, images, audio, and video directly |\n",
              "| **Architecture**         | Standard transformer-based                        | Mixture-of-Experts (MoE) for efficiency and scaling | Mixture-of-Experts (MoE) for efficiency and scaling    |\n",
              "| **Performance/Speed**    | Excellent for its time                            | Significantly improved, more robust, precise reasoning | Fastest in the 1.5 series, optimized for throughput    |\n",
              "| **Cost**                 | Standard pricing for a flagship model             | Premium pricing reflecting advanced capabilities     | Most cost-effective of the 1.5 series                  |\n",
              "| **Ideal Use Cases**      | General AI applications, chatbots, content creation, coding, summarization | Deep analysis of vast documents/codebases/videos, complex reasoning, RAG systems, agents, long-form content generation | Real-time applications, high-volume chatbots, rapid summarization, data extraction, applications where speed and cost are paramount |\n",
              "| **Token Handling**       | Primarily text-focused, vision inputs handled separately | Can process entire video files (up to an hour) directly, huge codebases, multi-hour audio recordings | Same large context capabilities as Pro, but optimized for quicker processing of less complex long-form inputs |\n",
              "\n",
              "---\n",
              "\n",
              "In summary, the transition from Gemini 1.0 to the Gemini 1.5 series (Pro and Flash) represents a major leap, primarily driven by the unprecedented **context window size** and a more **native, unified understanding of multiple modalities**. Gemini 1.5 Pro is the powerhouse for complex, deep analysis, while Gemini 1.5 Flash offers similar large-context capabilities at a significantly faster and more affordable rate, making it ideal for scaling AI applications."
            ],
            "text/plain": [
              "<IPython.core.display.Markdown object>"
            ]
          },
          "execution_count": 54,
          "metadata": {},
          "output_type": "execute_result"
        }
      ],
      "source": [
        "prompt = \"\"\"\n",
        "what are the key differences between Gemini 1.5, Gemini 2.0 and Gemini 2.5\n",
        "models? Create a markdown table comparing the differences.\n",
        "\"\"\"\n",
        "\n",
        "response = client.models.generate_content(\n",
        "      contents=[prompt],\n",
        "      model=MODEL_ID,\n",
        ")\n",
        "\n",
        "Markdown(response.text)"
      ]
    },
    {
      "cell_type": "markdown",
      "metadata": {
        "id": "g9S2nrEXud-i"
      },
      "source": [
        "Next, the same prompt is sent, but this time with a specific URL enabled via `url_context`. This ensures the model's response is grounded in the information provided on that particular web page, leading to a more precise and contextually relevant answer."
      ]
    },
    {
      "cell_type": "code",
      "execution_count": null,
      "metadata": {
        "id": "qTW9DTJDI4ox"
      },
      "outputs": [
        {
          "data": {
            "text/markdown": [
              "The Gemini API offers various models across the 1.5, 2.0, and 2.5 generations, each optimized for different use cases and offering distinct capabilities. Here's a comparison of their key differences:\n",
              "\n",
              "| Model Variant                  | Optimized For                                                                       | Input(s)                            | Output(s)       | Input Token Limit | Output Token Limit | Key Capabilities                                                                                                                                                                                                                                                                      |\n",
              "| :----------------------------- | :---------------------------------------------------------------------------------- | :---------------------------------- | :-------------- | :---------------- | :----------------- | :-------------------------------------------------------------------------------------------------------------------------------------------------------------------------------------------------------------------------------------------------------------------- |\n",
              "| **Gemini 1.5 Flash**           | Fast and versatile performance across diverse tasks.                            | Audio, images, videos, and text     | Text            | 1,048,576         | 8,192              | System instructions, JSON mode, JSON schema, adjustable safety settings, caching, tuning, function calling, code execution.                                                                                                                                         |\n",
              "| **Gemini 1.5 Flash-8B**        | High volume and lower intelligence tasks.                                       | Audio, images, videos, and text     | Text            | 1,048,576         | 8,192              | System instructions, JSON mode, JSON schema, adjustable safety settings, caching, tuning, function calling, code execution.                                                                                                                                         |\n",
              "| **Gemini 1.5 Pro**             | Complex reasoning tasks requiring more intelligence; processing large amounts of data (2 hours video, 19 hours audio, 60k lines code, 2k pages text). | Audio, images, videos, and text     | Text            | 2,097,152         | 8,192              | System instructions, JSON mode, JSON schema, adjustable safety settings, caching, function calling, code execution.                                                                                                                                         |\n",
              "| **Gemini 2.0 Flash**           | Next-generation features, speed, thinking, and real-time streaming; native tool use. | Audio, images, videos, and text     | Text            | 1,048,576         | 8,192              | Structured outputs, caching, function calling, code execution, search, Live API, experimental thinking.                                                                                                                                                           |\n",
              "| **Gemini 2.0 Flash-Lite**      | Cost efficiency and low latency.                                                | Audio, images, videos, and text     | Text            | 1,048,576         | 8,192              | Structured outputs, caching, function calling.                                                                                                                                                                                                                    |\n",
              "| **Gemini 2.0 Flash Preview Image Generation** | Improved image generation features, conversational image generation and editing. | Audio, images, videos, and text     | Text, images    | 32,000            | 8,192              | Structured outputs, caching, image generation.                                                                                                                                                                                                                    |\n",
              "| **Gemini 2.0 Flash Live**      | Low-latency bidirectional voice and video interactions with Gemini.             | Audio, video, and text              | Text, audio     | 1,048,576         | 8,192              | Structured outputs, function calling, code execution, search, audio generation.                                                                                                                                                                                   |\n",
              "| **Gemini 2.5 Flash Preview**   | Best price-performance, well-rounded capabilities; adaptive thinking, cost efficiency. | Audio, images, videos, and text     | Text            | 1,048,576         | 65,536             | Caching, code execution, function calling, search grounding, structured outputs, thinking.                                                                                                                                                                        |\n",
              "| **Gemini 2.5 Pro Preview**     | Most powerful thinking model, maximum response accuracy, state-of-the-art performance; enhanced thinking and reasoning, multimodal understanding, advanced coding. | Audio, images, videos, and text     | Text            | 1,048,576         | 65,536             | Structured outputs, caching, function calling, code execution, search grounding, thinking.                                                                                                                                                                        |"
            ],
            "text/plain": [
              "<IPython.core.display.Markdown object>"
            ]
          },
          "metadata": {},
          "output_type": "display_data"
        }
      ],
      "source": [
        "prompt = \"\"\"\n",
        "based on https://ai.google.dev/gemini-api/docs/models, what are the key\n",
        "differences between Gemini 1.5, Gemini 2.0 and Gemini 2.5 models?\n",
        "Create a markdown table comparing the differences.\n",
        "\"\"\"\n",
        "\n",
        "tools = []\n",
        "tools.append(types.Tool(url_context=types.UrlContext))\n",
        "\n",
        "config = types.GenerateContentConfig(\n",
        "    tools=tools,\n",
        ")\n",
        "\n",
        "response = client.models.generate_content(\n",
        "      contents=[prompt],\n",
        "      model=MODEL_ID,\n",
        "      config=config\n",
        ")\n",
        "\n",
        "display(Markdown(response.text))"
      ]
    },
    {
      "cell_type": "markdown",
      "metadata": {
        "id": "SanmdurTuosS"
      },
      "source": [
        "This final example demonstrates comparing information from multiple provided URLs, showcasing the `url_context` tool's ability to synthesize data from several sources."
      ]
    },
    {
      "cell_type": "code",
      "execution_count": null,
      "metadata": {
        "id": "nmL2vdt6JjhW"
      },
      "outputs": [
        {
          "data": {
            "text/markdown": [
              "Here's a comparison of the two cream of broccoli soup recipes, highlighting their key differences:\n",
              "\n",
              "**1. Ingredients:**\n",
              "*   **Dairy Product:** The Food.com recipe uses 3/4 cup of half-and-half, while the Allrecipes recipe uses 2 cups of milk.\n",
              "*   **Additional Vegetable:** The Allrecipes recipe includes 1 stalk of chopped celery, which is absent in the Food.com recipe.\n",
              "*   **Broccoli Quantity:** Allrecipes calls for 8 cups of broccoli florets, significantly more than Food.com's 4 cups.\n",
              "*   **Broth Quantity:** The Food.com recipe uses 6 cups of chicken broth, whereas Allrecipes uses 3 cups.\n",
              "*   **Roux Proportions:** Food.com utilizes a larger amount of butter (6 tablespoons initially for the roux) and flour (2/3 cup) for thickening compared to Allrecipes (3 tablespoons butter and 3 tablespoons all-purpose flour for the roux).\n",
              "*   **Seasoning:** Food.com specifies 1 teaspoon salt and 1/4 teaspoon pepper, while Allrecipes lists \"ground black pepper to taste\" and no initial salt.\n",
              "\n",
              "**2. Preparation Method and Order of Thickening:**\n",
              "*   **Roux Preparation:** In the Food.com recipe, the initial roux (butter and flour) is made first, set aside, and then whisked into the boiling broth and vegetables later.\n",
              "*   **Roux Integration:** The Allrecipes recipe sautés onions and celery first, then adds broccoli and broth. A separate roux (butter, flour, and milk) is created and then added to the *puréed* soup.\n",
              "\n",
              "**3. Texture and Consistency:**\n",
              "*   **Puréeing:** The Allrecipes recipe explicitly instructs to purée the soup \"until smooth\" using a blender, resulting in a \"thick and velvety texture.\"\n",
              "*   **Chunkiness:** The Food.com recipe does not mention puréeing, implying a chunkier soup with visible \"bite sized\" broccoli florets.\n",
              "\n",
              "**4. Cooking Time:**\n",
              "*   The Food.com recipe states a \"Ready In: 1hr\" total time, with active cooking around 30 minutes.\n",
              "*   The Allrecipes recipe has a shorter stated total time of 35 minutes (10 minutes prep and 25 minutes cook time).\n",
              "\n",
              "**5. Servings:**\n",
              "*   The Food.com recipe yields 4-6 servings.\n",
              "*   The Allrecipes recipe yields 6 servings."
            ],
            "text/plain": [
              "<IPython.core.display.Markdown object>"
            ]
          },
          "execution_count": 56,
          "metadata": {},
          "output_type": "execute_result"
        }
      ],
      "source": [
        "prompt = \"\"\"\n",
        "Compare recipes from https://www.food.com/recipe/homemade-cream-of-broccoli-soup-271210\n",
        "and from https://www.allrecipes.com/recipe/13313/best-cream-of-broccoli-soup/,\n",
        "list the key differences between them.\n",
        "\"\"\"\n",
        "\n",
        "tools = []\n",
        "tools.append(types.Tool(url_context=types.UrlContext))\n",
        "\n",
        "client = genai.Client(api_key=GEMINI_API_KEY)\n",
        "config = types.GenerateContentConfig(\n",
        "    tools=tools,\n",
        ")\n",
        "\n",
        "response = client.models.generate_content(\n",
        "      contents=[prompt],\n",
        "      model=MODEL_ID,\n",
        "      config=config\n",
        ")\n",
        "\n",
        "Markdown(response.text)"
      ]
    },
    {
      "cell_type": "markdown",
      "metadata": {
        "id": "Pg5TyZSRbKby"
      },
      "source": [
        "## Using the Gemini models thinking capability\n",
        "\n",
        "The Gemini 2.5 series models incorporate an internal \"thinking process\" that significantly enhances their reasoning and multi-step planning abilities. This makes them highly effective for complex problems, allowing them to break down tasks and arrive at more accurate conclusions."
      ]
    },
    {
      "cell_type": "markdown",
      "metadata": {
        "id": "7TEDDTNMcRWY"
      },
      "source": [
        "### Select the thinking model you want to use\n",
        "\n",
        "The `gemini-2.5-flash` model supports the thinking capability, which is enabled by default for 2.5 series models. But for thinking experiments you can count on the more robust `gemini-2.5-pro` model too.\n",
        "\n",
        "**Note:** While `gemini-2.5-pro` is a thinking capable model too, the `thinking_budget` parameter is only available for the `gemini-2.5-flash` for now."
      ]
    },
    {
      "cell_type": "code",
      "execution_count": null,
      "metadata": {
        "id": "oe8BQX8kcViS"
      },
      "outputs": [],
      "source": [
        "MODEL_ID = \"gemini-2.5-flash\""
      ]
    },
    {
      "cell_type": "markdown",
      "metadata": {
        "id": "cokBErbubOqO"
      },
      "source": [
        "### Starting with adaptive thinking\n",
        "\n",
        "When using a Gemini 2.5 series model, thinking is enabled by default. The model dynamically adjusts its internal reasoning budget based on the complexity of the query, allowing it to solve problems that require multiple steps of thought."
      ]
    },
    {
      "cell_type": "code",
      "execution_count": null,
      "metadata": {
        "id": "Oq3d2DN6bMzG"
      },
      "outputs": [
        {
          "name": "stdout",
          "output_type": "stream",
          "text": [
            "CPU times: user 88.2 ms, sys: 7.7 ms, total: 95.9 ms\n",
            "Wall time: 13 s\n"
          ]
        },
        {
          "data": {
            "text/markdown": [
              "This is a fun one! Let's break down the clues:\n",
              "\n",
              "1.  **Aquatic Mammal:** Lives in water, breathes air, gives birth to live young, nurses young.\n",
              "2.  **Doesn't live in the sea:** Excludes most dolphins, whales, seals (except specific freshwater ones), manatees, dugongs. Focuses on freshwater.\n",
              "3.  **Smaller than a cat:** Excludes beavers, most otters (though some are cat-sized or slightly larger, and juveniles would fit), capybaras, hippos, freshwater dolphins, etc.\n",
              "\n",
              "Considering these clues, the most likely candidate is a **Muskrat**.\n",
              "\n",
              "Other possibilities, though perhaps less common in general knowledge or slightly less perfect fits:\n",
              "*   **Water Shrew:** Definitely smaller than a cat and aquatic/freshwater. However, they are insectivores, not what most people think of when they hear \"mammal\" in this context without more specific clues.\n",
              "*   **Platypus:** Fits all criteria (aquatic mammal, freshwater, smaller than a cat). However, its egg-laying nature makes it very unique, and it's geographically limited to Australia. In a general \"20 questions\" game, it's a specific guess.\n",
              "*   **Mink:** Semi-aquatic, freshwater, and definitely cat-sized or smaller. They are carnivorous, unlike muskrats.\n",
              "\n",
              "---\n",
              "\n",
              "### **How to Make Sure (Using 20 Questions Strategy):**\n",
              "\n",
              "Assuming you know the initial categories (aquatic mammal, freshwater, smaller than a cat), here's how you'd narrow it down:\n",
              "\n",
              "1.  **\"Does it primarily eat plants/vegetation?\"**\n",
              "    *   **If YES:** This strongly points to a **Muskrat**. (It rules out Water Shrew, Platypus, and Mink, which are all carnivores/insectivores).\n",
              "    *   **If NO:** It's carnivorous or insectivorous. Proceed to the next questions.\n",
              "\n",
              "2.  **\"Does it lay eggs?\"**\n",
              "    *   **If YES:** It's almost certainly a **Platypus**. (The only mammal that lays eggs).\n",
              "    *   **If NO:** It gives birth to live young. Proceed.\n",
              "\n",
              "3.  **\"Does it mainly eat insects, worms, and very small invertebrates?\"**\n",
              "    *   **If YES:** This suggests a **Water Shrew**. (They are very small and feed on tiny prey).\n",
              "    *   **If NO:** It eats larger prey, like fish, frogs, or crustaceans. Proceed.\n",
              "\n",
              "4.  **\"Is it a skilled predator that hunts fish, frogs, and other small animals?\"**\n",
              "    *   **If YES:** This points towards a **Mink**. (They are sleek, aggressive predators).\n",
              "    *   **If NO:** (This answer is unlikely if you've eliminated the above, as these are the main smaller freshwater aquatic mammals).\n",
              "\n",
              "---\n",
              "\n",
              "**Summary of Confirmation Questions (Assuming the person you're asking already confirmed the initial criteria):**\n",
              "\n",
              "*   **Is it primarily herbivorous?** (Yes = Muskrat, No = proceed)\n",
              "*   **Does it lay eggs?** (Yes = Platypus, No = proceed)\n",
              "*   **Does it primarily eat insects and very small invertebrates?** (Yes = Water Shrew, No = proceed)\n",
              "*   **Is it a predator known for hunting larger prey like fish and frogs?** (Yes = Mink)\n",
              "\n",
              "By asking these targeted questions, you can efficiently narrow down the possibilities to the correct animal."
            ],
            "text/plain": [
              "<IPython.core.display.Markdown object>"
            ]
          },
          "execution_count": 58,
          "metadata": {},
          "output_type": "execute_result"
        }
      ],
      "source": [
        "%%time\n",
        "\n",
        "prompt = \"\"\"\n",
        "    You are playing the 20 question game. You know that what you are looking for\n",
        "    is a aquatic mammal that doesn't live in the sea, and that's smaller than a\n",
        "    cat. What could that be and how could you make sure?\n",
        "\"\"\"\n",
        "\n",
        "response = client.models.generate_content(\n",
        "    model=MODEL_ID,\n",
        "    contents=prompt\n",
        ")\n",
        "\n",
        "Markdown(response.text)"
      ]
    },
    {
      "cell_type": "markdown",
      "metadata": {
        "id": "sHiI7KZUvtnz"
      },
      "source": [
        "The `usage_metadata` provides insights into the token counts for the prompt, internal thoughts, and the final output, helping to understand the computational effort involved in the model's reasoning process."
      ]
    },
    {
      "cell_type": "code",
      "execution_count": null,
      "metadata": {
        "id": "Smg9TadKbi87"
      },
      "outputs": [
        {
          "name": "stdout",
          "output_type": "stream",
          "text": [
            "Prompt tokens: 59\n",
            "Thoughts tokens: 1696\n",
            "Output tokens: 766\n",
            "Total tokens: 2521\n"
          ]
        }
      ],
      "source": [
        "print(\"Prompt tokens:\",response.usage_metadata.prompt_token_count)\n",
        "print(\"Thoughts tokens:\",response.usage_metadata.thoughts_token_count)\n",
        "print(\"Output tokens:\",response.usage_metadata.candidates_token_count)\n",
        "print(\"Total tokens:\",response.usage_metadata.total_token_count)"
      ]
    },
    {
      "cell_type": "markdown",
      "metadata": {
        "id": "jYQkZYMsbrl1"
      },
      "source": [
        "### Disabling thinking using the `thinking_budget` parameter\n",
        "\n",
        "While thinking is powerful, for straightforward tasks where complex reasoning isn't required, you can disable it by setting `thinking_budget` to `0`. This can potentially reduce latency and cost for simpler queries."
      ]
    },
    {
      "cell_type": "code",
      "execution_count": null,
      "metadata": {
        "id": "BDqBL8Jnbvm5"
      },
      "outputs": [
        {
          "name": "stdout",
          "output_type": "stream",
          "text": [
            "CPU times: user 45.7 ms, sys: 4.32 ms, total: 50 ms\n",
            "Wall time: 7.94 s\n"
          ]
        },
        {
          "data": {
            "text/markdown": [
              "This is a fun riddle! Based on your description:\n",
              "\n",
              "*   **Aquatic mammal:** Needs to spend significant time in water and be a mammal.\n",
              "*   **Doesn't live in the sea:** Rules out dolphins, whales, most seals, manatees, etc.\n",
              "*   **Smaller than a cat:** This is the key distinguishing factor.\n",
              "\n",
              "The animal that fits all these criteria is a **River Otter (or even a North American River Otter specifically)**.\n",
              "\n",
              "**How could you make sure during a 20 questions game?**\n",
              "\n",
              "Here's how you could ask questions to confirm, assuming you're playing the \"yes/no\" version of 20 questions:\n",
              "\n",
              "1.  **\"Is it a mammal?\"** (Yes) - Establishes it's warm-blooded, has fur/hair, gives live birth, nurses young.\n",
              "2.  **\"Does it spend most of its life in water?\"** (Yes) - Confirms \"aquatic.\"\n",
              "3.  **\"Does it live in the ocean?\"** (No) - Rules out marine mammals.\n",
              "4.  **\"Does it live in freshwater, like rivers or lakes?\"** (Yes) - Further narrows down its habitat.\n",
              "5.  **\"Is it smaller than a domestic cat?\"** (Yes) - This is the crucial question. While some otters can be cat-sized or slightly larger, a *young* river otter or a *very small species* of otter might fit this, but generally, adults are often bigger than a cat. This is where the riddle gets tricky.\n",
              "\n",
              "Let's re-evaluate the \"smaller than a cat\" constraint. An adult river otter is typically **larger** than a domestic cat (often 10-30 lbs vs. 7-15 lbs for a cat). This makes a river otter a *less perfect* fit for the \"smaller than a cat\" constraint.\n",
              "\n",
              "**Let's rethink based on \"smaller than a cat\":**\n",
              "\n",
              "If an adult river otter is generally *larger* than a cat, then a river otter doesn't perfectly fit \"smaller than a cat.\"\n",
              "\n",
              "Is there any other aquatic mammal that doesn't live in the sea and is smaller than a cat?\n",
              "\n",
              "*   **Muskrat:** An aquatic rodent. While often mistaken for mammals, they are *rodents*, not strictly \"mammals\" in the way one might think of a common \"mammal\" like an otter or a seal. But technically, rodents *are* mammals. They are typically smaller than a cat. They live in freshwater.\n",
              "*   **Water Shrew:** Very small aquatic mammal, but often insectivorous and not what most people imagine as a \"mammal\" in the same vein as an otter or beaver. Definitely smaller than a cat.\n",
              "*   **Some species of Vole (e.g., Water Vole):** Similar to a large mouse, definitely smaller than a cat, aquatic.\n",
              "\n",
              "**The most likely answer given the \"aquatic mammal\" feel is still an otter, but perhaps a *very young* otter, or it forces us to consider smaller, less \"charismatic\" aquatic mammals.**\n",
              "\n",
              "**Let's assume the spirit of the game leans towards a more commonly known aquatic mammal.**\n",
              "\n",
              "If I had to pick one that comes closest, even with the size caveat:\n",
              "\n",
              "**What could it be:** A **River Otter (specifically a young one)** or potentially a **Muskrat**.\n",
              "\n",
              "**How to make sure (adjusting for the size challenge):**\n",
              "\n",
              "If we're *really* sticking to \"smaller than a cat\" for an adult, a **Muskrat** or a **Water Shrew** are better fits for size.\n",
              "\n",
              "**Let's assume the question implies a common perception of \"aquatic mammal\" and might stretch the size definition slightly for otters, or it's a trick question.**\n",
              "\n",
              "**Option 1: Going for the most \"obvious\" aquatic mammal, acknowledging the size stretch.**\n",
              "\n",
              "*   **Guess:** A **River Otter**\n",
              "*   **How to confirm (in 20 questions):**\n",
              "    1.  \"Is it a mammal?\" (Yes)\n",
              "    2.  \"Does it primarily live in water?\" (Yes)\n",
              "    3.  \"Does it live in the ocean?\" (No)\n",
              "    4.  \"Does it live in freshwater, like rivers or lakes?\" (Yes)\n",
              "    5.  \"Does it primarily eat fish?\" (Yes - common otter diet)\n",
              "    6.  \"Is it known for being playful?\" (Yes - common otter trait)\n",
              "    7.  \"Is it smaller than a large dog but bigger than a rabbit?\" (This might be the way to get at size without directly hitting the \"smaller than a cat\" issue head-on if it's borderline, or if you suspect it's a young one.)\n",
              "\n",
              "**Option 2: Sticking strictly to \"smaller than a cat\" and considering other options.**\n",
              "\n",
              "*   **Guess:** A **Muskrat**\n",
              "*   **How to confirm:**\n",
              "    1.  \"Is it a mammal?\" (Yes)\n",
              "    2.  \"Does it primarily live in water?\" (Yes)\n",
              "    3.  \"Does it live in the ocean?\" (No)\n",
              "    4.  \"Does it live in freshwater, like rivers or lakes?\" (Yes)\n",
              "    5.  \"Is it a rodent?\" (Yes - this would narrow it down significantly from otters)\n",
              "    6.  \"Is it typically smaller than a domestic cat?\" (Yes)\n",
              "    7.  \"Does it build lodges out of vegetation?\" (Yes - characteristic of muskrats)\n",
              "\n",
              "Given the ambiguity of \"aquatic mammal\" (does it include rodents like muskrats or just carnivores like otters?) and the specific size constraint, I'd lean towards **Muskrat** if the \"smaller than a cat\" is *absolute*. If \"aquatic mammal\" strongly implies something otter-like, then the riddle is slightly flawed on size, or it's referring to a very young otter.\n",
              "\n",
              "However, in a game of 20 questions, people often think of otters when they hear \"aquatic mammal.\" So, my primary guess would be **River Otter**, but I'd be ready to adjust based on size questions. If the size question led to \"No,\" I'd then pivot to thinking about muskrats or water shrews."
            ],
            "text/plain": [
              "<IPython.core.display.Markdown object>"
            ]
          },
          "execution_count": 60,
          "metadata": {},
          "output_type": "execute_result"
        }
      ],
      "source": [
        "%%time\n",
        "\n",
        "prompt = \"\"\"\n",
        "    You are playing the 20 question game. You know that what you are looking for\n",
        "    is a aquatic mammal that doesn't live in the sea, and that's smaller than a\n",
        "    cat. What could that be and how could you make sure?\n",
        "\"\"\"\n",
        "\n",
        "response = client.models.generate_content(\n",
        "  model=MODEL_ID,\n",
        "  contents=prompt,\n",
        "  config=types.GenerateContentConfig(\n",
        "    thinking_config=types.ThinkingConfig(\n",
        "      thinking_budget=0\n",
        "    )\n",
        "  )\n",
        ")\n",
        "\n",
        "Markdown(response.text)"
      ]
    },
    {
      "cell_type": "markdown",
      "metadata": {
        "id": "0XRteO4Jv6i4"
      },
      "source": [
        "Observing the token counts again will show that `thoughts_token_count` is now zero, indicating that the thinking process was disabled."
      ]
    },
    {
      "cell_type": "code",
      "execution_count": null,
      "metadata": {
        "id": "CZn0S6XWb7yu"
      },
      "outputs": [
        {
          "name": "stdout",
          "output_type": "stream",
          "text": [
            "Prompt tokens: 59\n",
            "Thoughts tokens: None\n",
            "Output tokens: 1369\n",
            "Total tokens: 1428\n"
          ]
        }
      ],
      "source": [
        "print(\"Prompt tokens:\",response.usage_metadata.prompt_token_count)\n",
        "print(\"Thoughts tokens:\",response.usage_metadata.thoughts_token_count)\n",
        "print(\"Output tokens:\",response.usage_metadata.candidates_token_count)\n",
        "print(\"Total tokens:\",response.usage_metadata.total_token_count)"
      ]
    },
    {
      "cell_type": "markdown",
      "metadata": {
        "id": "8Tm_Knh3cByv"
      },
      "source": [
        "### Multimodal interactions with thinking\n",
        "\n",
        "Gemini's thinking capabilities extend to multimodal inputs. This example demonstrates providing an image along with a complex problem (a riddle about pool balls). The model uses its reasoning abilities, potentially with a higher `thinking_budget`, to solve the problem presented visually."
      ]
    },
    {
      "cell_type": "code",
      "execution_count": null,
      "metadata": {
        "id": "PoRxQC_hcccG"
      },
      "outputs": [
        {
          "data": {
            "image/jpeg": "[encoded data removed]",
            "text/plain": [
              "<PIL.Image.Image image mode=RGBA size=256x256>"
            ]
          },
          "execution_count": 62,
          "metadata": {},
          "output_type": "execute_result"
        }
      ],
      "source": [
        "from PIL import Image\n",
        "\n",
        "!wget https://storage.googleapis.com/generativeai-downloads/images/pool.png -O pool.png -q\n",
        "\n",
        "im = Image.open(\"pool.png\").resize((256,256))\n",
        "im"
      ]
    },
    {
      "cell_type": "markdown",
      "metadata": {
        "id": "Lq5YznzQwE-V"
      },
      "source": [
        "The model receives the image and the prompt, then uses its thinking process to attempt to solve the riddle."
      ]
    },
    {
      "cell_type": "code",
      "execution_count": null,
      "metadata": {
        "id": "fU7tbq44cxq6"
      },
      "outputs": [
        {
          "data": {
            "text/markdown": [
              "This is a classic trick!\n",
              "\n",
              "You can sum up to 30 by:\n",
              "\n",
              "1.  Taking the **9-ball** and flipping it upside down to make it a **6**.\n",
              "2.  Then, use the **6-ball**, the **11-ball**, and the **13-ball**.\n",
              "\n",
              "**6 + 11 + 13 = 30**"
            ],
            "text/plain": [
              "<IPython.core.display.Markdown object>"
            ]
          },
          "execution_count": 63,
          "metadata": {},
          "output_type": "execute_result"
        }
      ],
      "source": [
        "response = client.models.generate_content(\n",
        "    model=MODEL_ID,\n",
        "    contents=[\n",
        "        im,\n",
        "        \"How do I use those three pool balls to sum up to 30?\"\n",
        "    ],\n",
        "    config=types.GenerateContentConfig(\n",
        "        thinking_config=types.ThinkingConfig(\n",
        "            thinking_budget=10240\n",
        "        )\n",
        "    )\n",
        ")\n",
        "\n",
        "Markdown(response.text)"
      ]
    },
    {
      "cell_type": "markdown",
      "metadata": {
        "id": "QLBrXhbgc3JC"
      },
      "source": [
        "### Working with thinking process summaries\n",
        "\n",
        "For complex tasks, understanding the model's internal reasoning process can be crucial for debugging or verifying its approach. The `include_thoughts` parameter allows you to retrieve thought summaries, which provide insights into the steps the model took to arrive at its answer."
      ]
    },
    {
      "cell_type": "code",
      "execution_count": null,
      "metadata": {
        "id": "Y_-HEsWxc7rV"
      },
      "outputs": [
        {
          "name": "stdout",
          "output_type": "stream",
          "text": [
            "CPU times: user 308 ms, sys: 37.1 ms, total: 345 ms\n",
            "Wall time: 1min\n"
          ]
        }
      ],
      "source": [
        "%%time\n",
        "\n",
        "prompt = \"\"\"\n",
        "  Alice, Bob, and Carol each live in a different house on the same street: red, green, and blue.\n",
        "  The person who lives in the red house owns a cat.\n",
        "  Bob does not live in the green house.\n",
        "  Carol owns a dog.\n",
        "  The green house is to the left of the red house.\n",
        "  Alice does not own a cat.\n",
        "  Who lives in each house, and what pet do they own?\n",
        "\"\"\"\n",
        "\n",
        "response = client.models.generate_content(\n",
        "  model=MODEL_ID,\n",
        "  contents=prompt,\n",
        "  config=types.GenerateContentConfig(\n",
        "    thinking_config=types.ThinkingConfig(\n",
        "        thinking_budget=24576,\n",
        "        include_thoughts=True\n",
        "    )\n",
        "  )\n",
        ")"
      ]
    },
    {
      "cell_type": "markdown",
      "metadata": {
        "id": "Fy_CXn7NwOjK"
      },
      "source": [
        "The output will separate the model's internal thoughts (reasoning steps) from its final answer."
      ]
    },
    {
      "cell_type": "code",
      "execution_count": null,
      "metadata": {
        "id": "BvsYxYm_dAND"
      },
      "outputs": [
        {
          "data": {
            "text/markdown": [
              "## **Thoughts summary:**"
            ],
            "text/plain": [
              "<IPython.core.display.Markdown object>"
            ]
          },
          "metadata": {},
          "output_type": "display_data"
        },
        {
          "data": {
            "text/markdown": [
              "**Logical Puzzle Solution Process**\n",
              "\n",
              "Okay, here's my breakdown of this logic puzzle. My goal is to determine who lives in each house (Red, Green, Blue) and the pet they own. \n",
              "\n",
              "1.  **Understand the Problem:** I need to figure out who lives in which house and their pet. It's a classic grid logic puzzle.\n",
              "\n",
              "2.  **Define the Elements:** I'm dealing with three people (Alice, Bob, Carol), three houses (Red, Green, Blue), and two specific pets (Cat, Dog - but the implication of \"no pet\" for someone is relevant).\n",
              "\n",
              "3.  **Set Up the Structure:** A table is perfect for these. It allows me to easily track the connections:\n",
              "\n",
              "    | Person | House | Pet |\n",
              "    |--------|-------|-----|\n",
              "    | Alice  |       |     |\n",
              "    | Bob    |       |     |\n",
              "    | Carol  |       |     |\n",
              "\n",
              "4.  **Process the Clues:** I'll take each clue and write down what I can deduce.\n",
              "    *   **Clue 1:** Basic setup.\n",
              "    *   **Clue 2: \"The person who lives in the red house owns a cat.\"**  So, Red House = Cat.\n",
              "    *   **Clue 3: \"Bob does not live in the green house.\"** Bob != Green.\n",
              "    *   **Clue 4: \"Carol owns a dog.\"** Carol = Dog.\n",
              "    *   **Clue 5: \"The green house is to the left of the red house.\"** Green < Red. This establishes order, though not necessarily immediate adjacency. So, Green could be on the left, then another house, then Red. Or Green could be to the immediate left of Red. The clue is about the relative position.\n",
              "    *   **Clue 6: \"Alice does not own a cat.\"** Alice != Cat.\n",
              "\n",
              "5.  **Deductions and Combining:** Now I'm going to start combining the clues and seeing what falls out:\n",
              "    *   From Clue 2 and 6: Red House = Cat, Alice != Cat. Therefore, **Alice does NOT live in the Red house.**\n",
              "    *   From Clue 4 and 2: Carol = Dog, Red House = Cat. Therefore, **Carol does NOT live in the Red house.**\n",
              "    *   With Alice and Carol not in Red, **Bob MUST live in the Red house.**\n",
              "    *   Because Red is Bob's house, and the Red house has a cat, **Bob owns the cat.**\n",
              "    *   The Green house is to the left of the Red house, so the house order is established.\n",
              "    *   The possible house order can be deduced.\n",
              "    *   The Green is to the left of the Red house, so the house is positioned in the order with \"G,B,R\" or \"B,G,R\".\n",
              "    *   We know that Bob is in Red. Bob owns a Cat.\n",
              "    *   Carol owns a Dog.\n",
              "    *   Alice doesn't own a Cat. So Alice has no pet.\n",
              "    *   So, that means Carol and Alice will be either Green or Blue.\n",
              "    *   The solutions can either be:\n",
              "        *   Carol is in the Green house and Alice is in the Blue house.\n",
              "        *   Alice is in the Green house and Carol is in the Blue house.\n",
              "\n",
              "6.  **I Cannot Decide Between the Last Two:** I have tried, but there is nothing to distinguish. The puzzle, given the clues, allows for two possible valid solutions.\n",
              "\n",
              "**Final Summary:**\n",
              "\n",
              "*   Bob lives in the Red house and owns a cat.\n",
              "*   Alice lives in either the Green house (with no pet) and Carol in the Blue house (with a dog), OR Alice in the Blue house (with no pet) and Carol in the Green house (with a dog). I can't determine which.\n"
            ],
            "text/plain": [
              "<IPython.core.display.Markdown object>"
            ]
          },
          "metadata": {},
          "output_type": "display_data"
        },
        {
          "name": "stdout",
          "output_type": "stream",
          "text": [
            "\n"
          ]
        },
        {
          "data": {
            "text/markdown": [
              "## **Answer:**"
            ],
            "text/plain": [
              "<IPython.core.display.Markdown object>"
            ]
          },
          "metadata": {},
          "output_type": "display_data"
        },
        {
          "data": {
            "text/markdown": [
              "Let's break down the clues to solve this logic puzzle step by step:\n",
              "\n",
              "**1. Set up the knowns:**\n",
              "\n",
              "*   **People:** Alice, Bob, Carol\n",
              "*   **Houses:** Red, Green, Blue\n",
              "*   **Pets:** Cat, Dog (and possibly \"none\" or another unmentioned pet)\n",
              "\n",
              "**2. Deduce from the clues:**\n",
              "\n",
              "*   **Clue:** \"The person who lives in the red house owns a cat.\"\n",
              "    *   `Red House -> Cat`\n",
              "\n",
              "*   **Clue:** \"Carol owns a dog.\"\n",
              "    *   `Carol -> Dog`\n",
              "    *   Since the Red house owner has a cat, and Carol has a dog, **Carol does not live in the Red house.**\n",
              "\n",
              "*   **Clue:** \"Alice does not own a cat.\"\n",
              "    *   `Alice != Cat`\n",
              "    *   Since the Red house owner has a cat, **Alice does not live in the Red house.**\n",
              "\n",
              "*   **Deduction from above:** We know Alice doesn't live in the Red house, and Carol doesn't live in the Red house. Since there are only three people and three houses, **Bob must live in the Red house.**\n",
              "\n",
              "*   **Combine Bob's house with the pet clue:**\n",
              "    *   Bob lives in the Red house.\n",
              "    *   The Red house owner owns a cat.\n",
              "    *   Therefore, **Bob owns a cat.**\n",
              "\n",
              "*   **Check \"Bob does not live in the green house.\"**\n",
              "    *   This is consistent with our deduction that Bob lives in the Red house.\n",
              "\n",
              "*   **Summary of certain facts:**\n",
              "    *   **Bob lives in the Red house and owns a cat.**\n",
              "    *   **Carol owns a dog.** (And thus Carol is not in the Red house).\n",
              "    *   **Alice does not own a cat.** (And thus Alice is not in the Red house).\n",
              "\n",
              "*   **Deduction about Alice's pet:**\n",
              "    *   Bob owns the cat. Carol owns the dog. Alice doesn't own a cat. Since Carol has the only dog mentioned, Alice cannot own a dog either if pets are unique. The most reasonable inference is that **Alice does not own a pet** (or owns a pet not mentioned in the puzzle, like a fish, but \"no pet\" is typical for these puzzles if not specified).\n",
              "\n",
              "*   **Remaining People and Houses:**\n",
              "    *   People left: Alice, Carol\n",
              "    *   Houses left: Green, Blue\n",
              "\n",
              "*   **Clue:** \"The green house is to the left of the red house.\"\n",
              "    *   This tells us the relative order of the houses. Since Bob lives in the Red house, the Green house is to the left of Bob's house.\n",
              "    *   Possible house arrangements (Left to Right):\n",
              "        1.  Green, Blue, Red\n",
              "        2.  Blue, Green, Red\n",
              "        3.  Green, Red, Blue (Blue to the right of Red)\n",
              "\n",
              "**3. Resolving the remaining ambiguity:**\n",
              "\n",
              "At this point, we know:\n",
              "*   Bob lives in the Red house and owns a cat.\n",
              "*   Carol owns a dog.\n",
              "*   Alice does not own a cat (and likely has no pet).\n",
              "*   Alice and Carol live in the Green and Blue houses.\n",
              "\n",
              "However, there is **no specific clue** that tells us whether Alice lives in the Green house and Carol in the Blue, or vice-versa. Both scenarios are consistent with all given information. The positional clue \"Green house is to the left of Red house\" only determines the relative placement of the *houses*, not which specific person lives in which of the remaining houses.\n",
              "\n",
              "Therefore, the puzzle has two possible solutions for Alice and Carol's assignments:\n",
              "\n",
              "**Solution 1:**\n",
              "\n",
              "*   **Bob** lives in the **Red** house and owns a **cat**.\n",
              "*   **Alice** lives in the **Green** house and owns **no pet** (or an unmentioned pet).\n",
              "*   **Carol** lives in the **Blue** house and owns a **dog**.\n",
              "    *(In this solution, the house order could be Green, Blue, Red; or Blue, Green, Red; or Green, Red, Blue - the specific order doesn't resolve who lives in Green vs Blue among Alice/Carol)*\n",
              "\n",
              "**Solution 2:**\n",
              "\n",
              "*   **Bob** lives in the **Red** house and owns a **cat**.\n",
              "*   **Carol** lives in the **Green** house and owns a **dog**.\n",
              "*   **Alice** lives in the **Blue** house and owns **no pet** (or an unmentioned pet).\n",
              "    *(Similar to Solution 1, the specific house order doesn't resolve who lives in Green vs Blue among Alice/Carol)*\n",
              "\n",
              "Given the phrasing of the puzzle, it implies a unique solution. If there were another constraint, it would typically be:\n",
              "*   \"The Green house has a dog.\" (Would force Carol to live in Green, leading to Solution 2)\n",
              "*   \"The Blue house has a dog.\" (Would force Carol to live in Blue, leading to Solution 1)\n",
              "*   Or a similar constraint for Alice or her lack of pet.\n",
              "\n",
              "Without such a clue, both Solution 1 and Solution 2 are equally valid. However, in most logic puzzles of this type, the expectation is a single, unique answer. If I were forced to choose, I would highlight the ambiguity. If such puzzles typically omit a pet for one person, Alice having \"no pet\" is the strongest inference for her.\n",
              "\n",
              "Let's present the most certain parts and acknowledge the ambiguity for Alice and Carol.\n",
              "\n",
              "---\n",
              "\n",
              "**Confirmed Answer:**\n",
              "\n",
              "*   **Bob** lives in the **Red house** and owns a **cat**.\n",
              "\n",
              "**Possible Scenarios for Alice and Carol:**\n",
              "\n",
              "**Scenario A:**\n",
              "*   **Alice** lives in the **Green house** and owns **no pet**.\n",
              "*   **Carol** lives in the **Blue house** and owns a **dog**.\n",
              "\n",
              "**Scenario B:**\n",
              "*   **Carol** lives in the **Green house** and owns a **dog**.\n",
              "*   **Alice** lives in the **Blue house** and owns **no pet**.\n",
              "\n",
              "Both scenarios satisfy all given clues. The house order is not uniquely determined beyond the Green house being to the left of the Red house (e.g., Green-Blue-Red or Blue-Green-Red). However, this positional information does not resolve the placement of Alice and Carol in the Green and Blue houses."
            ],
            "text/plain": [
              "<IPython.core.display.Markdown object>"
            ]
          },
          "metadata": {},
          "output_type": "display_data"
        }
      ],
      "source": [
        "for part in response.candidates[0].content.parts:\n",
        "  if not part.text:\n",
        "    continue\n",
        "  elif part.thought:\n",
        "    display(Markdown(\"## **Thoughts summary:**\"))\n",
        "    display(Markdown(part.text))\n",
        "    print()\n",
        "  else:\n",
        "    display(Markdown(\"## **Answer:**\"))\n",
        "    display(Markdown(part.text))"
      ]
    },
    {
      "cell_type": "markdown",
      "metadata": {
        "id": "s_ea1uudM7sb"
      },
      "source": [
        "## Building one agentic solution\n",
        "\n",
        "This section introduces the concept of building agentic solutions using the Google Agent Development Kit (ADK). An agent is a system that can reason, plan, and use tools to achieve a goal. Here, we define a multi-agent system consisting of a coordinator and specialized sub-agents for academic research.\n",
        "\n",
        "First, the `google-adk` library is installed."
      ]
    },
    {
      "cell_type": "code",
      "execution_count": null,
      "metadata": {
        "id": "wlnNDXOsJy35"
      },
      "outputs": [
        {
          "name": "stdout",
          "output_type": "stream",
          "text": [
            "\u001b[?25l   \u001b[90m━━━━━━━━━━━━━━━━━━━━━━━━━━━━━━━━━━━━━━━━\u001b[0m \u001b[32m0.0/1.2 MB\u001b[0m \u001b[31m?\u001b[0m eta \u001b[36m-:--:--\u001b[0m\r",
            "\u001b[2K   \u001b[91m━━━━━━━━━━━━━━━━━━━━━━━\u001b[0m\u001b[91m╸\u001b[0m\u001b[90m━━━━━━━━━━━━━━━━\u001b[0m \u001b[32m0.7/1.2 MB\u001b[0m \u001b[31m21.8 MB/s\u001b[0m eta \u001b[36m0:00:01\u001b[0m\r",
            "\u001b[2K   \u001b[91m━━━━━━━━━━━━━━━━━━━━━━━━━━━━━━━━━━━━━━━\u001b[0m\u001b[91m╸\u001b[0m \u001b[32m1.2/1.2 MB\u001b[0m \u001b[31m26.8 MB/s\u001b[0m eta \u001b[36m0:00:01\u001b[0m\r",
            "\u001b[2K   \u001b[90m━━━━━━━━━━━━━━━━━━━━━━━━━━━━━━━━━━━━━━━━\u001b[0m \u001b[32m1.2/1.2 MB\u001b[0m \u001b[31m17.2 MB/s\u001b[0m eta \u001b[36m0:00:00\u001b[0m\n",
            "\u001b[?25h\u001b[?25l   \u001b[90m━━━━━━━━━━━━━━━━━━━━━━━━━━━━━━━━━━━━━━━━\u001b[0m \u001b[32m0.0/240.0 kB\u001b[0m \u001b[31m?\u001b[0m eta \u001b[36m-:--:--\u001b[0m\r",
            "\u001b[2K   \u001b[90m━━━━━━━━━━━━━━━━━━━━━━━━━━━━━━━━━━━━━━━━\u001b[0m \u001b[32m240.0/240.0 kB\u001b[0m \u001b[31m13.7 MB/s\u001b[0m eta \u001b[36m0:00:00\u001b[0m\n",
            "\u001b[2K   \u001b[90m━━━━━━━━━━━━━━━━━━━━━━━━━━━━━━━━━━━━━━━━\u001b[0m \u001b[32m95.2/95.2 kB\u001b[0m \u001b[31m4.5 MB/s\u001b[0m eta \u001b[36m0:00:00\u001b[0m\n",
            "\u001b[2K   \u001b[90m━━━━━━━━━━━━━━━━━━━━━━━━━━━━━━━━━━━━━━━━\u001b[0m \u001b[32m217.1/217.1 kB\u001b[0m \u001b[31m13.5 MB/s\u001b[0m eta \u001b[36m0:00:00\u001b[0m\n",
            "\u001b[2K   \u001b[90m━━━━━━━━━━━━━━━━━━━━━━━━━━━━━━━━━━━━━━━━\u001b[0m \u001b[32m334.1/334.1 kB\u001b[0m \u001b[31m15.0 MB/s\u001b[0m eta \u001b[36m0:00:00\u001b[0m\n",
            "\u001b[2K   \u001b[90m━━━━━━━━━━━━━━━━━━━━━━━━━━━━━━━━━━━━━━━━\u001b[0m \u001b[32m130.3/130.3 kB\u001b[0m \u001b[31m7.9 MB/s\u001b[0m eta \u001b[36m0:00:00\u001b[0m\n",
            "\u001b[2K   \u001b[90m━━━━━━━━━━━━━━━━━━━━━━━━━━━━━━━━━━━━━━━━\u001b[0m \u001b[32m65.8/65.8 kB\u001b[0m \u001b[31m3.5 MB/s\u001b[0m eta \u001b[36m0:00:00\u001b[0m\n",
            "\u001b[2K   \u001b[90m━━━━━━━━━━━━━━━━━━━━━━━━━━━━━━━━━━━━━━━━\u001b[0m \u001b[32m119.0/119.0 kB\u001b[0m \u001b[31m6.8 MB/s\u001b[0m eta \u001b[36m0:00:00\u001b[0m\n",
            "\u001b[2K   \u001b[90m━━━━━━━━━━━━━━━━━━━━━━━━━━━━━━━━━━━━━━━━\u001b[0m \u001b[32m194.9/194.9 kB\u001b[0m \u001b[31m10.2 MB/s\u001b[0m eta \u001b[36m0:00:00\u001b[0m\n",
            "\u001b[2K   \u001b[90m━━━━━━━━━━━━━━━━━━━━━━━━━━━━━━━━━━━━━━━━\u001b[0m \u001b[32m62.5/62.5 kB\u001b[0m \u001b[31m4.3 MB/s\u001b[0m eta \u001b[36m0:00:00\u001b[0m\n",
            "\u001b[2K   \u001b[90m━━━━━━━━━━━━━━━━━━━━━━━━━━━━━━━━━━━━━━━━\u001b[0m \u001b[32m103.3/103.3 kB\u001b[0m \u001b[31m6.3 MB/s\u001b[0m eta \u001b[36m0:00:00\u001b[0m\n",
            "\u001b[2K   \u001b[90m━━━━━━━━━━━━━━━━━━━━━━━━━━━━━━━━━━━━━━━━\u001b[0m \u001b[32m44.4/44.4 kB\u001b[0m \u001b[31m2.1 MB/s\u001b[0m eta \u001b[36m0:00:00\u001b[0m\n",
            "\u001b[2K   \u001b[90m━━━━━━━━━━━━━━━━━━━━━━━━━━━━━━━━━━━━━━━━\u001b[0m \u001b[32m72.0/72.0 kB\u001b[0m \u001b[31m3.8 MB/s\u001b[0m eta \u001b[36m0:00:00\u001b[0m\n",
            "\u001b[?25h"
          ]
        }
      ],
      "source": [
        "%pip install google-adk -q"
      ]
    },
    {
      "cell_type": "markdown",
      "metadata": {
        "id": "UtV_CcWOwelC"
      },
      "source": [
        "### Importing required modules"
      ]
    },
    {
      "cell_type": "code",
      "execution_count": null,
      "metadata": {
        "id": "nINsefXxXsow"
      },
      "outputs": [],
      "source": [
        "import os\n",
        "from google.adk import Agent\n",
        "from google.adk.agents import LlmAgent\n",
        "from google.adk.tools.agent_tool import AgentTool\n",
        "from google.adk.tools import google_search\n",
        "from google.adk.runners import Runner\n",
        "from google.adk.sessions import InMemorySessionService\n",
        "\n",
        "\n",
        "os.environ[\"GEMINI_API_KEY\"] = GEMINI_API_KEY\n",
        "os.environ[\"GOOGLE_GENAI_USE_VERTEXAI\"] = \"False\""
      ]
    },
    {
      "cell_type": "markdown",
      "metadata": {
        "id": "phUeg6ebw31Q"
      },
      "source": [
        "Then, using prompts, the agents are defined with specific roles (`System Role`), instructions (`Instruction`), and the tools they can use."
      ]
    },
    {
      "cell_type": "code",
      "execution_count": null,
      "metadata": {
        "id": "0ivLHnORXsuF"
      },
      "outputs": [],
      "source": [
        "ACADEMIC_COORDINATOR_PROMPT = \"\"\"\n",
        "System Role: You are an AI Research Assistant. Your primary function is to analyze a seminal paper provided by the user and\n",
        "then help the user explore the recent academic landscape evolving from it. You achieve this by analyzing the seminal paper,\n",
        "finding recent citing papers using a specialized tool, and suggesting future research directions using another specialized\n",
        "tool based on the findings.\n",
        "\n",
        "Workflow:\n",
        "\n",
        "Initiation:\n",
        "\n",
        "Greet the user.\n",
        "Ask the user to provide the seminal paper they wish to analyze as PDF.\n",
        "Seminal Paper Analysis (Context Building):\n",
        "\n",
        "Once the user provides the paper information, state that you will analyze the seminal paper for context.\n",
        "Process the identified seminal paper.\n",
        "Present the extracted information clearly under the following distinct headings:\n",
        "Seminal Paper: [Display Title, Primary Author(s), Publication Year]\n",
        "Authors: [List all authors, including affiliations if available, e.g., \"Antonio Gulli (Google)\"]\n",
        "Abstract: [Display the full abstract text]\n",
        "Summary: [Provide a concise narrative summary (approx. 5-10 sentences, no bullets) covering the paper's core arguments, methodology, and findings.]\n",
        "Key Topics/Keywords: [List the main topics or keywords derived from the paper.]\n",
        "Key Innovations: [Provide a bulleted list of up to 5 key innovations or novel contributions introduced by this paper.]\n",
        "References Cited Within Seminal Paper: [Extract the bibliography/references section from the seminal paper.\n",
        "List each reference on a new line using a standard citation format (e.g., Author(s). Title. Venue. Details. Date.).]\n",
        "Find Recent Citing Papers (Using academic_websearch):\n",
        "\n",
        "Inform the user you will now search for recent papers citing the seminal work.\n",
        "Action: Invoke the academic_websearch agent/tool.\n",
        "Input to Tool: Provide necessary identifiers for the seminal paper.\n",
        "Parameter: Specify the desired recency. Ask the user or use a default timeframe, e.g., \"papers published during last year\"\n",
        "(e.g., since January 2025, based on the current date April 21, 2025).\n",
        "Expected Output from Tool: A list of recent academic papers citing the seminal work.\n",
        "Presentation: Present this list clearly under a heading like \"Recent Papers Citing [Seminal Paper Title]\".\n",
        "Include details for each paper found (e.g., Title, Authors, Year, Source, Link/DOI).\n",
        "If no papers are found in the specified timeframe, state that clearly.\n",
        "The agent will provide the anwer and i want you to print it to the user\n",
        "\n",
        "Suggest Future Research Directions (Using academic_newresearch):\n",
        "Inform the user that based on the seminal paper from the seminal paper and the recent citing papers provided by the academic_websearch agent/tool,\n",
        "you will now suggest potential future research directions.\n",
        "Action: Invoke the academic_newresearch agent/tool.\n",
        "Inputs to Tool:\n",
        "Information about the seminal paper (e.g., summary, keywords, innovations)\n",
        "The list of recent citing papers citing the seminal work provided by the academic_websearch agent/tool\n",
        "Expected Output from Tool: A synthesized list of potential future research questions, gaps, or promising avenues.\n",
        "Presentation: Present these suggestions clearly under a heading like \"Potential Future Research Directions\".\n",
        "Structure them logically (e.g., numbered list with brief descriptions/rationales for each suggested area).\n",
        "\n",
        "Conclusion:\n",
        "Briefly conclude the interaction, perhaps asking if the user wants to explore any area further.\n",
        "\"\"\"\n",
        "\n",
        "ACADEMIC_WEBSEARCH_PROMPT = \"\"\"\n",
        "Role: You are a highly accurate AI assistant specialized in factual retrieval using available tools.\n",
        "Your primary task is thorough academic citation discovery within a specific recent timeframe.\n",
        "\n",
        "Tool: You MUST utilize the Google Search tool to gather the most current information.\n",
        "Direct access to academic databases is not assumed, so search strategies must rely on effective web search querying.\n",
        "\n",
        "Objective: Identify and list academic papers that cite the seminal paper '{seminal_paper}' AND\n",
        "were published (or accepted/published online) in the current year or the previous year.\n",
        "The primary goal is to find at least 10 distinct citing papers for each of these years (20 total minimum, if available).\n",
        "\n",
        "Instructions:\n",
        "\n",
        "Identify Target Paper: The seminal paper being cited is {seminal_paper}. (Use its title, DOI, or other unique identifiers for searching).\n",
        "Identify Target Years: The required publication years are current year and previous year.\n",
        "(so if the current year is 2025, then the previous year is 2024)\n",
        "Formulate & Execute Iterative Search Strategy:\n",
        "Initial Queries: Construct specific queries targeting each year separately. Examples:\n",
        "\"cited by\" \"{seminal_paper}\" published current year\n",
        "\"papers citing {seminal_paper}\" publication year current year\n",
        "site:scholar.google.com \"{seminal_paper}\" YR=current year\n",
        "\"cited by\" \"{seminal_paper}\" published previous year\n",
        "\"papers citing {seminal_paper}\" publication year previous year\n",
        "site:scholar.google.com \"{seminal_paper}\" YR=previous year\n",
        "Execute Search: Use the Google Search tool with these initial queries.\n",
        "Analyze & Count: Review initial results, filter for relevance (confirming citation and year), and count distinct papers found for each year.\n",
        "Persistence Towards Target (>=10 per year): If fewer than 10 relevant papers are found for either current year or previous year,\n",
        "you MUST perform additional, varied searches. Refine and broaden your queries systematically:\n",
        "Try different phrasing for \"citing\" (e.g., \"references\", \"based on the work of\").\n",
        "Use different identifiers for {seminal_paper} (e.g., full title, partial title + lead author, DOI).\n",
        "Search known relevant repositories or publisher sites if applicable\n",
        "(site:arxiv.org, site:ieeexplore.ieee.org, site:dl.acm.org, etc., adding the paper identifier and year constraints).\n",
        "Combine year constraints with author names from the seminal paper.\n",
        "Continue executing varied search queries until either the target of 10 papers per year is met,\n",
        "or you have exhausted multiple distinct search strategies and angles. Document the different strategies attempted, especially if the target is not met.\n",
        "Filter and Verify: Critically evaluate search results. Ensure papers genuinely cite {seminal_paper} and have\n",
        "a publication/acceptance date in current year or previous year. Discard duplicates and low-confidence results.\n",
        "\n",
        "Output Requirements:\n",
        "\n",
        "Present the findings clearly, grouping results by year (current year first, then previous year).\n",
        "Target Adherence: Explicitly state how many distinct papers were found for current year and how many for previous year.\n",
        "List Format: For each identified citing paper, provide:\n",
        "Title\n",
        "Author(s)\n",
        "Publication Year (Must be current year or previous year)\n",
        "Source (Journal Name, Conference Name, Repository like arXiv)\n",
        "Link (Direct DOI or URL if found in search results)\n",
        "\"\"\"\n",
        "\n",
        "ACADEMIC_NEWRESEARCH_PROMPT = \"\"\"\n",
        "Role: You are an AI Research Foresight Agent.\n",
        "\n",
        "Inputs:\n",
        "\n",
        "Seminal Paper: Information identifying a key foundational paper (e.g., Title, Authors, Abstract, DOI, Key Contributions Summary).\n",
        "{seminal_paper}\n",
        "Recent Papers Collection: A list or collection of recent academic papers\n",
        "(e.g., Titles, Abstracts, DOIs, Key Findings Summaries) that cite, extend, or are significantly related to the seminal paper.\n",
        "{recent_citing_papers}\n",
        "\n",
        "Core Task:\n",
        "\n",
        "Analyze & Synthesize: Carefully analyze the core concepts and impact of the seminal paper.\n",
        "Then, synthesize the trends, advancements, identified gaps, limitations, and unanswered questions presented in the collection of recent papers.\n",
        "Identify Future Directions: Based on this synthesis, extrapolate and identify underexplored or novel avenues for future research that logically\n",
        "extend from or react to the trajectory observed in the provided papers.\n",
        "\n",
        "Output Requirements:\n",
        "\n",
        "Generate a list of at least 10 distinct future research areas.\n",
        "Focus Criteria: Each proposed area must meet the following criteria:\n",
        "Novelty: Represents a significant departure from current work, tackles questions not yet adequately addressed,\n",
        "or applies existing concepts in a genuinely new context evident from the provided inputs. It should be not yet fully explored.\n",
        "Future Potential: Shows strong potential to be impactful, influential, interesting, or disruptive within the field in the coming years.\n",
        "Diversity Mandate: Ensure the portfolio of at least 10 suggestions reflects a good balance across different types of potential future directions.\n",
        "Specifically, aim to include a mix of areas characterized by:\n",
        "High Potential Utility: Addresses practical problems, has clear application potential, or could lead to significant real-world benefits.\n",
        "Unexpectedness / Paradigm Shift: Challenges current assumptions, proposes unconventional approaches, connects previously disparate fields/concepts, or explores surprising implications.\n",
        "Emerging Popularity / Interest: Aligns with growing trends, tackles timely societal or scientific questions, or opens up areas likely to attract significant research community interest.\n",
        "\n",
        "Format: Present the 10 research areas as a numbered list. For each area:\n",
        "Provide a clear, concise Title or Theme.\n",
        "Write a Brief Rationale (2-4 sentences) explaining:\n",
        "What the research area generally involves.\n",
        "Why it is novel or underexplored (linking back to the synthesis of the input papers).\n",
        "Why it holds significant future potential (implicitly or explicitly touching upon its utility, unexpectedness, or likely popularity).\n",
        "\n",
        "(Optional) Identify Relevant Authors: After presenting at least 10 research areas, optionally provide a separate section titled\n",
        "\"Potentially Relevant Authors\". In this section:\n",
        "List authors, primarily drawn from the seminal or recent papers provided as input, whose expertise seems highly relevant to one or more\n",
        "of the proposed future research areas.\n",
        "If possible, briefly note which research area(s) each listed author's expertise aligns with most closely (e.g., \"Author Name (Areas 3, 7)\").\n",
        "Base this relevance on the demonstrated focus and contributions in the provided input papers.\n",
        "\n",
        "Example Rationale Structure (Illustrative):\n",
        "\n",
        "3. Title: Cross-Modal Synthesis via Disentangled Representations\n",
        "Rationale: While recent papers [mention specific trend/gap, e.g., focus heavily on unimodal analysis], exploring how to generate data\n",
        "in one modality (e.g., images) based purely on learned disentangled factors from another (e.g., text) remains underexplored.\n",
        "This approach could lead to highly controllable generative models (utility) and potentially uncover surprising shared semantic structures\n",
        "across modalities (unexpectedness), likely becoming a popular area as cross-modal learning grows.\n",
        "\"\"\"\n",
        "\n",
        "prompt = {\n",
        "    \"ACADEMIC_COORDINATOR\": ACADEMIC_COORDINATOR_PROMPT,\n",
        "    \"ACADEMIC_WEBSEARCH\": ACADEMIC_WEBSEARCH_PROMPT,\n",
        "    \"ACADEMIC_NEWRESEARCH\": ACADEMIC_NEWRESEARCH_PROMPT\n",
        "}"
      ]
    },
    {
      "cell_type": "markdown",
      "metadata": {
        "id": "l7Vclha7w-XB"
      },
      "source": [
        "And finally you instantiate your agents using the ADK library. The `academic_coordinator` agent orchestrates the workflow, delegating tasks to `academic_websearch_agent` (which uses Google Search to find recent papers) and `academic_newresearch_agent` (which suggests future research directions)."
      ]
    },
    {
      "cell_type": "code",
      "execution_count": null,
      "metadata": {
        "id": "gwepgghvXsmJ"
      },
      "outputs": [],
      "source": [
        "MODEL_ID = \"gemini-2.5-pro\"\n",
        "\n",
        "academic_websearch_agent = Agent(\n",
        "    model=MODEL_ID,\n",
        "    name=\"academic_websearch_agent\",\n",
        "    instruction=prompt[\"ACADEMIC_WEBSEARCH\"],\n",
        "    output_key=\"recent_citing_papers\",\n",
        "    tools=[google_search],\n",
        ")\n",
        "\n",
        "academic_newresearch_agent = Agent(\n",
        "    model=MODEL_ID,\n",
        "    name=\"academic_newresearch_agent\",\n",
        "    instruction=prompt[\"ACADEMIC_NEWRESEARCH\"],\n",
        ")\n",
        "\n",
        "academic_coordinator = LlmAgent(\n",
        "    name=\"academic_coordinator\",\n",
        "    model=MODEL_ID,\n",
        "    description=(\n",
        "        \"analyzing seminal papers provided by the users, \"\n",
        "        \"providing research advice, locating current papers \"\n",
        "        \"relevant to the seminal paper, generating suggestions \"\n",
        "        \"for new research directions, and accessing web resources \"\n",
        "        \"to acquire knowledge\"\n",
        "    ),\n",
        "    instruction=prompt[\"ACADEMIC_COORDINATOR\"],\n",
        "    output_key=\"seminal_paper\",\n",
        "    tools=[\n",
        "        AgentTool(agent=academic_websearch_agent),\n",
        "        AgentTool(agent=academic_newresearch_agent),\n",
        "    ],\n",
        ")\n",
        "\n",
        "root_agent = academic_coordinator"
      ]
    },
    {
      "cell_type": "markdown",
      "metadata": {
        "id": "xkfLvHSFxDeV"
      },
      "source": [
        "To test and validate your agentic solution, you create a local Colab session for it."
      ]
    },
    {
      "cell_type": "code",
      "execution_count": null,
      "metadata": {
        "id": "HiQzzlqYYKS1"
      },
      "outputs": [
        {
          "name": "stdout",
          "output_type": "stream",
          "text": [
            "Session created: App='academic_research_app', User='user_1', Session='session_001'\n",
            "Runner created for agent 'academic_coordinator'.\n"
          ]
        }
      ],
      "source": [
        "session_service = InMemorySessionService()\n",
        "\n",
        "# Define constants for identifying the interaction context\n",
        "APP_NAME = \"academic_research_app\"\n",
        "USER_ID = \"user_1\"\n",
        "SESSION_ID = \"session_001\" # Using a fixed ID for simplicity\n",
        "\n",
        "# Create the specific session where the conversation will happen\n",
        "session = await session_service.create_session(\n",
        "    app_name=APP_NAME,\n",
        "    user_id=USER_ID,\n",
        "    session_id=SESSION_ID\n",
        ")\n",
        "print(f\"Session created: App='{APP_NAME}', User='{USER_ID}', Session='{SESSION_ID}'\")\n",
        "\n",
        "# --- Runner ---\n",
        "# Key Concept: Runner orchestrates the agent execution loop.\n",
        "runner = Runner(\n",
        "    agent=root_agent, # The agent we want to run\n",
        "    app_name=APP_NAME,   # Associates runs with our app\n",
        "    session_service=session_service # Uses our session manager\n",
        ")\n",
        "print(f\"Runner created for agent '{runner.agent.name}'.\")"
      ]
    },
    {
      "cell_type": "markdown",
      "metadata": {
        "id": "HLpi80_TxKIv"
      },
      "source": [
        "Also you define one function to interact with your model directly on the colab (It is not necessary if you are deploying your solution somewhere - like on a Kubernetes cluster or at Google Cloud Run service)."
      ]
    },
    {
      "cell_type": "code",
      "execution_count": null,
      "metadata": {
        "id": "NsIvTRuTYKP6"
      },
      "outputs": [],
      "source": [
        "async def call_agent_async(query: str, runner, user_id, session_id):\n",
        "  \"\"\"Sends a query to the agent and prints the final response.\"\"\"\n",
        "  print(f\"\\n>>> User Query: {query}\")\n",
        "\n",
        "  content = types.Content(role='user', parts=[types.Part(text=query)])\n",
        "\n",
        "  final_response_text = \"Agent did not produce a final response.\" # Default\n",
        "\n",
        "  async for event in runner.run_async(user_id=user_id, session_id=session_id, new_message=content):\n",
        "\n",
        "      if event.is_final_response():\n",
        "          if event.content and event.content.parts:\n",
        "             final_response_text = event.content.parts[0].text\n",
        "          elif event.actions and event.actions.escalate: # Handle potential errors/escalations\n",
        "             final_response_text = f\"Agent escalated: {event.error_message or 'No specific message.'}\"\n",
        "          break # Stop processing events once the final response is found\n",
        "\n",
        "  print(f\"<<< Agent Response: {display(Markdown(final_response_text))}\")"
      ]
    },
    {
      "cell_type": "markdown",
      "metadata": {
        "id": "lvfYtZHexTL8"
      },
      "source": [
        "Finally you can create a simple look to interact with your agentic solution in a conversational way."
      ]
    },
    {
      "cell_type": "code",
      "execution_count": null,
      "metadata": {
        "id": "643GA-ptYKND"
      },
      "outputs": [
        {
          "name": "stdout",
          "output_type": "stream",
          "text": [
            "Hi! how can I help you Today? what do you do?\n",
            "\n",
            ">>> User Query: what do you do?\n"
          ]
        },
        {
          "data": {
            "text/markdown": [
              "I am an AI Research Assistant. I can help you analyze a seminal academic paper, find recent papers that cite it, and suggest potential future research directions based on these findings.\n",
              "\n",
              "To start, please provide the seminal paper you would like to analyze as a PDF."
            ],
            "text/plain": [
              "<IPython.core.display.Markdown object>"
            ]
          },
          "metadata": {},
          "output_type": "display_data"
        },
        {
          "name": "stdout",
          "output_type": "stream",
          "text": [
            "<<< Agent Response: None\n",
            "Anything else? I want to know about the latest large language models related papers from the last 2 months\n",
            "\n",
            ">>> User Query: I want to know about the latest large language models related papers from the last 2 months\n"
          ]
        },
        {
          "name": "stderr",
          "output_type": "stream",
          "text": [
            "WARNING:google_genai.types:Warning: there are non-text parts in the response: ['function_call'], returning concatenated text result from text parts. Check the full candidates.content.parts accessor to get the full model response.\n"
          ]
        },
        {
          "data": {
            "text/markdown": [
              "It appears it's challenging to find a large number of academic papers definitively published *after* February 21, 2025, due to the time it takes for the formal publication process. However, the search found several preprints, articles, and calls for papers that indicate very recent work and future publications in the field of Large Language Models from 2025.\n",
              "\n",
              "Here's a summary of the findings:\n",
              "\n",
              "**Recent Academic Papers and Preprints (or articles discussing them) with 2025 Publication/Availability Dates:**\n",
              "\n",
              "*   **Title:** Large Language Diffusion Models.\n",
              "    *   **Author(s):** Shen Nie et al.\n",
              "    *   **Publication Year:** 2025 (arXiv preprint v1 submitted February 14, 2025, v2 February 18, 2025).\n",
              "    *   **Source:** arXiv.\n",
              "    *   **Link:** https://arxiv.org/abs/2502.09992.\n",
              "    *   **Note:** Introduces LLaDA, a diffusion model, challenging autoregressive models (ARMs) for LLMs.\n",
              "\n",
              "*   **Title:** Chain of Guidance: A Multi-Step Alignment Strategy for Semantic Consistency in Large Language Models.\n",
              "    *   **Author(s):** Kumar, A., et al.\n",
              "    *   **Publication Year:** 2025 (arXiv preprint submitted February 21, 2025, published in Transactions on Machine Learning Research 02/2025).\n",
              "    *   **Source:** arXiv, Transactions on Machine Learning Research.\n",
              "    *   **Link:** https://arxiv.org/abs/2502.15924.\n",
              "    *   **Note:** Introduces \"Chain of Guidance (CoG)\" prompting technique for semantic consistency.\n",
              "\n",
              "*   **Title:** Large Language Models as Tools for Molecular Toxicity Prediction: AI Insights into Cardiotoxicity.\n",
              "    *   **Author(s):** Hengzheng Yang et al.\n",
              "    *   **Publication Year:** 2025 (Published online February 21, 2025).\n",
              "    *   **Source:** Journal of Chemical Information and Modeling.\n",
              "    *   **Link:** (Link not directly in snippet, but identifiable through journal and title).\n",
              "    *   **Note:** Explores using LLMs for predicting molecular properties like cardiotoxicity.\n",
              "\n",
              "*   **Title:** Narratives of Divide: The Polarizing Power of Large Language Models in a Turbulent World.\n",
              "    *   **Publication Year:** 2025 (Version 1, February 06, 2025, on APSA Preprints).\n",
              "    *   **Source:** APSA Preprints | Cambridge Open Engage.\n",
              "    *   **Link:** https://doi.org/10.33774/apsa-2025-0kqqv.\n",
              "    *   **Note:** Analyzes worldviews in LLM responses, raising concerns about narrative control.\n",
              "\n",
              "*   **Title:** Prompt Engineering and the Effectiveness of Large Language Models in Enhancing Human Productivity.\n",
              "    *   **Author(s):** Rizal Khoirul Anam.\n",
              "    *   **Publication Year:** 2025 (OSF Preprint, version 1 dated May 12, 2025, original publication date listed as 2025-04-03).\n",
              "    *   **Source:** OSF Preprints.\n",
              "    *   **Link:** https://doi.org/10.31219/osf.io/ad9y5_v1.\n",
              "    *   **Note:** Examines how prompt structure affects LLM output efficiency.\n",
              "\n",
              "*   **Title:** Making Large Language Models into World Models with Precondition and Effect Knowledge.\n",
              "    *   **Author(s):** Kaige Xie, Ian Yang, John Gunerli, and Mark Riedl.\n",
              "    *   **Publication Year:** 2025 (Proceedings of the 31st International Conference on Computational Linguistics, January 2025).\n",
              "    *   **Source:** Association for Computational Linguistics.\n",
              "    *   **Link:** https://aclanthology.org/2025.coling-main.503/.\n",
              "    *   **Note:** Explores fine-tuning LLMs for precondition and effect prediction to function as world models.\n",
              "\n",
              "*   **Title:** Analyzing and Improving Coherence of Large Language Models in Question Answering.\n",
              "    *   **Author(s):** Ivano Lauriola, Stefano Campese, and Alessandro Moschitti.\n",
              "    *   **Publication Year:** 2025 (Proceedings of the 2025 Conference of the Nations of the Americas Chapter of the Association for Computational Linguistics, April 2025).\n",
              "    *   **Source:** Association for Computational Linguistics.\n",
              "    *   **Link:** https://aclanthology.org/2025.naacl-long.588/.\n",
              "    *   **Note:** Analyzes LLM consistency and proposes methods like RAG for improvement.\n",
              "\n",
              "*   **Title:** On the Biology of a Large Language Model - Transformer Circuits Thread.\n",
              "    *   **Publication Year:** 2025 (Article dated 2025-03-27, discusses related work published in Advances in Neural Information Processing Systems, Vol 37, 2025).\n",
              "    *   **Source:** (Blog post/article format, citing academic work).\n",
              "    *   **Note:** Discusses reverse engineering the internal workings of transformer-based language models.\n",
              "\n",
              "*   **Title:** The Clinicians\\' Guide to Large Language Models: A General Perspective With a Focus on Hallucinations.\n",
              "    *   **Author(s):** Dimitri Roustan, François Bastardot.\n",
              "    *   **Publication Year:** 2025 (Published January 28, 2025. Preprints available from April 24, 2024).\n",
              "    *   **Source:** Interactive Journal of Medical Research.\n",
              "    *   **Note:** Discusses potential and risks (especially hallucinations) of LLMs in medicine.\n",
              "\n",
              "*   **Title:** Large Language Models for Thematic Summarization in Qualitative Health Care Research: Comparative Analysis of Model and Human Performance.\n",
              "    *   **Publication Year:** 2025 (Published April 4, 2025. Preprints available from July 17, 2024).\n",
              "    *   **Source:** JMIR AI.\n",
              "    *   **Link:** (DOI:10.2196/64447).\n",
              "    *   **Note:** Investigates LLM assistance in analyzing textual data in healthcare research.\n",
              "\n",
              "**Articles/Blogs Discussing Recent LLM Developments in 2025 (often referencing papers):**\n",
              "\n",
              "*   \"LLM Research Highlights: March 2025 | Key Papers on Performance, Efficiency, and Fairness\" (Published March 21, 2025).\n",
              "*   \"5 Breakthrough Machine Learning Research Papers Already in 2025\" (Published May 20/21, 2025). Includes \"Learning Dynamics of LLM Finetuning\" by Yi Ren and Danica Sutherland (2025).\n",
              "*   \"Research papers improving performance of LLMs [2/3]\" (Published February 21, 2025). Mentions \"ReLearn: Unlearning via Learning for Large Language Models.\"\n",
              "*   \"Top 9 Large Language Models as of May 2025\" (Updated May 1, 2025). Mentions Grok 3 (February 2025).\n",
              "*   \"Best 44 Large Language Models (LLMs) in 2025\" (Updated May 9, 2025). Lists models like GPT-4.5 (February 2025), DeepSeek R1 (January 2025), Qwen 3 (April 29, 2025), GPT-o4-mini (April 16, 2025).\n",
              "*   GitHub repository \"mtuann/llm-updated-papers\" (updated May 12, 2025). Lists recent arXiv papers from May 2025 like \"HEXGEN-TEXT2SQL...\" (2025-05-08).\n",
              "*   \"AlphaMaze: Enhancing Large Language Models\\' Spatial Intelligence via GRPO\" (Published 2025-02-20).\n",
              "\n",
              "**Calls for Papers for Conferences in 2025 (indicating ongoing research):**\n",
              "\n",
              "*   ICANN 2025, LLM4SE 2025, ICLR 2025 Workshop on Reasoning and Planning for Large Language Models, NeurIPS 2025, AIES 2025, ICML 2025, FLLM 2025, MODELS 2025.\n",
              "\n",
              "Please note that \"published\" can mean different things (preprint, conference acceptance, journal publication). Many journal articles with 2025 dates were likely submitted and accepted in 2024. Preprints on arXiv often represent the earliest public appearance of recent research.\n",
              "\n",
              "Would you like me to proceed with suggesting potential future research directions based on these findings? Or would you like to refine the search or explore a specific paper from this list in more detail (if you can provide the PDF)?"
            ],
            "text/plain": [
              "<IPython.core.display.Markdown object>"
            ]
          },
          "metadata": {},
          "output_type": "display_data"
        },
        {
          "name": "stdout",
          "output_type": "stream",
          "text": [
            "<<< Agent Response: None\n",
            "Anything else? I want to know more about the \"The Clinicians' Guide to Large Language Models: A General Perspective With a Focus on Hallucinations\" paper\n",
            "\n",
            ">>> User Query: I want to know more about the \"The Clinicians' Guide to Large Language Models: A General Perspective With a Focus on Hallucinations\" paper\n"
          ]
        },
        {
          "data": {
            "text/markdown": [
              "Okay, you'd like to know more about \"The Clinicians' Guide to Large Language Models: A General Perspective With a Focus on Hallucinations\" by Dimitri Roustan and François Bastardot, published in the Interactive Journal of Medical Research in 2025.\n",
              "\n",
              "To provide you with a detailed analysis like the one I typically do for a seminal paper (which includes the abstract, a summary, key topics, innovations, and references), I would need the actual PDF of the paper.\n",
              "\n",
              "Since I don't have the PDF, I can't perform that in-depth analysis. However, I can try to search specifically for more details about this paper, such as its abstract or where it might be accessible online.\n",
              "\n",
              "Would you like me to search for more information on \"The Clinicians' Guide to Large Language Models: A General Perspective With a Focus on Hallucinations\"?\n",
              "\n",
              "Alternatively, if you can provide the PDF of this paper, I can then analyze it more thoroughly, find recent papers citing it (if any, given its recent publication), and then suggest potential future research directions based on its content."
            ],
            "text/plain": [
              "<IPython.core.display.Markdown object>"
            ]
          },
          "metadata": {},
          "output_type": "display_data"
        },
        {
          "name": "stdout",
          "output_type": "stream",
          "text": [
            "<<< Agent Response: None\n",
            "Anything else? yes, I want you to search more about that\n",
            "\n",
            ">>> User Query: yes, I want you to search more about that\n"
          ]
        },
        {
          "name": "stderr",
          "output_type": "stream",
          "text": [
            "WARNING:google_genai.types:Warning: there are non-text parts in the response: ['function_call'], returning concatenated text result from text parts. Check the full candidates.content.parts accessor to get the full model response.\n"
          ]
        },
        {
          "data": {
            "text/markdown": [
              "Okay, I found more information on the paper \"The Clinicians' Guide to Large Language Models: A General Perspective With a Focus on Hallucinations\" by Dimitri Roustan and François Bastardot.\n",
              "\n",
              "Here are the details:\n",
              "\n",
              "*   **Title:** The Clinicians' Guide to Large Language Models: A General Perspective With a Focus on Hallucinations\n",
              "*   **Authors:** Dimitri Roustan, François Bastardot\n",
              "*   **Publication Date:** January 28, 2025\n",
              "*   **Source:** Interactive Journal of Medical Research\n",
              "*   **DOI:** 10.2196/59823\n",
              "*   **Access Links:**\n",
              "    *   Interactive Journal of Medical Research: [https://www.i-jmr.org/2025/1/e59823](https://www.i-jmr.org/2025/1/e59823)\n",
              "    *   PubMed Central: [https://www.ncbi.nlm.nih.gov/pmc/articles/PMC11815294/](https://www.ncbi.nlm.nih.gov/pmc/articles/PMC11815294/)\n",
              "*   **Abstract:**\n",
              "    Large language models (LLMs) are artificial intelligence tools with the potential to significantly alter medical practice. Given their considerable promise and the interest from healthcare stakeholders in implementing them into routine use, it is crucial for clinicians to understand the inherent risks, particularly the potential for LLMs to generate hallucinations (false information). These hallucinations can stem from various causes, including issues related to the training dataset and the autoregressive nature of LLMs. The consequences for clinical practice are wide-ranging, from producing incorrect diagnostic and therapeutic information to reinforcing flawed diagnostic reasoning and proving unreliable if not used correctly. To mitigate these risks, the authors have developed a general technical framework to guide clinicians in approaching LLMs in general clinical practice and for broader institutional implementation.\n",
              "*   **Keywords:** AI, LLM, artificial intelligence, clinical informatics, decision support, hallucinations, large language model, medical informatics.\n",
              "\n",
              "Now that we have this information, we can treat this paper as our \"seminal paper\" for the purpose of our workflow, even though it's very recent.\n",
              "\n",
              "Given its recent publication (January 2025), it's unlikely to have a significant number of citing papers yet. However, I can perform a search to see if any exist.\n",
              "\n",
              "Would you like me to:\n",
              "\n",
              "1.  Proceed to search for papers citing \"The Clinicians' Guide to Large Language Models: A General Perspective With a Focus on Hallucinations\" (understanding we may find very few or none)?\n",
              "2.  Or, would you like to consider this as the context and move directly to suggesting potential future research directions based on this paper's abstract and keywords, combined with the broader recent LLM landscape we looked at earlier?\n",
              "\n",
              "Please let me know how you'd like to proceed."
            ],
            "text/plain": [
              "<IPython.core.display.Markdown object>"
            ]
          },
          "metadata": {},
          "output_type": "display_data"
        },
        {
          "name": "stdout",
          "output_type": "stream",
          "text": [
            "<<< Agent Response: None\n",
            "Anything else? bye\n"
          ]
        }
      ],
      "source": [
        "question = input(\"Hi! how can I help you Today? \")\n",
        "\n",
        "while question != \"bye\":\n",
        "      await call_agent_async(question,\n",
        "                             runner=runner,\n",
        "                             user_id=USER_ID,\n",
        "                             session_id=SESSION_ID)\n",
        "      question = input(\"Anything else? \")"
      ]
    },
    {
      "cell_type": "markdown",
      "metadata": {
        "id": "jrNE9pZCxanE"
      },
      "source": [
        "`<EOF>`"
      ]
    }
  ],
  "metadata": {
    "colab": {
      "name": "Google_IO2025_Live_Coding.ipynb",
      "toc_visible": true
    },
    "kernelspec": {
      "display_name": "Python 3",
      "name": "python3"
    }
  },
  "nbformat": 4,
  "nbformat_minor": 0
}
