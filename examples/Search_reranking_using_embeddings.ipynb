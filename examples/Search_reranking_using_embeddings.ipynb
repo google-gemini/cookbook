{
  "cells": [
    {
      "cell_type": "markdown",
      "metadata": {
        "id": "Tce3stUlHN0L"
      },
      "source": [
        "##### Copyright 2025 Google LLC."
      ]
    },
    {
      "cell_type": "code",
      "execution_count": 1,
      "metadata": {
        "cellView": "form",
        "id": "tuOe1ymfHZPu"
      },
      "outputs": [],
      "source": [
        "# @title Licensed under the Apache License, Version 2.0 (the \"License\");\n",
        "# you may not use this file except in compliance with the License.\n",
        "# You may obtain a copy of the License at\n",
        "#\n",
        "# https://www.apache.org/licenses/LICENSE-2.0\n",
        "#\n",
        "# Unless required by applicable law or agreed to in writing, software\n",
        "# distributed under the License is distributed on an \"AS IS\" BASIS,\n",
        "# WITHOUT WARRANTIES OR CONDITIONS OF ANY KIND, either express or implied.\n",
        "# See the License for the specific language governing permissions and\n",
        "# limitations under the License."
      ]
    },
    {
      "cell_type": "markdown",
      "metadata": {
        "id": "oJt4OFKPgO8C"
      },
      "source": [
        "# Search re-ranking using Gemini embeddings"
      ]
    },
    {
      "cell_type": "markdown",
      "metadata": {
        "id": "k5n0sCc_fKcB"
      },
      "source": [
        "<a target=\"_blank\" href=\"https://colab.research.google.com/github/google-gemini/cookbook/blob/main/examples/Search_reranking_using_embeddings.ipynb\"><img src=\"https://colab.research.google.com/assets/colab-badge.svg\" height=30/></a>"
      ]
    },
    {
      "cell_type": "markdown",
      "metadata": {
        "id": "0UO0Cgq0mRlG"
      },
      "source": [
        "This notebook demonstrates the use of embeddings to re-rank search results. This walkthrough will focus on the following objectives:\n",
        "\n",
        "\n",
        "\n",
        "1.   Setting up your development environment and API access to use Gemini.\n",
        "2.   Using Gemini's function calling support to access the Wikipedia API.\n",
        "3.   Embedding content via Gemini API.\n",
        "4.   Re-ranking the search results.\n"
      ]
    },
    {
      "cell_type": "markdown",
      "metadata": {
        "id": "-e5Aje-DTQOq"
      },
      "source": [
        "This is how you will implement search re-ranking:\n",
        "\n",
        "\n",
        "1.   The user will make a search query.\n",
        "2.   You will use Wikipedia API to return the relevant search results.\n",
        "3.   The search results will be embedded and their relevance will be evaluated by calculating distance metrics like cosine similarity.\n",
        "4.   The most relevant search result will be returned as the final answer."
      ]
    },
    {
      "cell_type": "markdown",
      "metadata": {
        "id": "rpVL_QrF5-oF"
      },
      "source": [
        "> The non-source code materials in this notebook are licensed under Creative Commons - Attribution-ShareAlike CC-BY-SA 4.0, https://creativecommons.org/licenses/by-sa/4.0/legalcode."
      ]
    },
    {
      "cell_type": "markdown",
      "metadata": {
        "id": "pwImlRg9DUp7"
      },
      "source": [
        "## Setup\n"
      ]
    },
    {
      "cell_type": "code",
      "execution_count": 2,
      "metadata": {
        "id": "Nv_6f_qNHe_2"
      },
      "outputs": [],
      "source": [
        "%pip install -q -U \"google-genai>=1.0.0\""
      ]
    },
    {
      "cell_type": "code",
      "execution_count": 3,
      "metadata": {
        "id": "5999faf240a4",
        "colab": {
          "base_uri": "https://localhost:8080/"
        },
        "outputId": "8f5702fa-75d1-4210-98b2-4e46768992a6"
      },
      "outputs": [
        {
          "output_type": "stream",
          "name": "stdout",
          "text": [
            "  Preparing metadata (setup.py) ... \u001b[?25l\u001b[?25hdone\n",
            "  Building wheel for wikipedia (setup.py) ... \u001b[?25l\u001b[?25hdone\n"
          ]
        }
      ],
      "source": [
        "%pip install -q wikipedia"
      ]
    },
    {
      "cell_type": "markdown",
      "metadata": {
        "id": "739f0bb73f05"
      },
      "source": [
        "Note: The [`wikipedia` package](https://pypi.org/project/wikipedia/) notes that it was \"designed for ease of use and simplicity, not for advanced use\", and that production or heavy use should instead \"use [Pywikipediabot](http://www.mediawiki.org/wiki/Manual:Pywikipediabot) or one of the other more advanced [Python MediaWiki API wrappers](http://en.wikipedia.org/wiki/Wikipedia:Creating_a_bot#Python)\"."
      ]
    },
    {
      "cell_type": "code",
      "execution_count": 4,
      "metadata": {
        "id": "D0qOtLI3FVid"
      },
      "outputs": [],
      "source": [
        "import json\n",
        "import textwrap\n",
        "\n",
        "from google import genai\n",
        "from google.genai import types\n",
        "\n",
        "import wikipedia\n",
        "from wikipedia.exceptions import DisambiguationError, PageError\n",
        "\n",
        "import numpy as np\n",
        "\n",
        "from IPython.display import Markdown\n",
        "\n",
        "def to_markdown(text):\n",
        "  text = text.replace('•', '  *')\n",
        "  return Markdown(textwrap.indent(text, '> ', predicate=lambda _: True))"
      ]
    },
    {
      "cell_type": "markdown",
      "metadata": {
        "id": "aeo_9J9iDtCx"
      },
      "source": [
        "To run the following cell, your API key must be stored it in a Colab Secret named `GOOGLE_API_KEY`. If you don't already have an API key, or you're not sure how to create a Colab Secret, see the [Authentication](https://github.com/google-gemini/cookbook/blob/main/quickstarts/Authentication.ipynb) quickstart for an example."
      ]
    },
    {
      "cell_type": "code",
      "execution_count": 5,
      "metadata": {
        "id": "yxzEH0GqLshI"
      },
      "outputs": [],
      "source": [
        "from google.colab import userdata\n",
        "GOOGLE_API_KEY=userdata.get('GOOGLE_API_KEY')\n",
        "\n",
        "# Initialize the client with your API key\n",
        "client = genai.Client(api_key=GOOGLE_API_KEY)"
      ]
    },
    {
      "cell_type": "markdown",
      "metadata": {
        "id": "7HjN6hsAJkOq"
      },
      "source": [
        "As stated earlier, this tutorial uses Gemini's function calling support to access the Wikipedia API. Please refer to the [docs](https://ai.google.dev/docs/function_calling) to learn more about function calling."
      ]
    },
    {
      "cell_type": "markdown",
      "metadata": {
        "id": "fpFkazXUenkK"
      },
      "source": [
        "### Define the search function"
      ]
    },
    {
      "cell_type": "markdown",
      "metadata": {
        "id": "2fp-m-5Ke0XY"
      },
      "source": [
        "To cater to the search engine needs, you will design this function in the following way:\n",
        "\n",
        "\n",
        "*   For each search query, the search engine will use the `wikipedia.search` method to get relevant topics.\n",
        "*   From the relevant topics, the engine will choose `n_topics(int)` top candidates and will use `gemini-2.0-flash` to extract relevant information from the page.\n",
        "*   The engine will avoid duplicate entries by maintaining a search history.\n"
      ]
    },
    {
      "cell_type": "code",
      "execution_count": 18,
      "metadata": {
        "id": "2U27tdP8OBys"
      },
      "outputs": [],
      "source": [
        "def wikipedia_search(search_queries: list[str]) -> list[str]:\n",
        "  \"\"\"Search wikipedia for each query and summarize relevant docs.\"\"\"\n",
        "  n_topics=3\n",
        "  search_history = set() # tracking search history\n",
        "  search_urls = []\n",
        "  summary_results = []\n",
        "\n",
        "  for query in search_queries:\n",
        "    print(f'Searching for \"{query}\"')\n",
        "    search_terms = wikipedia.search(query)\n",
        "\n",
        "    print(f\"Related search terms: {search_terms[:n_topics]}\")\n",
        "    for search_term in search_terms[:n_topics]: # select first `n_topics` candidates\n",
        "      if search_term in search_history: # check if the topic is already covered\n",
        "        continue\n",
        "\n",
        "      print(f'Fetching page: \"{search_term}\"')\n",
        "      search_history.add(search_term) # add to search history\n",
        "\n",
        "      try:\n",
        "        # extract the relevant data using the client with gemini-2.0-flash model\n",
        "        page = wikipedia.page(search_term, auto_suggest=False)\n",
        "        url = page.url\n",
        "        print(f\"Information Source: {url}\")\n",
        "        search_urls.append(url)\n",
        "        page = page.content\n",
        "\n",
        "        # Using the client to generate content with the new SDK\n",
        "        response = client.models.generate_content(\n",
        "            model='gemini-2.0-flash',\n",
        "            contents=textwrap.dedent(f\"\"\"\\\n",
        "                Extract relevant information\n",
        "                about user's query: {query}\n",
        "                From this source:\n",
        "\n",
        "                {page}\n",
        "\n",
        "                Note: Do not summarize. Only Extract and return the relevant information\n",
        "            \"\"\")\n",
        "        )\n",
        "\n",
        "        urls = [url]\n",
        "        # In the new SDK, citation metadata handling has changed\n",
        "        # Check if response has citation metadata and handle it properly\n",
        "        try:\n",
        "          if response.candidates and response.candidates[0].citation_metadata:\n",
        "            # In the new SDK, citation sources may be accessed differently\n",
        "            # Check the structure of the citation_metadata\n",
        "            if hasattr(response.candidates[0].citation_metadata, 'citation_sources'):\n",
        "              extra_citations = response.candidates[0].citation_metadata.citation_sources\n",
        "              extra_urls = [source.url for source in extra_citations]\n",
        "              urls.extend(extra_urls)\n",
        "              search_urls.extend(extra_urls)\n",
        "              print(\"Additional citations:\", response.candidates[0].citation_metadata.citation_sources)\n",
        "        except AttributeError as e:\n",
        "          print(f\"Error processing citation metadata: {str(e)}\")\n",
        "          # Continue processing without citations\n",
        "          pass\n",
        "\n",
        "        try:\n",
        "          text = response.text\n",
        "        except (ValueError, AttributeError) as e:\n",
        "          print(f\"Error processing response text: {str(e)}\")\n",
        "          pass\n",
        "        else:\n",
        "          summary_results.append(text + \"\\n\\nBased on:\\n  \" + ',\\n  '.join(urls))\n",
        "\n",
        "      except DisambiguationError:\n",
        "        print(f\"\"\"Results when searching for \"{search_term}\" (originally for \"{query}\")\n",
        "        were ambiguous, hence skipping\"\"\")\n",
        "        continue\n",
        "\n",
        "      except PageError:\n",
        "        print(f'{search_term} did not match with any page id, hence skipping.')\n",
        "        continue\n",
        "\n",
        "      except Exception as e:\n",
        "        print(f'Error processing {search_term}: {str(e)}')\n",
        "        continue\n",
        "\n",
        "  print(f\"Information Sources:\")\n",
        "  for url in search_urls:\n",
        "    print('    ', url)\n",
        "\n",
        "  return summary_results\n",
        "\n"
      ]
    },
    {
      "cell_type": "code",
      "execution_count": 22,
      "metadata": {
        "id": "EWKkkKDXmzOX",
        "colab": {
          "base_uri": "https://localhost:8080/"
        },
        "outputId": "0d9ec315-0909-4cfd-8472-3edefe5e8046"
      },
      "outputs": [
        {
          "output_type": "stream",
          "name": "stdout",
          "text": [
            "Searching for \"What are LLMs?\"\n",
            "Related search terms: ['Large language model', 'Retrieval-augmented generation', 'DeepSeek']\n",
            "Fetching page: \"Large language model\"\n",
            "Information Source: https://en.wikipedia.org/wiki/Large_language_model\n",
            "Fetching page: \"Retrieval-augmented generation\"\n",
            "Information Source: https://en.wikipedia.org/wiki/Retrieval-augmented_generation\n",
            "Fetching page: \"DeepSeek\"\n",
            "Information Source: https://en.wikipedia.org/wiki/DeepSeek\n",
            "Information Sources:\n",
            "     https://en.wikipedia.org/wiki/Large_language_model\n",
            "     https://en.wikipedia.org/wiki/Retrieval-augmented_generation\n",
            "     https://en.wikipedia.org/wiki/DeepSeek\n"
          ]
        }
      ],
      "source": [
        "example = wikipedia_search([\"What are LLMs?\"])"
      ]
    },
    {
      "cell_type": "markdown",
      "metadata": {
        "id": "8bPT114QEPgW"
      },
      "source": [
        "Here is what the search results look like:"
      ]
    },
    {
      "cell_type": "code",
      "execution_count": 20,
      "metadata": {
        "id": "8wy7YUFqEYTv",
        "colab": {
          "base_uri": "https://localhost:8080/",
          "height": 595
        },
        "outputId": "5442ed5e-9d6b-4f0b-ec5b-b9fa60d4e93e"
      },
      "outputs": [
        {
          "output_type": "display_data",
          "data": {
            "text/plain": [
              "<IPython.core.display.Markdown object>"
            ],
            "text/markdown": "> LLMs:\n> \n> *   Are a type of machine learning model designed for natural language processing tasks like language generation.\n> *   Are language models with many parameters.\n> *   Are trained with self-supervised learning on a vast amount of text.\n> *   The largest and most capable LLMs are generative pretrained transformers (GPTs).\n> *   Modern models can be fine-tuned for specific tasks or guided by prompt engineering.\n> *   These models acquire predictive power regarding syntax, semantics, and ontologies inherent in human language corpora, but they also inherit inaccuracies and biases present in the data they are trained in.\n> \n> \n> Based on:\n>   https://en.wikipedia.org/wiki/Large_language_model"
          },
          "metadata": {}
        },
        {
          "output_type": "display_data",
          "data": {
            "text/plain": [
              "<IPython.core.display.Markdown object>"
            ],
            "text/markdown": "> According to the provided source:\n> \n> *   RAG modifies interactions with a large language model (LLM) so that the model responds to user queries with reference to a specified set of documents, using this information to supplement information from its pre-existing training data.\n> *   RAG improves large language models (LLMs) by incorporating information retrieval before generating responses.\n> *   LLMs rely on static training data.\n> *   RAG allows large language models (LLMs) to retrieve and incorporate additional information before generating responses.\n> *   RAG enhances large language models (LLMs) by incorporating an information-retrieval mechanism that allows models to access and utilize additional data beyond their original training set.\n> \n> \n> Based on:\n>   https://en.wikipedia.org/wiki/Retrieval-augmented_generation"
          },
          "metadata": {}
        },
        {
          "output_type": "display_data",
          "data": {
            "text/plain": [
              "<IPython.core.display.Markdown object>"
            ],
            "text/markdown": "> Based on the provided text, here's the extracted information about what LLMs (Large Language Models) are, specifically in the context of DeepSeek:\n> \n> *   DeepSeek is a Chinese artificial intelligence company that develops large language models (LLMs).\n> *   DeepSeek-R1 provides responses comparable to other contemporary large language models, such as OpenAI's GPT-4 and o1.\n> *   LLMs developed by DeepSeek are referred to as \"open weight,\" meaning the exact parameters are openly shared, although certain usage conditions differ from typical open-source software.\n> *   DeepSeek has created several series of LLMs, including DeepSeek-LLM, DeepSeek Coder, DeepSeek-MoE, DeepSeek-Math, V2, V3, and R1.\n> *   DeepSeek significantly reduced training expenses for their R1 model by incorporating techniques such as mixture of experts (MoE) layers.\n> *   DeepSeek models are transformer based, using decoder-only transformers.\n> *   DeepSeek models incorporate techniques such as multi-head latent attention (MLA), Mixture of Experts (MoE), and KV caching.\n> \n> \n> Based on:\n>   https://en.wikipedia.org/wiki/DeepSeek"
          },
          "metadata": {}
        }
      ],
      "source": [
        "from IPython.display import display\n",
        "\n",
        "for e in example:\n",
        "  display(to_markdown(e))"
      ]
    },
    {
      "cell_type": "markdown",
      "metadata": {
        "id": "SKcH1LICeg5Z"
      },
      "source": [
        "### Pass the tools to the model"
      ]
    },
    {
      "cell_type": "markdown",
      "metadata": {
        "id": "qQcxR7cjLjGM"
      },
      "source": [
        "In the new Google GenAI SDK v1.0.0+, function calling is handled by registering your tools with the client and then providing them when sending messages. The client will handle the extraction of schema from function signatures, and the model may return a function call object when it wants to call the function.\n",
        "\n",
        "The functions need to have proper type annotations for parameters and return values to work correctly."
      ]
    },
    {
      "cell_type": "markdown",
      "metadata": {
        "id": "VedPbpzlh6jX"
      },
      "source": [
        "## Generate supporting search queries"
      ]
    },
    {
      "cell_type": "markdown",
      "metadata": {
        "id": "5sLKZik7isBW"
      },
      "source": [
        "In order to have multiple supporting search queries to the user's original query, you will ask the model to generate more such queries. This would help the engine to cover the asked question on comprehensive levels."
      ]
    },
    {
      "cell_type": "code",
      "execution_count": 28,
      "metadata": {
        "id": "Z-Ym3H9KIosY"
      },
      "outputs": [],
      "source": [
        "instructions = \"\"\"You have access to the Wikipedia API which you will be using\n",
        "to answer a user's query. Your job is to generate a list of search queries which\n",
        "might answer a user's question. Be creative by using various key-phrases from\n",
        "the user's query. To generate variety of queries, ask questions which are\n",
        "related to  the user's query that might help to find the answer. The more\n",
        "queries you generate the better are the odds of you finding the correct answer.\n",
        "Here is an example:\n",
        "\n",
        "user: Tell me about Cricket World cup 2023 winners.\n",
        "\n",
        "function_call: wikipedia_search(['What is the name of the team that\n",
        "won the Cricket World Cup 2023?', 'Who was the captain of the Cricket World Cup\n",
        "2023 winning team?', 'Which country hosted the Cricket World Cup 2023?', 'What\n",
        "was the venue of the Cricket World Cup 2023 final match?', 'Cricket World cup 2023',\n",
        "'Who lifted the Cricket World Cup 2023 trophy?'])\n",
        "\n",
        "The search function will return a list of article summaries, use these to\n",
        "answer the  user's question.\n",
        "\n",
        "Here is the user's query: {query}\n",
        "\"\"\""
      ]
    },
    {
      "cell_type": "markdown",
      "metadata": {
        "id": "3Wyn3lV-d5S_"
      },
      "source": [
        "In order to yield creative and a more random variety of questions, you will set the model's temperature parameter to a value higher. Values can range from [0.0,1.0], inclusive. A value closer to 1.0 will produce responses that are more varied and creative, while a value closer to 0.0 will typically result in more straightforward responses from the model."
      ]
    },
    {
      "cell_type": "markdown",
      "metadata": {
        "id": "TD1vU6FXhYO5"
      },
      "source": [
        "## Enable automatic function calling and call the API"
      ]
    },
    {
      "cell_type": "markdown",
      "metadata": {
        "id": "qyUSnXJ5hg6x"
      },
      "source": [
        "Now start a new chat with `enable_automatic_function_calling=True`. With it enabled, the `genai.ChatSession` will handle the back and forth required to call the function, and return the final response:"
      ]
    },
    {
      "cell_type": "code",
      "execution_count": 29,
      "metadata": {
        "id": "ZNJqA60yKNpT",
        "colab": {
          "base_uri": "https://localhost:8080/"
        },
        "outputId": "87616113-5593-41c8-d435-332ef97a745e"
      },
      "outputs": [
        {
          "output_type": "stream",
          "name": "stdout",
          "text": [
            "Searching for \"deep sea life adaptations\"\n",
            "Related search terms: ['Deep sea', 'Deep-sea fish', 'Deep-sea gigantism']\n",
            "Fetching page: \"Deep sea\"\n",
            "Information Source: https://en.wikipedia.org/wiki/Deep_sea\n",
            "Fetching page: \"Deep-sea fish\"\n",
            "Information Source: https://en.wikipedia.org/wiki/Deep-sea_fish\n",
            "Fetching page: \"Deep-sea gigantism\"\n",
            "Information Source: https://en.wikipedia.org/wiki/Deep-sea_gigantism\n",
            "Searching for \"deep sea food sources\"\n",
            "Related search terms: ['Deep-sea fish', 'Deep sea', 'Deep-sea wood']\n",
            "Fetching page: \"Deep-sea wood\"\n",
            "Information Source: https://en.wikipedia.org/wiki/Deep-sea_wood\n",
            "Searching for \"deep sea environment\"\n",
            "Related search terms: ['Deep-sea fish', 'Deep-sea gigantism', 'Deep sea mining']\n",
            "Fetching page: \"Deep sea mining\"\n",
            "Information Source: https://en.wikipedia.org/wiki/Deep_sea_mining\n",
            "Searching for \"hydrothermal vent ecosystems\"\n",
            "Related search terms: ['Hydrothermal vent', 'Hydrothermal vent microbial communities', \"Loki's Castle\"]\n",
            "Fetching page: \"Hydrothermal vent\"\n",
            "Information Source: https://en.wikipedia.org/wiki/Hydrothermal_vent\n",
            "Fetching page: \"Hydrothermal vent microbial communities\"\n",
            "Information Source: https://en.wikipedia.org/wiki/Hydrothermal_vent_microbial_communities\n",
            "Fetching page: \"Loki's Castle\"\n",
            "Information Source: https://en.wikipedia.org/wiki/Loki%27s_Castle\n",
            "Searching for \"cold seep ecosystems\"\n",
            "Related search terms: ['Cold seep', 'Thiotrichales', 'Aquatic ecosystem']\n",
            "Fetching page: \"Cold seep\"\n",
            "Information Source: https://en.wikipedia.org/wiki/Cold_seep\n",
            "Fetching page: \"Thiotrichales\"\n",
            "Information Source: https://en.wikipedia.org/wiki/Thiotrichales\n",
            "Fetching page: \"Aquatic ecosystem\"\n",
            "Information Source: https://en.wikipedia.org/wiki/Aquatic_ecosystem\n",
            "Searching for \"deep sea biodiversity\"\n",
            "Related search terms: ['Deep sea', 'Deep sea mining', 'Deep-sea community']\n",
            "Fetching page: \"Deep-sea community\"\n",
            "Information Source: https://en.wikipedia.org/wiki/Deep-sea_community\n",
            "Searching for \"challenges of deep sea life\"\n",
            "Related search terms: ['Deepsea Challenger', 'Deep-sea community', 'Deep sea']\n",
            "Fetching page: \"Deepsea Challenger\"\n",
            "Information Source: https://en.wikipedia.org/wiki/Deepsea_Challenger\n",
            "Searching for \"deep sea organisms\"\n",
            "Related search terms: ['Deep-sea fish', 'Deep sea', 'Hydrothermal vent']\n",
            "Searching for \"how deep-sea creatures survive pressure\"\n",
            "Related search terms: ['Deep-sea community', 'Deep sea', 'Deep-sea fish']\n",
            "Searching for \"how deep-sea creatures find food\"\n",
            "Related search terms: ['Deep-sea community', 'Deep-sea fish', 'The Witcher: Sirens of the Deep']\n",
            "Fetching page: \"The Witcher: Sirens of the Deep\"\n",
            "Information Source: https://en.wikipedia.org/wiki/The_Witcher:_Sirens_of_the_Deep\n",
            "Searching for \"deep sea chemosynthesis\"\n",
            "Related search terms: ['Deep-sea community', 'Deep sea', 'Chemosynthesis']\n",
            "Fetching page: \"Chemosynthesis\"\n",
            "Information Source: https://en.wikipedia.org/wiki/Chemosynthesis\n",
            "Searching for \"deep sea bioluminescence\"\n",
            "Related search terms: ['Deep sea', 'Bioluminescence', 'Deep-sea fish']\n",
            "Fetching page: \"Bioluminescence\"\n",
            "Information Source: https://en.wikipedia.org/wiki/Bioluminescence\n",
            "Information Sources:\n",
            "     https://en.wikipedia.org/wiki/Deep_sea\n",
            "     https://en.wikipedia.org/wiki/Deep-sea_fish\n",
            "     https://en.wikipedia.org/wiki/Deep-sea_gigantism\n",
            "     https://en.wikipedia.org/wiki/Deep-sea_wood\n",
            "     https://en.wikipedia.org/wiki/Deep_sea_mining\n",
            "     https://en.wikipedia.org/wiki/Hydrothermal_vent\n",
            "     https://en.wikipedia.org/wiki/Hydrothermal_vent_microbial_communities\n",
            "     https://en.wikipedia.org/wiki/Loki%27s_Castle\n",
            "     https://en.wikipedia.org/wiki/Cold_seep\n",
            "     https://en.wikipedia.org/wiki/Thiotrichales\n",
            "     https://en.wikipedia.org/wiki/Aquatic_ecosystem\n",
            "     https://en.wikipedia.org/wiki/Deep-sea_community\n",
            "     https://en.wikipedia.org/wiki/Deepsea_Challenger\n",
            "     https://en.wikipedia.org/wiki/The_Witcher:_Sirens_of_the_Deep\n",
            "     https://en.wikipedia.org/wiki/Chemosynthesis\n",
            "     https://en.wikipedia.org/wiki/Bioluminescence\n"
          ]
        }
      ],
      "source": [
        "# # Create a chat session with the client with configuration\n",
        "# Attach your function tool here in a GenerateContentConfig\n",
        "chat = client.chats.create(\n",
        "    model='gemini-2.0-flash',\n",
        "    config=types.GenerateContentConfig(\n",
        "        temperature=0.6,\n",
        "        tools=[wikipedia_search],\n",
        "    )\n",
        ")\n",
        "\n",
        "query = \"Explain how deep-sea life survives.\"\n",
        "\n",
        "# Now you can just send the message; the chat session will handle\n",
        "res = chat.send_message(\n",
        "    message=instructions.format(query=query)\n",
        ")"
      ]
    },
    {
      "cell_type": "code",
      "execution_count": 30,
      "metadata": {
        "id": "1l8KWb13M_lJ",
        "colab": {
          "base_uri": "https://localhost:8080/",
          "height": 564
        },
        "outputId": "e985a71b-ef38-44df-ef27-4dc7c9740df1"
      },
      "outputs": [
        {
          "output_type": "execute_result",
          "data": {
            "text/plain": [
              "<IPython.core.display.Markdown object>"
            ],
            "text/markdown": "> Deep-sea life survives in a challenging environment characterized by darkness, low temperatures, and immense pressure. Here's a breakdown of their survival mechanisms:\n> \n> 1.  **Adaptations to Darkness:**\n> \n>     *   Many deep-sea creatures are blind and rely on senses other than sight, such as pressure and smell.\n>     *   Some have developed large, sensitive eyes to detect the faintest bioluminescent light.\n>     *   Bioluminescence, the production of light, is common and used for various purposes like hunting, attracting prey, communication, and camouflage.\n> \n> 2.  **Adaptations to Pressure:**\n> \n>     *   Organisms have internal pressure that matches the external pressure to avoid being crushed.\n>     *   Their cell membranes have a higher proportion of unsaturated fatty acids to maintain fluidity under pressure.\n>     *   They have also evolved structural modifications in their proteins to withstand high pressure.\n> \n> 3.  **Finding Food:**\n> \n>     *   Food is scarce, so deep-sea life relies on:\n>         *   **Marine snow:** Organic material that sinks from upper waters.\n>         *   **Scavenging:** Feeding on dead organisms.\n>         *   **Predation:** Hunting other deep-sea creatures.\n>         *   **Hydrothermal vents and cold seeps:** Some communities thrive around these features, utilizing chemosynthesis.\n>     *   Chemosynthesis is a process where bacteria use chemicals like hydrogen sulfide to produce organic material, forming the base of the food chain in these ecosystems.\n>     *   Some fish have evolved features like long feelers, bioluminescent lures, sharp teeth, and expandable bodies to help them find and consume prey.\n> \n> 4.  **Other Adaptations:**\n> \n>     *   Many deep-sea fish have jelly-like flesh and minimal bone structure for buoyancy and to withstand pressure.\n>     *   Some have high fat content and accumulate water to reduce tissue density.\n>     *   Deep-sea gigantism, the tendency for deep-sea animals to grow larger than their shallow-water relatives, is observed in some species due to factors like colder temperatures, food scarcity, and reduced predation.\n"
          },
          "metadata": {},
          "execution_count": 30
        }
      ],
      "source": [
        "to_markdown(res.text)"
      ]
    },
    {
      "cell_type": "markdown",
      "metadata": {
        "id": "ua7DPlj7HZyO"
      },
      "source": [
        "Check for additional citations:"
      ]
    },
    {
      "cell_type": "code",
      "execution_count": 31,
      "metadata": {
        "id": "ASotq7EcHAeo",
        "colab": {
          "base_uri": "https://localhost:8080/",
          "height": 35
        },
        "outputId": "fcb92128-61f9-4f22-e45b-b07d1c5ec25b"
      },
      "outputs": [
        {
          "output_type": "execute_result",
          "data": {
            "text/plain": [
              "'No citations found'"
            ],
            "application/vnd.google.colaboratory.intrinsic+json": {
              "type": "string"
            }
          },
          "metadata": {},
          "execution_count": 31
        }
      ],
      "source": [
        "res.candidates[0].citation_metadata or 'No citations found'"
      ]
    },
    {
      "cell_type": "markdown",
      "metadata": {
        "id": "A0CfKMjYFSQm"
      },
      "source": [
        "That looks like it worked. You can go through the chat history to see the details of what was sent and received in the function calls:"
      ]
    },
    {
      "cell_type": "code",
      "execution_count": 34,
      "metadata": {
        "id": "_9h2b8saNnxh",
        "colab": {
          "base_uri": "https://localhost:8080/"
        },
        "outputId": "478a9271-80f5-4d41-a192-7488772d8a5f"
      },
      "outputs": [
        {
          "output_type": "stream",
          "name": "stdout",
          "text": [
            "user -> \n",
            "You have access to the Wikipedia API which you will be using\n",
            "to answer a user's query. Your job is to generate a list of search queries which\n",
            "might answer a user's question. Be creative by using various key-phrases from\n",
            "the user's query. To generate variety of queries, ask questions which are\n",
            "related to  the user's query that might help to find the answer. The more\n",
            "queries you generate the better are the odds of you finding the correct answer.\n",
            "Here is an example:\n",
            "\n",
            "user: Tell me about Cricket World cup 2023 winners.\n",
            "\n",
            "function_call: wikipedia_search(['What is the name of the team that\n",
            "won the Cricket World Cup 2023?', 'Who was the captain of the Cricket World Cup\n",
            "2023 winning team?', 'Which country hosted the Cricket World Cup 2023?', 'What\n",
            "was the venue of the Cricket World Cup 2023 final match?', 'Cricket World cup 2023',\n",
            "'Who lifted the Cricket World Cup 2023 trophy?'])\n",
            "\n",
            "The search function will return a list of article summaries, use these to\n",
            "answer the  user's question.\n",
            "\n",
            "Here is the user's query: Explain how deep-sea life survives.\n",
            "\n",
            "------------------------------------------------------------\n",
            "model -> \n",
            "Function Call: wikipedia_search\n",
            "Arguments: {\n",
            "  \"search_queries\": [\n",
            "    \"deep sea life adaptations\",\n",
            "    \"deep sea food sources\",\n",
            "    \"deep sea environment\",\n",
            "    \"hydrothermal vent ecosystems\",\n",
            "    \"cold seep ecosystems\",\n",
            "    \"deep sea biodiversity\",\n",
            "    \"challenges of deep sea life\",\n",
            "    \"deep sea organisms\",\n",
            "    \"how deep-sea creatures survive pressure\",\n",
            "    \"how deep-sea creatures find food\",\n",
            "    \"deep sea chemosynthesis\",\n",
            "    \"deep sea bioluminescence\"\n",
            "  ]\n",
            "}\n",
            "------------------------------------------------------------\n",
            "user -> \n",
            "Function Response: wikipedia_search\n",
            "Response: {\n",
            "  \"result\": [\n",
            "    \"The query is \\\"deep sea life adaptations\\\". Here's the extracted information from the provided source:\\n\\n*   **Definition and Conditions:** The deep sea starts where light fades (around 200m). It's characterized by low temperatures, darkness, and high pressure.\\n\\n*   **Feeding Methods:** Organisms survive via scavenging, predation, filtration, and feeding on marine snow (organic material from upper waters).\\n\\n*   **Light Adaptation:** Lack of light means no photosynthesis. Animals depend on energy from sinking organic material (marine snow). Some fish have larger eyes, tubular eyes, and retroreflectors. Some prey fish use lateral compression or counter illumination (bioluminescence) for camouflage.\\n\\n*   **Pressure Adaptation:** Pressure increases with depth. Organisms have physiological and structural adaptations to proteins to maintain functionality. Deep sea fish developed pressure tolerance through the change in mechanism of their \\u03b1-actin. Specific osmolytes such as Trimethylamine N-oxide (TMAO) increased with depth, replacing other osmolytes and urea. Snailfish developed modification in the Osteocalcin gene, where premature termination of the gene was found, leading to open skull and cartilage-based bone formation.\\n\\n*   **Food Scarcity:** Food is scarce and consists of marine snow and carcasses. Scavengers and filter feeders exist.\\n\\n*   **Buoyancy:** Jelly-like flesh made of glycosaminoglycans provides low density buoyancy. Some squid use a flotation chamber filled with ammonium chloride.\\n\\n*   **Midwater Fish:** They are small with slow metabolisms, unspecialized diets, elongated bodies, weak muscles, and extendable jaws. Hermaphroditism is common.\\n\\n*   **Chemosynthesis:** Communities at hydrothermal vents rely on chemosynthesis (e.g., tube worms and chemosynthetic bacteria) rather than sunlight.\\n\\n*   **Impacts of Human activity:** Deep sea organisms have been harmed by human interaction with the oceans. The London Convention aims to protect the marine environment from dumping of wastes. Ocean acidification is harmful to deep sea corals. Deep sea trawling is also harming the biodiversity. Another human activity that has altered deep sea biology is mining.\\n\\n\\n\\nBased on:\\n  https://en.wikipedia.org/wiki/Deep_sea\",\n",
            "    \"**General Adaptations to Deep-Sea Life**\\n\\n*   **Sensory Adaptations:**\\n    *   Many deep-sea fish are blind and rely on other senses like pressure and smell.\\n    *   Those with eyesight have large, sensitive eyes for bioluminescent light. Eyes can be 100 times more sensitive than human eyes.\\n    *   Multiple Rh1 opsin genes (e.g., silver spinyfin with 38) enhance vision in dim light.\\n\\n*   **Camouflage:**\\n    *   Dark coloration to blend in with the environment.\\n\\n*   **Bioluminescence:**\\n    *   Common in mesopelagic and deeper zones (below 200m).\\n    *   Over 50% of deep-sea fish are bioluminescent.\\n    *   Used for hunting, attracting prey, claiming territory, communication, mate finding, and predator distraction.\\n    *   Counter-illumination for camouflage in mesopelagic zone.\\n\\n*   **Buoyancy:**\\n    *   Eggs and larvae often have oil droplets for neutral buoyancy.\\n    *   Adults lack swim bladders due to high pressure.\\n    *   Hydrofoil-like structures provide hydrodynamic lift.\\n\\n*   **Physical Adaptations:**\\n    *   Jelly-like flesh and minimal bone structure.\\n    *   High fat content and water accumulation to reduce tissue density.\\n    *   Body shapes suited for bursts of swimming.\\n\\n*   **Feeding:**\\n    *   Reliance on marine snow or hydrothermal vents for nutrients.\\n    *   Long feelers to locate prey.\\n    *   Anglerfish use bioluminescent lures.\\n    *   Adaptations for consuming large prey: sharp teeth, hinged jaws, large mouths, expandable bodies.\\n\\n**Environmental Adaptations**\\n\\n*   **Hydrostatic Pressure:**\\n    *   Internal pressure matches external pressure to avoid being crushed.\\n    *   Increased unsaturated fatty acids in cell membranes for fluidity.\\n    *   Metabolic processes that decrease organism volume.\\n\\n**Adaptations to High Pressure**\\n\\n*   Deep-sea organisms have adaptations at cellular and physiological levels to survive in high-pressure environments.\\n*   Enzymatic reactions are adapted to withstand pressure.\\n*   Cellular membranes favor phospholipid bilayers with a higher proportion of unsaturated fatty acids.\\n*   Species have evolved a gelatinous layer for buoyancy and swimming efficiency.\\n*   Proteins are structurally strengthened by modification of the bonds in the tertiary structure.\\n\\n**Bathypelagic Fish Adaptations**\\n\\n*   Bathypelagic fish are sedentary, adapted to outputting minimum energy due to very little food or available energy, only bioluminescence.\\n*   Elongated bodies with weak muscles and skeletal structures.\\n*   Watery composition to avoid compression from pressure.\\n*   Extensible, hinged jaws with recurved teeth.\\n*   Slimy, without scales.\\n*   Small or non-functional eyes, gills, kidneys, hearts, and swim bladders.\\n*   Sensory systems rely on the inner ear and lateral line.\\n*   Black or red coloration with few photophores.\\n*   Non-selective feeding habits.\\n*   Adaptations for finding mates in the dark, such as bioluminescent patterns and hermaphroditism.\\n\\n\\nBased on:\\n  https://en.wikipedia.org/wiki/Deep-sea_fish\",\n",
            "    \"*   **Deep-sea gigantism/abyssal gigantism:** The tendency for deep-sea dwelling animals to be larger than their shallower-water relatives across a large taxonomic range.\\n*   **Proposed Explanations:** Adaptation to colder temperature, food scarcity, reduced predation pressure, and increased dissolved oxygen concentrations in the deep sea.\\n*   **Taxonomic Range:**\\n    *   **Crustaceans:** Mysids, euphausiids, decapods, isopods, ostracods, and amphipods.\\n    *   **Non-arthropods:** Cephalopods, cnidarians, and eels (Anguilliformes).\\n*   **Notable Organisms exhibiting deep-sea gigantism:** Big red jellyfish, *Stygiomedusa* jellyfish, giant isopod, giant ostracod, giant sea spider, giant amphipod, Japanese spider crab, giant oarfish, deepwater stingray, seven-arm octopus, colossal squid (up to 14 m), giant squid (up to 12 m), *Megalocranchia fisheri*, robust clubhook squid, *Dana* octopus squid, cockatoo squid, giant warty squid, and bigfin squids (*Magnapinna*).\\n*   **Meiofauna:** Does not exhibit deep-sea gigantism; they show the reverse trend of decreasing size with depth.\\n*   **Explanations for Deep-Sea Gigantism:**\\n    *   **Lower Temperature:** Similar to Bergmann's rule, decreasing temperature leads to increased cell size and lifespan, resulting in larger body size. Reduced vertical temperature gradient in Arctic and Antarctic seas reduces the trend towards increased body size with depth. Not applicable to giant tube worms.\\n    *   **Food Scarcity:** Larger body size improves foraging ability. Larger offspring have greater food reserves for drifting longer distances. Giant isopods gorge on food and can survive long periods without it. Kleiber's law suggests larger animals have more efficient metabolism, beneficial in limited food supply.\\n    *   **Reduced Predation Pressure:** Predation is less frequent at greater depths.\\n    *   **Increased Dissolved Oxygen:** Maximum potential organism size correlates with increased dissolved oxygen levels in deeper waters. Solubility of dissolved oxygen lowers in intermediary depths before increasing again in deeper waters. Larger organisms can intake more dissolved oxygen, but this can lead to oxygen toxicity.\\n*   **Impact of Climate Change:**\\n    *   Deep-sea ecosystems are sensitive to climate shifts due to their dependence on marine snow and water currents.\\n    *   Global warming may lead to higher ocean temperatures and reduced dissolved oxygen in the deep sea, potentially diminishing deep-sea gigantism.\\n    *   Warmer ocean state would disrupt thermohaline circulation, leading to warmer and more saline deep water.\\n\\n\\nBased on:\\n  https://en.wikipedia.org/wiki/Deep-sea_gigantism\",\n",
            "    \"The following organisms are present in deep-sea wood ecosystems and may serve as food sources:\\n\\n*   **Wood-boring bivalves:** (e.g., *Xylophaga dorsalis*) digest wood with the help of symbiotic bacteria.\\n*   **Chemosynthetic fauna:** (e.g., *Idas modiolaeformis*)\\n*   **Deep-sea crabs and sea urchins:** Chemically attracted to the wood.\\n*   **Snails, predatory worms, and small crustaceans:** May feed on microorganisms or other inhabitants of the wood.\\n*   **Fungi:** Degrade lignocellulose, converting cellulose into a carbon form usable by other organisms up the food chain.\\n*   **Bacteria:** Various strains of bacteria, including Gammaproteobacteria, Alphaproteobacteria, Flavobacteria, Actinobacteria, Clostridia, and Bacteroidetes, contribute to wood digestion. Some are sulfur-reducing bacteria that obtain energy from reducing elemental sulfur.\\n\\nThe bacterial inhabitants of the wood may serve as a base organism for deep-sea life.\\n\\n\\nBased on:\\n  https://en.wikipedia.org/wiki/Deep-sea_wood\",\n",
            "    \"### Deep Sea Environment\\n\\n*   **Definition:** Deep sea mining is the extraction of minerals from the seabed of the deep sea.\\n*   **Depth:** The main ores of commercial interest are polymetallic nodules, which are found at depths of 4\\u20136 km (2.5\\u20133.7 mi) primarily on the abyssal plain. Polymetallic sulfides are at sea depths mostly between 1 and 4 km (0.62 and 2.5 mi). Cobalt-rich crusts are found at depths of 600\\u20137,000 m (2,000\\u201323,000 ft).\\n*   **Resources:** The main ores of commercial interest are polymetallic nodules, polymetallic sulfides, and cobalt-rich crusts.\\n    *   **Polymetallic nodules:** Found at depths of 4\\u20136 km (2.5\\u20133.7 mi) in all major oceans. Rich in metals including rare earth elements, cobalt, nickel, copper, molybdenum, and yttrium.\\n    *   **Polymetallic sulfides:** Form in active oceanic tectonic settings such as island arcs and back-arcs and mid ocean ridge environments at sea depths mostly between 1 and 4 km (0.62 and 2.5 mi). Rich in copper, gold, lead, silver, and others.\\n    *   **Cobalt-rich crusts (CRCs):** Form on sediment-free rock surfaces around oceanic seamounts, ocean plateaus, and other elevated features. The deposits are found at depths of 600\\u20137,000 m (2,000\\u201323,000 ft). Crusts are rich in a range of metals including cobalt, tellurium, nickel, copper, platinum, zirconium, tungsten, and rare earth elements.\\n*   **Locations:**\\n    *   **Clarion\\u2013Clipperton Zone (CCZ):** The largest deposits of polymetallic nodules occur here. It stretches over 4.5 million square kilometers of the Northern Pacific Ocean between Hawaii and Mexico.\\n    *   **Cook Islands:** Contains the world's fourth largest deposit of polymetallic nodules in the South Penrhyn basin close to the Manihiki Plateau.\\n    *   **Mid-Atlantic Ridge system:** Polymetallic nodules are found here, around Papua New Guinea, Solomon Islands, Vanuatu, and Tonga, and the Peru Basin.\\n    *   **Seamounts in the Atlantic and Indian Ocean:** Cobalt-rich crusts are found here, as well as countries such as the Pacific Federated States of Micronesia, Marshall Islands, and Kiribati.\\n    *   **Mariana Trench:** The seabed is abundant with resources.\\n    *   **Central and Eastern Manus Basin around Papua New Guinea and the crater of Conical Seamount:** Sulfide deposits are found here.\\n    *   **US territorial waters:** Hawaiian Islands (nodules and CRCs), southeastern Blake Plateau, California, and the Gulf of Alaska (CRCs).\\n    *   **Norwegian EEZ, as well as on its continental shelf extension, along Mohns and Knipovich ridges Jan Mayen and Svalbard in the North Atlantic:** Seafloor Massive Sulfides (SMS), but also potentially Cobalt-rich crusts are here.\\n*   **Ecosystems:** Polymetallic nodule fields are hotspots of abundance and diversity for abyssal fauna. Deep sea ecosystems are essential for ocean and carbon cycling and are vulnerable to climate change.\\n\\n\\n\\nBased on:\\n  https://en.wikipedia.org/wiki/Deep_sea_mining\",\n",
            "    \"**Definition and Formation:**\\n\\n*   Hydrothermal vents are fissures on the seabed that discharge geothermally heated water.\\n*   They are found near volcanically active areas, mid-ocean ridges where tectonic plates diverge, ocean basins, and hotspots.\\n*   The Earth's geological activity and abundance of water are essential for their existence.\\n*   They can form \\\"black smokers\\\" or \\\"white smokers\\\".\\n\\n**Physical Properties:**\\n\\n*   Typically found along mid-ocean ridges.\\n*   Water issuing from vents is primarily seawater drawn into the hydrothermal system, plus some magmatic water.\\n*   Vent temperatures range from 60\\u00b0C to as high as 464\\u00b0C, much higher than the surrounding 2\\u00b0C ambient water.\\n*   High pressure allows water to exist as a liquid or supercritical fluid.\\n*   Supercritical venting has been observed, but its significance is not yet fully known.\\n\\n**Black Smokers and White Smokers:**\\n\\n*   **Black smokers:** Emit dark, chimney-like structures with high levels of sulfur-bearing minerals (sulfides).\\n*   **White smokers:** Emit lighter-hued minerals like barium, calcium, and silicon and tend to have lower temperatures.\\n*   They can coexist in the same hydrothermal field.\\n\\n**Hydrothermal Plumes:**\\n\\n*   Hydrothermal plumes are created when hydrothermal fluids are expelled into the water column.\\n*   These plumes have distinct physical and chemical properties compared to seawater, promoting chemical reactions.\\n*   The plume rises due to buoyancy and mixes with seawater, eventually spreading laterally.\\n\\n**Biology of Hydrothermal Vents:**\\n\\n*   Hydrothermal vent ecosystems are based on chemosynthesis, where bacteria use chemicals (like hydrogen sulfide) to produce organic material.\\n*   These communities are biologically productive, supporting diverse organisms.\\n*   Chemosynthetic bacteria and archaea form the base of the food chain.\\n*   Examples of organisms include giant tube worms, clams, limpets, and shrimp.\\n*   They act as a significant source of iron in the oceans for phytoplankton.\\n\\n**Biological Communities:**\\n\\n*   The ecosystem relies on the hydrothermal vent field as the primary energy source.\\n*   Chemosynthetic bacteria grow into thick mats, attracting other organisms.\\n*   Larger organisms, like snails, shrimp, crabs, tube worms, fish, and octopuses, form a food chain.\\n*   Dominant organisms include annelids, pogonophorans, gastropods, and crustaceans.\\n\\n**Animal-Bacterial Symbiosis:**\\n\\n*   Symbiotic relationships have evolved at vents, where macroinvertebrate hosts and chemoautotrophic microbial symbionts interact.\\n*   Symbionts fix carbon using energy from chemicals like sulfide.\\n*   The host provides the symbiont with chemicals needed for chemosynthesis.\\n\\n**Theory of Hydrothermal Origin of Life:**\\n\\n*   Hydrothermal vents may have been significant to starting abiogenesis and the survival of primitive life.\\n*   Conditions at vents support the synthesis of molecules important to life.\\n*   The iron-sulfur world theory suggests life may have originated at hydrothermal vents.\\n\\n**Discovery and Exploration:**\\n\\n*   Evidence for submarine hydrothermal vents was first found along the Gal\\u00e1pagos Rift in 1976.\\n*   Chemosynthetic ecosystems were first directly observed in 1977.\\n*   High-temperature \\\"black smokers\\\" were discovered in 1979 on the East Pacific Rise.\\n\\n**Distribution:**\\n\\n*   Hydrothermal vents are distributed along Earth's plate boundaries and intra-plate locations.\\n*   As of 2009, approximately 500 known active submarine hydrothermal vent fields existed.\\n\\n**Exploitation:**\\n\\n*   Hydrothermal vents can lead to exploitable mineral resources via seafloor massive sulfide deposits.\\n*   They are rich in cobalt, gold, copper, and rare earth metals.\\n*   Mineral exploration companies are focused on extracting resources from hydrothermal fields.\\n*   The potential environmental impacts of seafloor mining are a concern.\\n\\n**Conservation:**\\n\\n*   Conservation of hydrothermal vents has been a topic of discussion in the oceanographic community.\\n*   There is a code of practice, but no formal international and legally binding agreement.\\n\\n**History and Formation of Hydrothermal Vents**\\n\\n*   Most known vents form along mid-ocean ridges due to seismic activity near volcanic regions.\\n*   Seismic activity causes eruptions of gases, liquids, and sediments.\\n*   The vents form in craters and have chimney-like structures.\\n\\n\\nBased on:\\n  https://en.wikipedia.org/wiki/Hydrothermal_vent\",\n",
            "    \"**Microbial Community:**\\n\\n*   Includes unicellular organisms in the microbial mat, free-floating cells, or bacteria in endosymbiotic relationships with animals.\\n*   Chemolithoautotrophic bacteria derive nutrients and energy from geological activity to fix carbon into organic forms.\\n*   Viruses are also part of this community, and their influence is an active area of research.\\n\\n**Energy Source:**\\n\\n*   Chemosynthesis is the primary energy source due to the absence of sunlight.\\n*   Symbiotic bacteria and archaea form the base of the food chain.\\n*   Organisms use symbiotic relationships to obtain chemical energy released at vents.\\n\\n**Types of Hydrothermal Vents:**\\n\\n*   **Black Smokers:** Release very hot water (300-400\\u00b0C), high in metal sulfides (iron, manganese, copper, zinc). Minerals precipitate, forming chimney-like structures.\\n*   **White Smokers:** Emit milky-colored water (200-330\\u00b0C). The color comes from calcium-rich minerals. Form chimney-like structures.\\n*   **Diffuse Vents:** Release clear, low-temperature (<30\\u00b0C) waters. Fluids spread out slowly, creating temperature and chemical gradients that support diverse microbial communities, including sulfur-oxidizing bacteria.\\n*   **Alkaline Vents:** Fluids with high pH (9-11) and low temperatures (40-90\\u00b0C). Rich in methane (CH4) and hydrogen (H2) from serpentinization.\\n\\n**Adaptations:**\\n\\n*   Microbes are often hyperthermophiles (growing above 90\\u00b0C).\\n*   They have proteins with extended stability at high temperatures.\\n*   High salt concentrations (Mg, K, PO4) and histone-like proteins help stabilize DNA.\\n*   Symbiotic relationships allow microbes to metabolize sulfide-rich waters.\\n*   Enriched in genes for DNA mismatch repair and homologous recombination.\\n\\n**Community Composition:**\\n\\n*   **Abundant Bacteria:** Chemolithotrophs (use reduced chemical species, often sulfur, for energy).\\n*   **Sulfur-oxidizing bacteria:** (Thiomicrospira, Thiothrix, Beggiatoa) common due to readily available energy source and aerobic chemosynthesis.\\n*   **Methane-oxidizing bacteria:** (Methylobacter) in vents with methane. Found in Riftia trophosome (symbiotic relationship).\\n*   **Hydrogen-oxidizing bacteria:** Aerobic, symbiotic with Riftia. Important in primary production of organic carbon.\\n*   **Iron- and manganese-oxidizing bacteria:** Common in iron and manganese deposits.\\n*   **Dominant Phyla:** Proteobacteria is most dominant phyla in deep-sea vents\\n\\n**Symbiotic Relationships:**\\n\\n*   Common in deep-sea clams, mussels, and tube worms (Riftia pachyptila, Alvinella pompejana).\\n*   Trophosome is a specialized organ for symbionts.\\n*   Organisms rely on symbionts and have lost digestive features.\\n*   Bacteria provide H2S and free O2.\\n*   Methane-oxidizing bacteria found in some organisms.\\n\\n**Viruses:**\\n\\n*   Abundant, indicating high viral production.\\n*   Significant source of microbial mortality.\\n*   Impact microbial biogeochemical cycling by lysing hosts.\\n*   May enhance prokaryote survival in extreme environments (horizontal gene transfer).\\n*   Temperate phages can confer phenotypes that improve fitness.\\n*   Vent viruses may have a mutualistic relationship with hosts.\\n*   Viral genes may manipulate bacterial metabolism.\\n\\n**Biogeochemical processes**\\n*Microbial communities mediate the transformation of energy and minerals produced into organic material\\n*Microbes derive energy by oxidizing or reducing elements such as sulfur, nitrogen, carbon and hydrogen\\n*Four metabolic pathways for carbon fixation found in microbial vent communities include the Calvin\\u2013Benson\\u2013Bassham (CBB) cycle, reductive tricarboxylic acid (rTCA) cycle, 3-hydroxypropionate (3-HP) cycle and reductive acetyl coenzyme A (acetyl-CoA) pathway.\\n*Methanogenesis, where methane is produced, can be found alongside AOM (anaerobic oxidation of methane) in sediments.\\n*Sulfur reduction uses sulfate as an electron acceptor for the assimilation of sulfur and is favored by organisms living in highly anoxic areas\\n\\n**Biogeochemical Comparisons:**\\n*Microbial assemblages differ among vent fields due to geochemical conditions, plate tectonics, and nutrient availability.\\n*Slow spreading systems like the Mid-Atlantic Ridge impact fluid chemistry.\\n*Key chemistry: high sulfides and metals, higher abundances of sulfur-oxidizng and sulfur-reducing bacteria.\\n\\n\\nBased on:\\n  https://en.wikipedia.org/wiki/Hydrothermal_vent_microbial_communities\",\n",
            "    \"*   **Location:** Mid-Atlantic Ocean, 73 degrees north on the Mid-Atlantic Ridge between Iceland and Svalbard.\\n*   **Depth:** 2,352 metres (7,717 ft).\\n*   **Discovery:** Discovered in mid-July 2008.\\n*   **Geological Significance:** Located in a relatively stable region of the Earth's crust with diminished tectonic forces. Sediment-influenced basalt-hosted hydrothermal field. Vent fluid recharged in regions densely concentrated with oceanic sediments.\\n*   **Vents:** Five active hydrothermal vents (black smokers). Water temperature up to 320 \\u00b0C (608 \\u00b0F).\\n*   **Mounds and Chimneys:** Two 20\\u201330 metres (66\\u201398 ft) sulfide mounds. Five active chimneys. Chimneys composed of sphalerite, pyrite, and pyrrhotite, and small amounts of chalcopyrite.\\n*   **Fluid Chemistry:** Fluids are rich in volatile gases (hydrogen sulfide, hydrogen, and methane), hydrocarbons, ammonium, and alkalinity while being depleted of dissolved iron and manganese. Fluid pH from high-temperature locations are acidic, ranging from 5.5 - 6.1.\\n*   **Ecology:** Home to unique and diverse microorganisms, including bacteria and archaea. Key species: *Nicomache lokii* (bristleworm), *Sclerolinum contortum* (tube worms), and Melitidae amphipods.\\n*   **Microbiology:** Dense mats of bacteria (Epsilonproteobacteria, Gammaproteobacteria, Sulfurovum) on and around vents. Archaea phylum Lokiarchaeota discovered here.\\n*   **Lokiarchaeota:** A potential linkage between prokaryotes and eukaryotes.\\n*   **Loki's Castle Viruses (LCVs):** Giant viruses of the Megaviricetes class in the phylum Nucleocytoviricota (NCLDV).\\n\\n\\nBased on:\\n  https://en.wikipedia.org/wiki/Loki%27s_Castle\",\n",
            "    \"Here's extracted information about cold seep ecosystems from the provided source:\\n\\n*   **Definition:** A cold seep (or vent) is an area on the ocean floor where fluids rich in hydrogen sulfide, methane, and other hydrocarbons seep out. The term \\\"cold\\\" is relative to the higher temperatures of hydrothermal vents.\\n\\n*   **Ecosystems:** Cold seeps constitute a biome supporting endemic species. They can develop unique topography with carbonate rock formations and reefs due to reactions between methane and seawater, often dependent on bacterial activity.\\n\\n*   **Types:** Cold seeps are classified by depth (shallow/deep) and by type of seepage (oil/gas, methane, gas hydrate, brine, pockmarks, mud volcanoes).\\n\\n*   **Formation:** They occur over fissures caused by tectonic activity, with oil and methane seeping out.\\n\\n*   **Ecological Succession:**\\n    *   Methane is the basis of cold seep ecosystems.\\n    *   Bacteria are the first to take advantage, forming mats and using chemosynthesis to metabolize methane and hydrogen sulfide.\\n    *   Mussel beds (Bathymodiolus) form, nourished by symbiotic bacteria that also use methane.\\n    *   Microbial activity produces calcium carbonate rock.\\n    *   Siboglinid tubeworms are attracted, relying on chemosynthetic bacteria (using hydrogen sulfide).\\n    *   As gas seepage decreases, mussels die off, and tubeworms become dominant. Some tubeworm species can live for over 250 years.\\n\\n*   **Chemosynthetic Communities:** Research focuses on microbiology and macro-invertebrates thriving on chemosynthetic microorganisms.\\n\\n*   **Benthic Filter:** Chemosynthetic organisms (methanogens) consume methane, preventing its release into the water. This \\\"benthic filter\\\" helps prevent methane-induced global warming. Efficiency is affected by methane flow rate and oxygen availability. 50-90% of methane is consumed at cold seeps with bacterial mats while areas with clam beds have less than 15% methane escaping\\n\\n*   **Comparison to Hydrothermal Vents:** Both rely on chemosynthesis. Cold seeps are more stable than hydrothermal vents, with cooler temperatures, leading to longer-lived organisms.\\n\\n*   **End of a Cold Seep Community:** As seeps become inactive, tubeworms disappear, allowing corals to settle (relying primarily on ocean surface nutrition).\\n\\n*   **Distribution:**\\n    *   Discovered in 1983 in the Gulf of Mexico.\\n    *   Found in various oceans: Gulf of Mexico, Atlantic, Mediterranean, East/West Pacific, Antarctic, Arctic, North Sea, Caspian Sea, etc.\\n    *   Common along continental margins with high productivity and tectonic activity.\\n    *   Occur from intertidal to hadal depths (shallowest in Chile).\\n    *   Fossilized seep systems exist inland in former ocean areas.\\n\\n*   **Gulf of Mexico:**\\n    *   Studied extensively since the 1990s.\\n    *   First discovered in the eastern Gulf of Mexico in 1983.\\n    *   Hydrocarbon seepage and authigenic minerals are linked to chemosynthetic communities.\\n    *   Seeps are surface expressions of hydrocarbon migration from deep source rocks.\\n    *   Diverse chemosynthetic organisms thrive where there is the right flux rate of hydrocarbons.\\n    *   Extensive communities documented across a range of depths.\\n    *   Densest aggregations found around 500 m depth (e.g., Bush Hill).\\n\\n*   **Gulf of Mexico - Stability:**\\n    *   Hydrates play a significant role in regulating hydrocarbon gas release and community stability.\\n    *   Seep communities can persist for hundreds to thousands of years.\\n    *   Each chemosynthetic community site is unique.\\n\\n*   **Gulf of Mexico - Biology:**\\n    *   Dominated by Vestimentiferan tube worms, mytilid mussels, vesicomyid clams, and infaunal lucinid/thyasirid clams.\\n    *   Bacterial mats are present.\\n    *   Many species are new to science.\\n    *   Tube worms can be very long-lived (hundreds of years).\\n    *   Mussel growth rates are relatively high.\\n    *   Clam beds can persist for long periods.\\n\\n*   **Atlantic Ocean:**\\n    *   Described in the Barbados accretionary prism, Blake Ridge diapir, Gulf of Guinea, Gulf of C\\u00e1diz, and other locations.\\n    *   The megafauna community structure is influenced primarily by depth.\\n\\n*   **Mediterranean:**\\n    *   Reduced environments indicated by Lucinidae and Vesicomyidae bivalve shells.\\n    *   Chemosynthetic communities observed in mud volcano fields.\\n    *   Unique communities due to isolation after the Messinian crisis.\\n\\n*   **Indian Ocean:**\\n    *   Found in the Makran Trench.\\n\\n*   **West Pacific:**\\n    *   Native aluminium reported in cold seeps in the South China Sea.\\n    *   Methane seep communities in Japan are distributed along plate convergence areas.\\n    *   Cold seeps are also found off the mainland coast of New Zealand.\\n\\n*   **East Pacific:**\\n    *   Cold seeps are found in Chile, British Columbia, Canada and off the coast of California.\\n\\n*   **Antarctic:**\\n    *   The first cold seep from the Southern Ocean was reported in 2005.\\n\\n*   **Detection:**\\n    *   Chemosynthetic communities cannot be reliably detected directly using geophysical techniques.\\n    *   Geophysical modifications include authigenic carbonate, gas hydrates, sediment modification, interstitial gases, and pockmark formation.\\n\\n*   **Fossilized Records:**\\n    *   Found throughout the Phanerozoic geologic record.\\n    *   Characterized by mound-like topography, crystalline carbonates, and abundant mollusks and brachiopods.\\n\\n*   **Environmental Impacts:**\\n    *   Major threats include seafloor litter, chemical contaminants, and climate change.\\n\\n\\nBased on:\\n  https://en.wikipedia.org/wiki/Cold_seep\",\n",
            "    \"Thiotrichales can be present in cold seep ecosystems where methane and sulfide seep through the seafloor.\\n\\n\\nBased on:\\n  https://en.wikipedia.org/wiki/Thiotrichales\",\n",
            "    \"Chemosynthetic bacteria are found in benthic marine ecosystems. These organisms are able to feed on hydrogen sulfide in water that comes from volcanic vents. Great concentrations of animals that feed on these bacteria are found around volcanic vents. For example, there are giant tube worms (Riftia pachyptila) 1.5 m in length and clams (Calyptogena magnifica) 30 cm long.\\n\\n\\nBased on:\\n  https://en.wikipedia.org/wiki/Aquatic_ecosystem\",\n",
            "    \"The following information is relevant to deep-sea biodiversity:\\n\\n*   Significant biodiversity exists in the deep sea.\\n*   The three main sources of energy and nutrients for deep sea communities are marine snow, whale falls, and chemosynthesis at hydrothermal vents and cold seeps.\\n*   In the photic zone, there is the greatest biodiversity and biomass of all oceanic zones.\\n*   The bathyal zone is less densely populated than the epipelagic zone, despite being much larger.\\n*   Humans have explored less than 4% of the ocean floor, and dozens of new species of deep sea creatures are discovered with every dive.\\n*   Deep sea food webs are complex, and aspects of the system are poorly understood. Typically, predator-prey interactions within the deep are compiled by direct observation (likely from remotely operated underwater vehicles), analysis of stomach contents, and biochemical analysis. Stomach content analysis is the most common method used, but it is not reliable for some species.\\n*   In deep sea pelagic ecosystems off of California, the trophic web is dominated by deep sea fishes, cephalopods, gelatinous zooplankton, and crustaceans. Between 1991 and 2016, 242 unique feeding relationships between 166 species of predators and prey demonstrated that gelatinous zooplankton have an ecological impact similar to that of large fishes and squid. Narcomedusae, siphonophores (of the family Physonectae), ctenophores, and cephalopods consumed the greatest diversity of prey, in decreasing order. Cannibalism has been documented in squid of the genus Gonatus.\\n* Deep sea mining has severe consequences for ocean ecosystems. The destruction of habitats, disturbance of sediment layers, and noise pollution threaten marine species. Essential biodiversity can be lost, with unpredictable effects on the food chain.\\n\\n\\nBased on:\\n  https://en.wikipedia.org/wiki/Deep-sea_community\",\n",
            "    \"The provided text focuses on the Deepsea Challenger submersible and its expeditions, with only tangential relevance to the challenges of deep-sea life. However, based on the user's request, here's the most related extracted information:\\n\\n*   **Habitat Observation:** During a dive to the bottom of the New Britain Trench, Cameron found \\\"a wide plain of loose sediment, anemones, jellyfish, and varying habitats where the plain met the walls of the canyon.\\\" This shows the presence of life and different habitat zones at depth.\\n*   **Deep-Sea Exploration:** The \\\"Deep-sea exploration \\u2013 Investigation of ocean conditions beyond the continental shelf\\\" link in the \\\"See also\\\" section directly refers to the study of deep-sea life.\\n\\n\\nBased on:\\n  https://en.wikipedia.org/wiki/Deepsea_Challenger\",\n",
            "    \"The sirens in the story are calling to their king and queen because humans are taking away their food.\\n\\n\\nBased on:\\n  https://en.wikipedia.org/wiki/The_Witcher:_Sirens_of_the_Deep\",\n",
            "    \"*   **Definition:** Chemosynthesis is the biological conversion of carbon-containing molecules and nutrients into organic matter using the oxidation of inorganic compounds as a source of energy, rather than sunlight.\\n*   **Organisms:** Chemoautotrophs obtain carbon from carbon dioxide through chemosynthesis. Examples include sulfur-oxidizing Gammaproteobacteria, Campylobacterota, Aquificota, methanogenic archaea, and neutrophilic iron-oxidizing bacteria.\\n*   **Deep-Sea Chemosynthesis:** Many microorganisms in dark regions of the oceans use chemosynthesis to produce biomass from single-carbon molecules. This energy derives from reactions in which substances such as hydrogen sulfide or ammonia are oxidized.\\n*   **Ecosystem Support:** Chemosynthetic microorganisms are consumed by other organisms. Large populations of animals can be supported by chemosynthetic secondary production at hydrothermal vents, methane clathrates, cold seeps, whale falls, and isolated cave water.\\n*   **Hydrogen Sulfide Chemosynthesis:** Some reactions use hydrogen sulfide as their energy source and produce sugars and amino acids. For example: 18H2S + 6CO2 + 3O2 \\u2192 C6H12O6 (carbohydrate) + 12H2O + 18S.\\n*   **Hydrothermal Vents:** The discovery of hydrothermal ocean vents in the 1970s confirmed Winogradsky's suggestion that some microbes could live solely on inorganic matter. Colleen Cavanaugh confirmed that tube worms survive near hydrothermal vents using chemosynthetic bacteria that oxidize sulfides or elemental sulfur.\\n*   **Oceanic Crust:** Bacteria living in the rock of the oceanic crust subsist on hydrogen produced by chemical reduction of olivine by seawater and synthesize methane by combining hydrogen and carbon dioxide.\\n\\n\\nBased on:\\n  https://en.wikipedia.org/wiki/Chemosynthesis\",\n",
            "    \"**General Definition and Occurrence:**\\n\\n*   Bioluminescence is the emission of light during a chemiluminescence reaction by living organisms.\\n*   Occurs in marine vertebrates and invertebrates, some fungi, microorganisms (including some bioluminescent bacteria, dinoflagellates), and terrestrial arthropods like fireflies.\\n*   Light can be produced by the organism itself (autogenic) or by symbiotic bacteria (bacteriogenic), often from the genus Vibrio.\\n\\n**Chemical Reaction:**\\n\\n*   Involves a luciferin (substrate) and a luciferase (enzyme).\\n*   The enzyme catalyzes the oxidation of the luciferin, resulting in excited state oxyluciferin, which emits visible light.\\n*   The production of excited state molecules involves the decomposition of organic peroxides.\\n*   Some luciferases require cofactors like calcium or magnesium ions and ATP.\\n*   Coelenterazine is a luciferin found in many different animal phyla.\\n\\n**History:**\\n\\n*   Aristotle and Pliny the Elder noted light from damp wood.\\n*   Robert Boyle showed oxygen was involved in bioluminescence.\\n*   The phenomenon is widely distributed among animal groups, especially in marine environments.\\n\\n**Evolution:**\\n\\n*   Bioluminescence has evolved independently at least 40 times.\\n*   Possible evolutionary pathways involve luciferase enzymes acting as oxygenases or luciferins acting as antioxidants.\\n*   Bioluminescence in fish began at least by the Cretaceous period. About 1,500 fish species are known to be bioluminescent; the capability evolved independently at least 27 times. Of these, 17 involved the taking up of bioluminous bacteria from the surrounding water while in the others, the intrinsic light evolved through chemical synthesis. These fish have become surprisingly diverse in the deep ocean and control their light with the help of their nervous system, using it not just to lure prey or hide from predators, but also for communication.\\n\\n**Chemical Mechanism:**\\n\\n*   Bioluminescence is a form of chemiluminescence.\\n*   Reaction involves luciferin and luciferase.\\n*   Molecular oxygen is always involved.\\n*   Jellyfish use photoproteins like aequorin instead of luciferase.\\n*   Coelenterazine is a common luciferin.\\n\\n**Distribution:**\\n\\n*   Common in marine animals like fish, jellyfish, comb jellies, crustaceans, and cephalopod molluscs.\\n*   Most marine light emission is in the blue and green spectrum. Some fish emit red/infrared, and Tomopteris emits yellow.\\n*   Dinoflagellates cause sparkling luminescence in disturbed water.\\n*   Bioluminescent bacteria can create large-scale \\\"milky seas.\\\"\\n\\n**Pelagic Zone:**\\n\\n*   Abundant in the pelagic zone, especially at depths without light and surface waters at night.\\n*   Organisms participate in diurnal vertical migration.\\n*   Bioluminescence is important in depths where sunlight doesn't penetrate.\\n\\n**Bacterial Symbioses:**\\n\\n*   Many marine organisms use symbiotic bacteria for bioluminescence.\\n*   Luminous bacteria, dominated by Photobacterium and Vibrio, benefit from nourishment and refuge.\\n*   Host organisms may have anatomical adaptations specific to certain luminous bacteria.\\n\\n**Benthic Zone:**\\n\\n*   Bioluminescence in the benthic zone is less common than in the pelagic zone.\\n*   The sea floor and other structures can block emitted light.\\n*   Visual signals like counter-illumination may be less functional.\\n\\n**Uses in Nature:**\\n\\n*   Defensive functions: startle, counterillumination, misdirection, burglar alarm, warning.\\n*   Offensive functions: lure, stun/confuse prey, illuminate prey, mate attraction.\\n\\n**Counterillumination Camouflage:**\\n\\n*   Animals match overhead light to camouflage from below.\\n\\n**Attraction:**\\n\\n*   Fireflies use light to attract mates.\\n*   Click beetles use light for sexual attraction and defense.\\n*   Marine ostracods use bioluminescence for mate attraction at close range.\\n\\n**Defense:**\\n\\n*   Shrimp use bioluminescence to startle predators.\\n*   Cephalopods use luminescent clouds to distract predators.\\n*   Dinoflagellates use bioluminescence to attract predators of their predators.\\n*   Sea-fireflies use light to confuse predators.\\n*   Larvae of railroad worms have paired photic organs to glow with green light.\\n*   Octopod Stauroteuthis syrtensis emits bioluminescence from its sucker like structures to lure prey\\n\\n**Warning:**\\n\\n*   Aposematism: bioluminescence warns of unpalatability.\\n*   Examples include firefly larvae, millipedes, scale worms, jellyfish, and brittle stars.\\n*   Latia neritoides (freshwater gastropod) and Hinea brasiliana (marine snail) use light for anti-predator function.\\n\\n**Communication:**\\n\\n*   Quorum sensing regulates luminescence in bacteria.\\n*   Pyrosomes coordinate colony effort through light emission.\\n*   Fungi use light to attract insects and aid spore dispersal.\\n*   Quantula striata (terrestrial mollusk) emits light pulses for communication.\\n\\n**Mimicry:**\\n\\n*   Anglerfish and dragonfish use aggressive mimicry to attract prey.\\n*   Cookiecutter sharks use bioluminescence for counter-illumination, with a dark patch as a lure.\\n*   Female Photuris fireflies mimic Photinus to attract males as prey.\\n\\n**Illumination:**\\n\\n*   Dragonfish emit red light to see red-pigmented prey.\\n*   Angler siphonophore (Erenna) utilizes red bioluminescence in appendages to lure fish.\\n\\n**Biotechnology:**\\n\\n*   Luciferase systems are used in genetic engineering and biomedical research.\\n*   Bioluminescence imaging is used in biomedical research.\\n\\n**Light Production:**\\n\\n*   Engineered bioluminescence could reduce the need for street lighting.\\n*   Genes for bioluminescence have been added to plants and bacteria.\\n\\n**ATP Bioluminescence:**\\n\\n*   ATP bioluminescence is used as a biosensor to test for the presence of living microbes in water.\\n\\n\\nBased on:\\n  https://en.wikipedia.org/wiki/Bioluminescence\"\n",
            "  ]\n",
            "}\n",
            "------------------------------------------------------------\n",
            "model -> \n",
            "Deep-sea life survives in a challenging environment characterized by darkness, low temperatures, and immense pressure. Here's a breakdown of their survival mechanisms:\n",
            "\n",
            "1.  **Adaptations to Darkness:**\n",
            "\n",
            "    *   Many deep-sea creatures are blind and rely on senses other than sight, such as pressure and smell.\n",
            "    *   Some have developed large, sensitive eyes to detect the faintest bioluminescent light.\n",
            "    *   Bioluminescence, the production of light, is common and used for various purposes like hunting, attracting prey, communication, and camouflage.\n",
            "\n",
            "2.  **Adaptations to Pressure:**\n",
            "\n",
            "    *   Organisms have internal pressure that matches the external pressure to avoid being crushed.\n",
            "    *   Their cell membranes have a higher proportion of unsaturated fatty acids to maintain fluidity under pressure.\n",
            "    *   They have also evolved structural modifications in their proteins to withstand high pressure.\n",
            "\n",
            "3.  **Finding Food:**\n",
            "\n",
            "    *   Food is scarce, so deep-sea life relies on:\n",
            "        *   **Marine snow:** Organic material that sinks from upper waters.\n",
            "        *   **Scavenging:** Feeding on dead organisms.\n",
            "        *   **Predation:** Hunting other deep-sea creatures.\n",
            "        *   **Hydrothermal vents and cold seeps:** Some communities thrive around these features, utilizing chemosynthesis.\n",
            "    *   Chemosynthesis is a process where bacteria use chemicals like hydrogen sulfide to produce organic material, forming the base of the food chain in these ecosystems.\n",
            "    *   Some fish have evolved features like long feelers, bioluminescent lures, sharp teeth, and expandable bodies to help them find and consume prey.\n",
            "\n",
            "4.  **Other Adaptations:**\n",
            "\n",
            "    *   Many deep-sea fish have jelly-like flesh and minimal bone structure for buoyancy and to withstand pressure.\n",
            "    *   Some have high fat content and accumulate water to reduce tissue density.\n",
            "    *   Deep-sea gigantism, the tendency for deep-sea animals to grow larger than their shallow-water relatives, is observed in some species due to factors like colder temperatures, food scarcity, and reduced predation.\n",
            "\n",
            "------------------------------------------------------------\n"
          ]
        }
      ],
      "source": [
        "for content in chat.get_history():\n",
        "  print(f'{content.role} -> ')\n",
        "\n",
        "  if hasattr(content, 'parts') and content.parts:\n",
        "    part = content.parts[0]\n",
        "    if hasattr(part, 'function_call') and part.function_call:\n",
        "      print(f\"Function Call: {part.function_call.name}\")\n",
        "      print(f\"Arguments: {json.dumps(part.function_call.args, indent=2)}\")\n",
        "    elif hasattr(part, 'function_response') and part.function_response:\n",
        "      print(f\"Function Response: {part.function_response.name}\")\n",
        "      print(f\"Response: {json.dumps(part.function_response.response, indent=2)}\")\n",
        "    else:\n",
        "      print(content.parts[0].text if hasattr(content.parts[0], 'text') else content.parts[0])\n",
        "  print('---' * 20)\n"
      ]
    },
    {
      "cell_type": "markdown",
      "metadata": {
        "id": "WDWc9Fj9Ig6A"
      },
      "source": [
        "In the chat history you can see all the steps of the conversation:\n",
        "\n",
        "1. The user sent the query.\n",
        "2. The model replied with a function call to `wikipedia_search` with a number of relevant searches.\n",
        "3. Because you configured the tool and provided it when sending the message, the client handled executing the search function and returning the list of article summaries to the model.\n",
        "4. Following the instructions in the prompt, the model generated a final answer based on those summaries.\n"
      ]
    },
    {
      "cell_type": "markdown",
      "metadata": {
        "id": "PJP1EAgfnPUA"
      },
      "source": [
        "## [Optional] Manually execute the function call"
      ]
    },
    {
      "cell_type": "markdown",
      "metadata": {
        "id": "Sa5ke2ssKl7M"
      },
      "source": [
        "If you want to understand what happened behind the scenes, this section executes the `FunctionCall` manually to demonstrate."
      ]
    },
    {
      "cell_type": "code",
      "execution_count": 35,
      "metadata": {
        "id": "wavbHrL3K5vo"
      },
      "outputs": [],
      "source": [
        "# Create a new chat session without automatic function calling\n",
        "chat = client.chats.create(\n",
        "    model='gemini-2.0-flash',\n",
        "    config=types.GenerationConfig(temperature=0.6)\n",
        ")\n"
      ]
    },
    {
      "cell_type": "code",
      "execution_count": 36,
      "metadata": {
        "id": "ON4LTcmiLs2E"
      },
      "outputs": [],
      "source": [
        "# Send a message to the chat without automatic function calling\n",
        "result = chat.send_message(\n",
        "    message=instructions.format(query=query),\n",
        "    config=types.GenerateContentConfig(\n",
        "        tools=[wikipedia_search],\n",
        "        automatic_function_calling={'disable': True},\n",
        "    )\n",
        ")"
      ]
    },
    {
      "cell_type": "markdown",
      "metadata": {
        "id": "__JN3YuHe7fR"
      },
      "source": [
        "Initially the model returns a FunctionCall:"
      ]
    },
    {
      "cell_type": "code",
      "execution_count": null,
      "metadata": {
        "id": "Lgngdvcdi06F"
      },
      "outputs": [],
      "source": [
        "# Extract the function call from the response\n",
        "if result.candidates and len(result.candidates) > 0 and result.candidates[0].content.parts:\n",
        "    function_call = result.candidates[0].content.parts[0].function_call\n",
        "    if function_call:\n",
        "        print(json.dumps({\n",
        "            \"name\": function_call.name,\n",
        "            \"args\": function_call.args\n",
        "        }, indent=2))\n",
        "    else:\n",
        "        print(\"No function call found in the response.\")\n",
        "else:\n",
        "    print(\"Unexpected response format.\")"
      ]
    },
    {
      "cell_type": "code",
      "execution_count": null,
      "metadata": {
        "id": "Bfp1Kqv7PE8N"
      },
      "outputs": [],
      "source": [
        "# Access the function name\n",
        "if 'name' in locals() and function_call and function_call.name:\n",
        "    print(function_call.name)\n",
        "else:\n",
        "    print(\"Function name not available\")"
      ]
    },
    {
      "cell_type": "markdown",
      "metadata": {
        "id": "xpD3axtDmfZb"
      },
      "source": [
        "Call the function with generated arguments to get the results."
      ]
    },
    {
      "cell_type": "code",
      "execution_count": null,
      "metadata": {
        "id": "Ek4g-CTAPSou"
      },
      "outputs": [],
      "source": [
        "# Execute the function with the arguments from the function call\n",
        "if function_call and hasattr(function_call, 'args'):\n",
        "    summaries = wikipedia_search(**function_call.args)\n",
        "else:\n",
        "    print(\"Could not execute function, missing function call or arguments.\")\n",
        "    summaries = []"
      ]
    },
    {
      "cell_type": "markdown",
      "metadata": {
        "id": "kv4WGnG_gT3F"
      },
      "source": [
        "Now send the `FunctionResult` to the model."
      ]
    },
    {
      "cell_type": "code",
      "execution_count": null,
      "metadata": {
        "id": "bcLuieHqj9PW"
      },
      "outputs": [],
      "source": [
        "# Create a function response message\n",
        "response = chat.send_message(\n",
        "    message=types.Content(\n",
        "        parts=[types.Part(\n",
        "            function_response=types.FunctionResponse(\n",
        "                name=\"wikipedia_search\",\n",
        "                response={\n",
        "                    \"result\": summaries\n",
        "                }\n",
        "            )\n",
        "        )]\n",
        "    )\n",
        ")\n",
        "\n",
        "to_markdown(response.text)"
      ]
    },
    {
      "cell_type": "markdown",
      "metadata": {
        "id": "L2Vfv8xpmuV1"
      },
      "source": [
        "## Re-ranking the search results"
      ]
    },
    {
      "cell_type": "markdown",
      "metadata": {
        "id": "cQ3JUJLeGGzA"
      },
      "source": [
        "Helper function to embed the content:"
      ]
    },
    {
      "cell_type": "code",
      "execution_count": null,
      "metadata": {
        "id": "mSkE7EynJBwF"
      },
      "outputs": [],
      "source": [
        "def get_embeddings(content: list[str]) -> np.ndarray:\n",
        "  # Using client.models.embed_content for embeddings\n",
        "  response = client.models.embed_content(\n",
        "      model=\"embedding-001\",  # Note: model name format has changed\n",
        "      contents=content,\n",
        "      task_type=\"SEMANTIC_SIMILARITY\"\n",
        "  )\n",
        "\n",
        "  # Extract embeddings from the response\n",
        "  embds = [embedding.values for embedding in response.embeddings]\n",
        "  embds = np.array(embds).reshape(len(embds), -1)\n",
        "  return embds"
      ]
    },
    {
      "cell_type": "markdown",
      "metadata": {
        "id": "tip8ArqJf_ep"
      },
      "source": [
        "Please refer to the [embeddings guide](https://ai.google.dev/docs/embeddings_guide) for more information on embeddings."
      ]
    },
    {
      "cell_type": "markdown",
      "metadata": {
        "id": "nSPyycFuFj-_"
      },
      "source": [
        "Your next step is to define functions that you can use to calculate similarity scores between two embedding vectors. These scores will help you decide which embedding vector is the most relevant vector to the user's query.\n"
      ]
    },
    {
      "cell_type": "markdown",
      "metadata": {
        "id": "ltbB0vDsKQtI"
      },
      "source": [
        "You will now implement cosine similarity as your metric. Here returned embedding vectors will be of unit length and hence their L1 norm (`np.linalg.norm()`) will be ~1. Hence, calculating cosine similarity is esentially same as calculating their dot product score."
      ]
    },
    {
      "cell_type": "code",
      "execution_count": null,
      "metadata": {
        "id": "9iDFdzq_JWJW"
      },
      "outputs": [],
      "source": [
        "def dot_product(a: np.ndarray, b: np.ndarray):\n",
        "  return (a @ b.T)"
      ]
    },
    {
      "cell_type": "markdown",
      "metadata": {
        "id": "MrF_1c_M_Hw3"
      },
      "source": [
        "### Similarity with user's query\n",
        "\n",
        "Now it's time to find the most relevant search result returned by the Wikipedia API.\n",
        "\n",
        "Use Gemini API to get embeddings for user's query and search results."
      ]
    },
    {
      "cell_type": "code",
      "execution_count": null,
      "metadata": {
        "id": "gK9ryjftGDNe"
      },
      "outputs": [],
      "source": [
        "search_res = get_embeddings(summaries)\n",
        "embedded_query = get_embeddings([query])"
      ]
    },
    {
      "cell_type": "markdown",
      "metadata": {
        "id": "2wwWq30uGRG3"
      },
      "source": [
        "Calculate similarity score:"
      ]
    },
    {
      "cell_type": "code",
      "execution_count": null,
      "metadata": {
        "id": "jWlFNYIsGV0X"
      },
      "outputs": [],
      "source": [
        "sim_value = dot_product(search_res, embedded_query)"
      ]
    },
    {
      "cell_type": "markdown",
      "metadata": {
        "id": "bJW1pQQXG2w2"
      },
      "source": [
        "using `np.argmax` best candidate is selected.\n",
        "\n",
        "**Users's Input:** Explain how deep-sea life survives.\n",
        "\n",
        "**Answer:**"
      ]
    },
    {
      "cell_type": "code",
      "execution_count": null,
      "metadata": {
        "id": "8vDMDnCsG8Wn"
      },
      "outputs": [],
      "source": [
        "print(summaries[np.argmax(sim_value)])"
      ]
    },
    {
      "cell_type": "markdown",
      "metadata": {
        "id": "Ozn6mIFvoyJU"
      },
      "source": [
        "### Similarity with Hypothetical Document Embeddings (HyDE)\n",
        "\n",
        "Drawing inspiration from [Gao et al](https://arxiv.org/abs/2212.10496) the objective here is to generate a template answer to the user's query using `gemini-2.0-flash`'s internal knowledge. This hypothetical answer will serve as a baseline to calculate relevance of all the search results."
      ]
    },
    {
      "cell_type": "code",
      "execution_count": null,
      "metadata": {
        "id": "J7m5KAkMREBH"
      },
      "outputs": [],
      "source": [
        "# Generate hypothetical answer using the client\n",
        "res = client.models.generate_content(\n",
        "    model=\"gemini-2.0-flash\",\n",
        "    contents=f\"\"\"Generate a hypothetical answer\n",
        "to the user's query by using your own knowledge. Assume that you know everything\n",
        "about the said topic. Do not use factual information, instead use placeholders\n",
        "to complete your answer. Your answer should feel like it has been written by a human.\n",
        "\n",
        "query: {query}\"\"\"\n",
        ")\n",
        "\n",
        "to_markdown(res.text)"
      ]
    },
    {
      "cell_type": "markdown",
      "metadata": {
        "id": "85f4MpLgrYbW"
      },
      "source": [
        "Use Gemini API to get embeddings for the baseline answer and compare them with search results"
      ]
    },
    {
      "cell_type": "code",
      "execution_count": null,
      "metadata": {
        "id": "fSI6-5eYI3me"
      },
      "outputs": [],
      "source": [
        "hypothetical_ans = get_embeddings([res.text])"
      ]
    },
    {
      "cell_type": "markdown",
      "metadata": {
        "id": "WxYGEWbqrh44"
      },
      "source": [
        "Calculate similarity scores to rank the search results"
      ]
    },
    {
      "cell_type": "code",
      "execution_count": null,
      "metadata": {
        "id": "99sjvMtlJfL_"
      },
      "outputs": [],
      "source": [
        "sim_value = dot_product(search_res, hypothetical_ans)"
      ]
    },
    {
      "cell_type": "code",
      "execution_count": null,
      "metadata": {
        "id": "C32IhIapQFNa"
      },
      "outputs": [],
      "source": [
        "sim_value"
      ]
    },
    {
      "cell_type": "markdown",
      "metadata": {
        "id": "wJ7pklxursSk"
      },
      "source": [
        "using `np.argmax` best candidate is selected.\n",
        "\n",
        "**Users's Input:** Explain how deep-sea life survives.\n",
        "\n",
        "**Answer:**"
      ]
    },
    {
      "cell_type": "code",
      "execution_count": null,
      "metadata": {
        "id": "MzTfyU_mJ8-M"
      },
      "outputs": [],
      "source": [
        "to_markdown(summaries[np.argmax(sim_value)])"
      ]
    },
    {
      "cell_type": "markdown",
      "metadata": {
        "id": "UjDN2OUpsL6M"
      },
      "source": [
        "You have now created a search re-ranking engine using Gemini embeddings with the Google GenAI SDK v1.0.0+!\n",
        "\n",
        "In this notebook, you've learned how to:\n",
        "1. Set up and use the new Google GenAI client\n",
        "2. Use function calling to access the Wikipedia API\n",
        "3. Embed content using the new embedding API format\n",
        "4. Re-rank search results using similarity metrics"
      ]
    },
    {
      "cell_type": "markdown",
      "metadata": {
        "id": "AKH2vs2Lc1R1"
      },
      "source": [
        "## Next steps\n",
        "\n",
        "I hope you found this example helpful! Check out more examples in the [Gemini Guide](https://github.com/google-gemini/gemini-guide/) to learn more."
      ]
    }
  ],
  "metadata": {
    "colab": {
      "name": "Search_reranking_using_embeddings.ipynb",
      "provenance": []
    },
    "kernelspec": {
      "display_name": "Python 3",
      "name": "python3"
    },
    "language_info": {
      "codemirror_mode": {
        "name": "ipython",
        "version": 3
      },
      "file_extension": ".py",
      "mimetype": "text/x-python",
      "name": "python",
      "nbconvert_exporter": "python",
      "pygments_lexer": "ipython3",
      "version": "3.11.8"
    }
  },
  "nbformat": 4,
  "nbformat_minor": 0
}