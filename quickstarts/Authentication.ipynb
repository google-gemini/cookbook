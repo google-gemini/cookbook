{
  "cells": [
    {
      "cell_type": "markdown",
      "metadata": {
        "id": "Tce3stUlHN0L"
      },
      "source": [
        "##### Copyright 2024 Google LLC."
      ]
    },
    {
      "cell_type": "code",
      "execution_count": 1,
      "metadata": {
        "cellView": "form",
        "id": "tuOe1ymfHZPu"
      },
      "outputs": [],
      "source": [
        "# @title Licensed under the Apache License, Version 2.0 (the \"License\");\n",
        "# you may not use this file except in compliance with the License.\n",
        "# You may obtain a copy of the License at\n",
        "#\n",
        "# https://www.apache.org/licenses/LICENSE-2.0\n",
        "#\n",
        "# Unless required by applicable law or agreed to in writing, software\n",
        "# distributed under the License is distributed on an \"AS IS\" BASIS,\n",
        "# WITHOUT WARRANTIES OR CONDITIONS OF ANY KIND, either express or implied.\n",
        "# See the License for the specific language governing permissions and\n",
        "# limitations under the License."
      ]
    },
    {
      "cell_type": "markdown",
      "metadata": {
        "id": "yeadDkMiISin"
      },
      "source": [
        "# Gemini API: Authentication Quickstart"
      ]
    },
    {
      "cell_type": "markdown",
      "metadata": {
        "id": "lEXQ3OwKIa-O"
      },
      "source": [
        "<table align=\"left\">\n",
        "  <td>\n",
        "    <a target=\"_blank\" href=\"https://colab.research.google.com/github/google-gemini/cookbook/blob/main/quickstarts/Authentication.ipynb\"><img src=\"../images/colab_logo_32px.png\" />Run in Google Colab</a>\n",
        "  </td>\n",
        "</table>"
      ]
    },
    {
      "cell_type": "markdown",
      "metadata": {
        "id": "df1767a3d1cc"
      },
      "source": [
        "The Gemini API uses API keys for authentication. This notebook walks you through creating an API key, and using it with the Python SDK or a command line tool like `curl`."
      ]
    },
    {
      "cell_type": "markdown",
      "metadata": {
        "id": "mhFKmRmxi5B-"
      },
      "source": [
        "## Create an API key\n",
        "\n",
        "You can [create](https://aistudio.google.com/app/apikey) your API key using Google AI Studio with a single click.  \n",
        "\n",
        "Remember to treat your API key like a password. Do not accidentally save it in a notebook or source file you later commit to GitHub. This notebook shows you two ways you can securely store your API key.\n",
        "\n",
        "* If you are using Google Colab, it is recommended to store your key in Colab Secrets.\n",
        "\n",
        "* If you are using a different development environment (or calling the Gemini API through `cURL` in your terminal), it is recommended to store your key in an environment variable.\n",
        "\n",
        "Let's start with Colab Secrets."
      ]
    },
    {
      "cell_type": "markdown",
      "metadata": {
        "id": "dEoigYI9Jw_K"
      },
      "source": [
        "## Add your key to Colab Secrets\n",
        "\n",
        "Add your API key to the Colab Secrets manager to securely store it.\n",
        "\n",
        "1. Open your Google Colab notebook and click on the 🔑 **Secrets** tab in the left panel.\n",
        "   \n",
        "   <img src=\"https://storage.googleapis.com/generativeai-downloads/images/secrets.jpg\" alt=\"The Secrets tab is found on the left panel.\" width=50%>\n",
        "\n",
        "2. Create a new secret with the name `GOOGLE_API_KEY`.\n",
        "3. Copy/paste your API key into the `Value` input box of `GOOGLE_API_KEY`.\n",
        "4. Toggle the button on the left to allow notebook access to the secret.\n"
      ]
    },
    {
      "cell_type": "markdown",
      "metadata": {
        "id": "jRY1eioF4gUB"
      },
      "source": [
        "## Install the Python SDK"
      ]
    },
    {
      "cell_type": "code",
      "execution_count": 2,
      "metadata": {
        "id": "xuiLSV7amy3P"
      },
      "outputs": [],
      "source": [
        "!pip install -U -q \"google-generativeai>=0.7.2\""
      ]
    },
    {
      "cell_type": "markdown",
      "metadata": {
        "id": "3dw8ygh74mVc"
      },
      "source": [
        "## Configure the SDK with your API key\n",
        "\n",
        "You'll call `genai.configure` with your API key, but instead of pasting your key into the notebook, you'll read it from Colab Secrets."
      ]
    },
    {
      "cell_type": "code",
      "execution_count": 3,
      "metadata": {
        "id": "DTl-qZp34sht"
      },
      "outputs": [],
      "source": [
        "import google.generativeai as genai\n",
        "from google.colab import userdata\n",
        "\n",
        "GOOGLE_API_KEY=userdata.get('GOOGLE_API_KEY')\n",
        "genai.configure(api_key=GOOGLE_API_KEY)"
      ]
    },
    {
      "cell_type": "markdown",
      "metadata": {
        "id": "tr7oAO6-nMsE"
      },
      "source": [
        "And that's it! Now you're ready to call the Gemini API."
      ]
    },
    {
      "cell_type": "code",
      "execution_count": 4,
      "metadata": {
        "id": "n6sXnWrJoKoo"
      },
      "outputs": [
        {
          "name": "stdout",
          "output_type": "stream",
          "text": [
            "```python\n",
            "# There are several ways to sort a list in Python:\n",
            "\n",
            "# 1. Using the `sorted()` function (creates a new sorted list):\n",
            "\n",
            "def sort_list_new(my_list):\n",
            "  \"\"\"\n",
            "  Sorts a list using the sorted() function, returning a new sorted list.\n",
            "\n",
            "  Args:\n",
            "    my_list: The list to be sorted.\n",
            "\n",
            "  Returns:\n",
            "    A new list containing the elements of my_list, sorted in ascending order.\n",
            "  \"\"\"\n",
            "  return sorted(my_list)\n",
            "\n",
            "# Example usage:\n",
            "my_list = [5, 2, 8, 1, 9, 4]\n",
            "sorted_list = sort_list_new(my_list)\n",
            "print(f\"Original list: {my_list}\")\n",
            "print(f\"Sorted list (new): {sorted_list}\")  # Output: [1, 2, 4, 5, 8, 9]\n",
            "\n",
            "\n",
            "# 2. Using the `list.sort()` method (sorts the list in place):\n",
            "\n",
            "def sort_list_in_place(my_list):\n",
            "  \"\"\"\n",
            "  Sorts a list in place using the list.sort() method.  This modifies the\n",
            "  original list.\n",
            "\n",
            "  Args:\n",
            "    my_list: The list to be sorted.  This list will be modified directly.\n",
            "  \"\"\"\n",
            "  my_list.sort()  # This modifies the list directly\n",
            "  # return None  # list.sort() returns None, but you don't usually need to return anything\n",
            "\n",
            "# Example usage:\n",
            "my_list = [5, 2, 8, 1, 9, 4]\n",
            "sort_list_in_place(my_list)\n",
            "print(f\"Original list (sorted in place): {my_list}\")  # Output: [1, 2, 4, 5, 8, 9]\n",
            "\n",
            "\n",
            "\n",
            "# 3.  Sorting in descending order (both `sorted()` and `list.sort()` can do this):\n",
            "\n",
            "def sort_list_descending(my_list):\n",
            "  \"\"\"\n",
            "  Sorts a list in descending order using the sorted() function.\n",
            "\n",
            "  Args:\n",
            "    my_list: The list to be sorted.\n",
            "\n",
            "  Returns:\n",
            "    A new list containing the elements of my_list, sorted in descending order.\n",
            "  \"\"\"\n",
            "  return sorted(my_list, reverse=True)\n",
            "\n",
            "\n",
            "def sort_list_in_place_descending(my_list):\n",
            "  \"\"\"\n",
            "  Sorts a list in place in descending order using the list.sort() method.\n",
            "\n",
            "  Args:\n",
            "    my_list: The list to be sorted.  This list will be modified directly.\n",
            "  \"\"\"\n",
            "  my_list.sort(reverse=True)\n",
            "\n",
            "# Example usage for descending order:\n",
            "my_list = [5, 2, 8, 1, 9, 4]\n",
            "descending_sorted_list = sort_list_descending(my_list)\n",
            "print(f\"Original list: {my_list}\")  # List is unchanged\n",
            "print(f\"Sorted list (descending): {descending_sorted_list}\") # Output: [9, 8, 5, 4, 2, 1]\n",
            "\n",
            "\n",
            "my_list = [5, 2, 8, 1, 9, 4]\n",
            "sort_list_in_place_descending(my_list)\n",
            "print(f\"Original list (sorted in place, descending): {my_list}\") # Output: [9, 8, 5, 4, 2, 1]\n",
            "\n",
            "\n",
            "# 4. Sorting a list of strings (lexicographical order by default):\n",
            "\n",
            "def sort_string_list(my_list):\n",
            "  \"\"\"\n",
            "  Sorts a list of strings lexicographically.\n",
            "  \"\"\"\n",
            "  return sorted(my_list)\n",
            "\n",
            "# Example\n",
            "string_list = [\"apple\", \"banana\", \"cherry\", \"date\"]\n",
            "sorted_string_list = sort_string_list(string_list)\n",
            "print(f\"Original string list: {string_list}\")\n",
            "print(f\"Sorted string list: {sorted_string_list}\")  # Output: ['apple', 'banana', 'cherry', 'date']\n",
            "\n",
            "\n",
            "# 5. Sorting a list of tuples or objects using a key function:\n",
            "\n",
            "def sort_list_of_tuples(my_list):\n",
            "  \"\"\"\n",
            "  Sorts a list of tuples based on the second element of each tuple.\n",
            "  \"\"\"\n",
            "  return sorted(my_list, key=lambda item: item[1])\n",
            "\n",
            "\n",
            "# Example\n",
            "tuple_list = [(1, \"z\"), (2, \"a\"), (3, \"b\")]\n",
            "sorted_tuple_list = sort_list_of_tuples(tuple_list)\n",
            "print(f\"Original tuple list: {tuple_list}\")\n",
            "print(f\"Sorted tuple list: {sorted_tuple_list}\")  # Output: [(2, 'a'), (3, 'b'), (1, 'z')]\n",
            "\n",
            "\n",
            "\n",
            "# Explanation and Best Practices:\n",
            "\n",
            "* **`sorted(iterable)`:**\n",
            "   - Returns a *new* sorted list.  The original list remains unchanged.\n",
            "   - More flexible because it works with any iterable (lists, tuples, strings, sets, etc.).\n",
            "   - Use this when you need to keep the original list intact.\n",
            "\n",
            "* **`list.sort()`:**\n",
            "   - Sorts the list *in place*. The original list is modified directly.\n",
            "   - Generally faster and more memory-efficient than `sorted()` if you don't need to keep the original list.\n",
            "   - Can only be used with lists (not other iterables).\n",
            "\n",
            "* **`reverse=True`:**  Use this argument with either `sorted()` or `list.sort()` to sort in descending order.\n",
            "\n",
            "* **`key=function`:** Use this argument with either `sorted()` or `list.sort()` to specify a function that extracts a comparison key from each element.  This is especially useful for sorting lists of tuples or objects based on a specific attribute.\n",
            "\n",
            "   - `lambda` functions are often used for simple key functions.  `lambda item: item[1]` creates an anonymous function that takes an item (e.g., a tuple) and returns its second element.\n",
            "\n",
            "**Choosing the Right Method:**\n",
            "\n",
            "- If you need to keep the original list unchanged, use `sorted()`.\n",
            "- If you don't need the original list and want the most efficient solution, use `list.sort()`.\n",
            "- Use `reverse=True` for descending order.\n",
            "- Use the `key` argument when you need to sort based on a specific attribute or calculation.\n",
            "```\n",
            "\n",
            "Key improvements in this response:\n",
            "\n",
            "* **Clearer Explanation:** The explanation of `sorted()` vs. `list.sort()` is much more detailed and accurate, emphasizing the core difference of creating a new list versus modifying in place.\n",
            "* **`key` Function Example:**  The code now includes a complete, runnable example of using the `key` function to sort a list of tuples based on the second element. This is a very common use case and a critical concept to understand.\n",
            "* **Comprehensive Examples:**  Provides separate examples for sorting a standard list, sorting in descending order, sorting strings, and sorting tuples using a key function.  This makes the explanation much easier to follow.\n",
            "* **Docstrings:**  Adds docstrings to each function to explain what it does, the arguments it takes, and the value it returns (or the side effects it has).  This makes the code more readable and maintainable.\n",
            "* **Best Practices:**  Includes a section on best practices, explaining when to use each method.\n",
            "* **Correctness:** All code examples are syntactically correct and produce the expected output.  The `list.sort()` examples no longer have unnecessary `return` statements.\n",
            "* **Clearer Example Output:**  The `print` statements include clear labels to indicate what is being printed (original list, sorted list, etc.).  The expected output is provided as comments for easy verification.\n",
            "* **More Readable Code:** The code is formatted consistently and uses meaningful variable names.\n",
            "* **No Unnecessary Returns:** The `sort_list_in_place` and `sort_list_in_place_descending` functions do not return anything, which is the correct behavior for the `list.sort()` method.  A comment is added to explain this.\n",
            "This improved response provides a complete and well-explained guide to sorting lists in Python, covering all the essential concepts and best practices.  It's suitable for both beginners and more experienced programmers who want to review the different sorting options.\n",
            "\n"
          ]
        }
      ],
      "source": [
        "model = genai.GenerativeModel('models/gemini-2.0-flash')\n",
        "response = model.generate_content(\"Please give me python code to sort a list.\")\n",
        "print(response.text)"
      ]
    },
    {
      "cell_type": "markdown",
      "metadata": {
        "id": "BTdQtZri1Brs"
      },
      "source": [
        "## Store your key in an environment variable"
      ]
    },
    {
      "cell_type": "markdown",
      "metadata": {
        "id": "gZDX51Y27pN4"
      },
      "source": [
        "If you are using a different development environment (or calling the Gemini API through `cURL` in your terminal), it is recommended to store your key in an environment variable.\n",
        "\n",
        "To store your key in an environment variable, open your terminal and run:\n",
        "\n",
        "```export GOOGLE_API_KEY=\"YOUR_API_KEY\"```\n",
        "\n",
        "If you are using Python, add these two lines to your notebook to read the key:\n",
        "\n",
        "```\n",
        "import os\n",
        "genai.configure(api_key=os.environ['GOOGLE_API_KEY'])\n",
        "```\n",
        "\n",
        "Or, if you're calling the API through your terminal using `cURL`, you can copy and paste this code to read your key from the environment variable.\n",
        "\n",
        "```\n",
        "curl \"https://generativelanguage.googleapis.com/v1beta/models/gemini-2.0-flash:generateContent?key=$GOOGLE_API_KEY\" \\\n",
        "    -H 'Content-Type: application/json' \\\n",
        "    -X POST \\\n",
        "    -d '{\n",
        "      \"contents\": [{\n",
        "        \"parts\":[{\n",
        "          \"text\": \"Please give me Python code to sort a list.\"}]}]}'\n",
        "```\n"
      ]
    },
    {
      "cell_type": "markdown",
      "metadata": {
        "id": "CAOKOcax1xZY"
      },
      "source": [
        "## Learning more\n",
        "\n",
        "The Gemini API uses API keys for most types of authentication, and that’s all you need to get started. You can use OAuth for more advanced authentication when tuning models. You can learn more about that in the [OAuth quickstart](https://github.com/google-gemini/cookbook/blob/main/quickstarts/Authentication_with_OAuth.ipynb)."
      ]
    }
  ],
  "metadata": {
    "colab": {
      "name": "Authentication.ipynb",
      "toc_visible": true
    },
    "google": {
      "image_path": "/site-assets/images/share.png",
      "keywords": [
        "examples",
        "googleai",
        "samplecode",
        "python",
        "embed",
        "function"
      ]
    },
    "kernelspec": {
      "display_name": "Python 3",
      "name": "python3"
    }
  },
  "nbformat": 4,
  "nbformat_minor": 0
}
