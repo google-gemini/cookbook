{
 "cells": [
  {
   "cell_type": "markdown",
   "id": "2d75bbf6-ab57-4c9b-b288-f664e82a57e0",
   "metadata": {},
   "source": [
    "##### Copyright 2024 Google LLC."
   ]
  },
  {
   "cell_type": "markdown",
   "id": "d8a1fcb6-4b84-4fed-970e-7ff74b7d3779",
   "metadata": {},
   "source": [
    "```python\n",
    "# @title Licensed under the Apache License, Version 2.0 (the \"License\");\n",
    "# you may not use this file except in compliance with the License.\n",
    "# You may obtain a copy of the License at\n",
    "#\n",
    "# https://www.apache.org/licenses/LICENSE-2.0\n",
    "#\n",
    "# Unless required by applicable law or agreed to in writing, software\n",
    "# distributed under the License is distributed on an \"AS IS\" BASIS,\n",
    "# WITHOUT WARRANTIES OR CONDITIONS OF ANY KIND, either express or implied.\n",
    "# See the License for the specific language governing permissions and\n",
    "# limitations under the License.\n",
    "```"
   ]
  },
  {
   "cell_type": "markdown",
   "id": "fc047e21-9782-4edf-bece-05e41fe8d78c",
   "metadata": {},
   "source": [
    "# Gemini API: Chatbot Quickstart\n",
    "\n",
    "<a target=\"_blank\" href=\"https://colab.research.google.com/github/AbhigyanSrivastav/gemini-api-tutorial/blob/main/Gemini_Chatbot_Tutorial.ipynb\">\n",
    "  <img src=\"https://colab.research.google.com/assets/colab-badge.svg\" height=30/>\n",
    "</a>\n",
    "\n",
    "---\n",
    "\n",
    "This notebook provides an example of how to use the **Gemini API to build a chatbot**.  \n",
    "You will create a conversational AI that generates responses based on user input.\n"
   ]
  },
  {
   "cell_type": "code",
   "execution_count": null,
   "id": "34b2ff96-842a-462c-bb60-8fab72276216",
   "metadata": {},
   "outputs": [],
   "source": [
    "# Install dependencies\n",
    "%pip install -U -q \"google-generativeai>=0.7.2\""
   ]
  },
  {
   "cell_type": "code",
   "execution_count": null,
   "id": "b5d4e8dd-caf1-4b1a-8c7b-e6dd63e1e0dd",
   "metadata": {},
   "outputs": [],
   "source": [
    "# Import necessary libraries\n",
    "import google.generativeai as genai"
   ]
  },
  {
   "cell_type": "markdown",
   "id": "22d65e95-db89-4383-a933-c1abb232292c",
   "metadata": {},
   "source": [
    "## Set up your API key\n",
    "\n",
    "To run the following cell, store your API key in a Colab Secret named `GOOGLE_API_KEY`.  \n",
    "If you don't already have an API key, or you're unsure how to create a Colab Secret, see the  \n",
    "[Authentication](https://github.com/google-gemini/cookbook/blob/a0b506a8f65141cec4eb9143db760c735f652a59/quickstarts/Authentication.ipynb) quickstart for an example.\n"
   ]
  },
  {
   "cell_type": "code",
   "execution_count": null,
   "id": "f4fe1935-8d6b-40e3-99e2-5cc55a427b02",
   "metadata": {},
   "outputs": [],
   "source": [
    "# Configure your API key using Colab Secrets\n",
    "from google.colab import userdata\n",
    "\n",
    "GOOGLE_API_KEY = userdata.get(\"GOOGLE_API_KEY\")\n",
    "genai.configure(api_key=GOOGLE_API_KEY)"
   ]
  },
  {
   "cell_type": "markdown",
   "id": "754a3122-2b0e-47ae-838a-a1b90465e2ba",
   "metadata": {},
   "source": [
    "## Define a function to interact with the Gemini Chatbot\n",
    "\n",
    "The function below sends a user prompt to the **Gemini API** and returns the chatbot's response.  \n",
    "You can modify the model version using the `MODEL_ID` variable.\n"
   ]
  },
  {
   "cell_type": "code",
   "execution_count": null,
   "id": "825f3131-769d-4f8a-8505-ebf135e8ce7a",
   "metadata": {},
   "outputs": [],
   "source": [
    "# Select the Gemini model\n",
    "MODEL_ID = \"gemini-2.0-flash\"  # @param [\"gemini-2.0-flash-lite\", \"gemini-2.0-flash\", \"gemini-2.0-pro-exp-02-05\"] {\"allow-input\": true, \"isTemplate\": true}\n",
    "\n",
    "# Function to interact with Gemini Chatbot\n",
    "def chat_with_gemini(prompt: str) -> str:\n",
    "    \"\"\"Generates a response from the Gemini chatbot for a given prompt.\"\"\"\n",
    "    \n",
    "    model = genai.GenerativeModel(MODEL_ID)  # Use the selected model\n",
    "    response = model.generate_content(prompt)\n",
    "    \n",
    "    return response.text if response else \"No response received.\"\n",
    "\n",
    "user_input = \"Hello! How do I use AI in chatbots?\"\n",
    "response = chat_with_gemini(user_input)\n",
    "\n",
    "print(\"Gemini:\", response)\n"
   ]
  },
  {
   "cell_type": "markdown",
   "id": "6098c63f-fa03-476d-b18b-1d64e8f62d3a",
   "metadata": {},
   "source": [
    "# Output:\n",
    "\n",
    "Gemini: Using AI in chatbots enhances their ability to understand and respond to user queries in a more human-like and helpful way. Here's a breakdown of how AI is used and the key components involved:\n",
    "\n",
    "**1. Natural Language Understanding (NLU):**\n",
    "\n",
    "* **Intent Recognition:**  NLU helps the chatbot understand the *intent* behind a user's message. For example, whether they are asking a question, making a request, or expressing a complaint.\n",
    "* **Entity Extraction:**  This involves identifying key pieces of information within the user's message, such as dates, locations, names, or product names.  These are the *entities* that are relevant to the intent.  For example, in \"Book a flight to London on Friday,\" \"London\" is a location entity and \"Friday\" is a date entity.\n",
    "\n",
    "**2. Dialogue Management:**\n",
    "\n",
    "* **Contextual Awareness:** AI allows the chatbot to maintain context throughout a conversation, remembering previous interactions and user preferences. This avoids repetitive questions and makes the interaction smoother.\n",
    "* **State Tracking:**  The chatbot keeps track of where the user is in a conversational flow, like filling out a form or troubleshooting a problem.\n",
    "* **Multi-turn Conversations:**  Instead of just responding to single, isolated messages, AI-powered chatbots can handle complex, multi-turn conversations, guiding the user towards a resolution.\n",
    "\n",
    "**3. Natural Language Generation (NLG):**\n",
    "\n",
    "* **Dynamic Responses:** Instead of using pre-written responses, NLG allows the chatbot to generate responses dynamically based on the understood intent and extracted entities.  This makes the conversation feel more natural and less robotic.\n",
    "* **Personalization:**  AI can tailor responses based on user data and past interactions, creating a more personalized experience.\n",
    "\n",
    "**4. Machine Learning (ML) for Continuous Improvement:**\n",
    "\n",
    "* **Training Data:**  AI chatbots are trained on large datasets of conversations to improve their ability to understand user input and generate appropriate responses.\n",
    "* **Supervised Learning:**  This involves labeling training data with correct intents and entities to help the chatbot learn.\n",
    "* **Unsupervised Learning:** This allows the chatbot to discover patterns and relationships in the data without explicit labeling.\n",
    "* **Reinforcement Learning:** This technique trains the chatbot to optimize its responses based on feedback or rewards.\n",
    "\n",
    "**5. Integration with Backend Systems:**\n",
    "\n",
    "* **APIs:**  AI chatbots can be integrated with various backend systems, such as CRM databases, inventory management systems, and payment gateways, to perform actions like booking appointments, processing orders, or retrieving information.\n",
    "\n",
    "**Popular AI platforms and tools for chatbot development:**\n",
    "\n",
    "* **Dialogflow (Google):** A powerful platform for building conversational interfaces.\n",
    "* **Amazon Lex:**  Similar to Dialogflow, integrated with other AWS services.\n",
    "* **Microsoft Bot Framework:** A comprehensive framework for building and deploying bots.\n",
    "* **IBM Watson Assistant:** Another robust platform with advanced NLU and dialogue management capabilities.\n",
    "* **Rasa:** An open-source framework for building conversational AI assistants.\n",
    "\n",
    "**Key Considerations:**\n",
    "\n",
    "* **Data Privacy and Security:** Ensure compliance with data privacy regulations when handling user information.\n",
    "* **Bias and Fairness:**  Be mindful of potential biases in training data and strive to create chatbots that are fair and inclusive.\n",
    "* **Human Handoff:** Design a smooth handoff mechanism to human agents when the chatbot encounters complex or sensitive issues.\n",
    "* **User Experience:** Focus on creating a user-friendly and intuitive experience.\n",
    "\n",
    "\n",
    "By leveraging these AI techniques, chatbots can provide more engaging, efficient, and personalized interactions, leading to improved customer satisfaction and increased automation of various tasks."
   ]
  }
 ],
 "metadata": {
  "kernelspec": {
   "display_name": "Python (gemini-chatbot)",
   "language": "python",
   "name": "gemini-chatbot"
  },
  "language_info": {
   "codemirror_mode": {
    "name": "ipython",
    "version": 3
   },
   "file_extension": ".py",
   "mimetype": "text/x-python",
   "name": "python",
   "nbconvert_exporter": "python",
   "pygments_lexer": "ipython3",
   "version": "3.9.21"
  }
 },
 "nbformat": 4,
 "nbformat_minor": 5
}
