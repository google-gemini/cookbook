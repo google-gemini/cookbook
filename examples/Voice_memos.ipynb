{
  "cells": [
    {
      "cell_type": "markdown",
      "metadata": {
        "id": "Tce3stUlHN0L"
      },
      "source": [
        "##### Copyright 2025 Google LLC."
      ]
    },
    {
      "cell_type": "code",
      "execution_count": 1,
      "metadata": {
        "cellView": "form",
        "id": "tuOe1ymfHZPu"
      },
      "outputs": [],
      "source": [
        "# @title Licensed under the Apache License, Version 2.0 (the \"License\");\n",
        "# you may not use this file except in compliance with the License.\n",
        "# You may obtain a copy of the License at\n",
        "#\n",
        "# https://www.apache.org/licenses/LICENSE-2.0\n",
        "#\n",
        "# Unless required by applicable law or agreed to in writing, software\n",
        "# distributed under the License is distributed on an \"AS IS\" BASIS,\n",
        "# WITHOUT WARRANTIES OR CONDITIONS OF ANY KIND, either express or implied.\n",
        "# See the License for the specific language governing permissions and\n",
        "# limitations under the License."
      ]
    },
    {
      "cell_type": "markdown",
      "metadata": {
        "id": "084u8u0DpBlo"
      },
      "source": [
        "# Voice memos"
      ]
    },
    {
      "cell_type": "markdown",
      "metadata": {
        "id": "wnQ_LVlzIeXo"
      },
      "source": [
        "<a target=\"_blank\" href=\"https://colab.research.google.com/github/google-gemini/cookbook/blob/main/examples/Voice_memos.ipynb\"><img src=\"https://colab.research.google.com/assets/colab-badge.svg\" height=30/></a>"
      ]
    },
    {
      "cell_type": "markdown",
      "metadata": {
        "id": "q7QvXQMrIhuZ"
      },
      "source": [
        "This notebook provides a quick example of how to work with audio and text files in the same prompt. You'll use the Gemini API to help you generate ideas for your next blog post, based on voice memos you recorded on your phone, and previous articles you've written."
      ]
    },
    {
      "cell_type": "code",
      "execution_count": 2,
      "metadata": {
        "id": "qLuL9m7KhvxR"
      },
      "outputs": [],
      "source": [
        "%pip install -U -q \"google-genai>=1.0.0\""
      ]
    },
    {
      "cell_type": "markdown",
      "metadata": {
        "id": "l8g4hTRotheH"
      },
      "source": [
        "### Setup your API key\n",
        "\n",
        "To run the following cell, your API key must be stored it in a Colab Secret named `GOOGLE_API_KEY`. If you don't already have an API key, or you're not sure how to create a Colab Secret, see [Authentication](https://github.com/google-gemini/cookbook/blob/main/quickstarts/Authentication.ipynb) for an example."
      ]
    },
    {
      "cell_type": "code",
      "execution_count": 3,
      "metadata": {
        "id": "d6lYXRcjthKV"
      },
      "outputs": [],
      "source": [
        "from google import genai\n",
        "from google.colab import userdata\n",
        "\n",
        "GOOGLE_API_KEY = userdata.get('GOOGLE_API_KEY')\n",
        "client = genai.Client(api_key=GOOGLE_API_KEY)"
      ]
    },
    {
      "cell_type": "markdown",
      "metadata": {
        "id": "Mim5jZB6E1ag"
      },
      "source": [
        "Install PDF processing tools."
      ]
    },
    {
      "cell_type": "code",
      "execution_count": 4,
      "metadata": {
        "id": "4YjBq1mCE2cX",
        "outputId": "f918ceff-ba8a-4e77-9ce4-2c54581b7eef",
        "colab": {
          "base_uri": "https://localhost:8080/"
        }
      },
      "outputs": [
        {
          "output_type": "stream",
          "name": "stdout",
          "text": [
            "Reading package lists... Done\n",
            "Building dependency tree... Done\n",
            "Reading state information... Done\n",
            "poppler-utils is already the newest version (22.02.0-2ubuntu0.7).\n",
            "0 upgraded, 0 newly installed, 0 to remove and 34 not upgraded.\n"
          ]
        }
      ],
      "source": [
        "!apt install poppler-utils"
      ]
    },
    {
      "cell_type": "markdown",
      "metadata": {
        "id": "MNvhBdoDFnTC"
      },
      "source": [
        "## Upload your audio and text files\n"
      ]
    },
    {
      "cell_type": "code",
      "execution_count": 5,
      "metadata": {
        "id": "V4XeFdX1rxaE",
        "outputId": "7d7b64f5-20bf-4b1d-b57f-651062ab169b",
        "colab": {
          "base_uri": "https://localhost:8080/"
        }
      },
      "outputs": [
        {
          "output_type": "stream",
          "name": "stdout",
          "text": [
            "--2025-04-22 13:47:29--  https://storage.googleapis.com/generativeai-downloads/data/Walking_thoughts_3.m4a\n",
            "Resolving storage.googleapis.com (storage.googleapis.com)... 142.251.167.207, 172.253.115.207, 172.253.122.207, ...\n",
            "Connecting to storage.googleapis.com (storage.googleapis.com)|142.251.167.207|:443... connected.\n",
            "HTTP request sent, awaiting response... 200 OK\n",
            "Length: 2060207 (2.0M) [audio/x-m4a]\n",
            "Saving to: ‘Walking_thoughts_3.m4a.1’\n",
            "\n",
            "Walking_thoughts_3. 100%[===================>]   1.96M  --.-KB/s    in 0.02s   \n",
            "\n",
            "2025-04-22 13:47:29 (86.3 MB/s) - ‘Walking_thoughts_3.m4a.1’ saved [2060207/2060207]\n",
            "\n",
            "--2025-04-22 13:47:29--  https://storage.googleapis.com/generativeai-downloads/data/A_Possible_Future_for_Online_Content.pdf\n",
            "Resolving storage.googleapis.com (storage.googleapis.com)... 142.251.167.207, 172.253.115.207, 172.253.122.207, ...\n",
            "Connecting to storage.googleapis.com (storage.googleapis.com)|142.251.167.207|:443... connected.\n",
            "HTTP request sent, awaiting response... 200 OK\n",
            "Length: 2798700 (2.7M) [application/pdf]\n",
            "Saving to: ‘A_Possible_Future_for_Online_Content.pdf.1’\n",
            "\n",
            "A_Possible_Future_f 100%[===================>]   2.67M  --.-KB/s    in 0.02s   \n",
            "\n",
            "2025-04-22 13:47:30 (146 MB/s) - ‘A_Possible_Future_for_Online_Content.pdf.1’ saved [2798700/2798700]\n",
            "\n",
            "--2025-04-22 13:47:30--  https://storage.googleapis.com/generativeai-downloads/data/Unanswered_Questions_and_Endless_Possibilities.pdf\n",
            "Resolving storage.googleapis.com (storage.googleapis.com)... 142.251.167.207, 172.253.115.207, 172.253.122.207, ...\n",
            "Connecting to storage.googleapis.com (storage.googleapis.com)|142.251.167.207|:443... connected.\n",
            "HTTP request sent, awaiting response... 200 OK\n",
            "Length: 4016102 (3.8M) [application/pdf]\n",
            "Saving to: ‘Unanswered_Questions_and_Endless_Possibilities.pdf.1’\n",
            "\n",
            "Unanswered_Question 100%[===================>]   3.83M  --.-KB/s    in 0.02s   \n",
            "\n",
            "2025-04-22 13:47:30 (183 MB/s) - ‘Unanswered_Questions_and_Endless_Possibilities.pdf.1’ saved [4016102/4016102]\n",
            "\n"
          ]
        }
      ],
      "source": [
        "!wget https://storage.googleapis.com/generativeai-downloads/data/Walking_thoughts_3.m4a\n",
        "!wget https://storage.googleapis.com/generativeai-downloads/data/A_Possible_Future_for_Online_Content.pdf\n",
        "!wget https://storage.googleapis.com/generativeai-downloads/data/Unanswered_Questions_and_Endless_Possibilities.pdf"
      ]
    },
    {
      "cell_type": "code",
      "execution_count": 6,
      "metadata": {
        "id": "_HzrDdp2Q1Cu"
      },
      "outputs": [],
      "source": [
        "audio_file_name = \"Walking_thoughts_3.m4a\"\n",
        "audio_file = client.files.upload(file=audio_file_name)"
      ]
    },
    {
      "cell_type": "markdown",
      "metadata": {
        "id": "MpAU9V3YEvXh"
      },
      "source": [
        "## Extract text from the PDFs"
      ]
    },
    {
      "cell_type": "code",
      "execution_count": 7,
      "metadata": {
        "id": "NttNb-M_ExlK"
      },
      "outputs": [],
      "source": [
        "!pdftotext A_Possible_Future_for_Online_Content.pdf\n",
        "!pdftotext Unanswered_Questions_and_Endless_Possibilities.pdf"
      ]
    },
    {
      "cell_type": "code",
      "execution_count": 8,
      "metadata": {
        "id": "LYA-OlD6Gw3v"
      },
      "outputs": [],
      "source": [
        "blog_file_name = \"A_Possible_Future_for_Online_Content.txt\"\n",
        "blog_file = client.files.upload(file=blog_file_name)"
      ]
    },
    {
      "cell_type": "code",
      "execution_count": 9,
      "metadata": {
        "id": "9Sf63anDG317"
      },
      "outputs": [],
      "source": [
        "blog_file_name2 = \"Unanswered_Questions_and_Endless_Possibilities.txt\"\n",
        "blog_file2 = client.files.upload(file=blog_file_name2)"
      ]
    },
    {
      "cell_type": "markdown",
      "metadata": {
        "id": "EPPOECHzsIGJ"
      },
      "source": [
        "## System instructions\n",
        "\n",
        "Write a detailed system instruction to configure the model."
      ]
    },
    {
      "cell_type": "code",
      "execution_count": 10,
      "metadata": {
        "id": "y5zh5WzwGiR5"
      },
      "outputs": [],
      "source": [
        "si=\"\"\"\n",
        "  Objective: Transform raw thoughts and ideas into polished, engaging blog\n",
        "  posts that capture a writers unique style and voice.\n",
        "  Input:\n",
        "  Example Blog Posts (1-5): A user will provide examples of blog posts that\n",
        "  resonate with their desired style and tone. These will guide you in\n",
        "  understanding the preferences for word choice, sentence structure,\n",
        "  and overall voice.\n",
        "  Audio Clips: A user will share a selection of brainstorming thoughts and\n",
        "  key points through audio recordings. They will talk freely and openly, as if\n",
        "  they were explaining their ideas to a friend.\n",
        "  Output:\n",
        "  Blog Post Draft: A well-structured first draft of the blog post, suitable\n",
        "  for platforms like Substack or LinkedIn.\n",
        "  The draft will include:\n",
        "  Clear and engaging writing: you will strive to make the writing clear,\n",
        "  concise, and interesting for the target audience.\n",
        "  Tone and style alignment: The language and style will closely match the\n",
        "  examples provided, ensuring consistency with the desired voice.\n",
        "  Logical flow and structure: The draft will be organized with clear sections\n",
        "  based on the content of the post.\n",
        "  Target word count: Aim for 500-800 words, but this can be adjusted based on\n",
        "  user preferences.\n",
        "  Process:\n",
        "  Style Analysis: Carefully analyze the example blog posts provided by the\n",
        "  user to identify key elements of their preferred style, including:\n",
        "  Vocabulary and word choice: Formal vs. informal, technical terms, slang, etc.\n",
        "  Sentence structure and length: Short and impactful vs. longer and\n",
        "  descriptive sentences.\n",
        "  Tone and voice: Humorous, serious, informative, persuasive, etc.\n",
        "  Audio Transcription and Comprehension: Your audio clips will be transcribed\n",
        "  with high accuracy. you will analyze them to extract key ideas, arguments,\n",
        "  and supporting points.\n",
        "  Draft Generation: Using the insights from the audio and the style guidelines\n",
        "  from the examples, you will generate a first draft of the blog post.\n",
        "  This draft will include all relevant sections with supporting arguments or\n",
        "  evidence, and a great ending that ties everything together and makes the\n",
        "  reader want to invest in future readings.\n",
        "\"\"\""
      ]
    },
    {
      "cell_type": "markdown",
      "metadata": {
        "id": "CuEXqOnYzhM-"
      },
      "source": [
        "## Generate Content"
      ]
    },
    {
      "cell_type": "code",
      "execution_count": 11,
      "metadata": {
        "id": "63ec84f8e8a8",
        "outputId": "a053c550-ee4c-4985-9ec5-503e78df8792",
        "colab": {
          "base_uri": "https://localhost:8080/"
        }
      },
      "outputs": [
        {
          "output_type": "stream",
          "name": "stdout",
          "text": [
            "Okay, let's transform these thoughts and example posts into a draft.\n",
            "\n",
            "Based on the provided blog posts, your style is thoughtful, reflective, and focused on how changes (especially in technology or mindset) impact processes and potential. You use clear, distinct sections to break down ideas, often starting with a personal observation or question and then exploring it through key themes. Your tone is approachable yet informed, using specific examples to illustrate abstract concepts.\n",
            "\n",
            "The audio describes an early career frustration with \"throwaway work\" (ideas, plans, projects that didn't get used or were cancelled) and how a new team culture of \"write to think\" reframed this experience, highlighting the value of the *process* itself for learning and skill development.\n",
            "\n",
            "Here is a first draft of the blog post, incorporating the core ideas from your audio and aligning with the style of your previous posts:\n",
            "\n",
            "---\n",
            "\n",
            "**Beyond 'Throwaway Work': The Transformative Power of Writing to Think**\n",
            "\n",
            "*How reframing early career frustrations unlocked a powerful approach to creating*\n",
            "\n",
            "Early on in my career, fresh out of the structured world of academia, I encountered something deeply unsettling: the concept of \"throwaway work.\"\n",
            "\n",
            "In school, the equation was simple and clear: you were given an assignment, you worked on it, you completed it, and you were graded on the output. There were no \"take-backsies\" on assignments. You produced something, and that was the point.\n",
            "\n",
            "Stepping into the professional world, particularly in product development, felt wildly different. I spent a significant amount of time working on visions, roadmaps, and intricate ideas – projects that felt substantial and important at the time. But, as priorities shifted, markets changed, or new information emerged (all perfectly valid reasons, by the way), many of these projects ended up not happening at all. I remember the feeling of effectively throwing away large chunks of work, or seeing projects cancelled late in the game.\n",
            "\n",
            "It still happens today, not just to me but to talented people across teams and even entire companies. But back then, it felt like a monumental, even colossal, waste of time. It became really difficult to reconcile the effort I was putting in with the possibility that none of it might matter in the end, that it might never see the light of day or be used by anyone.\n",
            "\n",
            "This perspective – that work was only valuable if it resulted in a final, shipped product – was frustrating and, frankly, demotivating. It took me a while to just get over it, to accept that this was just \"part of the game.\" But I don't think I truly appreciated the deeper value until I joined a more recent team.\n",
            "\n",
            "**The Shift: Embracing 'Write to Think'**\n",
            "\n",
            "This new team had a culture, or perhaps more accurately, a shared philosophy, that subtly but profoundly changed my view: the concept of \"write to think.\"\n",
            "\n",
            "At first, I might have simplistically thought, \"Okay, priorities change, things shift, sometimes we stop working on one thing to go onto another. That's just the reality.\" But \"write to think\" isn't merely an acknowledgement that work can be ephemeral. It’s a reframe.\n",
            "\n",
            "It's the understanding that the *act* of producing work – the content you create, the plans you write, the ideas you explore on paper (or screen) – is a critical part of the process, regardless of whether the specific output ever becomes a final product. The true value lies not just in the artifact itself, but in how creating it helps you learn, grow, and hone your skills for the future.\n",
            "\n",
            "**Why Writing to Think Matters**\n",
            "\n",
            "This mindset shifts the focus from the destination (the final product) to the journey (the process of creation and exploration). It acknowledges that putting thoughts into words, structuring ideas, or drafting plans helps clarify thinking in a way that simply *having* the thoughts does not.\n",
            "\n",
            "It’s about externalizing your internal world. By writing, you force yourself to be explicit, to identify gaps in logic, to see connections you might have missed, and to refine your understanding of a problem or potential solution. This iterative process of putting ideas down and refining them makes you better at what you do, going forward.\n",
            "\n",
            "So, what does embracing this 'write to think' culture look like in practice?\n",
            "\n",
            "1.  **Write More, Earlier, Often:** Don't wait until an idea is fully formed or until you know it will definitely be pursued. Start writing early in the process – initial thoughts, messy outlines, potential approaches.\n",
            "2.  **Detach from Finality:** Write *without* the immediate pressure or expectation that this needs to be a polished, final product. The goal isn't necessarily to ship *this specific document*, but to use the act of creating it to refine your thinking.\n",
            "3.  **Be Willing to Scrap:** Understand that once the writing has served its primary purpose – helping you clarify your thoughts, explore options, or learn something new – you might be willing to discard the artifact itself. It hasn't been a waste; it has been a tool for learning.\n",
            "\n",
            "This framing ties in beautifully with iterative processes and the philosophy of \"doing by learning.\" It recognizes that progress isn't linear and that exploration is a vital part of arriving at the right solution (or sometimes realizing a path isn't the right one, which is equally valuable learning).\n",
            "\n",
            "**No Such Thing as 'Throwaway Work'**\n",
            "\n",
            "Reframing \"young Jaclyn's\" mindset through this lens has been incredibly powerful. In this model, there really is no such thing as \"throwaway work.\" Every document written, every plan drafted, every idea explored contributes to your growth and skill development. It's all helping you just hone your skills and get better over time.\n",
            "\n",
            "It’s a simple shift in perspective, but one that transforms frustration into flow and perceived waste into valuable learning. It highlights that the process of creation is often as, if not more, important than the created thing itself.\n",
            "\n",
            "---\n"
          ]
        }
      ],
      "source": [
        "prompt = \"\"\"\n",
        "  Draft my next blog post based on my thoughts in this audio file and\n",
        "  these two previous blog posts I wrote.\n",
        "\"\"\"\n",
        "\n",
        "MODEL_ID=\"gemini-2.5-flash-preview-04-17\" # @param [\"gemini-2.0-flash-lite\",\"gemini-2.0-flash\",\"gemini-2.5-flash-preview-04-17\",\"gemini-2.5-pro-exp-03-25\"] {\"allow-input\":true, isTemplate: true}\n",
        "\n",
        "response = client.models.generate_content(\n",
        "    model=MODEL_ID,\n",
        "    contents=[prompt, blog_file, blog_file2, audio_file],\n",
        "    config={\n",
        "        \"system_instruction\":si,\n",
        "        \"http_options\":{\n",
        "            \"timeout\":10*60*1000 #10 minutes\n",
        "        }\n",
        "    }\n",
        ")\n",
        "print(response.text)"
      ]
    },
    {
      "cell_type": "markdown",
      "metadata": {
        "id": "K5oUCqb6IUnH"
      },
      "source": [
        "## Learning more\n",
        "\n",
        "* Learn more about the [File API](https://github.com/google-gemini/cookbook/blob/main/quickstarts/File_API.ipynb) with the quickstart."
      ]
    }
  ],
  "metadata": {
    "colab": {
      "collapsed_sections": [
        "Tce3stUlHN0L"
      ],
      "name": "Voice_memos.ipynb",
      "provenance": []
    },
    "kernelspec": {
      "display_name": "Python 3",
      "name": "python3"
    }
  },
  "nbformat": 4,
  "nbformat_minor": 0
}