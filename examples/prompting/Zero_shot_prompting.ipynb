{
  "cells": [
    {
      "cell_type": "markdown",
      "metadata": {
        "id": "Hfb0zeHYnwtC"
      },
      "source": [
        "##### Copyright 2025 Google LLC."
      ]
    },
    {
      "cell_type": "code",
      "execution_count": null,
      "metadata": {
        "cellView": "form",
        "id": "NeImViGqnv1b"
      },
      "outputs": [],
      "source": [
        "# @title Licensed under the Apache License, Version 2.0 (the \"License\");\n",
        "# you may not use this file except in compliance with the License.\n",
        "# You may obtain a copy of the License at\n",
        "#\n",
        "# https://www.apache.org/licenses/LICENSE-2.0\n",
        "#\n",
        "# Unless required by applicable law or agreed to in writing, software\n",
        "# distributed under the License is distributed on an \"AS IS\" BASIS,\n",
        "# WITHOUT WARRANTIES OR CONDITIONS OF ANY KIND, either express or implied.\n",
        "# See the License for the specific language governing permissions and\n",
        "# limitations under the License."
      ]
    },
    {
      "cell_type": "markdown",
      "metadata": {
        "id": "sP8PQnz1QrcF"
      },
      "source": [
        "# Gemini API: Zero-shot prompting"
      ]
    },
    {
      "cell_type": "markdown",
      "metadata": {
        "id": "bxGr_x3MRA0z"
      },
      "source": [
        "<a target=\"_blank\" href=\"https://colab.research.google.com/github/google-gemini/cookbook/blob/main/examples/prompting/Zero_shot_prompting.ipynb\"><img src=\"https://colab.research.google.com/assets/colab-badge.svg\" height=30/>"
      ]
    },
    {
      "cell_type": "markdown",
      "metadata": {
        "id": "ysy--KfNRrCq"
      },
      "source": [
        "You can use the Gemini models to answer many queries without any additional context. Zero-shot prompting is useful for situations when your queries are not complicated and do not require a specific schema."
      ]
    },
    {
      "cell_type": "code",
      "execution_count": 1,
      "metadata": {
        "id": "Ne-3gnXqR0hI"
      },
      "outputs": [],
      "source": [
        "%pip install -U -q \"google-generativeai>=0.7.2\""
      ]
    },
    {
      "cell_type": "code",
      "execution_count": 2,
      "metadata": {
        "id": "EconMHePQHGw"
      },
      "outputs": [],
      "source": [
        "import google.generativeai as genai\n",
        "\n",
        "from IPython.display import Markdown"
      ]
    },
    {
      "cell_type": "markdown",
      "metadata": {
        "id": "eomJzCa6lb90"
      },
      "source": [
        "## Configure your API key\n",
        "\n",
        "To run the following cell, your API key must be stored it in a Colab Secret named `GOOGLE_API_KEY`. If you don't already have an API key, or you're not sure how to create a Colab Secret, see [Authentication](https://github.com/google-gemini/cookbook/blob/main/quickstarts/Authentication.ipynb) for an example."
      ]
    },
    {
      "cell_type": "code",
      "execution_count": 4,
      "metadata": {
        "id": "v-JZzORUpVR2"
      },
      "outputs": [],
      "source": [
        "from google.colab import userdata\n",
        "GOOGLE_API_KEY=userdata.get('GOOGLE_API_KEY')\n",
        "\n",
        "genai.configure(api_key=GOOGLE_API_KEY)"
      ]
    },
    {
      "cell_type": "markdown",
      "metadata": {
        "id": "GLh4oXd1VXTw"
      },
      "source": [
        "## Examples\n",
        "\n",
        "Here are a few examples with zero-shot prompting. Note that in each of these examples, you can simply provide the task, with zero examples."
      ]
    },
    {
      "cell_type": "code",
      "execution_count": 5,
      "metadata": {
        "id": "Ym4w9z3iWHlT"
      },
      "outputs": [],
      "source": [
        "model = genai.GenerativeModel('gemini-2.0-flash')"
      ]
    },
    {
      "cell_type": "code",
      "execution_count": 6,
      "metadata": {
        "id": "J580DkQPVYYp"
      },
      "outputs": [
        {
          "data": {
            "text/markdown": [
              "Here's the order from biggest to smallest:\n",
              "\n",
              "1.  **Elephant**\n",
              "2.  **Dog**\n",
              "3.  **Fish**"
            ],
            "text/plain": [
              "<IPython.core.display.Markdown object>"
            ]
          },
          "execution_count": 6,
          "metadata": {},
          "output_type": "execute_result"
        }
      ],
      "source": [
        "prompt = \"\"\"\n",
        "Sort following animals from biggest to smallest:\n",
        "fish, elephant, dog\n",
        "\"\"\"\n",
        "Markdown(model.generate_content(prompt).text)"
      ]
    },
    {
      "cell_type": "code",
      "execution_count": 11,
      "metadata": {
        "id": "K1we-_q4VZ0M"
      },
      "outputs": [
        {
          "data": {
            "text/markdown": [
              "Positive\n"
            ],
            "text/plain": [
              "<IPython.core.display.Markdown object>"
            ]
          },
          "execution_count": 11,
          "metadata": {},
          "output_type": "execute_result"
        }
      ],
      "source": [
        "prompt = \"\"\"\n",
        "Classify sentiment of review as positive, negative or neutral:\n",
        "I go to this restaurant every week, I love it so much.\n",
        "\"\"\"\n",
        "Markdown(model.generate_content(prompt).text)"
      ]
    },
    {
      "cell_type": "code",
      "execution_count": 12,
      "metadata": {
        "id": "4NF2OmfPVa4l"
      },
      "outputs": [
        {
          "data": {
            "text/markdown": [
              "Rome and Berlin are the capital cities in the text.\n"
            ],
            "text/plain": [
              "<IPython.core.display.Markdown object>"
            ]
          },
          "execution_count": 12,
          "metadata": {},
          "output_type": "execute_result"
        }
      ],
      "source": [
        "prompt = \"\"\"\n",
        "extract capital cities from the text:\n",
        "During the summer I visited many countries in Europe. First I visited Italy, specifically Sicily and Rome. Then I visited Cologne in Germany and the trip ended in Berlin.\n",
        "\"\"\"\n",
        "Markdown(model.generate_content(prompt).text)"
      ]
    },
    {
      "cell_type": "code",
      "execution_count": 7,
      "metadata": {
        "id": "dZFEDw0h-6dI"
      },
      "outputs": [
        {
          "data": {
            "text/markdown": [
              "```python\n",
              "def add_numbers(a, b):\n",
              "    return a + b\n",
              "\n",
              "# The error is that you're trying to add an integer and a string.\n",
              "# To fix this, you need to convert the string \"10\" to an integer.\n",
              "# You can do this using the int() function.\n",
              "\n",
              "print(add_numbers(5, int(\"10\")))\n",
              "```\n",
              "\n",
              "**Explanation of the Error and Fix:**\n",
              "\n",
              "* **Error:** The original code attempted to add an integer (`5`) and a string (`\"10\"`).  In Python, the `+` operator behaves differently depending on the data types involved. When used with numbers, it performs addition. When used with strings, it performs concatenation (joins the strings together).  Python does not automatically convert between these data types in this case, resulting in a `TypeError` if you were to run it without the fix.\n",
              "\n",
              "* **Fix:** The `int(\"10\")` converts the string `\"10\"` into an integer with the value `10`.  Now, the `add_numbers` function receives two integers as input, and the `+` operator correctly performs addition.  The corrected code then prints the sum, which is `15`.\n"
            ],
            "text/plain": [
              "<IPython.core.display.Markdown object>"
            ]
          },
          "execution_count": 7,
          "metadata": {},
          "output_type": "execute_result"
        }
      ],
      "source": [
        "prompt = \"\"\"\n",
        "Find and fix the error in this Python code:\n",
        "def add_numbers(a, b):\n",
        "    return a + b\n",
        "print(add_numbers(5, \"10\"))\n",
        "\"\"\"\n",
        "Markdown(model.generate_content(prompt).text)"
      ]
    },
    {
      "cell_type": "code",
      "execution_count": 8,
      "metadata": {
        "id": "1MuWMnue_EEA"
      },
      "outputs": [
        {
          "data": {
            "text/markdown": [
              "The average speed is calculated by dividing the total distance traveled by the total time taken.\n",
              "\n",
              "Average speed = Total distance / Total time\n",
              "\n",
              "Average speed = 120 km / 2 hours\n",
              "\n",
              "Average speed = 60 km/hour\n",
              "\n",
              "Therefore, the train's average speed is $\\boxed{60}$ km/hour.\n"
            ],
            "text/plain": [
              "<IPython.core.display.Markdown object>"
            ]
          },
          "execution_count": 8,
          "metadata": {},
          "output_type": "execute_result"
        }
      ],
      "source": [
        "prompt = \"\"\"\n",
        "Solve this math problem:\n",
        "A train travels 120 km in 2 hours. What is its average speed?\n",
        "\"\"\"\n",
        "Markdown(model.generate_content(prompt).text)"
      ]
    },
    {
      "cell_type": "code",
      "execution_count": 9,
      "metadata": {
        "id": "aMZ1t5Cn_F-A"
      },
      "outputs": [
        {
          "data": {
            "text/markdown": [
              "Here's a breakdown of the names identified in the text:\n",
              "\n",
              "*   **People:** Elon Musk\n",
              "*   **Organizations:** Tesla, SpaceX, NASA\n"
            ],
            "text/plain": [
              "<IPython.core.display.Markdown object>"
            ]
          },
          "execution_count": 9,
          "metadata": {},
          "output_type": "execute_result"
        }
      ],
      "source": [
        "prompt = \"\"\"\n",
        "Identify the names of people, places, and organizations in this text:\n",
        "Elon Musk, the CEO of Tesla and SpaceX, announced a new project in collaboration with NASA.\n",
        "\"\"\"\n",
        "Markdown(model.generate_content(prompt).text)"
      ]
    },
    {
      "cell_type": "code",
      "execution_count": 10,
      "metadata": {
        "id": "LyaRbBT5_Ig4"
      },
      "outputs": [
        {
          "data": {
            "text/markdown": [
              "Here are a few options, depending on the nuance you want to convey:\n",
              "\n",
              "*   **She doesn't like playing football, but she enjoys watching it.** (Most common and natural)\n",
              "*   **She doesn't like to play football, but she enjoys watching it.** (Also grammatically correct)"
            ],
            "text/plain": [
              "<IPython.core.display.Markdown object>"
            ]
          },
          "execution_count": 10,
          "metadata": {},
          "output_type": "execute_result"
        }
      ],
      "source": [
        "prompt = \"\"\"\n",
        "Correct the grammar in this sentence:\n",
        "She don't like playing football but she enjoy to watch it.\n",
        "\"\"\"\n",
        "Markdown(model.generate_content(prompt).text)"
      ]
    },
    {
      "cell_type": "markdown",
      "metadata": {
        "id": "_TghYaiGobM5"
      },
      "source": [
        "## Next steps\n",
        "\n",
        "Be sure to explore other examples of prompting in the repository. Try writing prompts about classifying your own data, or try some of the other prompting techniques such as [few-shot prompting](https://github.com/google-gemini/cookbook/blob/main/examples/prompting/Few_shot_prompting.ipynb)."
      ]
    }
  ],
  "metadata": {
    "colab": {
      "name": "Zero_shot_prompting.ipynb",
      "toc_visible": true
    },
    "kernelspec": {
      "display_name": "Python 3",
      "name": "python3"
    }
  },
  "nbformat": 4,
  "nbformat_minor": 0
}
