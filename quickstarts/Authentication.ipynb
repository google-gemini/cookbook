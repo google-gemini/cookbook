{
  "cells": [
    {
      "cell_type": "markdown",
      "metadata": {
        "id": "Tce3stUlHN0L"
      },
      "source": [
        "##### Copyright 2025 Google LLC."
      ]
    },
    {
      "cell_type": "code",
      "execution_count": null,
      "metadata": {
        "cellView": "form",
        "id": "tuOe1ymfHZPu"
      },
      "outputs": [],
      "source": [
        "# @title Licensed under the Apache License, Version 2.0 (the \"License\");\n",
        "# you may not use this file except in compliance with the License.\n",
        "# You may obtain a copy of the License at\n",
        "#\n",
        "# https://www.apache.org/licenses/LICENSE-2.0\n",
        "#\n",
        "# Unless required by applicable law or agreed to in writing, software\n",
        "# distributed under the License is distributed on an \"AS IS\" BASIS,\n",
        "# WITHOUT WARRANTIES OR CONDITIONS OF ANY KIND, either express or implied.\n",
        "# See the License for the specific language governing permissions and\n",
        "# limitations under the License."
      ]
    },
    {
      "cell_type": "markdown",
      "metadata": {
        "id": "yeadDkMiISin"
      },
      "source": [
        "# Gemini API: Authentication Quickstart"
      ]
    },
    {
      "cell_type": "markdown",
      "metadata": {
        "id": "lEXQ3OwKIa-O"
      },
      "source": [
        "<a target=\"_blank\" href=\"https://colab.research.google.com/github/google-gemini/cookbook/blob/main/quickstarts/Authentication.ipynb\"><img src=\"https://colab.research.google.com/assets/colab-badge.svg\" height=30/></a>"
      ]
    },
    {
      "cell_type": "markdown",
      "metadata": {
        "id": "df1767a3d1cc"
      },
      "source": [
        "The Gemini API uses API keys for authentication. This notebook walks you through creating an API key, and using it with the Python SDK or a command line tool like `curl`."
      ]
    },
    {
      "cell_type": "markdown",
      "metadata": {
        "id": "mhFKmRmxi5B-"
      },
      "source": [
        "## Create an API key\n",
        "\n",
        "You can [create](https://aistudio.google.com/app/apikey) your API key using Google AI Studio with a single click.  \n",
        "\n",
        "Remember to treat your API key like a password. Do not accidentally save it in a notebook or source file you later commit to GitHub. This notebook shows you two ways you can securely store your API key.\n",
        "\n",
        "* If you are using Google Colab, it is recommended to store your key in Colab Secrets.\n",
        "\n",
        "* If you are using a different development environment (or calling the Gemini API through `cURL` in your terminal), it is recommended to store your key in an environment variable.\n",
        "\n",
        "Let's start with Colab Secrets."
      ]
    },
    {
      "cell_type": "markdown",
      "metadata": {
        "id": "dEoigYI9Jw_K"
      },
      "source": [
        "## Add your key to Colab Secrets\n",
        "\n",
        "Add your API key to the Colab Secrets manager to securely store it.\n",
        "\n",
        "1. Open your Google Colab notebook and click on the 🔑 **Secrets** tab in the left panel.\n",
        "   \n",
        "   <img src=\"https://storage.googleapis.com/generativeai-downloads/images/secrets.jpg\" alt=\"The Secrets tab is found on the left panel.\" width=50%>\n",
        "\n",
        "2. Create a new secret with the name `GOOGLE_API_KEY`.\n",
        "3. Copy/paste your API key into the `Value` input box of `GOOGLE_API_KEY`.\n",
        "4. Toggle the button on the left to allow notebook access to the secret.\n"
      ]
    },
    {
      "cell_type": "markdown",
      "metadata": {
        "id": "jRY1eioF4gUB"
      },
      "source": [
        "## Install the Python SDK"
      ]
    },
    {
      "cell_type": "code",
      "execution_count": 1,
      "metadata": {
        "id": "xuiLSV7amy3P"
      },
      "outputs": [
        {
          "name": "stdout",
          "output_type": "stream",
          "text": [
            "Note: you may need to restart the kernel to use updated packages.\n"
          ]
        }
      ],
      "source": [
        "%pip install -qU 'google-genai'"
      ]
    },
    {
      "cell_type": "markdown",
      "metadata": {
        "id": "3dw8ygh74mVc"
      },
      "source": [
        "## Configure the SDK with your API key\n",
        "\n",
        "You create a client using your API key, but instead of pasting your key into the notebook, you'll read it from Colab Secrets."
      ]
    },
    {
      "cell_type": "code",
      "execution_count": null,
      "metadata": {
        "id": "DTl-qZp34sht"
      },
      "outputs": [],
      "source": [
        "from google import genai\n",
        "from google.colab import userdata\n",
        "\n",
        "GOOGLE_API_KEY = userdata.get('GOOGLE_API_KEY')\n",
        "client = genai.Client(api_key=GOOGLE_API_KEY)"
      ]
    },
    {
      "cell_type": "markdown",
      "metadata": {
        "id": "b7ceb7517bf5"
      },
      "source": [
        "Now choose a model. The Gemini API offers different models that are optimized for specific use cases, for more information check [Gemini models](https://ai.google.dev/gemini-api/docs/models)"
      ]
    },
    {
      "cell_type": "code",
      "execution_count": 4,
      "metadata": {
        "id": "7135d9ae3e4b"
      },
      "outputs": [],
      "source": [
        "MODEL_ID=\"gemini-2.5-flash-preview-04-17\" # @param [\"gemini-2.5-flash-preview-04-17\", \"gemini-2.5-pro-preview-03-25\", \"gemini-2.0-flash\", \"gemini-2.0-flash-lite\"] {\"allow-input\":true, isTemplate: true}"
      ]
    },
    {
      "cell_type": "markdown",
      "metadata": {
        "id": "tr7oAO6-nMsE"
      },
      "source": [
        "And that's it! Now you're ready to call the Gemini API."
      ]
    },
    {
      "cell_type": "code",
      "execution_count": 5,
      "metadata": {
        "id": "n6sXnWrJoKoo"
      },
      "outputs": [
        {
          "name": "stdout",
          "output_type": "stream",
          "text": [
            "Okay, here are the primary ways to sort a list in Python, along with explanations and examples:\n",
            "\n",
            "Python provides two main ways to sort lists:\n",
            "\n",
            "1.  **`list.sort()` method:** Sorts the list *in-place* (modifies the original list). It returns `None`.\n",
            "2.  **`sorted()` function:** Returns a *new* sorted list, leaving the original list unchanged. It can work on *any* iterable (lists, tuples, strings, etc.), but it always returns a *list*.\n",
            "\n",
            "Here's the code:\n",
            "\n",
            "```python\n",
            "# --- Example 1: Using the sorted() function ---\n",
            "\n",
            "print(\"--- Using sorted() ---\")\n",
            "\n",
            "my_list = [3, 1, 4, 1, 5, 9, 2, 6]\n",
            "print(\"Original list:\", my_list)\n",
            "\n",
            "# Use sorted() to get a new sorted list\n",
            "# By default, it sorts in ascending order\n",
            "new_sorted_list = sorted(my_list)\n",
            "\n",
            "print(\"New sorted list:\", new_sorted_list)\n",
            "print(\"Original list after sorted():\", my_list) # Original list remains unchanged\n",
            "\n",
            "# --- Example 2: Using the list.sort() method ---\n",
            "\n",
            "print(\"\\n--- Using list.sort() ---\")\n",
            "\n",
            "another_list = [5, 2, 8, 1, 9, 4]\n",
            "print(\"Original list:\", another_list)\n",
            "\n",
            "# Use the sort() method to sort the list in-place\n",
            "# It modifies the list directly and returns None\n",
            "# Note: You don't assign the result of sort() unless you want the None value\n",
            "another_list.sort()\n",
            "\n",
            "print(\"List after sort():\", another_list) # The list is now sorted\n",
            "# print(\"Result of sort():\", another_list.sort()) # This would print None\n",
            "\n",
            "# --- Example 3: Sorting in Descending Order ---\n",
            "\n",
            "print(\"\\n--- Sorting in Descending Order ---\")\n",
            "\n",
            "descending_list_sorted_func = [10, 40, 20, 50, 30]\n",
            "print(\"Original list:\", descending_list_sorted_func)\n",
            "\n",
            "# Using sorted() with reverse=True\n",
            "descending_sorted = sorted(descending_list_sorted_func, reverse=True)\n",
            "print(\"Descending sorted (using sorted()):\", descending_sorted)\n",
            "print(\"Original list after sorted(reverse=True):\", descending_list_sorted_func) # Original unchanged\n",
            "\n",
            "descending_list_sort_method = [99, 11, 88, 22, 77]\n",
            "print(\"Original list:\", descending_list_sort_method)\n",
            "\n",
            "# Using sort() with reverse=True\n",
            "descending_list_sort_method.sort(reverse=True)\n",
            "print(\"Descending sorted (using sort()):\", descending_list_sort_method) # List modified in-place\n",
            "\n",
            "# --- Example 4: Sorting with a Custom Key ---\n",
            "# You can sort based on criteria other than the default value\n",
            "\n",
            "print(\"\\n--- Sorting with a Custom Key ---\")\n",
            "\n",
            "# Example: Sorting a list of tuples by the second element\n",
            "list_of_tuples = [(1, 'banana'), (3, 'apple'), (2, 'cherry')]\n",
            "print(\"Original list of tuples:\", list_of_tuples)\n",
            "\n",
            "# Use a lambda function as the key to sort by the second element (index 1)\n",
            "sorted_by_second = sorted(list_of_tuples, key=lambda item: item[1])\n",
            "print(\"Sorted by second element:\", sorted_by_second)\n",
            "\n",
            "# Example: Sorting a list of strings by their length\n",
            "list_of_strings = [\"apple\", \"banana\", \"cherry\", \"date\"]\n",
            "print(\"Original list of strings:\", list_of_strings)\n",
            "\n",
            "# Use the built-in len function as the key\n",
            "sorted_by_length = sorted(list_of_strings, key=len)\n",
            "print(\"Sorted by length:\", sorted_by_length)\n",
            "\n",
            "# Using sort() with a key (in-place)\n",
            "list_of_strings_for_sort = [\"fig\", \"grape\", \"elderberry\"]\n",
            "print(\"Original list of strings for sort():\", list_of_strings_for_sort)\n",
            "list_of_strings_for_sort.sort(key=len)\n",
            "print(\"Sorted by length (using sort()):\", list_of_strings_for_sort)\n",
            "\n",
            "```\n",
            "\n",
            "**Summary:**\n",
            "\n",
            "*   Use **`sorted(list)`** when you want a *new* sorted list and don't want to change the original list.\n",
            "*   Use **`list.sort()`** when you want to sort the list *in-place* and don't need the original order. This is generally slightly more memory-efficient as it doesn't create a new list.\n",
            "*   Both methods accept the `reverse=True` argument for descending order.\n",
            "*   Both methods accept the `key` argument to specify a function that extracts a comparison key from each list element.\n"
          ]
        }
      ],
      "source": [
        "response = client.models.generate_content(\n",
        "    model = MODEL_ID,\n",
        "    contents = \"Please give me python code to sort a list.\"\n",
        "    )\n",
        "print(response.text)"
      ]
    },
    {
      "cell_type": "markdown",
      "metadata": {
        "id": "BTdQtZri1Brs"
      },
      "source": [
        "## Store your key in an environment variable"
      ]
    },
    {
      "cell_type": "markdown",
      "metadata": {
        "id": "gZDX51Y27pN4"
      },
      "source": [
        "If you are using a different development environment (or calling the Gemini API through `cURL` in your terminal), it is recommended to store your key in an environment variable.\n",
        "\n",
        "To store your key in an environment variable, open your terminal and run:\n",
        "\n",
        "```export GOOGLE_API_KEY=\"YOUR_API_KEY\"```\n",
        "\n",
        "If you are using Python, you can add these two lines to your notebook to read the key:\n",
        "\n",
        "```\n",
        "import os\n",
        "client = genai.Client(api_key=os.environ['GOOGLE_API_KEY'])\n",
        "```\n",
        "\n",
        "Alternatively, the client will look for the API key if it's not provided explicitly.\n",
        "\n",
        "```\n",
        "client = genai.Client()\n",
        "```\n",
        "\n",
        "Or, if you're calling the API through your terminal using `cURL`, you can copy and paste this code to read your key from the environment variable.\n",
        "\n",
        "```\n",
        "curl \"https://generativelanguage.googleapis.com/v1beta/models/gemini-2.0-flash:generateContent?key=$GOOGLE_API_KEY\" \\\n",
        "    -H 'Content-Type: application/json' \\\n",
        "    -X POST \\\n",
        "    -d '{\n",
        "      \"contents\": [{\n",
        "        \"parts\":[{\n",
        "          \"text\": \"Please give me Python code to sort a list.\"}]}]}'\n",
        "```\n"
      ]
    },
    {
      "cell_type": "markdown",
      "metadata": {
        "id": "CAOKOcax1xZY"
      },
      "source": [
        "## Learning more\n",
        "\n",
        "Now that you know how to manage your API key, you have everything to [get started](./Get_started.ipynb) with Gemini. Check all the [quickstart guides](https://github.com/google-gemini/cookbook/tree/main/quickstarts) from the Cookbook, and in particular the [Get started](./Get_started.ipynb) one."
      ]
    }
  ],
  "metadata": {
    "colab": {
      "name": "Authentication.ipynb",
      "toc_visible": true
    },
    "google": {
      "image_path": "/site-assets/images/share.png",
      "keywords": [
        "examples",
        "googleai",
        "samplecode",
        "python",
        "embed",
        "function"
      ]
    },
    "kernelspec": {
      "display_name": "Python 3",
      "name": "python3"
    }
  },
  "nbformat": 4,
  "nbformat_minor": 0
}
