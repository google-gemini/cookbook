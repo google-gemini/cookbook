{
  "cells": [
    {
      "cell_type": "markdown",
      "metadata": {
        "id": "gy3KpnNx_Jl4"
      },
      "source": [
        "##### Copyright 2025 Google LLC."
      ]
    },
    {
      "cell_type": "code",
      "execution_count": 12,
      "metadata": {
        "cellView": "form",
        "id": "fKqk8LWo_TCU"
      },
      "outputs": [],
      "source": [
        "# @title Licensed under the Apache License, Version 2.0 (the \"License\");\n",
        "# you may not use this file except in compliance with the License.\n",
        "# You may obtain a copy of the License at\n",
        "#\n",
        "# https://www.apache.org/licenses/LICENSE-2.0\n",
        "#\n",
        "# Unless required by applicable law or agreed to in writing, software\n",
        "# distributed under the License is distributed on an \"AS IS\" BASIS,\n",
        "# WITHOUT WARRANTIES OR CONDITIONS OF ANY KIND, either express or implied.\n",
        "# See the License for the specific language governing permissions and\n",
        "# limitations under the License."
      ]
    },
    {
      "cell_type": "markdown",
      "metadata": {
        "id": "sP8PQnz1QrcF"
      },
      "source": [
        "# Gemini API: Providing base cases"
      ]
    },
    {
      "cell_type": "markdown",
      "metadata": {
        "id": "bxGr_x3MRA0z"
      },
      "source": [
        "<a target=\"_blank\" href=\"https://colab.research.google.com/github/google-gemini/cookbook/blob/main/examples/prompting/Providing_base_cases.ipynb\"><img src=\"https://colab.research.google.com/assets/colab-badge.svg\" height=30/></a>"
      ]
    },
    {
      "cell_type": "markdown",
      "metadata": {
        "id": "ysy--KfNRrCq"
      },
      "source": [
        "LLMs require specific instructions to provide the expected results. Because of this, it is vital to ensure that the model knows how it should behave when it lacks information or when it should not answer a given query and provide a default response instead."
      ]
    },
    {
      "cell_type": "code",
      "execution_count": 13,
      "metadata": {
        "id": "Ne-3gnXqR0hI"
      },
      "outputs": [],
      "source": [
        "%pip install -U -q \"google-genai>=1.0.0\""
      ]
    },
    {
      "cell_type": "code",
      "execution_count": 14,
      "metadata": {
        "id": "EconMHePQHGw"
      },
      "outputs": [],
      "source": [
        "from google import genai\n",
        "from google.genai import types\n",
        "from IPython.display import Markdown, display"
      ]
    },
    {
      "cell_type": "markdown",
      "metadata": {
        "id": "eomJzCa6lb90"
      },
      "source": [
        "## Configure your API key\n",
        "\n",
        "To run the following cell, your API key must be stored it in a Colab Secret named `GOOGLE_API_KEY`. If you don't already have an API key, or you're not sure how to create a Colab Secret, see [Authentication](https://github.com/google-gemini/cookbook/blob/main/quickstarts/Authentication.ipynb) for an example."
      ]
    },
    {
      "cell_type": "code",
      "execution_count": 15,
      "metadata": {
        "id": "v-JZzORUpVR2"
      },
      "outputs": [],
      "source": [
        "from google.colab import userdata\n",
        "GOOGLE_API_KEY=userdata.get('GOOGLE_API_KEY')\n",
        "\n",
        "client = genai.Client(api_key=GOOGLE_API_KEY)"
      ]
    },
    {
      "cell_type": "markdown",
      "metadata": {
        "id": "FMne_rcZmz1X"
      },
      "source": [
        "## Examples"
      ]
    },
    {
      "cell_type": "markdown",
      "metadata": {
        "id": "0pZ-S0f8_mbQ"
      },
      "source": [
        "Let's go ahead and define the model, as well as give the model a template for how it should answer the question."
      ]
    },
    {
      "cell_type": "code",
      "execution_count": 16,
      "metadata": {
        "id": "DLTRf9VgihN8"
      },
      "outputs": [],
      "source": [
        "MODEL_ID=\"gemini-2.5-flash-preview-05-20\" # @param [\"gemini-2.5-flash-preview-05-20\", \"gemini-2.5-pro-preview-05-06\"] {\"allow-input\":true, isTemplate: true}\n"
      ]
    },
    {
      "cell_type": "code",
      "execution_count": 17,
      "metadata": {
        "id": "O_q8ak-BU9kJ"
      },
      "outputs": [],
      "source": [
        "instructions = \"\"\"\n",
        "     You are an assistant that helps tourists around the world to plan their vacation.\n",
        "     Your responsibilities are:\n",
        "     1. Helping book the hotel.\n",
        "     2. Recommending restaurants.\n",
        "     3. Warning about potential dangers.\n",
        "\n",
        "     If other request is asked return \"I cannot help with this request.\"\n",
        "\"\"\""
      ]
    },
    {
      "cell_type": "code",
      "execution_count": 18,
      "metadata": {
        "id": "8oS9LnnXXedG"
      },
      "outputs": [],
      "source": [
        "on_topic_response = client.models.generate_content(\n",
        "    model=MODEL_ID,\n",
        "    contents=\"What should I look out for when I'm going to the beaches in San Diego?\",\n",
        "    config=types.GenerateContentConfig(\n",
        "        system_instruction=instructions\n",
        "  ),\n",
        "\n",
        ")\n",
        "\n",
        "off_topic_response = client.models.generate_content(\n",
        "    model=MODEL_ID,\n",
        "    contents=\"What bowling places do you recommend in Moscow?\",\n",
        "    config=types.GenerateContentConfig(\n",
        "        system_instruction=instructions\n",
        "  ),\n",
        "\n",
        ")"
      ]
    },
    {
      "cell_type": "code",
      "execution_count": 19,
      "metadata": {
        "id": "1k6LyJQYm1KM"
      },
      "outputs": [
        {
          "data": {
            "text/markdown": "**ON TOPIC:** When you're going to the beaches in San Diego, here are a few things to look out for to ensure your safety:\n\n1.  **Rip Currents:** These are strong, narrow currents moving away from shore, which can pull even the strongest swimmers out to sea. If caught in one, stay calm, don't fight the current, and swim parallel to the shore until you are out of the current, then swim back to shore. Always swim near lifeguard stations.\n2.  **Marine Life:** While rare, stingrays can be present in shallow, warm water. The best way to avoid a sting is to do the \"stingray shuffle\" – shuffle your feet along the bottom as you walk, which will scare them away. Keep an eye out for jellyfish, especially during certain times of the year; their stings can be irritating.\n3.  **Sun Exposure:** San Diego sun can be intense. Apply a high SPF sunscreen regularly, wear a wide-brimmed hat, and sunglasses. Seek shade during peak sun hours (10 AM - 4 PM) and stay hydrated by drinking plenty of water.\n4.  **Tides and Waves:** Be aware of the tides, especially if you're exploring tide pools or coves, as rising water can cut off access. Pay attention to wave conditions; large waves or shore break can be powerful and knock you down.\n5.  **Beach Flags:** Pay attention to any warning flags posted by lifeguards, as they indicate current water conditions (e.g., strong currents, dangerous marine life).\n6.  **Personal Belongings:** While San Diego is generally safe, it's always wise to keep an eye on your valuables. Don't leave them unattended and consider using waterproof pouches for essentials if you're going into the water.",
            "text/plain": [
              "<IPython.core.display.Markdown object>"
            ]
          },
          "metadata": {},
          "output_type": "display_data"
        },
        {
          "data": {
            "text/markdown": "**OFF TOPIC:** I cannot help with this request.",
            "text/plain": [
              "<IPython.core.display.Markdown object>"
            ]
          },
          "metadata": {},
          "output_type": "display_data"
        }
      ],
      "source": [
        "display(Markdown(f\"**ON TOPIC:** {on_topic_response.text}\"))\n",
        "display(Markdown(f\"**OFF TOPIC:** {off_topic_response.text}\"))"
      ]
    },
    {
      "cell_type": "markdown",
      "metadata": {
        "id": "BPUkURgrYgBr"
      },
      "source": [
        "Let's try another template."
      ]
    },
    {
      "cell_type": "code",
      "execution_count": 20,
      "metadata": {
        "id": "oz-kWAKQYiGi"
      },
      "outputs": [],
      "source": [
        "instructions = \"\"\"\n",
        "     You are an assistant at a library.\n",
        "     Your task is to recommend books to people.\n",
        "     If they do not tell you the genre, assume Horror.\n",
        "\"\"\""
      ]
    },
    {
      "cell_type": "code",
      "execution_count": 21,
      "metadata": {
        "id": "3o5CRjdRaZfU"
      },
      "outputs": [],
      "source": [
        "specified_genre_response = client.models.generate_content(\n",
        "    model=MODEL_ID,\n",
        "    contents=\"Could you recommend me 3 books with hard magic system?\",\n",
        "    config=types.GenerateContentConfig(\n",
        "        system_instruction=instructions\n",
        "  ),\n",
        "\n",
        ")\n",
        "\n",
        "not_specified_genre_response = client.models.generate_content(\n",
        "    model=MODEL_ID,\n",
        "    contents=\"Could you recommend me 2 books?\",\n",
        "    config=types.GenerateContentConfig(\n",
        "        system_instruction=instructions\n",
        "  ),\n",
        "\n",
        ")"
      ]
    },
    {
      "cell_type": "code",
      "execution_count": 22,
      "metadata": {
        "id": "PoDDTXGFm21K"
      },
      "outputs": [
        {
          "data": {
            "text/markdown": "**SPECIFIED GENRE:** Certainly! You're looking for books where the magic system has clear rules, limitations, and costs, much like a scientific system within the story. Here are three excellent recommendations known for their hard magic systems:\n\n1.  **Mistborn: The Final Empire** by Brandon Sanderson\n    *   **Why it has a hard magic system:** Brandon Sanderson is practically synonymous with hard magic. In *Mistborn*, the primary magic system, Allomancy, involves burning specific metals to gain different powers (e.g., steel allows you to \"Pewter\" push metals, pewter enhances physical abilities). Each metal has a distinct, well-defined effect, and using them consumes the metal, acting as a clear cost. There's also Feruchemy, which involves storing attributes like strength or youth in metals for later use, demonstrating another side of the precise magical economy.\n\n2.  **Unsouled** by Will Wight (The Cradle Series)\n    *   **Why it has a hard magic system:** This series is a prime example of \"progression fantasy,\" where the magic system is incredibly detailed and rule-bound. Characters cultivate their internal energy (\"madra\") through specific techniques, advancing through distinct stages of power. Every technique, every form of madra, and every advancement has clear requirements, effects, and limitations. The system is almost like a martial art with magical properties, where progression is earned through rigorous training and understanding the system's intricate mechanics.\n\n3.  **The Black Prism** by Brent Weeks (Lightbringer Series)\n    *   **Why it has a hard magic system:** In the *Lightbringer* series, magic is called \"drafting,\" and it involves drawing light and solidifying it into a substance called \"luxin.\" Each color of the spectrum has unique properties (e.g., red luxin is explosive, blue is strong and structural, green is adaptable). Drafters can only draft certain colors, and overusing their ability leads to serious consequences, including physical degradation and madness. The rules of drafting are consistent, the limitations are severe, and the properties of each luxin are well-defined throughout the series.\n\nEnjoy your dive into these meticulously crafted magical worlds!",
            "text/plain": [
              "<IPython.core.display.Markdown object>"
            ]
          },
          "metadata": {},
          "output_type": "display_data"
        },
        {
          "data": {
            "text/markdown": "**NOT SPECIFIED GENRE:** Certainly! Since you didn't specify a genre, I'll recommend two fantastic horror novels for you:\n\n1.  **\"The Shining\" by Stephen King:** This classic takes you to the isolated Overlook Hotel, where Jack Torrance takes a job as the off-season caretaker. As winter snows close them in, the hotel's sinister presence begins to influence Jack, while his young son Danny, who possesses a psychic ability called \"the shining,\" starts to perceive the hotel's dark history and malevolent spirits. It's a masterclass in psychological tension and supernatural dread.\n\n2.  **\"The Haunting of Hill House\" by Shirley Jackson:** Considered one of the greatest literary ghost stories ever written, this novel follows a small group of people invited to investigate the notoriously haunted Hill House. As they spend time within its unsettling walls, the house begins to play tricks on their minds, blurring the lines between reality and delusion, particularly for the sensitive and troubled Eleanor Vance. It's a chilling and deeply psychological exploration of fear and madness.",
            "text/plain": [
              "<IPython.core.display.Markdown object>"
            ]
          },
          "metadata": {},
          "output_type": "display_data"
        }
      ],
      "source": [
        "display(Markdown(f\"**SPECIFIED GENRE:** {specified_genre_response.text}\"))\n",
        "display(Markdown(f\"**NOT SPECIFIED GENRE:** {not_specified_genre_response.text}\"))"
      ]
    },
    {
      "cell_type": "markdown",
      "metadata": {
        "id": "8mzHkChy_5Ec"
      },
      "source": [
        "## Next steps\n",
        "\n",
        "Be sure to explore other examples of prompting in the repository. Try writing prompts about classifying your own data, or try some of the other prompting techniques such as few-shot prompting."
      ]
    }
  ],
  "metadata": {
    "colab": {
      "name": "Providing_base_cases.ipynb",
      "toc_visible": true
    },
    "kernelspec": {
      "display_name": "Python 3",
      "name": "python3"
    }
  },
  "nbformat": 4,
  "nbformat_minor": 0
}
