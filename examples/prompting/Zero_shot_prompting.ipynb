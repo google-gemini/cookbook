{
  "cells": [
    {
      "cell_type": "markdown",
      "metadata": {
        "id": "view-in-github",
        "colab_type": "text"
      },
      "source": [
        "<a href=\"https://colab.research.google.com/github/omkenge/cookbook/blob/add-new-example-for-prompting/examples/prompting/Zero_shot_prompting.ipynb\" target=\"_parent\"><img src=\"https://colab.research.google.com/assets/colab-badge.svg\" alt=\"Open In Colab\"/></a>"
      ]
    },
    {
      "cell_type": "markdown",
      "metadata": {
        "id": "Hfb0zeHYnwtC"
      },
      "source": [
        "##### Copyright 2025 Google LLC."
      ]
    },
    {
      "cell_type": "code",
      "execution_count": null,
      "metadata": {
        "cellView": "form",
        "id": "NeImViGqnv1b"
      },
      "outputs": [],
      "source": [
        "# @title Licensed under the Apache License, Version 2.0 (the \"License\");\n",
        "# you may not use this file except in compliance with the License.\n",
        "# You may obtain a copy of the License at\n",
        "#\n",
        "# https://www.apache.org/licenses/LICENSE-2.0\n",
        "#\n",
        "# Unless required by applicable law or agreed to in writing, software\n",
        "# distributed under the License is distributed on an \"AS IS\" BASIS,\n",
        "# WITHOUT WARRANTIES OR CONDITIONS OF ANY KIND, either express or implied.\n",
        "# See the License for the specific language governing permissions and\n",
        "# limitations under the License."
      ]
    },
    {
      "cell_type": "markdown",
      "metadata": {
        "id": "sP8PQnz1QrcF"
      },
      "source": [
        "# Gemini API: Zero-shot prompting"
      ]
    },
    {
      "cell_type": "markdown",
      "metadata": {
        "id": "bxGr_x3MRA0z"
      },
      "source": [
        "<a target=\"_blank\" href=\"https://colab.research.google.com/github/google-gemini/cookbook/blob/main/examples/prompting/Zero_shot_prompting.ipynb\"><img src=\"https://colab.research.google.com/assets/colab-badge.svg\" height=30/>"
      ]
    },
    {
      "cell_type": "markdown",
      "metadata": {
        "id": "ysy--KfNRrCq"
      },
      "source": [
        "You can use the Gemini models to answer many queries without any additional context. Zero-shot prompting is useful for situations when your queries are not complicated and do not require a specific schema."
      ]
    },
    {
      "cell_type": "code",
      "execution_count": 1,
      "metadata": {
        "id": "Ne-3gnXqR0hI"
      },
      "outputs": [],
      "source": [
        "%pip install -U -q \"google-genai>=1.7.1\""
      ]
    },
    {
      "cell_type": "code",
      "execution_count": 2,
      "metadata": {
        "id": "EconMHePQHGw"
      },
      "outputs": [],
      "source": [
        "from google import genai\n",
        "\n",
        "from IPython.display import Markdown"
      ]
    },
    {
      "cell_type": "markdown",
      "metadata": {
        "id": "eomJzCa6lb90"
      },
      "source": [
        "## Configure your API key\n",
        "\n",
        "To run the following cell, your API key must be stored it in a Colab Secret named `GOOGLE_API_KEY`. If you don't already have an API key, or you're not sure how to create a Colab Secret, see [Authentication](https://github.com/google-gemini/cookbook/blob/main/quickstarts/Authentication.ipynb) for an example."
      ]
    },
    {
      "cell_type": "code",
      "execution_count": 3,
      "metadata": {
        "id": "v-JZzORUpVR2"
      },
      "outputs": [],
      "source": [
        "from google.colab import userdata\n",
        "GOOGLE_API_KEY = userdata.get('GOOGLE_API_KEY')\n",
        "client = genai.Client(api_key=GOOGLE_API_KEY)"
      ]
    },
    {
      "cell_type": "markdown",
      "metadata": {
        "id": "GLh4oXd1VXTw"
      },
      "source": [
        "## Examples\n",
        "\n",
        "Here are a few examples with zero-shot prompting. Note that in each of these examples, you can simply provide the task, with zero examples."
      ]
    },
    {
      "cell_type": "code",
      "execution_count": 4,
      "metadata": {
        "id": "Ym4w9z3iWHlT"
      },
      "outputs": [],
      "source": [
        "MODEL_ID=\"gemini-2.0-flash\" # @param [\"gemini-2.0-flash-lite\",\"gemini-2.0-flash\",\"gemini-2.0-pro-exp-02-05\"] {\"allow-input\":true, isTemplate: true}"
      ]
    },
    {
      "cell_type": "code",
      "execution_count": 5,
      "metadata": {
        "id": "J580DkQPVYYp",
        "outputId": "faae5a5d-e94b-49f9-e598-c0d0d581cf3f",
        "colab": {
          "base_uri": "https://localhost:8080/",
          "height": 120
        }
      },
      "outputs": [
        {
          "output_type": "execute_result",
          "data": {
            "text/plain": [
              "<IPython.core.display.Markdown object>"
            ],
            "text/markdown": "Here's the order from biggest to smallest:\n\n1.  **Elephant**\n2.  **Dog**\n3.  **Fish**\n"
          },
          "metadata": {},
          "execution_count": 5
        }
      ],
      "source": [
        "prompt = \"\"\"\n",
        "    Sort following animals from biggest to smallest:\n",
        "    fish, elephant, dog\n",
        "\"\"\"\n",
        "response = client.models.generate_content(\n",
        "    model=MODEL_ID,\n",
        "    contents=prompt,\n",
        ")\n",
        "Markdown(response.text)"
      ]
    },
    {
      "cell_type": "code",
      "source": [
        "prompt = \"\"\"\n",
        "    Classify sentiment of review as positive, negative or neutral:\n",
        "    I go to this restaurant every week, I love it so much.\n",
        "\"\"\"\n",
        "response = client.models.generate_content(\n",
        "    model=MODEL_ID,\n",
        "    contents=prompt,\n",
        ")\n",
        "Markdown(response.text)"
      ],
      "metadata": {
        "id": "7vYo7ZpsO-Vp",
        "outputId": "854014ba-35ce-48b2-bd15-f81a284eb908",
        "colab": {
          "base_uri": "https://localhost:8080/",
          "height": 46
        }
      },
      "execution_count": 11,
      "outputs": [
        {
          "output_type": "execute_result",
          "data": {
            "text/plain": [
              "<IPython.core.display.Markdown object>"
            ],
            "text/markdown": "Positive\n"
          },
          "metadata": {},
          "execution_count": 11
        }
      ]
    },
    {
      "cell_type": "code",
      "source": [
        "prompt = \"\"\"\n",
        "    Extract capital cities from the text:\n",
        "    During the summer I visited many countries in Europe. First I visited Italy, specifically Sicily and Rome.\n",
        "    Then I visited Cologne in Germany and the trip ended in Berlin.\n",
        "\"\"\"\n",
        "response = client.models.generate_content(\n",
        "    model=MODEL_ID,\n",
        "    contents=prompt,\n",
        ")\n",
        "Markdown(response.text)"
      ],
      "metadata": {
        "id": "azfNaDAhPDXo",
        "outputId": "d82a0a28-6a9a-4d6f-e327-ba1824be496e",
        "colab": {
          "base_uri": "https://localhost:8080/",
          "height": 46
        }
      },
      "execution_count": 12,
      "outputs": [
        {
          "output_type": "execute_result",
          "data": {
            "text/plain": [
              "<IPython.core.display.Markdown object>"
            ],
            "text/markdown": "Rome and Berlin\n"
          },
          "metadata": {},
          "execution_count": 12
        }
      ]
    },
    {
      "cell_type": "code",
      "source": [
        "prompt = \"\"\"\n",
        "    Find and fix the error in this Python code:\n",
        "    def add_numbers(a, b):\n",
        "        return a + b\n",
        "    print(add_numbers(5, \"10\"))\n",
        "\"\"\"\n",
        "response = client.models.generate_content(\n",
        "    model=MODEL_ID,\n",
        "    contents=prompt,\n",
        ")\n",
        "Markdown(response.text)"
      ],
      "metadata": {
        "id": "pLbhaKqNPFqY",
        "outputId": "1474fbbc-69fe-4eba-fab9-42b8ce913796",
        "colab": {
          "base_uri": "https://localhost:8080/",
          "height": 717
        }
      },
      "execution_count": 13,
      "outputs": [
        {
          "output_type": "execute_result",
          "data": {
            "text/plain": [
              "<IPython.core.display.Markdown object>"
            ],
            "text/markdown": "```python\ndef add_numbers(a, b):\n    return a + b\n\nprint(add_numbers(5, \"10\"))\n```\n\n**Error:**\n\nThe error is that you're trying to add an integer (5) to a string (\"10\").  Python doesn't automatically convert types in this case and throws a `TypeError`.\n\n**Fix:**\n\nYou need to convert the string \"10\" to an integer before adding it. Here are a couple of ways to fix it:\n\n**Method 1: Convert the string to an integer within the function call:**\n\n```python\ndef add_numbers(a, b):\n    return a + b\n\nprint(add_numbers(5, int(\"10\")))\n```\n\n**Method 2: Convert the string to an integer before the function call:**\n\n```python\ndef add_numbers(a, b):\n    return a + b\n\nb = \"10\"\nb_int = int(b)  # Convert the string to an integer\nprint(add_numbers(5, b_int))\n```\n\n**Method 3:  Handle the conversion within the function (most robust if the function might receive strings):**\n\n```python\ndef add_numbers(a, b):\n    try:\n        return a + int(b)  # Try converting b to an int, then add\n    except ValueError:\n        return \"Error: Invalid input.  'b' must be convertible to an integer.\"\n\nprint(add_numbers(5, \"10\"))\nprint(add_numbers(5, \"abc\")) # demonstrates error handling\n```\n\n**Explanation:**\n\n* `int(\"10\")` converts the string \"10\" into the integer 10.  Now you're adding 5 + 10, which works correctly.\n\nMethod 3 is the most robust because it anticipates the possibility that `b` might not be a valid number string, and gracefully handles that with a `try...except` block, preventing a crash. It is generally good practice to validate input, especially when receiving it from external sources.\n\nChoose the method that best fits the context of your program. If you are certain that the second argument will always be a string representation of an integer, the first method (converting in the function call) is fine. If you want to be more flexible and handle potential errors, the third method is preferable.\n"
          },
          "metadata": {},
          "execution_count": 13
        }
      ]
    },
    {
      "cell_type": "code",
      "source": [
        "prompt = \"\"\"\n",
        "    Solve this math problem:\n",
        "    A train travels 120 km in 2 hours. What is its average speed?\n",
        "\"\"\"\n",
        "response = client.models.generate_content(\n",
        "    model=MODEL_ID,\n",
        "    contents=prompt,\n",
        ")\n",
        "Markdown(response.text)"
      ],
      "metadata": {
        "id": "tTwqes4mPizB",
        "outputId": "de0344ca-8f4b-4506-d4cb-871ed5ef29f3",
        "colab": {
          "base_uri": "https://localhost:8080/",
          "height": 145
        }
      },
      "execution_count": 15,
      "outputs": [
        {
          "output_type": "execute_result",
          "data": {
            "text/plain": [
              "<IPython.core.display.Markdown object>"
            ],
            "text/markdown": "The average speed is calculated by dividing the total distance traveled by the total time taken.\n\nAverage speed = Total distance / Total time\n\nAverage speed = 120 km / 2 hours\n\nAverage speed = 60 km/hour\n\nTherefore, the average speed of the train is $\\boxed{60}$ km/hour.\n"
          },
          "metadata": {},
          "execution_count": 15
        }
      ]
    },
    {
      "cell_type": "code",
      "source": [
        "prompt = \"\"\"\n",
        "    Identify the names of people, places, and organizations in this text:\n",
        "    Elon Musk, the CEO of Tesla and SpaceX, announced a new project in collaboration with NASA.\n",
        "\"\"\"\n",
        "response = client.models.generate_content(\n",
        "    model=MODEL_ID,\n",
        "    contents=prompt,\n",
        ")\n",
        "Markdown(response.text)"
      ],
      "metadata": {
        "id": "4ui5r7T8PmvQ",
        "outputId": "f0ea4c83-a599-47dc-bf10-5f0411762cb9",
        "colab": {
          "base_uri": "https://localhost:8080/",
          "height": 87
        }
      },
      "execution_count": 16,
      "outputs": [
        {
          "output_type": "execute_result",
          "data": {
            "text/plain": [
              "<IPython.core.display.Markdown object>"
            ],
            "text/markdown": "Here's the breakdown of people, places, and organizations identified in the text:\n\n*   **People:** Elon Musk\n*   **Organizations:** Tesla, SpaceX, NASA"
          },
          "metadata": {},
          "execution_count": 16
        }
      ]
    },
    {
      "cell_type": "code",
      "source": [
        "prompt = \"\"\"\n",
        "    Correct the grammar in this sentence:\n",
        "    She don't like playing football but she enjoy to watch it.\n",
        "\"\"\"\n",
        "response = client.models.generate_content(\n",
        "    model=MODEL_ID,\n",
        "    contents=prompt,\n",
        ")\n",
        "Markdown(response.text)"
      ],
      "metadata": {
        "id": "kglFrc8ZPsVh",
        "outputId": "5dfbeca0-e781-4bce-82ac-9f3c86f3037f",
        "colab": {
          "base_uri": "https://localhost:8080/",
          "height": 168
        }
      },
      "execution_count": 17,
      "outputs": [
        {
          "output_type": "execute_result",
          "data": {
            "text/plain": [
              "<IPython.core.display.Markdown object>"
            ],
            "text/markdown": "Here are a few options, depending on the nuance you want to convey:\n\n*   **She doesn't like playing football, but she enjoys watching it.** (This is the most common and grammatically correct option.)\n*   **She doesn't like to play football, but she enjoys watching it.** (This is also grammatically correct, and focuses on her not liking the *act* of playing.)\n\nThe original sentence has two errors:\n\n*   \"don't\" should be \"doesn't\" because the subject is \"she\" (third-person singular).\n*   \"enjoy to watch\" should be \"enjoys watching\" or \"enjoys to watch\". While \"enjoys to watch\" is grammatically correct, \"enjoys watching\" is more common and natural-sounding."
          },
          "metadata": {},
          "execution_count": 17
        }
      ]
    },
    {
      "cell_type": "code",
      "execution_count": 6,
      "metadata": {
        "id": "K1we-_q4VZ0M",
        "outputId": "2455b100-88ca-4cce-bfa2-a24774e933cf",
        "colab": {
          "base_uri": "https://localhost:8080/",
          "height": 46
        }
      },
      "outputs": [
        {
          "output_type": "execute_result",
          "data": {
            "text/plain": [
              "<IPython.core.display.Markdown object>"
            ],
            "text/markdown": "Positive\n"
          },
          "metadata": {},
          "execution_count": 6
        }
      ],
      "source": [
        "prompt = \"\"\"\n",
        "    Classify sentiment of review as positive, negative or neutral:\n",
        "    I go to this restaurant every week, I love it so much.\n",
        "\"\"\"\n",
        "response = client.models.generate_content(\n",
        "    model=MODEL_ID,\n",
        "    contents=prompt,\n",
        ")\n",
        "Markdown(response.text)"
      ]
    },
    {
      "cell_type": "code",
      "execution_count": 18,
      "metadata": {
        "id": "4NF2OmfPVa4l",
        "outputId": "d696188b-a790-459e-acf7-f9ce5754a7cf",
        "colab": {
          "base_uri": "https://localhost:8080/",
          "height": 87
        }
      },
      "outputs": [
        {
          "output_type": "execute_result",
          "data": {
            "text/plain": [
              "<IPython.core.display.Markdown object>"
            ],
            "text/markdown": "Based on the text provided, the capital cities are:\n\n*   **Rome**\n*   **Berlin**"
          },
          "metadata": {},
          "execution_count": 18
        }
      ],
      "source": [
        "prompt = \"\"\"\n",
        "    Extract capital cities from the text:\n",
        "    During the summer I visited many countries in Europe. First I visited Italy, specifically Sicily and Rome.\n",
        "    Then I visited Cologne in Germany and the trip ended in Berlin.\n",
        "\"\"\"\n",
        "response = client.models.generate_content(\n",
        "    model=MODEL_ID,\n",
        "    contents=prompt,\n",
        ")\n",
        "Markdown(response.text)"
      ]
    },
    {
      "cell_type": "markdown",
      "metadata": {
        "id": "_TghYaiGobM5"
      },
      "source": [
        "## Next steps\n",
        "\n",
        "Be sure to explore other examples of prompting in the repository. Try writing prompts about classifying your own data, or try some of the other prompting techniques such as [few-shot prompting](https://github.com/google-gemini/cookbook/blob/main/examples/prompting/Few_shot_prompting.ipynb)."
      ]
    }
  ],
  "metadata": {
    "colab": {
      "name": "Zero_shot_prompting.ipynb",
      "toc_visible": true,
      "provenance": [],
      "include_colab_link": true
    },
    "kernelspec": {
      "display_name": "Python 3",
      "name": "python3"
    }
  },
  "nbformat": 4,
  "nbformat_minor": 0
}