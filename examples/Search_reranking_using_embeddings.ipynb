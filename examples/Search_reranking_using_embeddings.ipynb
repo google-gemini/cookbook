{
  "cells": [
    {
      "cell_type": "markdown",
      "metadata": {
        "id": "Tce3stUlHN0L"
      },
      "source": [
        "##### Copyright 2025 Google LLC."
      ]
    },
    {
      "cell_type": "code",
      "execution_count": 1,
      "metadata": {
        "cellView": "form",
        "id": "tuOe1ymfHZPu"
      },
      "outputs": [],
      "source": [
        "# @title Licensed under the Apache License, Version 2.0 (the \"License\");\n",
        "# you may not use this file except in compliance with the License.\n",
        "# You may obtain a copy of the License at\n",
        "#\n",
        "# https://www.apache.org/licenses/LICENSE-2.0\n",
        "#\n",
        "# Unless required by applicable law or agreed to in writing, software\n",
        "# distributed under the License is distributed on an \"AS IS\" BASIS,\n",
        "# WITHOUT WARRANTIES OR CONDITIONS OF ANY KIND, either express or implied.\n",
        "# See the License for the specific language governing permissions and\n",
        "# limitations under the License."
      ]
    },
    {
      "cell_type": "markdown",
      "metadata": {
        "id": "oJt4OFKPgO8C"
      },
      "source": [
        "# Search re-ranking using Gemini embeddings"
      ]
    },
    {
      "cell_type": "markdown",
      "metadata": {
        "id": "k5n0sCc_fKcB"
      },
      "source": [
        "<a target=\"_blank\" href=\"https://colab.research.google.com/github/google-gemini/cookbook/blob/main/examples/Search_reranking_using_embeddings.ipynb\"><img src=\"https://colab.research.google.com/assets/colab-badge.svg\" height=30/></a>"
      ]
    },
    {
      "cell_type": "markdown",
      "metadata": {
        "id": "0UO0Cgq0mRlG"
      },
      "source": [
        "This notebook demonstrates the use of embeddings to re-rank search results. This walkthrough will focus on the following objectives:\n",
        "\n",
        "\n",
        "\n",
        "1.   Setting up your development environment and API access to use Gemini.\n",
        "2.   Using Gemini's function calling support to access the Wikipedia API.\n",
        "3.   Embedding content via Gemini API.\n",
        "4.   Re-ranking the search results.\n"
      ]
    },
    {
      "cell_type": "markdown",
      "metadata": {
        "id": "-e5Aje-DTQOq"
      },
      "source": [
        "This is how you will implement search re-ranking:\n",
        "\n",
        "\n",
        "1.   The user will make a search query.\n",
        "2.   You will use Wikipedia API to return the relevant search results.\n",
        "3.   The search results will be embedded and their relevance will be evaluated by calculating distance metrics like cosine similarity.\n",
        "4.   The most relevant search result will be returned as the final answer."
      ]
    },
    {
      "cell_type": "markdown",
      "metadata": {
        "id": "rpVL_QrF5-oF"
      },
      "source": [
        "> The non-source code materials in this notebook are licensed under Creative Commons - Attribution-ShareAlike CC-BY-SA 4.0, https://creativecommons.org/licenses/by-sa/4.0/legalcode."
      ]
    },
    {
      "cell_type": "markdown",
      "metadata": {
        "id": "pwImlRg9DUp7"
      },
      "source": [
        "## Setup\n"
      ]
    },
    {
      "cell_type": "code",
      "execution_count": 2,
      "metadata": {
        "id": "Nv_6f_qNHe_2"
      },
      "outputs": [
        {
          "name": "stdout",
          "output_type": "stream",
          "text": [
            "  Preparing metadata (setup.py) ... \u001b[?25l\u001b[?25hdone\n",
            "  Building wheel for wikipedia (setup.py) ... \u001b[?25l\u001b[?25hdone\n"
          ]
        }
      ],
      "source": [
        "%pip install -q -U \"google-genai>=1.0.0\"\n",
        "%pip install -q wikipedia"
      ]
    },
    {
      "cell_type": "markdown",
      "metadata": {
        "id": "739f0bb73f05"
      },
      "source": [
        "Note: The [`wikipedia` package](https://pypi.org/project/wikipedia/) notes that it was \"designed for ease of use and simplicity, not for advanced use\", and that production or heavy use should instead \"use [Pywikipediabot](http://www.mediawiki.org/wiki/Manual:Pywikipediabot) or one of the other more advanced [Python MediaWiki API wrappers](http://en.wikipedia.org/wiki/Wikipedia:Creating_a_bot#Python)\"."
      ]
    },
    {
      "cell_type": "markdown",
      "metadata": {
        "id": "aeo_9J9iDtCx"
      },
      "source": [
        "To run the following cell, your API key must be stored it in a Colab Secret named `GOOGLE_API_KEY`. If you don't already have an API key, or you're not sure how to create a Colab Secret, see the [Authentication](https://github.com/google-gemini/cookbook/blob/main/quickstarts/Authentication.ipynb) quickstart for an example."
      ]
    },
    {
      "cell_type": "code",
      "execution_count": 3,
      "metadata": {
        "id": "yxzEH0GqLshI"
      },
      "outputs": [],
      "source": [
        "from google.colab import userdata\n",
        "from google import genai\n",
        "API_KEY = userdata.get('GOOGLE_API_KEY')\n",
        "client = genai.Client(api_key=API_KEY)"
      ]
    },
    {
      "cell_type": "code",
      "execution_count": 4,
      "metadata": {
        "cellView": "code",
        "id": "O7JW3OsF8Ojo"
      },
      "outputs": [],
      "source": [
        "# Define the model to be used in this notebook\n",
        "# Note: experimental models have more limited quota for API calls.\n",
        "\n",
        "MODEL_ID=\"gemini-2.0-flash\" # @param [\"gemini-2.0-flash-lite\",\"gemini-2.0-flash\",\"gemini-2.5-pro-exp-03-25\"] {\"allow-input\":true, isTemplate: true}\n",
        "model=f\"models/{MODEL_ID}\""
      ]
    },
    {
      "cell_type": "markdown",
      "metadata": {
        "id": "0hkJSFIWI7G1"
      },
      "source": [
        "## Function Calling with the Gemini API"
      ]
    },
    {
      "cell_type": "markdown",
      "metadata": {
        "id": "7HjN6hsAJkOq"
      },
      "source": [
        "As stated earlier, this tutorial uses Gemini's function calling support to access the Wikipedia API. Please refer to the [docs](https://ai.google.dev/docs/function_calling) to learn more about function calling."
      ]
    },
    {
      "cell_type": "markdown",
      "metadata": {
        "id": "fpFkazXUenkK"
      },
      "source": [
        "### Step 1: Define the Search Function"
      ]
    },
    {
      "cell_type": "markdown",
      "metadata": {
        "id": "2fp-m-5Ke0XY"
      },
      "source": [
        "To cater to the search engine needs, you will design this function in the following way:\n",
        "\n",
        "\n",
        "*   For each search query, the search engine will use the `wikipedia.search` method to get relevant topics.\n",
        "*   From the relevant topics, the engine will choose `n_topics(int)` top candidates and will use `gemini-2.0-flash` to extract relevant information from the page.\n",
        "*   The engine will avoid duplicate entries by maintaining a search history.\n"
      ]
    },
    {
      "cell_type": "code",
      "execution_count": 5,
      "metadata": {
        "cellView": "code",
        "id": "2U27tdP8OBys"
      },
      "outputs": [],
      "source": [
        "from typing import List\n",
        "import textwrap\n",
        "\n",
        "import wikipedia\n",
        "from wikipedia.exceptions import DisambiguationError, PageError\n",
        "\n",
        "# This is the actual function that would be called based on the model's suggestion\n",
        "# Define the function with type hints and docstring\n",
        "def wikipedia_search(search_queries: List[str]) -> List[str]:\n",
        "  \"\"\"Search wikipedia for each query and summarize relevant docs.\n",
        "    Args:\n",
        "        search_queries: The user query to search wikipedia.\n",
        "\n",
        "    Returns:\n",
        "        A list of relevant information from wikipedia based on the query.\n",
        "  \"\"\"\n",
        "  n_topics=3\n",
        "  search_history = set() # tracking search history\n",
        "  search_urls = []\n",
        "\n",
        "  summary_results = []\n",
        "\n",
        "  for query in search_queries:\n",
        "    print(f'Searching for \"{query}\"')\n",
        "    search_terms = wikipedia.search(query)\n",
        "\n",
        "    print(f\"Related search terms: {search_terms[:n_topics]}\")\n",
        "    for search_term in search_terms[:n_topics]: # select first `n_topics` candidates\n",
        "      if search_term in search_history: # check if the topic is already covered\n",
        "        continue\n",
        "\n",
        "      print(f'Fetching page: \"{search_term}\"')\n",
        "      search_history.add(search_term) # add to search history\n",
        "\n",
        "      try:\n",
        "        # extract the relevant data by using `gemini-2.0-flash` model\n",
        "        page = wikipedia.page(search_term, auto_suggest=False)\n",
        "        url = page.url\n",
        "        print(f\"Information Source: {url}\")\n",
        "        search_urls.append(url)\n",
        "        page = page.content\n",
        "\n",
        "        response = client.models.generate_content(\n",
        "            model=model,\n",
        "            contents=textwrap.dedent(\n",
        "                f\"\"\"\n",
        "                Extract relevant information\n",
        "                about user's query: {query}\n",
        "                From this source:\n",
        "\n",
        "                {page}\n",
        "\n",
        "                Note: Do not summarize. Only Extract and return the relevant information\n",
        "                \"\"\"\n",
        "            ),\n",
        "        )\n",
        "\n",
        "        urls = [url]\n",
        "\n",
        "        if response.candidates[0].citation_metadata:\n",
        "          extra_citations = response.candidates[0].citation_metadata.citation_sources\n",
        "          extra_urls = [source.url for source in extra_citations]\n",
        "          urls.extend(extra_urls)\n",
        "          search_urls.extend(extra_urls)\n",
        "          print(\"Additional citations:\", response.candidates[0].citation_metadata.citation_sources)\n",
        "        try:\n",
        "          text = response.text\n",
        "        except ValueError:\n",
        "          pass\n",
        "        else:\n",
        "          summary_results.append(text + \"\\n\\nBased on:\\n  \" + ',\\n  '.join(urls))\n",
        "\n",
        "      except DisambiguationError:\n",
        "        print(f\"\"\"Results when searching for \"{search_term}\" (originally for \"{query}\")\n",
        "        were ambiguous, hence skipping\"\"\")\n",
        "        continue\n",
        "\n",
        "      except PageError:\n",
        "        print(f'{search_term} did not match with any page id, hence skipping.')\n",
        "        continue\n",
        "\n",
        "      except:\n",
        "        print(f'{search_term} did not match with any page id, hence skipping.')\n",
        "        continue\n",
        "\n",
        "  print(f\"Information Sources:\")\n",
        "  for url in search_urls:\n",
        "    print('    ', url)\n",
        "\n",
        "  return summary_results"
      ]
    },
    {
      "cell_type": "code",
      "execution_count": 6,
      "metadata": {
        "id": "EWKkkKDXmzOX"
      },
      "outputs": [
        {
          "name": "stdout",
          "output_type": "stream",
          "text": [
            "Searching for \"What are LLMs?\"\n",
            "Related search terms: ['Large language model', 'DeepSeek', 'Retrieval-augmented generation']\n",
            "Fetching page: \"Large language model\"\n",
            "Information Source: https://en.wikipedia.org/wiki/Large_language_model\n",
            "Large language model did not match with any page id, hence skipping.\n",
            "Fetching page: \"DeepSeek\"\n",
            "Information Source: https://en.wikipedia.org/wiki/DeepSeek\n",
            "Fetching page: \"Retrieval-augmented generation\"\n",
            "Information Source: https://en.wikipedia.org/wiki/Retrieval-augmented_generation\n",
            "Information Sources:\n",
            "     https://en.wikipedia.org/wiki/Large_language_model\n",
            "     https://en.wikipedia.org/wiki/DeepSeek\n",
            "     https://en.wikipedia.org/wiki/Retrieval-augmented_generation\n"
          ]
        }
      ],
      "source": [
        "example = wikipedia_search([\"What are LLMs?\"])"
      ]
    },
    {
      "cell_type": "markdown",
      "metadata": {
        "id": "8bPT114QEPgW"
      },
      "source": [
        "Here is what the search results look like:"
      ]
    },
    {
      "cell_type": "code",
      "execution_count": 7,
      "metadata": {
        "id": "8wy7YUFqEYTv"
      },
      "outputs": [
        {
          "data": {
            "text/markdown": [
              "LLMs are large language models. DeepSeek is a Chinese artificial intelligence company that develops LLMs. DeepSeek-R1 provides responses comparable to other contemporary large language models, such as OpenAI's GPT-4 and o1. Its training cost is reported to be significantly lower than other LLMs.\n",
              "\n",
              "\n",
              "Based on:\n",
              "  https://en.wikipedia.org/wiki/DeepSeek"
            ],
            "text/plain": [
              "<IPython.core.display.Markdown object>"
            ]
          },
          "metadata": {},
          "output_type": "display_data"
        },
        {
          "data": {
            "text/markdown": [
              "According to the provided document:\n",
              "\n",
              "*   LLMs are large language models.\n",
              "*   RAG improves large language models (LLMs) by incorporating information retrieval before generating responses. Unlike traditional LLMs that rely on static training data, RAG pulls relevant text from databases, uploaded documents, or web sources.\n",
              "*   Retrieval-Augmented Generation (RAG) is a method that allows large language models (LLMs) to retrieve and incorporate additional information before generating responses.\n",
              "*   RAG enhances large language models (LLMs) by incorporating an information-retrieval mechanism that allows models to access and utilize additional data beyond their original training set.\n",
              "*   RAG is not a complete solution to the problem of hallucinations in LLMs.\n",
              "*   While RAG improves the accuracy of large language models (LLMs), it does not eliminate all challenges.\n",
              "\n",
              "\n",
              "Based on:\n",
              "  https://en.wikipedia.org/wiki/Retrieval-augmented_generation"
            ],
            "text/plain": [
              "<IPython.core.display.Markdown object>"
            ]
          },
          "metadata": {},
          "output_type": "display_data"
        }
      ],
      "source": [
        "from IPython.display import display, Markdown\n",
        "\n",
        "for e in example:\n",
        "  display(Markdown(e))"
      ]
    },
    {
      "cell_type": "markdown",
      "metadata": {
        "id": "SKcH1LICeg5Z"
      },
      "source": [
        "### Step 2: Pass the System Instructions and Tools to the Model"
      ]
    },
    {
      "cell_type": "markdown",
      "metadata": {
        "id": "VedPbpzlh6jX"
      },
      "source": [
        "### Define the prompt"
      ]
    },
    {
      "cell_type": "markdown",
      "metadata": {
        "id": "5sLKZik7isBW"
      },
      "source": [
        "In order to have multiple supporting search queries to the user's original query, you will instruct the model to generate more such queries. This would help the engine to cover the asked question on comprehensive levels."
      ]
    },
    {
      "cell_type": "code",
      "execution_count": 8,
      "metadata": {
        "id": "Z-Ym3H9KIosY"
      },
      "outputs": [],
      "source": [
        "instructions = \"\"\"\n",
        "    You have access to the Wikipedia API which you will be using\n",
        "    to answer a user's query. Your job is to generate a list of search queries which\n",
        "    might answer a user's question. Be creative by using various key-phrases from\n",
        "    the user's query. To generate variety of queries, ask questions which are\n",
        "    related to the user's query that might help to find the answer. The more\n",
        "    queries you generate the better are the odds of you finding the correct answer.\n",
        "    Here is an example:\n",
        "\n",
        "    user: Tell me about Cricket World cup 2023 winners.\n",
        "\n",
        "    function_call: wikipedia_search([\n",
        "        'What is the name of the team that won the Cricket World Cup 2023?',\n",
        "        'Who was the captain of the Cricket World Cup 2023 winning team?',\n",
        "        'Which country hosted the Cricket World Cup 2023?',\n",
        "        'What was the venue of the Cricket World Cup 2023 final match?',\n",
        "        'Cricket World cup 2023',\n",
        "        'Who lifted the Cricket World Cup 2023 trophy?'\n",
        "    ])\n",
        "\n",
        "    The search function will return a list of article summaries, use these to\n",
        "    answer the  user's question.\n",
        "\"\"\""
      ]
    },
    {
      "cell_type": "markdown",
      "metadata": {
        "id": "qQcxR7cjLjGM"
      },
      "source": [
        "When using the Python SDK, you can provide Python functions directly as tools. The SDK automatically converts the Python function to declarations, handles the function call execution and response cycle for you. The Python SDK then automatically:\n",
        "\n",
        "- Detects function call responses from the model.\n",
        "- Call the corresponding Python function in your code.\n",
        "- Sends the function response back to the model.\n",
        "- Returns the model's final text response.\n",
        "\n",
        "To use this, define your function with type hints and a docstring as you did above, and then pass the function itself (not a JSON declaration) as a tool:\n",
        "\n",
        "Note: This approach only handles annotations of `AllowedType = (int | float | bool | str | list['AllowedType'] | dict[str, AllowedType])`"
      ]
    },
    {
      "cell_type": "markdown",
      "metadata": {
        "id": "3Wyn3lV-d5S_"
      },
      "source": [
        "In order to yield creative and a more random variety of questions, you could also utilize the model's temperature parameter. Values can range from [0.0,1.0], inclusive. A value closer to 1.0 will produce responses that are more varied and creative, while a value closer to 0.0 will typically result in more straightforward responses from the model."
      ]
    },
    {
      "cell_type": "code",
      "execution_count": 9,
      "metadata": {
        "id": "39kqTnBRLDeQ"
      },
      "outputs": [],
      "source": [
        "from google.genai import types\n",
        "\n",
        "config = types.GenerateContentConfig(\n",
        "    tools=[wikipedia_search],\n",
        "    system_instruction=instructions,\n",
        ") # Pass the function itself"
      ]
    },
    {
      "cell_type": "markdown",
      "metadata": {
        "id": "TD1vU6FXhYO5"
      },
      "source": [
        "### Step 3: Enable Automatic Function Calling and Call the API (Python SDK Only)"
      ]
    },
    {
      "cell_type": "markdown",
      "metadata": {
        "id": "qyUSnXJ5hg6x"
      },
      "source": [
        "Now start a new chat with default value of `automatic_function_calling`. Using the default `disable=None`, the `genai.ChatSession` will handle the back and forth required to call the function, and return the final response:"
      ]
    },
    {
      "cell_type": "code",
      "execution_count": 10,
      "metadata": {
        "cellView": "code",
        "id": "ZNJqA60yKNpT"
      },
      "outputs": [
        {
          "name": "stdout",
          "output_type": "stream",
          "text": [
            "Searching for \"deep-sea life adaptations\"\n",
            "Related search terms: ['Deep sea', 'Deep-sea fish', 'Deep-sea gigantism']\n",
            "Fetching page: \"Deep sea\"\n",
            "Information Source: https://en.wikipedia.org/wiki/Deep_sea\n",
            "Deep sea did not match with any page id, hence skipping.\n",
            "Fetching page: \"Deep-sea fish\"\n",
            "Information Source: https://en.wikipedia.org/wiki/Deep-sea_fish\n",
            "Deep-sea fish did not match with any page id, hence skipping.\n",
            "Fetching page: \"Deep-sea gigantism\"\n",
            "Information Source: https://en.wikipedia.org/wiki/Deep-sea_gigantism\n",
            "Searching for \"deep-sea organisms survival strategies\"\n",
            "Related search terms: ['Brine pool', 'List of longest-living organisms', 'Microorganism']\n",
            "Fetching page: \"Brine pool\"\n",
            "Information Source: https://en.wikipedia.org/wiki/Brine_pool\n",
            "Brine pool did not match with any page id, hence skipping.\n",
            "Fetching page: \"List of longest-living organisms\"\n",
            "Information Source: https://en.wikipedia.org/wiki/List_of_longest-living_organisms\n",
            "Fetching page: \"Microorganism\"\n",
            "Information Source: https://en.wikipedia.org/wiki/Microorganism\n",
            "Microorganism did not match with any page id, hence skipping.\n",
            "Searching for \"deep-sea food web\"\n",
            "Related search terms: ['Deep-sea community', 'Deep sea mining', 'Chondrocladia concrescens']\n",
            "Fetching page: \"Deep-sea community\"\n",
            "Information Source: https://en.wikipedia.org/wiki/Deep-sea_community\n",
            "Deep-sea community did not match with any page id, hence skipping.\n",
            "Fetching page: \"Deep sea mining\"\n",
            "Information Source: https://en.wikipedia.org/wiki/Deep_sea_mining\n",
            "Fetching page: \"Chondrocladia concrescens\"\n",
            "Information Source: https://en.wikipedia.org/wiki/Chondrocladia_concrescens\n",
            "Chondrocladia concrescens did not match with any page id, hence skipping.\n",
            "Searching for \"hydrothermal vent ecosystems\"\n",
            "Related search terms: ['Hydrothermal vent', 'Scaly-foot gastropod', \"Loki's Castle\"]\n",
            "Fetching page: \"Hydrothermal vent\"\n",
            "Information Source: https://en.wikipedia.org/wiki/Hydrothermal_vent\n",
            "Hydrothermal vent did not match with any page id, hence skipping.\n",
            "Fetching page: \"Scaly-foot gastropod\"\n",
            "Information Source: https://en.wikipedia.org/wiki/Scaly-foot_gastropod\n",
            "Scaly-foot gastropod did not match with any page id, hence skipping.\n",
            "Fetching page: \"Loki's Castle\"\n",
            "Information Source: https://en.wikipedia.org/wiki/Loki%27s_Castle\n",
            "Searching for \"challenges of deep-sea life\"\n",
            "Related search terms: ['Deepsea Challenger', 'Deep-sea community', 'Deep sea']\n",
            "Fetching page: \"Deepsea Challenger\"\n",
            "Information Source: https://en.wikipedia.org/wiki/Deepsea_Challenger\n",
            "Searching for \"deep-sea bioluminescence\"\n",
            "Related search terms: ['Deep sea', 'Bioluminescence', 'Deep-sea fish']\n",
            "Fetching page: \"Bioluminescence\"\n",
            "Information Source: https://en.wikipedia.org/wiki/Bioluminescence\n",
            "Bioluminescence did not match with any page id, hence skipping.\n",
            "Searching for \"deep-sea pressure adaptation\"\n",
            "Related search terms: ['Deep-sea gigantism', 'Deep sea', 'Deep-sea fish']\n",
            "Searching for \"deep-sea temperature adaptation\"\n",
            "Related search terms: ['Deep-sea gigantism', 'Deep sea', 'Deep-sea fish']\n",
            "Searching for \"deep-sea oxygen levels\"\n",
            "Related search terms: ['Deep-sea gigantism', 'Deep-sea fish', 'Deep Blue Sea (1999 film)']\n",
            "Fetching page: \"Deep Blue Sea (1999 film)\"\n",
            "Information Source: https://en.wikipedia.org/wiki/Deep_Blue_Sea_(1999_film)\n",
            "Deep Blue Sea (1999 film) did not match with any page id, hence skipping.\n",
            "Information Sources:\n",
            "     https://en.wikipedia.org/wiki/Deep_sea\n",
            "     https://en.wikipedia.org/wiki/Deep-sea_fish\n",
            "     https://en.wikipedia.org/wiki/Deep-sea_gigantism\n",
            "     https://en.wikipedia.org/wiki/Brine_pool\n",
            "     https://en.wikipedia.org/wiki/List_of_longest-living_organisms\n",
            "     https://en.wikipedia.org/wiki/Microorganism\n",
            "     https://en.wikipedia.org/wiki/Deep-sea_community\n",
            "     https://en.wikipedia.org/wiki/Deep_sea_mining\n",
            "     https://en.wikipedia.org/wiki/Chondrocladia_concrescens\n",
            "     https://en.wikipedia.org/wiki/Hydrothermal_vent\n",
            "     https://en.wikipedia.org/wiki/Scaly-foot_gastropod\n",
            "     https://en.wikipedia.org/wiki/Loki%27s_Castle\n",
            "     https://en.wikipedia.org/wiki/Deepsea_Challenger\n",
            "     https://en.wikipedia.org/wiki/Bioluminescence\n",
            "     https://en.wikipedia.org/wiki/Deep_Blue_Sea_(1999_film)\n"
          ]
        }
      ],
      "source": [
        "chat = client.chats.create(model=model, config=config, history=[])\n",
        "\n",
        "query = \"Explain how deep-sea life survives.\"\n",
        "\n",
        "response = chat.send_message(query)"
      ]
    },
    {
      "cell_type": "code",
      "execution_count": 11,
      "metadata": {
        "id": "1l8KWb13M_lJ"
      },
      "outputs": [
        {
          "data": {
            "text/markdown": [
              "Deep-sea life survives by adapting to the extreme conditions of the deep ocean, including high pressure, low or no light, cold temperatures, and limited food resources. Some key adaptations and survival strategies include:\n",
              "\n",
              "*   **Adaptations to pressure:** Organisms have developed physiological adaptations to withstand immense pressure.\n",
              "*   **Adaptations to temperature:** Some organisms have adapted to colder temperatures. Decreasing temperature leads to increased cell size and lifespan, delaying sexual maturity and resulting in larger body size.\n",
              "*   **Food scarcity:** Larger body size improves foraging ability. Larger offspring have greater food reserves for drifting. Some organisms can gorge on food and survive long periods without it. Larger animals have more efficient metabolisms.\n",
              "*   **Reduced predation pressure:** Predation is less frequent in deeper waters.\n"
            ],
            "text/plain": [
              "<IPython.core.display.Markdown object>"
            ]
          },
          "metadata": {},
          "output_type": "display_data"
        }
      ],
      "source": [
        "display(Markdown(response.text))"
      ]
    },
    {
      "cell_type": "markdown",
      "metadata": {
        "id": "ua7DPlj7HZyO"
      },
      "source": [
        "Check for additional citations:"
      ]
    },
    {
      "cell_type": "code",
      "execution_count": 12,
      "metadata": {
        "id": "ASotq7EcHAeo"
      },
      "outputs": [
        {
          "data": {
            "application/vnd.google.colaboratory.intrinsic+json": {
              "type": "string"
            },
            "text/plain": [
              "'No citations found'"
            ]
          },
          "execution_count": 12,
          "metadata": {},
          "output_type": "execute_result"
        }
      ],
      "source": [
        "response.candidates[0].citation_metadata or 'No citations found'"
      ]
    },
    {
      "cell_type": "markdown",
      "metadata": {
        "id": "lIC_Mpd0-3vj"
      },
      "source": [
        "### Step 4: Understand Chat History"
      ]
    },
    {
      "cell_type": "markdown",
      "metadata": {
        "id": "A0CfKMjYFSQm"
      },
      "source": [
        "That looks like it worked. You can go through the chat history to see the details of what was sent and received in the function calls:"
      ]
    },
    {
      "cell_type": "code",
      "execution_count": 13,
      "metadata": {
        "id": "_9h2b8saNnxh"
      },
      "outputs": [
        {
          "data": {
            "text/markdown": [
              "### user:"
            ],
            "text/plain": [
              "<IPython.core.display.Markdown object>"
            ]
          },
          "metadata": {},
          "output_type": "display_data"
        },
        {
          "data": {
            "text/markdown": [
              "Explain how deep-sea life survives."
            ],
            "text/plain": [
              "<IPython.core.display.Markdown object>"
            ]
          },
          "metadata": {},
          "output_type": "display_data"
        },
        {
          "name": "stdout",
          "output_type": "stream",
          "text": [
            "--------------------------------------------------------------------------------\n"
          ]
        },
        {
          "data": {
            "text/markdown": [
              "### model:"
            ],
            "text/plain": [
              "<IPython.core.display.Markdown object>"
            ]
          },
          "metadata": {},
          "output_type": "display_data"
        },
        {
          "name": "stdout",
          "output_type": "stream",
          "text": [
            "wikipedia_search {\n",
            "  \"search_queries\": [\n",
            "    \"deep-sea life adaptations\",\n",
            "    \"deep-sea organisms survival strategies\",\n",
            "    \"deep-sea food web\",\n",
            "    \"hydrothermal vent ecosystems\",\n",
            "    \"challenges of deep-sea life\",\n",
            "    \"deep-sea bioluminescence\",\n",
            "    \"deep-sea pressure adaptation\",\n",
            "    \"deep-sea temperature adaptation\",\n",
            "    \"deep-sea oxygen levels\"\n",
            "  ]\n",
            "}\n",
            "--------------------------------------------------------------------------------\n"
          ]
        },
        {
          "data": {
            "text/markdown": [
              "### user:"
            ],
            "text/plain": [
              "<IPython.core.display.Markdown object>"
            ]
          },
          "metadata": {},
          "output_type": "display_data"
        },
        {
          "data": {
            "text/markdown": [
              "The user is asking about adaptations related to deep-sea life. The provided text focuses on deep-sea gigantism. Here's the extracted relevant information:\n",
              "\n",
              "*   Deep-sea gigantism (abyssal gigantism) is the tendency for deep-sea dwelling animals to be larger than their shallower-water relatives.\n",
              "*   Proposed explanations for deep-sea gigantism:\n",
              "    *   Adaptation to colder temperature\n",
              "    *   Food scarcity\n",
              "    *   Reduced predation pressure\n",
              "    *   Increased dissolved oxygen concentrations in the deep sea\n",
              "*   Taxonomic range of organisms exhibiting deep-sea gigantism:\n",
              "    *   Marine crustaceans (mysids, euphausiids, decapods, isopods, ostracods, and amphipods)\n",
              "    *   Cephalopods\n",
              "    *   Cnidarians\n",
              "    *   Eels (Anguilliformes)\n",
              "*   Examples of organisms exhibiting deep-sea gigantism:\n",
              "    *   Big red jellyfish (Stygiomedusa jellyfish)\n",
              "    *   Giant isopod\n",
              "    *   Giant ostracod\n",
              "    *   Giant sea spider\n",
              "    *   Giant amphipod\n",
              "    *   Japanese spider crab\n",
              "    *   Giant oarfish\n",
              "    *   Deepwater stingray\n",
              "    *   Seven-arm octopus\n",
              "    *   Various squid species (colossal squid, giant squid, *Megalocranchia fisheri*, robust clubhook squid, Dana octopus squid, cockatoo squid, giant warty squid, and bigfin squids of the genus *Magnapinna*)\n",
              "*   Deep-sea gigantism is *not* observed in meiofauna; they exhibit the reverse trend.\n",
              "*   **Lower temperature:** Similar to Bergmann's rule (increasing size with decreasing temperature). Decreasing temperature leads to increased cell size and lifespan, delaying sexual maturity and resulting in larger body size.\n",
              "*   **Food scarcity:** Larger body size improves foraging ability. Larger offspring have greater food reserves for drifting. Organisms like giant isopods can gorge on food and survive long periods without it. Larger animals have more efficient metabolisms (Kleiber's law).\n",
              "*   **Reduced predation pressure:** Predation is less frequent in deeper waters.\n",
              "*   **Increased dissolved oxygen:** Maximum organism size correlates with dissolved oxygen levels in deeper waters. Larger organisms can intake more dissolved oxygen.\n",
              "\n",
              "\n",
              "Based on:\n",
              "  https://en.wikipedia.org/wiki/Deep-sea_gigantism"
            ],
            "text/plain": [
              "<IPython.core.display.Markdown object>"
            ]
          },
          "metadata": {},
          "output_type": "display_data"
        },
        {
          "data": {
            "text/markdown": [
              "The text provided does not contain any information about deep-sea organisms' survival strategies. However, it mentions several long-living aquatic organisms and their lifespans, which may be relevant to the topic:\n",
              "\n",
              "*   Glass sponges (East China Sea and Southern Ocean): Estimated to be more than 10,000 years old.\n",
              "*   Black coral (Leiopathes glaberrima): Around 4,265 years old.\n",
              "*   Giant barrel sponge (Xestospongia muta): More than 2,300 years old.\n",
              "*   Black coral (Antipatharia, Gulf of Mexico): May live more than 2,000 years.\n",
              "*   Antarctic sponge (Cinachyra antarctica): One specimen estimated at 1,550 years old.\n",
              "*   Tubeworm (Escarpia laminata): Regularly reaches 100-200 years, some over 300, and potentially over 1,000 years.\n",
              "*   Deepsea hydrocarbon seep tubeworm Lamellibrachia luymesi (Annelida, Polychaeta): Lives for more than 170 years.\n",
              "*   Greenland shark: One specimen estimated between 272 and 512 years old.\n",
              "*   Orange roughy (deep sea perch): Can live up to 149 years.\n",
              "\n",
              "The text also mentions the discovery of aerobic microorganisms in organically poor sediments 68.9 meters below the seafloor in the South Pacific Gyre (SPG) (\"the deadest spot in the ocean\"), which have been dated to 4.3 to 101.5 million years old, and could be the longest-living life forms ever found.\n",
              "\n",
              "\n",
              "Based on:\n",
              "  https://en.wikipedia.org/wiki/List_of_longest-living_organisms"
            ],
            "text/plain": [
              "<IPython.core.display.Markdown object>"
            ]
          },
          "metadata": {},
          "output_type": "display_data"
        },
        {
          "data": {
            "text/markdown": [
              "The provided document focuses primarily on deep-sea mining, its potential impact, and the regulations surrounding it, and does not offer any information about deep-sea food webs.\n",
              "\n",
              "\n",
              "Based on:\n",
              "  https://en.wikipedia.org/wiki/Deep_sea_mining"
            ],
            "text/plain": [
              "<IPython.core.display.Markdown object>"
            ]
          },
          "metadata": {},
          "output_type": "display_data"
        },
        {
          "data": {
            "text/markdown": [
              "*   **Location:** Mid-Atlantic Ridge between Iceland and Svalbard at 73 degrees north, depth of 2,352 meters (7,717 ft). Located on the Gakkel Ridge where the Mohns and Knipovich ridges converge, at the boundary of the Greenland and Norwegian Sea.\n",
              "*   **Discovery:** Discovered in 2008 by a University of Bergen expedition. Named after the Norse god Loki.\n",
              "*   **Geology:** A sediment-influenced, basalt-hosted hydrothermal field. Vent fluid is recharged in regions with oceanic sediments. Oldest hydrothermal material is over 9,100 years old.\n",
              "*   **Mounds and Chimneys:** Composed of two 20-30 meter sulfide mounds. Has five active chimneys venting water as hot as 320°C (608°F). Active chimneys are mostly black, covered in white bacteria; older chimneys are red due to oxidized iron. Four chimneys sampled between 2008-2009: João, Menorah, Camel, and Sleepy. The chimneys are predominantly sphalerite, pyrite, and pyrrhotite, and small amounts of chalcopyrite.\n",
              "*   **Fluid Chemistry:** Fluids are rich in volatile gases (hydrogen sulfide, hydrogen, and methane), hydrocarbons, ammonium, and alkalinity, but depleted of dissolved iron and manganese. Fluid pH is acidic, ranging from 5.5 - 6.1.\n",
              "*   **Ecology:**\n",
              "    *   Key species include the bristleworm *Nicomache lokii*.\n",
              "    *   *Sclerolinum contortum* tube worms are found on the largest sulfide mounds.\n",
              "    *   Melitidae amphipods are common in chimney crevices.\n",
              "*   **Microbiology:**\n",
              "    *   Dense mats of bacteria (Epsilonproteobacteria and Gammaproteobacteria) oxidize hydrogen and hydrogen sulfide. Thaumarchaeota found at less active sites. Sulfurovum dominate microbial mats.\n",
              "    *   A unique marine ecotope with diverse microorganisms.\n",
              "    *   Discovery site of Lokiarchaeota, an archaeal phylum.\n",
              "    *   Loki's Castle Viruses (LCVs), giant viruses of the Megaviricetes class in the phylum Nucleocytoviricota (NCLDV).\n",
              "\n",
              "\n",
              "Based on:\n",
              "  https://en.wikipedia.org/wiki/Loki%27s_Castle"
            ],
            "text/plain": [
              "<IPython.core.display.Markdown object>"
            ]
          },
          "metadata": {},
          "output_type": "display_data"
        },
        {
          "data": {
            "text/markdown": [
              "This document primarily focuses on the Deepsea Challenger submersible and its expeditions, not on the challenges of deep-sea life in general. However, some information can be extracted that touches on relevant issues:\n",
              "\n",
              "*   **Extreme Pressure:** The document repeatedly emphasizes the immense pressure at the Challenger Deep (114 megapascals or 16,500 pounds per square inch), highlighting the need for specialized materials and engineering to withstand it. This implicitly underscores the primary challenge for life at those depths.\n",
              "\n",
              "*   **Specialized Equipment & Technology:** The need for innovations like Isofloat syntactic foam, pressure-balanced oil-filled thrusters, LED lighting arrays, specialized cameras, and reliable communication cables. This shows that surviving in and studying the deep sea requires cutting-edge technology.\n",
              "\n",
              "*   **Life Support Systems:** Mentions of life support systems aboard the Deepsea Challenger highlight the challenges of providing a habitable environment for humans at such depths.\n",
              "\n",
              "*   **Limited Exploration:** The Deepsea Challenger's initial problems with cameras, life support, and thrusters during test dives illustrates the practical difficulties of exploring the deep sea.\n",
              "\n",
              "*   **Scientific Observation:** Reference to the observation of anemones, jellyfish and habitats on the bottom shows the existence of life, but says nothing about the challenges they face.\n",
              "\n",
              "\n",
              "\n",
              "Based on:\n",
              "  https://en.wikipedia.org/wiki/Deepsea_Challenger"
            ],
            "text/plain": [
              "<IPython.core.display.Markdown object>"
            ]
          },
          "metadata": {},
          "output_type": "display_data"
        },
        {
          "name": "stdout",
          "output_type": "stream",
          "text": [
            "--------------------------------------------------------------------------------\n"
          ]
        },
        {
          "data": {
            "text/markdown": [
              "### model:"
            ],
            "text/plain": [
              "<IPython.core.display.Markdown object>"
            ]
          },
          "metadata": {},
          "output_type": "display_data"
        },
        {
          "data": {
            "text/markdown": [
              "Deep-sea life survives by adapting to the extreme conditions of the deep ocean, including high pressure, low or no light, cold temperatures, and limited food resources. Some key adaptations and survival strategies include:\n",
              "\n",
              "*   **Adaptations to pressure:** Organisms have developed physiological adaptations to withstand immense pressure.\n",
              "*   **Adaptations to temperature:** Some organisms have adapted to colder temperatures. Decreasing temperature leads to increased cell size and lifespan, delaying sexual maturity and resulting in larger body size.\n",
              "*   **Food scarcity:** Larger body size improves foraging ability. Larger offspring have greater food reserves for drifting. Some organisms can gorge on food and survive long periods without it. Larger animals have more efficient metabolisms.\n",
              "*   **Reduced predation pressure:** Predation is less frequent in deeper waters.\n"
            ],
            "text/plain": [
              "<IPython.core.display.Markdown object>"
            ]
          },
          "metadata": {},
          "output_type": "display_data"
        },
        {
          "name": "stdout",
          "output_type": "stream",
          "text": [
            "--------------------------------------------------------------------------------\n"
          ]
        }
      ],
      "source": [
        "import json\n",
        "for content in chat.get_history():\n",
        "    display(Markdown(\"### \" + content.role + \":\"))\n",
        "    for part in content.parts:\n",
        "        if part.text:\n",
        "            display(Markdown(part.text))\n",
        "        if part.function_call:\n",
        "            print(part.function_call.name, json.dumps(part.function_call.args, indent=2))\n",
        "        if part.function_response:\n",
        "            for res in part.function_response.response['result']:\n",
        "                display(Markdown(res))\n",
        "    print(\"-\" * 80)"
      ]
    },
    {
      "cell_type": "markdown",
      "metadata": {
        "id": "WDWc9Fj9Ig6A"
      },
      "source": [
        "In the chat history you can see all 4 steps:\n",
        "\n",
        "1. User: Asks the question about the total number of mittens.\n",
        "2. Model: Determines that the `wikipedia_search` is helpful and sends a FunctionCall request to the user.\n",
        "3. User: The Chat session automatically executes the function (due to `_automatic_function_calling` is enabled by default) and sends back a FunctionResponse with the calculated result.\n",
        "4. Model: Uses the function's output to formulate the final answer and presents it as a text response."
      ]
    },
    {
      "cell_type": "markdown",
      "metadata": {
        "id": "PJP1EAgfnPUA"
      },
      "source": [
        "## [Optional] Manually Execute the Function Call"
      ]
    },
    {
      "cell_type": "markdown",
      "metadata": {
        "id": "Sa5ke2ssKl7M"
      },
      "source": [
        "If you want to understand what happened behind the scenes, this section executes the `FunctionCall` manually to demonstrate."
      ]
    },
    {
      "cell_type": "code",
      "execution_count": 16,
      "metadata": {
        "id": "wavbHrL3K5vo"
      },
      "outputs": [],
      "source": [
        "config  = {\n",
        "        \"tools\": [wikipedia_search],\n",
        "        \"automatic_function_calling\": {\"disable\": True}, # for manual execution\n",
        "    }\n",
        "\n",
        "chat    = client.chats.create(model=model, config=config, history=[])\n",
        "response  = chat.send_message(query)"
      ]
    },
    {
      "cell_type": "markdown",
      "metadata": {
        "id": "__JN3YuHe7fR"
      },
      "source": [
        "Initially the model returns a `FunctionCall`:"
      ]
    },
    {
      "cell_type": "code",
      "execution_count": 17,
      "metadata": {
        "id": "Lgngdvcdi06F"
      },
      "outputs": [
        {
          "name": "stdout",
          "output_type": "stream",
          "text": [
            "{\n",
            "  \"search_queries\": [\n",
            "    \"deep sea life survival\"\n",
            "  ]\n",
            "}\n"
          ]
        }
      ],
      "source": [
        "fc = response.candidates[0].content.parts[0].function_call\n",
        "print(json.dumps(fc.args, indent=2))"
      ]
    },
    {
      "cell_type": "markdown",
      "metadata": {
        "id": "xpD3axtDmfZb"
      },
      "source": [
        "Call the function with generated arguments to get the results."
      ]
    },
    {
      "cell_type": "code",
      "execution_count": 18,
      "metadata": {
        "id": "Ek4g-CTAPSou"
      },
      "outputs": [
        {
          "name": "stdout",
          "output_type": "stream",
          "text": [
            "Searching for \"deep sea life survival\"\n",
            "Related search terms: ['Deep sea mining', 'Stranded Deep', 'Deep-sea community']\n",
            "Fetching page: \"Deep sea mining\"\n",
            "Information Source: https://en.wikipedia.org/wiki/Deep_sea_mining\n",
            "Deep sea mining did not match with any page id, hence skipping.\n",
            "Fetching page: \"Stranded Deep\"\n",
            "Information Source: https://en.wikipedia.org/wiki/Stranded_Deep\n",
            "Fetching page: \"Deep-sea community\"\n",
            "Information Source: https://en.wikipedia.org/wiki/Deep-sea_community\n",
            "Information Sources:\n",
            "     https://en.wikipedia.org/wiki/Deep_sea_mining\n",
            "     https://en.wikipedia.org/wiki/Stranded_Deep\n",
            "     https://en.wikipedia.org/wiki/Deep-sea_community\n"
          ]
        },
        {
          "data": {
            "text/markdown": [
              "\n",
              " ### Function execution result:"
            ],
            "text/plain": [
              "<IPython.core.display.Markdown object>"
            ]
          },
          "metadata": {},
          "output_type": "display_data"
        },
        {
          "data": {
            "text/markdown": [
              "*   The game takes place in the Pacific Ocean, where a plane crash survivor must survive in a procedurally generated world.\n",
              "*   Players explore islands, reefs, and ocean trenches.\n",
              "*   The tropical ocean is full of life forms, including fish, sea turtles, rays, lionfish, sea snakes, crown-of-thorns starfish, swordfish, whales, and sharks.\n",
              "*   Some sharks are harmless, while others, like great whites, hammerhead sharks, and goblin sharks, are life-threatening.\n",
              "*   Sharks can attack the player or flip their raft.\n",
              "*   There are also three mythical sea creatures: a megalodon shark, a giant squid named Lusca, and a giant eel named Abaia. These are the most challenging enemies.\n",
              "*   Players must manage their health, hunger, thirst, and sleep.\n",
              "*   Hydration sources are scarce, with coconut water being the most common.\n",
              "*   Food can be obtained from coconuts, fishing, and rations.\n",
              "*   Players can find equipment in sunken shipwrecks and islands.\n",
              "\n",
              "\n",
              "Based on:\n",
              "  https://en.wikipedia.org/wiki/Stranded_Deep"
            ],
            "text/plain": [
              "<IPython.core.display.Markdown object>"
            ]
          },
          "metadata": {},
          "output_type": "display_data"
        },
        {
          "data": {
            "text/markdown": [
              "**Challenges to Survival:**\n",
              "\n",
              "*   **Darkness:** Absence of sunlight requires reliance on sinking matter from above, chemosynthesis, or vertical migration.\n",
              "*   **Hyperbaricity:** Extreme pressure is a major environmental factor. Creatures adapt with smaller size, gelatinous flesh, minimal skeletal structure, and elimination of excess cavities. Pressure increases by one atmosphere every ten meters.\n",
              "*   **Temperature:** Generally cold and homogeneous below the thermocline, with constant temperatures over long periods. Hydrothermal vents offer the exception, with extreme temperature gradients.\n",
              "*   **Nutrient Scarcity:** Limited food supply requires opportunistic feeding strategies and adaptations like rapid growth and dispersal mechanisms.\n",
              "\n",
              "**Adaptations and Strategies for Survival:**\n",
              "\n",
              "*   **Chemosynthesis:** Bacteria at hydrothermal vents and cold seeps convert chemicals into energy, forming the base of the food web in these ecosystems.\n",
              "*   **Gelatinous Bodies and Reduced Skeletons:** Help withstand extreme pressure.\n",
              "*   **Bioluminescence:** Used for camouflage, attracting prey, or attracting a mate.\n",
              "*   **Vertical Migration:** Moving to shallower zones at night to feed, then returning to deeper waters during the day.\n",
              "*   **Opportunistic Feeding:** Rapid growth and the ability to utilize transient food resources.\n",
              "*   **Tolerance for Temperature Change:** Fish displaying considerable tolerances for temperature change while making daily migrations through the thermocline.\n",
              "\n",
              "**Energy Sources:**\n",
              "\n",
              "*   **Marine Snow:** Sinking particulate organic matter from the photic zone.\n",
              "*   **Occasional Surface Blooms:** Sudden influx of nutrients from surface blooms.\n",
              "*   **Whale Falls:** Carcasses of whales provide a large pulse of organic matter.\n",
              "*   **Chemosynthesis:** Energy production from chemicals at hydrothermal vents and cold seeps.\n",
              "\n",
              "**Zones and Depths:**\n",
              "\n",
              "*   **Mesopelagic (200-1000m):** Also known as the twilight zone with limited light, organisms in this layer have large eyes to maximize the amount of light in the environment.\n",
              "*   **Bathyal (1000-4000m):** Also known as the midnight zone, almost no light, cold temperatures of 4 °C (39 °F), a low level of dissolved oxygen, and a lack of sufficient nutrients.\n",
              "*   **Abyssal (4000-6000m):** Perpetual darkness, inhabited by chemotrophs and pressure-resistant predators.\n",
              "*   **Hadal (below 6000m):** Deepest trenches with immense pressure.\n",
              "\n",
              "\n",
              "\n",
              "Based on:\n",
              "  https://en.wikipedia.org/wiki/Deep-sea_community"
            ],
            "text/plain": [
              "<IPython.core.display.Markdown object>"
            ]
          },
          "metadata": {},
          "output_type": "display_data"
        }
      ],
      "source": [
        "if fc.name == \"wikipedia_search\":\n",
        "    summaries = wikipedia_search(**fc.args)\n",
        "    display(Markdown(\"\\n ### Function execution result:\"))\n",
        "    for text in summaries:\n",
        "        display(Markdown(text))"
      ]
    },
    {
      "cell_type": "markdown",
      "metadata": {
        "id": "kv4WGnG_gT3F"
      },
      "source": [
        "Now send the `summaries` to the model."
      ]
    },
    {
      "cell_type": "code",
      "execution_count": 19,
      "metadata": {
        "id": "bcLuieHqj9PW"
      },
      "outputs": [
        {
          "data": {
            "text/markdown": [
              "Deep-sea life survives in a challenging environment with darkness, extreme pressure, cold temperatures, and nutrient scarcity. Here's a breakdown of their survival strategies:\n",
              "\n",
              "*   **Challenges:**\n",
              "    *   **Darkness:** No sunlight means organisms rely on other energy sources.\n",
              "    *   **Pressure:** Extreme pressure requires special adaptations.\n",
              "    *   **Temperature:** Consistently cold temperatures.\n",
              "    *   **Nutrient Scarcity:** Limited food requires unique feeding strategies.\n",
              "*   **Adaptations and Strategies:**\n",
              "    *   **Chemosynthesis:** Bacteria convert chemicals into energy at hydrothermal vents and cold seeps, forming the base of the food web.\n",
              "    *   **Body Adaptations:** Gelatinous bodies and reduced skeletons help withstand pressure.\n",
              "    *   **Bioluminescence:** Used for camouflage, attracting prey, and finding mates.\n",
              "    *   **Vertical Migration:** Moving to shallower waters to feed at night and returning to deeper waters during the day.\n",
              "    *   **Opportunistic Feeding:** Rapid growth and ability to use transient food resources.\n",
              "*   **Energy Sources:**\n",
              "    *   **Marine Snow:** Sinking organic matter from upper ocean layers.\n",
              "    *   **Surface Blooms:** Nutrients from surface blooms.\n",
              "    *   **Whale Falls:** Whale carcasses provide a large amount of organic matter.\n",
              "    *   **Chemosynthesis:** Energy from chemicals at hydrothermal vents and cold seeps.\n",
              "\n"
            ],
            "text/plain": [
              "<IPython.core.display.Markdown object>"
            ]
          },
          "metadata": {},
          "output_type": "display_data"
        }
      ],
      "source": [
        "# Create a function response part\n",
        "function_response_part = types.Part.from_function_response(\n",
        "    name=fc.name,\n",
        "    response={\"result\": summaries},\n",
        ")\n",
        "\n",
        "response = chat.send_message(function_response_part)\n",
        "\n",
        "display(Markdown(response.text))"
      ]
    },
    {
      "cell_type": "markdown",
      "metadata": {
        "id": "L2Vfv8xpmuV1"
      },
      "source": [
        "## Re-ranking the search results"
      ]
    },
    {
      "cell_type": "markdown",
      "metadata": {
        "id": "cQ3JUJLeGGzA"
      },
      "source": [
        "Helper function to embed the content:"
      ]
    },
    {
      "cell_type": "code",
      "execution_count": 20,
      "metadata": {
        "id": "mSkE7EynJBwF"
      },
      "outputs": [],
      "source": [
        "# @title Helper function to embed the content\n",
        "from tqdm.auto import tqdm\n",
        "from google.genai import types\n",
        "\n",
        "tqdm.pandas()\n",
        "\n",
        "from google.api_core import retry\n",
        "import numpy as np\n",
        "\n",
        "def make_embed_text_fn(model):\n",
        "\n",
        "    @retry.Retry(timeout=300.0)\n",
        "    def embed_fn(texts: list[str]) -> list[list[float]]:\n",
        "        # Set the task_type to SEMANTIC_SIMILARITY and embed the batch of texts\n",
        "        embeddings = client.models.embed_content(\n",
        "            model=model,\n",
        "            contents=texts,\n",
        "            config=types.EmbedContentConfig(task_type=\"SEMANTIC_SIMILARITY\"),\n",
        "        ).embeddings\n",
        "        return np.array([embedding.values for embedding in embeddings])\n",
        "\n",
        "    return embed_fn\n",
        "\n",
        "\n",
        "def create_embeddings(content: list[str]) -> np.ndarray:\n",
        "    MODEL_ID = \"embedding-001\" # @param [\"embedding-001\", \"text-embedding-004\",\"gemini-embedding-exp-03-07\"] {\"allow-input\":true, isTemplate: true}\n",
        "    model = f\"models/{MODEL_ID}\"\n",
        "    embed_fn = make_embed_text_fn(model)\n",
        "\n",
        "    batch_size = 100  # at most 100 requests can be in one batch\n",
        "    all_embeddings = []\n",
        "\n",
        "    # Loop over the texts in chunks of batch_size\n",
        "    for i in tqdm(range(0, len(content), batch_size)):\n",
        "        batch = content[i:i + batch_size]\n",
        "        embeddings = embed_fn(batch)\n",
        "        all_embeddings.extend(embeddings)\n",
        "\n",
        "    return np.array(all_embeddings).reshape(len(all_embeddings), -1)"
      ]
    },
    {
      "cell_type": "markdown",
      "metadata": {
        "id": "tip8ArqJf_ep"
      },
      "source": [
        "Please refer to the [embeddings guide](https://ai.google.dev/docs/embeddings_guide) for more information on embeddings."
      ]
    },
    {
      "cell_type": "markdown",
      "metadata": {
        "id": "nSPyycFuFj-_"
      },
      "source": [
        "Your next step is to define functions that you can use to calculate similarity scores between two embedding vectors. These scores will help you decide which embedding vector is the most relevant vector to the user's query.\n"
      ]
    },
    {
      "cell_type": "markdown",
      "metadata": {
        "id": "ltbB0vDsKQtI"
      },
      "source": [
        "You will now implement cosine similarity as your metric. Here returned embedding vectors will be of unit length and so their L1 norm (`np.linalg.norm()`) will be ~1. Hence, calculating cosine similarity is esentially same as calculating their dot product score."
      ]
    },
    {
      "cell_type": "code",
      "execution_count": 21,
      "metadata": {
        "id": "9iDFdzq_JWJW"
      },
      "outputs": [],
      "source": [
        "def dot_product(a: np.ndarray, b: np.ndarray):\n",
        "  return (a @ b.T)"
      ]
    },
    {
      "cell_type": "markdown",
      "metadata": {
        "id": "MrF_1c_M_Hw3"
      },
      "source": [
        "### Similarity with user's query\n",
        "\n",
        "Now it's time to find the most relevant search result returned by the Wikipedia API.\n",
        "\n",
        "Use Gemini API to get embeddings for user's query and search results."
      ]
    },
    {
      "cell_type": "code",
      "execution_count": 22,
      "metadata": {
        "id": "gK9ryjftGDNe"
      },
      "outputs": [
        {
          "data": {
            "application/vnd.jupyter.widget-view+json": {
              "model_id": "bcd9afc845ff4256a9472a81e4cf056e",
              "version_major": 2,
              "version_minor": 0
            },
            "text/plain": [
              "  0%|          | 0/1 [00:00<?, ?it/s]"
            ]
          },
          "metadata": {},
          "output_type": "display_data"
        },
        {
          "data": {
            "application/vnd.jupyter.widget-view+json": {
              "model_id": "c0438b93942d41e1a1753a388fad75b6",
              "version_major": 2,
              "version_minor": 0
            },
            "text/plain": [
              "  0%|          | 0/1 [00:00<?, ?it/s]"
            ]
          },
          "metadata": {},
          "output_type": "display_data"
        }
      ],
      "source": [
        "search_res = create_embeddings(summaries)\n",
        "embedded_query = create_embeddings([query])"
      ]
    },
    {
      "cell_type": "markdown",
      "metadata": {
        "id": "2wwWq30uGRG3"
      },
      "source": [
        "Calculate similarity score:"
      ]
    },
    {
      "cell_type": "code",
      "execution_count": 23,
      "metadata": {
        "id": "jWlFNYIsGV0X"
      },
      "outputs": [
        {
          "data": {
            "text/plain": [
              "array([[0.66792859],\n",
              "       [0.75340682]])"
            ]
          },
          "execution_count": 23,
          "metadata": {},
          "output_type": "execute_result"
        }
      ],
      "source": [
        "sim_value = dot_product(search_res, embedded_query)\n",
        "sim_value"
      ]
    },
    {
      "cell_type": "markdown",
      "metadata": {
        "id": "bJW1pQQXG2w2"
      },
      "source": [
        "using `np.argmax` best candidate is selected.\n",
        "\n",
        "**Users's Input:** Explain how deep-sea life survives.\n",
        "\n",
        "**Answer:**"
      ]
    },
    {
      "cell_type": "code",
      "execution_count": 24,
      "metadata": {
        "id": "8vDMDnCsG8Wn"
      },
      "outputs": [
        {
          "data": {
            "text/markdown": [
              "**Challenges to Survival:**\n",
              "\n",
              "*   **Darkness:** Absence of sunlight requires reliance on sinking matter from above, chemosynthesis, or vertical migration.\n",
              "*   **Hyperbaricity:** Extreme pressure is a major environmental factor. Creatures adapt with smaller size, gelatinous flesh, minimal skeletal structure, and elimination of excess cavities. Pressure increases by one atmosphere every ten meters.\n",
              "*   **Temperature:** Generally cold and homogeneous below the thermocline, with constant temperatures over long periods. Hydrothermal vents offer the exception, with extreme temperature gradients.\n",
              "*   **Nutrient Scarcity:** Limited food supply requires opportunistic feeding strategies and adaptations like rapid growth and dispersal mechanisms.\n",
              "\n",
              "**Adaptations and Strategies for Survival:**\n",
              "\n",
              "*   **Chemosynthesis:** Bacteria at hydrothermal vents and cold seeps convert chemicals into energy, forming the base of the food web in these ecosystems.\n",
              "*   **Gelatinous Bodies and Reduced Skeletons:** Help withstand extreme pressure.\n",
              "*   **Bioluminescence:** Used for camouflage, attracting prey, or attracting a mate.\n",
              "*   **Vertical Migration:** Moving to shallower zones at night to feed, then returning to deeper waters during the day.\n",
              "*   **Opportunistic Feeding:** Rapid growth and the ability to utilize transient food resources.\n",
              "*   **Tolerance for Temperature Change:** Fish displaying considerable tolerances for temperature change while making daily migrations through the thermocline.\n",
              "\n",
              "**Energy Sources:**\n",
              "\n",
              "*   **Marine Snow:** Sinking particulate organic matter from the photic zone.\n",
              "*   **Occasional Surface Blooms:** Sudden influx of nutrients from surface blooms.\n",
              "*   **Whale Falls:** Carcasses of whales provide a large pulse of organic matter.\n",
              "*   **Chemosynthesis:** Energy production from chemicals at hydrothermal vents and cold seeps.\n",
              "\n",
              "**Zones and Depths:**\n",
              "\n",
              "*   **Mesopelagic (200-1000m):** Also known as the twilight zone with limited light, organisms in this layer have large eyes to maximize the amount of light in the environment.\n",
              "*   **Bathyal (1000-4000m):** Also known as the midnight zone, almost no light, cold temperatures of 4 °C (39 °F), a low level of dissolved oxygen, and a lack of sufficient nutrients.\n",
              "*   **Abyssal (4000-6000m):** Perpetual darkness, inhabited by chemotrophs and pressure-resistant predators.\n",
              "*   **Hadal (below 6000m):** Deepest trenches with immense pressure.\n",
              "\n",
              "\n",
              "\n",
              "Based on:\n",
              "  https://en.wikipedia.org/wiki/Deep-sea_community"
            ],
            "text/plain": [
              "<IPython.core.display.Markdown object>"
            ]
          },
          "metadata": {},
          "output_type": "display_data"
        }
      ],
      "source": [
        "display(Markdown(summaries[np.argmax(sim_value)]))"
      ]
    },
    {
      "cell_type": "markdown",
      "metadata": {
        "id": "Ozn6mIFvoyJU"
      },
      "source": [
        "### Similarity with Hypothetical Document Embeddings (HyDE)\n",
        "\n",
        "Drawing inspiration from [Gao et al](https://arxiv.org/abs/2212.10496) the objective here is to generate a template answer to the user's query using `gemini-2.0-flash`'s internal knowledge. This hypothetical answer will serve as a baseline to calculate relevance of all the search results."
      ]
    },
    {
      "cell_type": "code",
      "execution_count": 25,
      "metadata": {
        "id": "J7m5KAkMREBH"
      },
      "outputs": [
        {
          "data": {
            "text/markdown": [
              "Okay, so picture this: you're used to sunshine, warm breezes, and maybe a decent sandwich for lunch. Now, toss all that out the window. The deep sea is the opposite of everything you know! It's like another planet, a swirling, inky black void. So how in the name of Neptune does *anything* live down there?\n",
              "\n",
              "Well, it all boils down to adaptability, my friend. These critters have evolved some truly bizarre and ingenious strategies to survive in such a harsh environment.\n",
              "\n",
              "First, let's tackle the pressure. Imagine the weight of a [Placeholder Number] elephants stacked on your head! That's the kind of pressure some of these creatures endure. They've overcome this through internal adaptations, like having [Placeholder Biological Adaptation], or flexible skeletons made of [Placeholder Material]. Their cells are literally structured differently, allowing them to function normally under immense crushing forces.\n",
              "\n",
              "Then there's the darkness. Photosynthesis? Forget about it. Sunlight penetrates only so far, so deep-sea life has to get its energy from other sources. Many rely on what's called \"marine snow\" – a constant shower of organic detritus raining down from the surface. It's basically leftover crumbs from the sunlit zone, kind of like the ocean's garbage disposal service but in a tasty (for some) form. Certain creatures, like the [Placeholder Deep Sea Creature], have developed special filtering mechanisms to efficiently capture these tiny particles.\n",
              "\n",
              "Others are predators, of course! And in the dark, bioluminescence is king. This is where creatures generate their own light through chemical reactions, using it to attract prey, find mates, or even defend themselves. Think of the anglerfish with its glowing lure – a classic example of deep-sea ingenuity. They even have symbiotic relationships with [Placeholder Bioluminescent Bacteria] that do all the hard work! It's like having a living flashlight permanently attached.\n",
              "\n",
              "But perhaps the most fascinating survival strategy is chemosynthesis. Near hydrothermal vents and cold seeps, volcanic activity and geological processes release chemicals like methane and hydrogen sulfide. Certain bacteria can use these chemicals to create energy, just like plants use sunlight. These chemosynthetic bacteria form the base of the food web in these unique ecosystems, supporting entire communities of bizarre creatures like [Placeholder Deep Sea Worm] and [Placeholder Chemosynthetic Shrimp].\n",
              "\n",
              "So, to put it simply, deep-sea life thrives through a combination of pressure resistance, ingenious food-finding strategies like scavenging and predation utilizing bioluminescence, and the remarkable ability to harness chemical energy in the absence of sunlight. It’s a testament to the power of evolution and the sheer resilience of life, even in the most extreme environments. It's weird, it's wonderful, and it's a constant reminder that our planet holds secrets beyond our wildest imaginations. I wouldn’t mind taking a [Placeholder Deep Sea Submarine] down there myself one day!\n"
            ],
            "text/plain": [
              "<IPython.core.display.Markdown object>"
            ]
          },
          "metadata": {},
          "output_type": "display_data"
        }
      ],
      "source": [
        "res = client.models.generate_content(\n",
        "    model=model,\n",
        "    contents=f\"\"\"\n",
        "        Generate a hypothetical answer\n",
        "        to the user's query by using your own knowledge. Assume that you know everything\n",
        "        about the said topic. Do not use factual information, instead use placeholders\n",
        "        to complete your answer. Your answer should feel like it has been written by a human.\n",
        "\n",
        "        query: {query}\n",
        "    \"\"\",\n",
        ")\n",
        "\n",
        "display(Markdown(res.text))"
      ]
    },
    {
      "cell_type": "markdown",
      "metadata": {
        "id": "85f4MpLgrYbW"
      },
      "source": [
        "Use Gemini API to get embeddings for the baseline answer and compare them with search results"
      ]
    },
    {
      "cell_type": "code",
      "execution_count": 26,
      "metadata": {
        "id": "fSI6-5eYI3me"
      },
      "outputs": [
        {
          "data": {
            "application/vnd.jupyter.widget-view+json": {
              "model_id": "9575036e31ec4b2d831601af00eec429",
              "version_major": 2,
              "version_minor": 0
            },
            "text/plain": [
              "  0%|          | 0/1 [00:00<?, ?it/s]"
            ]
          },
          "metadata": {},
          "output_type": "display_data"
        }
      ],
      "source": [
        "hypothetical_ans = create_embeddings([res.text])"
      ]
    },
    {
      "cell_type": "markdown",
      "metadata": {
        "id": "WxYGEWbqrh44"
      },
      "source": [
        "Calculate similarity scores to rank the search results"
      ]
    },
    {
      "cell_type": "code",
      "execution_count": 27,
      "metadata": {
        "id": "99sjvMtlJfL_"
      },
      "outputs": [
        {
          "data": {
            "text/plain": [
              "array([[0.69387301],\n",
              "       [0.8186843 ]])"
            ]
          },
          "execution_count": 27,
          "metadata": {},
          "output_type": "execute_result"
        }
      ],
      "source": [
        "sim_value = dot_product(search_res, hypothetical_ans)\n",
        "sim_value"
      ]
    },
    {
      "cell_type": "markdown",
      "metadata": {
        "id": "wJ7pklxursSk"
      },
      "source": [
        "using `np.argmax` best candidate is selected.\n",
        "\n",
        "**Users's Input:** Explain how deep-sea life survives.\n",
        "\n",
        "**Answer:**"
      ]
    },
    {
      "cell_type": "code",
      "execution_count": 28,
      "metadata": {
        "id": "MzTfyU_mJ8-M"
      },
      "outputs": [
        {
          "data": {
            "text/markdown": [
              "**Challenges to Survival:**\n",
              "\n",
              "*   **Darkness:** Absence of sunlight requires reliance on sinking matter from above, chemosynthesis, or vertical migration.\n",
              "*   **Hyperbaricity:** Extreme pressure is a major environmental factor. Creatures adapt with smaller size, gelatinous flesh, minimal skeletal structure, and elimination of excess cavities. Pressure increases by one atmosphere every ten meters.\n",
              "*   **Temperature:** Generally cold and homogeneous below the thermocline, with constant temperatures over long periods. Hydrothermal vents offer the exception, with extreme temperature gradients.\n",
              "*   **Nutrient Scarcity:** Limited food supply requires opportunistic feeding strategies and adaptations like rapid growth and dispersal mechanisms.\n",
              "\n",
              "**Adaptations and Strategies for Survival:**\n",
              "\n",
              "*   **Chemosynthesis:** Bacteria at hydrothermal vents and cold seeps convert chemicals into energy, forming the base of the food web in these ecosystems.\n",
              "*   **Gelatinous Bodies and Reduced Skeletons:** Help withstand extreme pressure.\n",
              "*   **Bioluminescence:** Used for camouflage, attracting prey, or attracting a mate.\n",
              "*   **Vertical Migration:** Moving to shallower zones at night to feed, then returning to deeper waters during the day.\n",
              "*   **Opportunistic Feeding:** Rapid growth and the ability to utilize transient food resources.\n",
              "*   **Tolerance for Temperature Change:** Fish displaying considerable tolerances for temperature change while making daily migrations through the thermocline.\n",
              "\n",
              "**Energy Sources:**\n",
              "\n",
              "*   **Marine Snow:** Sinking particulate organic matter from the photic zone.\n",
              "*   **Occasional Surface Blooms:** Sudden influx of nutrients from surface blooms.\n",
              "*   **Whale Falls:** Carcasses of whales provide a large pulse of organic matter.\n",
              "*   **Chemosynthesis:** Energy production from chemicals at hydrothermal vents and cold seeps.\n",
              "\n",
              "**Zones and Depths:**\n",
              "\n",
              "*   **Mesopelagic (200-1000m):** Also known as the twilight zone with limited light, organisms in this layer have large eyes to maximize the amount of light in the environment.\n",
              "*   **Bathyal (1000-4000m):** Also known as the midnight zone, almost no light, cold temperatures of 4 °C (39 °F), a low level of dissolved oxygen, and a lack of sufficient nutrients.\n",
              "*   **Abyssal (4000-6000m):** Perpetual darkness, inhabited by chemotrophs and pressure-resistant predators.\n",
              "*   **Hadal (below 6000m):** Deepest trenches with immense pressure.\n",
              "\n",
              "\n",
              "\n",
              "Based on:\n",
              "  https://en.wikipedia.org/wiki/Deep-sea_community"
            ],
            "text/plain": [
              "<IPython.core.display.Markdown object>"
            ]
          },
          "metadata": {},
          "output_type": "display_data"
        }
      ],
      "source": [
        "display(Markdown(summaries[np.argmax(sim_value)]))"
      ]
    },
    {
      "cell_type": "markdown",
      "metadata": {
        "id": "UjDN2OUpsL6M"
      },
      "source": [
        "You have now created a search re-ranking engine using embeddings!"
      ]
    },
    {
      "cell_type": "markdown",
      "metadata": {
        "id": "AKH2vs2Lc1R1"
      },
      "source": [
        "## Next steps\n",
        "\n",
        "I hope you found this example helpful! Check out more examples in the [Cookbook](https://github.com/google-gemini/cookbook) to learn more."
      ]
    }
  ],
  "metadata": {
    "colab": {
      "name": "Search_reranking_using_embeddings.ipynb",
      "toc_visible": true
    },
    "kernelspec": {
      "display_name": "Python 3",
      "name": "python3"
    }
  },
  "nbformat": 4,
  "nbformat_minor": 0
}
