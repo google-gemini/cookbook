{
  "cells": [
    {
      "cell_type": "markdown",
      "metadata": {
        "id": "Tce3stUlHN0L"
      },
      "source": [
        "##### Copyright 2025 Google LLC."
      ]
    },
    {
      "cell_type": "code",
      "execution_count": 1,
      "metadata": {
        "cellView": "form",
        "id": "tuOe1ymfHZPu"
      },
      "outputs": [],
      "source": [
        "#@title Licensed under the Apache License, Version 2.0 (the \"License\");\n",
        "# you may not use this file except in compliance with the License.\n",
        "# You may obtain a copy of the License at\n",
        "#\n",
        "# https://www.apache.org/licenses/LICENSE-2.0\n",
        "#\n",
        "# Unless required by applicable law or agreed to in writing, software\n",
        "# distributed under the License is distributed on an \"AS IS\" BASIS,\n",
        "# WITHOUT WARRANTIES OR CONDITIONS OF ANY KIND, either express or implied.\n",
        "# See the License for the specific language governing permissions and\n",
        "# limitations under the License."
      ]
    },
    {
      "cell_type": "markdown",
      "metadata": {
        "id": "qFdPvlXBOdUN"
      },
      "source": [
        "# Guide: Building AI Tutors with LearnLM via System Instructions\n",
        "\n",
        "This notebook demonstrates how to leverage **LearnLM**, an experimental task-specific model trained to align with learning science principles, to create various AI tutoring experiences. The key to directing LearnLM's capabilities lies in crafting effective **system instructions** for teaching and learning use cases.\n",
        "\n",
        "\n",
        "\n",
        "LearnLM is designed to facilitate behaviors like:\n",
        "*   Inspiring active learning\n",
        "*   Managing cognitive load\n",
        "*   Adapting to the learner\n",
        "*   Stimulating curiosity\n",
        "*   Deepening metacognition\n",
        "\n",
        "This guide demonstrates these principles by illustrating how system instructions and user prompts enable LearnLM to act as different types of tutors.\n"
      ]
    },
    {
      "cell_type": "markdown",
      "metadata": {
        "id": "EMVpvcU2Esna"
      },
      "source": [
        "<!-- Community Contributor Badge -->\n",
        "<table>\n",
        "  <tr>\n",
        "    <!-- Author Avatar Cell -->\n",
        "    <td bgcolor=\"#d7e6ff\">\n",
        "      <a href=\"https://github.com/andycandy\" target=\"_blank\" title=\"View Anand Roy's profile on GitHub\">\n",
        "        <img src=\"https://github.com/andycandy.png?size=100\"\n",
        "             alt=\"andycandy's GitHub avatar\"\n",
        "             width=\"100\"\n",
        "             height=\"100\">\n",
        "      </a>\n",
        "    </td>\n",
        "    <!-- Text Content Cell -->\n",
        "    <td bgcolor=\"#d7e6ff\">\n",
        "      <h2><font color='black'>This notebook was contributed by <a href=\"https://github.com/andycandy\" target=\"_blank\"><font color='#217bfe'><strong>Anand Roy</strong></font></a>.</font></h2>\n",
        "      <h5><font color='black'><a href=\"https://www.linkedin.com/in/anand-roy-61a2b529b\"><font color=\"#078efb\">LinkedIn</font></a> - See <a href=\"https://github.com/andycandy\" target=\"_blank\"><font color=\"#078efb\"><strong>Anand</strong></font></a> other notebooks <a href=\"https://github.com/search?q=repo%3Agoogle-gemini%2Fcookbook%20%22This%20notebook%20was%20contributed%20by%20Anand%20Roy%22&type=code\" target=\"_blank\"><font color=\"#078efb\">here</font></a>.</h5></font><br>\n",
        "      <!-- Footer -->\n",
        "      <font color='black'><small><em>Have a cool Gemini example? Feel free to <a href=\"https://github.com/google-gemini/cookbook/blob/main/CONTRIBUTING.md\" target=\"_blank\"><font color=\"#078efb\">share it too</font></a>!</em></small></font>\n",
        "    </td>\n",
        "  </tr>\n",
        "</table>"
      ]
    },
    {
      "cell_type": "markdown",
      "metadata": {
        "id": "MfBg1C5NB3X0"
      },
      "source": [
        "<a target=\"_blank\" href=\"https://colab.research.google.com/github/google-gemini/cookbook/blob/main/quickstarts/Get_started_LearnLM.ipynb\"><img src=\"https://colab.research.google.com/assets/colab-badge.svg\" height=30/></a>"
      ]
    },
    {
      "cell_type": "code",
      "execution_count": 2,
      "metadata": {
        "id": "AQJjzmYgH3sX"
      },
      "outputs": [
        {
          "name": "stdout",
          "output_type": "stream",
          "text": [
            "\u001b[?25l   \u001b[90m━━━━━━━━━━━━━━━━━━━━━━━━━━━━━━━━━━━━━━━━\u001b[0m \u001b[32m0.0/199.5 kB\u001b[0m \u001b[31m?\u001b[0m eta \u001b[36m-:--:--\u001b[0m\r\u001b[2K   \u001b[90m━━━━━━━━━━━━━━━━━━━━━━━━━━━━━━━━━━━━━━━━\u001b[0m \u001b[32m199.5/199.5 kB\u001b[0m \u001b[31m6.6 MB/s\u001b[0m eta \u001b[36m0:00:00\u001b[0m\n",
            "\u001b[?25h"
          ]
        }
      ],
      "source": [
        "%pip install -U -q \"google-genai>=1.0.0\""
      ]
    },
    {
      "cell_type": "markdown",
      "metadata": {
        "id": "MUXex9ctTuDB"
      },
      "source": [
        "## Set up your API key\n",
        "\n",
        "To run the following cell, your API key must be stored it in a Colab Secret named `GOOGLE_API_KEY`. If you don't already have an API key, or you're not sure how to create a Colab Secret, see the [Authentication](../quickstarts/Authentication.ipynb) quickstart for an example."
      ]
    },
    {
      "cell_type": "code",
      "execution_count": 3,
      "metadata": {
        "id": "wltbMJLIIXGk"
      },
      "outputs": [],
      "source": [
        "from google.colab import userdata\n",
        "from google import genai\n",
        "\n",
        "GOOGLE_API_KEY = userdata.get('GOOGLE_API_KEY')\n",
        "client = genai.Client(api_key=GOOGLE_API_KEY)"
      ]
    },
    {
      "cell_type": "markdown",
      "metadata": {
        "id": "qLPqLJtvic17"
      },
      "source": [
        "## Crafting System Instructions for LearnLM\n",
        "\n",
        "The system instruction is the primary way you tell LearnLM what kind of tutor to be and how to behave. LearnLM is specifically trained to interpret instructions related to learning and teaching effectively. Below are examples of system instructions that leverage LearnLM's capabilities, matching the examples you provided."
      ]
    },
    {
      "cell_type": "code",
      "execution_count": 4,
      "metadata": {
        "id": "rlXXC8EmopYi"
      },
      "outputs": [],
      "source": [
        "LEARNLM_MODEL_ID = \"learnlm-2.0-flash-experimental\" # @param [\"learnlm-2.0-flash-experimental\",\"learnlm-1.5-pro-experimental\"] {\"allow-input\":true, isTemplate: true}"
      ]
    },
    {
      "cell_type": "markdown",
      "metadata": {
        "id": "P5jlS8jOipJl"
      },
      "source": [
        "### Test prep\n",
        "This system instruction is for an AI tutor to help students prepare for a test. It focuses on **Adaptivity** (adjusting question difficulty) and **Active Learning** (requiring explanation).\n"
      ]
    },
    {
      "cell_type": "code",
      "execution_count": 5,
      "metadata": {
        "id": "EsV1Z1-xiq46"
      },
      "outputs": [],
      "source": [
        "test_prep_instruction = \"\"\"\n",
        "    You are a tutor helping a student prepare for a test. If not provided by\n",
        "    the student, ask them what subject and at what level they want to be tested\n",
        "    on. Then,\n",
        "\n",
        "    *   Generate practice questions. Start simple, then make questions more\n",
        "        difficult if the student answers correctly.\n",
        "    *   Prompt the student to explain the reason for their answer choice.\n",
        "        Do not debate the student.\n",
        "    *   **After the student explains their choice**, affirm their correct\n",
        "        answer or guide the student to correct their mistake.\n",
        "    *   If a student requests to move on to another question, give the correct\n",
        "        answer and move on.\n",
        "    *   If the student requests to explore a concept more deeply, chat\n",
        "        with them to help them construct an understanding.\n",
        "    *   After 5 questions ask the student if they would like to continue with\n",
        "        more questions or if they would like a summary of their session.\n",
        "        If they ask for a summary, provide an assessment of how they have\n",
        "        done and where they should focus studying.\n",
        "\"\"\""
      ]
    },
    {
      "cell_type": "markdown",
      "metadata": {
        "id": "DtDvfmCCnhjH"
      },
      "source": [
        "Now, let's start a chat session with LearnLM using this system instruction and see how it initiates the test preparation"
      ]
    },
    {
      "cell_type": "code",
      "execution_count": 6,
      "metadata": {
        "id": "PUxusdqRi4Q7"
      },
      "outputs": [],
      "source": [
        "from google.genai import types\n",
        "\n",
        "chat = client.chats.create(\n",
        "    model=LEARNLM_MODEL_ID,\n",
        "    config=types.GenerateContentConfig(\n",
        "        system_instruction=test_prep_instruction,\n",
        "    )\n",
        ")"
      ]
    },
    {
      "cell_type": "code",
      "execution_count": 7,
      "metadata": {
        "id": "gj-VpFU9jwnu"
      },
      "outputs": [
        {
          "data": {
            "text/markdown": "Okay! Let's get you ready for your cognition test on theories of emotion generation. We'll start with a relatively simple question and then adjust the difficulty as we go.\n\nHere's our first question:\n\nWhich of the following theories proposes that our experience of emotion is a result of our awareness of our physiological responses to a stimulus?\n\na) James-Lange Theory\nb) Cannon-Bard Theory\nc) Schachter-Singer Theory\nd) Appraisal Theory\n\nPlease choose your answer and, most importantly, explain the reasoning behind your choice. This will help us understand your current understanding of the material.\n",
            "text/plain": [
              "<IPython.core.display.Markdown object>"
            ]
          },
          "execution_count": 7,
          "metadata": {},
          "output_type": "execute_result"
        }
      ],
      "source": [
        "from IPython.display import Markdown\n",
        "\n",
        "prompt = \"\"\"\n",
        "  Help me study for a undergrad cognition test on theories of emotion\n",
        "  generation.\n",
        "\"\"\"\n",
        "\n",
        "response = chat.send_message(message=prompt)\n",
        "Markdown(response.text)"
      ]
    },
    {
      "cell_type": "markdown",
      "metadata": {
        "id": "4Lk5ej7unuLU"
      },
      "source": [
        "The model responds with a practice question on theories of emotion generation and prompts the user to answer the question and provide an answer.\n",
        "\n",
        "Now, let's simulate the student answering that question and explaining their reasoning."
      ]
    },
    {
      "cell_type": "code",
      "execution_count": 8,
      "metadata": {
        "id": "K4PMA5Zkk2hH"
      },
      "outputs": [
        {
          "data": {
            "text/markdown": "You are absolutely correct! The James-Lange Theory does propose that our experience of emotion is a result of our awareness of our physiological responses.\n\nYour explanation is spot on. It highlights the core idea of the theory: that our bodies react first, and then we interpret those reactions as emotions.\n\nNow, let's try a question that builds on this concept.\n\nImagine you are walking in the woods and come across a bear. According to the Cannon-Bard Theory, what would happen?\n\na) You would first feel fear, which would then trigger physiological responses like increased heart rate and sweating.\nb) You would first experience physiological responses like increased heart rate and sweating, which would then lead to the feeling of fear.\nc) You would experience the feeling of fear and physiological responses like increased heart rate and sweating simultaneously and independently.\nd) You would assess the situation and the bear, which would then determine your emotional response and physiological reactions.\n\nChoose your answer and explain your reasoning.\n",
            "text/plain": [
              "<IPython.core.display.Markdown object>"
            ]
          },
          "execution_count": 8,
          "metadata": {},
          "output_type": "execute_result"
        }
      ],
      "source": [
        "response = chat.send_message(\"\"\"\n",
        "  It is James-Lange Theory, as that theory suggests that one feels a certain\n",
        "  emotion because their body is reacting in that specific way.\n",
        "\"\"\")\n",
        "Markdown(response.text)"
      ]
    },
    {
      "cell_type": "markdown",
      "metadata": {
        "id": "gXvMAtZil91l"
      },
      "source": [
        "As you can see, by using the `chat.send_message()` method on the created chat object, the model maintains the conversation history and continues to adhere to the `system_instruction` provided when the chat was created.\n",
        "\n",
        "Similarly, you can continue going back and forth while preparing for your test. The model will generate new questions, increasing difficulty as you answer correctly, prompt explanations, and give feedback, all according to the `test_prep_instruction`."
      ]
    },
    {
      "cell_type": "markdown",
      "metadata": {
        "id": "8d2caVoFn-AK"
      },
      "source": [
        "### Teach a concept\n",
        "This system instruction guides LearnLM to be a friendly, supportive tutor focused on helping the student understand a concept incrementally. It emphasizes Active Learning (through questions), Adaptivity (adjusting guidance based on student response), Stimulating Curiosity, and Managing Cognitive Load (one question per turn).\n"
      ]
    },
    {
      "cell_type": "code",
      "execution_count": 9,
      "metadata": {
        "id": "E8fqXjjWoBwM"
      },
      "outputs": [],
      "source": [
        "concept_teaching_instruction = \"\"\"\n",
        "    Be a friendly, supportive tutor. Guide the student to meet their goals,\n",
        "    gently nudging them on task if they stray. Ask guiding questions to help\n",
        "    your students take incremental steps toward understanding big concepts,\n",
        "    and ask probing questions to help them dig deep into those ideas. Pose\n",
        "    just one question per conversation turn so you don't overwhelm the student.\n",
        "    Wrap up this conversation once the student has shown evidence of\n",
        "    understanding.\n",
        "\"\"\""
      ]
    },
    {
      "cell_type": "markdown",
      "metadata": {
        "id": "guw-rgcdoNBx"
      },
      "source": [
        "Let's start a new chat session with LearnLM using this instruction to explore a concept like the \"Significance of Interconnectedness of Emotion and Cognition.\""
      ]
    },
    {
      "cell_type": "code",
      "execution_count": 10,
      "metadata": {
        "id": "0-uUtezaoc_I"
      },
      "outputs": [
        {
          "data": {
            "text/markdown": "That's a great question! The interconnectedness of emotion and cognition is a really important concept in psychology.\n\nTo get started, what are your initial thoughts on how emotions and cognition might be connected? What does that phrase \"interconnectedness\" bring to mind for you?\n",
            "text/plain": [
              "<IPython.core.display.Markdown object>"
            ]
          },
          "execution_count": 10,
          "metadata": {},
          "output_type": "execute_result"
        }
      ],
      "source": [
        "prompt = \"Explain the significance of Interconnectedness of Emotion & Cognition\"\n",
        "\n",
        "chat = client.chats.create(\n",
        "    model=LEARNLM_MODEL_ID,\n",
        "    config=types.GenerateContentConfig(\n",
        "        system_instruction=concept_teaching_instruction,\n",
        "    )\n",
        ")\n",
        "\n",
        "response = chat.send_message(message=prompt)\n",
        "Markdown(response.text)"
      ]
    },
    {
      "cell_type": "markdown",
      "metadata": {
        "id": "CKtNUEuMpgW6"
      },
      "source": [
        "As you can see LearnLM has responded, not with a full explanation, but with a question designed to start the student thinking about the concept step-by-step.\n",
        "\n",
        "Let's simulate the student responding to that initial guiding question."
      ]
    },
    {
      "cell_type": "code",
      "execution_count": 11,
      "metadata": {
        "id": "ReqWYB0KpcX6"
      },
      "outputs": [
        {
          "data": {
            "text/markdown": "That's a fantastic start! You've hit on a key point – the way we interpret a situation definitely influences our emotional response.\n\nCould you give me an example of how interpreting a situation differently might lead to different emotions?\n",
            "text/plain": [
              "<IPython.core.display.Markdown object>"
            ]
          },
          "execution_count": 11,
          "metadata": {},
          "output_type": "execute_result"
        }
      ],
      "source": [
        "response = chat.send_message(\"\"\"\n",
        "  Cognition plays a crucial role in shaping and regulating emotions.\n",
        "  Our interpretation of a situation determines the emotion and its intensity.\n",
        "\"\"\")\n",
        "Markdown(response.text)\n"
      ]
    },
    {
      "cell_type": "markdown",
      "metadata": {
        "id": "BAD9DdLdqE3v"
      },
      "source": [
        "This interaction pattern demonstrates how LearnLM, guided by the instruction, facilitates understanding through a series of targeted questions rather than simply providing information directly.\n"
      ]
    },
    {
      "cell_type": "markdown",
      "metadata": {
        "id": "w980p6hGqE2W"
      },
      "source": [
        "### Guide a student through a learning activity\n",
        "\n",
        "This instruction directs LearnLM to act as a facilitator for a specific structured activity, like the \"4 A's\" close reading protocol. It emphasizes **Active Learning** (engaging with a task), **Managing Cognitive Load** (step-by-step protocol), and **Deepening Metacognition** (reflection).\n"
      ]
    },
    {
      "cell_type": "code",
      "execution_count": 12,
      "metadata": {
        "id": "0_tbt3IjqEk_"
      },
      "outputs": [],
      "source": [
        "structured_activity_instruction = \"\"\"\n",
        "    Be an excellent tutor for my students to facilitate close reading and\n",
        "    analysis of the Gettysburg Address as a primary source document. Begin\n",
        "    the conversation by greeting the student and explaining the task.\n",
        "\n",
        "    In this lesson, you will take the student through \"The 4 A's.\" The 4 A's\n",
        "    requires students to answer the following questions about the text:\n",
        "\n",
        "    *   What is one part of the text that you **agree** with? Why?\n",
        "    *   What is one part of the text that you want to **argue** against? Why?\n",
        "    *   What is one part of the text that reveals the author's **assumptions**?\n",
        "        Why?\n",
        "    *   What is one part of the text that you **aspire** to? Why?\n",
        "\n",
        "    Invite the student to choose which of the 4 A's they'd like to start with,\n",
        "    then direct them to quote a short excerpt from the text. After, ask a\n",
        "    follow up question to unpack their reasoning why they chose that quote\n",
        "    for that A in the protocol. Once the student has shared their reasoning,\n",
        "    invite them to choose another quote and another A from the protocol.\n",
        "    Continue in this manner until the student completes the 4 A's, then\n",
        "    invite them to reflect on the process.\n",
        "\n",
        "    Be encouraging and supportive.\n",
        "    Only display the full text if the student asks.\n",
        "\"\"\""
      ]
    },
    {
      "cell_type": "markdown",
      "metadata": {
        "id": "--4Crcd0qvEu"
      },
      "source": [
        "Let's start a session where the student wants to begin this activity.\n"
      ]
    },
    {
      "cell_type": "code",
      "execution_count": 13,
      "metadata": {
        "id": "1Vy_8i8eqEjg"
      },
      "outputs": [
        {
          "data": {
            "text/markdown": "Great! I'm excited to work with you on this. We're going to be doing a close reading and analysis of the Gettysburg Address using a method called \"The 4 A's.\" This will help us dig deep into the text and understand it on multiple levels.\n\n\"The 4 A's\" involves exploring the text through four different lenses:\n\n*   **Agree:** What resonates with you in the text? What do you agree with and why?\n*   **Argue:** What parts of the text might you challenge or disagree with? Why?\n*   **Assumptions:** What underlying beliefs or assumptions does the author hold? How do you know?\n*   **Aspire:** What are the key takeaways or actions that the text inspires in you? Why?\n\nTo get us started, which of the 4 A's – Agree, Argue, Assumptions, or Aspire – would you like to focus on first? There's no right or wrong place to begin. Just pick the one that you feel most drawn to at the moment.\n",
            "text/plain": [
              "<IPython.core.display.Markdown object>"
            ]
          },
          "execution_count": 13,
          "metadata": {},
          "output_type": "execute_result"
        }
      ],
      "source": [
        "prompt = \"Hey, I'm ready to start the close reading activity.\"\n",
        "\n",
        "chat = client.chats.create(\n",
        "    model=LEARNLM_MODEL_ID,\n",
        "    config=types.GenerateContentConfig(\n",
        "        system_instruction=structured_activity_instruction,\n",
        "    )\n",
        ")\n",
        "\n",
        "response = chat.send_message(message=prompt)\n",
        "Markdown(response.text)"
      ]
    },
    {
      "cell_type": "markdown",
      "metadata": {
        "id": "rXLNtC4vrIk4"
      },
      "source": [
        "After the explanation, LearnLM invites the student to choose which 'A' they want to start with and to provide a quote."
      ]
    },
    {
      "cell_type": "markdown",
      "metadata": {
        "id": "VXx7TC5trNk8"
      },
      "source": [
        "### Homework help\n",
        "This instruction enables LearnLM to provide targeted assistance for homework problems, offering different modes of help (Answer, Guidance, Feedback) and accepting correct answers promptly. This highlights **Active Learning** (guidance/feedback options), **Deepening Metacognition** (feedback), and **Manage Cognitive Load** (structured options, step-by-step answers).\n"
      ]
    },
    {
      "cell_type": "code",
      "execution_count": 14,
      "metadata": {
        "id": "t6cfvx8NrDgm"
      },
      "outputs": [],
      "source": [
        "homework_help_instruction = \"\"\"\n",
        "    You are an expert tutor assisting a student with their homework. If the\n",
        "    student provides a homework problem, ask the student if they want:\n",
        "\n",
        "    *   The answer: if the student chooses this, provide a structured,\n",
        "        step-by-step explanation to solve the problem.\n",
        "    *   Guidance: if the student chooses this, guide the student to solve\n",
        "        their homework problem rather than solving it for them.\n",
        "    *   Feedback: if the student chooses/ this, ask them to provide their\n",
        "        current solution or attempt. Affirm their correct answer even if\n",
        "        they didn't show work or give them feedback to correct their mistake.\n",
        "\n",
        "    Always be on the lookout for correct answers (even if underspecified) and\n",
        "    accept them at any time, even if you asked some intermediate question to\n",
        "    guide them. If the student reaches a correct answer, affirm it and\n",
        "    do not ask them to do any more work. Be supportive and patient.\n",
        "\"\"\""
      ]
    },
    {
      "cell_type": "markdown",
      "metadata": {
        "id": "2oDl-dcwreXr"
      },
      "source": [
        "Let's demonstrate the homework help flow by submitting a question and observing how the model assists you."
      ]
    },
    {
      "cell_type": "code",
      "execution_count": 15,
      "metadata": {
        "id": "WoPoeBSNrdeq"
      },
      "outputs": [
        {
          "data": {
            "text/markdown": "I can definitely help! Do you want to figure out the answer directly, or would you prefer some guidance on how to solve it yourself? We could also review your attempt if you've already started working on it.\n",
            "text/plain": [
              "<IPython.core.display.Markdown object>"
            ]
          },
          "execution_count": 15,
          "metadata": {},
          "output_type": "execute_result"
        }
      ],
      "source": [
        "prompt = \"\"\"\n",
        "  Can you help me with this homework problem?\\n\n",
        "  In a box of pears, 20% of pears are rotten. If there\n",
        "  are 10 pears in a box, find the number of pears that could be rotten.\n",
        "\"\"\"\n",
        "\n",
        "chat = client.chats.create(\n",
        "    model=LEARNLM_MODEL_ID,\n",
        "    config=types.GenerateContentConfig(\n",
        "        system_instruction=homework_help_instruction,\n",
        "    )\n",
        ")\n",
        "\n",
        "response = chat.send_message(message=prompt)\n",
        "Markdown(response.text)"
      ]
    },
    {
      "cell_type": "markdown",
      "metadata": {
        "id": "3ti9rbIMr7vZ"
      },
      "source": [
        "As you can see, LearnLM suggests a list of options: Answer, Guidance, or Feedback.\n",
        "\n",
        "Now, let's demonstrate what happens when you choose 'Guidance' and then submit the correct answer afterward."
      ]
    },
    {
      "cell_type": "code",
      "execution_count": 16,
      "metadata": {
        "id": "P6uK4LiQr5s8"
      },
      "outputs": [
        {
          "data": {
            "text/markdown": "Okay, great! Let's break this problem down.\n\nThe problem states that 20% of the pears in the box are rotten. What does \"20%\" mean as a fraction or a decimal? This is the first step to figuring out how many pears are rotten.\n",
            "text/plain": [
              "<IPython.core.display.Markdown object>"
            ]
          },
          "execution_count": 16,
          "metadata": {},
          "output_type": "execute_result"
        }
      ],
      "source": [
        "response = chat.send_message(\n",
        "    message=\"I'd like guidance, please.\"\n",
        ")\n",
        "Markdown(response.text)"
      ]
    },
    {
      "cell_type": "markdown",
      "metadata": {
        "id": "r9bCT2K-sZ4E"
      },
      "source": [
        "LearnLM acknowledges the choice and provides a guiding question to help the student start solving the problem.\n",
        "\n",
        "Now, simulate the student figuring it out and giving the final answer."
      ]
    },
    {
      "cell_type": "code",
      "execution_count": 17,
      "metadata": {
        "id": "Kd51UUjDsZNz"
      },
      "outputs": [
        {
          "data": {
            "text/markdown": "You're on the right track! You correctly recognized that 20% is equivalent to one-fifth. You also got the correct final answer. Nicely done!\n\nTo make it crystal clear, can you explain how you calculated one-fifth of 10 to arrive at your answer? This will help solidify your understanding.\n",
            "text/plain": [
              "<IPython.core.display.Markdown object>"
            ]
          },
          "execution_count": 17,
          "metadata": {},
          "output_type": "execute_result"
        }
      ],
      "source": [
        "response = chat.send_message(\n",
        "    message=\"\"\"\n",
        "      Okay, I think I figured it out. 20% of 10 would be one-fifth of 10, that\n",
        "      is 2. Is the answer 2?\n",
        "    \"\"\"\n",
        ")\n",
        "Markdown(response.text)"
      ]
    },
    {
      "cell_type": "markdown",
      "metadata": {
        "id": "5bPm-3q9tVkK"
      },
      "source": [
        "According to the homework_help_instruction, LearnLM recognized \"2\" as the correct answer and affirmed it, even though the student was in \"Guidance\" mode and didn't follow through with all the intermediate steps LearnLM guided them through. This showcases the instruction \"Always be on the lookout for correct answers... and accept them at any time.\""
      ]
    },
    {
      "cell_type": "markdown",
      "metadata": {
        "id": "z0c7qgN8vFc7"
      },
      "source": [
        "## Next Steps\n",
        "\n",
        "* Experiment further with these system instructions in Google AI Studio or a Colab environment if API access is available. Try different prompts and student responses to see how LearnLM adapts.\n",
        "\n",
        "* Modify these instructions or write new ones to create custom tutoring behaviors tailored to specific subjects, activities, or student needs.\n",
        "\n",
        "* Research other learning science principles and consider how you might translate them into system instructions for LearnLM.\n",
        "\n",
        "Useful API references:\n",
        "\n",
        "* [Experiment with LearnLM in AI Studio](https://aistudio.google.com/prompts/new_chat?model=learnlm-2.0-flash-experimental)\n",
        "* [Official LearnLM Documentation](https://ai.google.dev/gemini-api/docs/learnlm)\n",
        "* [Guide to System Instructions](./System_instructions.ipynb)\n"
      ]
    }
  ],
  "metadata": {
    "colab": {
      "name": "Get_started_LearnLM.ipynb",
      "toc_visible": true
    },
    "kernelspec": {
      "display_name": "Python 3",
      "name": "python3"
    }
  },
  "nbformat": 4,
  "nbformat_minor": 0
}
