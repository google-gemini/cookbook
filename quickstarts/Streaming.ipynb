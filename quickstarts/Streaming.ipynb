{
  "cells": [
    {
      "cell_type": "markdown",
      "metadata": {
        "id": "Tce3stUlHN0L"
      },
      "source": [
        "##### Copyright 2025 Google LLC."
      ]
    },
    {
      "cell_type": "code",
      "execution_count": null,
      "metadata": {
        "cellView": "form",
        "id": "tuOe1ymfHZPu"
      },
      "outputs": [],
      "source": [
        "# @title Licensed under the Apache License, Version 2.0 (the \"License\");\n",
        "# you may not use this file except in compliance with the License.\n",
        "# You may obtain a copy of the License at\n",
        "#\n",
        "# https://www.apache.org/licenses/LICENSE-2.0\n",
        "#\n",
        "# Unless required by applicable law or agreed to in writing, software\n",
        "# distributed under the License is distributed on an \"AS IS\" BASIS,\n",
        "# WITHOUT WARRANTIES OR CONDITIONS OF ANY KIND, either express or implied.\n",
        "# See the License for the specific language governing permissions and\n",
        "# limitations under the License."
      ]
    },
    {
      "cell_type": "markdown",
      "metadata": {
        "id": "yeadDkMiISin"
      },
      "source": [
        "# Gemini API: Streaming Quickstart"
      ]
    },
    {
      "cell_type": "markdown",
      "metadata": {
        "id": "3f5bc95b9107"
      },
      "source": [
        "<a target=\"_blank\" href=\"https://colab.research.google.com/github/google-gemini/cookbook/blob/main/quickstarts/Streaming.ipynb\"><img src=\"https://colab.research.google.com/assets/colab-badge.svg\" height=30/></a>\n",
        "\n",
        "**Important note: Download this notebook and run it locally (not in Google Colab)**\n",
        "\n",
        "Streaming is not handled correctly in Google Colab yet. Currently all the stream chunks are returned together, not as they are generated. To see the correct behavior, download this notebook and run it locally using Jupyter, instead."
      ]
    },
    {
      "cell_type": "markdown",
      "metadata": {
        "id": "df1767a3d1cc"
      },
      "source": [
        "This notebook demonstrates streaming in the Python SDK. By default, the Python SDK returns a response after the model completes the entire generation process. You can also stream the response as it is being generated, and the model will return chunks of the response as soon as they are generated."
      ]
    },
    {
      "cell_type": "code",
      "execution_count": 1,
      "metadata": {
        "id": "xuiLSV7amy3P"
      },
      "outputs": [
        {
          "name": "stdout",
          "output_type": "stream",
          "text": [
            "Note: you may need to restart the kernel to use updated packages.\n"
          ]
        }
      ],
      "source": [
        "%pip install -qU 'google-genai'"
      ]
    },
    {
      "cell_type": "code",
      "execution_count": 2,
      "metadata": {
        "id": "79EWm0DAmy-g"
      },
      "outputs": [],
      "source": [
        "from google import genai"
      ]
    },
    {
      "cell_type": "markdown",
      "metadata": {
        "id": "DkeZNMrw6kPD"
      },
      "source": [
        "You'll need an API key stored in an environment variable to run this notebook. See the the [Authentication quickstart](https://github.com/google-gemini/cookbook/blob/main/quickstarts/Authentication.ipynb) for an example."
      ]
    },
    {
      "cell_type": "code",
      "execution_count": null,
      "metadata": {
        "id": "t9O-OzeAKC_m"
      },
      "outputs": [],
      "source": [
        "from google.colab import userdata\n",
        "\n",
        "GOOGLE_API_KEY = userdata.get('GOOGLE_API_KEY')\n",
        "client = genai.Client(api_key=GOOGLE_API_KEY)"
      ]
    },
    {
      "cell_type": "markdown",
      "metadata": {},
      "source": [
        "### Select the model"
      ]
    },
    {
      "cell_type": "code",
      "execution_count": 7,
      "metadata": {},
      "outputs": [],
      "source": [
        "MODEL_ID=\"gemini-2.5-flash-preview-04-17\" # @param [\"gemini-2.5-flash-preview-04-17\", \"gemini-2.5-pro-preview-03-25\", \"gemini-2.0-flash\", \"gemini-2.0-flash-lite\"] {\"allow-input\":true, isTemplate: true}"
      ]
    },
    {
      "cell_type": "markdown",
      "metadata": {
        "id": "BUoa5q0iUuE1"
      },
      "source": [
        "## Handle streaming responses\n",
        "\n",
        "To stream responses, use [`Models.generate_content_stream`](https://googleapis.github.io/python-genai/genai.html#genai.models.Models.generate_content_stream)."
      ]
    },
    {
      "cell_type": "code",
      "execution_count": 8,
      "metadata": {
        "id": "nVWWGBsBok3m"
      },
      "outputs": [
        {
          "name": "stdout",
          "output_type": "stream",
          "text": [
            "The old book lay open on the pavement\n",
            "________________________________________________________________________________\n",
            ", pages fluttering like startled birds. Elara, rushing home through the unexpected rain, sk\n",
            "________________________________________________________________________________\n",
            "idded to a halt. It was soaked, ruined, its cover peeling. Yet\n",
            "________________________________________________________________________________\n",
            ", something about it held her.\n",
            "\n",
            "She knelt, the rain spotting her jacket\n",
            "________________________________________________________________________________\n",
            ". The text was illegible inkblots. But tucked between two sodden pages was\n",
            "________________________________________________________________________________\n",
            " a pressed flower, somehow preserved, still vibrant yellow against the grey paper. And\n",
            "________________________________________________________________________________\n",
            " beneath the flower, a small, intricate key lay nestled.\n",
            "\n",
            "A wave of curiosity\n",
            "________________________________________________________________________________\n",
            " washed over her, stronger than the chill of the rain. Why would someone hide\n",
            "________________________________________________________________________________\n",
            " a key here? Whose book was it? Whose secret did the key unlock? It\n",
            "________________________________________________________________________________\n",
            " felt like a mystery dropped at her feet by the storm.\n",
            "\n",
            "She carefully scooped\n",
            "________________________________________________________________________________\n",
            " up the key and the flower, leaving the ruined book. As she ran the\n",
            "________________________________________________________________________________\n",
            " rest of the way home, the small weight in her pocket felt significant. The\n",
            "________________________________________________________________________________\n",
            " rain was just rain, but the key... the key was the beginning of something\n",
            "________________________________________________________________________________\n",
            " else entirely, a whisper from a stranger's life dropped into her own.\n",
            "________________________________________________________________________________\n",
            " She had a feeling her evening wouldn't involve just drying off.\n",
            "________________________________________________________________________________\n"
          ]
        }
      ],
      "source": [
        "for chunk in client.models.generate_content_stream(\n",
        "  model=MODEL_ID,\n",
        "  contents='Tell me a story in 300 words.'\n",
        "):\n",
        "    print(chunk.text)\n",
        "    print(\"_\" * 80)"
      ]
    },
    {
      "cell_type": "markdown",
      "metadata": {
        "id": "KswwVyHCKC_n"
      },
      "source": [
        "## Handle streaming responses asynchronously\n",
        "\n",
        "To stream responses asynchronously, use [`AsyncModels.generate_content_stream(...)`](https://googleapis.github.io/python-genai/genai.html#genai.models.AsyncModels.generate_content_stream)."
      ]
    },
    {
      "cell_type": "code",
      "execution_count": 9,
      "metadata": {
        "id": "DHbwhXi2nvnS"
      },
      "outputs": [
        {
          "name": "stdout",
          "output_type": "stream",
          "text": [
            "Pip was a very\n",
            "________________________________________________________________________________\n",
            " small kitten, mostly legs and enthusiasm, with fur the colour of marmalade jam\n",
            "________________________________________________________________________________\n",
            " and a tail that perpetually twitched with curiosity. Nimbus, on the other paw\n",
            "________________________________________________________________________________\n",
            ", was a large, fluffy cloud of grey fur, who considered the most exciting part\n",
            "________________________________________________________________________________\n",
            " of his day to be finding the optimal sunbeam for napping.\n",
            "\n",
            "One\n",
            "________________________________________________________________________________\n",
            " Tuesday morning, a cardboard box arrived. Not just any box, but a magnificent\n",
            "________________________________________________________________________________\n",
            ", just-the-right-size box that smelled faintly of... *something* interesting\n",
            "________________________________________________________________________________\n",
            ". Pip discovered it first.\n",
            "\n",
            "He circled it cautiously, tail high. Sn\n",
            "________________________________________________________________________________\n",
            "iff. Sniff. Then, the irresistible urge took over. He launched himself at the side\n",
            "________________________________________________________________________________\n",
            ", scrabbled briefly, and tumbled headfirst inside with a soft *thump\n",
            "________________________________________________________________________________\n",
            "*.\n",
            "\n",
            "Inside the box, it was amazing! It was a cave! It was a\n",
            "________________________________________________________________________________\n",
            " fortress! It was a private kingdom! Pip zoomed from one corner to the other\n",
            "________________________________________________________________________________\n",
            ", batting at invisible dust motes and practising his pounce on the box's\n",
            "________________________________________________________________________________\n",
            " sturdy floor. He felt like the king of his own little cardboard castle.\n",
            "\n",
            "He\n",
            "________________________________________________________________________________\n",
            " had to share this discovery.\n",
            "\n",
            "Pip popped his head over the edge, spotting\n",
            "________________________________________________________________________________\n",
            " Nimbus draped elegantly across the warmest patch of rug, eyes half-closed.\n",
            "\n",
            "\n",
            "________________________________________________________________________________\n",
            "\"Mrow!\" Pip chirped, a sound far too big for his tiny body\n",
            "________________________________________________________________________________\n",
            ". It meant, \"Look! Look at my amazing box!\"\n",
            "\n",
            "Nimbus tw\n",
            "________________________________________________________________________________\n",
            "itched an ear. A slow blink acknowledged Pip's existence, but little else.\n",
            "\n",
            "Und\n",
            "________________________________________________________________________________\n",
            "eterred, Pip scrambled out of the box and raced over, skidding slightly\n",
            "________________________________________________________________________________\n",
            ". He kneaded the air excitedly beside Nimbus's head, purring like\n",
            "________________________________________________________________________________\n",
            " a tiny motorboat. \"Mrow! Box! Good! Come see!\"\n",
            "\n",
            "Nimbus sighed\n",
            "________________________________________________________________________________\n",
            ", a sound that was 90% purr and 10%\n",
            "________________________________________________________________________________\n",
            " long-suffering patience. He stretched, one impossibly long front leg extending\n",
            "________________________________________________________________________________\n",
            ", claws sheathed.\n",
            "\n",
            "Pip took this as encouragement. He dashed back to\n",
            "________________________________________________________________________________\n",
            " the box, launching himself inside again. *Thump*. He peeked out\n",
            "________________________________________________________________________________\n",
            ". \"See? Inside! Cozy!\"\n",
            "\n",
            "Nimbus slowly rose, walked over to the box\n",
            "________________________________________________________________________________\n",
            ", and peered in with mild interest. Pip wiggled with anticipation.\n",
            "\n",
            "\"M\n",
            "________________________________________________________________________________\n",
            "row?\" Pip asked hopefully, meaning, \"Want to come in?\"\n",
            "\n",
            "Nimbus sniff\n",
            "________________________________________________________________________________\n",
            "ed the edge of the box, then looked at Pip, then looked back at the box\n",
            "________________________________________________________________________________\n",
            ". He seemed to be weighing the pros of cardboard coziness against the cons of sharing\n",
            "________________________________________________________________________________\n",
            " with a ridiculously energetic ginger fuzzball.\n",
            "\n",
            "Pip, unable to contain his excitement, did\n",
            "________________________________________________________________________________\n",
            " the only logical thing. He launched himself from the box edge in a wobbly p\n",
            "________________________________________________________________________________\n",
            "ounce, aiming squarely for Nimbus's fluffy head.\n",
            "\n",
            "He landed with a soft\n",
            "________________________________________________________________________________\n",
            " *boof*, clinging precariously to Nimbus's ear for a second before sliding\n",
            "________________________________________________________________________________\n",
            " down his grey flank like a tiny marmalade avalanche.\n",
            "\n",
            "Nimbus didn't even\n",
            "________________________________________________________________________________\n",
            " flinch. He simply lowered his head, gave Pip a slow, deliberate lick right\n",
            "________________________________________________________________________________\n",
            " on top of his head, flattening his ginger fur momentarily.\n",
            "\n",
            "Then, with\n",
            "________________________________________________________________________________\n",
            " surprising grace for such a large cat, Nimbus stepped *into* the box.\n",
            "________________________________________________________________________________\n",
            "\n",
            "\n",
            "He settled down with a rumbling sigh that turned into a deep, contented\n",
            "________________________________________________________________________________\n",
            " purr. He wasn't quite *in* it – more like he filled\n",
            "________________________________________________________________________________\n",
            " the entire box, spilling over the sides in a fluffy grey mass.\n",
            "\n",
            "Pip,\n",
            "________________________________________________________________________________\n",
            " recovering from his avalanche-descent, stared for a second, then beamed (\n",
            "________________________________________________________________________________\n",
            "or what passes for beaming in a kitten). He carefully clambered back into the box,\n",
            "________________________________________________________________________________\n",
            " finding a small, warm spot nestled right against Nimbus's soft side.\n",
            "\n",
            "The\n",
            "________________________________________________________________________________\n",
            " rumble of Nimbus's purr vibrated through the cardboard and right into Pip's little\n",
            "________________________________________________________________________________\n",
            " body. Pip tucked his paws under him, closed his eyes, and joined the pur\n",
            "________________________________________________________________________________\n",
            "ring chorus.\n",
            "\n",
            "The grand cardboard kingdom was now a shared, purring, very cute\n",
            "________________________________________________________________________________\n",
            " napping spot. And for Pip and Nimbus, that was the best kind of adventure there\n",
            "________________________________________________________________________________\n",
            " was.\n",
            "________________________________________________________________________________\n"
          ]
        }
      ],
      "source": [
        "async for chunk in await client.aio.models.generate_content_stream(\n",
        "    model=MODEL_ID,\n",
        "    contents=\"Write a cute story about cats.\"):\n",
        "    if chunk.text:\n",
        "        print(chunk.text)\n",
        "    print(\"_\"*80)"
      ]
    },
    {
      "cell_type": "markdown",
      "metadata": {
        "id": "jpK3p1B4KC_o"
      },
      "source": [
        "Here's a simple example of two asynchronous functions running simultaneously."
      ]
    },
    {
      "cell_type": "code",
      "execution_count": 10,
      "metadata": {
        "id": "1n5qFwvBpyQ1"
      },
      "outputs": [
        {
          "name": "stdout",
          "output_type": "stream",
          "text": [
            "==========not blocked!==========\n",
            "==========not blocked!==========\n",
            "==========not blocked!==========\n",
            "==========not blocked!==========\n",
            "==========not blocked!==========\n",
            "The air in the attic was thick\n",
            "________________________________________________________________________________\n",
            " with the dust of forgotten years, motes dancing in the single shaft of sunlight that\n",
            "________________________________________________________________________________\n",
            " pierced the gloom. Elara coughed, pulling a faded scarf tighter around her head\n",
            "________________________________________________________________________________\n",
            ". She was supposed to be *clearing*, making space, but mostly she\n",
            "________________________________________________________________________________\n",
            " was excavating memories.\n",
            "\n",
            "She pushed aside a stack of old hatboxes, their\n",
            "________________________________________________________________________________\n",
            " cardboard brittle with age, and uncovered a small, wooden trunk tucked against the eaves\n",
            "________________________________________________________________________________\n",
            ". It wasn’t marked, and she didn’t immediately recognize it. Curiosity\n",
            "________________________________________________________________________________\n",
            " outweighing her aversion to the grime, she knelt and fumbled with the cl\n",
            "________________________________________________________________________________\n",
            "unky metal latch. It sprang open with a soft groan.\n",
            "\n",
            "Inside lay not grand\n",
            "________________________________________________________________________________\n",
            " treasures, but a jumble of smaller things: a child's smooth skipping\n",
            "________________________________________________________________________________\n",
            " stone, a handful of tarnished coins, a pressed flower so fragile it threatened\n",
            "________________________________________________________________________________\n",
            " to disintegrate at a touch. And nestled at the bottom, wrapped loosely in a scrap\n",
            "________________________________________________________________________________\n",
            " of yellowed linen, was a small, carved wooden bird.\n",
            "\n",
            "It fit\n",
            "________________________________________________________________________________\n",
            " perfectly in her palm. Simple, unpainted, with smooth, worn edges where a\n",
            "________________________________________________________________________________\n",
            " thumb might have traced its shape countless times. As her fingers closed around it, a memory\n",
            "________________________________________________________________________________\n",
            ", sharp and clear, bloomed in her mind like a sudden burst of light\n",
            "________________________________________________________________________________\n",
            " in the dusty room.\n",
            "\n",
            "She was five years old, sitting on the sun\n",
            "________________________________________________________________________________\n",
            "-drenched back porch steps. Her grandfather, his hands calloused and strong\n",
            "________________________________________________________________________________\n",
            ", sat beside her, whittling wood. The scent of sawdust and summer\n",
            "________________________________________________________________________________\n",
            " filled the air. He had been working on this small bird.\n",
            "\n",
            "\"Almost\n",
            "________________________________________________________________________________\n",
            " done,\" he'd murmured, his kind eyes crinkling at the corners. He\n",
            "________________________________________________________________________________\n",
            " finished smoothing the last curve, then placed the little bird in her outstretched hand. It\n",
            "________________________________________________________________________________\n",
            " felt warm from his touch.\n",
            "\n",
            "\"Hold onto small things, Elara,\" he\n",
            "________________________________________________________________________________\n",
            "'d said, his voice low and gentle. \"They carry the biggest stories.\"\n",
            "________________________________________________________________________________\n",
            "\n",
            "\n",
            "He never explained what he meant, not fully. But she kept the bird, carrying\n",
            "________________________________________________________________________________\n",
            " it in her pocket, sleeping with it under her pillow, until somehow, somewhere along the\n",
            "________________________________________________________________________________\n",
            " busy path of growing up, it had been misplaced, forgotten.\n",
            "\n",
            "Now, holding it\n",
            "________________________________________________________________________________\n",
            " again, the truth of his words settled deep within her. This tiny wooden bird wasn\n",
            "________________________________________________________________________________\n",
            "'t just a toy or an object. It was a vessel holding the warmth of\n",
            "________________________________________________________________________________\n",
            " her grandfather's hand, the wisdom in his eyes, the quiet love of\n",
            "________________________________________________________________________________\n",
            " a summer afternoon. It carried the story of a simple gift and a profound message\n",
            "________________________________________________________________________________\n",
            ".\n",
            "\n",
            "The dust motes still danced in the sunbeam, but the attic no\n",
            "________________________________________________________________________________\n",
            " longer felt merely like a place of discarded things. It was a repository of moments\n",
            "________________________________________________________________________________\n",
            ", waiting patiently to be found. Elara sat back on her heels, the wooden\n",
            "________________________________________________________________________________\n",
            " bird clutched tight, the forgotten task of clearing momentarily vanishing, replaced by the\n",
            "________________________________________________________________________________\n",
            " quiet weight of a beautiful, rediscovered story.\n",
            "________________________________________________________________________________\n"
          ]
        }
      ],
      "source": [
        "import asyncio\n",
        "\n",
        "\n",
        "async def get_response():\n",
        "    async for chunk in await client.aio.models.generate_content_stream(\n",
        "        model=MODEL_ID,\n",
        "        contents='Tell me a story in 500 words.'\n",
        "    ):\n",
        "        if chunk.text:\n",
        "            print(chunk.text)\n",
        "        print(\"_\" * 80)\n",
        "\n",
        "async def something_else():\n",
        "    for i in range(5):\n",
        "        print(\"==========not blocked!==========\")\n",
        "        await asyncio.sleep(1)\n",
        "\n",
        "async def async_demo():\n",
        "    # Create tasks for concurrent execution\n",
        "    task1 = asyncio.create_task(get_response())\n",
        "    task2 = asyncio.create_task(something_else())\n",
        "    # Wait for both tasks to complete\n",
        "    await asyncio.gather(task1, task2)\n",
        "\n",
        "# In IPython notebooks, you can await the coroutine directly:\n",
        "await async_demo()"
      ]
    }
  ],
  "metadata": {
    "colab": {
      "name": "Streaming.ipynb",
      "toc_visible": true
    },
    "google": {
      "image_path": "/site-assets/images/share.png",
      "keywords": [
        "examples",
        "googleai",
        "samplecode",
        "python",
        "embed",
        "function"
      ]
    },
    "kernelspec": {
      "display_name": "io-env",
      "language": "python",
      "name": "python3"
    },
    "language_info": {
      "codemirror_mode": {
        "name": "ipython",
        "version": 3
      },
      "file_extension": ".py",
      "mimetype": "text/x-python",
      "name": "python",
      "nbconvert_exporter": "python",
      "pygments_lexer": "ipython3",
      "version": "3.12.9"
    }
  },
  "nbformat": 4,
  "nbformat_minor": 0
}
