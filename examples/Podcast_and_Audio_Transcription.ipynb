{
  "cells": [
    {
      "cell_type": "markdown",
      "metadata": {
        "id": "Hfb0zeHYnwtC"
      },
      "source": [
        "##### Copyright 2025 Google LLC."
      ]
    },
    {
      "cell_type": "code",
      "execution_count": 61,
      "metadata": {
        "cellView": "form",
        "id": "NeImViGqnv1b"
      },
      "outputs": [],
      "source": [
        "# @title Licensed under the Apache License, Version 2.0 (the \"License\");\n",
        "# you may not use this file except in compliance with the License.\n",
        "# You may obtain a copy of the License at\n",
        "#\n",
        "# https://www.apache.org/licenses/LICENSE-2.0\n",
        "#\n",
        "# Unless required by applicable law or agreed to in writing, software\n",
        "# distributed under the License is distributed on an \"AS IS\" BASIS,\n",
        "# WITHOUT WARRANTIES OR CONDITIONS OF ANY KIND, either express or implied.\n",
        "# See the License for the specific language governing permissions and\n",
        "# limitations under the License."
      ]
    },
    {
      "cell_type": "markdown",
      "metadata": {
        "id": "bxGr_x3MRA0z"
      },
      "source": [
        "<a target=\"_blank\" href=\"https://colab.research.google.com/github/google-gemini/cookbook/blob/main/examples/Podcast_and_Audio_Transcription.ipynb\"><img src=\"https://colab.research.google.com/assets/colab-badge.svg\" height=30/>"
      ]
    },
    {
      "cell_type": "markdown",
      "metadata": {
        "id": "ysy--KfNRrCq"
      },
      "source": [
        "# Podcast and Audio Transcription with the Gemini API\n",
        "\n",
        "## Advanced Audio-to-Text Conversion  \n",
        "Gemini 2.0 transforms audio files (podcasts, interviews, call recordings) into **structured transcripts** with:  \n",
        "- **Precision timestamps** ([00:00] format)  \n",
        "- **Speaker identification** (labeled or auto-assigned as Speaker A/B)  \n",
        "- **Audio event detection**:  \n",
        "  - Background music (with song recognition, e.g., `[02:15] [Firework by Katy Perry]`)  \n",
        "  - Sound effects (e.g., `[01:30] [Bell ringing]`)  \n",
        "  - Named jingles (e.g., `[00:45] [The Sofa Shop jingle]`)  \n",
        "\n",
        "## Implementation Notes  \n",
        "1. **File Preparation**:  \n",
        "   - Supports MP3/WAV formats  \n",
        "   - Update `file_path` to your audio file location  \n",
        "2. **Output Format**:  \n",
        "   - Clean text without markdown  \n",
        "   - Terminates with `[END]` marker  \n",
        "3. **Accuracy**:  \n",
        "   - Context-aware spelling (corrects names/titles)  \n",
        "   - English-alphabet focused (non-English chars only when explicit)  \n",
        "\n",
        "```python\n",
        "# Example output snippet:\n",
        "[00:00] Tom: Welcome to the podcast.  \n",
        "[00:03] Speaker A: Thanks for having me!  \n",
        "[00:06] [Coffee shop ambiance]  \n",
        "[01:30] [END]\n",
        "```\n"
      ]
    },
    {
      "cell_type": "code",
      "execution_count": 62,
      "metadata": {
        "id": "Ne-3gnXqR0hI"
      },
      "outputs": [],
      "source": [
        "%pip install -U -q \"google-genai>=1.0.0\""
      ]
    },
    {
      "cell_type": "code",
      "execution_count": 63,
      "metadata": {
        "id": "EconMHePQHGw"
      },
      "outputs": [],
      "source": [
        "from google import genai\n",
        "\n",
        "from IPython.display import Markdown"
      ]
    },
    {
      "cell_type": "markdown",
      "metadata": {
        "id": "eomJzCa6lb90"
      },
      "source": [
        "## Configure your API key\n",
        "\n",
        "To run the following cell, your API key must be stored it in a Colab Secret named `GOOGLE_API_KEY`. If you don't already have an API key, or you're not sure how to create a Colab Secret, see [Authentication](https://github.com/google-gemini/cookbook/blob/main/quickstarts/Authentication.ipynb) for an example."
      ]
    },
    {
      "cell_type": "code",
      "execution_count": 64,
      "metadata": {
        "id": "v-JZzORUpVR2"
      },
      "outputs": [],
      "source": [
        "from google.colab import userdata\n",
        "GOOGLE_API_KEY = userdata.get('GOOGLE_API_KEY')\n",
        "client = genai.Client(api_key=GOOGLE_API_KEY)"
      ]
    },
    {
      "cell_type": "code",
      "execution_count": 65,
      "metadata": {
        "id": "Ym4w9z3iWHlT"
      },
      "outputs": [],
      "source": [
        "MODEL_ID=\"gemini-2.0-flash\" # @param [\"gemini-2.0-flash-lite\",\"gemini-2.0-flash\",\"gemini-2.0-pro-exp-02-05\"] {\"allow-input\":true, isTemplate: true}"
      ]
    },
    {
      "cell_type": "markdown",
      "source": [
        "## Audio Transcription Example\n",
        "\n",
        "Now that you've configured your API key, let's walk through an example of how to use it for audio transcription.\n"
      ],
      "metadata": {
        "id": "AtrPGWFp3xz-"
      }
    },
    {
      "cell_type": "code",
      "execution_count": 66,
      "metadata": {
        "id": "J580DkQPVYYp",
        "outputId": "12da378b-ab54-4ec2-d2b0-d38d2e60185a",
        "colab": {
          "base_uri": "https://localhost:8080/"
        },
        "collapsed": true
      },
      "outputs": [
        {
          "output_type": "stream",
          "name": "stdout",
          "text": [
            "Requirement already satisfied: jinja2 in /usr/local/lib/python3.11/dist-packages (3.1.6)\n",
            "Requirement already satisfied: MarkupSafe>=2.0 in /usr/local/lib/python3.11/dist-packages (from jinja2) (3.0.2)\n"
          ]
        }
      ],
      "source": [
        "%pip install jinja2"
      ]
    },
    {
      "cell_type": "code",
      "source": [
        "import requests\n",
        "\n",
        "# Source: \"State of the Union Address, 30 January 1961\" audio file\n",
        "# Provided by Google as part of the Generative AI Downloads dataset\n",
        "# URL: https://storage.googleapis.com/generativeai-downloads/data/State_of_the_Union_Address_30_January_1961.mp3\n",
        "# © Content may be in the public domain; verify rights before reuse.\n",
        "\n",
        "# URL of the audio file\n",
        "file_path = \"https://storage.googleapis.com/generativeai-downloads/data/State_of_the_Union_Address_30_January_1961.mp3\"\n",
        "\n",
        "# Download and save the file locally\n",
        "response = requests.get(file_path)\n",
        "local_file_path = \"/tmp/audio.mp3\"\n",
        "with open(local_file_path, \"wb\") as f:\n",
        "    f.write(response.content)"
      ],
      "metadata": {
        "id": "Gym9HYt35IQL"
      },
      "execution_count": 67,
      "outputs": []
    },
    {
      "cell_type": "code",
      "source": [
        "import os\n",
        "\n",
        "# Upload the file to the API\n",
        "file = client.files.upload(file=local_file_path)\n",
        "\n",
        "# Remove the local copy after upload\n",
        "os.remove(local_file_path)"
      ],
      "metadata": {
        "id": "F5A2St8K5OXz"
      },
      "execution_count": 68,
      "outputs": []
    },
    {
      "cell_type": "code",
      "source": [
        "from jinja2 import Template\n",
        "\n",
        "# Define the prompt template\n",
        "prompt_template = Template(\"\"\"\n",
        "  Generate a transcript of the episode. Include timestamps and identify speakers.\n",
        "\n",
        "  Speakers are:\n",
        "  {% for speaker in speakers %}- {{ speaker }}{% if not loop.last %}\\n{% endif %}{% endfor %}\n",
        "\n",
        "  eg:\n",
        "  [00:00] Brady: Hello there.\n",
        "  [00:02] Tim: Hi Brady.\n",
        "\n",
        "  It is important to include the correct speaker names. Use the names you identified earlier.\n",
        "  If you really don't know the speaker's name, identify them with a letter of the alphabet,\n",
        "  e.g., there may be an unknown speaker 'A' and another unknown speaker 'B'.\n",
        "\n",
        "  If there is music or a short jingle playing, signify like so:\n",
        "  [01:02] [MUSIC] or [01:02] [JINGLE]\n",
        "\n",
        "  If you can identify the name of the music or jingle playing then use that instead, e.g.:\n",
        "  [01:02] [Firework by Katy Perry] or [01:02] [The Sofa Shop jingle]\n",
        "\n",
        "  If there is some other sound playing try to identify the sound, e.g.:\n",
        "  [01:02] [Bell ringing]\n",
        "\n",
        "  Each individual caption should be quite short, a few short sentences at most.\n",
        "\n",
        "  Signify the end of the episode with [END].\n",
        "\n",
        "  Don't use any markdown formatting, like bolding or italics.\n",
        "\n",
        "  Only use characters from the English alphabet, unless you genuinely believe\n",
        "  foreign characters are correct.\n",
        "\n",
        "  It is important that you use the correct words and spell everything correctly.\n",
        "  Use the context of the podcast to help.\n",
        "\n",
        "  If the hosts discuss something like a movie, book or celebrity,\n",
        "  make sure the movie, book, or celebrity name is spelled correctly.\n",
        "\"\"\")\n",
        "\n",
        "# Define known speakers\n",
        "speakers = [\"Tom\"]\n",
        "prompt = prompt_template.render(speakers=speakers)"
      ],
      "metadata": {
        "id": "OU8oy6qo5RG1"
      },
      "execution_count": 69,
      "outputs": []
    },
    {
      "cell_type": "code",
      "source": [
        "# Generate content using Gemini API\n",
        "response = client.models.generate_content(\n",
        "    model=MODEL_ID,\n",
        "    contents=[prompt, file],\n",
        ")\n",
        "\n",
        "# Display the transcript\n",
        "print(response.text)"
      ],
      "metadata": {
        "id": "0_Nil3wj5UTT",
        "outputId": "ee39c942-b4a9-4887-f8ba-24c7563b9fe4",
        "colab": {
          "base_uri": "https://localhost:8080/"
        }
      },
      "execution_count": 70,
      "outputs": [
        {
          "output_type": "stream",
          "name": "stdout",
          "text": [
            "[00:03] The president's state of the union address to a joint session of the Congress from the rostrum of the House of Representatives, Washington DC, January 30th, 1961.\n",
            "[00:22] Mr Vice President.\n",
            "[00:25] Members of the Congress.\n",
            "[00:28] It is a pleasure to return from whence I came.\n",
            "[00:41] You are among my oldest friends in Washington, and this house is my oldest home.\n",
            "[00:50] It was here, it was here more than 14 years ago that I first took the oath of Federal Office.\n",
            "[01:00] It was here for 14 years that I gained both knowledge and inspiration from members of both parties in both houses.\n",
            "[01:11] From your wise and generous leaders and from the pronouncements which I can vividly recall sitting where you now sit.\n",
            "[01:21] Including the programs of two great presidents, the undimmed eloquence of Churchill, the soaring idealism of Nehru.\n",
            "[01:32] The steadfast words of General De Gaulle to speak from this same historic rostrum is a sobering experience.\n",
            "[01:39] To be back among so many friends is a happy one.\n",
            "[01:43] I am confident that that friendship will continue.\n",
            "[01:47] Our Constitution wisely assigns both joint and separate roles to each branch of the government.\n",
            "[01:55] And a president and a Congress who hold each other in mutual respect will neither permit nor attempt any trespass.\n",
            "[02:03] For my part, I shall withhold from neither the Congress nor the people any fact or report past, present or future, which is necessary for an informed judgment of our conduct and hazards.\n",
            "[02:21] I shall neither shift the burden of executive decisions to the Congress, nor avoid responsibility for the outcome of those decisions.\n",
            "[02:36] I speak today in an hour of national peril and national opportunity.\n",
            "[02:42] Before my term has ended, we shall have to test anew whether a nation organ organized and governed such as ours can endure.\n",
            "[02:54] The outcome is by no means certain.\n",
            "[02:56] The answers are by no means clear.\n",
            "[02:59] All of us together, this administration, this Congress, this nation must forge those answers.\n",
            "[03:09] But today were I to offer after little more than a week in office detailed legislation to remedy every national ill.\n",
            "[03:18] The Congress would rightly wonder whether the desire for speed had replaced the duty of responsibility.\n",
            "[03:24] My remarks therefore will be limited, but they will also be candid.\n",
            "[03:30] To state the facts frankly is not to despair the future nor indict the past.\n",
            "[03:37] The prudent error takes careful inventory of his legacies and gives a faithful accounting to those whom he owes an obligation of trust.\n",
            "[03:49] And while the occasion does not call for another recital of our blessings and assets, we do have no greater asset than the willingness of a free and determined people.\n",
            "[04:00] Through its elected officials to face all problems frankly and meet all dangers free from panic or fear.\n",
            "[04:08] The present state of our economy is disturbing.\n",
            "[04:12] We take office in the wake of seven months of recession, three and one half years of slack.\n",
            "[04:20] Seven years of diminished economic growth, and nine years of falling farm income.\n",
            "[04:27] Business bankruptcies have reached their highest level since the Great Depression.\n",
            "[04:32] Since 1951, farm income has been squeezed down by 25%.\n",
            "[04:42] Save for a brief period in 1958, insured unemployment is at the highest peak in our history.\n",
            "[04:51] Of some five and one half million Americans who are without jobs, more than 1 million have been searching for work for more than four months.\n",
            "[05:01] And during each month, some 150,000 workers are exhausting their already meager jobless benefit rights.\n",
            "[05:12] Nearly 1/8 of those who are without jobs live almost without hope in nearly 100 specially distressed and troubled areas.\n",
            "[05:24] The rest include new school graduates unable to use their talents, farmers forced to give up their part-time jobs which help balance their family budgets.\n",
            "[05:35] Skilled and unskilled workers laid off in such important industries as metals, machinery, automobiles and apparel.\n",
            "[05:45] Our recovery from the 1958 recession moreover was anemic and incomplete.\n",
            "[05:51] Our gross national product never regained its full potential.\n",
            "[05:57] Unemployment never returned to normal levels.\n",
            "[06:01] Maximum use of our national industrial capacity was never fully restored.\n",
            "[06:07] In short, the American economy is in trouble.\n",
            "[06:11] The most resourceful industrialized country on Earth ranks among the last in the rate of economic growth.\n",
            "[06:19] Since last spring, our economic growth rate has actually declined.\n",
            "[06:24] Business investment is in a decline.\n",
            "[06:27] Profits have fallen below predicted levels.\n",
            "[06:31] Construction is off a million unsold automobiles are in inventory.\n",
            "[06:38] Fewer people are working and the average work week has shrunk well below 40 hours.\n",
            "[06:45] Yet prices have continued to rise, so that now too many Americans have less to spend for items that cost more to buy.\n",
            "[06:57] Economic prophecy is at best an uncertain art as demonstrated by the prediction one year ago from this same podium that 1960 would be and I quote the most prosperous year in our history, unquote.\n",
            "[07:13] Nevertheless, forecasts of continued slack and only slightly reduced unemployment through 1961 and 1962 have been made with alarming unanimity.\n",
            "[07:26] And this administration does not intend to stand helplessly by.\n",
            "[07:40] We cannot afford to waste idle hours and empty plants while awaiting the rear end of the recession.\n",
            "[07:47] We must show the world what a free economy can do to reduce unemployment, to put unused capacity to work.\n",
            "[07:57] To spur new productivity and to foster higher economic growth within a range of sound fiscal policies and relative price stability.\n",
            "[08:09] I will propose to the Congress within the next 14 days measures to improve unemployment compensation through temporary increases in duration on a self-supporting basis.\n",
            "[08:24] To provide more food for the families of the unemployed and to aid their needy children, to redevelop our areas of chronic labor surplus.\n",
            "[08:34] To expand the services of the US Employment Office to stimulate housing and construction.\n",
            "[08:42] To secure more purchasing power for our lowest paid workers by raising and expanding the minimum wage.\n",
            "[08:49] To offer tax incentives for sound plant investment, to increase the development of our natural resources.\n",
            "[08:58] To encourage price stability and to take other steps aimed at ensuring a prompt recovery and paving the way for increased long-range growth.\n",
            "[09:09] This is not a partisan program concentrating on our weaknesses.\n",
            "[09:14] It is I hope a national program to realize our national strength.\n",
            "[09:26] Efficient expansion at home, stimulating the new plant and technology that can make our goods more competitive is also the key to the International balance of payment problem.\n",
            "[09:39] Laying aside all alarmist talk and panicky solutions, let us put that naughty problem in its proper perspective.\n",
            "[09:47] It is true that since 1958, the gap between the dollars we spend or invest abroad and the dollars returned to us has substantially widened.\n",
            "[10:01] This overall deficit in our balance of payments increased by nearly $11 billion in the last three years.\n",
            "[10:09] And holders of dollars abroad converted them to gold in such a quantity as to cause a total outflow of nearly $5 billion of gold from our reserves.\n",
            "[10:21] The 1959 deficit was caused in large part by our failure of our exports to penetrate foreign markets.\n",
            "[10:30] The result both of restrictions on our goods and our own uncompetitive prices.\n",
            "[10:37] The 1960 deficit on the other hand, was more the result of an increase in private capital outflow seeking new opportunity, higher return or speculative advantage abroad.\n",
            "[10:52] Meanwhile, this country has continued to bear more than its share of the West military and foreign aid obligations.\n",
            "[10:59] Under existing policies, another deficit of $2 billion is predicted for 1961.\n",
            "[11:07] And individuals in those countries whose dollar position once depended on these deficits for improvement now wonder aloud whether our gold reserves will remain sufficient to meet our own obligations.\n",
            "[11:22] All this is cause for concern, but it is not cause for panic for our monetary and financial position remains exceedingly strong.\n",
            "[11:31] Including our drawing rights in the International Monetary Fund and the gold reserve held as backing for our currency and Federal Reserve deposits.\n",
            "[11:43] We have some $22 billion in total gold stocks and other international monetary reserves.\n",
            "[11:50] And I now pledge that their full strength stands behind the value of the dollar for use if needed.\n",
            "[12:04] Moreover, we hold large assets abroad.\n",
            "[12:08] The total owed this nation far exceeds the claim upon our reserves and our exports once again substantially exceed our imports.\n",
            "[12:18] In short, we need not and we shall not take any action to increase the dollar price of gold from $35 an ounce.\n",
            "[12:30] To impose exchange controls, to reduce our anti-recession efforts.\n",
            "[12:37] To fall back on restrictive trade policies or to weaken our commitments around the world.\n",
            "[12:42] This administration will not distort the value of the dollar in any fashion and this is a commitment.\n",
            "[12:56] Prudence and good sense do require however that new steps be taken to ease the payment deficits and prevent any gold crisis.\n",
            "[13:05] Our success in world affairs has long depended in part upon foreign confidence in our ability to pay.\n",
            "[13:12] A series of executive orders, legislative remedies and cooperative efforts with our allies will get underway immediately.\n",
            "[13:24] Aimed at attracting foreign investment and travel to this country, promoting American exports at stable prices and with more liberal government guarantees and financing, curbing tax and custom loopholes that encourage undue spending of private dollars abroad.\n",
            "[13:43] And through OECD, NATO, and otherwise sharing with our allies all efforts to provide for the common defense of the free world and the hopes for growth of the less developed lands.\n",
            "[13:58] While the current deficit loss, ways will be found to ease our dollar outlays abroad without placing the full burden on the families of men who've asked to serve our flag overseas.\n",
            "[14:16] In short, whatever is required will be done to back up all our efforts abroad and to make certain that in the future as in the past, the dollar is as sound as a dollar.\n",
            "[14:32] But more than our exchange of international payments is out of balance.\n",
            "[14:37] The current federal budget for fiscal 1961 is almost certain to show a net deficit.\n",
            "[14:45] The budget already submitted for fiscal 1962 will remain in balance only if the Congress enacts all the revenue measures requested.\n",
            "[14:56] And only if an earlier and sharper upturn in the economy than my economic advisers now think likely produces the tax revenues estimated.\n",
            "[15:06] Nevertheless, a new administration must of necessity build on the spending and revenue estimates already submitted.\n",
            "[15:15] Within that framework barring the development of urgent national defense needs or a worsening of the economy, it is my current intention to advocate a program of expenditures, which including revenue from a stimulation of the economy will not of and by themselves unbalance the earlier budget.\n",
            "[15:36] However, we will do what must be done for our national household is cluttered with unfinished and neglected tasks.\n",
            "[15:43] Our cities are being engulfed in squalor.\n",
            "[15:46] 12 long years after Congress declared our goal to be a decent home and a suitable environment for every American family, we still have 25 million Americans living in substandard homes.\n",
            "[15:59] A new housing program under a new housing and Urban Affairs department will be needed this year.\n",
            "[16:06] Our classrooms contain 2 million more children than they can properly have room for.\n",
            "[16:13] Taught by 90,000 teachers not properly qualified to teach.\n",
            "[16:18] One third of our most promising high school graduates are financially unable to continue the development of their talents.\n",
            "[16:26] The war babies of the 1940s who overcrowded our schools in the 1950s are now descending in 1960 upon our colleges with two college students for everyone 10 years from now and our colleges are ill-prepared.\n",
            "[16:42] We lack the scientists, the engineers and the teachers our world obligations require.\n",
            "[16:48] We have neglected oceanography, saline water conversion and the basic research that lies at the root of all progress.\n",
            "[16:57] Federal grants for both higher and public school education can no longer be delayed.\n",
            "[17:10] Medical research has achieved new wonders, but these wonders are too often beyond the reach of too many people owing to a lack of income, particularly among the aged, a lack of hospital beds, a lack of nursing homes and a lack of doctors and dentists.\n",
            "[17:28] Measures to provide healthcare for the aged under social security and to increase the supply of both facilities and personnel must be undertaken this year.\n",
            "[17:44] Our supply of clean water is dwindling.\n",
            "[17:47] Organized and juvenile crime cost the taxpayers millions of dollars every year, making it essential that we have improved enforcement and new legislative safeguards.\n",
            "[17:58] The denial of constitutional rights to some of our fellow Americans on account of race at the ballot box and elsewhere disturbs the national conscience.\n",
            "[18:09] And subjects us to the charge of world opinion that our democracy is not equal to the high promise of our heritage.\n",
            "[18:17] Morality in private business has not been sufficiently spurred by morality in public business.\n",
            "[18:23] A host of problems and projects in all 50 states, though not possible to include in this message, deserves and will receive the attention of both the Congress and the executive branch.\n",
            "[18:35] On most of these matters, messages will be sent to the Congress within the next two weeks.\n",
            "[18:43] But all these problems pale when placed besides those which confront us around the world.\n",
            "[18:50] No man entering upon this office, regardless of his party, regardless of his previous service in Washington, could fail to be staggered upon learning even this in this brief 10-day period, the harsh enormities of the trials through which we must pass in the next four years.\n",
            "[19:13] Each day the crises multiply.\n",
            "[19:15] Each day their solution grows more difficult.\n",
            "[19:19] Each day we draw nearer the hour of maximum danger, as weapons spread and hostile forces grow stronger.\n",
            "[19:27] I feel I must inform the Congress that our analysis over the next last 10 days make it clear that in each of the principal areas of crisis, the tide of events has been running out and time has not been our friend.\n",
            "[19:41] In Asia, the relentless pressures of the Chinese Communist menace the security of the entire area from the borders of India and South Vietnam to the jungles of Laos struggling to protect its newly won independence.\n",
            "[19:57] We seek in Laos what we seek in all Asia and indeed in all of the world, freedom for the people and independence for the government.\n",
            "[20:06] And this nation shall persevere in our pursuit of these objectives.\n",
            "[20:19] In Africa, the Congo has been brutally torn by civil strife, political unrest, and public disorder.\n",
            "[20:27] We shall continue to support the heroic efforts of the United Nations to restore peace and order, efforts which are now endangered by mounting tensions, unsolved problems and decreasing support from many member states.\n",
            "[20:45] In Latin America, communist agents seeking to exploit that region's peaceful revolution of Hope have established a base on Cuba, only 90 miles from our shore.\n",
            "[20:56] Our objection with Cuba is not over the people's drive for a better life.\n",
            "[21:01] Our objection is to their domination by foreign and domestic tyrannies.\n",
            "[21:16] Cuban social and economic reforms should be encouraged.\n",
            "[21:21] Questions of economics and trade policy can always be negotiated, but communist domination in this hemisphere can never be negotiated.\n",
            "[21:35] We are pledged to work with our sister republics to free the Americas of all such foreign domination and all tyranny, working towards the goal of a free hemisphere of free governments, extending from Cape Horn to the Arctic Circle.\n",
            "[21:54] In Europe our alliances are unfelt and in some disarray.\n",
            "[21:59] The unity of NATO has been weakened by economic rivalry and partially eroded by national interests.\n",
            "[22:07] It has not yet fully mobilized its resources nor fully achieved a common outlook.\n",
            "[22:13] Yet no Atlantic power can meet on its own the mutual problems now facing us in defense, foreign aid, monetary reserves, and a host of other areas.\n",
            "[22:24] And our close ties with those whose hopes and interests we share are among this nation's most powerful assets.\n",
            "[22:31] Our greatest challenge is still the world that lies beyond the Cold War.\n",
            "[22:36] But the first great obstacle is still our relations with the Soviet Union and communist China.\n",
            "[22:42] We must never be loud into believing that either power has yielded its ambitions for world domination.\n",
            "[22:49] Ambitions which they forcefully restated only a short time ago.\n",
            "[22:54] On the contrary, our task is to convince them that aggression and subversion will not be profitable routes to pursue these ends.\n",
            "[23:04] Open and peaceful competition for prestige, for markets, for scientific achievement, even for men's minds is something else again.\n",
            "[23:13] For if freedom and communism would compete for man's allegiance in a world at peace, I would look to the future with ever increasing confidence.\n",
            "[23:27] To meet this array of challenges, to fulfill the role we cannot avoid on the world scene, we must reexamine and revise our whole Arsenal of tools.\n",
            "[23:38] One must not overshadow the other.\n",
            "[23:41] On the presidential coat of arms, the American eagle holds in his right talent the olive branch, while in his left he holds a bundle of arrows.\n",
            "[23:51] We intend to give equal attention to both.\n",
            "[24:05] First, we must strengthen our military tools.\n",
            "[24:09] We are moving into a period of uncertain risk and great commitment in which both the military and diplomatic possibilities require a free world force so powerful as to make any aggression clearly futile.\n",
            "[24:24] Yet in the past, lack of a consistent, coherent military strategy, the absence of basic assumptions about our national requirements and the fault estimate and duplication arising from inner service rivalries have all made it difficult to assess accurately how adequate or inadequate our defenses really are.\n",
            "[24:47] I have therefore instructed the Secretary of Defense to reappraise our entire defense strategy.\n",
            "[24:52] Our ability to fulfill our commitments, the effectiveness, vulnerability and dispersal of our strategic bases, forces and warning systems.\n",
            "[25:03] The efficiency and economy of our operation and organization, the elimination of obsolete bases and installations.\n",
            "[25:12] And the adequacy, modernization and mobility of our present conventional and nuclear forces and weapon systems in the light of present and future dangers.\n",
            "[25:23] I have asked for preliminary conclusions by the end of February.\n",
            "[25:27] And I then shall recommend whatever legislative, budgetary or executive action is needed in the light of these conclusions.\n",
            "[25:36] In the meantime, I have asked the Defense Secretary to initiate immediately three steps most clearly needed now.\n",
            "[25:43] First, I have directed prompt attention to increase our airlift capacity.\n",
            "[25:49] Obtaining additional air transport mobility and obtaining it now will better assure the ability of our conventional forces to respond without discrimination and speed, with discrimination and speed to any problem at any spot on the globe at any moment's notice.\n",
            "[26:09] In particular, it will enable us to meet any deliberate effort to avoid or divert our forces by starting limited wars in widely scattered parts of the globe.\n",
            "[26:22] Three, I have directed prompt action to step up our Polaris submarine program.\n",
            "[26:31] Using using unobligated shipbuilding funds now to let contracts originally scheduled for the next fiscal year, we'll build and place on station at least nine months earlier than planned, substantially more units of a crucial deterrent, a fleet that will never attack first.\n",
            "[26:51] But possess sufficient power of retaliation concealed beneath the sea to discourage any aggressor from launching an attack upon our security.\n",
            "[27:05] See, I have directed prompt action to accelerate our entire missile program.\n",
            "[27:12] Until the Secretary of Defense's reappraisal is completed, the emphasis here will be largely on improved organization and decision making.\n",
            "[27:23] On cutting down the wasteful duplications and the time lag that have handicapped our whole family of missiles.\n",
            "[27:31] If we are to keep the peace, we need an invulnerable missile force powerful enough to deter any aggressor from even threatening an attack that he would know could not destroy enough of our own forces to prevent his own destruction.\n",
            "[27:47] For as I said upon taking the oath of office, only when our arms are sufficient beyond doubt, can we be certain beyond doubt that they will never be employed.\n",
            "[28:02] Secondly, we must improve our economic tools.\n",
            "[28:06] Our role is essential and unavoidable in the construction of a sound and expanding economy for the entire non-communist world.\n",
            "[28:16] Helping other nations build the strength to meet their own problems, to satisfy their own aspirations, to surmount their own dangers.\n",
            "[28:25] The problems in achieving this goal are towering and unprecedented.\n",
            "[28:30] The response must be towering and unprecedented as well.\n",
            "[28:34] Much as lend lease and the Marshall Plan were in earlier years, which brought such fruitful results.\n",
            "[28:41] I intend to ask the Congress for authority to establish a new and more effective program for assisting the economic, educational, and social development of other countries and continents.\n",
            "[28:56] That program must stimulate and take more effectively into account the contributions of our allies and provide Central policy direction for all our own programs that now so often overlap, conflict, or diffuse our energies and resources.\n",
            "[29:15] Such a program compared to past programs will require more flexibility for short run emergencies, more commitment to long-term development, new attention to education at all levels.\n",
            "[29:32] Greater emphasis on the recipient nation's role, their effort, their purpose, with greater social justice for their people, a broader distribution and participation by their people and more efficient public administration and more efficient tax systems of their own and orderly planning for national and regional development instead of a peace meal approach.\n",
            "[29:59] I hope the Senate will take early action approving the convention establishing the organization for economic cooperation and development.\n",
            "[30:09] This will be an important instrument in sharing with our allies this development effort, working towards the time when each nation will contribute in proportion to its ability to pay.\n",
            "[30:23] For while we are prepared to assume our full share of these huge burdens, we cannot and must not be expected to bear them alone.\n",
            "[30:39] To our sister republics of the South, we have pledged a new alliance for progress, Alianza para progresso.\n",
            "[30:51] Our goal is a free and prosperous Latin America, realizing for all its states and all its citizens a degree of economic and social progress that matches their historic contributions of culture, intellect and liberty.\n",
            "[31:10] To start this nation's role at this time in that alliance of neighbors, I am recommending the following, that the Congress appropriate in full the $500 million fund pledged by the Act of Bogata.\n",
            "[31:24] To be used not as an instrument of the Cold War, but as a first step in the sound development of the Americas.\n",
            "[31:32] That a new interdepartmental task force be established under the leadership of the Department of State to coordinate at the highest level all policies and programs of concern to the Americas.\n",
            "[31:46] That our delegates to the OAS working with those of other members strengthen that body as an instrument to preserve the peace and to prevent foreign domination anywhere in the hemisphere.\n",
            "[32:00] That in cooperation with other nations, we launch a new hemispheric attack on illiteracy and an adequate educational opportunities at all levels and finally that a food for peace mission be sent immediately to Latin America to explore ways in which our vast food abundance can be used to help hunger and malnutrition in certain areas of suffering in our own hemisphere.\n",
            "[32:30] This administration is expanding its food for peace program in every possible way.\n",
            "[32:35] The product of our abundance must be used more effectively to relieve hunger and help economic growth in all corners of the globe.\n",
            "[32:46] And I have asked the director of this program to recommend additional ways in which these surpluses can advance the interests of World Peace, including the establishment of World Food reserves.\n",
            "[32:59] An even more valuable national asset is our reservoir of dedicated men and women, not only at our college campuses, but in every age group who have indicated their desire to contribute their skills, their efforts and a part of their lives to the fight for world order.\n",
            "[33:16] We can mobilize this talent through the formation of a national peace core, listing the services of all those with desire and capacity to help foreign lands meet their urgent needs for trained personnel.\n",
            "[33:30] Finally, while our attention is centered on the development of the non-communist world, we must never forget our hopes for the ultimate freedom and welfare of the Eastern European people.\n",
            "[33:47] In order to be prepared to help reestablish historic ties of friendship, I am asking the Congress for increased discretion to use economic tools in this area whenever this is found to be clearly in the national interest.\n",
            "[34:05] This will require amendment of the Mutual Defense Assistance Control Act along the lines I proposed as a member of the Senate and upon which the Senate voted last summer.\n",
            "[34:19] Meanwhile, I hope to explore with the Polish government the possibility of using our frozen Polish funds on projects of peace that will demonstrate our abiding friendship and interest in the people of Poland.\n",
            "[34:37] Third, we must sharpen our political and diplomatic tools, the means of cooperation and agreement on which an enforceable world order must ultimately rest.\n",
            "[34:48] I have already taken steps to coordinate and expand our disarmament efforts to increase our programs of research and study and to make arms control a central goal of our national policy under my direction.\n",
            "[35:03] The deadly arms race and the huge resources it absorbs have too long overshadowed all else we must do.\n",
            "[35:11] We must prevent that arms racing from spreading to new nations, to new nuclear power powers and to the outer reaches of space.\n",
            "[35:20] We must make certain that our negotiators are better informed and better prepared to formulate workable proposals of our own and to make sound judgments about the proposals of others.\n",
            "[35:31] I have asked the other governments concerned to agree to a reasonable delay in the talks on a nuclear test ban.\n",
            "[35:38] And it is our intention to resume negotiations prepared to reach a final agreement with any nation that is equally willing to agree to an effective and enforceable treaty.\n",
            "[35:53] We must increase our support of the United Nations as an instrument to end the Cold War instead of an arena in which to fight it.\n",
            "[36:01] In recognition of its increasing importance and the doubling of its membership, we are enlarging and strengthening our own mission to the UN.\n",
            "[36:10] We shall help ensure that it is properly financed.\n",
            "[36:13] We shall work to see that the integrity of the office of the Secretary General is maintained.\n",
            "[36:26] And I would address a special plea to the smaller nations of the world to join with us in strengthening this organization, which is far more essential to their security than it is to ours.\n",
            "[36:38] The only body in the world where no nation need be powerful to be secure, where every nation has an equal voice and where any nation can exert influence not according to the strength of its armies, but according to the strength of its ideas.\n",
            "[36:55] It deserves the support of all.\n",
            "[37:08] Finally, this administration intends to explore promptly all possible areas of cooperation with the Soviet Union and other nations to invoke the wonders of Science instead of its terrors.\n",
            "[37:21] Specifically, I now invite all nations, including the Soviet Union, to join with us in developing a weather prediction program.\n",
            "[37:29] In a new communications satellite program and in preparation for probing the distant planets of Mars and Venus.\n",
            "[37:38] Probes which may someday unlock the deepest secrets of the universe.\n",
            "[37:43] Today this country is ahead in the science and technology of space, while the Soviet Union is ahead in the capacity.\n",
            "[37:59] While the Soviet Union is ahead in the capacity to lift large vehicles into orbit.\n",
            "[38:05] Both nations would help themselves as well as other nations by removing these endeavors from the bitter and wasteful competition of the Cold War.\n",
            "[38:22] The United States would be willing to join with the Soviet Union and the scientists of all nations in a greater effort to make the fruits of this new knowledge available to all.\n",
            "[38:34] And beyond that, in an effort to extend farm technology to hungry nations, to wipe out disease, to increase the exchanges of scientists and knowledge.\n",
            "[38:46] And our make our own laboratories available to technicians of other lands who lack the facilities to pursue their own work.\n",
            "[38:54] Where nature makes natural allies of us all, we can demonstrate that beneficial relations are possible even with those with whom we most deeply disagree.\n",
            "[39:05] And this must someday be the basis of World Peace and World Law.\n",
            "[39:18] I have commented on the state of the domestic economy, our balance of payments, our federal and social budget and the state of the world.\n",
            "[39:27] I would like to conclude with a few remarks about the state of the executive branch.\n",
            "[39:32] We have found it full of honest and useful public servants.\n",
            "[39:36] But their capacity to act decisively at the exact time action is needed has too often been muffled in the morass of committees, timidities and fictitious theories which have created a growing gap between decision and execution between planning and reality.\n",
            "[39:56] In a time of rapidly deteriorating situations at home and abroad, this is bad for the public service and particularly bad for the country and we mean to make a change.\n",
            "[40:13] I have pledged myself and my colleagues in the cabinet to a continuous encouragement of initiative, responsibility, and energy in serving the public interest.\n",
            "[40:26] Let every public servant know, whether his post is high or low, that a man's rank and reputation in this administration will be determined by the size of the job he does and not by the size of his staff, his office or his budget.\n",
            "[40:51] Let it be clear that this administration recognizes the value of descent and daring, that we greet healthy controversy as the hallmark of healthy change.\n",
            "[41:00] Let the public service be a proud and lively career and let every man and woman who works in any area of our national government, in any branch at any level, be able to say with pride and with honor in future years, I serve the United States government in that hour of our nation's need.\n",
            "[41:24] For only with complete dedication by us all to the national interest can we bring our country through the troubled years that lie ahead.\n",
            "[41:32] Our problems are critical.\n",
            "[41:34] The tide is unfavorable.\n",
            "[41:36] The news will be worse before it is better.\n",
            "[41:40] And while hoping and working for the best, we should prepare ourselves now for the worst.\n",
            "[41:45] We cannot escape our dangers.\n",
            "[41:47] Neither must we let them drive us into panic or narrow isolation.\n",
            "[41:53] In many areas of the world where the balance of power already rests with our adversaries, the forces of freedom are sharply divided.\n",
            "[42:02] It is one of the ironies of our time that the techniques of a harsh and repressive system should be able to instill discipline and otter in its servant.\n",
            "[42:16] While the blessings of liberty have too often stood for privilege, materialism and a life of ease, but I have a different view of liberty.\n",
            "[42:31] Life in 1961 will not be easy.\n",
            "[42:34] Wishing it, predicting it, even asking for it, will not make it so.\n",
            "[42:41] There will be further setbacks before the tide is turned, but turn it we must.\n",
            "[42:47] The hopes of all mankind rest upon us.\n",
            "[42:50] Not simply upon those of us in this chamber, but upon the peasant in Laos, the fisherman in Nigeria, the exile from Cuba, the spirit that moves every man in nation who shares our hopes for freedom and the future.\n",
            "[43:09] And in the final analysis, they rest most of all upon the pride and perseverance of our fellow citizens of the Great Republic.\n",
            "[43:20] In the words of a great president whose birthday we honor today, closing his final state of the union message 16 years ago, we pray that we may be worthy of the unlimited opportunities that God has given us.\n",
            "[43:37] Tom: That was John F. Kennedy's first State of the Union Address.\n",
            "[END]\n"
          ]
        }
      ]
    },
    {
      "cell_type": "markdown",
      "source": [
        "## Next Steps\n",
        "\n",
        "Enhance the transcription by adding speaker diarization, summarization, or sentiment analysis. You can also build a simple Streamlit app for interactive playback and transcript search.Try supporting multiple languages or fine-tuning prompts for better formatting and accuracy.\n"
      ],
      "metadata": {
        "id": "YYq-GXRtt6kq"
      }
    }
  ],
  "metadata": {
    "colab": {
      "provenance": [],
      "toc_visible": true
    },
    "kernelspec": {
      "display_name": "Python 3",
      "name": "python3"
    }
  },
  "nbformat": 4,
  "nbformat_minor": 0
}