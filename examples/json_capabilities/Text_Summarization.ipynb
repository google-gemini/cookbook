{
  "cells": [
    {
      "cell_type": "markdown",
      "metadata": {
        "id": "sP8PQnz1QrcF"
      },
      "source": [
        "##### Copyright 2024 Google LLC."
      ]
    },
    {
      "cell_type": "code",
      "execution_count": null,
      "metadata": {
        "cellView": "form",
        "id": "ca23c3f523a7"
      },
      "outputs": [],
      "source": [
        "# @title Licensed under the Apache License, Version 2.0 (the \"License\");\n",
        "# you may not use this file except in compliance with the License.\n",
        "# You may obtain a copy of the License at\n",
        "#\n",
        "# https://www.apache.org/licenses/LICENSE-2.0\n",
        "#\n",
        "# Unless required by applicable law or agreed to in writing, software\n",
        "# distributed under the License is distributed on an \"AS IS\" BASIS,\n",
        "# WITHOUT WARRANTIES OR CONDITIONS OF ANY KIND, either express or implied.\n",
        "# See the License for the specific language governing permissions and\n",
        "# limitations under the License."
      ]
    },
    {
      "cell_type": "markdown",
      "metadata": {
        "id": "bxGr_x3MRA0z"
      },
      "source": [
        "# Gemini API: Text Summarization\n",
        "\n",
        "<table class=\"tfo-notebook-buttons\" align=\"left\">\n",
        "  <td>\n",
        "    <a target=\"_blank\" href=\"https://colab.research.google.com/github/google-gemini/cookbook/blob/main/examples/json_capabilities/Text_Summarization.ipynb\"><img src = \"../../images/colab_logo_32px.png\"/>Run in Google Colab</a>\n",
        "  </td>\n",
        "</table>"
      ]
    },
    {
      "cell_type": "markdown",
      "metadata": {
        "id": "ysy--KfNRrCq"
      },
      "source": [
        "You will use Gemini API's JSON capabilities to extract characters, locations, and summary of the plot from a story."
      ]
    },
    {
      "cell_type": "code",
      "execution_count": 1,
      "metadata": {
        "id": "Ne-3gnXqR0hI",
        "outputId": "fb57d192-3d3a-416c-a68e-e86117e2f543",
        "colab": {
          "base_uri": "https://localhost:8080/"
        }
      },
      "outputs": [
        {
          "output_type": "stream",
          "name": "stdout",
          "text": [
            "\u001b[?25l   \u001b[90m━━━━━━━━━━━━━━━━━━━━━━━━━━━━━━━━━━━━━━━━\u001b[0m \u001b[32m0.0/137.7 kB\u001b[0m \u001b[31m?\u001b[0m eta \u001b[36m-:--:--\u001b[0m\r\u001b[2K   \u001b[91m━━━━━━━━━━━━━━━━━━━━━━━━━━━━━━━━━━━━━━\u001b[0m\u001b[91m╸\u001b[0m\u001b[90m━\u001b[0m \u001b[32m133.1/137.7 kB\u001b[0m \u001b[31m5.5 MB/s\u001b[0m eta \u001b[36m0:00:01\u001b[0m\r\u001b[2K   \u001b[90m━━━━━━━━━━━━━━━━━━━━━━━━━━━━━━━━━━━━━━━━\u001b[0m \u001b[32m137.7/137.7 kB\u001b[0m \u001b[31m3.1 MB/s\u001b[0m eta \u001b[36m0:00:00\u001b[0m\n",
            "\u001b[?25h"
          ]
        }
      ],
      "source": [
        "%pip install -U -q \"google-genai>=1.0.0\""
      ]
    },
    {
      "cell_type": "markdown",
      "metadata": {
        "id": "eomJzCa6lb90"
      },
      "source": [
        "## Configure your API key\n",
        "\n",
        "To run the following cell, your API key must be stored it in a Colab Secret named `GOOGLE_API_KEY`. If you don't already have an API key, or you're not sure how to create a Colab Secret, see [Authentication](https://github.com/google-gemini/cookbook/blob/main/quickstarts/Authentication.ipynb) for an example."
      ]
    },
    {
      "cell_type": "code",
      "execution_count": 3,
      "metadata": {
        "id": "v-JZzORUpVR2"
      },
      "outputs": [],
      "source": [
        "from google.colab import userdata\n",
        "from google import genai\n",
        "GOOGLE_API_KEY=userdata.get('GOOGLE_API_KEY')\n",
        "\n",
        "client=genai.Client(api_key=GOOGLE_API_KEY)"
      ]
    },
    {
      "cell_type": "markdown",
      "metadata": {
        "id": "kNE5XslpPpT0"
      },
      "source": [
        "## Example"
      ]
    },
    {
      "cell_type": "code",
      "execution_count": 6,
      "metadata": {
        "id": "8V5lHRmkNejR",
        "outputId": "6776f9b4-5627-42d0-aa23-85ef2ec47eed",
        "colab": {
          "base_uri": "https://localhost:8080/",
          "height": 691
        }
      },
      "outputs": [
        {
          "output_type": "execute_result",
          "data": {
            "text/plain": [
              "<IPython.core.display.Markdown object>"
            ],
            "text/markdown": "The biting wind whipped through the skeletal branches of the petrified trees, clawing at Elara’s cloak as she navigated the treacherous path leading to Whisperwind Peak. A dusting of crystalline snow shimmered on the jagged rocks, reflecting the pale light of the twin moons that hung like watchful eyes in the inky sky. Her breath plumed in frosty puffs, a stark reminder of the chilling magic that clung to this forsaken place. Elara, a sorceress known for her mastery of wind and ice, had braved the perilous journey from the sun-drenched valleys of Eldoria for a reason – a desperate plea for help.\n\nThe plague, known as the Shadow Rot, had begun its insidious creep across Eldoria, leaving swathes of wilting fields and despairing faces in its wake. Crops withered at a touch, livestock succumbed to a blackening sickness, and even the most vibrant flowers drooped and died, their colors leaching into a morbid grey. The only hope, whispered among the frightened villagers, lay in the ancient wisdom hidden atop Whisperwind Peak, within the crumbling monastery that housed the reclusive Order of the Silent Gale.\n\nElara clutched the worn leather pouch containing the Elder's request. Inside were rare herbs from the Eldoria gardens, untouched by the plague, to be presented to the Order. If anyone could decipher the origin of the Shadow Rot and find a way to combat it, it was the monks of Whisperwind Peak. They were said to be attuned to the very breath of the mountains, able to hear the secrets whispered by the wind and understand the language of the earth.\n\nHours later, her legs burning with exhaustion, Elara finally reached the foot of the peak. The monastery loomed above her, a stark silhouette against the moonlit sky. Constructed from dark, volcanic stone, it seemed to have grown organically from the mountain itself, its towers and spires piercing the heavens like frozen stalactites. A single, flickering lantern burned dimly within the main tower, a beacon of hope in the desolate landscape.\n\nSummoning her remaining strength, Elara began the arduous climb up the winding staircase carved into the mountainside. The wind howled around her, a chorus of mournful whispers that seemed to mock her desperate quest. Loose rocks crumbled beneath her worn boots, threatening to send her tumbling into the icy abyss below.\n\nAs she reached the heavy oak doors of the monastery, adorned with intricate carvings of wind deities and swirling patterns, she hesitated. Taking a deep breath, she grasped the cold iron knocker and struck it three times. The sound echoed through the silent courtyard, reverberating against the ancient stone walls.\n\nAfter what seemed like an eternity, the doors creaked open, revealing a tall, gaunt figure cloaked in deep indigo. His face was obscured by a deep cowl, but his eyes, a startling shade of glacial blue, pierced through the shadows, locking onto Elara with unnerving intensity. \"You seek audience with Master Kaelen?\" His voice was low and resonant, like the rumble of distant thunder.\n\n\"I do,\" Elara replied, her voice trembling slightly. \"I come from Eldoria, with a plea for help.\" She held out the pouch containing the herbs. \"My people are suffering from the Shadow Rot, and we believe the Order of the Silent Gale holds the key to our salvation.\"\n\nThe monk, whom Elara knew to be Brother Silas, stepped aside, gesturing for her to enter. \"Master Kaelen awaits you.\"\n\nFollowing Brother Silas into the dimly lit halls of the monastery, Elara felt a strange sense of peace settle over her. The wind, which had been so fierce outside, seemed to die down within these ancient walls, replaced by a profound silence. The silence of centuries, of knowledge accumulated and carefully guarded. Perhaps, just perhaps, hope could be found within these stone walls. Eldoria and its people desperately needed it.\n"
          },
          "metadata": {},
          "execution_count": 6
        }
      ],
      "source": [
        "from IPython.display import Markdown\n",
        "\n",
        "model_name = \"gemini-2.0-flash\" # @param [\"gemini-1.5-flash-latest\",\"gemini-2.0-flash-lite\",\"gemini-2.0-flash\",\"gemini-2.0-pro-exp-02-05\"] {\"allow-input\":true}\n",
        "prompt = \"Generate a 10 paragraph fantasy story. Include at least 2 named characters and 2 named locations. Give as much detail in the story as possible.\"\n",
        "response = client.models.generate_content(\n",
        "    contents=prompt,\n",
        "    model=model_name\n",
        "    )\n",
        "story = response.text\n",
        "Markdown(story)"
      ]
    },
    {
      "cell_type": "code",
      "execution_count": 9,
      "metadata": {
        "id": "sShzxm3JNm6M"
      },
      "outputs": [],
      "source": [
        "from typing_extensions import TypedDict # in python 3.12 replace typing_extensions with typing\n",
        "class Character(TypedDict):\n",
        "  name: str\n",
        "  description: str\n",
        "  alignment: str\n",
        "\n",
        "class Location(TypedDict):\n",
        "  name: str\n",
        "  description: str\n",
        "\n",
        "class TextSummary(TypedDict):\n",
        "  synopsis: str\n",
        "  genres: list[str]\n",
        "  locations: list[Location]\n",
        "  characters: list[Character]"
      ]
    },
    {
      "cell_type": "code",
      "execution_count": 14,
      "metadata": {
        "id": "QGdJnd0AOKbu",
        "outputId": "e1c2cd91-fe1d-4f75-ccb1-027b0f05d53c",
        "colab": {
          "base_uri": "https://localhost:8080/"
        }
      },
      "outputs": [
        {
          "output_type": "stream",
          "name": "stdout",
          "text": [
            "CPU times: user 37 ms, sys: 2.1 ms, total: 39.1 ms\n",
            "Wall time: 3.47 s\n"
          ]
        }
      ],
      "source": [
        "%%time\n",
        "prompt = f\"\"\"\n",
        "Generate summary of the story. With a list of genres locations and characters.\n",
        "\n",
        "{story}\n",
        "\n",
        "\"\"\"\n",
        "response = client.models.generate_content(\n",
        "                                          model=model_name,\n",
        "                                          contents=prompt,\n",
        "                                          config={\n",
        "                                              \"response_mime_type\": \"application/json\",\n",
        "                                              \"response_schema\": TextSummary\n",
        "                                              }\n",
        "                                          )"
      ]
    },
    {
      "cell_type": "code",
      "execution_count": 15,
      "metadata": {
        "id": "d5tOgde6ONo3",
        "outputId": "10ff6885-0e9f-435f-db42-259198cc3832",
        "colab": {
          "base_uri": "https://localhost:8080/"
        }
      },
      "outputs": [
        {
          "output_type": "stream",
          "name": "stdout",
          "text": [
            "{\n",
            "    \"synopsis\": \"Elara, a sorceress from Eldoria, journeys to the remote monastery of Whisperwind Peak to seek help from the Order of the Silent Gale. A deadly plague, the Shadow Rot, is devastating Eldoria, and the monks are rumored to hold the key to stopping it. She hopes Master Kaelen can find a cure.\",\n",
            "    \"genres\": [\n",
            "        \"Fantasy\",\n",
            "        \"Adventure\",\n",
            "        \"Mystery\"\n",
            "    ],\n",
            "    \"locations\": [\n",
            "        {\n",
            "            \"name\": \"Eldoria\",\n",
            "            \"description\": \"Sun-drenched valleys plagued by the Shadow Rot.\"\n",
            "        },\n",
            "        {\n",
            "            \"name\": \"Whisperwind Peak\",\n",
            "            \"description\": \"A treacherous, icy mountain peak where the Order of the Silent Gale's monastery is located.\"\n",
            "        },\n",
            "        {\n",
            "            \"name\": \"Monastery of the Silent Gale\",\n",
            "            \"description\": \"An ancient, stone structure on Whisperwind Peak, home to reclusive monks.\"\n",
            "        }\n",
            "    ],\n",
            "    \"characters\": [\n",
            "        {\n",
            "            \"name\": \"Elara\",\n",
            "            \"description\": \"A sorceress known for her mastery of wind and ice, seeking a cure for the Shadow Rot.\",\n",
            "            \"alignment\": \"Good\"\n",
            "        },\n",
            "        {\n",
            "            \"name\": \"Master Kaelen\",\n",
            "            \"description\": \"The leader of the Order of the Silent Gale, known for his wisdom and attunement to the mountains.\",\n",
            "            \"alignment\": \"Neutral\"\n",
            "        },\n",
            "        {\n",
            "            \"name\": \"Brother Silas\",\n",
            "            \"description\": \"A tall, gaunt monk of the Order of the Silent Gale.\",\n",
            "            \"alignment\": \"Neutral\"\n",
            "        }\n",
            "    ]\n",
            "}\n"
          ]
        }
      ],
      "source": [
        "import json\n",
        "print(json.dumps(json.loads(response.text), indent=4))"
      ]
    },
    {
      "cell_type": "markdown",
      "metadata": {
        "id": "FhFfzDMk36aI"
      },
      "source": [
        "## Summary\n",
        "In this example, you used Gemini API to extract various information from the story. In this case, you could have done it without the help of the model in no time, but imagine how much time it would save if the text would be 10 times as long or even longer.\n",
        "\n",
        "Please see the other notebooks [in this directory](https://github.com/google-gemini/cookbook/tree/main/examples) to learn more about how you can use the Gemini API for other JSON related tasks."
      ]
    }
  ],
  "metadata": {
    "colab": {
      "name": "Text_Summarization.ipynb",
      "provenance": []
    },
    "kernelspec": {
      "display_name": "Python 3",
      "name": "python3"
    }
  },
  "nbformat": 4,
  "nbformat_minor": 0
}