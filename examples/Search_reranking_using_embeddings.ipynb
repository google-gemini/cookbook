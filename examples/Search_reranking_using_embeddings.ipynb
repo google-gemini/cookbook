{
  "cells": [
    {
      "cell_type": "markdown",
      "metadata": {
        "id": "Tce3stUlHN0L"
      },
      "source": [
        "##### Copyright 2025 Google LLC."
      ]
    },
    {
      "cell_type": "code",
      "execution_count": null,
      "metadata": {
        "cellView": "form",
        "id": "tuOe1ymfHZPu"
      },
      "outputs": [],
      "source": [
        "# @title Licensed under the Apache License, Version 2.0 (the \"License\");\n",
        "# you may not use this file except in compliance with the License.\n",
        "# You may obtain a copy of the License at\n",
        "#\n",
        "# https://www.apache.org/licenses/LICENSE-2.0\n",
        "#\n",
        "# Unless required by applicable law or agreed to in writing, software\n",
        "# distributed under the License is distributed on an \"AS IS\" BASIS,\n",
        "# WITHOUT WARRANTIES OR CONDITIONS OF ANY KIND, either express or implied.\n",
        "# See the License for the specific language governing permissions and\n",
        "# limitations under the License."
      ]
    },
    {
      "cell_type": "markdown",
      "metadata": {
        "id": "oJt4OFKPgO8C"
      },
      "source": [
        "# Search re-ranking using Gemini embeddings"
      ]
    },
    {
      "cell_type": "markdown",
      "metadata": {
        "id": "k5n0sCc_fKcB"
      },
      "source": [
        "<a target=\"_blank\" href=\"https://colab.research.google.com/github/google-gemini/cookbook/blob/main/examples/Search_reranking_using_embeddings.ipynb\"><img src=\"https://colab.research.google.com/assets/colab-badge.svg\" height=30/></a>"
      ]
    },
    {
      "cell_type": "markdown",
      "metadata": {
        "id": "0UO0Cgq0mRlG"
      },
      "source": [
        "This notebook demonstrates the use of embeddings to re-rank search results. This walkthrough will focus on the following objectives:\n",
        "\n",
        "\n",
        "\n",
        "1.   Setting up your development environment and API access to use Gemini.\n",
        "2.   Using Gemini's function calling support to access the Wikipedia API.\n",
        "3.   Embedding content via Gemini API.\n",
        "4.   Re-ranking the search results.\n"
      ]
    },
    {
      "cell_type": "markdown",
      "metadata": {
        "id": "-e5Aje-DTQOq"
      },
      "source": [
        "This is how you will implement search re-ranking:\n",
        "\n",
        "\n",
        "1.   The user will make a search query.\n",
        "2.   You will use Wikipedia API to return the relevant search results.\n",
        "3.   The search results will be embedded and their relevance will be evaluated by calculating distance metrics like cosine similarity.\n",
        "4.   The most relevant search result will be returned as the final answer."
      ]
    },
    {
      "cell_type": "markdown",
      "metadata": {
        "id": "rpVL_QrF5-oF"
      },
      "source": [
        "> The non-source code materials in this notebook are licensed under Creative Commons - Attribution-ShareAlike CC-BY-SA 4.0, https://creativecommons.org/licenses/by-sa/4.0/legalcode."
      ]
    },
    {
      "cell_type": "markdown",
      "metadata": {
        "id": "pwImlRg9DUp7"
      },
      "source": [
        "## Setup\n"
      ]
    },
    {
      "cell_type": "code",
      "execution_count": null,
      "metadata": {
        "id": "Nv_6f_qNHe_2"
      },
      "outputs": [],
      "source": [
        "%pip install -q -U \"google-genai>=1.0.0\""
      ]
    },
    {
      "cell_type": "code",
      "execution_count": null,
      "metadata": {
        "id": "5999faf240a4",
        "colab": {
          "base_uri": "https://localhost:8080/"
        },
        "outputId": "50e5bc15-0ede-4eee-e874-dd9b5c26b075"
      },
      "outputs": [
        {
          "output_type": "stream",
          "name": "stdout",
          "text": [
            "  Preparing metadata (setup.py) ... \u001b[?25l\u001b[?25hdone\n",
            "  Building wheel for wikipedia (setup.py) ... \u001b[?25l\u001b[?25hdone\n"
          ]
        }
      ],
      "source": [
        "%pip install -q wikipedia"
      ]
    },
    {
      "cell_type": "markdown",
      "metadata": {
        "id": "739f0bb73f05"
      },
      "source": [
        "Note: The [`wikipedia` package](https://pypi.org/project/wikipedia/) notes that it was \"designed for ease of use and simplicity, not for advanced use\", and that production or heavy use should instead \"use [Pywikipediabot](http://www.mediawiki.org/wiki/Manual:Pywikipediabot) or one of the other more advanced [Python MediaWiki API wrappers](http://en.wikipedia.org/wiki/Wikipedia:Creating_a_bot#Python)\"."
      ]
    },
    {
      "cell_type": "code",
      "execution_count": null,
      "metadata": {
        "id": "D0qOtLI3FVid"
      },
      "outputs": [],
      "source": [
        "import json\n",
        "import textwrap\n",
        "\n",
        "from google import genai\n",
        "from google.genai import types\n",
        "\n",
        "import wikipedia\n",
        "from wikipedia.exceptions import DisambiguationError, PageError\n",
        "\n",
        "import numpy as np\n",
        "\n",
        "from IPython.display import Markdown\n",
        "\n",
        "def to_markdown(text):\n",
        "  text = text.replace('•', '  *')\n",
        "  return Markdown(textwrap.indent(text, '> ', predicate=lambda _: True))"
      ]
    },
    {
      "cell_type": "markdown",
      "metadata": {
        "id": "aeo_9J9iDtCx"
      },
      "source": [
        "To run the following cell, your API key must be stored it in a Colab Secret named `GOOGLE_API_KEY`. If you don't already have an API key, or you're not sure how to create a Colab Secret, see the [Authentication](https://github.com/google-gemini/cookbook/blob/main/quickstarts/Authentication.ipynb) quickstart for an example."
      ]
    },
    {
      "cell_type": "code",
      "execution_count": null,
      "metadata": {
        "id": "yxzEH0GqLshI"
      },
      "outputs": [],
      "source": [
        "from google.colab import userdata\n",
        "GOOGLE_API_KEY=userdata.get('GOOGLE_API_KEY')\n",
        "\n",
        "# Initialize the client with your API key\n",
        "client = genai.Client(api_key=GOOGLE_API_KEY)"
      ]
    },
    {
      "cell_type": "markdown",
      "metadata": {
        "id": "7HjN6hsAJkOq"
      },
      "source": [
        "As stated earlier, this tutorial uses Gemini's function calling support to access the Wikipedia API. Please refer to the [docs](https://ai.google.dev/docs/function_calling) to learn more about function calling."
      ]
    },
    {
      "cell_type": "markdown",
      "metadata": {
        "id": "fpFkazXUenkK"
      },
      "source": [
        "### Define the search function"
      ]
    },
    {
      "cell_type": "markdown",
      "metadata": {
        "id": "2fp-m-5Ke0XY"
      },
      "source": [
        "To cater to the search engine needs, you will design this function in the following way:\n",
        "\n",
        "\n",
        "*   For each search query, the search engine will use the `wikipedia.search` method to get relevant topics.\n",
        "*   From the relevant topics, the engine will choose `n_topics(int)` top candidates and will use `gemini-2.0-flash` to extract relevant information from the page.\n",
        "*   The engine will avoid duplicate entries by maintaining a search history.\n"
      ]
    },
    {
      "cell_type": "code",
      "execution_count": null,
      "metadata": {
        "id": "2U27tdP8OBys"
      },
      "outputs": [],
      "source": [
        "def wikipedia_search(search_queries: list[str]) -> list[str]:\n",
        "  \"\"\"Search wikipedia for each query and summarize relevant docs.\"\"\"\n",
        "  n_topics=3\n",
        "  search_history = set() # tracking search history\n",
        "  search_urls = []\n",
        "  summary_results = []\n",
        "\n",
        "  for query in search_queries:\n",
        "    print(f'Searching for \"{query}\"')\n",
        "    search_terms = wikipedia.search(query)\n",
        "\n",
        "    print(f\"Related search terms: {search_terms[:n_topics]}\")\n",
        "    for search_term in search_terms[:n_topics]: # select first `n_topics` candidates\n",
        "      if search_term in search_history: # check if the topic is already covered\n",
        "        continue\n",
        "\n",
        "      print(f'Fetching page: \"{search_term}\"')\n",
        "      search_history.add(search_term) # add to search history\n",
        "\n",
        "      try:\n",
        "        # extract the relevant data using the client with gemini-2.0-flash model\n",
        "        page = wikipedia.page(search_term, auto_suggest=False)\n",
        "        url = page.url\n",
        "        print(f\"Information Source: {url}\")\n",
        "        search_urls.append(url)\n",
        "        page = page.content\n",
        "\n",
        "        # Using the client to generate content with the new SDK\n",
        "        response = client.models.generate_content(\n",
        "            model='gemini-2.0-flash',\n",
        "            contents=textwrap.dedent(f\"\"\"\\\n",
        "                Extract relevant information\n",
        "                about user's query: {query}\n",
        "                From this source:\n",
        "\n",
        "                {page}\n",
        "\n",
        "                Note: Do not summarize. Only Extract and return the relevant information\n",
        "            \"\"\")\n",
        "        )\n",
        "\n",
        "        urls = [url]\n",
        "        # In the new SDK, citation metadata handling has changed\n",
        "        # Check if response has citation metadata and handle it properly\n",
        "        try:\n",
        "          if response.candidates and response.candidates[0].citation_metadata:\n",
        "            # In the new SDK, citation sources may be accessed differently\n",
        "            # Check the structure of the citation_metadata\n",
        "            if hasattr(response.candidates[0].citation_metadata, 'citation_sources'):\n",
        "              extra_citations = response.candidates[0].citation_metadata.citation_sources\n",
        "              extra_urls = [source.url for source in extra_citations]\n",
        "              urls.extend(extra_urls)\n",
        "              search_urls.extend(extra_urls)\n",
        "              print(\"Additional citations:\", response.candidates[0].citation_metadata.citation_sources)\n",
        "        except AttributeError as e:\n",
        "          print(f\"Error processing citation metadata: {str(e)}\")\n",
        "          # Continue processing without citations\n",
        "          pass\n",
        "\n",
        "        try:\n",
        "          text = response.text\n",
        "        except (ValueError, AttributeError) as e:\n",
        "          print(f\"Error processing response text: {str(e)}\")\n",
        "          pass\n",
        "        else:\n",
        "          summary_results.append(text + \"\\n\\nBased on:\\n  \" + ',\\n  '.join(urls))\n",
        "\n",
        "      except DisambiguationError:\n",
        "        print(f\"\"\"Results when searching for \"{search_term}\" (originally for \"{query}\")\n",
        "        were ambiguous, hence skipping\"\"\")\n",
        "        continue\n",
        "\n",
        "      except PageError:\n",
        "        print(f'{search_term} did not match with any page id, hence skipping.')\n",
        "        continue\n",
        "\n",
        "      except Exception as e:\n",
        "        print(f'Error processing {search_term}: {str(e)}')\n",
        "        continue\n",
        "\n",
        "  print(f\"Information Sources:\")\n",
        "  for url in search_urls:\n",
        "    print('    ', url)\n",
        "\n",
        "  return summary_results\n",
        "\n"
      ]
    },
    {
      "cell_type": "code",
      "execution_count": null,
      "metadata": {
        "id": "EWKkkKDXmzOX",
        "colab": {
          "base_uri": "https://localhost:8080/"
        },
        "outputId": "3a38c29d-285c-44cc-923e-47c86cb05309"
      },
      "outputs": [
        {
          "output_type": "stream",
          "name": "stdout",
          "text": [
            "Searching for \"What are LLMs?\"\n",
            "Related search terms: ['Large language model', 'Retrieval-augmented generation', 'DeepSeek']\n",
            "Fetching page: \"Large language model\"\n",
            "Information Source: https://en.wikipedia.org/wiki/Large_language_model\n",
            "Fetching page: \"Retrieval-augmented generation\"\n",
            "Information Source: https://en.wikipedia.org/wiki/Retrieval-augmented_generation\n",
            "Fetching page: \"DeepSeek\"\n",
            "Information Source: https://en.wikipedia.org/wiki/DeepSeek\n",
            "Information Sources:\n",
            "     https://en.wikipedia.org/wiki/Large_language_model\n",
            "     https://en.wikipedia.org/wiki/Retrieval-augmented_generation\n",
            "     https://en.wikipedia.org/wiki/DeepSeek\n"
          ]
        }
      ],
      "source": [
        "example = wikipedia_search([\"What are LLMs?\"])"
      ]
    },
    {
      "cell_type": "markdown",
      "metadata": {
        "id": "8bPT114QEPgW"
      },
      "source": [
        "Here is what the search results look like:"
      ]
    },
    {
      "cell_type": "code",
      "execution_count": null,
      "metadata": {
        "id": "8wy7YUFqEYTv",
        "colab": {
          "base_uri": "https://localhost:8080/",
          "height": 525
        },
        "outputId": "ed543bae-9c46-4893-8785-fff7a01e54cd"
      },
      "outputs": [
        {
          "output_type": "display_data",
          "data": {
            "text/plain": [
              "<IPython.core.display.Markdown object>"
            ],
            "text/markdown": "> *   **Definition:** A large language model (LLM) is a type of machine learning model designed for natural language processing tasks such as language generation. They are language models with many parameters, and are trained with self-supervised learning on a vast amount of text.\n> *   **Types:** The largest and most capable LLMs are generative pretrained transformers (GPTs).\n> *   **Capabilities:** They can be fine-tuned for specific tasks or guided by prompt engineering. These models acquire predictive power regarding syntax, semantics, and ontologies inherent in human language corpora, but they also inherit inaccuracies and biases present in the data they are trained in.\n> *   **Training:** LLMs are trained on a vast amount of text using self-supervised learning.\n> \n> \n> Based on:\n>   https://en.wikipedia.org/wiki/Large_language_model"
          },
          "metadata": {}
        },
        {
          "output_type": "display_data",
          "data": {
            "text/plain": [
              "<IPython.core.display.Markdown object>"
            ],
            "text/markdown": "> *   **Definition:** LLMs (Large Language Models) are generative artificial intelligence models that can be modified using Retrieval-Augmented Generation (RAG) to respond to user queries with reference to a specified set of documents.\n> *   **Traditional LLMs vs. RAG-enhanced LLMs:** Traditional LLMs rely on static training data. RAG improves LLMs by incorporating information retrieval before generating responses, pulling relevant text from databases, uploaded documents, or web sources.\n> *   **RAG Benefit:** RAG enables LLMs to retrieve and incorporate additional information before generating responses. Unlike LLMs that rely solely on pre-existing training data, RAG integrates newly available data at query time.\n> *   **Limitation:** LLMs aren't humans, their training data can age quickly. LLMs often can’t distinguish specific sources of its knowledge, as all its training data is blended together.\n> *   **RAG and LLM Limitations** While RAG improves the accuracy of large language models (LLMs), it does not eliminate all challenges. One limitation is that while RAG reduces the need for frequent model retraining, it does not remove it entirely. Additionally, LLMs may struggle to recognize when they lack sufficient information to provide a reliable response.\n> * **Hallucinations:** RAG is not a complete solution to the problem of hallucinations in LLMs.\n> \n> \n> Based on:\n>   https://en.wikipedia.org/wiki/Retrieval-augmented_generation"
          },
          "metadata": {}
        },
        {
          "output_type": "display_data",
          "data": {
            "text/plain": [
              "<IPython.core.display.Markdown object>"
            ],
            "text/markdown": "> LLMs (Large Language Models) are artificial intelligence models that DeepSeek develops. DeepSeek-R1 provides responses comparable to other LLMs, such as OpenAI's GPT-4o and o1. DeepSeek's models are described as \"open weight,\" meaning the exact parameters are openly shared, although certain usage conditions differ from typical open-source software.\n> \n> \n> Based on:\n>   https://en.wikipedia.org/wiki/DeepSeek"
          },
          "metadata": {}
        }
      ],
      "source": [
        "from IPython.display import display\n",
        "\n",
        "for e in example:\n",
        "  display(to_markdown(e))"
      ]
    },
    {
      "cell_type": "markdown",
      "metadata": {
        "id": "SKcH1LICeg5Z"
      },
      "source": [
        "### Pass the tools to the model"
      ]
    },
    {
      "cell_type": "markdown",
      "metadata": {
        "id": "qQcxR7cjLjGM"
      },
      "source": [
        "In the new Google GenAI SDK v1.0.0+, function calling is handled by registering your tools with the client and then providing them when sending messages. The client will handle the extraction of schema from function signatures, and the model may return a function call object when it wants to call the function.\n",
        "\n",
        "The functions need to have proper type annotations for parameters and return values to work correctly."
      ]
    },
    {
      "cell_type": "markdown",
      "metadata": {
        "id": "VedPbpzlh6jX"
      },
      "source": [
        "## Generate supporting search queries"
      ]
    },
    {
      "cell_type": "markdown",
      "metadata": {
        "id": "5sLKZik7isBW"
      },
      "source": [
        "In order to have multiple supporting search queries to the user's original query, you will ask the model to generate more such queries. This would help the engine to cover the asked question on comprehensive levels."
      ]
    },
    {
      "cell_type": "code",
      "execution_count": null,
      "metadata": {
        "id": "Z-Ym3H9KIosY"
      },
      "outputs": [],
      "source": [
        "instructions = \"\"\"You have access to the Wikipedia API which you will be using\n",
        "to answer a user's query. Your job is to generate a list of search queries which\n",
        "might answer a user's question. Be creative by using various key-phrases from\n",
        "the user's query. To generate variety of queries, ask questions which are\n",
        "related to  the user's query that might help to find the answer. The more\n",
        "queries you generate the better are the odds of you finding the correct answer.\n",
        "Here is an example:\n",
        "\n",
        "user: Tell me about Cricket World cup 2023 winners.\n",
        "\n",
        "function_call: wikipedia_search(['What is the name of the team that\n",
        "won the Cricket World Cup 2023?', 'Who was the captain of the Cricket World Cup\n",
        "2023 winning team?', 'Which country hosted the Cricket World Cup 2023?', 'What\n",
        "was the venue of the Cricket World Cup 2023 final match?', 'Cricket World cup 2023',\n",
        "'Who lifted the Cricket World Cup 2023 trophy?'])\n",
        "\n",
        "The search function will return a list of article summaries, use these to\n",
        "answer the  user's question.\n",
        "\n",
        "Here is the user's query: {query}\n",
        "\"\"\""
      ]
    },
    {
      "cell_type": "markdown",
      "metadata": {
        "id": "3Wyn3lV-d5S_"
      },
      "source": [
        "In order to yield creative and a more random variety of questions, you will set the model's temperature parameter to a value higher. Values can range from [0.0,1.0], inclusive. A value closer to 1.0 will produce responses that are more varied and creative, while a value closer to 0.0 will typically result in more straightforward responses from the model."
      ]
    },
    {
      "cell_type": "markdown",
      "metadata": {
        "id": "TD1vU6FXhYO5"
      },
      "source": [
        "## Enable automatic function calling and call the API"
      ]
    },
    {
      "cell_type": "markdown",
      "metadata": {
        "id": "qyUSnXJ5hg6x"
      },
      "source": [
        "With the new Gen AI SDK, you no longer need to pass `enable_automatic_function_calling=True`. As soon as you attach your function in `tools` on the `GenerateContentConfig`, calling `chat.send_message(...)` will:\n",
        "\n",
        "1. Invoke your `wikipedia_search` function under the hood\n",
        "2. Inject its output back into the model\n",
        "3. Return the final assistant reply—all in one step, without any extra boilerplate."
      ]
    },
    {
      "cell_type": "code",
      "execution_count": null,
      "metadata": {
        "id": "ZNJqA60yKNpT",
        "colab": {
          "base_uri": "https://localhost:8080/"
        },
        "outputId": "28a13095-44a2-47da-f721-cdb0e3ca0969"
      },
      "outputs": [
        {
          "output_type": "stream",
          "name": "stdout",
          "text": [
            "Searching for \"deep-sea life adaptations\"\n",
            "Related search terms: ['Deep sea', 'Deep-sea fish', 'Deep-sea gigantism']\n",
            "Fetching page: \"Deep sea\"\n",
            "Information Source: https://en.wikipedia.org/wiki/Deep_sea\n",
            "Fetching page: \"Deep-sea fish\"\n",
            "Information Source: https://en.wikipedia.org/wiki/Deep-sea_fish\n",
            "Fetching page: \"Deep-sea gigantism\"\n",
            "Information Source: https://en.wikipedia.org/wiki/Deep-sea_gigantism\n",
            "Searching for \"deep-sea ecosystems\"\n",
            "Related search terms: ['Deep-sea community', 'Deep-sea gigantism', 'Deep sea mining']\n",
            "Fetching page: \"Deep-sea community\"\n",
            "Information Source: https://en.wikipedia.org/wiki/Deep-sea_community\n",
            "Fetching page: \"Deep sea mining\"\n",
            "Information Source: https://en.wikipedia.org/wiki/Deep_sea_mining\n",
            "Searching for \"hydrothermal vent life\"\n",
            "Related search terms: ['Hydrothermal vent', 'Hydrothermal vent microbial communities', 'Endeavour Hydrothermal Vents']\n",
            "Fetching page: \"Hydrothermal vent\"\n",
            "Information Source: https://en.wikipedia.org/wiki/Hydrothermal_vent\n",
            "Fetching page: \"Hydrothermal vent microbial communities\"\n",
            "Information Source: https://en.wikipedia.org/wiki/Hydrothermal_vent_microbial_communities\n",
            "Fetching page: \"Endeavour Hydrothermal Vents\"\n",
            "Information Source: https://en.wikipedia.org/wiki/Endeavour_Hydrothermal_Vents\n",
            "Searching for \"deep-sea chemosynthesis\"\n",
            "Related search terms: ['Deep-sea community', 'Deep sea', 'Hydrothermal vent']\n",
            "Searching for \"how deep-sea creatures get energy\"\n",
            "Related search terms: ['Silurian and Sea Devil', 'Seabed', 'Sea']\n",
            "Fetching page: \"Silurian and Sea Devil\"\n",
            "Information Source: https://en.wikipedia.org/wiki/Silurian_and_Sea_Devil\n",
            "Fetching page: \"Seabed\"\n",
            "Information Source: https://en.wikipedia.org/wiki/Seabed\n",
            "Fetching page: \"Sea\"\n",
            "Information Source: https://en.wikipedia.org/wiki/Sea\n",
            "Searching for \"deep-sea food web\"\n",
            "Related search terms: ['Deep-sea community', 'Deep sea mining', 'Chondrocladia concrescens']\n",
            "Fetching page: \"Chondrocladia concrescens\"\n",
            "Information Source: https://en.wikipedia.org/wiki/Chondrocladia_concrescens\n",
            "Searching for \"challenges of deep-sea life\"\n",
            "Related search terms: ['Deepsea Challenger', 'Deep-sea community', 'Deep sea']\n",
            "Fetching page: \"Deepsea Challenger\"\n",
            "Information Source: https://en.wikipedia.org/wiki/Deepsea_Challenger\n",
            "Searching for \"pressure in the deep sea\"\n",
            "Related search terms: ['Deep sea', 'Deep-sea gigantism', 'Deep-sea community']\n",
            "Searching for \"temperature in the deep sea\"\n",
            "Related search terms: ['Deep-sea gigantism', 'Deep sea', 'Sea surface temperature']\n",
            "Fetching page: \"Sea surface temperature\"\n",
            "Information Source: https://en.wikipedia.org/wiki/Sea_surface_temperature\n",
            "Error processing Sea surface temperature: 429 RESOURCE_EXHAUSTED. {'error': {'code': 429, 'message': 'You exceeded your current quota, please check your plan and billing details. For more information on this error, head to: https://ai.google.dev/gemini-api/docs/rate-limits.', 'status': 'RESOURCE_EXHAUSTED', 'details': [{'@type': 'type.googleapis.com/google.rpc.QuotaFailure', 'violations': [{'quotaMetric': 'generativelanguage.googleapis.com/generate_content_free_tier_requests', 'quotaId': 'GenerateRequestsPerMinutePerProjectPerModel-FreeTier', 'quotaDimensions': {'location': 'global', 'model': 'gemini-2.0-flash'}, 'quotaValue': '15'}]}, {'@type': 'type.googleapis.com/google.rpc.Help', 'links': [{'description': 'Learn more about Gemini API quotas', 'url': 'https://ai.google.dev/gemini-api/docs/rate-limits'}]}, {'@type': 'type.googleapis.com/google.rpc.RetryInfo', 'retryDelay': '11s'}]}}\n",
            "Searching for \"deep-sea organisms\"\n",
            "Related search terms: ['Deep-sea fish', 'Deep sea', 'Hydrothermal vent']\n",
            "Searching for \"deep-sea survival mechanisms\"\n",
            "Related search terms: ['Deep sea mining', 'Hydrothermal vent', 'Deepsea Challenger']\n",
            "Information Sources:\n",
            "     https://en.wikipedia.org/wiki/Deep_sea\n",
            "     https://en.wikipedia.org/wiki/Deep-sea_fish\n",
            "     https://en.wikipedia.org/wiki/Deep-sea_gigantism\n",
            "     https://en.wikipedia.org/wiki/Deep-sea_community\n",
            "     https://en.wikipedia.org/wiki/Deep_sea_mining\n",
            "     https://en.wikipedia.org/wiki/Hydrothermal_vent\n",
            "     https://en.wikipedia.org/wiki/Hydrothermal_vent_microbial_communities\n",
            "     https://en.wikipedia.org/wiki/Endeavour_Hydrothermal_Vents\n",
            "     https://en.wikipedia.org/wiki/Silurian_and_Sea_Devil\n",
            "     https://en.wikipedia.org/wiki/Seabed\n",
            "     https://en.wikipedia.org/wiki/Sea\n",
            "     https://en.wikipedia.org/wiki/Chondrocladia_concrescens\n",
            "     https://en.wikipedia.org/wiki/Deepsea_Challenger\n",
            "     https://en.wikipedia.org/wiki/Sea_surface_temperature\n"
          ]
        }
      ],
      "source": [
        "# # Create a chat session with the client with configuration\n",
        "# Attach your function tool here in a GenerateContentConfig\n",
        "chat = client.chats.create(\n",
        "    model='gemini-2.0-flash',\n",
        "    config=types.GenerateContentConfig(\n",
        "        temperature=0.6,\n",
        "        tools=[wikipedia_search],\n",
        "    )\n",
        ")\n",
        "\n",
        "query = \"Explain how deep-sea life survives.\"\n",
        "\n",
        "# Now you can just send the message; the chat session will handle\n",
        "res = chat.send_message(\n",
        "    message=instructions.format(query=query)\n",
        ")"
      ]
    },
    {
      "cell_type": "code",
      "execution_count": null,
      "metadata": {
        "id": "1l8KWb13M_lJ",
        "colab": {
          "base_uri": "https://localhost:8080/",
          "height": 433
        },
        "outputId": "a9b526fe-ab36-476b-8ef2-e5f8c41a4557"
      },
      "outputs": [
        {
          "output_type": "execute_result",
          "data": {
            "text/plain": [
              "<IPython.core.display.Markdown object>"
            ],
            "text/markdown": "> Deep-sea life survives in a harsh environment of low temperatures, darkness, and immense pressure through a variety of adaptations. Here's a breakdown:\n> \n> *   **Energy Sources:** Since sunlight doesn't penetrate the deep sea, many organisms rely on chemosynthesis, a process where bacteria use chemicals like sulfide from hydrothermal vents to produce energy. Others depend on marine snow (organic matter sinking from upper waters), occasional surface blooms, and whale falls (carcasses).\n> *   **Adaptations to Pressure:** Deep-sea organisms have developed adaptations in their proteins, anatomical structures, and metabolic systems to withstand high pressure. They increase the proportion of unsaturated fatty acids in their cell membranes to maintain fluidity. Some have also developed pressure tolerance through changes in the mechanism of their α-actin. Specific osmolytes like Trimethylamine N-oxide (TMAO) protect proteins from high hydrostatic pressure.\n> *   **Sensory Adaptations:** Many deep-sea fish are blind and rely on senses like pressure and smell. Those with sight have large, sensitive eyes to detect bioluminescent light.\n> *   **Camouflage:** Many species are dark-colored to blend in, while some use counter-illumination (bioluminescence on their bellies) to eliminate their shadows.\n> *   **Bioluminescence:** Many deep-sea creatures use bioluminescence for finding food, attracting prey, communication, and defense.\n> *   **Buoyancy:** Deep-sea fish often lack swim bladders and have jelly-like flesh, high fat content, and reduced skeletal weight to help with buoyancy.\n> *   **Feeding Adaptations:** Some have long feelers to locate prey, while others, like anglerfish, use bioluminescent lures. They may also have adaptations for consuming large prey, such as great teeth, hinged jaws, and expandable bodies.\n> *   **Deep-Sea Gigantism:** Some deep-sea animals tend to be larger than their shallow-water relatives, possibly due to colder temperatures, food scarcity, reduced predation pressure, and increased dissolved oxygen.\n> *   **Chemosynthesis at Hydrothermal Vents:** At hydrothermal vents, chemosynthetic bacteria form the base of the food chain, supporting diverse communities of tube worms, clams, and other organisms. These bacteria convert heat, methane, and sulfur compounds into energy. Symbiotic relationships are common, where bacteria live inside the tissues of animals, providing them with nutrients.\n"
          },
          "metadata": {},
          "execution_count": 10
        }
      ],
      "source": [
        "to_markdown(res.text)"
      ]
    },
    {
      "cell_type": "markdown",
      "metadata": {
        "id": "ua7DPlj7HZyO"
      },
      "source": [
        "Check for additional citations:"
      ]
    },
    {
      "cell_type": "code",
      "execution_count": null,
      "metadata": {
        "id": "ASotq7EcHAeo",
        "colab": {
          "base_uri": "https://localhost:8080/",
          "height": 35
        },
        "outputId": "e95b7a0d-db7c-48b6-c11b-a784ae43ea7f"
      },
      "outputs": [
        {
          "output_type": "execute_result",
          "data": {
            "text/plain": [
              "'No citations found'"
            ],
            "application/vnd.google.colaboratory.intrinsic+json": {
              "type": "string"
            }
          },
          "metadata": {},
          "execution_count": 11
        }
      ],
      "source": [
        "res.candidates[0].citation_metadata or 'No citations found'"
      ]
    },
    {
      "cell_type": "markdown",
      "metadata": {
        "id": "A0CfKMjYFSQm"
      },
      "source": [
        "That looks like it worked. You can go through the chat history using `get_history()` function to see the details of what was sent and received in the function calls:"
      ]
    },
    {
      "cell_type": "code",
      "execution_count": null,
      "metadata": {
        "id": "_9h2b8saNnxh",
        "colab": {
          "base_uri": "https://localhost:8080/"
        },
        "outputId": "9c7651d9-a946-4913-b7da-32246de8e67b"
      },
      "outputs": [
        {
          "output_type": "stream",
          "name": "stdout",
          "text": [
            "user -> \n",
            "You have access to the Wikipedia API which you will be using\n",
            "to answer a user's query. Your job is to generate a list of search queries which\n",
            "might answer a user's question. Be creative by using various key-phrases from\n",
            "the user's query. To generate variety of queries, ask questions which are\n",
            "related to  the user's query that might help to find the answer. The more\n",
            "queries you generate the better are the odds of you finding the correct answer.\n",
            "Here is an example:\n",
            "\n",
            "user: Tell me about Cricket World cup 2023 winners.\n",
            "\n",
            "function_call: wikipedia_search(['What is the name of the team that\n",
            "won the Cricket World Cup 2023?', 'Who was the captain of the Cricket World Cup\n",
            "2023 winning team?', 'Which country hosted the Cricket World Cup 2023?', 'What\n",
            "was the venue of the Cricket World Cup 2023 final match?', 'Cricket World cup 2023',\n",
            "'Who lifted the Cricket World Cup 2023 trophy?'])\n",
            "\n",
            "The search function will return a list of article summaries, use these to\n",
            "answer the  user's question.\n",
            "\n",
            "Here is the user's query: Explain how deep-sea life survives.\n",
            "\n",
            "------------------------------------------------------------\n",
            "model -> \n",
            "Function Call: wikipedia_search\n",
            "Arguments: {\n",
            "  \"search_queries\": [\n",
            "    \"deep-sea life adaptations\",\n",
            "    \"deep-sea ecosystems\",\n",
            "    \"hydrothermal vent life\",\n",
            "    \"deep-sea chemosynthesis\",\n",
            "    \"how deep-sea creatures get energy\",\n",
            "    \"deep-sea food web\",\n",
            "    \"challenges of deep-sea life\",\n",
            "    \"pressure in the deep sea\",\n",
            "    \"temperature in the deep sea\",\n",
            "    \"deep-sea organisms\",\n",
            "    \"deep-sea survival mechanisms\"\n",
            "  ]\n",
            "}\n",
            "------------------------------------------------------------\n",
            "user -> \n",
            "Function Response: wikipedia_search\n",
            "Response: {\n",
            "  \"result\": [\n",
            "    \"Here's the extracted information about deep-sea life adaptations from the provided source:\\n\\n*   **General Adaptations:** Organisms living in the deep sea have various adaptations to survive low temperatures, darkness, and high pressure. Feeding methods include scavenging, predation, and filtration, with many relying on marine snow (organic material falling from upper waters).\\n\\n*   **Buoyancy:** Many deep-sea species have jelly-like flesh composed mostly of glycosaminoglycans for low density instead of relying on gas for buoyancy. Deep water squid combine gelatinous tissue with a flotation chamber filled with ammonium chloride.\\n\\n*   **Midwater Fish Adaptations:** These fish are small (under 25 cm), have slow metabolisms, and unspecialized diets. They have elongated bodies with weak muscles and skeletal structures, and often have extendable jaws with recurved teeth. Many are hermaphroditic due to difficulty finding mates.\\n\\n*   **Vision:** Fish often have large, tubular eyes with only rod cells for upward vision to detect prey silhouettes. Prey fish have adaptations to reduce silhouettes through lateral compression and counter-illumination via bioluminescence from ventral photophores. Some fish have a retroreflector behind the retina for sensitive vision in low light and flashlight fish use this, with photophores, to detect eyeshine in other fish.\\n\\n*   **Food Sources:** Organisms rely on sinking organic matter (marine snow), with only 1-3% of surface production reaching the seabed. Larger food falls, like whale carcasses, are also important. Filter feeders use tentacles to feed on organic particles.\\n\\n*   **Adaptation to Hydrostatic Pressure:**\\n    * Deep-sea fish have adaptations in their proteins, anatomical structures, and metabolic systems.\\n    * Proteins undergo changes in water organization during hydration and dehydration reactions.\\n    * Deep sea species must undergo physiological and structural adaptations to preserve protein functionality against pressure.\\n    * Some Deep-sea fish developed pressure tolerance through the change in mechanism of their \\u03b1-actin.\\n    * Specific osmolytes like Trimethylamine N-oxide (TMAO) increase with depth in some chondrichthyans, protecting proteins from high hydrostatic pressure.\\n    * Mariana hadal snailfish developed modification in the Osteocalcin(burlap) gene, where premature termination of the gene was found, leading to an open skull and cartilage-based bone formation.\\n\\n*   **Chemosynthesis:** Some species at hydrothermal vents rely on chemosynthesis (e.g., symbiotic relationship between tube worms and chemosynthetic bacteria) instead of sunlight for energy.\\n\\n\\n\\nBased on:\\n  https://en.wikipedia.org/wiki/Deep_sea\",\n",
            "    \"**General Adaptations to Deep-Sea Life:**\\n\\n*   **Sensory Adaptations:**\\n    *   Many deep-sea fish are blind and rely on other senses (pressure, smell).\\n    *   Those that have sight possess large and sensitive eyes to detect bioluminescent light (can be 100 times more sensitive than human eyes).\\n    *   Some deep-sea fish have multiple Rh1 opsin genes (e.g., silver spinyfin with 38), which helps them see in dim light.\\n\\n*   **Camouflage:**\\n    *   Many species are dark colored to blend in with their environment and avoid predation.\\n    *   Counter-illumination: Some organisms illuminate their bellies to match the light from above to eliminate their shadow.\\n\\n*   **Bioluminescence:**\\n    *   Over 50% of deep-sea fish, as well as shrimp and squid species, are bioluminescent.\\n    *   80% of bioluminescent organisms have photophores (light-producing cells with luminous bacteria).\\n    *   Functions of bioluminescence: finding food, attracting prey, claiming territory, communicating, finding mates, distracting predators.\\n    *   Bioluminescence uses only about 1% of the organism's energy.\\n\\n*   **Buoyancy:**\\n    *   Deep-sea fish lack swim bladders due to high pressure.\\n    *   They may use structures similar to hydrofoils for hydrodynamic lift.\\n    *   Jelly-like flesh and minimal bone structure reduces tissue density.\\n    *   High fat content, reduced skeletal weight (size, thickness, mineral content), and water accumulation contribute to buoyancy.\\n\\n*   **Feeding:**\\n    *   Long feelers to locate prey or attract mates.\\n    *   Anglerfish have a bioluminescent lure.\\n    *   Adaptations for consuming large prey: great sharp teeth, hinged jaws, disproportionately large mouths, expandable bodies.\\n\\n*   **Metabolism and Pressure:**\\n    *   High internal pressure results in reduced fluidity of cell membranes.\\n    *   They increase the proportion of unsaturated fatty acids in cell membranes to maintain fluidity.\\n    *   Metabolic processes must decrease the volume of the organism.\\n\\n**Adaptations to High Pressure:**\\n\\n*   Deep-sea organisms have cellular and physiological adaptations to survive high pressure.\\n*   They have changes in protein structure and reaction criteria.\\n*   Cellular membranes have a higher proportion of unsaturated fatty acids.\\n* Gelatinous layer below the skin or around the spine for buoyancy, low-cost growth and to increase swimming efficiency by reducing drag.\\n* Species that can tolerate these depths have evolved changes in their protein structure and reaction criteria to withstand pressure, in order to perform reactions in these conditions.\\n*   Na+/K+ -ATPases of deep-sea fishes exhibit a much higher tolerance of hydrostatic pressure compared to their shallow-water counterparts. This resistance to pressure can be explained by adaptations in the protein and lipid moieties of Na+/K+ -ATPase.\\n\\n**Bathypelagic Fish Adaptations:**\\n\\n*   Slow metabolisms and unspecialized diets.\\n*   Sedentary lifestyle (lie-in-wait predators).\\n*   Elongated bodies with weak muscles and skeletal structures.\\n*   Often have extensible, hinged jaws with recurved teeth.\\n*   Slimy, without scales.\\n*   Small or non-functional eyes, gills, kidneys, hearts, and swim bladders.\\n*   Rely on inner ear and lateral line for sensory input.\\n*   Black or red coloration with few photophores.\\n*   Non-selective feeding habits.\\n*  Many Bathypelagic fish are hermaphrodites, which doubles their chances of producing both eggs and sperm when an encounter occurs.\\n* The female anglerfish releases pheromones to attract tiny males. When a male finds her, he bites on to her and never lets go. When a male of the anglerfish species Haplophryne mollis bites into the skin of a female, he releases an enzyme that digests the skin of his mouth and her body, fusing the pair to the point where the two circulatory systems join up. The male then atrophies into nothing more than a pair of gonads.\\n\\n**Mesopelagic Fish Adaptations:**\\n\\n*   Muscular bodies, ossified bones, scales, well-developed gills and central nervous systems, large hearts and kidneys.\\n*   Visual predators with large eyes.\\n*   Some have tubular eyes with big lenses and only rod cells that look upwards.\\n*   Migratory forms use countershaded silvery colors.\\n*   Photophores on their bellies for counter-illumination.\\n\\n\\nBased on:\\n  https://en.wikipedia.org/wiki/Deep-sea_fish\",\n",
            "    \"**Definition:**\\n\\n*   Deep-sea gigantism (or abyssal gigantism) is the tendency for deep-sea dwelling animals to be larger than their shallower-water relatives.\\n\\n**Proposed Explanations:**\\n\\n*   Adaptation to colder temperature\\n*   Food scarcity\\n*   Reduced predation pressure\\n*   Increased dissolved oxygen concentrations\\n\\n**Taxonomic Range:**\\n\\n*   Observed in marine crustaceans (mysids, euphausiids, decapods, isopods, ostracods and amphipods)\\n*   Non-arthropods: cephalopods, cnidarians, and eels (Anguilliformes)\\n*   Notable organisms include: big red jellyfish, Stygiomedusa jellyfish, giant isopod, giant ostracod, giant sea spider, giant amphipod, Japanese spider crab, giant oarfish, deepwater stingray, seven-arm octopus, colossal squid (up to 14 m), giant squid (up to 12 m), Megalocranchia fisheri, robust clubhook squid, Dana octopus squid, cockatoo squid, giant warty squid, and bigfin squids (Magnapinna).\\n\\n**Explanations in detail:**\\n\\n*   **Lower Temperature:**\\n    *   Similar to Bergmann's rule (increasing size with decreasing temperature or latitude).\\n    *   Decreasing temperature leads to increased cell size and lifespan, delayed sexual maturity, and increased maximum body size (in crustaceans).\\n    *   Reduced temperature gradient leads to reduced trend towards increased body size with depth.\\n    *   Temperature does not appear to have a similar role in influencing the size of giant tube worms.\\n*   **Food Scarcity:**\\n    *   Larger body size improves ability to forage for scattered resources.\\n    *   Larger offspring have greater food reserves for longer distances in planktonic eggs/larvae.\\n    *   Larger animal gets more efficient metabolism.\\n*   **Reduced Predation Pressure:**\\n    *   Predation is less frequent in deeper waters.\\n*   **Increased Dissolved Oxygen:**\\n    *   Maximum organism size correlates with increased dissolved oxygen levels.\\n    *   Gigantism could be an adaptive trait to combat asphyxiation in frigid, dense ocean waters.\\n    *   Larger organisms intake more dissolved oxygen.\\n\\n**Impact of Climate Change**\\n\\n*   Deep-sea ecosystems are sensitive to climate shifts.\\n*   Global warming leads to higher ocean temperatures and a reduction in dissolved oxygen.\\n*   Thermohaline circulation will no longer maintain an oxygen-rich deep sea, which would eventually lead to deep water becoming higher in both temperature and salinity.\\n*   Deep-sea gigantism may diminish in response to these changes.\\n\\n\\nBased on:\\n  https://en.wikipedia.org/wiki/Deep-sea_gigantism\",\n",
            "    \"*   **Definition:** Deep-sea communities are groups of organisms sharing a habitat in the deep sea.\\n*   **Exploration:** They remain largely unexplored due to technological, logistical, and financial challenges. Significant biodiversity exists despite the harsh environment (high pressure, extreme temperatures, absence of light).\\n*   **History:** Before the 19th century, life was assumed to be sparse. The Challenger expedition in the 1870s discovered diverse deep-sea creatures. The first deep-sea chemosynthetic community with higher animals was found at hydrothermal vents in the eastern Pacific Ocean in 1977.\\n*   **Challenger Deep:** The deepest surveyed point in Earth's oceans, located in the Mariana Trench.\\n*   **Environment:**\\n    *   **Darkness:** Divided into photic (euphotic and dysphotic) and aphotic zones. The aphotic zone is in perpetual darkness.\\n    *   **Hyperbaricity:** Animals are adapted to extreme pressure, with pressure increasing with depth. Many fish are small with gelatinous flesh and minimal skeletal structure.\\n    *   **Temperature:** The thermocline is the zone of greatest temperature change. Below it, the water is cold and homogeneous. Hydrothermal vents have extreme temperature gradients.\\n    *   **Salinity:** Generally constant, with exceptions like the Mediterranean Sea and brine pools.\\n*   **Zones:**\\n    *   **Mesopelagic:** 200-1000 meters, \\\"twilight zone\\\" with limited light. Organisms have large eyes and may perform vertical migrations.\\n    *   **Bathyal:** 1000-4000 meters, \\\"midnight zone\\\" with no light. Densely populated. Fish have reduced or lost gills, kidneys, hearts, and swim bladders, and have slimy skin, and have a weak skeletal and muscular build. Invertebrates such as sea sponges, cephalopods, and echinoderms live in the bathyal zone.\\n    *   **Abyssal:** 4000-6000 meters, perpetual darkness with immense pressure.\\n    *   **Hadal:** Below 6000 meters, deepest trenches with extreme pressure (e.g., Mariana Trench).\\n*   **Energy Sources:**\\n    *   **Marine snow:** Particulate organic matter sinking from the photic zone.\\n    *   **Occasional surface blooms:** Sudden influx of nutrients from plankton, algae, or animals blooms.\\n    *   **Whale falls:** Carcasses providing a large source of organic matter. Go through stages: Mobile scavenger, opportunistic, and sulfophilic.\\n    *   **Chemosynthesis:**\\n        *   **Hydrothermal vents:** Bacteria utilize chemicals from vents to produce energy.\\n        *   **Cold seeps:** Seepage of hydrogen sulfide, methane, and other hydrocarbons.\\n*   **Ecology:**\\n    *   Food webs are complex.\\n    *   Predator-prey interactions are analyzed by direct observation, stomach contents, and biochemical analysis.\\n    *   Gelatinous zooplankton are ecologically important.\\n    *   Deep sea mining has severe consequences for ocean ecosystems.\\n*   **Deep Sea Research:**\\n    *   Humans have explored less than 4% of the ocean floor.\\n    *   Submarines and specialized equipment (pressurized fish traps, PERISCOP) are used for research.\\n\\n\\nBased on:\\n  https://en.wikipedia.org/wiki/Deep-sea_community\",\n",
            "    \"The following information is relevant to deep-sea ecosystems:\\n\\n*   **Potential Damage:** Deep sea mining has the potential to damage deep sea ecosystems and spread pollution from heavy metal-laden plumes.\\n*   **Environmental Impact:** The environmental impact of deep sea mining is controversial.\\n*   **Environmental Concerns:** Researchers and governments have raised significant concerns about the potential impacts on unique and fragile ecosystems, with only 24.9% of the deep seabed mapped. These ecosystems are essential for ocean and carbon cycling and are vulnerable to climate change.\\n*   **Environmental Concerns:** Scientists warn that mining polymetallic nodules, polymetallic sulfides, and cobalt crusts risks irreparable harm to critical ecosystems, the ocean's carbon sink functions, and marine biodiversity.\\n*   **Moratorium Calls:** There are widespread calls for a moratorium on deep-sea mining until its environmental, social, and economic risks are fully investigated.\\n*   **Sediment Plumes:** Mining-generated plumes differ significantly from traditional mining tailings, as deep-sea sediment primarily consists of naturally occurring, unprocessed material rather than chemically altered waste. Tailings increase water turbidity (cloudiness). Depending on particle size and water currents, surface plumes can spread widely. In shallow water, sediment can resuspend following storms, starting another cycle of damage.\\n*   **Benthic Disturbance:** Removing parts of the sea floor disturbs the habitat of benthic organisms. Nodule fields provide hard substrate on the bottom, attracting macrofauna. Mining activities generate sediment plumes that can spread over hundreds of kilometers, smothering benthic organisms and reducing oxygen availability. Fine sediments take decades to resettle, prolonging habitat degradation. Additionally, mining releases trace metals which can bioaccumulate in marine organisms and pose toxicological risks to deep-sea food webs.\\n*   **Noise and Light Pollution:** Deep sea mining generates ambient noise in normally quiet pelagic environments. Mining efforts may increase light levels to illuminate the bottom. Noise pollution affects deep sea fish species and marine mammals. Impacts include behavior changes, communication difficulties, and temporary and permanent hearing damage. Light pollution affects the environment of DSM sites as they are normally pitch dark.\\n*   **Ecosystem Impacts:** Polymetallic nodule fields are hotspots of abundance and diversity for abyssal fauna. Sediment can clog filter-feeding organisms such as manta rays. As they block the sun, they inhibit growth of photosynthesizing organisms, including coral and phytoplankton. Phytoplankton sit at the bottom of the food chain. Reducing phytoplankton reduces food availability for all other organisms. Metals carried by plumes can accumulate in tissues of shellfish. This bioaccumulation works its way through the food web, impacting predators, including humans. Disruption of the ocean floor can lead to reduced carbon sequestration as well as the release of large amounts of the potent greenhouse gas methane, exacerbating the climate crisis.\\n*   **Dark Oxygen:** Manganese nodules on the deep sea floor could be producing oxygen. The manganese nodules act as a kind of battery due to their composition with different metals and release oxygen into the environment. As it was previously thought that only plants and algae produce dark oxygen (oxygen produced without light), this can be seen as a scientific landslide.\\n\\n\\nBased on:\\n  https://en.wikipedia.org/wiki/Deep_sea_mining\",\n",
            "    \"*   Relative to the majority of the deep sea, the areas around hydrothermal vents are biologically more productive, often hosting complex communities fueled by the chemicals dissolved in the vent fluids.\\n*   Chemosynthetic bacteria and archaea found around hydrothermal vents form the base of the food chain, supporting diverse organisms including giant tube worms, clams, limpets, and shrimp.\\n*   The oldest confirmed record of a \\\"modern\\\" biological community related with a vent is the Figueroa Sulfide, from the Early Jurassic of California.\\n*   The ecosystem so formed is reliant upon the continued existence of the hydrothermal vent field as the primary source of energy, which differs from most surface life on Earth, which is based on solar energy.\\n*   However, although it is often said that these communities exist independently of the sun, some of the organisms are actually dependent upon oxygen produced by photosynthetic organisms, while others are anaerobic.\\n*   The chemosynthetic bacteria grow into a thick mat which attracts other organisms, such as amphipods and copepods, which graze upon the bacteria directly.\\n*   Larger organisms, such as snails, shrimp, crabs, tube worms, fish (especially eelpout, cutthroat eel, Ophidiiformes and Symphurus thermophilus), and octopuses (notably Vulcanoctopus hydrothermalis), form a food chain of predator and prey relationships above the primary consumers.\\n*   The main families of organisms found around seafloor vents are annelids, pogonophorans, gastropods, and crustaceans, with large bivalves, vestimentiferan worms, and \\\"eyeless\\\" shrimp making up the bulk of nonmicrobial organisms.\\n*   Siboglinid tube worms, which may grow to over 2 m (6.6 ft) tall in the largest species, often form an important part of the community around a hydrothermal vent. They have no mouth or digestive tract, and like parasitic worms, absorb nutrients produced by the bacteria in their tissues. About 285 billion bacteria are found per ounce of tubeworm tissue.\\n*   Tubeworms have red plumes which contain hemoglobin. Hemoglobin combines with hydrogen sulfide and transfers it to the bacteria living inside the worm. In return, the bacteria nourish the worm with carbon compounds.\\n*   Two of the species that inhabit a hydrothermal vent are Tevnia jerichonana, and Riftia pachyptila. One discovered community, dubbed \\\"Eel City\\\", consists predominantly of the eel Dysommina rugosa. Though eels are not uncommon, invertebrates typically dominate hydrothermal vents. Eel City is located near Nafanua volcanic cone, American Samoa.\\n*   In 1993, already more than 100 gastropod species were known to occur in hydrothermal vents. Over 300 new species have been discovered at hydrothermal vents, many of them \\\"sister species\\\" to others found in geographically separated vent areas.\\n*   It has been proposed that before the North American Plate overrode the mid-ocean ridge, there was a single biogeographic vent region found in the eastern Pacific.\\n*   Although life is very sparse at these depths, black smokers are the centers of entire ecosystems. Sunlight is nonexistent, so many organisms, such as archaea and extremophiles, convert the heat, methane, and sulfur compounds provided by black smokers into energy through a process called chemosynthesis. More complex life forms, such as clams and tubeworms, feed on these organisms.\\n*   A species of phototrophic bacterium has been found living near a black smoker off the coast of Mexico at a depth of 2,500 m (8,200 ft). No sunlight penetrates that far into the waters. Instead, the bacteria, part of the Chlorobiaceae family, use the faint glow from the black smoker for photosynthesis. This is the first organism discovered in nature to exclusively use a light other than sunlight for photosynthesis.\\n*   New and unusual species are constantly being discovered in the neighborhood of black smokers. The Pompeii worm Alvinella pompejana, which is capable of withstanding temperatures up to 80 \\u00b0C (176 \\u00b0F), was found in the 1980s, and a scaly-foot gastropod Chrysomallon squamiferum in 2001 during an expedition to the Indian Ocean's Kairei hydrothermal vent field. The latter uses iron sulfides (pyrite and greigite) for the structure of its dermal sclerites (hardened body parts), instead of calcium carbonate.\\n*   In March 2017, researchers reported evidence of possibly the oldest forms of life on Earth. Putative fossilized microorganisms were discovered in hydrothermal vent precipitates in the Nuvvuagittuq Belt of Quebec, Canada, that may have lived as early as 4.280 billion years ago, not long after the oceans formed 4.4 billion years ago, and not long after the formation of the Earth 4.54 billion years ago.\\n*   Deep-sea hydrothermal vent ecosystems differ from their shallow-water and terrestrial hydrothermal counterparts due to the symbiosis that occurs between macroinvertebrate hosts and chemoautotrophic microbial symbionts in the former.\\n*   Since sunlight does not reach deep-sea hydrothermal vents, organisms in deep-sea hydrothermal vents cannot obtain energy from the sun to perform photosynthesis.\\n*   Instead, the microbial life found at hydrothermal vents is chemosynthetic; they fix carbon by using energy from chemicals such as sulfide, as opposed to light energy from the sun.\\n*   In other words, the symbiont converts inorganic molecules (H2S, CO2, O) to organic molecules that the host then uses as nutrition.\\n*   What was discovered was the ubiquitous symbiosis of chemoautotrophs living in (endosymbiosis) the vent animals' gills; the reason why multicellular life is capable to survive the toxicity of vent systems.\\n*   Work on microbiome function shows that host-associated microbiomes are also important in host development, nutrition, defense against predators, and detoxification. In return, the host provides the symbiont with chemicals required for chemosynthesis, such as carbon, sulfide, and oxygen.\\n*   Finally, in 1981, it was understood that giant tubeworm nutrition acquisition occurred as a result of chemoautotrophic bacterial endosymbionts. As scientists continued to study life at hydrothermal vents, it was understood that symbiotic relationships between chemoautotrophs and macrofauna invertebrate species was ubiquitous.\\n*   However, the mechanisms by which organisms acquire their symbionts differ, as do the metabolic relationships.\\n*   For instance, tubeworms have no mouth and no gut, but they do have a \\\"trophosome\\\", which is where they deal with nutrition and where their endosymbionts are found.\\n*   They also have a bright red plume, which they use to uptake compounds such as O, H2S, and CO2, which feed the endosymbionts in their trophosome.\\n*   In 1988, research confirmed thiotrophic (sulfide-oxidizing) bacteria in Alviniconcha hessleri, a large vent mollusk. In order to circumvent the toxicity of sulfide, mussels first convert it to thiosulfate before carrying it over to the symbionts. In the case of motile organisms such as alvinocarid shrimp, they must track oxic (oxygen-rich) / anoxic (oxygen-poor) environments as they fluctuate in the environment.\\n*   Organisms living at the edge of hydrothermal vent fields, such as pectinid scallops, also carry endosymbionts in their gills, and as a result their bacterial density is low relative to organisms living nearer to the vent. However, the scallop's dependence on the microbial endosymbiont for obtaining their nutrition is therefore also lessened.\\n*   Furthermore, not all host animals have endosymbionts; some have episymbionts\\u2014symbionts living on the animal as opposed to inside the animal.\\n*   While chemosynthesis occurring at the deep ocean allows organisms to live without sunlight in the immediate sense, they technically still rely on the sun for survival, since oxygen in the ocean is a byproduct of photosynthesis. However, if the sun were to suddenly disappear and photosynthesis ceased to occur on our planet, life at the deep-sea hydrothermal vents could continue for millennia (until the oxygen was depleted).\\n*   The chemical and thermal dynamics in hydrothermal vents makes such environments highly suitable thermodynamically for chemical evolution processes to take place.\\n*   It has been proposed that amino acid synthesis could have occurred deep in the Earth's crust and that these amino acids were subsequently shot up along with hydrothermal fluids into cooler waters, where lower temperatures and the presence of clay minerals would have fostered the formation of peptides and protocells.\\n*   There are numerous species of extremophiles and other organisms currently living immediately around deep-sea vents, suggesting that this is indeed a possible scenario.\\n*   There is some evidence that links the origin of life to alkaline hydrothermal vents in particular. The pH conditions of these vents may have made them more suitable for emerging life.\\n*   The locations of these systems is important to understanding their formation, as most accepted theories revolve around seismic activity, particularly near volcanic regions.\\n*   The unique depositing of metals and altered local chemistry in turn allow for conditions to support life of thermophiles and other organisms.\\n*   Chemosynthetic ecosystems surrounding the Gal\\u00e1pagos Rift submarine hydrothermal vents were first directly observed in 1977, when a group of marine geologists funded by the National Science Foundation returned to the Clambake sites.\\n*   The hot solutions were emanating from an active subseafloor rift. The highly saline character of the waters was not hospitable to living organisms.\\n*   Hydrothermal vents are distributed along the Earth's plate boundaries, although they may also be found at intra-plate locations such as hotspot volcanoes.\\n*   Rogers et al. (2012) recognized at least 11 biogeographic provinces of hydrothermal vent systems: Mid-Atlantic Ridge province, East Scotia Ridge province, northern East Pacific Rise province, central East Pacific Rise province, southern East Pacific Rise province, south of the Easter Microplate, Indian Ocean province, four provinces in the western Pacific and many more.\\n*   The conservation of hydrothermal vents has been the subject of sometimes heated discussion in the oceanographic community for the last 20 years.\\n*   Conservation of hydrothermal vent ecosystems after the fact of mining of an active system would depend on the recolonization of chemosynthetic bacteria, and therefore the continuation of the hydrothermal vent fluid as it is the main hydrothermal energy source.\\n*   From these we can develop insight on the potential effects of mining destruction, and have learned it took 3\\u20135 years for bacteria to recolonize the area, and around 10 years for megafauna to return. It was also found that there was a shift in the composition of species in the ecosystem compared to before the destruction, and the presence of immigrant species.\\n\\n\\nBased on:\\n  https://en.wikipedia.org/wiki/Hydrothermal_vent\",\n",
            "    \"The source provides information on the following aspects of hydrothermal vent life:\\n\\n*   **Hydrothermal Vent Microbial Community:** Includes unicellular organisms in microbial mats, free-floating cells, or bacteria in endosymbiotic relationships with animals. Chemolithoautotrophic bacteria obtain nutrients and energy from geological activity to fix carbon. Viruses are also present and influence microbial ecology.\\n*   **Chemosynthesis:** Due to the absence of sunlight, energy is provided by chemosynthesis, where symbiotic bacteria and archaea form the base of the food chain. They support organisms like *Riftia pachyptila* and *Alvinella pompejana*.\\n*   **Environmental Properties:** Temperatures are relatively constant (0-3\\u00b0C) except near vents (up to 407\\u00b0C). Pressure increases with depth (10 MPa per kilometer). Salinity is constant at 35 parts per thousand. Energy comes from chemosynthesis.\\n*   **Types of Hydrothermal Vents:** Black smokers (300-400\\u00b0C, metal sulfides), white smokers (200-330\\u00b0C, calcium-rich minerals), diffuse vents (<30\\u00b0C, clear water), and alkaline vents (high pH, 40-90\\u00b0C, methane and hydrogen-rich).\\n*   **Adaptations:** Microbes are often hyperthermophiles (growing above 90\\u00b0C) with stable proteins and DNA. Symbiotic relationships allow detoxification of sulfide-rich waters.\\n*   **DNA Repair:** Microbial communities have extensive DNA repair mechanisms.\\n*   **Community Composition:**\\n    *   **Bacterial Diversity:** Primarily chemolithotrophs, using reduced chemical species (especially sulfur) for energy. Abundance varies with vent temperature and nutrient concentration.\\n    *   **Sulfur-oxidizing bacteria:** Predominant, using various sulfur forms in aerobic conditions (e.g., *Thiomicrospira*, *Thiothrix*, *Beggiatoa*).\\n    *   **Methane-oxidizing bacteria:** Use methane as an energy source, found in warm vents and symbiotic relationships (e.g., *Methylocystaceae*).\\n    *   **Hydrogen-oxidizing bacteria:** Aerobic and symbiotic, important for primary production (e.g., *Desulfonauticus submarinus*).\\n    *   **Iron- and manganese-oxidizing bacteria:** Found in deposits, more common in acidic waters (iron) or freshwater/seawater (manganese).\\n*   **Phyla and Genera:** Proteobacteria are dominant. The source lists many phyla and genera (Actinomycetota, Aquificota, Hydrogenobacter, Aquifex, Chloroflexota, Chlorobiota, Chlorobium, Deferribacterota, Gemmatimonadota, Nitrospirota, Nitrospinota, Leptospirillum ferriphilum, Bacillota, Acetogen: Clostridium, Pseudomonadota, Acidithiobacillia, Alphaproteobacteria, Paracoccus, Betaproteobacteria, Thiobacillus, Sideroxydans lithotrophicus, Gammaproteobacteria, Allochromatium, Thiomicrospira, Thioalkalivibrio, Methylococcaceae, Beggiatoa, Thioploca, Zetaproteobacteria, Mariprofundus ferrooxydans, Campylobacterota, Sulfurovum lithotrophicum, Sulfurimonas paralvinellae, Nitratifactor salsuginis, Hydrogenimonas thermophila, Thiovulum, Desulfobacterota, Desulfovibrio, Desulfobulbus, Desulfuromonas, Dissulfuribacter thermophilus)\\n*   **Symbiotic Relationships:** Chemosynthesis is important. Common symbionts include deep-sea clams, mussels, and tube worms (e.g., *Riftia pachyptila*, *Alvinella pompejana*). Animals rely on symbionts, losing digestive features.\\n*   **Viruses:** Abundant, influencing microbial mortality and biogeochemical cycling. They may have mutualistic relationships, acting as reservoirs of genetic information. Horizontal gene transfer aids microorganism survival under stress. Vent viruses also connect to viruses in the crust.\\n*   **Biogeochemical Comparisons:** Microbial communities vary geographically due to environmental factors, vent type, and dispersal barriers.\\n*   **Microbial Biogeochemistry:** Microbes transform energy and minerals into organic material. They use elements like iron, manganese, and sulfur.\\n    *   **Carbon Cycle:** Geological activity produces carbon compounds. Chemoautotrophic bacteria fix inorganic carbon using oxidation.\\n        *   **Carbon Fixation:** The source details the Calvin-Benson-Bassham (CBB) cycle, reductive tricarboxylic acid (rTCA) cycle, 3-hydroxypropionate (3-HP) cycle and reductive acetyl coenzyme A (acetyl-CoA) pathway.\\n        *   **Methane Metabolism:** Methanotrophy converts methane into carbon dioxide and organic carbon.\\n            *   **Methane Oxidation:** Aerobic oxidation is common in endosymbionts. Anaerobic oxidation (AOM) is coupled to sulfate or Fe/Mn reduction.\\n            *   **Methanogenesis:** Production of methane from hydrocarbon degradation or carbon dioxide reaction.\\n    *   **Sulfur Cycle:** Microbes convert sulfur into various forms for energy.\\n        *   **Sulfur Oxidation:** Reduced sulfur compounds are a major energy source. Pathways include the SOX pathway and dissimilatory oxidation.\\n        *   **Sulfur Reduction:** Sulfate is used as an electron acceptor.\\n    *   **Nitrogen Cycle:** Complex, with nitrogen fixation, assimilation, nitrification, denitrification, anammox, mineralization, and dissimilatory nitrate reduction to ammonium.\\n\\n\\nBased on:\\n  https://en.wikipedia.org/wiki/Hydrothermal_vent_microbial_communities\",\n",
            "    \"*   The Endeavour Hydrothermal Vents are home to a diverse array of microorganisms and invertebrates.\\n*   The vents support a large, intricate ecology of chemoautotrophic organisms.\\n*   The microbiome population is mostly proteobacteria and archaea, with sulfur oxidizing or sulfur reducing metabolisms being common.\\n*   The main invertebrate found in these areas is the tubeworm (Ridgeia piscesae).\\n*   Other dominating invertebrate species are spider crabs (Macroregonia macrochira), sulphide worms (Paralvinella sulfincola), limpets (Lepetodrilus), polynoid scaleworms, and palm worms (Paralvinellae palmiformis) that belong to the Alvinellidae family.\\n*   Symbiotic vent bacteria provide nutrients to the animals living there through chemosynthesis.\\n*   Researchers have identified 12 endemic species to the Endeavour Segment of the Juan de Fuca Ridge that do not exist anywhere else in the world, including the sea spider (Sericosura venticola).\\n*   A sulfide-hosted microbe from this site can live in environments up to 121 \\u00b0C, which is the record for the upper limit for life.\\n*   High flow areas are dominated by sulfur and hydrogen oxidizing bacteria, while low flow areas are dominated by heterotrophic bacteria.\\n*   Epsilonproteobacteria are dominant bacteria at some sites of the MEF and genes have been identified that are associated with nitrogen fixation.\\n*   The temperature within the vent fields differs at various depths, affecting the microorganisms and invertebrates that live within the region.\\n*   The vents provide habitats for many unique species of animals.\\n*   Organisms range from microorganisms to invertebrates, each having an interchanging role with one another.\\n*   Marine mammals such as Dall's porpoise, sperm whales, Pacific white-sided dolphin, leatherback sea turtle, and northern elephant seal have been spotted in the waters where vent fields are located.\\n\\n\\nBased on:\\n  https://en.wikipedia.org/wiki/Endeavour_Hydrothermal_Vents\",\n",
            "    \"This document does not contain information about how deep-sea creatures get energy. The document is about the Silurians and Sea Devils, fictional reptilian/amphibious species from the British science fiction television series Doctor Who. It details their history, appearances, creation, development, redesigns, and reception.\\n\\n\\nBased on:\\n  https://en.wikipedia.org/wiki/Silurian_and_Sea_Devil\",\n",
            "    \"*   **Chemosynthesis by Bacteria:** Marine life around hydrothermal vents in the deep sea receive energy from chemosynthesis performed by bacteria.\\n*   **Temperature Difference:** Extreme temperature differences around hydrothermal vents (typically a drop of 150 degrees) also provide energy to marine life.\\n\\n\\nBased on:\\n  https://en.wikipedia.org/wiki/Seabed\",\n",
            "    \"This document primarily focuses on the physical and chemical properties of the sea, marine life and various aspects of human interaction with it. Therefore, it does not contain information on how deep-sea creatures get energy.\\n\\n\\nBased on:\\n  https://en.wikipedia.org/wiki/Sea\",\n",
            "    \"*   The ping pong tree sponge captures small crustaceans and other invertebrates using tiny hooks on its appendages.\\n*   It is a primary consumer in the deep-sea food web.\\n*   The sponge's unique branching structure provides shelter and refuge for other deep-sea species.\\n*   It is an important component of deep-sea ecosystems, providing habitat and food for a variety of organisms.\\n\\n\\nBased on:\\n  https://en.wikipedia.org/wiki/Chondrocladia_concrescens\",\n",
            "    \"This document primarily focuses on the design, development, and dives of the Deepsea Challenger submersible, rather than the challenges of deep-sea life itself. However, the document indirectly implies some of these challenges:\\n\\n*   **Immense Pressure:** The Deepsea Challenger was designed to withstand 114 megapascals (16,500 pounds per square inch) of pressure at the Challenger Deep.\\n*   **Darkness:** LED lighting arrays were necessary to illuminate the surroundings during the dive.\\n*   **Extreme Depths:** The Deepsea Challenger reached a maximum depth of 10,908 metres (35,787 ft).\\n*   **Communication:** The submersible used an underwater acoustic communication system.\\n*   **Power:** The submersible required lithium batteries to power its systems.\\n*   **Navigation:** Unforeseen currents presented unexpected challenges during the dives.\\n\\nBased on:\\n  https://en.wikipedia.org/wiki/Deepsea_Challenger\"\n",
            "  ]\n",
            "}\n",
            "------------------------------------------------------------\n",
            "model -> \n",
            "Deep-sea life survives in a harsh environment of low temperatures, darkness, and immense pressure through a variety of adaptations. Here's a breakdown:\n",
            "\n",
            "*   **Energy Sources:** Since sunlight doesn't penetrate the deep sea, many organisms rely on chemosynthesis, a process where bacteria use chemicals like sulfide from hydrothermal vents to produce energy. Others depend on marine snow (organic matter sinking from upper waters), occasional surface blooms, and whale falls (carcasses).\n",
            "*   **Adaptations to Pressure:** Deep-sea organisms have developed adaptations in their proteins, anatomical structures, and metabolic systems to withstand high pressure. They increase the proportion of unsaturated fatty acids in their cell membranes to maintain fluidity. Some have also developed pressure tolerance through changes in the mechanism of their α-actin. Specific osmolytes like Trimethylamine N-oxide (TMAO) protect proteins from high hydrostatic pressure.\n",
            "*   **Sensory Adaptations:** Many deep-sea fish are blind and rely on senses like pressure and smell. Those with sight have large, sensitive eyes to detect bioluminescent light.\n",
            "*   **Camouflage:** Many species are dark-colored to blend in, while some use counter-illumination (bioluminescence on their bellies) to eliminate their shadows.\n",
            "*   **Bioluminescence:** Many deep-sea creatures use bioluminescence for finding food, attracting prey, communication, and defense.\n",
            "*   **Buoyancy:** Deep-sea fish often lack swim bladders and have jelly-like flesh, high fat content, and reduced skeletal weight to help with buoyancy.\n",
            "*   **Feeding Adaptations:** Some have long feelers to locate prey, while others, like anglerfish, use bioluminescent lures. They may also have adaptations for consuming large prey, such as great teeth, hinged jaws, and expandable bodies.\n",
            "*   **Deep-Sea Gigantism:** Some deep-sea animals tend to be larger than their shallow-water relatives, possibly due to colder temperatures, food scarcity, reduced predation pressure, and increased dissolved oxygen.\n",
            "*   **Chemosynthesis at Hydrothermal Vents:** At hydrothermal vents, chemosynthetic bacteria form the base of the food chain, supporting diverse communities of tube worms, clams, and other organisms. These bacteria convert heat, methane, and sulfur compounds into energy. Symbiotic relationships are common, where bacteria live inside the tissues of animals, providing them with nutrients.\n",
            "\n",
            "------------------------------------------------------------\n"
          ]
        }
      ],
      "source": [
        "for content in chat.get_history():\n",
        "  print(f'{content.role} -> ')\n",
        "\n",
        "  if hasattr(content, 'parts') and content.parts:\n",
        "    part = content.parts[0]\n",
        "    if hasattr(part, 'function_call') and part.function_call:\n",
        "      print(f\"Function Call: {part.function_call.name}\")\n",
        "      print(f\"Arguments: {json.dumps(part.function_call.args, indent=2)}\")\n",
        "    elif hasattr(part, 'function_response') and part.function_response:\n",
        "      print(f\"Function Response: {part.function_response.name}\")\n",
        "      print(f\"Response: {json.dumps(part.function_response.response, indent=2)}\")\n",
        "    else:\n",
        "      print(content.parts[0].text if hasattr(content.parts[0], 'text') else content.parts[0])\n",
        "  print('---' * 20)\n"
      ]
    },
    {
      "cell_type": "markdown",
      "metadata": {
        "id": "WDWc9Fj9Ig6A"
      },
      "source": [
        "In the chat history you can see all the steps of the conversation:\n",
        "\n",
        "1. The user sent the query.\n",
        "2. The model replied with a function call to `wikipedia_search` with a number of relevant searches.\n",
        "3. Because you configured the tool and provided it when sending the message, the client handled executing the search function and returning the list of article summaries to the model.\n",
        "4. Following the instructions in the prompt, the model generated a final answer based on those summaries.\n"
      ]
    },
    {
      "cell_type": "markdown",
      "metadata": {
        "id": "PJP1EAgfnPUA"
      },
      "source": [
        "## **[Optional]** Manually execute the function call"
      ]
    },
    {
      "cell_type": "markdown",
      "metadata": {
        "id": "Sa5ke2ssKl7M"
      },
      "source": [
        "To inspect and run the model’s function call yourself, disable automatic invocation on the initial message:\n",
        "\n",
        "* Create your chat session as usual (no tools attached at chat-creation time).\n",
        "* When sending your prompt, pass a `GenerateContentConfig` with:\n",
        "\n",
        "  * `tools=[wikipedia_search]`\n",
        "  * `automatic_function_calling={'disable': True}`\n",
        "\n",
        "The model will return a raw `FunctionCall` object. You can then extract its `name` and `args`, execute `wikipedia_search(**args)` locally, and finally feed the result back into the chat with another `send_message` to get the completed response.\n"
      ]
    },
    {
      "cell_type": "code",
      "execution_count": null,
      "metadata": {
        "id": "wavbHrL3K5vo"
      },
      "outputs": [],
      "source": [
        "# Create a new chat session without automatic function calling\n",
        "chat = client.chats.create(\n",
        "    model='gemini-2.0-flash',\n",
        "    config=types.GenerationConfig(temperature=0.6)\n",
        ")\n"
      ]
    },
    {
      "cell_type": "code",
      "execution_count": null,
      "metadata": {
        "id": "ON4LTcmiLs2E"
      },
      "outputs": [],
      "source": [
        "# Send a message to the chat without automatic function calling\n",
        "result = chat.send_message(\n",
        "    message=instructions.format(query=query),\n",
        "    config=types.GenerateContentConfig(\n",
        "        tools=[wikipedia_search],\n",
        "        automatic_function_calling={'disable': True},\n",
        "    )\n",
        ")"
      ]
    },
    {
      "cell_type": "markdown",
      "metadata": {
        "id": "__JN3YuHe7fR"
      },
      "source": [
        "Initially the model returns a FunctionCall:"
      ]
    },
    {
      "cell_type": "code",
      "execution_count": null,
      "metadata": {
        "id": "Lgngdvcdi06F",
        "colab": {
          "base_uri": "https://localhost:8080/"
        },
        "outputId": "65e74294-2c00-460c-80c3-e0c24d936f58"
      },
      "outputs": [
        {
          "output_type": "stream",
          "name": "stdout",
          "text": [
            "{\n",
            "  \"name\": \"wikipedia_search\",\n",
            "  \"args\": {\n",
            "    \"search_queries\": [\n",
            "      \"deep-sea life adaptations\",\n",
            "      \"deep-sea ecosystems\",\n",
            "      \"hydrothermal vent ecosystems\",\n",
            "      \"deep-sea food web\",\n",
            "      \"how do deep-sea creatures get energy?\",\n",
            "      \"deep-sea organisms survival strategies\",\n",
            "      \"challenges of deep-sea environment\",\n",
            "      \"deep-sea chemosynthesis\",\n",
            "      \"deep-sea pressure adaptation\",\n",
            "      \"deep-sea temperature adaptation\"\n",
            "    ]\n",
            "  }\n",
            "}\n"
          ]
        }
      ],
      "source": [
        "# Extract the function call from the response\n",
        "if result.candidates and len(result.candidates) > 0 and result.candidates[0].content.parts:\n",
        "    function_call = result.candidates[0].content.parts[0].function_call\n",
        "    if function_call:\n",
        "        print(json.dumps({\n",
        "            \"name\": function_call.name,\n",
        "            \"args\": function_call.args\n",
        "        }, indent=2))\n",
        "    else:\n",
        "        print(\"No function call found in the response.\")\n",
        "else:\n",
        "    print(\"Unexpected response format.\")"
      ]
    },
    {
      "cell_type": "code",
      "execution_count": null,
      "metadata": {
        "id": "Bfp1Kqv7PE8N",
        "colab": {
          "base_uri": "https://localhost:8080/"
        },
        "outputId": "ce2cc7f9-e7d6-4d38-cc5c-9a4b4eca36ba"
      },
      "outputs": [
        {
          "output_type": "stream",
          "name": "stdout",
          "text": [
            "Function Name: wikipedia_search\n"
          ]
        }
      ],
      "source": [
        "# Access the function name\n",
        "if function_call and hasattr(function_call, 'name'):\n",
        "    function_name = function_call.name\n",
        "    print(f\"Function Name: {function_name}\")\n",
        "else:\n",
        "    print(\"Could not extract function name from the function call.\")"
      ]
    },
    {
      "cell_type": "markdown",
      "metadata": {
        "id": "xpD3axtDmfZb"
      },
      "source": [
        "Call the function with generated arguments to get the results."
      ]
    },
    {
      "cell_type": "code",
      "execution_count": null,
      "metadata": {
        "id": "Ek4g-CTAPSou",
        "colab": {
          "base_uri": "https://localhost:8080/"
        },
        "outputId": "f6b03b6b-e9f8-4f53-dffe-3e0c64319ba6"
      },
      "outputs": [
        {
          "output_type": "stream",
          "name": "stdout",
          "text": [
            "Searching for \"deep-sea life adaptations\"\n",
            "Related search terms: ['Deep sea', 'Deep-sea fish', 'Deep-sea gigantism']\n",
            "Fetching page: \"Deep sea\"\n",
            "Information Source: https://en.wikipedia.org/wiki/Deep_sea\n",
            "Fetching page: \"Deep-sea fish\"\n",
            "Information Source: https://en.wikipedia.org/wiki/Deep-sea_fish\n",
            "Fetching page: \"Deep-sea gigantism\"\n",
            "Information Source: https://en.wikipedia.org/wiki/Deep-sea_gigantism\n",
            "Searching for \"deep-sea ecosystems\"\n",
            "Related search terms: ['Deep-sea community', 'Deep-sea gigantism', 'Deep sea mining']\n",
            "Fetching page: \"Deep-sea community\"\n",
            "Information Source: https://en.wikipedia.org/wiki/Deep-sea_community\n",
            "Fetching page: \"Deep sea mining\"\n",
            "Information Source: https://en.wikipedia.org/wiki/Deep_sea_mining\n",
            "Searching for \"hydrothermal vent ecosystems\"\n",
            "Related search terms: ['Hydrothermal vent', 'Axial Seamount', 'Hydrothermal vent microbial communities']\n",
            "Fetching page: \"Hydrothermal vent\"\n",
            "Information Source: https://en.wikipedia.org/wiki/Hydrothermal_vent\n",
            "Fetching page: \"Axial Seamount\"\n",
            "Information Source: https://en.wikipedia.org/wiki/Axial_Seamount\n",
            "Fetching page: \"Hydrothermal vent microbial communities\"\n",
            "Information Source: https://en.wikipedia.org/wiki/Hydrothermal_vent_microbial_communities\n",
            "Searching for \"deep-sea food web\"\n",
            "Related search terms: ['Deep-sea community', 'Deep sea mining', 'Chondrocladia concrescens']\n",
            "Fetching page: \"Chondrocladia concrescens\"\n",
            "Information Source: https://en.wikipedia.org/wiki/Chondrocladia_concrescens\n",
            "Searching for \"how do deep-sea creatures get energy?\"\n",
            "Related search terms: ['King (2003 TV series)', 'List of Star Wars creatures', 'Sea']\n",
            "Fetching page: \"King (2003 TV series)\"\n",
            "Information Source: https://en.wikipedia.org/wiki/King_(2003_TV_series)\n",
            "Fetching page: \"List of Star Wars creatures\"\n",
            "Information Source: https://en.wikipedia.org/wiki/List_of_Star_Wars_creatures\n",
            "Fetching page: \"Sea\"\n",
            "Information Source: https://en.wikipedia.org/wiki/Sea\n",
            "Searching for \"deep-sea organisms survival strategies\"\n",
            "Related search terms: ['Microorganism', 'List of longest-living organisms', 'Psychrophile']\n",
            "Fetching page: \"Microorganism\"\n",
            "Information Source: https://en.wikipedia.org/wiki/Microorganism\n",
            "Fetching page: \"List of longest-living organisms\"\n",
            "Information Source: https://en.wikipedia.org/wiki/List_of_longest-living_organisms\n",
            "Error processing List of longest-living organisms: 429 RESOURCE_EXHAUSTED. {'error': {'code': 429, 'message': 'You exceeded your current quota, please check your plan and billing details. For more information on this error, head to: https://ai.google.dev/gemini-api/docs/rate-limits.', 'status': 'RESOURCE_EXHAUSTED', 'details': [{'@type': 'type.googleapis.com/google.rpc.QuotaFailure', 'violations': [{'quotaMetric': 'generativelanguage.googleapis.com/generate_content_free_tier_requests', 'quotaId': 'GenerateRequestsPerMinutePerProjectPerModel-FreeTier', 'quotaDimensions': {'model': 'gemini-2.0-flash', 'location': 'global'}, 'quotaValue': '15'}]}, {'@type': 'type.googleapis.com/google.rpc.Help', 'links': [{'description': 'Learn more about Gemini API quotas', 'url': 'https://ai.google.dev/gemini-api/docs/rate-limits'}]}, {'@type': 'type.googleapis.com/google.rpc.RetryInfo', 'retryDelay': '20s'}]}}\n",
            "Fetching page: \"Psychrophile\"\n",
            "Information Source: https://en.wikipedia.org/wiki/Psychrophile\n",
            "Searching for \"challenges of deep-sea environment\"\n",
            "Related search terms: ['Deep-sea community', 'Deepsea Challenger', 'Deep sea']\n",
            "Fetching page: \"Deepsea Challenger\"\n",
            "Information Source: https://en.wikipedia.org/wiki/Deepsea_Challenger\n",
            "Error processing Deepsea Challenger: 429 RESOURCE_EXHAUSTED. {'error': {'code': 429, 'message': 'You exceeded your current quota, please check your plan and billing details. For more information on this error, head to: https://ai.google.dev/gemini-api/docs/rate-limits.', 'status': 'RESOURCE_EXHAUSTED', 'details': [{'@type': 'type.googleapis.com/google.rpc.QuotaFailure', 'violations': [{'quotaMetric': 'generativelanguage.googleapis.com/generate_content_free_tier_requests', 'quotaId': 'GenerateRequestsPerMinutePerProjectPerModel-FreeTier', 'quotaDimensions': {'location': 'global', 'model': 'gemini-2.0-flash'}, 'quotaValue': '15'}]}, {'@type': 'type.googleapis.com/google.rpc.Help', 'links': [{'description': 'Learn more about Gemini API quotas', 'url': 'https://ai.google.dev/gemini-api/docs/rate-limits'}]}, {'@type': 'type.googleapis.com/google.rpc.RetryInfo', 'retryDelay': '18s'}]}}\n",
            "Searching for \"deep-sea chemosynthesis\"\n",
            "Related search terms: ['Deep-sea community', 'Deep sea', 'Hydrothermal vent']\n",
            "Searching for \"deep-sea pressure adaptation\"\n",
            "Related search terms: ['Deep-sea gigantism', 'Deep sea', 'Deep-sea fish']\n",
            "Searching for \"deep-sea temperature adaptation\"\n",
            "Related search terms: ['Deep-sea gigantism', 'Deep sea', 'Deep-sea fish']\n",
            "Information Sources:\n",
            "     https://en.wikipedia.org/wiki/Deep_sea\n",
            "     https://en.wikipedia.org/wiki/Deep-sea_fish\n",
            "     https://en.wikipedia.org/wiki/Deep-sea_gigantism\n",
            "     https://en.wikipedia.org/wiki/Deep-sea_community\n",
            "     https://en.wikipedia.org/wiki/Deep_sea_mining\n",
            "     https://en.wikipedia.org/wiki/Hydrothermal_vent\n",
            "     https://en.wikipedia.org/wiki/Axial_Seamount\n",
            "     https://en.wikipedia.org/wiki/Hydrothermal_vent_microbial_communities\n",
            "     https://en.wikipedia.org/wiki/Chondrocladia_concrescens\n",
            "     https://en.wikipedia.org/wiki/King_(2003_TV_series)\n",
            "     https://en.wikipedia.org/wiki/List_of_Star_Wars_creatures\n",
            "     https://en.wikipedia.org/wiki/Sea\n",
            "     https://en.wikipedia.org/wiki/Microorganism\n",
            "     https://en.wikipedia.org/wiki/List_of_longest-living_organisms\n",
            "     https://en.wikipedia.org/wiki/Psychrophile\n",
            "     https://en.wikipedia.org/wiki/Deepsea_Challenger\n"
          ]
        }
      ],
      "source": [
        "# Execute the function with the arguments from the function call\n",
        "if function_call and hasattr(function_call, 'args'):\n",
        "    summaries = wikipedia_search(**function_call.args)\n",
        "else:\n",
        "    print(\"Could not execute function, missing function call or arguments.\")\n",
        "    summaries = []"
      ]
    },
    {
      "cell_type": "markdown",
      "metadata": {
        "id": "kv4WGnG_gT3F"
      },
      "source": [
        "Now send the `FunctionResult` to the model."
      ]
    },
    {
      "cell_type": "code",
      "execution_count": null,
      "metadata": {
        "id": "bcLuieHqj9PW",
        "colab": {
          "base_uri": "https://localhost:8080/",
          "height": 753
        },
        "outputId": "23f18a03-571f-45a9-8d8a-4cc250f05264"
      },
      "outputs": [
        {
          "output_type": "execute_result",
          "data": {
            "text/plain": [
              "<IPython.core.display.Markdown object>"
            ],
            "text/markdown": "> Deep-sea life survives through a variety of adaptations to the extreme conditions of its environment. These adaptations can be broadly categorized as relating to energy acquisition, pressure, temperature, and sensory perception.\n> \n> *   **Energy Acquisition:** Since sunlight doesn't penetrate the deep sea, photosynthesis is not possible. Deep-sea creatures rely on:\n>     *   **Marine snow:** This is organic matter that drifts down from the photic zone above.\n>     *   **Scavenging:** Many deep-sea organisms are scavengers, feeding on carcasses that sink to the ocean floor. Whale falls, for example, provide a substantial source of nutrients.\n>     *   **Chemosynthesis:** Around hydrothermal vents and cold seeps, chemosynthetic bacteria and archaea form the base of the food chain. These organisms use chemicals like hydrogen sulfide, methane, and other hydrocarbons to produce energy, supporting diverse communities of organisms like tube worms, clams, and shrimp.\n>     *   **Predation:** Many deep-sea creatures are predators, adapted to finding and capturing prey in the dark. Some, like the anglerfish, use bioluminescent lures to attract prey.\n> \n> *   **Pressure Adaptation:** The immense pressure of the deep sea (increasing by about 1 atmosphere every 10 meters) requires specific adaptations:\n>     *   Organisms maintain the same pressure inside their bodies as the external pressure.\n>     *   Cellular membranes favor phospholipid bilayers with a higher proportion of unsaturated fatty acids to maintain fluidity.\n>     *   Some species have jelly-like flesh made of glycosaminoglycans for low density.\n>     *   Reduced or minimal bone structure and the elimination of excess cavities.\n> \n> *   **Temperature Adaptation:** The deep sea is generally very cold (around 5-6°C), though hydrothermal vents can have extremely high temperatures:\n>     *   Psychrophiles are organisms which thrive in low temperatures (−20 °C to 20 °C). They protect from freezing through ice-induced desiccation and vitrification.\n>     *   Lipid membrane adaptation with high content of short, unsaturated fatty acids and carotenoids to maintain membrane fluidity.\n>     *   Antifreeze proteins: Prevent ice formation and recrystallization.\n> \n> *   **Sensory Adaptations:** In the absence of sunlight, deep-sea creatures have developed alternative sensory strategies:\n>     *   **Bioluminescence:** Many species use bioluminescence for attracting prey, communication, and camouflage (counter-illumination).\n>     *   **Large, sensitive eyes:** Some fish have large, tubular eyes adapted to detecting the faint bioluminescent light. Some eyes are even 100 times more sensitive than human eyes.\n>     *   **Other senses:** Some species rely on sensitivity to pressure changes and smell to locate prey and mates.\n> \n> *   **Other Adaptations:**\n>     *   **Buoyancy:** Many deep-sea creatures lack swim bladders due to the high pressure. They may have jelly-like flesh, high fat content, and reduced skeletal weight to maintain buoyancy.\n>     *   **Feeding:** Adaptations for consuming large prey include sharp teeth, hinged jaws, large mouths, and expandable bodies, as seen in the gulper eel.\n>     *   **Gigantism:** Some deep-sea organisms exhibit deep-sea gigantism, growing larger than their shallow-water relatives, potentially as an adaptation to colder temperatures, food scarcity, and reduced predation pressure.\n>     *   **Reproduction:** Some organisms are hermaphroditic due to the difficulty of finding mates in the vast, dark environment.\n> \n> These diverse adaptations allow life to thrive in the extreme and unique environment of the deep sea.\n"
          },
          "metadata": {},
          "execution_count": 22
        }
      ],
      "source": [
        "# Build the Part from your function’s output\n",
        "func_resp_part = types.Part.from_function_response(\n",
        "    name=\"wikipedia_search\",\n",
        "    response={\"result\": summaries},\n",
        ")\n",
        "\n",
        "# Send it back into the chat with a GenerateContentConfig\n",
        "response = chat.send_message(\n",
        "    message=func_resp_part,\n",
        "    config=types.GenerateContentConfig()\n",
        ")\n",
        "\n",
        "# Render as markdown\n",
        "to_markdown(response.text)"
      ]
    },
    {
      "cell_type": "markdown",
      "metadata": {
        "id": "L2Vfv8xpmuV1"
      },
      "source": [
        "## Re-ranking the search results"
      ]
    },
    {
      "cell_type": "markdown",
      "metadata": {
        "id": "cQ3JUJLeGGzA"
      },
      "source": [
        "Helper function to embed the content:"
      ]
    },
    {
      "cell_type": "code",
      "execution_count": null,
      "metadata": {
        "id": "mSkE7EynJBwF"
      },
      "outputs": [],
      "source": [
        "def get_embeddings(texts: list[str]) -> np.ndarray:\n",
        "    # call the new embed_content endpoint\n",
        "    response = client.models.embed_content(\n",
        "        model='text-embedding-004',   # updated model ID\n",
        "        contents=texts\n",
        "    )\n",
        "    # extract the vector for each input\n",
        "    embeddings = [e.values for e in response.embeddings]\n",
        "    return np.array(embeddings)"
      ]
    },
    {
      "cell_type": "markdown",
      "metadata": {
        "id": "tip8ArqJf_ep"
      },
      "source": [
        "Please refer to the [embeddings guide](https://ai.google.dev/docs/embeddings_guide) for more information on embeddings."
      ]
    },
    {
      "cell_type": "markdown",
      "metadata": {
        "id": "nSPyycFuFj-_"
      },
      "source": [
        "Your next step is to define functions that you can use to calculate similarity scores between two embedding vectors. These scores will help you decide which embedding vector is the most relevant vector to the user's query.\n"
      ]
    },
    {
      "cell_type": "markdown",
      "metadata": {
        "id": "ltbB0vDsKQtI"
      },
      "source": [
        "You will now implement cosine similarity as your metric. Here returned embedding vectors will be of unit length and hence their L1 norm (`np.linalg.norm()`) will be ~1. Hence, calculating cosine similarity is esentially same as calculating their dot product score."
      ]
    },
    {
      "cell_type": "code",
      "execution_count": null,
      "metadata": {
        "id": "9iDFdzq_JWJW"
      },
      "outputs": [],
      "source": [
        "def dot_product(a: np.ndarray, b: np.ndarray) -> np.ndarray:\n",
        "    return a @ b.T"
      ]
    },
    {
      "cell_type": "markdown",
      "metadata": {
        "id": "MrF_1c_M_Hw3"
      },
      "source": [
        "### Similarity with user's query\n",
        "\n",
        "Now it's time to find the most relevant search result returned by the Wikipedia API.\n",
        "\n",
        "Use Gemini API to get embeddings for user's query and search results."
      ]
    },
    {
      "cell_type": "code",
      "execution_count": null,
      "metadata": {
        "id": "gK9ryjftGDNe"
      },
      "outputs": [],
      "source": [
        "search_res = get_embeddings(summaries)\n",
        "query_emb  = get_embeddings([query])"
      ]
    },
    {
      "cell_type": "markdown",
      "metadata": {
        "id": "2wwWq30uGRG3"
      },
      "source": [
        "Calculate similarity score:"
      ]
    },
    {
      "cell_type": "code",
      "execution_count": null,
      "metadata": {
        "id": "jWlFNYIsGV0X"
      },
      "outputs": [],
      "source": [
        "sim_value = dot_product(search_res, query_emb)"
      ]
    },
    {
      "cell_type": "markdown",
      "metadata": {
        "id": "bJW1pQQXG2w2"
      },
      "source": [
        "using `np.argmax` best candidate is selected.\n",
        "\n",
        "**Users's Input:** Explain how deep-sea life survives.\n",
        "\n",
        "**Answer:**"
      ]
    },
    {
      "cell_type": "code",
      "execution_count": null,
      "metadata": {
        "id": "8vDMDnCsG8Wn",
        "colab": {
          "base_uri": "https://localhost:8080/"
        },
        "outputId": "f2c7c567-9329-43ca-fb70-1bb3be682004"
      },
      "outputs": [
        {
          "output_type": "stream",
          "name": "stdout",
          "text": [
            "Deep-sea organisms survival strategies (specifically related to cold temperatures, based on the context of the source):\n",
            "\n",
            "*   **Psychrophiles:** Organisms that thrive in low temperatures (−20 °C to 20 °C) and are found in the deep sea.\n",
            "*   **Adaptations to cold environments:**\n",
            "    *   **Protection from freezing:** Ice-induced desiccation and vitrification (glass transition).\n",
            "    *   **Lipid membrane adaptation:** High content of short, unsaturated fatty acids and carotenoids to maintain membrane fluidity.\n",
            "    *   **Antifreeze proteins:** Prevent ice formation and recrystallization.\n",
            "    *   **Enzyme flexibility:** Increased flexibility of enzyme structure to compensate for freezing.\n",
            "    *   **Viable but Nonculturable (VBNC) state:** Transition into a state where the organism can respire and use substrates but cannot replicate, potentially as a survival strategy.\n",
            "*   **High pressure:** Adaptation to high pressure in the deep sea.\n",
            "*   **Taxonomic range:** bacteria\n",
            "*   **Psychrotrophic microbes:** Able to grow at temperatures below 7 °C\n",
            "\n",
            "\n",
            "Based on:\n",
            "  https://en.wikipedia.org/wiki/Psychrophile\n"
          ]
        }
      ],
      "source": [
        "print(summaries[np.argmax(sim_value)])"
      ]
    },
    {
      "cell_type": "markdown",
      "metadata": {
        "id": "Ozn6mIFvoyJU"
      },
      "source": [
        "### Similarity with Hypothetical Document Embeddings (HyDE)\n",
        "\n",
        "Drawing inspiration from [Gao et al](https://arxiv.org/abs/2212.10496) the objective here is to generate a template answer to the user's query using `gemini-2.0-flash`'s internal knowledge. This hypothetical answer will serve as a baseline to calculate relevance of all the search results."
      ]
    },
    {
      "cell_type": "code",
      "execution_count": null,
      "metadata": {
        "id": "J7m5KAkMREBH",
        "colab": {
          "base_uri": "https://localhost:8080/",
          "height": 509
        },
        "outputId": "bf04a30e-f4db-409f-a527-18eec5758efc"
      },
      "outputs": [
        {
          "output_type": "execute_result",
          "data": {
            "text/plain": [
              "<IPython.core.display.Markdown object>"
            ],
            "text/markdown": "> Alright, let's dive deep (pun intended!) into the fascinating world of deep-sea survival. Forget sunshine and gentle breezes – down there, it's a whole different ballgame. It's a world defined by crushing pressure, perpetual darkness, and a scarcity of food. So, how do these incredible creatures manage to thrive? It's a symphony of adaptations, cleverly tuned to the unique challenges of their environment.\n> \n> Firstly, **Pressure, Pressure Everywhere**: We’re talking pressures that would turn a human into a… well, let’s just say something resembling a pancake. Deep-sea creatures have evolved several strategies to cope. Many don’t have air-filled cavities like lungs or swim bladders, which would be crushed. Instead, their bodies are often filled with fluids and oils that are nearly incompressible. Think of it like comparing a balloon to a water balloon – which one handles pressure better? Exactly! They also have specialized proteins and enzymes that function efficiently under immense pressure, a bit like having tiny, pressure-resistant power tools.\n> \n> Secondly, **In Total Darkness**: The sun doesn’t penetrate this far, so photosynthesis is out. That means plants are non-existent. The deep sea is largely dependent on the \"marine snow,\" which is organic detritus that rains down from the surface waters. But, that’s not always enough! Some species are masters of *[Hypothetical feeding adaptation based on specific deep-sea organism]*, while others rely on **chemosynthesis**, using chemicals like hydrogen sulfide or methane spewed from hydrothermal vents as a source of energy. Imagine them as underwater factories, churning out energy from the Earth itself!\n> \n> Thirdly, **Food – A Scarcity Mindset**: Since food is limited, deep-sea creatures have evolved incredibly efficient metabolisms. They're essentially running on fumes, moving slowly and conserving energy wherever possible. Many are ambush predators, lying in wait for unsuspecting prey to wander by. Picture a *[Hypothetical deep-sea predator]* with its *[Hypothetical lure adaptation]*, patiently waiting in the blackness for its next meal. Others have developed huge mouths and expandable stomachs, allowing them to capitalize on the rare opportunities for a big meal. Think \"feast or famine\" on steroids!\n> \n> Finally, **Communication and Reproduction**: Finding a mate in the vast darkness can be a challenge. Many deep-sea creatures use **bioluminescence**, producing their own light to attract partners (or prey!). Think of them as living Christmas lights, twinkling in the abyssal plains. They also use *[Hypothetical method of sensing environment and finding mates in the dark]* to communicate and navigate. Reproduction strategies are equally fascinating, with some species exhibiting unusual mating behaviors and *[Hypothetical reproduction strategy]*.\n> \n> In short, deep-sea life is a testament to the power of adaptation. These creatures have evolved remarkable strategies to overcome the extreme challenges of their environment, demonstrating the incredible resilience and ingenuity of life on Earth. It's a world of weird and wonderful creatures, constantly surprising us with their bizarre and beautiful adaptations.\n"
          },
          "metadata": {},
          "execution_count": 31
        }
      ],
      "source": [
        "# Generate hypothetical answer using the client\n",
        "res = client.models.generate_content(\n",
        "    model=\"gemini-2.0-flash\",\n",
        "    contents=f\"\"\"Generate a hypothetical answer\n",
        "to the user's query by using your own knowledge. Assume that you know everything\n",
        "about the said topic. Do not use factual information, instead use placeholders\n",
        "to complete your answer. Your answer should feel like it has been written by a human.\n",
        "\n",
        "query: {query}\"\"\"\n",
        ")\n",
        "\n",
        "to_markdown(res.text)"
      ]
    },
    {
      "cell_type": "markdown",
      "metadata": {
        "id": "85f4MpLgrYbW"
      },
      "source": [
        "Use Gemini API to get embeddings for the baseline answer and compare them with search results"
      ]
    },
    {
      "cell_type": "code",
      "execution_count": null,
      "metadata": {
        "id": "fSI6-5eYI3me"
      },
      "outputs": [],
      "source": [
        "hypothetical_ans = get_embeddings([res.text])"
      ]
    },
    {
      "cell_type": "markdown",
      "metadata": {
        "id": "WxYGEWbqrh44"
      },
      "source": [
        "Calculate similarity scores to rank the search results"
      ]
    },
    {
      "cell_type": "code",
      "execution_count": null,
      "metadata": {
        "id": "99sjvMtlJfL_"
      },
      "outputs": [],
      "source": [
        "sim_value = dot_product(search_res, hypothetical_ans)"
      ]
    },
    {
      "cell_type": "code",
      "execution_count": null,
      "metadata": {
        "id": "C32IhIapQFNa",
        "colab": {
          "base_uri": "https://localhost:8080/"
        },
        "outputId": "5f488bf6-9928-4984-f192-b2017bd29642"
      },
      "outputs": [
        {
          "output_type": "execute_result",
          "data": {
            "text/plain": [
              "array([[0.82175196],\n",
              "       [0.83640874],\n",
              "       [0.77970876],\n",
              "       [0.79748942],\n",
              "       [0.7002488 ],\n",
              "       [0.71700249],\n",
              "       [0.64705747],\n",
              "       [0.68503258],\n",
              "       [0.61503797],\n",
              "       [0.51633416],\n",
              "       [0.63575328],\n",
              "       [0.67186001],\n",
              "       [0.66982765],\n",
              "       [0.7761045 ]])"
            ]
          },
          "metadata": {},
          "execution_count": 34
        }
      ],
      "source": [
        "sim_value"
      ]
    },
    {
      "cell_type": "markdown",
      "metadata": {
        "id": "wJ7pklxursSk"
      },
      "source": [
        "using `np.argmax` best candidate is selected.\n",
        "\n",
        "**Users's Input:** Explain how deep-sea life survives.\n",
        "\n",
        "**Answer:**"
      ]
    },
    {
      "cell_type": "code",
      "execution_count": null,
      "metadata": {
        "id": "MzTfyU_mJ8-M",
        "colab": {
          "base_uri": "https://localhost:8080/",
          "height": 1000
        },
        "outputId": "6f7eda48-d28c-4759-8c0f-b25175d5f510"
      },
      "outputs": [
        {
          "output_type": "execute_result",
          "data": {
            "text/plain": [
              "<IPython.core.display.Markdown object>"
            ],
            "text/markdown": "> **General Adaptations to Deep-Sea Life:**\n> \n> *   **Sensory Adaptations:**\n> \n>     *   Blindness in some species, relying on sensitivity to pressure changes and smell.\n>     *   Large, sensitive eyes in others, adapted to using bioluminescent light, up to 100 times more sensitive than human eyes.\n>     *   Multiple Rh1 opsin genes (e.g., silver spinyfin with 38) for enhanced vision in dim light.\n> *   **Camouflage:** Dark coloration to blend in with the environment and avoid predation.\n> *   **Bioluminescence:**\n> \n>     *   Common adaptation in deep-sea fish.\n>     *   Production of light through luciferin molecules and oxygen.\n>     *   Photophores: light-producing glandular cells with luminous bacteria, sometimes with lenses.\n>     *   Purposes: attracting prey (anglerfish), claiming territory, communication/mate finding, distracting predators.\n>     *   Counter-illumination: Camouflaging from predators by illuminating bellies to match light from above.\n> *   **Buoyancy:**\n> \n>     *   Lack of swim bladders due to high pressure.\n>     *   Hydrofoil-like structures for hydrodynamic lift.\n>     *   Jelly-like flesh and minimal bone structure to reduce tissue density.\n>     *   High fat content, reduced skeletal weight, and water accumulation for buoyancy.\n> *   **Feeding:**\n> \n>     *   Long feelers to locate prey/mates in darkness.\n>     *   Anglerfish with bioluminescent lure.\n>     *   Adaptations for consuming large prey: sharp teeth, hinged jaws, large mouths, expandable bodies (gulper eel).\n> *   **Environment**\n> \n>     * Marine snow provides energy.\n> * **Pressure Adaptation:**\n>     * Deep-sea organisms have the same pressure within their bodies as is exerted on them from the outside.\n>     * Reduced fluidity of membranes.\n>     * Increasing the proportion of unsaturated fatty acids in the lipids of the cell membranes.\n>     * Biochemical reactions must ultimately decrease the volume of the organism to some degree.\n> \n> **Specific Adaptations in Different Zones:**\n> \n> *   **Mesopelagic Fish:**\n> \n>     *   Daily vertical migrations.\n>     *   Muscular bodies, ossified bones, scales, developed gills and nervous systems, large hearts and kidneys.\n>     *   Plankton feeders have small mouths with fine gill rakers; piscivores have larger mouths and coarser gill rakers.\n>     *   Large eyes as visual predators.\n>     *   Tubular eyes with big lenses looking upwards for improved terminal vision.\n>     *   Lack of defensive spines, use color for camouflage.\n>     *   Ambush predators are dark/black/red; migratory forms use silvery colors.\n>     *   Photophores for counter-illumination.\n> *   **Bathypelagic Fish:**\n> \n>     *   Slow metabolisms and unspecialized diets.\n>     *   Lie-in-wait predators.\n>     *   Elongated bodies with weak muscles and skeletal structures.\n>     *   Extensible, hinged jaws with recurved teeth.\n>     *   Slimy, without scales.\n>     *   Reduced or non-functional eyes.\n>     *   Small or missing gills, kidneys, hearts, and swim bladders.\n>     *   Black or red coloration with few photophores.\n>     *   Hermaphroditism in some species to increase chances of mating.\n>     *   Male anglerfish fusing with females for reproduction.\n> *   **Pressure adaptation:**\n>     * Deep-sea organisms possess adaptations at cellular and physiological levels that allow them to survive in environments of great pressure.\n>     * Equilibrium of chemical reactions is disturbed by pressure, and pressure can inhibit processes which result in an increase in volume.\n>     * Enzymatic reactions that induce changes in water organization effectively change the system's volume.\n>     * Deep-sea cellular membranes favor phospholipid bilayers with a higher proportion of unsaturated fatty acids, which induce a higher fluidity than their sea-level counterparts.\n> * **Lantern fish:**\n>     * Account for as much as 65% of all deep-sea fish biomass.\n>     * Playing an important ecological role as prey for larger organisms.\n> * **Endangered Species**\n>     * Slow reproduction of these fish\n> \n> \n> Based on:\n>   https://en.wikipedia.org/wiki/Deep-sea_fish"
          },
          "metadata": {},
          "execution_count": 35
        }
      ],
      "source": [
        "to_markdown(summaries[np.argmax(sim_value)])"
      ]
    },
    {
      "cell_type": "markdown",
      "metadata": {
        "id": "UjDN2OUpsL6M"
      },
      "source": [
        "You have now created a search re-ranking engine using Gemini embeddings with the Google GenAI SDK v1.0.0+!\n",
        "\n",
        "In this notebook, you've learned how to:\n",
        "1. Set up and use the new Google GenAI client\n",
        "2. Use function calling to access the Wikipedia API\n",
        "3. Embed content using the new embedding API format\n",
        "4. Re-rank search results using similarity metrics"
      ]
    },
    {
      "cell_type": "markdown",
      "metadata": {
        "id": "AKH2vs2Lc1R1"
      },
      "source": [
        "## Next steps\n",
        "\n",
        "I hope you found this example helpful! Check out more examples in the [Gemini Guide](https://github.com/google-gemini/gemini-guide/) to learn more."
      ]
    }
  ],
  "metadata": {
    "colab": {
      "name": "Search_reranking_using_embeddings.ipynb",
      "provenance": []
    },
    "kernelspec": {
      "display_name": "Python 3",
      "name": "python3"
    },
    "language_info": {
      "codemirror_mode": {
        "name": "ipython",
        "version": 3
      },
      "file_extension": ".py",
      "mimetype": "text/x-python",
      "name": "python",
      "nbconvert_exporter": "python",
      "pygments_lexer": "ipython3",
      "version": "3.11.8"
    }
  },
  "nbformat": 4,
  "nbformat_minor": 0
}