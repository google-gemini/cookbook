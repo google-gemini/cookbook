{
  "cells": [
    {
      "cell_type": "markdown",
      "metadata": {
        "id": "navG4j6eqc_o"
      },
      "source": [
        "##### Copyright 2024 Google LLC."
      ]
    },
    {
      "cell_type": "code",
      "execution_count": 1,
      "metadata": {
        "cellView": "form",
        "id": "0lpR41ozqBFp"
      },
      "outputs": [],
      "source": [
        "# @title Licensed under the Apache License, Version 2.0 (the \"License\");\n",
        "# you may not use this file except in compliance with the License.\n",
        "# You may obtain a copy of the License at\n",
        "#\n",
        "# https://www.apache.org/licenses/LICENSE-2.0\n",
        "#\n",
        "# Unless required by applicable law or agreed to in writing, software\n",
        "# distributed under the License is distributed on an \"AS IS\" BASIS,\n",
        "# WITHOUT WARRANTIES OR CONDITIONS OF ANY KIND, either express or implied.\n",
        "# See the License for the specific language governing permissions and\n",
        "# limitations under the License."
      ]
    },
    {
      "cell_type": "markdown",
      "metadata": {
        "id": "k9g4WhqtqiV-"
      },
      "source": [
        "# Gemini API: Context Caching Quickstart\n",
        "\n",
        "<table align=\"left\">\n",
        "  <td>\n",
        "    <a target=\"_blank\" href=\"https://colab.research.google.com/github/google-gemini/cookbook/blob/main/quickstarts/Caching.ipynb\"><img src=\"../images/colab_logo_32px.png\" />Run in Google Colab</a>\n",
        "  </td>\n",
        "</table>"
      ]
    },
    {
      "cell_type": "markdown",
      "metadata": {
        "id": "WCC-LFNtqogI"
      },
      "source": [
        "This notebook introduces context caching with the Gemini API and provides examples of interacting with the Apollo 11 transcript using the Python SDK. For a more comprehensive look, check out [the caching guide](https://ai.google.dev/gemini-api/docs/caching?lang=python)."
      ]
    },
    {
      "cell_type": "markdown",
      "metadata": {
        "id": "857d8bf104ed"
      },
      "source": [
        "### Install dependencies"
      ]
    },
    {
      "cell_type": "code",
      "execution_count": 2,
      "metadata": {
        "id": "5yRLvyPhrXSf"
      },
      "outputs": [],
      "source": [
        "!pip install -qU 'google-generativeai>=0.7.0'"
      ]
    },
    {
      "cell_type": "code",
      "execution_count": 3,
      "metadata": {
        "id": "4xdJSvLerazn"
      },
      "outputs": [],
      "source": [
        "import google.generativeai as genai\n",
        "from google.generativeai import caching"
      ]
    },
    {
      "cell_type": "markdown",
      "metadata": {
        "id": "xrJYxEpOrc3d"
      },
      "source": [
        "### Configure your API key\n",
        "\n",
        "To run the following cell, your API key must be stored it in a Colab Secret named `GOOGLE_API_KEY`. If you don't already have an API key, or you're not sure how to create a Colab Secret, see [Authentication](../quickstarts/Authentication.ipynb) for an example."
      ]
    },
    {
      "cell_type": "code",
      "execution_count": 4,
      "metadata": {
        "id": "EgO56yWoriI0"
      },
      "outputs": [],
      "source": [
        "from google.colab import userdata\n",
        "\n",
        "genai.configure(api_key=userdata.get(\"GOOGLE_API_KEY\"))"
      ]
    },
    {
      "cell_type": "markdown",
      "metadata": {
        "id": "2T-ZorTqrsoz"
      },
      "source": [
        "## Upload a file\n",
        "\n",
        "A common pattern with the Gemini API is to ask a number of questions of the same document. Context caching is designed to assist with this case, and can be more efficient by avoiding the need to pass the same tokens through the model for each new request.\n",
        "\n",
        "This example will be based on the transcript from the Apollo 11 mission.\n",
        "\n",
        "Start by downloading that transcript."
      ]
    },
    {
      "cell_type": "code",
      "execution_count": 5,
      "metadata": {
        "id": "Sa-r2s_ltBXy"
      },
      "outputs": [
        {
          "name": "stdout",
          "output_type": "stream",
          "text": [
            "INTRODUCTION\n",
            "\n",
            "This is the transcription of the Technical Air-to-Ground Voice Transmission (GOSS NET 1) from the Apollo 11 mission.\n",
            "\n",
            "Communicators in the text may be identified according to the following list.\n",
            "\n",
            "Spacecraft:\n",
            "CDR\tCommander\tNeil A. Armstrong\n",
            "CMP\tCommand module pilot   \tMichael Collins\n",
            "LMP\tLunar module pilot\tEdwin E. ALdrin, Jr.\n"
          ]
        }
      ],
      "source": [
        "!wget -q https://storage.googleapis.com/generativeai-downloads/data/a11.txt\n",
        "!head a11.txt"
      ]
    },
    {
      "cell_type": "markdown",
      "metadata": {
        "id": "014697858670"
      },
      "source": [
        "Now upload the transcript using the [File API](../quickstarts/File_API.ipynb)."
      ]
    },
    {
      "cell_type": "code",
      "execution_count": 6,
      "metadata": {
        "id": "b3bU9AvcvZ_x"
      },
      "outputs": [],
      "source": [
        "document = genai.upload_file(path=\"a11.txt\")"
      ]
    },
    {
      "cell_type": "markdown",
      "metadata": {
        "id": "N4LP7unAvmce"
      },
      "source": [
        "## Cache the prompt\n",
        "\n",
        "Next create a [`CachedContent`](https://ai.google.dev/api/python/google/generativeai/protos/CachedContent) object specifying the prompt you want to use, including the file and other fields you wish to cache. In this example the [`system_instruction`](../quickstarts/System_instructions.ipynb) has been set, and the document was provided in the prompt."
      ]
    },
    {
      "cell_type": "code",
      "execution_count": 7,
      "metadata": {
        "id": "55V-QkaWv4tb"
      },
      "outputs": [
        {
          "data": {
            "text/plain": [
              "CachedContent(\n",
              "    name='cachedContents/40k37vcojf2o',\n",
              "    model='models/gemini-2.0-flash',\n",
              "    display_name='',\n",
              "    usage_metadata={\n",
              "        'total_token_count': 323383,\n",
              "    },\n",
              "    create_time=2024-06-18 16:15:48.903792+00:00,\n",
              "    update_time=2024-06-18 16:15:48.903792+00:00,\n",
              "    expire_time=2024-06-18 17:15:48.514878+00:00\n",
              ")"
            ]
          },
          "execution_count": 7,
          "metadata": {},
          "output_type": "execute_result"
        }
      ],
      "source": [
        "# Note that caching requires a frozen model, e.g. one with a `-001` suffix.\n",
        "model_name = \"gemini-1.5-flash-002\"\n",
        "import google.generativeai as genai\n",
        "from google.generativeai import caching\n",
        "<|file_separator|>\n",
        "\n",
        "apollo_cache = caching.CachedContent.create(\n",
        "    model=model_name,\n",
        "    system_instruction=\"You are an expert at analyzing transcripts.\",\n",
        "    contents=[document],\n",
        ")\n",
        "\n",
        "apollo_cache"
      ]
    },
    {
      "cell_type": "markdown",
      "metadata": {
        "id": "9j5yzay5xyPC"
      },
      "source": [
        "## Manage the cache expiry\n",
        "\n",
        "Once you have a `CachedContent` object, you can update the expiry time to keep it alive while you need it."
      ]
    },
    {
      "cell_type": "code",
      "execution_count": 8,
      "metadata": {
        "id": "cUJT2ESUyTGb"
      },
      "outputs": [
        {
          "data": {
            "text/plain": [
              "CachedContent(\n",
              "    name='cachedContents/40k37vcojf2o',\n",
              "    model='models/gemini-2.0-flash',\n",
              "    display_name='',\n",
              "    usage_metadata={\n",
              "        'total_token_count': 323383,\n",
              "    },\n",
              "    create_time=2024-06-18 16:15:48.903792+00:00,\n",
              "    update_time=2024-06-18 16:15:49.983070+00:00,\n",
              "    expire_time=2024-06-18 18:15:49.822943+00:00\n",
              ")"
            ]
          },
          "execution_count": 8,
          "metadata": {},
          "output_type": "execute_result"
        }
      ],
      "source": [
        "import datetime\n",
        "\n",
        "apollo_cache.update(ttl=datetime.timedelta(hours=2))\n",
        "apollo_cache"
      ]
    },
    {
      "cell_type": "markdown",
      "metadata": {
        "id": "t_PWabuayrf-"
      },
      "source": [
        "## Use the cache for generation\n",
        "\n",
        "As the `CachedContent` object refers to a specific model and parameters, you must create a [`GenerativeModel`](https://ai.google.dev/api/python/google/generativeai/GenerativeModel) using [`from_cached_content`](https://ai.google.dev/api/python/google/generativeai/GenerativeModel#from_cached_content). Then, generate content as you would with a directly instantiated model object."
      ]
    },
    {
      "cell_type": "code",
      "execution_count": 9,
      "metadata": {
        "id": "EG8VNpuIzGwT"
      },
      "outputs": [
        {
          "name": "stdout",
          "output_type": "stream",
          "text": [
            "A lighthearted moment occurs on page 31 of the transcript. The astronauts are discussing their view of Earth and Mission Control comments on how good the view must be from up there. \n",
            "\n",
            "**CMP:**  I didn't know what I was looking at, but I sure did like it.\n",
            "**CC:** Okay. I guess the view must be pretty good from up there. We show you just roughly somewhere around 19,000 miles out now.\n",
            "**CMP:** I didn't have much outside my window.\n",
            "**CC:** We'll get you into the PTC one of these days, and you take turns looking. \n",
            "\n",
            "This exchange is lighthearted because the astronauts are joking about the limited view from their individual windows and the Mission Control is playfully suggesting they share the view by switching positions.  This lighthearted moment shows the astronauts' sense of humor and camaraderie even during a stressful mission. \n",
            "\n"
          ]
        }
      ],
      "source": [
        "apollo_model = genai.GenerativeModel.from_cached_content(cached_content=apollo_cache)\n",
        "\n",
        "response = apollo_model.generate_content(\"Find a lighthearted moment from this transcript\")\n",
        "print(response.text)"
      ]
    },
    {
      "cell_type": "markdown",
      "metadata": {
        "id": "SzixLQhC3AO2"
      },
      "source": [
        "You can inspect token usage through `usage_metadata`. Note that the cached prompt tokens are included in `prompt_token_count`, but excluded from the `total_token_count`."
      ]
    },
    {
      "cell_type": "code",
      "execution_count": 10,
      "metadata": {
        "id": "MLFd8DFZ29lC"
      },
      "outputs": [
        {
          "data": {
            "text/plain": [
              "prompt_token_count: 323392\n",
              "candidates_token_count: 189\n",
              "total_token_count: 198\n",
              "cached_content_token_count: 323383"
            ]
          },
          "execution_count": 10,
          "metadata": {},
          "output_type": "execute_result"
        }
      ],
      "source": [
        "response.usage_metadata"
      ]
    },
    {
      "cell_type": "markdown",
      "metadata": {
        "id": "o-24t14t302N"
      },
      "source": [
        "You can ask new questions of the model, and the cache is reused."
      ]
    },
    {
      "cell_type": "code",
      "execution_count": 11,
      "metadata": {
        "id": "pZngmGj13k9O"
      },
      "outputs": [
        {
          "name": "stdout",
          "output_type": "stream",
          "text": [
            "The most important part of the transcript is when Neil Armstrong steps onto the lunar surface.  Here's his famous quote: \n",
            "\n",
            "\"**That's one small step for (a) man, one giant leap for mankind.**\" \n",
            "\n"
          ]
        }
      ],
      "source": [
        "chat = apollo_model.start_chat()\n",
        "response = chat.send_message(\"Give me a quote from the most important part of the transcript.\")\n",
        "print(response.text)"
      ]
    },
    {
      "cell_type": "code",
      "execution_count": 12,
      "metadata": {
        "id": "GhGTutW65u7h"
      },
      "outputs": [
        {
          "name": "stdout",
          "output_type": "stream",
          "text": [
            "After Neil Armstrong's famous quote, the transcript details his initial observations of the lunar surface:\n",
            "\n",
            "* **The surface is fine and powdery.**  He describes being able to pick up the dust with his toe, and how it sticks to his boots.\n",
            "* **There seems to be no difficulty in moving around.** He found it easier than the simulations on Earth, and that walking is comfortable.\n",
            "* **The descent engine did not leave a crater of any size.** He notes that the LM had about a foot of clearance from the surface.\n",
            "* **There is some evidence of rays emanating from the descent engine.**  This is an indication of the engine's impact on the lunar surface. \n",
            "\n",
            "These initial observations provide the first detailed description of the lunar surface, marking a historic moment in human exploration. \n",
            "\n"
          ]
        }
      ],
      "source": [
        "response = chat.send_message(\"What was recounted after that?\")\n",
        "print(response.text)"
      ]
    },
    {
      "cell_type": "code",
      "execution_count": 13,
      "metadata": {
        "id": "SB5Ywx2D6cOn"
      },
      "outputs": [
        {
          "data": {
            "text/plain": [
              "prompt_token_count: 323455\n",
              "candidates_token_count: 164\n",
              "total_token_count: 236\n",
              "cached_content_token_count: 323383"
            ]
          },
          "execution_count": 13,
          "metadata": {},
          "output_type": "execute_result"
        }
      ],
      "source": [
        "response.usage_metadata"
      ]
    },
    {
      "cell_type": "markdown",
      "metadata": {
        "id": "7acf6cd63d2d"
      },
      "source": [
        "As you can see, among the 323455 tokens, 323383 were cached (and thus less expensive) and only 236 were from the prompt.\n",
        "\n",
        "Since the cached tokens are cheaper than the normal ones, it means this prompt was 75% cheaper that if you had not used caching. Check the [pricing here](https://ai.google.dev/pricing) for the up-to-date discount on cached tokens."
      ]
    },
    {
      "cell_type": "markdown",
      "metadata": {
        "id": "LlU43ByS7Kt2"
      },
      "source": [
        "## Counting tokens\n",
        "\n",
        "The `GenerativeModel` object can be used to count the tokens of a request in the same manner as a direct, uncached, model."
      ]
    },
    {
      "cell_type": "code",
      "execution_count": 14,
      "metadata": {
        "id": "1zzHVCAK7ahI"
      },
      "outputs": [
        {
          "data": {
            "text/plain": [
              "total_tokens: 9"
            ]
          },
          "execution_count": 14,
          "metadata": {},
          "output_type": "execute_result"
        }
      ],
      "source": [
        "apollo_model.count_tokens(\"How many people are involved in this transcript?\")"
      ]
    },
    {
      "cell_type": "markdown",
      "metadata": {
        "id": "kfeAxehx79ng"
      },
      "source": [
        "## Delete the cache\n",
        "\n",
        "The cache has a small recurring storage cost (cf. [pricing](https://ai.google.dev/pricing)) so by default it is only saved for an hour. In this case you even set it up for a shorter amont of time (using `\"ttl\"`) of 2h.\n",
        "\n",
        "Still, if you don't need you cache anymore, it is good practice to delete it proactively."
      ]
    },
    {
      "cell_type": "code",
      "execution_count": 15,
      "metadata": {
        "id": "HdP83dj08Nb1"
      },
      "outputs": [
        {
          "name": "stdout",
          "output_type": "stream",
          "text": [
            "cachedContents/40k37vcojf2o\n"
          ]
        }
      ],
      "source": [
        "print(apollo_cache.name)\n",
        "apollo_cache.delete()"
      ]
    },
    {
      "cell_type": "markdown",
      "metadata": {
        "id": "7396e8bfdcf8"
      },
      "source": [
        "## Next Steps\n",
        "### Useful API references:\n",
        "\n",
        "If you want to know more about the caching API, you can check the full [API specifications](https://ai.google.dev/api/rest/v1beta/cachedContents) and the [caching documentation](https://ai.google.dev/gemini-api/docs/caching).\n",
        "\n",
        "### Continue your discovery of the Gemini API\n",
        "\n",
        "Check the File API notebook to know more about that API. The [vision capabilities](../quickstarts/Video.ipynb) of the Gemini API are a good reason to use the File API and the caching. \n",
        "The Gemini API also has configurable [safety settings](../quickstarts/Safety.ipynb) that you might have to customize when dealing with big files.\n"
      ]
    }
  ],
  "metadata": {
    "colab": {
      "name": "Caching.ipynb",
      "toc_visible": true
    },
    "kernelspec": {
      "display_name": "Python 3",
      "name": "python3"
    }
  },
  "nbformat": 4,
  "nbformat_minor": 0
}
