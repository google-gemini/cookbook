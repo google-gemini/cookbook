{
 "cells": [
  {
   "cell_type": "markdown",
   "metadata": {},
   "source": [
    "##### Copyright 2025 Google LLC."
   ]
  },
  {
   "cell_type": "code",
   "execution_count": null,
   "metadata": {
    "cellView": "form",
    "id": "b7ce279c7b07"
   },
   "outputs": [],
   "source": [
    "#@title Licensed under the Apache License, Version 2.0 (the \"License\");\n",
    "# you may not use this file except in compliance with the License.\n",
    "# You may obtain a copy of the License at\n",
    "#\n",
    "# https://www.apache.org/licenses/LICENSE-2.0\n",
    "#\n",
    "# Unless required by applicable law or agreed to in writing, software\n",
    "# distributed under the License is distributed on an \"AS IS\" BASIS,\n",
    "# WITHOUT WARRANTIES OR CONDITIONS OF ANY KIND, either express or implied.\n",
    "# See the License for the specific language governing permissions and\n",
    "# limitations under the License."
   ]
  },
  {
   "cell_type": "markdown",
   "metadata": {
    "id": "153886bac3ca"
   },
   "source": [
    "# Gemini API: Chatbot Quickstart\n",
    "<a target=\"_blank\" href=\"https://colab.research.google.com/github/google-gemini/cookbook/blob/main/quickstarts/Gemini_Chatbot_Tutorial.ipynb\"><img src=\"https://colab.research.google.com/assets/colab-badge.svg\" height=30/>\n",
    "---\n",
    "\n",
    "This notebook provides an example of how to use the **Gemini API to build a chatbot**.  \n",
    "You will create a conversational AI that generates responses based on user input.\n"
   ]
  },
  {
   "cell_type": "code",
   "execution_count": null,
   "metadata": {
    "id": "3f7f47043869"
   },
   "outputs": [],
   "source": [
    "# Install dependencies\n",
    "%pip install -U \"google-genai>=1.0.0\""
   ]
  },
  {
   "cell_type": "markdown",
   "metadata": {
    "id": "a0656906d23e"
   },
   "source": [
    "## Set up your API key\n",
    "\n",
    "To run the following cell, store your API key in a Colab Secret named `GOOGLE_API_KEY`.  \n",
    "If you don't already have an API key, or you're unsure how to create a Colab Secret, see the  \n",
    "[Authentication](https://github.com/google-gemini/cookbook/blob/a0b506a8f65141cec4eb9143db760c735f652a59/quickstarts/Authentication.ipynb) quickstart for an example.\n"
   ]
  },
  {
   "cell_type": "code",
   "execution_count": null,
   "metadata": {
    "id": "235ce8c11240"
   },
   "outputs": [],
   "source": [
    "# Import Libraries\n",
    "from google import genai\n",
    "from google.genai import types\n",
    "from google.colab import userdata\n",
    "\n",
    "# Configure your API key using Colab Secrets\n",
    "GOOGLE_API_KEY = userdata.get(\"GOOGLE_API_KEY\")\n",
    "client = genai.Client(api_key=GOOGLE_API_KEY)"
   ]
  },
  {
   "cell_type": "markdown",
   "metadata": {
    "id": "212ba7018c0e"
   },
   "source": [
    "## **Interact with the Gemini Chatbot**  \n",
    "\n",
    "The function below sends a user prompt to the **Gemini API**, maintains conversation history, and streams responses in real-time.  \n",
    "You can modify the model version using the `MODEL_ID` variable."
   ]
  },
  {
   "cell_type": "code",
   "execution_count": null,
   "metadata": {
    "id": "ccb55b1126b1"
   },
   "outputs": [],
   "source": [
    "# Select the Gemini model\n",
    "MODEL_ID = \"gemini-2.0-flash\"  # @param [\"gemini-2.0-flash-lite\", \"gemini-2.0-flash\", \"gemini-2.0-pro-exp-02-05\"] {\"allow-input\": true, \"isTemplate\": true}\n",
    "\n",
    "# Previous conversation history\n",
    "conversation_history = [\n",
    "    types.Content(role=\"user\", parts=[types.Part(text=\"Hello!\")]),\n",
    "    types.Content(role=\"model\", parts=[types.Part(text=\"Hi there! How can I assist you today?\")]),\n",
    "    types.Content(role=\"user\", parts=[types.Part(text=\"I have two dogs in my house. How many paws are in my house?\")]),\n",
    "    types.Content(role=\"model\", parts=[types.Part(text=\"Each dog has 4 paws, so if you have 2 dogs, that makes 8 paws in your house.\")]),\n",
    "]\n",
    "\n",
    "# Function to interact with Gemini Chatbot\n",
    "def chat_with_gemini(prompt: str) -> str:\n",
    "    \"\"\"\n",
    "    Generates a response from the Gemini chatbot for a given prompt.\n",
    "    - Maintains multi-turn conversation history\n",
    "    - Streams AI-generated responses in real-time\n",
    "    - Uses proper message formatting\n",
    "    \"\"\"\n",
    "    \n",
    "    # Append user input to conversation history\n",
    "    conversation_history.append(types.Content(role=\"user\", parts=[types.Part(text=prompt)]))\n",
    "\n",
    "    # Create a chat session with history\n",
    "    chat = client.chats.create(model=MODEL_ID, history=conversation_history)\n",
    "\n",
    "    response = chat.send_message_stream(message=prompt)  # Stream model response  \n",
    "    # response = chat.send_message(message=prompt)  # Get full response at once  \n",
    "\n",
    "    full_response = \"\"\n",
    "    print(\"Gemini:\", end=\" \", flush=True)\n",
    "    for chunk in response:\n",
    "        print(chunk.text, end=\"\", flush=True)  # Streaming output\n",
    "        full_response += chunk.text\n",
    "\n",
    "    # Append response to history\n",
    "    conversation_history.append({\"role\": \"model\", \"parts\": [{\"text\": full_response}]})\n",
    "\n",
    "    return full_response\n",
    "\n",
    "# ask a follow-up question using the history\n",
    "user_input = \"What if I get another dog?\"\n",
    "response = chat_with_gemini(user_input)"
   ]
  },
  {
   "cell_type": "markdown",
   "metadata": {
    "id": "db2b9411e1e1"
   },
   "source": [
    "### **Gemini's Response:**  \n",
    "If you get another dog, you'll have a total of **3 dogs**. That means you'll have:  \n",
    "\n",
    "**3 dogs × 4 paws/dog = 12 dog paws**  \n",
    "\n",
    "Don't forget about your own feet! So, you'd have:  \n",
    "\n",
    "**12 dog paws + 2 of your feet**  "
   ]
  },
  {
   "cell_type": "markdown",
   "metadata": {
    "id": "d5530e2f354c"
   },
   "source": [
    "## **Learn More**  \n",
    " \n",
    "📖 **[Read More on Handling Long Context](https://ai.google.dev/gemini-api/docs/long-context)**  \n"
   ]
  }
 ],
 "metadata": {
  "colab": {
   "name": "Gemini_Chatbot_Tutorial.ipynb",
   "toc_visible": true
  },
  "kernelspec": {
   "display_name": "Python 3 (ipykernel)",
   "language": "python",
   "name": "python3"
  },
  "language_info": {
   "codemirror_mode": {
    "name": "ipython",
    "version": 3
   },
   "file_extension": ".py",
   "mimetype": "text/x-python",
   "name": "python",
   "nbconvert_exporter": "python",
   "pygments_lexer": "ipython3",
   "version": "3.9.21"
  }
 },
 "nbformat": 4,
 "nbformat_minor": 4
}
