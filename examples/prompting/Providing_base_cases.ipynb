{
  "cells": [
    {
      "cell_type": "markdown",
      "metadata": {
        "id": "gy3KpnNx_Jl4"
      },
      "source": [
        "##### Copyright 2025 Google LLC."
      ]
    },
    {
      "cell_type": "code",
      "execution_count": null,
      "metadata": {
        "cellView": "form",
        "id": "fKqk8LWo_TCU"
      },
      "outputs": [],
      "source": [
        "# @title Licensed under the Apache License, Version 2.0 (the \"License\");\n",
        "# you may not use this file except in compliance with the License.\n",
        "# You may obtain a copy of the License at\n",
        "#\n",
        "# https://www.apache.org/licenses/LICENSE-2.0\n",
        "#\n",
        "# Unless required by applicable law or agreed to in writing, software\n",
        "# distributed under the License is distributed on an \"AS IS\" BASIS,\n",
        "# WITHOUT WARRANTIES OR CONDITIONS OF ANY KIND, either express or implied.\n",
        "# See the License for the specific language governing permissions and\n",
        "# limitations under the License."
      ]
    },
    {
      "cell_type": "markdown",
      "metadata": {
        "id": "sP8PQnz1QrcF"
      },
      "source": [
        "# Gemini API: Providing base cases"
      ]
    },
    {
      "cell_type": "markdown",
      "metadata": {
        "id": "bxGr_x3MRA0z"
      },
      "source": [
        "<a target=\"_blank\" href=\"https://colab.research.google.com/github/google-gemini/cookbook/blob/main/examples/prompting/Providing_base_cases.ipynb\"><img src=\"https://colab.research.google.com/assets/colab-badge.svg\" height=30/></a>"
      ]
    },
    {
      "cell_type": "markdown",
      "metadata": {
        "id": "ysy--KfNRrCq"
      },
      "source": [
        "LLMs require specific instructions to provide the expected results. Because of this, it is vital to ensure that the model knows how it should behave when it lacks information or when it should not answer a given query and provide a default response instead."
      ]
    },
    {
      "cell_type": "code",
      "execution_count": 3,
      "metadata": {
        "id": "Ne-3gnXqR0hI"
      },
      "outputs": [],
      "source": [
        "%pip install -U -q \"google-genai\""
      ]
    },
    {
      "cell_type": "markdown",
      "metadata": {
        "id": "eomJzCa6lb90"
      },
      "source": [
        "## Configure your API key\n",
        "\n",
        "To run the following cell, your API key must be stored it in a Colab Secret named `GOOGLE_API_KEY`. If you don't already have an API key, or you're not sure how to create a Colab Secret, see [Authentication](https://github.com/google-gemini/cookbook/blob/main/quickstarts/Authentication.ipynb) for an example."
      ]
    },
    {
      "cell_type": "code",
      "execution_count": 4,
      "metadata": {
        "id": "v-JZzORUpVR2"
      },
      "outputs": [],
      "source": [
        "from google import genai\n",
        "from google.colab import userdata\n",
        "\n",
        "GOOGLE_API_KEY=userdata.get('GOOGLE_API_KEY')\n",
        "client = genai.Client(api_key=GOOGLE_API_KEY)"
      ]
    },
    {
      "cell_type": "markdown",
      "metadata": {
        "id": "FMne_rcZmz1X"
      },
      "source": [
        "## Examples"
      ]
    },
    {
      "cell_type": "markdown",
      "metadata": {
        "id": "0pZ-S0f8_mbQ"
      },
      "source": [
        "Let's go ahead and define the model, as well as give the model a template for how it should answer the question."
      ]
    },
    {
      "cell_type": "code",
      "execution_count": 6,
      "metadata": {
        "id": "O_q8ak-BU9kJ"
      },
      "outputs": [],
      "source": [
        "instructions = \"\"\"\n",
        "  You are an assistant that helps tourists around the world to plan\n",
        "  their vacation. Your responsibilities are:\n",
        "  1. Helping book the hotel.\n",
        "  2. Recommending restaurants.\n",
        "  3. Warning about potential dangers.\n",
        "\n",
        "  If other request is asked return \"I cannot help with this request.\"\n",
        "\"\"\"\n",
        "\n",
        "MODEL_ID=\"gemini-2.5-flash\" # @param [\"gemini-2.5-flash-lite\", \"gemini-2.5-flash\", \"gemini-2.5-pro\"] {\"allow-input\":true, isTemplate: true}"
      ]
    },
    {
      "cell_type": "code",
      "execution_count": 8,
      "metadata": {
        "id": "1k6LyJQYm1KM",
        "outputId": "289870dc-9597-4ea9-c73d-7dbb86af0312",
        "colab": {
          "base_uri": "https://localhost:8080/"
        }
      },
      "outputs": [
        {
          "output_type": "stream",
          "name": "stdout",
          "text": [
            "ON TOPIC: When going to the beaches in San Diego, here are some potential dangers and things to look out for:\n",
            "\n",
            "1.  **Rip Currents:** These are strong, narrow currents of water moving away from the shore. They can pull even strong swimmers out to sea.\n",
            "    *   **What to do:** If caught in a rip current, don't fight it. Swim parallel to the shore until you are out of the current, then swim back to the beach. If you can't swim to shore, face the shore, wave your arms, and yell for help. Always swim near a lifeguard.\n",
            "2.  **Ocean Wildlife:**\n",
            "    *   **Stingrays:** They often bury themselves in the sand in shallow water. Shuffling your feet as you walk (the \"stingray shuffle\") can help scare them away and prevent stepping directly on one. If stung, seek medical attention as the venom can be painful.\n",
            "    *   **Jellyfish:** While most in San Diego are not highly venomous, stings can be painful. Look out for them in the water and on the sand.\n",
            "    *   **Sharks:** While rare, San Diego waters do have sharks. Follow local advisories and be aware of your surroundings, especially during dawn and dusk.\n",
            "3.  **Sun Exposure:** San Diego sun can be intense.\n",
            "    *   **What to do:** Wear high SPF sunscreen, reapply frequently (especially after swimming), wear a hat and sunglasses, and seek shade during peak sun hours (10 AM - 4 PM). Stay hydrated by drinking plenty of water.\n",
            "4.  **Tides and Waves:** Strong waves and changing tides can be dangerous, especially for children or inexperienced swimmers.\n",
            "    *   **What to do:** Check tide charts before you go. Never turn your back on the ocean. Be aware of sneaker waves that can suddenly surge further up the beach.\n",
            "5.  **Steep Cliffs/Bluffs:** Some San Diego beaches are backed by cliffs (e.g., Torrey Pines, Sunset Cliffs). These can be unstable and prone to rockfalls or collapses.\n",
            "    *   **What to do:** Do not sit or set up your beach gear directly under cliffs. Heed all warning signs.\n",
            "6.  **Dehydration and Heatstroke:** Especially on hot days, spending hours in the sun can lead to these conditions.\n",
            "    *   **What to do:** Drink plenty of water and other fluids. Avoid excessive alcohol. Take breaks in the shade.\n",
            "7.  **Marine Layer/Fog:** San Diego often experiences a \"marine layer\" or fog, especially in the mornings or evenings, which can significantly reduce visibility on the water and make conditions cooler than expected.\n",
            "\n",
            "Always swim near a lifeguard and pay attention to any posted signs or flag warnings. Enjoy your time on San Diego's beautiful beaches!\n",
            "OFF TOPIC: I cannot help with this request.\n"
          ]
        }
      ],
      "source": [
        "on_topic_response = client.models.generate_content(\n",
        "    model=MODEL_ID,\n",
        "    contents=\"What should I look out for when I'm going to the beaches in San Diego?\",\n",
        "    config={\n",
        "        \"system_instruction\": instructions\n",
        "    }\n",
        ")\n",
        "\n",
        "off_topic_response = client.models.generate_content(\n",
        "    model=MODEL_ID,\n",
        "    contents=\"What bowling places do you recommend in Moscow?\",\n",
        "    config={\n",
        "        \"system_instruction\": instructions\n",
        "    }\n",
        ")\n",
        "\n",
        "print(\"ON TOPIC:\", on_topic_response.text)\n",
        "print(\"OFF TOPIC:\", off_topic_response.text)"
      ]
    },
    {
      "cell_type": "markdown",
      "metadata": {
        "id": "BPUkURgrYgBr"
      },
      "source": [
        "Let's try another template."
      ]
    },
    {
      "cell_type": "code",
      "execution_count": 9,
      "metadata": {
        "id": "oz-kWAKQYiGi"
      },
      "outputs": [],
      "source": [
        "instructions = \"\"\"\n",
        "  You are an assistant at a library. Your task is to recommend books to\n",
        "  people, if they do not tell you the genre assume Horror.\n",
        "\"\"\""
      ]
    },
    {
      "cell_type": "code",
      "execution_count": 10,
      "metadata": {
        "id": "PoDDTXGFm21K",
        "outputId": "db64d9b4-3108-4d4b-cd76-49ee84985b1f",
        "colab": {
          "base_uri": "https://localhost:8080/"
        }
      },
      "outputs": [
        {
          "output_type": "stream",
          "name": "stdout",
          "text": [
            "## Specified genre:\n",
            "You've come to the right place for hard magic systems! This is a fascinating subgenre where the rules, limitations, and costs of magic are well-defined and often treated like a science within the story.\n",
            "\n",
            "Here are three books with excellent hard magic systems:\n",
            "\n",
            "1.  **Mistborn: The Final Empire** by Brandon Sanderson\n",
            "    *   **Why it fits:** Brandon Sanderson is practically the king of hard magic systems, and *Mistborn* is a fantastic entry point. The magic system, called Allomancy, involves ingesting and \"burning\" specific metals to gain different powers (e.g., steel to push metals, iron to pull them). Its rules are meticulously detailed, leading to incredibly creative and logical action sequences and strategic use of powers.\n",
            "\n",
            "2.  **Warbreaker** by Brandon Sanderson\n",
            "    *   **Why it fits:** Another brilliant example from Sanderson, *Warbreaker* features a magic system called BioChromatic Breath. It's based on collecting \"Breaths\" from people (who then become color-blind) and using them to awaken inanimate objects or achieve other effects. The amount of Breath you have dictates your power, and specific commands and colors are crucial. It's a very quantifiable and understandable system.\n",
            "\n",
            "3.  **Sufficiently Advanced Magic (Arcane Ascension #1)** by Andrew Rowe\n",
            "    *   **Why it fits:** This book delves deep into a magic system where individuals gain specific magical abilities upon passing trials in a magical tower. The magic is highly structured, with different \"attunements\" granting access to various spells and abilities. Characters level up, learn new techniques, and even analyze magic like a programming language, making for a very detailed and logical approach to spellcasting.\n",
            "## Not specified genre:\n",
            "Since you didn't specify a genre, I'll assume you're looking for some great horror! Here are two books I think you'll enjoy:\n",
            "\n",
            "1.  **\"The Haunting of Hill House\" by Shirley Jackson:** This is a classic for a reason. It's a masterclass in psychological horror, focusing on four individuals who spend a summer in a house known to be haunted. The horror comes not just from the house, but from the characters' own minds. It's chilling and incredibly well-written.\n",
            "2.  **\"Head Full of Ghosts\" by Paul Tremblay:** This one is a modern take on the haunted house trope, blending it with a found-footage style narrative. It tells the story of the Barrett family, whose eldest daughter might be possessed, and a reality TV show that documents their ordeal. Years later, the younger sister recounts the events to a journalist, leaving the reader to question what was real and what was fabricated. It's smart, unsettling, and very thought-provoking.\n",
            "\n",
            "Enjoy your reads!\n"
          ]
        }
      ],
      "source": [
        "specified_genre_response = client.models.generate_content(\n",
        "    model=MODEL_ID,\n",
        "    contents=\"Could you recommend me 3 books with hard magic system?\",\n",
        "    config={\n",
        "        \"system_instruction\": instructions\n",
        "    }\n",
        ")\n",
        "\n",
        "not_specified_genre_response = client.models.generate_content(\n",
        "    model=MODEL_ID,\n",
        "    contents=\"Could you recommend me 2 books?\",\n",
        "    config={\n",
        "        \"system_instruction\": instructions\n",
        "    }\n",
        ")\n",
        "\n",
        "print(\"## Specified genre:\", specified_genre_response.text, sep=\"\\n\")\n",
        "print(\"## Not specified genre:\", not_specified_genre_response.text, sep=\"\\n\")"
      ]
    },
    {
      "cell_type": "markdown",
      "metadata": {
        "id": "8mzHkChy_5Ec"
      },
      "source": [
        "## Next steps\n",
        "\n",
        "Be sure to explore other examples of prompting in the repository. Try writing prompts about classifying your own data, or try some of the other prompting techniques such as few-shot prompting."
      ]
    }
  ],
  "metadata": {
    "colab": {
      "name": "Providing_base_cases.ipynb",
      "toc_visible": true,
      "provenance": []
    },
    "kernelspec": {
      "display_name": "Python 3",
      "name": "python3"
    }
  },
  "nbformat": 4,
  "nbformat_minor": 0
}