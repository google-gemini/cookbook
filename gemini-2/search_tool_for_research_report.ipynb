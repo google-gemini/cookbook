{
  "cells": [
    {
      "cell_type": "markdown",
      "metadata": {
        "id": "WMGdicu8PVD9"
      },
      "source": [
        "# Search tool with Gemini 2.0"
      ]
    },
    {
      "cell_type": "markdown",
      "metadata": {
        "id": "db160a29eae6"
      },
      "source": [
        "### This notebook has been moved in the [examples](../examples/Search_grounding_for_research_report.ipynb) section where you can find all the cool examples you can build with Gemini 2.0."
      ]
    }
  ],
  "metadata": {
    "colab": {
      "name": "search_tool_for_research_report.ipynb",
      "toc_visible": true
    },
    "kernelspec": {
      "display_name": "Python 3",
      "name": "python3"
    }
  },
  "nbformat": 4,
  "nbformat_minor": 0
}
