{
  "cells": [
    {
      "cell_type": "markdown",
      "metadata": {
        "id": "sP8PQnz1QrcF"
      },
      "source": [
        "##### Copyright 2024 Google LLC."
      ]
    },
    {
      "cell_type": "code",
      "execution_count": null,
      "metadata": {
        "cellView": "form",
        "id": "ca23c3f523a7"
      },
      "outputs": [],
      "source": [
        "# @title Licensed under the Apache License, Version 2.0 (the \"License\");\n",
        "# you may not use this file except in compliance with the License.\n",
        "# You may obtain a copy of the License at\n",
        "#\n",
        "# https://www.apache.org/licenses/LICENSE-2.0\n",
        "#\n",
        "# Unless required by applicable law or agreed to in writing, software\n",
        "# distributed under the License is distributed on an \"AS IS\" BASIS,\n",
        "# WITHOUT WARRANTIES OR CONDITIONS OF ANY KIND, either express or implied.\n",
        "# See the License for the specific language governing permissions and\n",
        "# limitations under the License."
      ]
    },
    {
      "cell_type": "markdown",
      "metadata": {
        "id": "bxGr_x3MRA0z"
      },
      "source": [
        "# Gemini API: Text Summarization\n",
        "\n",
        "<table class=\"tfo-notebook-buttons\" align=\"left\">\n",
        "  <td>\n",
        "    <a target=\"_blank\" href=\"https://colab.research.google.com/github/google-gemini/cookbook/blob/main/examples/json_capabilities/Text_Summarization.ipynb\"><img src = \"../../images/colab_logo_32px.png\"/>Run in Google Colab</a>\n",
        "  </td>\n",
        "</table>"
      ]
    },
    {
      "cell_type": "markdown",
      "metadata": {
        "id": "ysy--KfNRrCq"
      },
      "source": [
        "You will use Gemini API's JSON capabilities to extract characters, locations, and summary of the plot from a story."
      ]
    },
    {
      "cell_type": "code",
      "execution_count": 1,
      "metadata": {
        "id": "Ne-3gnXqR0hI",
        "outputId": "01de5c5f-acac-4c43-c896-1dfd41884176",
        "colab": {
          "base_uri": "https://localhost:8080/"
        }
      },
      "outputs": [
        {
          "output_type": "stream",
          "name": "stdout",
          "text": [
            "\u001b[?25l   \u001b[90m━━━━━━━━━━━━━━━━━━━━━━━━━━━━━━━━━━━━━━━━\u001b[0m \u001b[32m0.0/137.7 kB\u001b[0m \u001b[31m?\u001b[0m eta \u001b[36m-:--:--\u001b[0m\r\u001b[2K   \u001b[90m━━━━━━━━━━━━━━━━━━━━━━━━━━━━━━━━━━━━━━━━\u001b[0m \u001b[32m137.7/137.7 kB\u001b[0m \u001b[31m8.2 MB/s\u001b[0m eta \u001b[36m0:00:00\u001b[0m\n",
            "\u001b[?25h"
          ]
        }
      ],
      "source": [
        "!pip install -U -q \"google-genai\""
      ]
    },
    {
      "cell_type": "code",
      "execution_count": 2,
      "metadata": {
        "id": "EconMHePQHGw"
      },
      "outputs": [],
      "source": [
        "from google import genai\n",
        "\n",
        "import json\n",
        "from IPython.display import Markdown\n",
        "from typing_extensions import TypedDict # in python 3.12 replace typing_extensions with typing"
      ]
    },
    {
      "cell_type": "markdown",
      "metadata": {
        "id": "eomJzCa6lb90"
      },
      "source": [
        "## Configure your API key\n",
        "\n",
        "To run the following cell, your API key must be stored it in a Colab Secret named `GOOGLE_API_KEY`. If you don't already have an API key, or you're not sure how to create a Colab Secret, see [Authentication](https://github.com/google-gemini/cookbook/blob/main/quickstarts/Authentication.ipynb) for an example."
      ]
    },
    {
      "cell_type": "code",
      "execution_count": 3,
      "metadata": {
        "id": "v-JZzORUpVR2"
      },
      "outputs": [],
      "source": [
        "from google.colab import userdata\n",
        "GOOGLE_API_KEY=userdata.get('GOOGLE_API_KEY')\n",
        "\n",
        "client=genai.Client(api_key=GOOGLE_API_KEY)"
      ]
    },
    {
      "cell_type": "markdown",
      "metadata": {
        "id": "kNE5XslpPpT0"
      },
      "source": [
        "## Example"
      ]
    },
    {
      "cell_type": "code",
      "execution_count": 8,
      "metadata": {
        "id": "8V5lHRmkNejR",
        "outputId": "d92fb96b-8036-417a-9bd6-ea1d38ff6c57",
        "colab": {
          "base_uri": "https://localhost:8080/",
          "height": 604
        }
      },
      "outputs": [
        {
          "output_type": "execute_result",
          "data": {
            "text/plain": [
              "<IPython.core.display.Markdown object>"
            ],
            "text/markdown": "The wind howled a mournful dirge across the Whispering Moors, its icy fingers clawing at Elara’s cloak as she trudged through the knee-deep snow.  Her breath plumed out before her, a fleeting white ghost in the twilight.  Ahead, the skeletal branches of ancient oaks clawed at the bruised purple sky, their gnarled limbs resembling skeletal fingers reaching for her. Elara, a woman hardened by years of traversing these treacherous lands, clutched the worn leather strap of her satchel, its contents – a single, desiccated moonpetal – her only hope.\n\nShe was bound for Silverstream, a city nestled deep within the valley beyond the Moors, a city famed for its healing springs and the legendary healers who dwelled within its cobbled streets.  Her younger brother, Liam, lay deathly ill in the village of Oakhaven, his life fading like the last embers of a dying fire. The moonpetal, a rare bloom found only on the highest peaks of the Dragon's Tooth mountains, was said to hold the power to cure any ailment, a desperate last resort in Liam's failing state.\n\nThe journey had been arduous, testing her physical and mental limits.  She had faced blizzards that threatened to bury her alive, skirted packs of ravenous wolves whose yellow eyes gleamed with predatory hunger in the darkness, and navigated treacherous ravines where a single misstep could mean a fatal plunge.  But the thought of Liam, his pale face etched with suffering, fueled her onward.\n\nAs night deepened, the wind intensified, whipping snow into a frenzied dance.  Elara sought shelter beneath the overhang of a colossal rock formation, its surface slick with ice.  She huddled deeper into her cloak, the rough wool scratching against her skin, a small comfort against the biting cold.  Suddenly, a faint sound pierced the howling wind – the rhythmic thud of hooves.\n\nHope, sharp and sudden, pierced her despair.  A rider emerged from the swirling snow, silhouetted against the pallid moonlight.  He was tall and imposing, clad in dark leather armor, his face obscured by a hooded cloak.  He dismounted a magnificent black steed, its coat shimmering like polished obsidian.  This was Kael, a renowned tracker from the borderlands, known for his unwavering loyalty and unmatched skill in navigating the treacherous wilds.\n\nKael, his eyes the color of a winter sky, recognized the desperation etched on Elara's face.  He offered her warmth from his flask and a place by his fire, a small blaze that flickered against the encroaching darkness.  He listened patiently as she recounted her tale, his gaze unwavering, his silence a comforting presence.\n\nHe understood the urgency of her mission and, without hesitation, offered his assistance.  His knowledge of the Moors was unparalleled; he knew hidden paths and secret routes, shortcuts that could shave days off her journey.  With Kael by her side, the remaining journey, though still perilous, felt less daunting.\n\nTogether, they navigated the treacherous landscape, their footsteps sinking silently into the deep snow.  Kael's keen eyes spotted dangers Elara would have missed – hidden crevasses, lurking predators, and treacherous ice patches.  His presence was a source of strength and comfort, a beacon in the desolate wilderness.\n\nFinally, after what felt like an eternity, the faint glow of Silverstream's lights appeared on the horizon.  As they rode into the city, the air grew warmer, the sounds of civilization a welcome respite from the desolate silence of the Moors.  The healers of Silverstream awaited, ready to receive the moonpetal and to work their magic on Liam.\n\nElara's heart, once heavy with despair, now throbbed with a fragile hope.  She had faced the worst the Whispering Moors could throw at her, but she had survived, guided by her unwavering love for her brother and the unexpected kindness of a stranger.  The moonpetal, nestled safely in her satchel, held the key to Liam's recovery, a testament to the resilience of the human spirit and the power of hope in the face of despair. The journey had been long and arduous, but Elara knew that the true test lay ahead, in the quiet hope for healing that lay within the walls of Silverstream.\n"
          },
          "metadata": {},
          "execution_count": 8
        }
      ],
      "source": [
        "model_name = \"gemini-1.5-flash-latest\" # @param [\"gemini-1.5-flash-latest\",\"gemini-2.0-flash-lite\",\"gemini-2.0-flash\",\"gemini-2.0-pro-exp-02-05\"] {\"allow-input\":true}\n",
        "\n",
        "prompt = \"Generate a 10 paragraph fantasy story. Include at least 2 named characters and 2 named locations. Give as much detail in the story as possible.\"\n",
        "\n",
        "response=client.models.generate_content(model=model_name,contents=prompt)\n",
        "\n",
        "story = response.text\n",
        "Markdown(story)"
      ]
    },
    {
      "cell_type": "code",
      "execution_count": 9,
      "metadata": {
        "id": "sShzxm3JNm6M"
      },
      "outputs": [],
      "source": [
        "class Character(TypedDict):\n",
        "  name: str\n",
        "  description: str\n",
        "  alignment: str\n",
        "\n",
        "class Location(TypedDict):\n",
        "  name: str\n",
        "  description: str\n",
        "\n",
        "class TextSummary(TypedDict):\n",
        "  synopsis: str\n",
        "  genres: list[str]\n",
        "  locations: list[Location]\n",
        "  characters: list[Character]"
      ]
    },
    {
      "cell_type": "code",
      "execution_count": 10,
      "metadata": {
        "id": "QGdJnd0AOKbu",
        "outputId": "6fa71554-1e70-44d8-ce48-bef9bb09762a",
        "colab": {
          "base_uri": "https://localhost:8080/"
        }
      },
      "outputs": [
        {
          "output_type": "stream",
          "name": "stdout",
          "text": [
            "CPU times: user 37.1 ms, sys: 536 µs, total: 37.7 ms\n",
            "Wall time: 2.54 s\n"
          ]
        }
      ],
      "source": [
        "%%time\n",
        "prompt = f\"\"\"\n",
        "Generate summary of the story. With a list of genres locations and characters.\n",
        "\n",
        "{story}\"\"\"\n",
        "response = client.models.generate_content(contents=prompt,model=model_name,config={'response_mime_type': 'application/json',\n",
        "        'response_schema': TextSummary} )"
      ]
    },
    {
      "cell_type": "code",
      "execution_count": 11,
      "metadata": {
        "id": "d5tOgde6ONo3",
        "outputId": "0021b27d-c669-491b-9138-1cc4fcfb2c95",
        "colab": {
          "base_uri": "https://localhost:8080/"
        }
      },
      "outputs": [
        {
          "output_type": "stream",
          "name": "stdout",
          "text": [
            "{\n",
            "    \"synopsis\": \"Elara, a woman hardened by years of traversing treacherous lands, embarks on a perilous journey across the Whispering Moors to reach Silverstream.  Her younger brother, Liam, is deathly ill, and she carries a rare moonpetal \\u2013 her only hope for his recovery.  Faced with blizzards, wolves, and treacherous ravines, she encounters Kael, a renowned tracker, who assists her. Together they navigate the dangerous landscape, finally reaching Silverstream where healers await to help Liam.\",\n",
            "    \"genres\": [\n",
            "        \"Fantasy\",\n",
            "        \"Adventure\"\n",
            "    ],\n",
            "    \"locations\": [\n",
            "        {\n",
            "            \"name\": \"Whispering Moors\",\n",
            "            \"description\": \"Treacherous lands with deep snow, ancient oaks, and dangerous ravines\"\n",
            "        },\n",
            "        {\n",
            "            \"name\": \"Silverstream\",\n",
            "            \"description\": \"A city famed for its healing springs and legendary healers\"\n",
            "        },\n",
            "        {\n",
            "            \"name\": \"Oakhaven\",\n",
            "            \"description\": \"Village where Liam is deathly ill\"\n",
            "        },\n",
            "        {\n",
            "            \"name\": \"Dragon's Tooth Mountains\",\n",
            "            \"description\": \"Mountains where the moonpetal grows\"\n",
            "        }\n",
            "    ],\n",
            "    \"characters\": [\n",
            "        {\n",
            "            \"name\": \"Elara\",\n",
            "            \"description\": \"A woman hardened by years of traversing treacherous lands, bound for Silverstream to save her brother\",\n",
            "            \"alignment\": \"Protagonist\"\n",
            "        },\n",
            "        {\n",
            "            \"name\": \"Liam\",\n",
            "            \"description\": \"Elara's younger brother who is deathly ill\",\n",
            "            \"alignment\": \"Protagonist\"\n",
            "        },\n",
            "        {\n",
            "            \"name\": \"Kael\",\n",
            "            \"description\": \"A renowned tracker from the borderlands who assists Elara\",\n",
            "            \"alignment\": \"Ally\"\n",
            "        }\n",
            "    ]\n",
            "}\n"
          ]
        }
      ],
      "source": [
        "print(json.dumps(json.loads(response.text), indent=4))"
      ]
    },
    {
      "cell_type": "markdown",
      "metadata": {
        "id": "FhFfzDMk36aI"
      },
      "source": [
        "## Summary\n",
        "In this example, you used Gemini API to extract various information from the story. In this case, you could have done it without the help of the model in no time, but imagine how much time it would save if the text would be 10 times as long or even longer.\n",
        "\n",
        "Please see the other notebooks in this directory to learn more about how you can use the Gemini API for other JSON related tasks."
      ]
    }
  ],
  "metadata": {
    "colab": {
      "name": "Text_Summarization.ipynb",
      "provenance": []
    },
    "kernelspec": {
      "display_name": "Python 3",
      "name": "python3"
    }
  },
  "nbformat": 4,
  "nbformat_minor": 0
}