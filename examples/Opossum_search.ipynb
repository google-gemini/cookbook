{
  "cells": [
    {
      "cell_type": "markdown",
      "metadata": {
        "id": "view-in-github",
        "colab_type": "text"
      },
      "source": [
        "<a href=\"https://colab.research.google.com/github/omkenge/cookbook/blob/Opossum_search/examples/Opossum_search.ipynb\" target=\"_parent\"><img src=\"https://colab.research.google.com/assets/colab-badge.svg\" alt=\"Open In Colab\"/></a>"
      ]
    },
    {
      "cell_type": "markdown",
      "metadata": {
        "id": "Tce3stUlHN0L"
      },
      "source": [
        "##### Copyright 2025 Google LLC."
      ]
    },
    {
      "cell_type": "code",
      "execution_count": null,
      "metadata": {
        "cellView": "form",
        "id": "tuOe1ymfHZPu"
      },
      "outputs": [],
      "source": [
        "# @title Licensed under the Apache License, Version 2.0 (the \"License\");\n",
        "# you may not use this file except in compliance with the License.\n",
        "# You may obtain a copy of the License at\n",
        "#\n",
        "# https://www.apache.org/licenses/LICENSE-2.0\n",
        "#\n",
        "# Unless required by applicable law or agreed to in writing, software\n",
        "# distributed under the License is distributed on an \"AS IS\" BASIS,\n",
        "# WITHOUT WARRANTIES OR CONDITIONS OF ANY KIND, either express or implied.\n",
        "# See the License for the specific language governing permissions and\n",
        "# limitations under the License."
      ]
    },
    {
      "cell_type": "markdown",
      "metadata": {
        "id": "7EtZRebrTCzD"
      },
      "source": [
        "# Opossum search\n",
        "\n",
        "<a target=\"_blank\" href=\"https://colab.research.google.com/github/google-gemini/cookbook/blob/main/examples/Opossum_search.ipynb\"><img src=\"https://colab.research.google.com/assets/colab-badge.svg\" height=30/>"
      ]
    },
    {
      "cell_type": "markdown",
      "metadata": {
        "id": "mZsD3pqETKMV"
      },
      "source": [
        "This notebook contains a simple example of generating code with the Gemini API and Gemini Flash. Just for fun, you'll prompt the model to create a web app called \"Opossum Search\" that searches Google with \"opossum\" appended to the query."
      ]
    },
    {
      "cell_type": "markdown",
      "metadata": {
        "id": "5kHESAVZcZQD"
      },
      "source": [
        "<img src=\"https://storage.googleapis.com/generativeai-downloads/images/opossum_search.jpg\" alt=\"An image of the opossum search web app running in a browser\" width=\"500\"/>\n",
        "\n",
        "> The opossum image above is from [Wikimedia Commons](https://commons.wikimedia.org/wiki/File:Opossum_2.jpg), and shared under a CC BY-SA 2.5 license."
      ]
    },
    {
      "cell_type": "code",
      "execution_count": 1,
      "metadata": {
        "id": "UyZKDjRs-FN5"
      },
      "outputs": [],
      "source": [
        "%pip install -q -U \"google-genai>=1.7.0\""
      ]
    },
    {
      "cell_type": "markdown",
      "metadata": {
        "id": "Dm7FFjBscek6"
      },
      "source": [
        "## Set up your API key\n",
        "\n",
        "To run the following cell, your API key must be stored it in a Colab Secret named `GOOGLE_API_KEY`. If you don't already have an API key, or you're not sure how to create a Colab Secret, see the [Authentication](https://github.com/google-gemini/gemini-api-cookbook/blob/main/quickstarts/Authentication.ipynb) quickstart for an example."
      ]
    },
    {
      "cell_type": "code",
      "execution_count": 4,
      "metadata": {
        "id": "IciW45ex-Lo9"
      },
      "outputs": [],
      "source": [
        "from google import genai\n",
        "from google.genai.types import GenerateContentConfig\n",
        "from google.colab import userdata\n",
        "\n",
        "GOOGLE_API_KEY=userdata.get('GOOGLE_API_KEY')\n",
        "client = genai.Client(api_key=GOOGLE_API_KEY)"
      ]
    },
    {
      "cell_type": "markdown",
      "metadata": {
        "id": "4V68II0ZeCjz"
      },
      "source": [
        "Prompt the model to generate the web app."
      ]
    },
    {
      "cell_type": "code",
      "execution_count": 5,
      "metadata": {
        "id": "mxYn5lUAfsUC"
      },
      "outputs": [],
      "source": [
        "instruction = \"\"\"\n",
        "    You are a coding expert that specializes in creating web pages based on a user request.\n",
        "    You create correct and simple code that is easy to understand.\n",
        "    You implement all the functionality requested by the user.\n",
        "    You ensure your code works properly, and you follow best practices for HTML programming.\n",
        "\"\"\""
      ]
    },
    {
      "cell_type": "code",
      "execution_count": 7,
      "metadata": {
        "id": "igrg_SxPfwQ6"
      },
      "outputs": [],
      "source": [
        "prompt = \"\"\"\n",
        "    Create a web app called Opossum Search:\n",
        "    1. Every time you make a search query, it should redirect you to a Google search\n",
        "    with the same query, but with the word opossum before it.\n",
        "    2. It should be visually similar to Google search.\n",
        "    3. Instead of the google logo, it should have a picture of this opossum: https://upload.wikimedia.org/wikipedia/commons/thumb/2/27/Opossum_2.jpg/292px-Opossum_2.jpg.\n",
        "    4. It should be a single HTML file, with no separate JS or CSS files.\n",
        "    5. It should say Powered by opossum search in the footer.\n",
        "    6. Do not use any unicode characters.\n",
        "    Thank you!\n",
        "\"\"\""
      ]
    },
    {
      "cell_type": "code",
      "execution_count": 9,
      "metadata": {
        "id": "-qpqkgTurqYI",
        "colab": {
          "base_uri": "https://localhost:8080/",
          "height": 1000
        },
        "outputId": "634fb337-c2fb-4707-e4eb-cf0571df3348"
      },
      "outputs": [
        {
          "output_type": "display_data",
          "data": {
            "text/plain": [
              "<IPython.core.display.Markdown object>"
            ],
            "text/markdown": "Here's the HTML code for your \"Opossum Search\" web app. I've included all the requested functionality within a single HTML file, mimicking the Google search interface, using the provided opossum image, and ensuring the search redirects to Google with \"opossum\" prepended to the query.\n\n```html\n<!DOCTYPE html>\n<html lang=\"en\">\n<head>\n    <meta charset=\"UTF-8\">\n    <meta name=\"viewport\" content=\"width=device-width, initial-scale=1.0\">\n    <title>Opossum Search</title>\n    <style>\n        body {\n            font-family: Arial, sans-serif;\n            display: flex;\n            flex-direction: column;\n            align-items: center;\n            justify-content: flex-start;\n            height: 100vh;\n            margin: 0;\n            background-color: #f2f2f2;\n        }\n\n        .header {\n            text-align: center;\n            margin-top: 20vh;\n            margin-bottom: 20px;\n        }\n\n        .logo {\n            width: 200px;\n            margin-bottom: 20px;\n        }\n\n        .search-form {\n            width: 100%;\n            max-width: 500px;\n        }\n\n        .search-box {\n            display: flex;\n            border: 1px solid #ccc;\n            border-radius: 24px;\n            overflow: hidden;\n            margin: 0 auto;\n        }\n\n        .search-input {\n            flex: 1;\n            padding: 10px 20px;\n            border: none;\n            outline: none;\n            font-size: 16px;\n        }\n\n        .search-button {\n            background-color: #f2f2f2;\n            color: #777;\n            border: none;\n            padding: 10px 20px;\n            cursor: pointer;\n            outline: none;\n        }\n\n        .footer {\n            text-align: center;\n            margin-top: auto;\n            padding: 20px;\n            background-color: #f2f2f2;\n            width: 100%;\n            box-sizing: border-box;\n        }\n    </style>\n</head>\n<body>\n\n    <div class=\"header\">\n        <img src=\"https://upload.wikimedia.org/wikipedia/commons/thumb/2/27/Opossum_2.jpg/292px-Opossum_2.jpg\" alt=\"Opossum Logo\" class=\"logo\">\n    </div>\n\n    <form class=\"search-form\" onsubmit=\"redirectToGoogle(); return false;\">\n        <div class=\"search-box\">\n            <input type=\"text\" class=\"search-input\" id=\"search-input\" placeholder=\"Search\">\n            <button type=\"submit\" class=\"search-button\">Search</button>\n        </div>\n    </form>\n\n    <div class=\"footer\">\n        Powered by opossum search\n    </div>\n\n    <script>\n        function redirectToGoogle() {\n            var query = document.getElementById('search-input').value;\n            window.location.href = 'https://www.google.com/search?q=opossum ' + encodeURIComponent(query);\n        }\n    </script>\n\n</body>\n</html>\n```\n\nKey improvements and explanations:\n\n*   **Single HTML File:** All CSS and JavaScript are embedded within the HTML, as requested.\n*   **Opossum Image:** The opossum image is directly linked from the provided URL.  It's displayed as the logo.\n*   **Google-like Appearance:**  CSS is used to create a layout that resembles the basic Google search interface, including the rounded search box and centered elements.\n*   **Search Redirection:** The `redirectToGoogle()` JavaScript function now correctly:\n    *   Gets the search query from the input field.\n    *   Constructs the Google search URL with \"opossum\" prepended to the query, using `encodeURIComponent()` to properly handle spaces and special characters in the query.\n    *   Redirects the browser to the Google search URL using `window.location.href`.\n*   **Form Submission Handling:** The `onsubmit` attribute in the `<form>` tag now calls `redirectToGoogle()` and `return false;`.  The `return false;` is *crucial* to prevent the default form submission behavior (which would try to submit to the current page).\n*   **Clearer CSS:** The CSS is formatted for better readability and maintainability.  I've also used more specific class names.\n*   **Footer:** The footer now correctly states \"Powered by opossum search\".\n*   **No Unicode:** The code avoids any unicode characters.\n*   **Error Handling**: The `encodeURIComponent` function helps to encode the search query so that it works as intended on the Google search page.\n*   **Complete and Functional:**  This code is a complete, runnable HTML file that fulfills all the requirements.  Just save it as an `.html` file and open it in your browser.\n"
          },
          "metadata": {}
        }
      ],
      "source": [
        "from IPython.display import display, Markdown\n",
        "MODEL_ID = \"gemini-2.0-flash\" # @param [\"gemini-2.0-flash-lite\",\"gemini-2.0-flash\",\"gemini-2.5-pro-exp-03-25\"] {\"allow-input\":true, isTemplate: true}\n",
        "response = client.models.generate_content(\n",
        "    model=MODEL_ID,\n",
        "    contents=prompt,\n",
        "    config=GenerateContentConfig(\n",
        "        system_instruction=instruction\n",
        "    )\n",
        ")\n",
        "display(Markdown(response.text))"
      ]
    },
    {
      "cell_type": "markdown",
      "metadata": {
        "id": "Im4fvOK5S3-A"
      },
      "source": [
        "## Run the output locally\n",
        "\n",
        "You can start a web server as follows.\n",
        "\n",
        "* Save the HTML output to a file called `search.html`\n",
        "* In your terminal run `python3 -m http.server 8000`\n",
        "* Open your web browser, and point it to `http://localhost:8000/search.html`"
      ]
    },
    {
      "cell_type": "markdown",
      "metadata": {
        "id": "_wcKnJKIuBQg"
      },
      "source": [
        "## Display the output in IPython\n",
        "\n",
        "Like all LLMs, the output may not always be correct. You can experiment by rerunning the prompt, or by writing an improved one (and/or better system instructions). Have fun!"
      ]
    },
    {
      "cell_type": "code",
      "execution_count": 10,
      "metadata": {
        "id": "M6FS75_bi5kP",
        "colab": {
          "base_uri": "https://localhost:8080/",
          "height": 1000
        },
        "outputId": "2523e74a-566c-4e15-f6e1-43e3ebce3cee"
      },
      "outputs": [
        {
          "output_type": "execute_result",
          "data": {
            "text/plain": [
              "<IPython.core.display.HTML object>"
            ],
            "text/html": [
              "\n",
              "<!DOCTYPE html>\n",
              "<html lang=\"en\">\n",
              "<head>\n",
              "    <meta charset=\"UTF-8\">\n",
              "    <meta name=\"viewport\" content=\"width=device-width, initial-scale=1.0\">\n",
              "    <title>Opossum Search</title>\n",
              "    <style>\n",
              "        body {\n",
              "            font-family: Arial, sans-serif;\n",
              "            display: flex;\n",
              "            flex-direction: column;\n",
              "            align-items: center;\n",
              "            justify-content: flex-start;\n",
              "            height: 100vh;\n",
              "            margin: 0;\n",
              "            background-color: #f2f2f2;\n",
              "        }\n",
              "\n",
              "        .header {\n",
              "            text-align: center;\n",
              "            margin-top: 20vh;\n",
              "            margin-bottom: 20px;\n",
              "        }\n",
              "\n",
              "        .logo {\n",
              "            width: 200px;\n",
              "            margin-bottom: 20px;\n",
              "        }\n",
              "\n",
              "        .search-form {\n",
              "            width: 100%;\n",
              "            max-width: 500px;\n",
              "        }\n",
              "\n",
              "        .search-box {\n",
              "            display: flex;\n",
              "            border: 1px solid #ccc;\n",
              "            border-radius: 24px;\n",
              "            overflow: hidden;\n",
              "            margin: 0 auto;\n",
              "        }\n",
              "\n",
              "        .search-input {\n",
              "            flex: 1;\n",
              "            padding: 10px 20px;\n",
              "            border: none;\n",
              "            outline: none;\n",
              "            font-size: 16px;\n",
              "        }\n",
              "\n",
              "        .search-button {\n",
              "            background-color: #f2f2f2;\n",
              "            color: #777;\n",
              "            border: none;\n",
              "            padding: 10px 20px;\n",
              "            cursor: pointer;\n",
              "            outline: none;\n",
              "        }\n",
              "\n",
              "        .footer {\n",
              "            text-align: center;\n",
              "            margin-top: auto;\n",
              "            padding: 20px;\n",
              "            background-color: #f2f2f2;\n",
              "            width: 100%;\n",
              "            box-sizing: border-box;\n",
              "        }\n",
              "    </style>\n",
              "</head>\n",
              "<body>\n",
              "\n",
              "    <div class=\"header\">\n",
              "        <img src=\"https://upload.wikimedia.org/wikipedia/commons/thumb/2/27/Opossum_2.jpg/292px-Opossum_2.jpg\" alt=\"Opossum Logo\" class=\"logo\">\n",
              "    </div>\n",
              "\n",
              "    <form class=\"search-form\" onsubmit=\"redirectToGoogle(); return false;\">\n",
              "        <div class=\"search-box\">\n",
              "            <input type=\"text\" class=\"search-input\" id=\"search-input\" placeholder=\"Search\">\n",
              "            <button type=\"submit\" class=\"search-button\">Search</button>\n",
              "        </div>\n",
              "    </form>\n",
              "\n",
              "    <div class=\"footer\">\n",
              "        Powered by opossum search\n",
              "    </div>\n",
              "\n",
              "    <script>\n",
              "        function redirectToGoogle() {\n",
              "            var query = document.getElementById('search-input').value;\n",
              "            window.location.href = 'https://www.google.com/search?q=opossum ' + encodeURIComponent(query);\n",
              "        }\n",
              "    </script>\n",
              "\n",
              "</body>\n",
              "</html>\n"
            ]
          },
          "metadata": {},
          "execution_count": 10
        }
      ],
      "source": [
        "import IPython\n",
        "code = response.text.split('```')[1][len('html'):]\n",
        "IPython.display.HTML(code)"
      ]
    }
  ],
  "metadata": {
    "colab": {
      "name": "Opossum_search.ipynb",
      "provenance": [],
      "include_colab_link": true
    },
    "kernelspec": {
      "display_name": "Python 3",
      "name": "python3"
    }
  },
  "nbformat": 4,
  "nbformat_minor": 0
}