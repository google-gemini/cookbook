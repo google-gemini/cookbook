{
  "cells": [
    {
      "cell_type": "markdown",
      "metadata": {
        "id": "Tce3stUlHN0L"
      },
      "source": [
        "##### Copyright 2024 Google LLC."
      ]
    },
    {
      "cell_type": "code",
      "execution_count": null,
      "metadata": {
        "cellView": "form",
        "id": "tuOe1ymfHZPu"
      },
      "outputs": [],
      "source": [
        "#@title Licensed under the Apache License, Version 2.0 (the \"License\");\n",
        "# you may not use this file except in compliance with the License.\n",
        "# You may obtain a copy of the License at\n",
        "#\n",
        "# https://www.apache.org/licenses/LICENSE-2.0\n",
        "#\n",
        "# Unless required by applicable law or agreed to in writing, software\n",
        "# distributed under the License is distributed on an \"AS IS\" BASIS,\n",
        "# WITHOUT WARRANTIES OR CONDITIONS OF ANY KIND, either express or implied.\n",
        "# See the License for the specific language governing permissions and\n",
        "# limitations under the License."
      ]
    },
    {
      "cell_type": "markdown",
      "id": "b19f6be7",
      "metadata": {
        "id": "b19f6be7"
      },
      "source": [
        "# Personalized Product Descriptions with Weaviate and the Gemini API"
      ]
    },
    {
      "cell_type": "markdown",
      "metadata": {
        "id": "MfBg1C5NB3X0"
      },
      "source": [
        "<table align=\"left\">\n",
        "  <td>\n",
        "    <a target=\"_blank\" href=\"https://colab.research.google.com/github/google-gemini/cookbook/blob/main/examples/weaviate/personalized_description_with_weaviate_and_gemini_api.ipynb\"><img src=\"../../images/colab_logo_32px.png\" />Run in Google Colab</a>\n",
        "  </td>\n",
        "</table>\n"
      ]
    },
    {
      "cell_type": "markdown",
      "metadata": {
        "id": "2ead11e5e73b"
      },
      "source": [
        "Weaviate is an open-source vector database that enables you to build AI-powered applications with the Gemini API! This notebook has four parts:\n",
        "1. [Part 1: Connect to Weaviate, Define Schema, and Import Data](#part-1-install-dependencies-and-connect-to-weaviate)\n",
        "\n",
        "2. [Part 2: Run Vector Search Queries](#part-2-vector-search)\n",
        "\n",
        "3. [Part 3: Generative Feedback Loops](#part-3-generative-feedback-loops)\n",
        "\n",
        "4. [Part 4: Personalized Product Descriptions](#part-4-personalization)\n",
        "\n",
        "\n",
        "In this demo, you will learn how to embed your data, run a semantic search, make a generative call to the Gemini API and store the output in your vector database, and personalize the description based on the user profile.\n",
        "\n",
        "## Use Case\n",
        "\n",
        "You will be working with an e-commerce dataset containing Google merch. You will load the data into the Weaviate vector database and use the semantic search features to retrieve data. Next, you'll generate product descriptions and store them back into the database with a vector embedding for retrieval (aka, generative feedback loops). Lastly, you'll create a small knowledge graph with uniquely generated product descriptions for the buyer personas Alice and Bob.\n",
        "\n",
        "## Requirements\n",
        "You will need a running Weaviate cluster and Gemini API key. You'll set up these requirements as you progress through this notebook!\n",
        "\n",
        "1. Weaviate vector database\n",
        "    1. Serverless\n",
        "    1. Embedded\n",
        "    1. Local (Docker)\n",
        "1. Gemini API key\n",
        "    1. Create an API key via [AI Studio](https://aistudio.google.com/)\n",
        "\n",
        "## Video\n",
        "**For an awesome walk through of this demo, check out [this](https://youtu.be/WORgeRAAN-4?si=-WvqNkPn8oCmnLGQ&t=1138) presentation from Google Cloud Next!**\n",
        "\n",
        "[![From RAG to autonomous apps with Weaviate and Gemini API on Google Kubernetes Engine](http://i3.ytimg.com/vi/WORgeRAAN-4/hqdefault.jpg)](https://youtu.be/WORgeRAAN-4?si=-WvqNkPn8oCmnLGQ&t=1138)"
      ]
    },
    {
      "cell_type": "markdown",
      "id": "7Wlb0vCDUK3h",
      "metadata": {
        "id": "7Wlb0vCDUK3h"
      },
      "source": [
        "## Install Dependencies and Libraries"
      ]
    },
    {
      "cell_type": "code",
      "execution_count": null,
      "id": "1eQSHZzRx3n6",
      "metadata": {
        "id": "1eQSHZzRx3n6"
      },
      "outputs": [],
      "source": [
        "!sudo apt-get install python3.11\n",
        "!pip install weaviate-client==4.7.1\n",
        "!pip install -U -q \"google-generativeai>=0.7.2\"\n",
        "!pip install requests\n",
        "!pip install 'protobuf>=5'"
      ]
    },
    {
      "cell_type": "code",
      "execution_count": 1,
      "id": "iKmPS8v7s_Xc",
      "metadata": {
        "id": "iKmPS8v7s_Xc"
      },
      "outputs": [],
      "source": [
        "import weaviate\n",
        "from weaviate.classes.config import Configure\n",
        "from weaviate.embedded import EmbeddedOptions\n",
        "import weaviate.classes as wvc\n",
        "from weaviate.classes.config import Property, DataType, ReferenceProperty\n",
        "from weaviate.util import generate_uuid5\n",
        "from weaviate.classes.query import QueryReference\n",
        "\n",
        "import os\n",
        "import json\n",
        "import requests\n",
        "import PIL\n",
        "import IPython\n",
        "\n",
        "from PIL import Image\n",
        "from io import BytesIO\n",
        "from IPython.display import Markdown\n",
        "\n",
        "import google\n",
        "import google.generativeai as genai\n",
        "from google.colab import userdata\n",
        "\n",
        "# Convert image links to PIL object\n",
        "def url_to_pil(url):\n",
        "    response = requests.get(url)\n",
        "    return Image.open(BytesIO(response.content))\n",
        "\n",
        "# display images\n",
        "def display_image(url, size=100):\n",
        "    response = requests.get(url)\n",
        "    image_data = BytesIO(response.content)\n",
        "    image = Image.open(image_data)\n",
        "\n",
        "    resized_image = image.resize((size,size))\n",
        "\n",
        "    display(resized_image)"
      ]
    },
    {
      "cell_type": "markdown",
      "id": "cee8989d",
      "metadata": {
        "id": "cee8989d"
      },
      "source": [
        "## Part 1: Connect to Weaviate, Define Schema, and Import Data"
      ]
    },
    {
      "cell_type": "markdown",
      "id": "t1Uc93joUOAR",
      "metadata": {
        "id": "t1Uc93joUOAR"
      },
      "source": [
        "### Connect to Weaviate\n",
        "\n",
        "You will need to create a Weaviate cluster. There are a few ways to do this:\n",
        "\n",
        "1. [Weaviate Embedded](https://weaviate.io/developers/weaviate/installation/embedded): Run Weaviate in your runtime\n",
        "\n",
        "2. [Weaviate Cloud](console.weaviate.cloud): Create a sandbox on our managed service. You will need to deploy it in US West, US East, or Australia.\n",
        "\n",
        "3. Local Host: [Docker](https://weaviate.io/developers/weaviate/installation/docker-compose#starter-docker-compose-file) or [Kubernetes](https://weaviate.io/developers/weaviate/installation/kubernetes)\n",
        "\n",
        "For the full list of installation options, see [this page](https://weaviate.io/developers/weaviate/installation)."
      ]
    },
    {
      "cell_type": "markdown",
      "id": "897684f3",
      "metadata": {
        "id": "897684f3"
      },
      "source": [
        "#### Weaviate Embedded\n",
        "You will default to Weaviate Embedded. This runs Weaviate inside your notebook and is ideal for quick experimentation. \n",
        "\n",
        "**Note: It will disconnect once you stop the terminal.**"
      ]
    },
    {
      "cell_type": "markdown",
      "id": "033eec7e",
      "metadata": {
        "id": "85b8f5569cf6"
      },
      "source": [
        "**Set up your API key**\n",
        "\n",
        "To run the following cell, your Gemini API key must be stored in a Colab Secret and named `GEMINI_API_KEY`. If you don't already have an API key, or you're not sure how to create a Colab Secret, see the [Authentication](https://github.com/google-gemini/cookbook/blob/main/quickstarts/Authentication.ipynb) quickstart for an example."
      ]
    },
    {
      "cell_type": "code",
      "execution_count": null,
      "id": "b2a9dc37",
      "metadata": {
        "id": "a4ed6e16c9d3"
      },
      "outputs": [],
      "source": [
        "# Grab Gemini API key \n",
        "GEMINI_API_KEY = userdata.get(\"GEMINI_API_KEY\")\n",
        "genai.configure(api_key=GEMINI_API_KEY)"
      ]
    },
    {
      "cell_type": "code",
      "execution_count": null,
      "id": "QveBlU9aL7jI",
      "metadata": {
        "id": "QveBlU9aL7jI"
      },
      "outputs": [],
      "source": [
        "client = weaviate.WeaviateClient(\n",
        "    embedded_options=EmbeddedOptions(\n",
        "        version=\"1.25.10\",\n",
        "        additional_env_vars={\n",
        "            \"ENABLE_MODULES\": \"text2vec-palm, generative-palm\"\n",
        "        }),\n",
        "        additional_headers={\n",
        "            \"X-Google-Studio-Api-Key\": GEMINI_API_KEY \n",
        "        }\n",
        ")\n",
        "\n",
        "client.connect()"
      ]
    },
    {
      "cell_type": "markdown",
      "id": "1a554d15",
      "metadata": {
        "id": "7316e3e5e27e"
      },
      "source": [
        "#### Other Options: Weaviate Cloud and Local Host"
      ]
    },
    {
      "cell_type": "markdown",
      "id": "39aa28eb",
      "metadata": {
        "id": "517d2f4247ba"
      },
      "source": [
        "#### **Weaviate Cloud**\n",
        "\n",
        "You can connect your notebook to a serverless Weaviate cluster to keep the data persistent in the cloud. You can register [here](https://console.weaviate.cloud/) and create a free 14-day sandbox!\n",
        "\n",
        "To connect to your WCD cluster:\n",
        "```python\n",
        "WCD_URL = \"https://sandbox.gcp.weaviate.cloud\"\n",
        "WCD_AUTH_KEY = \"sk-key\"\n",
        "GEMINI_API_KEY = \"sk-key\"\n",
        "\n",
        "client = weaviate.connect_to_wcs(\n",
        "    cluster_url=WCD_URL,\n",
        "    auth_credentials=weaviate.auth.AuthApiKey(WCD_AUTH_KEY),\n",
        "    headers={\"X-Google-Studio-Api-Key\": GEMINI_API_KEY},\n",
        ")\n",
        "\n",
        "print(client.is_ready())\n",
        "```"
      ]
    },
    {
      "cell_type": "markdown",
      "id": "e400af40",
      "metadata": {
        "id": "a15f667a78e7"
      },
      "source": [
        "#### **Local Host**\n",
        "\n",
        "If you want to run Weaviate yourself, you can download the [Docker files](https://weaviate.io/developers/weaviate/installation/docker-compose) and run it locally on your machine or in the cloud. There is also a `yaml` file in this folder you can use.\n",
        "\n",
        "To connect to Weaviate locally:\n",
        "```python\n",
        "client = weaviate.connect_to_local()\n",
        "\n",
        "print(client.is_ready())\n",
        "```"
      ]
    },
    {
      "cell_type": "markdown",
      "id": "mBahZ-eCrjJD",
      "metadata": {
        "id": "mBahZ-eCrjJD"
      },
      "source": [
        "### Create schema\n",
        "The schema tells Weaviate how you want to store your data. \n",
        "\n",
        "You will first create two collections: Products and Personas. Each collection has metadata (properties) and specifies the embedding and language model.\n",
        "\n",
        "In [Part 4](#part-4-personalization), you will create another collection, `Personalized`, that will generate product descriptions based on the persona. "
      ]
    },
    {
      "cell_type": "code",
      "execution_count": null,
      "id": "842e00de",
      "metadata": {
        "id": "842e00de"
      },
      "outputs": [],
      "source": [
        "# This is optional to empty your database\n",
        "result = client.collections.delete(\"Products\")\n",
        "print(result)\n",
        "result = client.collections.delete(\"Personas\")\n",
        "print(result)"
      ]
    },
    {
      "cell_type": "code",
      "execution_count": null,
      "id": "LUmbb63eOGvX",
      "metadata": {
        "id": "LUmbb63eOGvX"
      },
      "outputs": [],
      "source": [
        "PROJECT_ID = \"\" # leave this empty\n",
        "API_ENDPOINT = \"generativelanguage.googleapis.com\"\n",
        "embedding_model = \"text-embedding-004\" # embedding model \n",
        "generative_model = \"gemini-2.0-flash\" # language model \n",
        "\n",
        "# Products Collection\n",
        "if not client.collections.exists(\"Products\"):\n",
        "  collection = client.collections.create(\n",
        "    name=\"Products\",\n",
        "    vectorizer_config=Configure.Vectorizer.text2vec_palm\n",
        "    (\n",
        "        project_id=PROJECT_ID,\n",
        "        api_endpoint=API_ENDPOINT,\n",
        "        model_id = embedding_model\n",
        "    ),\n",
        "    generative_config=Configure.Generative.palm(\n",
        "        project_id=PROJECT_ID,\n",
        "        api_endpoint=API_ENDPOINT,\n",
        "        model_id = generative_model\n",
        "    ),\n",
        "    properties=[ # properties for the Products collection\n",
        "            Property(name=\"product_id\", data_type=DataType.TEXT),\n",
        "            Property(name=\"title\", data_type=DataType.TEXT),\n",
        "            Property(name=\"category\", data_type=DataType.TEXT),\n",
        "            Property(name=\"link\", data_type=DataType.TEXT),\n",
        "            Property(name=\"description\", data_type=DataType.TEXT),\n",
        "            Property(name=\"brand\", data_type=DataType.TEXT),\n",
        "            Property(name=\"generated_description\", data_type=DataType.TEXT),\n",
        "      ]\n",
        "  )\n",
        "\n",
        "# Personas Collection\n",
        "if not client.collections.exists(\"Personas\"):\n",
        "  collection = client.collections.create(\n",
        "    name=\"Personas\",\n",
        "    vectorizer_config=Configure.Vectorizer.text2vec_palm\n",
        "    (\n",
        "        project_id=PROJECT_ID,\n",
        "        api_endpoint=API_ENDPOINT,\n",
        "        model_id = embedding_model\n",
        "    ),\n",
        "    generative_config=Configure.Generative.palm(\n",
        "        project_id=PROJECT_ID,\n",
        "        api_endpoint=API_ENDPOINT,\n",
        "        model_id = generative_model\n",
        "    ),\n",
        "    properties=[ # properties for the Personas collection\n",
        "            Property(name=\"name\", data_type=DataType.TEXT),\n",
        "            Property(name=\"description\", data_type=DataType.TEXT),\n",
        "      ]\n",
        "  )"
      ]
    },
    {
      "cell_type": "markdown",
      "id": "v5sYXBkMAZZm",
      "metadata": {
        "id": "v5sYXBkMAZZm"
      },
      "source": [
        "### Import Objects"
      ]
    },
    {
      "cell_type": "code",
      "execution_count": 25,
      "id": "vo0WckWt_gyq",
      "metadata": {
        "id": "vo0WckWt_gyq"
      },
      "outputs": [],
      "source": [
        "# URL to the raw JSON file\n",
        "url = 'https://raw.githubusercontent.com/bkauf/next-store/main/first_99_objects.json'\n",
        "response = requests.get(url)\n",
        "\n",
        "# Load the entire JSON content\n",
        "data = json.loads(response.text)"
      ]
    },
    {
      "cell_type": "code",
      "execution_count": 26,
      "id": "-uxOVFZ6_iA7",
      "metadata": {
        "id": "-uxOVFZ6_iA7"
      },
      "outputs": [
        {
          "data": {
            "text/plain": [
              "{'id': 'id_1',\n",
              " 'product_id': 'GGOEGAYC135814',\n",
              " 'title': 'Google Badge Tee',\n",
              " 'category': 'Apparel  Accessories Tops  Tees Tshirts',\n",
              " 'link': 'https://shop.googlemerchandisestore.com/store/20160512512/assets/items/images/GGOEGXXX1358.jpg',\n",
              " 'description': 'A classic crew neck tee made from 100 cotton Its soft and comfortable and features a small Google logo on the chest',\n",
              " 'color': \"['Blue']\",\n",
              " 'gender': 'Unisex',\n",
              " 'brand': 'Google'}"
            ]
          },
          "execution_count": 26,
          "metadata": {},
          "output_type": "execute_result"
        }
      ],
      "source": [
        "# Print first object\n",
        "data[0]"
      ]
    },
    {
      "cell_type": "markdown",
      "id": "3QhqNKBsvTND",
      "metadata": {
        "id": "3QhqNKBsvTND"
      },
      "source": [
        "#### Upload to Weaviate\n",
        "\n",
        "To make sure everything is set, you will upload only one object and confirm it's in the database. "
      ]
    },
    {
      "cell_type": "code",
      "execution_count": null,
      "id": "2762abcc",
      "metadata": {
        "id": "82c8d2a1a97a"
      },
      "outputs": [],
      "source": [
        "products = client.collections.get(\"Products\")\n",
        "\n",
        "first_object = data[0]\n",
        "\n",
        "products.data.insert(\n",
        "    properties={\n",
        "        \"product_id\": first_object['product_id'],\n",
        "        \"title\": first_object['title'],\n",
        "        \"category\": first_object['category'],\n",
        "        \"link\": first_object['link'],\n",
        "        \"description\": first_object['description'],\n",
        "        \"brand\": first_object['brand']\n",
        "    }\n",
        ")\n",
        "\n",
        "response = products.aggregate.over_all(total_count=True)\n",
        "print(response.total_count) # This should output 1"
      ]
    },
    {
      "cell_type": "markdown",
      "id": "f7eec0d7",
      "metadata": {
        "id": "ce1fb093e419"
      },
      "source": [
        "Let's import the remainder of our dataset. You will use Weaviate's batch import to get the 98 objects into our database."
      ]
    },
    {
      "cell_type": "code",
      "execution_count": null,
      "id": "UUZ1yJAvuQXT",
      "metadata": {
        "id": "UUZ1yJAvuQXT"
      },
      "outputs": [],
      "source": [
        "products = client.collections.get(\"Products\")\n",
        "\n",
        "remaining_data = data[1:]\n",
        "\n",
        "with products.batch.dynamic() as batch:\n",
        "  for item in remaining_data:\n",
        "    batch.add_object(\n",
        "      properties={\n",
        "        \"product_id\": item['product_id'],\n",
        "        \"title\": item['title'],\n",
        "        \"category\": item['category'],\n",
        "        \"link\": item['link'],\n",
        "        \"description\": item['description'],\n",
        "        \"brand\": item['brand']\n",
        "    }\n",
        "  )\n",
        "\n",
        "response = products.aggregate.over_all(total_count=True)\n",
        "print(response.total_count) # this should print 99 "
      ]
    },
    {
      "cell_type": "code",
      "execution_count": null,
      "id": "P5gC08735iVZ",
      "metadata": {
        "id": "P5gC08735iVZ"
      },
      "outputs": [],
      "source": [
        "# print the objects uuid and properties\n",
        "for product in products.iterator():\n",
        "    print(product.uuid, product.properties)"
      ]
    },
    {
      "cell_type": "markdown",
      "id": "a8c64f21",
      "metadata": {
        "id": "a8c64f21"
      },
      "source": [
        "You will fetch the object by the UUID that was created. It will print out the vector embedding as well!"
      ]
    },
    {
      "cell_type": "code",
      "execution_count": null,
      "id": "i-OEzKw85-LY",
      "metadata": {
        "id": "i-OEzKw85-LY"
      },
      "outputs": [],
      "source": [
        "product = products.query.fetch_object_by_id(\n",
        "    product.uuid,\n",
        "    include_vector=True\n",
        ")\n",
        "\n",
        "print(product.properties[\"title\"], product.vector[\"default\"])"
      ]
    },
    {
      "cell_type": "markdown",
      "id": "1c6202c0",
      "metadata": {
        "id": "1c6202c0"
      },
      "source": [
        "## Part 2: Vector Search"
      ]
    },
    {
      "cell_type": "markdown",
      "id": "RVKqhfrcyHOb",
      "metadata": {
        "id": "RVKqhfrcyHOb"
      },
      "source": [
        "### Vector Search\n",
        "Vector search returns the objects with most similar vectors to that of the query. You will use the `near_text` operator to find objects with the nearest vector to an input text."
      ]
    },
    {
      "cell_type": "code",
      "execution_count": null,
      "id": "F70gYJJzxYHt",
      "metadata": {
        "id": "F70gYJJzxYHt"
      },
      "outputs": [],
      "source": [
        "products = client.collections.get(\"Products\")\n",
        "\n",
        "response = products.query.near_text(\n",
        "        query=\"travel mug\",\n",
        "        return_properties=[\"title\", \"description\", \"link\"], # only return these 3 properties\n",
        "        limit=3 # limited to 3 objects\n",
        ")\n",
        "\n",
        "for product in response.objects:\n",
        "    print(json.dumps(product.properties, indent=2))\n",
        "    display_image(product.properties['link'])\n",
        "    print('===')"
      ]
    },
    {
      "cell_type": "markdown",
      "id": "Wm5SR_0nrlju",
      "metadata": {
        "id": "Wm5SR_0nrlju"
      },
      "source": [
        "### Hybrid Search\n",
        "[Hybrid search](https://weaviate.io/developers/weaviate/search/hybrid) combines keyword (BM25) and vector search together, giving you the best of both algorithms.\n",
        "\n",
        "To use hybrid search in Weaviate, all you have to do is define the `alpha` parameter to determine the weighting.\n",
        "\n",
        "`alpha` = 0 --> pure BM25\n",
        "\n",
        "`alpha` = 0.5 --> half BM25, half vector search\n",
        "\n",
        "`alpha` = 1 --> pure vector search"
      ]
    },
    {
      "cell_type": "code",
      "execution_count": null,
      "id": "egqvUe2-rpnh",
      "metadata": {
        "id": "egqvUe2-rpnh"
      },
      "outputs": [],
      "source": [
        "products = client.collections.get(\"Products\")\n",
        "\n",
        "response = products.query.hybrid(\n",
        "    query = \"dishwasher safe container\", # query\n",
        "    alpha = 0.75, # leaning more towards vector search\n",
        "    return_properties=[\"title\", \"description\", \"link\"], # return these 3 properties\n",
        "    limit = 3 # limited to only 3 objects\n",
        ")\n",
        "\n",
        "for product in response.objects:\n",
        "    print(json.dumps(product.properties, indent=2))\n",
        "    display_image(product.properties['link'])\n",
        "    print('===')"
      ]
    },
    {
      "cell_type": "markdown",
      "id": "M7bX-bV5rqnR",
      "metadata": {
        "id": "M7bX-bV5rqnR"
      },
      "source": [
        "### Autocut\n",
        "Rather than hard-coding the limit on the number of objects (seen above), the [autocut](https://weaviate.io/developers/weaviate/api/graphql/additional-operators#autocut) feature can be used to cut off the result set. Autocut limits the number of results returned based on significant variations in the result set's metrics, such as vector distance or score.\n",
        "\n",
        "\n",
        "To use autocut, you must specify the `auto_limit` parameter, which will stop returning results after the specified number of variations, or \"jumps\" is reached.\n",
        "\n",
        "You will use the same hybrid search query above but use `auto_limit` rather than `limit`. Notice how there are actually 4 objects retrieved in this case, compared to the 3 objects returned in the previous query."
      ]
    },
    {
      "cell_type": "code",
      "execution_count": null,
      "id": "JaEOs-mVruBf",
      "metadata": {
        "id": "JaEOs-mVruBf"
      },
      "outputs": [],
      "source": [
        "# auto_limit set to 1\n",
        "\n",
        "products = client.collections.get(\"Products\")\n",
        "\n",
        "response = products.query.hybrid(\n",
        "    query = \"dishwasher safe container\", # query\n",
        "    alpha = 0.75, # leaning more towards vector search\n",
        "    return_properties=[\"title\", \"description\", \"link\"], # return these 3 properties\n",
        "    auto_limit = 1 # autocut after 1 jump\n",
        ")\n",
        "\n",
        "for product in response.objects:\n",
        "    print(json.dumps(product.properties, indent=2))\n",
        "    display_image(product.properties['link'])\n",
        "    print('===')"
      ]
    },
    {
      "cell_type": "markdown",
      "id": "WJG6LXJ3yKYl",
      "metadata": {
        "id": "WJG6LXJ3yKYl"
      },
      "source": [
        "### Filters\n",
        "Narrow down the results by adding a filter to the query.\n",
        "\n",
        "Find objects where `category` is equal to `drinkware`."
      ]
    },
    {
      "cell_type": "code",
      "execution_count": null,
      "id": "JnuEwgEG0PVM",
      "metadata": {
        "id": "JnuEwgEG0PVM"
      },
      "outputs": [],
      "source": [
        "products = client.collections.get(\"Products\")\n",
        "\n",
        "response = products.query.near_text(\n",
        "    query=\"travel cup\",\n",
        "    return_properties=[\"title\", \"description\", \"category\", \"link\"], # returned properties\n",
        "    filters=wvc.query.Filter.by_property(\"category\").equal(\"Drinkware\"), # filter\n",
        "    limit=3, # limit to 3 objects\n",
        ")\n",
        "\n",
        "for product in response.objects:\n",
        "    print(json.dumps(product.properties, indent=2))\n",
        "    display_image(product.properties['link'])\n",
        "    print('===')"
      ]
    },
    {
      "cell_type": "markdown",
      "id": "oU8Uc1FQimaf",
      "metadata": {
        "id": "oU8Uc1FQimaf"
      },
      "source": [
        "## Part 3: Generative Feedback Loops\n",
        "\n",
        "[Generative Feedback Loops](https://weaviate.io/blog/generative-feedback-loops-with-llms) refers to the process of storing the output from the language model back to the database.\n",
        "\n",
        "You will generate a description for each product in our database using the Gemini API and save it to the `generated_description` property in the `Products` collection."
      ]
    },
    {
      "cell_type": "markdown",
      "id": "rCUXn9q0rDxf",
      "metadata": {
        "id": "rCUXn9q0rDxf"
      },
      "source": [
        "### Connect and configure the Gemini API model\n",
        "\n",
        "Make sure you have set your Gemini API key in `GEMINI_API_KEY`. Please confirm this step was done in [Part 1](#part-1-connect-to-weaviate-define-schema-and-import-data)."
      ]
    },
    {
      "cell_type": "code",
      "execution_count": null,
      "id": "JajEq9ihp6ed",
      "metadata": {
        "id": "JajEq9ihp6ed"
      },
      "outputs": [],
      "source": [
        "genai.configure(api_key=GEMINI_API_KEY) # gemini api key\n",
        "\n",
        "gemini_flash_model = genai.GenerativeModel(model_name='gemini-2.0-flash') # this model handles both images and text"
      ]
    },
    {
      "cell_type": "markdown",
      "id": "4h7iw16Viny1",
      "metadata": {
        "id": "4h7iw16Viny1"
      },
      "source": [
        "### Generate a description and store it in the `Products` collection\n",
        "\n",
        "Steps for the below cell:\n",
        "1. Run a vector search query to find travel jackets \n",
        "    * Learn more about autocut (`auto_limit`) [here](https://weaviate.io/developers/weaviate/api/graphql/additional-operators#autocut).\n",
        "\n",
        "2. Grab the returned objects, prompt the Gemini API with the task and image, store the description in the `generated_description` property"
      ]
    },
    {
      "cell_type": "code",
      "execution_count": null,
      "id": "Qjz4iYtbP5Ni",
      "metadata": {
        "id": "Qjz4iYtbP5Ni"
      },
      "outputs": [],
      "source": [
        "response = products.query.near_text( # first find travel jackets\n",
        "    query=\"travel jacket\",\n",
        "    return_properties=[\"title\", \"description\", \"category\", \"link\"],\n",
        "    auto_limit=1, # limit it to 1 close group\n",
        ")\n",
        "\n",
        "for product in response.objects:\n",
        "    if \"link\" in product.properties:\n",
        "        id = product.uuid\n",
        "        img_url = product.properties[\"link\"]\n",
        "\n",
        "        pil_image = url_to_pil(img_url) # convert image to PIL object\n",
        "        generated_description = gemini_flash_model.generate_content([\"Write a short Facebook ad about this product photo.\", pil_image]) # prompt to the Gemini API\n",
        "        generated_description = generated_description.text\n",
        "        display_image(product.properties['link'])\n",
        "        print(generated_description)\n",
        "        print('===')\n",
        "\n",
        "        # Update the Product collection with the generated description\n",
        "        products.data.update(uuid=id, properties={\"generated_description\": generated_description})"
      ]
    },
    {
      "cell_type": "markdown",
      "id": "7LjeX-2_vVb5",
      "metadata": {
        "id": "7LjeX-2_vVb5"
      },
      "source": [
        "### Vector Search on the `generated_description` property\n",
        "\n",
        "Since the product description was saved in our `Products` collection, you can run a vector search query on it."
      ]
    },
    {
      "cell_type": "code",
      "execution_count": null,
      "id": "suWRGv6Zu6g2",
      "metadata": {
        "id": "suWRGv6Zu6g2"
      },
      "outputs": [],
      "source": [
        "products = client.collections.get(\"Products\")\n",
        "\n",
        "response = products.query.near_text(\n",
        "        query=\"travel jacket\",\n",
        "        return_properties=[\"generated_description\", \"description\", \"title\"],\n",
        "        limit=1\n",
        "    )\n",
        "\n",
        "for o in response.objects:\n",
        "    print(o.uuid)\n",
        "    print(json.dumps(o.properties, indent=2))"
      ]
    },
    {
      "cell_type": "markdown",
      "id": "Qs5hE2k0OuOh",
      "metadata": {
        "id": "Qs5hE2k0OuOh"
      },
      "source": [
        "## Part 4: Personalization\n",
        "\n",
        "So far, you've generated product descriptions using the Gemini API with the `gemini-2.0-flash` model. In Part 4, you will generate product descriptions tailored to the persona.\n",
        "\n",
        "You will use [cross-references](https://weaviate.io/developers/weaviate/manage-data/cross-references) to establish directional relationships between the Products and Personas collections."
      ]
    },
    {
      "cell_type": "code",
      "execution_count": null,
      "id": "b0473a28",
      "metadata": {
        "id": "fb225b4ffb3c"
      },
      "outputs": [],
      "source": [
        "result = client.collections.delete(\"Personalized\")\n",
        "print(result)"
      ]
    },
    {
      "cell_type": "code",
      "execution_count": null,
      "id": "ba56WznY53C1",
      "metadata": {
        "id": "ba56WznY53C1"
      },
      "outputs": [],
      "source": [
        "PROJECT_ID = \"\" # leave this empty\n",
        "API_ENDPOINT = \"generativelanguage.googleapis.com\"\n",
        "embedding_model = \"text-embedding-004\" # embedding model \n",
        "generative_model = \"gemini-2.0-flash\" # language mdodel \n",
        "\n",
        "# Personalized Collection\n",
        "\n",
        "if not client.collections.exists(\"Personalized\"):\n",
        "  collection = client.collections.create(\n",
        "    name=\"Personalized\",\n",
        "    vectorizer_config=Configure.Vectorizer.text2vec_palm(\n",
        "        project_id=PROJECT_ID,\n",
        "        api_endpoint=API_ENDPOINT,\n",
        "        model_id = embedding_model\n",
        "    ),\n",
        "    generative_config=Configure.Generative.palm(\n",
        "        project_id=PROJECT_ID,\n",
        "        api_endpoint=API_ENDPOINT,\n",
        "        model_id = generative_model\n",
        "    ),\n",
        "    properties=[\n",
        "            Property(name=\"description\", data_type=DataType.TEXT),\n",
        "    ],\n",
        "    # cross-references\n",
        "    references=[\n",
        "        ReferenceProperty(\n",
        "            name=\"ofProduct\",\n",
        "            target_collection=\"Products\" # connect personalized to the products collection\n",
        "        ),\n",
        "        ReferenceProperty(\n",
        "            name=\"ofPersona\",\n",
        "            target_collection=\"Personas\" # connect personalized to the personas collection\n",
        "        )\n",
        "    ]\n",
        ")"
      ]
    },
    {
      "cell_type": "markdown",
      "id": "a44952d7",
      "metadata": {
        "id": "a44952d7"
      },
      "source": [
        "### Create two personas (Alice and Bob)"
      ]
    },
    {
      "cell_type": "code",
      "execution_count": null,
      "id": "j1RlEbYpOw_5",
      "metadata": {
        "id": "j1RlEbYpOw_5"
      },
      "outputs": [],
      "source": [
        "personas = client.collections.get(\"Personas\")\n",
        "\n",
        "for persona in ['Alice', 'Bob']:\n",
        "  generated_description = gemini_flash_model.generate_content([\"Create a fictional buyer persona named \" + persona + \", write a short description about them\"]) # use gemini-2.0-flash to generate persona description\n",
        "  uuid = personas.data.insert({\n",
        "    \"name\": persona,\n",
        "    \"description\": generated_description.text\n",
        "  })\n",
        "  print(uuid)\n",
        "  print(generated_description.text)\n",
        "  print(\"===\")"
      ]
    },
    {
      "cell_type": "code",
      "execution_count": null,
      "id": "B0oKIH5vQhhw",
      "metadata": {
        "id": "B0oKIH5vQhhw"
      },
      "outputs": [],
      "source": [
        "# print objects in the Personas collection\n",
        "\n",
        "personas = client.collections.get(\"Personas\")\n",
        "\n",
        "for persona in personas.iterator():\n",
        "    print(persona.uuid, persona.properties)"
      ]
    },
    {
      "cell_type": "markdown",
      "id": "4442bbc4",
      "metadata": {
        "id": "4442bbc4"
      },
      "source": [
        "### Generate a product description tailored to the persona\n",
        "\n",
        "Grab the product uuid from Part 1 and paste it below"
      ]
    },
    {
      "cell_type": "code",
      "execution_count": null,
      "id": "UHi0V1MX2uNO",
      "metadata": {
        "id": "UHi0V1MX2uNO"
      },
      "outputs": [],
      "source": [
        "personalized = client.collections.get(\"Personalized\")\n",
        "\n",
        "product = products.query.fetch_object_by_id(product.uuid)\n",
        "display_image(product.properties['link'])\n",
        "\n",
        "personas = client.collections.get(\"Personas\")\n",
        "\n",
        "for persona in personas.iterator():\n",
        "    generated_description = gemini_flash_model.generate_content([\"Create a product description tailored to the following person, make sure to use the name (\", persona.properties[\"name\"],\") of the persona.\\n\\n\", \"# Product Description\\n\", product.properties[\"description\"], \"# Persona\", persona.properties[\"description\"]]) # generate a description tailored to the persona\n",
        "    print(generated_description.text)\n",
        "    print('====')\n",
        "    # Add the personalized description to the `description` property in the Personalized collection\n",
        "    new_uuid = personalized.data.insert(\n",
        "        properties={\n",
        "            \"description\": generated_description.text },\n",
        "        references={\n",
        "            \"ofProduct\": product.uuid, # add cross-reference to the Product collection\n",
        "            \"ofPersona\": persona.uuid # add cross-reference to the Persona collection\n",
        "        },\n",
        "    )\n"
      ]
    },
    {
      "cell_type": "markdown",
      "id": "f3f56984",
      "metadata": {
        "id": "f3f56984"
      },
      "source": [
        "### Fetch the objects in the `Personalized` collection"
      ]
    },
    {
      "cell_type": "code",
      "execution_count": null,
      "id": "gxZ1W_cK4_dw",
      "metadata": {
        "id": "gxZ1W_cK4_dw"
      },
      "outputs": [],
      "source": [
        "personalized = client.collections.get(\"Personalized\")\n",
        "\n",
        "response = personalized.query.fetch_objects(\n",
        "    limit=2,\n",
        "    return_references=[QueryReference(\n",
        "            link_on=\"ofProduct\", # return the title property from the Product collection\n",
        "            return_properties=[\"title\", \"link\"]\n",
        "        ),\n",
        "        QueryReference(\n",
        "            link_on=\"ofPersona\",\n",
        "            return_properties=[\"name\"] # return the name property from the Persona collection\n",
        "        )\n",
        "    ]\n",
        ")\n",
        "\n",
        "for item in response.objects:\n",
        "    print(item.properties)\n",
        "    for ref_obj in item.references[\"ofProduct\"].objects:\n",
        "        print(ref_obj.properties)\n",
        "    for ref_obj in item.references[\"ofPersona\"].objects:\n",
        "        print(ref_obj.properties)\n",
        "    display_image(product.properties['link'])\n",
        "    print(\"===\")"
      ]
    },
    {
      "cell_type": "markdown",
      "id": "f61bca1b",
      "metadata": {
        "id": "bedda838233a"
      },
      "source": [
        "## Notebook Recap"
      ]
    },
    {
      "cell_type": "markdown",
      "id": "7f5d9952",
      "metadata": {
        "id": "e2f8c58b3f96"
      },
      "source": [
        "In this notebook, you learned how to:\n",
        "1. Create a Weaviate cluster using Embedded\n",
        "2. Define a Weaviate schema and select the embedding and generative model\n",
        "3. Connect to the Gemini API\n",
        "4. Perform vector and hybrid search with filtering and autocut \n",
        "6. Use Generative Feedback Loops to store the output of the language model back to the database for future retrieval\n",
        "7. Use cross-references to build relationships between collections"
      ]
    },
    {
      "cell_type": "markdown",
      "id": "901aeb49",
      "metadata": {
        "id": "60a6252d6c08"
      },
      "source": [
        "You can learn more about Weaviate through our [documentation](https://weaviate.io/developers/weaviate), and you can find more Weaviate and Google cookbooks [here](https://github.com/weaviate/recipes/tree/main/integrations/cloud-hyperscalers/google)!"
      ]
    },
    {
      "cell_type": "markdown",
      "id": "cfba1c28",
      "metadata": {
        "id": "0ddbf9648e50"
      },
      "source": [
        "**Authors: Erika Cardenas and Bob Van Luijt** \n",
        "\n",
        "Connect with us and let us know if you have any questions!\n",
        "\n",
        "Erika's accounts:\n",
        "* [Follow on X](https://x.com/ecardenas300)\n",
        "* [Connect on LinkedIn](https://www.linkedin.com/in/erikacardenas300/)\n",
        "\n",
        "Bob's accounts:\n",
        "* [Follow on X](https://x.com/bobvanluijt)\n",
        "* [Connect on LinkedIn](https://www.linkedin.com/in/bobvanluijt/)"
      ]
    }
  ],
  "metadata": {
    "colab": {
      "collapsed_sections": [
        "7Wlb0vCDUK3h",
        "t1Uc93joUOAR"
      ],
      "name": "personalized_description_with_weaviate_and_gemini_api.ipynb",
      "toc_visible": true
    },
    "kernelspec": {
      "display_name": "Python 3",
      "name": "python3"
    }
  },
  "nbformat": 4,
  "nbformat_minor": 0
}
