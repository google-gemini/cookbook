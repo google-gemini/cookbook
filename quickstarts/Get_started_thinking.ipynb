{
  "cells": [
    {
      "cell_type": "markdown",
      "metadata": {
        "id": "lb5yiH5h8x3h"
      },
      "source": [
        "##### Copyright 2025 Google LLC."
      ]
    },
    {
      "cell_type": "code",
      "execution_count": 1,
      "metadata": {
        "cellView": "form",
        "id": "906e07f6e562"
      },
      "outputs": [],
      "source": [
        "#@title Licensed under the Apache License, Version 2.0 (the \"License\");\n",
        "# you may not use this file except in compliance with the License.\n",
        "# You may obtain a copy of the License at\n",
        "#\n",
        "# https://www.apache.org/licenses/LICENSE-2.0\n",
        "#\n",
        "# Unless required by applicable law or agreed to in writing, software\n",
        "# distributed under the License is distributed on an \"AS IS\" BASIS,\n",
        "# WITHOUT WARRANTIES OR CONDITIONS OF ANY KIND, either express or implied.\n",
        "# See the License for the specific language governing permissions and\n",
        "# limitations under the License."
      ]
    },
    {
      "cell_type": "markdown",
      "metadata": {
        "id": "WMGdicu8PVD9"
      },
      "source": [
        "# Use Gemini thinking"
      ]
    },
    {
      "cell_type": "markdown",
      "metadata": {
        "id": "DR4Ti6Q0QKIl"
      },
      "source": [
        "<a target=\"_blank\" href=\"https://colab.research.google.com/github/google-gemini/cookbook/blob/main/quickstarts/Get_started_thinking.ipynb\"><img src=\"https://colab.research.google.com/assets/colab-badge.svg\" height=30/></a>"
      ]
    },
    {
      "cell_type": "markdown",
      "metadata": {
        "id": "3w14yjWnPVD-"
      },
      "source": [
        "[Gemini 2.5 Flash](https://ai.google.dev/gemini-api/docs/models#gemini-2.5-flash-preview-04-17) and [Gemini 2.5 Pro](https://ai.google.dev/gemini-api/docs/models#gemini-2.5-pro-preview-06-05) are models that are trained to do a [thinking process](https://ai.google.dev/gemini-api/docs/thinking-mode) (or reasoning) before getting to a final answer. As a result,\n",
        "those models are capable of stronger reasoning capabilities in its responses than previous models.\n",
        "\n",
        "You'll see examples of those reasoning capabilities with [code understanding](#scrollTo=GAa7sCD7tuMW), [geometry](#scrollTo=ADiJV-fFyjRe) and [math](#scrollTo=EXPPWpt6ttJZ) problems.\n",
        "\n",
        "As you will see, the model is exposing its thoughts so you can have a look at its reasoning and how it did reach its conclusions."
      ]
    },
    {
      "cell_type": "markdown",
      "metadata": {
        "id": "FHsG7Z-t1AoP"
      },
      "source": [
        "## Understanding the thinking models\n",
        "\n",
        "[Gemini 2.5 models](https://ai.google.dev/gemini-api/docs/thinking) are optimized for complex tasks that need multiple rounds of strategyzing and iteratively solving.\n",
        "\n",
        "[Gemini 2.5 Flash](https://ai.google.dev/gemini-api/docs/models#gemini-2.5-flash-preview-04-17) in particular, brings the flexibility of using `thinking_budget` - a parameter\n",
        "that offers fine-grained control over the maximum number of tokens a model can generate while thinking. Alternatively, you can designate a precise token allowance for the\n",
        "\"thinking\" stage through the adjusment of the `thinking_budget` parameter. This allowance can vary between 0 and 24576 tokens for 2.5 Flash.\n",
        "\n",
        "For more information about all Gemini models, check the [documentation](https://ai.google.dev/gemini-api/docs/models/gemini) for extended information on each of them.\n",
        "\n",
        "On this notebook all examples are using `Gemini 2.5 Pro` and `Gemini 2.5 Flash` with the new `thinking_budget` parameter. For more information about using the `thinking_budget` with the Gemini thinking model, check the [documentation](https://ai.google.dev/gemini-api/docs/thinking)."
      ]
    },
    {
      "cell_type": "markdown",
      "metadata": {
        "id": "R0HWzIEAQYqz"
      },
      "source": [
        "## Setup\n",
        "\n",
        "This section install the SDK, set it up using your [API key](../quickstarts/Authentication.ipynb), imports the relevant libs, downloads the sample videos and upload them to Gemini.\n",
        "\n",
        "Just collapse (click on the little arrow on the left of the title) and run this section if you want to jump straight to the examples (just don't forget to run it otherwise nothing will work)."
      ]
    },
    {
      "cell_type": "markdown",
      "metadata": {
        "id": "UzBKAaL4QYq0"
      },
      "source": [
        "### Install SDK\n",
        "\n",
        "The new **[Google Gen AI SDK](https://ai.google.dev/gemini-api/docs/sdks)** provides programmatic access to Gemini models using both the [Google AI for Developers](https://ai.google.dev/gemini-api/docs) and [Vertex AI](https://cloud.google.com/vertex-ai/generative-ai/docs/overview) APIs. With a few exceptions, code that runs on one platform will run on both. This means that you can prototype an application using the Developer API and then migrate the application to Vertex AI without rewriting your code.\n",
        "\n",
        "More details about this new SDK on the [documentation](https://ai.google.dev/gemini-api/docs/sdks) or in the [Getting started](../quickstarts/Get_started.ipynb) notebook."
      ]
    },
    {
      "cell_type": "code",
      "execution_count": 1,
      "metadata": {
        "id": "IbKkL5ksQYq1"
      },
      "outputs": [
        {
          "name": "stdout",
          "output_type": "stream",
          "text": [
            "\u001b[?25l   \u001b[90m━━━━━━━━━━━━━━━━━━━━━━━━━━━━━━━━━━━━━━━━\u001b[0m \u001b[32m0.0/200.0 kB\u001b[0m \u001b[31m?\u001b[0m eta \u001b[36m-:--:--\u001b[0m\r\u001b[2K   \u001b[90m━━━━━━━━━━━━━━━━━━━━━━━━━━━━━━━━━━━━━━━━\u001b[0m \u001b[32m200.0/200.0 kB\u001b[0m \u001b[31m7.0 MB/s\u001b[0m eta \u001b[36m0:00:00\u001b[0m\n",
            "\u001b[?25h"
          ]
        }
      ],
      "source": [
        "%pip install -U -q \"google-genai>=1.16.0\""
      ]
    },
    {
      "cell_type": "markdown",
      "metadata": {
        "id": "aDUGen_kQYq2"
      },
      "source": [
        "### Setup your API key\n",
        "\n",
        "To run the following cell, your API key must be stored it in a Colab Secret named `GOOGLE_API_KEY`. If you don't already have an API key, or you're not sure how to create a Colab Secret, see [Authentication](../quickstarts/Authentication.ipynb) for an example."
      ]
    },
    {
      "cell_type": "code",
      "execution_count": 2,
      "metadata": {
        "id": "0H_lRdlrQYq3"
      },
      "outputs": [],
      "source": [
        "from google.colab import userdata\n",
        "\n",
        "GOOGLE_API_KEY=userdata.get('GOOGLE_API_KEY')"
      ]
    },
    {
      "cell_type": "markdown",
      "metadata": {
        "id": "_3Lez1vBQYq3"
      },
      "source": [
        "### Initialize SDK client\n",
        "\n",
        "With the new SDK you now only need to initialize a client with you API key (or OAuth if using [Vertex AI](https://cloud.google.com/vertex-ai)). The model is now set in each call."
      ]
    },
    {
      "cell_type": "code",
      "execution_count": 3,
      "metadata": {
        "id": "X3CAp9YrQYq4"
      },
      "outputs": [],
      "source": [
        "from google import genai\n",
        "from google.genai import types\n",
        "\n",
        "client = genai.Client(api_key=GOOGLE_API_KEY)"
      ]
    },
    {
      "cell_type": "code",
      "execution_count": 4,
      "metadata": {
        "id": "zNIfaceKFC82"
      },
      "outputs": [],
      "source": [
        "MODEL_ID=\"gemini-2.5-flash-preview-05-20\" # @param [\"gemini-2.5-flash-preview-05-20\", \"gemini-2.5-pro-preview-06-05\"] {\"allow-input\":true, isTemplate: true}"
      ]
    },
    {
      "cell_type": "markdown",
      "metadata": {
        "id": "IF5tDbb-Q0oc"
      },
      "source": [
        "### Imports"
      ]
    },
    {
      "cell_type": "code",
      "execution_count": 5,
      "metadata": {
        "id": "B0Z9QzC3Q2wX"
      },
      "outputs": [],
      "source": [
        "import json\n",
        "from PIL import Image\n",
        "from IPython.display import display, Markdown"
      ]
    },
    {
      "cell_type": "markdown",
      "metadata": {
        "id": "qAPiYdYMfeJP"
      },
      "source": [
        "## Using the thinking models\n",
        "\n",
        "Here are some quite complex examples of what Gemini thinking models can solve.\n",
        "\n",
        "In each of them you can select different models to see how this new model compares to its predecesors.\n",
        "\n",
        "In some cases, you'll still get the good answer from the other models, in that case, re-run it a couple of times and you'll see that Gemini thinking models are more consistent thanks to their thinking step."
      ]
    },
    {
      "cell_type": "markdown",
      "metadata": {
        "id": "8D30HsUJ2x54"
      },
      "source": [
        "### Using adaptive thinking\n",
        "\n",
        "You can start by asking the model to explain a concept and see how it does reasoning before answering.\n",
        "\n",
        "Starting with the adaptive `thinking_budget` - which is the default when you don't specify a budget - the model will dynamically adjust the budget based on the complexity of the request."
      ]
    },
    {
      "cell_type": "code",
      "execution_count": 6,
      "metadata": {
        "id": "ffa2fd81d26e"
      },
      "outputs": [
        {
          "data": {
            "text/markdown": "This is a fun one, requiring a bit of niche animal knowledge!\n\nGiven the criteria:\n1.  **Aquatic Mammal:** Lives in water.\n2.  **Doesn't live in the sea:** Excludes whales, dolphins, seals, manatees, sea otters, etc. (focus on freshwater).\n3.  **Smaller than a cat:** This is the key filter that eliminates beavers, most river otters, muskrats (often cat-sized, but can be larger), and platypus (can be cat-sized).\n\nThe most fitting animal that meets *all* these criteria precisely is a:\n\n**Water Shrew** (e.g., Eurasian Water Shrew, American Water Shrew) or a **Desman** (e.g., Pyrenean Desman, Russian Desman).\n\n*   **Water Shrews:** Are tiny, mouse-sized mammals, perfectly at home in freshwater streams and rivers. They are definitely smaller than a cat.\n*   **Desmans:** Are similar to moles but adapted for aquatic life, found in freshwater. They have long, mobile snouts and webbed feet, and are also distinctly smaller than a cat.\n\nLet's pick **Water Shrew** as the primary guess, as it's a bit more widely known than a Desman.\n\n---\n\n**How to make sure (using 20 Questions):**\n\nHere's a sequence of questions you could ask to narrow it down and confirm:\n\n1.  **Is it an animal?** (Yes, obviously)\n2.  **Is it a mammal?** (Yes)\n3.  **Does it live primarily in freshwater environments like rivers, streams, or ponds, rather than the ocean?** (Yes - this confirms \"doesn't live in the sea\")\n4.  **Is it smaller than a typical house cat?** (Yes - this is crucial)\n5.  **Does it have fur?** (Yes)\n6.  **Does it lay eggs?** (No - eliminates platypus)\n7.  **Is it known for building large structures like dams or lodges?** (No - eliminates beavers, which are also too big anyway)\n8.  **Does it have a long, pointed snout?** (Yes - points towards shrew/desman)\n9.  **Are its eyes very small and perhaps not its primary sense for hunting?** (Yes - common for shrews and desmans that rely on touch and hearing)\n10. **Does it primarily eat insects, larvae, or very small aquatic invertebrates?** (Yes - common diet for water shrews/desmans)\n11. **Does it have special adaptations for swimming, like fringes of stiff hairs on its feet or tail?** (Yes - very characteristic of water shrews)\n12. **Is it roughly the size of a mouse or a small rat?** (Yes - confirms water shrew/desman, differentiates from muskrat/platypus which are larger)\n\nIf you get \"Yes\" to these questions, you've very strongly pinpointed a **Water Shrew** or a **Desman**. If you want to differentiate between the two, you might ask:\n\n13. **Does it have a very prominent, mobile snout that almost looks like a tiny trunk?** (Yes for Desman, less so for Water Shrew)\n14. **Is it typically found in specific regions of Europe or Asia?** (Could help confirm Desman vs. broader distribution of Water Shrews)\n\nBased on the initial criteria, a **Water Shrew** is the most likely and perfectly fitting answer.",
            "text/plain": [
              "<IPython.core.display.Markdown object>"
            ]
          },
          "execution_count": 6,
          "metadata": {},
          "output_type": "execute_result"
        }
      ],
      "source": [
        "prompt = \"\"\"\n",
        "    You are playing the 20 question game. You know that what you are looking for\n",
        "    is a aquatic mammal that doesn't live in the sea, and that's smaller than a\n",
        "    cat. What could that be and how could you make sure?\n",
        "\"\"\"\n",
        "\n",
        "response = client.models.generate_content(\n",
        "    model=MODEL_ID,\n",
        "    contents=prompt\n",
        ")\n",
        "\n",
        "Markdown(response.text)"
      ]
    },
    {
      "cell_type": "markdown",
      "metadata": {
        "id": "cf57b6797848"
      },
      "source": [
        "Looking to the response metadata, you can see not only the amount of tokens on your input and the amount of tokens used for the response, but also the amount of tokens used for the thinking step - As you can see here, the model used around 1400 tokens in the thinking steps:"
      ]
    },
    {
      "cell_type": "code",
      "execution_count": 7,
      "metadata": {
        "id": "6d09a98f06e6"
      },
      "outputs": [
        {
          "name": "stdout",
          "output_type": "stream",
          "text": [
            "Prompt tokens: 59\n",
            "Thoughts tokens: 1607\n",
            "Output tokens: 777\n",
            "Total tokens: 2443\n"
          ]
        }
      ],
      "source": [
        "print(\"Prompt tokens:\",response.usage_metadata.prompt_token_count)\n",
        "print(\"Thoughts tokens:\",response.usage_metadata.thoughts_token_count)\n",
        "print(\"Output tokens:\",response.usage_metadata.candidates_token_count)\n",
        "print(\"Total tokens:\",response.usage_metadata.total_token_count)"
      ]
    },
    {
      "cell_type": "markdown",
      "metadata": {
        "id": "5aecf74aff72"
      },
      "source": [
        "### Disabling the thinking steps\n",
        "\n",
        "You can also disable the thinking steps by setting the `thinking_budget` to 0. You'll see that in this case, the model doesn't think of the platipus as a possible answer.\n",
        "\n",
        "**NOTE:** For now, you can disable the thinking steps when using the `gemini-2.5-flash-preview-05-20` model."
      ]
    },
    {
      "cell_type": "code",
      "execution_count": 8,
      "metadata": {
        "id": "602bf11f5b78"
      },
      "outputs": [
        {
          "data": {
            "text/markdown": "This is a fun riddle! Let's break it down.\n\n**The Clues:**\n\n1.  **Aquatic Mammal:** It lives in or near water and is a mammal (warm-blooded, has fur/hair, gives birth to live young, nurses its young).\n2.  **Doesn't live in the sea:** This rules out marine mammals like dolphins, whales, seals, sea otters, manatees, etc.\n3.  **Smaller than a cat:** This is a crucial size constraint.\n\n**Possible Candidates:**\n\nGiven these clues, the most likely candidate is a **Water Shrew**.\n\nLet's see why:\n\n*   **Aquatic Mammal:** Yes, water shrews are excellent swimmers and divers, often hunting insects, small fish, and larvae in streams and ponds. They are mammals.\n*   **Doesn't live in the sea:** Definitely. They are freshwater inhabitants.\n*   **Smaller than a cat:** Absolutely! Water shrews are tiny, typically only a few inches long, much smaller than even a domestic cat.\n\n**How to Make Sure (20 Questions Style):**\n\nIf I were playing the 20 questions game and suspected it was a water shrew, here are some questions I might ask to confirm (or rule out other possibilities):\n\n1.  **Is it native to North America?** (Water shrews are found in various parts of the world, including North America, Europe, and Asia).\n2.  **Does it primarily eat insects?** (Water shrews are insectivores, though they'll eat other small invertebrates and even tiny fish).\n3.  **Does it have venom?** (Some species of water shrews, like the American water shrew, have venomous saliva to subdue prey, which is quite rare for mammals).\n4.  **Does it build nests near water?** (Yes, they often make burrows or nests in banks near streams).\n5.  **Is it a rodent?** (No, shrews are not rodents; they belong to the order Soricomorpha, while rodents are in Rodentia). This is a good clarifying question.\n6.  **Does it have very tiny eyes?** (Yes, shrews generally have poor eyesight and rely more on hearing and smell).\n7.  **Could I hold it in the palm of my hand?** (Yes, easily).\n8.  **Is it known for being extremely active?** (Metabolism is very high for shrews, so they are constantly foraging).\n\n**Other Less Likely but Possible (and why they don't quite fit or are less likely):**\n\n*   **Pygmy Shrew:** Small, but not specifically \"aquatic\" in the same way a water shrew is, though they might drink from water.\n*   **Mice/Volves (some species):** Some species like **Water Voles** are aquatic and smaller than a cat. However, they are rodents, and water shrews are insectivores, which might be a good differentiator in a 20-question game. Water voles are also generally larger than shrews.\n*   **Muskrat kit/baby:** A muskrat is an aquatic mammal that doesn't live in the sea, but adults are larger than a cat. A kit might fit the \"smaller than a cat\" criteria temporarily, but \"it\" usually refers to the mature animal.\n\nGiven the combination of \"aquatic mammal,\" \"doesn't live in the sea,\" and \"smaller than a cat,\" the **Water Shrew** is the strongest fit.",
            "text/plain": [
              "<IPython.core.display.Markdown object>"
            ]
          },
          "execution_count": 8,
          "metadata": {},
          "output_type": "execute_result"
        }
      ],
      "source": [
        "prompt = \"\"\"\n",
        "    You are playing the 20 question game. You know that what you are looking for\n",
        "    is a aquatic mammal that doesn't live in the sea, and that's smaller than a\n",
        "    cat. What could that be and how could you make sure?\n",
        "\"\"\"\n",
        "\n",
        "response = client.models.generate_content(\n",
        "  model=MODEL_ID,\n",
        "  contents=prompt,\n",
        "  config=types.GenerateContentConfig(\n",
        "    thinking_config=types.ThinkingConfig(\n",
        "      thinking_budget=0\n",
        "    )\n",
        "  )\n",
        ")\n",
        "\n",
        "Markdown(response.text)"
      ]
    },
    {
      "cell_type": "markdown",
      "metadata": {
        "id": "16dfc2a51e4d"
      },
      "source": [
        "Now you can see that the response is faster as the model didn't perform any thinking step. Also you can see that no tokens were used for the thinking step:"
      ]
    },
    {
      "cell_type": "code",
      "execution_count": 9,
      "metadata": {
        "id": "5dcd275d0b42"
      },
      "outputs": [
        {
          "name": "stdout",
          "output_type": "stream",
          "text": [
            "Prompt tokens: 59\n",
            "Thoughts tokens: None\n",
            "Output tokens: 763\n",
            "Total tokens: 822\n"
          ]
        }
      ],
      "source": [
        "print(\"Prompt tokens:\",response.usage_metadata.prompt_token_count)\n",
        "print(\"Thoughts tokens:\",response.usage_metadata.thoughts_token_count)\n",
        "print(\"Output tokens:\",response.usage_metadata.candidates_token_count)\n",
        "print(\"Total tokens:\",response.usage_metadata.total_token_count)"
      ]
    },
    {
      "cell_type": "markdown",
      "metadata": {
        "id": "GAa7sCD7tuMW"
      },
      "source": [
        "### Solving a physics problem\n",
        "\n",
        "Now, try with a simple physics comprehension example. First you can disable the `thinking_budget` to see how the model performs:"
      ]
    },
    {
      "cell_type": "code",
      "execution_count": 10,
      "metadata": {
        "id": "PZw41-lsKKMf"
      },
      "outputs": [
        {
          "data": {
            "text/markdown": "Here's how to calculate the maximum bending stress for the given cantilever beam:\n\n**1. Define Given Parameters:**\n\n*   Length of the beam (L) = 3 m\n*   Width of the cross-section (b) = 0.1 m\n*   Height of the cross-section (h) = 0.2 m\n*   Modulus of Elasticity (E) = 200 GPa = 200 * 10^9 N/m² (not directly needed for stress calculation, but good to note)\n*   Uniformly distributed load (w) = 5 kN/m = 5000 N/m\n*   Point load (P) = 10 kN = 10000 N\n\n**2. Calculate the Moment of Inertia (I):**\n\nFor a rectangular cross-section, the moment of inertia about the neutral axis is:\n\n$I = \\frac{b \\cdot h^3}{12}$\n\n$I = \\frac{0.1 \\text{ m} \\cdot (0.2 \\text{ m})^3}{12}$\n$I = \\frac{0.1 \\text{ m} \\cdot 0.008 \\text{ m}^3}{12}$\n$I = \\frac{0.0008 \\text{ m}^4}{12}$\n$I = 6.6667 \\times 10^{-5} \\text{ m}^4$\n\n**3. Determine the Maximum Bending Moment (M_max):**\n\nFor a cantilever beam, the maximum bending moment occurs at the fixed end. We need to sum the moments caused by both the distributed load and the point load.\n\n*   **Moment due to uniformly distributed load (w):**\n    For a cantilever beam with a distributed load, the maximum moment at the fixed end is $M_w = w \\cdot L \\cdot (\\frac{L}{2}) = \\frac{w L^2}{2}$\n    $M_w = \\frac{5000 \\text{ N/m} \\cdot (3 \\text{ m})^2}{2}$\n    $M_w = \\frac{5000 \\text{ N/m} \\cdot 9 \\text{ m}^2}{2}$\n    $M_w = \\frac{45000 \\text{ Nm}}{2}$\n    $M_w = 22500 \\text{ Nm}$\n\n*   **Moment due to point load (P):**\n    For a cantilever beam with a point load at the free end, the maximum moment at the fixed end is $M_P = P \\cdot L$\n    $M_P = 10000 \\text{ N} \\cdot 3 \\text{ m}$\n    $M_P = 30000 \\text{ Nm}$\n\n*   **Total Maximum Bending Moment (M_max):**\n    $M_{max} = M_w + M_P$\n    $M_{max} = 22500 \\text{ Nm} + 30000 \\text{ Nm}$\n    $M_{max} = 52500 \\text{ Nm}$\n\n**4. Determine the distance to the extreme fiber (y):**\n\nFor a rectangular cross-section, the neutral axis is at the mid-height. The extreme fiber is at the top or bottom surface.\n\n$y = \\frac{h}{2}$\n$y = \\frac{0.2 \\text{ m}}{2}$\n$y = 0.1 \\text{ m}$\n\n**5. Calculate the Maximum Bending Stress (σ_max):**\n\nThe bending stress formula is:\n\n$\\sigma_{max} = \\frac{M_{max} \\cdot y}{I}$\n\n$\\sigma_{max} = \\frac{52500 \\text{ Nm} \\cdot 0.1 \\text{ m}}{6.6667 \\times 10^{-5} \\text{ m}^4}$\n\n$\\sigma_{max} = \\frac{5250 \\text{ Nm}^2}{6.6667 \\times 10^{-5} \\text{ m}^4}$\n\n$\\sigma_{max} = 78749999.98 \\text{ N/m}^2$\n\n$\\sigma_{max} \\approx 7.875 \\times 10^7 \\text{ Pa}$\n\n$\\sigma_{max} = 78.75 \\text{ MPa}$\n\nThe maximum bending stress (σ_max) is **78.75 MPa**.",
            "text/plain": [
              "<IPython.core.display.Markdown object>"
            ]
          },
          "execution_count": 10,
          "metadata": {},
          "output_type": "execute_result"
        }
      ],
      "source": [
        "prompt = \"\"\"\n",
        "    A cantilever beam of length L=3m has a rectangular cross-section (width b=0.1m, height h=0.2m) and is made of steel (E=200 GPa).\n",
        "    It is subjected to a uniformly distributed load w=5 kN/m along its entire length and a point load P=10 kN at its free end.\n",
        "    Calculate the maximum bending stress (σ_max).\n",
        "\"\"\"\n",
        "\n",
        "response = client.models.generate_content(\n",
        "    model=MODEL_ID,\n",
        "    contents=prompt,\n",
        "    config=types.GenerateContentConfig(\n",
        "        thinking_config=types.ThinkingConfig(\n",
        "            thinking_budget=0\n",
        "        )\n",
        "    )\n",
        ")\n",
        "\n",
        "Markdown(response.text)"
      ]
    },
    {
      "cell_type": "markdown",
      "metadata": {
        "id": "edf87bae4035"
      },
      "source": [
        "You can see that the model used no tokens for the thinking step:"
      ]
    },
    {
      "cell_type": "code",
      "execution_count": 11,
      "metadata": {
        "id": "7b59d32afd90"
      },
      "outputs": [
        {
          "name": "stdout",
          "output_type": "stream",
          "text": [
            "Prompt tokens: 96\n",
            "Thoughts tokens: None\n",
            "Output tokens: 1032\n",
            "Total tokens: 1128\n"
          ]
        }
      ],
      "source": [
        "print(\"Prompt tokens:\",response.usage_metadata.prompt_token_count)\n",
        "print(\"Thoughts tokens:\",response.usage_metadata.thoughts_token_count)\n",
        "print(\"Output tokens:\",response.usage_metadata.candidates_token_count)\n",
        "print(\"Total tokens:\",response.usage_metadata.total_token_count)"
      ]
    },
    {
      "cell_type": "markdown",
      "metadata": {
        "id": "14873702305e"
      },
      "source": [
        "Then you can set a fixed maximum budget (`thinking_budget=4096`, or 4096 tokens) for the thinking step to see how the model performs.\n",
        "\n",
        "You can see that, even producing a similar result for the same prompt, the amount of details shared in the answer makes it deeper and more consistent.\n",
        "\n",
        "**NOTE:** You have different possible budget values for 2.5 Pro and 2.5 Flash:\n",
        "- for the Gemini 2.5 Pro, the budgets can be between `128` and `32768`\n",
        "- for the Gemini 2.5 Flash, the budgets can be between `0` (disabling the thinking process) to `24576`"
      ]
    },
    {
      "cell_type": "code",
      "execution_count": 12,
      "metadata": {
        "id": "1783ef351094"
      },
      "outputs": [
        {
          "data": {
            "text/markdown": "To calculate the maximum bending stress ($\\sigma_{max}$) in the cantilever beam, we need to follow these steps:\n\n1.  **Calculate the relevant cross-sectional properties:** Moment of Inertia (I) and Section Modulus (Z).\n2.  **Determine the maximum bending moment ($M_{max}$)** acting on the beam. For a cantilever beam, the maximum moment occurs at the fixed support.\n3.  **Apply the bending stress formula.**\n\n---\n\n**Given Parameters:**\n*   Length, L = 3 m\n*   Width, b = 0.1 m\n*   Height, h = 0.2 m\n*   Modulus of Elasticity, E = 200 GPa (Note: E is not needed for stress calculation, only for deflection)\n*   Uniformly distributed load, w = 5 kN/m\n*   Point load, P = 10 kN (at the free end)\n\n---\n\n**Step 1: Calculate Cross-sectional Properties**\n\nFor a rectangular cross-section:\n*   **Moment of Inertia (I):**\n    $I = \\frac{b h^3}{12}$\n    $I = \\frac{0.1 \\text{ m} \\times (0.2 \\text{ m})^3}{12}$\n    $I = \\frac{0.1 \\text{ m} \\times 0.008 \\text{ m}^3}{12}$\n    $I = \\frac{0.0008 \\text{ m}^4}{12}$\n    $I = 6.6667 \\times 10^{-5} \\text{ m}^4$\n\n*   **Distance from Neutral Axis to Extreme Fiber (y_max):**\n    For a rectangular section, $y_{max} = \\frac{h}{2}$\n    $y_{max} = \\frac{0.2 \\text{ m}}{2} = 0.1 \\text{ m}$\n\n*   **Section Modulus (Z):**\n    $Z = \\frac{I}{y_{max}}$ or $Z = \\frac{b h^2}{6}$\n    $Z = \\frac{6.6667 \\times 10^{-5} \\text{ m}^4}{0.1 \\text{ m}}$\n    $Z = 6.6667 \\times 10^{-4} \\text{ m}^3$\n\n---\n\n**Step 2: Determine Maximum Bending Moment ($M_{max}$)**\n\nFor a cantilever beam, the maximum bending moment occurs at the fixed support. We need to sum the moments caused by each load.\n\n*   **Moment due to uniformly distributed load (w):**\n    $M_w = \\frac{w L^2}{2}$\n    $M_w = \\frac{(5 \\text{ kN/m}) \\times (3 \\text{ m})^2}{2}$\n    $M_w = \\frac{5 \\times 9}{2} = \\frac{45}{2} = 22.5 \\text{ kN} \\cdot \\text{m}$\n\n*   **Moment due to point load (P) at the free end:**\n    $M_P = P \\times L$\n    $M_P = 10 \\text{ kN} \\times 3 \\text{ m}$\n    $M_P = 30 \\text{ kN} \\cdot \\text{m}$\n\n*   **Total Maximum Bending Moment ($M_{max}$):**\n    The moments add up because both loads cause bending in the same direction (sagging/negative moment at the fixed end).\n    $M_{max} = M_w + M_P$\n    $M_{max} = 22.5 \\text{ kN} \\cdot \\text{m} + 30 \\text{ kN} \\cdot \\text{m}$\n    $M_{max} = 52.5 \\text{ kN} \\cdot \\text{m}$\n    Convert to N·m for consistency with stress units:\n    $M_{max} = 52.5 \\times 10^3 \\text{ N} \\cdot \\text{m}$\n\n---\n\n**Step 3: Calculate Maximum Bending Stress ($\\sigma_{max}$)**\n\nThe bending stress formula is $\\sigma = \\frac{M y}{I}$. For maximum stress, we use $M_{max}$ and $y_{max}$.\nAlternatively, using the Section Modulus (Z): $\\sigma_{max} = \\frac{M_{max}}{Z}$. This is often simpler.\n\nUsing the Section Modulus:\n$\\sigma_{max} = \\frac{M_{max}}{Z}$\n$\\sigma_{max} = \\frac{52.5 \\times 10^3 \\text{ N} \\cdot \\text{m}}{6.6667 \\times 10^{-4} \\text{ m}^3}$\n$\\sigma_{max} = 78,749,531 \\text{ N/m}^2$\n\nConvert to Pascals (Pa) or MegaPascals (MPa):\n$1 \\text{ Pa} = 1 \\text{ N/m}^2$\n$1 \\text{ MPa} = 10^6 \\text{ Pa}$\n$\\sigma_{max} = 78.75 \\times 10^6 \\text{ Pa}$\n$\\sigma_{max} = 78.75 \\text{ MPa}$\n\n---\n\n**Final Answer:**\nThe maximum bending stress in the cantilever beam is **78.75 MPa**.",
            "text/plain": [
              "<IPython.core.display.Markdown object>"
            ]
          },
          "execution_count": 12,
          "metadata": {},
          "output_type": "execute_result"
        }
      ],
      "source": [
        "prompt = \"\"\"\n",
        "    A cantilever beam of length L=3m has a rectangular cross-section (width b=0.1m, height h=0.2m) and is made of steel (E=200 GPa).\n",
        "    It is subjected to a uniformly distributed load w=5 kN/m along its entire length and a point load P=10 kN at its free end.\n",
        "    Calculate the maximum bending stress (σ_max).\n",
        "\"\"\"\n",
        "\n",
        "thinking_budget = 4096 # @param {type:\"slider\", min:0, max:24576, step:1}\n",
        "\n",
        "response = client.models.generate_content(\n",
        "    model=MODEL_ID,\n",
        "    contents=prompt,\n",
        "    config=types.GenerateContentConfig(\n",
        "        thinking_config=types.ThinkingConfig(\n",
        "            thinking_budget=thinking_budget\n",
        "        )\n",
        "    )\n",
        ")\n",
        "\n",
        "Markdown(response.text)"
      ]
    },
    {
      "cell_type": "markdown",
      "metadata": {
        "id": "fe9bafe22c64"
      },
      "source": [
        "Now you can see that the model used around 2000 tokens for the thinking step (not necessarily using the full budget you set):"
      ]
    },
    {
      "cell_type": "code",
      "execution_count": 13,
      "metadata": {
        "id": "3dfac516c27b"
      },
      "outputs": [
        {
          "name": "stdout",
          "output_type": "stream",
          "text": [
            "Prompt tokens: 96\n",
            "Thoughts tokens: 1557 / 4096\n",
            "Output tokens: 1248\n",
            "Total tokens: 2901\n"
          ]
        }
      ],
      "source": [
        "print(\"Prompt tokens:\",response.usage_metadata.prompt_token_count)\n",
        "print(\"Thoughts tokens:\",response.usage_metadata.thoughts_token_count,\"/\",thinking_budget)\n",
        "print(\"Output tokens:\",response.usage_metadata.candidates_token_count)\n",
        "print(\"Total tokens:\",response.usage_metadata.total_token_count)"
      ]
    },
    {
      "cell_type": "markdown",
      "metadata": {
        "id": "FTuVuVeAnUVR"
      },
      "source": [
        "Keep in mind that the largest the thinking budget is, the longest the model will spend time thinking, with means a longer computation time and a more expensive request."
      ]
    },
    {
      "cell_type": "markdown",
      "metadata": {
        "id": "ADiJV-fFyjRe"
      },
      "source": [
        "### Working with multimodal problems\n",
        "\n",
        "This geometry problem requires complex reasoning and is also using Gemini multimodal abilities to read the image.\n",
        "In this case, you are fixing a value to the `thinking_budget` so the model will use up to 8196 tokens for the thinking step."
      ]
    },
    {
      "cell_type": "code",
      "execution_count": 14,
      "metadata": {
        "id": "MIcXWXqyzCjQ"
      },
      "outputs": [
        {
          "data": {
            "image/png": "[encoded data removed]",
            "text/plain": [
              "<PIL.Image.Image image mode=RGBA size=256x256>"
            ]
          },
          "execution_count": 14,
          "metadata": {},
          "output_type": "execute_result"
        }
      ],
      "source": [
        "!wget https://storage.googleapis.com/generativeai-downloads/images/geometry.png -O geometry.png -q\n",
        "\n",
        "im = Image.open(\"geometry.png\").resize((256,256))\n",
        "im"
      ]
    },
    {
      "cell_type": "code",
      "execution_count": 15,
      "metadata": {
        "id": "Lb9o7AeDwVyZ"
      },
      "outputs": [
        {
          "data": {
            "text/markdown": "The image shows a circle and a right-angled triangle.\n\n1.  **Analyze the Circle:**\n    *   The lines extending from the center to the edge are radii. Three radii are shown, all labeled \"3\". So, the radius of the circle is `r = 3`.\n    *   Two of the radii are shown to be perpendicular to each other (forming the corner that aligns with the triangle's right angle). This means they form a sector with an angle of 90 degrees.\n\n2.  **Analyze the Triangle:**\n    *   It's a right-angled triangle.\n    *   The two legs of the triangle (the sides forming the right angle) are both labeled \"3\". This means its legs are equal in length to the radius of the circle.\n    *   The right angle of the triangle is precisely at the center of the circle.\n    *   The legs of the triangle extend along two of the radii of the circle.\n\n3.  **Identify the Overlapping Region:**\n    *   The overlapping region is the sector of the circle defined by the two radii that form the legs of the triangle.\n    *   Since the legs of the triangle are of length 3 (the radius), and the right angle is at the center, the triangle perfectly covers this 90-degree sector of the circle.\n\n4.  **Calculate the Area of the Overlapping Region:**\n    *   The overlapping region is a sector of a circle with radius `r = 3` and an angle of 90 degrees.\n    *   A 90-degree sector is exactly one-quarter (90/360 = 1/4) of the entire circle.\n    *   Area of a full circle = `πr²`\n    *   Area of the full circle = `π * (3)² = 9π`\n    *   Area of the overlapping region = (1/4) * (Area of the full circle)\n    *   Area = (1/4) * `9π`\n    *   Area = `9π/4`\n\nThe area of the overlapping region is **9π/4**.",
            "text/plain": [
              "<IPython.core.display.Markdown object>"
            ]
          },
          "execution_count": 15,
          "metadata": {},
          "output_type": "execute_result"
        }
      ],
      "source": [
        "prompt = \"What's the area of the overlapping region?\"\n",
        "\n",
        "thinking_budget = 8192 # @param {type:\"slider\", min:0, max:24576, step:1}\n",
        "\n",
        "response = client.models.generate_content(\n",
        "    model=MODEL_ID,\n",
        "    contents=[im, prompt],\n",
        "    config=types.GenerateContentConfig(\n",
        "        thinking_config=types.ThinkingConfig(\n",
        "            thinking_budget=thinking_budget\n",
        "        )\n",
        "    )\n",
        ")\n",
        "\n",
        "Markdown(response.text)"
      ]
    },
    {
      "cell_type": "markdown",
      "metadata": {
        "id": "EXPPWpt6ttJZ"
      },
      "source": [
        "### Solving brain teasers\n",
        "\n",
        "Here's another brain teaser based on an image, this time it looks like a mathematical problem, but it cannot actually be solved mathematically. If you check the toughts of the model you'll see that it will realize it and come up with an out-of-the-box solution.\n",
        "\n",
        "In this case, you are fixing a value to the `thinking_budget` so the model will use up to 24576 tokens for the thinking step."
      ]
    },
    {
      "cell_type": "code",
      "execution_count": 16,
      "metadata": {
        "id": "F2YeBqzC0J_i"
      },
      "outputs": [
        {
          "data": {
            "image/png": "[encoded data removed]",
            "text/plain": [
              "<PIL.Image.Image image mode=RGBA size=256x256>"
            ]
          },
          "execution_count": 16,
          "metadata": {},
          "output_type": "execute_result"
        }
      ],
      "source": [
        "!wget https://storage.googleapis.com/generativeai-downloads/images/pool.png -O pool.png -q\n",
        "\n",
        "im = Image.open(\"pool.png\").resize((256,256))\n",
        "im"
      ]
    },
    {
      "cell_type": "markdown",
      "metadata": {
        "id": "aDNOYONW5u7z"
      },
      "source": [
        "First you can check how the model performs without reasoning (`thinking_budget=0`):"
      ]
    },
    {
      "cell_type": "code",
      "execution_count": 17,
      "metadata": {
        "id": "Vt2dSjeqA9ZC"
      },
      "outputs": [
        {
          "data": {
            "text/markdown": "You've presented four pool balls: 7, 9, 11, and 13.\n\nIf you are asking how to use *three* of these four balls to sum up to 30, here are the combinations:\n\n*   **7 + 9 + 13 = 29** (Close, but not 30)\n*   **7 + 11 + 13 = 31** (Close, but not 30)\n*   **9 + 11 + 13 = 33** (Close, but not 30)\n\nNo combination of *three* of these specific numbers (7, 9, 11, 13) will sum exactly to 30.\n\nPerhaps you were thinking of a different set of numbers, or there's a trick involved that isn't immediately obvious from just the numbers on the balls. For example, some common pool ball puzzles involve:\n*   **Turning a ball upside down:** If you can turn the '9' upside down to make a '6', then **7 + 11 + 6 = 24** (Still not 30 with these numbers, but it's a common trick). If you used 6, 11, and 13, that would be 6 + 11 + 13 = 30. So if the 9 can be rotated to a 6, then you can use **6 + 11 + 13 = 30**.\n\nIs the \"9\" ball meant to be a \"6\" when viewed upside down? If so:\n**6 + 11 + 13 = 30**\n\nThis is a very common solution to this type of pool ball puzzle!",
            "text/plain": [
              "<IPython.core.display.Markdown object>"
            ]
          },
          "execution_count": 17,
          "metadata": {},
          "output_type": "execute_result"
        }
      ],
      "source": [
        "response = client.models.generate_content(\n",
        "    model=MODEL_ID,\n",
        "    contents=[\n",
        "        im,\n",
        "        \"How do I use those three pool balls to sum up to 30?\"\n",
        "    ],\n",
        "    config=types.GenerateContentConfig(\n",
        "        thinking_config=types.ThinkingConfig(\n",
        "            thinking_budget=0\n",
        "        )\n",
        "    )\n",
        ")\n",
        "\n",
        "Markdown(response.text)"
      ]
    },
    {
      "cell_type": "markdown",
      "metadata": {
        "id": "K1c6oyBU54XI"
      },
      "source": [
        "As you can notice, the model struggled to find a way to get to the result - and ended up suggesting to use different pool balls.\n",
        "\n",
        "Now you can use the model reasoning to solve the riddle:"
      ]
    },
    {
      "cell_type": "code",
      "execution_count": 18,
      "metadata": {
        "id": "6fnVAJuv530a"
      },
      "outputs": [
        {
          "data": {
            "text/markdown": "This is a classic riddle!\n\nYou need to **turn the 9 ball upside down** to make it a **6**.\n\nThen, you can use:\n**6 (from the inverted 9) + 11 + 13 = 30**",
            "text/plain": [
              "<IPython.core.display.Markdown object>"
            ]
          },
          "execution_count": 18,
          "metadata": {},
          "output_type": "execute_result"
        }
      ],
      "source": [
        "prompt = \"How do I use those three pool balls to sum up to 30?\"\n",
        "\n",
        "thinking_budget = 24576 # @param {type:\"slider\", min:0, max:24576, step:1}\n",
        "\n",
        "response = client.models.generate_content(\n",
        "    model=MODEL_ID,\n",
        "    contents=[\n",
        "        im,\n",
        "        prompt,\n",
        "    ],\n",
        "    config=types.GenerateContentConfig(\n",
        "        thinking_config=types.ThinkingConfig(\n",
        "            thinking_budget=thinking_budget\n",
        "        )\n",
        "    )\n",
        ")\n",
        "\n",
        "Markdown(response.text)"
      ]
    },
    {
      "cell_type": "markdown",
      "metadata": {
        "id": "511ffa6a2c5c"
      },
      "source": [
        "### Solving a math puzzle with the maximum `thinking_budget`\n",
        "\n",
        "This is typically a case where you want to fix a budget, as the model can spend a lot of time thinking in all directions before finding the right answer. It should not be too low either as non-thinking models have trouble with such questions.\n",
        "\n",
        "Play with the thinking budget and try to find how much it needs to be able to find the right answer most of the time."
      ]
    },
    {
      "cell_type": "code",
      "execution_count": 19,
      "metadata": {
        "id": "91072ecec725"
      },
      "outputs": [
        {
          "data": {
            "text/markdown": "Here's how you can obtain 565 using the numbers 10, 8, 3, 7, 1, and 5, using each number only once and common operations:\n\n1.  **Multiply 8 by 7:**\n    8 * 7 = 56\n\n2.  **Multiply the result (56) by 10:**\n    56 * 10 = 560\n\n3.  **Add 5 to the result (560):**\n    560 + 5 = 565\n\nSo, the full expression is:\n**(8 * 7 * 10) + 5 = 565**\n\nNumbers used: 8, 7, 10, 5. (Numbers 3 and 1 are not used, which is permissible).",
            "text/plain": [
              "<IPython.core.display.Markdown object>"
            ]
          },
          "metadata": {},
          "output_type": "display_data"
        }
      ],
      "source": [
        "prompt = \"\"\"\n",
        "   How can you obtain 565 with 10 8 3 7 1 and 5 and the common operations?\n",
        "   You can only use a number once.\n",
        "\"\"\"\n",
        "\n",
        "thinking_budget = 24576 # @param {type:\"slider\", min:0, max:24576, step:1}\n",
        "\n",
        "response = client.models.generate_content(\n",
        "    model=MODEL_ID,\n",
        "    contents=prompt,\n",
        "    config=types.GenerateContentConfig(\n",
        "        thinking_config=types.ThinkingConfig(\n",
        "            thinking_budget=thinking_budget\n",
        "        )\n",
        "    )\n",
        ")\n",
        "\n",
        "display(Markdown(response.text))"
      ]
    },
    {
      "cell_type": "markdown",
      "metadata": {
        "id": "q1teR7Fx6_Zh"
      },
      "source": [
        "## Working thoughts summaries\n",
        "\n",
        "Summaries of the model's thinking reveal its internal problem-solving pathway. Users can leverage this feature to check the model's strategy and remain informed during complex tasks.\n",
        "\n",
        "For more details about Gemini 2.5 thinking capabilities, take a look at the [Gemini models thinking guide](https://googledevai.devsite.corp.google.com/gemini-api/docs/thinking#summaries)."
      ]
    },
    {
      "cell_type": "code",
      "execution_count": 20,
      "metadata": {
        "id": "qtEhB8xC8QAF"
      },
      "outputs": [],
      "source": [
        "prompt = \"\"\"\n",
        "  Alice, Bob, and Carol each live in a different house on the same street: red, green, and blue.\n",
        "  The person who lives in the red house owns a cat.\n",
        "  Bob does not live in the green house.\n",
        "  Carol owns a dog.\n",
        "  The green house is to the left of the red house.\n",
        "  Alice does not own a cat.\n",
        "  Who lives in each house, and what pet do they own?\n",
        "\"\"\"\n",
        "\n",
        "response = client.models.generate_content(\n",
        "  model=MODEL_ID,\n",
        "  contents=prompt,\n",
        "  config=types.GenerateContentConfig(\n",
        "    thinking_config=types.ThinkingConfig(\n",
        "      include_thoughts=True\n",
        "    )\n",
        "  )\n",
        ")"
      ]
    },
    {
      "cell_type": "markdown",
      "metadata": {
        "id": "39IeBCYv8PR7"
      },
      "source": [
        "You can check both the thought summaries and the final model response:"
      ]
    },
    {
      "cell_type": "code",
      "execution_count": 21,
      "metadata": {
        "id": "KcgYIrda8kAo"
      },
      "outputs": [
        {
          "data": {
            "text/markdown": "## **Thoughts summary:**",
            "text/plain": [
              "<IPython.core.display.Markdown object>"
            ]
          },
          "metadata": {},
          "output_type": "display_data"
        },
        {
          "data": {
            "text/markdown": "**Logical Puzzle Breakdown: A Thorough Analysis**\n\nOkay, here's my thought process on this classic logic puzzle:\n\n1.  **The Goal:** My primary objective is to determine exactly who resides in each of the red, green, and blue houses, as well as the unique pet each person owns (cat, dog, or an implied third pet).\n\n2.  **The Pieces:** I've identified the main entities:  Alice, Bob, and Carol (people); Red, Green, and Blue (houses); and cat, dog, and (potentially) a third, unnamed pet.\n\n3.  **Building a Framework:** A table or grid is the perfect structure here. I decided to represent it this way:\n\n    | House | Resident | Pet |\n    |-------|----------|-----|\n    | Red   |          |     |\n    | Green |          |     |\n    | Blue  |          |     |\n\n4.  **Clue-by-Clue Decoding:** Now, let's break down each clue systematically:\n\n    *   **Clue 1: \"The person who lives in the red house owns a cat.\"**  I immediately fill in \"Cat\" under the \"Pet\" column for the \"Red\" house.\n\n    *   **Clue 2: \"Bob does not live in the green house.\"** I'll keep this in mind – Bob ≠ Green.\n\n    *   **Clue 3: \"Carol owns a dog.\"** I place \"Dog\" under Carol's name on my scratch pad.\n\n    *   **Clue 4: \"The green house is to the left of the red house.\"** This clue shows the relative positioning of houses: Green - Red. This might be important if there is only one option.\n\n    *   **Clue 5: \"Alice does not own a cat.\"** Alice ≠ Cat.  Since the red house has a cat owner, then Alice ≠ Red.\n\n5.  **Putting it Together:** Time to combine these clues and deduce:\n\n    *   From clues 1 (Red = Cat) and 5 (Alice ≠ Cat), Alice can't live in the red house.\n    *   From clue 3 (Carol = Dog). and clue 1 (Red = Cat), Carol is not in the red house (Dog vs Cat).\n    *   *Here's the key:* Since neither Alice nor Carol can live in the red house, and we know Bob, Alice and Carol each live in the three houses, Bob *must* live in the red house! And the pet must be a cat!\n    *   The table looks like this:\n\n        | House | Resident | Pet |\n        |-------|----------|-----|\n        | Red   | Bob      | Cat |\n        | Green |          |     |\n        | Blue  |          |     |\n\n    *   Now, back to clues. Bob ≠ Green - consistent. Carol and Alice remaining.\n    *   We also know (Alice ≠ Cat) so she has \"other\" pet.\n\n    *   We know Carol owns the dog. Because Bob has the cat, Carol and Alice can *both* be in Green or Blue.\n\n    *   \"The green house is to the left of the red house.\" We have (Green) - (Red)\n\n    *   We can have:\n        *   Carol (Dog), Green - Red (Bob (Cat)) - Blue (Alice (Other Pet))\n        *   Alice (Other Pet), Green - Red (Bob (Cat)) - Blue (Carol (Dog))\n\n    *   I've carefully re-read the clues and my deduction. I am now certain Bob (Cat) must be in the Red House. And Green is to the left of Red. I am still getting two final solutions for Alice/Carol. I'm starting to think this is a designed non-unique solution.\n\n    *   Red = Cat, Alice != Cat, Carol = Dog\n        Bob is the Cat owner by process of elimination. Then we have Carol (dog) or Alice (other pet) in green/blue houses. No clue fixes the ordering.\n\n    *   Two solutions are valid:\n\n        *   **Solution A:**\n            *   Red: Bob (Cat)\n            *   Green: Carol (Dog)\n            *   Blue: Alice (Other Pet)\n\n        *   **Solution B:**\n            *   Red: Bob (Cat)\n            *   Green: Alice (Other Pet)\n            *   Blue: Carol (Dog)\n\nI believe this puzzle has multiple solutions to the final assignment. The answer is Bob is in Red, and the remaining assignments of the green/blue houses for Alice and Carol can go either way.\n",
            "text/plain": [
              "<IPython.core.display.Markdown object>"
            ]
          },
          "metadata": {},
          "output_type": "display_data"
        },
        {
          "name": "stdout",
          "output_type": "stream",
          "text": [
            "\n"
          ]
        },
        {
          "data": {
            "text/markdown": "## **Answer:**",
            "text/plain": [
              "<IPython.core.display.Markdown object>"
            ]
          },
          "metadata": {},
          "output_type": "display_data"
        },
        {
          "data": {
            "text/markdown": "Let's break this down step-by-step to figure out who lives where and what pet they own.\n\n**1. Set up a grid or table to keep track of the information:**\n\n| House | Resident | Pet |\n|-------|----------|-----|\n| Red   |          |     |\n| Green |          |     |\n| Blue  |          |     |\n\n**2. Process the clues:**\n\n*   **\"The person who lives in the red house owns a cat.\"**\n    *   Add this directly to our table:\n        | House | Resident | Pet |\n        |-------|----------|-----|\n        | Red   |          | Cat |\n        | Green |          |     |\n        | Blue  |          |     |\n\n*   **\"Carol owns a dog.\"**\n    *   We know Carol's pet is a dog. Since the Red house has a cat, **Carol cannot live in the red house**.\n\n*   **\"Alice does not own a cat.\"**\n    *   Since the Red house has a cat, **Alice cannot live in the red house**.\n\n**3. Deduce who lives in the red house:**\n*   We know the Red house owner has a cat.\n*   Neither Alice nor Carol lives in the Red house (because Alice doesn't own a cat, and Carol owns a dog).\n*   Therefore, by elimination, **Bob must live in the red house** and he owns the cat.\n\n*   Update table:\n    | House | Resident | Pet |\n    |-------|----------|-----|\n    | Red   | Bob      | Cat |\n    | Green |          |     |\n    | Blue  |          |     |\n\n**4. Process remaining clues and make further deductions:**\n\n*   **\"Bob does not live in the green house.\"**\n    *   This clue is consistent with our finding that Bob lives in the red house. It doesn't add new information to assign other people.\n\n*   **Pets owned:**\n    *   Bob owns a cat.\n    *   Carol owns a dog.\n    *   Alice does not own a cat. Since Bob has the cat and Carol has the dog (and assuming each person owns a unique pet), Alice must own the *third* pet (which is not specified, but let's just call it \"other pet\").\n        *   Alice: Other Pet\n\n*   **Remaining People and Houses:**\n    *   People left: Alice, Carol\n    *   Houses left: Green, Blue\n\n*   **\"The green house is to the left of the red house.\"**\n    *   This tells us the relative position of the green and red houses.\n    *   Possible house arrangements on the street (from left to right):\n        1.  Green - Red - Blue\n        2.  Blue - Green - Red\n\n    *   However, this spatial clue does *not* provide enough information to definitively place Alice or Carol in either the green or blue house. Both scenarios for Alice and Carol (and their pets) are consistent with all given clues.\n\n**Conclusion:**\n\nBob definitely lives in the red house and owns a cat. However, there are two possible arrangements for Alice and Carol and their houses/pets:\n\n**Possibility 1:**\n\n*   **Red House:** Bob owns a cat.\n*   **Green House:** Carol owns a dog.\n*   **Blue House:** Alice owns the third pet (not a cat or dog).\n\n**Possibility 2:**\n\n*   **Red House:** Bob owns a cat.\n*   **Green House:** Alice owns the third pet (not a cat or dog).\n*   **Blue House:** Carol owns a dog.\n\nBoth possibilities fully satisfy all the conditions given in the puzzle.",
            "text/plain": [
              "<IPython.core.display.Markdown object>"
            ]
          },
          "metadata": {},
          "output_type": "display_data"
        }
      ],
      "source": [
        "for part in response.candidates[0].content.parts:\n",
        "  if not part.text:\n",
        "    continue\n",
        "  elif part.thought:\n",
        "    display(Markdown(\"## **Thoughts summary:**\"))\n",
        "    display(Markdown(part.text))\n",
        "    print()\n",
        "  else:\n",
        "    display(Markdown(\"## **Answer:**\"))\n",
        "    display(Markdown(part.text))"
      ]
    },
    {
      "cell_type": "markdown",
      "metadata": {
        "id": "U7MkrNn28vxY"
      },
      "source": [
        "You can also use see the thought summaries in streaming experiences:"
      ]
    },
    {
      "cell_type": "code",
      "execution_count": 22,
      "metadata": {
        "id": "93S2-d5X85kq"
      },
      "outputs": [
        {
          "data": {
            "text/markdown": "## **Thoughts summary:**",
            "text/plain": [
              "<IPython.core.display.Markdown object>"
            ]
          },
          "metadata": {},
          "output_type": "display_data"
        },
        {
          "data": {
            "text/markdown": "**Deciphering the Clues**\n\nI'm starting by clarifying the goal: matching people to houses and pets. Alice, Bob, and Carol each live in one of the Red, Green, or Blue houses and have one of the Cat, Dog, or an unknown pet. I need to make sure I understand the relationships between people, houses, and pets.",
            "text/plain": [
              "<IPython.core.display.Markdown object>"
            ]
          },
          "metadata": {},
          "output_type": "display_data"
        },
        {
          "data": {
            "text/markdown": "**Pinpointing Relationships**\n\nI've begun organizing the information into a table to track potential pairings.  Clue 4, \"Carol owns a dog,\" and Clue 6, \"Alice does not own a cat,\" are key starting points. I'm focusing on direct relationships and exclusions. I'm also considering how Clue 5, \"The green house is to the left of the red house,\" might affect the solution.",
            "text/plain": [
              "<IPython.core.display.Markdown object>"
            ]
          },
          "metadata": {},
          "output_type": "display_data"
        },
        {
          "data": {
            "text/markdown": "**Analyzing Relationships**\n\nI'm now zeroing in on Alice's pet. Since Bob has the cat and Carol has the dog, Alice must have the remaining pet.  I'm also considering the implications of house locations, particularly Clue 5, which places the green house to the left of the red house, where Bob resides. This spatial arrangement could help me determine the houses of Alice and Carol.",
            "text/plain": [
              "<IPython.core.display.Markdown object>"
            ]
          },
          "metadata": {},
          "output_type": "display_data"
        },
        {
          "data": {
            "text/markdown": "**Finalizing Pet and House Matches**\n\nI'm now certain Bob lives in the red house and owns the cat. Carol has the dog. This leaves the third pet for Alice, which, based on the clues, must be a shared pet with either Bob or Carol. I am working through the house color placements now. Clue 5 tells me the green house is to the left of the red house, where Bob lives.",
            "text/plain": [
              "<IPython.core.display.Markdown object>"
            ]
          },
          "metadata": {},
          "output_type": "display_data"
        },
        {
          "data": {
            "text/markdown": "**Uncovering the Missing Piece**\n\nI've determined that Bob lives in the red house and owns the cat. Carol has the dog. The focus now is on Alice's pet, since she doesn't own the cat. I'm exploring the implications of this absence, with the assumption one pet is shared. This helps clarify the last remaining piece of the puzzle.",
            "text/plain": [
              "<IPython.core.display.Markdown object>"
            ]
          },
          "metadata": {},
          "output_type": "display_data"
        },
        {
          "data": {
            "text/markdown": "**Confirming the Deductions**\n\nI've determined that Bob lives in the red house and owns the cat. Carol owns the dog. My focus is now on Alice and determining her pet and house. With the houses green, red, and blue, the layout's implications are clear. I'm exploring the possibilities based on Bob's placement, and considering that Alice does not have a cat.",
            "text/plain": [
              "<IPython.core.display.Markdown object>"
            ]
          },
          "metadata": {},
          "output_type": "display_data"
        },
        {
          "data": {
            "text/markdown": "**Revising House and Pet Assignments**\n\nI've determined that Bob lives in the red house and owns the cat. Carol has the dog, and based on the current clues, Alice either shares the dog or has an unmentioned pet. I'm now focusing on house arrangements. It appears the puzzle intends for one pet type to be shared or for the third pet to be unknown, as Alice cannot own the cat. I'm re-reading the information to confirm my deductions.",
            "text/plain": [
              "<IPython.core.display.Markdown object>"
            ]
          },
          "metadata": {},
          "output_type": "display_data"
        },
        {
          "data": {
            "text/markdown": "**Completing the Deductions**\n\nI've determined Bob lives in the red house with the cat, and Carol has the dog. The focus now is definitively assigning Alice a house and pet, given the green house's position relative to the red house. I'm carefully analyzing the house order and pet relationships to finalize all matches.",
            "text/plain": [
              "<IPython.core.display.Markdown object>"
            ]
          },
          "metadata": {},
          "output_type": "display_data"
        },
        {
          "data": {
            "text/markdown": "**Confirming Relationships and Deductions**\n\nI'm verifying that Alice lives in the blue house and owns a dog, since Carol lives in the green house with the dog, and Bob lives in the red house with the cat. I've re-examined the clues to make sure all relationships are correct.  I've cross-referenced all the information, and I am satisfied with the final placements.",
            "text/plain": [
              "<IPython.core.display.Markdown object>"
            ]
          },
          "metadata": {},
          "output_type": "display_data"
        },
        {
          "data": {
            "text/markdown": "**Confirming and Finalizing**\n\nI'm now confident that Bob lives in the red house and owns the cat. Based on the clues and logical deductions, Carol lives in the green house with the dog, and Alice resides in the blue house with another dog. I've successfully completed the puzzle and can now verify the answers.",
            "text/plain": [
              "<IPython.core.display.Markdown object>"
            ]
          },
          "metadata": {},
          "output_type": "display_data"
        },
        {
          "data": {
            "text/markdown": "**Confirming Final Placements**\n\nI now understand that Bob lives in the red house with the cat, Carol lives in the green house with the dog, and Alice lives in the blue house with another dog. All relationships and clues align.",
            "text/plain": [
              "<IPython.core.display.Markdown object>"
            ]
          },
          "metadata": {},
          "output_type": "display_data"
        },
        {
          "data": {
            "text/markdown": "**Confirming Final Arrangements**\n\nI'm revisiting the green house position. Now I understand that Carol lives in the green house with a dog. Bob lives in the red house with the cat, and Alice must reside in the blue house with another dog. I've successfully completed the puzzle and can now move on to the next one.",
            "text/plain": [
              "<IPython.core.display.Markdown object>"
            ]
          },
          "metadata": {},
          "output_type": "display_data"
        },
        {
          "data": {
            "text/markdown": "**Revising and Verifying**\n\nI'm now certain Bob lives in the red house and owns the cat. Carol must live in the green house and owns a dog, placing Alice in the blue house with another dog. The clue about the green house being to the left of the red house solidifies this arrangement.",
            "text/plain": [
              "<IPython.core.display.Markdown object>"
            ]
          },
          "metadata": {},
          "output_type": "display_data"
        },
        {
          "data": {
            "text/markdown": "**Deducing Final Placements**\n\nI'm now confident that Bob lives in the red house and owns the cat, and Carol lives in the green house with the dog, since I have placed Alice with a dog in the blue house. I've re-examined the clues to verify all placements.",
            "text/plain": [
              "<IPython.core.display.Markdown object>"
            ]
          },
          "metadata": {},
          "output_type": "display_data"
        },
        {
          "data": {
            "text/markdown": "**Confirming Final Deductions**\n\nI'm now certain Bob lives in the red house with the cat, and Carol owns a dog. Through logical deduction and cross-referencing clues, I've placed Alice in the blue house with another dog. The puzzle's solution seems clear now.",
            "text/plain": [
              "<IPython.core.display.Markdown object>"
            ]
          },
          "metadata": {},
          "output_type": "display_data"
        },
        {
          "data": {
            "text/markdown": "**Solidifying the Connections**\n\nI'm confident Bob lives in the red house with the cat. Carol must live in the green house with the dog, since the house placement aligns. I'm focusing now on Alice's placement in the blue house, where she, also, must own the dog.",
            "text/plain": [
              "<IPython.core.display.Markdown object>"
            ]
          },
          "metadata": {},
          "output_type": "display_data"
        },
        {
          "data": {
            "text/markdown": "**Re-evaluating the Relationships**\n\nI'm now revising my previous thought process, realizing the \"left of\" clue helps order the houses.  I need to definitively determine whether Alice or Carol lives in the green house and blue house.",
            "text/plain": [
              "<IPython.core.display.Markdown object>"
            ]
          },
          "metadata": {},
          "output_type": "display_data"
        },
        {
          "data": {
            "text/markdown": "**Finalizing Deductions**\n\nI'm revisiting the placements.  Since Bob is in the red house, and Carol owns a dog, and since green must be to Bob's left. It looks as if I can finalize who lives in which house now. I'm focusing on Alice's pet and house, since that seems the last piece.",
            "text/plain": [
              "<IPython.core.display.Markdown object>"
            ]
          },
          "metadata": {},
          "output_type": "display_data"
        },
        {
          "data": {
            "text/markdown": "**Refining House Assignments**\n\nI've determined that Bob lives in the red house with the cat, and Carol owns the dog. The focus now is definitively assigning Alice a house, given the green house's position relative to the red house. I'm carefully analyzing the house order and pet relationships to finalize all matches.",
            "text/plain": [
              "<IPython.core.display.Markdown object>"
            ]
          },
          "metadata": {},
          "output_type": "display_data"
        },
        {
          "data": {
            "text/markdown": "**Confirming Final Placement**\n\nI'm revisiting the \"left of\" clue, which establishes the spatial ordering. Given that Bob resides in the red house with the cat, Carol owns a dog, and Alice does not have a cat, I'm now certain the remaining details. I'm carefully analyzing the Green-Red house positioning to confirm the Alice and Carol assignments.",
            "text/plain": [
              "<IPython.core.display.Markdown object>"
            ]
          },
          "metadata": {},
          "output_type": "display_data"
        },
        {
          "data": {
            "text/markdown": "**Clarifying Relationships**\n\nI'm now certain about Bob's house and pet. He lives in the red house and owns the cat. Based on the clues, Carol must own the dog. I am now working to verify that Alice owns a dog. The main focus is to confirm their house placement.",
            "text/plain": [
              "<IPython.core.display.Markdown object>"
            ]
          },
          "metadata": {},
          "output_type": "display_data"
        },
        {
          "data": {
            "text/markdown": "**Confirming Final Deductions**\n\nI've determined that Bob lives in the red house and owns the cat. Carol must live in the green house with the dog, since the spatial ordering is clear. Alice now has to reside in the blue house with the dog. The puzzle's solution seems clear now.",
            "text/plain": [
              "<IPython.core.display.Markdown object>"
            ]
          },
          "metadata": {},
          "output_type": "display_data"
        },
        {
          "data": {
            "text/markdown": "**Clarifying Deductions**\n\nI'm now certain about Bob's house and pet; Carol owns a dog. Given the \"Green to the left\" clue, Alice must live in the blue house and own a dog to align with Carol.",
            "text/plain": [
              "<IPython.core.display.Markdown object>"
            ]
          },
          "metadata": {},
          "output_type": "display_data"
        },
        {
          "data": {
            "text/markdown": "**Analyzing the Final Pieces**\n\nI'm revisiting the constraints of the puzzle and confirming my deductions. I've placed Bob in the red house with the cat. Carol has the dog and must live in either the green or blue house. Now I'm focusing on Alice's placement with her dog. The only remaining factor is the \"green is left of red\" clue.",
            "text/plain": [
              "<IPython.core.display.Markdown object>"
            ]
          },
          "metadata": {},
          "output_type": "display_data"
        },
        {
          "data": {
            "text/markdown": "**Analyzing Solution Possibilities**\n\nI'm revisiting the deductions. I've placed Bob in the red house, who owns the cat. Carol must have the dog, leaving Alice to have a dog. I am reevaluating Alice's house options, considering the green house placement.",
            "text/plain": [
              "<IPython.core.display.Markdown object>"
            ]
          },
          "metadata": {},
          "output_type": "display_data"
        },
        {
          "data": {
            "text/markdown": "**Confirming Final Placement**\n\nI'm revisiting the puzzle, certain Bob lives in the red house with the cat, and Carol has the dog. Green is to the left of red. Alice also owns the dog, and based on the constraints, she must occupy the blue house. This is the only configuration that aligns with all the provided clues and deductions.",
            "text/plain": [
              "<IPython.core.display.Markdown object>"
            ]
          },
          "metadata": {},
          "output_type": "display_data"
        },
        {
          "data": {
            "text/markdown": "## **Answer:**",
            "text/plain": [
              "<IPython.core.display.Markdown object>"
            ]
          },
          "metadata": {},
          "output_type": "display_data"
        },
        {
          "data": {
            "text/markdown": "Let's break down the clues step-by-step to solve this puzzle.\n\n1.  **Carol owns a dog.** (Cl",
            "text/plain": [
              "<IPython.core.display.Markdown object>"
            ]
          },
          "metadata": {},
          "output_type": "display_data"
        },
        {
          "data": {
            "text/markdown": "ue 4)\n    *   Carol: Dog\n\n2.  **The person who lives in the red house owns a cat.** (Clue 2)\n\n3.  **Alice does not own a cat.** (Clue 6)",
            "text/plain": [
              "<IPython.core.display.Markdown object>"
            ]
          },
          "metadata": {},
          "output_type": "display_data"
        },
        {
          "data": {
            "text/markdown": "*   Since Alice doesn't own a cat, she cannot live in the red house.\n    *   Since Carol owns a dog, she doesn't own a cat (assuming each person owns only one specific pet mentioned, or",
            "text/plain": [
              "<IPython.core.display.Markdown object>"
            ]
          },
          "metadata": {},
          "output_type": "display_data"
        },
        {
          "data": {
            "text/markdown": "that the \"cat\" is unique). So, Carol cannot live in the red house either.\n    *   Therefore, **Bob must live in the red house.**\n\n4.  From Clue 2, since Bob lives in the red house,",
            "text/plain": [
              "<IPython.core.display.Markdown object>"
            ]
          },
          "metadata": {},
          "output_type": "display_data"
        },
        {
          "data": {
            "text/markdown": "**Bob owns a cat.**\n    *   Bob: Red House, Cat\n\n5.  Now we know Bob has the cat, and Carol has the dog. Alice does not own a cat. The only remaining pet mentioned for someone",
            "text/plain": [
              "<IPython.core.display.Markdown object>"
            ]
          },
          "metadata": {},
          "output_type": "display_data"
        },
        {
          "data": {
            "text/markdown": "to own (if pets are distributed from the set {Cat, Dog}) is a dog.\n    *   Therefore, **Alice owns a dog.** (This means two people, Alice and Carol, own dogs, which is acceptable as",
            "text/plain": [
              "<IPython.core.display.Markdown object>"
            ]
          },
          "metadata": {},
          "output_type": "display_data"
        },
        {
          "data": {
            "text/markdown": "the puzzle doesn't state pets must be unique).\n\n6.  Let's summarize the people and their pets:\n    *   **Alice: Dog**\n    *   **Bob: Cat**\n    *   **Carol:",
            "text/plain": [
              "<IPython.core.display.Markdown object>"
            ]
          },
          "metadata": {},
          "output_type": "display_data"
        },
        {
          "data": {
            "text/markdown": "Dog**\n\n7.  Now let's sort out the houses:\n    *   We know **Bob lives in the Red House.**\n\n8.  **Bob does not live in the green house.** (Clue 3) - This is",
            "text/plain": [
              "<IPython.core.display.Markdown object>"
            ]
          },
          "metadata": {},
          "output_type": "display_data"
        },
        {
          "data": {
            "text/markdown": "consistent with Bob living in the red house.\n\n9.  The houses are Red, Green, and Blue. Since Bob is in Red, Alice and Carol must live in the Green and Blue houses.\n\n10. **The green",
            "text/plain": [
              "<IPython.core.display.Markdown object>"
            ]
          },
          "metadata": {},
          "output_type": "display_data"
        },
        {
          "data": {
            "text/markdown": "house is to the left of the red house.** (Clue 5)\n    *   This establishes a relative order for Green and Red.\n    *   Possible street layouts:\n        *   Green - Red - Blue",
            "text/plain": [
              "<IPython.core.display.Markdown object>"
            ]
          },
          "metadata": {},
          "output_type": "display_data"
        },
        {
          "data": {
            "text/markdown": "*   Blue - Green - Red\n\n    *   In both scenarios, the Green house is occupied by either Alice or Carol, and the Blue house is occupied by the other.\n\nAt this point, we have definitively placed Bob in the Red house",
            "text/plain": [
              "<IPython.core.display.Markdown object>"
            ]
          },
          "metadata": {},
          "output_type": "display_data"
        },
        {
          "data": {
            "text/markdown": "with a cat, and determined that both Alice and Carol own dogs. However, there is no further information to uniquely determine whether Alice lives in the Green house and Carol in the Blue, or vice-versa. Both possibilities satisfy all the given clues.",
            "text/plain": [
              "<IPython.core.display.Markdown object>"
            ]
          },
          "metadata": {},
          "output_type": "display_data"
        },
        {
          "data": {
            "text/markdown": "**Solution:**\n\n*   **Bob lives in the Red house and owns a Cat.**\n\n*   **Alice owns a Dog.**\n*   **Carol owns a Dog.**\n\n*   Regarding the Green and Blue houses, there are two possibilities that",
            "text/plain": [
              "<IPython.core.display.Markdown object>"
            ]
          },
          "metadata": {},
          "output_type": "display_data"
        },
        {
          "data": {
            "text/markdown": "satisfy all clues:\n    *   **Possibility 1:**\n        *   **Alice lives in the Green house.**\n        *   **Carol lives in the Blue house.**\n    *   **Possibility 2:**",
            "text/plain": [
              "<IPython.core.display.Markdown object>"
            ]
          },
          "metadata": {},
          "output_type": "display_data"
        },
        {
          "data": {
            "text/markdown": "*   **Carol lives in the Green house.**\n        *   **Alice lives in the Blue house.**\n\nBoth possibilities accommodate \"The green house is to the left of the red house\" (either G-R-B or B-G-R",
            "text/plain": [
              "<IPython.core.display.Markdown object>"
            ]
          },
          "metadata": {},
          "output_type": "display_data"
        },
        {
          "data": {
            "text/markdown": ") and the other constraints.",
            "text/plain": [
              "<IPython.core.display.Markdown object>"
            ]
          },
          "metadata": {},
          "output_type": "display_data"
        }
      ],
      "source": [
        "prompt = \"\"\"\n",
        "  Alice, Bob, and Carol each live in a different house on the same street: red, green, and blue.\n",
        "  The person who lives in the red house owns a cat.\n",
        "  Bob does not live in the green house.\n",
        "  Carol owns a dog.\n",
        "  The green house is to the left of the red house.\n",
        "  Alice does not own a cat.\n",
        "  Who lives in each house, and what pet do they own?\n",
        "\"\"\"\n",
        "\n",
        "thoughts = \"\"\n",
        "answer = \"\"\n",
        "\n",
        "for chunk in client.models.generate_content_stream(\n",
        "    model=MODEL_ID,\n",
        "    contents=prompt,\n",
        "    config=types.GenerateContentConfig(\n",
        "      thinking_config=types.ThinkingConfig(\n",
        "        include_thoughts=True\n",
        "      )\n",
        "    )\n",
        "):\n",
        "  for part in chunk.candidates[0].content.parts:\n",
        "    if not part.text:\n",
        "      continue\n",
        "    elif part.thought:\n",
        "      if not thoughts:\n",
        "        display(Markdown(\"## **Thoughts summary:**\"))\n",
        "      display(Markdown(part.text.strip()))\n",
        "      thoughts += part.text\n",
        "    else:\n",
        "      if not answer:\n",
        "        display(Markdown(\"## **Answer:**\"))\n",
        "      display(Markdown(part.text.strip()))\n",
        "      answer += part.text"
      ]
    },
    {
      "cell_type": "markdown",
      "metadata": {
        "id": "mH0Fq3AA_A0y"
      },
      "source": [
        "## Working with Gemini thinking models and tools\n",
        "\n",
        "Gemini thinking models are compatible with the tools and capabilities inherent to the Gemini ecosystem. This compatibility allows them to interface with external environments, execute computational code, or retrieve real-time data, subsequently incorporating such information into their analytical framework and concluding statements."
      ]
    },
    {
      "cell_type": "markdown",
      "metadata": {
        "id": "027fe5edcb8e"
      },
      "source": [
        "### Solving a problem using the code execution tool\n",
        "\n",
        "This example shows how to use the [code execution](./Code_execution.ipynb) tool to solve a problem. The model will generate the code and then execute it to get the final answer.\n",
        "\n",
        "In this case, you are using the adaptive thinking_budget so the model will dynamically adjust the budget based on the complexity of the request.\n",
        "\n",
        "If you want to experiment with a fixed budget, you can set the `thinking_budget` to a specific value (e.g. `thinking_budget=4096`)."
      ]
    },
    {
      "cell_type": "code",
      "execution_count": 23,
      "metadata": {
        "id": "gpFo0Q1Q_10o"
      },
      "outputs": [],
      "source": [
        "prompt = \"\"\"\n",
        "    What are the best ways to sort a list of n numbers from 0 to m?\n",
        "    Generate and run Python code for three different sort algorithms.\n",
        "    Provide the final comparison between algorithm clearly.\n",
        "    Is one of them linear?\n",
        "\"\"\"\n",
        "\n",
        "thinking_budget = 4096 # @param {type:\"slider\", min:0, max:24576, step:1}\n",
        "\n",
        "code_execution_tool = types.Tool(\n",
        "    code_execution=types.ToolCodeExecution()\n",
        ")\n",
        "\n",
        "response = client.models.generate_content(\n",
        "    model=MODEL_ID,\n",
        "    contents=prompt,\n",
        "    config=types.GenerateContentConfig(\n",
        "        tools=[code_execution_tool],\n",
        "        thinking_config=types.ThinkingConfig(\n",
        "            thinking_budget=thinking_budget,\n",
        "        )\n",
        "    ),\n",
        ")"
      ]
    },
    {
      "cell_type": "markdown",
      "metadata": {
        "id": "VjXgY2wg_-g9"
      },
      "source": [
        "Checking the model response, including the code generated and the execution result:"
      ]
    },
    {
      "cell_type": "code",
      "execution_count": 24,
      "metadata": {
        "id": "KelkCAIdkzTW"
      },
      "outputs": [
        {
          "data": {
            "text/markdown": "When sorting a list of `n` numbers ranging from `0` to `m`, the \"best\" approach largely depends on the relationship between `n` and `m`.\n\nFor this specific scenario, algorithms that leverage the known range of values (non-comparison sorts) can be significantly more efficient than general-purpose comparison-based sorts.\n\n### Best Ways to Sort `n` Numbers from `0` to `m`\n\n1.  **Counting Sort:**\n    *   **How it works:** It works by counting the occurrences of each unique element in the input list. Then, it uses these counts to determine the positions of each element in the sorted output list. Since the numbers are integers within a limited range (`0` to `m`), we can create a frequency array (or count array) of size `m+1`.\n    *   **Why it's good here:** Its time complexity is O(n + m). If `m` is comparable to `n` (or smaller), this approaches linear time, which is the theoretical best for sorting. It's not a comparison sort, meaning it doesn't compare elements to each other to sort them.\n\n2.  **Radix Sort:**\n    *   **How it works:** It sorts numbers by processing individual digits. It repeatedly applies a stable sort (like Counting Sort) to each digit, starting from the least significant digit to the most significant digit.\n    *   **Why it's good here:** While Counting Sort is typically preferred when `m` is small relative to `n`, Radix Sort can be more efficient if `m` is very large (e.g., numbers up to 10^9), effectively breaking down the large range into smaller \"digit\" ranges. Its complexity is O(d * (n + b)), where `d` is the number of digits and `b` is the base used for representing numbers (e.g., 10 for decimal, 2 for binary).\n\nFor the purpose of demonstration and clarity, I will implement **Counting Sort** (as the specialized linear-time algorithm) and two general-purpose comparison sorts: **Merge Sort** (an efficient O(n log n) algorithm) and **Bubble Sort** (a simple, but inefficient O(n^2) algorithm) to clearly show the performance differences.\n\n***\n\n### Python Code for Three Different Sort Algorithms\n\nI will generate a list of `n=100,000` numbers, where each number is between `0` and `m=10,000`. This setup should highlight the performance advantages of Counting Sort.\n\n",
            "text/plain": [
              "<IPython.core.display.Markdown object>"
            ]
          },
          "metadata": {},
          "output_type": "display_data"
        },
        {
          "data": {
            "text/html": [
              "<pre style=\"background-color: green;\">import random\n",
              "import time\n",
              "import sys\n",
              "\n",
              "# Increase recursion limit for Merge Sort, just in case (though not strictly necessary for 100k elements)\n",
              "sys.setrecursionlimit(2000)\n",
              "\n",
              "def bubble_sort(arr):\n",
              "    n = len(arr)\n",
              "    for i in range(n):\n",
              "        # Last i elements are already in place\n",
              "        for j in range(0, n - i - 1):\n",
              "            # Traverse the array from 0 to n-i-1\n",
              "            # Swap if the element found is greater than the next element\n",
              "            if arr[j] > arr[j + 1]:\n",
              "                arr[j], arr[j + 1] = arr[j + 1], arr[j]\n",
              "    return arr\n",
              "\n",
              "def merge_sort(arr):\n",
              "    if len(arr) <= 1:\n",
              "        return arr\n",
              "\n",
              "    mid = len(arr) // 2\n",
              "    left_half = arr[:mid]\n",
              "    right_half = arr[mid:]\n",
              "\n",
              "    left_half = merge_sort(left_half)\n",
              "    right_half = merge_sort(right_half)\n",
              "\n",
              "    return merge(left_half, right_half)\n",
              "\n",
              "def merge(left, right):\n",
              "    merged_list = []\n",
              "    left_idx, right_idx = 0, 0\n",
              "\n",
              "    while left_idx < len(left) and right_idx < len(right):\n",
              "        if left[left_idx] <= right[right_idx]:\n",
              "            merged_list.append(left[left_idx])\n",
              "            left_idx += 1\n",
              "        else:\n",
              "            merged_list.append(right[right_idx])\n",
              "            right_idx += 1\n",
              "\n",
              "    # Add remaining elements (if any)\n",
              "    merged_list.extend(left[left_idx:])\n",
              "    merged_list.extend(right[right_idx:])\n",
              "    return merged_list\n",
              "\n",
              "def counting_sort(arr, max_val):\n",
              "    # Create a count array to store count of individual elements\n",
              "    # Initialize all counts to 0\n",
              "    count = [0] * (max_val + 1)\n",
              "\n",
              "    # Store count of each element\n",
              "    for num in arr:\n",
              "        count[num] += 1\n",
              "\n",
              "    # Change count[i] so that count[i] now contains actual position of this element in output array\n",
              "    # (Optional: This step is for stable counting sort to place elements in correct order)\n",
              "    # For a simple in-place sort, we can just iterate the count array.\n",
              "    \n",
              "    # Rebuild the sorted array\n",
              "    sorted_arr = []\n",
              "    for i in range(max_val + 1):\n",
              "        for _ in range(count[i]):\n",
              "            sorted_arr.append(i)\n",
              "    return sorted_arr\n",
              "\n",
              "# Test parameters\n",
              "n_elements = 100000\n",
              "max_value = 10000 # m\n",
              "\n",
              "# Generate a list of random numbers\n",
              "original_list = [random.randint(0, max_value) for _ in range(n_elements)]\n",
              "\n",
              "print(f\"Sorting {n_elements} numbers (0 to {max_value})...\\n\")\n",
              "\n",
              "# Test Bubble Sort\n",
              "list_for_bubble = list(original_list) # Make a copy\n",
              "start_time = time.time()\n",
              "# bubble_sort(list_for_bubble) # This will be too slow for 100,000 elements.\n",
              "# To demonstrate, let's run it on a smaller subset if it's too slow.\n",
              "# For n=100,000, bubble sort will take too long. I'll reduce n for bubble sort demonstration.\n",
              "n_bubble_test = 5000\n",
              "list_for_bubble_small = [random.randint(0, max_value) for _ in range(n_bubble_test)]\n",
              "start_time_bubble_small = time.time()\n",
              "bubble_sort(list_for_bubble_small)\n",
              "end_time_bubble_small = time.time()\n",
              "print(f\"Bubble Sort (for {n_bubble_test} elements): {end_time_bubble_small - start_time_bubble_small:.4f} seconds\")\n",
              "print(\"(Skipping 100,000 elements for Bubble Sort due to extreme slowness)\\n\")\n",
              "\n",
              "\n",
              "# Test Merge Sort\n",
              "list_for_merge = list(original_list)\n",
              "start_time = time.time()\n",
              "sorted_list_merge = merge_sort(list_for_merge)\n",
              "end_time = time.time()\n",
              "print(f\"Merge Sort: {end_time - start_time:.4f} seconds\")\n",
              "\n",
              "\n",
              "# Test Counting Sort\n",
              "list_for_counting = list(original_list)\n",
              "start_time = time.time()\n",
              "sorted_list_counting = counting_sort(list_for_counting, max_value)\n",
              "end_time = time.time()\n",
              "print(f\"Counting Sort: {end_time - start_time:.4f} seconds\")\n",
              "\n",
              "# Optional: Verify correctness for small lists\n",
              "# test_arr = [4, 2, 2, 8, 3, 3, 1]\n",
              "# print(f\"\\nTest array: {test_arr}\")\n",
              "# print(f\"Bubble sorted: {bubble_sort(list(test_arr))}\")\n",
              "# print(f\"Merge sorted: {merge_sort(list(test_arr))}\")\n",
              "# print(f\"Counting sorted: {counting_sort(list(test_arr), max(test_arr))}\")\n",
              "</pre>"
            ],
            "text/plain": [
              "<IPython.core.display.HTML object>"
            ]
          },
          "metadata": {},
          "output_type": "display_data"
        },
        {
          "data": {
            "text/markdown": "Sorting 100000 numbers (0 to 10000)...\n\nBubble Sort (for 5000 elements): 2.6632 seconds\n(Skipping 100,000 elements for Bubble Sort due to extreme slowness)\n\nMerge Sort: 0.5684 seconds\nCounting Sort: 0.0147 seconds\n",
            "text/plain": [
              "<IPython.core.display.Markdown object>"
            ]
          },
          "metadata": {},
          "output_type": "display_data"
        },
        {
          "data": {
            "text/markdown": "### Final Comparison Between Algorithms\n\nLet's compare the three algorithms based on their characteristics:\n\n| Feature           | Bubble Sort                                 | Merge Sort                                  | Counting Sort                                     |\n| :---------------- | :------------------------------------------ | :------------------------------------------ | :------------------------------------------------ |\n| **Time Complexity** | O(n^2) (Worst & Average) O(n) (Best, already sorted) | O(n log n) (Worst, Average, Best)           | O(n + m) (Worst, Average, Best)                   |\n| **Space Complexity**| O(1) (In-place)                             | O(n) (For auxiliary arrays in merge operations) | O(m) (For count array and output array)           |\n| **Stability**     | Yes                                         | Yes                                         | Yes (if implemented correctly to preserve order)  |\n| **Suitability**   | Inefficient for large datasets; useful for small, nearly sorted lists, or educational purposes. | Excellent general-purpose sort; good for large datasets. | Excellent for sorting integers within a limited range; ideal for \"0 to m\" problem. |\n| **Practical Speed (100,000 elements, m=10,000)** | ~2.66 seconds for 5,000 elements (extrapolates to very long for 100k) | ~0.57 seconds                               | ~0.015 seconds                                    |\n\n**Analysis of Results:**\n\nThe results clearly demonstrate the theoretical complexities:\n\n*   **Bubble Sort** is extremely slow for even moderately sized lists (5,000 elements took over 2.6 seconds). For 100,000 elements, it would take hours, if not days, to complete. Its quadratic time complexity makes it impractical for large inputs.\n*   **Merge Sort** performed much better, sorting 100,000 elements in under a second. Its O(n log n) complexity makes it a robust choice for general sorting tasks.\n*   **Counting Sort** was by far the fastest, completing the sort in milliseconds. Its O(n + m) complexity shines when `m` (the range of values) is not significantly larger than `n` (the number of elements). In our case, `n=100,000` and `m=10,000`, so `n+m = 110,000`, which is a very efficient operation.\n\n### Is one of them linear?\n\n**Yes, Counting Sort is considered a linear-time sorting algorithm.**\n\nIts time complexity is O(n + m), where:\n*   `n` is the number of elements in the input list.\n*   `m` is the range of the input numbers (i.e., `max_value - min_value + 1`). In our case, `m` is `max_value` since `min_value` is `0`.\n\nIf `m` is proportional to `n` (i.e., `m = O(n)`), or `m` is a constant, then the complexity simplifies to O(n), which is linear. Even if `m` is somewhat larger than `n` but still within a reasonable bound, it remains highly efficient and is often colloquially referred to as \"linear time\" because it does not involve comparisons and logarithmic factors that characterize algorithms like Merge Sort or Quick Sort.",
            "text/plain": [
              "<IPython.core.display.Markdown object>"
            ]
          },
          "metadata": {},
          "output_type": "display_data"
        },
        {
          "data": {
            "text/markdown": "---",
            "text/plain": [
              "<IPython.core.display.Markdown object>"
            ]
          },
          "metadata": {},
          "output_type": "display_data"
        }
      ],
      "source": [
        "from IPython.display import HTML, Markdown\n",
        "\n",
        "for part in response.candidates[0].content.parts:\n",
        "  if part.text is not None:\n",
        "    display(Markdown(part.text))\n",
        "  if part.executable_code is not None:\n",
        "    code_html = f'<pre style=\"background-color: green;\">{part.executable_code.code}</pre>' # Change code color\n",
        "    display(HTML(code_html))\n",
        "  if part.code_execution_result is not None:\n",
        "    display(Markdown(part.code_execution_result.output))\n",
        "display(Markdown(\"---\"))"
      ]
    },
    {
      "cell_type": "markdown",
      "metadata": {
        "id": "IhvYU0aVvhmM"
      },
      "source": [
        "### Thinking with search tool\n",
        "\n",
        "Search grounding is a great way to improve the quality of the model responses by giving it the ability to search for the latest information using Google Search. Check the [dedicated guide](./Search_Grounding.ipynb) for more details on that feature.\n",
        "\n",
        "In this case, you are using the adaptive thinking_budget so the model will dynamically adjust the budget based on the complexity of the request.\n",
        "\n",
        "If you want to experiment with a fixed budget, you can set the `thinking_budget` to a specific value (e.g. `thinking_budget=4096`)."
      ]
    },
    {
      "cell_type": "code",
      "execution_count": 25,
      "metadata": {
        "id": "qFp3r_dpv5di"
      },
      "outputs": [],
      "source": [
        "from google.genai.types import Tool, GenerateContentConfig, GoogleSearch\n",
        "\n",
        "google_search_tool = Tool(google_search=GoogleSearch())\n",
        "\n",
        "prompt = \"\"\"\n",
        "    What were the major scientific breakthroughs announced last month? Use your\n",
        "    critical thinking and only list what's really incredible and not just an\n",
        "    overinfluated title.\n",
        "\"\"\"\n",
        "\n",
        "thinking_budget = 4096 # @param {type:\"slider\", min:0, max:24576, step:1}\n",
        "\n",
        "response = client.models.generate_content(\n",
        "    model=MODEL_ID,\n",
        "    contents=prompt,\n",
        "    config=GenerateContentConfig(\n",
        "        tools=[google_search_tool],\n",
        "        thinking_config=types.ThinkingConfig(\n",
        "            thinking_budget=thinking_budget,\n",
        "            include_thoughts=True\n",
        "        )\n",
        "    )\n",
        ")"
      ]
    },
    {
      "cell_type": "markdown",
      "metadata": {
        "id": "88eLYC-QBHcn"
      },
      "source": [
        "Then you can check all information:\n",
        "- the model thoughts summary\n",
        "- the model answer\n",
        "- and the Google Search reference"
      ]
    },
    {
      "cell_type": "code",
      "execution_count": 26,
      "metadata": {
        "id": "1kEjC0VPmGob"
      },
      "outputs": [
        {
          "data": {
            "text/markdown": "## **Thoughts summary:**",
            "text/plain": [
              "<IPython.core.display.Markdown object>"
            ]
          },
          "metadata": {},
          "output_type": "display_data"
        },
        {
          "data": {
            "text/markdown": "**Define \"Last Month\"**\n\nI've clarified \"last month\" as May 2025. Now, I'm setting up Google searches using various phrases related to major scientific breakthroughs, discoveries, and news from that month. I'm aiming to filter out less significant advancements and focus on truly groundbreaking discoveries for a concise list.\n\n\n",
            "text/plain": [
              "<IPython.core.display.Markdown object>"
            ]
          },
          "metadata": {},
          "output_type": "display_data"
        },
        {
          "name": "stdout",
          "output_type": "stream",
          "text": [
            "\n"
          ]
        },
        {
          "data": {
            "text/markdown": "## **Answer:**",
            "text/plain": [
              "<IPython.core.display.Markdown object>"
            ]
          },
          "metadata": {},
          "output_type": "display_data"
        },
        {
          "data": {
            "text/markdown": "The \"last month\" refers to May 2025, as the current date is June 9, 2025.\n\nBased on the critical evaluation of the search results for May 2025, here are the major scientific breakthroughs that can be considered truly incredible and not merely incremental advancements:\n\n*   **Most Distant Galaxy Ever Detected (MoM-z14)**: The James Webb Space Telescope confirmed MoM-z14 as the most distant galaxy ever detected, with a redshift of 14.44, placing its formation within 280 million years of the Big Bang. This provides unprecedented insights into the early universe. Another related search result also mentions JWST finding a galaxy whose light \"should not be visible to us\" and breaking distance records with galactic candidates.\n*   **Conversion of Lead into Gold by ALICE Experiment at CERN**: The ALICE experiment at CERN detected the conversion of lead into gold. While not a practical method for gold production, this achievement at a fundamental physics level demonstrates complex nuclear transformations under extreme conditions.\n*   **World Record for Nuclear Fusion Plasma Duration**: The WEST tokamak in France maintained plasma for 1,337 seconds, a new world record duration for nuclear fusion, and 25% longer than a similar effort by China the previous month. This is a significant step forward in the pursuit of sustainable fusion energy.\n*   **Discovery of Genes Linked to Obsessive-Compulsive Disorder (OCD)**: For the first time, genes linked to OCD were discovered through a study involving over 2 million people, identifying 250 genes associated with the condition. This breakthrough could pave the way for a better understanding and treatment of OCD.\n*   **First 2D Mechanically Interlocked Material Demonstrated**: Northwestern University demonstrated the first two-dimensional (2D) mechanically interlocked material, featuring 100 trillion bonds per square centimeter and described as having exceptional flexibility and strength. This novel material has the potential for significant advancements in materials science.\n*   **Discovery of 128 New Moons of Saturn**: Astronomers using the Canada-France-Hawaii Telescope reported the discovery of 128 new moons of Saturn, bringing the gas giant's total number of confirmed satellites to 274. This significantly expands our understanding of the Saturnian system.\n*   **Development of a New Blood Test for Early-Stage Pancreatic Cancer with 85% Accuracy**: Oregon Health & Science University developed a new blood test capable of detecting early-stage pancreatic cancer with 85% accuracy. This holds immense promise for improving early diagnosis and treatment outcomes for a highly aggressive cancer.\n*   **Long-term Success of CAR-T Cancer Therapy**: A child who received CAR-T cancer therapy was still disease-free 18 years later, suggesting the personalized cancer treatment may work for solid tumors, not just blood cancers. This represents a significant long-term success story in cancer treatment.\n*   **Quantum Simulation Creates Light Out of Nothing**: Physicists have managed to simulate a quantum phenomenon where light appears to arise from empty space, a concept that had only existed in theory until now. This achievement in quantum simulation could have profound implications for our understanding of fundamental physics.\n*   **New Drug for HIV Prevention Showing 100% Protection**: A recent trial of a new HIV prevention medicine found that 100% of patients were protected from acquiring HIV infections when they received a dose every six months. This has major implications for global health efforts against HIV and AIDS.\n\nThese breakthroughs represent significant advancements across various scientific disciplines, including astronomy, nuclear physics, genetics, materials science, planetary science, and medicine.",
            "text/plain": [
              "<IPython.core.display.Markdown object>"
            ]
          },
          "metadata": {},
          "output_type": "display_data"
        },
        {
          "data": {
            "text/markdown": "## **Google Search information:**",
            "text/plain": [
              "<IPython.core.display.Markdown object>"
            ]
          },
          "metadata": {},
          "output_type": "display_data"
        },
        {
          "data": {
            "text/html": [
              "<style>\n",
              ".container {\n",
              "  align-items: center;\n",
              "  border-radius: 8px;\n",
              "  display: flex;\n",
              "  font-family: Google Sans, Roboto, sans-serif;\n",
              "  font-size: 14px;\n",
              "  line-height: 20px;\n",
              "  padding: 8px 12px;\n",
              "}\n",
              ".chip {\n",
              "  display: inline-block;\n",
              "  border: solid 1px;\n",
              "  border-radius: 16px;\n",
              "  min-width: 14px;\n",
              "  padding: 5px 16px;\n",
              "  text-align: center;\n",
              "  user-select: none;\n",
              "  margin: 0 8px;\n",
              "  -webkit-tap-highlight-color: transparent;\n",
              "}\n",
              ".carousel {\n",
              "  overflow: auto;\n",
              "  scrollbar-width: none;\n",
              "  white-space: nowrap;\n",
              "  margin-right: -12px;\n",
              "}\n",
              ".headline {\n",
              "  display: flex;\n",
              "  margin-right: 4px;\n",
              "}\n",
              ".gradient-container {\n",
              "  position: relative;\n",
              "}\n",
              ".gradient {\n",
              "  position: absolute;\n",
              "  transform: translate(3px, -9px);\n",
              "  height: 36px;\n",
              "  width: 9px;\n",
              "}\n",
              "@media (prefers-color-scheme: light) {\n",
              "  .container {\n",
              "    background-color: #fafafa;\n",
              "    box-shadow: 0 0 0 1px #0000000f;\n",
              "  }\n",
              "  .headline-label {\n",
              "    color: #1f1f1f;\n",
              "  }\n",
              "  .chip {\n",
              "    background-color: #ffffff;\n",
              "    border-color: #d2d2d2;\n",
              "    color: #5e5e5e;\n",
              "    text-decoration: none;\n",
              "  }\n",
              "  .chip:hover {\n",
              "    background-color: #f2f2f2;\n",
              "  }\n",
              "  .chip:focus {\n",
              "    background-color: #f2f2f2;\n",
              "  }\n",
              "  .chip:active {\n",
              "    background-color: #d8d8d8;\n",
              "    border-color: #b6b6b6;\n",
              "  }\n",
              "  .logo-dark {\n",
              "    display: none;\n",
              "  }\n",
              "  .gradient {\n",
              "    background: linear-gradient(90deg, #fafafa 15%, #fafafa00 100%);\n",
              "  }\n",
              "}\n",
              "@media (prefers-color-scheme: dark) {\n",
              "  .container {\n",
              "    background-color: #1f1f1f;\n",
              "    box-shadow: 0 0 0 1px #ffffff26;\n",
              "  }\n",
              "  .headline-label {\n",
              "    color: #fff;\n",
              "  }\n",
              "  .chip {\n",
              "    background-color: #2c2c2c;\n",
              "    border-color: #3c4043;\n",
              "    color: #fff;\n",
              "    text-decoration: none;\n",
              "  }\n",
              "  .chip:hover {\n",
              "    background-color: #353536;\n",
              "  }\n",
              "  .chip:focus {\n",
              "    background-color: #353536;\n",
              "  }\n",
              "  .chip:active {\n",
              "    background-color: #464849;\n",
              "    border-color: #53575b;\n",
              "  }\n",
              "  .logo-light {\n",
              "    display: none;\n",
              "  }\n",
              "  .gradient {\n",
              "    background: linear-gradient(90deg, #1f1f1f 15%, #1f1f1f00 100%);\n",
              "  }\n",
              "}\n",
              "</style>\n",
              "<div class=\"container\">\n",
              "  <div class=\"headline\">\n",
              "    <svg class=\"logo-light\" width=\"18\" height=\"18\" viewBox=\"9 9 35 35\" fill=\"none\" xmlns=\"http://www.w3.org/2000/svg\">\n",
              "      <path fill-rule=\"evenodd\" clip-rule=\"evenodd\" d=\"M42.8622 27.0064C42.8622 25.7839 42.7525 24.6084 42.5487 23.4799H26.3109V30.1568H35.5897C35.1821 32.3041 33.9596 34.1222 32.1258 35.3448V39.6864H37.7213C40.9814 36.677 42.8622 32.2571 42.8622 27.0064V27.0064Z\" fill=\"#4285F4\"/>\n",
              "      <path fill-rule=\"evenodd\" clip-rule=\"evenodd\" d=\"M26.3109 43.8555C30.9659 43.8555 34.8687 42.3195 37.7213 39.6863L32.1258 35.3447C30.5898 36.3792 28.6306 37.0061 26.3109 37.0061C21.8282 37.0061 18.0195 33.9811 16.6559 29.906H10.9194V34.3573C13.7563 39.9841 19.5712 43.8555 26.3109 43.8555V43.8555Z\" fill=\"#34A853\"/>\n",
              "      <path fill-rule=\"evenodd\" clip-rule=\"evenodd\" d=\"M16.6559 29.8904C16.3111 28.8559 16.1074 27.7588 16.1074 26.6146C16.1074 25.4704 16.3111 24.3733 16.6559 23.3388V18.8875H10.9194C9.74388 21.2072 9.06992 23.8247 9.06992 26.6146C9.06992 29.4045 9.74388 32.022 10.9194 34.3417L15.3864 30.8621L16.6559 29.8904V29.8904Z\" fill=\"#FBBC05\"/>\n",
              "      <path fill-rule=\"evenodd\" clip-rule=\"evenodd\" d=\"M26.3109 16.2386C28.85 16.2386 31.107 17.1164 32.9095 18.8091L37.8466 13.8719C34.853 11.082 30.9659 9.3736 26.3109 9.3736C19.5712 9.3736 13.7563 13.245 10.9194 18.8875L16.6559 23.3388C18.0195 19.2636 21.8282 16.2386 26.3109 16.2386V16.2386Z\" fill=\"#EA4335\"/>\n",
              "    </svg>\n",
              "    <svg class=\"logo-dark\" width=\"18\" height=\"18\" viewBox=\"0 0 48 48\" xmlns=\"http://www.w3.org/2000/svg\">\n",
              "      <circle cx=\"24\" cy=\"23\" fill=\"#FFF\" r=\"22\"/>\n",
              "      <path d=\"M33.76 34.26c2.75-2.56 4.49-6.37 4.49-11.26 0-.89-.08-1.84-.29-3H24.01v5.99h8.03c-.4 2.02-1.5 3.56-3.07 4.56v.75l3.91 2.97h.88z\" fill=\"#4285F4\"/>\n",
              "      <path d=\"M15.58 25.77A8.845 8.845 0 0 0 24 31.86c1.92 0 3.62-.46 4.97-1.31l4.79 3.71C31.14 36.7 27.65 38 24 38c-5.93 0-11.01-3.4-13.45-8.36l.17-1.01 4.06-2.85h.8z\" fill=\"#34A853\"/>\n",
              "      <path d=\"M15.59 20.21a8.864 8.864 0 0 0 0 5.58l-5.03 3.86c-.98-2-1.53-4.25-1.53-6.64 0-2.39.55-4.64 1.53-6.64l1-.22 3.81 2.98.22 1.08z\" fill=\"#FBBC05\"/>\n",
              "      <path d=\"M24 14.14c2.11 0 4.02.75 5.52 1.98l4.36-4.36C31.22 9.43 27.81 8 24 8c-5.93 0-11.01 3.4-13.45 8.36l5.03 3.85A8.86 8.86 0 0 1 24 14.14z\" fill=\"#EA4335\"/>\n",
              "    </svg>\n",
              "    <div class=\"gradient-container\"><div class=\"gradient\"></div></div>\n",
              "  </div>\n",
              "  <div class=\"carousel\">\n",
              "    <a class=\"chip\" href=\"https://vertexaisearch.cloud.google.com/grounding-api-redirect/AbF9wXHAUKHc35SioHrSV9WlZmPMnuiH_k3LfN8ftUgqJ2PWojyg5tHHNRotWHe7Vn-4RXWPBZLq92Uc53-6uHoH_cJ8Ozgm43UcF1xXH5yybVrbUGn8f8rM574doGcBsuQUi_MrduQNvm5BXyIf01pTM7D8xmPRsvGHtwoMhTDzK0cOTkCl9AmuRvTbeFvp_a99VR7u7NbjS8cdVV3y1i67\">top scientific news May 2025</a>\n",
              "    <a class=\"chip\" href=\"https://vertexaisearch.cloud.google.com/grounding-api-redirect/AbF9wXHT4vrLzAKWmg3-RJk_xKNBeXvi7C4uj8WLUJI7aAFsXBqPZlvarGEZ-ehsCffGSbwyZktm2sqNM1dTaF7ST2UKyo-svdePzAedaw0LGOIV1jI26KgwLlq6LgUj95LV97Yydro_t1xa49msylVshwT7Nk0iPMZlv0w1RQ-DtQim1pLK3E2pxsWdvhR04HOFzQY57LKlHj3dxUj9sZa3TrWxIq7dsIkevW0=\">major scientific breakthroughs May 2025</a>\n",
              "    <a class=\"chip\" href=\"https://vertexaisearch.cloud.google.com/grounding-api-redirect/AbF9wXGmtkqn8jYBiN73_zXydVgLcZyEO5-uROUnYmT_8fPZpZKiuENw7D51EqrAlNXphsEErC03ACx1pB8AWl6jWSlH9_v84PPAK-9Oi2qU5kPQtY8ksXTBwVz01q9SFyoRmUc6e0EIWn91hGi8xSmOVp373DGmRcKtSVHGY9M_lc7D3S7fvZHR2nbVJ4e0fS2676aK3KoNlxCHGlDEwnQd6SaN9X7PzPQuAX7vXkOg\">significant scientific discoveries May 2025</a>\n",
              "    <a class=\"chip\" href=\"https://vertexaisearch.cloud.google.com/grounding-api-redirect/AbF9wXHn99TOfYi4sX6FU2x3oD4GYMOWG6kqkjidtDTzq0szsZlmnvJ-lsMaVoreH35QKWCNcNqgl-p_weEJ3TJuG3uAldL_j7QJe0LA4qm5EK6rOVkHpjjym8kM0YcJnCRlxOc_6oOxa3fblbHa4zKKRT2eVeatFcWyFeSM2OgUKo8YOOnJGMa-ouOZtjnnM4wfjUXFfWp1VJ3nuTask59rXwiccOfXZ3GzAVABkWhxl_Bdm4g=\">breakthroughs in science and technology May 2025</a>\n",
              "  </div>\n",
              "</div>\n"
            ],
            "text/plain": [
              "<IPython.core.display.HTML object>"
            ]
          },
          "metadata": {},
          "output_type": "display_data"
        }
      ],
      "source": [
        "for part in response.candidates[0].content.parts:\n",
        "  if not part.text:\n",
        "    continue\n",
        "  elif part.thought:\n",
        "    display(Markdown(\"## **Thoughts summary:**\"))\n",
        "    display(Markdown(part.text))\n",
        "    print()\n",
        "  else:\n",
        "    display(Markdown(\"## **Answer:**\"))\n",
        "    display(Markdown(part.text))\n",
        "\n",
        "display(Markdown(\"## **Google Search information:**\"))\n",
        "display(HTML(response.candidates[0].grounding_metadata.search_entry_point.rendered_content))"
      ]
    },
    {
      "cell_type": "markdown",
      "metadata": {
        "id": "lND4jB6MrsSk"
      },
      "source": [
        "# Next Steps\n",
        "\n",
        "Try Gemini 2.5 Pro Experimental in\n",
        "[Google AI Studio](https://aistudio.google.com/prompts/new_chat?model=gemini-2.5-pro-exp-03-25), and learn more about [Prompting for thinking models](https://ai.google.dev/gemini-api/docs/prompting-with-thinking).\n",
        "\n",
        "For more examples of the Gemini capabilities, check the other [Cookbook examples](https://github.com/google-gemini/cookbook). You'll learn how to use the [Live API](./Get_started.ipynb), juggle with [multiple tools](../examples/LiveAPI_plotting_and_mapping.ipynb) or use Gemini [spatial understanding](./Spatial_understanding.ipynb) abilities."
      ]
    }
  ],
  "metadata": {
    "colab": {
      "name": "Get_started_thinking.ipynb",
      "toc_visible": true
    },
    "kernelspec": {
      "display_name": "Python 3",
      "name": "python3"
    }
  },
  "nbformat": 4,
  "nbformat_minor": 0
}
