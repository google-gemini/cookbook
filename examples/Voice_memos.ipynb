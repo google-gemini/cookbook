{
  "cells": [
    {
      "cell_type": "markdown",
      "metadata": {
        "id": "Tce3stUlHN0L"
      },
      "source": [
        "##### Copyright 2025 Google LLC."
      ]
    },
    {
      "cell_type": "code",
      "execution_count": 1,
      "metadata": {
        "cellView": "form",
        "id": "tuOe1ymfHZPu"
      },
      "outputs": [],
      "source": [
        "# @title Licensed under the Apache License, Version 2.0 (the \"License\");\n",
        "# you may not use this file except in compliance with the License.\n",
        "# You may obtain a copy of the License at\n",
        "#\n",
        "# https://www.apache.org/licenses/LICENSE-2.0\n",
        "#\n",
        "# Unless required by applicable law or agreed to in writing, software\n",
        "# distributed under the License is distributed on an \"AS IS\" BASIS,\n",
        "# WITHOUT WARRANTIES OR CONDITIONS OF ANY KIND, either express or implied.\n",
        "# See the License for the specific language governing permissions and\n",
        "# limitations under the License."
      ]
    },
    {
      "cell_type": "markdown",
      "metadata": {
        "id": "084u8u0DpBlo"
      },
      "source": [
        "# Voice memos"
      ]
    },
    {
      "cell_type": "markdown",
      "metadata": {
        "id": "wnQ_LVlzIeXo"
      },
      "source": [
        "<a target=\"_blank\" href=\"https://colab.research.google.com/github/google-gemini/cookbook/blob/main/examples/Voice_memos.ipynb\"><img src=\"https://colab.research.google.com/assets/colab-badge.svg\" height=30/></a>"
      ]
    },
    {
      "cell_type": "markdown",
      "metadata": {
        "id": "q7QvXQMrIhuZ"
      },
      "source": [
        "This notebook provides a quick example of how to work with audio and text files in the same prompt. You'll use the Gemini API to help you generate ideas for your next blog post, based on voice memos you recorded on your phone, and previous articles you've written."
      ]
    },
    {
      "cell_type": "code",
      "execution_count": 2,
      "metadata": {
        "id": "qLuL9m7KhvxR"
      },
      "outputs": [
        {
          "name": "stdout",
          "output_type": "stream",
          "text": [
            "\u001b[2K     \u001b[90m━━━━━━━━━━━━━━━━━━━━━━━━━━━━━━━━━━━━━━━━\u001b[0m \u001b[32m46.2/46.2 kB\u001b[0m \u001b[31m1.7 MB/s\u001b[0m eta \u001b[36m0:00:00\u001b[0m\n",
            "\u001b[2K   \u001b[90m━━━━━━━━━━━━━━━━━━━━━━━━━━━━━━━━━━━━━━━━\u001b[0m \u001b[32m239.4/239.4 kB\u001b[0m \u001b[31m8.8 MB/s\u001b[0m eta \u001b[36m0:00:00\u001b[0m\n",
            "\u001b[?25h"
          ]
        }
      ],
      "source": [
        "%pip install -U -q \"google-genai>=1.0.0\""
      ]
    },
    {
      "cell_type": "code",
      "execution_count": 3,
      "metadata": {
        "id": "ATIbQM0NHhkj"
      },
      "outputs": [],
      "source": [
        "from google import genai\n",
        "from google.genai import types"
      ]
    },
    {
      "cell_type": "markdown",
      "metadata": {
        "id": "l8g4hTRotheH"
      },
      "source": [
        "### Setup your API key\n",
        "\n",
        "To run the following cell, your API key must be stored it in a Colab Secret named `GOOGLE_API_KEY`. If you don't already have an API key, or you're not sure how to create a Colab Secret, see [Authentication](https://github.com/google-gemini/cookbook/blob/main/quickstarts/Authentication.ipynb) for an example."
      ]
    },
    {
      "cell_type": "code",
      "execution_count": 4,
      "metadata": {
        "id": "d6lYXRcjthKV"
      },
      "outputs": [],
      "source": [
        "from google.colab import userdata\n",
        "GOOGLE_API_KEY=userdata.get('GOOGLE_API_KEY')\n",
        "client = genai.Client(api_key=GOOGLE_API_KEY)"
      ]
    },
    {
      "cell_type": "markdown",
      "metadata": {
        "id": "Mim5jZB6E1ag"
      },
      "source": [
        "Install PDF processing tools."
      ]
    },
    {
      "cell_type": "code",
      "execution_count": 5,
      "metadata": {
        "id": "4YjBq1mCE2cX"
      },
      "outputs": [
        {
          "name": "stdout",
          "output_type": "stream",
          "text": [
            "Reading package lists... Done\n",
            "Building dependency tree... Done\n",
            "Reading state information... Done\n",
            "The following NEW packages will be installed:\n",
            "  poppler-utils\n",
            "0 upgraded, 1 newly installed, 0 to remove and 38 not upgraded.\n",
            "Need to get 186 kB of archives.\n",
            "After this operation, 697 kB of additional disk space will be used.\n",
            "Get:1 http://archive.ubuntu.com/ubuntu jammy-updates/main amd64 poppler-utils amd64 22.02.0-2ubuntu0.11 [186 kB]\n",
            "Fetched 186 kB in 1s (253 kB/s)\n",
            "Selecting previously unselected package poppler-utils.\n",
            "(Reading database ... 126718 files and directories currently installed.)\n",
            "Preparing to unpack .../poppler-utils_22.02.0-2ubuntu0.11_amd64.deb ...\n",
            "Unpacking poppler-utils (22.02.0-2ubuntu0.11) ...\n",
            "Setting up poppler-utils (22.02.0-2ubuntu0.11) ...\n",
            "Processing triggers for man-db (2.10.2-1) ...\n"
          ]
        }
      ],
      "source": [
        "!apt install poppler-utils"
      ]
    },
    {
      "cell_type": "markdown",
      "metadata": {
        "id": "MNvhBdoDFnTC"
      },
      "source": [
        "## Upload your audio and text files\n"
      ]
    },
    {
      "cell_type": "code",
      "execution_count": 6,
      "metadata": {
        "id": "V4XeFdX1rxaE"
      },
      "outputs": [
        {
          "name": "stdout",
          "output_type": "stream",
          "text": [
            "--2025-10-27 13:45:05--  https://storage.googleapis.com/generativeai-downloads/data/Walking_thoughts_3.m4a\n",
            "Resolving storage.googleapis.com (storage.googleapis.com)... 173.194.206.207, 192.178.129.207, 142.250.152.207, ...\n",
            "Connecting to storage.googleapis.com (storage.googleapis.com)|173.194.206.207|:443... connected.\n",
            "HTTP request sent, awaiting response... 200 OK\n",
            "Length: 2060207 (2.0M) [audio/x-m4a]\n",
            "Saving to: ‘Walking_thoughts_3.m4a’\n",
            "\n",
            "\rWalking_thoughts_3.   0%[                    ]       0  --.-KB/s               \rWalking_thoughts_3. 100%[===================>]   1.96M  --.-KB/s    in 0.01s   \n",
            "\n",
            "2025-10-27 13:45:05 (179 MB/s) - ‘Walking_thoughts_3.m4a’ saved [2060207/2060207]\n",
            "\n",
            "--2025-10-27 13:45:05--  https://storage.googleapis.com/generativeai-downloads/data/A_Possible_Future_for_Online_Content.pdf\n",
            "Resolving storage.googleapis.com (storage.googleapis.com)... 173.194.206.207, 192.178.129.207, 142.250.152.207, ...\n",
            "Connecting to storage.googleapis.com (storage.googleapis.com)|173.194.206.207|:443... connected.\n",
            "HTTP request sent, awaiting response... 200 OK\n",
            "Length: 2798700 (2.7M) [application/pdf]\n",
            "Saving to: ‘A_Possible_Future_for_Online_Content.pdf’\n",
            "\n",
            "A_Possible_Future_f 100%[===================>]   2.67M  --.-KB/s    in 0.02s   \n",
            "\n",
            "2025-10-27 13:45:05 (178 MB/s) - ‘A_Possible_Future_for_Online_Content.pdf’ saved [2798700/2798700]\n",
            "\n",
            "--2025-10-27 13:45:05--  https://storage.googleapis.com/generativeai-downloads/data/Unanswered_Questions_and_Endless_Possibilities.pdf\n",
            "Resolving storage.googleapis.com (storage.googleapis.com)... 173.194.206.207, 192.178.129.207, 142.250.152.207, ...\n",
            "Connecting to storage.googleapis.com (storage.googleapis.com)|173.194.206.207|:443... connected.\n",
            "HTTP request sent, awaiting response... 200 OK\n",
            "Length: 4016102 (3.8M) [application/pdf]\n",
            "Saving to: ‘Unanswered_Questions_and_Endless_Possibilities.pdf’\n",
            "\n",
            "Unanswered_Question 100%[===================>]   3.83M  --.-KB/s    in 0.02s   \n",
            "\n",
            "2025-10-27 13:45:05 (238 MB/s) - ‘Unanswered_Questions_and_Endless_Possibilities.pdf’ saved [4016102/4016102]\n",
            "\n"
          ]
        }
      ],
      "source": [
        "!wget https://storage.googleapis.com/generativeai-downloads/data/Walking_thoughts_3.m4a\n",
        "!wget https://storage.googleapis.com/generativeai-downloads/data/A_Possible_Future_for_Online_Content.pdf\n",
        "!wget https://storage.googleapis.com/generativeai-downloads/data/Unanswered_Questions_and_Endless_Possibilities.pdf"
      ]
    },
    {
      "cell_type": "code",
      "execution_count": 7,
      "metadata": {
        "id": "_HzrDdp2Q1Cu"
      },
      "outputs": [],
      "source": [
        "audio_file_name = \"Walking_thoughts_3.m4a\"\n",
        "audio_file = client.files.upload(file=audio_file_name)"
      ]
    },
    {
      "cell_type": "markdown",
      "metadata": {
        "id": "MpAU9V3YEvXh"
      },
      "source": [
        "## Extract text from the PDFs"
      ]
    },
    {
      "cell_type": "code",
      "execution_count": 8,
      "metadata": {
        "id": "NttNb-M_ExlK"
      },
      "outputs": [],
      "source": [
        "!pdftotext A_Possible_Future_for_Online_Content.pdf\n",
        "!pdftotext Unanswered_Questions_and_Endless_Possibilities.pdf"
      ]
    },
    {
      "cell_type": "code",
      "execution_count": 9,
      "metadata": {
        "id": "LYA-OlD6Gw3v"
      },
      "outputs": [],
      "source": [
        "blog_file_name = \"A_Possible_Future_for_Online_Content.txt\"\n",
        "blog_file = client.files.upload(file=blog_file_name)"
      ]
    },
    {
      "cell_type": "code",
      "execution_count": 10,
      "metadata": {
        "id": "9Sf63anDG317"
      },
      "outputs": [],
      "source": [
        "blog_file_name2 = \"Unanswered_Questions_and_Endless_Possibilities.txt\"\n",
        "blog_file2 = client.files.upload(file=blog_file_name2)"
      ]
    },
    {
      "cell_type": "markdown",
      "metadata": {
        "id": "EPPOECHzsIGJ"
      },
      "source": [
        "## System instructions\n",
        "\n",
        "Write a detailed system instruction to configure the model."
      ]
    },
    {
      "cell_type": "code",
      "execution_count": 11,
      "metadata": {
        "id": "y5zh5WzwGiR5"
      },
      "outputs": [],
      "source": [
        "si=\"\"\"Objective: Transform raw thoughts and ideas into polished, engaging blog posts that capture a writers unique style and voice.\n",
        "Input:\n",
        "Example Blog Posts (1-5): A user will provide examples of blog posts that resonate with their desired style and tone. These will guide you in understanding the preferences for word choice, sentence structure, and overall voice.\n",
        "Audio Clips: A user will share a selection of brainstorming thoughts and key points through audio recordings. They will talk freely and openly, as if they were explaining their ideas to a friend.\n",
        "Output:\n",
        "Blog Post Draft: A well-structured first draft of the blog post, suitable for platforms like Substack or LinkedIn.\n",
        "The draft will include:\n",
        "Clear and engaging writing: you will strive to make the writing clear, concise, and interesting for the target audience.\n",
        "Tone and style alignment: The language and style will closely match the examples provided, ensuring consistency with the desired voice.\n",
        "Logical flow and structure: The draft will be organized with clear sections based on the content of the post.\n",
        "Target word count: Aim for 500-800 words, but this can be adjusted based on user preferences.\n",
        "Process:\n",
        "Style Analysis: Carefully analyze the example blog posts provided by the user to identify key elements of their preferred style, including:\n",
        "Vocabulary and word choice: Formal vs. informal, technical terms, slang, etc.\n",
        "Sentence structure and length: Short and impactful vs. longer and descriptive sentences.\n",
        "Tone and voice: Humorous, serious, informative, persuasive, etc.\n",
        "Audio Transcription and Comprehension: Your audio clips will be transcribed with high accuracy. you will analyze them to extract key ideas, arguments, and supporting points.\n",
        "Draft Generation: Using the insights from the audio and the style guidelines from the examples, you will generate a first draft of the blog post. This draft will include all relevant sections with supporting arguments or evidence, and a great ending that ties everything together and makes the reader want to invest in future readings.\n",
        "\"\"\""
      ]
    },
    {
      "cell_type": "markdown",
      "metadata": {
        "id": "CuEXqOnYzhM-"
      },
      "source": [
        "## Generate Content"
      ]
    },
    {
      "cell_type": "code",
      "execution_count": 12,
      "metadata": {
        "id": "63ec84f8e8a8"
      },
      "outputs": [
        {
          "name": "stdout",
          "output_type": "stream",
          "text": [
            "Here's a draft of your next blog post, drawing on your audio insights and aligning with the style and tone of your previous posts:\n",
            "\n",
            "---\n",
            "\n",
            "## From 'Wasted' Effort to Lasting Learning: The Power of Writing to Think\n",
            "\n",
            "Early in my career, fresh out of school, I often found myself immersed in ambitious projects. I’d spend countless hours meticulously crafting visions, elaborate roadmaps, and detailed ideas, only to see many of them quietly shelved, cancelled late in the game, or simply thrown away. This wasn't just a one-off experience; it happened often, and frankly, it still happens to me and my team today. Priorities shift, markets change, and sometimes, even brilliant ideas just don't make the cut.\n",
            "\n",
            "The frustrating part was the stark contrast to my academic experience. In school, you're given an assignment, you do it, and it's graded. There are no \"takesies backsies\" on an assignment; it’s a direct path from input to final output. Entering the workforce, this fundamental difference was jarring. The idea that I could pour so much effort into something that might never see the light of day felt like a monumental, colossal waste of time. How was I supposed to reconcile the effort with the seemingly negligible outcome?\n",
            "\n",
            "It took me a while to move past this initial frustration, but I don't think I truly appreciated the value of these experiences until I joined my current team. Here, we embrace a culture of \"writing to think.\" This shift in perspective completely changed how I viewed that earlier \"wasted\" work. It wasn't simply that priorities change; it was about recognizing that the *act* of producing, iterating, and even discarding content is an integral part of becoming better at what you do, going forward.\n",
            "\n",
            "### The Imperative of \"Write to Think\"\n",
            "\n",
            "This culture fundamentally redefines how we approach creation and learning. It’s not just about churning out content for immediate consumption; it’s about using the process of creation itself as a tool for deeper understanding and skill development. It's about:\n",
            "\n",
            "*   **Writing More, Writing Earlier, Writing Often:** The emphasis isn't on perfection, but on proliferation. Get your ideas down, explore different angles, and articulate your thoughts frequently.\n",
            "*   **Detaching from the \"Final Product\" Mindset:** The goal isn't necessarily to produce a polished, unchangeable deliverable. Instead, it's about externalizing thoughts to test, refine, and evolve them.\n",
            "*   **Embracing the Scrap Heap:** Be willing to scrap something entirely once it has served its purpose – whether that purpose was to clarify your own thinking, elicit feedback, or simply exhaust a particular avenue of exploration. The value isn't in the artifact's survival, but in the learning it facilitated.\n",
            "\n",
            "This approach ties in perfectly with iterative processes and the concept of \"doing by learning.\" Every piece of content, every idea explored, every prototype built, contributes to your internal growth, regardless of its ultimate external fate.\n",
            "\n",
            "### No Such Thing as \"Throwaway Work\"\n",
            "\n",
            "In this \"write to think\" model, the very notion of \"throwaway work\" ceases to exist. There are no truly wasted efforts, only steps on a path of continuous refinement. If an idea or a project doesn't go anywhere, it’s not a failure; it’s data. It’s a learning experience that refines your understanding, hones your skills, and makes you more effective for the next challenge.\n",
            "\n",
            "This mindset isn't confined to writing alone. It extends to ideation, problem-solving, design, and any creative endeavor. The rapid prototyping that defines much of the generative AI space, for instance, perfectly embodies this philosophy. You build, you test, you learn, and you iterate—often discarding earlier versions not because they were bad, but because the process of creating them led to something better.\n",
            "\n",
            "For young professionals, or anyone navigating a dynamic professional landscape, adopting this \"write to think\" approach can be incredibly liberating and empowering. It reframes apparent setbacks into valuable lessons, transforming frustration into fuel for future growth. By embracing the idea that every effort, regardless of its immediate outcome, contributes to your long-term skill development, you unlock a powerful engine for continuous learning and innovation. It allows us to focus on the core of our work: insightful exploration and continuous improvement from a deeply human perspective.\n",
            "\n",
            "---\n"
          ]
        }
      ],
      "source": [
        "MODEL_ID = \"gemini-2.5-flash\" # @param [\"gemini-2.5-flash-lite\", \"gemini-2.5-flash\", \"gemini-2.5-pro\"] {\"allow-input\":true, isTemplate: true}\n",
        "prompt = \"Draft my next blog post based on my thoughts in this audio file and these two previous blog posts I wrote.\"\n",
        "\n",
        "response = client.models.generate_content(\n",
        "    model=MODEL_ID,\n",
        "    contents=[prompt, blog_file, blog_file2, audio_file],\n",
        "    config=types.GenerateContentConfig(\n",
        "        system_instruction=si,\n",
        "    )\n",
        ")\n",
        "print(response.text)"
      ]
    },
    {
      "cell_type": "markdown",
      "metadata": {
        "id": "K5oUCqb6IUnH"
      },
      "source": [
        "## Learning more\n",
        "\n",
        "* Learn more about the [File API](https://github.com/google-gemini/cookbook/blob/main/quickstarts/File_API.ipynb) with the quickstart."
      ]
    }
  ],
  "metadata": {
    "colab": {
      "collapsed_sections": [
        "Tce3stUlHN0L"
      ],
      "name": "Voice_memos.ipynb",
      "toc_visible": true
    },
    "kernelspec": {
      "display_name": "Python 3",
      "name": "python3"
    }
  },
  "nbformat": 4,
  "nbformat_minor": 0
}
