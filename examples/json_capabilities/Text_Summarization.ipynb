{
  "cells": [
    {
      "cell_type": "markdown",
      "metadata": {
        "id": "sP8PQnz1QrcF"
      },
      "source": [
        "##### Copyright 2024 Google LLC."
      ]
    },
    {
      "cell_type": "code",
      "execution_count": null,
      "metadata": {
        "cellView": "form",
        "id": "ca23c3f523a7"
      },
      "outputs": [],
      "source": [
        "# @title Licensed under the Apache License, Version 2.0 (the \"License\");\n",
        "# you may not use this file except in compliance with the License.\n",
        "# You may obtain a copy of the License at\n",
        "#\n",
        "# https://www.apache.org/licenses/LICENSE-2.0\n",
        "#\n",
        "# Unless required by applicable law or agreed to in writing, software\n",
        "# distributed under the License is distributed on an \"AS IS\" BASIS,\n",
        "# WITHOUT WARRANTIES OR CONDITIONS OF ANY KIND, either express or implied.\n",
        "# See the License for the specific language governing permissions and\n",
        "# limitations under the License."
      ]
    },
    {
      "cell_type": "markdown",
      "metadata": {
        "id": "bxGr_x3MRA0z"
      },
      "source": [
        "# Gemini API: Text Summarization\n",
        "\n",
        "<table class=\"tfo-notebook-buttons\" align=\"left\">\n",
        "  <td>\n",
        "    <a target=\"_blank\" href=\"https://colab.research.google.com/github/google-gemini/cookbook/blob/main/examples/json_capabilities/Text_Summarization.ipynb\"><img src = \"../../images/colab_logo_32px.png\"/>Run in Google Colab</a>\n",
        "  </td>\n",
        "</table>"
      ]
    },
    {
      "cell_type": "markdown",
      "metadata": {
        "id": "ysy--KfNRrCq"
      },
      "source": [
        "You will use Gemini API's JSON capabilities to extract characters, locations, and summary of the plot from a story."
      ]
    },
    {
      "cell_type": "code",
      "execution_count": 1,
      "metadata": {
        "id": "Ne-3gnXqR0hI"
      },
      "outputs": [
        {
          "name": "stdout",
          "output_type": "stream",
          "text": [
            "\u001b[?25l   \u001b[90m━━━━━━━━━━━━━━━━━━━━━━━━━━━━━━━━━━━━━━━━\u001b[0m \u001b[32m0.0/141.0 kB\u001b[0m \u001b[31m?\u001b[0m eta \u001b[36m-:--:--\u001b[0m\r\u001b[2K   \u001b[90m━━━━━━━━━━━━━━━━━━━━━━━━━━━━━━━━━━━━━━━━\u001b[0m \u001b[32m141.0/141.0 kB\u001b[0m \u001b[31m5.9 MB/s\u001b[0m eta \u001b[36m0:00:00\u001b[0m\n",
            "\u001b[?25h"
          ]
        }
      ],
      "source": [
        "%pip install -U -q \"google-genai>=1.0.0\""
      ]
    },
    {
      "cell_type": "markdown",
      "metadata": {
        "id": "eomJzCa6lb90"
      },
      "source": [
        "## Configure your API key\n",
        "\n",
        "To run the following cell, your API key must be stored it in a Colab Secret named `GOOGLE_API_KEY`. If you don't already have an API key, or you're not sure how to create a Colab Secret, see [Authentication](https://github.com/google-gemini/cookbook/blob/main/quickstarts/Authentication.ipynb) for an example."
      ]
    },
    {
      "cell_type": "code",
      "execution_count": 2,
      "metadata": {
        "id": "v-JZzORUpVR2"
      },
      "outputs": [],
      "source": [
        "from google.colab import userdata\n",
        "from google import genai\n",
        "\n",
        "GOOGLE_API_KEY=userdata.get('GOOGLE_API_KEY')\n",
        "client = genai.Client(api_key=GOOGLE_API_KEY)"
      ]
    },
    {
      "cell_type": "markdown",
      "metadata": {
        "id": "kNE5XslpPpT0"
      },
      "source": [
        "## Example"
      ]
    },
    {
      "cell_type": "code",
      "execution_count": 3,
      "metadata": {
        "id": "8V5lHRmkNejR"
      },
      "outputs": [
        {
          "data": {
            "text/markdown": "The biting wind whipped across the plains of Eldoria, carrying with it the scent of snow and the howl of distant, unseen creatures. Elara, her cloak pulled tight around her face, trudged onward, her boots sinking slightly into the frozen ground. Her breath plumed white in the frigid air, each exhale a fleeting defiance against the encroaching cold. She clutched the worn leather satchel to her chest, its contents the only thing that kept her going – a collection of herbs and potions meant to ease the suffering of those in the village of Silverwood.\n\nElara was a healer, a woman respected and trusted in her small community. But the blight that had swept across Eldoria had stretched her skills to their limit. It started subtly, a persistent cough, then fever, and finally, a weakening of the spirit that no amount of medicine seemed to cure. Desperation had driven her to seek the legendary Sunstone Bloom, a rare flower said to possess unparalleled healing properties, rumored to grow only on the highest peak of Mount Cinder.\n\nThe journey to Mount Cinder was perilous. Legends spoke of monstrous snow beasts that roamed the slopes, and treacherous icefalls that could swallow a traveler whole. Elara, however, was undeterred. She knew the path, having studied the ancient texts of her grandmother, a powerful sorceress. She also had the knowledge of using the land to her advantage. The cold wouldn't stop her from reaching Silverwood.\n\nShe remembered the stories of her grandmother, Lyra, a woman whispered to have communed with the spirits of the mountain. Lyra had vanished years ago, leaving behind only her grimoire and the haunting scent of herbs and magic that still lingered in Elara's memories. She hoped that somewhere on Mount Cinder, she might find a trace of her grandmother's legacy, and perhaps, even her spirit.\n\nAs dusk began to settle, painting the sky in hues of violet and gray, Elara reached the foothills of Mount Cinder. The mountain loomed above her, a jagged silhouette against the darkening sky, its peak shrouded in swirling clouds. She found a small cave, nestled amongst the rocks, and built a small fire to ward off the cold.\n\nShe pulled out a loaf of dried bread and a flask of water, her meager sustenance for the journey. As she ate, she glanced at the grimoire, its pages filled with intricate drawings of herbs, symbols, and incantations. She opened it to a specific page, detailing the location of the Sunstone Bloom, its coordinates meticulously marked with a faded ink. The book was old but it would still help her in her time of need.\n\nThe next morning, Elara began her ascent. The climb was arduous, the path steep and treacherous. She used her ice axe to secure her footing, her muscles burning with exertion. The wind howled in her ears, a constant reminder of the mountain's unforgiving nature. Despite the dangers, Elara pressed onward, driven by the hope of finding the Sunstone Bloom and saving her village.\n\nDays blurred into a continuous struggle against the elements. Elara faced blizzards, navigated treacherous ice fields, and evaded the watchful eyes of mountain creatures. She rationed her supplies carefully, knowing that every ounce of strength was precious. There were times when she wanted to give up, to succumb to the bone-chilling cold and the despair that threatened to engulf her.\n\nFinally, after what felt like an eternity, she reached the peak of Mount Cinder. The view was breathtaking, a panoramic vista of snow-capped mountains and frozen valleys. But Elara's eyes were fixed on a small patch of rocky ground, sheltered from the wind by a cluster of jagged rocks. And there it was. The Sunstone Bloom.\n\nIt glowed with a faint, ethereal light, its petals shimmering with an otherworldly luminescence. Elara carefully plucked the flower, cradling it in her hands. As she did, she felt a surge of energy, a warmth that spread through her body, chasing away the lingering chill. The spirit of Mount Cinder had recognized her determination, her pure intentions, and had rewarded her with its most precious gift. Elara smiled, knowing that she would be able to save her people. With the flower in hand, she began her descent, her heart filled with hope and renewed determination.\n",
            "text/plain": [
              "<IPython.core.display.Markdown object>"
            ]
          },
          "execution_count": 3,
          "metadata": {},
          "output_type": "execute_result"
        }
      ],
      "source": [
        "from IPython.display import Markdown\n",
        "\n",
        "MODEL_ID = \"gemini-2.0-flash\" # @param [\"gemini-1.5-flash-latest\",\"gemini-2.0-flash-lite\",\"gemini-2.0-flash\",\"gemini-2.0-pro-exp-02-05\"] {\"allow-input\":true}\n",
        "prompt = \"Generate a 10 paragraph fantasy story. Include at least 2 named characters and 2 named locations. Give as much detail in the story as possible.\"\n",
        "response = client.models.generate_content(\n",
        "    model=MODEL_ID,\n",
        "    contents=prompt\n",
        "    )\n",
        "story = response.text\n",
        "Markdown(story)"
      ]
    },
    {
      "cell_type": "code",
      "execution_count": 4,
      "metadata": {
        "id": "sShzxm3JNm6M"
      },
      "outputs": [],
      "source": [
        "from typing_extensions import TypedDict # in python 3.12 replace typing_extensions with typing\n",
        "\n",
        "class Character(TypedDict):\n",
        "  name: str\n",
        "  description: str\n",
        "  alignment: str\n",
        "\n",
        "class Location(TypedDict):\n",
        "  name: str\n",
        "  description: str\n",
        "\n",
        "class TextSummary(TypedDict):\n",
        "  synopsis: str\n",
        "  genres: list[str]\n",
        "  locations: list[Location]\n",
        "  characters: list[Character]"
      ]
    },
    {
      "cell_type": "code",
      "execution_count": 7,
      "metadata": {
        "id": "QGdJnd0AOKbu"
      },
      "outputs": [
        {
          "name": "stdout",
          "output_type": "stream",
          "text": [
            "CPU times: user 39.5 ms, sys: 3.98 ms, total: 43.5 ms\n",
            "Wall time: 2.9 s\n"
          ]
        }
      ],
      "source": [
        "%%time\n",
        "prompt = f\"\"\"\n",
        "Generate summary of the story. With a list of genres locations and characters.\n",
        "\n",
        "{story}\"\"\"\n",
        "response = client.models.generate_content(\n",
        "    model=MODEL_ID,\n",
        "    contents=prompt,\n",
        "    config={\n",
        "        \"response_mime_type\": \"application/json\",\n",
        "        \"response_schema\": TextSummary\n",
        "        }\n",
        "    )"
      ]
    },
    {
      "cell_type": "code",
      "execution_count": 8,
      "metadata": {
        "id": "d5tOgde6ONo3"
      },
      "outputs": [
        {
          "name": "stdout",
          "output_type": "stream",
          "text": [
            "{\n",
            "    \"synopsis\": \"Elara, a healer from the village of Silverwood, embarks on a perilous journey to the summit of Mount Cinder in search of the legendary Sunstone Bloom, a flower with unparalleled healing properties. A blight has struck Eldoria, and Elara hopes the flower can save her village. Overcoming treacherous terrain, monstrous creatures, and the harsh elements, driven by the memory of her grandmother, Lyra, and unwavering determination to save her people.\",\n",
            "    \"genres\": [\n",
            "        \"Fantasy\",\n",
            "        \"Adventure\"\n",
            "    ],\n",
            "    \"locations\": [\n",
            "        {\n",
            "            \"name\": \"Eldoria\",\n",
            "            \"description\": \"A vast, cold plain, the setting for the story.\"\n",
            "        },\n",
            "        {\n",
            "            \"name\": \"Silverwood\",\n",
            "            \"description\": \"The village where Elara lives and works as a healer.\"\n",
            "        },\n",
            "        {\n",
            "            \"name\": \"Mount Cinder\",\n",
            "            \"description\": \"A treacherous mountain, home to the Sunstone Bloom.\"\n",
            "        }\n",
            "    ],\n",
            "    \"characters\": [\n",
            "        {\n",
            "            \"name\": \"Elara\",\n",
            "            \"description\": \"A skilled and determined healer from Silverwood seeking the Sunstone Bloom.\",\n",
            "            \"alignment\": \"Good\"\n",
            "        },\n",
            "        {\n",
            "            \"name\": \"Lyra\",\n",
            "            \"description\": \"Elara's grandmother, a powerful sorceress who disappeared years ago.\",\n",
            "            \"alignment\": \"Unknown\"\n",
            "        }\n",
            "    ]\n",
            "}\n"
          ]
        }
      ],
      "source": [
        "import json\n",
        "\n",
        "print(json.dumps(json.loads(response.text), indent=4))"
      ]
    },
    {
      "cell_type": "markdown",
      "metadata": {
        "id": "FhFfzDMk36aI"
      },
      "source": [
        "## Summary\n",
        "In this example, you used Gemini API to extract various information from the story. In this case, you could have done it without the help of the model in no time, but imagine how much time it would save if the text would be 10 times as long or even longer.\n",
        "\n",
        "Please see the other notebooks in this directory to learn more about how you can use the Gemini API for other JSON related tasks."
      ]
    }
  ],
  "metadata": {
    "colab": {
      "name": "Text_Summarization.ipynb",
      "toc_visible": true
    },
    "kernelspec": {
      "display_name": "Python 3",
      "name": "python3"
    }
  },
  "nbformat": 4,
  "nbformat_minor": 0
}
