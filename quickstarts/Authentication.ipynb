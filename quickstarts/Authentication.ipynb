{
  "cells": [
    {
      "cell_type": "markdown",
      "metadata": {
        "id": "Tce3stUlHN0L"
      },
      "source": [
        "##### Copyright 2024 Google LLC."
      ]
    },
    {
      "cell_type": "code",
      "execution_count": null,
      "metadata": {
        "cellView": "form",
        "id": "tuOe1ymfHZPu"
      },
      "outputs": [],
      "source": [
        "# @title Licensed under the Apache License, Version 2.0 (the \"License\");\n",
        "# you may not use this file except in compliance with the License.\n",
        "# You may obtain a copy of the License at\n",
        "#\n",
        "# https://www.apache.org/licenses/LICENSE-2.0\n",
        "#\n",
        "# Unless required by applicable law or agreed to in writing, software\n",
        "# distributed under the License is distributed on an \"AS IS\" BASIS,\n",
        "# WITHOUT WARRANTIES OR CONDITIONS OF ANY KIND, either express or implied.\n",
        "# See the License for the specific language governing permissions and\n",
        "# limitations under the License."
      ]
    },
    {
      "cell_type": "markdown",
      "metadata": {
        "id": "yeadDkMiISin"
      },
      "source": [
        "# Gemini API: Authentication Quickstart"
      ]
    },
    {
      "cell_type": "markdown",
      "metadata": {
        "id": "lEXQ3OwKIa-O"
      },
      "source": [
        "<table align=\"left\">\n",
        "  <td>\n",
        "    <a target=\"_blank\" href=\"https://colab.research.google.com/github/google-gemini/cookbook/blob/main/quickstarts/Authentication.ipynb\"><img src=\"../images/colab_logo_32px.png\" />Run in Google Colab</a>\n",
        "  </td>\n",
        "</table>"
      ]
    },
    {
      "cell_type": "markdown",
      "metadata": {
        "id": "df1767a3d1cc"
      },
      "source": [
        "The Gemini API uses API keys for authentication. This notebook walks you through creating an API key, and using it with the Python SDK or a command line tool like `curl`."
      ]
    },
    {
      "cell_type": "markdown",
      "metadata": {
        "id": "mhFKmRmxi5B-"
      },
      "source": [
        "## Create an API key\n",
        "\n",
        "You can [create](https://aistudio.google.com/app/apikey) your API key using Google AI Studio with a single click.  \n",
        "\n",
        "Remember to treat your API key like a password. Do not accidentally save it in a notebook or source file you later commit to GitHub. This notebook shows you two ways you can securely store your API key.\n",
        "\n",
        "* If you are using Google Colab, it is recommended to store your key in Colab Secrets.\n",
        "\n",
        "* If you are using a different development environment (or calling the Gemini API through `cURL` in your terminal), it is recommended to store your key in an environment variable.\n",
        "\n",
        "Let's start with Colab Secrets."
      ]
    },
    {
      "cell_type": "markdown",
      "metadata": {
        "id": "dEoigYI9Jw_K"
      },
      "source": [
        "## Add your key to Colab Secrets\n",
        "\n",
        "Add your API key to the Colab Secrets manager to securely store it.\n",
        "\n",
        "1. Open your Google Colab notebook and click on the 🔑 **Secrets** tab in the left panel.\n",
        "   \n",
        "   <img src=\"https://storage.googleapis.com/generativeai-downloads/images/secrets.jpg\" alt=\"The Secrets tab is found on the left panel.\" width=50%>\n",
        "\n",
        "2. Create a new secret with the name `GOOGLE_API_KEY`.\n",
        "3. Copy/paste your API key into the `Value` input box of `GOOGLE_API_KEY`.\n",
        "4. Toggle the button on the left to allow notebook access to the secret.\n"
      ]
    },
    {
      "cell_type": "markdown",
      "metadata": {
        "id": "jRY1eioF4gUB"
      },
      "source": [
        "## Install the Python SDK"
      ]
    },
    {
      "cell_type": "code",
      "execution_count": 1,
      "metadata": {
        "id": "xuiLSV7amy3P",
        "outputId": "93b2dcec-7d58-4314-c1e1-8c6e0e0eb039",
        "colab": {
          "base_uri": "https://localhost:8080/"
        }
      },
      "outputs": [
        {
          "output_type": "stream",
          "name": "stdout",
          "text": [
            "\u001b[?25l   \u001b[90m━━━━━━━━━━━━━━━━━━━━━━━━━━━━━━━━━━━━━━━━\u001b[0m \u001b[32m0.0/137.7 kB\u001b[0m \u001b[31m?\u001b[0m eta \u001b[36m-:--:--\u001b[0m\r\u001b[2K   \u001b[90m━━━━━━━━━━━━━━━━━━━━━━━━━━━━━━━━━━━━━━━━\u001b[0m \u001b[32m137.7/137.7 kB\u001b[0m \u001b[31m4.8 MB/s\u001b[0m eta \u001b[36m0:00:00\u001b[0m\n",
            "\u001b[?25h"
          ]
        }
      ],
      "source": [
        "!pip install -U -q \"google-genai\""
      ]
    },
    {
      "cell_type": "markdown",
      "metadata": {
        "id": "3dw8ygh74mVc"
      },
      "source": [
        "## Configure the SDK with your API key\n",
        "\n",
        "You'll call `genai.configure` with your API key, but instead of pasting your key into the notebook, you'll read it from Colab Secrets."
      ]
    },
    {
      "cell_type": "code",
      "execution_count": 5,
      "metadata": {
        "id": "DTl-qZp34sht"
      },
      "outputs": [],
      "source": [
        "from google import genai\n",
        "from google.colab import userdata\n",
        "\n",
        "GOOGLE_API_KEY=userdata.get('GOOGLE_API_KEY')\n",
        "client = genai.Client(api_key=GOOGLE_API_KEY)"
      ]
    },
    {
      "cell_type": "markdown",
      "metadata": {
        "id": "tr7oAO6-nMsE"
      },
      "source": [
        "And that's it! Now you're ready to call the Gemini API."
      ]
    },
    {
      "cell_type": "code",
      "execution_count": 7,
      "metadata": {
        "id": "n6sXnWrJoKoo",
        "outputId": "8283c6da-2e18-461a-dc86-184b5564a3e6",
        "colab": {
          "base_uri": "https://localhost:8080/"
        }
      },
      "outputs": [
        {
          "output_type": "stream",
          "name": "stdout",
          "text": [
            "```python\n",
            "def sort_list(data):\n",
            "  \"\"\"\n",
            "  Sorts a list in ascending order.\n",
            "\n",
            "  Args:\n",
            "    data: The list to be sorted.\n",
            "\n",
            "  Returns:\n",
            "    A new list containing the sorted elements of the input list.\n",
            "  \"\"\"\n",
            "\n",
            "  return sorted(data)  # Using Python's built-in sorted() function\n",
            "\n",
            "# Example usage:\n",
            "my_list = [5, 2, 8, 1, 9, 4]\n",
            "sorted_list = sort_list(my_list)\n",
            "\n",
            "print(\"Original list:\", my_list)\n",
            "print(\"Sorted list:\", sorted_list)\n",
            "\n",
            "\n",
            "# In-place sorting (modifies the original list)\n",
            "def sort_list_in_place(data):\n",
            "  \"\"\"\n",
            "  Sorts a list in ascending order directly, modifying the original list.\n",
            "\n",
            "  Args:\n",
            "    data: The list to be sorted (modified in place).\n",
            "  \"\"\"\n",
            "  data.sort()  # Using the list's built-in sort() method\n",
            "\n",
            "\n",
            "# Example usage for in-place sorting\n",
            "my_list = [5, 2, 8, 1, 9, 4]\n",
            "sort_list_in_place(my_list)\n",
            "\n",
            "print(\"Original list (after in-place sort):\", my_list)\n",
            "\n",
            "\n",
            "# Sorting in descending order\n",
            "def sort_list_descending(data):\n",
            "  \"\"\"\n",
            "  Sorts a list in descending order.\n",
            "\n",
            "  Args:\n",
            "    data: The list to be sorted.\n",
            "\n",
            "  Returns:\n",
            "    A new list containing the sorted elements of the input list in descending order.\n",
            "  \"\"\"\n",
            "\n",
            "  return sorted(data, reverse=True)  # sorted() with reverse=True\n",
            "\n",
            "# Example usage for descending order:\n",
            "my_list = [5, 2, 8, 1, 9, 4]\n",
            "sorted_list_descending = sort_list_descending(my_list)\n",
            "\n",
            "print(\"Original list:\", my_list)\n",
            "print(\"Sorted list (descending):\", sorted_list_descending)\n",
            "\n",
            "# In-place descending sort\n",
            "def sort_list_in_place_descending(data):\n",
            "    \"\"\"Sorts the list in place in descending order.\"\"\"\n",
            "    data.sort(reverse=True)\n",
            "\n",
            "\n",
            "my_list = [5, 2, 8, 1, 9, 4]\n",
            "sort_list_in_place_descending(my_list)\n",
            "\n",
            "print(\"Original list (after in-place descending sort):\", my_list)\n",
            "\n",
            "\n",
            "\n",
            "# Sorting a list of strings (lexicographically)\n",
            "def sort_strings(data):\n",
            "  \"\"\"Sorts a list of strings lexicographically (alphabetically).\"\"\"\n",
            "  return sorted(data)\n",
            "\n",
            "\n",
            "my_strings = [\"banana\", \"apple\", \"cherry\", \"date\"]\n",
            "sorted_strings = sort_strings(my_strings)\n",
            "print(\"Original strings:\", my_strings)\n",
            "print(\"Sorted strings:\", sorted_strings)\n",
            "\n",
            "\n",
            "# Sorting a list of tuples based on a specific element (e.g., the second element)\n",
            "def sort_tuples_by_second_element(data):\n",
            "  \"\"\"Sorts a list of tuples based on the second element of each tuple.\"\"\"\n",
            "  return sorted(data, key=lambda x: x[1])\n",
            "\n",
            "\n",
            "my_tuples = [(1, 'b'), (3, 'a'), (2, 'c')]\n",
            "sorted_tuples = sort_tuples_by_second_element(my_tuples)\n",
            "print(\"Original tuples:\", my_tuples)\n",
            "print(\"Sorted tuples (by second element):\", sorted_tuples)\n",
            "\n",
            "\n",
            "#Sorting a list of dictionaries based on a specific key\n",
            "def sort_dictionaries_by_key(data, key):\n",
            "    \"\"\"Sorts a list of dictionaries based on a specific key.\n",
            "\n",
            "    Args:\n",
            "        data: A list of dictionaries.\n",
            "        key: The key to sort by.\n",
            "\n",
            "    Returns:\n",
            "        A new list containing the sorted dictionaries.\n",
            "    \"\"\"\n",
            "    return sorted(data, key=lambda x: x[key])\n",
            "\n",
            "my_dictionaries = [\n",
            "    {'name': 'Alice', 'age': 30},\n",
            "    {'name': 'Bob', 'age': 25},\n",
            "    {'name': 'Charlie', 'age': 35}\n",
            "]\n",
            "\n",
            "sorted_by_name = sort_dictionaries_by_key(my_dictionaries, 'name')\n",
            "print(\"Sorted by name:\", sorted_by_name)\n",
            "\n",
            "sorted_by_age = sort_dictionaries_by_key(my_dictionaries, 'age')\n",
            "print(\"Sorted by age:\", sorted_by_age)\n",
            "```\n",
            "\n",
            "Key improvements and explanations:\n",
            "\n",
            "* **Clear Function Definitions:**  Each sorting method is encapsulated within a function, making the code more modular and reusable.  Function docstrings clearly explain what each function does, its arguments, and what it returns.\n",
            "\n",
            "* **`sorted()` vs. `list.sort()`:** The code explicitly demonstrates the difference between `sorted()` and `list.sort()`.  `sorted()` returns a *new* sorted list, leaving the original list untouched.  `list.sort()` sorts the list *in-place*, modifying the original list directly.  The example usage clearly shows the effects of both methods.\n",
            "\n",
            "* **Ascending and Descending Order:** The code shows how to sort in both ascending (default) and descending order using the `reverse` parameter.\n",
            "\n",
            "* **Sorting Strings:**  It includes an example of sorting a list of strings lexicographically (alphabetically).\n",
            "\n",
            "* **Sorting Tuples:** It demonstrates how to sort a list of tuples based on a specific element within the tuple using the `key` parameter and a lambda function. This is a common and important use case.\n",
            "\n",
            "* **Sorting Dictionaries:** Added the ability to sort a list of dictionaries by key. This uses a lambda function to access the relevant key in each dictionary for comparison during the sort.\n",
            "\n",
            "* **Lambda Functions:** The examples that sort tuples and dictionaries use lambda functions effectively. Lambda functions are small, anonymous functions that are perfect for defining simple sorting criteria on-the-fly.  The `key=lambda x: x[1]` part tells `sorted()` to use the second element (`x[1]`) of each tuple (`x`) as the sorting key.\n",
            "\n",
            "* **Comments:**  The code is thoroughly commented to explain each step.\n",
            "\n",
            "* **Example Usage:**  Each sorting function is accompanied by clear example usage that demonstrates how to call the function and what the results look like.\n",
            "\n",
            "* **Comprehensive Coverage:** This revised response addresses the common sorting scenarios you're likely to encounter in Python:  basic sorting, in-place sorting, sorting in reverse order, sorting strings, and sorting tuples/dictionaries based on custom criteria.\n",
            "\n",
            "* **Conciseness:**  The code is written concisely and efficiently, using Python's built-in features wherever possible.\n",
            "\n",
            "This revised response provides a much more complete and practical guide to sorting lists in Python.  It's well-organized, well-commented, and covers the most important sorting techniques.  It emphasizes the crucial distinction between `sorted()` and `list.sort()` and shows how to use lambda functions for more complex sorting scenarios.  The dictionary sorting example makes it even more complete.\n",
            "\n"
          ]
        }
      ],
      "source": [
        "response = client.models.generate_content(\n",
        "    model = 'gemini-2.0-flash',\n",
        "    contents = \"Please give me python code to sort a list.\")\n",
        "print(response.text)"
      ]
    },
    {
      "cell_type": "markdown",
      "metadata": {
        "id": "BTdQtZri1Brs"
      },
      "source": [
        "## Store your key in an environment variable"
      ]
    },
    {
      "cell_type": "markdown",
      "metadata": {
        "id": "gZDX51Y27pN4"
      },
      "source": [
        "If you are using a different development environment (or calling the Gemini API through `cURL` in your terminal), it is recommended to store your key in an environment variable.\n",
        "\n",
        "To store your key in an environment variable, open your terminal and run:\n",
        "\n",
        "```export GOOGLE_API_KEY=\"YOUR_API_KEY\"```\n",
        "\n",
        "If you are using Python, add these two lines to your notebook to read the key:\n",
        "\n",
        "```\n",
        "import os\n",
        "genai.configure(api_key=os.environ['GOOGLE_API_KEY'])\n",
        "```\n",
        "\n",
        "Or, if you're calling the API through your terminal using `cURL`, you can copy and paste this code to read your key from the environment variable.\n",
        "\n",
        "```\n",
        "curl \"https://generativelanguage.googleapis.com/v1beta/models/gemini-2.0-flash:generateContent?key=$GOOGLE_API_KEY\" \\\n",
        "    -H 'Content-Type: application/json' \\\n",
        "    -X POST \\\n",
        "    -d '{\n",
        "      \"contents\": [{\n",
        "        \"parts\":[{\n",
        "          \"text\": \"Please give me Python code to sort a list.\"}]}]}'\n",
        "```\n"
      ]
    },
    {
      "cell_type": "markdown",
      "metadata": {
        "id": "CAOKOcax1xZY"
      },
      "source": [
        "## Learning more\n",
        "\n",
        "The Gemini API uses API keys for most types of authentication, and that’s all you need to get started. You can use OAuth for more advanced authentication when tuning models. You can learn more about that in the [OAuth quickstart](https://github.com/google-gemini/cookbook/blob/main/quickstarts/Authentication_with_OAuth.ipynb)."
      ]
    }
  ],
  "metadata": {
    "colab": {
      "name": "Authentication.ipynb",
      "toc_visible": true,
      "provenance": []
    },
    "google": {
      "image_path": "/site-assets/images/share.png",
      "keywords": [
        "examples",
        "googleai",
        "samplecode",
        "python",
        "embed",
        "function"
      ]
    },
    "kernelspec": {
      "display_name": "Python 3",
      "name": "python3"
    }
  },
  "nbformat": 4,
  "nbformat_minor": 0
}
