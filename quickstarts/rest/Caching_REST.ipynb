{
  "cells": [
    {
      "cell_type": "markdown",
      "metadata": {
        "id": "Tce3stUlHN0L"
      },
      "source": [
        "##### Copyright 2024 Google LLC."
      ]
    },
    {
      "cell_type": "code",
      "execution_count": 44,
      "metadata": {
        "cellView": "form",
        "id": "tuOe1ymfHZPu"
      },
      "outputs": [],
      "source": [
        "# @title Licensed under the Apache License, Version 2.0 (the \"License\");\n",
        "# you may not use this file except in compliance with the License.\n",
        "# You may obtain a copy of the License at\n",
        "#\n",
        "# https://www.apache.org/licenses/LICENSE-2.0\n",
        "#\n",
        "# Unless required by applicable law or agreed to in writing, software\n",
        "# distributed under the License is distributed on an \"AS IS\" BASIS,\n",
        "# WITHOUT WARRANTIES OR CONDITIONS OF ANY KIND, either express or implied.\n",
        "# See the License for the specific language governing permissions and\n",
        "# limitations under the License."
      ]
    },
    {
      "cell_type": "markdown",
      "metadata": {
        "id": "xmzgQqBasA0v"
      },
      "source": [
        "# Gemini API: Caching Quickstart with REST\n",
        "\n",
        "<table align=\"left\">\n",
        "  <td>\n",
        "    <a target=\"_blank\" href=\"https://colab.research.google.com/github/google-gemini/cookbook/blob/main/quickstarts/rest/Caching_REST.ipynb\"><img src=\"../../images/colab_logo_32px.png\" />Run in Google Colab</a>\n",
        "  </td>\n",
        "</table>\n"
      ]
    },
    {
      "cell_type": "markdown",
      "metadata": {
        "id": "265f8066d5d5"
      },
      "source": [
        "This notebook introduces [context caching](https://ai.google.dev/gemini-api/docs/caching?lang=rest) with the Gemini API and provides examples of interacting with the Apollo 11 transcript using the Python SDK. Context caching is a way to save on requests costs when a substantial initial context is referenced repeatedly by shorter requests. It will use `curl` commands to call the methods in the REST API. \n",
        "\n",
        "For a more comprehensive look, check out [the caching guide](https://ai.google.dev/gemini-api/docs/caching?lang=rest).\n",
        "\n",
        "This notebook contains `curl` commands you can run in Google Colab, or copy to your terminal. If you have never used the Gemini REST API, it is strongly recommended to start with the [Prompting quickstart](../../quickstarts/rest/Prompting_REST.ipynb) first.\n",
        "\n",
        "### Authentication\n",
        "\n",
        "To run this notebook, your API key must be stored it in a Colab Secret named GOOGLE_API_KEY. If you are running in a different environment, you can store your key in an environment variable. See [Authentication](../../quickstarts/Authentication.ipynb) to learn more."
      ]
    },
    {
      "cell_type": "code",
      "execution_count": 45,
      "metadata": {
        "id": "GgaOvPo_r2SB"
      },
      "outputs": [],
      "source": [
        "import os\n",
        "from google.colab import userdata\n",
        "os.environ['GOOGLE_API_KEY'] = userdata.get('GOOGLE_API_KEY')"
      ]
    },
    {
      "cell_type": "markdown",
      "metadata": {
        "id": "9WjnnMbysntU"
      },
      "source": [
        "## Caching content\n",
        "\n",
        "Let's start by getting the transcript from the Apollo 11 mission."
      ]
    },
    {
      "cell_type": "code",
      "execution_count": 47,
      "metadata": {
        "id": "4eB7rHRpsw0L"
      },
      "outputs": [
        {
          "name": "stdout",
          "output_type": "stream",
          "text": [
            "--2024-07-11 17:55:31--  https://storage.googleapis.com/generativeai-downloads/data/a11.txt\n",
            "Resolving storage.googleapis.com (storage.googleapis.com)... 74.125.199.207, 74.125.20.207, 108.177.98.207, ...\n",
            "Connecting to storage.googleapis.com (storage.googleapis.com)|74.125.199.207|:443... connected.\n",
            "HTTP request sent, awaiting response... 200 OK\n",
            "Length: 847790 (828K) [text/plain]\n",
            "Saving to: ‘a11.txt.2’\n",
            "\n",
            "\ra11.txt.2             0%[                    ]       0  --.-KB/s               \ra11.txt.2           100%[===================>] 827.92K  --.-KB/s    in 0.008s  \n",
            "\n",
            "2024-07-11 17:55:31 (103 MB/s) - ‘a11.txt.2’ saved [847790/847790]\n",
            "\n"
          ]
        }
      ],
      "source": [
        "!wget https://storage.googleapis.com/generativeai-downloads/data/a11.txt"
      ]
    },
    {
      "cell_type": "markdown",
      "metadata": {
        "id": "MxKqvHPOw86L"
      },
      "source": [
        "Now you need to reencode it to base-64, so let's prepare the whole [cachedContent](https://ai.google.dev/api/rest/v1beta/cachedContents#resource:-cachedcontent) while you're at it.\n",
        "\n",
        "Note that you have to use a stable model with fixed versions (`gemini-1.5-flash-002` in this case). That's why you had to add a version postfix (\"`-002`\" in this case). You'll get a `Model [...] not found or does not support caching` error if you forget to do so.\n"
      ]
    },
    {
      "cell_type": "code",
      "execution_count": 48,
      "metadata": {
        "id": "t_iZX_f3xbY9"
      },
      "outputs": [],
      "source": [
        "%%bash\n",
        "\n",
        "echo '{\n",
        "  \"model\": \"models/gemini-1.5-flash-002\",\n",
        "  \"contents\":[\n",
        "    {\n",
        "      \"parts\":[\n",
        "        {\n",
        "          \"inline_data\": {\n",
        "            \"mime_type\":\"text/plain\",\n",
        "            \"data\": \"'$(base64 -w0 a11.txt)'\"\n",
        "          }\n",
        "        }\n",
        "      ],\n",
        "    \"role\": \"user\"\n",
        "    }\n",
        "  ],\n",
        "  \"systemInstruction\": {\n",
        "    \"parts\": [\n",
        "      {\n",
        "        \"text\": \"You are an expert at analyzing transcripts.\"\n",
        "      }\n",
        "    ]\n",
        "  },\n",
        "  \"ttl\": \"600s\"\n",
        "}' > request.json"
      ]
    },
    {
      "cell_type": "markdown",
      "metadata": {
        "id": "mDOrKlwxxpY0"
      },
      "source": [
        "We can now create the cached content."
      ]
    },
    {
      "cell_type": "code",
      "execution_count": 59,
      "metadata": {
        "id": "TvaLAOclxw4K"
      },
      "outputs": [
        {
          "name": "stdout",
          "output_type": "stream",
          "text": [
            "{\n",
            "  \"name\": \"cachedContents/lf0nt062ulc1\",\n",
            "  \"model\": \"models/gemini-1.5-flash-002\",\n",
            "  \"createTime\": \"2024-07-11T18:02:48.257891Z\",\n",
            "  \"updateTime\": \"2024-07-11T18:02:48.257891Z\",\n",
            "  \"expireTime\": \"2024-07-11T18:07:47.635193373Z\",\n",
            "  \"displayName\": \"\",\n",
            "  \"usageMetadata\": {\n",
            "    \"totalTokenCount\": 323383\n",
            "  }\n",
            "}\n"
          ]
        },
        {
          "name": "stderr",
          "output_type": "stream",
          "text": [
            "  % Total    % Received % Xferd  Average Speed   Time    Time     Time  Current\n",
            "                                 Dload  Upload   Total   Spent    Left  Speed\n",
            "\r  0     0    0     0    0     0      0      0 --:--:-- --:--:-- --:--:--     0\r100 1104k    0     0  100 1104k      0   902k  0:00:01  0:00:01 --:--:--  902k\r100 1104k    0   307  100 1104k    138   499k  0:00:02  0:00:02 --:--:--  500k\r100 1104k    0   307  100 1104k    138   499k  0:00:02  0:00:02 --:--:--  499k\n"
          ]
        }
      ],
      "source": [
        "%%bash\n",
        "\n",
        "curl -X POST \"https://generativelanguage.googleapis.com/v1beta/cachedContents?key=$GOOGLE_API_KEY\" \\\n",
        " -H 'Content-Type: application/json' \\\n",
        " -d @request.json > cache.json\n",
        "\n",
        " cat cache.json"
      ]
    },
    {
      "cell_type": "markdown",
      "metadata": {
        "id": "jTphbvyMyMc4"
      },
      "source": [
        "You will need it for the next commands so save the name of the cache.\n",
        "\n",
        "You're using a text file to save the name here beacuse of colab constrainsts but you could also simply use a variable."
      ]
    },
    {
      "cell_type": "code",
      "execution_count": 57,
      "metadata": {
        "id": "IQaZqLw6ybQM"
      },
      "outputs": [
        {
          "name": "stdout",
          "output_type": "stream",
          "text": [
            "cachedContents/qidqwuaxdqz4\n"
          ]
        }
      ],
      "source": [
        "%%bash\n",
        "\n",
        "CACHE_NAME=$(cat cache.json | grep '\"name\":' | cut -d '\"' -f 4 | head -n 1)\n",
        "\n",
        "echo $CACHE_NAME > cache_name.txt\n",
        "\n",
        "cat cache_name.txt"
      ]
    },
    {
      "cell_type": "markdown",
      "metadata": {
        "id": "4L0GF8KR9Le4"
      },
      "source": [
        "## Listing caches\n",
        "Since caches have a reccuring cost it's a good idea to keep an eye on them. It can also be useful if you need to find their name."
      ]
    },
    {
      "cell_type": "code",
      "execution_count": 60,
      "metadata": {
        "id": "pZ_mvdVt9LIr"
      },
      "outputs": [
        {
          "name": "stdout",
          "output_type": "stream",
          "text": [
            "{\n",
            "  \"cachedContents\": [\n",
            "    {\n",
            "      \"name\": \"cachedContents/lf0nt062ulc1\",\n",
            "      \"model\": \"models/gemini-1.5-flash-002\",\n",
            "      \"createTime\": \"2024-07-11T18:02:48.257891Z\",\n",
            "      \"updateTime\": \"2024-07-11T18:02:48.257891Z\",\n",
            "      \"expireTime\": \"2024-07-11T18:07:47.635193373Z\",\n",
            "      \"displayName\": \"\",\n",
            "      \"usageMetadata\": {\n",
            "        \"totalTokenCount\": 323383\n",
            "      }\n",
            "    },\n",
            "    {\n",
            "      \"name\": \"cachedContents/qidqwuaxdqz4\",\n",
            "      \"model\": \"models/gemini-1.5-flash-002\",\n",
            "      \"createTime\": \"2024-07-11T18:02:30.516233Z\",\n",
            "      \"updateTime\": \"2024-07-11T18:02:30.516233Z\",\n",
            "      \"expireTime\": \"2024-07-11T18:07:29.803448998Z\",\n",
            "      \"displayName\": \"\",\n",
            "      \"usageMetadata\": {\n",
            "        \"totalTokenCount\": 323383\n",
            "      }\n",
            "    }\n",
            "  ]\n",
            "}\n"
          ]
        }
      ],
      "source": [
        "!curl \"https://generativelanguage.googleapis.com/v1beta/cachedContents?key=$GOOGLE_API_KEY\""
      ]
    },
    {
      "cell_type": "markdown",
      "metadata": {
        "id": "JcvzZhMUs9q2"
      },
      "source": [
        "## Using cached content when prompting\n",
        "\n",
        "Prompting using cached content is the same as what is illustrated in the [Prompting quickstart](../../quickstarts/rest/Prompting_REST.ipynb) except you're adding a `\"cachedContent\"` value which is the name of the cache you saved earlier."
      ]
    },
    {
      "cell_type": "code",
      "execution_count": 51,
      "metadata": {
        "id": "NpwYp7citE4l"
      },
      "outputs": [
        {
          "name": "stdout",
          "output_type": "stream",
          "text": [
            "{\n",
            "  \"candidates\": [\n",
            "    {\n",
            "      \"content\": {\n",
            "        \"parts\": [\n",
            "          {\n",
            "            \"text\": \"This is a transcript of the air-to-ground voice transmission between the Apollo 11 crew and Mission Control during their journey to the moon and back. The transcript covers the period from the launch of the Saturn V rocket until the splashdown of the command module in the Pacific Ocean. \\n\\nThe transcript documents a fascinating conversation between the astronauts and Mission Control, highlighting the various activities of the mission. It covers:\\n\\n* **Launch and Trans-Lunar Injection:** The launch sequence, staging of the rocket, and the critical Trans-Lunar Injection (TLI) maneuver that sent the Apollo 11 spacecraft towards the moon.\\n* **Orbit and Docking:** The crew's actions in earth orbit, their successful docking with the Lunar Module (LM), and the transfer of the LM to the docking port of the command module. \\n* **Lunar Surface Preparations:** Communications checks, pre-flight preparations for the Lunar Module, and the successful ejection of the LM from the command module. \\n* **Lunar Orbit Insertion:** The burn that sent the spacecraft into lunar orbit and the subsequent activities in lunar orbit. \\n* **Lunar Landing and EVA:** The descent of the LM to the surface of the moon, Neil Armstrong’s famous first steps, and the Lunar surface activities. \\n* **Lunar Ascent:** The launch of the LM back into lunar orbit and the docking with the command module. \\n* **Trans-Earth Injection:** The burn that sent the spacecraft on its return journey to Earth. \\n* **Earth Entry and Splashdown:** The re-entry of the command module into the Earth’s atmosphere, the deployment of parachutes, and the splashdown in the Pacific Ocean.\\n\\nThe transcript provides valuable insight into the complexity and meticulous planning that went into the Apollo 11 mission. It showcases the close communication and coordination between the crew and Mission Control, and the dedication of the many individuals who made this historic mission possible. \\n\"\n",
            "          }\n",
            "        ],\n",
            "        \"role\": \"model\"\n",
            "      },\n",
            "      \"finishReason\": \"STOP\",\n",
            "      \"index\": 0,\n",
            "      \"safetyRatings\": [\n",
            "        {\n",
            "          \"category\": \"HARM_CATEGORY_SEXUALLY_EXPLICIT\",\n",
            "          \"probability\": \"NEGLIGIBLE\"\n",
            "        },\n",
            "        {\n",
            "          \"category\": \"HARM_CATEGORY_HATE_SPEECH\",\n",
            "          \"probability\": \"NEGLIGIBLE\"\n",
            "        },\n",
            "        {\n",
            "          \"category\": \"HARM_CATEGORY_HARASSMENT\",\n",
            "          \"probability\": \"NEGLIGIBLE\"\n",
            "        },\n",
            "        {\n",
            "          \"category\": \"HARM_CATEGORY_DANGEROUS_CONTENT\",\n",
            "          \"probability\": \"NEGLIGIBLE\"\n",
            "        }\n",
            "      ]\n",
            "    }\n",
            "  ],\n",
            "  \"usageMetadata\": {\n",
            "    \"promptTokenCount\": 323388,\n",
            "    \"candidatesTokenCount\": 397,\n",
            "    \"totalTokenCount\": 323785,\n",
            "    \"cachedContentTokenCount\": 323383\n",
            "  }\n",
            "}\n"
          ]
        },
        {
          "name": "stderr",
          "output_type": "stream",
          "text": [
            "  % Total    % Received % Xferd  Average Speed   Time    Time     Time  Current\n",
            "                                 Dload  Upload   Total   Spent    Left  Speed\n",
            "\r  0     0    0     0    0     0      0      0 --:--:-- --:--:-- --:--:--     0\r100   225    0     0  100   225      0   1107 --:--:-- --:--:-- --:--:--  1102\r100   225    0     0  100   225      0    186  0:00:01  0:00:01 --:--:--   186\r100   225    0     0  100   225      0    102  0:00:02  0:00:02 --:--:--   101\r100   225    0     0  100   225      0     70  0:00:03  0:00:03 --:--:--    70\r100   225    0     0  100   225      0     53  0:00:04  0:00:04 --:--:--    53\r100   225    0     0  100   225      0     43  0:00:05  0:00:05 --:--:--     0\r100   225    0     0  100   225      0     36  0:00:06  0:00:06 --:--:--     0\r100   225    0     0  100   225      0     31  0:00:07  0:00:07 --:--:--     0\r100   225    0     0  100   225      0     27  0:00:08  0:00:08 --:--:--     0\r100   225    0     0  100   225      0     24  0:00:09  0:00:09 --:--:--     0\r100   225    0     0  100   225      0     22  0:00:10  0:00:10 --:--:--     0\r100   225    0     0  100   225      0     20  0:00:11  0:00:11 --:--:--     0\r100   225    0     0  100   225      0     18  0:00:12  0:00:12 --:--:--     0\r100   225    0     0  100   225      0     17  0:00:13  0:00:13 --:--:--     0\r100   225    0     0  100   225      0     15  0:00:15  0:00:14  0:00:01     0\r100   225    0     0  100   225      0     14  0:00:16  0:00:15  0:00:01     0\r100   225    0     0  100   225      0     13  0:00:17  0:00:16  0:00:01     0\r100   225    0     0  100   225      0     13  0:00:17  0:00:17 --:--:--     0\r100   225    0     0  100   225      0     12  0:00:18  0:00:18 --:--:--     0\r100   225    0     0  100   225      0     11  0:00:20  0:00:19  0:00:01     0\r100   225    0     0  100   225      0     11  0:00:20  0:00:20 --:--:--     0\r100   225    0     0  100   225      0     10  0:00:22  0:00:21  0:00:01     0\r100   225    0     0  100   225      0     10  0:00:22  0:00:22 --:--:--     0\r100   225    0     0  100   225      0      9  0:00:25  0:00:23  0:00:02     0\r100  3042    0  2817  100   225    117      9  0:00:25  0:00:24  0:00:01   580\n"
          ]
        }
      ],
      "source": [
        "%%bash\n",
        "\n",
        "curl -X POST \"https://generativelanguage.googleapis.com/v1beta/models/gemini-1.5-flash-002:generateContent?key=$GOOGLE_API_KEY\" \\\n",
        "-H 'Content-Type: application/json' \\\n",
        "-d '{\n",
        "      \"contents\": [\n",
        "        {\n",
        "          \"parts\":[{\n",
        "            \"text\": \"Please summarize this transcript\"\n",
        "          }],\n",
        "          \"role\": \"user\"\n",
        "        },\n",
        "      ],\n",
        "      \"cachedContent\": \"'$(cat cache_name.txt)'\"\n",
        "    }'"
      ]
    },
    {
      "cell_type": "markdown",
      "metadata": {
        "id": "cwgrD58y5_XU"
      },
      "source": [
        "As you can see, among the 323699 tokens, 323383 were cached (and thus less expensive) and only 311 were from the prompt.\n",
        "\n",
        "Since the cached tokens are cheaper than the normal ones, it means this prompt was 75% cheaper that if you had not used caching. Check the [pricing here](https://ai.google.dev/pricing) for the up-to-date discount on cached tokens."
      ]
    },
    {
      "cell_type": "markdown",
      "metadata": {
        "id": "iPjWxu-F88eZ"
      },
      "source": [
        "## Optional: Updating a cache\n",
        "If you need to update a cache, to chance its content, or just extend its longevity, just use `PATCH`:"
      ]
    },
    {
      "cell_type": "code",
      "execution_count": 62,
      "metadata": {
        "id": "o610yAgP9yT7"
      },
      "outputs": [
        {
          "name": "stdout",
          "output_type": "stream",
          "text": [
            "{\n",
            "  \"name\": \"cachedContents/qidqwuaxdqz4\",\n",
            "  \"model\": \"models/gemini-1.5-flash-002\",\n",
            "  \"createTime\": \"2024-07-11T18:02:30.516233Z\",\n",
            "  \"updateTime\": \"2024-07-11T18:05:38.781423Z\",\n",
            "  \"expireTime\": \"2024-07-11T18:10:38.759996261Z\",\n",
            "  \"displayName\": \"\",\n",
            "  \"usageMetadata\": {\n",
            "    \"totalTokenCount\": 323383\n",
            "  }\n",
            "}\n"
          ]
        },
        {
          "name": "stderr",
          "output_type": "stream",
          "text": [
            "  % Total    % Received % Xferd  Average Speed   Time    Time     Time  Current\n",
            "                                 Dload  Upload   Total   Spent    Left  Speed\n",
            "\r  0     0    0     0    0     0      0      0 --:--:-- --:--:-- --:--:--     0\r100   322    0   307  100    15    822     40 --:--:-- --:--:-- --:--:--   863\n"
          ]
        }
      ],
      "source": [
        "%%bash\n",
        "\n",
        "curl -X PATCH \"https://generativelanguage.googleapis.com/v1beta/$(cat cache_name.txt)?key=$GOOGLE_API_KEY\" \\\n",
        " -H 'Content-Type: application/json' \\\n",
        " -d '{\"ttl\": \"300s\"}'"
      ]
    },
    {
      "cell_type": "markdown",
      "metadata": {
        "id": "fWZ0LjcT6tek"
      },
      "source": [
        "## Deleting cached content\n",
        "\n",
        "The cache has a small recurring storage cost (cf. [pricing](https://ai.google.dev/pricing)) so by default it is only saved for an hour. In this case you even set it up for a shorter amont of time (using `\"ttl\"`) of 10mn.\n",
        "\n",
        "Still, if you don't need you cache anymore, it is good practice to delete it proactively."
      ]
    },
    {
      "cell_type": "code",
      "execution_count": 63,
      "metadata": {
        "id": "5xc5G8Qa6shD"
      },
      "outputs": [
        {
          "name": "stdout",
          "output_type": "stream",
          "text": [
            "{}\n"
          ]
        }
      ],
      "source": [
        "!curl -X DELETE \"https://generativelanguage.googleapis.com/v1beta/$(cat cache_name.txt)?key=$GOOGLE_API_KEY\""
      ]
    },
    {
      "cell_type": "markdown",
      "metadata": {
        "id": "pCS37WdchZiZ"
      },
      "source": [
        "## Next Steps\n",
        "### Useful API references:\n",
        "\n",
        "If you want to know more about the caching REST APIs, you can check the full [API specifications](https://ai.google.dev/api/rest/v1beta/cachedContents) and the [caching documentation](https://ai.google.dev/gemini-api/docs/caching).\n",
        "\n",
        "### Continue your discovery of the Gemini API\n",
        "\n",
        "Check the File API notebook to know more about that API. The [vision capabilities](../../quickstarts/rest/Video_REST.ipynb) of the Gemini API are a good reason to use the File API and the caching. \n",
        "The Gemini API also has configurable [safety settings](../../quickstarts/rest/Safety_REST.ipynb) that you might have to customize when dealing with big files.\n"
      ]
    }
  ],
  "metadata": {
    "colab": {
      "name": "Caching_REST.ipynb",
      "toc_visible": true
    },
    "kernelspec": {
      "display_name": "Python 3",
      "name": "python3"
    }
  },
  "nbformat": 4,
  "nbformat_minor": 0
}
