{
  "cells": [
    {
      "cell_type": "markdown",
      "metadata": {
        "id": "Tce3stUlHN0L"
      },
      "source": [
        "##### Copyright 2024 Google LLC."
      ]
    },
    {
      "cell_type": "code",
      "execution_count": 1,
      "metadata": {
        "cellView": "form",
        "id": "tuOe1ymfHZPu"
      },
      "outputs": [],
      "source": [
        "# @title Licensed under the Apache License, Version 2.0 (the \"License\");\n",
        "# you may not use this file except in compliance with the License.\n",
        "# You may obtain a copy of the License at\n",
        "#\n",
        "# https://www.apache.org/licenses/LICENSE-2.0\n",
        "#\n",
        "# Unless required by applicable law or agreed to in writing, software\n",
        "# distributed under the License is distributed on an \"AS IS\" BASIS,\n",
        "# WITHOUT WARRANTIES OR CONDITIONS OF ANY KIND, either express or implied.\n",
        "# See the License for the specific language governing permissions and\n",
        "# limitations under the License."
      ]
    },
    {
      "cell_type": "markdown",
      "metadata": {
        "id": "4BkXaeuqGFzD"
      },
      "source": [
        "# Code Execution in the Gemini API\n",
        "\n",
        "<table align=\"left\">\n",
        "  <td>\n",
        "    <a target=\"_blank\" href=\"https://colab.research.google.com/github/google-gemini/cookbook/blob/main/quickstarts/Code_Execution.ipynb\"><img src=\"https://github.com/google-gemini/cookbook/blob/main/images/colab_logo_32px.png?raw=1\" />Run in Google Colab</a>\n",
        "  </td>\n",
        "</table>\n"
      ]
    },
    {
      "cell_type": "markdown",
      "metadata": {
        "id": "CDhVGsAHhwG5"
      },
      "source": [
        "The Gemini API [code execution](https://ai.google.dev/gemini-api/docs/code-execution) feature enables the model to generate and run Python code based on plain-text instructions that you give it. It can learn iteratively from the results until it arrives at a final output.\n",
        "\n",
        "This notebook is a walk through of how to use this feature."
      ]
    },
    {
      "cell_type": "markdown",
      "metadata": {
        "id": "kQoJWW8lM48-"
      },
      "source": [
        "### Set up"
      ]
    },
    {
      "cell_type": "code",
      "execution_count": 2,
      "metadata": {
        "id": "6rshwediCXto"
      },
      "outputs": [],
      "source": [
        "!pip install -U -q google-genai"
      ]
    },
    {
      "cell_type": "code",
      "execution_count": 3,
      "metadata": {
        "id": "OsxWu_BI50Ex"
      },
      "outputs": [
        {
          "data": {
            "application/vnd.google.colaboratory.intrinsic+json": {
              "type": "string"
            },
            "text/plain": [
              "'1.1.0'"
            ]
          },
          "execution_count": 3,
          "metadata": {},
          "output_type": "execute_result"
        }
      ],
      "source": [
        "from google import genai\n",
        "genai.__version__"
      ]
    },
    {
      "cell_type": "markdown",
      "metadata": {
        "id": "b276ccf016b9"
      },
      "source": [
        "To run the following cell, your API key must be stored it in a Colab Secret named `GOOGLE_API_KEY`. If you don't already have an API key, or you're not sure how to create a Colab Secret, see the [Authentication](https://github.com/google-gemini/cookbook/blob/main/quickstarts/Authentication.ipynb) quickstart for an example."
      ]
    },
    {
      "cell_type": "code",
      "execution_count": 4,
      "metadata": {
        "id": "itMjtruv7QqE"
      },
      "outputs": [],
      "source": [
        "from google.colab import userdata\n",
        "\n",
        "GOOGLE_API_KEY = userdata.get('GOOGLE_API_KEY')"
      ]
    },
    {
      "cell_type": "markdown",
      "metadata": {
        "id": "9fG0Ef7WkrCc"
      },
      "source": [
        "### Enable code execution on the model\n",
        "\n",
        "You can enable code execution on the model, as shown here:"
      ]
    },
    {
      "cell_type": "code",
      "execution_count": 5,
      "metadata": {
        "id": "eUxyqIPfqD_g"
      },
      "outputs": [],
      "source": [
        "from google.genai import types\n",
        "\n",
        "client = genai.Client(api_key=GOOGLE_API_KEY)\n",
        "\n",
        "response = client.models.generate_content(\n",
        "  model='gemini-2.0-flash',\n",
        "  contents='What is the sum of the first 50 prime numbers? '\n",
        "           'Generate and run code for the calculation, and make sure you get all 50.',\n",
        "  config=types.GenerateContentConfig(\n",
        "    tools=[types.Tool(\n",
        "      code_execution=types.ToolCodeExecution()\n",
        "    )]\n",
        "  )\n",
        ")"
      ]
    },
    {
      "cell_type": "markdown",
      "metadata": {
        "id": "8uJ-Fk1I_AH8"
      },
      "source": [
        "The model returns a list of parts including `text`, `executable_code`, `code_execution_result`, and `inline_data`. Exactly one field within a Part is set, the rest is `None`. Let's look at all possible fields of one part:"
      ]
    },
    {
      "cell_type": "code",
      "execution_count": 6,
      "metadata": {
        "id": "v5XSbM4ZlERH"
      },
      "outputs": [
        {
          "name": "stdout",
          "output_type": "stream",
          "text": [
            "[Part(video_metadata=None, thought=None, code_execution_result=None, executable_code=None, file_data=None, function_call=None, function_response=None, inline_data=None, text=\"Okay, I understand. I need to find the first 50 prime numbers and then calculate their sum. Here's my plan:\\n\\n1.  **Generate Prime Numbers:** I'll create a function to generate prime numbers.  I'll start checking numbers from 2 onwards. A number is prime if it's only divisible by 1 and itself.\\n2.  **Store Primes:**  I'll store the prime numbers I find in a list until I have 50 of them.\\n3.  **Calculate the Sum:** Once I have the first 50 prime numbers, I'll calculate their sum.\\n4.  **Report:** Finally, I'll report the list of the first 50 primes and their sum.\\n\\nHere's the Python code:\\n\\n\"), Part(video_metadata=None, thought=None, code_execution_result=None, executable_code=ExecutableCode(code=\"def is_prime(n):\\n    if n <= 1:\\n        return False\\n    if n <= 3:\\n        return True\\n    if n % 2 == 0 or n % 3 == 0:\\n        return False\\n    i = 5\\n    while i * i <= n:\\n        if n % i == 0 or n % (i + 2) == 0:\\n            return False\\n        i = i + 6\\n    return True\\n\\nprimes = []\\nnum = 2\\nwhile len(primes) < 50:\\n    if is_prime(num):\\n        primes.append(num)\\n    num += 1\\n\\nsum_of_primes = sum(primes)\\n\\nprint(f'{primes=}')\\nprint(f'{sum_of_primes=}')\\n\", language=<Language.PYTHON: 'PYTHON'>), file_data=None, function_call=None, function_response=None, inline_data=None, text=None), Part(video_metadata=None, thought=None, code_execution_result=CodeExecutionResult(outcome=<Outcome.OUTCOME_OK: 'OUTCOME_OK'>, output='primes=[2, 3, 5, 7, 11, 13, 17, 19, 23, 29, 31, 37, 41, 43, 47, 53, 59, 61, 67, 71, 73, 79, 83, 89, 97, 101, 103, 107, 109, 113, 127, 131, 137, 139, 149, 151, 157, 163, 167, 173, 179, 181, 191, 193, 197, 199, 211, 223, 227, 229]\\nsum_of_primes=5117\\n'), executable_code=None, file_data=None, function_call=None, function_response=None, inline_data=None, text=None), Part(video_metadata=None, thought=None, code_execution_result=None, executable_code=None, file_data=None, function_call=None, function_response=None, inline_data=None, text='The first 50 prime numbers are: \\\\[2, 3, 5, 7, 11, 13, 17, 19, 23, 29, 31, 37, 41, 43, 47, 53, 59, 61, 67, 71, 73, 79, 83, 89, 97, 101, 103, 107, 109, 113, 127, 131, 137, 139, 149, 151, 157, 163, 167, 173, 179, 181, 191, 193, 197, 199, 211, 223, 227, 229]\\n\\nTheir sum is 5117.\\n')]\n"
          ]
        }
      ],
      "source": [
        "print(response.candidates[0].content.parts)"
      ]
    },
    {
      "cell_type": "markdown",
      "metadata": {
        "id": "XepKnqKwlInP"
      },
      "source": [
        "To print the full response, you can iterate over all fields and print the ones that are set:"
      ]
    },
    {
      "cell_type": "code",
      "execution_count": 7,
      "metadata": {
        "id": "JtL3wwKJA0Jf"
      },
      "outputs": [
        {
          "name": "stdout",
          "output_type": "stream",
          "text": [
            "Okay, I understand. I need to find the first 50 prime numbers and then calculate their sum. Here's my plan:\n",
            "\n",
            "1.  **Generate Prime Numbers:** I'll create a function to generate prime numbers.  I'll start checking numbers from 2 onwards. A number is prime if it's only divisible by 1 and itself.\n",
            "2.  **Store Primes:**  I'll store the prime numbers I find in a list until I have 50 of them.\n",
            "3.  **Calculate the Sum:** Once I have the first 50 prime numbers, I'll calculate their sum.\n",
            "4.  **Report:** Finally, I'll report the list of the first 50 primes and their sum.\n",
            "\n",
            "Here's the Python code:\n",
            "\n",
            "\n",
            "code=\"def is_prime(n):\\n    if n <= 1:\\n        return False\\n    if n <= 3:\\n        return True\\n    if n % 2 == 0 or n % 3 == 0:\\n        return False\\n    i = 5\\n    while i * i <= n:\\n        if n % i == 0 or n % (i + 2) == 0:\\n            return False\\n        i = i + 6\\n    return True\\n\\nprimes = []\\nnum = 2\\nwhile len(primes) < 50:\\n    if is_prime(num):\\n        primes.append(num)\\n    num += 1\\n\\nsum_of_primes = sum(primes)\\n\\nprint(f'{primes=}')\\nprint(f'{sum_of_primes=}')\\n\" language=<Language.PYTHON: 'PYTHON'>\n",
            "outcome=<Outcome.OUTCOME_OK: 'OUTCOME_OK'> output='primes=[2, 3, 5, 7, 11, 13, 17, 19, 23, 29, 31, 37, 41, 43, 47, 53, 59, 61, 67, 71, 73, 79, 83, 89, 97, 101, 103, 107, 109, 113, 127, 131, 137, 139, 149, 151, 157, 163, 167, 173, 179, 181, 191, 193, 197, 199, 211, 223, 227, 229]\\nsum_of_primes=5117\\n'\n",
            "The first 50 prime numbers are: \\[2, 3, 5, 7, 11, 13, 17, 19, 23, 29, 31, 37, 41, 43, 47, 53, 59, 61, 67, 71, 73, 79, 83, 89, 97, 101, 103, 107, 109, 113, 127, 131, 137, 139, 149, 151, 157, 163, 167, 173, 179, 181, 191, 193, 197, 199, 211, 223, 227, 229]\n",
            "\n",
            "Their sum is 5117.\n",
            "\n"
          ]
        }
      ],
      "source": [
        "for part in response.candidates[0].content.parts:\n",
        "  if part.text:\n",
        "    print(part.text)\n",
        "  if part.executable_code:\n",
        "    print(part.executable_code)\n",
        "  if part.code_execution_result:\n",
        "    print(part.code_execution_result)\n",
        "  if part.inline_data:\n",
        "    print(part.inline_data)"
      ]
    },
    {
      "cell_type": "markdown",
      "metadata": {
        "id": "hxfUg10DOxgE"
      },
      "source": [
        "In a notebook you can display everything in Markdown format with this helper function:"
      ]
    },
    {
      "cell_type": "code",
      "execution_count": 8,
      "metadata": {
        "id": "N-c7VXWoEFQB"
      },
      "outputs": [
        {
          "data": {
            "text/markdown": "Okay, I understand. I need to find the first 50 prime numbers and then calculate their sum. Here's my plan:\n\n1.  **Generate Prime Numbers:** I'll create a function to generate prime numbers.  I'll start checking numbers from 2 onwards. A number is prime if it's only divisible by 1 and itself.\n2.  **Store Primes:**  I'll store the prime numbers I find in a list until I have 50 of them.\n3.  **Calculate the Sum:** Once I have the first 50 prime numbers, I'll calculate their sum.\n4.  **Report:** Finally, I'll report the list of the first 50 primes and their sum.\n\nHere's the Python code:\n\n",
            "text/plain": [
              "<IPython.core.display.Markdown object>"
            ]
          },
          "metadata": {},
          "output_type": "display_data"
        },
        {
          "data": {
            "text/markdown": "---",
            "text/plain": [
              "<IPython.core.display.Markdown object>"
            ]
          },
          "metadata": {},
          "output_type": "display_data"
        },
        {
          "data": {
            "text/html": [
              "<pre style=\"background-color: #BBBBEE; color: black;\">def is_prime(n):\n",
              "    if n <= 1:\n",
              "        return False\n",
              "    if n <= 3:\n",
              "        return True\n",
              "    if n % 2 == 0 or n % 3 == 0:\n",
              "        return False\n",
              "    i = 5\n",
              "    while i * i <= n:\n",
              "        if n % i == 0 or n % (i + 2) == 0:\n",
              "            return False\n",
              "        i = i + 6\n",
              "    return True\n",
              "\n",
              "primes = []\n",
              "num = 2\n",
              "while len(primes) < 50:\n",
              "    if is_prime(num):\n",
              "        primes.append(num)\n",
              "    num += 1\n",
              "\n",
              "sum_of_primes = sum(primes)\n",
              "\n",
              "print(f'{primes=}')\n",
              "print(f'{sum_of_primes=}')\n",
              "</pre>"
            ],
            "text/plain": [
              "<IPython.core.display.HTML object>"
            ]
          },
          "metadata": {},
          "output_type": "display_data"
        },
        {
          "data": {
            "text/markdown": "---",
            "text/plain": [
              "<IPython.core.display.Markdown object>"
            ]
          },
          "metadata": {},
          "output_type": "display_data"
        },
        {
          "data": {
            "text/markdown": "primes=[2, 3, 5, 7, 11, 13, 17, 19, 23, 29, 31, 37, 41, 43, 47, 53, 59, 61, 67, 71, 73, 79, 83, 89, 97, 101, 103, 107, 109, 113, 127, 131, 137, 139, 149, 151, 157, 163, 167, 173, 179, 181, 191, 193, 197, 199, 211, 223, 227, 229]\nsum_of_primes=5117\n",
            "text/plain": [
              "<IPython.core.display.Markdown object>"
            ]
          },
          "metadata": {},
          "output_type": "display_data"
        },
        {
          "data": {
            "text/markdown": "---",
            "text/plain": [
              "<IPython.core.display.Markdown object>"
            ]
          },
          "metadata": {},
          "output_type": "display_data"
        },
        {
          "data": {
            "text/markdown": "The first 50 prime numbers are: \\[2, 3, 5, 7, 11, 13, 17, 19, 23, 29, 31, 37, 41, 43, 47, 53, 59, 61, 67, 71, 73, 79, 83, 89, 97, 101, 103, 107, 109, 113, 127, 131, 137, 139, 149, 151, 157, 163, 167, 173, 179, 181, 191, 193, 197, 199, 211, 223, 227, 229]\n\nTheir sum is 5117.\n",
            "text/plain": [
              "<IPython.core.display.Markdown object>"
            ]
          },
          "metadata": {},
          "output_type": "display_data"
        },
        {
          "data": {
            "text/markdown": "---",
            "text/plain": [
              "<IPython.core.display.Markdown object>"
            ]
          },
          "metadata": {},
          "output_type": "display_data"
        }
      ],
      "source": [
        "from IPython.display import HTML, Markdown\n",
        "\n",
        "def display_code_execution_result(response):\n",
        "  for part in response.candidates[0].content.parts:\n",
        "    if part.text is not None:\n",
        "      display(Markdown(part.text))\n",
        "    if part.executable_code is not None:\n",
        "      code_html = f'<pre style=\"background-color: #BBBBEE; color: black;\">{part.executable_code.code}</pre>'\n",
        "      display(HTML(code_html))\n",
        "    if part.code_execution_result is not None:\n",
        "      display(Markdown(part.code_execution_result.output))\n",
        "    if part.inline_data is not None:\n",
        "      display(Image(data=part.inline_data.data, format=\"png\"))\n",
        "    display(Markdown(\"---\"))\n",
        "\n",
        "display_code_execution_result(response)"
      ]
    },
    {
      "cell_type": "markdown",
      "metadata": {
        "id": "4QTF9Lk6Ds-b"
      },
      "source": [
        "## Chat\n",
        "\n",
        "It works the same when using a `chat`:"
      ]
    },
    {
      "cell_type": "code",
      "execution_count": 17,
      "metadata": {
        "id": "_19QkCnQEZSu"
      },
      "outputs": [],
      "source": [
        "chat = client.chats.create(\n",
        "    model='gemini-2.0-flash',\n",
        "    config=types.GenerateContentConfig(\n",
        "      tools=[types.Tool(\n",
        "        code_execution=types.ToolCodeExecution()\n",
        "      )]\n",
        "    )\n",
        ")"
      ]
    },
    {
      "cell_type": "code",
      "execution_count": 18,
      "metadata": {
        "id": "grp6UeZlf28I"
      },
      "outputs": [
        {
          "data": {
            "text/markdown": "I understand that you want me to bogo-sort the list `[2, 34, 1, 65, 4]`. Bogo-sort is a notoriously inefficient sorting algorithm (also known as \"stupid sort\" or \"monkey sort\"). It works by repeatedly shuffling the list until it happens to be sorted. Due to its extremely poor performance, it's impractical for lists of any significant size.\n\nGiven the list `[2, 34, 1, 65, 4]`, which has 5 elements, the average number of shuffles required before the list is sorted is 5! (5 factorial), which is 120. The worst-case scenario is unbounded. Running a bogo-sort for this list is generally not recommended.\n\nHowever, for demonstration purposes, I can run a simplified version for a *very* limited number of iterations, just to show the process. Please be aware that it's highly unlikely to actually sort the list within a reasonable number of shuffles.\n\nI will proceed with a function that shuffles the list and checks if it's sorted. I'll run it for a maximum of 10 iterations.\n\n",
            "text/plain": [
              "<IPython.core.display.Markdown object>"
            ]
          },
          "metadata": {},
          "output_type": "display_data"
        },
        {
          "data": {
            "text/markdown": "---",
            "text/plain": [
              "<IPython.core.display.Markdown object>"
            ]
          },
          "metadata": {},
          "output_type": "display_data"
        },
        {
          "data": {
            "text/html": [
              "<pre style=\"background-color: #BBBBEE; color: black;\">import random\n",
              "\n",
              "def is_sorted(data):\n",
              "    for i in range(len(data) - 1):\n",
              "        if data[i] > data[i+1]:\n",
              "            return False\n",
              "    return True\n",
              "\n",
              "def bogo_sort(data, max_iterations=10):\n",
              "    for i in range(max_iterations):\n",
              "        random.shuffle(data)\n",
              "        print(f\"Iteration {i+1}: {data}\")\n",
              "        if is_sorted(data):\n",
              "            print(\"Sorted!\")\n",
              "            return data\n",
              "    print(\"Not sorted after\", max_iterations, \"iterations.\")\n",
              "    return data\n",
              "\n",
              "data = [2, 34, 1, 65, 4]\n",
              "bogo_sort(data)\n",
              "</pre>"
            ],
            "text/plain": [
              "<IPython.core.display.HTML object>"
            ]
          },
          "metadata": {},
          "output_type": "display_data"
        },
        {
          "data": {
            "text/markdown": "---",
            "text/plain": [
              "<IPython.core.display.Markdown object>"
            ]
          },
          "metadata": {},
          "output_type": "display_data"
        },
        {
          "data": {
            "text/markdown": "Iteration 1: [1, 2, 4, 34, 65]\nSorted!\n",
            "text/plain": [
              "<IPython.core.display.Markdown object>"
            ]
          },
          "metadata": {},
          "output_type": "display_data"
        },
        {
          "data": {
            "text/markdown": "---",
            "text/plain": [
              "<IPython.core.display.Markdown object>"
            ]
          },
          "metadata": {},
          "output_type": "display_data"
        },
        {
          "data": {
            "text/markdown": "The bogo-sort function was executed. In this specific, extremely lucky instance, the list was sorted in the first shuffle. The sorted list is `[1, 2, 4, 34, 65]`. Keep in mind that this is highly unusual, and in most cases, bogo-sort will take significantly more iterations (or, realistically, never finish in any practical amount of time).\n",
            "text/plain": [
              "<IPython.core.display.Markdown object>"
            ]
          },
          "metadata": {},
          "output_type": "display_data"
        },
        {
          "data": {
            "text/markdown": "---",
            "text/plain": [
              "<IPython.core.display.Markdown object>"
            ]
          },
          "metadata": {},
          "output_type": "display_data"
        }
      ],
      "source": [
        "response = chat.send_message(\"Can you run some code to bogo-sort this list of numbers?: [2,34,1,65,4]\")\n",
        "display_code_execution_result(response)"
      ]
    },
    {
      "cell_type": "code",
      "execution_count": 19,
      "metadata": {
        "id": "5cOL0VklfdQO"
      },
      "outputs": [
        {
          "data": {
            "text/markdown": "Okay, I will modify the code to keep track of the number of iterations and report it, even if the list isn't sorted within the specified `max_iterations`.\n",
            "text/plain": [
              "<IPython.core.display.Markdown object>"
            ]
          },
          "metadata": {},
          "output_type": "display_data"
        },
        {
          "data": {
            "text/markdown": "---",
            "text/plain": [
              "<IPython.core.display.Markdown object>"
            ]
          },
          "metadata": {},
          "output_type": "display_data"
        },
        {
          "data": {
            "text/html": [
              "<pre style=\"background-color: #BBBBEE; color: black;\">import random\n",
              "\n",
              "def is_sorted(data):\n",
              "    for i in range(len(data) - 1):\n",
              "        if data[i] > data[i+1]:\n",
              "            return False\n",
              "    return True\n",
              "\n",
              "def bogo_sort(data, max_iterations=1000):\n",
              "    iteration_count = 0\n",
              "    for i in range(max_iterations):\n",
              "        iteration_count += 1\n",
              "        random.shuffle(data)\n",
              "        #print(f\"Iteration {i+1}: {data}\") #Commented to reduce output\n",
              "        if is_sorted(data):\n",
              "            print(\"Sorted!\")\n",
              "            print(\"Number of iterations:\", iteration_count)\n",
              "            return data\n",
              "    print(\"Not sorted after\", max_iterations, \"iterations.\")\n",
              "    print(\"Number of iterations:\", iteration_count)\n",
              "    return data\n",
              "\n",
              "data = [2, 34, 1, 65, 4]\n",
              "bogo_sort(data)\n",
              "</pre>"
            ],
            "text/plain": [
              "<IPython.core.display.HTML object>"
            ]
          },
          "metadata": {},
          "output_type": "display_data"
        },
        {
          "data": {
            "text/markdown": "---",
            "text/plain": [
              "<IPython.core.display.Markdown object>"
            ]
          },
          "metadata": {},
          "output_type": "display_data"
        },
        {
          "data": {
            "text/markdown": "Sorted!\nNumber of iterations: 22\n",
            "text/plain": [
              "<IPython.core.display.Markdown object>"
            ]
          },
          "metadata": {},
          "output_type": "display_data"
        },
        {
          "data": {
            "text/markdown": "---",
            "text/plain": [
              "<IPython.core.display.Markdown object>"
            ]
          },
          "metadata": {},
          "output_type": "display_data"
        },
        {
          "data": {
            "text/markdown": "The code was executed. The list `[2, 34, 1, 65, 4]` was sorted after 22 iterations. The sorted list is implicitly `[1, 2, 4, 34, 65]`. As a reminder, the number of iterations required by bogo-sort can vary widely due to its random nature.",
            "text/plain": [
              "<IPython.core.display.Markdown object>"
            ]
          },
          "metadata": {},
          "output_type": "display_data"
        },
        {
          "data": {
            "text/markdown": "---",
            "text/plain": [
              "<IPython.core.display.Markdown object>"
            ]
          },
          "metadata": {},
          "output_type": "display_data"
        }
      ],
      "source": [
        "response = chat.send_message(\"Modify the code to count the number of iterations. How many iterations does it take?\")\n",
        "display_code_execution_result(response)"
      ]
    },
    {
      "cell_type": "markdown",
      "metadata": {
        "id": "tQXlC1FdEnXH"
      },
      "source": [
        "## Multimedia"
      ]
    },
    {
      "cell_type": "markdown",
      "metadata": {
        "id": "_3PKhsYvF4Hs"
      },
      "source": [
        "You can pass media objects as part of the prompt, the model can look at these objects but it can't use them in the code."
      ]
    },
    {
      "cell_type": "code",
      "execution_count": 12,
      "metadata": {
        "id": "bDg1bDRpAnFR"
      },
      "outputs": [
        {
          "name": "stdout",
          "output_type": "stream",
          "text": [
            "  % Total    % Received % Xferd  Average Speed   Time    Time     Time  Current\n",
            "                                 Dload  Upload   Total   Spent    Left  Speed\n",
            "100 24719  100 24719    0     0  48294      0 --:--:-- --:--:-- --:--:-- 48279\n"
          ]
        }
      ],
      "source": [
        "! curl -o montey_hall.png https://upload.wikimedia.org/wikipedia/commons/thumb/3/3f/Monty_open_door.svg/640px-Monty_open_door.svg.png"
      ]
    },
    {
      "cell_type": "code",
      "execution_count": 13,
      "metadata": {
        "id": "1Uhq7nZPEsvO"
      },
      "outputs": [
        {
          "data": {
            "image/png": "[encoded data removed]",
            "text/plain": [
              "<PIL.PngImagePlugin.PngImageFile image mode=RGBA size=640x356>"
            ]
          },
          "execution_count": 13,
          "metadata": {},
          "output_type": "execute_result"
        }
      ],
      "source": [
        "from PIL import Image\n",
        "montey_hall_image = Image.open(\"montey_hall.png\")\n",
        "montey_hall_image"
      ]
    },
    {
      "cell_type": "code",
      "execution_count": 14,
      "metadata": {
        "id": "2S0WIddTEzUm"
      },
      "outputs": [
        {
          "data": {
            "text/html": [
              "<pre style=\"background-color: #BBBBEE; color: black;\">import random\n",
              "\n",
              "def monty_hall_simulation(num_trials=1000):\n",
              "    \"\"\"\n",
              "    Simulates the Monty Hall problem for a specified number of trials.\n",
              "\n",
              "    Args:\n",
              "        num_trials: The number of times to run the simulation.\n",
              "\n",
              "    Returns:\n",
              "        A tuple containing the win percentages for switching and not switching.\n",
              "    \"\"\"\n",
              "\n",
              "    switch_wins = 0\n",
              "    stay_wins = 0\n",
              "\n",
              "    for _ in range(num_trials):\n",
              "        # Randomly assign the car to a door (0, 1, or 2)\n",
              "        car_door = random.randint(0, 2)\n",
              "\n",
              "        # Player initially chooses a door\n",
              "        player_choice = random.randint(0, 2)\n",
              "\n",
              "        # Monty opens a door that is not the car and not the player's choice\n",
              "        monty_options = [i for i in range(3) if i != car_door and i != player_choice]\n",
              "        monty_opens = random.choice(monty_options)\n",
              "\n",
              "        # Determine the remaining door if the player switches\n",
              "        switch_choice = [i for i in range(3) if i != player_choice and i != monty_opens][0]\n",
              "\n",
              "        # Check if the player wins by staying\n",
              "        if player_choice == car_door:\n",
              "            stay_wins += 1\n",
              "\n",
              "        # Check if the player wins by switching\n",
              "        if switch_choice == car_door:\n",
              "            switch_wins += 1\n",
              "\n",
              "    # Calculate win percentages\n",
              "    switch_win_percentage = (switch_wins / num_trials) * 100\n",
              "    stay_win_percentage = (stay_wins / num_trials) * 100\n",
              "\n",
              "    return switch_win_percentage, stay_win_percentage\n",
              "\n",
              "# Run the simulation\n",
              "switch_win_percentage, stay_win_percentage = monty_hall_simulation()\n",
              "\n",
              "# Print the results\n",
              "print(f\"After 1000 trials:\")\n",
              "print(f\"Switching doors win percentage: {switch_win_percentage:.2f}%\")\n",
              "print(f\"Staying with original door win percentage: {stay_win_percentage:.2f}%\")\n",
              "</pre>"
            ],
            "text/plain": [
              "<IPython.core.display.HTML object>"
            ]
          },
          "metadata": {},
          "output_type": "display_data"
        },
        {
          "data": {
            "text/markdown": "---",
            "text/plain": [
              "<IPython.core.display.Markdown object>"
            ]
          },
          "metadata": {},
          "output_type": "display_data"
        },
        {
          "data": {
            "text/markdown": "After 1000 trials:\nSwitching doors win percentage: 66.10%\nStaying with original door win percentage: 33.90%\n",
            "text/plain": [
              "<IPython.core.display.Markdown object>"
            ]
          },
          "metadata": {},
          "output_type": "display_data"
        },
        {
          "data": {
            "text/markdown": "---",
            "text/plain": [
              "<IPython.core.display.Markdown object>"
            ]
          },
          "metadata": {},
          "output_type": "display_data"
        },
        {
          "data": {
            "text/markdown": "The simulation results show that switching doors wins approximately 66% of the time, while staying with the original door wins approximately 34% of the time. This clearly demonstrates that switching doors is the better strategy in the Monty Hall Problem.\n",
            "text/plain": [
              "<IPython.core.display.Markdown object>"
            ]
          },
          "metadata": {},
          "output_type": "display_data"
        },
        {
          "data": {
            "text/markdown": "---",
            "text/plain": [
              "<IPython.core.display.Markdown object>"
            ]
          },
          "metadata": {},
          "output_type": "display_data"
        }
      ],
      "source": [
        "prompt=\"\"\"\n",
        "Run a simulation of the Monty Hall Problem with 1,000 trials.\n",
        "\n",
        "\n",
        "Here's how this works as a reminder. In the Monty Hall Problem, you're on a game\n",
        "show with three doors. Behind one is a car, and behind the others are goats. You\n",
        "pick a door. The host, who knows what's behind the doors, opens a different door\n",
        "to reveal a goat. Should you switch to the remaining unopened door?\n",
        "\n",
        "\n",
        "The answer has always been a little difficult for me to understand when people\n",
        "solve it with math - so please run a simulation with Python to show me what the\n",
        "best strategy is.\n",
        "\n",
        "\n",
        "Thank you!\n",
        "\"\"\"\n",
        "\n",
        "response = client.models.generate_content(\n",
        "  model='gemini-2.0-flash',\n",
        "  contents=[montey_hall_image, prompt],\n",
        "  config=types.GenerateContentConfig(\n",
        "    tools=[types.Tool(\n",
        "      code_execution=types.ToolCodeExecution()\n",
        "    )]\n",
        "  )\n",
        ")\n",
        "\n",
        "display_code_execution_result(response)"
      ]
    },
    {
      "cell_type": "markdown",
      "metadata": {
        "id": "nFZ3XoCRGnhO"
      },
      "source": [
        "## Streaming"
      ]
    },
    {
      "cell_type": "markdown",
      "metadata": {
        "id": "crv9H7euGuqP"
      },
      "source": [
        "Streaming is compatible with code execution:"
      ]
    },
    {
      "cell_type": "code",
      "execution_count": 15,
      "metadata": {
        "id": "oAMV8aCjiq81"
      },
      "outputs": [
        {
          "name": "stdout",
          "output_type": "stream",
          "text": [
            "code='import random\\n\\ndef monty_hall_simulation(num_trials=1000):\\n    \"\"\"\\n    Simulates the Monty Hall problem to compare the effectiveness of switching\\n    versus staying with the initial door choice.\\n\\n    Args:\\n        num_trials (int): The number of simulations to run.\\n\\n    Returns:\\n        tuple: A tuple containing the win percentages for staying and switching.\\n    \"\"\"\\n\\n    wins_staying = 0\\n    wins_switching = 0\\n\\n    for _ in range(num_trials):\\n        # Randomly assign the car to a door (0, 1, or 2)\\n        winning_door = random.randint(0, 2)\\n\\n        # Player makes an initial choice\\n        player_choice = random.randint(0, 2)\\n\\n        # Monty opens a door that is not the winning door and not the player\\'s choice\\n        monty_can_open = [i for i in range(3) if i != winning_door and i != player_choice]\\n        monty_opens = random.choice(monty_can_open)\\n\\n        # Determine the remaining door for the switching strategy\\n        remaining_door = [i for i in range(3) if i != player_choice and i != monty_opens][0]\\n\\n        # Check if staying wins\\n        if player_choice == winning_door:\\n            wins_staying += 1\\n\\n        # Check if switching wins\\n        if remaining_door == winning_door:\\n            wins_switching += 1\\n\\n    # Calculate win percentages\\n    win_percentage_staying = (wins_staying / num_trials) * 100\\n    win_percentage_switching = (wins_switching / num_trials) * 100\\n\\n    return win_percentage_staying, win_percentage_switching\\n\\n\\n# Run the simulation\\nnum_trials = 1000\\nstay_win_percentage, switch_win_percentage = monty_hall_simulation(num_trials)\\n\\nprint(f\"Monty Hall Simulation Results ({num_trials} trials):\")\\nprint(f\"Win percentage when staying: {stay_win_percentage:.2f}%\")\\nprint(f\"Win percentage when switching: {switch_win_percentage:.2f}%\")\\n' language=<Language.PYTHON: 'PYTHON'>\n",
            "----------------------------------------\n",
            "outcome=<Outcome.OUTCOME_OK: 'OUTCOME_OK'> output='Monty Hall Simulation Results (1000 trials):\\nWin percentage when staying: 32.40%\\nWin percentage when switching: 67.60%\\n'\n",
            "----------------------------------------\n",
            "The\n",
            "----------------------------------------\n",
            " simulation results clearly show that switching doors significantly increases your chances of winning the car.  \n",
            "----------------------------------------\n",
            "In 1,000 trials, staying with the initial door resulted in a win\n",
            "----------------------------------------\n",
            " approximately 32.4% of the time, while switching doors led to a win approximately 67.6% of the time. This demonstrates that\n",
            "----------------------------------------\n",
            " switching is the better strategy in the Monty Hall problem.\n",
            "\n",
            "----------------------------------------\n"
          ]
        }
      ],
      "source": [
        "for chunk in client.models.generate_content_stream(\n",
        "    model='gemini-2.0-flash',\n",
        "    contents=[montey_hall_image, prompt],\n",
        "    config=types.GenerateContentConfig(\n",
        "      tools=[types.Tool(\n",
        "        code_execution=types.ToolCodeExecution()\n",
        "      )]\n",
        "    )\n",
        "):\n",
        "  for part in chunk.candidates[0].content.parts:\n",
        "    if part.text:\n",
        "      print(part.text)\n",
        "    if part.executable_code:\n",
        "      print(part.executable_code)\n",
        "    if part.code_execution_result:\n",
        "      print(part.code_execution_result)\n",
        "    if part.inline_data:\n",
        "      print(part.inline_data)\n",
        "    print('----------------------------------------')"
      ]
    },
    {
      "cell_type": "markdown",
      "metadata": {
        "id": "1a4c6e717f63"
      },
      "source": [
        "## Next Steps\n",
        "### Useful API references:\n",
        "\n",
        "Check the [Code execution documentation](https://ai.google.dev/gemini-api/docs/code-execution) for more details about the feature.\n",
        "\n",
        "### Continue your discovery of the Gemini API\n",
        "\n",
        "Learn how to control how the Gemini API can call your own functions using the [function calling](../quickstarts/Function_calling.ipynb) feature, or discover how to control the model output in [JSON](../quickstarts/JSON_mode.ipynb) or using an [Enum](../quickstarts/Enum.ipynb)."
      ]
    }
  ],
  "metadata": {
    "colab": {
      "collapsed_sections": [
        "kQoJWW8lM48-"
      ],
      "name": "Code_Execution.ipynb",
      "toc_visible": true
    },
    "kernelspec": {
      "display_name": "Python 3",
      "name": "python3"
    }
  },
  "nbformat": 4,
  "nbformat_minor": 0
}
