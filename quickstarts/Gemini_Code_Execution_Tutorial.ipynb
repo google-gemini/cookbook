{
 "cells": [
  {
   "cell_type": "markdown",
   "id": "ce0078c8-9e94-40d0-95e5-0d9d13261aaa",
   "metadata": {},
   "source": [
    "##### Copyright 2024 Google LLC.\n",
    "\n",
    "```python\n",
    "# @title Licensed under the Apache License, Version 2.0 (the \"License\");\n",
    "# you may not use this file except in compliance with the License.\n",
    "# You may obtain a copy of the License at\n",
    "#\n",
    "# https://www.apache.org/licenses/LICENSE-2.0\n",
    "#\n",
    "# Unless required by applicable law or agreed to in writing, software\n",
    "# distributed under the License is distributed on an \"AS IS\" BASIS,\n",
    "# WITHOUT WARRANTIES OR CONDITIONS OF ANY KIND, either express or implied.\n",
    "# See the License for the specific language governing permissions and\n",
    "# limitations under the License.\n"
   ]
  },
  {
   "cell_type": "markdown",
   "id": "8690fcf5-6540-4254-900b-c62f4cbceaa3",
   "metadata": {},
   "source": [
    "# Gemini API: Code Generation Quickstart\n",
    "\n",
    "<table align=\"left\">\n",
    "  <td>\n",
    "    <a target=\"_blank\" href=\"https://colab.research.google.com/github/google-gemini/cookbook/blob/main/quickstarts/Code_Generation.ipynb\">\n",
    "      <img src=\"https://github.com/google-gemini/cookbook/blob/main/images/colab_logo_32px.png?raw=1\" />Run in Google Colab\n",
    "    </a>\n",
    "  </td>\n",
    "</table>  \n",
    "\n",
    "<br clear=\"left\"/>\n",
    "\n",
    "---\n",
    "\n",
    "This notebook provides an example of how to use the **Gemini API for code generation**.  \n",
    "You will generate and execute Python code snippets using Gemini models."
   ]
  },
  {
   "cell_type": "code",
   "execution_count": null,
   "id": "6d312326-ed69-4878-aac3-54d8f6d8cb1a",
   "metadata": {},
   "outputs": [],
   "source": [
    "# Install dependencies\n",
    "%pip install google-generativeai "
   ]
  },
  {
   "cell_type": "code",
   "execution_count": 1,
   "id": "aeaa2363-c7e9-4bb0-a3fc-e30e1833628d",
   "metadata": {},
   "outputs": [],
   "source": [
    "# Import libraries\n",
    "import google.generativeai as genai"
   ]
  },
  {
   "cell_type": "code",
   "execution_count": null,
   "id": "9c6fd38d-d5b2-4cde-ad57-c950dbdc1f78",
   "metadata": {},
   "outputs": [],
   "source": [
    "# Configure API Key\n",
    "GOOGLE_API_KEY = \"your_api_key\" \n",
    "genai.configure(api_key=GOOGLE_API_KEY)"
   ]
  },
  {
   "cell_type": "code",
   "execution_count": null,
   "id": "0e1a4b30-b941-4e97-84d8-5157b8aee457",
   "metadata": {},
   "outputs": [],
   "source": [
    "# Function to execute Python code\n",
    "def execute_code(prompt: str) -> str:\n",
    "    model = genai.GenerativeModel(\"gemini-1.5-pro\")\n",
    "\n",
    "    response = model.generate_content(\n",
    "        contents=[{\n",
    "            \"parts\": [\n",
    "                {\"text\": \"Execute the following Python code and provide the output.\"},\n",
    "                {\"text\": prompt}\n",
    "            ]\n",
    "        }]\n",
    "    )\n",
    "\n",
    "    return response.text if response else \"Execution failed.\"\n",
    "\n",
    "code_snippet = \"\"\"Execute the following Python code and provide the output:  \n",
    "a, b = 0, 1  \n",
    "for _ in range(8):  \n",
    "    print(a, end=' ')  \n",
    "    a, b = b, a + b  \n",
    "\"\"\"\n",
    "execution_result = execute_code(code_snippet)\n",
    "\n",
    "print(\"Output:\", execution_result)\n"
   ]
  },
  {
   "cell_type": "markdown",
   "id": "aa949eda-ca5c-4a42-8952-159ece6d22b4",
   "metadata": {},
   "source": [
    "Output: ```\n",
    "0 1 1 2 3 5 8 13 \n",
    "```"
   ]
  }
 ],
 "metadata": {
  "kernelspec": {
   "display_name": "Python (gemini-code-execution)",
   "language": "python",
   "name": "gemini-code-execution"
  },
  "language_info": {
   "codemirror_mode": {
    "name": "ipython",
    "version": 3
   },
   "file_extension": ".py",
   "mimetype": "text/x-python",
   "name": "python",
   "nbconvert_exporter": "python",
   "pygments_lexer": "ipython3",
   "version": "3.10.16"
  }
 },
 "nbformat": 4,
 "nbformat_minor": 5
}
