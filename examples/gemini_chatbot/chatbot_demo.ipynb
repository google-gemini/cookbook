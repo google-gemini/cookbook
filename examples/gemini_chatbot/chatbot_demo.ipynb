{
 "cells": [
  {
   "cell_type": "markdown",
   "id": "d63fc928",
   "metadata": {},
   "source": [
    "# 🤖 Gemini Chatbot Demo - Jupyter Notebook\n",
    "\n",
    "This notebook demonstrates a basic chatbot built using the Gemini API and Streamlit."
   ]
  },
  {
   "cell_type": "markdown",
   "id": "6770f4da",
   "metadata": {},
   "source": [
    "## 📦 Setup & Installation"
   ]
  },
  {
   "cell_type": "markdown",
   "id": "d1eeea44",
   "metadata": {
    "vscode": {
     "languageId": "shellscript"
    }
   },
   "source": [
    "# Clone this directory and navigate into it\n",
    "git clone https://github.com/MaryamZahiri/cookbook.git\n",
    "cd examples/gemini-chatbot\n",
    "\n",
    "# Install dependencies\n",
    "pip install python-dotenv\n",
    "# Optional: Set up virtual environment\n",
    "python -m venv venv\n",
    "source venv/bin/activate  # For Windows: .\\venv\\Scripts\\activate\n",
    "\n",
    "# Install dependencies\n",
    "pip install --upgrade pip\n",
    "pip install streamlit google-generativeai python-dotenv"
   ]
  },
  {
   "cell_type": "markdown",
   "id": "27903d6e",
   "metadata": {},
   "source": [
    "### 🔐 .env file format:"
   ]
  },
  {
   "cell_type": "markdown",
   "id": "7568e30c",
   "metadata": {},
   "source": [
    "Get a Gemini API key in Google AI Studio\n",
    "Create a file named `.env` and paste:\n",
    "```\n",
    "GEMINI_API_KEY=your_api_key_here\n",
    "```"
   ]
  },
  {
   "cell_type": "markdown",
   "id": "440b779b",
   "metadata": {},
   "source": [
    "## 🧪 Check Available Models"
   ]
  },
  {
   "cell_type": "code",
   "execution_count": null,
   "id": "96a251cc",
   "metadata": {},
   "outputs": [],
   "source": [
    "import google.generativeai as genai\n",
    "import os\n",
    "from dotenv import load_dotenv\n",
    "\n",
    "API_KEY = os.getenv('GEMINI_API_KEY')   \n",
    "class CheckModels:\n",
    "    def __init__(self):\n",
    "        load_dotenv()\n",
    "        genai.configure(api_key = API_KEY)\n",
    "\n",
    "    def validModels(self):\n",
    "        models = genai.list_models()\n",
    "        print([m.name for m in models])\n",
    "\n",
    "if __name__ == \"__main__\":\n",
    "    models = CheckModels()\n",
    "    models.validModels()"
   ]
  },
  {
   "cell_type": "markdown",
   "id": "423c3fa9",
   "metadata": {},
   "source": [
    "## 📘 Chatbot App"
   ]
  },
  {
   "cell_type": "code",
   "execution_count": null,
   "id": "3ac9f6ca",
   "metadata": {},
   "outputs": [],
   "source": [
    "import streamlit as st\n",
    "import google.generativeai as genai\n",
    "import os\n",
    "from dotenv import load_dotenv\n",
    "\n",
    "class GeminiChatbot:\n",
    "    def __init__(self):\n",
    "        self.API_KEY = os.getenv(\"GEMINI_API_KEY\")\n",
    "        load_dotenv()\n",
    "        # Set up Gemini API\n",
    "        genai.configure(api_key=self.API_KEY)\n",
    "\n",
    "    def app(self):\n",
    "        model = genai.GenerativeModel(model_name=\"models/gemini-1.5-pro-latest\")\n",
    "\n",
    "        st.title(\"🤖 Gemini Chatbot\")\n",
    "\n",
    "        user_input = st.text_input(\"Ask me anything...\")\n",
    "\n",
    "        if user_input:\n",
    "            with st.spinner(\"Thinking...\"):\n",
    "                response = model.generate_content(user_input)\n",
    "                st.success(response.text)\n",
    "\n",
    "if __name__ == \"__main__\":\n",
    "    chatbot = GeminiChatbot()\n",
    "    chatbot.app()\n",
    "# streamlit run app.py --server.port 8501 --server.address"
   ]
  },
  {
   "cell_type": "markdown",
   "id": "16381799",
   "metadata": {},
   "source": [
    "## ✅ Run the App"
   ]
  },
  {
   "cell_type": "markdown",
   "id": "1394d76b",
   "metadata": {},
   "source": [
    "```bash\n",
    "streamlit run app.py\n",
    "```"
   ]
  },
  {
   "cell_type": "markdown",
   "id": "47d8f813",
   "metadata": {},
   "source": [
    "## 📚 Reference\n",
    "- [Google Gemini API Quickstart](https://ai.google.dev/gemini-api/docs/quickstart?lang=python)"
   ]
  }
 ],
 "metadata": {
  "language_info": {
   "name": "python"
  }
 },
 "nbformat": 4,
 "nbformat_minor": 5
}
