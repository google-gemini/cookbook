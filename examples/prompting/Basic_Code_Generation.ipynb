{
  "cells": [
    {
      "cell_type": "markdown",
      "metadata": {
        "id": "LweKUTqZUn4z"
      },
      "source": [
        "##### Copyright 2025 Google LLC."
      ]
    },
    {
      "cell_type": "code",
      "execution_count": null,
      "metadata": {
        "cellView": "form",
        "id": "vQoUR__bUlfj"
      },
      "outputs": [],
      "source": [
        "# @title Licensed under the Apache License, Version 2.0 (the \"License\");\n",
        "# you may not use this file except in compliance with the License.\n",
        "# You may obtain a copy of the License at\n",
        "#\n",
        "# https://www.apache.org/licenses/LICENSE-2.0\n",
        "#\n",
        "# Unless required by applicable law or agreed to in writing, software\n",
        "# distributed under the License is distributed on an \"AS IS\" BASIS,\n",
        "# WITHOUT WARRANTIES OR CONDITIONS OF ANY KIND, either express or implied.\n",
        "# See the License for the specific language governing permissions and\n",
        "# limitations under the License."
      ]
    },
    {
      "cell_type": "markdown",
      "metadata": {
        "id": "sP8PQnz1QrcF"
      },
      "source": [
        "# Gemini API: Basic code generation\n",
        "\n",
        "This notebook demonstrates how to use prompting to perform basic code generation using the Gemini API's Python SDK. Two use cases are explored: error handling and code generation."
      ]
    },
    {
      "cell_type": "markdown",
      "metadata": {
        "id": "bxGr_x3MRA0z"
      },
      "source": [
        "<a target=\"_blank\" href=\"https://colab.research.google.com/github/google-gemini/cookbook/blob/main/examples/prompting/Basic_Code_Generation.ipynb\"><img src=\"https://colab.research.google.com/assets/colab-badge.svg\" height=30/>"
      ]
    },
    {
      "cell_type": "markdown",
      "metadata": {
        "id": "ysy--KfNRrCq"
      },
      "source": [
        "The Gemini API can be a great tool to save you time during the development process. Tasks such as code generation, debugging, or optimization can be done with the assistance of the Gemini model."
      ]
    },
    {
      "cell_type": "code",
      "execution_count": null,
      "metadata": {
        "id": "Ne-3gnXqR0hI"
      },
      "outputs": [],
      "source": [
        "%pip install -U -q \"google-genai>=1.0.0\""
      ]
    },
    {
      "cell_type": "markdown",
      "metadata": {
        "id": "eomJzCa6lb90"
      },
      "source": [
        "## Configure your API key\n",
        "\n",
        "To run the following cell, your API key must be stored it in a Colab Secret named `GOOGLE_API_KEY`. If you don't already have an API key, or you're not sure how to create a Colab Secret, see [Authentication](https://github.com/google-gemini/cookbook/blob/main/quickstarts/Authentication.ipynb) for an example."
      ]
    },
    {
      "cell_type": "code",
      "execution_count": null,
      "metadata": {
        "id": "v-JZzORUpVR2"
      },
      "outputs": [],
      "source": [
        "from google import genai\n",
        "from google.colab import userdata\n",
        "\n",
        "GOOGLE_API_KEY=userdata.get('GOOGLE_API_KEY')\n",
        "client = genai.Client(api_key=GOOGLE_API_KEY)"
      ]
    },
    {
      "cell_type": "markdown",
      "metadata": {
        "id": "UsKJpRiFzrfu"
      },
      "source": [
        "Additionally, select the model you want to use from the available options below:\n"
      ]
    },
    {
      "cell_type": "code",
      "execution_count": null,
      "metadata": {
        "id": "rpsJhVPezrKs"
      },
      "outputs": [],
      "source": [
        "MODEL_ID = \"gemini-2.0-flash\"  # @param [\"gemini-2.0-flash-lite\", \"gemini-2.0-flash\", \"gemini-2.0-pro-exp-02-05\"] {\"allow-input\": true, \"isTemplate\": true}"
      ]
    },
    {
      "cell_type": "markdown",
      "metadata": {
        "id": "yQnqEPjephXi"
      },
      "source": [
        "## Examples"
      ]
    },
    {
      "cell_type": "markdown",
      "metadata": {
        "id": "bR-OOcC6pIm5"
      },
      "source": [
        "### Error handling"
      ]
    },
    {
      "cell_type": "markdown",
      "metadata": {
        "id": "l4ywOwlb54vw"
      },
      "source": [
        "For code generation, you should prioritize accuracy over creativity.\n",
        "A temperature of 0 ensures that the generated content is deterministic,\n",
        "producing the most sensible output every time."
      ]
    },
    {
      "cell_type": "code",
      "execution_count": null,
      "metadata": {
        "id": "kVF8ZQ38Vs1P"
      },
      "outputs": [],
      "source": [
        "from google.genai import types\n",
        "\n",
        "error_handling_system_prompt =f\"\"\"\n",
        "  Your task is to explain exactly why this error occurred and how to fix it.\n",
        "\"\"\"\n",
        "\n",
        "error_handling_model_config = types.GenerateContentConfig(\n",
        "    temperature=0,\n",
        "    system_instruction=error_handling_system_prompt\n",
        ")"
      ]
    },
    {
      "cell_type": "code",
      "execution_count": null,
      "metadata": {
        "id": "CHTdAVE0pIFf"
      },
      "outputs": [
        {
          "data": {
            "text/markdown": "Okay, let's break down this error and how to resolve it.\n\n**Understanding the Error: `IndexError: list index out of range`**\n\nThis error, `IndexError: list index out of range`, is a very common one in Python (and other programming languages). It means you're trying to access an element in a list (or other sequence-like object) using an index that is *outside* the valid range of indices for that list.\n\n*   **Lists are Zero-Indexed:**  In Python, lists are *zero-indexed*. This means the first element in a list is at index 0, the second element is at index 1, the third at index 2, and so on.\n\n*   **Valid Index Range:** For a list of length `n`, the valid indices are from `0` to `n-1`.  Trying to access an element at index `n` or greater (or a negative index that's too far from the end) will raise an `IndexError`.\n\n**Why the Error Occurred in Your Code**\n\nIn your code snippet:\n\n```python\nmy_list = [1, 2, 3]\nprint(my_list[3])\n```\n\n1.  `my_list` is created with three elements: `1`, `2`, and `3`.\n2.  The length of `my_list` is 3.\n3.  Therefore, the valid indices for `my_list` are 0, 1, and 2.\n4.  You're trying to access `my_list[3]`.  Since 3 is *not* a valid index (it's one position beyond the end of the list), Python raises the `IndexError`.\n\n**How to Fix the Error**\n\nTo fix the error, you need to make sure you're only accessing elements within the valid index range of the list.  Here are a few common solutions, depending on what you're trying to achieve:\n\n1.  **Access a Valid Element:** If you intended to access the *last* element of the list, you should use index 2:\n\n    ```python\n    my_list = [1, 2, 3]\n    print(my_list[2])  # Output: 3\n    ```\n\n2.  **Use the Length of the List:**  You can dynamically get the index of the last element using `len(my_list) - 1`:\n\n    ```python\n    my_list = [1, 2, 3]\n    print(my_list[len(my_list) - 1])  # Output: 3\n    ```\n\n3.  **Negative Indexing (If Appropriate):** Python allows negative indexing to access elements from the *end* of the list. `my_list[-1]` is the last element, `my_list[-2]` is the second-to-last, and so on.  However, be careful not to go too far negative (e.g., `my_list[-4]` would also cause an `IndexError` in this case).\n\n    ```python\n    my_list = [1, 2, 3]\n    print(my_list[-1])  # Output: 3\n    ```\n\n4.  **Check the List Length Before Accessing:** If you're not sure if the list has enough elements, you can add a check:\n\n    ```python\n    my_list = [1, 2, 3]\n    index_to_access = 3\n    if index_to_access < len(my_list):\n        print(my_list[index_to_access])\n    else:\n        print(\"Index is out of range.\")\n    ```\n\n5.  **Looping Through the List:** If you want to process all elements in the list, use a `for` loop:\n\n    ```python\n    my_list = [1, 2, 3]\n    for item in my_list:\n        print(item)\n    ```\n    Or, if you need the index as well:\n     ```python\n    my_list = [1, 2, 3]\n    for index, item in enumerate(my_list):\n        print(f\"Element at index {index}: {item}\")\n    ```\n\n**In Summary**\n\nThe `IndexError: list index out of range` error arises when you try to access a list element using an invalid index.  The key is to remember that lists are zero-indexed and to ensure that the index you're using is within the bounds of the list's length.  Choose the appropriate fix based on your intended logic.  Carefully review your code to understand why you're using the specific index that's causing the error.\n",
            "text/plain": [
              "<IPython.core.display.Markdown object>"
            ]
          },
          "execution_count": 6,
          "metadata": {},
          "output_type": "execute_result"
        }
      ],
      "source": [
        "from IPython.display import Markdown\n",
        "\n",
        "error_message = \"\"\"\n",
        "    1 my_list = [1,2,3]\n",
        "  ----> 2 print(my_list[3])\n",
        "\n",
        "  IndexError: list index out of range\n",
        "\"\"\"\n",
        "\n",
        "error_prompt = f\"\"\"\n",
        "  You've encountered the following error message:\n",
        "  Error Message: {error_message}\n",
        "\"\"\"\n",
        "\n",
        "response = client.models.generate_content(\n",
        "    model=MODEL_ID,\n",
        "    contents=error_prompt,\n",
        "    config=error_handling_model_config\n",
        ")\n",
        "\n",
        "Markdown(response.text)"
      ]
    },
    {
      "cell_type": "markdown",
      "metadata": {
        "id": "kTDi8WyDqQRf"
      },
      "source": [
        "### Code generation"
      ]
    },
    {
      "cell_type": "code",
      "execution_count": null,
      "metadata": {
        "id": "1T1QSzjVVvE_"
      },
      "outputs": [],
      "source": [
        "code_generation_system_prompt = f\"\"\"\n",
        "  You are a coding assistant. Your task is to generate a code snippet that\n",
        "  accomplishes a specific goal. The code snippet must be concise, efficient,\n",
        "  and well-commented for clarity. Consider any constraints or requirements\n",
        "  provided for the task.\n",
        "\n",
        "  If the task does not specify a programming language, default to Python.\n",
        "\"\"\"\n",
        "\n",
        "code_generation_model_config = types.GenerateContentConfig(\n",
        "    temperature= 0,\n",
        "    system_instruction=code_generation_system_prompt\n",
        "  )"
      ]
    },
    {
      "cell_type": "code",
      "execution_count": null,
      "metadata": {
        "id": "8KVpzExDqRj2"
      },
      "outputs": [
        {
          "data": {
            "text/markdown": "```python\nimport time\n\ndef countdown(seconds):\n    \"\"\"\n    Counts down from a specified number of seconds, printing the remaining time each second.\n    After the countdown reaches zero, it prints \"Time is up!\".\n\n    Args:\n        seconds (int): The number of seconds to count down from.\n    \"\"\"\n    for i in range(seconds, 0, -1):\n        print(f\"{i} seconds remaining\")\n        time.sleep(1)  # Pause for 1 second\n    print(\"Time is up!\")\n\n# Example usage: Countdown from 20 seconds\ncountdown(20)\n```",
            "text/plain": [
              "<IPython.core.display.Markdown object>"
            ]
          },
          "execution_count": 12,
          "metadata": {},
          "output_type": "execute_result"
        }
      ],
      "source": [
        "code_generation_prompt = \"\"\"\n",
        "  Create a countdown timer that ticks down every second and prints\n",
        "  \"Time is up!\" after 20 seconds\n",
        "\"\"\"\n",
        "\n",
        "response = client.models.generate_content(\n",
        "    model=MODEL_ID,\n",
        "    contents=code_generation_prompt,\n",
        "    config=code_generation_model_config\n",
        ")\n",
        "Markdown(response.text)"
      ]
    },
    {
      "cell_type": "markdown",
      "metadata": {
        "id": "Z7X6pSdOMyvS"
      },
      "source": [
        "Let's check if generated code works."
      ]
    },
    {
      "cell_type": "code",
      "execution_count": null,
      "metadata": {
        "id": "lOU_abTPSmZu"
      },
      "outputs": [
        {
          "name": "stdout",
          "output_type": "stream",
          "text": [
            "20 seconds remaining\n",
            "19 seconds remaining\n",
            "18 seconds remaining\n",
            "17 seconds remaining\n",
            "16 seconds remaining\n",
            "15 seconds remaining\n",
            "14 seconds remaining\n",
            "13 seconds remaining\n",
            "12 seconds remaining\n",
            "11 seconds remaining\n",
            "10 seconds remaining\n",
            "9 seconds remaining\n",
            "8 seconds remaining\n",
            "7 seconds remaining\n",
            "6 seconds remaining\n",
            "5 seconds remaining\n",
            "4 seconds remaining\n",
            "3 seconds remaining\n",
            "2 seconds remaining\n",
            "1 seconds remaining\n",
            "Time is up!\n"
          ]
        }
      ],
      "source": [
        "import time\n",
        "\n",
        "def countdown(seconds):\n",
        "  \"\"\"\n",
        "  Counts down from a specified number of seconds, printing the remaining time each second.\n",
        "  After the countdown reaches zero, it prints \"Time is up!\".\n",
        "\n",
        "  Args:\n",
        "    seconds: The number of seconds to count down from.\n",
        "  \"\"\"\n",
        "  for i in range(seconds, 0, -1):\n",
        "    print(f\"{i} seconds remaining\")\n",
        "    time.sleep(1)  # Pause for 1 second\n",
        "  print(\"Time is up!\")\n",
        "\n",
        "# Example usage: Countdown from 20 seconds\n",
        "countdown(20)"
      ]
    },
    {
      "cell_type": "markdown",
      "metadata": {
        "id": "AiGF8I290YzL"
      },
      "source": [
        "## Next steps\n",
        "\n",
        "Be sure to explore other examples of prompting in the repository. Try writing prompts around your own code as well using the examples in this notebook."
      ]
    }
  ],
  "metadata": {
    "colab": {
      "name": "Basic_Code_Generation.ipynb",
      "toc_visible": true
    },
    "kernelspec": {
      "display_name": "Python 3",
      "name": "python3"
    }
  },
  "nbformat": 4,
  "nbformat_minor": 0
}
