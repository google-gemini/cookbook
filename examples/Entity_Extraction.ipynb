{
 "cells": [
  {
   "cell_type": "markdown",
   "metadata": {},
   "source": [
    "##### Copyright 2025 Google LLC."
   ]
  },
  {
   "cell_type": "code",
   "execution_count": 31,
   "metadata": {},
   "outputs": [],
   "source": [
    "# @title Licensed under the Apache License, Version 2.0 (the \"License\");\n",
    "# you may not use this file except in compliance with the License.\n",
    "# You may obtain a copy of the License at\n",
    "#\n",
    "# https://www.apache.org/licenses/LICENSE-2.0\n",
    "#\n",
    "# Unless required by applicable law or agreed to in writing, software\n",
    "# distributed under the License is distributed on an \"AS IS\" BASIS,\n",
    "# WITHOUT WARRANTIES OR CONDITIONS OF ANY KIND, either express or implied.\n",
    "# See the License for the specific language governing permissions and\n",
    "# limitations under the License."
   ]
  },
  {
   "cell_type": "markdown",
   "metadata": {},
   "source": [
    "# Gemini API: Entity extraction\n",
    "\n",
    "Use Gemini API to speed up some of your tasks, such as searching through text to extract needed information. Entity extraction with a Gemini model is a simple query, and you can ask it to retrieve its answer in the form that you prefer.\n",
    "\n",
    "This notebook shows how to extract entities into a list."
   ]
  },
  {
   "cell_type": "markdown",
   "metadata": {},
   "source": [
    "## Setup"
   ]
  },
  {
   "cell_type": "code",
   "execution_count": null,
   "metadata": {},
   "outputs": [],
   "source": [
    "%pip install -U -q \"google-genai\""
   ]
  },
  {
   "cell_type": "code",
   "execution_count": null,
   "metadata": {},
   "outputs": [],
   "source": [
    "from google import genai\n",
    "from IPython.display import Markdown"
   ]
  },
  {
   "cell_type": "markdown",
   "metadata": {},
   "source": [
    "## Configure your API key\n",
    "\n",
    "To run the following cell, your API key must be stored it in a Colab Secret named `GOOGLE_API_KEY`. If you don't already have an API key, or you're not sure how to create a Colab Secret, see [Authentication](https://github.com/google-gemini/cookbook/blob/main/quickstarts/Authentication.ipynb) for an example."
   ]
  },
  {
   "cell_type": "code",
   "execution_count": null,
   "metadata": {},
   "outputs": [],
   "source": [
    "client = genai.Client(api_key=\"YOUR_API_KEY\")\n"
   ]
  },
  {
   "cell_type": "markdown",
   "metadata": {},
   "source": [
    "# Examples"
   ]
  },
  {
   "cell_type": "markdown",
   "metadata": {},
   "source": [
    "You will use Gemini 2.0 Flash model for fast responses."
   ]
  },
  {
   "cell_type": "markdown",
   "metadata": {},
   "source": [
    "### Extracting few entities at once\n",
    "\n",
    "This block of text is about possible ways to travel from the airport to the Colosseum.  \n",
    "\n",
    "Let's extract all street names and proposed forms of transportation from it."
   ]
  },
  {
   "cell_type": "code",
   "execution_count": 32,
   "metadata": {},
   "outputs": [],
   "source": [
    "directions = \"\"\"To reach the Colosseum from Rome's Fiumicino Airport (FCO), your options are diverse.\n",
    "Take the Leonardo Express train from FCO to Termini Station, then hop on metro line A towards Battistini and alight at Colosseo station.\n",
    "Alternatively, hop on a direct bus, like the Terravision shuttle, from FCO to Termini, then walk a short distance to the Colosseum on Via dei Fori Imperiali.\n",
    "If you prefer a taxi, simply hail one at the airport and ask to be taken to the Colosseum.\n",
    "The taxi will likely take you through Via del Corso and Via dei Fori Imperiali.\n",
    "A private transfer service offers a direct ride from FCO to the Colosseum, bypassing the hustle of public transport.\n",
    "If you're feeling adventurous, consider taking the train from FCO to Ostiense station,\n",
    "then walking through the charming Trastevere neighborhood, crossing Ponte Palatino to reach the Colosseum, passing by the Tiber River and Via della Lungara.\n",
    "Remember to validate your tickets on the metro and buses, and be mindful of pickpockets, especially in crowded areas.\n",
    "No matter which route you choose, you're sure to be awed by the grandeur of the Colosseum.\"\"\""
   ]
  },
  {
   "cell_type": "code",
   "execution_count": 33,
   "metadata": {},
   "outputs": [],
   "source": [
    "directions_prompt = f\"\"\"\n",
    "  From the given text, extract the following entities and return a list of them.\n",
    "  Entities to extract: street name, form of transport. Do not duplicate entities.\n",
    "  Text: {directions}\n",
    "  Street = []\n",
    "  Transport = [] \"\"\""
   ]
  },
  {
   "cell_type": "code",
   "execution_count": 34,
   "metadata": {},
   "outputs": [],
   "source": [
    "response = client.models.generate_content(\n",
    "    model='gemini-2.0-flash',\n",
    "    contents=[directions_prompt],\n",
    "    \n",
    ").text"
   ]
  },
  {
   "cell_type": "code",
   "execution_count": 35,
   "metadata": {},
   "outputs": [
    {
     "data": {
      "text/markdown": [
       "```json\n",
       "{\n",
       "  \"Street\": [\n",
       "    \"Via dei Fori Imperiali\",\n",
       "    \"Via del Corso\",\n",
       "    \"Via della Lungara\"\n",
       "  ],\n",
       "  \"Transport\": [\n",
       "    \"train\",\n",
       "    \"metro\",\n",
       "    \"bus\",\n",
       "    \"taxi\",\n",
       "    \"shuttle\"\n",
       "  ]\n",
       "}\n",
       "```"
      ],
      "text/plain": [
       "<IPython.core.display.Markdown object>"
      ]
     },
     "execution_count": 35,
     "metadata": {},
     "output_type": "execute_result"
    }
   ],
   "source": [
    "Markdown(response)"
   ]
  },
  {
   "cell_type": "markdown",
   "metadata": {},
   "source": [
    "You can modify the form of the answer for your extracted entities even more:"
   ]
  },
  {
   "cell_type": "code",
   "execution_count": 36,
   "metadata": {},
   "outputs": [],
   "source": [
    "directions_list_prompt = f\"\"\"\n",
    "  From the given text, extract the following entities and return a list of them.\n",
    "  Entities to extract: street name, form of transport.\n",
    "  Text: {directions}\n",
    "  Do not duplicate entities.\n",
    "  Return your answer as two lists:\n",
    "  Street = [street names]\n",
    "  Transport = [forms of transport]\"\"\""
   ]
  },
  {
   "cell_type": "code",
   "execution_count": 38,
   "metadata": {},
   "outputs": [],
   "source": [
    "response = client.models.generate_content(\n",
    "    model='gemini-2.0-flash',\n",
    "    contents=[directions_list_prompt],\n",
    "    \n",
    ").text"
   ]
  },
  {
   "cell_type": "code",
   "execution_count": 39,
   "metadata": {},
   "outputs": [
    {
     "data": {
      "text/markdown": [
       "Here's the extraction of the requested entities:\n",
       "\n",
       "```json\n",
       "{\n",
       "  \"Street\": [\n",
       "    \"Via dei Fori Imperiali\",\n",
       "    \"Via del Corso\",\n",
       "    \"Via della Lungara\"\n",
       "  ],\n",
       "  \"Transport\": [\n",
       "    \"train\",\n",
       "    \"metro\",\n",
       "    \"bus\",\n",
       "    \"taxi\",\n",
       "    \"shuttle\"\n",
       "  ]\n",
       "}\n",
       "```"
      ],
      "text/plain": [
       "<IPython.core.display.Markdown object>"
      ]
     },
     "execution_count": 39,
     "metadata": {},
     "output_type": "execute_result"
    }
   ],
   "source": [
    "Markdown(response)"
   ]
  },
  {
   "cell_type": "markdown",
   "metadata": {},
   "source": [
    "### Numbers\n",
    "\n",
    "Try entity extraction of phone numbers"
   ]
  },
  {
   "cell_type": "code",
   "execution_count": 40,
   "metadata": {},
   "outputs": [],
   "source": [
    "customer_service_email = \"\"\"\n",
    "Hello,\n",
    "Thank you for reaching out to our customer support team regarding your recent purchase of our premium subscription service.\n",
    "Your activation code has been sent to +87 668 098 344\n",
    "Additionally, if you require immediate assistance, feel free to contact us directly at +1 (800) 555-1234.\n",
    "Our team is available Monday through Friday from 9:00 AM to 5:00 PM PST.\n",
    "For after-hours support, please call our dedicated emergency line at +87 455 555 678.\n",
    "Thanks for your business and look forward to resolving any issues you may encounter promptly.\n",
    "Thank you.\"\"\""
   ]
  },
  {
   "cell_type": "code",
   "execution_count": 41,
   "metadata": {},
   "outputs": [],
   "source": [
    "\n",
    "phone_prompt = f\"\"\"\n",
    "  From the given text, extract the following entities and return a list of them.\n",
    "  Entities to extract: phone numbers.\n",
    "  Text: {customer_service_email}\n",
    "  Do not duplicate entities.\n",
    "  Return your answer in a list:\"\"\""
   ]
  },
  {
   "cell_type": "code",
   "execution_count": 42,
   "metadata": {},
   "outputs": [],
   "source": [
    "response = client.models.generate_content(\n",
    "    model='gemini-2.0-flash',\n",
    "    contents=[phone_prompt],\n",
    "    \n",
    ").text"
   ]
  },
  {
   "cell_type": "code",
   "execution_count": 43,
   "metadata": {},
   "outputs": [
    {
     "data": {
      "text/markdown": [
       "```json\n",
       "[\n",
       "  \"+87 668 098 344\",\n",
       "  \"+1 (800) 555-1234\",\n",
       "  \"+87 455 555 678\"\n",
       "]\n",
       "```"
      ],
      "text/plain": [
       "<IPython.core.display.Markdown object>"
      ]
     },
     "execution_count": 43,
     "metadata": {},
     "output_type": "execute_result"
    }
   ],
   "source": [
    "Markdown(response)"
   ]
  },
  {
   "cell_type": "markdown",
   "metadata": {},
   "source": [
    "### URLs\n",
    "\n",
    "\n",
    "Try entity extraction of URLs and get response as a clickable link."
   ]
  },
  {
   "cell_type": "code",
   "execution_count": 44,
   "metadata": {},
   "outputs": [],
   "source": [
    "url_text = \"\"\"\n",
    "Gemini API billing FAQs\n",
    "\n",
    "This page provides answers to frequently asked questions about billing for the Gemini API. For pricing information, see the pricing page https://ai.google.dev/pricing.\n",
    "For legal terms, see the terms of service https://ai.google.dev/gemini-api/terms#paid-services.\n",
    "\n",
    "What am I billed for?\n",
    "Gemini API pricing is based on total token count, with different prices for input tokens and output tokens. For pricing information, see the pricing page https://ai.google.dev/pricing.\n",
    "\n",
    "Where can I view my quota?\n",
    "You can view your quota and system limits in the Google Cloud console https://console.cloud.google.com/apis/api/generativelanguage.googleapis.com/quotas.\n",
    "\n",
    "Is GetTokens billed?\n",
    "Requests to the GetTokens API are not billed, and they don't count against inference quota.\"\"\""
   ]
  },
  {
   "cell_type": "code",
   "execution_count": 45,
   "metadata": {},
   "outputs": [],
   "source": [
    "url_prompt = f\"\"\"\n",
    "  From the given text, extract the following entities and return a list of them.\n",
    "  Entities to extract: URLs.\n",
    "  Text: {url_text}\n",
    "  Do not duplicate entities.\n",
    "  Return your answer in a markdown format:\"\"\""
   ]
  },
  {
   "cell_type": "code",
   "execution_count": 46,
   "metadata": {},
   "outputs": [],
   "source": [
    "response = client.models.generate_content(\n",
    "    model='gemini-2.0-flash',\n",
    "    contents=[url_prompt],\n",
    "    \n",
    ").text"
   ]
  },
  {
   "cell_type": "code",
   "execution_count": 47,
   "metadata": {},
   "outputs": [
    {
     "data": {
      "text/markdown": [
       "```\n",
       "- https://ai.google.dev/pricing\n",
       "- https://ai.google.dev/gemini-api/terms#paid-services\n",
       "- https://console.cloud.google.com/apis/api/generativelanguage.googleapis.com/quotas\n",
       "```"
      ],
      "text/plain": [
       "<IPython.core.display.Markdown object>"
      ]
     },
     "execution_count": 47,
     "metadata": {},
     "output_type": "execute_result"
    }
   ],
   "source": [
    "Markdown(response)"
   ]
  }
 ],
 "metadata": {
  "kernelspec": {
   "display_name": "gemini-venv",
   "language": "python",
   "name": "python3"
  },
  "language_info": {
   "codemirror_mode": {
    "name": "ipython",
    "version": 3
   },
   "file_extension": ".py",
   "mimetype": "text/x-python",
   "name": "python",
   "nbconvert_exporter": "python",
   "pygments_lexer": "ipython3",
   "version": "3.12.2"
  }
 },
 "nbformat": 4,
 "nbformat_minor": 2
}
