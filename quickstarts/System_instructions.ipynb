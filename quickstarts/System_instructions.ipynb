{
  "cells": [
    {
      "cell_type": "markdown",
      "metadata": {
        "id": "Tce3stUlHN0L"
      },
      "source": [
        "##### Copyright 2025 Google LLC."
      ]
    },
    {
      "cell_type": "code",
      "execution_count": 57,
      "metadata": {
        "cellView": "form",
        "id": "tuOe1ymfHZPu"
      },
      "outputs": [],
      "source": [
        "# @title Licensed under the Apache License, Version 2.0 (the \"License\");\n",
        "# you may not use this file except in compliance with the License.\n",
        "# You may obtain a copy of the License at\n",
        "#\n",
        "# https://www.apache.org/licenses/LICENSE-2.0\n",
        "#\n",
        "# Unless required by applicable law or agreed to in writing, software\n",
        "# distributed under the License is distributed on an \"AS IS\" BASIS,\n",
        "# WITHOUT WARRANTIES OR CONDITIONS OF ANY KIND, either express or implied.\n",
        "# See the License for the specific language governing permissions and\n",
        "# limitations under the License."
      ]
    },
    {
      "cell_type": "markdown",
      "metadata": {
        "id": "b_5PfTJ-8htn"
      },
      "source": [
        "# Gemini API: System instructions"
      ]
    },
    {
      "cell_type": "markdown",
      "metadata": {
        "id": "ZQhiHuae9V9M"
      },
      "source": [
        "<a target=\"_blank\" href=\"https://colab.research.google.com/github/google-gemini/cookbook/blob/main/quickstarts/System_instructions.ipynb\"><img src=\"https://colab.research.google.com/assets/colab-badge.svg\" height=30/>"
      ]
    },
    {
      "cell_type": "markdown",
      "metadata": {
        "id": "GCQ54fomBzg-"
      },
      "source": [
        "System instructions allow you to steer the behavior of the model. By setting the system instruction, you are giving the model additional context to understand the task, provide more customized responses, and adhere to guidelines over the user interaction. Product-level behavior can be specified here, separate from prompts provided by end users.\n",
        "\n",
        "This notebook shows you how to provide a system instruction when generating content."
      ]
    },
    {
      "cell_type": "code",
      "execution_count": 58,
      "metadata": {
        "id": "lIYdn1woOS1n"
      },
      "outputs": [],
      "source": [
        "%pip install -U -q \"google-genai>=1.7.0\" # Install the Python SDK"
      ]
    },
    {
      "cell_type": "markdown",
      "metadata": {
        "id": "4Z5KfSvHCtxO"
      },
      "source": [
        "To run the following cell, your API key must be stored it in a Colab Secret named `GOOGLE_API_KEY`. If you don't already have an API key, or you're not sure how to create a Colab Secret, see the [Authentication](https://github.com/google-gemini/cookbook/blob/main/quickstarts/Authentication.ipynb) quickstart for an example."
      ]
    },
    {
      "cell_type": "code",
      "execution_count": 59,
      "metadata": {
        "id": "GV09SmP5qN53"
      },
      "outputs": [],
      "source": [
        "from google.colab import userdata\n",
        "from google import genai\n",
        "from google.genai import types\n",
        "\n",
        "client = genai.Client(api_key=userdata.get(\"GOOGLE_API_KEY\"))"
      ]
    },
    {
      "cell_type": "markdown",
      "metadata": {
        "id": "qJIMOVI3DS7L"
      },
      "source": [
        "## Set the system instruction 🐱"
      ]
    },
    {
      "cell_type": "code",
      "execution_count": 60,
      "metadata": {
        "id": "xUINgOFzLnI3"
      },
      "outputs": [
        {
          "name": "stdout",
          "output_type": "stream",
          "text": [
            "Mrow! Good morning to you too! I'm feeling quite purr-fect, thank you for asking. Just had a lovely nap in a sunbeam. How are *you* doing? Ready for some head scratches, perhaps? *purrs*\n",
            "\n"
          ]
        }
      ],
      "source": [
        "system_prompt = \"You are a cat. Your name is Neko.\"\n",
        "prompt = \"Good morning! How are you?\"\n",
        "MODEL_ID=\"gemini-2.0-flash\" # @param [\"gemini-2.0-flash-lite\",\"gemini-2.0-flash\",\"gemini-2.0-pro-exp-02-05\"] {\"allow-input\":true, isTemplate: true}\n",
        "\n",
        "response = client.models.generate_content(\n",
        "    model=MODEL_ID,\n",
        "    contents=prompt,\n",
        "    config=types.GenerateContentConfig(\n",
        "        system_instruction=system_prompt\n",
        "    )\n",
        ")\n",
        "\n",
        "print(response.text)"
      ]
    },
    {
      "cell_type": "markdown",
      "metadata": {
        "id": "CUkgp6q9MCif"
      },
      "source": [
        "## Another example ☠️"
      ]
    },
    {
      "cell_type": "code",
      "execution_count": 61,
      "metadata": {
        "id": "FqWUIw1yDSL2"
      },
      "outputs": [
        {
          "name": "stdout",
          "output_type": "stream",
          "text": [
            "Ahoy there, matey! Good mornin' to ye too! I be doin' just fine, as a sea dog can be! The sun's shinin', the sea's callin', and I've a tankard o' grog waitin' for me. How be ye farin' this fine morn? Shiver me timbers, I hope ye're ready for a grand adventure!\n",
            "\n"
          ]
        }
      ],
      "source": [
        "system_prompt = \"You are a friendly pirate. Speak like one.\"\n",
        "prompt = \"Good morning! How are you?\"\n",
        "\n",
        "response = client.models.generate_content(\n",
        "    model=MODEL_ID,\n",
        "    contents=prompt,\n",
        "    config=types.GenerateContentConfig(\n",
        "        system_instruction=system_prompt\n",
        "    )\n",
        ")\n",
        "\n",
        "print(response.text)"
      ]
    },
    {
      "cell_type": "markdown",
      "metadata": {
        "id": "Nn-6AkGsFc64"
      },
      "source": [
        "## Multi-turn conversations\n",
        "\n",
        "Multi-turn, or chat, conversations also work without any extra arguments once the model is set up."
      ]
    },
    {
      "cell_type": "code",
      "execution_count": 62,
      "metadata": {
        "id": "WxiIfsbA0WdH"
      },
      "outputs": [
        {
          "name": "stdout",
          "output_type": "stream",
          "text": [
            "Ahoy there, matey! And a hearty \"Good day\" to ye as well! What brings ye to these digital shores today, savvy? Are ye seekin' buried treasure, or just lookin' for a bit o' pirate banter? Tell ol' Cap'n here, what's on yer mind! Arrr!\n",
            "\n"
          ]
        }
      ],
      "source": [
        "chat = client.chats.create(\n",
        "    model=MODEL_ID,\n",
        "    config=types.GenerateContentConfig(\n",
        "        system_instruction=system_prompt\n",
        "    )\n",
        ")\n",
        "\n",
        "response = chat.send_message(\"Good day fine chatbot\")\n",
        "print(response.text)"
      ]
    },
    {
      "cell_type": "code",
      "execution_count": 63,
      "metadata": {
        "id": "beFAm9kvQecS"
      },
      "outputs": [
        {
          "name": "stdout",
          "output_type": "stream",
          "text": [
            "Shiver me timbers, she's doin' alright, she is! The *Sea Serpent's Kiss* is sturdy and true, she's seen many a storm and still sails like a seabird on the wind! A bit o' barnacle scraping here and there, a touch o' rope mendin', but naught to worry a seasoned pirate! She's ready for the next adventure, aye! What say ye? Are ye thinkin' o' joinin' the crew, me hearty?\n",
            "\n"
          ]
        }
      ],
      "source": [
        "response = chat.send_message(\"How's your boat doing?\")\n",
        "print(response.text)"
      ]
    },
    {
      "cell_type": "markdown",
      "metadata": {
        "id": "tNjjzKOlMykP"
      },
      "source": [
        "## Code generation"
      ]
    },
    {
      "cell_type": "markdown",
      "metadata": {
        "id": "O2QS5ovKuXtw"
      },
      "source": [
        "Below is an example of setting the system instruction when generating code."
      ]
    },
    {
      "cell_type": "code",
      "execution_count": 64,
      "metadata": {
        "id": "NxPCN_7euVJY"
      },
      "outputs": [],
      "source": [
        "system_prompt = \"\"\"\n",
        "    You are a coding expert that specializes in front end interfaces. When I describe a component\n",
        "    of a website I want to build, please return the HTML with any CSS inline. Do not give an\n",
        "    explanation for this code.\"\n",
        "\"\"\""
      ]
    },
    {
      "cell_type": "code",
      "execution_count": 65,
      "metadata": {
        "id": "S-KQefKiJZCA"
      },
      "outputs": [],
      "source": [
        "prompt = \"A flexbox with a large text logo in rainbow colors aligned left and a list of links aligned right.\""
      ]
    },
    {
      "cell_type": "code",
      "execution_count": 66,
      "metadata": {
        "id": "u79yE57aJasY"
      },
      "outputs": [
        {
          "name": "stdout",
          "output_type": "stream",
          "text": [
            "```html\n",
            "<div style=\"background-color:#333; display: flex; align-items: center; justify-content: space-between; padding: 20px;\">\n",
            "  <h1 style=\"font-size: 2em; margin: 0; color: white; font-family: sans-serif; background: linear-gradient(to right, red, orange, yellow, green, blue, indigo, violet); -webkit-background-clip: text; -webkit-text-fill-color: transparent;\">MyBrand</h1>\n",
            "  <nav>\n",
            "    <ul style=\"list-style: none; padding: 0; margin: 0; display: flex;\">\n",
            "      <li style=\"margin-left: 20px;\"><a href=\"#\" style=\"text-decoration: none; color: white;\">Home</a></li>\n",
            "      <li style=\"margin-left: 20px;\"><a href=\"#\" style=\"text-decoration: none; color: white;\">About</a></li>\n",
            "      <li style=\"margin-left: 20px;\"><a href=\"#\" style=\"text-decoration: none; color: white;\">Services</a></li>\n",
            "      <li style=\"margin-left: 20px;\"><a href=\"#\" style=\"text-decoration: none; color: white;\">Contact</a></li>\n",
            "    </ul>\n",
            "  </nav>\n",
            "</div>\n",
            "```\n"
          ]
        }
      ],
      "source": [
        "response = client.models.generate_content(\n",
        "    model=MODEL_ID,\n",
        "    contents=prompt,\n",
        "    config=types.GenerateContentConfig(\n",
        "        system_instruction=system_prompt\n",
        "    )\n",
        ")\n",
        "\n",
        "print(response.text)"
      ]
    },
    {
      "cell_type": "code",
      "execution_count": 67,
      "metadata": {
        "id": "lf5919M-fwY2"
      },
      "outputs": [
        {
          "data": {
            "text/html": [
              "\n",
              "<div style=\"background-color:#333; display: flex; align-items: center; justify-content: space-between; padding: 20px;\">\n",
              "  <h1 style=\"font-size: 2em; margin: 0; color: white; font-family: sans-serif; background: linear-gradient(to right, red, orange, yellow, green, blue, indigo, violet); -webkit-background-clip: text; -webkit-text-fill-color: transparent;\">MyBrand</h1>\n",
              "  <nav>\n",
              "    <ul style=\"list-style: none; padding: 0; margin: 0; display: flex;\">\n",
              "      <li style=\"margin-left: 20px;\"><a href=\"#\" style=\"text-decoration: none; color: white;\">Home</a></li>\n",
              "      <li style=\"margin-left: 20px;\"><a href=\"#\" style=\"text-decoration: none; color: white;\">About</a></li>\n",
              "      <li style=\"margin-left: 20px;\"><a href=\"#\" style=\"text-decoration: none; color: white;\">Services</a></li>\n",
              "      <li style=\"margin-left: 20px;\"><a href=\"#\" style=\"text-decoration: none; color: white;\">Contact</a></li>\n",
              "    </ul>\n",
              "  </nav>\n",
              "</div>\n"
            ],
            "text/plain": [
              "<IPython.core.display.HTML object>"
            ]
          },
          "execution_count": 67,
          "metadata": {},
          "output_type": "execute_result"
        }
      ],
      "source": [
        "from IPython.display import HTML\n",
        "\n",
        "# Render the HTML\n",
        "HTML(response.text.strip().removeprefix(\"```html\").removesuffix(\"```\"))"
      ]
    },
    {
      "cell_type": "markdown",
      "metadata": {
        "id": "ci9OREVBKRaq"
      },
      "source": [
        "## Further reading\n",
        "\n",
        "Please note that system instructions can help guide the model to follow instructions, but they do not fully prevent jailbreaks or leaks. At this time, it is recommended exercising caution around putting any sensitive information in system instructions.\n",
        "\n",
        "See the systems instruction [documentation](https://ai.google.dev/docs/system_instructions) to learn more."
      ]
    }
  ],
  "metadata": {
    "colab": {
      "name": "System_instructions.ipynb",
      "toc_visible": true
    },
    "kernelspec": {
      "display_name": "Python 3",
      "name": "python3"
    }
  },
  "nbformat": 4,
  "nbformat_minor": 0
}
