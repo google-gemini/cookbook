{
 "cells": [
  {
   "cell_type": "markdown",
   "id": "b9f6fec8-b61f-4da0-b66c-299065799881",
   "metadata": {},
   "source": [
    "##### Copyright 2024 Google LLC.\n",
    "\n",
    "```python\n",
    "# @title Licensed under the Apache License, Version 2.0 (the \"License\");\n",
    "# you may not use this file except in compliance with the License.\n",
    "# You may obtain a copy of the License at\n",
    "#\n",
    "# https://www.apache.org/licenses/LICENSE-2.0\n",
    "#\n",
    "# Unless required by applicable law or agreed to in writing, software\n",
    "# distributed under the License is distributed on an \"AS IS\" BASIS,\n",
    "# WITHOUT WARRANTIES OR CONDITIONS OF ANY KIND, either express or implied.\n",
    "# See the License for the specific language governing permissions and\n",
    "# limitations under the License.\n"
   ]
  },
  {
   "cell_type": "markdown",
   "id": "abea8a89-9ed2-41ba-8c36-24963054c2f5",
   "metadata": {},
   "source": [
    "# Gemini API: Text Summarization Quickstart\n",
    "\n",
    "<table align=\"left\">\n",
    "  <td>\n",
    "    <a target=\"_blank\" href=\"https://colab.research.google.com/github/google-gemini/cookbook/blob/main/quickstarts/Text_Summarization.ipynb\">\n",
    "      <img src=\"https://github.com/google-gemini/cookbook/blob/main/images/colab_logo_32px.png?raw=1\" />Run in Google Colab\n",
    "    </a>\n",
    "  </td>\n",
    "</table>  \n",
    "\n",
    "<br clear=\"left\"/>\n",
    "\n",
    "---\n",
    "\n",
    "This notebook provides an example of how to use the **Gemini API for text summarization**.  \n",
    "You will generate concise summaries of long-form text using Gemini models.\n"
   ]
  },
  {
   "cell_type": "code",
   "execution_count": null,
   "id": "7f951b08-298f-4458-8976-ffc2c0a193c8",
   "metadata": {},
   "outputs": [],
   "source": [
    "# Install dependencies\n",
    "%pip install google-generativeai"
   ]
  },
  {
   "cell_type": "code",
   "execution_count": 3,
   "id": "b447079b-806d-419d-9aa5-b40882ed30b7",
   "metadata": {},
   "outputs": [],
   "source": [
    "import google.generativeai as genai"
   ]
  },
  {
   "cell_type": "code",
   "execution_count": 5,
   "id": "61510bfe-ad9e-47db-b7b5-c732f9304e99",
   "metadata": {},
   "outputs": [],
   "source": [
    "# Configure API Key\n",
    "GOOGLE_API_KEY = \"your_api_key\"\n",
    "genai.configure(api_key=GOOGLE_API_KEY)"
   ]
  },
  {
   "cell_type": "code",
   "execution_count": null,
   "id": "34b646aa-cba7-4511-92de-d074f9688b2e",
   "metadata": {},
   "outputs": [],
   "source": [
    "# Function to summarize text using Gemini\n",
    "def summarize_text(text: str) -> str:\n",
    "    model = genai.GenerativeModel(\"gemini-1.5-pro\") #can tweak models \n",
    "    response = model.generate_content(f\"Summarize this: {text}\")\n",
    "    return response.text if response else \"No summary available.\"\n",
    "\n",
    "# Example Usage\n",
    "input_text = \"\"\"Artificial intelligence (AI) refers to the capability of computational systems to perform tasks \n",
    "typically associated with human intelligence, such as learning, reasoning, problem-solving, perception, and \n",
    "decision-making. It is a field of research in computer science that develops and studies methods and software \n",
    "that enable machines to perceive their environment and use learning and intelligence to take actions that maximize \n",
    "their chances of achieving defined goals. Such machines may be called AIs.\n",
    "\n",
    "High-profile applications of AI include advanced web search engines (e.g., Google Search); recommendation systems \n",
    "(used by YouTube, Amazon, and Netflix); virtual assistants (e.g., Google Assistant, Siri, and Alexa); autonomous \n",
    "vehicles (e.g., Waymo); generative and creative tools (e.g., ChatGPT and AI art); and superhuman play and analysis \n",
    "in strategy games (e.g., chess and Go). However, many AI applications are not perceived as AI: \"A lot of cutting \n",
    "edge AI has filtered into general applications, often without being called AI because once something becomes useful \n",
    "enough and common enough it's not labeled AI anymore.\"\n",
    "\n",
    "Various subfields of AI research are centered around particular goals and the use of particular tools. The traditional \n",
    "goals of AI research include learning, reasoning, knowledge representation, planning, natural language processing, \n",
    "perception, and support for robotics. General intelligence—the ability to complete any task performed by a human on \n",
    "an at least equal level—is among the field's long-term goals. To reach these goals, AI researchers have adapted and \n",
    "integrated a wide range of techniques, including search and mathematical optimization, formal logic, artificial neural \n",
    "networks, and methods based on statistics, operations research, and economics. AI also draws upon psychology, linguistics, \n",
    "philosophy, neuroscience, and other fields.\n",
    "\n",
    "Artificial intelligence was founded as an academic discipline in 1956, and the field went through multiple cycles of \n",
    "optimism throughout its history, followed by periods of disappointment and loss of funding, known as AI winters. Funding \n",
    "and interest vastly increased after 2012 when deep learning outperformed previous AI techniques. This growth accelerated \n",
    "further after 2017 with the transformer architecture, and by the early 2020s many billions of dollars were being invested \n",
    "in AI and the field experienced rapid ongoing progress in what has become known as the AI boom. The emergence of advanced \n",
    "generative AI in the midst of the AI boom and its ability to create and modify content exposed several unintended consequences \n",
    "and harms in the present and raised concerns about the risks of AI and its long-term effects in the future, prompting \n",
    "discussions about regulatory policies to ensure the safety and benefits of the technology.\"\"\"\n",
    "\n",
    "summary = summarize_text(input_text)\n",
    "print(\"Summary:\", summary)"
   ]
  },
  {
   "cell_type": "markdown",
   "id": "444046a4-6683-4baf-8f5d-be3c33f53d23",
   "metadata": {
    "jp-MarkdownHeadingCollapsed": true
   },
   "source": [
    "### **Output**  \n",
    "```\n",
    "Summary: Artificial intelligence (AI) enables computer systems to perform tasks like learning, reasoning, and problem-solving, mimicking human intelligence.  \n",
    "AI powers many common applications, from search engines and recommendation systems to virtual assistants and autonomous vehicles, though many AI applications are no longer explicitly labeled as such.  \n",
    "AI research encompasses diverse subfields, with the ultimate goal of achieving general intelligence comparable to humans.  \n",
    "Historically, AI has cycled through periods of hype and decline.  \n",
    "The current \"AI boom,\" driven by deep learning and transformer architectures, has spurred massive investment and rapid progress, but also raised concerns about potential risks and the need for regulation, particularly regarding advanced generative AI.\n",
    "```"
   ]
  }
 ],
 "metadata": {
  "kernelspec": {
   "display_name": "Python (gemini-text-summarizer)",
   "language": "python",
   "name": "gemini-summarizer"
  },
  "language_info": {
   "codemirror_mode": {
    "name": "ipython",
    "version": 3
   },
   "file_extension": ".py",
   "mimetype": "text/x-python",
   "name": "python",
   "nbconvert_exporter": "python",
   "pygments_lexer": "ipython3",
   "version": "3.9.21"
  }
 },
 "nbformat": 4,
 "nbformat_minor": 5
}
