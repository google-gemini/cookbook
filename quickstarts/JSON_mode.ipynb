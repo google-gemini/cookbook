{
  "cells": [
    {
      "cell_type": "markdown",
      "metadata": {
        "id": "Tce3stUlHN0L"
      },
      "source": [
        "##### Copyright 2025 Google LLC."
      ]
    },
    {
      "cell_type": "code",
      "execution_count": null,
      "metadata": {
        "cellView": "form",
        "id": "tuOe1ymfHZPu"
      },
      "outputs": [],
      "source": [
        "# @title Licensed under the Apache License, Version 2.0 (the \"License\");\n",
        "# you may not use this file except in compliance with the License.\n",
        "# You may obtain a copy of the License at\n",
        "#\n",
        "# https://www.apache.org/licenses/LICENSE-2.0\n",
        "#\n",
        "# Unless required by applicable law or agreed to in writing, software\n",
        "# distributed under the License is distributed on an \"AS IS\" BASIS,\n",
        "# WITHOUT WARRANTIES OR CONDITIONS OF ANY KIND, either express or implied.\n",
        "# See the License for the specific language governing permissions and\n",
        "# limitations under the License."
      ]
    },
    {
      "cell_type": "markdown",
      "metadata": {
        "id": "GAsiP4mohC2_"
      },
      "source": [
        "# Gemini API: JSON Mode Quickstart\n",
        "\n",
        "<a target=\"_blank\" href=\"https://colab.research.google.com/github/google-gemini/cookbook/blob/main/quickstarts/JSON_mode.ipynb\"><img src=\"https://colab.research.google.com/assets/colab-badge.svg\" height=30/></a>"
      ]
    },
    {
      "cell_type": "markdown",
      "metadata": {
        "id": "lF6sWVRGQ_bi"
      },
      "source": [
        "The Gemini API can be used to generate a JSON output if you set the schema that you would like to use.\n",
        "\n",
        "Two methods are available. You can either set the desired output in the prompt or supply a schema to the model separately."
      ]
    },
    {
      "cell_type": "markdown",
      "metadata": {
        "id": "857d8bf104ed"
      },
      "source": [
        "### Install dependencies"
      ]
    },
    {
      "cell_type": "code",
      "execution_count": 1,
      "metadata": {
        "id": "qLuL9m7KhvxR"
      },
      "outputs": [
        {
          "name": "stdout",
          "output_type": "stream",
          "text": [
            "Note: you may need to restart the kernel to use updated packages.\n"
          ]
        }
      ],
      "source": [
        "%pip install -qU 'google-genai'"
      ]
    },
    {
      "cell_type": "code",
      "execution_count": 2,
      "metadata": {
        "id": "ATIbQM0NHhkj"
      },
      "outputs": [],
      "source": [
        "from google import genai\n",
        "\n",
        "import json\n",
        "import typing_extensions as typing"
      ]
    },
    {
      "cell_type": "markdown",
      "metadata": {
        "id": "B-axqBTM8Lbd"
      },
      "source": [
        "### Configure your API key\n",
        "\n",
        "To run the following cell, your API key must be stored in a Colab Secret named `GOOGLE_API_KEY`. If you don't already have an API key, or you're not sure how to create a Colab Secret, see [Authentication](../quickstarts/Authentication.ipynb) for an example."
      ]
    },
    {
      "cell_type": "code",
      "execution_count": 3,
      "metadata": {
        "id": "d6lYXRcjthKV"
      },
      "outputs": [],
      "source": [
        "from google.colab import userdata\n",
        "\n",
        "GOOGLE_API_KEY = userdata.get('GOOGLE_API_KEY')\n",
        "client = genai.Client(api_key=GOOGLE_API_KEY)"
      ]
    },
    {
      "cell_type": "markdown",
      "metadata": {
        "id": "hD3qXcOTRD3z"
      },
      "source": [
        "## Set your constrained output in the prompt\n",
        "\n",
        "For this first example just describe the schema you want back in the prompt:\n"
      ]
    },
    {
      "cell_type": "code",
      "execution_count": 4,
      "metadata": {
        "id": "K8ezjNb0RJ6Y"
      },
      "outputs": [],
      "source": [
        "prompt = \"\"\"\n",
        "  List a few popular cookie recipes using this JSON schema:\n",
        "\n",
        "  Recipe = {'recipe_name': str}\n",
        "  Return: list[Recipe]\n",
        "\"\"\""
      ]
    },
    {
      "cell_type": "markdown",
      "metadata": {
        "id": "4071a6143d31"
      },
      "source": [
        " Activate JSON mode by specifying `respose_mime_type` in the `config` parameter:"
      ]
    },
    {
      "cell_type": "code",
      "execution_count": 5,
      "metadata": {
        "id": "ggudoxK8RMlb"
      },
      "outputs": [],
      "source": [
        "MODEL_ID=\"gemini-2.5-flash-preview-04-17\" # @param [\"gemini-2.5-flash-preview-04-17\", \"gemini-2.5-pro-preview-03-25\", \"gemini-2.0-flash\", \"gemini-2.0-flash-lite\"] {\"allow-input\":true, isTemplate: true}\n",
        "\n",
        "raw_response = client.models.generate_content(\n",
        "    model=MODEL_ID,\n",
        "    contents= prompt,\n",
        "    config={\n",
        "        'response_mime_type': 'application/json'\n",
        "    },\n",
        ")"
      ]
    },
    {
      "cell_type": "markdown",
      "metadata": {
        "id": "9TqoNg3VSMYB"
      },
      "source": [
        "Parse the string to JSON:"
      ]
    },
    {
      "cell_type": "code",
      "execution_count": 8,
      "metadata": {
        "id": "b99ee66972f5"
      },
      "outputs": [
        {
          "name": "stdout",
          "output_type": "stream",
          "text": [
            "[{'recipe_name': 'Chocolate Chip Cookies'}, {'recipe_name': 'Oatmeal Raisin Cookies'}, {'recipe_name': 'Peanut Butter Cookies'}, {'recipe_name': 'Sugar Cookies'}, {'recipe_name': 'Shortbread Cookies'}]\n"
          ]
        }
      ],
      "source": [
        "response = json.loads(raw_response.text)\n",
        "print(response)"
      ]
    },
    {
      "cell_type": "markdown",
      "metadata": {
        "id": "1092c669169a"
      },
      "source": [
        "For readability serialize and print it:"
      ]
    },
    {
      "cell_type": "code",
      "execution_count": 9,
      "metadata": {
        "id": "WLDPREpmSMu5"
      },
      "outputs": [
        {
          "name": "stdout",
          "output_type": "stream",
          "text": [
            "[\n",
            "    {\n",
            "        \"recipe_name\": \"Chocolate Chip Cookies\"\n",
            "    },\n",
            "    {\n",
            "        \"recipe_name\": \"Oatmeal Raisin Cookies\"\n",
            "    },\n",
            "    {\n",
            "        \"recipe_name\": \"Peanut Butter Cookies\"\n",
            "    },\n",
            "    {\n",
            "        \"recipe_name\": \"Sugar Cookies\"\n",
            "    },\n",
            "    {\n",
            "        \"recipe_name\": \"Shortbread Cookies\"\n",
            "    }\n",
            "]\n"
          ]
        }
      ],
      "source": [
        "print(json.dumps(response, indent=4))"
      ]
    },
    {
      "cell_type": "markdown",
      "metadata": {
        "id": "K9nIks0R-tIa"
      },
      "source": [
        "## Supply the schema to the model directly\n",
        "\n",
        "The newest models (1.5 and beyond) allow you to pass a schema object (or a python type equivalent) directly and the output will strictly follow that schema.\n",
        "\n",
        "Following the same example as the previous section, here's that recipe type:"
      ]
    },
    {
      "cell_type": "code",
      "execution_count": 13,
      "metadata": {
        "id": "JiIxKaLl4R0f"
      },
      "outputs": [],
      "source": [
        "class Recipe(typing.TypedDict):\n",
        "    recipe_name: str\n",
        "    recipe_description: str\n",
        "    recipe_ingredients: list[str]\n",
        "    recipe_directions: list[str]"
      ]
    },
    {
      "cell_type": "markdown",
      "metadata": {
        "id": "vBlWzt6M-2oM"
      },
      "source": [
        "For this example you want a list of `Recipe` objects, so pass `list[Recipe]` to the `response_schema` field of the `config`."
      ]
    },
    {
      "cell_type": "code",
      "execution_count": 14,
      "metadata": {
        "id": "8oe-tL8MDGtx"
      },
      "outputs": [],
      "source": [
        "result = client.models.generate_content(\n",
        "    model= MODEL_ID,\n",
        "    contents=\"List a few imaginative cookie recipes along with a one-sentence description as if you were a gourmet restaurant and their main ingredients\",\n",
        "    config={\n",
        "        'response_mime_type': 'application/json',\n",
        "        'response_schema': list[Recipe],\n",
        "    },\n",
        ")"
      ]
    },
    {
      "cell_type": "code",
      "execution_count": 15,
      "metadata": {
        "id": "slYcVAcqaDQY"
      },
      "outputs": [
        {
          "name": "stdout",
          "output_type": "stream",
          "text": [
            "[\n",
            "    {\n",
            "        \"recipe_name\": \"Rosemary & Olive Oil Shortbread with Lemon Zest\",\n",
            "        \"recipe_description\": \"A delicate shortbread, kissed with fragrant rosemary and bright lemon, offering a sophisticated play of savory and citrus notes.\",\n",
            "        \"recipe_ingredients\": [\n",
            "            \"Unsalted Butter\",\n",
            "            \"All-Purpose Flour\",\n",
            "            \"Granulated Sugar\",\n",
            "            \"Fresh Rosemary\",\n",
            "            \"Extra Virgin Olive Oil\",\n",
            "            \"Lemon Zest\",\n",
            "            \"Sea Salt\"\n",
            "        ],\n",
            "        \"recipe_directions\": [\n",
            "            \"Cream butter and sugar until light and fluffy.\",\n",
            "            \"Add olive oil, lemon zest, finely chopped rosemary, and salt.\",\n",
            "            \"Gradually mix in flour until dough forms.\",\n",
            "            \"Chill dough, then roll and cut into desired shapes.\",\n",
            "            \"Bake at 325\\u00b0F (160\\u00b0C) until edges are lightly golden, about 15-20 minutes.\",\n",
            "            \"Let cool completely on a wire rack before serving.\",\n",
            "            \"Store in an airtight container at room temperature for up to a week.\",\n",
            "            \"Enjoy with tea or as an accompaniment to a cheese board!\"\n",
            "        ]\n",
            "    },\n",
            "    {\n",
            "        \"recipe_name\": \"White Chocolate & Matcha Green Tea Crumble Cookies\",\n",
            "        \"recipe_description\": \"An elegant fusion of smooth white chocolate and earthy matcha, studded with crunchy almond crumble for textural harmony.\",\n",
            "        \"recipe_ingredients\": [\n",
            "            \"Unsalted Butter\",\n",
            "            \"Granulated Sugar\",\n",
            "            \"Brown Sugar\",\n",
            "            \"Eggs\",\n",
            "            \"Vanilla Extract\",\n",
            "            \"All-Purpose Flour\",\n",
            "            \"Matcha Green Tea Powder\",\n",
            "            \"Baking Soda\",\n",
            "            \"Salt\",\n",
            "            \"White Chocolate Chunks\",\n",
            "            \"Almond Flour\",\n",
            "            \"Rolled Oats\",\n",
            "            \"Brown Sugar\",\n",
            "            \"Melted Butter\"\n",
            "        ],\n",
            "        \"recipe_directions\": [\n",
            "            \"Prepare crumble topping by combining almond flour, oats, brown sugar, and melted butter.\",\n",
            "            \"Cream butter and sugars until fluffy.\",\n",
            "            \"Beat in eggs and vanilla.\",\n",
            "            \"Whisk together flour, matcha, baking soda, and salt.\",\n",
            "            \"Gradually add dry ingredients to wet until just combined.\",\n",
            "            \"Fold in white chocolate chunks.\",\n",
            "            \"Scoop dough onto baking sheets.\",\n",
            "            \"Top each cookie dough ball generously with crumble mixture, pressing gently.\",\n",
            "            \"Bake at 350\\u00b0F (175\\u00b0C) for 10-12 minutes, until edges are set and centers are slightly soft.\",\n",
            "            \"Let cool on baking sheet for a few minutes before transferring to a wire rack.\",\n",
            "            \"Store in an airtight container for up to 3-4 days.\",\n",
            "            \"Best enjoyed warm!\"\n",
            "        ]\n",
            "    },\n",
            "    {\n",
            "        \"recipe_name\": \"Salted Caramel Brownie Lava Cookies\",\n",
            "        \"recipe_description\": \"A decadent dark chocolate cookie concealing a molten salted caramel core, finished with a sprinkle of flaky sea salt for an irresistible indulgence.\",\n",
            "        \"recipe_ingredients\": [\n",
            "            \"Unsalted Butter\",\n",
            "            \"Granulated Sugar\",\n",
            "            \"Brown Sugar\",\n",
            "            \"Eggs\",\n",
            "            \"Vanilla Extract\",\n",
            "            \"Cocoa Powder\",\n",
            "            \"All-Purpose Flour\",\n",
            "            \"Baking Soda\",\n",
            "            \"Salt\",\n",
            "            \"Dark Chocolate Chips\",\n",
            "            \"Salted Caramel Sauce\",\n",
            "            \"Flaky Sea Salt\"\n",
            "        ],\n",
            "        \"recipe_directions\": [\n",
            "            \"Melt butter with dark chocolate chips.\",\n",
            "            \"Whisk in sugars, then eggs and vanilla.\",\n",
            "            \"In a separate bowl, whisk together cocoa powder, flour, baking soda, and salt.\",\n",
            "            \"Combine wet and dry ingredients until just mixed, being careful not to overmix.\",\n",
            "            \"Chill the dough for at least 30 minutes.\",\n",
            "            \"Scoop balls of dough, flatten slightly, place a teaspoon of chilled caramel sauce in the center, and enclose completely with the dough.\",\n",
            "            \"Place cookies on a baking sheet lined with parchment paper.\",\n",
            "            \"Sprinkle the tops with flaky sea salt.\",\n",
            "            \"Bake at 350\\u00b0F (175\\u00b0C) for 10-12 minutes, until edges are set and centers are still soft.\",\n",
            "            \"Let cool on the baking sheet for a few minutes before carefully transferring to a wire rack.\",\n",
            "            \"Serve warm for the best molten center!\",\n",
            "            \"Store cooled cookies in an airtight container at room temperature for up to 3 days, or refrigerate for longer storage.\",\n",
            "            \"Reheat gently before serving if desired.\"\n",
            "        ]\n",
            "    }\n",
            "]\n"
          ]
        }
      ],
      "source": [
        "print(json.dumps(json.loads(result.text), indent=4))"
      ]
    },
    {
      "cell_type": "markdown",
      "metadata": {
        "id": "239af844c650"
      },
      "source": [
        "It is the recommended method if you're using a compatible model."
      ]
    },
    {
      "cell_type": "markdown",
      "metadata": {
        "id": "5ef9efdb62d3"
      },
      "source": [
        "## Next Steps\n",
        "### Useful API references:\n",
        "\n",
        "Check the [structured ouput](https://ai.google.dev/gemini-api/docs/structured-output) documentation or the [`GenerationConfig`](https://ai.google.dev/api/generate-content#generationconfig) API reference for more details\n",
        "\n",
        "### Related examples\n",
        "\n",
        "* The constrained output is used in the [Text summarization](../examples/json_capabilities/Text_Summarization.ipynb) example to provide the model a format to summarize a story (genre, characters, etc...)\n",
        "* The [Object detection](../examples/Object_detection.ipynb) examples are using the JSON constrained output to uniiformize the output of the detection.\n",
        "\n",
        "### Continue your discovery of the Gemini API\n",
        "\n",
        "JSON is not the only way to constrain the output of the model, you can also use an [Enum](../quickstarts/Enum.ipynb). [Function calling](../quickstarts/Function_calling.ipynb) and [Code execution](../quickstarts/Code_Execution.ipynb) are other ways to enhance your model by either using your own functions or by letting the model write and run them."
      ]
    }
  ],
  "metadata": {
    "colab": {
      "name": "JSON_mode.ipynb",
      "toc_visible": true
    },
    "kernelspec": {
      "display_name": "io-env",
      "language": "python",
      "name": "python3"
    },
    "language_info": {
      "codemirror_mode": {
        "name": "ipython",
        "version": 3
      },
      "file_extension": ".py",
      "mimetype": "text/x-python",
      "name": "python",
      "nbconvert_exporter": "python",
      "pygments_lexer": "ipython3",
      "version": "3.12.9"
    }
  },
  "nbformat": 4,
  "nbformat_minor": 0
}
