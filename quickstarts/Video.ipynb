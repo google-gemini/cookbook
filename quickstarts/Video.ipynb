{
  "cells": [
    {
      "cell_type": "markdown",
      "metadata": {
        "id": "Tce3stUlHN0L"
      },
      "source": [
        "##### Copyright 2025 Google LLC."
      ]
    },
    {
      "cell_type": "code",
      "execution_count": 56,
      "metadata": {
        "cellView": "form",
        "id": "tuOe1ymfHZPu"
      },
      "outputs": [],
      "source": [
        "# @title Licensed under the Apache License, Version 2.0 (the \"License\");\n",
        "# you may not use this file except in compliance with the License.\n",
        "# You may obtain a copy of the License at\n",
        "#\n",
        "# https://www.apache.org/licenses/LICENSE-2.0\n",
        "#\n",
        "# Unless required by applicable law or agreed to in writing, software\n",
        "# distributed under the License is distributed on an \"AS IS\" BASIS,\n",
        "# WITHOUT WARRANTIES OR CONDITIONS OF ANY KIND, either express or implied.\n",
        "# See the License for the specific language governing permissions and\n",
        "# limitations under the License."
      ]
    },
    {
      "cell_type": "markdown",
      "metadata": {
        "id": "084u8u0DpBlo"
      },
      "source": [
        "# Gemini API: Prompting with Video"
      ]
    },
    {
      "cell_type": "markdown",
      "metadata": {
        "id": "wnQ_LVlzIeXo"
      },
      "source": [
        "<table align=\"left\">\n",
        "  <td>\n",
        "    <a target=\"_blank\" href=\"https://colab.research.google.com/github/google-gemini/cookbook/blob/main/quickstarts/Video.ipynb\"><img src=\"https://github.com/google-gemini/cookbook/blob/main/images/colab_logo_32px.png?raw=1\" />Run in Google Colab</a>\n",
        "  </td>\n",
        "</table>"
      ]
    },
    {
      "cell_type": "markdown",
      "metadata": {
        "id": "q7QvXQMrIhuZ"
      },
      "source": [
        "This notebook provides a quick example of how to prompt the Gemini API using a video file. In this case, you'll use a short clip of [Big Buck Bunny](https://peach.blender.org/about/).\n",
        "\n",
        "**Notice:** This notebook used the foremer Python SDK. Check that more advanced notebook on [Video understanding](./Video_understanding.ipynb) to see how to use the new SDK and discover more video use-cases."
      ]
    },
    {
      "cell_type": "markdown",
      "metadata": {
        "id": "d5027929de8f"
      },
      "source": [
        "### Install dependencies"
      ]
    },
    {
      "cell_type": "code",
      "execution_count": 57,
      "metadata": {
        "id": "TwpXMTnpsoHC"
      },
      "outputs": [],
      "source": [
        "%pip install -U -q \"google-genai\""
      ]
    },
    {
      "cell_type": "code",
      "execution_count": 58,
      "metadata": {
        "id": "ATIbQM0NHhkj"
      },
      "outputs": [],
      "source": [
        "from google import genai\n",
        "from google.genai import types"
      ]
    },
    {
      "cell_type": "markdown",
      "metadata": {
        "id": "ngyzKAu3Nw5k"
      },
      "source": [
        "### Authentication Overview\n",
        "\n",
        "**Important:** The File API uses API keys for authentication and access. Uploaded files are associated with the API key's cloud project. Unlike other Gemini APIs that use API keys, your API key also grants access data you've uploaded to the File API, so take extra care in keeping your API key secure. For best practices on securing API keys, refer to Google's [documentation](https://support.google.com/googleapi/answer/6310037)."
      ]
    },
    {
      "cell_type": "markdown",
      "metadata": {
        "id": "l8g4hTRotheH"
      },
      "source": [
        "#### Set up your API key\n",
        "\n",
        "To run the following cell, your API key must be stored it in a Colab Secret named `GOOGLE_API_KEY`. If you don't already have an API key, or you're not sure how to create a Colab Secret, see [Authentication](../quickstarts/Authentication.ipynb) for an example."
      ]
    },
    {
      "cell_type": "code",
      "execution_count": 59,
      "metadata": {
        "id": "d6lYXRcjthKV"
      },
      "outputs": [],
      "source": [
        "from google.colab import userdata\n",
        "GOOGLE_API_KEY=userdata.get('GOOGLE_API_KEY')\n",
        "\n",
        "client = genai.Client(api_key=GOOGLE_API_KEY)"
      ]
    },
    {
      "cell_type": "markdown",
      "metadata": {
        "id": "MNvhBdoDFnTC"
      },
      "source": [
        "## Upload a video to the Files API\n",
        "\n",
        "The Gemini API accepts video file formats directly. The File API accepts files under 2GB in size and can store up to 20GB of files per project. Files last for 2 days and cannot be downloaded from the API. For the example, you will use the short film \"Big Buck Bunny\".\n",
        "\n",
        "> \"Big Buck Bunny\" is (c) copyright 2008, Blender Foundation / www.bigbuckbunny.org and [licensed](https://peach.blender.org/about/) under the [Creative Commons Attribution 3.0](http://creativecommons.org/licenses/by/3.0/) License.\n",
        "\n",
        "Note: You can also [upload your own files](https://github.com/google-gemini/cookbook/blob/main/examples/Upload_files_to_Colab.ipynb) to use."
      ]
    },
    {
      "cell_type": "code",
      "execution_count": 60,
      "metadata": {
        "id": "V4XeFdX1rxaE",
        "colab": {
          "base_uri": "https://localhost:8080/"
        },
        "outputId": "fe599ac7-dd9e-477a-f9de-5b40ad15a4a0"
      },
      "outputs": [
        {
          "output_type": "stream",
          "name": "stdout",
          "text": [
            "--2025-03-22 15:13:01--  https://download.blender.org/peach/bigbuckbunny_movies/BigBuckBunny_320x180.mp4\n",
            "Resolving download.blender.org (download.blender.org)... 172.67.14.163, 104.22.65.163, 104.22.64.163, ...\n",
            "Connecting to download.blender.org (download.blender.org)|172.67.14.163|:443... connected.\n",
            "HTTP request sent, awaiting response... 200 OK\n",
            "Length: 64657027 (62M) [video/mp4]\n",
            "Saving to: ‘BigBuckBunny_320x180.mp4.5’\n",
            "\n",
            "BigBuckBunny_320x18 100%[===================>]  61.66M   187MB/s    in 0.3s    \n",
            "\n",
            "2025-03-22 15:13:01 (187 MB/s) - ‘BigBuckBunny_320x180.mp4.5’ saved [64657027/64657027]\n",
            "\n"
          ]
        }
      ],
      "source": [
        "!wget https://download.blender.org/peach/bigbuckbunny_movies/BigBuckBunny_320x180.mp4"
      ]
    },
    {
      "cell_type": "code",
      "execution_count": 61,
      "metadata": {
        "id": "_HzrDdp2Q1Cu",
        "colab": {
          "base_uri": "https://localhost:8080/"
        },
        "outputId": "925f606d-791c-46c1-b5d5-a0acb2f3c55c"
      },
      "outputs": [
        {
          "output_type": "stream",
          "name": "stdout",
          "text": [
            "Uploading file...\n",
            "Completed upload: https://generativelanguage.googleapis.com/v1beta/files/87smtvid6mxk\n"
          ]
        }
      ],
      "source": [
        "video_file_name = \"BigBuckBunny_320x180.mp4\"\n",
        "\n",
        "print(f\"Uploading file...\")\n",
        "video_file = client.files.upload(file=video_file_name)\n",
        "print(f\"Completed upload: {video_file.uri}\")"
      ]
    },
    {
      "cell_type": "markdown",
      "metadata": {
        "id": "oOZmTUb4FWOa"
      },
      "source": [
        "## Get File\n",
        "\n",
        "After uploading the file, you can verify the API has successfully received the files by calling `files.get`.\n",
        "\n",
        "`files.get` lets you see the file uploaded to the File API that are associated with the Cloud project your API key belongs to. Only the `name` (and by extension, the `uri`) are unique."
      ]
    },
    {
      "cell_type": "code",
      "execution_count": 62,
      "metadata": {
        "id": "SHMVCWHkFhJW",
        "colab": {
          "base_uri": "https://localhost:8080/"
        },
        "outputId": "53947aca-8cc8-4afa-93ca-73950b4fa327"
      },
      "outputs": [
        {
          "output_type": "stream",
          "name": "stdout",
          "text": [
            "Waiting for video to be processed.\n",
            "Video processing complete: https://generativelanguage.googleapis.com/v1beta/files/87smtvid6mxk\n"
          ]
        }
      ],
      "source": [
        "import time\n",
        "\n",
        "while video_file.state.name == \"PROCESSING\":\n",
        "    print('Waiting for video to be processed.')\n",
        "    time.sleep(10)\n",
        "    video_file = client.files.get(name=video_file.name)\n",
        "\n",
        "if video_file.state.name == \"FAILED\":\n",
        "  raise ValueError(video_file.state.name)\n",
        "print(f'Video processing complete: ' + video_file.uri)"
      ]
    },
    {
      "cell_type": "markdown",
      "metadata": {
        "id": "EPPOECHzsIGJ"
      },
      "source": [
        "## Generate Content\n",
        "\n",
        "After the video has been uploaded, you can make `GenerateContent` requests that reference the File API URI."
      ]
    },
    {
      "cell_type": "code",
      "execution_count": 63,
      "metadata": {
        "id": "5977cd76eccc",
        "colab": {
          "base_uri": "https://localhost:8080/"
        },
        "outputId": "390e43de-4419-4657-ebd9-c850a6e5e698"
      },
      "outputs": [
        {
          "output_type": "stream",
          "name": "stdout",
          "text": [
            "Making LLM inference request...\n",
            "Here is a description of the video you asked me to provide:\n",
            "\n",
            "The video begins with a gradual reveal of a lush green landscape under a pink-tinted sky. The view settles on a lively meadow with vibrant trees. A meandering stream adds to the serene setting. Cut to a gray cartoon bird perched on a tree branch, its expression is initially wide-eyed surprise, but it soon becomes somber and the bird falls backwards off the branch. The screen then displays, \"THE PEACH OPEN MOVIE PROJECT PRESENTS,\" and then the scene shifts to reveal a cozy burrow beneath a tree, with a hefty rabbit emerging from within. The rabbit stretches, takes in the surroundings, and waddles into the field. \n",
            "\n",
            "As the bunny meanders, it sniffs at some white daisies. Then from a top-down view, a group of squirrels are shown watching from a nearby tree. One squirrel drops an apple on the rabbit, who grabs the apple. More objects are dropped on the bunny and the squirrels laugh.\n",
            "\n"
          ]
        }
      ],
      "source": [
        "# Create the prompt.\n",
        "prompt = \"Describe this video.\"\n",
        "\n",
        "print(\"Making LLM inference request...\")\n",
        "# Set the model to Gemini Flash and Make the LLM request\n",
        "response = client.models.generate_content(\n",
        "    model=\"gemini-2.0-flash\",\n",
        "    contents=[video_file, prompt],\n",
        "    config=types.GenerateContentConfig(http_options=types.HttpOptions(timeout=60000)) #implemented timeout of 60 seconds\n",
        ")\n",
        "print(response.text)"
      ]
    },
    {
      "cell_type": "markdown",
      "metadata": {
        "id": "IrPDYdQSKTg4"
      },
      "source": [
        "## Delete File\n",
        "\n",
        "Files are automatically deleted after 2 days or you can manually delete them using `files.delete()`."
      ]
    },
    {
      "cell_type": "code",
      "execution_count": 64,
      "metadata": {
        "id": "ggoi6wibct18",
        "colab": {
          "base_uri": "https://localhost:8080/"
        },
        "outputId": "c09ddfc2-41b5-4e2d-a627-000758ee5664"
      },
      "outputs": [
        {
          "output_type": "stream",
          "name": "stdout",
          "text": [
            "Deleted file https://generativelanguage.googleapis.com/v1beta/files/87smtvid6mxk\n"
          ]
        }
      ],
      "source": [
        "client.files.delete(name=video_file.name)\n",
        "print(f'Deleted file {video_file.uri}')"
      ]
    },
    {
      "cell_type": "markdown",
      "metadata": {
        "id": "K5oUCqb6IUnH"
      },
      "source": [
        "## Next Steps\n",
        "### Useful API references:\n",
        "\n",
        "The File API lets you upload a variety of multimodal MIME types, including images, audio, and video formats. The File API handles inputs that can be used to generate content with [`model.generateContent`](https://ai.google.dev/api/rest/v1/models/generateContent) or [`model.streamGenerateContent`](https://ai.google.dev/api/rest/v1/models/streamGenerateContent).\n",
        "\n",
        "* Learn more about the [File API](../quickstarts/File_API.ipynb) with the quickstart.\n",
        "\n",
        "* Learn more about prompting with [media files](https://ai.google.dev/tutorials/prompting_with_media) in the docs, including the supported formats and maximum length.\n",
        "\n",
        "### Related examples\n",
        "\n",
        "Check that more advanced notebook on [Video understanding](./Video_understanding.ipynb) for more use-cases.\n",
        "\n",
        "Also check those examples videos with the Gemini API to give you more ideas what you can do with them:\n",
        "* Analyze videos to [classify](../examples/Analyze_a_Video_Classification.ipynb) or [summarize](../examples/Analyze_a_Video_Summarization.ipynb) them\n",
        "* Have the Gemini API recognize an [historical moment](../examples/Analyze_a_Video_Historic_Event_Recognition.ipynb) and tell you more about it\n",
        "\n",
        "### Continue your discovery of the Gemini API\n",
        "\n",
        "If you're not already familiar with it, learn how [tokens are counted](../quickstarts/Counting_Tokens.ipynb). Then check how to use the File API to use [Audio files](../quickstarts/Audio.ipynb) with the Gemini API.\n"
      ]
    }
  ],
  "metadata": {
    "colab": {
      "name": "Video.ipynb",
      "provenance": []
    },
    "kernelspec": {
      "display_name": "Python 3",
      "name": "python3"
    }
  },
  "nbformat": 4,
  "nbformat_minor": 0
}