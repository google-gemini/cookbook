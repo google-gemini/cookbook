{
  "cells": [
    {
      "cell_type": "markdown",
      "metadata": {
        "id": "Tce3stUlHN0L"
      },
      "source": [
        "##### Copyright 2025 Google LLC."
      ]
    },
    {
      "cell_type": "code",
      "execution_count": null,
      "metadata": {
        "cellView": "form",
        "id": "tuOe1ymfHZPu"
      },
      "outputs": [],
      "source": [
        "# @title Licensed under the Apache License, Version 2.0 (the \"License\");\n",
        "#\n",
        "# Licensed under the Apache License, Version 2.0 (the \"License\");\n",
        "# you may not use this file except in compliance with the License.\n",
        "# You may obtain a copy of the License at\n",
        "#\n",
        "#     https://www.apache.org/licenses/LICENSE-2.0\n",
        "#\n",
        "# Unless required by applicable law or agreed to in writing, software\n",
        "# distributed under the License is distributed on an \"AS IS\" BASIS,\n",
        "# WITHOUT WARRANTIES OR CONDITIONS OF ANY KIND, either express or implied.\n",
        "# See the License for the specific language governing permissions and\n",
        "# limitations under the License."
      ]
    },
    {
      "cell_type": "markdown",
      "metadata": {
        "id": "xPixuBZFck9b"
      },
      "source": [
        "# Clustering with embeddings\n",
        "\n",
        "<a target=\"_blank\" href=\"https://colab.research.google.com/github/google-gemini/cookbook/blob/main/examples/clustering_with_embeddings.ipynb\"><img src=\"https://colab.research.google.com/assets/colab-badge.svg\" height=30/></a>"
      ]
    },
    {
      "cell_type": "markdown",
      "metadata": {
        "id": "025c6c81c576"
      },
      "source": [
        "<!-- Princing warning Badge -->\n",
        "<table>\n",
        "  <tr>\n",
        "    <!-- Emoji -->\n",
        "    <td bgcolor=\"#f5949e\">\n",
        "      <font size=30>⚠️</font>\n",
        "    </td>\n",
        "    <!-- Text Content Cell -->\n",
        "    <td bgcolor=\"#f5949e\">\n",
        "      <h3><font color=black>This notebook requires paid tier rate limits to run properly.<br>  \n",
        "(cf. <a href=\"https://ai.google.dev/pricing#veo2\"><font color='#217bfe'>pricing</font></a> for more details).</font></h3>\n",
        "    </td>\n",
        "  </tr>\n",
        "</table>"
      ]
    },
    {
      "cell_type": "markdown",
      "metadata": {
        "id": "PMCPLbMYsljk"
      },
      "source": [
        "## Overview\n",
        "\n",
        "This tutorial demonstrates how to visualize and perform clustering with the embeddings from the Gemini API. You will visualize a subset of the 20 Newsgroup dataset using [t-SNE](https://scikit-learn.org/stable/modules/generated/sklearn.manifold.TSNE.html){:.external} and cluster that subset using the KMeans algorithm.\n",
        "\n",
        "For more information on getting started with embeddings generated from the Gemini API, check out the [Get Started](../quickstarts/Get_started.ipynb).\n",
        "\n",
        "## Prerequisites\n",
        "\n",
        "You can run this quickstart in Google Colab.\n",
        "\n",
        "To complete this quickstart on your own development environment, ensure that your envirmonement meets the following requirements:\n",
        "\n",
        "-  Python 3.11+\n",
        "-  An installation of `jupyter` to run the notebook.\n",
        "\n",
        "## Setup\n",
        "\n",
        "First, download and install the Gemini API Python library."
      ]
    },
    {
      "cell_type": "code",
      "execution_count": 1,
      "metadata": {
        "id": "VYACbzJqseql"
      },
      "outputs": [],
      "source": [
        "!pip install -U -q google-genai"
      ]
    },
    {
      "cell_type": "code",
      "execution_count": null,
      "metadata": {
        "id": "d7bEYfTFmvy9"
      },
      "outputs": [],
      "source": [
        "import re\n",
        "import tqdm\n",
        "import numpy as np\n",
        "import pandas as pd\n",
        "import matplotlib.pyplot as plt\n",
        "import seaborn as sns\n",
        "\n",
        "from google import genai\n",
        "from google.genai import types\n",
        "\n",
        "# Used to securely store your API key\n",
        "from google.colab import userdata\n",
        "\n",
        "from sklearn.datasets import fetch_20newsgroups\n",
        "from sklearn.manifold import TSNE\n",
        "from sklearn.cluster import KMeans\n",
        "from sklearn.metrics import confusion_matrix, ConfusionMatrixDisplay"
      ]
    },
    {
      "cell_type": "markdown",
      "metadata": {
        "id": "qEunxaDOHzfi"
      },
      "source": [
        "### Grab an API Key\n",
        "\n",
        "Before you can use the Gemini API, you must first obtain an API key. If you don't already have one, create a key with one click in Google AI Studio.\n",
        "\n",
        "<a class=\"button button-primary\" href=\"https://aistudio.google.com/app/apikey\" target=\"_blank\" rel=\"noopener noreferrer\">Get an API key</a>\n",
        "\n",
        "In Colab, add the key to the secrets manager under the \"🔑\" in the left panel. Give it the name `GEMINI_API_KEY`.\n",
        "\n",
        "Once you have the API key, pass it to the SDK. You can do this in two ways:\n",
        "\n",
        "* Put the key in the `GEMINI_API_KEY` environment variable (the SDK will automatically pick it up from there).\n",
        "* Pass the key to `genai.Client(api_key=...)`"
      ]
    },
    {
      "cell_type": "code",
      "execution_count": null,
      "metadata": {
        "id": "7CItpYF3uOEf"
      },
      "outputs": [],
      "source": [
        "# Or use `os.getenv('GEMINI_API_KEY')` to fetch an environment variable.\n",
        "GEMINI_API_KEY=userdata.get('GEMINI_API_KEY')\n",
        "\n",
        "client = genai.Client(api_key=GEMINI_API_KEY)"
      ]
    },
    {
      "cell_type": "markdown",
      "metadata": {
        "id": "dJTxEH7RAOfq"
      },
      "source": [
        "Key Point: Next, you will choose a model. Any embedding model will work for this tutorial, but for real applications it's important to choose a specific model and stick with it. The outputs of different models are not compatible with each other.\n",
        "\n",
        "**Note**: At this time, the Gemini API is [only available in certain regions](https://ai.google.dev/gemini-api/docs/available-regions)."
      ]
    },
    {
      "cell_type": "code",
      "execution_count": 3,
      "metadata": {
        "id": "sLeRMa1bz9Ad"
      },
      "outputs": [
        {
          "name": "stdout",
          "output_type": "stream",
          "text": [
            "models/embedding-001\n",
            "models/text-embedding-004\n",
            "models/gemini-embedding-exp-03-07\n",
            "models/gemini-embedding-exp\n",
            "models/gemini-embedding-001\n"
          ]
        }
      ],
      "source": [
        "for m in client.models.list():\n",
        "  if 'embedContent' in m.supported_actions:\n",
        "    print(m.name)"
      ]
    },
    {
      "cell_type": "markdown",
      "metadata": {
        "id": "d6fa32bbaa20"
      },
      "source": [
        "### Select the model to be used"
      ]
    },
    {
      "cell_type": "code",
      "execution_count": 4,
      "metadata": {
        "id": "fc0698cc90e2"
      },
      "outputs": [],
      "source": [
        "MODEL_ID = \"gemini-embedding-001\" # @param [\"gemini-embedding-001\", \"text-embedding-004\"] {\"allow-input\":true, isTemplate: true}"
      ]
    },
    {
      "cell_type": "markdown",
      "metadata": {
        "id": "pnICLtwna2UU"
      },
      "source": [
        "## Dataset\n",
        "\n",
        "The [20 Newsgroups Text Dataset](https://scikit-learn.org/0.19/datasets/twenty_newsgroups.html){:.external} contains 18,000 newsgroups posts on 20 topics divided into training and test sets. The split between the training and test datasets are based on messages posted before and after a specific date. For this tutorial, you will be using the training subset."
      ]
    },
    {
      "cell_type": "code",
      "execution_count": 5,
      "metadata": {
        "id": "7j4Y2198bdnm"
      },
      "outputs": [
        {
          "data": {
            "text/plain": [
              "['alt.atheism',\n",
              " 'comp.graphics',\n",
              " 'comp.os.ms-windows.misc',\n",
              " 'comp.sys.ibm.pc.hardware',\n",
              " 'comp.sys.mac.hardware',\n",
              " 'comp.windows.x',\n",
              " 'misc.forsale',\n",
              " 'rec.autos',\n",
              " 'rec.motorcycles',\n",
              " 'rec.sport.baseball',\n",
              " 'rec.sport.hockey',\n",
              " 'sci.crypt',\n",
              " 'sci.electronics',\n",
              " 'sci.med',\n",
              " 'sci.space',\n",
              " 'soc.religion.christian',\n",
              " 'talk.politics.guns',\n",
              " 'talk.politics.mideast',\n",
              " 'talk.politics.misc',\n",
              " 'talk.religion.misc']"
            ]
          },
          "execution_count": 5,
          "metadata": {},
          "output_type": "execute_result"
        }
      ],
      "source": [
        "newsgroups_train = fetch_20newsgroups(subset='train')\n",
        "\n",
        "# View list of class names for dataset\n",
        "newsgroups_train.target_names"
      ]
    },
    {
      "cell_type": "markdown",
      "metadata": {
        "id": "k-XyGQsTcdSR"
      },
      "source": [
        "Here is the first example in the training set."
      ]
    },
    {
      "cell_type": "code",
      "execution_count": 6,
      "metadata": {
        "id": "KDELgM0xbpkt"
      },
      "outputs": [
        {
          "name": "stdout",
          "output_type": "stream",
          "text": [
            "Lines: 15\n",
            "\n",
            " I was wondering if anyone out there could enlighten me on this car I saw\n",
            "the other day. It was a 2-door sports car, looked to be from the late 60s/\n",
            "early 70s. It was called a Bricklin. The doors were really small. In addition,\n",
            "the front bumper was separate from the rest of the body. This is \n",
            "all I know. If anyone can tellme a model name, engine specs, years\n",
            "of production, where this car is made, history, or whatever info you\n",
            "have on this funky looking car, please e-mail.\n",
            "\n",
            "Thanks,\n",
            "- IL\n",
            "   ---- brought to you by your neighborhood Lerxst ----\n",
            "\n",
            "\n",
            "\n",
            "\n",
            "\n"
          ]
        }
      ],
      "source": [
        "idx = newsgroups_train.data[0].index('Lines')\n",
        "print(newsgroups_train.data[0][idx:])"
      ]
    },
    {
      "cell_type": "code",
      "execution_count": 7,
      "metadata": {
        "id": "G6ldbA4XfPpP"
      },
      "outputs": [],
      "source": [
        "# Apply functions to remove names, emails, and extraneous words from data points in newsgroups.data\n",
        "newsgroups_train.data = [re.sub(r'[\\w\\.-]+@[\\w\\.-]+', '', d) for d in newsgroups_train.data] # Remove email\n",
        "newsgroups_train.data = [re.sub(r\"\\([^()]*\\)\", \"\", d) for d in newsgroups_train.data] # Remove names\n",
        "newsgroups_train.data = [d.replace(\"From: \", \"\") for d in newsgroups_train.data] # Remove \"From: \"\n",
        "newsgroups_train.data = [d.replace(\"\\nSubject: \", \"\") for d in newsgroups_train.data] # Remove \"\\nSubject: \""
      ]
    },
    {
      "cell_type": "code",
      "execution_count": 8,
      "metadata": {
        "id": "26qIj6fJccVI"
      },
      "outputs": [
        {
          "data": {
            "text/html": [
              "<div>\n",
              "<style scoped>\n",
              "    .dataframe tbody tr th:only-of-type {\n",
              "        vertical-align: middle;\n",
              "    }\n",
              "\n",
              "    .dataframe tbody tr th {\n",
              "        vertical-align: top;\n",
              "    }\n",
              "\n",
              "    .dataframe thead th {\n",
              "        text-align: right;\n",
              "    }\n",
              "</style>\n",
              "<table border=\"1\" class=\"dataframe\">\n",
              "  <thead>\n",
              "    <tr style=\"text-align: right;\">\n",
              "      <th></th>\n",
              "      <th>Text</th>\n",
              "      <th>Label</th>\n",
              "      <th>Class Name</th>\n",
              "    </tr>\n",
              "  </thead>\n",
              "  <tbody>\n",
              "    <tr>\n",
              "      <th>0</th>\n",
              "      <td>WHAT car is this!?\\nNntp-Posting-Host: rac3.w...</td>\n",
              "      <td>7</td>\n",
              "      <td>rec.autos</td>\n",
              "    </tr>\n",
              "    <tr>\n",
              "      <th>1</th>\n",
              "      <td>SI Clock Poll - Final Call\\nSummary: Final ca...</td>\n",
              "      <td>4</td>\n",
              "      <td>comp.sys.mac.hardware</td>\n",
              "    </tr>\n",
              "    <tr>\n",
              "      <th>2</th>\n",
              "      <td>PB questions...\\nOrganization: Purdue Univers...</td>\n",
              "      <td>4</td>\n",
              "      <td>comp.sys.mac.hardware</td>\n",
              "    </tr>\n",
              "    <tr>\n",
              "      <th>3</th>\n",
              "      <td>Re: Weitek P9000 ?\\nOrganization: Harris Comp...</td>\n",
              "      <td>1</td>\n",
              "      <td>comp.graphics</td>\n",
              "    </tr>\n",
              "    <tr>\n",
              "      <th>4</th>\n",
              "      <td>Re: Shuttle Launch Question\\nOrganization: Sm...</td>\n",
              "      <td>14</td>\n",
              "      <td>sci.space</td>\n",
              "    </tr>\n",
              "    <tr>\n",
              "      <th>...</th>\n",
              "      <td>...</td>\n",
              "      <td>...</td>\n",
              "      <td>...</td>\n",
              "    </tr>\n",
              "    <tr>\n",
              "      <th>11309</th>\n",
              "      <td>Re: Migraines and scans\\nDistribution: world...</td>\n",
              "      <td>13</td>\n",
              "      <td>sci.med</td>\n",
              "    </tr>\n",
              "    <tr>\n",
              "      <th>11310</th>\n",
              "      <td>Screen Death: Mac Plus/512\\nLines: 22\\nOrganiz...</td>\n",
              "      <td>4</td>\n",
              "      <td>comp.sys.mac.hardware</td>\n",
              "    </tr>\n",
              "    <tr>\n",
              "      <th>11311</th>\n",
              "      <td>Mounting CPU Cooler in vertical case\\nOrganiz...</td>\n",
              "      <td>3</td>\n",
              "      <td>comp.sys.ibm.pc.hardware</td>\n",
              "    </tr>\n",
              "    <tr>\n",
              "      <th>11312</th>\n",
              "      <td>Re: Sphere from 4 points?\\nOrganization: Cent...</td>\n",
              "      <td>1</td>\n",
              "      <td>comp.graphics</td>\n",
              "    </tr>\n",
              "    <tr>\n",
              "      <th>11313</th>\n",
              "      <td>stolen CBR900RR\\nOrganization: California Ins...</td>\n",
              "      <td>8</td>\n",
              "      <td>rec.motorcycles</td>\n",
              "    </tr>\n",
              "  </tbody>\n",
              "</table>\n",
              "<p>11141 rows × 3 columns</p>\n",
              "</div>"
            ],
            "text/plain": [
              "                                                    Text  Label  \\\n",
              "0       WHAT car is this!?\\nNntp-Posting-Host: rac3.w...      7   \n",
              "1       SI Clock Poll - Final Call\\nSummary: Final ca...      4   \n",
              "2       PB questions...\\nOrganization: Purdue Univers...      4   \n",
              "3       Re: Weitek P9000 ?\\nOrganization: Harris Comp...      1   \n",
              "4       Re: Shuttle Launch Question\\nOrganization: Sm...     14   \n",
              "...                                                  ...    ...   \n",
              "11309    Re: Migraines and scans\\nDistribution: world...     13   \n",
              "11310  Screen Death: Mac Plus/512\\nLines: 22\\nOrganiz...      4   \n",
              "11311   Mounting CPU Cooler in vertical case\\nOrganiz...      3   \n",
              "11312   Re: Sphere from 4 points?\\nOrganization: Cent...      1   \n",
              "11313   stolen CBR900RR\\nOrganization: California Ins...      8   \n",
              "\n",
              "                     Class Name  \n",
              "0                     rec.autos  \n",
              "1         comp.sys.mac.hardware  \n",
              "2         comp.sys.mac.hardware  \n",
              "3                 comp.graphics  \n",
              "4                     sci.space  \n",
              "...                         ...  \n",
              "11309                   sci.med  \n",
              "11310     comp.sys.mac.hardware  \n",
              "11311  comp.sys.ibm.pc.hardware  \n",
              "11312             comp.graphics  \n",
              "11313           rec.motorcycles  \n",
              "\n",
              "[11141 rows x 3 columns]"
            ]
          },
          "execution_count": 8,
          "metadata": {},
          "output_type": "execute_result"
        }
      ],
      "source": [
        "# Put training points into a dataframe\n",
        "df_train = pd.DataFrame(newsgroups_train.data, columns=['Text'])\n",
        "df_train['Label'] = newsgroups_train.target\n",
        "# Match label to target name index\n",
        "df_train['Class Name'] = df_train['Label'].map(newsgroups_train.target_names.__getitem__)\n",
        "# Retain text samples that can be used in the gecko model.\n",
        "df_train = df_train[df_train['Text'].str.len() < 10000]\n",
        "\n",
        "df_train"
      ]
    },
    {
      "cell_type": "markdown",
      "metadata": {
        "id": "sZnW2_Tx2_L1"
      },
      "source": [
        "Next, you will sample some of the data by taking 100 data points in the training dataset, and dropping a few of the categories to run through this tutorial. Choose the science categories to compare."
      ]
    },
    {
      "cell_type": "code",
      "execution_count": 9,
      "metadata": {
        "id": "L5LWfJMY3Ii7"
      },
      "outputs": [
        {
          "name": "stderr",
          "output_type": "stream",
          "text": [
            "/tmp/ipykernel_200977/406673449.py:4: FutureWarning: DataFrameGroupBy.apply operated on the grouping columns. This behavior is deprecated, and in a future version of pandas the grouping columns will be excluded from the operation. Either pass `include_groups=False` to exclude the groupings or explicitly select the grouping columns after groupby to silence this warning.\n",
            "  .apply(lambda x: x.sample(SAMPLE_SIZE))\n"
          ]
        },
        {
          "data": {
            "text/html": [
              "<div>\n",
              "<style scoped>\n",
              "    .dataframe tbody tr th:only-of-type {\n",
              "        vertical-align: middle;\n",
              "    }\n",
              "\n",
              "    .dataframe tbody tr th {\n",
              "        vertical-align: top;\n",
              "    }\n",
              "\n",
              "    .dataframe thead th {\n",
              "        text-align: right;\n",
              "    }\n",
              "</style>\n",
              "<table border=\"1\" class=\"dataframe\">\n",
              "  <thead>\n",
              "    <tr style=\"text-align: right;\">\n",
              "      <th></th>\n",
              "      <th>index</th>\n",
              "      <th>Text</th>\n",
              "      <th>Label</th>\n",
              "      <th>Class Name</th>\n",
              "    </tr>\n",
              "  </thead>\n",
              "  <tbody>\n",
              "    <tr>\n",
              "      <th>0</th>\n",
              "      <td>1650</td>\n",
              "      <td>(Stephan Neuhaus )Re: PGP 2.2: general commen...</td>\n",
              "      <td>11</td>\n",
              "      <td>sci.crypt</td>\n",
              "    </tr>\n",
              "    <tr>\n",
              "      <th>1</th>\n",
              "      <td>1651</td>\n",
              "      <td>Re: Off the shelf cheap DES keyseach machine ...</td>\n",
              "      <td>11</td>\n",
              "      <td>sci.crypt</td>\n",
              "    </tr>\n",
              "    <tr>\n",
              "      <th>2</th>\n",
              "      <td>1652</td>\n",
              "      <td>Re: text of White House announcement and Q&amp;As...</td>\n",
              "      <td>11</td>\n",
              "      <td>sci.crypt</td>\n",
              "    </tr>\n",
              "    <tr>\n",
              "      <th>3</th>\n",
              "      <td>1653</td>\n",
              "      <td>Need help !!\\nKeywords: Firewall gateway mode...</td>\n",
              "      <td>11</td>\n",
              "      <td>sci.crypt</td>\n",
              "    </tr>\n",
              "    <tr>\n",
              "      <th>4</th>\n",
              "      <td>1654</td>\n",
              "      <td>Re: text of White House announcement and Q&amp;As...</td>\n",
              "      <td>11</td>\n",
              "      <td>sci.crypt</td>\n",
              "    </tr>\n",
              "    <tr>\n",
              "      <th>...</th>\n",
              "      <td>...</td>\n",
              "      <td>...</td>\n",
              "      <td>...</td>\n",
              "      <td>...</td>\n",
              "    </tr>\n",
              "    <tr>\n",
              "      <th>595</th>\n",
              "      <td>2245</td>\n",
              "      <td>Re: Space Station Redesign, JSC Alternative #...</td>\n",
              "      <td>14</td>\n",
              "      <td>sci.space</td>\n",
              "    </tr>\n",
              "    <tr>\n",
              "      <th>596</th>\n",
              "      <td>2246</td>\n",
              "      <td>Portuguese Launch Complex \\nOrganization: NAS...</td>\n",
              "      <td>14</td>\n",
              "      <td>sci.space</td>\n",
              "    </tr>\n",
              "    <tr>\n",
              "      <th>597</th>\n",
              "      <td>2247</td>\n",
              "      <td>Subject: &lt;None&gt;\\n\\nOrganization: University of...</td>\n",
              "      <td>14</td>\n",
              "      <td>sci.space</td>\n",
              "    </tr>\n",
              "    <tr>\n",
              "      <th>598</th>\n",
              "      <td>2248</td>\n",
              "      <td>Re: Vandalizing the sky.\\nNntp-Posting-Host: ...</td>\n",
              "      <td>14</td>\n",
              "      <td>sci.space</td>\n",
              "    </tr>\n",
              "    <tr>\n",
              "      <th>599</th>\n",
              "      <td>2249</td>\n",
              "      <td>Re: Crazy? or just Imaginitive?\\nOrganization...</td>\n",
              "      <td>14</td>\n",
              "      <td>sci.space</td>\n",
              "    </tr>\n",
              "  </tbody>\n",
              "</table>\n",
              "<p>600 rows × 4 columns</p>\n",
              "</div>"
            ],
            "text/plain": [
              "     index                                               Text  Label  \\\n",
              "0     1650   (Stephan Neuhaus )Re: PGP 2.2: general commen...     11   \n",
              "1     1651   Re: Off the shelf cheap DES keyseach machine ...     11   \n",
              "2     1652   Re: text of White House announcement and Q&As...     11   \n",
              "3     1653   Need help !!\\nKeywords: Firewall gateway mode...     11   \n",
              "4     1654   Re: text of White House announcement and Q&As...     11   \n",
              "..     ...                                                ...    ...   \n",
              "595   2245   Re: Space Station Redesign, JSC Alternative #...     14   \n",
              "596   2246   Portuguese Launch Complex \\nOrganization: NAS...     14   \n",
              "597   2247  Subject: <None>\\n\\nOrganization: University of...     14   \n",
              "598   2248   Re: Vandalizing the sky.\\nNntp-Posting-Host: ...     14   \n",
              "599   2249   Re: Crazy? or just Imaginitive?\\nOrganization...     14   \n",
              "\n",
              "    Class Name  \n",
              "0    sci.crypt  \n",
              "1    sci.crypt  \n",
              "2    sci.crypt  \n",
              "3    sci.crypt  \n",
              "4    sci.crypt  \n",
              "..         ...  \n",
              "595  sci.space  \n",
              "596  sci.space  \n",
              "597  sci.space  \n",
              "598  sci.space  \n",
              "599  sci.space  \n",
              "\n",
              "[600 rows x 4 columns]"
            ]
          },
          "execution_count": 9,
          "metadata": {},
          "output_type": "execute_result"
        }
      ],
      "source": [
        "# Take a sample of each label category from df_train\n",
        "SAMPLE_SIZE = 150\n",
        "df_train = (df_train.groupby('Label', as_index = False)\n",
        "                    .apply(lambda x: x.sample(SAMPLE_SIZE))\n",
        "                    .reset_index(drop=True))\n",
        "\n",
        "# Choose categories about science\n",
        "df_train = df_train[df_train['Class Name'].str.contains('sci')]\n",
        "\n",
        "# Reset the index\n",
        "df_train = df_train.reset_index()\n",
        "df_train"
      ]
    },
    {
      "cell_type": "code",
      "execution_count": 10,
      "metadata": {
        "id": "FI1FDqirsz3O"
      },
      "outputs": [
        {
          "data": {
            "text/plain": [
              "Class Name\n",
              "sci.crypt          150\n",
              "sci.electronics    150\n",
              "sci.med            150\n",
              "sci.space          150\n",
              "Name: count, dtype: int64"
            ]
          },
          "execution_count": 10,
          "metadata": {},
          "output_type": "execute_result"
        }
      ],
      "source": [
        "df_train['Class Name'].value_counts()"
      ]
    },
    {
      "cell_type": "markdown",
      "metadata": {
        "id": "5NbA2hpDH3nl"
      },
      "source": [
        "## Generate the embeddings\n",
        "\n",
        "In this section, you will see how to generate embeddings for the different texts in the dataframe using the embeddings from the Gemini API.\n",
        "\n",
        "The Gemini embedding model supports several task types, each tailored for a specific goal. Here’s a general overview of the available types and their applications:\n",
        "\n",
        "Task Type | Description\n",
        "---       | ---\n",
        "RETRIEVAL_QUERY\t| Specifies the given text is a query in a search/retrieval setting.\n",
        "RETRIEVAL_DOCUMENT | Specifies the given text is a document in a search/retrieval setting.\n",
        "SEMANTIC_SIMILARITY\t| Specifies the given text will be used for Semantic Textual Similarity (STS).\n",
        "CLASSIFICATION\t| Specifies that the embeddings will be used for classification.\n",
        "CLUSTERING\t| Specifies that the embeddings will be used for clustering."
      ]
    },
    {
      "cell_type": "code",
      "execution_count": 11,
      "metadata": {
        "id": "g1NC0e6McsQx"
      },
      "outputs": [
        {
          "name": "stderr",
          "output_type": "stream",
          "text": [
            "/home/lucianomartins/Documents/projects/gemini-launches/gemini-embedding/ge-env/lib/python3.12/site-packages/tqdm/auto.py:21: TqdmWarning: IProgress not found. Please update jupyter and ipywidgets. See https://ipywidgets.readthedocs.io/en/stable/user_install.html\n",
            "  from .autonotebook import tqdm as notebook_tqdm\n",
            "100%|██████████| 600/600 [05:15<00:00,  1.90it/s]\n"
          ]
        }
      ],
      "source": [
        "from tqdm.auto import tqdm\n",
        "tqdm.pandas()\n",
        "\n",
        "from google.api_core import retry\n",
        "\n",
        "def make_embed_text_fn(model):\n",
        "\n",
        "  @retry.Retry(timeout=300.0)\n",
        "  def embed_fn(text: str) -> list[float]:\n",
        "    # Set the task_type to CLUSTERING.\n",
        "    result = client.models.embed_content(model=model,\n",
        "                                            contents=text,\n",
        "                                            config=types.EmbedContentConfig(\n",
        "                                                task_type=\"clustering\"))\n",
        "    return np.array(result.embeddings[0].values)\n",
        "\n",
        "  return embed_fn\n",
        "\n",
        "def create_embeddings(df):\n",
        "  df['Embeddings'] = df['Text'].progress_apply(make_embed_text_fn(MODEL_ID))\n",
        "  return df\n",
        "\n",
        "df_train = create_embeddings(df_train)"
      ]
    },
    {
      "cell_type": "markdown",
      "metadata": {
        "id": "t-1QKCK8DHsI"
      },
      "source": [
        "## Dimensionality reduction\n",
        "\n",
        "The dimension of the document embedding vector is 3072. In order to visualize how the embedded documents are grouped together, you will need to apply dimensionality reduction as you can only visualize the embeddings in 2D or 3D space. Contextually similar documents should be closer together in space as opposed to documents that are not as similar."
      ]
    },
    {
      "cell_type": "code",
      "execution_count": 12,
      "metadata": {
        "id": "XODHZlFcFnn6"
      },
      "outputs": [
        {
          "data": {
            "text/plain": [
              "3072"
            ]
          },
          "execution_count": 12,
          "metadata": {},
          "output_type": "execute_result"
        }
      ],
      "source": [
        "len(df_train['Embeddings'][0])"
      ]
    },
    {
      "cell_type": "code",
      "execution_count": 13,
      "metadata": {
        "id": "73aAdKo1UCrL"
      },
      "outputs": [
        {
          "data": {
            "text/plain": [
              "(600, 3072)"
            ]
          },
          "execution_count": 13,
          "metadata": {},
          "output_type": "execute_result"
        }
      ],
      "source": [
        "# Convert df_train['Embeddings'] Pandas series to a np.array of float32\n",
        "X = np.array(df_train['Embeddings'].to_list(), dtype=np.float32)\n",
        "X.shape"
      ]
    },
    {
      "cell_type": "markdown",
      "metadata": {
        "id": "JB3bsmi4Iuak"
      },
      "source": [
        "You will apply the t-Distributed Stochastic Neighbor Embedding (t-SNE) approach to perform dimensionality reduction. This technique reduces the number of dimensions, while preserving clusters (points that are close together stay close together). For the original data, the model tries to construct a distribution over which other data points are \"neighbors\" (e.g., they share a similar meaning). It then optimizes an objective function to keep a similar distribution in the visualization."
      ]
    },
    {
      "cell_type": "code",
      "execution_count": 15,
      "metadata": {
        "id": "OpyoE-RVSzfe"
      },
      "outputs": [],
      "source": [
        "tsne = TSNE(random_state=0)\n",
        "tsne_results = tsne.fit_transform(X)"
      ]
    },
    {
      "cell_type": "code",
      "execution_count": 16,
      "metadata": {
        "id": "BbsWqQlxJHas"
      },
      "outputs": [
        {
          "data": {
            "text/html": [
              "<div>\n",
              "<style scoped>\n",
              "    .dataframe tbody tr th:only-of-type {\n",
              "        vertical-align: middle;\n",
              "    }\n",
              "\n",
              "    .dataframe tbody tr th {\n",
              "        vertical-align: top;\n",
              "    }\n",
              "\n",
              "    .dataframe thead th {\n",
              "        text-align: right;\n",
              "    }\n",
              "</style>\n",
              "<table border=\"1\" class=\"dataframe\">\n",
              "  <thead>\n",
              "    <tr style=\"text-align: right;\">\n",
              "      <th></th>\n",
              "      <th>TSNE1</th>\n",
              "      <th>TSNE2</th>\n",
              "      <th>Class Name</th>\n",
              "    </tr>\n",
              "  </thead>\n",
              "  <tbody>\n",
              "    <tr>\n",
              "      <th>0</th>\n",
              "      <td>40.186756</td>\n",
              "      <td>-0.446112</td>\n",
              "      <td>sci.crypt</td>\n",
              "    </tr>\n",
              "    <tr>\n",
              "      <th>1</th>\n",
              "      <td>35.983940</td>\n",
              "      <td>0.442592</td>\n",
              "      <td>sci.crypt</td>\n",
              "    </tr>\n",
              "    <tr>\n",
              "      <th>2</th>\n",
              "      <td>29.899532</td>\n",
              "      <td>-9.017360</td>\n",
              "      <td>sci.crypt</td>\n",
              "    </tr>\n",
              "    <tr>\n",
              "      <th>3</th>\n",
              "      <td>33.353500</td>\n",
              "      <td>5.954631</td>\n",
              "      <td>sci.crypt</td>\n",
              "    </tr>\n",
              "    <tr>\n",
              "      <th>4</th>\n",
              "      <td>24.770006</td>\n",
              "      <td>-8.209906</td>\n",
              "      <td>sci.crypt</td>\n",
              "    </tr>\n",
              "    <tr>\n",
              "      <th>...</th>\n",
              "      <td>...</td>\n",
              "      <td>...</td>\n",
              "      <td>...</td>\n",
              "    </tr>\n",
              "    <tr>\n",
              "      <th>595</th>\n",
              "      <td>-23.769527</td>\n",
              "      <td>14.458261</td>\n",
              "      <td>sci.space</td>\n",
              "    </tr>\n",
              "    <tr>\n",
              "      <th>596</th>\n",
              "      <td>-29.530485</td>\n",
              "      <td>16.145725</td>\n",
              "      <td>sci.space</td>\n",
              "    </tr>\n",
              "    <tr>\n",
              "      <th>597</th>\n",
              "      <td>-14.785336</td>\n",
              "      <td>11.442585</td>\n",
              "      <td>sci.space</td>\n",
              "    </tr>\n",
              "    <tr>\n",
              "      <th>598</th>\n",
              "      <td>-22.677313</td>\n",
              "      <td>-0.399542</td>\n",
              "      <td>sci.space</td>\n",
              "    </tr>\n",
              "    <tr>\n",
              "      <th>599</th>\n",
              "      <td>-15.382431</td>\n",
              "      <td>4.611829</td>\n",
              "      <td>sci.space</td>\n",
              "    </tr>\n",
              "  </tbody>\n",
              "</table>\n",
              "<p>600 rows × 3 columns</p>\n",
              "</div>"
            ],
            "text/plain": [
              "         TSNE1      TSNE2 Class Name\n",
              "0    40.186756  -0.446112  sci.crypt\n",
              "1    35.983940   0.442592  sci.crypt\n",
              "2    29.899532  -9.017360  sci.crypt\n",
              "3    33.353500   5.954631  sci.crypt\n",
              "4    24.770006  -8.209906  sci.crypt\n",
              "..         ...        ...        ...\n",
              "595 -23.769527  14.458261  sci.space\n",
              "596 -29.530485  16.145725  sci.space\n",
              "597 -14.785336  11.442585  sci.space\n",
              "598 -22.677313  -0.399542  sci.space\n",
              "599 -15.382431   4.611829  sci.space\n",
              "\n",
              "[600 rows x 3 columns]"
            ]
          },
          "execution_count": 16,
          "metadata": {},
          "output_type": "execute_result"
        }
      ],
      "source": [
        "df_tsne = pd.DataFrame(tsne_results, columns=['TSNE1', 'TSNE2'])\n",
        "df_tsne['Class Name'] = df_train['Class Name'] # Add labels column from df_train to df_tsne\n",
        "df_tsne"
      ]
    },
    {
      "cell_type": "code",
      "execution_count": 17,
      "metadata": {
        "id": "z4N7d8MlpVCS"
      },
      "outputs": [
        {
          "data": {
            "text/plain": [
              "(np.float64(-45.10566120147705),\n",
              " np.float64(47.539869117736814),\n",
              " np.float64(-41.033332443237306),\n",
              " np.float64(37.77369651794434))"
            ]
          },
          "execution_count": 17,
          "metadata": {},
          "output_type": "execute_result"
        },
        {
          "data": {
            "image/jpeg": "[encoded data removed]",
            "text/plain": [
              "<Figure size 800x600 with 1 Axes>"
            ]
          },
          "metadata": {},
          "output_type": "display_data"
        }
      ],
      "source": [
        "fig, ax = plt.subplots(figsize=(8,6)) # Set figsize\n",
        "sns.set_style('darkgrid', {\"grid.color\": \".6\", \"grid.linestyle\": \":\"})\n",
        "sns.scatterplot(data=df_tsne, x='TSNE1', y='TSNE2', hue='Class Name', palette='hls')\n",
        "sns.move_legend(ax, \"upper left\", bbox_to_anchor=(1, 1))\n",
        "plt.title('Scatter plot of news using t-SNE')\n",
        "plt.xlabel('TSNE1')\n",
        "plt.ylabel('TSNE2')\n",
        "plt.axis('equal')"
      ]
    },
    {
      "cell_type": "markdown",
      "metadata": {
        "id": "skgpKPdEie70"
      },
      "source": [
        "## Compare results to KMeans\n",
        "\n",
        "[KMeans clustering](https://developers.google.com/machine-learning/glossary#k-means){:.external} is a popular clustering algorithm and used often for unsupervised learning. It iteratively determines the best k center points, and assigns each example to the closest centroid. Input the embeddings directly into the KMeans algorithm to compare the visualization of the embeddings to the performance of a machine learning algorithm."
      ]
    },
    {
      "cell_type": "code",
      "execution_count": 18,
      "metadata": {
        "id": "8da-KTwtxk27"
      },
      "outputs": [],
      "source": [
        "# Apply KMeans\n",
        "kmeans_model = KMeans(n_clusters=4, random_state=1, n_init='auto').fit(X)\n",
        "labels = kmeans_model.fit_predict(X)"
      ]
    },
    {
      "cell_type": "code",
      "execution_count": 19,
      "metadata": {
        "id": "mYMIXXRm0ZC8"
      },
      "outputs": [
        {
          "data": {
            "text/html": [
              "<div>\n",
              "<style scoped>\n",
              "    .dataframe tbody tr th:only-of-type {\n",
              "        vertical-align: middle;\n",
              "    }\n",
              "\n",
              "    .dataframe tbody tr th {\n",
              "        vertical-align: top;\n",
              "    }\n",
              "\n",
              "    .dataframe thead th {\n",
              "        text-align: right;\n",
              "    }\n",
              "</style>\n",
              "<table border=\"1\" class=\"dataframe\">\n",
              "  <thead>\n",
              "    <tr style=\"text-align: right;\">\n",
              "      <th></th>\n",
              "      <th>TSNE1</th>\n",
              "      <th>TSNE2</th>\n",
              "      <th>Class Name</th>\n",
              "      <th>Cluster</th>\n",
              "    </tr>\n",
              "  </thead>\n",
              "  <tbody>\n",
              "    <tr>\n",
              "      <th>0</th>\n",
              "      <td>40.186756</td>\n",
              "      <td>-0.446112</td>\n",
              "      <td>sci.crypt</td>\n",
              "      <td>1</td>\n",
              "    </tr>\n",
              "    <tr>\n",
              "      <th>1</th>\n",
              "      <td>35.983940</td>\n",
              "      <td>0.442592</td>\n",
              "      <td>sci.crypt</td>\n",
              "      <td>1</td>\n",
              "    </tr>\n",
              "    <tr>\n",
              "      <th>2</th>\n",
              "      <td>29.899532</td>\n",
              "      <td>-9.017360</td>\n",
              "      <td>sci.crypt</td>\n",
              "      <td>1</td>\n",
              "    </tr>\n",
              "    <tr>\n",
              "      <th>3</th>\n",
              "      <td>33.353500</td>\n",
              "      <td>5.954631</td>\n",
              "      <td>sci.crypt</td>\n",
              "      <td>1</td>\n",
              "    </tr>\n",
              "    <tr>\n",
              "      <th>4</th>\n",
              "      <td>24.770006</td>\n",
              "      <td>-8.209906</td>\n",
              "      <td>sci.crypt</td>\n",
              "      <td>1</td>\n",
              "    </tr>\n",
              "    <tr>\n",
              "      <th>...</th>\n",
              "      <td>...</td>\n",
              "      <td>...</td>\n",
              "      <td>...</td>\n",
              "      <td>...</td>\n",
              "    </tr>\n",
              "    <tr>\n",
              "      <th>595</th>\n",
              "      <td>-23.769527</td>\n",
              "      <td>14.458261</td>\n",
              "      <td>sci.space</td>\n",
              "      <td>2</td>\n",
              "    </tr>\n",
              "    <tr>\n",
              "      <th>596</th>\n",
              "      <td>-29.530485</td>\n",
              "      <td>16.145725</td>\n",
              "      <td>sci.space</td>\n",
              "      <td>2</td>\n",
              "    </tr>\n",
              "    <tr>\n",
              "      <th>597</th>\n",
              "      <td>-14.785336</td>\n",
              "      <td>11.442585</td>\n",
              "      <td>sci.space</td>\n",
              "      <td>2</td>\n",
              "    </tr>\n",
              "    <tr>\n",
              "      <th>598</th>\n",
              "      <td>-22.677313</td>\n",
              "      <td>-0.399542</td>\n",
              "      <td>sci.space</td>\n",
              "      <td>2</td>\n",
              "    </tr>\n",
              "    <tr>\n",
              "      <th>599</th>\n",
              "      <td>-15.382431</td>\n",
              "      <td>4.611829</td>\n",
              "      <td>sci.space</td>\n",
              "      <td>2</td>\n",
              "    </tr>\n",
              "  </tbody>\n",
              "</table>\n",
              "<p>600 rows × 4 columns</p>\n",
              "</div>"
            ],
            "text/plain": [
              "         TSNE1      TSNE2 Class Name  Cluster\n",
              "0    40.186756  -0.446112  sci.crypt        1\n",
              "1    35.983940   0.442592  sci.crypt        1\n",
              "2    29.899532  -9.017360  sci.crypt        1\n",
              "3    33.353500   5.954631  sci.crypt        1\n",
              "4    24.770006  -8.209906  sci.crypt        1\n",
              "..         ...        ...        ...      ...\n",
              "595 -23.769527  14.458261  sci.space        2\n",
              "596 -29.530485  16.145725  sci.space        2\n",
              "597 -14.785336  11.442585  sci.space        2\n",
              "598 -22.677313  -0.399542  sci.space        2\n",
              "599 -15.382431   4.611829  sci.space        2\n",
              "\n",
              "[600 rows x 4 columns]"
            ]
          },
          "execution_count": 19,
          "metadata": {},
          "output_type": "execute_result"
        }
      ],
      "source": [
        "df_tsne['Cluster'] = labels\n",
        "df_tsne"
      ]
    },
    {
      "cell_type": "code",
      "execution_count": 20,
      "metadata": {
        "id": "wwuk36dt1XaS"
      },
      "outputs": [
        {
          "data": {
            "text/plain": [
              "(np.float64(-45.10566120147705),\n",
              " np.float64(47.539869117736814),\n",
              " np.float64(-41.033332443237306),\n",
              " np.float64(37.77369651794434))"
            ]
          },
          "execution_count": 20,
          "metadata": {},
          "output_type": "execute_result"
        },
        {
          "data": {
            "image/jpeg": "[encoded data removed]",
            "text/plain": [
              "<Figure size 800x600 with 1 Axes>"
            ]
          },
          "metadata": {},
          "output_type": "display_data"
        }
      ],
      "source": [
        "fig, ax = plt.subplots(figsize=(8,6)) # Set figsize\n",
        "sns.set_style('darkgrid', {\"grid.color\": \".6\", \"grid.linestyle\": \":\"})\n",
        "sns.scatterplot(data=df_tsne, x='TSNE1', y='TSNE2', hue='Cluster', palette='magma')\n",
        "sns.move_legend(ax, \"upper left\", bbox_to_anchor=(1, 1))\n",
        "plt.title('Scatter plot of news using KMeans Clustering')\n",
        "plt.xlabel('TSNE1')\n",
        "plt.ylabel('TSNE2')\n",
        "plt.axis('equal')"
      ]
    },
    {
      "cell_type": "code",
      "execution_count": 21,
      "metadata": {
        "id": "tuAx8ZI3ydcT"
      },
      "outputs": [],
      "source": [
        "def get_majority_cluster_per_group(df_tsne_cluster, class_names):\n",
        "  class_clusters = dict()\n",
        "  for c in class_names:\n",
        "    # Get rows of dataframe that are equal to c\n",
        "    rows = df_tsne_cluster.loc[df_tsne_cluster['Class Name'] == c]\n",
        "    # Get majority value in Cluster column of the rows selected\n",
        "    cluster = rows.Cluster.mode().values[0]\n",
        "    # Populate mapping dictionary\n",
        "    class_clusters[c] = cluster\n",
        "  return class_clusters"
      ]
    },
    {
      "cell_type": "code",
      "execution_count": 22,
      "metadata": {
        "id": "Is_GUvFS0GH_"
      },
      "outputs": [
        {
          "data": {
            "text/plain": [
              "{'sci.crypt': np.int32(1),\n",
              " 'sci.electronics': np.int32(0),\n",
              " 'sci.med': np.int32(3),\n",
              " 'sci.space': np.int32(2)}"
            ]
          },
          "execution_count": 22,
          "metadata": {},
          "output_type": "execute_result"
        }
      ],
      "source": [
        "classes = df_tsne['Class Name'].unique()\n",
        "class_clusters = get_majority_cluster_per_group(df_tsne, classes)\n",
        "class_clusters"
      ]
    },
    {
      "cell_type": "markdown",
      "metadata": {
        "id": "R_bf9nXc6Dgx"
      },
      "source": [
        "Get the majority of clusters per group, and see how many of the actual members of that group are in that cluster."
      ]
    },
    {
      "cell_type": "code",
      "execution_count": 23,
      "metadata": {
        "id": "b2GyHE8ahEff"
      },
      "outputs": [
        {
          "data": {
            "text/plain": [
              "Class Name\n",
              "sci.space          0.993333\n",
              "sci.med            0.986667\n",
              "sci.crypt          0.973333\n",
              "sci.electronics    0.960000\n",
              "Name: count, dtype: float64"
            ]
          },
          "execution_count": 23,
          "metadata": {},
          "output_type": "execute_result"
        }
      ],
      "source": [
        "# Convert the Cluster column to use the class name\n",
        "class_by_id = {v: k for k, v in class_clusters.items()}\n",
        "df_tsne['Predicted'] = df_tsne['Cluster'].map(class_by_id.__getitem__)\n",
        "\n",
        "# Filter to the correctly matched rows\n",
        "correct = df_tsne[df_tsne['Class Name'] == df_tsne['Predicted']]\n",
        "\n",
        "# Summarise, as a percentage\n",
        "acc = correct['Class Name'].value_counts() / SAMPLE_SIZE\n",
        "acc"
      ]
    },
    {
      "cell_type": "code",
      "execution_count": 24,
      "metadata": {
        "id": "gF0wwWQK9Yek"
      },
      "outputs": [
        {
          "data": {
            "text/html": [
              "<div>\n",
              "<style scoped>\n",
              "    .dataframe tbody tr th:only-of-type {\n",
              "        vertical-align: middle;\n",
              "    }\n",
              "\n",
              "    .dataframe tbody tr th {\n",
              "        vertical-align: top;\n",
              "    }\n",
              "\n",
              "    .dataframe thead th {\n",
              "        text-align: right;\n",
              "    }\n",
              "</style>\n",
              "<table border=\"1\" class=\"dataframe\">\n",
              "  <thead>\n",
              "    <tr style=\"text-align: right;\">\n",
              "      <th></th>\n",
              "      <th>TSNE1</th>\n",
              "      <th>TSNE2</th>\n",
              "      <th>Class Name</th>\n",
              "      <th>Cluster</th>\n",
              "      <th>Predicted</th>\n",
              "    </tr>\n",
              "  </thead>\n",
              "  <tbody>\n",
              "    <tr>\n",
              "      <th>0</th>\n",
              "      <td>40.186756</td>\n",
              "      <td>-0.446112</td>\n",
              "      <td>sci.crypt</td>\n",
              "      <td>1</td>\n",
              "      <td>sci.crypt</td>\n",
              "    </tr>\n",
              "    <tr>\n",
              "      <th>1</th>\n",
              "      <td>35.983940</td>\n",
              "      <td>0.442592</td>\n",
              "      <td>sci.crypt</td>\n",
              "      <td>1</td>\n",
              "      <td>sci.crypt</td>\n",
              "    </tr>\n",
              "    <tr>\n",
              "      <th>2</th>\n",
              "      <td>29.899532</td>\n",
              "      <td>-9.017360</td>\n",
              "      <td>sci.crypt</td>\n",
              "      <td>1</td>\n",
              "      <td>sci.crypt</td>\n",
              "    </tr>\n",
              "    <tr>\n",
              "      <th>3</th>\n",
              "      <td>33.353500</td>\n",
              "      <td>5.954631</td>\n",
              "      <td>sci.crypt</td>\n",
              "      <td>1</td>\n",
              "      <td>sci.crypt</td>\n",
              "    </tr>\n",
              "    <tr>\n",
              "      <th>4</th>\n",
              "      <td>24.770006</td>\n",
              "      <td>-8.209906</td>\n",
              "      <td>sci.crypt</td>\n",
              "      <td>1</td>\n",
              "      <td>sci.crypt</td>\n",
              "    </tr>\n",
              "    <tr>\n",
              "      <th>...</th>\n",
              "      <td>...</td>\n",
              "      <td>...</td>\n",
              "      <td>...</td>\n",
              "      <td>...</td>\n",
              "      <td>...</td>\n",
              "    </tr>\n",
              "    <tr>\n",
              "      <th>595</th>\n",
              "      <td>-23.769527</td>\n",
              "      <td>14.458261</td>\n",
              "      <td>sci.space</td>\n",
              "      <td>2</td>\n",
              "      <td>sci.space</td>\n",
              "    </tr>\n",
              "    <tr>\n",
              "      <th>596</th>\n",
              "      <td>-29.530485</td>\n",
              "      <td>16.145725</td>\n",
              "      <td>sci.space</td>\n",
              "      <td>2</td>\n",
              "      <td>sci.space</td>\n",
              "    </tr>\n",
              "    <tr>\n",
              "      <th>597</th>\n",
              "      <td>-14.785336</td>\n",
              "      <td>11.442585</td>\n",
              "      <td>sci.space</td>\n",
              "      <td>2</td>\n",
              "      <td>sci.space</td>\n",
              "    </tr>\n",
              "    <tr>\n",
              "      <th>598</th>\n",
              "      <td>-22.677313</td>\n",
              "      <td>-0.399542</td>\n",
              "      <td>sci.space</td>\n",
              "      <td>2</td>\n",
              "      <td>sci.space</td>\n",
              "    </tr>\n",
              "    <tr>\n",
              "      <th>599</th>\n",
              "      <td>-15.382431</td>\n",
              "      <td>4.611829</td>\n",
              "      <td>sci.space</td>\n",
              "      <td>2</td>\n",
              "      <td>sci.space</td>\n",
              "    </tr>\n",
              "  </tbody>\n",
              "</table>\n",
              "<p>600 rows × 5 columns</p>\n",
              "</div>"
            ],
            "text/plain": [
              "         TSNE1      TSNE2 Class Name  Cluster  Predicted\n",
              "0    40.186756  -0.446112  sci.crypt        1  sci.crypt\n",
              "1    35.983940   0.442592  sci.crypt        1  sci.crypt\n",
              "2    29.899532  -9.017360  sci.crypt        1  sci.crypt\n",
              "3    33.353500   5.954631  sci.crypt        1  sci.crypt\n",
              "4    24.770006  -8.209906  sci.crypt        1  sci.crypt\n",
              "..         ...        ...        ...      ...        ...\n",
              "595 -23.769527  14.458261  sci.space        2  sci.space\n",
              "596 -29.530485  16.145725  sci.space        2  sci.space\n",
              "597 -14.785336  11.442585  sci.space        2  sci.space\n",
              "598 -22.677313  -0.399542  sci.space        2  sci.space\n",
              "599 -15.382431   4.611829  sci.space        2  sci.space\n",
              "\n",
              "[600 rows x 5 columns]"
            ]
          },
          "execution_count": 24,
          "metadata": {},
          "output_type": "execute_result"
        }
      ],
      "source": [
        "# Get predicted values by name\n",
        "df_tsne['Predicted'] = ''\n",
        "for idx, rows in df_tsne.iterrows():\n",
        "  cluster = rows['Cluster']\n",
        "  # Get key from mapping based on cluster value\n",
        "  key = list(class_clusters.keys())[list(class_clusters.values()).index(cluster)]\n",
        "  df_tsne.at[idx, 'Predicted'] = key\n",
        "\n",
        "df_tsne"
      ]
    },
    {
      "cell_type": "markdown",
      "metadata": {
        "id": "DWBhCLr0OTrQ"
      },
      "source": [
        "To better visualize the performance of the KMeans applied to your data, you can use a [confusion matrix](https://scikit-learn.org/stable/modules/generated/sklearn.metrics.confusion_matrix.html). The confusion matrix allows you to assess the performance of the classification model beyond accuracy. You can see what misclassified points get classified as. You will need the actual values and the predicted values, which you have gathered in the dataframe above."
      ]
    },
    {
      "cell_type": "code",
      "execution_count": 25,
      "metadata": {
        "id": "CwqggsKD-ywF"
      },
      "outputs": [
        {
          "data": {
            "image/jpeg": "[encoded data removed]",
            "text/plain": [
              "<Figure size 640x480 with 2 Axes>"
            ]
          },
          "metadata": {},
          "output_type": "display_data"
        }
      ],
      "source": [
        "cm = confusion_matrix(df_tsne['Class Name'].to_list(), df_tsne['Predicted'].to_list())\n",
        "disp = ConfusionMatrixDisplay(confusion_matrix=cm,\n",
        "                              display_labels=classes)\n",
        "disp.plot(xticks_rotation='vertical')\n",
        "plt.title('Confusion Matrix for Actual and Clustered Newsgroups');\n",
        "plt.grid(False)"
      ]
    },
    {
      "cell_type": "markdown",
      "metadata": {
        "id": "yCXlOrLFrE1k"
      },
      "source": [
        "## Next steps\n",
        "\n",
        "You've now created your own visualization of embeddings with clustering! Try using your own textual data to visualize them as embeddings. You can perform dimensionality reduction in order to complete the visualization step. Note that TSNE is good at clustering inputs, but can take a longer time to converge or might get stuck at local minima. \n",
        "\n",
        "There are other clustering algorithms outside of KMeans as well, such as [density-based spatial clustering (DBSCAN)](https://scikit-learn.org/stable/modules/generated/sklearn.cluster.DBSCAN.html).\n",
        "\n",
        "To learn how to use other services in the Gemini API, see the [Get started](../quickstarts/Get_started.ipynb) guide."
      ]
    }
  ],
  "metadata": {
    "colab": {
      "name": "clustering_with_embeddings.ipynb",
      "toc_visible": true
    },
    "google": {
      "image_path": "/examples/clustering_with_embeddings_files/output_z4N7d8MlpVCS_1.png",
      "keywords": [
        "examples",
        "googleai",
        "samplecode",
        "python",
        "embed"
      ]
    },
    "kernelspec": {
      "display_name": "Python 3",
      "name": "python3"
    }
  },
  "nbformat": 4,
  "nbformat_minor": 0
}
