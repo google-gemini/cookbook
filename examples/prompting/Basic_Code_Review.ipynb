{
  "cells": [
    {
      "cell_type": "markdown",
      "metadata": {
        "id": "qVoQ1dMTW2Ak"
      },
      "source": [
        "##### Copyright 2025 Google LLC."
      ]
    },
    {
      "cell_type": "code",
      "execution_count": 24,
      "metadata": {
        "cellView": "form",
        "id": "_KOwXrFSGiUv"
      },
      "outputs": [],
      "source": [
        "#@title Licensed under the Apache License, Version 2.0 (the \"License\");\n",
        "# you may not use this file except in compliance with the License.\n",
        "# You may obtain a copy of the License at\n",
        "#\n",
        "# https://www.apache.org/licenses/LICENSE-2.0\n",
        "#\n",
        "# Unless required by applicable law or agreed to in writing, software\n",
        "# distributed under the License is distributed on an \"AS IS\" BASIS,\n",
        "# WITHOUT WARRANTIES OR CONDITIONS OF ANY KIND, either express or implied.\n",
        "# See the License for the specific language governing permissions and\n",
        "# limitations under the License."
      ]
    },
    {
      "cell_type": "markdown",
      "metadata": {
        "id": "tr7ER0zfZCfY"
      },
      "source": [
        "# Gemini API: Basic Code Review"
      ]
    },
    {
      "cell_type": "markdown",
      "metadata": {
        "id": "UQCYh9zIgoh2"
      },
      "source": [
        "<a target=\"_blank\" href=\"https://colab.research.google.com/github/google-gemini/cookbook/blob/main/examples/prompting/Basic_Code_Review.ipynb\"><img src=\"https://colab.research.google.com/assets/colab-badge.svg\" height=30/>"
      ]
    },
    {
      "cell_type": "markdown",
      "metadata": {
        "id": "JwG4fNINmdhe"
      },
      "source": [
        "Developed by [Shipra](https://github.com/Shi-pra-19)."
      ]
    },
    {
      "cell_type": "markdown",
      "metadata": {
        "id": "31H1nJPKHwuk"
      },
      "source": [
        "Gemini API can be a great tool to save you time during the development process by assisting with tasks such as code review, debugging, and optimization.\n",
        "\n",
        "Gemini API’s Python SDK can be used to perform various forms of code review tasks, including:\n",
        "- Providing feedback on code quality, readability, or best practices\n",
        "- Identifying weak areas in the code such as poor variable naming, inefficient loops, or security vulnerabilities\n",
        "- Suggesting optimizations to improve performance and maintainability\n",
        "\n",
        "\n",
        "Below is an example of using the Gemini model to enhance code quality through feedback."
      ]
    },
    {
      "cell_type": "code",
      "execution_count": 25,
      "metadata": {
        "id": "JU-CGvNaKIrE"
      },
      "outputs": [],
      "source": [
        "%pip install -U -q \"google-genai>=1.7.0\""
      ]
    },
    {
      "cell_type": "code",
      "execution_count": 26,
      "metadata": {
        "id": "m-giCd-DKKeH"
      },
      "outputs": [],
      "source": [
        "from google import genai"
      ]
    },
    {
      "cell_type": "markdown",
      "metadata": {
        "id": "4iFZqZT0K-L3"
      },
      "source": [
        "## Configure your API key\n",
        "\n",
        "To run the following cell, your API key must be stored it in a Colab Secret named `GOOGLE_API_KEY`. If you don't already have an API key, or you're not sure how to create a Colab Secret, see [Authentication](https://github.com/google-gemini/cookbook/blob/main/quickstarts/Authentication.ipynb) for an example."
      ]
    },
    {
      "cell_type": "code",
      "execution_count": 27,
      "metadata": {
        "id": "B1BWAbqvLCB1"
      },
      "outputs": [],
      "source": [
        "from google.colab import userdata\n",
        "GOOGLE_API_KEY=userdata.get('GOOGLE_API_KEY')\n",
        "\n",
        "client = genai.Client(api_key=GOOGLE_API_KEY)"
      ]
    },
    {
      "cell_type": "markdown",
      "metadata": {
        "id": "qNmL9WxGNk9C"
      },
      "source": [
        "## Example\n",
        "\n",
        "Start by defining some system instructions for this problem. For demonstration purposes, this use case involves prompting the model to generate a piece of code that contains a mix of common and critical mistakes."
      ]
    },
    {
      "cell_type": "code",
      "execution_count": 28,
      "metadata": {
        "id": "nJuIQ-0bfcZP"
      },
      "outputs": [],
      "source": [
        "MODEL_ID=\"gemini-2.0-flash\" # @param [\"gemini-2.0-flash-lite\",\"gemini-2.0-flash\",\"gemini-2.5-pro-exp-03-25\"] {\"allow-input\":true, isTemplate: true}"
      ]
    },
    {
      "cell_type": "code",
      "execution_count": 29,
      "metadata": {
        "id": "S0d95lm2NyAE"
      },
      "outputs": [
        {
          "data": {
            "text/markdown": "```python\n def process_numbers(lst):\n  new_list = []\n  for num in lst:\n   if num not in new_list:\n    new_list.append(num)\n  \n  filtered_list = []\n  for i in new_list:\n   if i >= 30:\n    filtered_list.append(i)\n  \n  filtered_list.sort(reverse=True)\n  return filtered_list\n```",
            "text/plain": [
              "<IPython.core.display.Markdown object>"
            ]
          },
          "execution_count": 29,
          "metadata": {},
          "output_type": "execute_result"
        }
      ],
      "source": [
        "from google.genai import types\n",
        "from IPython.display import Markdown\n",
        "\n",
        "buggy_code_prompt = \"\"\"\n",
        "     You are a beginner programmer.\n",
        "     You are tasked with writing code that include common errors:\n",
        "\n",
        "     1. Logical flaws\n",
        "     2. Inefficient looping constructs\n",
        "     3. Inconsistent formatting.\n",
        "     4. Poor naming conventions\n",
        "\n",
        "     Only output the code—no explanations.\n",
        "     If the task doesn’t specify a programming language, default to Python.\n",
        "\"\"\"\n",
        "\n",
        "programmer_response = client.models.generate_content(\n",
        "    model=MODEL_ID,\n",
        "    contents= \"\"\"\n",
        "            Write code to take a list of integers, remove any duplicates,\n",
        "            filter out all numbers less than 30,\n",
        "            and return the remaining numbers sorted in descending order.\n",
        "     \"\"\",\n",
        "    config=types.GenerateContentConfig(\n",
        "        system_instruction=buggy_code_prompt\n",
        "    ),\n",
        ")\n",
        "\n",
        "code = programmer_response.text\n",
        "Markdown(code)"
      ]
    },
    {
      "cell_type": "code",
      "execution_count": 23,
      "metadata": {
        "id": "N4W5TGtfSugH"
      },
      "outputs": [
        {
          "data": {
            "text/markdown": "Okay, I've reviewed the code and here's my feedback.\n\n**1. Feedback:**\n\n*   **Logic Errors:**  The code aims to filter a list of numbers, remove duplicates, keep only numbers greater than or equal to 30, sort the remaining numbers, and return them in descending order. The logic is sound overall, but there's room for improvement in efficiency and clarity.\n*   **Code Readability and Naming Conventions:**\n    *   Variable names are generally okay (`list_of_nums`, `temp_list`, `new_list`), but could be more descriptive to improve readability. For example, `unique_numbers` instead of `temp_list` would be clearer.\n    *   The code is somewhat verbose.  It could be more concise by using list comprehensions and built-in functions.\n    *   There are no comments explaining the purpose of each section of the code.\n*   **Code Efficiency and Best Practices:**\n    *   Using `n not in temp_list` inside a loop has a time complexity of O(n), where n is the length of `temp_list`.  This makes the duplicate removal process inefficient, especially for large lists.  Using a `set` is a much more efficient way to remove duplicates (O(1) average case for checking membership).\n    *   Creating multiple lists (`temp_list`, `new_list`) can be avoided by using list comprehensions or generator expressions, making the code more memory-efficient.\n    *   Sorting and reversing can be done in a single step using the `sort` method with the `reverse` parameter.\n\n**2. Corrected Version of the Code:**\n\n```python\ndef process_numbers(numbers):\n  \"\"\"\n  Filters a list of numbers, removing duplicates, keeping only numbers >= 30,\n  and returns the remaining numbers in descending order.\n\n  Args:\n    numbers: A list of numbers.\n\n  Returns:\n    A list of numbers that are >= 30, unique, and sorted in descending order.\n  \"\"\"\n  unique_numbers = set(numbers)  # Remove duplicates efficiently\n  filtered_numbers = [num for num in unique_numbers if num >= 30]  # Filter numbers >= 30\n  filtered_numbers.sort(reverse=True)  # Sort in descending order\n  return filtered_numbers\n```\n\n**3. Explanation of Changes:**\n\n*   **Function Name:** Changed `process_nums` to `process_numbers` for better readability.\n*   **Docstring:** Added a docstring to explain what the function does, its arguments, and its return value.  This is crucial for maintainability.\n*   **Duplicate Removal:** Replaced the loop and `temp_list` with `unique_numbers = set(numbers)`.  This leverages the properties of a `set` to efficiently remove duplicates in O(n) time complexity on average, compared to the original code's O(n^2) complexity in the worst case.\n*   **Filtering:** Replaced the `while` loop and `new_list` with a list comprehension: `filtered_numbers = [num for num in unique_numbers if num >= 30]`. This combines the filtering step into a single, more readable line.\n*   **Sorting:** Combined the sorting and reversing steps into a single line: `filtered_numbers.sort(reverse=True)`.  This is more concise and efficient.\n*   **Variable Names:** Changed `temp_list` to `unique_numbers` and `new_list` to `filtered_numbers` for increased clarity.\n\n**Why these changes improve the original code:**\n\n*   **Efficiency:** Using a `set` for duplicate removal significantly improves performance, especially for large lists.\n*   **Readability:**  List comprehensions and more descriptive variable names make the code easier to understand.\n*   **Conciseness:** Reducing the number of lines of code while maintaining clarity makes the code easier to maintain and reason about.\n*   **Maintainability:** The docstring and improved structure make the code easier to understand and modify in the future.\n",
            "text/plain": [
              "<IPython.core.display.Markdown object>"
            ]
          },
          "execution_count": 23,
          "metadata": {},
          "output_type": "execute_result"
        }
      ],
      "source": [
        "review_prompt = \"\"\"\n",
        "     As a senior programmer, you are tasked with reviewing beginner-level code.\n",
        "     Please follow these instructions for the evaluation:\n",
        "\n",
        "     1. Provide detailed feedback on the code, focusing on:\n",
        "        - Logic errors\n",
        "        - Code readability and naming conventions\n",
        "        - Code efficiency and best practices\n",
        "\n",
        "     2. Write a corrected version of the code, addressing the identified issues.\n",
        "\n",
        "     3. Clearly point out the changes you made and explain why they improve the original code.\n",
        "\"\"\"\n",
        "\n",
        "review = client.models.generate_content(\n",
        "    model=MODEL_ID,\n",
        "    contents=code,\n",
        "    config=types.GenerateContentConfig(\n",
        "        system_instruction=review_prompt\n",
        "    ),\n",
        ")\n",
        "\n",
        "\n",
        "Markdown(review.text)"
      ]
    },
    {
      "cell_type": "markdown",
      "metadata": {
        "id": "nTc3APHpWGys"
      },
      "source": [
        "## Next steps\n",
        "\n",
        "Be sure to explore other examples of prompting in the repository. Try writing prompts for reviewing your own code as well using the example in this notebook."
      ]
    }
  ],
  "metadata": {
    "colab": {
      "name": "Basic_Code_Review.ipynb",
      "toc_visible": true
    },
    "kernelspec": {
      "display_name": "Python 3",
      "name": "python3"
    }
  },
  "nbformat": 4,
  "nbformat_minor": 0
}
