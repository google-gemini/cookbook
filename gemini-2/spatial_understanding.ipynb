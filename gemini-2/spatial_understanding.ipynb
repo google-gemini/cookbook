{
  "cells": [
    {
      "cell_type": "markdown",
      "metadata": {
        "id": "WMGdicu8PVD9"
      },
      "source": [
        "# 2D spatial understanding with Gemini 2.0"
      ]
    },
    {
      "cell_type": "markdown",
      "metadata": {
        "id": "0c78a2290cc9"
      },
      "source": [
        "### This notebook has been moved in the [quickstarts](../quickstarts/Spatial_understanding.ipynb) section where you can find all the guides and tutorials to get to know the Gemini capabilities."
      ]
    }
  ],
  "metadata": {
    "colab": {
      "name": "spatial_understanding.ipynb",
      "toc_visible": true
    },
    "kernelspec": {
      "display_name": "Python 3",
      "name": "python3"
    }
  },
  "nbformat": 4,
  "nbformat_minor": 0
}
