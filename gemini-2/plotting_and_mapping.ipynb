{
  "cells": [
    {
      "cell_type": "markdown",
      "metadata": {
        "id": "WMGdicu8PVD9"
      },
      "source": [
        "# Gemini 2.0 - Multi-tool with the Multimodal Live API"
      ]
    },
    {
      "cell_type": "markdown",
      "metadata": {
        "id": "35e3110df873"
      },
      "source": [
        "### This notebook has been moved in the [examples](../examples/LiveAPI_plotting_and_mapping.ipynb) section where you can find all the cool examples you can build with Gemini 2.0."
      ]
    }
  ],
  "metadata": {
    "colab": {
      "name": "plotting_and_mapping.ipynb",
      "toc_visible": true
    },
    "kernelspec": {
      "display_name": "Python 3",
      "name": "python3"
    }
  },
  "nbformat": 4,
  "nbformat_minor": 0
}
