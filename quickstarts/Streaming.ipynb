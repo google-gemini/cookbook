{
  "cells": [
    {
      "cell_type": "markdown",
      "metadata": {
        "id": "Tce3stUlHN0L"
      },
      "source": [
        "##### Copyright 2024 Google LLC."
      ]
    },
    {
      "cell_type": "code",
      "execution_count": null,
      "metadata": {
        "cellView": "form",
        "id": "tuOe1ymfHZPu"
      },
      "outputs": [],
      "source": [
        "# @title Licensed under the Apache License, Version 2.0 (the \"License\");\n",
        "# you may not use this file except in compliance with the License.\n",
        "# You may obtain a copy of the License at\n",
        "#\n",
        "# https://www.apache.org/licenses/LICENSE-2.0\n",
        "#\n",
        "# Unless required by applicable law or agreed to in writing, software\n",
        "# distributed under the License is distributed on an \"AS IS\" BASIS,\n",
        "# WITHOUT WARRANTIES OR CONDITIONS OF ANY KIND, either express or implied.\n",
        "# See the License for the specific language governing permissions and\n",
        "# limitations under the License."
      ]
    },
    {
      "cell_type": "markdown",
      "metadata": {
        "id": "yeadDkMiISin"
      },
      "source": [
        "# Gemini API: Streaming Quickstart"
      ]
    },
    {
      "cell_type": "markdown",
      "metadata": {
        "id": "3f5bc95b9107"
      },
      "source": [
        "<table align=\"left\">\n",
        "  <td>\n",
        "    <a target=\"_blank\" href=\"https://colab.research.google.com/github/google-gemini/cookbook/blob/main/quickstarts/Streaming.ipynb\"><img src=\"../images/colab_logo_32px.png\" />Run in Google Colab</a>\n",
        "  </td>\n",
        "</table>\n",
        "\n",
        "**Important note: Download this notebook and run it locally (not in Google Colab)**\n",
        "\n",
        "Streaming is not handled correctly in Google Colab yet. Currently all the stream chunks are returned together, not as they are generated. To see the correct behavior, download this notebook and run it locally using Jupyter, instead."
      ]
    },
    {
      "cell_type": "markdown",
      "metadata": {
        "id": "df1767a3d1cc"
      },
      "source": [
        "This notebook demonstrates streaming in the Python SDK. By default, the Python SDK returns a response after the model completes the entire generation process. You can also stream the response as it is being generated, and the model will return chunks of the response as soon as they are generated."
      ]
    },
    {
      "cell_type": "code",
      "execution_count": null,
      "metadata": {
        "id": "xuiLSV7amy3P"
      },
      "outputs": [],
      "source": [
        "!pip install -U -q \"google-generativeai>=0.7.2\" # Install the Python SDK"
      ]
    },
    {
      "cell_type": "code",
      "execution_count": null,
      "metadata": {
        "id": "79EWm0DAmy-g"
      },
      "outputs": [],
      "source": [
        "import google.generativeai as genai"
      ]
    },
    {
      "cell_type": "markdown",
      "metadata": {
        "id": "DkeZNMrw6kPD"
      },
      "source": [
        "You'll need an API key stored in an environment variable to run this notebook. See the the [Authentication quickstart](https://github.com/google-gemini/cookbook/blob/main/quickstarts/Authentication.ipynb) for an example."
      ]
    },
    {
      "cell_type": "code",
      "execution_count": null,
      "metadata": {
        "id": "t9O-OzeAKC_m"
      },
      "outputs": [],
      "source": [
        "import os\n",
        "genai.configure(api_key=os.environ['GOOGLE_API_KEY'])"
      ]
    },
    {
      "cell_type": "markdown",
      "metadata": {
        "id": "BUoa5q0iUuE1"
      },
      "source": [
        "## Handle streaming responses\n",
        "\n",
        "To stream responses, use [`GenerativeModel.generate_content(..., stream=True)`](https://ai.google.dev/api/python/google/generativeai/GenerativeModel#generate_content).\n",
        "\n",
        "**Note**: This cell runs with a Google Colab runtime, but does not properly show streaming due to implementation details of Colab runtimes."
      ]
    },
    {
      "cell_type": "code",
      "execution_count": 2,
      "metadata": {
        "id": "nVWWGBsBok3m"
      },
      "outputs": [
        {
          "name": "stdout",
          "output_type": "stream",
          "text": [
            "Bar\n",
            "________________________________________________________________________________\n",
            "naby the tabby had a problem. He was quite the dapper cat, with sleek\n",
            "________________________________________________________________________________\n",
            " fur and a knowing glint in his emerald eyes, but his wardrobe was tragically\n",
            "________________________________________________________________________________\n",
            " lacking in color. He dreamt of a vibrant, red scarf, the kind he'd seen on the neighbor's ginger cat, Marmalade. \n",
            "\n",
            "\n",
            "________________________________________________________________________________\n",
            "Barnaby confided in his best friend, Mittens, a fluffy white Persian with a love for all things sparkly. \"Mittens,\" he sighed, \"I\n",
            "________________________________________________________________________________\n",
            " want a red scarf, but where can I find one?\"\n",
            "\n",
            "Mittens, always the optimist, had an idea. \"We'll go on a quest!\" she declared, her blue eyes sparkling. \"To the land of Lost\n",
            "________________________________________________________________________________\n",
            " Socks, where forgotten treasures abound!\"\n",
            "\n",
            "Barnaby, initially skeptical, was swayed by Mittens' enthusiasm. Together, they ventured into the forbidden territory - the laundry room. There, amongst the forgotten socks, they found a red scarf,\n",
            "________________________________________________________________________________\n",
            " albeit slightly frayed and covered in lint. \n",
            "\n",
            "Barnaby, overjoyed, draped the scarf around his neck, its red hue complementing his stripes perfectly. \"This is perfect!\" he exclaimed, prancing with newfound confidence.\n",
            "\n",
            "Suddenly, a small shadow darted across the floor. It was a tiny black kitten, no\n",
            "________________________________________________________________________________\n",
            " bigger than Barnaby's paw, staring at the scarf with wide, curious eyes. \n",
            "\n",
            "Barnaby, never one to deny a friend, gently lifted the scarf and offered it to the kitten. \"Here,\" he purred, \"wear it.\"\n",
            "\n",
            "The kitten, hesitant at first, tentatively wrapped the scarf\n",
            "________________________________________________________________________________\n",
            " around its neck. A smile, as bright as the red scarf, bloomed on its tiny face. \n",
            "\n",
            "From that day on, Barnaby and Mittens weren't just best friends, they were mentors to the little black kitten, who they affectionately named Ruby. And while Barnaby continued to dream of a\n",
            "________________________________________________________________________________\n",
            " brand new, perfectly red scarf, he knew the true joy of sharing was far more valuable than any piece of clothing. \n",
            "\n",
            "________________________________________________________________________________\n"
          ]
        }
      ],
      "source": [
        "model = genai.GenerativeModel('gemini-2.0-flash')\n",
        "response = model.generate_content(\"Write a cute story about cats.\", stream=True)\n",
        "for chunk in response:\n",
        "    print(chunk.text)\n",
        "    print(\"_\"*80)"
      ]
    },
    {
      "cell_type": "markdown",
      "metadata": {
        "id": "KswwVyHCKC_n"
      },
      "source": [
        "## Handle streaming responses asynchronously\n",
        "\n",
        "To stream responses asynchronously, use [`GenerativeModel.generate_content_async(..., stream=True)`](https://ai.google.dev/api/python/google/generativeai/GenerativeModel#generate_content_async).\n",
        "\n",
        "**Note**: These cells do NOT work with a Google Colab runtime, but do work in a local Jupyter notebook."
      ]
    },
    {
      "cell_type": "code",
      "execution_count": 3,
      "metadata": {
        "id": "n6sXnWrJoKoo"
      },
      "outputs": [
        {
          "name": "stdout",
          "output_type": "stream",
          "text": [
            "Bar\n",
            "________________________________________________________________________________\n",
            "tholomew, a fluffy ginger cat with eyes like melted gold, was convinced\n",
            "________________________________________________________________________________\n",
            " the world was a vast, intricate jungle.  His domain, a cozy sun\n",
            "________________________________________________________________________________\n",
            "-drenched apartment, was his personal clearing, filled with rustling paper bags (perfect for pouncing!), dangling toys (always best swatted), and a human\n",
            "________________________________________________________________________________\n",
            " (who, despite his clumsiness, provided the most excellent head scratches).\n",
            "\n",
            "One day, a new, terrifying creature entered Bartholomew's jungle: a\n",
            "________________________________________________________________________________\n",
            " tiny, fluffy ball of white with startlingly blue eyes.  The human, with a triumphant grin, announced this newcomer was \"Miss Luna, your new sister.\"\n",
            "\n",
            "Bartholomew hissed.  This white creature smelled of unfamiliar smells\n",
            "________________________________________________________________________________\n",
            ", and it dared to occupy his favorite sunbeam!  He arched his back, puffed his tail, and stalked the intruder, ready to defend his territory. \n",
            "\n",
            "Luna, oblivious to Bartholomew's hostility, tumbled around the apartment,\n",
            "________________________________________________________________________________\n",
            " batting at dust motes and chasing a rogue feather.  She was small and clumsy, often falling over her own paws and leaving a trail of fluffy white fluff in her wake.\n",
            "\n",
            "Bartholomew watched her with grudging amusement.  He wasn't sure what to make of this strange, clumsy creature.\n",
            "________________________________________________________________________________\n",
            "  But Luna, with her endless energy and insatiable curiosity, seemed undeterred by his growls.  She even dared to nudge him with her tiny nose, purring softly.\n",
            "\n",
            "One sunny afternoon, Bartholomew was curled up, enjoying a warm nap.  Suddenly, a loud thump startled him awake.  He\n",
            "________________________________________________________________________________\n",
            " saw Luna, tangled in the curtains, her face a picture of panic.  Bartholomew, despite his initial dislike, felt a surge of concern.\n",
            "\n",
            "He nudged the curtains with his paw, helping Luna untangle herself.  She, in her usual clumsy fashion, bumped into him with a grateful meow\n",
            "________________________________________________________________________________\n",
            ".  Bartholomew, surprised by his own actions, felt a warm feeling bloom in his chest.  Perhaps this tiny, fluffy creature wasn't so bad after all.\n",
            "\n",
            "From then on, Bartholomew, the grumpy guardian of his jungle, found himself tolerating, then even enjoying, Luna's presence\n",
            "________________________________________________________________________________\n",
            ".  They would nap together in sunbeams, chase dust motes across the floor, and share the best head scratches from the clumsy human.  The jungle, it seemed, was a little less lonely, a little more fun, with a tiny, fluffy white cat by his side. \n",
            "\n",
            "________________________________________________________________________________\n"
          ]
        }
      ],
      "source": [
        "async for chunk in await model.generate_content_async(\"Write a cute story about cats.\", stream=True):\n",
        "    if chunk.text:\n",
        "        print(chunk.text)\n",
        "    print(\"_\"*80)"
      ]
    },
    {
      "cell_type": "markdown",
      "metadata": {
        "id": "jpK3p1B4KC_o"
      },
      "source": [
        "Here's a simple example of two asynchronous functions running simultaneously."
      ]
    },
    {
      "cell_type": "code",
      "execution_count": 4,
      "metadata": {
        "id": "IJ-8SjYwKC_o"
      },
      "outputs": [
        {
          "name": "stdout",
          "output_type": "stream",
          "text": [
            "==========not blocked!==========\n",
            "Wh\n",
            "________________________________________________________________________________\n",
            "iskers the tabby cat was a notorious napper. He'd nap in\n",
            "________________________________________________________________________________\n",
            " sunbeams, nap in boxes, nap in laundry baskets, even nap in the\n",
            "________________________________________________________________________________\n",
            " sink if no one was watching. He was a champion napper, a true master of the art. But Whiskers had a secret: he was terrified of\n",
            "________________________________________________________________________________\n",
            " the vacuum cleaner.\n",
            "\n",
            "One day, Mrs. Jenkins, Whiskers' human, decided to give the living room a good clean. The vacuum cleaner roared to\n",
            "________________________________________________________________________________\n",
            " life, and Whiskers, who was peacefully napping on the couch, bolted upright, his eyes wide with fear. He scurried under the coffee table, his tail twitching nervously.\n",
            "\n",
            "Mrs. Jenkins, oblivious to his terror,\n",
            "________________________________________________________________________________\n",
            "==========not blocked!==========\n",
            " went about her cleaning, humming a cheerful tune. But Whiskers, trapped beneath the table, was in a panic. He couldn't stand the noise, couldn't bear the vibrations. He was a prisoner in his own home!\n",
            "________________________________________________________________________________\n",
            "\n",
            "\n",
            "Just then, a tiny calico kitten named Mittens, Whiskers' adopted sister, peeked out from behind the couch. She saw Whiskers cowering under the table and, with a brave meow, marched right up to the vacuum cleaner.\n",
            "\n",
            "Mittens stared at the monster with wide, curious eyes.\n",
            "________________________________________________________________________________\n",
            " She batted at the hose with a paw, then cautiously sniffed the air around it. The vacuum cleaner continued to roar, but Mittens remained undeterred. She sat down, her back to the machine, and gave Whiskers a little nudge.\n",
            "\n",
            "Whiskers, surprised by Mittens' courage, hesitantly\n",
            "________________________________________________________________________________\n",
            " crawled out from under the table. He followed Mittens, who, with a confident strut, led him right past the vacuum cleaner. Whiskers, watching Mittens' bravery, felt a strange sense of calm wash over him. He realized he wasn't alone in his fear, and together, they could face anything\n",
            "________________________________________________________________________________\n",
            "==========not blocked!==========\n",
            ".\n",
            "\n",
            "As Mrs. Jenkins finished her cleaning, she noticed Whiskers and Mittens sitting side by side on the rug, watching the vacuum cleaner with newfound curiosity. A smile spread across her face. She picked up Mittens and gave her a big hug.\n",
            "\n",
            "\"You're a brave little kitten,\" she whispered\n",
            "________________________________________________________________________________\n",
            ", \"and you helped your brother too.\"\n",
            "\n",
            "From that day on, Whiskers still preferred naps over cleaning, but he never felt scared of the vacuum cleaner again. He had a brave little sister to protect him, and together, they were an unstoppable duo. \n",
            "\n",
            "________________________________________________________________________________\n",
            "==========not blocked!==========\n",
            "==========not blocked!==========\n"
          ]
        }
      ],
      "source": [
        "import asyncio\n",
        "\n",
        "async def get_response():\n",
        "    async for chunk in await model.generate_content_async(\"Write a cute story about cats.\", stream=True):\n",
        "        if chunk.text:\n",
        "            print(chunk.text)\n",
        "        print(\"_\"*80)\n",
        "\n",
        "async def something_else():\n",
        "    for i in range(5):\n",
        "        print(\"==========not blocked!==========\")\n",
        "        await asyncio.sleep(3)\n",
        "\n",
        "async def async_demo():\n",
        "    # Create tasks\n",
        "    task1 = asyncio.create_task(get_response())\n",
        "    task2 = asyncio.create_task(something_else())\n",
        "\n",
        "    # Wait for tasks to complete\n",
        "    await asyncio.gather(task1, task2)\n",
        "\n",
        "# Jupyter notebooks handle event loops for you, so await directly\n",
        "await async_demo()"
      ]
    }
  ],
  "metadata": {
    "colab": {
      "name": "Streaming.ipynb",
      "toc_visible": true
    },
    "google": {
      "image_path": "/site-assets/images/share.png",
      "keywords": [
        "examples",
        "googleai",
        "samplecode",
        "python",
        "embed",
        "function"
      ]
    },
    "kernelspec": {
      "display_name": "Python 3",
      "name": "python3"
    }
  },
  "nbformat": 4,
  "nbformat_minor": 0
}
