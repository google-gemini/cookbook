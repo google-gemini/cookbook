{
  "cells": [
    {
      "cell_type": "markdown",
      "metadata": {
        "id": "lb5yiH5h8x3h"
      },
      "source": [
        "##### Copyright 2025 Google LLC."
      ]
    },
    {
      "cell_type": "code",
      "execution_count": null,
      "metadata": {
        "cellView": "form",
        "id": "906e07f6e562"
      },
      "outputs": [],
      "source": [
        "#@title Licensed under the Apache License, Version 2.0 (the \"License\");\n",
        "# you may not use this file except in compliance with the License.\n",
        "# You may obtain a copy of the License at\n",
        "#\n",
        "# https://www.apache.org/licenses/LICENSE-2.0\n",
        "#\n",
        "# Unless required by applicable law or agreed to in writing, software\n",
        "# distributed under the License is distributed on an \"AS IS\" BASIS,\n",
        "# WITHOUT WARRANTIES OR CONDITIONS OF ANY KIND, either express or implied.\n",
        "# See the License for the specific language governing permissions and\n",
        "# limitations under the License."
      ]
    },
    {
      "cell_type": "markdown",
      "metadata": {
        "id": "WMGdicu8PVD9"
      },
      "source": [
        "# Object detection with Gemini 1.5 Flash"
      ]
    },
    {
      "cell_type": "markdown",
      "metadata": {
        "id": "84d7ee4c821b"
      },
      "source": [
        "### This notebook has been replaced by the new [spatial understanding](../quickstarts/Spatial_understanding.ipynb) notebook highliting the latest Gemini capabilities.\n",
        "\n",
        "You can also check the [Spatial demo](https://aistudio.google.com/starter-apps/spatial) on AI Studio.\n",
        "\n",
        "And if you still need it, you can find an archived version of the notebook [here](../../gemini-1.5-archive/examples/Object_detection.ipynb)."
      ]
    }
  ],
  "metadata": {
    "colab": {
      "name": "Object_detection.ipynb",
      "toc_visible": true
    },
    "kernelspec": {
      "display_name": "Python 3",
      "name": "python3"
    }
  },
  "nbformat": 4,
  "nbformat_minor": 0
}
