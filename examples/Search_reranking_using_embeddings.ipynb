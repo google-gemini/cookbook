{
  "cells": [
    {
      "cell_type": "markdown",
      "metadata": {
        "id": "Tce3stUlHN0L"
      },
      "source": [
        "##### Copyright 2025 Google LLC."
      ]
    },
    {
      "cell_type": "code",
      "execution_count": null,
      "metadata": {
        "cellView": "form",
        "id": "tuOe1ymfHZPu"
      },
      "outputs": [],
      "source": [
        "# @title Licensed under the Apache License, Version 2.0 (the \"License\");\n",
        "# you may not use this file except in compliance with the License.\n",
        "# You may obtain a copy of the License at\n",
        "#\n",
        "# https://www.apache.org/licenses/LICENSE-2.0\n",
        "#\n",
        "# Unless required by applicable law or agreed to in writing, software\n",
        "# distributed under the License is distributed on an \"AS IS\" BASIS,\n",
        "# WITHOUT WARRANTIES OR CONDITIONS OF ANY KIND, either express or implied.\n",
        "# See the License for the specific language governing permissions and\n",
        "# limitations under the License."
      ]
    },
    {
      "cell_type": "markdown",
      "metadata": {
        "id": "oJt4OFKPgO8C"
      },
      "source": [
        "# Search re-ranking using Gemini embeddings"
      ]
    },
    {
      "cell_type": "markdown",
      "metadata": {
        "id": "k5n0sCc_fKcB"
      },
      "source": [
        "<a target=\"_blank\" href=\"https://colab.research.google.com/github/google-gemini/cookbook/blob/main/examples/Search_reranking_using_embeddings.ipynb\"><img src=\"https://colab.research.google.com/assets/colab-badge.svg\" height=30/></a>"
      ]
    },
    {
      "cell_type": "markdown",
      "metadata": {
        "id": "0UO0Cgq0mRlG"
      },
      "source": [
        "This notebook demonstrates the use of embeddings to re-rank search results. This walkthrough will focus on the following objectives:\n",
        "\n",
        "\n",
        "\n",
        "1.   Setting up your development environment and API access to use Gemini.\n",
        "2.   Using Gemini's function calling support to access the Wikipedia API.\n",
        "3.   Embedding content via Gemini API.\n",
        "4.   Re-ranking the search results.\n"
      ]
    },
    {
      "cell_type": "markdown",
      "metadata": {
        "id": "-e5Aje-DTQOq"
      },
      "source": [
        "This is how you will implement search re-ranking:\n",
        "\n",
        "\n",
        "1.   The user will make a search query.\n",
        "2.   You will use Wikipedia API to return the relevant search results.\n",
        "3.   The search results will be embedded and their relevance will be evaluated by calculating distance metrics like cosine similarity.\n",
        "4.   The most relevant search result will be returned as the final answer."
      ]
    },
    {
      "cell_type": "markdown",
      "metadata": {
        "id": "rpVL_QrF5-oF"
      },
      "source": [
        "> The non-source code materials in this notebook are licensed under Creative Commons - Attribution-ShareAlike CC-BY-SA 4.0, https://creativecommons.org/licenses/by-sa/4.0/legalcode."
      ]
    },
    {
      "cell_type": "markdown",
      "metadata": {
        "id": "pwImlRg9DUp7"
      },
      "source": [
        "## Setup\n"
      ]
    },
    {
      "cell_type": "code",
      "execution_count": 1,
      "metadata": {
        "id": "Nv_6f_qNHe_2"
      },
      "outputs": [
        {
          "name": "stdout",
          "output_type": "stream",
          "text": [
            "\u001b[?25l   \u001b[90m━━━━━━━━━━━━━━━━━━━━━━━━━━━━━━━━━━━━━━━━\u001b[0m \u001b[32m0.0/199.5 kB\u001b[0m \u001b[31m?\u001b[0m eta \u001b[36m-:--:--\u001b[0m\r\u001b[2K   \u001b[91m━━━━━━━━━━━━━━━━━━━━━━━━━━━━━━━━━━━━━━━\u001b[0m\u001b[90m╺\u001b[0m \u001b[32m194.6/199.5 kB\u001b[0m \u001b[31m26.7 MB/s\u001b[0m eta \u001b[36m0:00:01\u001b[0m\r\u001b[2K   \u001b[90m━━━━━━━━━━━━━━━━━━━━━━━━━━━━━━━━━━━━━━━━\u001b[0m \u001b[32m199.5/199.5 kB\u001b[0m \u001b[31m4.4 MB/s\u001b[0m eta \u001b[36m0:00:00\u001b[0m\n",
            "\u001b[?25h  Preparing metadata (setup.py) ... \u001b[?25l\u001b[?25hdone\n",
            "  Building wheel for wikipedia (setup.py) ... \u001b[?25l\u001b[?25hdone\n"
          ]
        }
      ],
      "source": [
        "%pip install -q -U \"google-genai>=1.0.0\"\n",
        "%pip install -q wikipedia"
      ]
    },
    {
      "cell_type": "markdown",
      "metadata": {
        "id": "739f0bb73f05"
      },
      "source": [
        "Note: The [`wikipedia` package](https://pypi.org/project/wikipedia/) notes that it was \"designed for ease of use and simplicity, not for advanced use\", and that production or heavy use should instead \"use [Pywikipediabot](http://www.mediawiki.org/wiki/Manual:Pywikipediabot) or one of the other more advanced [Python MediaWiki API wrappers](http://en.wikipedia.org/wiki/Wikipedia:Creating_a_bot#Python)\"."
      ]
    },
    {
      "cell_type": "markdown",
      "metadata": {
        "id": "aeo_9J9iDtCx"
      },
      "source": [
        "To run the following cell, your API key must be stored it in a Colab Secret named `GOOGLE_API_KEY`. If you don't already have an API key, or you're not sure how to create a Colab Secret, see the [Authentication](https://github.com/google-gemini/cookbook/blob/main/quickstarts/Authentication.ipynb) quickstart for an example."
      ]
    },
    {
      "cell_type": "code",
      "execution_count": 2,
      "metadata": {
        "id": "yxzEH0GqLshI"
      },
      "outputs": [],
      "source": [
        "from google.colab import userdata\n",
        "from google import genai\n",
        "API_KEY = userdata.get('GOOGLE_API_KEY')\n",
        "client = genai.Client(api_key=API_KEY)"
      ]
    },
    {
      "cell_type": "code",
      "execution_count": 3,
      "metadata": {
        "cellView": "code",
        "id": "O7JW3OsF8Ojo"
      },
      "outputs": [],
      "source": [
        "# Define the model to be used in this notebook\n",
        "# Note: experimental models have more limited quota for API calls.\n",
        "\n",
        "MODEL_ID=\"gemini-2.5-flash-preview-05-20\" # @param [\"gemini-2.5-flash-preview-05-20\", \"gemini-2.5-pro-preview-05-06\"] {\"allow-input\":true, isTemplate: true}"
      ]
    },
    {
      "cell_type": "markdown",
      "metadata": {
        "id": "0hkJSFIWI7G1"
      },
      "source": [
        "## Function Calling with the Gemini API"
      ]
    },
    {
      "cell_type": "markdown",
      "metadata": {
        "id": "7HjN6hsAJkOq"
      },
      "source": [
        "As stated earlier, this tutorial uses Gemini's function calling support to access the Wikipedia API. Please refer to the [docs](https://ai.google.dev/docs/function_calling) to learn more about function calling."
      ]
    },
    {
      "cell_type": "markdown",
      "metadata": {
        "id": "fpFkazXUenkK"
      },
      "source": [
        "### Step 1: Define the Search Function"
      ]
    },
    {
      "cell_type": "markdown",
      "metadata": {
        "id": "2fp-m-5Ke0XY"
      },
      "source": [
        "To cater to the search engine needs, you will design this function in the following way:\n",
        "\n",
        "\n",
        "*   For each search query, the search engine will use the `wikipedia.search` method to get relevant topics.\n",
        "*   From the relevant topics, the engine will choose `n_topics(int)` top candidates and will use `gemini-2.0-flash` to extract relevant information from the page.\n",
        "*   The engine will avoid duplicate entries by maintaining a search history.\n"
      ]
    },
    {
      "cell_type": "code",
      "execution_count": 4,
      "metadata": {
        "cellView": "code",
        "id": "2U27tdP8OBys"
      },
      "outputs": [],
      "source": [
        "from typing import List\n",
        "import textwrap\n",
        "\n",
        "import wikipedia\n",
        "from wikipedia.exceptions import DisambiguationError, PageError\n",
        "\n",
        "# This is the actual function that would be called based on the model's suggestion\n",
        "# Define the function with type hints and docstring\n",
        "def wikipedia_search(search_queries: List[str]) -> List[str]:\n",
        "  \"\"\"Search wikipedia for each query and summarize relevant docs.\n",
        "    Args:\n",
        "        search_queries: The user query to search wikipedia.\n",
        "\n",
        "    Returns:\n",
        "        A list of relevant information from wikipedia based on the query.\n",
        "  \"\"\"\n",
        "  n_topics=3\n",
        "  search_history = set() # tracking search history\n",
        "  search_urls = []\n",
        "\n",
        "  summary_results = []\n",
        "\n",
        "  for query in search_queries:\n",
        "    print(f'Searching for \"{query}\"')\n",
        "    search_terms = wikipedia.search(query)\n",
        "\n",
        "    print(f\"Related search terms: {search_terms[:n_topics]}\")\n",
        "    for search_term in search_terms[:n_topics]: # select first `n_topics` candidates\n",
        "      if search_term in search_history: # check if the topic is already covered\n",
        "        continue\n",
        "\n",
        "      print(f'Fetching page: \"{search_term}\"')\n",
        "      search_history.add(search_term) # add to search history\n",
        "\n",
        "      try:\n",
        "        # extract the relevant data by using `gemini-2.0-flash` model\n",
        "        page = wikipedia.page(search_term, auto_suggest=False)\n",
        "        url = page.url\n",
        "        print(f\"Information Source: {url}\")\n",
        "        search_urls.append(url)\n",
        "        page = page.content\n",
        "\n",
        "        response = client.models.generate_content(\n",
        "                model=MODEL_ID,\n",
        "                contents=textwrap.dedent(f\"\"\"\n",
        "                    Extract relevant information\n",
        "                    about user's query: {query}\n",
        "                    From this source:\n",
        "\n",
        "                    {page}\n",
        "\n",
        "                    Note: Do not summarize. Only Extract and return the relevant information\n",
        "                \"\"\",\n",
        "            ),\n",
        "        )\n",
        "\n",
        "        urls = [url]\n",
        "\n",
        "        if response.candidates[0].citation_metadata:\n",
        "          extra_citations = response.candidates[0].citation_metadata.citation_sources\n",
        "          extra_urls = [source.url for source in extra_citations]\n",
        "          urls.extend(extra_urls)\n",
        "          search_urls.extend(extra_urls)\n",
        "          print(\"Additional citations:\", response.candidates[0].citation_metadata.citation_sources)\n",
        "        try:\n",
        "          text = response.text\n",
        "        except ValueError:\n",
        "          pass\n",
        "        else:\n",
        "          summary_results.append(text + \"\\n\\nBased on:\\n  \" + ',\\n  '.join(urls))\n",
        "\n",
        "      except DisambiguationError:\n",
        "        print(f\"\"\"Results when searching for \"{search_term}\" (originally for \"{query}\")\n",
        "        were ambiguous, hence skipping\"\"\")\n",
        "        continue\n",
        "\n",
        "      except PageError:\n",
        "        print(f'{search_term} did not match with any page id, hence skipping.')\n",
        "        continue\n",
        "\n",
        "      except:\n",
        "        print(f'{search_term} did not match with any page id, hence skipping.')\n",
        "        continue\n",
        "    print()\n",
        "\n",
        "  print(f\"Information Sources:\")\n",
        "  for url in search_urls:\n",
        "    print('    ', url)\n",
        "\n",
        "  return summary_results"
      ]
    },
    {
      "cell_type": "code",
      "execution_count": 6,
      "metadata": {
        "id": "EWKkkKDXmzOX"
      },
      "outputs": [
        {
          "name": "stdout",
          "output_type": "stream",
          "text": [
            "Searching for \"What is the transformer architecture for LLMs?\"\n",
            "Related search terms: ['Attention Is All You Need', 'Large language model', 'Transformer (deep learning architecture)']\n",
            "Fetching page: \"Attention Is All You Need\"\n",
            "Information Source: https://en.wikipedia.org/wiki/Attention_Is_All_You_Need\n",
            "Fetching page: \"Large language model\"\n",
            "Information Source: https://en.wikipedia.org/wiki/Large_language_model\n",
            "Fetching page: \"Transformer (deep learning architecture)\"\n",
            "Information Source: https://en.wikipedia.org/wiki/Transformer_(deep_learning_architecture)\n",
            "\n",
            "Information Sources:\n",
            "     https://en.wikipedia.org/wiki/Attention_Is_All_You_Need\n",
            "     https://en.wikipedia.org/wiki/Large_language_model\n",
            "     https://en.wikipedia.org/wiki/Transformer_(deep_learning_architecture)\n"
          ]
        }
      ],
      "source": [
        "example = wikipedia_search([\"What is the transformer architecture for LLMs?\"])"
      ]
    },
    {
      "cell_type": "markdown",
      "metadata": {
        "id": "8bPT114QEPgW"
      },
      "source": [
        "Here is what the search results look like:"
      ]
    },
    {
      "cell_type": "code",
      "execution_count": 7,
      "metadata": {
        "id": "8wy7YUFqEYTv"
      },
      "outputs": [
        {
          "data": {
            "text/markdown": [
              "The Transformer architecture forms the underlying architecture for most forms of modern Large Language Models (LLMs). A key reason for why the architecture is preferred by most modern LLMs is the parallelizability of the architecture over its predecessors. This ensures that the operations necessary for training can be accelerated on a GPU allowing both faster training times and models of bigger sizes to be trained.\n",
              "\n",
              "The Transformer architecture introduced the following mechanisms:\n",
              "*   **Scaled dot-product attention & self-attention**: The use of this mechanism instead of a Recurrent neural network or Long short-term memory allows for better performance. It relies on Query (Q), Key (K), and Value (V) matrices that come from the same source itself (i.e., the input sequence / context window), which eliminates the need for RNNs completely, ensuring parallelizability. The formula for scaled dot-product attention is: Attention(Q,K,V) := softmax((Q × K^T)/sqrt(d_k)) × V, where Q, K, V are the query, key, value matrices, and d_k is the dimension of the values.\n",
              "*   **Multi-head attention**: This enhances the self-attention mechanism by introducing multiple parallel attention heads. Each head learns different linear projections of the Q, K, and V matrices, allowing the model to capture different aspects of the relationships between words in the sequence simultaneously. This ensures that input embeddings are updated from a more varied and diverse set of perspectives. The outputs from all heads are concatenated and passed through a final linear transformation.\n",
              "*   **Positional encoding**: Since the Transformer does not rely on the sequence of the text (unlike seq2seq models), it uses sine and cosine wave functions to encode the position of the token into the embedding. These positional encodings are then added to the word embedding at that corresponding position. This method was chosen because it \"may allow the model to extrapolate to sequence lengths longer than the ones encountered during training.\"\n",
              "\n",
              "Based on:\n",
              "  https://en.wikipedia.org/wiki/Attention_Is_All_You_Need"
            ],
            "text/plain": [
              "<IPython.core.display.Markdown object>"
            ]
          },
          "metadata": {},
          "output_type": "display_data"
        },
        {
          "data": {
            "text/markdown": [
              "*   **Introduction:** At the 2017 NeurIPS conference, Google researchers introduced the transformer architecture in their landmark paper \"Attention Is All You Need\". This paper's goal was to improve upon 2014 seq2seq technology, and was based mainly on the attention mechanism developed by Bahdanau et al. in 2014.\n",
              "*   **Components:** Though the original transformer has both encoder and decoder blocks, BERT is an encoder-only model. Academic and research usage of BERT began to decline in 2023, following rapid improvements in the abilities of decoder-only models (such as GPT) to solve tasks via prompting.\n",
              "*   **Prevalence:** As of 2024, the largest and most capable models are all based on the transformer architecture.\n",
              "*   **Key Mechanism (Attention):** In order to find out which tokens are relevant to each other within the scope of the context window, the attention mechanism calculates \"soft\" weights for each token, more precisely for its embedding, by using multiple attention heads, each with its own \"relevance\" for calculating its own soft weights. For example, the small (i.e. 117M parameter sized) GPT-2 model has had twelve attention heads and a context window of only 1k tokens. In its medium version it has 345M parameters and contains 24 layers, each with 12 attention heads.\n",
              "\n",
              "Based on:\n",
              "  https://en.wikipedia.org/wiki/Large_language_model"
            ],
            "text/plain": [
              "<IPython.core.display.Markdown object>"
            ]
          },
          "metadata": {},
          "output_type": "display_data"
        },
        {
          "data": {
            "text/markdown": [
              "The transformer is a deep learning architecture, introduced in 2017, that has been widely adopted for training Large Language Models (LLMs). Its core innovation is the multi-head attention mechanism, which allows for parallel processing of text and efficient training compared to earlier recurrent neural networks (RNNs).\n",
              "\n",
              "For LLMs, the transformer architecture typically includes:\n",
              "\n",
              "1.  **Tokenizers:** Convert input text into numerical representations called tokens.\n",
              "2.  **Embedding Layer:** Converts these tokens into vector representations (token embeddings) and adds **positional encodings** to provide information about the tokens' order in the sequence.\n",
              "3.  **Transformer Layers:** These are stacked and perform repeated transformations on the vector representations to extract linguistic information. Each layer primarily consists of:\n",
              "    *   **Multi-Head Attention:** A mechanism that allows each token to be contextualized by \"mixing\" information from other tokens within the context window. It calculates \"attention weights\" based on learned query, key, and value projections, enabling the model to focus on relevant parts of the input. Multi-head attention allows the model to capture different types of \"relevance\" simultaneously.\n",
              "    *   **Feedforward Network (FFN):** A two-layered multilayer perceptron applied independently to each token's representation for further processing.\n",
              "    *   **Residual Connections and Layer Normalization:** These are crucial for stabilizing training and ensuring numerical stability, allowing for the stacking of many layers.\n",
              "4.  **Un-embedding Layer:** Converts the final vector representations back into a probability distribution over the vocabulary to generate output tokens.\n",
              "\n",
              "LLMs often use **adapted variations** of the original encoder-decoder transformer:\n",
              "\n",
              "*   **Decoder-only Transformers:** Predominantly used for text generation and instruction following (e.g., GPT series, Chinchilla). These models contain a causally masked self-attention mechanism (preventing attention to future tokens) and a feedforward network, but no encoder or cross-attention.\n",
              "*   **Encoder-only Transformers:** Used for tasks like text embedding and representation learning (e.g., BERT). They process the entire input at once, allowing each token to attend to all other tokens (all-to-all attention).\n",
              "*   **Encoder-decoder Transformers:** While the original architecture, they are still used for LLMs for tasks like machine translation or complex instruction following (e.g., T5 series). They combine an encoder to process input and a decoder to generate output.\n",
              "\n",
              "Based on:\n",
              "  https://en.wikipedia.org/wiki/Transformer_(deep_learning_architecture)"
            ],
            "text/plain": [
              "<IPython.core.display.Markdown object>"
            ]
          },
          "metadata": {},
          "output_type": "display_data"
        }
      ],
      "source": [
        "from IPython.display import display, Markdown\n",
        "\n",
        "for e in example:\n",
        "  display(Markdown(e))"
      ]
    },
    {
      "cell_type": "markdown",
      "metadata": {
        "id": "SKcH1LICeg5Z"
      },
      "source": [
        "### Step 2: Pass the System Instructions and Tools to the Model"
      ]
    },
    {
      "cell_type": "markdown",
      "metadata": {
        "id": "VedPbpzlh6jX"
      },
      "source": [
        "### Define the prompt"
      ]
    },
    {
      "cell_type": "markdown",
      "metadata": {
        "id": "5sLKZik7isBW"
      },
      "source": [
        "In order to have multiple supporting search queries to the user's original query, you will instruct the model to generate more such queries. This would help the engine to cover the asked question on comprehensive levels."
      ]
    },
    {
      "cell_type": "code",
      "execution_count": 8,
      "metadata": {
        "id": "Z-Ym3H9KIosY"
      },
      "outputs": [],
      "source": [
        "instructions = \"\"\"\n",
        "    You have access to the Wikipedia API which you will be using\n",
        "    to answer a user's query. Your job is to generate a list of search queries which\n",
        "    might answer a user's question. Be creative by using various key-phrases from\n",
        "    the user's query. To generate variety of queries, ask questions which are\n",
        "    related to the user's query that might help to find the answer. The more\n",
        "    queries you generate the better are the odds of you finding the correct answer.\n",
        "    Here is an example:\n",
        "\n",
        "    user: Tell me about Cricket World cup 2023 winners.\n",
        "\n",
        "    function_call: wikipedia_search([\n",
        "        'What is the name of the team that won the Cricket World Cup 2023?',\n",
        "        'Who was the captain of the Cricket World Cup 2023 winning team?',\n",
        "        'Which country hosted the Cricket World Cup 2023?',\n",
        "        'What was the venue of the Cricket World Cup 2023 final match?',\n",
        "        'Cricket World cup 2023',\n",
        "        'Who lifted the Cricket World Cup 2023 trophy?'\n",
        "    ])\n",
        "\n",
        "    The search function will return a list of article summaries, use these to\n",
        "    answer the user's question.\n",
        "\"\"\""
      ]
    },
    {
      "cell_type": "markdown",
      "metadata": {
        "id": "qQcxR7cjLjGM"
      },
      "source": [
        "When using the Python SDK, you can provide Python functions directly as tools. The SDK automatically converts the Python function to declarations, handles the function call execution and response cycle for you. The Python SDK then automatically:\n",
        "\n",
        "- Detects function call responses from the model.\n",
        "- Call the corresponding Python function in your code.\n",
        "- Sends the function response back to the model.\n",
        "- Returns the model's final text response.\n",
        "\n",
        "To use this, define your function with type hints and a docstring as you did above, and then pass the function itself (not a JSON declaration) as a tool. Note: This approach only handles annotations of `AllowedType = (int | float | bool | str | list['AllowedType'] | dict[str, AllowedType])`"
      ]
    },
    {
      "cell_type": "markdown",
      "metadata": {
        "id": "3Wyn3lV-d5S_"
      },
      "source": [
        "In order to yield creative and a more random variety of questions, you could also utilize the model's temperature parameter. Values can range from [0.0,1.0], inclusive. A value closer to 1.0 will produce responses that are more varied and creative, while a value closer to 0.0 will typically result in more straightforward responses from the model."
      ]
    },
    {
      "cell_type": "code",
      "execution_count": 9,
      "metadata": {
        "id": "39kqTnBRLDeQ"
      },
      "outputs": [],
      "source": [
        "from google.genai import types\n",
        "\n",
        "config = types.GenerateContentConfig(\n",
        "    tools=[wikipedia_search],\n",
        "    system_instruction=instructions,\n",
        ") # Pass the function itself"
      ]
    },
    {
      "cell_type": "markdown",
      "metadata": {
        "id": "TD1vU6FXhYO5"
      },
      "source": [
        "### Step 3: Enable Automatic Function Calling and Call the API (Python SDK Only)"
      ]
    },
    {
      "cell_type": "markdown",
      "metadata": {
        "id": "qyUSnXJ5hg6x"
      },
      "source": [
        "Now start a new chat with default value of `automatic_function_calling`. Using the default `disable=None`, the `genai.ChatSession` will handle the back and forth required to call the function, and return the final response:"
      ]
    },
    {
      "cell_type": "code",
      "execution_count": 11,
      "metadata": {
        "cellView": "code",
        "id": "ZNJqA60yKNpT"
      },
      "outputs": [
        {
          "name": "stdout",
          "output_type": "stream",
          "text": [
            "Searching for \"Characteristics of dogs\"\n",
            "Related search terms: ['Dog breeding', 'Dog', 'Herding dog']\n",
            "Fetching page: \"Dog breeding\"\n",
            "Information Source: https://en.wikipedia.org/wiki/Dog_breeding\n",
            "Fetching page: \"Dog\"\n",
            "Information Source: https://en.wikipedia.org/wiki/Dog\n",
            "Fetching page: \"Herding dog\"\n",
            "Information Source: https://en.wikipedia.org/wiki/Herding_dog\n",
            "\n",
            "Searching for \"Characteristics of cats\"\n",
            "Related search terms: ['Cat', 'Maine Coon', 'Tabby cat']\n",
            "Fetching page: \"Cat\"\n",
            "Information Source: https://en.wikipedia.org/wiki/Cat\n",
            "Fetching page: \"Maine Coon\"\n",
            "Information Source: https://en.wikipedia.org/wiki/Maine_Coon\n",
            "Fetching page: \"Tabby cat\"\n",
            "Information Source: https://en.wikipedia.org/wiki/Tabby_cat\n",
            "\n",
            "Searching for \"Differences between dogs and cats\"\n",
            "Related search terms: ['Tabby cat', 'Cat people and dog people', 'Cat']\n",
            "Fetching page: \"Cat people and dog people\"\n",
            "Information Source: https://en.wikipedia.org/wiki/Cat_people_and_dog_people\n",
            "\n",
            "Searching for \"Dog behavior vs cat behavior\"\n",
            "Related search terms: ['Animal behavior consultant', 'Ragdoll', 'Dog']\n",
            "Fetching page: \"Animal behavior consultant\"\n",
            "Information Source: https://en.wikipedia.org/wiki/Animal_behavior_consultant\n",
            "Fetching page: \"Ragdoll\"\n",
            "Information Source: https://en.wikipedia.org/wiki/Ragdoll\n",
            "\n",
            "Searching for \"Dog breeds and their traits\"\n",
            "Related search terms: ['Dog breed', 'Akita (dog breed)', 'Canaan Dog']\n",
            "Fetching page: \"Dog breed\"\n",
            "Information Source: https://en.wikipedia.org/wiki/Dog_breed\n",
            "Fetching page: \"Akita (dog breed)\"\n",
            "Information Source: https://en.wikipedia.org/wiki/Akita_(dog_breed)\n",
            "Fetching page: \"Canaan Dog\"\n",
            "Information Source: https://en.wikipedia.org/wiki/Canaan_Dog\n",
            "\n",
            "Searching for \"Cat breeds and their traits\"\n",
            "Related search terms: ['List of experimental cat breeds', 'Russian Blue', 'Domestication of the cat']\n",
            "Fetching page: \"List of experimental cat breeds\"\n",
            "Information Source: https://en.wikipedia.org/wiki/List_of_experimental_cat_breeds\n",
            "Fetching page: \"Russian Blue\"\n",
            "Information Source: https://en.wikipedia.org/wiki/Russian_Blue\n",
            "Fetching page: \"Domestication of the cat\"\n",
            "Information Source: https://en.wikipedia.org/wiki/Domestication_of_the_cat\n",
            "\n",
            "Searching for \"Common traits of canines\"\n",
            "Related search terms: ['Canine reproduction', 'Dobermann', 'Genomics of personality traits']\n",
            "Fetching page: \"Canine reproduction\"\n",
            "Information Source: https://en.wikipedia.org/wiki/Canine_reproduction\n",
            "Fetching page: \"Dobermann\"\n",
            "Information Source: https://en.wikipedia.org/wiki/Dobermann\n",
            "Fetching page: \"Genomics of personality traits\"\n",
            "Information Source: https://en.wikipedia.org/wiki/Genomics_of_personality_traits\n",
            "\n",
            "Searching for \"Common traits of felines\"\n",
            "Related search terms: ['Cat', 'Catgirl', 'List of fictional cats in animation']\n",
            "Fetching page: \"Catgirl\"\n",
            "Information Source: https://en.wikipedia.org/wiki/Catgirl\n",
            "Fetching page: \"List of fictional cats in animation\"\n",
            "Information Source: https://en.wikipedia.org/wiki/List_of_fictional_cats_in_animation\n",
            "\n",
            "Information Sources:\n",
            "     https://en.wikipedia.org/wiki/Dog_breeding\n",
            "     https://en.wikipedia.org/wiki/Dog\n",
            "     https://en.wikipedia.org/wiki/Herding_dog\n",
            "     https://en.wikipedia.org/wiki/Cat\n",
            "     https://en.wikipedia.org/wiki/Maine_Coon\n",
            "     https://en.wikipedia.org/wiki/Tabby_cat\n",
            "     https://en.wikipedia.org/wiki/Cat_people_and_dog_people\n",
            "     https://en.wikipedia.org/wiki/Animal_behavior_consultant\n",
            "     https://en.wikipedia.org/wiki/Ragdoll\n",
            "     https://en.wikipedia.org/wiki/Dog_breed\n",
            "     https://en.wikipedia.org/wiki/Akita_(dog_breed)\n",
            "     https://en.wikipedia.org/wiki/Canaan_Dog\n",
            "     https://en.wikipedia.org/wiki/List_of_experimental_cat_breeds\n",
            "     https://en.wikipedia.org/wiki/Russian_Blue\n",
            "     https://en.wikipedia.org/wiki/Domestication_of_the_cat\n",
            "     https://en.wikipedia.org/wiki/Canine_reproduction\n",
            "     https://en.wikipedia.org/wiki/Dobermann\n",
            "     https://en.wikipedia.org/wiki/Genomics_of_personality_traits\n",
            "     https://en.wikipedia.org/wiki/Catgirl\n",
            "     https://en.wikipedia.org/wiki/List_of_fictional_cats_in_animation\n"
          ]
        }
      ],
      "source": [
        "chat = client.chats.create(model=MODEL_ID, config=config, history=[])\n",
        "\n",
        "query = \"Compare dog and cat characteristics.\"\n",
        "\n",
        "response = chat.send_message(query)"
      ]
    },
    {
      "cell_type": "code",
      "execution_count": 12,
      "metadata": {
        "id": "1l8KWb13M_lJ"
      },
      "outputs": [
        {
          "data": {
            "text/markdown": [
              "Dogs and cats, while both domesticated mammals, exhibit distinct characteristics in their physical attributes, behavior, and senses.\n",
              "\n",
              "**Dogs:**\n",
              "\n",
              "*   **Physical:** Dogs are incredibly diverse in shape, size, and color, with around 450 globally recognized breeds. They range from tiny Chihuahuas to massive Great Danes. Their skeletons are well-adapted for running, and they possess powerful jaws with about 42 teeth. Most dogs have 26 tail vertebrae, and their tails are crucial for communication and balance. Their coats can be double or single, and some breeds are hairless. They have well-developed senses of smell (40 times more receptors than humans), hearing (up to four times greater than humans), and vision (though inferior to humans in acuity, they have dichromatic vision).\n",
              "*   **Behavioral:** Dogs have been selectively bred for desired behaviors, including guarding, herding, hunting, retrieving, and scent detection. They are highly social animals, uniquely attuned to human behaviors and capable of understanding and communicating with humans. They display complex social cognition and can learn by inference. Their communication includes eye gaze, facial expression, vocalization, and body posture. Dogs typically reach sexual maturity between six months and one year, and females have estrous cycles semi-annually.\n",
              "*   **Health:** Dogs can be susceptible to various inheritable conditions like hip dysplasia, eye abnormalities, heart conditions, and deafness. Neoplasia (cancer) is a common cause of death. Their median longevity is around 12.7 years, negatively correlated with obesity.\n",
              "\n",
              "**Cats:**\n",
              "\n",
              "*   **Physical:** Cats are small carnivorous mammals, typically averaging 46 cm in body length and 23-25 cm in height, with about 30 cm long tails. Males are generally larger than females. They have a smaller skull and shorter bones than their wild ancestors. Their claws are protractible and retractable, keeping them sharp for hunting and climbing. Cats are digitigrade, walking on their toes, and use a \"pacing\" gait. They have excellent night vision due to a tapetum lucidum and large pupils, but poor color vision. Their acute sense of hearing can detect a broad range of frequencies, and they have a highly developed sense of smell with a Jacobson's organ for sensing pheromones. They have about 470 taste buds and cannot taste sweetness. Whiskers provide information about their surroundings.\n",
              "*   **Behavioral:** Cats are solitary hunters but social species. They are crepuscular predators, most active at dawn and dusk, though house cats can adapt to human schedules. They conserve energy by sleeping extensively, averaging 12-16 hours a day. Their intelligence is evident in their adaptability, observational learning, and problem-solving skills. Communication includes a variety of vocalizations and body language. They have rigorous grooming habits and instinctively bury waste. Adult cats are thought to live in an extended kittenhood, a form of behavioral neoteny. They mark territories with urine spraying and scent gland rubbing. Cats are known for their love of play, which mimics hunting. Most adult cats are lactose intolerant.\n",
              "*   **Health:** About 250 heritable genetic disorders have been identified in cats. Neutering can increase life expectancy and confer health benefits but can also lead to obesity. The average lifespan of pet cats has risen to about 13 years as of 2014 and 2023.\n",
              "\n",
              "**Key Differences and Similarities:**\n",
              "\n",
              "*   **Domestication:** Dogs have undergone more significant changes in anatomy and behavior during domestication compared to cats, which still retain a strong ability to survive in the wild.\n",
              "*   **Social Structure:** Dogs are generally more social and attuned to human interaction, while cats, though capable of affection, are inherently more solitary hunters.\n",
              "*   **Cognition:** Dogs have about twice the number of neurons in their cerebral cortexes than cats, but studies suggest both have similar cognitive abilities to horses and chimpanzees.\n",
              "*   **Diet:** Dogs are typically described as omnivores and have adapted to starch-rich diets, while cats are obligate carnivores with specific amino acid requirements.\n",
              "*   **Breeding:** Dog breeding has focused on specific tasks and exaggerated features, leading to greater phenotypic diversity. Cat breeding, which began later, emphasizes aesthetic differences, with fewer genetically distinct breeds."
            ],
            "text/plain": [
              "<IPython.core.display.Markdown object>"
            ]
          },
          "metadata": {},
          "output_type": "display_data"
        }
      ],
      "source": [
        "display(Markdown(response.text))"
      ]
    },
    {
      "cell_type": "markdown",
      "metadata": {
        "id": "ua7DPlj7HZyO"
      },
      "source": [
        "Check for additional citations:"
      ]
    },
    {
      "cell_type": "code",
      "execution_count": 13,
      "metadata": {
        "id": "ASotq7EcHAeo"
      },
      "outputs": [
        {
          "data": {
            "application/vnd.google.colaboratory.intrinsic+json": {
              "type": "string"
            },
            "text/plain": [
              "'No citations found'"
            ]
          },
          "execution_count": 13,
          "metadata": {},
          "output_type": "execute_result"
        }
      ],
      "source": [
        "response.candidates[0].citation_metadata or 'No citations found'"
      ]
    },
    {
      "cell_type": "markdown",
      "metadata": {
        "id": "lIC_Mpd0-3vj"
      },
      "source": [
        "### Step 4: Understand Chat History"
      ]
    },
    {
      "cell_type": "markdown",
      "metadata": {
        "id": "A0CfKMjYFSQm"
      },
      "source": [
        "That looks like it worked. You can go through the chat history to see the details of what was sent and received in the function calls:"
      ]
    },
    {
      "cell_type": "code",
      "execution_count": 14,
      "metadata": {
        "id": "_9h2b8saNnxh"
      },
      "outputs": [
        {
          "data": {
            "text/markdown": [
              "### user:"
            ],
            "text/plain": [
              "<IPython.core.display.Markdown object>"
            ]
          },
          "metadata": {},
          "output_type": "display_data"
        },
        {
          "data": {
            "text/markdown": [
              "Compare dog and cat characteristics."
            ],
            "text/plain": [
              "<IPython.core.display.Markdown object>"
            ]
          },
          "metadata": {},
          "output_type": "display_data"
        },
        {
          "name": "stdout",
          "output_type": "stream",
          "text": [
            "--------------------------------------------------------------------------------\n"
          ]
        },
        {
          "data": {
            "text/markdown": [
              "### model:"
            ],
            "text/plain": [
              "<IPython.core.display.Markdown object>"
            ]
          },
          "metadata": {},
          "output_type": "display_data"
        },
        {
          "name": "stdout",
          "output_type": "stream",
          "text": [
            "wikipedia_search {\n",
            "  \"search_queries\": [\n",
            "    \"Characteristics of dogs\",\n",
            "    \"Characteristics of cats\",\n",
            "    \"Differences between dogs and cats\",\n",
            "    \"Dog behavior vs cat behavior\",\n",
            "    \"Dog breeds and their traits\",\n",
            "    \"Cat breeds and their traits\",\n",
            "    \"Common traits of canines\",\n",
            "    \"Common traits of felines\"\n",
            "  ]\n",
            "}\n",
            "--------------------------------------------------------------------------------\n"
          ]
        },
        {
          "data": {
            "text/markdown": [
              "### user:"
            ],
            "text/plain": [
              "<IPython.core.display.Markdown object>"
            ]
          },
          "metadata": {},
          "output_type": "display_data"
        },
        {
          "data": {
            "text/markdown": [
              "*   Dog breeding aims to maintain or produce specific qualities and characteristics.\n",
              "*   Dogs have developed into distinct types, or groups, such as livestock guardian dogs, hunting dogs, and sighthounds.\n",
              "*   Artificial selection in dog breeding has influenced behavior, shape, and size of dogs.\n",
              "*   Dogs were selectively bred for smaller size and more docile behavior.\n",
              "*   Various dog breeds are differently neotenized according to the type of behavior that was selected.\n",
              "*   Dog breeding has preserved unique mutations such as shortened legs, a shortened face, new fur colors and textures.\n",
              "*   Dogs bred for show tended to develop more exaggerated and extreme features.\n",
              "*   The modern German Shepherd breed has a pronounced sloped back.\n",
              "*   The Western Shar Pei has been bred to have a meatier mouth and more wrinkly skin.\n",
              "*   Dogs have temperament, health, and appearance.\n",
              "*   Dogs have traits and behaviors that may be passed onto offspring.\n",
              "*   Rules for breeding may apply to the health of the dogs, such as joint x-rays, hip certifications, and eye examinations; to working qualities; to general conformation.\n",
              "*   The genetic diversity of modern dog breeds is lower.\n",
              "*   Some dogs have certain inheritable characteristics that can develop into a disability or disease.\n",
              "*   Canine hip dysplasia is an inheritable condition.\n",
              "*   Eye abnormalities, heart conditions, and some cases of deafness have been proven to be inherited.\n",
              "*   Health problems, including breathing problems (Pug and Pekingese), spinal problems (Dachshund), and Syringomyelia (Cavalier King Charles Spaniel) can occur.\n",
              "*   Selective breeding has squashed the snouts of certain dog breeds and morphed their brains.\n",
              "*   Domestic dogs are phenotypically diverse mammals shown by differences in morphology and behavior across different breeds.\n",
              "*   Genetic diversity has an effect on dogs' lifespan.\n",
              "*   Reduced survival and fertility of offspring can occur due to inbreeding depression.\n",
              "\n",
              "Based on:\n",
              "  https://en.wikipedia.org/wiki/Dog_breeding"
            ],
            "text/plain": [
              "<IPython.core.display.Markdown object>"
            ]
          },
          "metadata": {},
          "output_type": "display_data"
        },
        {
          "data": {
            "text/markdown": [
              "Here is the extracted information about the characteristics of dogs:\n",
              "\n",
              "*   The dog (Canis familiaris or Canis lupus familiaris) is a domesticated descendant of the gray wolf.\n",
              "*   Dogs have been bred for desired behaviors, sensory capabilities, and physical attributes.\n",
              "*   Dog breeds vary widely in shape, size, and color.\n",
              "*   They have the same number of bones (with the exception of the tail).\n",
              "*   Dogs possess powerful jaws that house around 42 teeth.\n",
              "*   They have well-developed senses of smell, hearing, and sight.\n",
              "*   Compared to humans, dogs possess a superior sense of smell and hearing, but inferior visual acuity.\n",
              "*   Communication in dogs includes eye gaze, facial expression, vocalization, body posture (including movements of bodies and limbs), and gustatory communication (scents, pheromones, and taste).\n",
              "*   They mark their territories by urinating on them.\n",
              "*   Dogs have uniquely adapted to human behavior, including being able to understand and communicate with humans.\n",
              "*   They are domesticated members of the family Canidae.\n",
              "*   Dogs were domesticated from wolves over 14,000 years ago.\n",
              "*   They display phenotypic diversity in skull, body, and limb proportions, more than within the entire order of carnivores.\n",
              "*   Dog breeds possess distinct traits related to morphology, which include body size, skull shape, tail phenotype, fur type, and colour.\n",
              "*   Their behavioural traits include guarding, herding, hunting, retrieving, and scent detection.\n",
              "*   Their personality traits include hypersocial behavior, boldness, and aggression.\n",
              "*   Dogs are extremely variable in size, ranging from one of the largest breeds, the Great Dane, at 50 to 79 kg (110 to 174 lb) and 71 to 81 cm (28 to 32 in), to one of the smallest, the Chihuahua, at 0.5 to 3 kg (1.1 to 6.6 lb) and 13 to 20 cm (5.1 to 7.9 in).\n",
              "*   All healthy dogs, regardless of their size and type, have the same amount of bones (with the exception of the tail), although there is significant skeletal variation between dogs of different types.\n",
              "*   The dog's skeleton is well adapted for running.\n",
              "*   The vertebrae on the neck and back have extensions for back muscles, consisting of epaxial muscles and hypaxial muscles, to connect to.\n",
              "*   The long ribs provide room for the heart and lungs.\n",
              "*   Their shoulders are unattached to the skeleton, allowing for flexibility.\n",
              "*   Most dogs naturally have 26 vertebrae in their tails, but some with naturally short tails have as few as three.\n",
              "*   The dog's skull has identical components regardless of breed type, but there is significant divergence in terms of skull shape between types (dolichocephalic, mesocephalic/mesaticephalic, brachycephalic).\n",
              "*   The jaw contains around 42 teeth, and it has evolved for the consumption of flesh.\n",
              "*   Dogs use their carnassial teeth to cut food into bite-sized chunks.\n",
              "*   Dogs' senses include vision, hearing, smell, taste, touch, and magnetoreception.\n",
              "*   One study suggests that dogs can feel small variations in Earth's magnetic field.\n",
              "*   Dogs' vision is dichromatic; their visual world consists of yellows, blues, and grays.\n",
              "*   They have difficulty differentiating between red and green.\n",
              "*   The dog's eye is composed of two types of cone cells.\n",
              "*   The divergence of the eye axis of dogs ranges from 12 to 25°, depending on the breed.\n",
              "*   A study found that dogs' visual acuity was up to eight times less effective than a human, and their ability to discriminate levels of brightness was about two times worse than a human.\n",
              "*   The dog brain is dominated by a large olfactory cortex.\n",
              "*   Dogs have roughly forty times more smell-sensitive receptors than humans, ranging from about 125 million to nearly 300 million in some dog breeds, such as bloodhounds.\n",
              "*   This sense of smell is the most prominent sense of the species.\n",
              "*   Dogs also have an acute sense of hearing up to four times greater than that of humans.\n",
              "*   They can pick up the slightest sounds from about 400 m (1,300 ft).\n",
              "*   Dogs have stiff, deeply embedded hairs known as whiskers that sense atmospheric changes, vibrations, and objects not visible in low light conditions.\n",
              "*   The coats of domestic dogs are of two varieties: \"double\" (coarse guard hair and soft down hair) or \"single\" (topcoat only).\n",
              "*   Breeds may have an occasional \"blaze\", stripe, or \"star\" of white fur on their chest or underside.\n",
              "*   Premature graying can occur in dogs as early as one year of age; this is associated with impulsive behaviors, anxiety behaviors, and fear of unfamiliar noise, people, or animals.\n",
              "*   Some dog breeds are hairless, while others have a very thick corded coat.\n",
              "*   A dog's dewclaw is the fifth digit in its forelimb and hind legs.\n",
              "*   Dewclaws on the forelimbs are attached by bone and ligament, while the dewclaws on the hind legs are attached only by skin.\n",
              "*   Most dogs are not born with dewclaws in their hind legs, and some are without them in their forelimbs.\n",
              "*   Dogs' dewclaws consist of the proximal phalanges and distal phalanges.\n",
              "*   A dog's tail is the terminal appendage of the vertebral column, which is made up of a string of 5 to 23 vertebrae enclosed in muscles and skin.\n",
              "*   One of the primary functions of a dog's tail is to communicate their emotional state.\n",
              "*   The tail also helps the dog maintain balance.\n",
              "*   It can also help the dog spread its anal gland's scent through the tail's position and movement.\n",
              "*   Dogs can have a violet gland (or supracaudal gland) characterized by sebaceous glands on the dorsal surface of their tails; in some breeds, it may be vestigial or absent.\n",
              "*   Dogs show asymmetric tail-wagging responses to different emotive stimuli.\n",
              "*   Dogs can injure themselves by wagging their tails forcefully; this condition is called kennel tail, happy tail, bleeding tail, or splitting tail.\n",
              "*   Some dogs can be born without tails because of a DNA variant in the T gene, which can also result in a congenitally short (bobtail) tail.\n",
              "*   Numerous disorders have been known to affect dogs.\n",
              "*   Dogs can acquire upper respiratory tract diseases, lower respiratory tract diseases, heart diseases, haemopoietic diseases, gastrointestinal disease, hepatic disease, pancreatic disease, renal disease, lower urinary tract disease, endocrine disorders, nervous system diseases, musculoskeletal disease, dermatological disorders, and ophthalmological diseases.\n",
              "*   Common dog parasites are lice, fleas, fly larvae, ticks, mites, cestodes, nematodes, and coccidia.\n",
              "*   Common infections in dogs include canine adenovirus, canine distemper virus, canine parvovirus, leptospirosis, canine influenza, and canine coronavirus.\n",
              "*   Dogs are the companion animal most frequently reported for exposure to toxins.\n",
              "*   Neoplasia is the most common cause of death for dogs.\n",
              "*   Other common causes of death are heart and renal failure.\n",
              "*   The typical lifespan of dogs varies widely among breeds, but the median longevity is approximately 12.7 years.\n",
              "*   Obesity correlates negatively with longevity.\n",
              "*   In domestic dogs, sexual maturity happens around six months to one year for both males and females.\n",
              "*   Female dogs will have their first estrous cycle, characterized by their vulvas swelling and producing discharges, usually lasting between 4 and 20 days.\n",
              "*   They will experience subsequent estrous cycles semiannually.\n",
              "*   Dogs bear their litters roughly 58 to 68 days after fertilization, with an average of 63 days.\n",
              "*   An average litter consists of about six puppies.\n",
              "*   Dog behavior has been shaped by millennia of contact with humans.\n",
              "*   They have acquired the ability to understand and communicate with humans and are uniquely attuned to human behaviors.\n",
              "*   Dogs have about twice the number of neurons in their cerebral cortexes than what cats have.\n",
              "*   Compared to their wolf counterparts, dogs tend to be less timid and less aggressive, though some of these genes have been associated with aggression in certain dog breeds.\n",
              "*   Traits of high sociability and lack of fear in dogs may include genetic modifications related to Williams-Beuren syndrome in humans.\n",
              "*   A dog can become aggressive because of trauma or abuse, fear or anxiety, territorial protection, or protecting an item it considers valuable.\n",
              "*   Acute stress reactions from post-traumatic stress disorder (PTSD) seen in dogs can evolve into chronic stress.\n",
              "*   Dogs have a natural instinct called prey drive.\n",
              "*   These instincts can drive dogs to consider objects or other animals to be prey or drive possessive behavior.\n",
              "*   Some puppies and dogs engage in coprophagy.\n",
              "*   Most dogs can swim.\n",
              "*   The female dog may produce colostrum, a type of milk high in nutrients and antibodies, 1–7 days before giving birth.\n",
              "*   Milk production lasts for around three months, and increases with litter size.\n",
              "*   The dog can sometimes vomit and refuse food during child contractions.\n",
              "*   In the later stages of the dog's pregnancy, nesting behaviour may occur.\n",
              "*   Puppies are born with a protective fetal membrane that the mother usually removes shortly after birth.\n",
              "*   Dogs can have the maternal instincts to start grooming their puppies, consume their puppies' feces, and protect their puppies.\n",
              "*   Researchers have tested dogs' ability to perceive information, retain it as knowledge, and apply it to solve problems.\n",
              "*   Studies suggest that dogs can learn by inference.\n",
              "*   One study of canine cognitive abilities found that dogs' capabilities are similar to those of horses, chimpanzees, or cats.\n",
              "*   Dogs demonstrate a theory of mind by engaging in deception.\n",
              "*   Dog communication is the transfer of information between dogs, as well as between dogs and humans.\n",
              "*   Both sexes of dogs may also urinate to communicate anxiety or frustration, submissiveness, or when in exciting or relaxing situations.\n",
              "*   Aroused dogs can be a result of the dogs' higher cortisol levels.\n",
              "*   Dogs begin socializing with other dogs by the time they reach the ages of 3 to 8 weeks.\n",
              "*   At about 5 to 12 weeks of age, they alter their focus from dogs to humans.\n",
              "*   Belly exposure in dogs can be a defensive behavior that can lead to a bite or to seek comfort.\n",
              "*   With their acute sense of hearing, dogs rely on the auditory aspect of communication for understanding and responding to various cues, including the distinctive barking patterns that convey different messages.\n",
              "*   Dogs are typically described as omnivores.\n",
              "*   Compared to wolves, dogs from agricultural societies have extra copies of amylase and other genes involved in starch digestion that contribute to an increased ability to thrive on a starch-rich diet.\n",
              "*   Similar to humans, some dog breeds produce amylase in their saliva and are classified as having a high-starch diet.\n",
              "*   Despite being an omnivore, dogs are only able to conjugate bile acid with taurine.\n",
              "*   They must get vitamin D from their diet.\n",
              "*   Dogs cannot synthesize ten amino acids: arginine, histidine, isoleucine, leucine, lysine, methionine, phenylalanine, threonine, tryptophan, and valine.\n",
              "*   Like cats, dogs require arginine to maintain nitrogen balance.\n",
              "*   These nutritional requirements place dogs halfway between carnivores and omnivores.\n",
              "*   The domesticated dog originated as a predator and scavenger.\n",
              "*   They inherited complex behaviors, such as bite inhibition, from their wolf ancestors.\n",
              "*   These sophisticated forms of social cognition and communication may account for dogs' trainability, playfulness, and ability to fit into human households and social situations.\n",
              "\n",
              "Based on:\n",
              "  https://en.wikipedia.org/wiki/Dog"
            ],
            "text/plain": [
              "<IPython.core.display.Markdown object>"
            ]
          },
          "metadata": {},
          "output_type": "display_data"
        },
        {
          "data": {
            "text/markdown": [
              "**Characteristics of dogs:**\n",
              "\n",
              "*   **Herding behavior (modified predatory behavior):** Humans have minimized the dog's natural inclination to treat cattle and sheep as prey while maintaining the dog's hunting skills, creating an effective herding dog.\n",
              "*   **Working styles:**\n",
              "    *   Some breeds (e.g., Australian Cattle Dog, Corgis) typically nip at the heels of animals (\"heelers\").\n",
              "    *   Other breeds (e.g., Border Collie) get in front of animals and use \"strong eye\" to stare them down (\"headers\" or \"fetching dogs\"). They keep livestock in a group by consistently going to the front/head to turn or stop movement.\n",
              "    *   Heelers or driving dogs keep pushing animals forward, typically staying behind the herd.\n",
              "    *   Some (e.g., Australian Kelpie, Australian Koolie) use both heading and heeling methods, and also run along the backs of sheep (head, heel, and back).\n",
              "    *   Others (e.g., Australian Shepherd, English Shepherd, Welsh Sheepdog) are moderate to loose eyed, working more independently.\n",
              "    *   Some (e.g., New Zealand Huntaway) use a loud, deep bark to muster mobs of sheep.\n",
              "    *   Historically, tending dogs (e.g., Belgian Malinois, German Shepherd Dogs, Briards) act as a \"living fence,\" guiding large flocks while preventing them from eating valuable crops or wandering onto roads.\n",
              "*   **Herding instincts and trainability:** Can be measured by introducing a dog to livestock or at noncompetitive herding tests. Individuals exhibiting basic herding instincts can be trained to compete.\n",
              "*   **Adaptation for specific animals:** Some herding breeds have been bred for generations to work with specific kinds of animals and have developed physical characteristics or styles of working that enhance their ability to handle these animals.\n",
              "*   **Historical characteristics (early herding dogs):** Strong, vicious, courageous, decisive, able to stand alone against a large predator, and ready to defend their herd (when used primarily for protection against predators).\n",
              "*   **Later characteristics (after predator decline):** Medium-sized and mobile, more suitable for managing small and large livestock and domestic birds, and for protecting crops and private areas. Some had thick hair, suitable for colder areas, and showed ability to manage and protect the herd.\n",
              "*   **General Physical characteristics:**\n",
              "    *   Strong and have a lot of stamina.\n",
              "    *   Paws are well protected from thorns and sharp stones: toes compressed into a tight lump, paw pads thick, claws strong.\n",
              "    *   Coat has structure and density to protect from getting wet and temperature extremes.\n",
              "    *   Excellent eyesight and hearing.\n",
              "    *   Well-pigmented eyelids, lips, nose, and paw pads (pink skin is too delicate and prone to wounds and sunburn).\n",
              "    *   Most herding dog breeds are medium to large in weight.\n",
              "    *   Bred to be muscular, lean, and agile.\n",
              "*   **Coat variations:**\n",
              "    *   Australian Cattle Dogs come in Blue and Red, with variations like Speckle and Mottle.\n",
              "    *   Border Collies feature patterns like Black and White, Lilac, Merle, and Tricolor.\n",
              "    *   Patagonian Sheepdog's medium or long length coat comes in an abundance of colors, providing protection against cold/snow and camouflage.\n",
              "    *   Finnish Lapphunds have a thick, double coat to combat cold winters and snow.\n",
              "    *   Samoyed fur is excellent insulation and camouflage, and their undercoat can be spun into wool.\n",
              "    *   Bergamasco Sheepdog has tight \"flock\" coats, selected for protection against climate and predators.\n",
              "*   **Modern characteristics:**\n",
              "    *   Retain their herding instincts and may sometimes nip at people's heels or bump them in an effort to 'herd' their family.\n",
              "    *   High need for physical and intellectual activity.\n",
              "    *   Quick learning ability, physical strength, endurance, predatory behavior combined with dedication to the owner and a desire to work.\n",
              "    *   Born athletes with high need for physical and intellectual activity.\n",
              "    *   Excellent canine athletes.\n",
              "\n",
              "Based on:\n",
              "  https://en.wikipedia.org/wiki/Herding_dog"
            ],
            "text/plain": [
              "<IPython.core.display.Markdown object>"
            ]
          },
          "metadata": {},
          "output_type": "display_data"
        },
        {
          "data": {
            "text/markdown": [
              "Here are the characteristics of cats extracted from the provided source:\n",
              "\n",
              "*   **General:**\n",
              "    *   Small domesticated carnivorous mammal.\n",
              "    *   Only domesticated species of the family Felidae.\n",
              "    *   Commonly kept as a pet and working cat, but also ranges freely as a feral cat avoiding human contact.\n",
              "    *   Valued by humans for companionship and its ability to kill vermin.\n",
              "    *   Social species, but a solitary hunter and a crepuscular predator.\n",
              "    *   Intelligence is evident in their ability to adapt, learn through observation, and solve problems.\n",
              "    *   Possess strong memories, exhibit neuroplasticity, and display cognitive skills comparable to those of a young child.\n",
              "    *   Communication includes meowing, purring, trilling, hissing, growling, grunting, and body language.\n",
              "    *   Female domestic cats can have kittens from spring to late autumn in temperate zones and throughout the year in equatorial regions.\n",
              "    *   Litter sizes often range from two to five kittens.\n",
              "    *   During domestication, cats have undergone only minor changes in anatomy and behavior.\n",
              "    *   Still capable of surviving in the wild.\n",
              "    *   Natural behaviors and characteristics of wildcats pre-adapted them for domestication as pets: small size, social nature, obvious body language, love of play, and high intelligence.\n",
              "    *   Rigorous grooming habits and instinct to bury their bodily waste make them generally much less messy than other domesticated animals.\n",
              "    *   Development of cat breeds started in the mid-19th century.\n",
              "    *   Genetic diversity of purebred populations is lowest and shows more than 20 deleterious genetic disorders.\n",
              "    *   Outdoor cats are active both day and night, although they tend to be slightly more active at night.\n",
              "    *   Domestic cats spend the majority of their time in the vicinity of their homes, but they can range a radius of many hundreds of meters.\n",
              "    *   They establish territories that vary considerably in size, in one study ranging 7–28 ha (17–69 acres).\n",
              "    *   Timing of activity is quite flexible and varied; generally crepuscular, meaning more active near dawn and dusk.\n",
              "    *   House cats' behavior is influenced by human activity and may adapt to owners' sleeping patterns.\n",
              "    *   Conserve energy by sleeping more than most animals, especially as they grow older.\n",
              "    *   Daily duration of sleep varies, usually between 12 and 16 hours, with 13 to 14 being the average. Some cats can sleep as much as 20 hours.\n",
              "    *   \"Cat nap\" refers to the cat's tendency to fall asleep (lightly) for a brief period.\n",
              "    *   Short periods of rapid eye movement sleep are often accompanied by muscle twitches, which suggests they are dreaming.\n",
              "    *   Behavioral and personality traits depend on a complex interplay between genetic and environmental factors.\n",
              "    *   Social behavior ranges from widely dispersed individuals to feral cat colonies that gather around a food source, based on groups of co-operating females.\n",
              "    *   Within such groups, one cat is usually dominant over the others.\n",
              "    *   Each cat in a colony holds a distinct territory, with sexually active males having the largest territories (about 10 times larger than females', overlapping several females' territories).\n",
              "    *   Territories are marked by urine spraying, rubbing objects at head height with secretions from facial glands, and by defecation.\n",
              "    *   Between territories are neutral areas where cats watch and greet one another without territorial conflicts.\n",
              "    *   Outside neutral areas, territory holders usually chase away stranger cats, by staring, hissing, growling, and short, violent, noisy attacks.\n",
              "    *   Do not have a social survival strategy or herd behavior; they always hunt alone.\n",
              "    *   Life in proximity to humans and other domestic animals has led to a symbiotic social adaptation.\n",
              "    *   May express great affection toward humans or other animals.\n",
              "    *   Ethologically, a cat's human keeper functions as a mother surrogate.\n",
              "    *   Adult cats live in a type of extended kittenhood, a form of behavioral neoteny.\n",
              "    *   High-pitched sounds may mimic the cries of a hungry human infant.\n",
              "    *   Some pet cats are poorly socialized.\n",
              "    *   Older cats show aggressiveness toward newly arrived kittens (feline asocial aggression).\n",
              "    *   Redirected aggression is common in multiple cat households.\n",
              "    *   Scent rubbing behavior toward humans or other cats is thought to be a feline means of social bonding.\n",
              "    *   Spend considerable amounts of time licking their coats to keep them clean.\n",
              "    *   Cats are known for their love of play, especially young kittens.\n",
              "    *   Play mimics hunting and is important in helping kittens learn to stalk, capture, and kill prey.\n",
              "    *   Engage in play fighting, both with each other and with humans.\n",
              "    *   Prefer to play with objects that resemble prey, such as small furry toys that move rapidly, but rapidly lose interest.\n",
              "    *   Become habituated to a toy they have played with before.\n",
              "    *   Lapping at a rate of four times a second, the cat touches the smooth tip of its tongue to the surface of the water, and quickly retracts it like a corkscrew, drawing water upward into their mouths.\n",
              "    *   Feral cats and free-fed house cats consume several small meals in a day.\n",
              "    *   Frequency and size of meals varies between individuals.\n",
              "    *   Select food based on its temperature, smell, and texture; dislike chilled foods and respond most strongly to moist foods rich in amino acids.\n",
              "    *   Reject novel flavors (neophobia) and learn quickly to avoid unpleasant-tasting foods.\n",
              "    *   Tend to avoid sweet food and milk.\n",
              "    *   Most adult cats are lactose intolerant; sugar in milk is not easily digested and may cause soft stools or diarrhea.\n",
              "    *   Some develop odd eating habits and like to eat or chew on things such as wool, plastic, cables, paper, string, aluminum foil, or even coal (pica).\n",
              "    *   Hunt small prey, primarily birds and rodents.\n",
              "    *   Often used as a form of pest control.\n",
              "    *   Other common small creatures, such as lizards and snakes, may also become prey.\n",
              "    *   Use two hunting strategies: stalking prey actively, or waiting in ambush.\n",
              "    *   Strategy used depends on available prey (ambush for burrows, active stalking for birds).\n",
              "    *   Domestic males are more likely to fight than females.\n",
              "    *   Most common reason for feral cat fighting is competition between two males to mate with a female.\n",
              "    *   Most fights are won by the heavier male.\n",
              "    *   Another common reason for fighting in domestic cats is difficulty establishing territories within a small home.\n",
              "    *   Female cats also fight over territory or to defend their kittens.\n",
              "    *   Neutering decreases or eliminates fighting behavior in many cases.\n",
              "    *   When aggressive, they try to appear larger and more threatening by raising fur, arching backs, turning sideways, hissing, or spitting.\n",
              "    *   Often, ears are pointed down and back to avoid damage and listen for changes behind them.\n",
              "    *   May vocalize loudly and bare teeth to intimidate opponents.\n",
              "    *   Fights usually consist of grappling, slapping the face and body with forepaws, and bites.\n",
              "    *   Throw themselves to the ground in a defensive posture to rake opponent's belly with hind legs.\n",
              "    *   Serious damage is rare, as fights are usually short with the loser fleeing with scratches.\n",
              "    *   More severe fights for mating rights may give deep punctures and lacerations.\n",
              "    *   Normally, serious injuries from fighting are limited to infections from scratches and bites.\n",
              "    *   Bites are probably the main route of transmission of the feline immunodeficiency virus.\n",
              "    *   Sexually active males are usually involved in many fights and have battered faces.\n",
              "    *   Are willing to threaten animals larger than them to defend their territory, such as dogs and foxes.\n",
              "    *   Secrete and perceive pheromones.\n",
              "    *   Female cats (queens) are polyestrous with several estrus cycles during a year, usually lasting 21 days.\n",
              "    *   Usually ready to mate between early February and August in northern temperate zones and throughout the year in equatorial regions.\n",
              "    *   Several males (tomcats) are attracted to a female in heat; they fight over her, and the victor wins the right to mate.\n",
              "    *   Female rejects the male at first, but eventually allows mating.\n",
              "    *   Female utters a loud yowl as male pulls out because a male cat's penis has a band of about 120–150 backward-pointing penile spines (about 1 mm long), which upon withdrawal may provide increased sexual stimulation to induce ovulation.\n",
              "    *   After mating, the female cleans her vulva thoroughly.\n",
              "    *   If a male attempts to mate at this point, the female attacks him.\n",
              "    *   After about 20 to 30 minutes of grooming, the cycle repeats.\n",
              "    *   Ovulation is not always triggered by a single mating.\n",
              "    *   Females may not be impregnated by the first male.\n",
              "    *   Cats are superfecund; a female may mate with more than one male when in heat, resulting in different kittens in a litter having different fathers.\n",
              "    *   Morula forms 124 hours after conception.\n",
              "    *   At 148 hours, early blastocysts form.\n",
              "    *   At 10–12 days, implantation occurs.\n",
              "    *   Gestation of queens lasts between 64 and 67 days, with an average of 65 days.\n",
              "    *   Have one to six kittens per litter, with an average of three kittens (from a study).\n",
              "    *   Produce a mean of 1.4 litters per year, but a maximum of three litters in a year.\n",
              "    *   Kittens are weaned between six and seven weeks of age.\n",
              "    *   Queens normally reach sexual maturity at 5–10 months, and males at 5–7 months (varies by breed).\n",
              "    *   Kittens reach puberty at the age of 9–10 months.\n",
              "    *   Are ready to go to new homes at about 12 weeks of age.\n",
              "    *   Can be surgically sterilized (spayed or castrated) as early as seven weeks to limit unwanted reproduction.\n",
              "    *   Sterilization prevents undesirable sex-related behavior, such as aggression, territory marking (spraying urine) in males, and yowling (calling) in females.\n",
              "    *   Average lifespan of pet cats has risen in recent decades (about 7 years in early 1980s, rising to 9.4 years in 1995, and about 13 years as of 2014 and 2023).\n",
              "    *   Neutering increases life expectancy (castrated males live twice as long as intact males; spayed females live 62% longer than intact females).\n",
              "    *   Neutering confers health benefits, such as decreased incidence of reproductive neoplasia.\n",
              "    *   Neutering decreases metabolism and increases food intake, which can cause obesity.\n",
              "    *   About 250 heritable genetic disorders have been identified in cats.\n",
              "    *   Diseases affecting domestic cats include acute infections, parasitic infestations, injuries, and chronic diseases (kidney disease, thyroid disease, arthritis).\n",
              "    *   Vaccinations are available for many infectious diseases, as are treatments to eliminate parasites.\n",
              "    *   A cosmopolitan species, occurring across much of the world.\n",
              "    *   Adaptable and present on all continents except Antarctica, and on 118 of the 131 main groups of islands.\n",
              "    *   Among the world's most invasive species.\n",
              "    *   Live on small islands with no human inhabitants.\n",
              "    *   Feral cats can live in forests, grasslands, tundra, coastal areas, agricultural land, scrublands, urban areas, and wetlands.\n",
              "    *   Can readily interbreed with the wildcat, posing a danger to the genetic distinctiveness of some wildcat populations.\n",
              "    *   Introduction to places without native felines contributes to the decline of native species.\n",
              "\n",
              "*   **Physical (Anatomy, Size, Skeleton, Claws, Ambulation, Balance, Coats):**\n",
              "    *   Averages about 46 cm (18 in) in head-to-body length and 23–25 cm (9.1–9.8 in) in height.\n",
              "    *   About 30 cm (12 in) long tails.\n",
              "    *   Males are larger than females.\n",
              "    *   Adult domestic cats typically weigh 4–5 kg (8.8–11.0 lb).\n",
              "    *   Has a smaller skull and shorter bones than the European wildcat.\n",
              "    *   Seven cervical vertebrae.\n",
              "    *   13 thoracic vertebrae.\n",
              "    *   Seven lumbar vertebrae.\n",
              "    *   Three sacral vertebrae.\n",
              "    *   Variable number of caudal vertebrae in the tail.\n",
              "    *   Extra lumbar and thoracic vertebrae account for spinal mobility and flexibility.\n",
              "    *   Attached to the spine are 13 ribs, the shoulder, and the pelvis.\n",
              "    *   Forelimbs are attached to the shoulder by free-floating clavicle bones, allowing them to pass their body through any space into which they can fit their head.\n",
              "    *   Skull is unusual among mammals in having very large eye sockets and a powerful specialized jaw.\n",
              "    *   Two long canine teeth for killing and tearing prey.\n",
              "    *   Can stab between two of the prey's vertebrae and sever its spinal cord.\n",
              "    *   Compared to other felines, domestic cats have narrowly spaced canine teeth relative to jaw size (adaptation to small rodent prey).\n",
              "    *   Premolar and first molar together compose the carnassial pair on each side of the mouth, which efficiently shears meat.\n",
              "    *   Small molars cannot chew food effectively; largely incapable of mastication.\n",
              "    *   Tend to have better dental health than most humans due to thicker protective enamel, less damaging saliva, less food retention, and a diet mostly devoid of sugar.\n",
              "    *   Subject to occasional tooth loss and infection.\n",
              "    *   Have protractible and retractable claws.\n",
              "    *   Claws are sheathed with skin and fur when relaxed, keeping them sharp and allowing silent stalking.\n",
              "    *   Claws on the forefeet are typically sharper than those on the hindfeet.\n",
              "    *   Can voluntarily extend claws for hunting, fighting, climbing, kneading, or extra traction.\n",
              "    *   Shed the outside layer of their claw sheaths when scratching rough surfaces.\n",
              "    *   Most cats have five claws on their front paws and four on their rear paws.\n",
              "    *   The dewclaw is proximal to the other claws.\n",
              "    *   A protrusion on the front paws inside the wrists appears to be a sixth \"finger\" (antiskidding device while jumping).\n",
              "    *   Some cat breeds are prone to having extra digits (\"polydactyly\").\n",
              "    *   Is digitigrade, walking on the toes.\n",
              "    *   Uses a \"pacing\" gait (alternates both legs together on each side).\n",
              "    *   Registers directly by placing each hind paw close to the track of the corresponding fore paw, minimizing noise and visible tracks.\n",
              "    *   Provides sure footing for hind paws when navigating rough terrain.\n",
              "    *   As it speeds up, gait changes to a \"diagonal\" gait (diagonally opposite hind and fore legs move simultaneously).\n",
              "    *   Generally fond of perching in high places (concealed hunting site, superior observation point).\n",
              "    *   A cat falling from up to 3 m (9.8 ft) can right itself and land on its paws.\n",
              "    *   Reflexively twists and rights itself during a fall to land on its feet (cat righting reflex).\n",
              "    *   Always rights itself in the same way, and has enough time in falls of at least 90 cm (3.0 ft).\n",
              "    *   Genes MC1R and ASIP allow color variety in their coats.\n",
              "\n",
              "*   **Senses:**\n",
              "    *   **Vision:**\n",
              "        *   Excellent night vision; can see at one sixth the light level required for human vision.\n",
              "        *   Eyes have a tapetum lucidum, reflecting light back into the retina, increasing sensitivity to dim light.\n",
              "        *   Large pupils are an adaptation to dim light.\n",
              "        *   Has slit pupils, allowing it to focus bright light without chromatic aberration.\n",
              "        *   At low light, pupils expand to cover most of the exposed eye surface.\n",
              "        *   Rather poor color vision; only two types of cone cells optimized for blue and yellowish green.\n",
              "        *   Limited ability to distinguish between red and green.\n",
              "        *   Nictitating membrane allows them to blink without hindering vision.\n",
              "    *   **Hearing:**\n",
              "        *   Most acute hearing in the range of 500 Hz to 32 kHz.\n",
              "        *   Can detect an extremely broad range of frequencies ranging from 55 Hz to 79 kHz.\n",
              "        *   Can hear a range of 10.5 octaves.\n",
              "        *   Hearing sensitivity enhanced by large movable outer ears (pinnae), which amplify sounds and help detect noise location.\n",
              "        *   Can detect ultrasound, including calls from rodent prey.\n",
              "        *   Have socio-spatial cognitive abilities to create mental maps of familiar people's locations based on hearing voices.\n",
              "    *   **Smell:**\n",
              "        *   Acute sense of smell due to well-developed olfactory bulb and large olfactory mucosa (about 5.8 cm2, twice that of humans).\n",
              "        *   Have a Jacobson's organ in their mouths for flehmening (sensing certain aromas humans cannot).\n",
              "        *   Sensitive to pheromones such as 3-mercapto-3-methylbutan-1-ol, used for communication through urine spraying and scent gland marking.\n",
              "        *   Many cats respond strongly to plants containing nepetalactone (catnip), detectable at less than one part per billion.\n",
              "        *   About 70–80% of cats are affected by nepetalactone.\n",
              "    *   **Taste:**\n",
              "        *   About 470 taste buds.\n",
              "        *   Domestic and wild cats share a taste receptor gene mutation preventing sweet taste buds from binding to sugary molecules, so no ability to taste sweetness.\n",
              "        *   Have taste bud receptors specialized for acids, amino acids (constituents of protein), and bitter tastes.\n",
              "        *   Taste buds possess receptors to detect umami, but with molecular changes that make them taste umami differently from humans (detect inosine monophosphate and histidine, particularly enriched in tuna).\n",
              "        *   Distinctly prefer food temperature around 38 °C (100 °F), similar to a fresh kill.\n",
              "        *   Some cats reject cold food.\n",
              "    *   **Whiskers (Vibrissae):**\n",
              "        *   Have dozens of movable whiskers over their body, especially faces.\n",
              "        *   Provide information on the width of gaps and location of objects in the dark (by touching and sensing air currents).\n",
              "        *   Trigger protective blink reflexes to protect eyes.\n",
              "\n",
              "Based on:\n",
              "  https://en.wikipedia.org/wiki/Cat"
            ],
            "text/plain": [
              "<IPython.core.display.Markdown object>"
            ]
          },
          "metadata": {},
          "output_type": "display_data"
        },
        {
          "data": {
            "text/markdown": [
              "**Characteristics of Maine Coon Cats:**\n",
              "\n",
              "*   **Size**: The Maine Coon is a large domesticated cat breed. It is one of the largest domesticated cats. The Maine Coon is commonly referred to as \"the gentle giant.\" It was considered the largest breed of domestic cat until the introduction of the Savannah cat in the mid-1980s, yet it is still the largest non-hybrid breed. On average, males weigh from 18 to 22 lb (8.2 to 10.0 kg), with females weighing from 12 to 15 lb (5.4 to 6.8 kg). The height of adults can vary between 10 and 16 in (25 and 41 cm) and they can reach a length of up to 38 in (97 cm), including the tail. Their full size is normally not reached until they are three to five years old. Large Maine Coons can overlap in length with Eurasian lynxes, although with a much lighter build and lower height.\n",
              "*   **Coat**: The Maine Coon is predominantly known for its dense coat of fur which helps it survive in the harsh climate of Maine. It is a long- or medium-haired cat. The coat is soft and silky, although texture may vary with coat color. The length is shorter on the head and shoulders and longer on the stomach and flanks, with some cats having a leonine ruff around their neck. Their double coat is mostly self-maintaining owing to a light-density undercoat. The coat is subject to seasonal variation, with the fur being thicker in the winter and thinner during the summer. Their dense water-resistant fur is longer and shaggier on their underside and rear for extra protection when they are walking or sitting on top of wet surfaces of snow or ice.\n",
              "*   **Tail**: Their long and bushy raccoon-like tail is resistant to sinking in snow, and can be curled around their face and shoulders for warmth and protection from wind and blowing snow. It can even be curled around their backside like an insulated seat cushion when sitting down on a frozen surface. The tail can reach a length of 14 in (36 cm) and is long, tapering, and heavily furred, almost resembling a raccoon's tail.\n",
              "*   **Paws**: Large paws facilitate walking on snow and are often compared to snowshoes. Long tufts of fur growing between their toes help keep the toes warm and further aid walking on snow by giving the paws additional structure without significant extra weight.\n",
              "*   **Ears**: Heavily furred ears with extra long tufts of fur growing from inside can keep warm more easily.\n",
              "*   **Body Build**: They have a distinctive physical appearance. The body is solid and muscular, which is necessary for supporting their weight, and the chest is broad. Maine Coons possess a rectangular body shape.\n",
              "*   **Social/Temperament**: The Maine Coon is a social cat. The Maine Coon is often cited as having \"dog-like\" characteristics.\n",
              "*   **Skills**: They possess valuable hunting skills.\n",
              "*   **Coat Colors**: Maine Coons can have any colors that other cats have. The most common pattern seen in the breed is brown tabby.\n",
              "*   **Eye Colors**: All eye colors are accepted under breed standards, with the exception of blue or odd-eyes (heterochromia iridium) in cats possessing coat colors other than white.\n",
              "*   **Polydactylism**: Many of the original Maine Coon cats that inhabited the New England area possessed a trait known as polydactylism (having one or more extra toes on a paw). Polydactyly not only affects digit number and conformation, but also carpus and tarsus conformation.\n",
              "*   **Life Expectancy**: Pet insurance data from Sweden (2003–2006) puts the median lifespan of the Maine Coon at > 12.5 years. A UK study found a life expectancy of 9.71 years.\n",
              "*   **Health Concerns**:\n",
              "    *   **Hypertrophic cardiomyopathy (HCM)**: A mutation in the MYBPC3 gene found in Maine Coons has been associated with HCM. Approximately one-third tested positive for the mutation at the Veterinary Cardiac Genetics Lab at Washington State University. Not all cats that test positive will have clinical signs of the disease, and some Maine Coon cats with clinical evidence of hypertrophic cardiomyopathy test negative for this mutation, suggesting a second mutation exists. The HCM prevalence was found to be 10.1%.\n",
              "    *   **Polycystic kidney disease (PKD)**: Renal cysts are observed with a low incidence in Maine Coons. In a 2013 study, renal cysts were documented by ultrasound in 7 of 187 healthy Maine Coons. These cysts were mostly single and unilateral (85.7%), small (mean 3.6 mm in diameter), and located at the corticomedullary junction. All six Maine Coon cats with renal cysts tested negative for the PKD1 mutation. 'Maine Coon PKD' represents a form of juvenile nephropathy other than PKD.\n",
              "    *   **Hip dysplasia**: An abnormality of the hip joint which can cause crippling lameness and arthritis. Maine Coons are one of the breeds commonly affected. X-rays submitted to the Orthopedic Foundation for Animals (1974-2011) indicates that 24.3% of Maine Coons in the database were dysplastic.\n",
              "    *   **Spinal muscular atrophy**: The Maine Coon is one of the more commonly affected breeds for spinal muscular atrophy. An autosomal recessive mutation in both the LIX1 and LNPEP gene are responsible for the condition in the breed.\n",
              "    *   **Entropion**: Maine Coons also seem to be predisposed to develop entropion, mainly on the lateral aspect of the eyelids, which can lead to corneal irritation and ulceration, and may require surgery.\n",
              "\n",
              "Based on:\n",
              "  https://en.wikipedia.org/wiki/Maine_Coon"
            ],
            "text/plain": [
              "<IPython.core.display.Markdown object>"
            ]
          },
          "metadata": {},
          "output_type": "display_data"
        },
        {
          "data": {
            "text/markdown": [
              "Here's information about the characteristics of cats from the provided source:\n",
              "\n",
              "*   **Classification:** Domestic cat (Felis catus).\n",
              "*   **Ancestry:** The domestic cat's direct ancestor and close relatives (the African wildcat, the European wildcat, and the Asiatic wildcat) have similar coats, both by pattern and coloration.\n",
              "*   **Genetic Diversity:** One genetic study of domestic cats found at least five founders.\n",
              "*   **Coat Patterns (General Genetic Basis):**\n",
              "    *   The agouti gene, with its two alleles (A and a), controls whether or not the tabby pattern is expressed.\n",
              "    *   Solid-color (black or blue) cats have the aa combination, hiding the tabby pattern, although sometimes a suggestion of the underlying pattern can be seen (\"ghost striping\").\n",
              "    *   A cat with an O allele for orange color still expresses the tabby pattern.\n",
              "    *   Both red cats and the patches of red on tortoiseshell cats always show tabby patterning.\n",
              "    *   Pigment dilution can mute stripes, especially in cream and blue/cream cats.\n",
              "*   **Sex-linked Traits (Coat Color):**\n",
              "    *   Female cats have two X chromosomes, making it possible for them to have both O (orange) and o (black) alleles, which causes both colors to appear in random patches (tortoiseshell/calico).\n",
              "    *   Male cats cannot be tortoiseshell unless they have two X chromosomes.\n",
              "    *   Roughly 75% of ginger cats are male.\n",
              "*   **Temperament:**\n",
              "    *   Personality and aggression vary widely from cat to cat, and is multifactorial.\n",
              "    *   Differences in aggression seemed to researchers to be sex-linked, rather than related to any coat pattern or coloring.\n",
              "    *   Females were identified by their guardians as more aggressive during veterinary visits compared with males.\n",
              "    *   Gray-and-white and black/brown/gray tabby females were more aggressive than their male counterparts at veterinarians’ offices.\n",
              "\n",
              "Based on:\n",
              "  https://en.wikipedia.org/wiki/Tabby_cat"
            ],
            "text/plain": [
              "<IPython.core.display.Markdown object>"
            ]
          },
          "metadata": {},
          "output_type": "display_data"
        },
        {
          "data": {
            "text/markdown": [
              "The provided text primarily focuses on the differences between \"cat people\" and \"dog people\" (i.e., people who prefer cats versus people who prefer dogs), rather than detailing specific differences between dogs and cats as species themselves.\n",
              "\n",
              "The only mention of differences between the animals is:\n",
              "*   The text states that the two species have \"real and perceived differences\" meaning that they display their own personalities that would be best suited to particular people.\n",
              "\n",
              "Based on:\n",
              "  https://en.wikipedia.org/wiki/Cat_people_and_dog_people"
            ],
            "text/plain": [
              "<IPython.core.display.Markdown object>"
            ]
          },
          "metadata": {},
          "output_type": "display_data"
        },
        {
          "data": {
            "text/markdown": [
              "The provided text mentions the following relevant information regarding dog behavior vs. cat behavior:\n",
              "\n",
              "*   Animal behavior consultants need to know about the \"normal behaviors of their chosen species.\"\n",
              "*   The majority of certifying organizations for animal behavior consultants are \"species-specific,\" offering \"separate certifications for different species.\"\n",
              "*   \"Certifications exist for dog, cat, parrot, and horse behavior consultants.\"\n",
              "*   It is generally recommended that potential clients hire a consultant with \"experience in their animal's species.\"\n",
              "*   Experience in a specific species is necessary because applied behavior analysis requires \"knowledge of typical behaviors in the species, how to observe and interpret body language, and the best way to reinforce desired behaviors.\"\n",
              "\n",
              "Based on:\n",
              "  https://en.wikipedia.org/wiki/Animal_behavior_consultant"
            ],
            "text/plain": [
              "<IPython.core.display.Markdown object>"
            ]
          },
          "metadata": {},
          "output_type": "display_data"
        },
        {
          "data": {
            "text/markdown": [
              "The following information describes Ragdoll cat behavior in comparison to dog behavior:\n",
              "\n",
              "*   Ragdolls are known as **dog-like cats** due to their tendency to follow people around, their receptiveness to handling, and their relative lack of aggression towards other pets.\n",
              "*   They are often known as **\"puppy cats\", \"dog-like cats\", \"cat-dogs\"** because of their placid nature and affectionate behavior.\n",
              "*   Ragdolls often follow owners from room to room as well as seeking physical affection **akin to certain dog breeds**.\n",
              "*   Ragdolls can be trained to retrieve toys and enjoy doing so.\n",
              "\n",
              "Based on:\n",
              "  https://en.wikipedia.org/wiki/Ragdoll"
            ],
            "text/plain": [
              "<IPython.core.display.Markdown object>"
            ]
          },
          "metadata": {},
          "output_type": "display_data"
        },
        {
          "data": {
            "text/markdown": [
              "*   A dog breed is a particular type of dog that was purposefully bred by humans to perform specific tasks, such as herding, hunting, and guarding.\n",
              "*   These breeds possess distinct traits related to morphology, which include body size and shape, tail phenotype, fur type, etc.\n",
              "*   Their behavioral traits include guarding, herding, and hunting, and personality traits such as hyper-social behavior, boldness, and aggression.\n",
              "*   A dog breed will consistently produce the physical traits, movement and temperament that were developed over decades of selective breeding.\n",
              "*   Breed standards are a written description of the ideal specimen of the breed, including form, function and fitness for purpose.\n",
              "*   \"Dog breed\" took on an entirely new meaning by the end of the Victorian era, driven by dog shows and the groups that hosted them.\n",
              "*   Dog show competitions included best-in-breed winners, and the purebreds were winning.\n",
              "*   The optimal maximum size for a sled dog is 20–25 kg (44–55 lb) based on thermo-regulation, and the ancient sled dogs were between 16–25 kg (35–55 lb). The same standard has been found in the remains of sled dogs from this region 2,000 years ago and in the modern Siberian Husky breed standard.\n",
              "*   Other ancient dogs were larger at 30 kg (66 lb) and appear to be dogs that had been crossed with wolves and used for polar-bear hunting.\n",
              "*   Between 3,000 and 4,000 years ago greyhound-types of dogs were depicted on pottery and paintings in Egypt and Western Asia.\n",
              "*   Mastiff-type dogs were kept for guarding and hunting, and short-legged dogs were also bred.\n",
              "*   Most modern dog breeds are the products of the controlled breeding practices of the Victorian era (1830–1900), and the accurate documenting of pedigrees with the establishment of the English Kennel Club in 1873.\n",
              "*   Dogs are the most variable mammal on earth with around 450 globally recognized dog breeds.\n",
              "*   In the Victorian era, directed human selection developed the modern dog breeds, which resulted in a vast range of phenotypes.\n",
              "*   These breeds can vary in size and weight from a 0.46 kg (1.0 lb) teacup poodle to a 90 kg (200 lb) giant mastiff.\n",
              "*   The skull, body, and limb proportions vary significantly between breeds, with dogs displaying more phenotypic diversity than can be found within the entire order of carnivores.\n",
              "*   These breeds possess distinct traits related to morphology, which include body size, skull shape, tail phenotype, fur type and colour.\n",
              "*   Their behavioral traits include guarding, herding, and hunting, retrieving, and scent detection.\n",
              "*   Their personality traits include hypersocial behavior, boldness, and aggression, which demonstrates the functional and behavioral diversity of dogs.\n",
              "*   A genetic study identified 51 regions of the dog genome which were associated with phenotype variation among breeds in the 57 traits studied, which included body, cranial, dental, and long bone shape and size.\n",
              "*   Indicators of recent selection were shown by many of the 51 genomic regions that were associated with traits that define a breed, which include body size, coat characteristics, and ear floppiness.\n",
              "*   In 2004, a study found that dog breeds were so genetically distinct that 99% of individual dogs could be correctly assigned to their breed based on their genotype, indicating that breeding barriers (purebred breeding) have led to distinct genetic units.\n",
              "*   Dog types are broad categories of dogs based on form, function or style of work, lineage, or appearance. In contrast, modern dog breeds are particular breed standards, sharing a common set of heritable characteristics, determined by the kennel club that recognizes the breed.\n",
              "*   A 2010 study found distinct genetic clusters within modern dogs that largely corresponded to phenotype or function. These included spitz-breeds, toy dogs, spaniels, Mastiff-like breeds, small terriers, retrievers, herding dogs, scent-hounds, and sight-hounds.\n",
              "*   Some breed-temperaments, such as anxiety or fear, may be linked to gene mutations. Other temperaments may be due to the legacies of 'ancient' ancestry.\n",
              "*   Dogs of same breed have similar characteristics of appearance and behavior, primarily because they come from a select set of ancestors who had the same characteristics.\n",
              "*   Dogs of a specific breed breed true, producing young that are very similar to their parents.\n",
              "*   The breed standard for each breed of dog is a detailed description of the appearance and behaviour of an idealized dog of that breed.\n",
              "*   Included in the breed standard description are externally observable aspects of appearance and behaviour that are considered by the breed club to be the most important for the breed, and externally observable details of appearance or temperament that are considered by the breed club to be unacceptable (called faults).\n",
              "*   Most breed standards include a historical section, describing the place of origin and the original work done by the breed or its ancestor types.\n",
              "*   Recognized dog breeds are classified by groups, such as Hound, Terrier, Working, Herding, Sporting, Non-Sporting, Toy and Miscellaneous.\n",
              "*   Purebred dogs have more health problems than mongrel dogs, and require more veterinary visits, and tend to have lower longevity.\n",
              "*   Dog breeds with flat faces and short noses have breathing difficulties, eye trouble and other health issues.\n",
              "\n",
              "Based on:\n",
              "  https://en.wikipedia.org/wiki/Dog_breed"
            ],
            "text/plain": [
              "<IPython.core.display.Markdown object>"
            ]
          },
          "metadata": {},
          "output_type": "display_data"
        },
        {
          "data": {
            "text/markdown": [
              "Here is the extracted information about dog breeds and their traits:\n",
              "\n",
              "**1. Akita (General)**\n",
              "*   **Origin:** Japanese dog breed of large size, originating from the mountains of northern Japan.\n",
              "*   **Coat:** Short double coat, similar to many northern spitz breeds.\n",
              "*   **Historical Use:** Used by matagi for guarding and the hunting of bears.\n",
              "*   **Temperament:** Powerful, dominant, loyal, commonly aloof with strangers, but affectionate and deeply loyal to its family. Generally seen as territorial about its property and can be reserved with strangers. A well-trained Akita should be accepting of nonthreatening strangers, otherwise they treat all strangers aggressively. A survey found 59% of Akitas displayed aggression towards other dogs and animals, and 13% displayed aggression towards humans. Human-directed aggression often involves a visitor on the Akita's territory, highlighting its defensive nature. Stereotypic behavior was reported in 27% of Akitas. Excessive vocalization was reported at 17%. Less than 10% reported separation anxiety. A Japanese study correlated a specific gene (CAG repeat polymorphism in AR gene) with increased aggression in male Akita dogs.\n",
              "*   **Health:** Generally hardy.\n",
              "    *   **Life Expectancy:** 11.4 years (UK study).\n",
              "    *   **Autoimmune diseases:** Vogt–Koyanagi–Harada syndrome (uveo-dermatologic syndrome), Autoimmune hemolytic anemia, Sebaceous adenitis, Pemphigus foliaceus, Systemic lupus erythematosus.\n",
              "    *   **Immune-mediated endocrine diseases:** Hypoadrenocorticism (Addison's disease), Diabetes mellitus (type 1 diabetes), Hypothyroidism (autoimmune hypothyroidism).\n",
              "    *   **Nonimmune-specific conditions:** Gastric dilation (bloat), Microphthalmia, Primary glaucoma, Progressive retinal atrophy, Hip dysplasia, Elbow dysplasia, Von Willebrand disease, Cushing's syndrome (hyperadrenocorticism).\n",
              "    *   **Breed-specific conditions:** Immune sensitivity to vaccines, drugs, insecticides, anesthetics, and tranquilizers. Pseudohyperkalemia (false high potassium due to excessive leakage from red blood cells with higher levels of potassium than other dogs).\n",
              "*   **Appearance (General):** Reflects cold-weather adaptations. Substantial breed for its height with heavy bones. Characteristic physical traits include erect, triangular ears set at a slight angle following the arch of the neck. Eyes are small, dark, deeply set, and triangular in shape. Thick double coats. Tight, well-knuckled, cat-like feet. Tails are carried over the tops of their backs in a gentle or double curl down the loin.\n",
              "*   **Coat Types:** Standard coat length and long coat (\"moku\"). The long coat is considered a fault in the show ring, is longer (about 3-4 inches), softer, and known to have sweeter temperaments.\n",
              "*   **Working Life:**\n",
              "    *   **Historically:** Used for hunting bear, wild boar, and deer (as late as 1957) to flush out prey and keep it at bay.\n",
              "    *   **Currently:** Primarily a companion dog. Also used as therapy dogs, and compete in conformation showing, obedience trials, canine good-citizen program, tracking trials, agility competition, weight pulling, hunting, and Schutzhunde (personal protection dogs).\n",
              "\n",
              "**2. American Akita**\n",
              "*   **Breed Differentiation:** Considered a separate breed from the Japanese Akita by the American Kennel Club, United Kennel Club, Federation Cynologique Internationale (renamed from \"Great Japanese Dog\" in 2006), The Kennel Club, the Australian National Kennel Council, the New Zealand Kennel Club, and the Japan Kennel Club.\n",
              "*   **History/Divergence:** Began to diverge in type post-World War II due to America and Europe preserving Akitas that fell out of favour in Japan, particularly Dewa-types and dogs with black masks or pinto markings. Phenotype predates the Japanese Akita by a few decades, and they are closer to pre-war Akitas like Hachiko.\n",
              "*   **Appearance:**\n",
              "    *   **Size (Mature American-type):**\n",
              "        *   Males: Typically 26-28 in (66–71 cm) at the withers, weigh between 100 and 130 lb (45–59 kg).\n",
              "        *   Females: Typically 24-26 in (61–66 cm), weigh between 70 and 100 lb (32–45 kg).\n",
              "    *   **Distinguishing Features (compared to Japanese Akita):** Generally heavier boned and larger, with a more bear-like head.\n",
              "    *   **Coat Colors:** All dog breed coat colors and patterns are allowable, including the Shiba Inu coloring pattern known as urajiro. May be pinto and/or have black masks.\n",
              "\n",
              "**3. Japanese Akita**\n",
              "*   **Breed Differentiation:** Considered a separate breed from the American Akita by various kennel clubs.\n",
              "*   **History/Divergence:** In Japan, breeders later bred towards an ideal type reminiscent of other Nihon-ken, leading to the decline of the Dewa line (stereotyped as \"German Shepherd\" type) and the rise of the Ichinoseki line (referred to as \"Mastiff\" type). The foxier Japanese type started to diverge from the typical American type in the 1960–1970s.\n",
              "*   **Appearance:**\n",
              "    *   **Size:** A little smaller and lighter than the American type.\n",
              "    *   **Distinguishing Features (compared to American Akita):** Tend to be lighter and more finely featured with a fox-like head.\n",
              "    *   **Coat Colors:** Restricted to red, fawn, sesame, brindle, and pure white, all with urajiro markings (whitish coat on the sides of the muzzle, on the cheeks, on the underside of jaw, neck, chest, body, and tail, and on the inside of the legs). Pinto and black masks are considered disqualifications and are not permitted in the breed standards.\n",
              "\n",
              "**4. Matagi Dogs (Historical)**\n",
              "*   **History/Use:** Hunting dogs kept in the Tōhoku region of northern Japan since ancient times. The word \"matagi\" means hunter. Main targets of hunting were Asian black bears, Japanese serows, Japanese macaques, and rabbits.\n",
              "\n",
              "**5. Akita Matagi Inu (Historical)**\n",
              "*   **Description:** A medium-sized matagi dog, distinguished from the Akita Inu.\n",
              "\n",
              "**6. Ōdate Dog (Historical)**\n",
              "*   **History/Use:** The direct ancestor of the Akita Inu, kept as a guard dog and fighting dog by samurai and wealthy farmers in the Ōdate area.\n",
              "\n",
              "**7. Tosa Fighting Dog (Historical)**\n",
              "*   **History/Use:** Akita dogs were outcrossed to the Tosa fighting dog during a period when they revealed non-uniformity.\n",
              "\n",
              "**8. Hokkaido Inu (Historical)**\n",
              "*   **History/Use:** A native Japanese breed used to mix back into remaining Akita dogs to help restore the breed after World War II.\n",
              "\n",
              "**9. Karafuto Ken (Historical)**\n",
              "*   **Trait Contribution:** Thought to be the source of the autosomal recessive gene causing the long coat (\"moku\") in Akita dogs.\n",
              "\n",
              "Based on:\n",
              "  https://en.wikipedia.org/wiki/Akita_(dog_breed)"
            ],
            "text/plain": [
              "<IPython.core.display.Markdown object>"
            ]
          },
          "metadata": {},
          "output_type": "display_data"
        },
        {
          "data": {
            "text/markdown": [
              "**Dog Breed:** Canaan Dog\n",
              "\n",
              "**Appearance Traits:**\n",
              "*   \"wild type\" dog in appearance\n",
              "*   medium-sized square built dog\n",
              "*   wedge-shaped head\n",
              "*   erect and low set ears with a broad base and rounded tips\n",
              "*   outer coat is dense, harsh and straight of short to medium-length\n",
              "*   undercoat should be close and profuse according to season\n",
              "*   Color ranges from black to cream and all shades of brown and red between, usually with small white markings, or all white with colour patches.\n",
              "*   Spotting of all kinds is permitted, as well as white or black masks.\n",
              "*   is square\n",
              "*   loin region short\n",
              "*   forequarters highly erect\n",
              "*   hindquarters less angular\n",
              "*   neck as noble as possible\n",
              "*   tail curled over the back when excited\n",
              "*   trot is short\n",
              "\n",
              "**Temperament Traits:**\n",
              "*   alert\n",
              "*   react quickly\n",
              "*   distrust strangers\n",
              "*   strongly defensive but not aggressive\n",
              "*   highly adaptable\n",
              "*   simple to domesticate\n",
              "\n",
              "**Skills/Abilities:**\n",
              "*   can compete in dog agility trials\n",
              "*   obedience\n",
              "*   showmanship\n",
              "*   flyball\n",
              "*   tracking\n",
              "*   herding events\n",
              "*   mine detection (historically developed for military)\n",
              "*   guide dogs for the blind (historically trained as)\n",
              "*   search and rescue dogs (historically employed as)\n",
              "*   exhibit basic herding instincts\n",
              "\n",
              "Based on:\n",
              "  https://en.wikipedia.org/wiki/Canaan_Dog"
            ],
            "text/plain": [
              "<IPython.core.display.Markdown object>"
            ]
          },
          "metadata": {},
          "output_type": "display_data"
        },
        {
          "data": {
            "text/markdown": [
              "**Aegean**\n",
              "*   **Origin:** Greek, developed since the 1990s by the Feline Federation of Greece, using cats from the Cyclades. Originally found around the Aegean Sea. Considered a national treasure of Greece.\n",
              "*   **Traits:** Landrace, one of the oldest distinct populations of the domestic cat. Affinity for fishing and water, numerous in Greek fishing ports. Medium-sized, muscular cat with a lighter European or Continental type body, medium-sized round paws, and green almond-shaped eyes. Coat is always two or three colors, one of which is always white. Mostly free from common feline diseases.\n",
              "\n",
              "**Alpine Lynx**\n",
              "*   **Origin:** Developed from a cross between a Highlander and a white barn cat.\n",
              "*   **Traits:** White, short-tailed cat breed that can have either curled or straight ears. May be either short- or long-haired, and may have tufted toes. Medium-sized breed whose back legs are longer than their front legs.\n",
              "*   **Recognition:** Recognized by the Rare and Exotic Feline Registry.\n",
              "\n",
              "**American Lynx**\n",
              "*   **Traits:** Short-haired cat breed with a spotted coat. Bob-tailed or short-tailed. Coat pattern bears some resemblance to that of the bobcat.\n",
              "*   **Recognition:** Recognized by the Rare and Exotic Feline Registry.\n",
              "\n",
              "**American Polydactyl**\n",
              "*   **Traits:** Polydactyl cat, meaning that it has more than the usual number of toes. Currently in development.\n",
              "*   **Recognition:** As of 2018, recognized (since 2004) only by the Rare and Exotic Feline Registry.\n",
              "\n",
              "**Aphrodite (Cyprus, Cypriot, Aphrodite's Giant, St. Helen, St. Nicholas cat)**\n",
              "*   **Origin:** Landrace of cats native to Cyprus; a localized variant of the Aegean cat.\n",
              "*   **Traits:** Attempts are underway to true-breed certain traits and establish a standardized breed.\n",
              "*   **Recognition:** Recognition so far, under the name Aphrodite, is limited to the World Cat Federation/World Cat Congress since 2012, provisionally by The International Cat Association since 2017, and various more localized bodies such as the Cyprus Cats National Breed Association and the Cyprus Feline Society.\n",
              "\n",
              "**Australian Tiffanie**\n",
              "*   **Origin:** Derived from crosses between the short-haired Burmilla and the long-haired Chinchilla Persian.\n",
              "*   **Traits:** Resemble the old style of the Chinchilla Longhair.\n",
              "*   **Notes:** Not the same as the Tiffanie breed in Europe (also known as the Burmilla Longhair) or the Tiffany breed in the United States.\n",
              "*   **Recognition:** Recognized by the Waratah State Cat Alliance.\n",
              "\n",
              "**Bambino**\n",
              "*   **Origin:** Dwarf cat cross between the Munchkin and Sphynx breeds. Started in 2005 by Stephanie and Pat Osborne at their Holy Moly Cattery in Arkansas.\n",
              "*   **Traits:** Has the short legs of the Munchkin and the lack of fur of the Sphynx. Name Bambino (Italian for \"baby\") likely due to its properties.\n",
              "*   **Ethical Concerns:** Owning and breeding is discouraged and considered unethical due to health problems. In 2019, the Netherlands Food and Consumer Product Safety Authority ordered a couple to stop breeding the Bambino due to welfare concerns.\n",
              "*   **Notes:** Also given the name \"XL Bully Cat\" due to its similarities to the American Bully (XL Bully Dog).\n",
              "*   **Recognition:** Recognized by the Rare and Exotic Feline Registry. In 2006, The International Cat Association (TICA) recognized the Bambino as an experimental breed of cat.\n",
              "\n",
              "**Bramble**\n",
              "*   **Origin:** US, derived from crossing the Bengal with brush-coated Peterbalds.\n",
              "*   **Traits:** Large wire-haired cat breed with a spotted coat pattern.\n",
              "*   **Recognition:** Recognized by the Rare and Exotic Feline Registry.\n",
              "\n",
              "**Classicat (Jungala)**\n",
              "*   **Origin:** New Zealand.\n",
              "*   **Traits:** Overall an Ocicat-type, but has a coat with the classic swirled tabby pattern.\n",
              "*   **Recognition:** Recognized by the New Zealand Cat Fancy.\n",
              "\n",
              "**Desert Lynx**\n",
              "*   **Origin:** US.\n",
              "*   **Traits:** Bob-tailed or short-tailed cat breed. Has spotted or marbled markings and resembles the bobcat.\n",
              "*   **Recognition:** Recognized by the Rare and Exotic Feline Registry.\n",
              "\n",
              "**Dwelf**\n",
              "*   **Origin:** US.\n",
              "*   **Traits:** Dwarf cat cross of Sphynx, Munchkin, and American Curl stock. Has the defining traits of all three breeds: hairlessness, shortened legs, and curled ears.\n",
              "*   **Recognition:** Was recognized by the now-defunct Dwarf Cat Association (or Designer Cat Association). Later, recognized by the Rare and Exotic Feline Registry.\n",
              "\n",
              "**Elf (Elf Sphynx)**\n",
              "*   **Traits:** Nearly hairless variety with ears that curl backward. Skin is not completely hairless; two types of hair formation occur: a few patches of light hairs particularly around the nose, tail, and toes; and a fine downy all-over covering. Care issues are as with Sphynx cats.\n",
              "*   **Recognition:** As of 2022, this in-development variety is not recognized by major breed registries and cat-fancier organizations such as The International Cat Association (TICA) or the Cat Fanciers' Association (CFA). Some breeders have published draft breed standards. Breeders are seeking TICA recognition as a preliminary new breed. Included in the Australian National Cats (ANCats) breed list as experimental.\n",
              "\n",
              "**Foldex**\n",
              "*   **Origin:** Developed in the Canadian province of Quebec by crossbreeding a Scottish Fold and an Exotic Shorthair.\n",
              "*   **Traits:** Medium size, rounded face, short legs, and folded ears (defining feature). Eyes are well-rounded and wide open. Ears are equipped with small and smooth-edged tips. Coat can vary from long to short hair, and is naturally dense and soft.\n",
              "\n",
              "**Genetta**\n",
              "*   **Origin:** US.\n",
              "*   **Traits:** Dwarf cat breed derived from crossbreeding the Munchkin and Bengal (sometimes also Ocicat) breeds. Created to be a spotted, striped, long-bodied, short-legged cat with a spotted, striped, or marbled coat. Named after, and is a cat-breeding attempt to resemble, the African genet (which is not a felid).\n",
              "*   **Recognition:** Recognized by the Rare and Exotic Feline Registry.\n",
              "\n",
              "**Highlander (Highland Lynx)**\n",
              "*   **Origin:** Originally developed in 1993 as the Highland Lynx, a crossbreed of the Desert Lynx and the Jungle Curl. Became known as the Highlander in 2005.\n",
              "*   **Traits:** Though the breed is said to resemble the bobcat and was originally given a name that included the word \"lynx\", it is a wholly domestic cat without any bobcat (or any other lynx species) ancestry.\n",
              "*   **Recognition:** Accepted by the Rare and Exotic Feline Registry (REFR) under Highland Lynx. Recognized as a \"preliminary new breed\" by The International Cat Association (TICA) in 2008, and an \"advanced new breed\" in 2018. REFR later split the breed into the original Highland Lynx (Desert Lynx × Jungle Curl) and a separate new Highlander (a back-cross of Highland Lynx with more Desert Lynx), which conflicts with TICA's breed definition.\n",
              "\n",
              "**Jungle Curl**\n",
              "*   **Origin:** US.\n",
              "*   **Traits:** Felid hybrid cat breed, primarily a cross between the African jungle cat (Felis chaus) species (or a domestic hybrid based on it, such as the Chausie), and another domestic breed that has curled ears such as the American Curl, Highlander (Highland Lynx), or Hemmingway Curl, with the addition of several other spotted hybrid breeds, including Bengal, Savannah, and Serengeti. Ears are curled, polydactyly is permitted, and the coat may be spotted or tawny, and of varying lengths.\n",
              "*   **Recognition:** The Rare and Exotic Breed Registry recognizes the breed.\n",
              "\n",
              "**Kinkalow**\n",
              "*   **Traits:** Dwarf cat cross between the Munchkin and the American Curl. Has short legs and curled ears.\n",
              "*   **Recognition:** Recognized by the Rare and Exotic Feline Registry.\n",
              "\n",
              "**Kucing Malaysia (Piawaian Kucing Malaysia)**\n",
              "*   **Origin:** First indigenous Malaysian cat breed.\n",
              "*   **Traits:** Conformation similar to the Tonkinese, while its color is similar to the Ragdoll. These cats have a white blaze on the face and muzzle and white markings on the colorpoint limbs.\n",
              "*   **Recognition:** Recognized by the Malaysian Cat Club.\n",
              "\n",
              "**Lambkin (Nanus Rex)**\n",
              "*   **Origin:** US, derived from crossing the Munchkin and the Selkirk Rex.\n",
              "*   **Traits:** Short-legged dwarf cat breed with a densely curled coat.\n",
              "*   **Recognition:** Recognized by the Rare and Exotic Feline Registry and formerly by the now-defunct Designer Cat Association or Dwarf Cat Association.\n",
              "\n",
              "**Mandalay**\n",
              "*   **Origin:** New Zealand, originally derived from crosses between domestic short-haired cats and the Burmese. Later, Abyssinians were used to introduce the cinnamon and fawn genes.\n",
              "*   **Traits:** Resemble the Asian Shorthair that is bred in Europe. There should be no evidence of sepia-pointing; i.e., contrast between points and body.\n",
              "*   **Recognition:** Recognized by the New Zealand Cat Fancy.\n",
              "\n",
              "**Minskin**\n",
              "*   **Traits:** Dwarf cat breed developed from the Munchkin, Burmese, Sphynx, and Devon Rex breeds. Has short legs, is mostly hairless or with a very short coat, and has point coloration at the extremities.\n",
              "*   **Recognition:** Recognized by REFR, and recognized in the \"preliminary new breed\" category by The International Cat Association (TICA) since 2018.\n",
              "\n",
              "**Minuet (Napoleon)**\n",
              "*   **Origin:** US, crosses the Munchkin and Persian (or sometimes the Persian variants Himalayan or Exotic Shorthair).\n",
              "*   **Traits:** Results in a cat with a Persian's brachycephalic (\"peke-face\") appearance, but with short legs. Coat length and coloration will depend on the non-Munchkin parentage.\n",
              "*   **Recognition:** Has been recognized by the Rare and Exotic Feline Registry and formerly by the now-defunct Designer Cat Association or Dwarf Cat Association. Recognized by The International Cat Association (TICA) as experimental in 2001, renamed by TICA from Napoleon to Minuet in 2015, and approved for TICA championship show status in 2016. The breed is recognized under the original Napoleon name by the Rare and Exotic Feline Registry.\n",
              "*   **Ethical Concerns:** Like other dwarf-cat breeds, it is banned by many registries.\n",
              "\n",
              "**Mojave Spotted**\n",
              "*   **Origin:** US, derived from crosses between Bengal bloodlines and those of naturally polydactyl cats from the Mojave Desert region.\n",
              "*   **Traits:** Polydactyl cat with a spotted coat. Formerly Mojave Desert Cat.\n",
              "*   **Recognition:** Recognized by the Rare and Exotic Feline Registry.\n",
              "\n",
              "**Owyhee Bob (Mountain Bob)**\n",
              "*   **Origin:** United States, a mix of the Siamese and Manx cats.\n",
              "*   **Traits:** Most distinctive feature is its color and build. Slow to mature like the Manx. Colorpoint breed (like the Siamese), of medium to large size. Body is medium in length, hard and muscular with a broad chest. Head shape is medium to large with full cheekbones and whisker pads, giving a rounded appearance to the muzzle. Strong chin gives a balanced appearance to the head. Ears are medium to large, wide set, full at the base and tapering, standing straight and upright, sometimes feathering to a rounded tip that is often tufted in the longer-haired cats. Large oval eyes are slightly slanted and wide set, and are always Siamese blue. Legs are medium in length and are sturdy and well-muscled. Paws are large and round (and can be polydactyl). Females range from 8 to 12 pounds and males from 12 to 16 pounds, with some getting larger. Tails come in rumpy, stumpy and longy, with some breeders docking the long tails (in countries where this is still legal). Come in all coat lengths except hairless. Coat is soft and plush, like that of a rabbit, and should not be curly or wavy.\n",
              "*   **Temperament:** Sometimes said to have a temperament that is more like that of a dog than a cat; they can be taught to sit, lie down, and play fetch. Vocal breed.\n",
              "*   **Recognition:** Currently recognized only by the Rare and Exotic Feline Registry.\n",
              "\n",
              "**Pantherette**\n",
              "*   **Origin:** US, in development since the early 2000s. Crossbreed of black (melanistic) Bengals (a hybrid of the domestic cat and the Asian leopard cat), with full-tailed specimens of the Pixie-Bob breed, as well as the Maine Coon and another experimental Bengal crossbreed known as the Mojave Spotted.\n",
              "*   **Traits:** Intended to resemble a miniature black panther. Large, muscular, and short-haired, with gold to green eyes.\n",
              "*   **Status/Recognition:** Developers Mike and Marie Bloodgood of Kentucky have asserted a trademark over the name. \"Recognized\" by a small breeder club called the International Progressive Cat Breeders' Alliance (defunct since 2017), and its subsidiary International Pantherette Breeders' Association (which produced a draft breed standard in 2001). Remains listed by the Rare and Exotic Feline Registry, but with no information as of 2024. Breeding program may have been abandoned.\n",
              "\n",
              "**Safari**\n",
              "*   **Traits:** Felid hybrid developed by crossing Geoffroy's cat (Leopardus geoffroyi), a wild South American species, with domestic cats.\n",
              "\n",
              "**Skookum (LaMerm)**\n",
              "*   **Origin:** US, derived from crossing the Munchkin with the LaPerm, a Rex breed. Previously known as the LaMerm.\n",
              "*   **Traits:** Dwarf cat breed with curly fur.\n",
              "*   **Recognition:** Was recognized by the now-defunct Dwarf Cat Association, and remains recognized by the Rare and Exotic Feline Registry.\n",
              "\n",
              "**Tasman Manx**\n",
              "*   **Origin:** Arose spontaneously in some Australian and New Zealand Manx crossbreeding lines. All can trace their ancestry to a single Persian stud that had European ancestry. This same cat may also be responsible for the Bohemian Rex (or Czech Curly Cat).\n",
              "*   **Traits:** Curly-furred Manx-type cat breed. Apart from the curly fur, these cats have the characteristics and conformation of the Manx.\n",
              "*   **Recognition:** Now recognised by NZCF.\n",
              "\n",
              "**Tiffanie (Burmilla Longhair, Asian Semi-longhair)**\n",
              "*   **Origin:** UK, a variant of the (normally) short-haired Burmilla, which is itself a cross between the Burmese and Chinchilla Persian.\n",
              "*   **Traits:** In this breed, the recessive gene inherited from the Chinchilla is prominent.\n",
              "*   **Notes:** These cats are different from the Australian Tiffanie.\n",
              "\n",
              "**Van cat**\n",
              "*   **Origin:** Landrace, native to the Lake Van area of Turkey.\n",
              "*   **Notes:** Not to be confused with the standardized Turkish Van breed, or the Turkish Angora breed. A state-sponsored breeding program is under way to true-breed some specimens into a standardized cat breed with fixed traits.\n",
              "\n",
              "Based on:\n",
              "  https://en.wikipedia.org/wiki/List_of_experimental_cat_breeds"
            ],
            "text/plain": [
              "<IPython.core.display.Markdown object>"
            ]
          },
          "metadata": {},
          "output_type": "display_data"
        },
        {
          "data": {
            "text/markdown": [
              "**Cat Breeds and their Traits**\n",
              "\n",
              "**Russian Blue**\n",
              "\n",
              "*   **Color:** Solid blue colors varying from a light shimmering silver to a darker, slate grey. Bluish-grey, dilute expression of the black gene. Guard hairs are distinctly silver-tipped, giving a silvery sheen or lustrous appearance. Tail may have a few very dull, almost unnoticeable stripes.\n",
              "*   **Coat:** Short, dense, stands out from the body. Known as a \"double coat,\" with the undercoat being soft, downy and equal in length to the guard hairs. Thick, plush, and soft to the touch, described as being softer than the softest silk.\n",
              "*   **Eyes:** Bright emerald green or yellow-green eyes. Almost always a dark and vivid green. Yellow eyes in adulthood are seen as flaws in show cats.\n",
              "*   **Paws:** Pinkish lavender or mauve.\n",
              "*   **Size & Weight:** Small to moderate-sized cats with an average weight of 3.6 to 6.8 kg (8 to 15 lb) when fully grown. Males are typically larger than females.\n",
              "*   **Temperament:** Generally considered to be a quiet breed. Reserved around strangers, unless brought up in an active household. Loving and easy going. Do not like change and prefer predictable, routine schedules.\n",
              "*   **Behavioral Traits:** Many have been trained to do tricks. Fierce hunters, often catching rodents, birds, rabbits, small mammals, or reptiles. Kittens are energetic and require adequate playmates or toys as they can become mischievous if bored. Exceptional athleticism and rival Abyssinians for their ability to leap and climb. Slow to mature, retaining many adolescent traits until 3–4 years old, and older Blues can be easily enticed into play by their owners. Highly intelligent. Excellent memory; learn hiding places of favorite toys and lead owners to them. Keen ability to remember favorite visitors and will race to greet familiar faces.\n",
              "*   **Allergies:** Anecdotal evidence suggests they may be better tolerated by individuals with mild to moderate allergies. Speculation that they produce less glycoprotein Fel d 1 (a source of cat allergies). Thicker coat may also trap more allergens closer to the cat's skin.\n",
              "*   **Distinctions:** Not to be confused with British Blues (a British Shorthair with a blue coat), Chartreux, or Korat (other naturally occurring breeds of blue cats, though they have similar traits).\n",
              "*   **Related Breeds/Variations:**\n",
              "    *   **Archangel Blues:** Another name for Russian Blue, from their believed origin in Arkhangelsk.\n",
              "    *   **Nebelung:** A moderately-long haired breed which used the Russian Blue as an outcross.\n",
              "    *   **Havana Brown:** A breed created on a limited basis using the Russian Blue.\n",
              "    *   **Oriental Shorthairs (RUS4OSH in FIFe):** Russian Blues are used in Italy to make them healthier and more robust.\n",
              "    *   **Russian Whites and Russian Blacks:** Created from crosses with domestic white cats. Accepted by ACF (Australia), South Africa, and GCCF (United Kingdom) as Russian cats (in different classes). However, the CFA and FIFe do not recognise any colour variation of the Russian Blue.\n",
              "    *   **Colour-Point-Russian Blue (Blue Point Russian Blue) or Pika Blu:** Result from breeding two carriers of colour-point genes (due to cross-breeding with Siamese after World War II). Have the same general characteristics as Russian Blue cats but with point coloration. In most registries, cannot be registered, bred, or shown as a pure Russian Blue.\n",
              "\n",
              "Based on:\n",
              "  https://en.wikipedia.org/wiki/Russian_Blue"
            ],
            "text/plain": [
              "<IPython.core.display.Markdown object>"
            ]
          },
          "metadata": {},
          "output_type": "display_data"
        },
        {
          "data": {
            "text/markdown": [
              "Here's the relevant information about cat breeds and their traits from the source:\n",
              "\n",
              "*   The Maine Coon breed was predominately from Western Europe, while the Siamese breed dominated in Southeast Asia.\n",
              "*   An abundance of accessible sources that incorporate breed identification panels can be utilized for personal use by breeders and owners to determine the genetic workup of a domesticated cat.\n",
              "*   Due to the highly known genetic distinction within the Felidae family, \"this international cat parentage and identification panel has a power of exclusion comparable to panels used in other species, ranging from 90.08% to 99.79% across breeds and 99.47% to 99.87% in random-bred cat populations.\"\n",
              "*   Genomic regions under selection in domestic cats include those involved in neuronal processes (fear and reward behavior) and in homologous recombination (increased recombination frequency).\n",
              "*   The KIT mutations responsible for the white-spotted phenotype were identified.\n",
              "*   The blotched tabby cat trait (Aminopeptidase Q mutation) arose in the Middle Ages. Wild-type cats have a mackerel pattern.\n",
              "*   Behavioral analysis of F.s. silvestris showed that there were significant differences between them and domesticated cats, with F.s. silvestris tending to be very timid and aggressive, while hybrids with domesticated cats showed less aggressive behavior and more docile temperament, suggesting the behavioral difference was genetic.\n",
              "*   Modern cat breeds originated mostly within the last 150 years from breeding for physical traits with no differentiation in functionality—just aesthetic differences.\n",
              "*   Domesticated cat breeds have very few genetic differences from their wild counterparts due to constant intermixing.\n",
              "*   The few genes that control physical characteristics such as hair color and pattern are what differentiate the modern wildcat population from domesticated cats.\n",
              "*   Domesticated cat breeds are also unique in the fact that there are only 40–50 genetically distinct breeds.\n",
              "*   In 1871 only five cat breeds were recognized by an association in London. Today the USA based Cat Fanciers Association (CFA) recognizes 41 breeds and The International Cat Association (TICA) recognizes 57 breeds.\n",
              "*   Most of these breeds are defined by phenotypic, or visible, characteristics, most of which are single gene traits found at low to moderate levels in the non-pedigree cat.\n",
              "*   These characteristics are rare and not seen in the common house cat.\n",
              "*   Cats have been selectively bred by humans for certain traits that lead to modern breeds.\n",
              "*   Associations that classify cat breeds use the word \"pedigreed\", as domestic cats do not have true purebred forms.\n",
              "*   All cat breeds were found to have originated in eight different regions and then selectively bred multiple times throughout history and relocated multiple times, leading to the approximately 45 modern breeds.\n",
              "*   These eight lineages include Europe, Egypt, India, Southeast Asia, Arabian Sea, East Asia, and the Mediterranean.\n",
              "\n",
              "Based on:\n",
              "  https://en.wikipedia.org/wiki/Domestication_of_the_cat"
            ],
            "text/plain": [
              "<IPython.core.display.Markdown object>"
            ]
          },
          "metadata": {},
          "output_type": "display_data"
        },
        {
          "data": {
            "text/markdown": [
              "Canines include domestic dogs, wolves, and coyotes.\n",
              "Canines are mammals and tetrapods.\n",
              "Male canines possess a baculum (penile bone).\n",
              "Male canines uniquely have a locking bulbus glandis (or \"bulb\") which causes a copulatory tie during mating in most canids.\n",
              "Sexual maturity in domestic dogs occurs between 6 and 12 months for both sexes, though it can be delayed up to two years for some large breeds.\n",
              "Female dogs usually have 10 teats.\n",
              "Domestication has selectively bred domestic dogs for higher libido and earlier, more frequent breeding cycles than their ancestors.\n",
              "Inbreeding avoidance is a characteristic of various wild canine species, including African wild dogs, red wolves, Ethiopian wolves, grey wolves, and Arctic foxes.\n",
              "Female dogs are susceptible to uterine infections such as endometritis and pyometra, with the risk increasing with age.\n",
              "Neutering can reduce aggression and male-typical behaviors like mounting, roaming, and urine marking in male dogs.\n",
              "Spaying can occasionally increase aggression in female dogs.\n",
              "\n",
              "Based on:\n",
              "  https://en.wikipedia.org/wiki/Canine_reproduction"
            ],
            "text/plain": [
              "<IPython.core.display.Markdown object>"
            ]
          },
          "metadata": {},
          "output_type": "display_data"
        },
        {
          "data": {
            "text/markdown": [
              "Canine intelligence is an umbrella term that encompasses the faculties involved in a wide range of mental tasks, such as learning, problem-solving, and communication.\n",
              "\n",
              "Based on:\n",
              "  https://en.wikipedia.org/wiki/Dobermann"
            ],
            "text/plain": [
              "<IPython.core.display.Markdown object>"
            ]
          },
          "metadata": {},
          "output_type": "display_data"
        },
        {
          "data": {
            "text/markdown": [
              "The C-BARQ survey, used in studies on dog behavior, divides dogs into 11-14 behavioral traits' groups.\n",
              "Specific canine traits mentioned include: agitated behaviour, NoiseFear (noise phobia), hyperactivity disorder, impassivity, and inattention.\n",
              "\n",
              "Based on:\n",
              "  https://en.wikipedia.org/wiki/Genomics_of_personality_traits"
            ],
            "text/plain": [
              "<IPython.core.display.Markdown object>"
            ]
          },
          "metadata": {},
          "output_type": "display_data"
        },
        {
          "data": {
            "text/markdown": [
              "Based on the provided source, the common traits described as \"feline traits\" or \"cat traits\" are:\n",
              "\n",
              "*   Cat ears\n",
              "*   A tail\n",
              "*   Other feline characteristics\n",
              "*   Cat-like mannerisms\n",
              "*   Verbal tics (cat-like)\n",
              "*   Ability to become a cat\n",
              "*   Feline speech patterns\n",
              "\n",
              "Based on:\n",
              "  https://en.wikipedia.org/wiki/Catgirl"
            ],
            "text/plain": [
              "<IPython.core.display.Markdown object>"
            ]
          },
          "metadata": {},
          "output_type": "display_data"
        },
        {
          "data": {
            "text/markdown": [
              "The provided text does not contain information about \"Common traits of felines.\" It is an introduction to a list of fictional feline characters from animated shows and films.\n",
              "\n",
              "Based on:\n",
              "  https://en.wikipedia.org/wiki/List_of_fictional_cats_in_animation"
            ],
            "text/plain": [
              "<IPython.core.display.Markdown object>"
            ]
          },
          "metadata": {},
          "output_type": "display_data"
        },
        {
          "name": "stdout",
          "output_type": "stream",
          "text": [
            "--------------------------------------------------------------------------------\n"
          ]
        },
        {
          "data": {
            "text/markdown": [
              "### model:"
            ],
            "text/plain": [
              "<IPython.core.display.Markdown object>"
            ]
          },
          "metadata": {},
          "output_type": "display_data"
        },
        {
          "data": {
            "text/markdown": [
              "Dogs and cats, while both domesticated mammals, exhibit distinct characteristics in their physical attributes, behavior, and senses.\n",
              "\n",
              "**Dogs:**\n",
              "\n",
              "*   **Physical:** Dogs are incredibly diverse in shape, size, and color, with around 450 globally recognized breeds. They range from tiny Chihuahuas to massive Great Danes. Their skeletons are well-adapted for running, and they possess powerful jaws with about 42 teeth. Most dogs have 26 tail vertebrae, and their tails are crucial for communication and balance. Their coats can be double or single, and some breeds are hairless. They have well-developed senses of smell (40 times more receptors than humans), hearing (up to four times greater than humans), and vision (though inferior to humans in acuity, they have dichromatic vision).\n",
              "*   **Behavioral:** Dogs have been selectively bred for desired behaviors, including guarding, herding, hunting, retrieving, and scent detection. They are highly social animals, uniquely attuned to human behaviors and capable of understanding and communicating with humans. They display complex social cognition and can learn by inference. Their communication includes eye gaze, facial expression, vocalization, and body posture. Dogs typically reach sexual maturity between six months and one year, and females have estrous cycles semi-annually.\n",
              "*   **Health:** Dogs can be susceptible to various inheritable conditions like hip dysplasia, eye abnormalities, heart conditions, and deafness. Neoplasia (cancer) is a common cause of death. Their median longevity is around 12.7 years, negatively correlated with obesity.\n",
              "\n",
              "**Cats:**\n",
              "\n",
              "*   **Physical:** Cats are small carnivorous mammals, typically averaging 46 cm in body length and 23-25 cm in height, with about 30 cm long tails. Males are generally larger than females. They have a smaller skull and shorter bones than their wild ancestors. Their claws are protractible and retractable, keeping them sharp for hunting and climbing. Cats are digitigrade, walking on their toes, and use a \"pacing\" gait. They have excellent night vision due to a tapetum lucidum and large pupils, but poor color vision. Their acute sense of hearing can detect a broad range of frequencies, and they have a highly developed sense of smell with a Jacobson's organ for sensing pheromones. They have about 470 taste buds and cannot taste sweetness. Whiskers provide information about their surroundings.\n",
              "*   **Behavioral:** Cats are solitary hunters but social species. They are crepuscular predators, most active at dawn and dusk, though house cats can adapt to human schedules. They conserve energy by sleeping extensively, averaging 12-16 hours a day. Their intelligence is evident in their adaptability, observational learning, and problem-solving skills. Communication includes a variety of vocalizations and body language. They have rigorous grooming habits and instinctively bury waste. Adult cats are thought to live in an extended kittenhood, a form of behavioral neoteny. They mark territories with urine spraying and scent gland rubbing. Cats are known for their love of play, which mimics hunting. Most adult cats are lactose intolerant.\n",
              "*   **Health:** About 250 heritable genetic disorders have been identified in cats. Neutering can increase life expectancy and confer health benefits but can also lead to obesity. The average lifespan of pet cats has risen to about 13 years as of 2014 and 2023.\n",
              "\n",
              "**Key Differences and Similarities:**\n",
              "\n",
              "*   **Domestication:** Dogs have undergone more significant changes in anatomy and behavior during domestication compared to cats, which still retain a strong ability to survive in the wild.\n",
              "*   **Social Structure:** Dogs are generally more social and attuned to human interaction, while cats, though capable of affection, are inherently more solitary hunters.\n",
              "*   **Cognition:** Dogs have about twice the number of neurons in their cerebral cortexes than cats, but studies suggest both have similar cognitive abilities to horses and chimpanzees.\n",
              "*   **Diet:** Dogs are typically described as omnivores and have adapted to starch-rich diets, while cats are obligate carnivores with specific amino acid requirements.\n",
              "*   **Breeding:** Dog breeding has focused on specific tasks and exaggerated features, leading to greater phenotypic diversity. Cat breeding, which began later, emphasizes aesthetic differences, with fewer genetically distinct breeds."
            ],
            "text/plain": [
              "<IPython.core.display.Markdown object>"
            ]
          },
          "metadata": {},
          "output_type": "display_data"
        },
        {
          "name": "stdout",
          "output_type": "stream",
          "text": [
            "--------------------------------------------------------------------------------\n"
          ]
        }
      ],
      "source": [
        "import json\n",
        "for content in chat.get_history():\n",
        "    display(Markdown(\"### \" + content.role + \":\"))\n",
        "    for part in content.parts:\n",
        "        if part.text:\n",
        "            display(Markdown(part.text))\n",
        "        if part.function_call:\n",
        "            print(part.function_call.name, json.dumps(part.function_call.args, indent=2))\n",
        "        if part.function_response:\n",
        "            for res in part.function_response.response['result']:\n",
        "                display(Markdown(res))\n",
        "    print(\"-\" * 80)"
      ]
    },
    {
      "cell_type": "markdown",
      "metadata": {
        "id": "WDWc9Fj9Ig6A"
      },
      "source": [
        "In the chat history you can see all 4 steps:\n",
        "\n",
        "1. User: Asks questions about cats and dogs.\n",
        "2. Model: Determines that the `wikipedia_search` is helpful and sends a FunctionCall request to the user.\n",
        "3. User: The Chat session automatically executes the function (due to `_automatic_function_calling` is enabled by default) and sends back a FunctionResponse with the searched result.\n",
        "4. Model: Uses the function's output to formulate the final answer and presents it as a text response."
      ]
    },
    {
      "cell_type": "markdown",
      "metadata": {
        "id": "PJP1EAgfnPUA"
      },
      "source": [
        "## [Optional] Manually Execute the Function Call"
      ]
    },
    {
      "cell_type": "markdown",
      "metadata": {
        "id": "Sa5ke2ssKl7M"
      },
      "source": [
        "If you want to understand what happened behind the scenes, this section executes the `FunctionCall` manually to demonstrate."
      ]
    },
    {
      "cell_type": "code",
      "execution_count": 15,
      "metadata": {
        "id": "wavbHrL3K5vo"
      },
      "outputs": [],
      "source": [
        "config  = {\n",
        "        \"tools\": [wikipedia_search],\n",
        "        \"automatic_function_calling\": {\"disable\": True}, # for manual execution\n",
        "    }\n",
        "\n",
        "chat    = client.chats.create(model=MODEL_ID, config=config, history=[])\n",
        "response  = chat.send_message(query)"
      ]
    },
    {
      "cell_type": "markdown",
      "metadata": {
        "id": "__JN3YuHe7fR"
      },
      "source": [
        "Initially the model returns a `FunctionCall`:"
      ]
    },
    {
      "cell_type": "code",
      "execution_count": 16,
      "metadata": {
        "id": "Lgngdvcdi06F"
      },
      "outputs": [
        {
          "name": "stdout",
          "output_type": "stream",
          "text": [
            "{\n",
            "  \"search_queries\": [\n",
            "    \"dog\",\n",
            "    \"cat\"\n",
            "  ]\n",
            "}\n"
          ]
        }
      ],
      "source": [
        "fc = response.candidates[0].content.parts[0].function_call\n",
        "print(json.dumps(fc.args, indent=2))"
      ]
    },
    {
      "cell_type": "markdown",
      "metadata": {
        "id": "xpD3axtDmfZb"
      },
      "source": [
        "Call the function with generated arguments to get the results."
      ]
    },
    {
      "cell_type": "code",
      "execution_count": 17,
      "metadata": {
        "id": "Ek4g-CTAPSou"
      },
      "outputs": [
        {
          "name": "stdout",
          "output_type": "stream",
          "text": [
            "Searching for \"dog\"\n",
            "Related search terms: ['Dog', 'Dog (disambiguation)', 'Dog Eat Dog']\n",
            "Fetching page: \"Dog\"\n",
            "Information Source: https://en.wikipedia.org/wiki/Dog\n",
            "Fetching page: \"Dog (disambiguation)\"\n",
            "Results when searching for \"Dog (disambiguation)\" (originally for \"dog\")\n",
            "        were ambiguous, hence skipping\n",
            "Fetching page: \"Dog Eat Dog\"\n",
            "Results when searching for \"Dog Eat Dog\" (originally for \"dog\")\n",
            "        were ambiguous, hence skipping\n",
            "\n",
            "Searching for \"cat\"\n",
            "Related search terms: ['Cat', 'Cat (disambiguation)', \"Schrödinger's cat\"]\n",
            "Fetching page: \"Cat\"\n",
            "Information Source: https://en.wikipedia.org/wiki/Cat\n",
            "Fetching page: \"Cat (disambiguation)\"\n",
            "Results when searching for \"Cat (disambiguation)\" (originally for \"cat\")\n",
            "        were ambiguous, hence skipping\n",
            "Fetching page: \"Schrödinger's cat\"\n",
            "Information Source: https://en.wikipedia.org/wiki/Schr%C3%B6dinger%27s_cat\n",
            "\n",
            "Information Sources:\n",
            "     https://en.wikipedia.org/wiki/Dog\n",
            "     https://en.wikipedia.org/wiki/Cat\n",
            "     https://en.wikipedia.org/wiki/Schr%C3%B6dinger%27s_cat\n"
          ]
        },
        {
          "data": {
            "text/markdown": [
              "\n",
              " ### Function execution result:"
            ],
            "text/plain": [
              "<IPython.core.display.Markdown object>"
            ]
          },
          "metadata": {},
          "output_type": "display_data"
        },
        {
          "data": {
            "text/markdown": [
              "The dog (Canis familiaris or Canis lupus familiaris) is a domesticated descendant of the gray wolf.\n",
              "Also called the domestic dog, it was selectively bred from an extinct population of wolves during the Late Pleistocene by hunter-gatherers.\n",
              "The dog was the first species to be domesticated by humans, over 14,000 years ago and before the development of agriculture.\n",
              "Due to their long association with humans, dogs have gained the ability to thrive on a starch-rich diet that would be inadequate for other canids.\n",
              "Dogs have been bred for desired behaviors, sensory capabilities, and physical attributes.\n",
              "Dog breeds vary widely in shape, size, and color.\n",
              "They have the same number of bones (with the exception of the tail), powerful jaws that house around 42 teeth, and well-developed senses of smell, hearing, and sight.\n",
              "Compared to humans, dogs possess a superior sense of smell and hearing, but inferior visual acuity.\n",
              "Dogs perform many roles for humans, such as hunting, herding, pulling loads, protection, companionship, therapy, aiding disabled people, and assisting police and the military.\n",
              "Communication in dogs includes eye gaze, facial expression, vocalization, body posture (including movements of bodies and limbs), and gustatory communication (scents, pheromones, and taste).\n",
              "They mark their territories by urinating on them, which is more likely when entering a new environment.\n",
              "Over the millennia, dogs have uniquely adapted to human behavior; this adaptation includes being able to understand and communicate with humans.\n",
              "As such, the human–canine bond has been a topic of frequent study, and dogs' influence on human society has given them the sobriquet of \"man's best friend\".\n",
              "The global dog population is estimated at 700 million to 1 billion, distributed around the world.\n",
              "The dog is the most popular pet in the United States, present in 34–40% of households.\n",
              "Developed countries make up approximately 20% of the global dog population, while around 75% of dogs are estimated to be from developing countries, mainly in the form of feral and community dogs.\n",
              "Dogs are domesticated members of the family Canidae.\n",
              "They are classified as a subspecies of Canis lupus, along with wolves and dingoes.\n",
              "Dogs were domesticated from wolves over 14,000 years ago by hunter-gatherers, before the development of agriculture.\n",
              "The remains of the Bonn–Oberkassel dog, buried alongside humans between 14,000 and 15,000 years ago, are the earliest to be conclusively identified as a domesticated dog.\n",
              "Genetic studies show that dogs likely diverged from wolves between 27,000 and 40,000 years ago.\n",
              "The dingo and the related New Guinea singing dog resulted from the geographic isolation and feralization of dogs in Oceania over 8,000 years ago.\n",
              "Dogs, wolves, and dingoes have sometimes been classified as separate species.\n",
              "In 1758, the Swedish botanist and zoologist Carl Linnaeus assigned the genus name Canis (which is the Latin word for \"dog\") to the domestic dog, the wolf, and the golden jackal in his book, Systema Naturae.\n",
              "He classified the domestic dog as Canis familiaris.\n",
              "Linnaeus considered the dog to be a separate species from the wolf because of its upturning tail (cauda recurvata in Latin term), which is not found in any other canid.\n",
              "In the 2005 edition of Mammal Species of the World, mammalogist W. Christopher Wozencraft listed the wolf as a wild subspecies of Canis lupus and proposed two additional subspecies: familiaris, as named by Linnaeus in 1758, and dingo, named by Meyer in 1793.\n",
              "Wozencraft included hallstromi (the New Guinea singing dog) as another name (junior synonym) for the dingo.\n",
              "The earliest remains generally accepted to be those of a domesticated dog were discovered in Bonn-Oberkassel, Germany.\n",
              "Contextual, isotopic, genetic, and morphological evidence shows that this dog was not a local wolf.\n",
              "The dog was dated to 14,223 years ago and was found buried along with a man and a woman, all three having been sprayed with red hematite powder and buried under large, thick basalt blocks.\n",
              "The dog had died of canine distemper.\n",
              "This timing indicates that the dog was the first species to be domesticated in the time of hunter-gatherers, which predates agriculture.\n",
              "DNA sequences show that all ancient and modern dogs share a common ancestry and descended from an ancient, extinct wolf population that was distinct from any modern wolf lineage.\n",
              "The dog is a domestic animal that likely travelled a commensal pathway into domestication (i.e. humans initially neither benefitted nor were harmed by wild dogs eating refuse from their camps).\n",
              "In 2021, a literature review of the current evidence infers that the dog was domesticated in Siberia 23,000 years ago by ancient North Siberians, then later dispersed eastward into the Americas and westward across Eurasia, with dogs likely accompanying the first humans to inhabit the Americas.\n",
              "In 2018, a study identified 429 genes that differed between modern dogs and modern wolves.\n",
              "As the differences in these genes could also be found in ancient dog fossils, these were regarded as being the result of the initial domestication and not from recent breed formation.\n",
              "These genes are linked to neural crest and central nervous system development.\n",
              "These genes affect embryogenesis and can confer tameness, smaller jaws, floppy ears, and diminished craniofacial development, which distinguish domesticated dogs from wolves and are considered to reflect domestication syndrome.\n",
              "The study concluded that during early dog domestication, the initial selection was for behavior.\n",
              "This trait is influenced by those genes which act in the neural crest, which led to the phenotypes observed in modern dogs.\n",
              "There are around 450 official dog breeds, the most of any mammal.\n",
              "Dogs began diversifying in the Victorian era, when humans took control of their natural selection.\n",
              "Most breeds were derived from small numbers of founders within the last 200 years.\n",
              "Since then, dogs have undergone rapid phenotypic change and have been subjected to artificial selection by humans.\n",
              "The skull, body, and limb proportions between breeds display more phenotypic diversity than can be found within the entire order of carnivores.\n",
              "These breeds possess distinct traits related to morphology, which include body size, skull shape, tail phenotype, fur type, and colour.\n",
              "As such, humans have long used dogs for their desirable traits to complete or fulfill a certain work or role.\n",
              "Their behavioural traits include guarding, herding, hunting, retrieving, and scent detection.\n",
              "Their personality traits include hypersocial behavior, boldness, and aggression.\n",
              "Present-day dogs are dispersed around the world.\n",
              "Dogs are extremely variable in size, ranging from one of the largest breeds, the Great Dane, at 50 to 79 kg (110 to 174 lb) and 71 to 81 cm (28 to 32 in), to one of the smallest, the Chihuahua, at 0.5 to 3 kg (1.1 to 6.6 lb) and 13 to 20 cm (5.1 to 7.9 in).\n",
              "All healthy dogs, regardless of their size and type, have the same amount of bones (with the exception of the tail), although there is significant skeletal variation between dogs of different types.\n",
              "The dog's skeleton is well adapted for running; the vertebrae on the neck and back have extensions for back muscles, consisting of epaxial muscles and hypaxial muscles, to connect to; the long ribs provide room for the heart and lungs; and the shoulders are unattached to the skeleton, allowing for flexibility.\n",
              "Compared to the dog's wolf-like ancestors, selective breeding since domestication has seen the dog's skeleton increase in size for larger types such as mastiffs and miniaturised for smaller types such as terriers.\n",
              "Most dogs naturally have 26 vertebrae in their tails, but some with naturally short tails have as few as three.\n",
              "The dog's skull has identical components regardless of breed type, but there is significant divergence in terms of skull shape between types.\n",
              "The three basic skull shapes are the elongated dolichocephalic type as seen in sighthounds, the intermediate mesocephalic or mesaticephalic type, and the very short and broad brachycephalic type exemplified by mastiff type skulls.\n",
              "The jaw contains around 42 teeth, and it has evolved for the consumption of flesh.\n",
              "Dogs use their carnassial teeth to cut food into bite-sized chunks, more especially meat.\n",
              "Dogs' senses include vision, hearing, smell, taste, touch, and magnetoreception.\n",
              "One study suggests that dogs can feel small variations in Earth's magnetic field.\n",
              "Dogs prefer to defecate with their spines aligned in a north–south position in calm magnetic field conditions.\n",
              "Dogs' vision is dichromatic; their visual world consists of yellows, blues, and grays.\n",
              "They have difficulty differentiating between red and green, and much like other mammals, the dog's eye is composed of two types of cone cells compared to the human's three.\n",
              "The divergence of the eye axis of dogs ranges from 12 to 25°, depending on the breed, which can have different retina configurations.\n",
              "The fovea centralis area of the eye is attached to a nerve fiber, and is the most sensitive to photons.\n",
              "Additionally, a study found that dogs' visual acuity was up to eight times less effective than a human, and their ability to discriminate levels of brightness was about two times worse than a human.\n",
              "While the human brain is dominated by a large visual cortex, the dog brain is dominated by a large olfactory cortex.\n",
              "Dogs have roughly forty times more smell-sensitive receptors than humans, ranging from about 125 million to nearly 300 million in some dog breeds, such as bloodhounds.\n",
              "This sense of smell is the most prominent sense of the species; it detects chemical changes in the environment, allowing dogs to pinpoint the location of mating partners, potential stressors, resources, etc.\n",
              "Dogs also have an acute sense of hearing up to four times greater than that of humans.\n",
              "They can pick up the slightest sounds from about 400 m (1,300 ft) compared to 90 m (300 ft) for humans.\n",
              "Dogs have stiff, deeply embedded hairs known as whiskers that sense atmospheric changes, vibrations, and objects not visible in low light conditions.\n",
              "The lower most part of whiskers hold more receptor cells than other hair types, which help in alerting dogs of objects that could collide with the nose, ears, and jaw.\n",
              "Whiskers likely also facilitate the movement of food towards the mouth.\n",
              "The coats of domestic dogs are of two varieties: \"double\" being common in dogs (as well as wolves) originating from colder climates, made up of a coarse guard hair and a soft down hair, or \"single\", with the topcoat only.\n",
              "Breeds may have an occasional \"blaze\", stripe, or \"star\" of white fur on their chest or underside.\n",
              "Premature graying can occur in dogs as early as one year of age; this is associated with impulsive behaviors, anxiety behaviors, and fear of unfamiliar noise, people, or animals.\n",
              "Some dog breeds are hairless, while others have a very thick corded coat.\n",
              "A dog's dewclaw is the fifth digit in its forelimb and hind legs.\n",
              "Dewclaws on the forelimbs are attached by bone and ligament, while the dewclaws on the hind legs are attached only by skin.\n",
              "Most dogs are not born with dewclaws in their hind legs, and some are without them in their forelimbs.\n",
              "Dogs' dewclaws consist of the proximal phalanges and distal phalanges.\n",
              "A dog's tail is the terminal appendage of the vertebral column, which is made up of a string of 5 to 23 vertebrae enclosed in muscles and skin that support the dog's back extensor muscles.\n",
              "One of the primary functions of a dog's tail is to communicate their emotional state.\n",
              "The tail also helps the dog maintain balance by putting its weight on the opposite side of the dog's tilt, and it can also help the dog spread its anal gland's scent through the tail's position and movement.\n",
              "Dogs can have a violet gland (or supracaudal gland) characterized by sebaceous glands on the dorsal surface of their tails; in some breeds, it may be vestigial or absent.\n",
              "A study suggests that dogs show asymmetric tail-wagging responses to different emotive stimuli.\n",
              "Dogs can injure themselves by wagging their tails forcefully; this condition is called kennel tail, happy tail, bleeding tail, or splitting tail.\n",
              "In some hunting dogs, the tail is traditionally docked to avoid injuries.\n",
              "Some dogs can be born without tails because of a DNA variant in the T gene, which can also result in a congenitally short (bobtail) tail.\n",
              "Numerous disorders have been known to affect dogs.\n",
              "Some are congenital and others are acquired.\n",
              "Dogs can acquire upper respiratory tract diseases including diseases that affect the nasal cavity, the larynx, and the trachea; lower respiratory tract diseases which includes pulmonary disease and acute respiratory diseases; heart diseases which includes any cardiovascular inflammation or dysfunction of the heart; haemopoietic diseases including anaemia and clotting disorders; gastrointestinal disease such as diarrhoea and gastric dilatation volvulus; hepatic disease such as portosystemic shunts and liver failure; pancreatic disease such as pancreatitis; renal disease; lower urinary tract disease such as cystitis and urolithiasis; endocrine disorders such as diabetes mellitus, Cushing's syndrome, hypoadrenocorticism, and hypothyroidism; nervous system diseases such as seizures and spinal injury; musculoskeletal disease such as arthritis and myopathies; dermatological disorders such as alopecia and pyoderma; ophthalmological diseases such as conjunctivitis, glaucoma, entropion, and progressive retinal atrophy; and neoplasia.\n",
              "Common dog parasites are lice, fleas, fly larvae, ticks, mites, cestodes, nematodes, and coccidia.\n",
              "Taenia is a notable genus with 5 species in which dogs are the definitive host.\n",
              "Additionally, dogs are a source of zoonoses for humans.\n",
              "They are responsible for 99% of rabies cases worldwide.\n",
              "Other common zoonoses are hydatid disease, leptospirosis, pasteurellosis, ringworm, and toxocariasis.\n",
              "Common infections in dogs include canine adenovirus, canine distemper virus, canine parvovirus, leptospirosis, canine influenza, and canine coronavirus.\n",
              "All of these conditions have vaccines available.\n",
              "Dogs are the companion animal most frequently reported for exposure to toxins.\n",
              "Most poisonings are accidental and over 80% of reports of exposure to the ASPCA animal poisoning hotline are due to oral exposure.\n",
              "Neoplasia is the most common cause of death for dogs.\n",
              "Other common causes of death are heart and renal failure.\n",
              "Their pathology is similar to that of humans, as is their response to treatment and their outcomes.\n",
              "Genes found in humans to be responsible for disorders are investigated in dogs as being the cause and vice versa.\n",
              "The typical lifespan of dogs varies widely among breeds, but the median longevity (the age at which half the dogs in a population have died and half are still alive) is approximately 12.7 years.\n",
              "Obesity correlates negatively with longevity with one study finding obese dogs to have a life expectancy approximately a year and a half less than dogs with a healthy weight.\n",
              "In a 2024 UK study analyzing 584,734 dogs, it was concluded that purebred dogs lived longer than crossbred dogs, challenging the previous notion of the latter having the higher life expectancies.\n",
              "Other studies also show that fully mongrel dogs live about a year longer on average than dogs with pedigrees.\n",
              "Furthermore, small dogs with longer muzzles have been shown to have higher lifespans than larger medium-sized dogs with much more depressed muzzles.\n",
              "For free-ranging dogs, less than 1 in 5 reach sexual maturity, and the median life expectancy for feral dogs is less than half of dogs living with humans.\n",
              "In domestic dogs, sexual maturity happens around six months to one year for both males and females, although this can be delayed until up to two years of age for some large breeds.\n",
              "This is the time at which female dogs will have their first estrous cycle, characterized by their vulvas swelling and producing discharges, usually lasting between 4 and 20 days.\n",
              "They will experience subsequent estrous cycles semiannually, during which the body prepares for pregnancy.\n",
              "At the peak of the cycle, females will become estrous, mentally and physically receptive to copulation.\n",
              "Because the ova survive and can be fertilized for a week after ovulation, more than one male can sire the same litter.\n",
              "Fertilization typically occurs two to five days after ovulation.\n",
              "After ejaculation, the dogs are coitally tied for around 5–30 minutes because of the male's bulbus glandis swelling and the female's constrictor vestibuli contracting; the male will continue ejaculating until they untie naturally due to muscle relaxation.\n",
              "14–16 days after ovulation, the embryo attaches to the uterus, and after seven to eight more days, a heartbeat is detectable.\n",
              "Dogs bear their litters roughly 58 to 68 days after fertilization, with an average of 63 days, although the length of gestation can vary.\n",
              "An average litter consists of about six puppies.\n",
              "Neutering is the sterilization of animals via gonadectomy, which is an orchidectomy (castration) in dogs and ovariohysterectomy (spay) in bitches.\n",
              "Neutering reduces problems caused by hypersexuality, especially in male dogs.\n",
              "Spayed females are less likely to develop cancers affecting the mammary glands, ovaries, and other reproductive organs.\n",
              "However, neutering increases the risk of urinary incontinence in bitches, prostate cancer in dogs, and osteosarcoma, hemangiosarcoma, cruciate ligament rupture, pyometra, obesity, and diabetes mellitus in either sex.\n",
              "Neutering is the most common surgical procedure in dogs less than a year old in the US and is seen as a control method for overpopulation.\n",
              "Neutering often occurs as early as 6–14 weeks in shelters in the US.\n",
              "The American Society for the Prevention of Cruelty to Animals (ASPCA) advises that dogs not intended for further breeding should be neutered so that they do not have undesired puppies that may later be euthanized.\n",
              "Neutering is less common in most European countries, especially in Nordic countries—except for the UK, where it is common.\n",
              "In a study of seven dog breeds (the Bernese Mountain Dog, Basset Hound, Cairn Terrier, Brittany, German Shepherd Dog, Leonberger, and West Highland White Terrier), it was found that inbreeding decreases litter size and survival.\n",
              "Another analysis of data on 42,855 Dachshund litters found that as the inbreeding coefficient increased, litter size decreased and the percentage of stillborn puppies increased, thus indicating inbreeding depression.\n",
              "In a study of Boxer litters, 22% of puppies died before reaching 7 weeks of age.\n",
              "Stillbirth was the most frequent cause of death, followed by infection.\n",
              "Mortality due to infection increased significantly with increases in inbreeding.\n",
              "Dog behavior has been shaped by millennia of contact with humans.\n",
              "They have acquired the ability to understand and communicate with humans and are uniquely attuned to human behaviors.\n",
              "Behavioral scientists suggest that a set of social-cognitive abilities in domestic dogs that are not possessed by the dog's canine relatives or other highly intelligent mammals, such as great apes, are parallel to children's social-cognitive skills.\n",
              "Dogs have about twice the number of neurons in their cerebral cortexes than what cats have, which suggests they could be about twice as intelligent.\n",
              "Most domestic animals were initially bred for the production of goods.\n",
              "Dogs, on the other hand, were selectively bred for desirable behavioral traits.\n",
              "In 2016, a study found that only 11 fixed genes showed variation between wolves and dogs.\n",
              "These gene variations indicate the occurrence of artificial selection and the subsequent divergence of behavior and anatomical features.\n",
              "These genes have been shown to affect the catecholamine synthesis pathway, with the majority of the genes affecting the fight-or-flight response (i.e., selection for tameness) and emotional processing.\n",
              "Compared to their wolf counterparts, dogs tend to be less timid and less aggressive, though some of these genes have been associated with aggression in certain dog breeds.\n",
              "Traits of high sociability and lack of fear in dogs may include genetic modifications related to Williams-Beuren syndrome in humans, which cause hypersociability at the expense of problem-solving ability.\n",
              "In a 2023 study of 58 dogs, some dogs classified as attention deficit hyperactivity disorder-like showed lower serotonin and dopamine concentrations.\n",
              "A similar study claims that hyperactivity is more common in male and young dogs.\n",
              "A dog can become aggressive because of trauma or abuse, fear or anxiety, territorial protection, or protecting an item it considers valuable.\n",
              "Acute stress reactions from post-traumatic stress disorder (PTSD) seen in dogs can evolve into chronic stress.\n",
              "Police dogs with PTSD can often refuse to work.\n",
              "Dogs have a natural instinct called prey drive (the term is chiefly used to describe training dogs' habits) which can be influenced by breeding.\n",
              "These instincts can drive dogs to consider objects or other animals to be prey or drive possessive behavior.\n",
              "These traits have been enhanced in some breeds so that they may be used to hunt and kill vermin or other pests.\n",
              "Puppies or dogs sometimes bury food underground.\n",
              "Some puppies and dogs engage in coprophagy out of habit, stress, for attention, or boredom; most of them will not do it later in life.\n",
              "A study hypothesizes that the behavior was inherited from wolves, a behavior likely evolved to lessen the presence of intestinal parasites in dens.\n",
              "Most dogs can swim.\n",
              "In a study of 412 dogs, around 36.5% of the dogs could not swim; the other 63.5% were able to swim without a trainer in a swimming pool.\n",
              "A study of 55 dogs found a correlation between swimming and 'improvement' of the hip osteoarthritis joint.\n",
              "The female dog may produce colostrum, a type of milk high in nutrients and antibodies, 1–7 days before giving birth.\n",
              "Milk production lasts for around three months, and increases with litter size.\n",
              "The dog can sometimes vomit and refuse food during child contractions.\n",
              "In the later stages of the dog's pregnancy, nesting behaviour may occur.\n",
              "Puppies are born with a protective fetal membrane that the mother usually removes shortly after birth.\n",
              "Dogs can have the maternal instincts to start grooming their puppies, consume their puppies' feces, and protect their puppies, likely due to their hormonal state.\n",
              "While male-parent dogs can show more disinterested behaviour toward their own puppies, most can play with the young pups as they would with other dogs or humans.\n",
              "A female dog may abandon or attack her puppies or her male partner dog if she is stressed or in pain.\n",
              "Researchers have tested dogs' ability to perceive information, retain it as knowledge, and apply it to solve problems.\n",
              "Studies of two dogs suggest that dogs can learn by inference.\n",
              "A study with Rico, a Border Collie, showed that he knew the labels of over 200 different items.\n",
              "He inferred the names of novel things by exclusion learning and correctly retrieved those new items after four weeks of the initial exposure.\n",
              "A study of another Border Collie, Chaser, documented that he had learned the names and could associate them by verbal command with over 1,000 words.\n",
              "One study of canine cognitive abilities found that dogs' capabilities are similar to those of horses, chimpanzees, or cats.\n",
              "One study of 18 household dogs found that the dogs could not distinguish food bowls at specific locations without distinguishing cues; the study stated that this indicates a lack of spatial memory.\n",
              "A study stated that dogs have a visual sense for number.\n",
              "The dogs showed a ratio-dependent activation both for numerical values from 1–3 to larger than four.\n",
              "Dogs demonstrate a theory of mind by engaging in deception.\n",
              "Another experimental study showed evidence that Australian dingos can outperform domestic dogs in non-social problem-solving, indicating that domestic dogs may have lost much of their original problem-solving abilities once they joined humans.\n",
              "Another study showed that dogs stared at humans after failing to complete an impossible version of the same task they had been trained to solve.\n",
              "Dog communication is the transfer of information between dogs, as well as between dogs and humans.\n",
              "Communication behaviors of dogs include eye gaze, facial expression, vocalization, body posture (including movements of bodies and limbs), and gustatory communication (scents, pheromones, and taste).\n",
              "Dogs mark their territories by urinating on them, which is more likely when entering a new environment.\n",
              "Both sexes of dogs may also urinate to communicate anxiety or frustration, submissiveness, or when in exciting or relaxing situations.\n",
              "Aroused dogs can be a result of the dogs' higher cortisol levels.\n",
              "Dogs begin socializing with other dogs by the time they reach the ages of 3 to 8 weeks, and at about 5 to 12 weeks of age, they alter their focus from dogs to humans.\n",
              "Belly exposure in dogs can be a defensive behavior that can lead to a bite or to seek comfort.\n",
              "Humans communicate with dogs by using vocalization, hand signals, and body posture.\n",
              "With their acute sense of hearing, dogs rely on the auditory aspect of communication for understanding and responding to various cues, including the distinctive barking patterns that convey different messages.\n",
              "A study using functional magnetic resonance imaging (fMRI) has shown that dogs respond to both vocal and nonvocal voices using the brain's region towards the temporal pole, similar to that of humans' brains.\n",
              "Most dogs also looked significantly longer at the face whose expression matched the valence of vocalization.\n",
              "A study of caudate responses shows that dogs tend to respond more positively to social rewards than to food rewards.\n",
              "The dog is the most widely abundant large carnivoran living in the human environment.\n",
              "In 2020, the estimated global dog population was between 700 million and 1 billion.\n",
              "In the same year, a study found the dog to be the most popular pet in the United States, as they were present in 34 out of every 100 homes.\n",
              "About 20% of the dog population live in developed countries.\n",
              "In the developing world, it is estimated that three-quarters of the world's dog population lives in the developing world as feral, village, or community dogs.\n",
              "Most of these dogs live as scavengers and have never been owned by humans, with one study showing that village dogs' most common response when approached by strangers is to run away (52%) or respond aggressively (11%).\n",
              "Feral and free-ranging dogs' potential to compete with other large carnivores is limited by their strong association with humans.\n",
              "Although wolves are known to kill dogs, wolves tend to live in pairs in areas where they are highly persecuted, giving them a disadvantage when facing large dog groups.\n",
              "Coyotes and big cats have also been known to attack dogs.\n",
              "In particular, leopards are known to have a preference for dogs and have been recorded to kill and consume them, no matter their size.\n",
              "Siberian tigers in the Amur river region have killed dogs in the middle of villages.\n",
              "Striped hyenas are known to kill dogs in their range.\n",
              "Dogs as introduced predators have affected the ecology of New Zealand, which lacked indigenous land-based mammals before human settlement.\n",
              "Dogs have made 11 vertebrate species extinct and are identified as a 'potential threat' to at least 188 threatened species worldwide.\n",
              "Dogs have also been linked to the extinction of 156 animal species.\n",
              "Dogs have been documented to have killed a few birds of the endangered species, the kagu, in New Caledonia.\n",
              "Dogs are typically described as omnivores.\n",
              "Compared to wolves, dogs from agricultural societies have extra copies of amylase and other genes involved in starch digestion that contribute to an increased ability to thrive on a starch-rich diet.\n",
              "Similar to humans, some dog breeds produce amylase in their saliva and are classified as having a high-starch diet.\n",
              "Despite being an omnivore, dogs are only able to conjugate bile acid with taurine.\n",
              "They must get vitamin D from their diet.\n",
              "Of the twenty-one amino acids common to all life forms (including selenocysteine), dogs cannot synthesize ten: arginine, histidine, isoleucine, leucine, lysine, methionine, phenylalanine, threonine, tryptophan, and valine.\n",
              "Like cats, dogs require arginine to maintain nitrogen balance.\n",
              "These nutritional requirements place dogs halfway between carnivores and omnivores.\n",
              "As a domesticated or semi-domesticated animal, the dog has notable exceptions of presence in: The Aboriginal Tasmanians, who were separated from Australia before the arrival of dingos on that continent; The Andamanese peoples, who were isolated when rising sea levels covered the land bridge to Myanmar; The Fuegians, who instead domesticated the Fuegian dog, an already extinct different canid species; Individual Pacific islands whose maritime settlers did not bring dogs or where the dogs died out after original settlement, notably the Mariana Islands, Palau and most of the Caroline Islands with exceptions such as Fais Island and Nukuoro, the Marshall Islands, the Gilbert Islands, New Caledonia, Vanuatu, Tonga, Marquesas, Mangaia in the Cook Islands, Rapa Iti in French Polynesia, Easter Island, the Chatham Islands, and Pitcairn Island.\n",
              "Dogs were introduced to Antarctica as sled dogs.\n",
              "Starting practice in December 1993, dogs were later outlawed by the Protocol on Environmental Protection to the Antarctic Treaty international agreement due to the possible risk of spreading infections.\n",
              "The domesticated dog originated as a predator and scavenger.\n",
              "They inherited complex behaviors, such as bite inhibition, from their wolf ancestors, which would have been pack hunters with complex body language.\n",
              "These sophisticated forms of social cognition and communication may account for dogs' trainability, playfulness, and ability to fit into human households and social situations, and probably also their co-existence with early human hunter-gatherers.\n",
              "Dogs perform many roles for people, such as hunting, herding, pulling loads, protection, assisting police and the military, companionship, and aiding disabled individuals.\n",
              "These roles in human society have earned them the nickname \"man's best friend\" in the Western world.\n",
              "In some cultures, however, dogs are also a source of meat.\n",
              "The keeping of dogs as companions, particularly by elites, has a long history.\n",
              "Pet-dog populations grew significantly after World War II as suburbanization increased.\n",
              "In the 1980s, there have been changes in the pet dog's functions, such as the increased role of dogs in the emotional support of their human guardians.\n",
              "Within the second half of the 20th century, more and more dog owners considered their animal to be a part of the family.\n",
              "This major social status shift allowed the dog to conform to social expectations of personality and behavior.\n",
              "The second has been the broadening of the concepts of family and the home to include dogs-as-dogs within everyday routines and practices.\n",
              "Products such as dog-training books, classes, and television programs target dog owners.\n",
              "Some dog-trainers have promoted a dominance model of dog-human relationships.\n",
              "Human family members have increased participation in activities in which the dog is an integral partner, such as dog dancing and dog yoga.\n",
              "According to statistics published by the American Pet Products Manufacturers Association in the National Pet Owner Survey in 2009–2010, an estimated 77.5 million people in the United States have pet dogs.\n",
              "The source shows that nearly 40% of American households own at least one dog, of which 67% own just one dog, 25% own two dogs, and nearly 9% own more than two dogs.\n",
              "The data also shows an equal number of male and female pet dogs; less than one-fifth of the owned dogs come from shelters.\n",
              "In addition to dogs' role as companion animals, dogs have been bred for herding livestock (such as collies and sheepdogs); for hunting; for rodent control (such as terriers); as search and rescue dogs; as detection dogs (such as those trained to detect illicit drugs or chemical weapons); as homeguard dogs; as police dogs (sometimes nicknamed \"K-9\"); as welfare-purpose dogs; as dogs who assist fishermen retrieve their nets; and as dogs that pull loads (such as sled dogs).\n",
              "In 1957, the dog Laika became one of the first animals to be launched into Earth orbit aboard the Soviets's Sputnik 2; Laika died during the flight from overheating.\n",
              "Various kinds of service dogs and assistance dogs, including guide dogs, hearing dogs, mobility assistance dogs, and psychiatric service dogs, assist individuals with disabilities.\n",
              "A study of 29 dogs found that 9 dogs owned by people with epilepsy were reported to exhibit attention-getting behavior to their handler 30 seconds to 45 minutes prior to an impending seizure; there was no significant correlation between the patients' demographics, health, or attitude towards their pets.\n",
              "Dogs compete in breed-conformation shows and dog sports (including racing, sledding, and agility competitions).\n",
              "In dog shows, also referred to as \"breed shows\", a judge familiar with the specific dog breed evaluates individual purebred dogs for conformity with their established breed type as described in a breed standard.\n",
              "Weight pulling, a dog sport involving pulling weight, has been criticized for promoting doping and for its risk of injury.\n",
              "Humans have consumed dog meat going back at least 14,000 years.\n",
              "For centuries, the practice was prevalent in Southeast Asia, East Asia, Africa, and Oceania before cultural changes triggered by the spread of religions resulted in dog meat consumption declining and becoming more taboo.\n",
              "Switzerland, Polynesia, and pre-Columbian Mexico historically consumed dog meat.\n",
              "Some Native American dogs, like the Peruvian Hairless Dog and Xoloitzcuintle, were raised to be sacrificed and eaten.\n",
              "Han Chinese traditionally ate dogs.\n",
              "Consumption of dog meat declined but did not end during the Sui dynasty (581–618) and Tang dynasty (618–907) due in part to the spread of Buddhism and the upper class rejecting the practice.\n",
              "Dog consumption was rare in India, Iran, and Europe.\n",
              "Eating dog meat is a social taboo in most parts of the world, though some still consume it in modern times.\n",
              "It is still consumed in some East Asian countries, including China, Vietnam, Korea, Indonesia, and the Philippines.\n",
              "An estimated 30 million dogs are killed and consumed in Asia every year.\n",
              "China is the world's largest consumer of dogs, with an estimated 10 to 20 million dogs killed every year for human consumption.\n",
              "In Vietnam, about 5 million dogs are slaughtered annually.\n",
              "In 2024, China, Singapore, and Thailand placed a ban on the consumption of dogs within their borders.\n",
              "In some parts of Poland and Central Asia, dog fat is reportedly believed to be beneficial for the lungs.\n",
              "There is a long history of dog meat consumption in South Korea, but the practice has fallen out of favor.\n",
              "On 9 January 2024, the South Korean parliament passed a law banning the distribution and sale of dog meat. It will take effect in 2027, with plans to assist dog farmers in transitioning to other products.\n",
              "The primary type of dog raised for meat in South Korea has been the Nureongi.\n",
              "In North Korea where meat is scarce, eating dog is a common and accepted practice, officially promoted by the government.\n",
              "In 2018, the World Health Organization (WHO) reported that 59,000 people died globally from rabies, with 59.6% of the deaths in Asia and 36.4% in Africa. Rabies is a disease for which dogs are the most significant vector.\n",
              "Dog bites affect tens of millions of people globally each year.\n",
              "The primary victims of dog bite incidents are children.\n",
              "They are more likely to sustain more serious injuries from bites, which can lead to death.\n",
              "Sharp claws can lacerate flesh and cause serious infections.\n",
              "In the United States, cats and dogs are a factor in more than 86,000 falls each year.\n",
              "It has been estimated that around 2% of dog-related injuries treated in U.K. hospitals are domestic accidents.\n",
              "The same study concluded that dog-associated road accidents involving injuries more commonly involve two-wheeled vehicles.\n",
              "Some countries and cities have also banned or restricted certain dog breeds, usually for safety concerns.\n",
              "Toxocara canis (dog roundworm) eggs in dog feces can cause toxocariasis.\n",
              "Untreated toxocariasis can cause retinal damage and decreased vision.\n",
              "Dog feces can also contain hookworms that cause cutaneous larva migrans in humans.\n",
              "The scientific evidence is mixed as to whether a dog's companionship can enhance human physical and psychological well-being.\n",
              "Studies suggest that there are benefits to physical health and psychological well-being, but they have been criticized for being \"poorly controlled\".\n",
              "Earlier studies have shown that pet-dog or -cat guardians make fewer hospital visits and are less likely to be on medication for heart problems and sleeping difficulties than non-guardians.\n",
              "People with pet dogs took considerably more physical exercise than those with cats or those without pets; these effects are relatively long-term.\n",
              "Pet guardianship has also been associated with increased survival in cases of coronary artery disease.\n",
              "Human guardians are significantly less likely to die within one year of an acute myocardial infarction than those who do not own dogs.\n",
              "Studies have found a small to moderate correlation between dog-ownership and increased adult physical-activity levels.\n",
              "Health benefits of dogs can result from contact with dogs in general, not solely from having dogs as pets.\n",
              "For example, when in a pet dog's presence, people show reductions in cardiovascular, behavioral, and psychological indicators of anxiety and are exposed to immune-stimulating microorganisms, which can protect against allergies and autoimmune diseases (according to the hygiene hypothesis).\n",
              "Other benefits include dogs as social support.\n",
              "One study indicated that wheelchair-users experience more positive social interactions with strangers when accompanied by a dog than when they are not.\n",
              "In a 2015 study, it was found that having a pet made people more inclined to foster positive relationships with their neighbors.\n",
              "In one study, new guardians reported a significant reduction in minor health problems during the first month following pet acquisition, which was sustained through the 10-month study.\n",
              "Using dogs and other animals as a part of therapy dates back to the late-18th century, when animals were introduced into mental institutions to help socialize patients with mental disorders.\n",
              "Animal-assisted intervention research has shown that animal-assisted therapy with a dog can increase smiling and laughing among people with Alzheimer's disease.\n",
              "One study demonstrated that children with ADHD and conduct disorders who participated in an education program with dogs and other animals showed increased attendance, knowledge, and skill-objectives and decreased antisocial and violent behavior compared with those not in an animal-assisted program.\n",
              "Artworks have depicted dogs as symbols of guidance, protection, loyalty, fidelity, faithfulness, alertness, and love.\n",
              "In ancient Mesopotamia, from the Old Babylonian period until the Neo-Babylonian period, dogs were the symbol of Ninisina, the goddess of healing and medicine, and her worshippers frequently dedicated small models of seated dogs to her.\n",
              "In the Neo-Assyrian and Neo-Babylonian periods, dogs served as emblems of magical protection.\n",
              "In China, Korea, and Japan, dogs are viewed as kind protectors.\n",
              "In mythology, dogs often appear as pets or as watchdogs.\n",
              "Stories of dogs guarding the gates of the underworld recur throughout Indo-European mythologies and may originate from Proto-Indo-European traditions.\n",
              "In Greek mythology, Cerberus is a three-headed, dragon-tailed watchdog who guards the gates of Hades.\n",
              "Dogs also feature in association with the Greek goddess Hecate.\n",
              "In Norse mythology, a dog called Garmr guards Hel, a realm of the dead.\n",
              "In Persian mythology, two four-eyed dogs guard the Chinvat Bridge.\n",
              "In Welsh mythology, Cŵn Annwn guards Annwn.\n",
              "In Hindu mythology, Yama, the god of death, owns two watchdogs named Shyama and Sharvara, which each have four eyes—they are said to watch over the gates of Naraka.\n",
              "A black dog is considered to be the vahana (vehicle) of Bhairava (an incarnation of Shiva).\n",
              "In Christianity, dogs represent faithfulness.\n",
              "Within the Roman Catholic denomination specifically, the iconography of Saint Dominic includes a dog after the saint's mother dreamt of a dog springing from her womb and became pregnant shortly after that.\n",
              "As such, the Dominican Order (Ecclesiastical Latin: Domini canis) means \"dog of the Lord\" or \"hound of the Lord\".\n",
              "In Christian folklore, a church grim often takes the form of a black dog to guard Christian churches and their churchyards from sacrilege.\n",
              "Jewish law does not prohibit keeping dogs and other pets but requires Jews to feed dogs (and other animals that they own) before themselves and to make arrangements for feeding them before obtaining them.\n",
              "The view on dogs in Islam is mixed, with some schools of thought viewing them as unclean, although Khaled Abou El Fadl states that this view is based on \"pre-Islamic Arab mythology\" and \"a tradition [...] falsely attributed to the Prophet\".\n",
              "The Sunni Maliki school jurists disagree with the idea that dogs are unclean.\n",
              "Dog – the species (or subspecies) as a whole, also any male member of the same.\n",
              "Bitch – any female member of the species (or subspecies).\n",
              "Puppy or pup – a young member of the species (or subspecies) under 12 months old.\n",
              "Sire – the male parent of a litter.\n",
              "Dam – the female parent of a litter.\n",
              "Litter – all of the puppies resulting from a single whelping.\n",
              "Whelping – the act of a bitch giving birth.\n",
              "Whelps – puppies still dependent upon their dam.\n",
              "\n",
              "Based on:\n",
              "  https://en.wikipedia.org/wiki/Dog"
            ],
            "text/plain": [
              "<IPython.core.display.Markdown object>"
            ]
          },
          "metadata": {},
          "output_type": "display_data"
        },
        {
          "data": {
            "text/markdown": [
              "*   The cat (Felis catus), also referred to as the domestic cat or house cat, is a small domesticated carnivorous mammal.\n",
              "*   It is the only domesticated species of the family Felidae.\n",
              "*   Domestication of the cat occurred in the Near East around 7500 BC.\n",
              "*   It is commonly kept as a pet and working cat, but also ranges freely as a feral cat avoiding human contact.\n",
              "*   It is valued by humans for companionship and its ability to kill vermin.\n",
              "*   Its retractable claws are adapted to killing small prey species such as mice and rats.\n",
              "*   It has a strong, flexible body, quick reflexes, and sharp teeth.\n",
              "*   Its night vision and sense of smell are well developed.\n",
              "*   It is a social species, but a solitary hunter and a crepuscular predator.\n",
              "*   Cat intelligence is evident in their ability to adapt, learn through observation, and solve problems.\n",
              "*   Research has shown they possess strong memories, exhibit neuroplasticity, and display cognitive skills comparable to those of a young child.\n",
              "*   Cat communication includes meowing, purring, trilling, hissing, growling, grunting, and body language.\n",
              "*   It can hear sounds too faint or too high in frequency for human ears, such as those made by small mammals.\n",
              "*   It secretes and perceives pheromones.\n",
              "*   Female domestic cats can have kittens from spring to late autumn in temperate zones and throughout the year in equatorial regions.\n",
              "*   Litter sizes often range from two to five kittens.\n",
              "*   Domestic cats are bred and shown at cat fancy events as registered pedigreed cats.\n",
              "*   Population control includes spaying and neutering.\n",
              "*   Pet abandonment has exploded the global feral cat population, which has driven the extinction of bird, mammal, and reptile species.\n",
              "*   Domestic cats are found across the globe.\n",
              "*   Out of the estimated 600 million cats worldwide, 400 million reside in Asia, including 58 million pet cats in China.\n",
              "*   The United States leads in cat ownership with 73.8 million cats.\n",
              "*   In the United Kingdom, approximately 10.9 million domestic cats are kept as pets.\n",
              "*   The origin of the English word cat, Old English catt, is thought to be the Late Latin word cattus, first used at the beginning of the 6th century.\n",
              "*   The Late Latin word may be derived from an unidentified African language (Nubian kaddîska, Nobiin kadīs are possible sources/cognates).\n",
              "*   The forms might also have derived from an ancient Germanic word absorbed into Latin and then into Greek, Syriac, and Arabic.\n",
              "*   The word may be derived from Germanic and Northern European languages, and ultimately be borrowed from Uralic (*käďwä, female (of a furred animal)).\n",
              "*   The English puss, extended as pussy and pussycat, is attested from the 16th century and may have been introduced from Dutch poes or from Low German puuskatte.\n",
              "*   Similar forms exist in Lithuanian puižė and Irish puisín or puiscín.\n",
              "*   The etymology of \"puss\" is unknown, but it may be an onomatopoeia from using a sound to attract a cat.\n",
              "*   A male cat is called a tom or tomcat (or a gib, if neutered).\n",
              "*   A female is called a queen (or sometimes a molly, if spayed). Some sources write that queen refers solely to unspayed cats that are in an estrous cycle.\n",
              "*   A juvenile cat is referred to as a kitten, a term interchangeable with the now-obsolete word catling in Early Modern English.\n",
              "*   A group of cats can be referred to as a clowder, a glaring, or a colony.\n",
              "*   The scientific name Felis catus was proposed by Carl Linnaeus in 1758 for a domestic cat.\n",
              "*   Felis catus domesticus was proposed by Johann Christian Polycarp Erxleben in 1777.\n",
              "*   Felis daemon proposed by Konstantin Satunin in 1904 was a black cat from the Transcaucasus, later identified as a domestic cat.\n",
              "*   In 2003, the International Commission on Zoological Nomenclature ruled that the domestic cat is a distinct species, namely Felis catus.\n",
              "*   In 2007, the modern domesticated subspecies F. silvestris catus sampled worldwide was considered to have probably descended from the African wildcat (F. lybica).\n",
              "*   In 2017, the IUCN Cat Classification Taskforce followed the recommendation of the ICZN in regarding the domestic cat as a distinct species, Felis catus.\n",
              "*   The domestic cat is a member of the Felidae, a family that has a common ancestor from about 10 to 15 million years ago.\n",
              "*   The evolutionary radiation of the Felidae began in Asia during the Miocene around 8.38 to 14.45 million years ago.\n",
              "*   Analysis of mitochondrial DNA of all Felidae species indicates a radiation at 6.46 to 16.76 million years ago.\n",
              "*   The genus Felis genetically diverged from other Felidae around 6 to 7 million years ago.\n",
              "*   Results of phylogenetic research shows that the wild members of this genus evolved through sympatric or parapatric speciation, whereas the domestic cat evolved through artificial selection.\n",
              "*   The domestic cat and its closest wild ancestor are diploid and both possess 38 chromosomes and roughly 20,000 genes.\n",
              "*   The earliest known indication for the taming of an African wildcat was excavated close by a human Neolithic grave in Shillourokambos, southern Cyprus, dating to about 7500–7200 BC.\n",
              "*   African wildcats were attracted to early human settlements in the Fertile Crescent by rodents, in particular the house mouse (Mus musculus), and were tamed by Neolithic farmers.\n",
              "*   The earliest known evidence for the occurrence of the domestic cat in Greece dates to around 1200 BC.\n",
              "*   Greek, Phoenician, Carthaginian and Etruscan traders introduced domestic cats to southern Europe.\n",
              "*   By the 5th century BC, they were familiar animals around settlements in Magna Graecia and Etruria.\n",
              "*   During the Roman Empire, they were introduced to Corsica and Sardinia before the beginning of the 1st century AD.\n",
              "*   By the end of the Western Roman Empire in the 5th century, the Egyptian domestic cat lineage had arrived in a Baltic Sea port in northern Germany.\n",
              "*   The leopard cat (Prionailurus bengalensis) was tamed independently in China around 5500 BC, but this line leaves no trace in modern domestic cat populations.\n",
              "*   During domestication, cats have undergone only minor changes in anatomy and behavior, and they are still capable of surviving in the wild.\n",
              "*   Wildcat traits pre-adapted them for domestication: small size, social nature, obvious body language, love of play, and high intelligence.\n",
              "*   Their rigorous grooming habits and instinct to bury their bodily waste make them generally much less messy than other domesticated animals.\n",
              "*   House cats may mate with feral cats.\n",
              "*   Hybridization between domestic and other Felinae species is also possible (e.g., Kellas cat).\n",
              "*   Development of cat breeds started in the mid-19th century.\n",
              "*   An analysis of the domestic cat genome revealed that the ancestral wildcat genome was significantly altered in the process of domestication, as specific mutations were selected to develop cat breeds.\n",
              "*   Most breeds are founded on random-bred domestic cats.\n",
              "*   Genetic diversity of these breeds varies between regions, and is lowest in purebred populations, which show more than 20 deleterious genetic disorders.\n",
              "*   The domestic cat has a smaller skull and shorter bones than the European wildcat.\n",
              "*   It averages about 46 cm (18 in) in head-to-body length and 23–25 cm (9.1–9.8 in) in height, with about 30 cm (12 in) long tails.\n",
              "*   Males are larger than females.\n",
              "*   Adult domestic cats typically weigh 4–5 kg (8.8–11.0 lb).\n",
              "*   Cats have seven cervical vertebrae, 13 thoracic vertebrae, seven lumbar vertebrae, three sacral vertebrae, and a variable number of caudal vertebrae in the tail.\n",
              "*   The extra lumbar and thoracic vertebrae account for the cat's spinal mobility and flexibility.\n",
              "*   Attached to the spine are 13 ribs, the shoulder, and the pelvis.\n",
              "*   Cat forelimbs are attached to the shoulder by free-floating clavicle bones.\n",
              "*   The cat skull is unusual among mammals in having very large eye sockets and a powerful specialized jaw.\n",
              "*   Two long canine teeth for killing and tearing prey, can stab between two of the prey's vertebrae and sever its spinal cord.\n",
              "*   Domestic cats have narrowly spaced canine teeth relative to the size of their jaw, an adaptation to their preferred prey of small rodents.\n",
              "*   The premolar and first molar together compose the carnassial pair on each side of the mouth, which efficiently shears meat.\n",
              "*   Cats' small molars cannot chew food effectively, and cats are largely incapable of mastication.\n",
              "*   Cats tend to have better dental health than most humans.\n",
              "*   Cats have protractible and retractable claws.\n",
              "*   Claws are sheathed in their normal, relaxed position, keeping them sharp and allowing silent stalking.\n",
              "*   The claws on the forefeet are typically sharper than those on the hindfeet.\n",
              "*   Cats can voluntarily extend their claws, such as in hunting, fighting, climbing, kneading, or for extra traction on soft surfaces.\n",
              "*   Cats shed the outside layer of their claw sheaths when scratching rough surfaces.\n",
              "*   Most cats have five claws on their front paws and four on their rear paws.\n",
              "*   The dewclaw is proximal to the other claws.\n",
              "*   A protrusion on the front paws inside the wrists appears to be a sixth \"finger,\" thought to be an antiskidding device used while jumping.\n",
              "*   Some cat breeds are prone to having extra digits (\"polydactyly\").\n",
              "*   The cat is digitigrade, walking on its toes.\n",
              "*   It uses a \"pacing\" gait that alternates both legs together on each side.\n",
              "*   It registers directly by placing each hind paw close to the track of the corresponding fore paw, minimizing noise and visible tracks.\n",
              "*   As it speeds up from walking to trotting, its gait changes to a \"diagonal\" gait.\n",
              "*   Cats are generally fond of perching in high places.\n",
              "*   A cat falling from up to 3 m (9.8 ft) can right itself and land on its paws.\n",
              "*   During a lofty fall, a cat reflexively twists and rights itself to land on its feet using its acute sense of balance and flexibility; this is known as the cat righting reflex.\n",
              "*   A cat always rights itself in the same way, and it has enough time in falls of at least 90 cm (3.0 ft).\n",
              "*   The cat family (Felidae) can pass down many colors and patterns to their offspring.\n",
              "*   The domestic cat genes MC1R and ASIP allow color variety in their coats.\n",
              "*   Cats have excellent night vision and can see at one sixth the light level required for human vision.\n",
              "*   Cat eyes have a tapetum lucidum, which reflects light back into the eye, increasing sensitivity to dim light.\n",
              "*   Large pupils are an adaptation to dim light.\n",
              "*   The domestic cat has slit pupils, which allow it to focus bright light without chromatic aberration.\n",
              "*   At low light, a cat's pupils expand to cover most of the exposed surface of its eyes.\n",
              "*   The domestic cat has rather poor color vision and only two types of cone cells (blue and yellowish green).\n",
              "*   Its ability to distinguish between red and green is limited.\n",
              "*   Cats have a nictitating membrane, allowing them to blink without hindering their vision.\n",
              "*   The domestic cat's hearing is most acute in the range of 500 Hz to 32 kHz.\n",
              "*   It can detect an extremely broad range of frequencies ranging from 55 Hz to 79 kHz.\n",
              "*   It can hear a range of 10.5 octaves, compared to about 9 octaves for humans and dogs.\n",
              "*   Its hearing sensitivity is enhanced by its large movable outer ears (pinnae).\n",
              "*   It can detect ultrasound, including ultrasonic calls from rodent prey.\n",
              "*   Cats have socio-spatial cognitive abilities to create mental maps of familiar people's locations based on hearing their voices.\n",
              "*   Cats have an acute sense of smell, due to their well-developed olfactory bulb and a large surface of olfactory mucosa (about 5.8 cm2).\n",
              "*   Cats and many other animals have a Jacobson's organ in their mouths that is used in flehmening to sense certain aromas in a way humans cannot.\n",
              "*   Cats are sensitive to pheromones such as 3-mercapto-3-methylbutan-1-ol, which they use to communicate through urine spraying and marking with scent glands.\n",
              "*   About 70–80% of cats are affected by nepetalactone (in catnip, silver vine, valerian).\n",
              "*   Cats have about 470 taste buds, compared to more than 9,000 on the human tongue.\n",
              "*   Domestic and wild cats share a taste receptor gene mutation that keeps their sweet taste buds from binding to sugary molecules, leaving them with no ability to taste sweetness.\n",
              "*   They do have taste bud receptors specialized for acids, amino acids (constituents of protein), and bitter tastes.\n",
              "*   Cats' taste buds possess the receptors needed to detect umami, detecting inosine monophosphate and histidine (particularly enriched in tuna).\n",
              "*   Cats distinctly prefer food temperature around 38 °C (100 °F), similar to a fresh kill.\n",
              "*   Some cats reject cold food, which would signal to the cat that the prey is long dead and therefore possibly toxic or decomposing.\n",
              "*   To aid with navigation and sensation, cats have dozens of movable whiskers (vibrissae) over their body, especially their faces.\n",
              "*   Whiskers provide information on the width of gaps and on the location of objects in the dark, by touching objects directly and by sensing air currents.\n",
              "*   They trigger protective blink reflexes to protect the eyes from damage.\n",
              "*   Outdoor cats are active both day and night, although they tend to be slightly more active at night.\n",
              "*   Domestic cats spend the majority of their time in the vicinity of their homes, but they can range a radius of many hundreds of meters.\n",
              "*   They establish territories that vary considerably in size, in one study ranging 7–28 ha (17–69 acres).\n",
              "*   Being low-light predators, they are generally crepuscular (more active near dawn and dusk).\n",
              "*   House cats' behavior is also influenced by human activity.\n",
              "*   Cats conserve energy by sleeping more than most animals, especially as they grow older.\n",
              "*   The daily duration of sleep varies, usually between 12 and 16 hours, with 13 to 14 being the average.\n",
              "*   Some cats can sleep as much as 20 hours.\n",
              "*   The term \"cat nap\" for a short rest refers to the cat's tendency to fall asleep (lightly) for a brief period.\n",
              "*   Short periods of rapid eye movement sleep are often accompanied by muscle twitches, suggesting dreaming.\n",
              "*   Behavioral and personality traits depend on a complex interplay between genetic and environmental factors.\n",
              "*   The social behavior of the domestic cat ranges from widely dispersed individuals to feral cat colonies that gather around a food source, based on groups of co-operating females.\n",
              "*   Within such groups, one cat is usually dominant over the others.\n",
              "*   Each cat in a colony holds a distinct territory, with sexually active males having the largest territories (about 10 times larger than females' and may overlap with several females' territories).\n",
              "*   These territories are marked by urine spraying, rubbing objects at head height with secretions from facial glands, and by defecation.\n",
              "*   Between these territories are neutral areas where cats watch and greet one another without territorial conflicts.\n",
              "*   Outside neutral areas, territory holders usually chase away stranger cats, initially by staring, hissing, and growling, and then by short and violent, noisy attacks.\n",
              "*   Although cats do not have a social survival strategy or herd behavior, they always hunt alone.\n",
              "*   Life in proximity to humans and other domestic animals has led to a symbiotic social adaptation in cats.\n",
              "*   Cats may express great affection toward humans or other animals.\n",
              "*   Ethologically, a cat's human keeper functions as a mother surrogate.\n",
              "*   Adult cats live in a type of extended kittenhood, a form of behavioral neoteny.\n",
              "*   Their high-pitched sounds may mimic the cries of a hungry human infant.\n",
              "*   Some pet cats are poorly socialized and older cats show aggressiveness toward newly arrived kittens.\n",
              "*   Redirected aggression is a common form of aggression in multiple cat households, where agitation towards one stimulus is directed at another cat, pet, or human.\n",
              "*   Domestic cats' scent rubbing behavior toward humans or other cats is thought to be a feline means of social bonding.\n",
              "*   Domestic cats use many vocalizations for communication, including purring, trilling, hissing, growling/snarling, grunting, and several different forms of meowing.\n",
              "*   Their body language, including position of ears and tail, relaxation of the whole body, and kneading of the paws, are all indicators of mood.\n",
              "*   The tail and ears are particularly important social signal mechanisms; a raised tail indicates a friendly greeting, and flattened ears indicate hostility.\n",
              "*   Tail-raising also indicates the cat's position in the group's social hierarchy, with dominant individuals raising their tails less often than subordinate ones.\n",
              "*   Feral cats are generally silent.\n",
              "*   Nose-to-nose touching is also a common greeting and may be followed by social grooming.\n",
              "*   Purring may have developed as an evolutionary advantage as a signaling mechanism of reassurance between mother cats and nursing kittens, and is thought to be a care-soliciting signal.\n",
              "*   Post-nursing cats also often purr as a sign of contentment.\n",
              "*   Purring has been recorded in a wide variety of circumstances, most of which involve physical contact between the cat and another, presumably trusted individual.\n",
              "*   Some cats purr continuously when chronically ill or in apparent pain.\n",
              "*   Purring is proposed to be generated via a series of sudden build-ups and releases of pressure as the glottis is opened and closed, causing the vocal folds to separate forcefully.\n",
              "*   The laryngeal muscles in control of the glottis are thought to be driven by a neural oscillator which generates a cycle of contraction and release every 30–40 milliseconds (frequency of 33 to 25 Hz).\n",
              "*   Domestic cats observed in rescue facilities have 276 morphologically distinct facial expressions based on 26 facial movements.\n",
              "*   Facial expressions have helped researchers detect pain in cats, using the feline grimace scale's five criteria: ear position, orbital tightening, muzzle tension, whisker change, and head position.\n",
              "*   Cats are known for spending considerable amounts of time licking their coats to keep them clean.\n",
              "*   The cat's tongue has backward-facing spines about 0.5 millimeter long, called lingual papillae, which contain keratin making them rigid and act like a hairbrush.\n",
              "*   Some cats, particularly long-haired cats, occasionally regurgitate sausage-shaped 2–3 cm (0.8–1.2 in) long hairballs of fur.\n",
              "*   Hairballs can be prevented with remedies that ease elimination of the hair through the gut, and regular grooming.\n",
              "*   Cat intelligence refers to a cat's ability to solve problems, adapt to its environment, learn new behaviors, and communicate its needs.\n",
              "*   A cat's brain contains around 250 million neurons in the cerebral cortex.\n",
              "*   Cats display neuroplasticity.\n",
              "*   They have well-developed memory retaining information for a decade or longer.\n",
              "*   These memories are often intertwined with emotions, allowing cats to recall both positive and negative experiences.\n",
              "*   While they excel in observational learning and problem-solving, studies conclude that they struggle with understanding cause-and-effect relationships in the same way that humans do.\n",
              "*   Cat intelligence study is mostly from consideration of the domesticated cat.\n",
              "*   Living in urban environments has exposed them to challenges that require adaptive behaviors, contributing to cognitive development.\n",
              "*   Selective breeding and genetic changes have further influenced their intelligence.\n",
              "*   Kittens learn essential survival skills by observing their mothers, while adult cats refine their abilities through trial and error.\n",
              "*   Domestic cats, especially young kittens, are known for their love of play.\n",
              "*   This behavior mimics hunting and is important in helping kittens learn to stalk, capture, and kill prey.\n",
              "*   Cats also engage in play fighting, both with each other and with humans.\n",
              "*   Cats tend to play with toys more when they are hungry.\n",
              "*   Cats prefer to play with objects that resemble prey, such as small furry toys that move rapidly.\n",
              "*   They become habituated to a toy they have played with before.\n",
              "*   String is often used as a toy, but if eaten, it can cause a medical emergency.\n",
              "*   The shape and structure of cats' cheeks is insufficient to allow them to take in liquids using suction.\n",
              "*   Lapping at a rate of four times a second, the cat touches the smooth tip of its tongue to the surface of the water, and quickly retracts it like a corkscrew, drawing water upward into their mouths.\n",
              "*   Feral cats and free-fed house cats consume several small meals in a day.\n",
              "*   They select food based on its temperature, smell, and texture; they dislike chilled foods and respond most strongly to moist foods rich in amino acids.\n",
              "*   Cats reject novel flavors (neophobia) and learn quickly to avoid foods that have tasted unpleasant.\n",
              "*   Most adult cats are lactose intolerant.\n",
              "*   Some develop pica, eating or chewing on things such as wool, plastic, cables, paper, string, aluminum foil, or even coal.\n",
              "*   Cats hunt small prey, primarily birds and rodents, and are often used as a form of pest control.\n",
              "*   Other common small creatures, such as lizards and snakes, may also become prey.\n",
              "*   Cats use two hunting strategies: stalking prey actively, or waiting in ambush.\n",
              "*   Domestic cats are a major predator of wildlife in the United States, killing an estimated 1.3 to 4.0 billion birds and 6.3 to 22.3 billion mammals annually.\n",
              "*   In the recovery of ringed robins and dunnocks in Britain, 31% of deaths were a result of cat predation.\n",
              "*   The presentation of prey to human guardians is a poorly understood element of cat hunting behavior.\n",
              "*   Domestic males are more likely to fight than females.\n",
              "*   The most common reason for feral cat fighting is competition between two males to mate with a female, and most fights are won by the heavier male.\n",
              "*   Another common reason for fighting in domestic cats is the difficulty of establishing territories within a small home.\n",
              "*   Female cats also fight over territory or to defend their kittens.\n",
              "*   Neutering decreases or eliminates fighting behavior in many cases, suggesting a link to sex hormones.\n",
              "*   When cats become aggressive, they try to appear larger and more threatening by raising their fur, arching their backs, turning sideways, hissing, or spitting.\n",
              "*   Often, the ears are pointed down and back to avoid damage and listen for changes.\n",
              "*   Cats may also vocalize loudly and bare their teeth.\n",
              "*   Fights usually consist of grappling, slapping the face and body with the forepaws, and bites.\n",
              "*   Cats throw themselves to the ground in a defensive posture to rake their opponent's belly with their hind legs.\n",
              "*   Serious damage from fights is rare, usually limited to infections from scratches and bites.\n",
              "*   Bites are probably the main route of transmission of the feline immunodeficiency virus.\n",
              "*   Sexually active males are usually involved in many fights and have battered faces.\n",
              "*   Cats are willing to threaten animals larger than them to defend their territory, such as dogs and foxes.\n",
              "*   The cat secretes and perceives pheromones.\n",
              "*   Female cats, called queens, are polyestrous with several estrus cycles during a year, lasting usually 21 days.\n",
              "*   They are usually ready to mate between early February and August in northern temperate zones and throughout the year in equatorial regions.\n",
              "*   Several males, called tomcats, are attracted to a female in heat and fight over her.\n",
              "*   A male cat's penis has a band of about 120–150 backward-pointing penile spines, which are about 1 mm (0.04 in) long, inducing ovulation upon withdrawal.\n",
              "*   After mating, the female cleans her vulva thoroughly and attacks males attempting to mate shortly after.\n",
              "*   Cats are superfecund; a female may mate with more than one male, resulting in different kittens in a litter having different fathers.\n",
              "*   The morula forms 124 hours after conception.\n",
              "*   At 148 hours, early blastocysts form.\n",
              "*   At 10–12 days, implantation occurs.\n",
              "*   The gestation of queens lasts between 64 and 67 days, with an average of 65 days.\n",
              "*   A study of 2,300 free-ranging queens found they had one to six kittens per litter, with an average of three kittens.\n",
              "*   They produced a mean of 1.4 litters per year, but a maximum of three litters in a year.\n",
              "*   Of 169 kittens, 127 died before they were six months old due to trauma (dog attacks and road accidents).\n",
              "*   The first litter is usually smaller than subsequent litters.\n",
              "*   Kittens are weaned between six and seven weeks of age.\n",
              "*   Queens normally reach sexual maturity at 5–10 months, and males at 5–7 months, varying by breed.\n",
              "*   Kittens reach puberty at the age of 9–10 months.\n",
              "*   Cats are ready to go to new homes at about 12 weeks of age, when they are ready to leave their mother.\n",
              "*   They can be surgically sterilized (spayed or castrated) as early as seven weeks to limit unwanted reproduction.\n",
              "*   This surgery also prevents undesirable sex-related behavior, such as aggression, territory marking (spraying urine) in males, and yowling (calling) in females.\n",
              "*   Traditionally, this surgery was performed at around six to nine months of age, but is increasingly performed before puberty, at about three to six months.\n",
              "*   In the United States, about 80% of household cats are neutered.\n",
              "*   The average lifespan of pet cats has risen in recent decades: about 7 years in the early 1980s, 9.4 years in 1995, and an average of about 13 years as of 2014 and 2023.\n",
              "*   Neutering increases life expectancy; castrated male cats live twice as long as intact males, while spayed female cats live 62% longer than intact females.\n",
              "*   Neutering confers some health benefits, such as a greater life expectancy and a decreased incidence of reproductive neoplasia.\n",
              "*   However, neutering decreases metabolism and increases food intake, both of which can cause obesity.\n",
              "*   About 250 heritable genetic disorders have been identified in cats; many are similar to human inborn errors of metabolism.\n",
              "*   The high level of similarity among the metabolism of mammals allows many feline diseases to be diagnosed using genetic tests developed for humans.\n",
              "*   Cats can be used as animal models in the study of human diseases.\n",
              "*   Diseases affecting domestic cats include acute infections, parasitic infestations, injuries, and chronic diseases such as kidney disease, thyroid disease, and arthritis.\n",
              "*   Vaccinations are available for many infectious diseases, as are treatments to eliminate parasites.\n",
              "*   The domestic cat is a cosmopolitan species and occurs across much of the world.\n",
              "*   It is adaptable and now present on all continents except Antarctica, and on 118 of the 131 main groups of islands.\n",
              "*   Due to its ability to thrive in almost any terrestrial habitat, it is among the world's most invasive species.\n",
              "*   It lives on small islands with no human inhabitants.\n",
              "*   Feral cats can live in forests, grasslands, tundra, coastal areas, agricultural land, scrublands, urban areas, and wetlands.\n",
              "*   It can readily interbreed with the wildcat, posing a danger to the genetic distinctiveness of some wildcat populations (e.g., Scotland, Hungary, Iberian Peninsula).\n",
              "*   Its introduction to places where no native felines are present also contributes to the decline of native species.\n",
              "*   Feral cats are domestic cats that were born in or have reverted to a wild state.\n",
              "*   They are unfamiliar with and wary of humans and roam freely in urban and rural areas.\n",
              "*   Estimates of the United States feral population range from 25 to 60 million.\n",
              "*   Feral cats may live alone, but most are in large colonies, occupying a specific territory and usually associated with a source of food.\n",
              "*   Famous feral cat colonies are in Rome around the Colosseum and Forum Romanum.\n",
              "*   On islands, birds can contribute as much as 60% of a cat's diet.\n",
              "*   Domestic cats are a contributing factor to the decline of several species, leading to extinction in some cases (e.g., South Island piopio, Chatham rail, New Zealand merganser, Lyall's wren).\n",
              "*   One feral cat in New Zealand killed 102 New Zealand lesser short-tailed bats in seven days.\n",
              "*   In Australia, one study found feral cats to kill 466 million reptiles per year.\n",
              "*   More than 258 reptile species were identified as being predated by cats.\n",
              "*   Cats have contributed to the extinction of the Navassa curly-tailed lizard and Chioninia coctei.\n",
              "*   Cats are common pets throughout the world, and their worldwide population as of 2007 exceeded 500 million.\n",
              "*   As of 2024, the domestic cat was the second most popular pet in the United States, with 73.8 million cats owned and around 42.2 million households owning at least one cat.\n",
              "*   In the United Kingdom, 26% of adults have a cat, with an estimated population of 10.9 million pet cats as of 2020.\n",
              "*   As of 2021, there were an estimated 220 million owned and 480 million stray cats in the world.\n",
              "*   Cats have been used for millennia to control rodents, notably around grain stores and aboard ships.\n",
              "*   Cats are also used in the international fur trade and leather industries for making coats, hats, blankets, stuffed toys, shoes, gloves, and musical instruments.\n",
              "*   About 24 cats are needed to make a cat-fur coat.\n",
              "*   This use has been outlawed in the United States since 2000 and in the European Union (as well as the United Kingdom) since 2007.\n",
              "*   Cat pelts have been used for superstitious purposes as part of the practice of witchcraft, and are still made into blankets in Switzerland as traditional medicines.\n",
              "*   General estimates for the global population of domestic cats range widely from anywhere between 200 million to 600 million.\n",
              "*   Walter Chandoha made his career photographing cats after his 1949 images of Loco, a stray cat, were published.\n",
              "*   He is reported to have photographed 90,000 cats during his career and maintained an archive of 225,000 images.\n",
              "*   Pet humanization is a form of anthropomorphism in which cats are kept for companionship and treated more like human family members.\n",
              "*   A cat show is a judged event in which the owners of cats compete to win titles in various cat-registering organizations by entering their cats to be judged after a breed standard.\n",
              "*   It is often required that a cat must be healthy and vaccinated to participate in a cat show.\n",
              "*   Both pedigreed and non-purebred companion (\"moggy\") cats are admissible.\n",
              "*   Competing cats are compared to the applicable breed standard, and assessed for temperament.\n",
              "*   Cats can be infected or infested with viruses, bacteria, fungus, protozoans, arthropods, or worms that can transmit diseases to humans.\n",
              "*   The likelihood that a person will become diseased depends on the age and immune status of the person.\n",
              "*   Humans who have cats living in their home or in close association are more likely to become infected.\n",
              "*   Others might also acquire infections from cat feces and parasites exiting the cat's body.\n",
              "*   Some of the infections of most concern include salmonella, cat-scratch disease, and toxoplasmosis.\n",
              "*   In ancient Egypt, cats were revered, and the goddess Bastet often depicted in cat form.\n",
              "*   The Greek historian Herodotus reported that killing a cat was forbidden, and when a household cat died, the entire family mourned and shaved their eyebrows.\n",
              "*   Families took their dead cats to the sacred city of Bubastis, where they were embalmed and buried.\n",
              "*   Ancient Greeks and Romans kept weasels as pets, which were seen as the ideal rodent-killers.\n",
              "*   The earliest unmistakable evidence of the Greeks having domestic cats comes from two coins from Magna Graecia dating to the mid-fifth century BC.\n",
              "*   The usual ancient Greek word for 'cat' was ailouros, meaning 'thing with the waving tail'.\n",
              "*   Cats are rarely mentioned in ancient Greek literature.\n",
              "*   Aristotle remarked in his History of Animals that \"female cats are naturally lecherous\".\n",
              "*   The Greeks later syncretized their own goddess Artemis with the Egyptian goddess Bastet, adopting Bastet's associations with cats.\n",
              "*   In Ovid's Metamorphoses, when the deities flee to Egypt and take animal forms, the goddess Diana turns into a cat.\n",
              "*   Cats eventually displaced weasels as the pest control of choice.\n",
              "*   During the Middle Ages, many of Artemis's associations with cats were grafted onto the Virgin Mary.\n",
              "*   Cats are often shown in icons of Annunciation and of the Holy Family.\n",
              "*   According to Italian folklore, on the same night that Mary gave birth to Jesus, a cat in Bethlehem gave birth to a kitten.\n",
              "*   Domestic cats were spread throughout much of the rest of the world during the Age of Discovery, as ships' cats were carried on sailing ships to control shipboard rodents and as good-luck charms.\n",
              "*   Several ancient religions believed cats are exalted souls, companions or guides for humans, that are all-knowing but mute.\n",
              "*   In Japan, the maneki neko cat is a symbol of good fortune.\n",
              "*   In Norse mythology, Freyja, the goddess of love, beauty, and fertility, is depicted as riding a chariot drawn by cats.\n",
              "*   In Jewish legend, the first cat was living in the house of the first man Adam as a pet that got rid of mice.\n",
              "*   Although no species are sacred in Islam, cats are revered by Muslims.\n",
              "*   One of the companions of Muhammad was known as Abu Hurayrah (\"father of the kitten\"), in reference to his documented affection to cats.\n",
              "*   Many cultures have negative superstitions about cats.\n",
              "*   For example, that encountering a black cat (\"crossing one's path\") leads to bad luck, or that cats are witches' familiar spirits.\n",
              "*   The killing of cats in medieval Ypres, Belgium, is commemorated in the present-day Kattenstoet (cat parade).\n",
              "*   In mid-16th century France, cats were allegedly burnt alive as a form of entertainment, particularly during midsummer festivals.\n",
              "*   According to a myth in many cultures, cats have multiple lives.\n",
              "*   In many countries, they are believed to have nine lives, but in Italy, Germany, Greece, Brazil, and some Spanish-speaking regions, they are said to have seven lives, while in Arabic traditions, the number of lives is six.\n",
              "*   An early mention of the myth is in John Heywood's The Proverbs of John Heywood (1546).\n",
              "*   The myth is attributed to the natural suppleness and swiftness cats exhibit to escape life-threatening situations.\n",
              "*   Falling cats often land on their feet, using an instinctive righting reflex.\n",
              "\n",
              "Based on:\n",
              "  https://en.wikipedia.org/wiki/Cat"
            ],
            "text/plain": [
              "<IPython.core.display.Markdown object>"
            ]
          },
          "metadata": {},
          "output_type": "display_data"
        },
        {
          "data": {
            "text/markdown": [
              "Here's the relevant information about \"cat\" from the source:\n",
              "\n",
              "*   Schrödinger's cat is a hypothetical cat in a closed box.\n",
              "*   The cat may be considered to be simultaneously both alive and dead while it is unobserved.\n",
              "*   Its fate is linked to a random subatomic event that may or may not occur.\n",
              "*   In Schrödinger's original formulation, a cat, a flask of poison, and a radioactive source are placed in a sealed box.\n",
              "*   If an internal radiation monitor detects radioactivity, the flask is shattered, releasing the poison, which kills the cat.\n",
              "*   If no decaying atom triggers the monitor, the cat remains alive.\n",
              "*   The Copenhagen interpretation implies that the cat is therefore simultaneously alive and dead.\n",
              "*   When one looks in the box, one sees the cat either alive or dead, not both.\n",
              "*   The experiment is not intended to be actually performed on a cat.\n",
              "*   Superposing an object as large as a cat would pose considerable technical difficulties.\n",
              "*   The Schrödinger's cat experiment asks how long quantum superpositions last and when (or whether) they collapse, referring to the cat's state.\n",
              "*   Schrödinger proposed a scenario with a cat in a closed steel chamber, wherein the cat's life or death depended on the state of a radioactive atom.\n",
              "*   According to Schrödinger, the Copenhagen interpretation implies that the cat remains both alive and dead until the state has been observed.\n",
              "*   Schrödinger did not wish to promote the idea of dead-and-live cats as a serious possibility; he intended the example to illustrate the absurdity of the existing view of quantum mechanics.\n",
              "*   The wave function of the entire system would express this by having in it the living and dead cat mixed or spread out in equal parts.\n",
              "*   The reality of the cat mixes the living and dead cat.\n",
              "*   Nobody really doubts that the presence or absence of the cat is something independent of the act of observation.\n",
              "*   Schrodinger's hypothetical cat experiment describes the measurement problem: quantum theory describes the cat system as a combination of two possible outcomes but only one outcome is ever observed.\n",
              "*   Our intuition says that the cat cannot be in more than one state simultaneously.\n",
              "*   In the Copenhagen interpretation, the wavefunction description of the system consists of a superposition of the states \"decayed nucleus/dead cat\" and \"undecayed nucleus/living cat\".\n",
              "*   Only when the box is opened and observed can we make a statement about the cat.\n",
              "*   Eugene Wigner asserted that an observer is necessary for a collapse to one or the other (e.g., either a live cat or a dead cat) of the terms on the right-hand side of a wave function.\n",
              "*   Wigner supposed that a friend opened the box and observed the cat without telling anyone.\n",
              "*   A resolution of the paradox is that the triggering of the Geiger counter counts as a measurement of the state of the radioactive substance, deciding the state of the cat.\n",
              "*   Bohr viewed the state of the cat before the box is opened as indeterminate.\n",
              "*   Schrödinger's cat would be either dead or alive long before the box is opened but the cat and box form an inseparable combination.\n",
              "*   In the many-worlds interpretation, both alive and dead states of the cat persist after the box is opened.\n",
              "*   When the box is opened, the observer and the possibly-dead cat split into an observer looking at a box with a dead cat and an observer looking at a box with a live cat.\n",
              "*   When opening the box, the observer becomes entangled with the cat.\n",
              "*   A variant of the Schrödinger's cat experiment, known as the quantum suicide machine, has been proposed by cosmologist Max Tegmark. It examines the Schrödinger's cat experiment from the point of view of the cat.\n",
              "*   The ensemble interpretation states that the state vector would not apply to individual cat experiments, but only to the statistics of many similarly prepared cat experiments.\n",
              "*   In the relational interpretation, the cat can be considered an observer of the apparatus.\n",
              "*   To the cat, the wavefunction of the apparatus has appeared to \"collapse\".\n",
              "*   In the transactional interpretation, the cat is never in superposition. Rather the cat is only in one state at any particular time.\n",
              "*   According to objective collapse theories, the cat would be expected to have settled into a definite state long before the box is opened.\n",
              "*   \"The cat observes itself\" or \"the environment observes the cat\".\n",
              "*   Experiments involving similar principles, e.g. superpositions of relatively large objects, have been performed, pushing the upper limit on \"cat states\".\n",
              "*   In quantum computing the phrase \"cat state\" sometimes refers to the GHZ state, wherein several qubits are in an equal superposition of all being 0 and all being 1.\n",
              "*   It may be possible to determine the state of the cat before observing it.\n",
              "*   Studies involving interpretations of quantum mechanics are related to the Schrödinger's cat paradox.\n",
              "\n",
              "Based on:\n",
              "  https://en.wikipedia.org/wiki/Schr%C3%B6dinger%27s_cat"
            ],
            "text/plain": [
              "<IPython.core.display.Markdown object>"
            ]
          },
          "metadata": {},
          "output_type": "display_data"
        }
      ],
      "source": [
        "if fc.name == \"wikipedia_search\":\n",
        "    summaries = wikipedia_search(**fc.args)\n",
        "    display(Markdown(\"\\n ### Function execution result:\"))\n",
        "    for text in summaries:\n",
        "        display(Markdown(text))"
      ]
    },
    {
      "cell_type": "markdown",
      "metadata": {
        "id": "kv4WGnG_gT3F"
      },
      "source": [
        "Now send the `summaries` to the model."
      ]
    },
    {
      "cell_type": "code",
      "execution_count": 18,
      "metadata": {
        "id": "bcLuieHqj9PW"
      },
      "outputs": [
        {
          "data": {
            "text/markdown": [
              "Dogs and cats, though both domesticated carnivorous mammals, exhibit significant differences in their characteristics.\n",
              "\n",
              "**Domestication and Ancestry:**\n",
              "*   **Dogs:** Descended from the gray wolf, dogs were domesticated over 14,000 years ago by hunter-gatherers, even before the development of agriculture. They are the first species to be domesticated by humans.\n",
              "*   **Cats:** Domesticated in the Near East around 7500 BC, the domestic cat is the only domesticated species of the family Felidae. Their wild ancestor is thought to be the African wildcat.\n",
              "\n",
              "**Physical Characteristics:**\n",
              "*   **Dogs:** Show wide variation in shape, size, and color across breeds. They have powerful jaws with around 42 teeth and typically have 26 vertebrae in their tails, though some breeds have naturally short tails. Their skeletons are well-adapted for running.\n",
              "*   **Cats:** Average about 46 cm (18 in) in head-to-body length and 23–25 cm (9.1–9.8 in) in height. They have retractable claws, very large eye sockets, and specialized jaws with two long canine teeth for killing prey. Most cats have five claws on their front paws and four on their rear paws.\n",
              "\n",
              "**Senses:**\n",
              "*   **Dogs:** Possess a superior sense of smell and hearing compared to humans, but inferior visual acuity. Their vision is dichromatic, meaning they see in yellows, blues, and grays, with difficulty differentiating between red and green. They can detect sounds from about 400m.\n",
              "*   **Cats:** Have excellent night vision, requiring only one-sixth the light level humans need. Their hearing is extremely acute, ranging from 55 Hz to 79 kHz, and they can detect ultrasound. They have an acute sense of smell due to a well-developed olfactory bulb. Cats have about 470 taste buds and cannot taste sweetness.\n",
              "\n",
              "**Diet and Hunting:**\n",
              "*   **Dogs:** Are typically described as omnivores and have adapted to a starch-rich diet, unlike other canids. They use their carnassial teeth to shear meat.\n",
              "*   **Cats:** Are carnivorous mammals and are solitary hunters, primarily preying on birds and rodents. Their narrowly spaced canine teeth are an adaptation for their preferred small rodent prey. Cats are largely incapable of mastication.\n",
              "\n",
              "**Behavior and Intelligence:**\n",
              "*   **Dogs:** Have uniquely adapted to human behavior, understanding and communicating with humans. They have about twice the number of neurons in their cerebral cortexes compared to cats, suggesting higher intelligence. They can be trained for various roles like hunting, herding, and assistance.\n",
              "*   **Cats:** Exhibit intelligence through their ability to adapt, learn through observation, and solve problems. They possess strong memories and display cognitive skills comparable to a young child. They are generally crepuscular predators.\n",
              "\n",
              "**Communication:**\n",
              "*   **Dogs:** Communicate through eye gaze, facial expressions, vocalizations, body posture, and gustatory communication (scents, pheromones, and taste). They mark territories by urinating.\n",
              "*   **Cats:** Use various vocalizations like meowing, purring, trilling, hissing, growling, and body language, including ear and tail positions. They secrete and perceive pheromones and use urine spraying and rubbing to mark territories.\n",
              "\n",
              "**Lifespan and Health:**\n",
              "*   **Dogs:** Median longevity is approximately 12.7 years, with purebred dogs generally living longer than crossbred dogs. Obesity negatively correlates with longevity. They are susceptible to numerous disorders, and are a significant vector for rabies.\n",
              "*   **Cats:** Average lifespan for pet cats is about 13 years. Neutering increases life expectancy and reduces the incidence of reproductive neoplasia. They can be infected with various pathogens and parasites, some of which can transmit diseases to humans.\n",
              "\n",
              "**Social Aspects:**\n",
              "*   **Dogs:** Are highly social and form strong bonds with humans, earning the sobriquet \"man's best friend.\" They are the most popular pet in the United States.\n",
              "*   **Cats:** Can be social but are solitary hunters. They may form colonies around food sources and show affection towards humans. Pet humanization is common, with cats treated as family members.\n",
              "\n",
              "This information provides a general overview, and specific characteristics can vary greatly between individual animals and breeds."
            ],
            "text/plain": [
              "<IPython.core.display.Markdown object>"
            ]
          },
          "metadata": {},
          "output_type": "display_data"
        }
      ],
      "source": [
        "# Create a function response part\n",
        "function_response_part = types.Part.from_function_response(\n",
        "    name=fc.name,\n",
        "    response={\"result\": summaries},\n",
        ")\n",
        "\n",
        "response = chat.send_message(function_response_part)\n",
        "\n",
        "display(Markdown(response.text))"
      ]
    },
    {
      "cell_type": "markdown",
      "metadata": {
        "id": "L2Vfv8xpmuV1"
      },
      "source": [
        "## Re-ranking the search results"
      ]
    },
    {
      "cell_type": "markdown",
      "metadata": {
        "id": "cQ3JUJLeGGzA"
      },
      "source": [
        "Helper function to embed the content:"
      ]
    },
    {
      "cell_type": "code",
      "execution_count": 19,
      "metadata": {
        "cellView": "form",
        "id": "mSkE7EynJBwF"
      },
      "outputs": [],
      "source": [
        "# @title Helper function to embed the content\n",
        "from tqdm.auto import tqdm\n",
        "from google.genai import types\n",
        "\n",
        "tqdm.pandas()\n",
        "\n",
        "from google.api_core import retry\n",
        "import numpy as np\n",
        "\n",
        "def make_embed_text_fn(model):\n",
        "\n",
        "    @retry.Retry(timeout=300.0)\n",
        "    def embed_fn(texts: list[str]) -> list[list[float]]:\n",
        "        # Set the task_type to SEMANTIC_SIMILARITY and embed the batch of texts\n",
        "        embeddings = client.models.embed_content(\n",
        "            model=model,\n",
        "            contents=texts,\n",
        "            config=types.EmbedContentConfig(task_type=\"SEMANTIC_SIMILARITY\"),\n",
        "        ).embeddings\n",
        "        return np.array([embedding.values for embedding in embeddings])\n",
        "\n",
        "    return embed_fn\n",
        "\n",
        "\n",
        "def create_embeddings(content: list[str]) -> np.ndarray:\n",
        "    MODEL_ID = \"embedding-001\" # @param [\"embedding-001\", \"text-embedding-004\",\"gemini-embedding-exp-03-07\"] {\"allow-input\":true, isTemplate: true}\n",
        "    model = f\"models/{MODEL_ID}\"\n",
        "    embed_fn = make_embed_text_fn(model)\n",
        "\n",
        "    batch_size = 100  # at most 100 requests can be in one batch\n",
        "    all_embeddings = []\n",
        "\n",
        "    # Loop over the texts in chunks of batch_size\n",
        "    for i in tqdm(range(0, len(content), batch_size)):\n",
        "        batch = content[i:i + batch_size]\n",
        "        embeddings = embed_fn(batch)\n",
        "        all_embeddings.extend(embeddings)\n",
        "\n",
        "    return np.array(all_embeddings).reshape(len(all_embeddings), -1)"
      ]
    },
    {
      "cell_type": "markdown",
      "metadata": {
        "id": "tip8ArqJf_ep"
      },
      "source": [
        "Please refer to the [embeddings guide](https://ai.google.dev/docs/embeddings_guide) for more information on embeddings."
      ]
    },
    {
      "cell_type": "markdown",
      "metadata": {
        "id": "nSPyycFuFj-_"
      },
      "source": [
        "Your next step is to define functions that you can use to calculate similarity scores between two embedding vectors. These scores will help you decide which embedding vector is the most relevant vector to the user's query.\n"
      ]
    },
    {
      "cell_type": "markdown",
      "metadata": {
        "id": "ltbB0vDsKQtI"
      },
      "source": [
        "You will now implement cosine similarity as your metric. Here returned embedding vectors will be of unit length and so their L1 norm (`np.linalg.norm()`) will be ~1. Hence, calculating cosine similarity is esentially same as calculating their dot product score."
      ]
    },
    {
      "cell_type": "code",
      "execution_count": 20,
      "metadata": {
        "id": "9iDFdzq_JWJW"
      },
      "outputs": [],
      "source": [
        "def dot_product(a: np.ndarray, b: np.ndarray):\n",
        "  return (a @ b.T)"
      ]
    },
    {
      "cell_type": "markdown",
      "metadata": {
        "id": "MrF_1c_M_Hw3"
      },
      "source": [
        "### Similarity with user's query\n",
        "\n",
        "Now it's time to find the most relevant search result returned by the Wikipedia API.\n",
        "\n",
        "Use Gemini API to get embeddings for user's query and search results."
      ]
    },
    {
      "cell_type": "code",
      "execution_count": 21,
      "metadata": {
        "id": "gK9ryjftGDNe"
      },
      "outputs": [
        {
          "data": {
            "application/vnd.jupyter.widget-view+json": {
              "model_id": "690432bc870c48da9a257bfbd5802d5a",
              "version_major": 2,
              "version_minor": 0
            },
            "text/plain": [
              "  0%|          | 0/1 [00:00<?, ?it/s]"
            ]
          },
          "metadata": {},
          "output_type": "display_data"
        },
        {
          "data": {
            "application/vnd.jupyter.widget-view+json": {
              "model_id": "c45bc7d08a74424e9bc9bc126b37dc26",
              "version_major": 2,
              "version_minor": 0
            },
            "text/plain": [
              "  0%|          | 0/1 [00:00<?, ?it/s]"
            ]
          },
          "metadata": {},
          "output_type": "display_data"
        }
      ],
      "source": [
        "search_res = create_embeddings(summaries)\n",
        "embedded_query = create_embeddings([query])"
      ]
    },
    {
      "cell_type": "markdown",
      "metadata": {
        "id": "2wwWq30uGRG3"
      },
      "source": [
        "Calculate similarity score:"
      ]
    },
    {
      "cell_type": "code",
      "execution_count": 22,
      "metadata": {
        "id": "jWlFNYIsGV0X"
      },
      "outputs": [
        {
          "data": {
            "text/plain": [
              "array([[0.66220313],\n",
              "       [0.65549758],\n",
              "       [0.61322208]])"
            ]
          },
          "execution_count": 22,
          "metadata": {},
          "output_type": "execute_result"
        }
      ],
      "source": [
        "sim_value = dot_product(search_res, embedded_query)\n",
        "sim_value"
      ]
    },
    {
      "cell_type": "markdown",
      "metadata": {
        "id": "bJW1pQQXG2w2"
      },
      "source": [
        "using `np.argmax` best candidate is selected.\n",
        "\n",
        "**User's Input:** Compare dog and cat characteristics.\n",
        "\n",
        "**Answer:**"
      ]
    },
    {
      "cell_type": "code",
      "execution_count": 23,
      "metadata": {
        "id": "8vDMDnCsG8Wn"
      },
      "outputs": [
        {
          "data": {
            "text/markdown": [
              "The dog (Canis familiaris or Canis lupus familiaris) is a domesticated descendant of the gray wolf.\n",
              "Also called the domestic dog, it was selectively bred from an extinct population of wolves during the Late Pleistocene by hunter-gatherers.\n",
              "The dog was the first species to be domesticated by humans, over 14,000 years ago and before the development of agriculture.\n",
              "Due to their long association with humans, dogs have gained the ability to thrive on a starch-rich diet that would be inadequate for other canids.\n",
              "Dogs have been bred for desired behaviors, sensory capabilities, and physical attributes.\n",
              "Dog breeds vary widely in shape, size, and color.\n",
              "They have the same number of bones (with the exception of the tail), powerful jaws that house around 42 teeth, and well-developed senses of smell, hearing, and sight.\n",
              "Compared to humans, dogs possess a superior sense of smell and hearing, but inferior visual acuity.\n",
              "Dogs perform many roles for humans, such as hunting, herding, pulling loads, protection, companionship, therapy, aiding disabled people, and assisting police and the military.\n",
              "Communication in dogs includes eye gaze, facial expression, vocalization, body posture (including movements of bodies and limbs), and gustatory communication (scents, pheromones, and taste).\n",
              "They mark their territories by urinating on them, which is more likely when entering a new environment.\n",
              "Over the millennia, dogs have uniquely adapted to human behavior; this adaptation includes being able to understand and communicate with humans.\n",
              "As such, the human–canine bond has been a topic of frequent study, and dogs' influence on human society has given them the sobriquet of \"man's best friend\".\n",
              "The global dog population is estimated at 700 million to 1 billion, distributed around the world.\n",
              "The dog is the most popular pet in the United States, present in 34–40% of households.\n",
              "Developed countries make up approximately 20% of the global dog population, while around 75% of dogs are estimated to be from developing countries, mainly in the form of feral and community dogs.\n",
              "Dogs are domesticated members of the family Canidae.\n",
              "They are classified as a subspecies of Canis lupus, along with wolves and dingoes.\n",
              "Dogs were domesticated from wolves over 14,000 years ago by hunter-gatherers, before the development of agriculture.\n",
              "The remains of the Bonn–Oberkassel dog, buried alongside humans between 14,000 and 15,000 years ago, are the earliest to be conclusively identified as a domesticated dog.\n",
              "Genetic studies show that dogs likely diverged from wolves between 27,000 and 40,000 years ago.\n",
              "The dingo and the related New Guinea singing dog resulted from the geographic isolation and feralization of dogs in Oceania over 8,000 years ago.\n",
              "Dogs, wolves, and dingoes have sometimes been classified as separate species.\n",
              "In 1758, the Swedish botanist and zoologist Carl Linnaeus assigned the genus name Canis (which is the Latin word for \"dog\") to the domestic dog, the wolf, and the golden jackal in his book, Systema Naturae.\n",
              "He classified the domestic dog as Canis familiaris.\n",
              "Linnaeus considered the dog to be a separate species from the wolf because of its upturning tail (cauda recurvata in Latin term), which is not found in any other canid.\n",
              "In the 2005 edition of Mammal Species of the World, mammalogist W. Christopher Wozencraft listed the wolf as a wild subspecies of Canis lupus and proposed two additional subspecies: familiaris, as named by Linnaeus in 1758, and dingo, named by Meyer in 1793.\n",
              "Wozencraft included hallstromi (the New Guinea singing dog) as another name (junior synonym) for the dingo.\n",
              "The earliest remains generally accepted to be those of a domesticated dog were discovered in Bonn-Oberkassel, Germany.\n",
              "Contextual, isotopic, genetic, and morphological evidence shows that this dog was not a local wolf.\n",
              "The dog was dated to 14,223 years ago and was found buried along with a man and a woman, all three having been sprayed with red hematite powder and buried under large, thick basalt blocks.\n",
              "The dog had died of canine distemper.\n",
              "This timing indicates that the dog was the first species to be domesticated in the time of hunter-gatherers, which predates agriculture.\n",
              "DNA sequences show that all ancient and modern dogs share a common ancestry and descended from an ancient, extinct wolf population that was distinct from any modern wolf lineage.\n",
              "The dog is a domestic animal that likely travelled a commensal pathway into domestication (i.e. humans initially neither benefitted nor were harmed by wild dogs eating refuse from their camps).\n",
              "In 2021, a literature review of the current evidence infers that the dog was domesticated in Siberia 23,000 years ago by ancient North Siberians, then later dispersed eastward into the Americas and westward across Eurasia, with dogs likely accompanying the first humans to inhabit the Americas.\n",
              "In 2018, a study identified 429 genes that differed between modern dogs and modern wolves.\n",
              "As the differences in these genes could also be found in ancient dog fossils, these were regarded as being the result of the initial domestication and not from recent breed formation.\n",
              "These genes are linked to neural crest and central nervous system development.\n",
              "These genes affect embryogenesis and can confer tameness, smaller jaws, floppy ears, and diminished craniofacial development, which distinguish domesticated dogs from wolves and are considered to reflect domestication syndrome.\n",
              "The study concluded that during early dog domestication, the initial selection was for behavior.\n",
              "This trait is influenced by those genes which act in the neural crest, which led to the phenotypes observed in modern dogs.\n",
              "There are around 450 official dog breeds, the most of any mammal.\n",
              "Dogs began diversifying in the Victorian era, when humans took control of their natural selection.\n",
              "Most breeds were derived from small numbers of founders within the last 200 years.\n",
              "Since then, dogs have undergone rapid phenotypic change and have been subjected to artificial selection by humans.\n",
              "The skull, body, and limb proportions between breeds display more phenotypic diversity than can be found within the entire order of carnivores.\n",
              "These breeds possess distinct traits related to morphology, which include body size, skull shape, tail phenotype, fur type, and colour.\n",
              "As such, humans have long used dogs for their desirable traits to complete or fulfill a certain work or role.\n",
              "Their behavioural traits include guarding, herding, hunting, retrieving, and scent detection.\n",
              "Their personality traits include hypersocial behavior, boldness, and aggression.\n",
              "Present-day dogs are dispersed around the world.\n",
              "Dogs are extremely variable in size, ranging from one of the largest breeds, the Great Dane, at 50 to 79 kg (110 to 174 lb) and 71 to 81 cm (28 to 32 in), to one of the smallest, the Chihuahua, at 0.5 to 3 kg (1.1 to 6.6 lb) and 13 to 20 cm (5.1 to 7.9 in).\n",
              "All healthy dogs, regardless of their size and type, have the same amount of bones (with the exception of the tail), although there is significant skeletal variation between dogs of different types.\n",
              "The dog's skeleton is well adapted for running; the vertebrae on the neck and back have extensions for back muscles, consisting of epaxial muscles and hypaxial muscles, to connect to; the long ribs provide room for the heart and lungs; and the shoulders are unattached to the skeleton, allowing for flexibility.\n",
              "Compared to the dog's wolf-like ancestors, selective breeding since domestication has seen the dog's skeleton increase in size for larger types such as mastiffs and miniaturised for smaller types such as terriers.\n",
              "Most dogs naturally have 26 vertebrae in their tails, but some with naturally short tails have as few as three.\n",
              "The dog's skull has identical components regardless of breed type, but there is significant divergence in terms of skull shape between types.\n",
              "The three basic skull shapes are the elongated dolichocephalic type as seen in sighthounds, the intermediate mesocephalic or mesaticephalic type, and the very short and broad brachycephalic type exemplified by mastiff type skulls.\n",
              "The jaw contains around 42 teeth, and it has evolved for the consumption of flesh.\n",
              "Dogs use their carnassial teeth to cut food into bite-sized chunks, more especially meat.\n",
              "Dogs' senses include vision, hearing, smell, taste, touch, and magnetoreception.\n",
              "One study suggests that dogs can feel small variations in Earth's magnetic field.\n",
              "Dogs prefer to defecate with their spines aligned in a north–south position in calm magnetic field conditions.\n",
              "Dogs' vision is dichromatic; their visual world consists of yellows, blues, and grays.\n",
              "They have difficulty differentiating between red and green, and much like other mammals, the dog's eye is composed of two types of cone cells compared to the human's three.\n",
              "The divergence of the eye axis of dogs ranges from 12 to 25°, depending on the breed, which can have different retina configurations.\n",
              "The fovea centralis area of the eye is attached to a nerve fiber, and is the most sensitive to photons.\n",
              "Additionally, a study found that dogs' visual acuity was up to eight times less effective than a human, and their ability to discriminate levels of brightness was about two times worse than a human.\n",
              "While the human brain is dominated by a large visual cortex, the dog brain is dominated by a large olfactory cortex.\n",
              "Dogs have roughly forty times more smell-sensitive receptors than humans, ranging from about 125 million to nearly 300 million in some dog breeds, such as bloodhounds.\n",
              "This sense of smell is the most prominent sense of the species; it detects chemical changes in the environment, allowing dogs to pinpoint the location of mating partners, potential stressors, resources, etc.\n",
              "Dogs also have an acute sense of hearing up to four times greater than that of humans.\n",
              "They can pick up the slightest sounds from about 400 m (1,300 ft) compared to 90 m (300 ft) for humans.\n",
              "Dogs have stiff, deeply embedded hairs known as whiskers that sense atmospheric changes, vibrations, and objects not visible in low light conditions.\n",
              "The lower most part of whiskers hold more receptor cells than other hair types, which help in alerting dogs of objects that could collide with the nose, ears, and jaw.\n",
              "Whiskers likely also facilitate the movement of food towards the mouth.\n",
              "The coats of domestic dogs are of two varieties: \"double\" being common in dogs (as well as wolves) originating from colder climates, made up of a coarse guard hair and a soft down hair, or \"single\", with the topcoat only.\n",
              "Breeds may have an occasional \"blaze\", stripe, or \"star\" of white fur on their chest or underside.\n",
              "Premature graying can occur in dogs as early as one year of age; this is associated with impulsive behaviors, anxiety behaviors, and fear of unfamiliar noise, people, or animals.\n",
              "Some dog breeds are hairless, while others have a very thick corded coat.\n",
              "A dog's dewclaw is the fifth digit in its forelimb and hind legs.\n",
              "Dewclaws on the forelimbs are attached by bone and ligament, while the dewclaws on the hind legs are attached only by skin.\n",
              "Most dogs are not born with dewclaws in their hind legs, and some are without them in their forelimbs.\n",
              "Dogs' dewclaws consist of the proximal phalanges and distal phalanges.\n",
              "A dog's tail is the terminal appendage of the vertebral column, which is made up of a string of 5 to 23 vertebrae enclosed in muscles and skin that support the dog's back extensor muscles.\n",
              "One of the primary functions of a dog's tail is to communicate their emotional state.\n",
              "The tail also helps the dog maintain balance by putting its weight on the opposite side of the dog's tilt, and it can also help the dog spread its anal gland's scent through the tail's position and movement.\n",
              "Dogs can have a violet gland (or supracaudal gland) characterized by sebaceous glands on the dorsal surface of their tails; in some breeds, it may be vestigial or absent.\n",
              "A study suggests that dogs show asymmetric tail-wagging responses to different emotive stimuli.\n",
              "Dogs can injure themselves by wagging their tails forcefully; this condition is called kennel tail, happy tail, bleeding tail, or splitting tail.\n",
              "In some hunting dogs, the tail is traditionally docked to avoid injuries.\n",
              "Some dogs can be born without tails because of a DNA variant in the T gene, which can also result in a congenitally short (bobtail) tail.\n",
              "Numerous disorders have been known to affect dogs.\n",
              "Some are congenital and others are acquired.\n",
              "Dogs can acquire upper respiratory tract diseases including diseases that affect the nasal cavity, the larynx, and the trachea; lower respiratory tract diseases which includes pulmonary disease and acute respiratory diseases; heart diseases which includes any cardiovascular inflammation or dysfunction of the heart; haemopoietic diseases including anaemia and clotting disorders; gastrointestinal disease such as diarrhoea and gastric dilatation volvulus; hepatic disease such as portosystemic shunts and liver failure; pancreatic disease such as pancreatitis; renal disease; lower urinary tract disease such as cystitis and urolithiasis; endocrine disorders such as diabetes mellitus, Cushing's syndrome, hypoadrenocorticism, and hypothyroidism; nervous system diseases such as seizures and spinal injury; musculoskeletal disease such as arthritis and myopathies; dermatological disorders such as alopecia and pyoderma; ophthalmological diseases such as conjunctivitis, glaucoma, entropion, and progressive retinal atrophy; and neoplasia.\n",
              "Common dog parasites are lice, fleas, fly larvae, ticks, mites, cestodes, nematodes, and coccidia.\n",
              "Taenia is a notable genus with 5 species in which dogs are the definitive host.\n",
              "Additionally, dogs are a source of zoonoses for humans.\n",
              "They are responsible for 99% of rabies cases worldwide.\n",
              "Other common zoonoses are hydatid disease, leptospirosis, pasteurellosis, ringworm, and toxocariasis.\n",
              "Common infections in dogs include canine adenovirus, canine distemper virus, canine parvovirus, leptospirosis, canine influenza, and canine coronavirus.\n",
              "All of these conditions have vaccines available.\n",
              "Dogs are the companion animal most frequently reported for exposure to toxins.\n",
              "Most poisonings are accidental and over 80% of reports of exposure to the ASPCA animal poisoning hotline are due to oral exposure.\n",
              "Neoplasia is the most common cause of death for dogs.\n",
              "Other common causes of death are heart and renal failure.\n",
              "Their pathology is similar to that of humans, as is their response to treatment and their outcomes.\n",
              "Genes found in humans to be responsible for disorders are investigated in dogs as being the cause and vice versa.\n",
              "The typical lifespan of dogs varies widely among breeds, but the median longevity (the age at which half the dogs in a population have died and half are still alive) is approximately 12.7 years.\n",
              "Obesity correlates negatively with longevity with one study finding obese dogs to have a life expectancy approximately a year and a half less than dogs with a healthy weight.\n",
              "In a 2024 UK study analyzing 584,734 dogs, it was concluded that purebred dogs lived longer than crossbred dogs, challenging the previous notion of the latter having the higher life expectancies.\n",
              "Other studies also show that fully mongrel dogs live about a year longer on average than dogs with pedigrees.\n",
              "Furthermore, small dogs with longer muzzles have been shown to have higher lifespans than larger medium-sized dogs with much more depressed muzzles.\n",
              "For free-ranging dogs, less than 1 in 5 reach sexual maturity, and the median life expectancy for feral dogs is less than half of dogs living with humans.\n",
              "In domestic dogs, sexual maturity happens around six months to one year for both males and females, although this can be delayed until up to two years of age for some large breeds.\n",
              "This is the time at which female dogs will have their first estrous cycle, characterized by their vulvas swelling and producing discharges, usually lasting between 4 and 20 days.\n",
              "They will experience subsequent estrous cycles semiannually, during which the body prepares for pregnancy.\n",
              "At the peak of the cycle, females will become estrous, mentally and physically receptive to copulation.\n",
              "Because the ova survive and can be fertilized for a week after ovulation, more than one male can sire the same litter.\n",
              "Fertilization typically occurs two to five days after ovulation.\n",
              "After ejaculation, the dogs are coitally tied for around 5–30 minutes because of the male's bulbus glandis swelling and the female's constrictor vestibuli contracting; the male will continue ejaculating until they untie naturally due to muscle relaxation.\n",
              "14–16 days after ovulation, the embryo attaches to the uterus, and after seven to eight more days, a heartbeat is detectable.\n",
              "Dogs bear their litters roughly 58 to 68 days after fertilization, with an average of 63 days, although the length of gestation can vary.\n",
              "An average litter consists of about six puppies.\n",
              "Neutering is the sterilization of animals via gonadectomy, which is an orchidectomy (castration) in dogs and ovariohysterectomy (spay) in bitches.\n",
              "Neutering reduces problems caused by hypersexuality, especially in male dogs.\n",
              "Spayed females are less likely to develop cancers affecting the mammary glands, ovaries, and other reproductive organs.\n",
              "However, neutering increases the risk of urinary incontinence in bitches, prostate cancer in dogs, and osteosarcoma, hemangiosarcoma, cruciate ligament rupture, pyometra, obesity, and diabetes mellitus in either sex.\n",
              "Neutering is the most common surgical procedure in dogs less than a year old in the US and is seen as a control method for overpopulation.\n",
              "Neutering often occurs as early as 6–14 weeks in shelters in the US.\n",
              "The American Society for the Prevention of Cruelty to Animals (ASPCA) advises that dogs not intended for further breeding should be neutered so that they do not have undesired puppies that may later be euthanized.\n",
              "Neutering is less common in most European countries, especially in Nordic countries—except for the UK, where it is common.\n",
              "In a study of seven dog breeds (the Bernese Mountain Dog, Basset Hound, Cairn Terrier, Brittany, German Shepherd Dog, Leonberger, and West Highland White Terrier), it was found that inbreeding decreases litter size and survival.\n",
              "Another analysis of data on 42,855 Dachshund litters found that as the inbreeding coefficient increased, litter size decreased and the percentage of stillborn puppies increased, thus indicating inbreeding depression.\n",
              "In a study of Boxer litters, 22% of puppies died before reaching 7 weeks of age.\n",
              "Stillbirth was the most frequent cause of death, followed by infection.\n",
              "Mortality due to infection increased significantly with increases in inbreeding.\n",
              "Dog behavior has been shaped by millennia of contact with humans.\n",
              "They have acquired the ability to understand and communicate with humans and are uniquely attuned to human behaviors.\n",
              "Behavioral scientists suggest that a set of social-cognitive abilities in domestic dogs that are not possessed by the dog's canine relatives or other highly intelligent mammals, such as great apes, are parallel to children's social-cognitive skills.\n",
              "Dogs have about twice the number of neurons in their cerebral cortexes than what cats have, which suggests they could be about twice as intelligent.\n",
              "Most domestic animals were initially bred for the production of goods.\n",
              "Dogs, on the other hand, were selectively bred for desirable behavioral traits.\n",
              "In 2016, a study found that only 11 fixed genes showed variation between wolves and dogs.\n",
              "These gene variations indicate the occurrence of artificial selection and the subsequent divergence of behavior and anatomical features.\n",
              "These genes have been shown to affect the catecholamine synthesis pathway, with the majority of the genes affecting the fight-or-flight response (i.e., selection for tameness) and emotional processing.\n",
              "Compared to their wolf counterparts, dogs tend to be less timid and less aggressive, though some of these genes have been associated with aggression in certain dog breeds.\n",
              "Traits of high sociability and lack of fear in dogs may include genetic modifications related to Williams-Beuren syndrome in humans, which cause hypersociability at the expense of problem-solving ability.\n",
              "In a 2023 study of 58 dogs, some dogs classified as attention deficit hyperactivity disorder-like showed lower serotonin and dopamine concentrations.\n",
              "A similar study claims that hyperactivity is more common in male and young dogs.\n",
              "A dog can become aggressive because of trauma or abuse, fear or anxiety, territorial protection, or protecting an item it considers valuable.\n",
              "Acute stress reactions from post-traumatic stress disorder (PTSD) seen in dogs can evolve into chronic stress.\n",
              "Police dogs with PTSD can often refuse to work.\n",
              "Dogs have a natural instinct called prey drive (the term is chiefly used to describe training dogs' habits) which can be influenced by breeding.\n",
              "These instincts can drive dogs to consider objects or other animals to be prey or drive possessive behavior.\n",
              "These traits have been enhanced in some breeds so that they may be used to hunt and kill vermin or other pests.\n",
              "Puppies or dogs sometimes bury food underground.\n",
              "Some puppies and dogs engage in coprophagy out of habit, stress, for attention, or boredom; most of them will not do it later in life.\n",
              "A study hypothesizes that the behavior was inherited from wolves, a behavior likely evolved to lessen the presence of intestinal parasites in dens.\n",
              "Most dogs can swim.\n",
              "In a study of 412 dogs, around 36.5% of the dogs could not swim; the other 63.5% were able to swim without a trainer in a swimming pool.\n",
              "A study of 55 dogs found a correlation between swimming and 'improvement' of the hip osteoarthritis joint.\n",
              "The female dog may produce colostrum, a type of milk high in nutrients and antibodies, 1–7 days before giving birth.\n",
              "Milk production lasts for around three months, and increases with litter size.\n",
              "The dog can sometimes vomit and refuse food during child contractions.\n",
              "In the later stages of the dog's pregnancy, nesting behaviour may occur.\n",
              "Puppies are born with a protective fetal membrane that the mother usually removes shortly after birth.\n",
              "Dogs can have the maternal instincts to start grooming their puppies, consume their puppies' feces, and protect their puppies, likely due to their hormonal state.\n",
              "While male-parent dogs can show more disinterested behaviour toward their own puppies, most can play with the young pups as they would with other dogs or humans.\n",
              "A female dog may abandon or attack her puppies or her male partner dog if she is stressed or in pain.\n",
              "Researchers have tested dogs' ability to perceive information, retain it as knowledge, and apply it to solve problems.\n",
              "Studies of two dogs suggest that dogs can learn by inference.\n",
              "A study with Rico, a Border Collie, showed that he knew the labels of over 200 different items.\n",
              "He inferred the names of novel things by exclusion learning and correctly retrieved those new items after four weeks of the initial exposure.\n",
              "A study of another Border Collie, Chaser, documented that he had learned the names and could associate them by verbal command with over 1,000 words.\n",
              "One study of canine cognitive abilities found that dogs' capabilities are similar to those of horses, chimpanzees, or cats.\n",
              "One study of 18 household dogs found that the dogs could not distinguish food bowls at specific locations without distinguishing cues; the study stated that this indicates a lack of spatial memory.\n",
              "A study stated that dogs have a visual sense for number.\n",
              "The dogs showed a ratio-dependent activation both for numerical values from 1–3 to larger than four.\n",
              "Dogs demonstrate a theory of mind by engaging in deception.\n",
              "Another experimental study showed evidence that Australian dingos can outperform domestic dogs in non-social problem-solving, indicating that domestic dogs may have lost much of their original problem-solving abilities once they joined humans.\n",
              "Another study showed that dogs stared at humans after failing to complete an impossible version of the same task they had been trained to solve.\n",
              "Dog communication is the transfer of information between dogs, as well as between dogs and humans.\n",
              "Communication behaviors of dogs include eye gaze, facial expression, vocalization, body posture (including movements of bodies and limbs), and gustatory communication (scents, pheromones, and taste).\n",
              "Dogs mark their territories by urinating on them, which is more likely when entering a new environment.\n",
              "Both sexes of dogs may also urinate to communicate anxiety or frustration, submissiveness, or when in exciting or relaxing situations.\n",
              "Aroused dogs can be a result of the dogs' higher cortisol levels.\n",
              "Dogs begin socializing with other dogs by the time they reach the ages of 3 to 8 weeks, and at about 5 to 12 weeks of age, they alter their focus from dogs to humans.\n",
              "Belly exposure in dogs can be a defensive behavior that can lead to a bite or to seek comfort.\n",
              "Humans communicate with dogs by using vocalization, hand signals, and body posture.\n",
              "With their acute sense of hearing, dogs rely on the auditory aspect of communication for understanding and responding to various cues, including the distinctive barking patterns that convey different messages.\n",
              "A study using functional magnetic resonance imaging (fMRI) has shown that dogs respond to both vocal and nonvocal voices using the brain's region towards the temporal pole, similar to that of humans' brains.\n",
              "Most dogs also looked significantly longer at the face whose expression matched the valence of vocalization.\n",
              "A study of caudate responses shows that dogs tend to respond more positively to social rewards than to food rewards.\n",
              "The dog is the most widely abundant large carnivoran living in the human environment.\n",
              "In 2020, the estimated global dog population was between 700 million and 1 billion.\n",
              "In the same year, a study found the dog to be the most popular pet in the United States, as they were present in 34 out of every 100 homes.\n",
              "About 20% of the dog population live in developed countries.\n",
              "In the developing world, it is estimated that three-quarters of the world's dog population lives in the developing world as feral, village, or community dogs.\n",
              "Most of these dogs live as scavengers and have never been owned by humans, with one study showing that village dogs' most common response when approached by strangers is to run away (52%) or respond aggressively (11%).\n",
              "Feral and free-ranging dogs' potential to compete with other large carnivores is limited by their strong association with humans.\n",
              "Although wolves are known to kill dogs, wolves tend to live in pairs in areas where they are highly persecuted, giving them a disadvantage when facing large dog groups.\n",
              "Coyotes and big cats have also been known to attack dogs.\n",
              "In particular, leopards are known to have a preference for dogs and have been recorded to kill and consume them, no matter their size.\n",
              "Siberian tigers in the Amur river region have killed dogs in the middle of villages.\n",
              "Striped hyenas are known to kill dogs in their range.\n",
              "Dogs as introduced predators have affected the ecology of New Zealand, which lacked indigenous land-based mammals before human settlement.\n",
              "Dogs have made 11 vertebrate species extinct and are identified as a 'potential threat' to at least 188 threatened species worldwide.\n",
              "Dogs have also been linked to the extinction of 156 animal species.\n",
              "Dogs have been documented to have killed a few birds of the endangered species, the kagu, in New Caledonia.\n",
              "Dogs are typically described as omnivores.\n",
              "Compared to wolves, dogs from agricultural societies have extra copies of amylase and other genes involved in starch digestion that contribute to an increased ability to thrive on a starch-rich diet.\n",
              "Similar to humans, some dog breeds produce amylase in their saliva and are classified as having a high-starch diet.\n",
              "Despite being an omnivore, dogs are only able to conjugate bile acid with taurine.\n",
              "They must get vitamin D from their diet.\n",
              "Of the twenty-one amino acids common to all life forms (including selenocysteine), dogs cannot synthesize ten: arginine, histidine, isoleucine, leucine, lysine, methionine, phenylalanine, threonine, tryptophan, and valine.\n",
              "Like cats, dogs require arginine to maintain nitrogen balance.\n",
              "These nutritional requirements place dogs halfway between carnivores and omnivores.\n",
              "As a domesticated or semi-domesticated animal, the dog has notable exceptions of presence in: The Aboriginal Tasmanians, who were separated from Australia before the arrival of dingos on that continent; The Andamanese peoples, who were isolated when rising sea levels covered the land bridge to Myanmar; The Fuegians, who instead domesticated the Fuegian dog, an already extinct different canid species; Individual Pacific islands whose maritime settlers did not bring dogs or where the dogs died out after original settlement, notably the Mariana Islands, Palau and most of the Caroline Islands with exceptions such as Fais Island and Nukuoro, the Marshall Islands, the Gilbert Islands, New Caledonia, Vanuatu, Tonga, Marquesas, Mangaia in the Cook Islands, Rapa Iti in French Polynesia, Easter Island, the Chatham Islands, and Pitcairn Island.\n",
              "Dogs were introduced to Antarctica as sled dogs.\n",
              "Starting practice in December 1993, dogs were later outlawed by the Protocol on Environmental Protection to the Antarctic Treaty international agreement due to the possible risk of spreading infections.\n",
              "The domesticated dog originated as a predator and scavenger.\n",
              "They inherited complex behaviors, such as bite inhibition, from their wolf ancestors, which would have been pack hunters with complex body language.\n",
              "These sophisticated forms of social cognition and communication may account for dogs' trainability, playfulness, and ability to fit into human households and social situations, and probably also their co-existence with early human hunter-gatherers.\n",
              "Dogs perform many roles for people, such as hunting, herding, pulling loads, protection, assisting police and the military, companionship, and aiding disabled individuals.\n",
              "These roles in human society have earned them the nickname \"man's best friend\" in the Western world.\n",
              "In some cultures, however, dogs are also a source of meat.\n",
              "The keeping of dogs as companions, particularly by elites, has a long history.\n",
              "Pet-dog populations grew significantly after World War II as suburbanization increased.\n",
              "In the 1980s, there have been changes in the pet dog's functions, such as the increased role of dogs in the emotional support of their human guardians.\n",
              "Within the second half of the 20th century, more and more dog owners considered their animal to be a part of the family.\n",
              "This major social status shift allowed the dog to conform to social expectations of personality and behavior.\n",
              "The second has been the broadening of the concepts of family and the home to include dogs-as-dogs within everyday routines and practices.\n",
              "Products such as dog-training books, classes, and television programs target dog owners.\n",
              "Some dog-trainers have promoted a dominance model of dog-human relationships.\n",
              "Human family members have increased participation in activities in which the dog is an integral partner, such as dog dancing and dog yoga.\n",
              "According to statistics published by the American Pet Products Manufacturers Association in the National Pet Owner Survey in 2009–2010, an estimated 77.5 million people in the United States have pet dogs.\n",
              "The source shows that nearly 40% of American households own at least one dog, of which 67% own just one dog, 25% own two dogs, and nearly 9% own more than two dogs.\n",
              "The data also shows an equal number of male and female pet dogs; less than one-fifth of the owned dogs come from shelters.\n",
              "In addition to dogs' role as companion animals, dogs have been bred for herding livestock (such as collies and sheepdogs); for hunting; for rodent control (such as terriers); as search and rescue dogs; as detection dogs (such as those trained to detect illicit drugs or chemical weapons); as homeguard dogs; as police dogs (sometimes nicknamed \"K-9\"); as welfare-purpose dogs; as dogs who assist fishermen retrieve their nets; and as dogs that pull loads (such as sled dogs).\n",
              "In 1957, the dog Laika became one of the first animals to be launched into Earth orbit aboard the Soviets's Sputnik 2; Laika died during the flight from overheating.\n",
              "Various kinds of service dogs and assistance dogs, including guide dogs, hearing dogs, mobility assistance dogs, and psychiatric service dogs, assist individuals with disabilities.\n",
              "A study of 29 dogs found that 9 dogs owned by people with epilepsy were reported to exhibit attention-getting behavior to their handler 30 seconds to 45 minutes prior to an impending seizure; there was no significant correlation between the patients' demographics, health, or attitude towards their pets.\n",
              "Dogs compete in breed-conformation shows and dog sports (including racing, sledding, and agility competitions).\n",
              "In dog shows, also referred to as \"breed shows\", a judge familiar with the specific dog breed evaluates individual purebred dogs for conformity with their established breed type as described in a breed standard.\n",
              "Weight pulling, a dog sport involving pulling weight, has been criticized for promoting doping and for its risk of injury.\n",
              "Humans have consumed dog meat going back at least 14,000 years.\n",
              "For centuries, the practice was prevalent in Southeast Asia, East Asia, Africa, and Oceania before cultural changes triggered by the spread of religions resulted in dog meat consumption declining and becoming more taboo.\n",
              "Switzerland, Polynesia, and pre-Columbian Mexico historically consumed dog meat.\n",
              "Some Native American dogs, like the Peruvian Hairless Dog and Xoloitzcuintle, were raised to be sacrificed and eaten.\n",
              "Han Chinese traditionally ate dogs.\n",
              "Consumption of dog meat declined but did not end during the Sui dynasty (581–618) and Tang dynasty (618–907) due in part to the spread of Buddhism and the upper class rejecting the practice.\n",
              "Dog consumption was rare in India, Iran, and Europe.\n",
              "Eating dog meat is a social taboo in most parts of the world, though some still consume it in modern times.\n",
              "It is still consumed in some East Asian countries, including China, Vietnam, Korea, Indonesia, and the Philippines.\n",
              "An estimated 30 million dogs are killed and consumed in Asia every year.\n",
              "China is the world's largest consumer of dogs, with an estimated 10 to 20 million dogs killed every year for human consumption.\n",
              "In Vietnam, about 5 million dogs are slaughtered annually.\n",
              "In 2024, China, Singapore, and Thailand placed a ban on the consumption of dogs within their borders.\n",
              "In some parts of Poland and Central Asia, dog fat is reportedly believed to be beneficial for the lungs.\n",
              "There is a long history of dog meat consumption in South Korea, but the practice has fallen out of favor.\n",
              "On 9 January 2024, the South Korean parliament passed a law banning the distribution and sale of dog meat. It will take effect in 2027, with plans to assist dog farmers in transitioning to other products.\n",
              "The primary type of dog raised for meat in South Korea has been the Nureongi.\n",
              "In North Korea where meat is scarce, eating dog is a common and accepted practice, officially promoted by the government.\n",
              "In 2018, the World Health Organization (WHO) reported that 59,000 people died globally from rabies, with 59.6% of the deaths in Asia and 36.4% in Africa. Rabies is a disease for which dogs are the most significant vector.\n",
              "Dog bites affect tens of millions of people globally each year.\n",
              "The primary victims of dog bite incidents are children.\n",
              "They are more likely to sustain more serious injuries from bites, which can lead to death.\n",
              "Sharp claws can lacerate flesh and cause serious infections.\n",
              "In the United States, cats and dogs are a factor in more than 86,000 falls each year.\n",
              "It has been estimated that around 2% of dog-related injuries treated in U.K. hospitals are domestic accidents.\n",
              "The same study concluded that dog-associated road accidents involving injuries more commonly involve two-wheeled vehicles.\n",
              "Some countries and cities have also banned or restricted certain dog breeds, usually for safety concerns.\n",
              "Toxocara canis (dog roundworm) eggs in dog feces can cause toxocariasis.\n",
              "Untreated toxocariasis can cause retinal damage and decreased vision.\n",
              "Dog feces can also contain hookworms that cause cutaneous larva migrans in humans.\n",
              "The scientific evidence is mixed as to whether a dog's companionship can enhance human physical and psychological well-being.\n",
              "Studies suggest that there are benefits to physical health and psychological well-being, but they have been criticized for being \"poorly controlled\".\n",
              "Earlier studies have shown that pet-dog or -cat guardians make fewer hospital visits and are less likely to be on medication for heart problems and sleeping difficulties than non-guardians.\n",
              "People with pet dogs took considerably more physical exercise than those with cats or those without pets; these effects are relatively long-term.\n",
              "Pet guardianship has also been associated with increased survival in cases of coronary artery disease.\n",
              "Human guardians are significantly less likely to die within one year of an acute myocardial infarction than those who do not own dogs.\n",
              "Studies have found a small to moderate correlation between dog-ownership and increased adult physical-activity levels.\n",
              "Health benefits of dogs can result from contact with dogs in general, not solely from having dogs as pets.\n",
              "For example, when in a pet dog's presence, people show reductions in cardiovascular, behavioral, and psychological indicators of anxiety and are exposed to immune-stimulating microorganisms, which can protect against allergies and autoimmune diseases (according to the hygiene hypothesis).\n",
              "Other benefits include dogs as social support.\n",
              "One study indicated that wheelchair-users experience more positive social interactions with strangers when accompanied by a dog than when they are not.\n",
              "In a 2015 study, it was found that having a pet made people more inclined to foster positive relationships with their neighbors.\n",
              "In one study, new guardians reported a significant reduction in minor health problems during the first month following pet acquisition, which was sustained through the 10-month study.\n",
              "Using dogs and other animals as a part of therapy dates back to the late-18th century, when animals were introduced into mental institutions to help socialize patients with mental disorders.\n",
              "Animal-assisted intervention research has shown that animal-assisted therapy with a dog can increase smiling and laughing among people with Alzheimer's disease.\n",
              "One study demonstrated that children with ADHD and conduct disorders who participated in an education program with dogs and other animals showed increased attendance, knowledge, and skill-objectives and decreased antisocial and violent behavior compared with those not in an animal-assisted program.\n",
              "Artworks have depicted dogs as symbols of guidance, protection, loyalty, fidelity, faithfulness, alertness, and love.\n",
              "In ancient Mesopotamia, from the Old Babylonian period until the Neo-Babylonian period, dogs were the symbol of Ninisina, the goddess of healing and medicine, and her worshippers frequently dedicated small models of seated dogs to her.\n",
              "In the Neo-Assyrian and Neo-Babylonian periods, dogs served as emblems of magical protection.\n",
              "In China, Korea, and Japan, dogs are viewed as kind protectors.\n",
              "In mythology, dogs often appear as pets or as watchdogs.\n",
              "Stories of dogs guarding the gates of the underworld recur throughout Indo-European mythologies and may originate from Proto-Indo-European traditions.\n",
              "In Greek mythology, Cerberus is a three-headed, dragon-tailed watchdog who guards the gates of Hades.\n",
              "Dogs also feature in association with the Greek goddess Hecate.\n",
              "In Norse mythology, a dog called Garmr guards Hel, a realm of the dead.\n",
              "In Persian mythology, two four-eyed dogs guard the Chinvat Bridge.\n",
              "In Welsh mythology, Cŵn Annwn guards Annwn.\n",
              "In Hindu mythology, Yama, the god of death, owns two watchdogs named Shyama and Sharvara, which each have four eyes—they are said to watch over the gates of Naraka.\n",
              "A black dog is considered to be the vahana (vehicle) of Bhairava (an incarnation of Shiva).\n",
              "In Christianity, dogs represent faithfulness.\n",
              "Within the Roman Catholic denomination specifically, the iconography of Saint Dominic includes a dog after the saint's mother dreamt of a dog springing from her womb and became pregnant shortly after that.\n",
              "As such, the Dominican Order (Ecclesiastical Latin: Domini canis) means \"dog of the Lord\" or \"hound of the Lord\".\n",
              "In Christian folklore, a church grim often takes the form of a black dog to guard Christian churches and their churchyards from sacrilege.\n",
              "Jewish law does not prohibit keeping dogs and other pets but requires Jews to feed dogs (and other animals that they own) before themselves and to make arrangements for feeding them before obtaining them.\n",
              "The view on dogs in Islam is mixed, with some schools of thought viewing them as unclean, although Khaled Abou El Fadl states that this view is based on \"pre-Islamic Arab mythology\" and \"a tradition [...] falsely attributed to the Prophet\".\n",
              "The Sunni Maliki school jurists disagree with the idea that dogs are unclean.\n",
              "Dog – the species (or subspecies) as a whole, also any male member of the same.\n",
              "Bitch – any female member of the species (or subspecies).\n",
              "Puppy or pup – a young member of the species (or subspecies) under 12 months old.\n",
              "Sire – the male parent of a litter.\n",
              "Dam – the female parent of a litter.\n",
              "Litter – all of the puppies resulting from a single whelping.\n",
              "Whelping – the act of a bitch giving birth.\n",
              "Whelps – puppies still dependent upon their dam.\n",
              "\n",
              "Based on:\n",
              "  https://en.wikipedia.org/wiki/Dog"
            ],
            "text/plain": [
              "<IPython.core.display.Markdown object>"
            ]
          },
          "metadata": {},
          "output_type": "display_data"
        }
      ],
      "source": [
        "display(Markdown(summaries[np.argmax(sim_value)]))"
      ]
    },
    {
      "cell_type": "markdown",
      "metadata": {
        "id": "Ozn6mIFvoyJU"
      },
      "source": [
        "### Similarity with User's Preference\n",
        "\n",
        "Now you can also rank the search results based on your own preference."
      ]
    },
    {
      "cell_type": "code",
      "execution_count": 24,
      "metadata": {
        "id": "IlXuWzSgim76"
      },
      "outputs": [
        {
          "name": "stdout",
          "output_type": "stream",
          "text": [
            "Are you a dog or cat person? Please respond in 'cat' or 'dog'.\n",
            "cat\n"
          ]
        }
      ],
      "source": [
        "ans = input(\"Are you a dog or cat person? Please respond in 'cat' or 'dog'.\\n\")"
      ]
    },
    {
      "cell_type": "markdown",
      "metadata": {
        "id": "85f4MpLgrYbW"
      },
      "source": [
        "Use Gemini API to get embeddings for your answer and compare them with search results"
      ]
    },
    {
      "cell_type": "code",
      "execution_count": 25,
      "metadata": {
        "id": "fSI6-5eYI3me"
      },
      "outputs": [
        {
          "data": {
            "application/vnd.jupyter.widget-view+json": {
              "model_id": "306405e4aa9440398c1639004aa066d4",
              "version_major": 2,
              "version_minor": 0
            },
            "text/plain": [
              "  0%|          | 0/1 [00:00<?, ?it/s]"
            ]
          },
          "metadata": {},
          "output_type": "display_data"
        }
      ],
      "source": [
        "hypothetical_ans = create_embeddings([ans])"
      ]
    },
    {
      "cell_type": "markdown",
      "metadata": {
        "id": "WxYGEWbqrh44"
      },
      "source": [
        "Calculate similarity scores to rank the search results"
      ]
    },
    {
      "cell_type": "code",
      "execution_count": 26,
      "metadata": {
        "id": "99sjvMtlJfL_"
      },
      "outputs": [
        {
          "data": {
            "text/plain": [
              "array([[0.53450373],\n",
              "       [0.68786888],\n",
              "       [0.67093936]])"
            ]
          },
          "execution_count": 26,
          "metadata": {},
          "output_type": "execute_result"
        }
      ],
      "source": [
        "sim_value = dot_product(search_res, hypothetical_ans)\n",
        "sim_value"
      ]
    },
    {
      "cell_type": "markdown",
      "metadata": {
        "id": "wJ7pklxursSk"
      },
      "source": [
        "using `np.argmax` best candidate is selected.\n",
        "\n",
        "**Users's Input:** `dog/ cat`\n",
        "\n",
        "**Answer:**"
      ]
    },
    {
      "cell_type": "code",
      "execution_count": 27,
      "metadata": {
        "id": "MzTfyU_mJ8-M"
      },
      "outputs": [
        {
          "data": {
            "text/markdown": [
              "*   The cat (Felis catus), also referred to as the domestic cat or house cat, is a small domesticated carnivorous mammal.\n",
              "*   It is the only domesticated species of the family Felidae.\n",
              "*   Domestication of the cat occurred in the Near East around 7500 BC.\n",
              "*   It is commonly kept as a pet and working cat, but also ranges freely as a feral cat avoiding human contact.\n",
              "*   It is valued by humans for companionship and its ability to kill vermin.\n",
              "*   Its retractable claws are adapted to killing small prey species such as mice and rats.\n",
              "*   It has a strong, flexible body, quick reflexes, and sharp teeth.\n",
              "*   Its night vision and sense of smell are well developed.\n",
              "*   It is a social species, but a solitary hunter and a crepuscular predator.\n",
              "*   Cat intelligence is evident in their ability to adapt, learn through observation, and solve problems.\n",
              "*   Research has shown they possess strong memories, exhibit neuroplasticity, and display cognitive skills comparable to those of a young child.\n",
              "*   Cat communication includes meowing, purring, trilling, hissing, growling, grunting, and body language.\n",
              "*   It can hear sounds too faint or too high in frequency for human ears, such as those made by small mammals.\n",
              "*   It secretes and perceives pheromones.\n",
              "*   Female domestic cats can have kittens from spring to late autumn in temperate zones and throughout the year in equatorial regions.\n",
              "*   Litter sizes often range from two to five kittens.\n",
              "*   Domestic cats are bred and shown at cat fancy events as registered pedigreed cats.\n",
              "*   Population control includes spaying and neutering.\n",
              "*   Pet abandonment has exploded the global feral cat population, which has driven the extinction of bird, mammal, and reptile species.\n",
              "*   Domestic cats are found across the globe.\n",
              "*   Out of the estimated 600 million cats worldwide, 400 million reside in Asia, including 58 million pet cats in China.\n",
              "*   The United States leads in cat ownership with 73.8 million cats.\n",
              "*   In the United Kingdom, approximately 10.9 million domestic cats are kept as pets.\n",
              "*   The origin of the English word cat, Old English catt, is thought to be the Late Latin word cattus, first used at the beginning of the 6th century.\n",
              "*   The Late Latin word may be derived from an unidentified African language (Nubian kaddîska, Nobiin kadīs are possible sources/cognates).\n",
              "*   The forms might also have derived from an ancient Germanic word absorbed into Latin and then into Greek, Syriac, and Arabic.\n",
              "*   The word may be derived from Germanic and Northern European languages, and ultimately be borrowed from Uralic (*käďwä, female (of a furred animal)).\n",
              "*   The English puss, extended as pussy and pussycat, is attested from the 16th century and may have been introduced from Dutch poes or from Low German puuskatte.\n",
              "*   Similar forms exist in Lithuanian puižė and Irish puisín or puiscín.\n",
              "*   The etymology of \"puss\" is unknown, but it may be an onomatopoeia from using a sound to attract a cat.\n",
              "*   A male cat is called a tom or tomcat (or a gib, if neutered).\n",
              "*   A female is called a queen (or sometimes a molly, if spayed). Some sources write that queen refers solely to unspayed cats that are in an estrous cycle.\n",
              "*   A juvenile cat is referred to as a kitten, a term interchangeable with the now-obsolete word catling in Early Modern English.\n",
              "*   A group of cats can be referred to as a clowder, a glaring, or a colony.\n",
              "*   The scientific name Felis catus was proposed by Carl Linnaeus in 1758 for a domestic cat.\n",
              "*   Felis catus domesticus was proposed by Johann Christian Polycarp Erxleben in 1777.\n",
              "*   Felis daemon proposed by Konstantin Satunin in 1904 was a black cat from the Transcaucasus, later identified as a domestic cat.\n",
              "*   In 2003, the International Commission on Zoological Nomenclature ruled that the domestic cat is a distinct species, namely Felis catus.\n",
              "*   In 2007, the modern domesticated subspecies F. silvestris catus sampled worldwide was considered to have probably descended from the African wildcat (F. lybica).\n",
              "*   In 2017, the IUCN Cat Classification Taskforce followed the recommendation of the ICZN in regarding the domestic cat as a distinct species, Felis catus.\n",
              "*   The domestic cat is a member of the Felidae, a family that has a common ancestor from about 10 to 15 million years ago.\n",
              "*   The evolutionary radiation of the Felidae began in Asia during the Miocene around 8.38 to 14.45 million years ago.\n",
              "*   Analysis of mitochondrial DNA of all Felidae species indicates a radiation at 6.46 to 16.76 million years ago.\n",
              "*   The genus Felis genetically diverged from other Felidae around 6 to 7 million years ago.\n",
              "*   Results of phylogenetic research shows that the wild members of this genus evolved through sympatric or parapatric speciation, whereas the domestic cat evolved through artificial selection.\n",
              "*   The domestic cat and its closest wild ancestor are diploid and both possess 38 chromosomes and roughly 20,000 genes.\n",
              "*   The earliest known indication for the taming of an African wildcat was excavated close by a human Neolithic grave in Shillourokambos, southern Cyprus, dating to about 7500–7200 BC.\n",
              "*   African wildcats were attracted to early human settlements in the Fertile Crescent by rodents, in particular the house mouse (Mus musculus), and were tamed by Neolithic farmers.\n",
              "*   The earliest known evidence for the occurrence of the domestic cat in Greece dates to around 1200 BC.\n",
              "*   Greek, Phoenician, Carthaginian and Etruscan traders introduced domestic cats to southern Europe.\n",
              "*   By the 5th century BC, they were familiar animals around settlements in Magna Graecia and Etruria.\n",
              "*   During the Roman Empire, they were introduced to Corsica and Sardinia before the beginning of the 1st century AD.\n",
              "*   By the end of the Western Roman Empire in the 5th century, the Egyptian domestic cat lineage had arrived in a Baltic Sea port in northern Germany.\n",
              "*   The leopard cat (Prionailurus bengalensis) was tamed independently in China around 5500 BC, but this line leaves no trace in modern domestic cat populations.\n",
              "*   During domestication, cats have undergone only minor changes in anatomy and behavior, and they are still capable of surviving in the wild.\n",
              "*   Wildcat traits pre-adapted them for domestication: small size, social nature, obvious body language, love of play, and high intelligence.\n",
              "*   Their rigorous grooming habits and instinct to bury their bodily waste make them generally much less messy than other domesticated animals.\n",
              "*   House cats may mate with feral cats.\n",
              "*   Hybridization between domestic and other Felinae species is also possible (e.g., Kellas cat).\n",
              "*   Development of cat breeds started in the mid-19th century.\n",
              "*   An analysis of the domestic cat genome revealed that the ancestral wildcat genome was significantly altered in the process of domestication, as specific mutations were selected to develop cat breeds.\n",
              "*   Most breeds are founded on random-bred domestic cats.\n",
              "*   Genetic diversity of these breeds varies between regions, and is lowest in purebred populations, which show more than 20 deleterious genetic disorders.\n",
              "*   The domestic cat has a smaller skull and shorter bones than the European wildcat.\n",
              "*   It averages about 46 cm (18 in) in head-to-body length and 23–25 cm (9.1–9.8 in) in height, with about 30 cm (12 in) long tails.\n",
              "*   Males are larger than females.\n",
              "*   Adult domestic cats typically weigh 4–5 kg (8.8–11.0 lb).\n",
              "*   Cats have seven cervical vertebrae, 13 thoracic vertebrae, seven lumbar vertebrae, three sacral vertebrae, and a variable number of caudal vertebrae in the tail.\n",
              "*   The extra lumbar and thoracic vertebrae account for the cat's spinal mobility and flexibility.\n",
              "*   Attached to the spine are 13 ribs, the shoulder, and the pelvis.\n",
              "*   Cat forelimbs are attached to the shoulder by free-floating clavicle bones.\n",
              "*   The cat skull is unusual among mammals in having very large eye sockets and a powerful specialized jaw.\n",
              "*   Two long canine teeth for killing and tearing prey, can stab between two of the prey's vertebrae and sever its spinal cord.\n",
              "*   Domestic cats have narrowly spaced canine teeth relative to the size of their jaw, an adaptation to their preferred prey of small rodents.\n",
              "*   The premolar and first molar together compose the carnassial pair on each side of the mouth, which efficiently shears meat.\n",
              "*   Cats' small molars cannot chew food effectively, and cats are largely incapable of mastication.\n",
              "*   Cats tend to have better dental health than most humans.\n",
              "*   Cats have protractible and retractable claws.\n",
              "*   Claws are sheathed in their normal, relaxed position, keeping them sharp and allowing silent stalking.\n",
              "*   The claws on the forefeet are typically sharper than those on the hindfeet.\n",
              "*   Cats can voluntarily extend their claws, such as in hunting, fighting, climbing, kneading, or for extra traction on soft surfaces.\n",
              "*   Cats shed the outside layer of their claw sheaths when scratching rough surfaces.\n",
              "*   Most cats have five claws on their front paws and four on their rear paws.\n",
              "*   The dewclaw is proximal to the other claws.\n",
              "*   A protrusion on the front paws inside the wrists appears to be a sixth \"finger,\" thought to be an antiskidding device used while jumping.\n",
              "*   Some cat breeds are prone to having extra digits (\"polydactyly\").\n",
              "*   The cat is digitigrade, walking on its toes.\n",
              "*   It uses a \"pacing\" gait that alternates both legs together on each side.\n",
              "*   It registers directly by placing each hind paw close to the track of the corresponding fore paw, minimizing noise and visible tracks.\n",
              "*   As it speeds up from walking to trotting, its gait changes to a \"diagonal\" gait.\n",
              "*   Cats are generally fond of perching in high places.\n",
              "*   A cat falling from up to 3 m (9.8 ft) can right itself and land on its paws.\n",
              "*   During a lofty fall, a cat reflexively twists and rights itself to land on its feet using its acute sense of balance and flexibility; this is known as the cat righting reflex.\n",
              "*   A cat always rights itself in the same way, and it has enough time in falls of at least 90 cm (3.0 ft).\n",
              "*   The cat family (Felidae) can pass down many colors and patterns to their offspring.\n",
              "*   The domestic cat genes MC1R and ASIP allow color variety in their coats.\n",
              "*   Cats have excellent night vision and can see at one sixth the light level required for human vision.\n",
              "*   Cat eyes have a tapetum lucidum, which reflects light back into the eye, increasing sensitivity to dim light.\n",
              "*   Large pupils are an adaptation to dim light.\n",
              "*   The domestic cat has slit pupils, which allow it to focus bright light without chromatic aberration.\n",
              "*   At low light, a cat's pupils expand to cover most of the exposed surface of its eyes.\n",
              "*   The domestic cat has rather poor color vision and only two types of cone cells (blue and yellowish green).\n",
              "*   Its ability to distinguish between red and green is limited.\n",
              "*   Cats have a nictitating membrane, allowing them to blink without hindering their vision.\n",
              "*   The domestic cat's hearing is most acute in the range of 500 Hz to 32 kHz.\n",
              "*   It can detect an extremely broad range of frequencies ranging from 55 Hz to 79 kHz.\n",
              "*   It can hear a range of 10.5 octaves, compared to about 9 octaves for humans and dogs.\n",
              "*   Its hearing sensitivity is enhanced by its large movable outer ears (pinnae).\n",
              "*   It can detect ultrasound, including ultrasonic calls from rodent prey.\n",
              "*   Cats have socio-spatial cognitive abilities to create mental maps of familiar people's locations based on hearing their voices.\n",
              "*   Cats have an acute sense of smell, due to their well-developed olfactory bulb and a large surface of olfactory mucosa (about 5.8 cm2).\n",
              "*   Cats and many other animals have a Jacobson's organ in their mouths that is used in flehmening to sense certain aromas in a way humans cannot.\n",
              "*   Cats are sensitive to pheromones such as 3-mercapto-3-methylbutan-1-ol, which they use to communicate through urine spraying and marking with scent glands.\n",
              "*   About 70–80% of cats are affected by nepetalactone (in catnip, silver vine, valerian).\n",
              "*   Cats have about 470 taste buds, compared to more than 9,000 on the human tongue.\n",
              "*   Domestic and wild cats share a taste receptor gene mutation that keeps their sweet taste buds from binding to sugary molecules, leaving them with no ability to taste sweetness.\n",
              "*   They do have taste bud receptors specialized for acids, amino acids (constituents of protein), and bitter tastes.\n",
              "*   Cats' taste buds possess the receptors needed to detect umami, detecting inosine monophosphate and histidine (particularly enriched in tuna).\n",
              "*   Cats distinctly prefer food temperature around 38 °C (100 °F), similar to a fresh kill.\n",
              "*   Some cats reject cold food, which would signal to the cat that the prey is long dead and therefore possibly toxic or decomposing.\n",
              "*   To aid with navigation and sensation, cats have dozens of movable whiskers (vibrissae) over their body, especially their faces.\n",
              "*   Whiskers provide information on the width of gaps and on the location of objects in the dark, by touching objects directly and by sensing air currents.\n",
              "*   They trigger protective blink reflexes to protect the eyes from damage.\n",
              "*   Outdoor cats are active both day and night, although they tend to be slightly more active at night.\n",
              "*   Domestic cats spend the majority of their time in the vicinity of their homes, but they can range a radius of many hundreds of meters.\n",
              "*   They establish territories that vary considerably in size, in one study ranging 7–28 ha (17–69 acres).\n",
              "*   Being low-light predators, they are generally crepuscular (more active near dawn and dusk).\n",
              "*   House cats' behavior is also influenced by human activity.\n",
              "*   Cats conserve energy by sleeping more than most animals, especially as they grow older.\n",
              "*   The daily duration of sleep varies, usually between 12 and 16 hours, with 13 to 14 being the average.\n",
              "*   Some cats can sleep as much as 20 hours.\n",
              "*   The term \"cat nap\" for a short rest refers to the cat's tendency to fall asleep (lightly) for a brief period.\n",
              "*   Short periods of rapid eye movement sleep are often accompanied by muscle twitches, suggesting dreaming.\n",
              "*   Behavioral and personality traits depend on a complex interplay between genetic and environmental factors.\n",
              "*   The social behavior of the domestic cat ranges from widely dispersed individuals to feral cat colonies that gather around a food source, based on groups of co-operating females.\n",
              "*   Within such groups, one cat is usually dominant over the others.\n",
              "*   Each cat in a colony holds a distinct territory, with sexually active males having the largest territories (about 10 times larger than females' and may overlap with several females' territories).\n",
              "*   These territories are marked by urine spraying, rubbing objects at head height with secretions from facial glands, and by defecation.\n",
              "*   Between these territories are neutral areas where cats watch and greet one another without territorial conflicts.\n",
              "*   Outside neutral areas, territory holders usually chase away stranger cats, initially by staring, hissing, and growling, and then by short and violent, noisy attacks.\n",
              "*   Although cats do not have a social survival strategy or herd behavior, they always hunt alone.\n",
              "*   Life in proximity to humans and other domestic animals has led to a symbiotic social adaptation in cats.\n",
              "*   Cats may express great affection toward humans or other animals.\n",
              "*   Ethologically, a cat's human keeper functions as a mother surrogate.\n",
              "*   Adult cats live in a type of extended kittenhood, a form of behavioral neoteny.\n",
              "*   Their high-pitched sounds may mimic the cries of a hungry human infant.\n",
              "*   Some pet cats are poorly socialized and older cats show aggressiveness toward newly arrived kittens.\n",
              "*   Redirected aggression is a common form of aggression in multiple cat households, where agitation towards one stimulus is directed at another cat, pet, or human.\n",
              "*   Domestic cats' scent rubbing behavior toward humans or other cats is thought to be a feline means of social bonding.\n",
              "*   Domestic cats use many vocalizations for communication, including purring, trilling, hissing, growling/snarling, grunting, and several different forms of meowing.\n",
              "*   Their body language, including position of ears and tail, relaxation of the whole body, and kneading of the paws, are all indicators of mood.\n",
              "*   The tail and ears are particularly important social signal mechanisms; a raised tail indicates a friendly greeting, and flattened ears indicate hostility.\n",
              "*   Tail-raising also indicates the cat's position in the group's social hierarchy, with dominant individuals raising their tails less often than subordinate ones.\n",
              "*   Feral cats are generally silent.\n",
              "*   Nose-to-nose touching is also a common greeting and may be followed by social grooming.\n",
              "*   Purring may have developed as an evolutionary advantage as a signaling mechanism of reassurance between mother cats and nursing kittens, and is thought to be a care-soliciting signal.\n",
              "*   Post-nursing cats also often purr as a sign of contentment.\n",
              "*   Purring has been recorded in a wide variety of circumstances, most of which involve physical contact between the cat and another, presumably trusted individual.\n",
              "*   Some cats purr continuously when chronically ill or in apparent pain.\n",
              "*   Purring is proposed to be generated via a series of sudden build-ups and releases of pressure as the glottis is opened and closed, causing the vocal folds to separate forcefully.\n",
              "*   The laryngeal muscles in control of the glottis are thought to be driven by a neural oscillator which generates a cycle of contraction and release every 30–40 milliseconds (frequency of 33 to 25 Hz).\n",
              "*   Domestic cats observed in rescue facilities have 276 morphologically distinct facial expressions based on 26 facial movements.\n",
              "*   Facial expressions have helped researchers detect pain in cats, using the feline grimace scale's five criteria: ear position, orbital tightening, muzzle tension, whisker change, and head position.\n",
              "*   Cats are known for spending considerable amounts of time licking their coats to keep them clean.\n",
              "*   The cat's tongue has backward-facing spines about 0.5 millimeter long, called lingual papillae, which contain keratin making them rigid and act like a hairbrush.\n",
              "*   Some cats, particularly long-haired cats, occasionally regurgitate sausage-shaped 2–3 cm (0.8–1.2 in) long hairballs of fur.\n",
              "*   Hairballs can be prevented with remedies that ease elimination of the hair through the gut, and regular grooming.\n",
              "*   Cat intelligence refers to a cat's ability to solve problems, adapt to its environment, learn new behaviors, and communicate its needs.\n",
              "*   A cat's brain contains around 250 million neurons in the cerebral cortex.\n",
              "*   Cats display neuroplasticity.\n",
              "*   They have well-developed memory retaining information for a decade or longer.\n",
              "*   These memories are often intertwined with emotions, allowing cats to recall both positive and negative experiences.\n",
              "*   While they excel in observational learning and problem-solving, studies conclude that they struggle with understanding cause-and-effect relationships in the same way that humans do.\n",
              "*   Cat intelligence study is mostly from consideration of the domesticated cat.\n",
              "*   Living in urban environments has exposed them to challenges that require adaptive behaviors, contributing to cognitive development.\n",
              "*   Selective breeding and genetic changes have further influenced their intelligence.\n",
              "*   Kittens learn essential survival skills by observing their mothers, while adult cats refine their abilities through trial and error.\n",
              "*   Domestic cats, especially young kittens, are known for their love of play.\n",
              "*   This behavior mimics hunting and is important in helping kittens learn to stalk, capture, and kill prey.\n",
              "*   Cats also engage in play fighting, both with each other and with humans.\n",
              "*   Cats tend to play with toys more when they are hungry.\n",
              "*   Cats prefer to play with objects that resemble prey, such as small furry toys that move rapidly.\n",
              "*   They become habituated to a toy they have played with before.\n",
              "*   String is often used as a toy, but if eaten, it can cause a medical emergency.\n",
              "*   The shape and structure of cats' cheeks is insufficient to allow them to take in liquids using suction.\n",
              "*   Lapping at a rate of four times a second, the cat touches the smooth tip of its tongue to the surface of the water, and quickly retracts it like a corkscrew, drawing water upward into their mouths.\n",
              "*   Feral cats and free-fed house cats consume several small meals in a day.\n",
              "*   They select food based on its temperature, smell, and texture; they dislike chilled foods and respond most strongly to moist foods rich in amino acids.\n",
              "*   Cats reject novel flavors (neophobia) and learn quickly to avoid foods that have tasted unpleasant.\n",
              "*   Most adult cats are lactose intolerant.\n",
              "*   Some develop pica, eating or chewing on things such as wool, plastic, cables, paper, string, aluminum foil, or even coal.\n",
              "*   Cats hunt small prey, primarily birds and rodents, and are often used as a form of pest control.\n",
              "*   Other common small creatures, such as lizards and snakes, may also become prey.\n",
              "*   Cats use two hunting strategies: stalking prey actively, or waiting in ambush.\n",
              "*   Domestic cats are a major predator of wildlife in the United States, killing an estimated 1.3 to 4.0 billion birds and 6.3 to 22.3 billion mammals annually.\n",
              "*   In the recovery of ringed robins and dunnocks in Britain, 31% of deaths were a result of cat predation.\n",
              "*   The presentation of prey to human guardians is a poorly understood element of cat hunting behavior.\n",
              "*   Domestic males are more likely to fight than females.\n",
              "*   The most common reason for feral cat fighting is competition between two males to mate with a female, and most fights are won by the heavier male.\n",
              "*   Another common reason for fighting in domestic cats is the difficulty of establishing territories within a small home.\n",
              "*   Female cats also fight over territory or to defend their kittens.\n",
              "*   Neutering decreases or eliminates fighting behavior in many cases, suggesting a link to sex hormones.\n",
              "*   When cats become aggressive, they try to appear larger and more threatening by raising their fur, arching their backs, turning sideways, hissing, or spitting.\n",
              "*   Often, the ears are pointed down and back to avoid damage and listen for changes.\n",
              "*   Cats may also vocalize loudly and bare their teeth.\n",
              "*   Fights usually consist of grappling, slapping the face and body with the forepaws, and bites.\n",
              "*   Cats throw themselves to the ground in a defensive posture to rake their opponent's belly with their hind legs.\n",
              "*   Serious damage from fights is rare, usually limited to infections from scratches and bites.\n",
              "*   Bites are probably the main route of transmission of the feline immunodeficiency virus.\n",
              "*   Sexually active males are usually involved in many fights and have battered faces.\n",
              "*   Cats are willing to threaten animals larger than them to defend their territory, such as dogs and foxes.\n",
              "*   The cat secretes and perceives pheromones.\n",
              "*   Female cats, called queens, are polyestrous with several estrus cycles during a year, lasting usually 21 days.\n",
              "*   They are usually ready to mate between early February and August in northern temperate zones and throughout the year in equatorial regions.\n",
              "*   Several males, called tomcats, are attracted to a female in heat and fight over her.\n",
              "*   A male cat's penis has a band of about 120–150 backward-pointing penile spines, which are about 1 mm (0.04 in) long, inducing ovulation upon withdrawal.\n",
              "*   After mating, the female cleans her vulva thoroughly and attacks males attempting to mate shortly after.\n",
              "*   Cats are superfecund; a female may mate with more than one male, resulting in different kittens in a litter having different fathers.\n",
              "*   The morula forms 124 hours after conception.\n",
              "*   At 148 hours, early blastocysts form.\n",
              "*   At 10–12 days, implantation occurs.\n",
              "*   The gestation of queens lasts between 64 and 67 days, with an average of 65 days.\n",
              "*   A study of 2,300 free-ranging queens found they had one to six kittens per litter, with an average of three kittens.\n",
              "*   They produced a mean of 1.4 litters per year, but a maximum of three litters in a year.\n",
              "*   Of 169 kittens, 127 died before they were six months old due to trauma (dog attacks and road accidents).\n",
              "*   The first litter is usually smaller than subsequent litters.\n",
              "*   Kittens are weaned between six and seven weeks of age.\n",
              "*   Queens normally reach sexual maturity at 5–10 months, and males at 5–7 months, varying by breed.\n",
              "*   Kittens reach puberty at the age of 9–10 months.\n",
              "*   Cats are ready to go to new homes at about 12 weeks of age, when they are ready to leave their mother.\n",
              "*   They can be surgically sterilized (spayed or castrated) as early as seven weeks to limit unwanted reproduction.\n",
              "*   This surgery also prevents undesirable sex-related behavior, such as aggression, territory marking (spraying urine) in males, and yowling (calling) in females.\n",
              "*   Traditionally, this surgery was performed at around six to nine months of age, but is increasingly performed before puberty, at about three to six months.\n",
              "*   In the United States, about 80% of household cats are neutered.\n",
              "*   The average lifespan of pet cats has risen in recent decades: about 7 years in the early 1980s, 9.4 years in 1995, and an average of about 13 years as of 2014 and 2023.\n",
              "*   Neutering increases life expectancy; castrated male cats live twice as long as intact males, while spayed female cats live 62% longer than intact females.\n",
              "*   Neutering confers some health benefits, such as a greater life expectancy and a decreased incidence of reproductive neoplasia.\n",
              "*   However, neutering decreases metabolism and increases food intake, both of which can cause obesity.\n",
              "*   About 250 heritable genetic disorders have been identified in cats; many are similar to human inborn errors of metabolism.\n",
              "*   The high level of similarity among the metabolism of mammals allows many feline diseases to be diagnosed using genetic tests developed for humans.\n",
              "*   Cats can be used as animal models in the study of human diseases.\n",
              "*   Diseases affecting domestic cats include acute infections, parasitic infestations, injuries, and chronic diseases such as kidney disease, thyroid disease, and arthritis.\n",
              "*   Vaccinations are available for many infectious diseases, as are treatments to eliminate parasites.\n",
              "*   The domestic cat is a cosmopolitan species and occurs across much of the world.\n",
              "*   It is adaptable and now present on all continents except Antarctica, and on 118 of the 131 main groups of islands.\n",
              "*   Due to its ability to thrive in almost any terrestrial habitat, it is among the world's most invasive species.\n",
              "*   It lives on small islands with no human inhabitants.\n",
              "*   Feral cats can live in forests, grasslands, tundra, coastal areas, agricultural land, scrublands, urban areas, and wetlands.\n",
              "*   It can readily interbreed with the wildcat, posing a danger to the genetic distinctiveness of some wildcat populations (e.g., Scotland, Hungary, Iberian Peninsula).\n",
              "*   Its introduction to places where no native felines are present also contributes to the decline of native species.\n",
              "*   Feral cats are domestic cats that were born in or have reverted to a wild state.\n",
              "*   They are unfamiliar with and wary of humans and roam freely in urban and rural areas.\n",
              "*   Estimates of the United States feral population range from 25 to 60 million.\n",
              "*   Feral cats may live alone, but most are in large colonies, occupying a specific territory and usually associated with a source of food.\n",
              "*   Famous feral cat colonies are in Rome around the Colosseum and Forum Romanum.\n",
              "*   On islands, birds can contribute as much as 60% of a cat's diet.\n",
              "*   Domestic cats are a contributing factor to the decline of several species, leading to extinction in some cases (e.g., South Island piopio, Chatham rail, New Zealand merganser, Lyall's wren).\n",
              "*   One feral cat in New Zealand killed 102 New Zealand lesser short-tailed bats in seven days.\n",
              "*   In Australia, one study found feral cats to kill 466 million reptiles per year.\n",
              "*   More than 258 reptile species were identified as being predated by cats.\n",
              "*   Cats have contributed to the extinction of the Navassa curly-tailed lizard and Chioninia coctei.\n",
              "*   Cats are common pets throughout the world, and their worldwide population as of 2007 exceeded 500 million.\n",
              "*   As of 2024, the domestic cat was the second most popular pet in the United States, with 73.8 million cats owned and around 42.2 million households owning at least one cat.\n",
              "*   In the United Kingdom, 26% of adults have a cat, with an estimated population of 10.9 million pet cats as of 2020.\n",
              "*   As of 2021, there were an estimated 220 million owned and 480 million stray cats in the world.\n",
              "*   Cats have been used for millennia to control rodents, notably around grain stores and aboard ships.\n",
              "*   Cats are also used in the international fur trade and leather industries for making coats, hats, blankets, stuffed toys, shoes, gloves, and musical instruments.\n",
              "*   About 24 cats are needed to make a cat-fur coat.\n",
              "*   This use has been outlawed in the United States since 2000 and in the European Union (as well as the United Kingdom) since 2007.\n",
              "*   Cat pelts have been used for superstitious purposes as part of the practice of witchcraft, and are still made into blankets in Switzerland as traditional medicines.\n",
              "*   General estimates for the global population of domestic cats range widely from anywhere between 200 million to 600 million.\n",
              "*   Walter Chandoha made his career photographing cats after his 1949 images of Loco, a stray cat, were published.\n",
              "*   He is reported to have photographed 90,000 cats during his career and maintained an archive of 225,000 images.\n",
              "*   Pet humanization is a form of anthropomorphism in which cats are kept for companionship and treated more like human family members.\n",
              "*   A cat show is a judged event in which the owners of cats compete to win titles in various cat-registering organizations by entering their cats to be judged after a breed standard.\n",
              "*   It is often required that a cat must be healthy and vaccinated to participate in a cat show.\n",
              "*   Both pedigreed and non-purebred companion (\"moggy\") cats are admissible.\n",
              "*   Competing cats are compared to the applicable breed standard, and assessed for temperament.\n",
              "*   Cats can be infected or infested with viruses, bacteria, fungus, protozoans, arthropods, or worms that can transmit diseases to humans.\n",
              "*   The likelihood that a person will become diseased depends on the age and immune status of the person.\n",
              "*   Humans who have cats living in their home or in close association are more likely to become infected.\n",
              "*   Others might also acquire infections from cat feces and parasites exiting the cat's body.\n",
              "*   Some of the infections of most concern include salmonella, cat-scratch disease, and toxoplasmosis.\n",
              "*   In ancient Egypt, cats were revered, and the goddess Bastet often depicted in cat form.\n",
              "*   The Greek historian Herodotus reported that killing a cat was forbidden, and when a household cat died, the entire family mourned and shaved their eyebrows.\n",
              "*   Families took their dead cats to the sacred city of Bubastis, where they were embalmed and buried.\n",
              "*   Ancient Greeks and Romans kept weasels as pets, which were seen as the ideal rodent-killers.\n",
              "*   The earliest unmistakable evidence of the Greeks having domestic cats comes from two coins from Magna Graecia dating to the mid-fifth century BC.\n",
              "*   The usual ancient Greek word for 'cat' was ailouros, meaning 'thing with the waving tail'.\n",
              "*   Cats are rarely mentioned in ancient Greek literature.\n",
              "*   Aristotle remarked in his History of Animals that \"female cats are naturally lecherous\".\n",
              "*   The Greeks later syncretized their own goddess Artemis with the Egyptian goddess Bastet, adopting Bastet's associations with cats.\n",
              "*   In Ovid's Metamorphoses, when the deities flee to Egypt and take animal forms, the goddess Diana turns into a cat.\n",
              "*   Cats eventually displaced weasels as the pest control of choice.\n",
              "*   During the Middle Ages, many of Artemis's associations with cats were grafted onto the Virgin Mary.\n",
              "*   Cats are often shown in icons of Annunciation and of the Holy Family.\n",
              "*   According to Italian folklore, on the same night that Mary gave birth to Jesus, a cat in Bethlehem gave birth to a kitten.\n",
              "*   Domestic cats were spread throughout much of the rest of the world during the Age of Discovery, as ships' cats were carried on sailing ships to control shipboard rodents and as good-luck charms.\n",
              "*   Several ancient religions believed cats are exalted souls, companions or guides for humans, that are all-knowing but mute.\n",
              "*   In Japan, the maneki neko cat is a symbol of good fortune.\n",
              "*   In Norse mythology, Freyja, the goddess of love, beauty, and fertility, is depicted as riding a chariot drawn by cats.\n",
              "*   In Jewish legend, the first cat was living in the house of the first man Adam as a pet that got rid of mice.\n",
              "*   Although no species are sacred in Islam, cats are revered by Muslims.\n",
              "*   One of the companions of Muhammad was known as Abu Hurayrah (\"father of the kitten\"), in reference to his documented affection to cats.\n",
              "*   Many cultures have negative superstitions about cats.\n",
              "*   For example, that encountering a black cat (\"crossing one's path\") leads to bad luck, or that cats are witches' familiar spirits.\n",
              "*   The killing of cats in medieval Ypres, Belgium, is commemorated in the present-day Kattenstoet (cat parade).\n",
              "*   In mid-16th century France, cats were allegedly burnt alive as a form of entertainment, particularly during midsummer festivals.\n",
              "*   According to a myth in many cultures, cats have multiple lives.\n",
              "*   In many countries, they are believed to have nine lives, but in Italy, Germany, Greece, Brazil, and some Spanish-speaking regions, they are said to have seven lives, while in Arabic traditions, the number of lives is six.\n",
              "*   An early mention of the myth is in John Heywood's The Proverbs of John Heywood (1546).\n",
              "*   The myth is attributed to the natural suppleness and swiftness cats exhibit to escape life-threatening situations.\n",
              "*   Falling cats often land on their feet, using an instinctive righting reflex.\n",
              "\n",
              "Based on:\n",
              "  https://en.wikipedia.org/wiki/Cat"
            ],
            "text/plain": [
              "<IPython.core.display.Markdown object>"
            ]
          },
          "metadata": {},
          "output_type": "display_data"
        }
      ],
      "source": [
        "display(Markdown(summaries[np.argmax(sim_value)]))"
      ]
    },
    {
      "cell_type": "markdown",
      "metadata": {
        "id": "UjDN2OUpsL6M"
      },
      "source": [
        "You have now created a search re-ranking engine using embeddings based on your own preference!"
      ]
    },
    {
      "cell_type": "markdown",
      "metadata": {
        "id": "AKH2vs2Lc1R1"
      },
      "source": [
        "## Next steps\n",
        "\n",
        "I hope you found this example helpful! Check out more examples in the [Cookbook](https://github.com/google-gemini/cookbook) to learn more."
      ]
    }
  ],
  "metadata": {
    "colab": {
      "name": "Search_reranking_using_embeddings.ipynb",
      "toc_visible": true
    },
    "kernelspec": {
      "display_name": "Python 3",
      "name": "python3"
    }
  },
  "nbformat": 4,
  "nbformat_minor": 0
}
