{
  "cells": [
    {
      "cell_type": "markdown",
      "metadata": {
        "id": "WMGdicu8PVD9"
      },
      "source": [
        "# Introduction to Gemini 2.0 Flash Thinking"
      ]
    },
    {
      "cell_type": "markdown",
      "metadata": {
        "id": "b72aa6db027f"
      },
      "source": [
        "### This notebook has been moved in the [quickstarts](../quickstarts/Get_started_thinking.ipynb) section where you can find all the guides and tutorials to get to know the Gemini capabilities."
      ]
    }
  ],
  "metadata": {
    "colab": {
      "name": "thinking.ipynb",
      "toc_visible": true
    },
    "kernelspec": {
      "display_name": "Python 3",
      "name": "python3"
    }
  },
  "nbformat": 4,
  "nbformat_minor": 0
}
