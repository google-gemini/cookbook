{
  "cells": [
    {
      "cell_type": "markdown",
      "metadata": {
        "id": "Tce3stUlHN0L"
      },
      "source": [
        "##### Copyright 2025 Google LLC."
      ]
    },
    {
      "cell_type": "code",
      "execution_count": 1,
      "metadata": {
        "cellView": "form",
        "id": "tuOe1ymfHZPu"
      },
      "outputs": [],
      "source": [
        "# @title Licensed under the Apache License, Version 2.0 (the \"License\");\n",
        "# you may not use this file except in compliance with the License.\n",
        "# You may obtain a copy of the License at\n",
        "#\n",
        "# https://www.apache.org/licenses/LICENSE-2.0\n",
        "#\n",
        "# Unless required by applicable law or agreed to in writing, software\n",
        "# distributed under the License is distributed on an \"AS IS\" BASIS,\n",
        "# WITHOUT WARRANTIES OR CONDITIONS OF ANY KIND, either express or implied.\n",
        "# See the License for the specific language governing permissions and\n",
        "# limitations under the License."
      ]
    },
    {
      "cell_type": "markdown",
      "metadata": {
        "id": "oJt4OFKPgO8C"
      },
      "source": [
        "# Search re-ranking using Gemini embeddings"
      ]
    },
    {
      "cell_type": "markdown",
      "metadata": {
        "id": "k5n0sCc_fKcB"
      },
      "source": [
        "<a target=\"_blank\" href=\"https://colab.research.google.com/github/google-gemini/cookbook/blob/main/examples/Search_reranking_using_embeddings.ipynb\"><img src=\"https://colab.research.google.com/assets/colab-badge.svg\" height=30/></a>"
      ]
    },
    {
      "cell_type": "markdown",
      "metadata": {
        "id": "0UO0Cgq0mRlG"
      },
      "source": [
        "This notebook demonstrates the use of embeddings to re-rank search results. This walkthrough will focus on the following objectives:\n",
        "\n",
        "\n",
        "\n",
        "1.   Setting up your development environment and API access to use Gemini.\n",
        "2.   Using Gemini's function calling support to access the Wikipedia API.\n",
        "3.   Embedding content via Gemini API.\n",
        "4.   Re-ranking the search results.\n"
      ]
    },
    {
      "cell_type": "markdown",
      "metadata": {
        "id": "-e5Aje-DTQOq"
      },
      "source": [
        "This is how you will implement search re-ranking:\n",
        "\n",
        "\n",
        "1.   The user will make a search query.\n",
        "2.   You will use Wikipedia API to return the relevant search results.\n",
        "3.   The search results will be embedded and their relevance will be evaluated by calculating distance metrics like cosine similarity.\n",
        "4.   The most relevant search result will be returned as the final answer."
      ]
    },
    {
      "cell_type": "markdown",
      "metadata": {
        "id": "rpVL_QrF5-oF"
      },
      "source": [
        "> The non-source code materials in this notebook are licensed under Creative Commons - Attribution-ShareAlike CC-BY-SA 4.0, https://creativecommons.org/licenses/by-sa/4.0/legalcode."
      ]
    },
    {
      "cell_type": "markdown",
      "metadata": {
        "id": "pwImlRg9DUp7"
      },
      "source": [
        "## Setup\n"
      ]
    },
    {
      "cell_type": "code",
      "execution_count": 2,
      "metadata": {
        "id": "Nv_6f_qNHe_2",
        "outputId": "5ef729a9-ab53-45a4-959e-58100d1db496",
        "colab": {
          "base_uri": "https://localhost:8080/"
        }
      },
      "outputs": [
        {
          "output_type": "stream",
          "name": "stdout",
          "text": [
            "\u001b[?25l   \u001b[90m━━━━━━━━━━━━━━━━━━━━━━━━━━━━━━━━━━━━━━━━\u001b[0m \u001b[32m0.0/154.7 kB\u001b[0m \u001b[31m?\u001b[0m eta \u001b[36m-:--:--\u001b[0m\r\u001b[2K   \u001b[90m━━━━━━━━━━━━━━━━━━━━━━━━━━━━━━━━━━━━━━━━\u001b[0m \u001b[32m154.7/154.7 kB\u001b[0m \u001b[31m6.4 MB/s\u001b[0m eta \u001b[36m0:00:00\u001b[0m\n",
            "\u001b[?25h  Preparing metadata (setup.py) ... \u001b[?25l\u001b[?25hdone\n",
            "  Building wheel for wikipedia (setup.py) ... \u001b[?25l\u001b[?25hdone\n"
          ]
        }
      ],
      "source": [
        "%pip install -q -U \"google-genai>=1.0.0\"\n",
        "%pip install -q wikipedia"
      ]
    },
    {
      "cell_type": "markdown",
      "metadata": {
        "id": "739f0bb73f05"
      },
      "source": [
        "Note: The [`wikipedia` package](https://pypi.org/project/wikipedia/) notes that it was \"designed for ease of use and simplicity, not for advanced use\", and that production or heavy use should instead \"use [Pywikipediabot](http://www.mediawiki.org/wiki/Manual:Pywikipediabot) or one of the other more advanced [Python MediaWiki API wrappers](http://en.wikipedia.org/wiki/Wikipedia:Creating_a_bot#Python)\"."
      ]
    },
    {
      "cell_type": "markdown",
      "metadata": {
        "id": "aeo_9J9iDtCx"
      },
      "source": [
        "To run the following cell, your API key must be stored it in a Colab Secret named `GOOGLE_API_KEY`. If you don't already have an API key, or you're not sure how to create a Colab Secret, see the [Authentication](https://github.com/google-gemini/cookbook/blob/main/quickstarts/Authentication.ipynb) quickstart for an example."
      ]
    },
    {
      "cell_type": "code",
      "execution_count": 3,
      "metadata": {
        "id": "yxzEH0GqLshI"
      },
      "outputs": [],
      "source": [
        "from google.colab import userdata\n",
        "from google import genai\n",
        "API_KEY = userdata.get('GOOGLE_API_KEY')\n",
        "client = genai.Client(api_key=API_KEY)"
      ]
    },
    {
      "cell_type": "code",
      "execution_count": 4,
      "metadata": {
        "cellView": "code",
        "id": "O7JW3OsF8Ojo"
      },
      "outputs": [],
      "source": [
        "# Define the model to be used in this notebook\n",
        "# Note: experimental models have more limited quota for API calls.\n",
        "\n",
        "model=\"gemini-2.0-flash\" # @param [\"gemini-2.0-flash-lite\",\"gemini-2.0-flash\",\"gemini-2.5-pro-exp-03-25\"] {\"allow-input\":true, isTemplate: true}"
      ]
    },
    {
      "cell_type": "markdown",
      "metadata": {
        "id": "0hkJSFIWI7G1"
      },
      "source": [
        "## Function Calling with the Gemini API"
      ]
    },
    {
      "cell_type": "markdown",
      "metadata": {
        "id": "7HjN6hsAJkOq"
      },
      "source": [
        "As stated earlier, this tutorial uses Gemini's function calling support to access the Wikipedia API. Please refer to the [docs](https://ai.google.dev/docs/function_calling) to learn more about function calling."
      ]
    },
    {
      "cell_type": "markdown",
      "metadata": {
        "id": "fpFkazXUenkK"
      },
      "source": [
        "### Step 1: Define the Search Function"
      ]
    },
    {
      "cell_type": "markdown",
      "metadata": {
        "id": "2fp-m-5Ke0XY"
      },
      "source": [
        "To cater to the search engine needs, you will design this function in the following way:\n",
        "\n",
        "\n",
        "*   For each search query, the search engine will use the `wikipedia.search` method to get relevant topics.\n",
        "*   From the relevant topics, the engine will choose `n_topics(int)` top candidates and will use `gemini-2.0-flash` to extract relevant information from the page.\n",
        "*   The engine will avoid duplicate entries by maintaining a search history.\n"
      ]
    },
    {
      "cell_type": "code",
      "execution_count": 5,
      "metadata": {
        "cellView": "code",
        "id": "2U27tdP8OBys"
      },
      "outputs": [],
      "source": [
        "from typing import List\n",
        "import textwrap\n",
        "\n",
        "import wikipedia\n",
        "from wikipedia.exceptions import DisambiguationError, PageError\n",
        "\n",
        "# This is the actual function that would be called based on the model's suggestion\n",
        "# Define the function with type hints and docstring\n",
        "def wikipedia_search(search_queries: List[str]) -> List[str]:\n",
        "  \"\"\"Search wikipedia for each query and summarize relevant docs.\n",
        "    Args:\n",
        "        search_queries: The user query to search wikipedia.\n",
        "\n",
        "    Returns:\n",
        "        A list of relevant information from wikipedia based on the query.\n",
        "  \"\"\"\n",
        "  n_topics=3\n",
        "  search_history = set() # tracking search history\n",
        "  search_urls = []\n",
        "\n",
        "  summary_results = []\n",
        "\n",
        "  for query in search_queries:\n",
        "    print(f'Searching for \"{query}\"')\n",
        "    search_terms = wikipedia.search(query)\n",
        "\n",
        "    print(f\"Related search terms: {search_terms[:n_topics]}\")\n",
        "    for search_term in search_terms[:n_topics]: # select first `n_topics` candidates\n",
        "      if search_term in search_history: # check if the topic is already covered\n",
        "        continue\n",
        "\n",
        "      print(f'Fetching page: \"{search_term}\"')\n",
        "      search_history.add(search_term) # add to search history\n",
        "\n",
        "      try:\n",
        "        # extract the relevant data by using `gemini-2.0-flash` model\n",
        "        page = wikipedia.page(search_term, auto_suggest=False)\n",
        "        url = page.url\n",
        "        print(f\"Information Source: {url}\")\n",
        "        search_urls.append(url)\n",
        "        page = page.content\n",
        "\n",
        "        response = client.models.generate_content(\n",
        "                model=model,\n",
        "                contents=textwrap.dedent(f\"\"\"\n",
        "                    Extract relevant information\n",
        "                    about user's query: {query}\n",
        "                    From this source:\n",
        "\n",
        "                    {page}\n",
        "\n",
        "                    Note: Do not summarize. Only Extract and return the relevant information\n",
        "                \"\"\",\n",
        "            ),\n",
        "        )\n",
        "\n",
        "        urls = [url]\n",
        "\n",
        "        if response.candidates[0].citation_metadata:\n",
        "          extra_citations = response.candidates[0].citation_metadata.citation_sources\n",
        "          extra_urls = [source.url for source in extra_citations]\n",
        "          urls.extend(extra_urls)\n",
        "          search_urls.extend(extra_urls)\n",
        "          print(\"Additional citations:\", response.candidates[0].citation_metadata.citation_sources)\n",
        "        try:\n",
        "          text = response.text\n",
        "        except ValueError:\n",
        "          pass\n",
        "        else:\n",
        "          summary_results.append(text + \"\\n\\nBased on:\\n  \" + ',\\n  '.join(urls))\n",
        "\n",
        "      except DisambiguationError:\n",
        "        print(f\"\"\"Results when searching for \"{search_term}\" (originally for \"{query}\")\n",
        "        were ambiguous, hence skipping\"\"\")\n",
        "        continue\n",
        "\n",
        "      except PageError:\n",
        "        print(f'{search_term} did not match with any page id, hence skipping.')\n",
        "        continue\n",
        "\n",
        "      except:\n",
        "        print(f'{search_term} did not match with any page id, hence skipping.')\n",
        "        continue\n",
        "    print()\n",
        "\n",
        "  print(f\"Information Sources:\")\n",
        "  for url in search_urls:\n",
        "    print('    ', url)\n",
        "\n",
        "  return summary_results"
      ]
    },
    {
      "cell_type": "code",
      "execution_count": 6,
      "metadata": {
        "id": "EWKkkKDXmzOX",
        "outputId": "44b5a847-e2f7-4796-8ccc-ae6d14be6aab",
        "colab": {
          "base_uri": "https://localhost:8080/"
        }
      },
      "outputs": [
        {
          "output_type": "stream",
          "name": "stdout",
          "text": [
            "Searching for \"What is a transformer for LLMs?\"\n",
            "Related search terms: ['Attention Is All You Need', 'Large language model', 'Transformer (deep learning architecture)']\n",
            "Fetching page: \"Attention Is All You Need\"\n",
            "Information Source: https://en.wikipedia.org/wiki/Attention_Is_All_You_Need\n",
            "Fetching page: \"Large language model\"\n",
            "Information Source: https://en.wikipedia.org/wiki/Large_language_model\n",
            "Fetching page: \"Transformer (deep learning architecture)\"\n",
            "Information Source: https://en.wikipedia.org/wiki/Transformer_(deep_learning_architecture)\n",
            "Transformer (deep learning architecture) did not match with any page id, hence skipping.\n",
            "\n",
            "Information Sources:\n",
            "     https://en.wikipedia.org/wiki/Attention_Is_All_You_Need\n",
            "     https://en.wikipedia.org/wiki/Large_language_model\n",
            "     https://en.wikipedia.org/wiki/Transformer_(deep_learning_architecture)\n"
          ]
        }
      ],
      "source": [
        "example = wikipedia_search([\"What is a transformer for LLMs?\"])"
      ]
    },
    {
      "cell_type": "markdown",
      "metadata": {
        "id": "8bPT114QEPgW"
      },
      "source": [
        "Here is what the search results look like:"
      ]
    },
    {
      "cell_type": "code",
      "execution_count": 7,
      "metadata": {
        "id": "8wy7YUFqEYTv",
        "outputId": "077989f8-8c6f-4906-c380-96c13288c222",
        "colab": {
          "base_uri": "https://localhost:8080/",
          "height": 552
        }
      },
      "outputs": [
        {
          "output_type": "display_data",
          "data": {
            "text/plain": [
              "<IPython.core.display.Markdown object>"
            ],
            "text/markdown": "Here's the extracted information from the provided source, focusing on what a Transformer is in the context of Large Language Models (LLMs):\n\n*   **Underlying Architecture:** The Transformer architecture forms the underlying architecture for most modern Large Language Models (LLMs).\n\n*   **Parallelizability:** A key reason for the Transformer's preference in LLMs is its parallelizability, allowing for faster training times and the ability to train bigger models on GPUs.\n\n*   **Key Mechanisms Introduced:**\n\n    *   **Scaled dot-product attention & self-attention:** The use of the scaled dot-product attention and self-attention mechanism instead of a Recurrent neural network or Long short-term memory.\n\n    *   **Multi-head attention:** Multi-head attention enhances this process by introducing multiple parallel attention heads. Each attention head learns different linear projections of the Q, K, and V matrices. This allows the model to capture different aspects of the relationships between words in the sequence simultaneously, rather than focusing on a single aspect.\n\n    *   **Positional encoding:** The paper relied on the use of sine and cosine wave functions to encode the position of the token into the embedding because the Transformer model is not a seq2seq model and does not rely on the sequence of the text in order to perform encoding and decoding.\n\n*   **Origin:** The Transformer architecture was introduced in the 2017 paper \"Attention Is All You Need.\"\n\n*   **Purpose:** The original focus was on improving seq2seq techniques for machine translation. The removal of recurrence to process all tokens in parallel, while preserving its dot-product attention mechanism to keep its text processing performance. This led to the introduction of a multi-head attention model that was easier to parallelize due to the use of independent heads and the lack of recurrence. Its parallelizability was an important factor to its widespread use in large neural networks.\n\n\n\nBased on:\n  https://en.wikipedia.org/wiki/Attention_Is_All_You_Need"
          },
          "metadata": {}
        },
        {
          "output_type": "display_data",
          "data": {
            "text/plain": [
              "<IPython.core.display.Markdown object>"
            ],
            "text/markdown": "Here's the extracted information about transformers for LLMs from the provided document:\n\n*   **Transformer Architecture:** Introduced in 2017 by Google researchers in the paper \"Attention Is All You Need\". It was designed to improve upon previous seq2seq technology and is based on the attention mechanism.\n*   **Key Models:** BERT (encoder-only) and GPT (decoder-only) are examples of models based on the transformer architecture.\n*   **Dominance:** As of 2024, the largest and most capable LLMs are based on the transformer architecture.\n*   **Attention Mechanism:** The attention mechanism is used to find out which tokens are relevant to each other within the scope of the context window by calculating \"soft\" weights for each token.\n\n\nBased on:\n  https://en.wikipedia.org/wiki/Large_language_model"
          },
          "metadata": {}
        }
      ],
      "source": [
        "from IPython.display import display, Markdown\n",
        "\n",
        "for e in example:\n",
        "  display(Markdown(e))"
      ]
    },
    {
      "cell_type": "markdown",
      "metadata": {
        "id": "SKcH1LICeg5Z"
      },
      "source": [
        "### Step 2: Pass the System Instructions and Tools to the Model"
      ]
    },
    {
      "cell_type": "markdown",
      "metadata": {
        "id": "VedPbpzlh6jX"
      },
      "source": [
        "### Define the prompt"
      ]
    },
    {
      "cell_type": "markdown",
      "metadata": {
        "id": "5sLKZik7isBW"
      },
      "source": [
        "In order to have multiple supporting search queries to the user's original query, you will instruct the model to generate more such queries. This would help the engine to cover the asked question on comprehensive levels."
      ]
    },
    {
      "cell_type": "code",
      "execution_count": 8,
      "metadata": {
        "id": "Z-Ym3H9KIosY"
      },
      "outputs": [],
      "source": [
        "instructions = \"\"\"\n",
        "    You have access to the Wikipedia API which you will be using\n",
        "    to answer a user's query. Your job is to generate a list of search queries which\n",
        "    might answer a user's question. Be creative by using various key-phrases from\n",
        "    the user's query. To generate variety of queries, ask questions which are\n",
        "    related to the user's query that might help to find the answer. The more\n",
        "    queries you generate the better are the odds of you finding the correct answer.\n",
        "    Here is an example:\n",
        "\n",
        "    user: Tell me about Cricket World cup 2023 winners.\n",
        "\n",
        "    function_call: wikipedia_search([\n",
        "        'What is the name of the team that won the Cricket World Cup 2023?',\n",
        "        'Who was the captain of the Cricket World Cup 2023 winning team?',\n",
        "        'Which country hosted the Cricket World Cup 2023?',\n",
        "        'What was the venue of the Cricket World Cup 2023 final match?',\n",
        "        'Cricket World cup 2023',\n",
        "        'Who lifted the Cricket World Cup 2023 trophy?'\n",
        "    ])\n",
        "\n",
        "    The search function will return a list of article summaries, use these to\n",
        "    answer the user's question.\n",
        "\"\"\""
      ]
    },
    {
      "cell_type": "markdown",
      "metadata": {
        "id": "qQcxR7cjLjGM"
      },
      "source": [
        "When using the Python SDK, you can provide Python functions directly as tools. The SDK automatically converts the Python function to declarations, handles the function call execution and response cycle for you. The Python SDK then automatically:\n",
        "\n",
        "- Detects function call responses from the model.\n",
        "- Call the corresponding Python function in your code.\n",
        "- Sends the function response back to the model.\n",
        "- Returns the model's final text response.\n",
        "\n",
        "To use this, define your function with type hints and a docstring as you did above, and then pass the function itself (not a JSON declaration) as a tool. Note: This approach only handles annotations of `AllowedType = (int | float | bool | str | list['AllowedType'] | dict[str, AllowedType])`"
      ]
    },
    {
      "cell_type": "markdown",
      "metadata": {
        "id": "3Wyn3lV-d5S_"
      },
      "source": [
        "In order to yield creative and a more random variety of questions, you could also utilize the model's temperature parameter. Values can range from [0.0,1.0], inclusive. A value closer to 1.0 will produce responses that are more varied and creative, while a value closer to 0.0 will typically result in more straightforward responses from the model."
      ]
    },
    {
      "cell_type": "code",
      "execution_count": 9,
      "metadata": {
        "id": "39kqTnBRLDeQ"
      },
      "outputs": [],
      "source": [
        "from google.genai import types\n",
        "\n",
        "config = types.GenerateContentConfig(\n",
        "    tools=[wikipedia_search],\n",
        "    system_instruction=instructions,\n",
        ") # Pass the function itself"
      ]
    },
    {
      "cell_type": "markdown",
      "metadata": {
        "id": "TD1vU6FXhYO5"
      },
      "source": [
        "### Step 3: Enable Automatic Function Calling and Call the API (Python SDK Only)"
      ]
    },
    {
      "cell_type": "markdown",
      "metadata": {
        "id": "qyUSnXJ5hg6x"
      },
      "source": [
        "Now start a new chat with default value of `automatic_function_calling`. Using the default `disable=None`, the `genai.ChatSession` will handle the back and forth required to call the function, and return the final response:"
      ]
    },
    {
      "cell_type": "code",
      "execution_count": 11,
      "metadata": {
        "cellView": "code",
        "id": "ZNJqA60yKNpT",
        "outputId": "a7c9100a-61f9-47dc-9e63-273b07719442",
        "colab": {
          "base_uri": "https://localhost:8080/"
        }
      },
      "outputs": [
        {
          "output_type": "stream",
          "name": "stdout",
          "text": [
            "Searching for \"dog characteristics\"\n",
            "Related search terms: ['Dog breed', 'Dog sex', 'Pekingese']\n",
            "Fetching page: \"Dog breed\"\n",
            "Information Source: https://en.wikipedia.org/wiki/Dog_breed\n",
            "Fetching page: \"Dog sex\"\n"
          ]
        },
        {
          "output_type": "stream",
          "name": "stderr",
          "text": [
            "/usr/local/lib/python3.11/dist-packages/wikipedia/wikipedia.py:389: GuessedAtParserWarning: No parser was explicitly specified, so I'm using the best available HTML parser for this system (\"lxml\"). This usually isn't a problem, but if you run this code on another system, or in a different virtual environment, it may use a different parser and behave differently.\n",
            "\n",
            "The code that caused this warning is on line 389 of the file /usr/local/lib/python3.11/dist-packages/wikipedia/wikipedia.py. To get rid of this warning, pass the additional argument 'features=\"lxml\"' to the BeautifulSoup constructor.\n",
            "\n",
            "  lis = BeautifulSoup(html).find_all('li')\n"
          ]
        },
        {
          "output_type": "stream",
          "name": "stdout",
          "text": [
            "Results when searching for \"Dog sex\" (originally for \"dog characteristics\")\n",
            "        were ambiguous, hence skipping\n",
            "Fetching page: \"Pekingese\"\n",
            "Information Source: https://en.wikipedia.org/wiki/Pekingese\n",
            "\n",
            "Searching for \"cat characteristics\"\n",
            "Related search terms: ['Aegean cat', 'Cat', 'Maine Coon']\n",
            "Fetching page: \"Aegean cat\"\n",
            "Information Source: https://en.wikipedia.org/wiki/Aegean_cat\n",
            "Fetching page: \"Cat\"\n",
            "Information Source: https://en.wikipedia.org/wiki/Cat\n",
            "Fetching page: \"Maine Coon\"\n",
            "Information Source: https://en.wikipedia.org/wiki/Maine_Coon\n",
            "\n",
            "Searching for \"differences between dogs and cats\"\n",
            "Related search terms: ['Cat people and dog people', 'Tabby cat', 'Cat']\n",
            "Fetching page: \"Cat people and dog people\"\n",
            "Information Source: https://en.wikipedia.org/wiki/Cat_people_and_dog_people\n",
            "Fetching page: \"Tabby cat\"\n",
            "Information Source: https://en.wikipedia.org/wiki/Tabby_cat\n",
            "\n",
            "Searching for \"dog behavior\"\n",
            "Related search terms: ['Dog behavior', 'Dog training', 'Dog']\n",
            "Fetching page: \"Dog behavior\"\n",
            "Information Source: https://en.wikipedia.org/wiki/Dog_behavior\n",
            "Dog behavior did not match with any page id, hence skipping.\n",
            "Fetching page: \"Dog training\"\n",
            "Information Source: https://en.wikipedia.org/wiki/Dog_training\n",
            "Dog training did not match with any page id, hence skipping.\n",
            "Fetching page: \"Dog\"\n",
            "Information Source: https://en.wikipedia.org/wiki/Dog\n",
            "Dog did not match with any page id, hence skipping.\n",
            "\n",
            "Searching for \"cat behavior\"\n",
            "Related search terms: ['Cat behavior', 'Cat communication', 'Cat']\n",
            "Fetching page: \"Cat behavior\"\n",
            "Information Source: https://en.wikipedia.org/wiki/Cat_behavior\n",
            "Cat behavior did not match with any page id, hence skipping.\n",
            "Fetching page: \"Cat communication\"\n",
            "Information Source: https://en.wikipedia.org/wiki/Cat_communication\n",
            "Cat communication did not match with any page id, hence skipping.\n",
            "\n",
            "Searching for \"dog breeds characteristics\"\n",
            "Related search terms: ['Dog breed', 'Dog type', 'Breed-specific legislation']\n",
            "Fetching page: \"Dog type\"\n",
            "Information Source: https://en.wikipedia.org/wiki/Dog_type\n",
            "Fetching page: \"Breed-specific legislation\"\n",
            "Information Source: https://en.wikipedia.org/wiki/Breed-specific_legislation\n",
            "Breed-specific legislation did not match with any page id, hence skipping.\n",
            "\n",
            "Searching for \"cat breeds characteristics\"\n",
            "Related search terms: ['Maine Coon', 'Manx cat', 'Raas cat']\n",
            "Fetching page: \"Manx cat\"\n",
            "Information Source: https://en.wikipedia.org/wiki/Manx_cat\n",
            "Fetching page: \"Raas cat\"\n",
            "Information Source: https://en.wikipedia.org/wiki/Raas_cat\n",
            "Raas cat did not match with any page id, hence skipping.\n",
            "\n",
            "Information Sources:\n",
            "     https://en.wikipedia.org/wiki/Dog_breed\n",
            "     https://en.wikipedia.org/wiki/Pekingese\n",
            "     https://en.wikipedia.org/wiki/Aegean_cat\n",
            "     https://en.wikipedia.org/wiki/Cat\n",
            "     https://en.wikipedia.org/wiki/Maine_Coon\n",
            "     https://en.wikipedia.org/wiki/Cat_people_and_dog_people\n",
            "     https://en.wikipedia.org/wiki/Tabby_cat\n",
            "     https://en.wikipedia.org/wiki/Dog_behavior\n",
            "     https://en.wikipedia.org/wiki/Dog_training\n",
            "     https://en.wikipedia.org/wiki/Dog\n",
            "     https://en.wikipedia.org/wiki/Cat_behavior\n",
            "     https://en.wikipedia.org/wiki/Cat_communication\n",
            "     https://en.wikipedia.org/wiki/Dog_type\n",
            "     https://en.wikipedia.org/wiki/Breed-specific_legislation\n",
            "     https://en.wikipedia.org/wiki/Manx_cat\n",
            "     https://en.wikipedia.org/wiki/Raas_cat\n"
          ]
        }
      ],
      "source": [
        "chat = client.chats.create(model=model, config=config, history=[])\n",
        "\n",
        "query = \"Compare dog and cat characteristics.\"\n",
        "\n",
        "response = chat.send_message(query)"
      ]
    },
    {
      "cell_type": "code",
      "execution_count": 12,
      "metadata": {
        "id": "1l8KWb13M_lJ",
        "outputId": "2a08d44a-8adc-4e81-de51-9d5907ec9ab7",
        "colab": {
          "base_uri": "https://localhost:8080/",
          "height": 337
        }
      },
      "outputs": [
        {
          "output_type": "display_data",
          "data": {
            "text/plain": [
              "<IPython.core.display.Markdown object>"
            ],
            "text/markdown": "The search results provide information about the characteristics of dogs and cats.\nHere's a summary of the key points:\n\n**Dog Characteristics:**\n\n*   Morphology: Body size and shape, tail phenotype, fur type and color, skull shape.\n*   Behavioral Traits: Guarding, herding, hunting, retrieving, scent detection.\n*   Personality Traits: Hyper-social behavior, boldness, aggression.\n*   Temperament: Anxiety and Fear which are linked to gene mutations.\n*   Other characteristics: Movement and fitness for purpose.\n\n**Cat Characteristics:**\n\n*   General: Small, domesticated carnivores with strong, flexible bodies, quick reflexes, and sharp teeth.\n*   Senses: Well-developed night vision and sense of smell. Can hear sounds too faint or too high for humans.\n*   Communication: Includes meowing, purring, trilling, hissing, growling, grunting, and body language. They also secrete and perceive pheromones.\n*   Intelligence: Adaptable, learn through observation, and solve problems. Possess strong memories.\n*   Coat: A variety of colors that are influenced by the genes MC1R and ASIP.\n*   Behavior: Outdoor cats are crepuscular.\n*   Grooming: Spend considerable time licking their coats to keep them clean.\n\nThe search results also include information about specific breeds such as Pekingese, Aegean cat, Maine Coon and Manx cat.\n"
          },
          "metadata": {}
        }
      ],
      "source": [
        "display(Markdown(response.text))"
      ]
    },
    {
      "cell_type": "markdown",
      "metadata": {
        "id": "ua7DPlj7HZyO"
      },
      "source": [
        "Check for additional citations:"
      ]
    },
    {
      "cell_type": "code",
      "execution_count": 13,
      "metadata": {
        "id": "ASotq7EcHAeo",
        "outputId": "0bc90683-c3cb-4d06-d73f-760cbf16aa2d",
        "colab": {
          "base_uri": "https://localhost:8080/",
          "height": 35
        }
      },
      "outputs": [
        {
          "output_type": "execute_result",
          "data": {
            "text/plain": [
              "'No citations found'"
            ],
            "application/vnd.google.colaboratory.intrinsic+json": {
              "type": "string"
            }
          },
          "metadata": {},
          "execution_count": 13
        }
      ],
      "source": [
        "response.candidates[0].citation_metadata or 'No citations found'"
      ]
    },
    {
      "cell_type": "markdown",
      "metadata": {
        "id": "lIC_Mpd0-3vj"
      },
      "source": [
        "### Step 4: Understand Chat History"
      ]
    },
    {
      "cell_type": "markdown",
      "metadata": {
        "id": "A0CfKMjYFSQm"
      },
      "source": [
        "That looks like it worked. You can go through the chat history to see the details of what was sent and received in the function calls:"
      ]
    },
    {
      "cell_type": "code",
      "execution_count": 14,
      "metadata": {
        "id": "_9h2b8saNnxh",
        "outputId": "33156661-dc9e-426d-88ba-40d01f9ee7be",
        "colab": {
          "base_uri": "https://localhost:8080/",
          "height": 1000
        }
      },
      "outputs": [
        {
          "output_type": "display_data",
          "data": {
            "text/plain": [
              "<IPython.core.display.Markdown object>"
            ],
            "text/markdown": "### user:"
          },
          "metadata": {}
        },
        {
          "output_type": "display_data",
          "data": {
            "text/plain": [
              "<IPython.core.display.Markdown object>"
            ],
            "text/markdown": "Compare dog and cat characteristics."
          },
          "metadata": {}
        },
        {
          "output_type": "stream",
          "name": "stdout",
          "text": [
            "--------------------------------------------------------------------------------\n"
          ]
        },
        {
          "output_type": "display_data",
          "data": {
            "text/plain": [
              "<IPython.core.display.Markdown object>"
            ],
            "text/markdown": "### model:"
          },
          "metadata": {}
        },
        {
          "output_type": "stream",
          "name": "stdout",
          "text": [
            "wikipedia_search {\n",
            "  \"search_queries\": [\n",
            "    \"dog characteristics\",\n",
            "    \"cat characteristics\",\n",
            "    \"differences between dogs and cats\",\n",
            "    \"dog behavior\",\n",
            "    \"cat behavior\",\n",
            "    \"dog breeds characteristics\",\n",
            "    \"cat breeds characteristics\"\n",
            "  ]\n",
            "}\n",
            "--------------------------------------------------------------------------------\n"
          ]
        },
        {
          "output_type": "display_data",
          "data": {
            "text/plain": [
              "<IPython.core.display.Markdown object>"
            ],
            "text/markdown": "### user:"
          },
          "metadata": {}
        },
        {
          "output_type": "display_data",
          "data": {
            "text/plain": [
              "<IPython.core.display.Markdown object>"
            ],
            "text/markdown": "Here's a breakdown of dog characteristics extracted from the provided text:\n\n*   **Morphology:**\n    *   Body size and shape\n    *   Tail phenotype\n    *   Fur type and color\n    *   Skull shape\n*   **Behavioral Traits:**\n    *   Guarding\n    *   Herding\n    *   Hunting\n    *   Retrieving\n    *   Scent detection\n*   **Personality Traits:**\n    *   Hyper-social behavior\n    *   Boldness\n    *   Aggression\n*   **Temperament:**\n    * Anxiety\n    * Fear\n    * Linked to gene mutations\n* **Other characteristics:**\n    * Movement\n    * Fitness for purpose\n\nBased on:\n  https://en.wikipedia.org/wiki/Dog_breed"
          },
          "metadata": {}
        },
        {
          "output_type": "display_data",
          "data": {
            "text/plain": [
              "<IPython.core.display.Markdown object>"
            ],
            "text/markdown": "*   **Appearance:**\n    *   Flat face and large eyes.\n    *   Compact and low to the ground body.\n    *   Muscular and durable body.\n    *   Unusual rolling gait.\n*   **Coat:**\n    *   Wide range of color combinations allowed, including gold, red, sable, cream, black, white, tan, black-and-tan, and occasionally 'blue' or slate grey.\n    *   Black mask or self-colored face is acceptable.\n    *   Exposed skin of the muzzle, nose, lips and eye rims is black.\n    *   Double-coated and requires frequent extensive grooming due to heavy shedding.\n*   **Size:**\n    *   Weigh from 7 to 14 lb (3.2 to 6.4 kg).\n    *   Stand about 6–9 inches (15–23 cm) at the withers.\n    *   Smaller Pekingese are referred to as \"sleeve\" Pekingese.\n    *   Slightly longer than tall (ratio of 3 high to 5 long).\n*   **Health:**\n    *   Life expectancy of 13.3 years (UK study).\n    *   Leading cause of death is trauma.\n    *   Primary health concerns include neurological and cardiovascular defects.\n    *   Brachycephaly can lead to eye issues and breathing problems.\n    *   Potential for skin allergies (including hotspots) and eye ulcers.\n    *   May develop keratoconjunctivitis sicca (dry eye) and progressive retinal atrophy.\n*   **Care:**\n    *   Requires daily brushing and grooming every 8–12 weeks.\n    *   Remove foreign materials from the eyes daily and clean face creases.\n    *   Keep the fur in the rear end clean and well-groomed.\n    *   Prone to heatstroke.\n    *   Minimal exercise needs due to breathing difficulties; monitor breathing during exercise.\n*   **Sleeve Pekingese:**\n    *   Miniature version of the standard Pekingese.\n    *   Historically carried in the sleeves of robes by Chinese Imperial Household members.\n    *   In Britain, considered a Sleeve Pekingese if no more than 6–7 pounds in weight, often appearing to be only about 3–4 pounds.\n\n\nBased on:\n  https://en.wikipedia.org/wiki/Pekingese"
          },
          "metadata": {}
        },
        {
          "output_type": "display_data",
          "data": {
            "text/plain": [
              "<IPython.core.display.Markdown object>"
            ],
            "text/markdown": "*   Medium-sized, muscular, semi-longhaired cat.\n*   Bicolour or tricolour coat, with white almost always present (25-90% of the body).\n*   Coat colours can include many other colours and patterns.\n*   Medium-sized paws with a round shape.\n*   Tail can be long and \"hooked\".\n*   Ears have a wide base and rounded tips and are covered by hair.\n*   Almond-shaped eyes that can be green, blue, or yellow.\n*   Affinity for water and fishing.\n*   Free from most feline genetic diseases due to natural selection.\n*   Social pet, tolerates apartment living.\n*   Intelligent, active, lively, and communicative.\n\n\nBased on:\n  https://en.wikipedia.org/wiki/Aegean_cat"
          },
          "metadata": {}
        },
        {
          "output_type": "display_data",
          "data": {
            "text/plain": [
              "<IPython.core.display.Markdown object>"
            ],
            "text/markdown": "**General Characteristics:**\n\n*   Small, domesticated carnivorous mammal.\n*   Strong, flexible body, quick reflexes, sharp teeth.\n*   Well-developed night vision and sense of smell.\n*   Retractable claws adapted for killing small prey.\n*   Social species, but solitary hunter and a crepuscular predator.\n*   Can hear sounds too faint or too high in frequency for human ears.\n*   Secretes and perceives pheromones.\n\n**Intelligence and Communication:**\n\n*   Adaptable, learn through observation, and solve problems.\n*   Possess strong memories and neuroplasticity.\n*   Display cognitive skills comparable to a young child.\n*   Communication includes meowing, purring, trilling, hissing, growling, grunting, and body language.\n\n**Physical Attributes:**\n\n*   **Size:** Averages about 46 cm (18 in) in head-to-body length, 23–25 cm (9.1–9.8 in) in height, and 30 cm (12 in) long tails. Males are larger than females. Typically weigh 4–5 kg (8.8–11.0 lb).\n*   **Skeleton:** Seven cervical vertebrae, 13 thoracic vertebrae, seven lumbar vertebrae, three sacral vertebrae, and a variable number of caudal vertebrae. Forelimbs are attached to the shoulder by free-floating clavicle bones.\n*   **Skull:** Large eye sockets and a powerful specialized jaw. Two long canine teeth for killing prey. Narrowly spaced canine teeth relative to the size of their jaw.\n*   **Claws:** Protractible and retractable. Typically five claws on front paws and four on rear paws.\n*   **Ambulation:** Digitigrade, walks on toes.\n*   **Balance:** Can right itself and land on its paws from up to 3 m (9.8 ft) using the cat righting reflex.\n*   **Coats:** Color variety is influenced by the genes MC1R and ASIP.\n\n**Senses:**\n\n*   **Vision:** Excellent night vision (can see at one-sixth the light level required for human vision). Have a tapetum lucidum, which reflects light back into the eye. Slit pupils allow them to focus bright light. Poor color vision (optimized for blue and yellowish green). Have a nictitating membrane.\n*   **Hearing:** Most acute in the range of 500 Hz to 32 kHz. Can detect frequencies from 55 Hz to 79 kHz. Enhanced by large, movable outer ears (pinnae). Can detect ultrasound.\n*   **Smell:** Acute sense of smell due to a well-developed olfactory bulb and a large surface of olfactory mucosa. Have a Jacobson's organ (used in flehmening). Sensitive to pheromones.\n*   **Taste:** About 470 taste buds. Cannot taste sweetness. Taste bud receptors specialized for acids, amino acids, and bitter tastes. Taste buds possess the receptors needed to detect umami. Prefer food temperature around 38 °C (100 °F).\n*   **Whiskers:** Movable whiskers (vibrissae) provide information on the width of gaps and on the location of objects in the dark.\n\n**Behavior:**\n\n*   Outdoor cats are active both day and night but are generally crepuscular.\n*   Conserve energy by sleeping more than most animals (usually 12 to 16 hours).\n*   Behavioral and personality traits depend on genetics and environment.\n\n**Sociability:**\n\n*   Social behavior ranges from widely dispersed individuals to feral cat colonies.\n*   Within colonies, one cat is usually dominant.\n*   Establish territories marked by urine spraying, rubbing, and defecation.\n*   Can express affection toward humans and other animals.\n*   Scent rubbing behavior toward humans or other cats is thought to be a feline means of social bonding.\n\n**Communication:**\n\n*   Use many vocalizations, including purring, trilling, hissing, growling/snarling, grunting, and meowing.\n*   Body language is important (position of ears and tail, relaxation of body, kneading of paws).\n\n**Grooming:**\n\n*   Spend considerable amounts of time licking their coats to keep them clean.\n*   Tongue has backward-facing spines (lingual papillae).\n*   Can regurgitate hairballs.\n\n**Intelligence:**\n\n*   Can solve problems, adapt to environments, learn new behaviors, and communicate needs.\n*   Have around 250 million neurons in the cerebral cortex.\n*   Display neuroplasticity and have well-developed memory.\n\n**Play:**\n\n*   Love to play, especially young kittens.\n*   Play mimics hunting.\n\n**Hunting and Feeding:**\n\n*   Consume several small meals in a day.\n*   Select food based on temperature, smell, and texture.\n*   Reject novel flavors (neophobia).\n*   Hunt small prey (birds and rodents).\n\n**Fighting:**\n\n*   Males are more likely to fight than females.\n*   Reasons for fighting include competition for mates and establishing territories.\n*   Neutering decreases fighting behavior.\n\n**Reproduction:**\n\n*   Female cats (queens) are polyestrous.\n*   Gestation lasts between 64 and 67 days.\n*   Litter size is typically one to six kittens.\n\n\nBased on:\n  https://en.wikipedia.org/wiki/Cat"
          },
          "metadata": {}
        },
        {
          "output_type": "display_data",
          "data": {
            "text/plain": [
              "<IPython.core.display.Markdown object>"
            ],
            "text/markdown": "*   **Size:** Large breed, males weigh 18-22 lbs, females weigh 12-15 lbs, height 10-16 inches, length up to 38 inches (including tail).\n*   **Coat:** Long or medium-haired, soft and silky, shorter on head and shoulders, longer on stomach and flanks. Dense, water-resistant, and requires minimal grooming. Thicker in winter, thinner in summer.\n*   **Coat Colors:** Any colors that other cats have, except chocolate, lavender, the Siamese pointed patterns or the \"ticked\" patterns. Most common is brown tabby. All eye colors are accepted except blue or odd-eyes in non-white cats.\n*   **Tail:** Long, tapering, heavily furred, resembling a raccoon's tail.\n*   **Body:** Solid and muscular with a broad chest and rectangular shape.\n*   **Maturity:** Slow to mature, reaching full size at 3-5 years old.\n*   **Polydactylism:** Some Maine Coons have extra toes.\n*   **Life Expectancy:** Median lifespan >12.5 years (Swedish study), UK study found a life expectancy of 9.71 years.\n*   **Health Issues:** Hypertrophic cardiomyopathy (HCM), Polycystic kidney disease (PKD), Hip dysplasia, Spinal muscular atrophy, Entropion.\n*   **Other:** Often cited as having \"dog-like\" characteristics.\n\n\nBased on:\n  https://en.wikipedia.org/wiki/Maine_Coon"
          },
          "metadata": {}
        },
        {
          "output_type": "display_data",
          "data": {
            "text/plain": [
              "<IPython.core.display.Markdown object>"
            ],
            "text/markdown": "The provided text focuses on the differences between \"cat people\" and \"dog people\" (i.e., people who prefer cats versus those who prefer dogs) rather than directly comparing the animals themselves. Here's what the text says about the *people* who prefer each animal:\n\n*   **Dog People:**\n    *   Tend to be more social and outgoing.\n    *   More energetic and outgoing.\n    *   Tend to follow rules closely.\n\n*   **Cat People:**\n    *   Tend to be more neurotic and \"open\" (creative, philosophical, or nontraditional).\n    *   More introverted, open-minded, and sensitive.\n    *   Non-conformists.\n    *   Score higher on intelligence tests.\n\n*The text also states that the \"real and perceived differences\" between cats and dogs influence which type of person is more suited to them.*\n\nAdditionally, red states in the US have higher dog ownership, while blue states are more likely to have cat owners.\n\n\nBased on:\n  https://en.wikipedia.org/wiki/Cat_people_and_dog_people"
          },
          "metadata": {}
        },
        {
          "output_type": "display_data",
          "data": {
            "text/plain": [
              "<IPython.core.display.Markdown object>"
            ],
            "text/markdown": "This document focuses on tabby cats and doesn't offer differences between dogs and cats in general. However, the following could be used to extrapolate some potential differences:\n\n*   **Coat Patterns:** The document details the specific coat patterns found in tabby cats (mackerel, classic, ticked, spotted, orange, torbie, and caliby). While dogs also have coat patterns, the tabby pattern and its variations are unique to cats.\n\n*   **Genetics:** The document explains the genetic basis of tabby patterns, including the roles of the agouti gene, the tabby locus, and the spotted modifier. This highlights the specific genes involved in cat coat patterns, which differ from those determining coat traits in dogs.\n\n*   **Temperament:** The document discusses a study on the relationship between coat color and behavior in cats. It suggests that while there might be minor links, sex plays a more significant role in aggression. This implies that the factors influencing cat behavior may differ from those in dogs.\n\n*   **Notable Examples:** The document lists notable tabby cats, such as Morris the Cat and Larry, highlighting their cultural impact. This showcases the specific ways cats have been featured in media and society.\n\n\n\nBased on:\n  https://en.wikipedia.org/wiki/Tabby_cat"
          },
          "metadata": {}
        },
        {
          "output_type": "display_data",
          "data": {
            "text/plain": [
              "<IPython.core.display.Markdown object>"
            ],
            "text/markdown": "The provided document offers information about dog types and breeds, but it doesn't delve into the specific characteristics of individual dog breeds.\n\nThe following points relate to the user's query about dog breed characteristics:\n\n*   **Dog Types vs. Breeds:** The document distinguishes between dog \"types\" (based on form, function, etc.) and modern dog \"breeds\" (defined by breed standards and kennel clubs).\n\n*   **Historical Dog Types:** It mentions historical dog types based on function (hunting, herding, etc.) from sources such as \"The Master of Game\" and \"De Canibus Britannicus\".\n\n*   **Evolution of Breeds:** The document explains how dog breeds were refined from various types, especially after dog fighting was outlawed and dog shows became popular.\n\n*   **Dog Types Today**: Dog types can be recognized in the names of Group or Section categories of dog breed registries.\n\n*   **Trainability and Boldness:** The document cites a study comparing the trainability and boldness of different dog types (herding, hounds, sporting, terriers, etc.) and breeds originating from different regions. For example, herding dogs were more trainable than hounds, toy dogs, and non-sporting dogs. Terriers were bolder than hounds and herding dogs.\n\n\nBased on:\n  https://en.wikipedia.org/wiki/Dog_type"
          },
          "metadata": {}
        },
        {
          "output_type": "display_data",
          "data": {
            "text/plain": [
              "<IPython.core.display.Markdown object>"
            ],
            "text/markdown": "Here's a breakdown of Manx cat characteristics based on the provided text:\n\n**Key Identifying Feature:**\n\n*   **Tail Length:** The most defining characteristic is the variation in tail length, ranging from entirely tailless (rumpy) to having a full-length tail (longy/tailed). Other tail types include riser/rumpy riser, stumpy, and stubby/shorty.\n\n**General Appearance:**\n\n*   **Size:** Medium-sized cats.\n*   **Build:** Broad-chested, sloping shoulders, flat sides, muscular, and lean.\n*   **Legs:** Hind legs are longer than forelegs, creating a higher rump and arched back, described as rabbit-like.\n*   **Head:** Rounded head, medium depth, long neck, large upright ears, large round eyes (often gold variants).\n\n**Coat:**\n\n*   **Type:** Thick, double-layered coat. Two lengths: short and long.\n*   **Short-haired:** Dense, soft undercoat and a longer, coarse outer coat. Coat lies close to the skin.\n*   **Long-haired (Cymric):** Silky-textured medium-length double coat, with \"breeches\" (longer fur on the hind legs), belly and neck ruffs, toe tufts, and \"ear furnishings\" (hairs in ears).\n*   **Color & Pattern:** Wide variety of colors and patterns, though original stock had a more limited range (orange, orange and white, cream tabby, tortoiseshell, and rare all-white). Now includes tabby, tortoiseshell, calico, solid colors, marbled, and spotted.\n\n**Temperament & Behavior:**\n\n*   Social, tame, and active.\n*   Prized as skilled hunters, especially of rodents.\n*   Described as docile, good-tempered, and sociable. Energetic and alert.\n\n**Health Considerations:**\n\n*   **Manx Syndrome/Manxness:** Spinal cord and nerve damage due to shortened spine, leading to spina bifida, bowel/bladder/digestion problems. More common in rumpies.\n*   Prone to arthritis in partial tails.\n*   Predisposed to rump fold intertrigo (skin irritation) and corneal dystrophy.\n*   May develop megacolon (recurring constipation).\n\n**Variants (Sub-breeds):**\n\n*   **Cymric (Manx Longhair):** Long-haired version of the Manx.\n*   **Isle of Man Shorthair:** Fully tailed Manx with short hair.\n*   **Isle of Man Longhair:** Fully tailed Cymric (long-haired Manx).\n*   **Tasman Manx:** Tailless or partially tailed Manx with curly hair.\n\n\n\nBased on:\n  https://en.wikipedia.org/wiki/Manx_cat"
          },
          "metadata": {}
        },
        {
          "output_type": "stream",
          "name": "stdout",
          "text": [
            "--------------------------------------------------------------------------------\n"
          ]
        },
        {
          "output_type": "display_data",
          "data": {
            "text/plain": [
              "<IPython.core.display.Markdown object>"
            ],
            "text/markdown": "### model:"
          },
          "metadata": {}
        },
        {
          "output_type": "display_data",
          "data": {
            "text/plain": [
              "<IPython.core.display.Markdown object>"
            ],
            "text/markdown": "The search results provide information about the characteristics of dogs and cats.\nHere's a summary of the key points:\n\n**Dog Characteristics:**\n\n*   Morphology: Body size and shape, tail phenotype, fur type and color, skull shape.\n*   Behavioral Traits: Guarding, herding, hunting, retrieving, scent detection.\n*   Personality Traits: Hyper-social behavior, boldness, aggression.\n*   Temperament: Anxiety and Fear which are linked to gene mutations.\n*   Other characteristics: Movement and fitness for purpose.\n\n**Cat Characteristics:**\n\n*   General: Small, domesticated carnivores with strong, flexible bodies, quick reflexes, and sharp teeth.\n*   Senses: Well-developed night vision and sense of smell. Can hear sounds too faint or too high for humans.\n*   Communication: Includes meowing, purring, trilling, hissing, growling, grunting, and body language. They also secrete and perceive pheromones.\n*   Intelligence: Adaptable, learn through observation, and solve problems. Possess strong memories.\n*   Coat: A variety of colors that are influenced by the genes MC1R and ASIP.\n*   Behavior: Outdoor cats are crepuscular.\n*   Grooming: Spend considerable time licking their coats to keep them clean.\n\nThe search results also include information about specific breeds such as Pekingese, Aegean cat, Maine Coon and Manx cat.\n"
          },
          "metadata": {}
        },
        {
          "output_type": "stream",
          "name": "stdout",
          "text": [
            "--------------------------------------------------------------------------------\n"
          ]
        }
      ],
      "source": [
        "import json\n",
        "for content in chat.get_history():\n",
        "    display(Markdown(\"### \" + content.role + \":\"))\n",
        "    for part in content.parts:\n",
        "        if part.text:\n",
        "            display(Markdown(part.text))\n",
        "        if part.function_call:\n",
        "            print(part.function_call.name, json.dumps(part.function_call.args, indent=2))\n",
        "        if part.function_response:\n",
        "            for res in part.function_response.response['result']:\n",
        "                display(Markdown(res))\n",
        "    print(\"-\" * 80)"
      ]
    },
    {
      "cell_type": "markdown",
      "metadata": {
        "id": "WDWc9Fj9Ig6A"
      },
      "source": [
        "In the chat history you can see all 4 steps:\n",
        "\n",
        "1. User: Asks questions about cats and dogs.\n",
        "2. Model: Determines that the `wikipedia_search` is helpful and sends a FunctionCall request to the user.\n",
        "3. User: The Chat session automatically executes the function (due to `_automatic_function_calling` is enabled by default) and sends back a FunctionResponse with the searched result.\n",
        "4. Model: Uses the function's output to formulate the final answer and presents it as a text response."
      ]
    },
    {
      "cell_type": "markdown",
      "metadata": {
        "id": "PJP1EAgfnPUA"
      },
      "source": [
        "## [Optional] Manually Execute the Function Call"
      ]
    },
    {
      "cell_type": "markdown",
      "metadata": {
        "id": "Sa5ke2ssKl7M"
      },
      "source": [
        "If you want to understand what happened behind the scenes, this section executes the `FunctionCall` manually to demonstrate."
      ]
    },
    {
      "cell_type": "code",
      "execution_count": 15,
      "metadata": {
        "id": "wavbHrL3K5vo"
      },
      "outputs": [],
      "source": [
        "config  = {\n",
        "        \"tools\": [wikipedia_search],\n",
        "        \"automatic_function_calling\": {\"disable\": True}, # for manual execution\n",
        "    }\n",
        "\n",
        "chat    = client.chats.create(model=model, config=config, history=[])\n",
        "response  = chat.send_message(query)"
      ]
    },
    {
      "cell_type": "markdown",
      "metadata": {
        "id": "__JN3YuHe7fR"
      },
      "source": [
        "Initially the model returns a `FunctionCall`:"
      ]
    },
    {
      "cell_type": "code",
      "execution_count": 16,
      "metadata": {
        "id": "Lgngdvcdi06F",
        "outputId": "04c17421-742f-4e60-9acf-b559fbd15e35",
        "colab": {
          "base_uri": "https://localhost:8080/"
        }
      },
      "outputs": [
        {
          "output_type": "stream",
          "name": "stdout",
          "text": [
            "{\n",
            "  \"search_queries\": [\n",
            "    \"dog characteristics\",\n",
            "    \"cat characteristics\"\n",
            "  ]\n",
            "}\n"
          ]
        }
      ],
      "source": [
        "fc = response.candidates[0].content.parts[0].function_call\n",
        "print(json.dumps(fc.args, indent=2))"
      ]
    },
    {
      "cell_type": "markdown",
      "metadata": {
        "id": "xpD3axtDmfZb"
      },
      "source": [
        "Call the function with generated arguments to get the results."
      ]
    },
    {
      "cell_type": "code",
      "execution_count": 17,
      "metadata": {
        "id": "Ek4g-CTAPSou",
        "outputId": "cc1e010d-dc51-4c66-f063-44fba083afc2",
        "colab": {
          "base_uri": "https://localhost:8080/",
          "height": 1000
        }
      },
      "outputs": [
        {
          "output_type": "stream",
          "name": "stdout",
          "text": [
            "Searching for \"dog characteristics\"\n",
            "Related search terms: ['Dog breed', 'Dog sex', 'Pekingese']\n",
            "Fetching page: \"Dog breed\"\n",
            "Information Source: https://en.wikipedia.org/wiki/Dog_breed\n",
            "Fetching page: \"Dog sex\"\n",
            "Results when searching for \"Dog sex\" (originally for \"dog characteristics\")\n",
            "        were ambiguous, hence skipping\n",
            "Fetching page: \"Pekingese\"\n",
            "Information Source: https://en.wikipedia.org/wiki/Pekingese\n",
            "\n",
            "Searching for \"cat characteristics\"\n",
            "Related search terms: ['Aegean cat', 'Cat', 'Maine Coon']\n",
            "Fetching page: \"Aegean cat\"\n",
            "Information Source: https://en.wikipedia.org/wiki/Aegean_cat\n",
            "Fetching page: \"Cat\"\n",
            "Information Source: https://en.wikipedia.org/wiki/Cat\n",
            "Cat did not match with any page id, hence skipping.\n",
            "Fetching page: \"Maine Coon\"\n",
            "Information Source: https://en.wikipedia.org/wiki/Maine_Coon\n",
            "Maine Coon did not match with any page id, hence skipping.\n",
            "\n",
            "Information Sources:\n",
            "     https://en.wikipedia.org/wiki/Dog_breed\n",
            "     https://en.wikipedia.org/wiki/Pekingese\n",
            "     https://en.wikipedia.org/wiki/Aegean_cat\n",
            "     https://en.wikipedia.org/wiki/Cat\n",
            "     https://en.wikipedia.org/wiki/Maine_Coon\n"
          ]
        },
        {
          "output_type": "display_data",
          "data": {
            "text/plain": [
              "<IPython.core.display.Markdown object>"
            ],
            "text/markdown": "\n ### Function execution result:"
          },
          "metadata": {}
        },
        {
          "output_type": "display_data",
          "data": {
            "text/plain": [
              "<IPython.core.display.Markdown object>"
            ],
            "text/markdown": "**Morphological traits:**\n*   Body size and shape\n*   Tail phenotype\n*   Fur type and colour\n*   Skull shape\n\n**Behavioral traits:**\n\n*   Guarding\n*   Herding\n*   Hunting\n*   Retrieving\n*   Scent detection\n\n**Personality traits:**\n\n*   Hypersocial behavior\n*   Boldness\n*   Aggression\n\n**Other Characteristics:**\n\n*   Movement\n*   Temperament\n*   Form\n*   Function\n*   Fitness for purpose\n*   Phenotype\n*   Genetic traits\n*   Health issues\n\n\nBased on:\n  https://en.wikipedia.org/wiki/Dog_breed"
          },
          "metadata": {}
        },
        {
          "output_type": "display_data",
          "data": {
            "text/plain": [
              "<IPython.core.display.Markdown object>"
            ],
            "text/markdown": "The Pekingese is a toy dog originating in China, favored by royalty.\n\n**Appearance:**\n\n*   Flat face and large eyes.\n*   Compact body, low to the ground.\n*   Muscular and durable body.\n*   Unusual rolling gait.\n*   Slightly longer than tall (ratio of 3 high to 5 long).\n*   Weight: 7 to 14 lb (3.2 to 6.4 kg). Smaller ones are called \"sleeve\" Pekingese.\n*   Height: 6–9 inches (15–23 cm) at the withers.\n\n**Coat:**\n\n*   Wide range of color combinations are allowed.\n*   Common colors: gold, red, or sable.\n*   Less common colors: cream, black, white, tan, black-and-tan, 'blue' or slate grey.\n*   Black mask or self-colored face is acceptable.\n*   Exposed skin of muzzle, nose, lips, and eye rims is black.\n*   Double-coated, requires frequent grooming.\n\n**Health:**\n\n*   Life expectancy of 13.3 years (UK study).\n*   Leading cause of death: trauma.\n*   Primary health concerns: neurological and cardiovascular defects.\n*   Brachycephaly (flattened face) can lead to eye and breathing problems.\n*   Other potential concerns: skin allergies (including hotspots), eye ulcers, keratoconjunctivitis sicca (dry eye), and progressive retinal atrophy.\n\n**Care:**\n\n*   Requires daily brushing and grooming every 8–12 weeks.\n*   Eyes need to be cleaned daily.\n*   Facial creases need to be cleaned to prevent sores.\n*   Fur in the rear end needs to be kept clean.\n*   Prone to heatstroke, needs to be kept cool.\n*   Exercise needs are minimal (around 30 minutes a day).\n*   Monitor breathing during exercise.\n*   Access to plenty of water is important.\n\n\nBased on:\n  https://en.wikipedia.org/wiki/Pekingese"
          },
          "metadata": {}
        },
        {
          "output_type": "display_data",
          "data": {
            "text/plain": [
              "<IPython.core.display.Markdown object>"
            ],
            "text/markdown": "*   Medium-sized, muscular, semi-longhaired cat.\n*   Bicolour or tricolour coat, with white almost always present (25-90% of the body). Other colours and patterns can be present.\n*   Medium-sized, round paws.\n*   Long, potentially \"hooked\" tail.\n*   Ears with a wide base, rounded tips, covered in hair.\n*   Almond-shaped eyes that can be green, blue, or yellow.\n*   Affinity for water and fishing.\n*   Free from most feline genetic diseases due to natural selection.\n\n\nBased on:\n  https://en.wikipedia.org/wiki/Aegean_cat"
          },
          "metadata": {}
        }
      ],
      "source": [
        "if fc.name == \"wikipedia_search\":\n",
        "    summaries = wikipedia_search(**fc.args)\n",
        "    display(Markdown(\"\\n ### Function execution result:\"))\n",
        "    for text in summaries:\n",
        "        display(Markdown(text))"
      ]
    },
    {
      "cell_type": "markdown",
      "metadata": {
        "id": "kv4WGnG_gT3F"
      },
      "source": [
        "Now send the `summaries` to the model."
      ]
    },
    {
      "cell_type": "code",
      "execution_count": 18,
      "metadata": {
        "id": "bcLuieHqj9PW",
        "outputId": "0cc1b08e-8812-4758-9fd5-01793e0b4d90",
        "colab": {
          "base_uri": "https://localhost:8080/",
          "height": 250
        }
      },
      "outputs": [
        {
          "output_type": "display_data",
          "data": {
            "text/plain": [
              "<IPython.core.display.Markdown object>"
            ],
            "text/markdown": "Okay, I have some information about dog and cat characteristics.\n\n**Dogs:**\n\n*   **Morphological Traits:** Vary greatly by breed, including body size and shape, tail phenotype, fur type and color, and skull shape.\n*   **Behavioral Traits:** Include guarding, herding, hunting, retrieving, and scent detection.\n*   **Personality Traits:** Can include hypersocial behavior, boldness, and aggression.\n\n**Cats:**\n\n*   **Morphological Traits:** Medium-sized, muscular, semi-longhaired. Bicolour or tricolour coat, with white almost always present (25-90% of the body).\n*   **Other possible characteristics**: Medium-sized, round paws. Long, potentially \"hooked\" tail. Ears with a wide base, rounded tips, covered in hair. Almond-shaped eyes that can be green, blue, or yellow.\n*   **Other possible characteristics**: Affinity for water and fishing. Free from most feline genetic diseases due to natural selection.\n\nIt's important to note that these are general characteristics, and individual dogs and cats can vary greatly.\n"
          },
          "metadata": {}
        }
      ],
      "source": [
        "# Create a function response part\n",
        "function_response_part = types.Part.from_function_response(\n",
        "    name=fc.name,\n",
        "    response={\"result\": summaries},\n",
        ")\n",
        "\n",
        "response = chat.send_message(function_response_part)\n",
        "\n",
        "display(Markdown(response.text))"
      ]
    },
    {
      "cell_type": "markdown",
      "metadata": {
        "id": "L2Vfv8xpmuV1"
      },
      "source": [
        "## Re-ranking the search results"
      ]
    },
    {
      "cell_type": "markdown",
      "metadata": {
        "id": "cQ3JUJLeGGzA"
      },
      "source": [
        "Helper function to embed the content:"
      ]
    },
    {
      "cell_type": "code",
      "execution_count": 19,
      "metadata": {
        "id": "mSkE7EynJBwF",
        "cellView": "form"
      },
      "outputs": [],
      "source": [
        "# @title Helper function to embed the content\n",
        "from tqdm.auto import tqdm\n",
        "from google.genai import types\n",
        "\n",
        "tqdm.pandas()\n",
        "\n",
        "from google.api_core import retry\n",
        "import numpy as np\n",
        "\n",
        "def make_embed_text_fn(model):\n",
        "\n",
        "    @retry.Retry(timeout=300.0)\n",
        "    def embed_fn(texts: list[str]) -> list[list[float]]:\n",
        "        # Set the task_type to SEMANTIC_SIMILARITY and embed the batch of texts\n",
        "        embeddings = client.models.embed_content(\n",
        "            model=model,\n",
        "            contents=texts,\n",
        "            config=types.EmbedContentConfig(task_type=\"SEMANTIC_SIMILARITY\"),\n",
        "        ).embeddings\n",
        "        return np.array([embedding.values for embedding in embeddings])\n",
        "\n",
        "    return embed_fn\n",
        "\n",
        "\n",
        "def create_embeddings(content: list[str]) -> np.ndarray:\n",
        "    MODEL_ID = \"embedding-001\" # @param [\"embedding-001\", \"text-embedding-004\",\"gemini-embedding-exp-03-07\"] {\"allow-input\":true, isTemplate: true}\n",
        "    model = f\"models/{MODEL_ID}\"\n",
        "    embed_fn = make_embed_text_fn(model)\n",
        "\n",
        "    batch_size = 100  # at most 100 requests can be in one batch\n",
        "    all_embeddings = []\n",
        "\n",
        "    # Loop over the texts in chunks of batch_size\n",
        "    for i in tqdm(range(0, len(content), batch_size)):\n",
        "        batch = content[i:i + batch_size]\n",
        "        embeddings = embed_fn(batch)\n",
        "        all_embeddings.extend(embeddings)\n",
        "\n",
        "    return np.array(all_embeddings).reshape(len(all_embeddings), -1)"
      ]
    },
    {
      "cell_type": "markdown",
      "metadata": {
        "id": "tip8ArqJf_ep"
      },
      "source": [
        "Please refer to the [embeddings guide](https://ai.google.dev/docs/embeddings_guide) for more information on embeddings."
      ]
    },
    {
      "cell_type": "markdown",
      "metadata": {
        "id": "nSPyycFuFj-_"
      },
      "source": [
        "Your next step is to define functions that you can use to calculate similarity scores between two embedding vectors. These scores will help you decide which embedding vector is the most relevant vector to the user's query.\n"
      ]
    },
    {
      "cell_type": "markdown",
      "metadata": {
        "id": "ltbB0vDsKQtI"
      },
      "source": [
        "You will now implement cosine similarity as your metric. Here returned embedding vectors will be of unit length and so their L1 norm (`np.linalg.norm()`) will be ~1. Hence, calculating cosine similarity is esentially same as calculating their dot product score."
      ]
    },
    {
      "cell_type": "code",
      "execution_count": 20,
      "metadata": {
        "id": "9iDFdzq_JWJW"
      },
      "outputs": [],
      "source": [
        "def dot_product(a: np.ndarray, b: np.ndarray):\n",
        "  return (a @ b.T)"
      ]
    },
    {
      "cell_type": "markdown",
      "metadata": {
        "id": "MrF_1c_M_Hw3"
      },
      "source": [
        "### Similarity with user's query\n",
        "\n",
        "Now it's time to find the most relevant search result returned by the Wikipedia API.\n",
        "\n",
        "Use Gemini API to get embeddings for user's query and search results."
      ]
    },
    {
      "cell_type": "code",
      "execution_count": 21,
      "metadata": {
        "id": "gK9ryjftGDNe",
        "outputId": "6205f813-409a-4275-f121-a90be7fa735a",
        "colab": {
          "base_uri": "https://localhost:8080/",
          "height": 81,
          "referenced_widgets": [
            "59e438b712a345358c892100891272b4",
            "521d3be05d7a475b8959cb3369cb665c",
            "eb95e97a82b14bd7bf56f1cf7d300080",
            "6c9cc12aa89241a59b30957c06a86e4a",
            "96908c2fa1c04d28a4decb4cfd68ea2c",
            "cd5b66d75a2d462f9eb7e365d47812c8",
            "04d63a09263a4e90945105a950c590e4",
            "ab8b001707d249eeaa74aa076ac9933c",
            "a648120dd3c0445e9f6a46bd189214db",
            "6126da45a52c45749240b2ac4407c0b6",
            "889b7421a1734df69d5ec6acd4114c2b",
            "5b29555b8149443b95627ab137d61c0f",
            "7526b9e7dc784ebf97d7053cb2525efd",
            "ae5ae0fc242f420a9e196322caad25a2",
            "da148dfd5b494ba3b994ccf874091ce0",
            "0132665a64cd43f6a8fccbbb40bd1b0d",
            "03d93560bade46018d01deca3e7b25f6",
            "191cc0f8e384466bb6078ea0d5561156",
            "1f06718f219b45d0b32bdac0dded9a81",
            "5ded5485a8ea47728e8b266c78acff1e",
            "e55ad26745094f8cb2b4de88578a2a54",
            "2230c103d94a4938b091c29c5befb8b9"
          ]
        }
      },
      "outputs": [
        {
          "output_type": "display_data",
          "data": {
            "text/plain": [
              "  0%|          | 0/1 [00:00<?, ?it/s]"
            ],
            "application/vnd.jupyter.widget-view+json": {
              "version_major": 2,
              "version_minor": 0,
              "model_id": "59e438b712a345358c892100891272b4"
            }
          },
          "metadata": {}
        },
        {
          "output_type": "display_data",
          "data": {
            "text/plain": [
              "  0%|          | 0/1 [00:00<?, ?it/s]"
            ],
            "application/vnd.jupyter.widget-view+json": {
              "version_major": 2,
              "version_minor": 0,
              "model_id": "5b29555b8149443b95627ab137d61c0f"
            }
          },
          "metadata": {}
        }
      ],
      "source": [
        "search_res = create_embeddings(summaries)\n",
        "embedded_query = create_embeddings([query])"
      ]
    },
    {
      "cell_type": "markdown",
      "metadata": {
        "id": "2wwWq30uGRG3"
      },
      "source": [
        "Calculate similarity score:"
      ]
    },
    {
      "cell_type": "code",
      "execution_count": 22,
      "metadata": {
        "id": "jWlFNYIsGV0X",
        "outputId": "be6c35f3-6392-4160-b640-50f05c357214",
        "colab": {
          "base_uri": "https://localhost:8080/"
        }
      },
      "outputs": [
        {
          "output_type": "execute_result",
          "data": {
            "text/plain": [
              "array([[0.78127503],\n",
              "       [0.63726349],\n",
              "       [0.71078555]])"
            ]
          },
          "metadata": {},
          "execution_count": 22
        }
      ],
      "source": [
        "sim_value = dot_product(search_res, embedded_query)\n",
        "sim_value"
      ]
    },
    {
      "cell_type": "markdown",
      "metadata": {
        "id": "bJW1pQQXG2w2"
      },
      "source": [
        "using `np.argmax` best candidate is selected.\n",
        "\n",
        "**User's Input:** Compare dog and cat characteristics.\n",
        "\n",
        "**Answer:**"
      ]
    },
    {
      "cell_type": "code",
      "execution_count": 23,
      "metadata": {
        "id": "8vDMDnCsG8Wn",
        "outputId": "184dbdd2-d7f3-439a-fa2c-c70960b0f1b1",
        "colab": {
          "base_uri": "https://localhost:8080/",
          "height": 511
        }
      },
      "outputs": [
        {
          "output_type": "display_data",
          "data": {
            "text/plain": [
              "<IPython.core.display.Markdown object>"
            ],
            "text/markdown": "**Morphological traits:**\n*   Body size and shape\n*   Tail phenotype\n*   Fur type and colour\n*   Skull shape\n\n**Behavioral traits:**\n\n*   Guarding\n*   Herding\n*   Hunting\n*   Retrieving\n*   Scent detection\n\n**Personality traits:**\n\n*   Hypersocial behavior\n*   Boldness\n*   Aggression\n\n**Other Characteristics:**\n\n*   Movement\n*   Temperament\n*   Form\n*   Function\n*   Fitness for purpose\n*   Phenotype\n*   Genetic traits\n*   Health issues\n\n\nBased on:\n  https://en.wikipedia.org/wiki/Dog_breed"
          },
          "metadata": {}
        }
      ],
      "source": [
        "display(Markdown(summaries[np.argmax(sim_value)]))"
      ]
    },
    {
      "cell_type": "markdown",
      "metadata": {
        "id": "Ozn6mIFvoyJU"
      },
      "source": [
        "### Similarity with User's Preference\n",
        "\n",
        "Now we can also rank the search results based on your own preference."
      ]
    },
    {
      "cell_type": "code",
      "source": [
        "ans = input(\"Are you a dog or cat person? Please respond in 'cat' or 'dog'.\\n\")"
      ],
      "metadata": {
        "id": "IlXuWzSgim76",
        "outputId": "df700f57-59ee-4018-cc8c-7ec59de34baa",
        "colab": {
          "base_uri": "https://localhost:8080/"
        }
      },
      "execution_count": 35,
      "outputs": [
        {
          "name": "stdout",
          "output_type": "stream",
          "text": [
            "Are you a dog or cat person? Please respond in 'cat' or 'dog'.\n",
            "dog\n"
          ]
        }
      ]
    },
    {
      "cell_type": "markdown",
      "metadata": {
        "id": "85f4MpLgrYbW"
      },
      "source": [
        "Use Gemini API to get embeddings for your answer and compare them with search results"
      ]
    },
    {
      "cell_type": "code",
      "execution_count": 36,
      "metadata": {
        "id": "fSI6-5eYI3me",
        "outputId": "3cf4d011-6a7f-400f-95b4-0f359d32d7a1",
        "colab": {
          "base_uri": "https://localhost:8080/",
          "height": 49,
          "referenced_widgets": [
            "aff596118a6543b1a843cf6cae054b82",
            "3fe2490acd8347d99fc9d2c2aee44d4e",
            "ddbd44a63d1a4790abf218c9a5937ae1",
            "ab592c8e1ffa4e5994773b6a8ff68557",
            "2a3685d3c71d45faa5977d1305cf9461",
            "2771018ff8a64d1cb006adeeaf5ccc15",
            "28c153d4dcc546c8adf6073b17815849",
            "d6dbf3e2f1944c3caae7d6c007c9df0f",
            "29efa4f5d22c47388289c05ca2da2474",
            "1f88474aa80f4dee8d98b8ef9db27fd3",
            "116a7999f3a3475a87be4c8ab0711616"
          ]
        }
      },
      "outputs": [
        {
          "output_type": "display_data",
          "data": {
            "text/plain": [
              "  0%|          | 0/1 [00:00<?, ?it/s]"
            ],
            "application/vnd.jupyter.widget-view+json": {
              "version_major": 2,
              "version_minor": 0,
              "model_id": "aff596118a6543b1a843cf6cae054b82"
            }
          },
          "metadata": {}
        }
      ],
      "source": [
        "hypothetical_ans = create_embeddings([ans])"
      ]
    },
    {
      "cell_type": "markdown",
      "metadata": {
        "id": "WxYGEWbqrh44"
      },
      "source": [
        "Calculate similarity scores to rank the search results"
      ]
    },
    {
      "cell_type": "code",
      "execution_count": 37,
      "metadata": {
        "id": "99sjvMtlJfL_",
        "outputId": "dce91616-b924-4488-b067-0c5c6c5d75ac",
        "colab": {
          "base_uri": "https://localhost:8080/"
        }
      },
      "outputs": [
        {
          "output_type": "execute_result",
          "data": {
            "text/plain": [
              "array([[0.6438392 ],\n",
              "       [0.55937082],\n",
              "       [0.57837405]])"
            ]
          },
          "metadata": {},
          "execution_count": 37
        }
      ],
      "source": [
        "sim_value = dot_product(search_res, hypothetical_ans)\n",
        "sim_value"
      ]
    },
    {
      "cell_type": "markdown",
      "metadata": {
        "id": "wJ7pklxursSk"
      },
      "source": [
        "using `np.argmax` best candidate is selected.\n",
        "\n",
        "**Users's Input:** `dog/ cat`\n",
        "\n",
        "**Answer:**"
      ]
    },
    {
      "cell_type": "code",
      "execution_count": 38,
      "metadata": {
        "id": "MzTfyU_mJ8-M",
        "outputId": "c2a8fe87-72ab-4f19-a5c9-b24ac5c70d1d",
        "colab": {
          "base_uri": "https://localhost:8080/",
          "height": 511
        }
      },
      "outputs": [
        {
          "output_type": "display_data",
          "data": {
            "text/plain": [
              "<IPython.core.display.Markdown object>"
            ],
            "text/markdown": "**Morphological traits:**\n*   Body size and shape\n*   Tail phenotype\n*   Fur type and colour\n*   Skull shape\n\n**Behavioral traits:**\n\n*   Guarding\n*   Herding\n*   Hunting\n*   Retrieving\n*   Scent detection\n\n**Personality traits:**\n\n*   Hypersocial behavior\n*   Boldness\n*   Aggression\n\n**Other Characteristics:**\n\n*   Movement\n*   Temperament\n*   Form\n*   Function\n*   Fitness for purpose\n*   Phenotype\n*   Genetic traits\n*   Health issues\n\n\nBased on:\n  https://en.wikipedia.org/wiki/Dog_breed"
          },
          "metadata": {}
        }
      ],
      "source": [
        "display(Markdown(summaries[np.argmax(sim_value)]))"
      ]
    },
    {
      "cell_type": "markdown",
      "metadata": {
        "id": "UjDN2OUpsL6M"
      },
      "source": [
        "You have now created a search re-ranking engine using embeddings based on your own preference!"
      ]
    },
    {
      "cell_type": "markdown",
      "metadata": {
        "id": "AKH2vs2Lc1R1"
      },
      "source": [
        "## Next steps\n",
        "\n",
        "I hope you found this example helpful! Check out more examples in the [Cookbook](https://github.com/google-gemini/cookbook) to learn more."
      ]
    }
  ],
  "metadata": {
    "colab": {
      "name": "Search_reranking_using_embeddings.ipynb",
      "provenance": []
    },
    "kernelspec": {
      "display_name": "Python 3",
      "name": "python3"
    },
    "widgets": {
      "application/vnd.jupyter.widget-state+json": {
        "59e438b712a345358c892100891272b4": {
          "model_module": "@jupyter-widgets/controls",
          "model_name": "HBoxModel",
          "model_module_version": "1.5.0",
          "state": {
            "_dom_classes": [],
            "_model_module": "@jupyter-widgets/controls",
            "_model_module_version": "1.5.0",
            "_model_name": "HBoxModel",
            "_view_count": null,
            "_view_module": "@jupyter-widgets/controls",
            "_view_module_version": "1.5.0",
            "_view_name": "HBoxView",
            "box_style": "",
            "children": [
              "IPY_MODEL_521d3be05d7a475b8959cb3369cb665c",
              "IPY_MODEL_eb95e97a82b14bd7bf56f1cf7d300080",
              "IPY_MODEL_6c9cc12aa89241a59b30957c06a86e4a"
            ],
            "layout": "IPY_MODEL_96908c2fa1c04d28a4decb4cfd68ea2c"
          }
        },
        "521d3be05d7a475b8959cb3369cb665c": {
          "model_module": "@jupyter-widgets/controls",
          "model_name": "HTMLModel",
          "model_module_version": "1.5.0",
          "state": {
            "_dom_classes": [],
            "_model_module": "@jupyter-widgets/controls",
            "_model_module_version": "1.5.0",
            "_model_name": "HTMLModel",
            "_view_count": null,
            "_view_module": "@jupyter-widgets/controls",
            "_view_module_version": "1.5.0",
            "_view_name": "HTMLView",
            "description": "",
            "description_tooltip": null,
            "layout": "IPY_MODEL_cd5b66d75a2d462f9eb7e365d47812c8",
            "placeholder": "​",
            "style": "IPY_MODEL_04d63a09263a4e90945105a950c590e4",
            "value": "100%"
          }
        },
        "eb95e97a82b14bd7bf56f1cf7d300080": {
          "model_module": "@jupyter-widgets/controls",
          "model_name": "FloatProgressModel",
          "model_module_version": "1.5.0",
          "state": {
            "_dom_classes": [],
            "_model_module": "@jupyter-widgets/controls",
            "_model_module_version": "1.5.0",
            "_model_name": "FloatProgressModel",
            "_view_count": null,
            "_view_module": "@jupyter-widgets/controls",
            "_view_module_version": "1.5.0",
            "_view_name": "ProgressView",
            "bar_style": "success",
            "description": "",
            "description_tooltip": null,
            "layout": "IPY_MODEL_ab8b001707d249eeaa74aa076ac9933c",
            "max": 1,
            "min": 0,
            "orientation": "horizontal",
            "style": "IPY_MODEL_a648120dd3c0445e9f6a46bd189214db",
            "value": 1
          }
        },
        "6c9cc12aa89241a59b30957c06a86e4a": {
          "model_module": "@jupyter-widgets/controls",
          "model_name": "HTMLModel",
          "model_module_version": "1.5.0",
          "state": {
            "_dom_classes": [],
            "_model_module": "@jupyter-widgets/controls",
            "_model_module_version": "1.5.0",
            "_model_name": "HTMLModel",
            "_view_count": null,
            "_view_module": "@jupyter-widgets/controls",
            "_view_module_version": "1.5.0",
            "_view_name": "HTMLView",
            "description": "",
            "description_tooltip": null,
            "layout": "IPY_MODEL_6126da45a52c45749240b2ac4407c0b6",
            "placeholder": "​",
            "style": "IPY_MODEL_889b7421a1734df69d5ec6acd4114c2b",
            "value": " 1/1 [00:00&lt;00:00,  2.40it/s]"
          }
        },
        "96908c2fa1c04d28a4decb4cfd68ea2c": {
          "model_module": "@jupyter-widgets/base",
          "model_name": "LayoutModel",
          "model_module_version": "1.2.0",
          "state": {
            "_model_module": "@jupyter-widgets/base",
            "_model_module_version": "1.2.0",
            "_model_name": "LayoutModel",
            "_view_count": null,
            "_view_module": "@jupyter-widgets/base",
            "_view_module_version": "1.2.0",
            "_view_name": "LayoutView",
            "align_content": null,
            "align_items": null,
            "align_self": null,
            "border": null,
            "bottom": null,
            "display": null,
            "flex": null,
            "flex_flow": null,
            "grid_area": null,
            "grid_auto_columns": null,
            "grid_auto_flow": null,
            "grid_auto_rows": null,
            "grid_column": null,
            "grid_gap": null,
            "grid_row": null,
            "grid_template_areas": null,
            "grid_template_columns": null,
            "grid_template_rows": null,
            "height": null,
            "justify_content": null,
            "justify_items": null,
            "left": null,
            "margin": null,
            "max_height": null,
            "max_width": null,
            "min_height": null,
            "min_width": null,
            "object_fit": null,
            "object_position": null,
            "order": null,
            "overflow": null,
            "overflow_x": null,
            "overflow_y": null,
            "padding": null,
            "right": null,
            "top": null,
            "visibility": null,
            "width": null
          }
        },
        "cd5b66d75a2d462f9eb7e365d47812c8": {
          "model_module": "@jupyter-widgets/base",
          "model_name": "LayoutModel",
          "model_module_version": "1.2.0",
          "state": {
            "_model_module": "@jupyter-widgets/base",
            "_model_module_version": "1.2.0",
            "_model_name": "LayoutModel",
            "_view_count": null,
            "_view_module": "@jupyter-widgets/base",
            "_view_module_version": "1.2.0",
            "_view_name": "LayoutView",
            "align_content": null,
            "align_items": null,
            "align_self": null,
            "border": null,
            "bottom": null,
            "display": null,
            "flex": null,
            "flex_flow": null,
            "grid_area": null,
            "grid_auto_columns": null,
            "grid_auto_flow": null,
            "grid_auto_rows": null,
            "grid_column": null,
            "grid_gap": null,
            "grid_row": null,
            "grid_template_areas": null,
            "grid_template_columns": null,
            "grid_template_rows": null,
            "height": null,
            "justify_content": null,
            "justify_items": null,
            "left": null,
            "margin": null,
            "max_height": null,
            "max_width": null,
            "min_height": null,
            "min_width": null,
            "object_fit": null,
            "object_position": null,
            "order": null,
            "overflow": null,
            "overflow_x": null,
            "overflow_y": null,
            "padding": null,
            "right": null,
            "top": null,
            "visibility": null,
            "width": null
          }
        },
        "04d63a09263a4e90945105a950c590e4": {
          "model_module": "@jupyter-widgets/controls",
          "model_name": "DescriptionStyleModel",
          "model_module_version": "1.5.0",
          "state": {
            "_model_module": "@jupyter-widgets/controls",
            "_model_module_version": "1.5.0",
            "_model_name": "DescriptionStyleModel",
            "_view_count": null,
            "_view_module": "@jupyter-widgets/base",
            "_view_module_version": "1.2.0",
            "_view_name": "StyleView",
            "description_width": ""
          }
        },
        "ab8b001707d249eeaa74aa076ac9933c": {
          "model_module": "@jupyter-widgets/base",
          "model_name": "LayoutModel",
          "model_module_version": "1.2.0",
          "state": {
            "_model_module": "@jupyter-widgets/base",
            "_model_module_version": "1.2.0",
            "_model_name": "LayoutModel",
            "_view_count": null,
            "_view_module": "@jupyter-widgets/base",
            "_view_module_version": "1.2.0",
            "_view_name": "LayoutView",
            "align_content": null,
            "align_items": null,
            "align_self": null,
            "border": null,
            "bottom": null,
            "display": null,
            "flex": null,
            "flex_flow": null,
            "grid_area": null,
            "grid_auto_columns": null,
            "grid_auto_flow": null,
            "grid_auto_rows": null,
            "grid_column": null,
            "grid_gap": null,
            "grid_row": null,
            "grid_template_areas": null,
            "grid_template_columns": null,
            "grid_template_rows": null,
            "height": null,
            "justify_content": null,
            "justify_items": null,
            "left": null,
            "margin": null,
            "max_height": null,
            "max_width": null,
            "min_height": null,
            "min_width": null,
            "object_fit": null,
            "object_position": null,
            "order": null,
            "overflow": null,
            "overflow_x": null,
            "overflow_y": null,
            "padding": null,
            "right": null,
            "top": null,
            "visibility": null,
            "width": null
          }
        },
        "a648120dd3c0445e9f6a46bd189214db": {
          "model_module": "@jupyter-widgets/controls",
          "model_name": "ProgressStyleModel",
          "model_module_version": "1.5.0",
          "state": {
            "_model_module": "@jupyter-widgets/controls",
            "_model_module_version": "1.5.0",
            "_model_name": "ProgressStyleModel",
            "_view_count": null,
            "_view_module": "@jupyter-widgets/base",
            "_view_module_version": "1.2.0",
            "_view_name": "StyleView",
            "bar_color": null,
            "description_width": ""
          }
        },
        "6126da45a52c45749240b2ac4407c0b6": {
          "model_module": "@jupyter-widgets/base",
          "model_name": "LayoutModel",
          "model_module_version": "1.2.0",
          "state": {
            "_model_module": "@jupyter-widgets/base",
            "_model_module_version": "1.2.0",
            "_model_name": "LayoutModel",
            "_view_count": null,
            "_view_module": "@jupyter-widgets/base",
            "_view_module_version": "1.2.0",
            "_view_name": "LayoutView",
            "align_content": null,
            "align_items": null,
            "align_self": null,
            "border": null,
            "bottom": null,
            "display": null,
            "flex": null,
            "flex_flow": null,
            "grid_area": null,
            "grid_auto_columns": null,
            "grid_auto_flow": null,
            "grid_auto_rows": null,
            "grid_column": null,
            "grid_gap": null,
            "grid_row": null,
            "grid_template_areas": null,
            "grid_template_columns": null,
            "grid_template_rows": null,
            "height": null,
            "justify_content": null,
            "justify_items": null,
            "left": null,
            "margin": null,
            "max_height": null,
            "max_width": null,
            "min_height": null,
            "min_width": null,
            "object_fit": null,
            "object_position": null,
            "order": null,
            "overflow": null,
            "overflow_x": null,
            "overflow_y": null,
            "padding": null,
            "right": null,
            "top": null,
            "visibility": null,
            "width": null
          }
        },
        "889b7421a1734df69d5ec6acd4114c2b": {
          "model_module": "@jupyter-widgets/controls",
          "model_name": "DescriptionStyleModel",
          "model_module_version": "1.5.0",
          "state": {
            "_model_module": "@jupyter-widgets/controls",
            "_model_module_version": "1.5.0",
            "_model_name": "DescriptionStyleModel",
            "_view_count": null,
            "_view_module": "@jupyter-widgets/base",
            "_view_module_version": "1.2.0",
            "_view_name": "StyleView",
            "description_width": ""
          }
        },
        "5b29555b8149443b95627ab137d61c0f": {
          "model_module": "@jupyter-widgets/controls",
          "model_name": "HBoxModel",
          "model_module_version": "1.5.0",
          "state": {
            "_dom_classes": [],
            "_model_module": "@jupyter-widgets/controls",
            "_model_module_version": "1.5.0",
            "_model_name": "HBoxModel",
            "_view_count": null,
            "_view_module": "@jupyter-widgets/controls",
            "_view_module_version": "1.5.0",
            "_view_name": "HBoxView",
            "box_style": "",
            "children": [
              "IPY_MODEL_7526b9e7dc784ebf97d7053cb2525efd",
              "IPY_MODEL_ae5ae0fc242f420a9e196322caad25a2",
              "IPY_MODEL_da148dfd5b494ba3b994ccf874091ce0"
            ],
            "layout": "IPY_MODEL_0132665a64cd43f6a8fccbbb40bd1b0d"
          }
        },
        "7526b9e7dc784ebf97d7053cb2525efd": {
          "model_module": "@jupyter-widgets/controls",
          "model_name": "HTMLModel",
          "model_module_version": "1.5.0",
          "state": {
            "_dom_classes": [],
            "_model_module": "@jupyter-widgets/controls",
            "_model_module_version": "1.5.0",
            "_model_name": "HTMLModel",
            "_view_count": null,
            "_view_module": "@jupyter-widgets/controls",
            "_view_module_version": "1.5.0",
            "_view_name": "HTMLView",
            "description": "",
            "description_tooltip": null,
            "layout": "IPY_MODEL_03d93560bade46018d01deca3e7b25f6",
            "placeholder": "​",
            "style": "IPY_MODEL_191cc0f8e384466bb6078ea0d5561156",
            "value": "100%"
          }
        },
        "ae5ae0fc242f420a9e196322caad25a2": {
          "model_module": "@jupyter-widgets/controls",
          "model_name": "FloatProgressModel",
          "model_module_version": "1.5.0",
          "state": {
            "_dom_classes": [],
            "_model_module": "@jupyter-widgets/controls",
            "_model_module_version": "1.5.0",
            "_model_name": "FloatProgressModel",
            "_view_count": null,
            "_view_module": "@jupyter-widgets/controls",
            "_view_module_version": "1.5.0",
            "_view_name": "ProgressView",
            "bar_style": "success",
            "description": "",
            "description_tooltip": null,
            "layout": "IPY_MODEL_1f06718f219b45d0b32bdac0dded9a81",
            "max": 1,
            "min": 0,
            "orientation": "horizontal",
            "style": "IPY_MODEL_5ded5485a8ea47728e8b266c78acff1e",
            "value": 1
          }
        },
        "da148dfd5b494ba3b994ccf874091ce0": {
          "model_module": "@jupyter-widgets/controls",
          "model_name": "HTMLModel",
          "model_module_version": "1.5.0",
          "state": {
            "_dom_classes": [],
            "_model_module": "@jupyter-widgets/controls",
            "_model_module_version": "1.5.0",
            "_model_name": "HTMLModel",
            "_view_count": null,
            "_view_module": "@jupyter-widgets/controls",
            "_view_module_version": "1.5.0",
            "_view_name": "HTMLView",
            "description": "",
            "description_tooltip": null,
            "layout": "IPY_MODEL_e55ad26745094f8cb2b4de88578a2a54",
            "placeholder": "​",
            "style": "IPY_MODEL_2230c103d94a4938b091c29c5befb8b9",
            "value": " 1/1 [00:00&lt;00:00,  4.49it/s]"
          }
        },
        "0132665a64cd43f6a8fccbbb40bd1b0d": {
          "model_module": "@jupyter-widgets/base",
          "model_name": "LayoutModel",
          "model_module_version": "1.2.0",
          "state": {
            "_model_module": "@jupyter-widgets/base",
            "_model_module_version": "1.2.0",
            "_model_name": "LayoutModel",
            "_view_count": null,
            "_view_module": "@jupyter-widgets/base",
            "_view_module_version": "1.2.0",
            "_view_name": "LayoutView",
            "align_content": null,
            "align_items": null,
            "align_self": null,
            "border": null,
            "bottom": null,
            "display": null,
            "flex": null,
            "flex_flow": null,
            "grid_area": null,
            "grid_auto_columns": null,
            "grid_auto_flow": null,
            "grid_auto_rows": null,
            "grid_column": null,
            "grid_gap": null,
            "grid_row": null,
            "grid_template_areas": null,
            "grid_template_columns": null,
            "grid_template_rows": null,
            "height": null,
            "justify_content": null,
            "justify_items": null,
            "left": null,
            "margin": null,
            "max_height": null,
            "max_width": null,
            "min_height": null,
            "min_width": null,
            "object_fit": null,
            "object_position": null,
            "order": null,
            "overflow": null,
            "overflow_x": null,
            "overflow_y": null,
            "padding": null,
            "right": null,
            "top": null,
            "visibility": null,
            "width": null
          }
        },
        "03d93560bade46018d01deca3e7b25f6": {
          "model_module": "@jupyter-widgets/base",
          "model_name": "LayoutModel",
          "model_module_version": "1.2.0",
          "state": {
            "_model_module": "@jupyter-widgets/base",
            "_model_module_version": "1.2.0",
            "_model_name": "LayoutModel",
            "_view_count": null,
            "_view_module": "@jupyter-widgets/base",
            "_view_module_version": "1.2.0",
            "_view_name": "LayoutView",
            "align_content": null,
            "align_items": null,
            "align_self": null,
            "border": null,
            "bottom": null,
            "display": null,
            "flex": null,
            "flex_flow": null,
            "grid_area": null,
            "grid_auto_columns": null,
            "grid_auto_flow": null,
            "grid_auto_rows": null,
            "grid_column": null,
            "grid_gap": null,
            "grid_row": null,
            "grid_template_areas": null,
            "grid_template_columns": null,
            "grid_template_rows": null,
            "height": null,
            "justify_content": null,
            "justify_items": null,
            "left": null,
            "margin": null,
            "max_height": null,
            "max_width": null,
            "min_height": null,
            "min_width": null,
            "object_fit": null,
            "object_position": null,
            "order": null,
            "overflow": null,
            "overflow_x": null,
            "overflow_y": null,
            "padding": null,
            "right": null,
            "top": null,
            "visibility": null,
            "width": null
          }
        },
        "191cc0f8e384466bb6078ea0d5561156": {
          "model_module": "@jupyter-widgets/controls",
          "model_name": "DescriptionStyleModel",
          "model_module_version": "1.5.0",
          "state": {
            "_model_module": "@jupyter-widgets/controls",
            "_model_module_version": "1.5.0",
            "_model_name": "DescriptionStyleModel",
            "_view_count": null,
            "_view_module": "@jupyter-widgets/base",
            "_view_module_version": "1.2.0",
            "_view_name": "StyleView",
            "description_width": ""
          }
        },
        "1f06718f219b45d0b32bdac0dded9a81": {
          "model_module": "@jupyter-widgets/base",
          "model_name": "LayoutModel",
          "model_module_version": "1.2.0",
          "state": {
            "_model_module": "@jupyter-widgets/base",
            "_model_module_version": "1.2.0",
            "_model_name": "LayoutModel",
            "_view_count": null,
            "_view_module": "@jupyter-widgets/base",
            "_view_module_version": "1.2.0",
            "_view_name": "LayoutView",
            "align_content": null,
            "align_items": null,
            "align_self": null,
            "border": null,
            "bottom": null,
            "display": null,
            "flex": null,
            "flex_flow": null,
            "grid_area": null,
            "grid_auto_columns": null,
            "grid_auto_flow": null,
            "grid_auto_rows": null,
            "grid_column": null,
            "grid_gap": null,
            "grid_row": null,
            "grid_template_areas": null,
            "grid_template_columns": null,
            "grid_template_rows": null,
            "height": null,
            "justify_content": null,
            "justify_items": null,
            "left": null,
            "margin": null,
            "max_height": null,
            "max_width": null,
            "min_height": null,
            "min_width": null,
            "object_fit": null,
            "object_position": null,
            "order": null,
            "overflow": null,
            "overflow_x": null,
            "overflow_y": null,
            "padding": null,
            "right": null,
            "top": null,
            "visibility": null,
            "width": null
          }
        },
        "5ded5485a8ea47728e8b266c78acff1e": {
          "model_module": "@jupyter-widgets/controls",
          "model_name": "ProgressStyleModel",
          "model_module_version": "1.5.0",
          "state": {
            "_model_module": "@jupyter-widgets/controls",
            "_model_module_version": "1.5.0",
            "_model_name": "ProgressStyleModel",
            "_view_count": null,
            "_view_module": "@jupyter-widgets/base",
            "_view_module_version": "1.2.0",
            "_view_name": "StyleView",
            "bar_color": null,
            "description_width": ""
          }
        },
        "e55ad26745094f8cb2b4de88578a2a54": {
          "model_module": "@jupyter-widgets/base",
          "model_name": "LayoutModel",
          "model_module_version": "1.2.0",
          "state": {
            "_model_module": "@jupyter-widgets/base",
            "_model_module_version": "1.2.0",
            "_model_name": "LayoutModel",
            "_view_count": null,
            "_view_module": "@jupyter-widgets/base",
            "_view_module_version": "1.2.0",
            "_view_name": "LayoutView",
            "align_content": null,
            "align_items": null,
            "align_self": null,
            "border": null,
            "bottom": null,
            "display": null,
            "flex": null,
            "flex_flow": null,
            "grid_area": null,
            "grid_auto_columns": null,
            "grid_auto_flow": null,
            "grid_auto_rows": null,
            "grid_column": null,
            "grid_gap": null,
            "grid_row": null,
            "grid_template_areas": null,
            "grid_template_columns": null,
            "grid_template_rows": null,
            "height": null,
            "justify_content": null,
            "justify_items": null,
            "left": null,
            "margin": null,
            "max_height": null,
            "max_width": null,
            "min_height": null,
            "min_width": null,
            "object_fit": null,
            "object_position": null,
            "order": null,
            "overflow": null,
            "overflow_x": null,
            "overflow_y": null,
            "padding": null,
            "right": null,
            "top": null,
            "visibility": null,
            "width": null
          }
        },
        "2230c103d94a4938b091c29c5befb8b9": {
          "model_module": "@jupyter-widgets/controls",
          "model_name": "DescriptionStyleModel",
          "model_module_version": "1.5.0",
          "state": {
            "_model_module": "@jupyter-widgets/controls",
            "_model_module_version": "1.5.0",
            "_model_name": "DescriptionStyleModel",
            "_view_count": null,
            "_view_module": "@jupyter-widgets/base",
            "_view_module_version": "1.2.0",
            "_view_name": "StyleView",
            "description_width": ""
          }
        },
        "aff596118a6543b1a843cf6cae054b82": {
          "model_module": "@jupyter-widgets/controls",
          "model_name": "HBoxModel",
          "model_module_version": "1.5.0",
          "state": {
            "_dom_classes": [],
            "_model_module": "@jupyter-widgets/controls",
            "_model_module_version": "1.5.0",
            "_model_name": "HBoxModel",
            "_view_count": null,
            "_view_module": "@jupyter-widgets/controls",
            "_view_module_version": "1.5.0",
            "_view_name": "HBoxView",
            "box_style": "",
            "children": [
              "IPY_MODEL_3fe2490acd8347d99fc9d2c2aee44d4e",
              "IPY_MODEL_ddbd44a63d1a4790abf218c9a5937ae1",
              "IPY_MODEL_ab592c8e1ffa4e5994773b6a8ff68557"
            ],
            "layout": "IPY_MODEL_2a3685d3c71d45faa5977d1305cf9461"
          }
        },
        "3fe2490acd8347d99fc9d2c2aee44d4e": {
          "model_module": "@jupyter-widgets/controls",
          "model_name": "HTMLModel",
          "model_module_version": "1.5.0",
          "state": {
            "_dom_classes": [],
            "_model_module": "@jupyter-widgets/controls",
            "_model_module_version": "1.5.0",
            "_model_name": "HTMLModel",
            "_view_count": null,
            "_view_module": "@jupyter-widgets/controls",
            "_view_module_version": "1.5.0",
            "_view_name": "HTMLView",
            "description": "",
            "description_tooltip": null,
            "layout": "IPY_MODEL_2771018ff8a64d1cb006adeeaf5ccc15",
            "placeholder": "​",
            "style": "IPY_MODEL_28c153d4dcc546c8adf6073b17815849",
            "value": "100%"
          }
        },
        "ddbd44a63d1a4790abf218c9a5937ae1": {
          "model_module": "@jupyter-widgets/controls",
          "model_name": "FloatProgressModel",
          "model_module_version": "1.5.0",
          "state": {
            "_dom_classes": [],
            "_model_module": "@jupyter-widgets/controls",
            "_model_module_version": "1.5.0",
            "_model_name": "FloatProgressModel",
            "_view_count": null,
            "_view_module": "@jupyter-widgets/controls",
            "_view_module_version": "1.5.0",
            "_view_name": "ProgressView",
            "bar_style": "success",
            "description": "",
            "description_tooltip": null,
            "layout": "IPY_MODEL_d6dbf3e2f1944c3caae7d6c007c9df0f",
            "max": 1,
            "min": 0,
            "orientation": "horizontal",
            "style": "IPY_MODEL_29efa4f5d22c47388289c05ca2da2474",
            "value": 1
          }
        },
        "ab592c8e1ffa4e5994773b6a8ff68557": {
          "model_module": "@jupyter-widgets/controls",
          "model_name": "HTMLModel",
          "model_module_version": "1.5.0",
          "state": {
            "_dom_classes": [],
            "_model_module": "@jupyter-widgets/controls",
            "_model_module_version": "1.5.0",
            "_model_name": "HTMLModel",
            "_view_count": null,
            "_view_module": "@jupyter-widgets/controls",
            "_view_module_version": "1.5.0",
            "_view_name": "HTMLView",
            "description": "",
            "description_tooltip": null,
            "layout": "IPY_MODEL_1f88474aa80f4dee8d98b8ef9db27fd3",
            "placeholder": "​",
            "style": "IPY_MODEL_116a7999f3a3475a87be4c8ab0711616",
            "value": " 1/1 [00:00&lt;00:00,  2.42it/s]"
          }
        },
        "2a3685d3c71d45faa5977d1305cf9461": {
          "model_module": "@jupyter-widgets/base",
          "model_name": "LayoutModel",
          "model_module_version": "1.2.0",
          "state": {
            "_model_module": "@jupyter-widgets/base",
            "_model_module_version": "1.2.0",
            "_model_name": "LayoutModel",
            "_view_count": null,
            "_view_module": "@jupyter-widgets/base",
            "_view_module_version": "1.2.0",
            "_view_name": "LayoutView",
            "align_content": null,
            "align_items": null,
            "align_self": null,
            "border": null,
            "bottom": null,
            "display": null,
            "flex": null,
            "flex_flow": null,
            "grid_area": null,
            "grid_auto_columns": null,
            "grid_auto_flow": null,
            "grid_auto_rows": null,
            "grid_column": null,
            "grid_gap": null,
            "grid_row": null,
            "grid_template_areas": null,
            "grid_template_columns": null,
            "grid_template_rows": null,
            "height": null,
            "justify_content": null,
            "justify_items": null,
            "left": null,
            "margin": null,
            "max_height": null,
            "max_width": null,
            "min_height": null,
            "min_width": null,
            "object_fit": null,
            "object_position": null,
            "order": null,
            "overflow": null,
            "overflow_x": null,
            "overflow_y": null,
            "padding": null,
            "right": null,
            "top": null,
            "visibility": null,
            "width": null
          }
        },
        "2771018ff8a64d1cb006adeeaf5ccc15": {
          "model_module": "@jupyter-widgets/base",
          "model_name": "LayoutModel",
          "model_module_version": "1.2.0",
          "state": {
            "_model_module": "@jupyter-widgets/base",
            "_model_module_version": "1.2.0",
            "_model_name": "LayoutModel",
            "_view_count": null,
            "_view_module": "@jupyter-widgets/base",
            "_view_module_version": "1.2.0",
            "_view_name": "LayoutView",
            "align_content": null,
            "align_items": null,
            "align_self": null,
            "border": null,
            "bottom": null,
            "display": null,
            "flex": null,
            "flex_flow": null,
            "grid_area": null,
            "grid_auto_columns": null,
            "grid_auto_flow": null,
            "grid_auto_rows": null,
            "grid_column": null,
            "grid_gap": null,
            "grid_row": null,
            "grid_template_areas": null,
            "grid_template_columns": null,
            "grid_template_rows": null,
            "height": null,
            "justify_content": null,
            "justify_items": null,
            "left": null,
            "margin": null,
            "max_height": null,
            "max_width": null,
            "min_height": null,
            "min_width": null,
            "object_fit": null,
            "object_position": null,
            "order": null,
            "overflow": null,
            "overflow_x": null,
            "overflow_y": null,
            "padding": null,
            "right": null,
            "top": null,
            "visibility": null,
            "width": null
          }
        },
        "28c153d4dcc546c8adf6073b17815849": {
          "model_module": "@jupyter-widgets/controls",
          "model_name": "DescriptionStyleModel",
          "model_module_version": "1.5.0",
          "state": {
            "_model_module": "@jupyter-widgets/controls",
            "_model_module_version": "1.5.0",
            "_model_name": "DescriptionStyleModel",
            "_view_count": null,
            "_view_module": "@jupyter-widgets/base",
            "_view_module_version": "1.2.0",
            "_view_name": "StyleView",
            "description_width": ""
          }
        },
        "d6dbf3e2f1944c3caae7d6c007c9df0f": {
          "model_module": "@jupyter-widgets/base",
          "model_name": "LayoutModel",
          "model_module_version": "1.2.0",
          "state": {
            "_model_module": "@jupyter-widgets/base",
            "_model_module_version": "1.2.0",
            "_model_name": "LayoutModel",
            "_view_count": null,
            "_view_module": "@jupyter-widgets/base",
            "_view_module_version": "1.2.0",
            "_view_name": "LayoutView",
            "align_content": null,
            "align_items": null,
            "align_self": null,
            "border": null,
            "bottom": null,
            "display": null,
            "flex": null,
            "flex_flow": null,
            "grid_area": null,
            "grid_auto_columns": null,
            "grid_auto_flow": null,
            "grid_auto_rows": null,
            "grid_column": null,
            "grid_gap": null,
            "grid_row": null,
            "grid_template_areas": null,
            "grid_template_columns": null,
            "grid_template_rows": null,
            "height": null,
            "justify_content": null,
            "justify_items": null,
            "left": null,
            "margin": null,
            "max_height": null,
            "max_width": null,
            "min_height": null,
            "min_width": null,
            "object_fit": null,
            "object_position": null,
            "order": null,
            "overflow": null,
            "overflow_x": null,
            "overflow_y": null,
            "padding": null,
            "right": null,
            "top": null,
            "visibility": null,
            "width": null
          }
        },
        "29efa4f5d22c47388289c05ca2da2474": {
          "model_module": "@jupyter-widgets/controls",
          "model_name": "ProgressStyleModel",
          "model_module_version": "1.5.0",
          "state": {
            "_model_module": "@jupyter-widgets/controls",
            "_model_module_version": "1.5.0",
            "_model_name": "ProgressStyleModel",
            "_view_count": null,
            "_view_module": "@jupyter-widgets/base",
            "_view_module_version": "1.2.0",
            "_view_name": "StyleView",
            "bar_color": null,
            "description_width": ""
          }
        },
        "1f88474aa80f4dee8d98b8ef9db27fd3": {
          "model_module": "@jupyter-widgets/base",
          "model_name": "LayoutModel",
          "model_module_version": "1.2.0",
          "state": {
            "_model_module": "@jupyter-widgets/base",
            "_model_module_version": "1.2.0",
            "_model_name": "LayoutModel",
            "_view_count": null,
            "_view_module": "@jupyter-widgets/base",
            "_view_module_version": "1.2.0",
            "_view_name": "LayoutView",
            "align_content": null,
            "align_items": null,
            "align_self": null,
            "border": null,
            "bottom": null,
            "display": null,
            "flex": null,
            "flex_flow": null,
            "grid_area": null,
            "grid_auto_columns": null,
            "grid_auto_flow": null,
            "grid_auto_rows": null,
            "grid_column": null,
            "grid_gap": null,
            "grid_row": null,
            "grid_template_areas": null,
            "grid_template_columns": null,
            "grid_template_rows": null,
            "height": null,
            "justify_content": null,
            "justify_items": null,
            "left": null,
            "margin": null,
            "max_height": null,
            "max_width": null,
            "min_height": null,
            "min_width": null,
            "object_fit": null,
            "object_position": null,
            "order": null,
            "overflow": null,
            "overflow_x": null,
            "overflow_y": null,
            "padding": null,
            "right": null,
            "top": null,
            "visibility": null,
            "width": null
          }
        },
        "116a7999f3a3475a87be4c8ab0711616": {
          "model_module": "@jupyter-widgets/controls",
          "model_name": "DescriptionStyleModel",
          "model_module_version": "1.5.0",
          "state": {
            "_model_module": "@jupyter-widgets/controls",
            "_model_module_version": "1.5.0",
            "_model_name": "DescriptionStyleModel",
            "_view_count": null,
            "_view_module": "@jupyter-widgets/base",
            "_view_module_version": "1.2.0",
            "_view_name": "StyleView",
            "description_width": ""
          }
        }
      }
    }
  },
  "nbformat": 4,
  "nbformat_minor": 0
}