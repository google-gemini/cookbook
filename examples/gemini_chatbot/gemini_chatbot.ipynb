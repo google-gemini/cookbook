{
  "cells": [
    {
      "cell_type": "markdown",
      "metadata": {
        "id": "feb97edc1178"
      },
      "source": [
        "Copyright 2025 Google LLC."
      ]
    },
    {
      "cell_type": "code",
      "execution_count": null,
      "metadata": {
        "cellView": "form",
        "id": "ca23c3f523a7"
      },
      "outputs": [],
      "source": [
        "# @title Licensed under the Apache License, Version 2.0 (the \"License\");\n",
        "# you may not use this file except in compliance with the License.\n",
        "# You may obtain a copy of the License at\n",
        "#\n",
        "# https://www.apache.org/licenses/LICENSE-2.0\n",
        "#\n",
        "# Unless required by applicable law or agreed to in writing, software\n",
        "# distributed under the License is distributed on an \"AS IS\" BASIS,\n",
        "# WITHOUT WARRANTIES OR CONDITIONS OF ANY KIND, either express or implied.\n",
        "# See the License for the specific language governing permissions and\n",
        "# limitations under the License."
      ]
    },
    {
      "cell_type": "markdown",
      "metadata": {
        "id": "c1e4c2310729"
      },
      "source": [
        "## 🤖 Gemini Chatbot Demo - Jupyter Notebook"
      ]
    },
    {
      "cell_type": "markdown",
      "metadata": {
        "id": "013a2bc0b045"
      },
      "source": [
        "This notebook demonstrates a basic chatbot built using the Gemini API and Streamlit."
      ]
    },
    {
      "cell_type": "markdown",
      "metadata": {
        "id": "88168896af06"
      },
      "source": [
        "[![Open In Colab](https://colab.research.google.com/assets/colab-badge.svg)](https://colab.research.google.com/github/MaryamZahiri/cookbook/blob/add-gemini-chatbot-quickstart/examples/gemini_chatbot/gemini_chatbot.ipynb)"
      ]
    },
    {
      "cell_type": "markdown",
      "metadata": {
        "id": "d674242fcd16"
      },
      "source": [
        "### 📦 Setup & Installation"
      ]
    },
    {
      "cell_type": "markdown",
      "id": "56a0a901",
      "metadata": {
        "id": "9590d671e60a"
      },
      "source": [
        "```bash\n",
        "# Clone this directory and navigate into it\n",
        "git clone https://github.com/MaryamZahiri/cookbook.git\n",
        "cd examples/gemini-chatbot\n",
        "\n",
        "# Install dependencies\n",
        "pip install python-dotenv\n",
        "\n",
        "# Optional: Set up virtual environment\n",
        "python -m venv venv\n",
        "source venv/bin/activate  # For Windows: .\\venv\\Scripts\\activate\n",
        "\n",
        "# Install dependencies\n",
        "pip install --upgrade pip\n",
        "pip install streamlit google-generativeai python-dotenv\n",
        "```"
      ]
    },
    {
      "cell_type": "markdown",
      "metadata": {
        "id": "aafc585037d5"
      },
      "source": [
        "### 🔐 .env file format:"
      ]
    },
    {
      "cell_type": "markdown",
      "metadata": {
        "id": "9cdd2ce58c5b"
      },
      "source": [
        "- Get a Gemini API key in Google AI Studio\n",
        "\n",
        "- Create a file named `.env` and paste:"
      ]
    },
    {
      "cell_type": "markdown",
      "id": "7d543164",
      "metadata": {
        "id": "388f0302d34e"
      },
      "source": [
        "```bash\n",
        "GEMINI_API_KEY=your_api_key_here\n",
        "```"
      ]
    },
    {
      "cell_type": "markdown",
      "metadata": {
        "id": "17b232720dd0"
      },
      "source": [
        "### Example"
      ]
    },
    {
      "cell_type": "markdown",
      "metadata": {
        "id": "e04f5986d2c7"
      },
      "source": [
        "#### 📘 Check available models"
      ]
    },
    {
      "cell_type": "code",
      "execution_count": null,
      "id": "f19a6fc8",
      "metadata": {
        "id": "26ffd1d3d791"
      },
      "outputs": [],
      "source": [
        "import google.generativeai as genai\n",
        "import os\n",
        "from dotenv import load_dotenv\n",
        "\n",
        "API_KEY = os.getenv('GEMINI_API_KEY')   \n",
        "class CheckModels:\n",
        "    def __init__(self):\n",
        "        load_dotenv()\n",
        "        genai.configure(api_key = API_KEY)\n",
        "\n",
        "    def validModels(self):\n",
        "        models = genai.list_models()\n",
        "        print([m.name for m in models])\n",
        "\n",
        "if __name__ == \"__main__\":\n",
        "    models = CheckModels()\n",
        "    models.validModels()"
      ]
    },
    {
      "cell_type": "markdown",
      "id": "b025daf2",
      "metadata": {
        "id": "4d22a591f908"
      },
      "source": [
        "#### 📘 Chatbot App"
      ]
    },
    {
      "cell_type": "code",
      "execution_count": null,
      "id": "bd19f7db",
      "metadata": {
        "id": "08d66f1d13c3"
      },
      "outputs": [],
      "source": [
        "import streamlit as st\n",
        "import google.generativeai as genai\n",
        "import os\n",
        "from dotenv import load_dotenv\n",
        "\n",
        "class GeminiChatbot:\n",
        "    def __init__(self):\n",
        "        self.API_KEY = os.getenv(\"GEMINI_API_KEY\")\n",
        "        load_dotenv()\n",
        "        # Set up Gemini API\n",
        "        genai.configure(api_key=self.API_KEY)\n",
        "\n",
        "    def app(self):\n",
        "        model = genai.GenerativeModel(model_name=\"models/gemini-1.5-pro-latest\")\n",
        "\n",
        "        st.title(\"🤖 Gemini Chatbot\")\n",
        "\n",
        "        user_input = st.text_input(\"Ask me anything...\")\n",
        "\n",
        "        if user_input:\n",
        "            with st.spinner(\"Thinking...\"):\n",
        "                response = model.generate_content(user_input)\n",
        "                st.success(response.text)\n",
        "\n",
        "if __name__ == \"__main__\":\n",
        "    chatbot = GeminiChatbot()\n",
        "    chatbot.app()"
      ]
    },
    {
      "cell_type": "markdown",
      "metadata": {
        "id": "0c8554fc3cf2"
      },
      "source": [
        "#### ✅ Run the App"
      ]
    },
    {
      "cell_type": "markdown",
      "id": "d93f729d",
      "metadata": {
        "id": "0c42109a297c"
      },
      "source": [
        "```bash\n",
        "streamlit run app.py\n",
        "```"
      ]
    },
    {
      "cell_type": "markdown",
      "metadata": {
        "id": "8f3bbbb47924"
      },
      "source": [
        "### 📚 Reference"
      ]
    },
    {
      "cell_type": "markdown",
      "id": "3e26575a",
      "metadata": {
        "id": "7e7e71a7e3bc"
      },
      "source": [
        "- [Google Gemini API Quickstart](https://ai.google.dev/gemini-api/docs/quickstart?lang=python)"
      ]
    },
    {
      "cell_type": "markdown",
      "metadata": {
        "id": "53963d65c6a8"
      },
      "source": [
        "### Summary"
      ]
    },
    {
      "cell_type": "markdown",
      "metadata": {
        "id": "414443a8ddf5"
      },
      "source": [
        "This Jupyter Notebook demonstrates the setup and implementation of a chatbot using the Gemini API and Streamlit.\n",
        "\n",
        "1. **Setup & Installation**:\n",
        "    - Clone the repository and install dependencies, including `streamlit`, `google-generativeai`, and `python-dotenv`.\n",
        "    - Optionally, set up a virtual environment.\n",
        "\n",
        "2. **Configuration**:\n",
        "    - Obtain a Gemini API key from Google AI Studio.\n",
        "    - Store the API key in a `.env` file for secure access.\n",
        "\n",
        "3. **Features**:\n",
        "    - Check available models using the `CheckModels` class.\n",
        "    - Build a chatbot application using the `GeminiChatbot` class, which integrates the Gemini API for generating responses.\n",
        "\n",
        "4. **Execution**:\n",
        "    - Run the chatbot app locally using the `streamlit run app.py` command.\n",
        "\n",
        "5. **References**:\n",
        "    - Documentation and quickstart guide for the Google Gemini API.\n",
        "\n",
        "This notebook provides a step-by-step guide to building and running a chatbot powered by the Gemini API."
      ]
    }
  ],
  "metadata": {
    "colab": {
      "name": "gemini_chatbot.ipynb",
      "toc_visible": true
    },
    "kernelspec": {
      "display_name": "Python 3",
      "name": "python3"
    }
  },
  "nbformat": 4,
  "nbformat_minor": 0
}
