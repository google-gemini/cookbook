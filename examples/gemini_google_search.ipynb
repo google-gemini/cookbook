{
  "nbformat": 4,
  "nbformat_minor": 0,
  "metadata": {
    "colab": {
      "provenance": []
    },
    "kernelspec": {
      "name": "python3",
      "display_name": "Python 3"
    },
    "language_info": {
      "name": "python"
    }
  },
  "cells": [
    {
      "cell_type": "markdown",
      "source": [
        "**Copyright 2025 Google LLC.**"
      ],
      "metadata": {
        "id": "jHMioba3dQYh"
      }
    },
    {
      "cell_type": "code",
      "execution_count": null,
      "metadata": {
        "id": "O6sdwbY3dFf0"
      },
      "outputs": [],
      "source": [
        "# @title Licensed under the Apache License, Version 2.0 (the \"License\");\n",
        "# you may not use this file except in compliance with the License.\n",
        "# You may obtain a copy of the License at\n",
        "#\n",
        "# https://www.apache.org/licenses/LICENSE-2.0\n",
        "#\n",
        "# Unless required by applicable law or agreed to in writing, software\n",
        "# distributed under the License is distributed on an \"AS IS\" BASIS,\n",
        "# WITHOUT WARRANTIES OR CONDITIONS OF ANY KIND, either express or implied.\n",
        "# See the License for the specific language governing permissions and\n",
        "# limitations under the License."
      ]
    },
    {
      "cell_type": "markdown",
      "source": [
        "**Gemini API: Google Gemini with Google Search**\n",
        "\n",
        "This is particularly useful for queries that require current information or external knowledge. By enabling Google Search, Gemini can provide more accurate and timely responses.\n",
        "\n",
        "You can learn more about Google Search integration with Gemini here: https://ai.google.dev/gemini-api/docs/grounding?lang=python"
      ],
      "metadata": {
        "id": "D5HpTnjudZqh"
      }
    },
    {
      "cell_type": "code",
      "source": [
        "%pip install google-genai"
      ],
      "metadata": {
        "colab": {
          "base_uri": "https://localhost:8080/"
        },
        "id": "8BRFSeA6dP0B",
        "outputId": "ed61e761-63a0-4a97-87ad-0bb51866caaa"
      },
      "execution_count": 1,
      "outputs": [
        {
          "output_type": "stream",
          "name": "stdout",
          "text": [
            "Requirement already satisfied: google-genai in /usr/local/lib/python3.11/dist-packages (1.8.0)\n",
            "Requirement already satisfied: anyio<5.0.0,>=4.8.0 in /usr/local/lib/python3.11/dist-packages (from google-genai) (4.9.0)\n",
            "Requirement already satisfied: google-auth<3.0.0,>=2.14.1 in /usr/local/lib/python3.11/dist-packages (from google-genai) (2.38.0)\n",
            "Requirement already satisfied: httpx<1.0.0,>=0.28.1 in /usr/local/lib/python3.11/dist-packages (from google-genai) (0.28.1)\n",
            "Requirement already satisfied: pydantic<3.0.0,>=2.0.0 in /usr/local/lib/python3.11/dist-packages (from google-genai) (2.11.0)\n",
            "Requirement already satisfied: requests<3.0.0,>=2.28.1 in /usr/local/lib/python3.11/dist-packages (from google-genai) (2.32.3)\n",
            "Requirement already satisfied: websockets<15.1.0,>=13.0.0 in /usr/local/lib/python3.11/dist-packages (from google-genai) (15.0.1)\n",
            "Requirement already satisfied: typing-extensions<5.0.0,>=4.11.0 in /usr/local/lib/python3.11/dist-packages (from google-genai) (4.13.0)\n",
            "Requirement already satisfied: idna>=2.8 in /usr/local/lib/python3.11/dist-packages (from anyio<5.0.0,>=4.8.0->google-genai) (3.10)\n",
            "Requirement already satisfied: sniffio>=1.1 in /usr/local/lib/python3.11/dist-packages (from anyio<5.0.0,>=4.8.0->google-genai) (1.3.1)\n",
            "Requirement already satisfied: cachetools<6.0,>=2.0.0 in /usr/local/lib/python3.11/dist-packages (from google-auth<3.0.0,>=2.14.1->google-genai) (5.5.2)\n",
            "Requirement already satisfied: pyasn1-modules>=0.2.1 in /usr/local/lib/python3.11/dist-packages (from google-auth<3.0.0,>=2.14.1->google-genai) (0.4.2)\n",
            "Requirement already satisfied: rsa<5,>=3.1.4 in /usr/local/lib/python3.11/dist-packages (from google-auth<3.0.0,>=2.14.1->google-genai) (4.9)\n",
            "Requirement already satisfied: certifi in /usr/local/lib/python3.11/dist-packages (from httpx<1.0.0,>=0.28.1->google-genai) (2025.1.31)\n",
            "Requirement already satisfied: httpcore==1.* in /usr/local/lib/python3.11/dist-packages (from httpx<1.0.0,>=0.28.1->google-genai) (1.0.7)\n",
            "Requirement already satisfied: h11<0.15,>=0.13 in /usr/local/lib/python3.11/dist-packages (from httpcore==1.*->httpx<1.0.0,>=0.28.1->google-genai) (0.14.0)\n",
            "Requirement already satisfied: annotated-types>=0.6.0 in /usr/local/lib/python3.11/dist-packages (from pydantic<3.0.0,>=2.0.0->google-genai) (0.7.0)\n",
            "Requirement already satisfied: pydantic-core==2.33.0 in /usr/local/lib/python3.11/dist-packages (from pydantic<3.0.0,>=2.0.0->google-genai) (2.33.0)\n",
            "Requirement already satisfied: typing-inspection>=0.4.0 in /usr/local/lib/python3.11/dist-packages (from pydantic<3.0.0,>=2.0.0->google-genai) (0.4.0)\n",
            "Requirement already satisfied: charset-normalizer<4,>=2 in /usr/local/lib/python3.11/dist-packages (from requests<3.0.0,>=2.28.1->google-genai) (3.4.1)\n",
            "Requirement already satisfied: urllib3<3,>=1.21.1 in /usr/local/lib/python3.11/dist-packages (from requests<3.0.0,>=2.28.1->google-genai) (2.3.0)\n",
            "Requirement already satisfied: pyasn1<0.7.0,>=0.6.1 in /usr/local/lib/python3.11/dist-packages (from pyasn1-modules>=0.2.1->google-auth<3.0.0,>=2.14.1->google-genai) (0.6.1)\n"
          ]
        }
      ]
    },
    {
      "cell_type": "code",
      "source": [
        "import os\n",
        "from google.colab import userdata\n",
        "from google import genai\n",
        "# create client\n",
        "API_KEY = userdata.get('GEMINI_API_KEY')\n",
        "client = genai.Client(api_key=API_KEY)\n",
        "\n",
        "\n",
        "# Generate a list of cookie recipes\n",
        "response = client.models.generate_content(\n",
        "    model='gemini-2.0-flash',\n",
        "    contents='Who won ICC World Cup Trophy  2024 ?',\n",
        "    config={\"tools\": [{\"google_search\": {}}]},\n",
        ")\n",
        "\n",
        "# print the response\n",
        "print(f\"Response: {response.text}\")\n",
        "# print the search details\n",
        "print(f\"Search Query: {response.candidates[0].grounding_metadata.web_search_queries}\")\n",
        "# urls used for grounding\n",
        "print(f\"Search Pages: {', '.join([site.web.title for site in response.candidates[0].grounding_metadata.grounding_chunks])}\")"
      ],
      "metadata": {
        "colab": {
          "base_uri": "https://localhost:8080/"
        },
        "id": "yHs6VLB0d5f5",
        "outputId": "84083a5d-e02c-4bd7-9100-b8f107a23efc"
      },
      "execution_count": 4,
      "outputs": [
        {
          "output_type": "stream",
          "name": "stdout",
          "text": [
            "Response: India won the ICC T20 World Cup in 2024, defeating South Africa in the final by 7 runs. The final was held on June 29, 2024, at Kensington Oval in Bridgetown, Barbados. This was India's second T20 World Cup title, with their first win in 2007.\n",
            "\n",
            "Search Query: ['ICC World Cup 2024 winner']\n",
            "Search Pages: wikipedia.org, adda247.com, indiatimes.com, aljazeera.com, jagranjosh.com\n"
          ]
        }
      ]
    },
    {
      "cell_type": "code",
      "source": [
        "# Generate a list of cookie recipes\n",
        "response = client.models.generate_content(\n",
        "    model='gemini-2.0-flash',\n",
        "    contents='Current World market trends in tech industry?',\n",
        "    config={\"tools\": [{\"google_search\": {}}]},\n",
        ")\n",
        "\n",
        "# print the response\n",
        "print(f\"Response: {response.text}\")\n",
        "# print the search details\n",
        "print(f\"Search Query: {response.candidates[0].grounding_metadata.web_search_queries}\")\n",
        "# urls used for grounding\n",
        "print(f\"Search Pages: {', '.join([site.web.title for site in response.candidates[0].grounding_metadata.grounding_chunks])}\")"
      ],
      "metadata": {
        "colab": {
          "base_uri": "https://localhost:8080/"
        },
        "id": "dV-u8Q1Td8sw",
        "outputId": "89b37e77-b11d-4254-ff56-483bb11bf7af"
      },
      "execution_count": 5,
      "outputs": [
        {
          "output_type": "stream",
          "name": "stdout",
          "text": [
            "Response: The tech industry is predicted to experience growth in 2025, driven by increased IT spending, AI investments, and a focus on innovation. Some analysts predict a 9.3% growth in global IT spending in 2025, with data centers and software segments growing at double-digit rates. Worldwide spending on AI is expected to grow at a compound annual growth rate of 29% from 2024 to 2028.\n",
            "\n",
            "Here are some key trends to watch:\n",
            "\n",
            "*   **Generative AI:** Generative AI is expected to be a major force, driving enterprise innovation by automating routine tasks, improving customer experiences, and streamlining R&D processes. Businesses are integrating GenAI into their operations to enhance productivity and unlock significant business value, including personalized content and optimized workflows.\n",
            "*   **AI Governance Platforms:** Technology solutions are emerging to help organizations manage the legal, ethical, and operational performance of their AI systems. These platforms aim to create, manage, and enforce policies that ensure the responsible use of AI, explain how AI systems work, and provide transparency to build trust and accountability.\n",
            "*   **Cybersecurity:** Escalating cybersecurity threats are a major concern, driven by the proliferation of IoT devices, generative AI, and cloud computing. The global cost of cybercrime is projected to reach $10.5 trillion in 2025. Consequently, cybersecurity is expected to be a critical priority, with the global market for security products growing rapidly.\n",
            "*   **Quantum Computing:** Quantum computing is moving from theoretical to practical applications, impacting sectors like supply chain management and R&D. Early adopters, such as large academic institutions and tech giants, are paving the way for broader access through Quantum Computing-as-a-Service (QaaS).\n",
            "*   **Extended Reality (XR):** XR, which combines VR and mixed reality (MR), is expected to have a profound impact on education, training, retail, and entertainment. It enables immersive experiences and more efficient solutions by blurring the boundaries between the physical and digital worlds.\n",
            "*   **5G Expansion:** The expansion of 5G networks is facilitating transformative technologies like IoT, augmented reality, and autonomous vehicles by providing the high-speed, low-latency connections they require. 5G technology offers speeds up to 10 times faster than 4G, with peak data rates reaching up to 20 gigabits per second.\n",
            "*   **Sustainable Technology:** The push for sustainable technology is driven by growing consumer awareness, stricter regulatory mandates, and the need for businesses to demonstrate corporate social responsibility. Companies are leveraging IoT, AI, and blockchain advances to enhance sustainability in supply chains, waste management, and energy grids.\n",
            "*   **Tech Talent Shortage:** The demand for skilled tech professionals continues to outpace supply, creating a significant challenge for companies across industries. Businesses are adapting by embracing automation, investing in talent development, and expanding their reach to global talent pools.\n",
            "*   **Nuclear Power for AI Infrastructure:** Nuclear energy is gaining traction as a clean and reliable power source to meet the rising energy demands of AI and high-energy technologies. The massive energy needs of AI are pushing tech giants toward nuclear solutions.\n",
            "*   **Agentic AI:** Autonomous AI agents can plan and take action to achieve goals set by the user, going beyond the query-and-response functionality of generative chatbots. These agents can perform enterprise-related tasks independently without human intervention and are used in applications like self-driving cars, robotic process automation, and virtual assistants.\n",
            "\n",
            "Search Query: ['major trends in tech industry 2025', 'future of tech industry market 2025', 'current world market trends in tech industry']\n",
            "Search Pages: wsj.com, deloitte.com, alizila.com, simplilearn.com, gartner.com, bdo.co.uk, forbes.com, kadence.com\n"
          ]
        }
      ]
    },
    {
      "cell_type": "code",
      "source": [],
      "metadata": {
        "id": "Em3TaaGieZBe"
      },
      "execution_count": null,
      "outputs": []
    }
  ]
}