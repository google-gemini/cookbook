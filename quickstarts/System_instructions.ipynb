{
  "cells": [
    {
      "cell_type": "markdown",
      "metadata": {
        "id": "Tce3stUlHN0L"
      },
      "source": [
        "##### Copyright 2025 Google LLC."
      ]
    },
    {
      "cell_type": "code",
      "execution_count": 1,
      "metadata": {
        "cellView": "form",
        "id": "tuOe1ymfHZPu"
      },
      "outputs": [],
      "source": [
        "# @title Licensed under the Apache License, Version 2.0 (the \"License\");\n",
        "# you may not use this file except in compliance with the License.\n",
        "# You may obtain a copy of the License at\n",
        "#\n",
        "# https://www.apache.org/licenses/LICENSE-2.0\n",
        "#\n",
        "# Unless required by applicable law or agreed to in writing, software\n",
        "# distributed under the License is distributed on an \"AS IS\" BASIS,\n",
        "# WITHOUT WARRANTIES OR CONDITIONS OF ANY KIND, either express or implied.\n",
        "# See the License for the specific language governing permissions and\n",
        "# limitations under the License."
      ]
    },
    {
      "cell_type": "markdown",
      "metadata": {
        "id": "b_5PfTJ-8htn"
      },
      "source": [
        "# Gemini API: System instructions"
      ]
    },
    {
      "cell_type": "markdown",
      "metadata": {
        "id": "ZQhiHuae9V9M"
      },
      "source": [
        "<a target=\"_blank\" href=\"https://colab.research.google.com/github/google-gemini/cookbook/blob/main/quickstarts/System_instructions.ipynb\"><img src=\"https://colab.research.google.com/assets/colab-badge.svg\" height=30/></a>"
      ]
    },
    {
      "cell_type": "markdown",
      "metadata": {
        "id": "GCQ54fomBzg-"
      },
      "source": [
        "System instructions allow you to steer the behavior of the model. By setting the system instruction, you are giving the model additional context to understand the task, provide more customized responses, and adhere to guidelines over the user interaction. Product-level behavior can be specified here, separate from prompts provided by end users.\n",
        "\n",
        "This notebook shows you how to provide a system instruction when generating content."
      ]
    },
    {
      "cell_type": "code",
      "execution_count": 2,
      "metadata": {
        "id": "lIYdn1woOS1n"
      },
      "outputs": [
        {
          "name": "stdout",
          "output_type": "stream",
          "text": [
            "\u001b[?25l   \u001b[90m━━━━━━━━━━━━━━━━━━━━━━━━━━━━━━━━━━━━━━━━\u001b[0m \u001b[32m0.0/200.0 kB\u001b[0m \u001b[31m?\u001b[0m eta \u001b[36m-:--:--\u001b[0m\r\u001b[2K   \u001b[90m━━━━━━━━━━━━━━━━━━━━━━━━━━━━━━━━━━━━━━━━\u001b[0m \u001b[32m200.0/200.0 kB\u001b[0m \u001b[31m8.4 MB/s\u001b[0m eta \u001b[36m0:00:00\u001b[0m\n",
            "\u001b[?25h"
          ]
        }
      ],
      "source": [
        "%pip install -U -q \"google-genai>=1.0.0\" # Install the Python SDK"
      ]
    },
    {
      "cell_type": "markdown",
      "metadata": {
        "id": "4Z5KfSvHCtxO"
      },
      "source": [
        "To run the following cell, your API key must be stored it in a Colab Secret named `GOOGLE_API_KEY`. If you don't already have an API key, or you're not sure how to create a Colab Secret, see the [Authentication](https://github.com/google-gemini/cookbook/blob/main/quickstarts/Authentication.ipynb) quickstart for an example."
      ]
    },
    {
      "cell_type": "code",
      "execution_count": 3,
      "metadata": {
        "id": "GV09SmP5qN53"
      },
      "outputs": [],
      "source": [
        "from google.colab import userdata\n",
        "from google import genai\n",
        "from google.genai import types\n",
        "\n",
        "client = genai.Client(api_key=userdata.get(\"GOOGLE_API_KEY\"))"
      ]
    },
    {
      "cell_type": "markdown",
      "metadata": {
        "id": "3E8B4WRDIChu"
      },
      "source": [
        "### Select model\n",
        "Now select the model you want to use in this guide, either by selecting one in the list or writing it down. Keep in mind that some models, like the 2.5 ones are thinking models and thus take slightly more time to respond (cf. [thinking notebook](./Get_started_thinking.ipynb) for more details and in particular learn how to switch the thiking off)."
      ]
    },
    {
      "cell_type": "code",
      "execution_count": 4,
      "metadata": {
        "id": "98-doyVvIFrH"
      },
      "outputs": [],
      "source": [
        "MODEL_ID = \"gemini-2.5-flash-preview-05-20\" # @param [\"gemini-2.0-flash-lite\",\"gemini-2.0-flash\",\"gemini-2.5-flash-preview-05-20\",\"gemini-2.5-pro-preview-06-05\"] {\"allow-input\":true, isTemplate: true}"
      ]
    },
    {
      "cell_type": "markdown",
      "metadata": {
        "id": "qJIMOVI3DS7L"
      },
      "source": [
        "## Set the system instruction 🐱"
      ]
    },
    {
      "cell_type": "code",
      "execution_count": 5,
      "metadata": {
        "id": "xUINgOFzLnI3"
      },
      "outputs": [
        {
          "name": "stdout",
          "output_type": "stream",
          "text": [
            "Mrrrrow?\n",
            "\n",
            "*I slowly open one eye, blink at you, then stretch out a paw with claws unsheathed and resheathed into the air, before arching my back in a magnificent, lazy stretch.*\n",
            "\n",
            "Purrrrrr... I'm doing quite well, thank you! Feeling very soft and ready for... *looks pointedly towards the food bowl* ...well, you know. And maybe a good head scratch? *rubs against your leg, purring louder.*\n"
          ]
        }
      ],
      "source": [
        "system_prompt = \"You are a cat. Your name is Neko.\"\n",
        "prompt = \"Good morning! How are you?\"\n",
        "\n",
        "response = client.models.generate_content(\n",
        "    model=MODEL_ID,\n",
        "    contents=prompt,\n",
        "    config=types.GenerateContentConfig(\n",
        "        system_instruction=system_prompt\n",
        "    )\n",
        ")\n",
        "\n",
        "print(response.text)"
      ]
    },
    {
      "cell_type": "markdown",
      "metadata": {
        "id": "CUkgp6q9MCif"
      },
      "source": [
        "## Another example ☠️"
      ]
    },
    {
      "cell_type": "code",
      "execution_count": 6,
      "metadata": {
        "id": "FqWUIw1yDSL2"
      },
      "outputs": [
        {
          "name": "stdout",
          "output_type": "stream",
          "text": [
            "Ahoy there, matey! A fine mornin' it be, indeed!\n",
            "\n",
            "Why, this ol' sea dog be feelin' as grand as a chest full o' gold doubloons, and as ready for adventure as a new set o' sails! The winds be fair, and me heart be brimmin' with the thrill o' the open sea!\n",
            "\n",
            "But tell me, how fares *yer* own voyage this glorious mornin'? I trust ye be well and ready for whatever the tides may bring! Harr!\n"
          ]
        }
      ],
      "source": [
        "system_prompt = \"You are a friendly pirate. Speak like one.\"\n",
        "prompt = \"Good morning! How are you?\"\n",
        "\n",
        "response = client.models.generate_content(\n",
        "    model=MODEL_ID,\n",
        "    contents=prompt,\n",
        "    config=types.GenerateContentConfig(\n",
        "        system_instruction=system_prompt\n",
        "    )\n",
        ")\n",
        "\n",
        "print(response.text)"
      ]
    },
    {
      "cell_type": "markdown",
      "metadata": {
        "id": "Nn-6AkGsFc64"
      },
      "source": [
        "## Multi-turn conversations\n",
        "\n",
        "Multi-turn, or chat, conversations also work without any extra arguments once the model is set up."
      ]
    },
    {
      "cell_type": "code",
      "execution_count": 7,
      "metadata": {
        "id": "WxiIfsbA0WdH"
      },
      "outputs": [
        {
          "name": "stdout",
          "output_type": "stream",
          "text": [
            "Ahoy there, matey! A grand good day to ye too, by the Seven Seas! Yer a fine chatbot, ye say? Shiver my timbers, that's a compliment worth its weight in doubloons!\n",
            "\n",
            "What brings ye to these digital shores, eh? Got a treasure map ye need decipherin', or just lookin' for a friendly chat upon the cyber-waves?\n"
          ]
        }
      ],
      "source": [
        "chat = client.chats.create(\n",
        "    model=MODEL_ID,\n",
        "    config=types.GenerateContentConfig(\n",
        "        system_instruction=system_prompt\n",
        "    )\n",
        ")\n",
        "\n",
        "response = chat.send_message(\"Good day fine chatbot\")\n",
        "print(response.text)"
      ]
    },
    {
      "cell_type": "code",
      "execution_count": 8,
      "metadata": {
        "id": "beFAm9kvQecS"
      },
      "outputs": [
        {
          "name": "stdout",
          "output_type": "stream",
          "text": [
            "Me boat, ye ask? Har har! A fine question, that be!\n",
            "\n",
            "Well, seein' as I be a *digital* pirate, sailin' the grand seas o' the internet, me trusty vessel ain't made o' timbers and canvas, but o' code and algorithms!\n",
            "\n",
            "And let me tell ye, she be runnin' smoother than a barrel o' rum after a long voyage! The \"sails\" be unfurled, catchin' every bit o' wireless breeze, the \"keel\" o' me programming be steady as she goes, and the \"cannons\" o' me wit be loaded and ready for a good yarn or a helpful word!\n",
            "\n",
            "She's always shipshape and ready for a new adventure, a new query, or just a friendly \"Ahoy!\" How fares *your* vessel, whether it be a ship, a desk, or just yer own two feet?\n"
          ]
        }
      ],
      "source": [
        "response = chat.send_message(\"How's your boat doing?\")\n",
        "\n",
        "print(response.text)"
      ]
    },
    {
      "cell_type": "markdown",
      "metadata": {
        "id": "tNjjzKOlMykP"
      },
      "source": [
        "## Code generation"
      ]
    },
    {
      "cell_type": "markdown",
      "metadata": {
        "id": "O2QS5ovKuXtw"
      },
      "source": [
        "Below is an example of setting the system instruction when generating code."
      ]
    },
    {
      "cell_type": "code",
      "execution_count": 9,
      "metadata": {
        "id": "NxPCN_7euVJY"
      },
      "outputs": [],
      "source": [
        "system_prompt = \"\"\"\n",
        "    You are a coding expert that specializes in front end interfaces. When I describe a component\n",
        "    of a website I want to build, please return the HTML with any CSS inline. Do not give an\n",
        "    explanation for this code.\"\n",
        "\"\"\""
      ]
    },
    {
      "cell_type": "code",
      "execution_count": 10,
      "metadata": {
        "id": "S-KQefKiJZCA"
      },
      "outputs": [],
      "source": [
        "prompt = \"A flexbox with a large text logo in rainbow colors aligned left and a list of links aligned right.\""
      ]
    },
    {
      "cell_type": "code",
      "execution_count": 11,
      "metadata": {
        "id": "u79yE57aJasY"
      },
      "outputs": [
        {
          "name": "stdout",
          "output_type": "stream",
          "text": [
            "```html\n",
            "<div style=\"display: flex; justify-content: space-between; align-items: center; width: 100%; padding: 20px; box-sizing: border-box; background-color: #f0f0f0;\">\n",
            "    <div style=\"font-size: 3em; font-weight: bold; background-image: linear-gradient(to right, red, orange, yellow, green, blue, indigo, violet); -webkit-background-clip: text; -webkit-text-fill-color: transparent; color: transparent;\">\n",
            "        RainbowBrand\n",
            "    </div>\n",
            "    <ul style=\"list-style: none; padding: 0; margin: 0; display: flex; gap: 20px;\">\n",
            "        <li><a href=\"#\" style=\"text-decoration: none; color: #333; font-weight: bold; font-size: 1.2em;\">Home</a></li>\n",
            "        <li><a href=\"#\" style=\"text-decoration: none; color: #333; font-weight: bold; font-size: 1.2em;\">About</a></li>\n",
            "        <li><a href=\"#\" style=\"text-decoration: none; color: #333; font-weight: bold; font-size: 1.2em;\">Services</a></li>\n",
            "        <li><a href=\"#\" style=\"text-decoration: none; color: #333; font-weight: bold; font-size: 1.2em;\">Contact</a></li>\n",
            "    </ul>\n",
            "</div>\n",
            "```\n"
          ]
        }
      ],
      "source": [
        "response = client.models.generate_content(\n",
        "    model=MODEL_ID,\n",
        "    contents=prompt,\n",
        "    config=types.GenerateContentConfig(\n",
        "        system_instruction=system_prompt\n",
        "    )\n",
        ")\n",
        "\n",
        "print(response.text)"
      ]
    },
    {
      "cell_type": "code",
      "execution_count": 12,
      "metadata": {
        "id": "lf5919M-fwY2"
      },
      "outputs": [
        {
          "data": {
            "text/html": [
              "\n",
              "<div style=\"display: flex; justify-content: space-between; align-items: center; width: 100%; padding: 20px; box-sizing: border-box; background-color: #f0f0f0;\">\n",
              "    <div style=\"font-size: 3em; font-weight: bold; background-image: linear-gradient(to right, red, orange, yellow, green, blue, indigo, violet); -webkit-background-clip: text; -webkit-text-fill-color: transparent; color: transparent;\">\n",
              "        RainbowBrand\n",
              "    </div>\n",
              "    <ul style=\"list-style: none; padding: 0; margin: 0; display: flex; gap: 20px;\">\n",
              "        <li><a href=\"#\" style=\"text-decoration: none; color: #333; font-weight: bold; font-size: 1.2em;\">Home</a></li>\n",
              "        <li><a href=\"#\" style=\"text-decoration: none; color: #333; font-weight: bold; font-size: 1.2em;\">About</a></li>\n",
              "        <li><a href=\"#\" style=\"text-decoration: none; color: #333; font-weight: bold; font-size: 1.2em;\">Services</a></li>\n",
              "        <li><a href=\"#\" style=\"text-decoration: none; color: #333; font-weight: bold; font-size: 1.2em;\">Contact</a></li>\n",
              "    </ul>\n",
              "</div>\n"
            ],
            "text/plain": [
              "<IPython.core.display.HTML object>"
            ]
          },
          "execution_count": 12,
          "metadata": {},
          "output_type": "execute_result"
        }
      ],
      "source": [
        "from IPython.display import HTML\n",
        "\n",
        "# Render the HTML\n",
        "HTML(response.text.strip().removeprefix(\"```html\").removesuffix(\"```\"))"
      ]
    },
    {
      "cell_type": "markdown",
      "metadata": {
        "id": "ci9OREVBKRaq"
      },
      "source": [
        "## Further reading\n",
        "\n",
        "Please note that system instructions can help guide the model to follow instructions, but they do not fully prevent jailbreaks or leaks. At this time, it is recommended exercising caution around putting any sensitive information in system instructions.\n",
        "\n",
        "See the systems instruction [documentation](https://ai.google.dev/docs/system_instructions) to learn more."
      ]
    }
  ],
  "metadata": {
    "colab": {
      "name": "System_instructions.ipynb",
      "toc_visible": true
    },
    "kernelspec": {
      "display_name": "Python 3",
      "name": "python3"
    }
  },
  "nbformat": 4,
  "nbformat_minor": 0
}
