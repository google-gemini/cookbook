{
  "cells": [
    {
      "cell_type": "markdown",
      "metadata": {
        "id": "7asVsfQvEind"
      },
      "source": [
        "##### Copyright 2025 Google LLC."
      ]
    },
    {
      "cell_type": "code",
      "execution_count": null,
      "metadata": {
        "cellView": "form",
        "id": "Mkt6Qu4FEhWC"
      },
      "outputs": [],
      "source": [
        "#@title Licensed under the Apache License, Version 2.0 (the \"License\");\n",
        "# you may not use this file except in compliance with the License.\n",
        "# You may obtain a copy of the License at\n",
        "#\n",
        "# https://www.apache.org/licenses/LICENSE-2.0\n",
        "#\n",
        "# Unless required by applicable law or agreed to in writing, software\n",
        "# distributed under the License is distributed on an \"AS IS\" BASIS,\n",
        "# WITHOUT WARRANTIES OR CONDITIONS OF ANY KIND, either express or implied.\n",
        "# See the License for the specific language governing permissions and\n",
        "# limitations under the License."
      ]
    },
    {
      "cell_type": "markdown",
      "metadata": {
        "id": "zP1Ft6CTEohS"
      },
      "source": [
        "# Gemini Batch API\n",
        "\n",
        "<a target=\"_blank\" href=\"https://colab.research.google.com/github/google-gemini/cookbook/blob/main/quickstarts/Batch_mode.ipynb\"><img src=\"https://colab.research.google.com/assets/colab-badge.svg\" height=30/></a>\n",
        "\n",
        "The [Gemini Batch API](https://ai.google.dev/gemini-api/docs/batch-mode) is designed for processing large volumes of non-latency-critical requests asynchronously. It's ideal for workloads that require high throughput, such as pre-processing datasets, running large-scale evaluations, or generating content in bulk.\n",
        "\n",
        "**Key Benefits:**\n",
        "*   **High throughput:** Process millions of requests in a single job.\n",
        "*   **Cost savings:** Batches are priced at a 50% discount compared to the standard API.\n",
        "*   **Asynchronous:** Submit your job and retrieve the results later, within a 24-hour SLO.\n",
        "\n",
        "**In this notebook, you will learn how to:**\n",
        "1.  Set up your environment for Batch Mode.\n",
        "2.  Create a batch job by uploading a JSONL file (recommended for large jobs).\n",
        "3.  Create a batch job using inline requests (convenient for smaller jobs).\n",
        "4.  Monitor the status of your job.\n",
        "5.  Retrieve and parse the results for both job types.\n",
        "6.  Manage your jobs (list and cancel).\n",
        "7.  Use batch embeddings.\n",
        "8.  Generate with multimodal inputs.\n",
        "9.  Generate images."
      ]
    },
    {
      "cell_type": "markdown",
      "metadata": {
        "id": "Mfk6YY3G5kqp"
      },
      "source": [
        "# Setup"
      ]
    },
    {
      "cell_type": "markdown",
      "metadata": {
        "id": "d5027929de8f"
      },
      "source": [
        "### Install SDK\n",
        "\n",
        "Install the SDK from [PyPI](https://github.com/googleapis/python-genai)."
      ]
    },
    {
      "cell_type": "code",
      "execution_count": 1,
      "metadata": {
        "id": "46zEFO2a9FFd"
      },
      "outputs": [],
      "source": [
        "%pip install -q -U \"google-genai>=1.34.0\""
      ]
    },
    {
      "cell_type": "markdown",
      "metadata": {
        "id": "CTIfnvCn9HvH"
      },
      "source": [
        "### Setup your API key\n",
        "\n",
        "To run the following cell, your API key must be stored it in a Colab Secret named `GOOGLE_API_KEY`. If you don't already have an API key, or you're not sure how to create a Colab Secret, see [Authentication](../quickstarts/Authentication.ipynb) for an example."
      ]
    },
    {
      "cell_type": "code",
      "execution_count": 2,
      "metadata": {
        "id": "A1pkoyZb9Jm3"
      },
      "outputs": [],
      "source": [
        "from google.colab import userdata\n",
        "\n",
        "GOOGLE_API_KEY = userdata.get('GOOGLE_API_KEY')"
      ]
    },
    {
      "cell_type": "markdown",
      "metadata": {
        "id": "3Hx_Gw9i0Yuv"
      },
      "source": [
        "### Initialize SDK client\n",
        "\n",
        "Initialize a client with your API key:"
      ]
    },
    {
      "cell_type": "code",
      "execution_count": 3,
      "metadata": {
        "id": "HghvVpbU0Uap"
      },
      "outputs": [],
      "source": [
        "from google import genai\n",
        "from google.genai import types\n",
        "\n",
        "client = genai.Client(api_key=GOOGLE_API_KEY)"
      ]
    },
    {
      "cell_type": "markdown",
      "metadata": {
        "id": "MvA_mbi1JxD5"
      },
      "source": [
        "### Choose a model\n",
        "\n",
        "Most Gemini models are compatible with Batch mode, but the size of the queue is not the same for each of them. Refer to the [documentation](https://ai.google.dev/gemini-api/docs/batch-mode#technical-details) for more details."
      ]
    },
    {
      "cell_type": "code",
      "execution_count": 4,
      "metadata": {
        "id": "AChpZWIXu62m"
      },
      "outputs": [],
      "source": [
        "MODEL_ID = \"gemini-2.5-flash\" # @param [\"gemini-2.0-flash\", \"gemini-2.5-flash-lite\", \"gemini-2.5-flash-lite-preview-09-2025\", \"gemini-2.5-flash\", \"gemini-2.5-flash-preview-09-2025\", \"gemini-2.5-pro\", \"gemini-2.5-flash-image\"] {\"allow-input\":true, isTemplate: true}"
      ]
    },
    {
      "cell_type": "markdown",
      "metadata": {
        "id": "lvhjUMUApiCy"
      },
      "source": [
        "Media gen models ([Imagen](./Get_started_imagen.ipynb), [Lyria](./Get_started_LyriaRealTime.ipynb) or [Veo](./Get_started_Veo.ipynb)) are not currently compatible with Batch API. But if you want to batch create images you can use the [Gemini 2.0 Flash Preview Image Generation](./Image_out.ipynb) model (see example below)."
      ]
    },
    {
      "cell_type": "markdown",
      "metadata": {
        "id": "QDoq2bRzSn7k"
      },
      "source": [
        "# Creating Batch Jobs: Two Methods\n",
        "\n",
        "You can create batch jobs in two ways:\n",
        "\n",
        "1.  **File-based (`src`)**: Upload a JSONL file containing all your requests. This is the recommended method for large datasets.\n",
        "2.  **Inline (`inlined_requests`)**: Pass a list of request objects directly in your code. This is convenient for smaller, dynamically generated jobs.\n"
      ]
    },
    {
      "cell_type": "markdown",
      "metadata": {
        "id": "QVcYxERES1fY"
      },
      "source": [
        "## Create a job from a file\n",
        "\n",
        "This is the most common workflow. You will prepare an input file, upload it, create the job, monitor it, and retrieve the results."
      ]
    },
    {
      "cell_type": "markdown",
      "metadata": {
        "id": "DMT-Xx7AXebz"
      },
      "source": [
        "### Step 1: Prepare and upload the input File\n",
        "\n",
        "The input file must be a **JSON** file, where each line is a JSON object. Each object must contain a unique `key` to help you correlate inputs with outputs, and a `request` object matching the `GenerateContentRequest` schema."
      ]
    },
    {
      "cell_type": "code",
      "execution_count": null,
      "metadata": {
        "id": "V7xoP6tsLZ0B"
      },
      "outputs": [
        {
          "name": "stdout",
          "output_type": "stream",
          "text": [
            "Uploading file: batch_requests.json\n",
            "Uploaded file: files/p1mds9fl15bs\n"
          ]
        }
      ],
      "source": [
        "# Create a sample JSONL file.\n",
        "# The 'key' field is required for correlating inputs to outputs.\n",
        "\n",
        "import json\n",
        "\n",
        "requests_data = [\n",
        "    {\"key\": \"request_1\", \"request\": {\"contents\": [{\"parts\": [{\"text\": \"Explain how AI works in a few words\"}]}]}},\n",
        "    {\"key\": \"request_2\", \"request\": {\"contents\": [{\"parts\": [{\"text\": \"Explain how quantum computing works in a few words\"}]}]}}\n",
        "]\n",
        "\n",
        "json_file_path = 'batch_requests.json'\n",
        "\n",
        "with open(json_file_path, 'w') as f:\n",
        "    for req in requests_data:\n",
        "        f.write(json.dumps(req) + '\\n')\n",
        "\n",
        "# 2. Upload JSONL file to File API.\n",
        "print(f\"Uploading file: {json_file_path}\")\n",
        "uploaded_batch_requests = client.files.upload(\n",
        "    file=json_file_path,\n",
        "    config=types.UploadFileConfig(display_name='batch-input-file')\n",
        ")\n",
        "print(f\"Uploaded file: {uploaded_batch_requests.name}\")"
      ]
    },
    {
      "cell_type": "markdown",
      "metadata": {
        "id": "RHiIK7vBTHvp"
      },
      "source": [
        "### Step 2: Create the Batch Job\n",
        "\n",
        "Now, pass the uploaded file's name (`uploaded_batch_requests.name`) to the `client.batches.create` function to create the batch job."
      ]
    },
    {
      "cell_type": "code",
      "execution_count": null,
      "metadata": {
        "id": "js7fQU2dFRcJ"
      },
      "outputs": [
        {
          "name": "stdout",
          "output_type": "stream",
          "text": [
            "Created batch job from file: batches/o08hk76gv328ihxcssjsgwt3g6omtfysxi46\n"
          ]
        }
      ],
      "source": [
        "batch_job_from_file = client.batches.create(\n",
        "    model=MODEL_ID,\n",
        "    src=uploaded_batch_requests.name,\n",
        "    config={\n",
        "        'display_name': 'my-batch-job-from-file',\n",
        "    }\n",
        ")\n",
        "print(f\"Created batch job from file: {batch_job_from_file.name}\")"
      ]
    },
    {
      "cell_type": "markdown",
      "metadata": {
        "id": "DMn7rMKt-4vS"
      },
      "source": [
        "### Step 3: Monitor job status\n",
        "\n",
        "Jobs can take time to complete (up to 24 hours). You can poll the API to check the status."
      ]
    },
    {
      "cell_type": "code",
      "execution_count": null,
      "metadata": {
        "id": "LRfeqghtTdHb"
      },
      "outputs": [
        {
          "name": "stdout",
          "output_type": "stream",
          "text": [
            "Polling status for job: batches/o08hk76gv328ihxcssjsgwt3g6omtfysxi46\n",
            "Job not finished. Current state: JOB_STATE_PENDING. Waiting 30 seconds...\n",
            "Job not finished. Current state: JOB_STATE_PENDING. Waiting 30 seconds...\n",
            "Job not finished. Current state: JOB_STATE_PENDING. Waiting 30 seconds...\n",
            "Job not finished. Current state: JOB_STATE_PENDING. Waiting 30 seconds...\n",
            "Job not finished. Current state: JOB_STATE_PENDING. Waiting 30 seconds...\n",
            "Job not finished. Current state: JOB_STATE_PENDING. Waiting 30 seconds...\n",
            "Job not finished. Current state: JOB_STATE_PENDING. Waiting 30 seconds...\n",
            "Job not finished. Current state: JOB_STATE_PENDING. Waiting 30 seconds...\n",
            "Job not finished. Current state: JOB_STATE_PENDING. Waiting 30 seconds...\n",
            "Job finished with state: JOB_STATE_SUCCEEDED\n"
          ]
        }
      ],
      "source": [
        "# Note: You can check the status of any job by replacing its name here.\n",
        "# For example: job_name = 'batches/your-job-name-here'\n",
        "\n",
        "import time\n",
        "\n",
        "job_name = batch_job_from_file.name\n",
        "\n",
        "print(f\"Polling status for job: {job_name}\")\n",
        "\n",
        "# Poll the job status until it's completed.\n",
        "while True:\n",
        "    batch_job = client.batches.get(name=job_name)\n",
        "    if batch_job.state.name in ('JOB_STATE_SUCCEEDED', 'JOB_STATE_FAILED', 'JOB_STATE_CANCELLED'):\n",
        "        break\n",
        "    print(f\"Job not finished. Current state: {batch_job.state.name}. Waiting 30 seconds...\")\n",
        "    time.sleep(30)\n",
        "\n",
        "print(f\"Job finished with state: {batch_job.state.name}\")\n",
        "if batch_job.state.name == 'JOB_STATE_FAILED':\n",
        "    print(f\"Error: {batch_job.error}\")"
      ]
    },
    {
      "cell_type": "markdown",
      "metadata": {
        "id": "3zbBqLUGTnJG"
      },
      "source": [
        "### Step 4: Retrieve and parse results\n",
        "\n",
        "Once a file-based job succeeds, the results are written to an output file in the [Files API](./File_API.ipynb)."
      ]
    },
    {
      "cell_type": "code",
      "execution_count": null,
      "metadata": {
        "id": "cvpNS7r4Tt7Y"
      },
      "outputs": [
        {
          "name": "stdout",
          "output_type": "stream",
          "text": [
            "Results are in file: files/batch-o08hk76gv328ihxcssjsgwt3g6omtfysxi46\n",
            "\n",
            "Downloading and parsing result file content...\n",
            "{\n",
            "  \"response\": {\n",
            "    \"responseId\": \"6VFkaIDwEPXVjMcP4-XW6Qo\",\n",
            "    \"usageMetadata\": {\n",
            "      \"totalTokenCount\": 848,\n",
            "      \"promptTokensDetails\": [\n",
            "        {\n",
            "          \"modality\": \"TEXT\",\n",
            "          \"tokenCount\": 8\n",
            "        }\n",
            "      ],\n",
            "      \"thoughtsTokenCount\": 829,\n",
            "      \"candidatesTokenCount\": 11,\n",
            "      \"promptTokenCount\": 8\n",
            "    },\n",
            "    \"candidates\": [\n",
            "      {\n",
            "        \"content\": {\n",
            "          \"role\": \"model\",\n",
            "          \"parts\": [\n",
            "            {\n",
            "              \"text\": \"AI learns patterns from data to make decisions or predictions.\"\n",
            "            }\n",
            "          ]\n",
            "        },\n",
            "        \"finishReason\": \"STOP\",\n",
            "        \"index\": 0\n",
            "      }\n",
            "    ],\n",
            "    \"modelVersion\": \"gemini-2.5-flash\"\n",
            "  },\n",
            "  \"key\": \"request_1\"\n",
            "}\n",
            "--------------------\n",
            "{\n",
            "  \"response\": {\n",
            "    \"modelVersion\": \"gemini-2.5-flash\",\n",
            "    \"candidates\": [\n",
            "      {\n",
            "        \"index\": 0,\n",
            "        \"finishReason\": \"STOP\",\n",
            "        \"content\": {\n",
            "          \"role\": \"model\",\n",
            "          \"parts\": [\n",
            "            {\n",
            "              \"text\": \"Quantum computers use **qubits** that can be 0, 1, or both simultaneously (**superposition**), and be interconnected (**entanglement**). They manipulate these states, causing correct answers to **reinforce** and incorrect ones to cancel out, to solve complex problems by exploring vast possibilities at once.\"\n",
            "            }\n",
            "          ]\n",
            "        }\n",
            "      }\n",
            "    ],\n",
            "    \"responseId\": \"7FFkaJK7EaWOjMcP-LvX2AQ\",\n",
            "    \"usageMetadata\": {\n",
            "      \"promptTokensDetails\": [\n",
            "        {\n",
            "          \"modality\": \"TEXT\",\n",
            "          \"tokenCount\": 9\n",
            "        }\n",
            "      ],\n",
            "      \"candidatesTokenCount\": 63,\n",
            "      \"promptTokenCount\": 9,\n",
            "      \"thoughtsTokenCount\": 1180,\n",
            "      \"totalTokenCount\": 1252\n",
            "    }\n",
            "  },\n",
            "  \"key\": \"request_2\"\n",
            "}\n",
            "--------------------\n"
          ]
        }
      ],
      "source": [
        "if batch_job.state.name == 'JOB_STATE_SUCCEEDED':\n",
        "    # The output is in another file.\n",
        "    result_file_name = batch_job.dest.file_name\n",
        "    print(f\"Results are in file: {result_file_name}\")\n",
        "\n",
        "    print(\"\\nDownloading and parsing result file content...\")\n",
        "    file_content_bytes = client.files.download(file=result_file_name)\n",
        "    file_content = file_content_bytes.decode('utf-8')\n",
        "\n",
        "    # The result file is also a JSONL file. Parse and print each line.\n",
        "    for line in file_content.splitlines():\n",
        "      if line:\n",
        "        parsed_response = json.loads(line)\n",
        "        # Pretty-print the JSON for readability\n",
        "        print(json.dumps(parsed_response, indent=2))\n",
        "        print(\"-\" * 20)\n",
        "else:\n",
        "    print(f\"Job did not succeed. Final state: {batch_job.state.name}\")"
      ]
    },
    {
      "cell_type": "markdown",
      "metadata": {
        "id": "np2wyrdSTzpF"
      },
      "source": [
        "## Alternative: Create a job with inline requests\n",
        "\n",
        "For smaller tasks, you can pass requests directly without creating a file. The results will be returned directly in the job object itself."
      ]
    },
    {
      "cell_type": "markdown",
      "metadata": {
        "id": "F_eo0MpbXZN9"
      },
      "source": [
        "### Step 1: Create and monitor the inline job"
      ]
    },
    {
      "cell_type": "code",
      "execution_count": null,
      "metadata": {
        "id": "HUQb83QUUPXi"
      },
      "outputs": [
        {
          "name": "stdout",
          "output_type": "stream",
          "text": [
            "Creating inline batch job...\n",
            "Created inline batch job: batches/mqnrj9gul3irzwwy4vgawrv9w40vxbvou6x2\n",
            "--------------------\n",
            "Polling status for job: batches/mqnrj9gul3irzwwy4vgawrv9w40vxbvou6x2\n",
            "Job not finished. Current state: JOB_STATE_SUCCEEDED. Waiting 30 seconds...\n",
            "Job not finished. Current state: JOB_STATE_SUCCEEDED. Waiting 30 seconds...\n",
            "Job not finished. Current state: JOB_STATE_SUCCEEDED. Waiting 30 seconds...\n",
            "Job not finished. Current state: JOB_STATE_SUCCEEDED. Waiting 30 seconds...\n",
            "Job not finished. Current state: JOB_STATE_SUCCEEDED. Waiting 30 seconds...\n",
            "Job not finished. Current state: JOB_STATE_SUCCEEDED. Waiting 30 seconds...\n",
            "Job not finished. Current state: JOB_STATE_SUCCEEDED. Waiting 30 seconds...\n",
            "Job not finished. Current state: JOB_STATE_SUCCEEDED. Waiting 30 seconds...\n",
            "Job not finished. Current state: JOB_STATE_SUCCEEDED. Waiting 30 seconds...\n",
            "Job not finished. Current state: JOB_STATE_SUCCEEDED. Waiting 30 seconds...\n",
            "Job not finished. Current state: JOB_STATE_SUCCEEDED. Waiting 30 seconds...\n",
            "Job finished with state: JOB_STATE_SUCCEEDED\n"
          ]
        }
      ],
      "source": [
        "# 1. Define your list of requests.\n",
        "# Note: Unlike the file-based method, a 'key' is not required for inline requests,\n",
        "# as the order of responses will match the order of requests.\n",
        "inline_requests_list = [\n",
        "    {'contents': [{'parts': [{'text': 'Write a short poem about a cloud.'}]}]},\n",
        "    {'contents': [{'parts': [{'text': 'Write a short poem about a cat.'}]}]}\n",
        "]\n",
        "\n",
        "# 2. Create the batch job with the inline requests.\n",
        "print(\"Creating inline batch job...\")\n",
        "batch_job_inline = client.batches.create(\n",
        "    model=MODEL_ID,\n",
        "    src=inline_requests_list,\n",
        "    config={'display_name': 'my-batch-job-inline-example'}\n",
        ")\n",
        "print(f\"Created inline batch job: {batch_job_inline.name}\")\n",
        "print(\"-\" * 20)\n",
        "\n",
        "# 3. Monitor the job until completion.\n",
        "job_name = batch_job_inline.name\n",
        "print(f\"Polling status for job: {job_name}\")\n",
        "\n",
        "while True:\n",
        "    batch_job_inline = client.batches.get(name=job_name)\n",
        "    if batch_job_inline.state.name in ('JOB_STATE_SUCCEEDED', 'JOB_STATE_FAILED', 'JOB_STATE_CANCELLED'):\n",
        "        break\n",
        "    print(f\"Job not finished. Current state: {batch_job_inline.state.name}. Waiting 30 seconds...\")\n",
        "    time.sleep(30)\n",
        "\n",
        "print(f\"Job finished with state: {batch_job_inline.state.name}\")\n",
        "if batch_job_inline.state.name == 'JOB_STATE_FAILED':\n",
        "    print(f\"Error: {batch_job_inline.error}\")"
      ]
    },
    {
      "cell_type": "markdown",
      "metadata": {
        "id": "dp2HRIakWuP6"
      },
      "source": [
        "### Step 2: Retrieve and print inline results\n",
        "Once the job has succeeded, the results are available in the inlined_responses field of the job object. You can iterate through this list to get each response."
      ]
    },
    {
      "cell_type": "code",
      "execution_count": null,
      "metadata": {
        "id": "y4N_CD6pW0vC"
      },
      "outputs": [
        {
          "name": "stdout",
          "output_type": "stream",
          "text": [
            "\n",
            "Results are inline:\n",
            "\n",
            "--- Response 1 ---\n",
            "A fluffy, soft white sight,\n",
            "It drifts with gentle light.\n",
            "Across the sky so blue,\n",
            "A changing, dreamy view.\n",
            "\n",
            "--- Response 2 ---\n",
            "A silent step, a velvet paw,\n",
            "He naps, ignoring every law.\n",
            "A sudden stretch, a sleepy blink,\n",
            "Then purrs, much deeper than you think.\n"
          ]
        }
      ],
      "source": [
        "if batch_job_inline.state.name == 'JOB_STATE_SUCCEEDED':\n",
        "    print(\"\\nResults are inline:\")\n",
        "    # The results are in the `inlined_responses` field.\n",
        "    for i, inline_response in enumerate(batch_job_inline.dest.inlined_responses):\n",
        "        print(f\"\\n--- Response {i+1} ---\")\n",
        "\n",
        "        # Check for a successful response\n",
        "        if inline_response.response:\n",
        "            # The .text property is a shortcut to the generated text.\n",
        "            try:\n",
        "                print(inline_response.response.text)\n",
        "            except AttributeError:\n",
        "                # Fallback to printing the full response if .text isn't available\n",
        "                print(inline_response.response)\n",
        "\n",
        "        # Check for an error in this specific request\n",
        "        elif inline_response.error:\n",
        "            print(f\"Error: {inline_response.error}\")\n",
        "\n",
        "else:\n",
        "    print(f\"Job did not succeed. Final state: {batch_job_inline.state.name}\")\n",
        "    if batch_job_inline.error:\n",
        "        print(f\"Error: {batch_job_inline.error}\")"
      ]
    },
    {
      "cell_type": "markdown",
      "metadata": {
        "id": "pyhvRvroUTNY"
      },
      "source": [
        "## Managing jobs\n",
        "\n",
        "Here are some common operations for managing your batch jobs."
      ]
    },
    {
      "cell_type": "markdown",
      "metadata": {
        "id": "GVItnYVmUZIA"
      },
      "source": [
        "### List your batch jobs"
      ]
    },
    {
      "cell_type": "markdown",
      "metadata": {
        "id": "v2audPYLoHxC"
      },
      "source": [
        "#### List Recent Jobs"
      ]
    },
    {
      "cell_type": "code",
      "execution_count": null,
      "metadata": {
        "id": "o40vd32JUbTo"
      },
      "outputs": [
        {
          "name": "stdout",
          "output_type": "stream",
          "text": [
            "Listing recent batch jobs:\n",
            "\n",
            "Job Name: batches/mqnrj9gul3irzwwy4vgawrv9w40vxbvou6x2\n",
            "  - Display Name: my-batch-job-inline-example\n",
            "  - State: JOB_STATE_SUCCEEDED\n",
            "  - Create Time: 2025-07-01 21:24:08\n",
            "--------------------\n",
            "Job Name: batches/o08hk76gv328ihxcssjsgwt3g6omtfysxi46\n",
            "  - Display Name: my-batch-job-from-file\n",
            "  - State: JOB_STATE_SUCCEEDED\n",
            "  - Create Time: 2025-07-01 21:19:34\n",
            "  - Type: File-based (Output: files/batch-o08hk76gv328ihxcssjsgwt3g6omtfysxi46)\n",
            "--------------------\n",
            "Job Name: batches/7y78ioanoiaatpx7skou4bj9qo4xqv97p2cf\n",
            "  - Display Name: my-batch-image-gen-job\n",
            "  - State: JOB_STATE_SUCCEEDED\n",
            "  - Create Time: 2025-07-01 20:50:48\n",
            "  - Type: File-based (Output: files/batch-7y78ioanoiaatpx7skou4bj9qo4xqv97p2cf)\n",
            "--------------------\n",
            "Job Name: batches/pd6qbrq4izis2xzc653uczycn2wu2at6hdw4\n",
            "  - Display Name: my-batch-job-with-image\n",
            "  - State: JOB_STATE_SUCCEEDED\n",
            "  - Create Time: 2025-07-01 20:50:43\n",
            "  - Type: File-based (Output: files/batch-pd6qbrq4izis2xzc653uczycn2wu2at6hdw4)\n",
            "--------------------\n",
            "Job Name: batches/8wnfd6mvbat85cshphnfi6pbnh6qhtcxolhx\n",
            "  - Display Name: my-batch-image-gen-job\n",
            "  - State: JOB_STATE_SUCCEEDED\n",
            "  - Create Time: 2025-07-01 20:45:32\n",
            "  - Type: File-based (Output: files/batch-8wnfd6mvbat85cshphnfi6pbnh6qhtcxolhx)\n",
            "--------------------\n",
            "Job Name: batches/bs606yinq47k4eu2t6a72r1te3umwlkwj3zr\n",
            "  - Display Name: my-batch-job-with-image\n",
            "  - State: JOB_STATE_SUCCEEDED\n",
            "  - Create Time: 2025-07-01 20:45:26\n",
            "  - Type: File-based (Output: files/batch-bs606yinq47k4eu2t6a72r1te3umwlkwj3zr)\n",
            "--------------------\n",
            "Job Name: batches/rbor72jehk6a8zk7al9rcwn29n707n9rijvb\n",
            "  - Display Name: my-batch-job-inline-example\n",
            "  - State: JOB_STATE_SUCCEEDED\n",
            "  - Create Time: 2025-07-01 20:32:16\n",
            "--------------------\n",
            "Job Name: batches/ypd4nvghou6dpwlgzgjwrgfcs879m5jp2lq6\n",
            "  - Display Name: my-batch-job-from-file\n",
            "  - State: JOB_STATE_SUCCEEDED\n",
            "  - Create Time: 2025-07-01 20:29:19\n",
            "  - Type: File-based (Output: files/batch-ypd4nvghou6dpwlgzgjwrgfcs879m5jp2lq6)\n",
            "--------------------\n",
            "Job Name: batches/1t1dldu0lqx05a1sqmhhe0r1l554fborc04d\n",
            "  - Display Name: my-batch-job-with-image\n",
            "  - State: JOB_STATE_SUCCEEDED\n",
            "  - Create Time: 2025-06-20 15:16:33\n",
            "  - Type: File-based (Output: files/batch-1t1dldu0lqx05a1sqmhhe0r1l554fborc04d)\n",
            "--------------------\n",
            "Job Name: batches/vqtwzzbnbj0gbwsiv2e2xkk1pzv9lvyfsurs\n",
            "  - Display Name: my-batch-job-inline-example\n",
            "  - State: JOB_STATE_SUCCEEDED\n",
            "  - Create Time: 2025-06-20 15:13:17\n",
            "--------------------\n"
          ]
        }
      ],
      "source": [
        "print(\"Listing recent batch jobs:\\n\")\n",
        "\n",
        "# Note: The list API currently doesn't return inlined_responses.\n",
        "# As a workaround,you can make a `get` call for inline jobs to see their results.\n",
        "batches = client.batches.list(config={'page_size': 10})\n",
        "\n",
        "for b in batches.page:\n",
        "    print(f\"Job Name: {b.name}\")\n",
        "    print(f\"  - Display Name: {b.display_name}\")\n",
        "    print(f\"  - State: {b.state.name}\")\n",
        "    print(f\"  - Create Time: {b.create_time.strftime('%Y-%m-%d %H:%M:%S')}\")\n",
        "\n",
        "    # Check if it was an inline job (no destination file)\n",
        "    if b.dest is not None:\n",
        "      if not b.dest.file_name:\n",
        "        full_job = client.batches.get(name=b.name)\n",
        "        if full_job.inlined_responses:\n",
        "            print(\"  - Type: Inline ({} responses)\".format(len(full_job.inlined_responses)))\n",
        "      else:\n",
        "          print(f\"  - Type: File-based (Output: {b.dest.file_name})\")\n",
        "\n",
        "    print(\"-\" * 20)"
      ]
    },
    {
      "cell_type": "markdown",
      "metadata": {
        "id": "slbsTW2dUnou"
      },
      "source": [
        "#### Cancel a Batch Job (Optional)\n",
        "\n",
        "If you need to stop a job that is still pending or running, you can cancel it."
      ]
    },
    {
      "cell_type": "markdown",
      "metadata": {
        "id": "n0YqOsIqoRBq"
      },
      "source": [
        "#### Cancel a Job\n",
        "The next cell is commented out to prevent accidental cancellation.\n",
        "\n",
        "To use it:\n",
        "1. Get the name of the job you want to cancel (e.g., from the list above).\n",
        "2. Uncomment the code and replace the placeholder name."
      ]
    },
    {
      "cell_type": "code",
      "execution_count": null,
      "metadata": {
        "id": "KpMVDjwpUqZ0"
      },
      "outputs": [],
      "source": [
        "# try:\n",
        "#   job_to_cancel_name = \"batches/your-job-name-here\" # <-- REPLACE THIS\n",
        "#   print(f\"Attempting to cancel job: {job_to_cancel_name}\")\n",
        "#   client.batches.cancel(name=job_to_cancel_name)\n",
        "#   print(\"Job cancellation request sent.\")\n",
        "# except Exception as e:\n",
        "#   print(f\"Error cancelling job: {e}\")"
      ]
    },
    {
      "cell_type": "markdown",
      "metadata": {
        "id": "c30d33651893"
      },
      "source": [
        "## Batch embeddings"
      ]
    },
    {
      "cell_type": "markdown",
      "metadata": {
        "id": "0d4a79f693ea"
      },
      "source": [
        "You can use the Batch API to interact with the [Embeddings model](https://ai.google.dev/gemini-api/docs/embeddings) for higher throughput. When creating a batch job, specify the embeddings model, and set the source to either `inlined_requests` for inline requests or `file_name` for input files.\n",
        "\n",
        "In this example, create a JSONL file:"
      ]
    },
    {
      "cell_type": "code",
      "execution_count": null,
      "metadata": {
        "id": "21c4b4f42d8e"
      },
      "outputs": [
        {
          "name": "stdout",
          "output_type": "stream",
          "text": [
            "Writing embeddings_batch_requests.jsonl\n"
          ]
        }
      ],
      "source": [
        "%%writefile embeddings_batch_requests.jsonl\n",
        "{\"key\": \"request_1\", \"request\": {\"output_dimensionality\": 3, \"content\": {\"parts\": [{\"text\": \"1\"}]}}}\n",
        "{\"key\": \"request_2\", \"request\": {\"output_dimensionality\": 4, \"content\": {\"parts\": [{\"text\": \"2\"}]}}}"
      ]
    },
    {
      "cell_type": "markdown",
      "metadata": {
        "id": "c806668cb171"
      },
      "source": [
        "Upload the file:"
      ]
    },
    {
      "cell_type": "code",
      "execution_count": null,
      "metadata": {
        "id": "dad71ead145d"
      },
      "outputs": [
        {
          "data": {
            "text/plain": [
              "File(\n",
              "  create_time=datetime.datetime(2025, 9, 10, 13, 37, 39, 328452, tzinfo=TzInfo(UTC)),\n",
              "  expiration_time=datetime.datetime(2025, 9, 12, 13, 37, 39, 53649, tzinfo=TzInfo(UTC)),\n",
              "  mime_type='jsonl',\n",
              "  name='files/t5snrshrqff1',\n",
              "  sha256_hash='NTk3Yjk2ZTVjN2QyYjBkMDFhY2RjODBkZDBiY2Q2NTNkYTA5OWJiMjZkODEwNmIxMmQ4NzBlZGFkZjI4MzdmYw==',\n",
              "  size_bytes=202,\n",
              "  source=<FileSource.UPLOADED: 'UPLOADED'>,\n",
              "  state=<FileState.ACTIVE: 'ACTIVE'>,\n",
              "  update_time=datetime.datetime(2025, 9, 10, 13, 37, 39, 328452, tzinfo=TzInfo(UTC)),\n",
              "  uri='https://generativelanguage.googleapis.com/v1beta/files/t5snrshrqff1'\n",
              ")"
            ]
          },
          "execution_count": 13,
          "metadata": {},
          "output_type": "execute_result"
        }
      ],
      "source": [
        "uploaded_batch_requests = client.files.upload(\n",
        "    file=\"embeddings_batch_requests.jsonl\", config=types.UploadFileConfig(mime_type=\"jsonl\")\n",
        ")\n",
        "\n",
        "uploaded_batch_requests"
      ]
    },
    {
      "cell_type": "markdown",
      "metadata": {
        "id": "292bd09b8b0d"
      },
      "source": [
        "Submit batch embeddings job"
      ]
    },
    {
      "cell_type": "code",
      "execution_count": null,
      "metadata": {
        "id": "c4970750f9e9"
      },
      "outputs": [
        {
          "name": "stderr",
          "output_type": "stream",
          "text": [
            "/var/folders/nx/bjv94y0x69jf7tlvxwxwcbvm01b332/T/ipykernel_20871/20559616.py:1: ExperimentalWarning: batches.create_embeddings() is experimental and may change without notice.\n",
            "  batch_job = client.batches.create_embeddings(\n"
          ]
        },
        {
          "data": {
            "text/plain": [
              "BatchJob(\n",
              "  create_time=datetime.datetime(2025, 9, 10, 14, 42, 7, 160573, tzinfo=TzInfo(UTC)),\n",
              "  model='models/gemini-embedding-001',\n",
              "  name='batches/2icf9ky95pieco1jwucta7drijo5k8hjllzj',\n",
              "  state=<JobState.JOB_STATE_PENDING: 'JOB_STATE_PENDING'>,\n",
              "  update_time=datetime.datetime(2025, 9, 10, 14, 42, 7, 160573, tzinfo=TzInfo(UTC))\n",
              ")"
            ]
          },
          "execution_count": 14,
          "metadata": {},
          "output_type": "execute_result"
        }
      ],
      "source": [
        "batch_job = client.batches.create_embeddings(\n",
        "    model=\"gemini-embedding-001\",\n",
        "    src=types.EmbeddingsBatchJobSource(file_name=uploaded_batch_requests.name)\n",
        ")\n",
        "batch_job"
      ]
    },
    {
      "cell_type": "markdown",
      "metadata": {
        "id": "1c96c15ce34d"
      },
      "source": [
        "Check batch state and wait up to 24h:"
      ]
    },
    {
      "cell_type": "code",
      "execution_count": null,
      "metadata": {
        "id": "165cf44fa5ce"
      },
      "outputs": [
        {
          "name": "stdout",
          "output_type": "stream",
          "text": [
            "Job not finished. Current state: JOB_STATE_PENDING. Waiting 30 seconds...\n",
            "Job not finished. Current state: JOB_STATE_PENDING. Waiting 30 seconds...\n"
          ]
        }
      ],
      "source": [
        "while True:\n",
        "    batch_job = client.batches.get(name=batch_job.name)\n",
        "    if batch_job.state.name in ('JOB_STATE_SUCCEEDED', 'JOB_STATE_FAILED', 'JOB_STATE_CANCELLED'):\n",
        "        break\n",
        "    print(f\"Job not finished. Current state: {batch_job.state.name}. Waiting 30 seconds...\")\n",
        "    time.sleep(30)"
      ]
    },
    {
      "cell_type": "markdown",
      "metadata": {
        "id": "21b872c51c92"
      },
      "source": [
        "Download and print the embeddings results:"
      ]
    },
    {
      "cell_type": "code",
      "execution_count": null,
      "metadata": {
        "id": "4f8ed04493bc"
      },
      "outputs": [
        {
          "name": "stdout",
          "output_type": "stream",
          "text": [
            "{\"response\":{\"tokenCount\":\"1\",\"embedding\":{\"values\":[-0.034119852,0.0025719088,0.017325249]}},\"key\":\"request_1\"}\n",
            "{\"response\":{\"tokenCount\":\"1\",\"embedding\":{\"values\":[0.020208105,-0.016668973,-0.011120025,-0.063684635]}},\"key\":\"request_2\"}\n"
          ]
        }
      ],
      "source": [
        "if batch_job.state.name == 'JOB_STATE_SUCCEEDED':\n",
        "    file_content_bytes = client.files.download(file=batch_job.dest.file_name)\n",
        "    file_content = file_content_bytes.decode('utf-8')\n",
        "\n",
        "    for line in file_content.splitlines():\n",
        "        print(line)"
      ]
    },
    {
      "cell_type": "markdown",
      "metadata": {
        "id": "71y99gD9YeE3"
      },
      "source": [
        "## Other examples"
      ]
    },
    {
      "cell_type": "markdown",
      "metadata": {
        "id": "Q-QocoN6Yg_I"
      },
      "source": [
        "### Using multimodal input\n",
        "Here's an example using multimodal input. Once again it will use the [Files API](./File_API.ipynb) to store the image you want to send along with your prompts."
      ]
    },
    {
      "cell_type": "code",
      "execution_count": null,
      "metadata": {
        "id": "NKWc0M6bYkyb"
      },
      "outputs": [
        {
          "name": "stdout",
          "output_type": "stream",
          "text": [
            "Uploading image file: jetpack.jpg\n",
            "Uploaded image file: files/sm3dyq4g4zqy with MIME type: image/jpeg\n"
          ]
        },
        {
          "data": {
            "image/jpeg": "[encoded data removed]",
            "text/plain": [
              "<IPython.core.display.Image object>"
            ]
          },
          "execution_count": 14,
          "metadata": {},
          "output_type": "execute_result"
        }
      ],
      "source": [
        "# Download sample image\n",
        "\n",
        "from IPython.display import Image\n",
        "\n",
        "image_path = \"jetpack.jpg\"\n",
        "!wget https://storage.googleapis.com/generativeai-downloads/images/jetpack.jpg -O {image_path}  -q\n",
        "\n",
        "print(f\"Uploading image file: {image_path}\")\n",
        "image_file = client.files.upload(\n",
        "    file=image_path,\n",
        ")\n",
        "print(f\"Uploaded image file: {image_file.name} with MIME type: {image_file.mime_type}\")\n",
        "Image(filename=image_path)"
      ]
    },
    {
      "cell_type": "code",
      "execution_count": null,
      "metadata": {
        "id": "67gGuZXoYvU-"
      },
      "outputs": [
        {
          "name": "stdout",
          "output_type": "stream",
          "text": [
            "\n",
            "Creating JSONL file: batch_requests_with_image.json\n",
            "Uploading JSONL file: batch_requests_with_image.json\n",
            "Uploaded JSONL file: files/hq429pdc5pfk\n",
            "\n",
            "Creating batch job...\n",
            "Created batch job from file: batches/3ar0jhcayt8o9gixe3nv22xdsxooh0ednsi6\n",
            "You can now monitor the job status using its name.\n"
          ]
        }
      ],
      "source": [
        "requests_data = [\n",
        "    # First request: simple text prompt\n",
        "    {\"key\": \"request_1\", \"request\": {\"contents\": [{\"parts\": [{\"text\": \"Explain how AI works in a few words\"}]}]}},\n",
        "    # Second request: multi-modal prompt with text and an image reference\n",
        "    {\n",
        "        \"key\": \"request_2_image\",\n",
        "        \"request\": {\n",
        "            \"contents\": [{\n",
        "                \"parts\": [\n",
        "                    {\"text\": \"What is in this image? Describe it in detail.\"},\n",
        "                    {\"file_data\": {\"file_uri\": image_file.uri, \"mime_type\": image_file.mime_type}}\n",
        "                ]\n",
        "            }]\n",
        "        }\n",
        "    }\n",
        "]\n",
        "\n",
        "\n",
        "json_file_path = 'batch_requests_with_image.json'\n",
        "\n",
        "print(f\"\\nCreating JSONL file: {json_file_path}\")\n",
        "with open(json_file_path, 'w') as f:\n",
        "    for req in requests_data:\n",
        "        f.write(json.dumps(req) + '\\n')\n",
        "\n",
        "print(f\"Uploading JSONL file: {json_file_path}\")\n",
        "batch_input_file = client.files.upload(\n",
        "    file=json_file_path\n",
        "    )\n",
        "print(f\"Uploaded JSONL file: {batch_input_file.name}\")\n",
        "\n",
        "print(\"\\nCreating batch job...\")\n",
        "batch_job_from_file = client.batches.create(\n",
        "    model=MODEL_ID,\n",
        "    src=batch_input_file.name,\n",
        "    config={\n",
        "        'display_name': 'my-batch-job-with-image',\n",
        "    }\n",
        ")\n",
        "print(f\"Created batch job from file: {batch_job_from_file.name}\")\n",
        "print(\"You can now monitor the job status using its name.\")"
      ]
    },
    {
      "cell_type": "code",
      "execution_count": null,
      "metadata": {
        "id": "_9ArGYNY6fbD"
      },
      "outputs": [
        {
          "name": "stdout",
          "output_type": "stream",
          "text": [
            "Results are in file: files/batch-3ar0jhcayt8o9gixe3nv22xdsxooh0ednsi6\n",
            "\n",
            "Downloading and parsing result file content...\n",
            "{\n",
            "  \"parts\": [\n",
            "    {\n",
            "      \"text\": \"AI learns from data to identify patterns and make decisions.\"\n",
            "    }\n",
            "  ],\n",
            "  \"role\": \"model\"\n",
            "}\n",
            "--------------------\n",
            "{\n",
            "  \"role\": \"model\",\n",
            "  \"parts\": [\n",
            "    {\n",
            "      \"text\": \"The image displays a detailed, hand-drawn conceptual sketch of a \\\"JETPACK BACKPACK\\\" on a sheet of white paper with blue horizontal lines, typical of ruled notebook paper. All elements, including the drawing and text, are rendered in blue ink, giving it the appearance of a casual brainstorming or design note.\\n\\nAt the top of the page, the title **\\\"JETPACK BACKPACK\\\"** is prominently displayed, underlined and written in bold capital letters.\\n\\nThe central feature is a stylized drawing of a backpack, depicted from a slightly elevated, possibly three-quarter, angle, showing its top and front/sides. It has a rounded, somewhat oval shape, wider at the top and tapering slightly towards the bottom. The front of the backpack shows a main compartment or structural lines.\\n\\nSeveral annotated labels, connected by arrows to specific parts of the drawing or general areas, describe the features and specifications of this conceptual device:\\n\\n*   **Top (pointing to the top of the backpack):** \\\"FITS 18\\\" LAPTOP\\\" \\u2013 indicating its capacity for a large laptop.\\n*   **Top Left (pointing to the top-side of the backpack):** \\\"PADDED STRAP SUPPORT\\\" \\u2013 suggesting comfort for the wearer.\\n*   **Middle Right (pointing to the body of the backpack):** Two labels describe its general characteristics: \\\"LIGHTWEIGHT,\\\" and \\\"LOOKS LIKE A NORMAL BACKPACK\\\" \\u2013 emphasizing its discreet and practical design.\\n*   **Bottom Right (pointing to the exhaust nozzles):** \\\"RETRACTABLE BOOSTERS\\\" \\u2013 describing the mechanism for the jetpack function.\\n*   **Bottom Right (pointing to the steam plume):** \\\"STEAM-POWERED, GREEN/CLEAN\\\" \\u2013 specifying the propulsion method and its environmental benefits.\\n*   **Bottom Left (pointing towards the bottom of the backpack):** \\\"USB-C CHARGING\\\" \\u2013 indicating the method for recharging the device.\\n*   **Bottom Left (general note):** \\\"15-MIN BATTERY LIFE\\\" \\u2013 providing a key performance specification.\\n\\nEmanating downwards from the bottom of the backpack, where the boosters are indicated, are two large, voluminous, swirling plumes. These are depicted with multiple crescent and spiral shapes, visually representing steam or exhaust, consistent with the \\\"STEAM-POWERED\\\" annotation.\\n\\nThe overall impression is that of an initial design concept or an idea pitch for a personal flight device that is designed to be highly portable, discreet (looking like a normal backpack), environmentally friendly, and equipped with modern charging capabilities, albeit with a limited flight duration.\"\n",
            "    }\n",
            "  ]\n",
            "}\n",
            "--------------------\n"
          ]
        }
      ],
      "source": [
        "batch_job_from_file = client.batches.get(name=batch_job_from_file.name)\n",
        "if batch_job_from_file.state.name == 'JOB_STATE_SUCCEEDED':\n",
        "    # The output is in another file.\n",
        "    result_file_name = batch_job_from_file.dest.file_name\n",
        "    print(f\"Results are in file: {result_file_name}\")\n",
        "\n",
        "    print(\"\\nDownloading and parsing result file content...\")\n",
        "    file_content_bytes = client.files.download(file=result_file_name)\n",
        "    file_content = file_content_bytes.decode('utf-8')\n",
        "\n",
        "    # The result file is also a JSONL file. Parse and print each line.\n",
        "    for line in file_content.splitlines():\n",
        "      if line:\n",
        "        parsed_response = json.loads(line)\n",
        "        # Pretty-print the JSON for readability\n",
        "        print(json.dumps(parsed_response['response']['candidates'][0]['content'], indent=2))\n",
        "        print(\"-\" * 20)\n",
        "else:\n",
        "    print(f\"Job did not succeed. Final state: {batch_job_from_file.state.name}\")"
      ]
    },
    {
      "cell_type": "markdown",
      "metadata": {
        "id": "aYmN6UFIpIbJ"
      },
      "source": [
        "### Multimodal output\n",
        "This time you're going to batch generate images using the [Gemini 2.5 Image Generation](https://ai.google.dev/gemini-api/docs/image-generation#gemini) model. More details on the [dedicated notebook](./Image_out.ipynb)."
      ]
    },
    {
      "cell_type": "code",
      "execution_count": 6,
      "metadata": {
        "id": "wy22E3YTp6I2"
      },
      "outputs": [
        {
          "name": "stdout",
          "output_type": "stream",
          "text": [
            "\n",
            "Creating JSONL file: batch_image_gen_requests.json\n",
            "Uploading JSONL file: batch_image_gen_requests.json\n",
            "Uploaded JSONL file: files/4k1cfn983f0a\n",
            "\n",
            "Creating batch job...\n",
            "Created batch job from file: batches/6czrv8tda2rbsvn7gno27npxly1pyv5xjjh2\n",
            "You can now monitor the job status using its name.\n"
          ]
        }
      ],
      "source": [
        "requests_data = [\n",
        "    {\"key\": \"image_request_1\", \"request\": {\"contents\": [{\"parts\": [{\"text\": \"A big letter A surrounded by animals starting with the A letter\"}]}],'generation_config': {'response_modalities': ['TEXT', 'IMAGE']}}}, # Be careful, for inline request it would be 'config' instead of 'generation_config'\n",
        "    {\"key\": \"image_request_2\", \"request\": {\"contents\": [{\"parts\": [{\"text\": \"A big letter B surrounded by animals starting with the B letter\"}]}],'generation_config': {'response_modalities': ['TEXT', 'IMAGE']}}},\n",
        "]\n",
        "\n",
        "json_file_path = 'batch_image_gen_requests.json'\n",
        "\n",
        "print(f\"\\nCreating JSONL file: {json_file_path}\")\n",
        "with open(json_file_path, 'w') as f:\n",
        "    for req in requests_data:\n",
        "        f.write(json.dumps(req) + '\\n')\n",
        "\n",
        "print(f\"Uploading JSONL file: {json_file_path}\")\n",
        "batch_input_file = client.files.upload(\n",
        "    file=json_file_path\n",
        "    )\n",
        "print(f\"Uploaded JSONL file: {batch_input_file.name}\")\n",
        "\n",
        "print(\"\\nCreating batch job...\")\n",
        "batch_multimodal_job = client.batches.create(\n",
        "    model=\"gemini-2.5-flash-image\",\n",
        "    src=batch_input_file.name,\n",
        "    config={\n",
        "        'display_name': 'my-batch-image-gen-job',\n",
        "    }\n",
        ")\n",
        "print(f\"Created batch job from file: {batch_multimodal_job.name}\")\n",
        "print(\"You can now monitor the job status using its name.\")"
      ]
    },
    {
      "cell_type": "code",
      "execution_count": 8,
      "metadata": {
        "id": "iU_8OdgNwQfC"
      },
      "outputs": [],
      "source": [
        "from IPython.display import display, Markdown, Image\n",
        "import base64\n",
        "\n",
        "batch_multimodal_job = client.batches.get(name=batch_multimodal_job.name)\n",
        "\n",
        "if batch_multimodal_job.state.name == 'JOB_STATE_SUCCEEDED':\n",
        "    # The output is in another file.\n",
        "    result_file_name = batch_multimodal_job.dest.file_name\n",
        "    print(f\"Results are in file: {result_file_name}\")\n",
        "\n",
        "    print(\"\\nDownloading and parsing result file content...\")\n",
        "    file_content_bytes = client.files.download(file=result_file_name)\n",
        "    file_content = file_content_bytes.decode('utf-8')\n",
        "\n",
        "    # The result file is also a JSONL file. Parse and print each line.\n",
        "    for line in file_content.splitlines():\n",
        "      if line:\n",
        "        parsed_response = json.loads(line)\n",
        "        for part in parsed_response['response']['candidates'][0]['content']['parts']:\n",
        "          if part.get('text'):\n",
        "            display(Markdown(part['text']))\n",
        "          elif part.get('inlineData'):\n",
        "            mime = part['inlineData']['mimeType']\n",
        "            data = base64.b64decode(part['inlineData']['data'])\n",
        "            display(Image(data=data, format=mime.split('/')[-1]))\n",
        "else:\n",
        "    print(f\"Job did not succeed. Final state: {batch_multimodal_job.state.name}\")"
      ]
    },
    {
      "cell_type": "markdown",
      "metadata": {
        "id": "Xx6_4C3huMx-"
      },
      "source": [
        "The output could not be saved in the notebook but here's what it could look like:\n",
        "![Letter A](https://storage.googleapis.com/generativeai-downloads/cookbook/Batch_mode/letter-A.png)\n",
        "\n",
        "![Letter B](https://storage.googleapis.com/generativeai-downloads/cookbook/Batch_mode/letter-B.png)"
      ]
    },
    {
      "cell_type": "markdown",
      "metadata": {
        "id": "4677dd58e9b5"
      },
      "source": [
        "## Next Steps\n",
        "### Useful API references:\n",
        "\n",
        "For more details on the Batch API, please check the related [documentation](https://ai.google.dev/gemini-api/docs/batch-mode).\n",
        "\n",
        "### Continue your discovery of the Gemini API\n",
        "\n",
        "Check other nice Gemini capabilities in the [Cookbook](https://github.com/google-gemini/cookbook/). In particular, the [quickstarts](https://github.com/google-gemini/cookbook/quickstarts) folder is full of guides on how to use the Gemini (and gen-media) models and features, while the [example](https://github.com/google-gemini/cookbook/examples) folder showcase coiol use-cases to spark your creativity.\n"
      ]
    }
  ],
  "metadata": {
    "colab": {
      "name": "Batch_mode.ipynb",
      "toc_visible": true
    },
    "kernelspec": {
      "display_name": "Python 3",
      "name": "python3"
    }
  },
  "nbformat": 4,
  "nbformat_minor": 0
}
