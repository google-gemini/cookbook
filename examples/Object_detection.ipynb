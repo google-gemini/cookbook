{
  "cells": [
    {
      "cell_type": "markdown",
      "metadata": {
        "id": "WMGdicu8PVD9"
      },
      "source": [
        "# Object detection with Gemini 1.5 Flash"
      ]
    },
    {
      "cell_type": "markdown",
      "metadata": {
        "id": "84d7ee4c821b"
      },
      "source": [
        "### This notebook has been replaced by the new [spatial understanding](../quickstarts/Spatial_understanding.ipynb) notebook highliting the latest Gemini capabilities.\n",
        "\n",
        "You can also check the [Spatial demo](https://aistudio.google.com/starter-apps/spatial) on AI Studio.\n",
        "\n",
        "And if you still need it, you can find an archived version of the notebook [here](../../gemini-1.5-archive/examples/Object_detection.ipynb)."
      ]
    }
  ],
  "metadata": {
    "colab": {
      "collapsed_sections": [
        "lb5yiH5h8x3h"
      ],
      "name": "Object_detection.ipynb",
      "toc_visible": true
    },
    "kernelspec": {
      "display_name": "Python 3",
      "name": "python3"
    }
  },
  "nbformat": 4,
  "nbformat_minor": 0
}
