{
  "cells": [
    {
      "cell_type": "markdown",
      "metadata": {
        "id": "lTx8eQlc3cP-"
      },
      "source": [
        "##### Copyright 2025 Google LLC."
      ]
    },
    {
      "cell_type": "code",
      "execution_count": 1,
      "metadata": {
        "cellView": "form",
        "id": "4HZoi8yf4GEU"
      },
      "outputs": [],
      "source": [
        "# @title Licensed under the Apache License, Version 2.0 (the \"License\");\n",
        "# you may not use this file except in compliance with the License.\n",
        "# You may obtain a copy of the License at\n",
        "#\n",
        "# https://www.apache.org/licenses/LICENSE-2.0\n",
        "#\n",
        "# Unless required by applicable law or agreed to in writing, software\n",
        "# distributed under the License is distributed on an \"AS IS\" BASIS,\n",
        "# WITHOUT WARRANTIES OR CONDITIONS OF ANY KIND, either express or implied.\n",
        "# See the License for the specific language governing permissions and\n",
        "# limitations under the License."
      ]
    },
    {
      "cell_type": "markdown",
      "metadata": {
        "id": "M9I7LG483nXB"
      },
      "source": [
        "# Building an AI-Powered Research Agent with LangGraph and Gemini"
      ]
    },
    {
      "cell_type": "markdown",
      "metadata": {
        "id": "awKO767lQIWh"
      },
      "source": [
        "<a target=\"_blank\" href=\"https://colab.research.google.com/github/google-gemini/cookbook/blob/mainexamples/langgraph/Deep_Research.ipynb\"><img src=\"https://colab.research.google.com/assets/colab-badge.svg\" height=30/></a>"
      ]
    },
    {
      "cell_type": "markdown",
      "metadata": {
        "id": "b1xoF_bU4NCP"
      },
      "source": [
        "## Overview"
      ]
    },
    {
      "cell_type": "markdown",
      "metadata": {
        "id": "CWedABji6bXJ"
      },
      "source": [
        "This notebook demonstrates how to build an advanced AI research agent that can autonomously conduct web searches, analyze results, and synthesize comprehensive answers to complex questions. The agent uses Google's Gemini API for natural language processing and LangGraph for orchestrating a multi-step research workflow.\n",
        "The research agent features:\n",
        "\n",
        "* Intelligent query generation - Automatically generates multiple search queries based on your question\n",
        "* Web research capabilities - Conducts Google searches and gathers information\n",
        "* Self-reflection - Evaluates if gathered information is sufficient and identifies knowledge gaps\n",
        "* Iterative improvement - Generates follow-up queries to fill information gaps\n",
        "Comprehensive synthesis - Produces well-structured answers based on all gathered research"
      ]
    },
    {
      "cell_type": "markdown",
      "metadata": {
        "id": "a5cc7bb8d6bf"
      },
      "source": [
        "<!-- Community Contributor Badge -->\n",
        "<table>\n",
        "  <tr>\n",
        "    <!-- Author Avatar Cell -->\n",
        "    <td bgcolor=\"#d7e6ff\">\n",
        "      <a href=\"https://github.com/andycandy\" target=\"_blank\" title=\"View Anand Roy's profile on GitHub\">\n",
        "        <img src=\"https://github.com/andycandy.png?size=100\"\n",
        "             alt=\"andycandy's GitHub avatar\"\n",
        "             width=\"100\"\n",
        "             height=\"100\">\n",
        "      </a>\n",
        "    </td>\n",
        "    <!-- Text Content Cell -->\n",
        "    <td bgcolor=\"#d7e6ff\">\n",
        "      <h2><font color='black'>This notebook was contributed by <a href=\"https://github.com/andycandy\" target=\"_blank\"><font color='#217bfe'><strong>Anand Roy</strong></font></a>.</font></h2>\n",
        "      <h5><font color='black'><a href=\"https://www.linkedin.com/in/anand-roy-61a2b529b\"><font color=\"#078efb\">LinkedIn</font></a> - See <a href=\"https://github.com/andycandy\" target=\"_blank\"><font color=\"#078efb\"><strong>Anand</strong></font></a> other notebooks <a href=\"https://github.com/search?q=repo%3Agoogle-gemini%2Fcookbook%20%22Anand%20Roy%22&type=code\" target=\"_blank\"><font color=\"#078efb\">here</font></a>.</h5></font><br>\n",
        "      <!-- Footer -->\n",
        "      <font color='black'><small><em>Have a cool Gemini example? Feel free to <a href=\"https://github.com/google-gemini/cookbook/blob/main/CONTRIBUTING.md\" target=\"_blank\"><font color=\"#078efb\">share it too</font></a>!</em></small></font>\n",
        "    </td>\n",
        "  </tr>\n",
        "</table>"
      ]
    },
    {
      "cell_type": "markdown",
      "metadata": {
        "id": "cae6x6Fq8siz"
      },
      "source": [
        "## Setup\n",
        "First, install the required packages and configure your environment."
      ]
    },
    {
      "cell_type": "markdown",
      "metadata": {
        "id": "5gmoXdoc8uUQ"
      },
      "source": [
        "### Installation\n",
        "Install LangGraph for workflow orchestration, LangChain for LLM integration, and supporting libraries."
      ]
    },
    {
      "cell_type": "code",
      "execution_count": 2,
      "metadata": {
        "id": "G320Tczn8sFj"
      },
      "outputs": [],
      "source": [
        "%pip install -q langgraph\n",
        "%pip install -q langchain-google-genai\n",
        "%pip install -q langchain python-dotenv"
      ]
    },
    {
      "cell_type": "markdown",
      "metadata": {
        "id": "PGp29ChN9A3b"
      },
      "source": [
        "### Import Required Libraries"
      ]
    },
    {
      "cell_type": "code",
      "execution_count": 3,
      "metadata": {
        "id": "L6zsaakF9Few"
      },
      "outputs": [],
      "source": [
        "import os\n",
        "from datetime import datetime\n",
        "from typing import Any, Dict, List, TypedDict, Optional\n",
        "import operator\n",
        "import types\n",
        "\n",
        "from dotenv import load_dotenv\n",
        "from google import genai\n",
        "from langchain_core.messages import AnyMessage, AIMessage, HumanMessage\n",
        "from langchain_core.runnables import RunnableConfig\n",
        "from langchain_google_genai import ChatGoogleGenerativeAI\n",
        "from langgraph.graph import StateGraph, add_messages, START, END\n",
        "from langgraph.types import Send\n",
        "from pydantic import BaseModel, Field\n",
        "from typing_extensions import Annotated"
      ]
    },
    {
      "cell_type": "markdown",
      "metadata": {
        "id": "yBNQz2CM812f"
      },
      "source": [
        "### Configure your API key and load the environment\n",
        "\n",
        "To run the following cell, your API key must be stored it in a Colab Secret named `GOOGLE_API_KEY`. If you don't already have an API key, or you're not sure how to create a Colab Secret, see [Authentication](https://github.com/google-gemini/cookbook/blob/main/quickstarts/Authentication.ipynb) for an example."
      ]
    },
    {
      "cell_type": "code",
      "execution_count": 4,
      "metadata": {
        "id": "r1PVHPVE81fX"
      },
      "outputs": [],
      "source": [
        "from google.colab import userdata\n",
        "GOOGLE_API_KEY = userdata.get('GOOGLE_API_KEY')\n",
        "\n",
        "os.environ['GOOGLE_API_KEY'] = GOOGLE_API_KEY\n",
        "load_dotenv()\n",
        "\n",
        "genai_client = genai.Client()"
      ]
    },
    {
      "cell_type": "markdown",
      "metadata": {
        "id": "DXjni-TQ9dyB"
      },
      "source": [
        "## Define Data Models and State\n",
        "The research agent uses structured data models to ensure consistent communication between different components of the workflow."
      ]
    },
    {
      "cell_type": "markdown",
      "metadata": {
        "id": "USi5ms7E9jFP"
      },
      "source": [
        "### Pydantic Models for Structured Outputs\n",
        "These models define the expected structure of outputs from our LLMs, ensuring type safety and validation."
      ]
    },
    {
      "cell_type": "code",
      "execution_count": 5,
      "metadata": {
        "id": "uj-8NscD9op6"
      },
      "outputs": [],
      "source": [
        "class SearchQueryList(BaseModel):\n",
        "    \"\"\"Model for generating search queries\"\"\"\n",
        "    query: List[str] = Field(\n",
        "        description=\"A list of search queries to be used for web research.\"\n",
        "    )\n",
        "    rationale: str = Field(\n",
        "        description=\"A brief explanation of why these queries are relevant to the research topic.\"\n",
        "    )\n",
        "\n",
        "\n",
        "class Reflection(BaseModel):\n",
        "    \"\"\"Model for evaluating research completeness\"\"\"\n",
        "    is_sufficient: bool = Field(\n",
        "        description=\"Whether the provided summaries are sufficient to answer the user's question.\"\n",
        "    )\n",
        "    knowledge_gap: str = Field(\n",
        "        description=\"A description of what information is missing or needs clarification.\"\n",
        "    )\n",
        "    follow_up_queries: List[str] = Field(\n",
        "        description=\"A list of follow-up queries to address the knowledge gap.\"\n",
        "    )"
      ]
    },
    {
      "cell_type": "markdown",
      "metadata": {
        "id": "sNxDjSW99plj"
      },
      "source": [
        "### State Definitions\n",
        "LangGraph uses TypedDict classes to define the state that flows through the graph. Each node can read from and write to this shared state."
      ]
    },
    {
      "cell_type": "code",
      "execution_count": 6,
      "metadata": {
        "id": "8BBGXbIi9rja"
      },
      "outputs": [],
      "source": [
        "class OverallState(TypedDict):\n",
        "    \"\"\"Main state that flows through the entire graph\"\"\"\n",
        "    messages: Annotated[list, add_messages]\n",
        "    search_query: Annotated[list, operator.add]\n",
        "    web_research_result: Annotated[list, operator.add]\n",
        "    sources_gathered: Annotated[list, operator.add]\n",
        "    initial_search_query_count: int\n",
        "    max_research_loops: int\n",
        "    research_loop_count: int\n",
        "    reasoning_model: str\n",
        "\n",
        "\n",
        "class ReflectionState(TypedDict):\n",
        "    \"\"\"State for the reflection process\"\"\"\n",
        "    is_sufficient: bool\n",
        "    knowledge_gap: str\n",
        "    follow_up_queries: Annotated[list, operator.add]\n",
        "    research_loop_count: int\n",
        "    number_of_ran_queries: int\n",
        "\n",
        "\n",
        "class Query(TypedDict):\n",
        "    \"\"\"Individual query structure\"\"\"\n",
        "    query: str\n",
        "    rationale: str\n",
        "\n",
        "\n",
        "class QueryGenerationState(TypedDict):\n",
        "    \"\"\"State for query generation\"\"\"\n",
        "    query_list: list[Query]\n",
        "\n",
        "\n",
        "class WebSearchState(TypedDict):\n",
        "    \"\"\"State for web search operations\"\"\"\n",
        "    search_query: str\n",
        "    id: str"
      ]
    },
    {
      "cell_type": "markdown",
      "metadata": {
        "id": "tDEkf7cm9yVU"
      },
      "source": [
        "### Configuration\n",
        "Define configurable parameters that control the agent's behavior. You can adjust these to optimize for different use cases."
      ]
    },
    {
      "cell_type": "code",
      "execution_count": 7,
      "metadata": {
        "id": "82gr7-lU91Vq"
      },
      "outputs": [],
      "source": [
        "configurable = types.SimpleNamespace(\n",
        "    query_generator_model=\"gemini-2.0-flash\",\n",
        "    reflection_model=\"gemini-2.5-flash\",\n",
        "    answer_model=\"gemini-2.5-flash\",\n",
        "    number_of_initial_queries=3,\n",
        "    max_research_loops=2,\n",
        ")"
      ]
    },
    {
      "cell_type": "markdown",
      "metadata": {
        "id": "pMGW49EJ-DJy"
      },
      "source": [
        "## Define Helper Functions\n",
        "\n",
        "These utility functions support the main workflow by extracting information from messages and formatting dates.\n"
      ]
    },
    {
      "cell_type": "code",
      "execution_count": 8,
      "metadata": {
        "id": "9TpNEcfV-F-o"
      },
      "outputs": [],
      "source": [
        "def get_research_topic(messages: List[AnyMessage]) -> str:\n",
        "    \"\"\"\n",
        "    Extract the research topic from the conversation messages.\n",
        "    \"\"\"\n",
        "    if len(messages) == 1:\n",
        "        research_topic = messages[-1].content\n",
        "    else:\n",
        "        research_topic = \"\"\n",
        "        for message in messages:\n",
        "            if isinstance(message, HumanMessage):\n",
        "                research_topic += f\"User: {message.content}\\n\"\n",
        "            elif isinstance(message, AIMessage):\n",
        "                research_topic += f\"Assistant: {message.content}\\n\"\n",
        "    return research_topic\n",
        "\n",
        "\n",
        "def get_current_date():\n",
        "    \"\"\"Get the current date in a readable format.\"\"\"\n",
        "    return datetime.now().strftime(\"%B %d, %Y\")\n"
      ]
    },
    {
      "cell_type": "markdown",
      "metadata": {
        "id": "IgDrUepZ-KUp"
      },
      "source": [
        "## Define Prompt Templates\n",
        "\n",
        "These templates guide the LLMs at each stage of the research process. They're designed to produce high-quality, structured outputs.\n"
      ]
    },
    {
      "cell_type": "markdown",
      "metadata": {
        "id": "yy2qmJEQ-Kyy"
      },
      "source": [
        "### Query Generation Prompt"
      ]
    },
    {
      "cell_type": "code",
      "execution_count": 9,
      "metadata": {
        "id": "OyKfXg6Y-L-i"
      },
      "outputs": [],
      "source": [
        "query_writer_instructions = \"\"\"Your goal is to generate sophisticated and diverse web search queries. These queries are intended for an advanced automated web research tool capable of analyzing complex results, following links, and synthesizing information.\n",
        "\n",
        "Instructions:\n",
        "- Always prefer a single search query, only add another query if the original question requests multiple aspects or elements and one query is not enough.\n",
        "- Each query should focus on one specific aspect of the original question.\n",
        "- Don't produce more than {number_queries} queries.\n",
        "- Queries should be diverse, if the topic is broad, generate more than 1 query.\n",
        "- Don't generate multiple similar queries, 1 is enough.\n",
        "- Query should ensure that the most current information is gathered. The current date is {current_date}.\n",
        "\n",
        "Format:\n",
        "- Format your response as a JSON object with ALL three of these exact keys:\n",
        "   - \"rationale\": Brief explanation of why these queries are relevant\n",
        "   - \"query\": A list of search queries\n",
        "\n",
        "Example:\n",
        "\n",
        "Topic: What revenue grew more last year apple stock or the number of people buying an iphone\n",
        "```json\n",
        "{{\n",
        "    \"rationale\": \"To answer this comparative growth question accurately, we need specific data points on Apple's stock performance and iPhone sales metrics. These queries target the precise financial information needed: company revenue trends, product-specific unit sales figures, and stock price movement over the same fiscal period for direct comparison.\",\n",
        "    \"query\": [\"Apple total revenue growth fiscal year 2024\", \"iPhone unit sales growth fiscal year 2024\", \"Apple stock price growth fiscal year 2024\"],\n",
        "}}\n",
        "```\n",
        "\n",
        "Context: {research_topic}\"\"\"\n"
      ]
    },
    {
      "cell_type": "markdown",
      "metadata": {
        "id": "jvQyptZs-P9Q"
      },
      "source": [
        "### Web Search Prompt\n"
      ]
    },
    {
      "cell_type": "code",
      "execution_count": 10,
      "metadata": {
        "id": "3gbX4acY-RJ8"
      },
      "outputs": [],
      "source": [
        "web_searcher_instructions = \"\"\"Conduct targeted Google Searches to gather the most recent, credible information on \"{research_topic}\" and synthesize it into a verifiable text artifact.\n",
        "\n",
        "Instructions:\n",
        "- Query should ensure that the most current information is gathered. The current date is {current_date}.\n",
        "- Conduct multiple, diverse searches to gather comprehensive information.\n",
        "- Consolidate key findings while meticulously tracking the source(s) for each specific piece of information.\n",
        "- The output should be a well-written summary or report based on your search findings.\n",
        "- Only include the information found in the search results, don't make up any information.\n",
        "\n",
        "Research Topic:\n",
        "{research_topic}\n",
        "\"\"\""
      ]
    },
    {
      "cell_type": "markdown",
      "metadata": {
        "id": "EvxX0xFr-bl1"
      },
      "source": [
        "### Reflection Prompt"
      ]
    },
    {
      "cell_type": "code",
      "execution_count": 11,
      "metadata": {
        "id": "x6t2TAgV-hj-"
      },
      "outputs": [],
      "source": [
        "reflection_instructions = \"\"\"You are an expert research assistant analyzing summaries about \"{research_topic}\".\n",
        "\n",
        "Instructions:\n",
        "- Identify knowledge gaps or areas that need deeper exploration and generate a follow-up query. (1 or multiple).\n",
        "- If provided summaries are sufficient to answer the user's question, don't generate a follow-up query.\n",
        "- If there is a knowledge gap, generate a follow-up query that would help expand your understanding.\n",
        "- Focus on technical details, implementation specifics, or emerging trends that weren't fully covered.\n",
        "\n",
        "Requirements:\n",
        "- Ensure the follow-up query is self-contained and includes necessary context for web search.\n",
        "\n",
        "Output Format:\n",
        "- Format your response as a JSON object with these exact keys:\n",
        "   - \"is_sufficient\": true or false\n",
        "   - \"knowledge_gap\": Describe what information is missing or needs clarification\n",
        "   - \"follow_up_queries\": Write a specific question to address this gap\n",
        "\n",
        "Example:\n",
        "```json\n",
        "{{\n",
        "    \"is_sufficient\": true, // or false\n",
        "    \"knowledge_gap\": \"The summary lacks information about performance metrics and benchmarks\", // \"\" if is_sufficient is true\n",
        "    \"follow_up_queries\": [\"What are typical performance benchmarks and metrics used to evaluate [specific technology]?\"] // [] if is_sufficient is true\n",
        "}}\n",
        "```\n",
        "\n",
        "Reflect carefully on the Summaries to identify knowledge gaps and produce a follow-up query. Then, produce your output following this JSON format:\n",
        "\n",
        "Summaries:\n",
        "{summaries}\n",
        "\"\"\""
      ]
    },
    {
      "cell_type": "markdown",
      "metadata": {
        "id": "O6KLwWQB_BV1"
      },
      "source": [
        "### Answer Generation Prompt"
      ]
    },
    {
      "cell_type": "code",
      "execution_count": 12,
      "metadata": {
        "id": "e_ZInYOM_A-p"
      },
      "outputs": [],
      "source": [
        "answer_instructions = \"\"\"Generate a high-quality answer to the user's question based on the provided summaries.\n",
        "\n",
        "Instructions:\n",
        "- The current date is {current_date}.\n",
        "- You are the final step of a multi-step research process, don't mention that you are the final step.\n",
        "- You have access to all the information gathered from the previous steps.\n",
        "- You have access to the user's question.\n",
        "- Generate a high-quality answer to the user's question based on the provided summaries and the user's question.\n",
        "\n",
        "User Context:\n",
        "- {research_topic}\n",
        "\n",
        "Summaries:\n",
        "{summaries}\"\"\""
      ]
    },
    {
      "cell_type": "markdown",
      "metadata": {
        "id": "vLii0v_6_N4S"
      },
      "source": [
        "## Define Workflow Nodes\n",
        "Each node in our LangGraph workflow represents a specific step in the research process. These functions process the state and return updates."
      ]
    },
    {
      "cell_type": "markdown",
      "metadata": {
        "id": "PWYgUEuu_Sc4"
      },
      "source": [
        "### 1. Query Generation Node\n",
        "This node generates initial search queries based on the user's question."
      ]
    },
    {
      "cell_type": "code",
      "execution_count": 13,
      "metadata": {
        "id": "iR000h_t_VEJ"
      },
      "outputs": [],
      "source": [
        "def generate_query(state: OverallState) -> QueryGenerationState:\n",
        "    \"\"\"\n",
        "    Generate search queries based on the user's research topic.\n",
        "    \"\"\"\n",
        "    if state.get(\"initial_search_query_count\") is None:\n",
        "        state[\"initial_search_query_count\"] = configurable.number_of_initial_queries\n",
        "\n",
        "    llm = ChatGoogleGenerativeAI(\n",
        "        model=configurable.query_generator_model,\n",
        "        temperature=1.0,\n",
        "        max_retries=2,\n",
        "    )\n",
        "    structured_llm = llm.with_structured_output(SearchQueryList)\n",
        "\n",
        "    current_date = get_current_date()\n",
        "    formatted_prompt = query_writer_instructions.format(\n",
        "        current_date=current_date,\n",
        "        research_topic=get_research_topic(state[\"messages\"]),\n",
        "        number_queries=state[\"initial_search_query_count\"],\n",
        "    )\n",
        "\n",
        "    result = structured_llm.invoke(formatted_prompt)\n",
        "    return {\"query_list\": result.query}"
      ]
    },
    {
      "cell_type": "markdown",
      "metadata": {
        "id": "zzaTptHJ_Vxh"
      },
      "source": [
        "### 2. Query Distribution Function\n",
        "This function distributes queries to parallel web research nodes."
      ]
    },
    {
      "cell_type": "code",
      "execution_count": 14,
      "metadata": {
        "id": "gdx4bI1t_Zf-"
      },
      "outputs": [],
      "source": [
        "def continue_to_web_research(state: QueryGenerationState):\n",
        "    \"\"\"\n",
        "    Send each generated query to a separate web research node for parallel processing.\n",
        "    \"\"\"\n",
        "    return [\n",
        "        Send(\"web_research\", {\"search_query\": search_query, \"id\": int(idx)})\n",
        "        for idx, search_query in enumerate(state[\"query_list\"])\n",
        "    ]"
      ]
    },
    {
      "cell_type": "markdown",
      "metadata": {
        "id": "bcSkBP38_bm7"
      },
      "source": [
        "### 3. Web Research Node\n",
        "This node performs actual web searches using Gemini's built-in Google Search tool."
      ]
    },
    {
      "cell_type": "code",
      "execution_count": 15,
      "metadata": {
        "id": "L2r3P4mp_cdM"
      },
      "outputs": [],
      "source": [
        "def web_research(state: WebSearchState) -> OverallState:\n",
        "    \"\"\"\n",
        "    Conduct web research for a specific search query using Gemini's search capabilities.\n",
        "    \"\"\"\n",
        "    formatted_prompt = web_searcher_instructions.format(\n",
        "        current_date=get_current_date(),\n",
        "        research_topic=state[\"search_query\"]\n",
        "    )\n",
        "\n",
        "    response = genai_client.models.generate_content(\n",
        "        model=configurable.query_generator_model,\n",
        "        contents=formatted_prompt,\n",
        "        config={\"tools\": [{\"google_search\": {}}], \"temperature\": 0},\n",
        "    )\n",
        "\n",
        "    return {\n",
        "        \"search_query\": [state[\"search_query\"]],\n",
        "        \"web_research_result\": [response.text],\n",
        "    }"
      ]
    },
    {
      "cell_type": "markdown",
      "metadata": {
        "id": "JpDkGKrO_d5g"
      },
      "source": [
        "### 4. Reflection Node\n",
        "This node evaluates whether the gathered information is sufficient to answer the user's question."
      ]
    },
    {
      "cell_type": "code",
      "execution_count": 16,
      "metadata": {
        "id": "WBw8iSVd_fil"
      },
      "outputs": [],
      "source": [
        "def reflection(state: OverallState) -> ReflectionState:\n",
        "    \"\"\"\n",
        "    Reflect on the gathered research to determine if it's sufficient or if more research is needed.\n",
        "    \"\"\"\n",
        "    state[\"research_loop_count\"] = state.get(\"research_loop_count\", 0) + 1\n",
        "    reflection_model = configurable.reflection_model\n",
        "    current_date = get_current_date()\n",
        "\n",
        "    formatted_prompt = reflection_instructions.format(\n",
        "        current_date=current_date,\n",
        "        research_topic=get_research_topic(state[\"messages\"]),\n",
        "        summaries=\"\\n\\n---\\n\\n\".join(state[\"web_research_result\"]),\n",
        "    )\n",
        "\n",
        "    llm = ChatGoogleGenerativeAI(\n",
        "        model=reflection_model,\n",
        "        temperature=1.0,\n",
        "        max_retries=2,\n",
        "    )\n",
        "    result = llm.with_structured_output(Reflection).invoke(formatted_prompt)\n",
        "\n",
        "    print(f\"Reflection result: {result}\")\n",
        "\n",
        "    return {\n",
        "        \"is_sufficient\": result.is_sufficient,\n",
        "        \"knowledge_gap\": result.knowledge_gap,\n",
        "        \"follow_up_queries\": result.follow_up_queries,\n",
        "        \"research_loop_count\": state[\"research_loop_count\"],\n",
        "        \"number_of_ran_queries\": len(state[\"search_query\"]),\n",
        "    }"
      ]
    },
    {
      "cell_type": "markdown",
      "metadata": {
        "id": "M4SEOxih_hwR"
      },
      "source": [
        "### 5. Research Evaluation Function\n",
        "This function decides whether to continue researching or finalize the answer."
      ]
    },
    {
      "cell_type": "code",
      "execution_count": 17,
      "metadata": {
        "id": "jucTaEpN_iwq"
      },
      "outputs": [],
      "source": [
        "def evaluate_research(state: ReflectionState) -> OverallState:\n",
        "    \"\"\"\n",
        "    Evaluate if more research is needed based on reflection results and loop count.\n",
        "    \"\"\"\n",
        "    max_research_loops = (\n",
        "        state.get(\"max_research_loops\")\n",
        "        if state.get(\"max_research_loops\") is not None\n",
        "        else configurable.max_research_loops\n",
        "    )\n",
        "\n",
        "    if state[\"is_sufficient\"] or state[\"research_loop_count\"] >= max_research_loops:\n",
        "        return \"finalize_answer\"\n",
        "    else:\n",
        "        # Generate follow-up research tasks\n",
        "        return [\n",
        "            Send(\n",
        "                \"web_research\",\n",
        "                {\n",
        "                    \"search_query\": follow_up_query,\n",
        "                    \"id\": state[\"number_of_ran_queries\"] + int(idx),\n",
        "                },\n",
        "            )\n",
        "            for idx, follow_up_query in enumerate(state[\"follow_up_queries\"])\n",
        "        ]"
      ]
    },
    {
      "cell_type": "markdown",
      "metadata": {
        "id": "R0q4QUPA_k46"
      },
      "source": [
        "### 6. Answer Finalization Node\n",
        "This node synthesizes all gathered research into a comprehensive answer."
      ]
    },
    {
      "cell_type": "code",
      "execution_count": 18,
      "metadata": {
        "id": "IA5nnJ94_lop"
      },
      "outputs": [],
      "source": [
        "def finalize_answer(state: OverallState):\n",
        "    \"\"\"\n",
        "    Generate the final answer based on all gathered research.\n",
        "    \"\"\"\n",
        "    print(\"Finalizing answer...\")\n",
        "    answer_model = configurable.answer_model\n",
        "    current_date = get_current_date()\n",
        "\n",
        "    formatted_prompt = answer_instructions.format(\n",
        "        current_date=current_date,\n",
        "        research_topic=get_research_topic(state[\"messages\"]),\n",
        "        summaries=\"\\n---\\n\\n\".join(state[\"web_research_result\"]),\n",
        "    )\n",
        "\n",
        "    llm = ChatGoogleGenerativeAI(\n",
        "        model=answer_model,\n",
        "        temperature=0,\n",
        "        max_retries=2,\n",
        "    )\n",
        "    result = llm.invoke(formatted_prompt)\n",
        "\n",
        "    return {\n",
        "        \"messages\": [AIMessage(content=result.content)],\n",
        "    }"
      ]
    },
    {
      "cell_type": "markdown",
      "metadata": {
        "id": "XYAAPqek_ojA"
      },
      "source": [
        "## Build the Research Agent Graph\n",
        "Now we'll assemble all the nodes into a LangGraph workflow that orchestrates the entire research process."
      ]
    },
    {
      "cell_type": "code",
      "execution_count": 19,
      "metadata": {
        "id": "moF4-8sE_pQk"
      },
      "outputs": [],
      "source": [
        "# Create the graph\n",
        "graph = StateGraph(OverallState)\n",
        "\n",
        "# Add nodes to the graph\n",
        "graph.add_node(\"generate_query\", generate_query)\n",
        "graph.add_node(\"web_research\", web_research)\n",
        "graph.add_node(\"reflection\", reflection)\n",
        "graph.add_node(\"finalize_answer\", finalize_answer)\n",
        "\n",
        "# Define the workflow edges\n",
        "graph.add_edge(START, \"generate_query\")\n",
        "graph.add_conditional_edges(\n",
        "    \"generate_query\", continue_to_web_research, [\"web_research\"]\n",
        ")\n",
        "graph.add_edge(\"web_research\", \"reflection\")\n",
        "graph.add_conditional_edges(\n",
        "    \"reflection\", evaluate_research, [\"web_research\", \"finalize_answer\"]\n",
        ")\n",
        "graph.add_edge(\"finalize_answer\", END)\n",
        "\n",
        "# Compile the graph\n",
        "app = graph.compile(name=\"pro-search-agent\")"
      ]
    },
    {
      "cell_type": "markdown",
      "metadata": {
        "id": "Ubqb8ay4_w4T"
      },
      "source": [
        "## Visualize the Workflow\n",
        "Let's visualize the research agent's workflow to better understand how information flows through the system."
      ]
    },
    {
      "cell_type": "code",
      "execution_count": 20,
      "metadata": {
        "id": "BC0jpvdB_yYf"
      },
      "outputs": [
        {
          "data": {
            "image/png": "[encoded data removed]",
            "text/plain": [
              "<IPython.core.display.Image object>"
            ]
          },
          "metadata": {},
          "output_type": "display_data"
        }
      ],
      "source": [
        "# Display the graph structure\n",
        "from IPython.display import Image, display\n",
        "\n",
        "display(Image(app.get_graph().draw_mermaid_png()))\n"
      ]
    },
    {
      "cell_type": "markdown",
      "metadata": {
        "id": "VPfOW4la_7kr"
      },
      "source": [
        "## Try Your Research Agent\n",
        "Now you can interact with your AI research agent! Ask complex questions that require gathering information from multiple sources."
      ]
    },
    {
      "cell_type": "code",
      "execution_count": 25,
      "metadata": {
        "id": "kt2DypBEIJFD"
      },
      "outputs": [
        {
          "name": "stdout",
          "output_type": "stream",
          "text": [
            " Your question (or 'quit' to exit): how did humans come into existence?\n",
            "Researching... Please wait.\n",
            "Generated search queries\n",
            "Conducting web research...\n",
            "Conducting web research...\n",
            "Reflection result: is_sufficient=False knowledge_gap=\"While the summaries mention the 'complex origins' of *Homo sapiens* involving a mixture of two ancient populations (Population A and B) and the challenge to the 'Out of Africa' theory by an 'Out of East Asia' model, the detailed genetic evidence supporting these claims and the specific mechanisms of interbreeding or genetic contributions from these ancestral groups are not fully elaborated. The computational methodology used (cobraa) is mentioned, but its specific application and the detailed findings it revealed about genetic contributions are high-level. More specific genetic and genomic details are needed to understand the nuances of these complex origin theories and how they relate to or challenge the traditional Out of Africa model, especially concerning alternative regional origins like 'Out of East Asia' and the roles of specific ancestral populations (A and B).\" follow_up_queries=[\"What specific genetic markers, genomic regions, or detailed findings from recent studies provide evidence for the proposed 'Population A' and 'Population B' ancestral groups in *Homo sapiens*, and how do these findings specifically challenge or refine the 'Out of Africa' model, particularly in relation to an 'Out of East Asia' hypothesis?\"]\n",
            "Need more research: While the summaries mention the 'complex origins' of *Homo sapiens* involving a mixture of two ancie...\n",
            "Conducting web research...\n",
            "Reflection result: is_sufficient=False knowledge_gap=\"While the provided summaries introduce a new genetic model (Population A and B) for human origins, they explicitly state that this model cannot definitively assign specific Homo erectus or Homo heidelbergensis fossils to Population A or B. This indicates a knowledge gap in the methodologies or approaches for integrating these genetic findings with the existing paleontological fossil record to establish a concrete link between genetically inferred ancestral populations and known hominin species from the fossil record. Additionally, further details on the 'cobraa' computational algorithm's capabilities and limitations in this integration would be beneficial to fully address the question of how humans came into existence, by connecting the genetic and fossil evidence streams more thoroughly.\" follow_up_queries=[\"What are the current research methodologies or emerging approaches being developed to integrate the genetic insights from models like the 'Population A and B' framework with paleontological evidence, specifically to link these inferred ancestral genetic populations to known hominin fossil species such as Homo erectus or Homo heidelbergensis?\"]\n",
            "Need more research: While the provided summaries introduce a new genetic model (Population A and B) for human origins, t...\n",
            "Finalizing answer...\n",
            "Synthesizing final answer...\n",
            "--- Final Answer ---\n",
            "The question of how humans came into existence is a complex and evolving field of scientific inquiry, with recent discoveries continually refining our understanding. Current research, particularly from 2024 and 2025, points to a more intricate evolutionary history than previously thought, involving multiple ancestral populations, interbreeding, and widespread migrations.\n",
            "\n",
            "Here's a summary of the leading theories and recent evidence:\n",
            "\n",
            "**1. A Complex Ancestral Origin: The \"Population A\" and \"Population B\" Model**\n",
            "A significant development in March 2025, a study published in *Nature Genetics* by the University of Cambridge, challenges the traditional view of modern humans evolving from a single, continuous ancestral lineage. This research suggests that *Homo sapiens* are the result of a mixture of two ancient populations, termed \"Population A\" and \"Population B,\" that diverged approximately 1.5 million years ago and reconnected around 300,000 years ago.\n",
            "*   **Population A** contributed about 80% of the genetic material to modern humans. This group experienced a genetic bottleneck and is also considered ancestral to Neanderthals and Denisovans.\n",
            "*   **Population B** contributed the remaining 20% of modern human DNA. Genes from Population B are notably concentrated in regions of the genome associated with brain function and neural processing, suggesting a crucial role in the development of human cognition.\n",
            "This model, developed using a computational algorithm called \"cobraa\" to analyze modern human DNA, indicates a more complex, interwoven origin for our species.\n",
            "\n",
            "**2. The \"Out of Africa\" Theory and its Challenges**\n",
            "The prevailing \"Out of Africa\" theory posits that modern humans originated in Africa between 200,000 and 300,000 years ago and then migrated to other parts of the world, replacing earlier hominin populations.\n",
            "*   **Supporting Evidence:** Genetic studies overwhelmingly trace modern human ancestry back to a single African population. Archaeological discoveries in Africa continue to provide the earliest evidence of *Homo sapiens*. Research suggests that *Homo sapiens* successfully migrated out of Africa around 50,000 years ago due to their ability to adapt to a wider range of environments, expanding their geographic range within Africa around 70,000 years ago.\n",
            "*   **Recent Challenges:** The \"Population A\" and \"Population B\" model directly challenges the simplicity of a single ancestral lineage. Furthermore, archaeological discoveries in West and Central Africa are pushing back the dates of early human presence in these regions, suggesting a broader African origin than previously thought. Some scientists argue that human evolution involved multiple populations evolving in parallel across Africa, Europe, and Asia, rather than a simple replacement.\n",
            "\n",
            "**3. The \"Out of East Asia\" Hypothesis**\n",
            "An alternative \"Out of East Asia\" model proposes that East Asia may have been the origin of modern humans.\n",
            "*   **Arguments:** Proponents suggest that East Asian populations exhibit the least genetic diversity, which could indicate an older ancestral root. This hypothesis is supported by a new molecular evolution theory called the maximum genetic diversity (MGD) theory, which places the roots of uniparental DNAs in East Asia.\n",
            "*   **Challenges:** Despite these arguments, the \"Out of East Asia\" theory faces significant challenges from the vast body of genetic evidence that points to an African origin for modern humans. The majority of early *Homo sapiens* fossils are also found in Africa. Genetic studies of human diversity in East Asia generally confirm an African origin, with subsequent gene flow into East Asia from the south.\n",
            "\n",
            "**4. Key Fossil Discoveries and Hominin Diversity**\n",
            "Recent fossil discoveries continue to paint a picture of diverse hominin species coexisting and interacting across different regions:\n",
            "*   **East Asia:** Significant fossils from the Hualongdong site in China, dating back 300,000 years, show a mix of primitive and modern human characteristics, potentially representing a distinct hominin population linked to *Homo sapiens* origins. A new hominin species, *Homo juluensis*, proposed based on East Asian fossils (300,000 to 50,000 years ago), may be linked to Denisovans, highlighting the rich diversity of ancient human relatives in Asia.\n",
            "*   **Europe:** A partial upper jaw and cheekbone fossil, dating back 1.4 to 1.1 million years from Sima del Elefante in Spain, represents the oldest known human ancestor fossil in Western Europe, suggesting a previously unknown European *Homo* population. Cut marks on animal bones in Romania suggest hominins reached Eurasia nearly 2 million years ago.\n",
            "*   **Southeast Asia:** A large molar found in Cobra Cave, Laos, provides the first definitive evidence of Denisovans in Southeast Asia, expanding their known geographic range.\n",
            "*   **Coexistence:** Fossil footprints in Kenya provide direct evidence that *Homo erectus* and *Paranthropus boisei* coexisted around 1.5 million years ago, offering insights into inter-species interactions. New findings also indicate that *Paranthropus robustus* walked upright.\n",
            "\n",
            "**5. Genetic Insights into Brain Evolution and Interbreeding**\n",
            "*   **Brain Development:** Research suggests that the evolution of larger brains in modern humans, Neanderthals, and related species occurred gradually within each species. Studies on Human Accelerated Regions (HARs)—genetic switches that regulate gene expression—show that these regions fine-tune the expression of genes shared by humans and chimpanzees, influencing neuron development and communication. This indicates that brain function evolved by modifying existing genetic pathways.\n",
            "*   **Interbreeding:** Studies continue to reveal extensive interactions between Neanderthals, Denisovans, and modern humans, including evidence of interbreeding and the exchange of DNA. Analysis of a Neanderthal skeleton nicknamed \"Thorin\" suggests this individual was part of a genetically isolated population that may have overlapped with modern human presence in Europe as recently as 42,000 years ago. Denisovan ancestry is particularly significant in East Asian populations, suggesting multiple admixture events.\n",
            "\n",
            "**6. Other Evolutionary Adaptations**\n",
            "*   **Dietary Shifts:** Evidence suggests that adaptations to starch-rich diets, indicated by multiple copies of the AMY1 gene, may have evolved even before the divergence of modern humans, Neanderthals, and Denisovans.\n",
            "*   **Behavioral Parallels:** Studies documenting the use of medicinal plants by chimpanzees and gorillas suggest that our closest living relatives share similar practices for treating ailments, offering insights into the deep roots of such behaviors.\n",
            "\n",
            "In conclusion, the existence of humans is understood as a complex evolutionary journey spanning millions of years. Recent genetic models propose a multi-lineage origin for *Homo sapiens*, challenging simpler narratives. While the \"Out of Africa\" theory remains dominant, new evidence suggests a more nuanced picture involving extensive interbreeding, diverse hominin populations across continents, and continuous adaptation to various environments. The field of human origins is dynamic, with ongoing research and discoveries constantly refining our understanding of our deep past.\n",
            " Your question (or 'quit' to exit): quit\n",
            "Session Ended\n"
          ]
        }
      ],
      "source": [
        "while True:\n",
        "    user_input = input(\" Your question (or 'quit' to exit): \")\n",
        "    if user_input.lower() in [\"quit\", \"exit\"]:\n",
        "        print(\"Session Ended\")\n",
        "        break\n",
        "\n",
        "    initial_state = {\"messages\": [HumanMessage(content=user_input)]}\n",
        "    config = {\"recursion_limit\": 100}\n",
        "    print(\"Researching... Please wait.\")\n",
        "\n",
        "    # Process the research workflow\n",
        "    final_state = None\n",
        "    for event in app.stream(initial_state, config=config):\n",
        "        for node, output in event.items():\n",
        "            if node == \"generate_query\":\n",
        "                print(f\"Generated search queries\")\n",
        "            elif node == \"web_research\":\n",
        "                print(f\"Conducting web research...\")\n",
        "            elif node == \"reflection\":\n",
        "                if 'is_sufficient' in output:\n",
        "                    if output['is_sufficient']:\n",
        "                        print(\"Gathered sufficient information\")\n",
        "                    else:\n",
        "                        print(f\"Need more research: {output.get('knowledge_gap', '')[:100]}...\")\n",
        "            elif node == \"finalize_answer\":\n",
        "                final_state = output\n",
        "                print(\"Synthesizing final answer...\")\n",
        "\n",
        "    # Display the final answer\n",
        "    if final_state and 'messages' in final_state and final_state['messages']:\n",
        "        final_answer = final_state['messages'][-1]\n",
        "        if isinstance(final_answer, AIMessage):\n",
        "            print(\"--- Final Answer ---\")\n",
        "            print(final_answer.content)\n",
        "        else:\n",
        "            print(\"Could not retrieve a final answer.\")\n",
        "    else:\n",
        "        print(\"Something went wrong, and no final answer was produced.\")"
      ]
    },
    {
      "cell_type": "markdown",
      "metadata": {
        "id": "irDEEedoKzj9"
      },
      "source": [
        "## Understanding the Research Process\n",
        "\n",
        "### How the Agent Works\n",
        "\n",
        "1. **Query Generation**: The agent analyzes your question and generates 1-3 focused search queries\n",
        "2. **Parallel Research**: Each query is researched simultaneously using Google Search via Gemini\n",
        "3. **Reflection**: The agent evaluates if the gathered information sufficiently answers your question\n",
        "4. **Iterative Improvement**: If gaps are identified, the agent generates follow-up queries (up to 2 iterations)\n",
        "5. **Answer Synthesis**: All research is combined into a comprehensive, well-structured answer\n",
        "\n",
        "### Key Features\n",
        "\n",
        "- **Autonomous Research**: The agent independently decides what to search for and when it has enough information\n",
        "- **Quality Control**: Built-in reflection ensures thorough coverage of your topic\n",
        "- **Current Information**: Searches are optimized for recent, up-to-date information\n",
        "- **Parallel Processing**: Multiple searches run simultaneously for faster results\n",
        "- **Structured Output**: Answers are well-organized and based solely on found information\n",
        "\n",
        "## Customization Options\n",
        "\n",
        "You can customize the agent's behavior by modifying the configuration:\n",
        "\n",
        "```python\n",
        "# Example: More thorough research with more queries and iterations\n",
        "thorough_config = types.SimpleNamespace(\n",
        "    query_generator_model=\"gemini-2.0-flash-exp\",\n",
        "    reflection_model=\"gemini-2.0-flash-exp\",\n",
        "    answer_model=\"gemini-2.0-flash-exp\",\n",
        "    number_of_initial_queries=5,  # More initial queries\n",
        "    max_research_loops=3,  # More follow-up iterations\n",
        ")\n",
        "\n",
        "# Example: Faster research with fewer queries\n",
        "fast_config = types.SimpleNamespace(\n",
        "    query_generator_model=\"gemini-2.0-flash-exp\",\n",
        "    reflection_model=\"gemini-2.0-flash-exp\",\n",
        "    answer_model=\"gemini-2.0-flash-exp\",\n",
        "    number_of_initial_queries=1,  # Single query\n",
        "    max_research_loops=1,  # One follow-up if needed\n",
        ")\n",
        "```"
      ]
    },
    {
      "cell_type": "markdown",
      "metadata": {
        "id": "udWvXoV_K62H"
      },
      "source": [
        "## Advanced Usage\n"
      ]
    },
    {
      "cell_type": "markdown",
      "metadata": {
        "id": "kMm44gz6K-Jo"
      },
      "source": [
        "### Tracking Research Sources\n",
        "To track which sources were used for each piece of information:"
      ]
    },
    {
      "cell_type": "code",
      "execution_count": 22,
      "metadata": {
        "id": "LcQkj5r8K5VD"
      },
      "outputs": [],
      "source": [
        "def web_research_with_sources(state: WebSearchState) -> OverallState:\n",
        "    \"\"\"Enhanced web research that extracts and tracks sources\"\"\"\n",
        "    formatted_prompt = web_searcher_instructions.format(\n",
        "        current_date=get_current_date(),\n",
        "        research_topic=state[\"search_query\"]\n",
        "    )\n",
        "\n",
        "    response = genai_client.models.generate_content(\n",
        "        model=configurable.query_generator_model,\n",
        "        contents=formatted_prompt,\n",
        "        config={\"tools\": [{\"google_search\": {}}], \"temperature\": 0},\n",
        "    )\n",
        "\n",
        "    # Extract sources from the response\n",
        "    sources = []\n",
        "    if hasattr(response, 'candidates') and response.candidates:\n",
        "        for candidate in response.candidates:\n",
        "            if hasattr(candidate, 'grounding_metadata'):\n",
        "                sources.extend(candidate.grounding_metadata.get('sources', []))\n",
        "\n",
        "    return {\n",
        "        \"search_query\": [state[\"search_query\"]],\n",
        "        \"web_research_result\": [response.text],\n",
        "        \"sources_gathered\": sources\n",
        "    }"
      ]
    },
    {
      "cell_type": "markdown",
      "metadata": {
        "id": "wS_bJkzcLHZ4"
      },
      "source": [
        "### Custom Research Strategies\n",
        "You can implement different research strategies by modifying the prompts:"
      ]
    },
    {
      "cell_type": "code",
      "execution_count": 23,
      "metadata": {
        "id": "fwDGENVVLI0c"
      },
      "outputs": [],
      "source": [
        "# Academic research strategy\n",
        "academic_query_instructions = \"\"\"Generate search queries for academic research on \"{research_topic}\".\n",
        "Focus on:\n",
        "- Peer-reviewed studies and papers\n",
        "- Recent research findings (within last 3 years)\n",
        "- Key researchers and institutions\n",
        "- Methodologies and experimental results\n",
        "Current date: {current_date}\n",
        "\"\"\"\n",
        "\n",
        "# Market research strategy\n",
        "market_query_instructions = \"\"\"Generate search queries for market analysis on \"{research_topic}\".\n",
        "Focus on:\n",
        "- Market size and growth trends\n",
        "- Key players and competitors\n",
        "- Consumer behavior and preferences\n",
        "- Industry forecasts and analyst reports\n",
        "Current date: {current_date}\n",
        "\"\"\""
      ]
    },
    {
      "cell_type": "markdown",
      "metadata": {
        "id": "EhYxseZ8LQtT"
      },
      "source": [
        "## Next Steps\n",
        "\n",
        "This notebook demonstrated how to build an autonomous AI research agent using LangGraph and Gemini. Here are some ways to extend this system:\n",
        "\n",
        "### Enhancements You Can Try\n",
        "\n",
        "1. **Add Citation Tracking**: Modify the web research node to extract and format citations\n",
        "2. **Implement Fact Checking**: Add a verification node that cross-references information\n",
        "3. **Support Multi-Modal Research**: Extend to analyze images and videos in search results\n",
        "4. **Add Domain Expertise**: Create specialized agents for different fields (medical, legal, technical)\n",
        "5. **Build a Research UI**: Create a web interface for better interaction\n",
        "\n",
        "### Related Resources\n",
        "\n",
        "- [LangGraph Documentation](https://langchain-ai.github.io/langgraph/): Learn more about building complex AI workflows\n",
        "- [Gemini API Documentation](https://ai.google.dev/docs): Explore Gemini's full capabilities\n",
        "- [LangChain Google Integration](https://python.langchain.com/docs/integrations/platforms/google): Additional Google AI integrations\n",
        "\n",
        "### Example Notebooks to Explore\n",
        "\n",
        "- **[Gemini Function Calling](../../quickstarts/Function_calling.ipynb)**: Learn how to give Gemini access to external tools and APIs\n",
        "- **[Gemini LangChain Summarization](../langchain/Gemini_LangChain_Summarization_WebLoad.ipynb)**: Build agents that summarize content on the go"
      ]
    }
  ],
  "metadata": {
    "colab": {
      "name": "Deep_Research.ipynb",
      "toc_visible": true
    },
    "kernelspec": {
      "display_name": "Python 3",
      "name": "python3"
    }
  },
  "nbformat": 4,
  "nbformat_minor": 0
}
