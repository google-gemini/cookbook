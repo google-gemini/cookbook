{
  "cells": [
    {
      "cell_type": "markdown",
      "metadata": {
        "id": "view-in-github",
        "colab_type": "text"
      },
      "source": [
        "<a href=\"https://colab.research.google.com/github/SonjeVilas/cookbook/blob/Extract_Information_From_INVOICE/examples/Extract_Information_From_INVOICE.ipynb\" target=\"_parent\"><img src=\"https://colab.research.google.com/assets/colab-badge.svg\" alt=\"Open In Colab\"/></a>"
      ]
    },
    {
      "cell_type": "markdown",
      "metadata": {
        "id": "Hfb0zeHYnwtC"
      },
      "source": [
        "##### Copyright 2025 Google LLC."
      ]
    },
    {
      "cell_type": "code",
      "execution_count": 51,
      "metadata": {
        "cellView": "form",
        "id": "NeImViGqnv1b"
      },
      "outputs": [],
      "source": [
        "# @title Licensed under the Apache License, Version 2.0 (the \"License\");\n",
        "# you may not use this file except in compliance with the License.\n",
        "# You may obtain a copy of the License at\n",
        "#\n",
        "# https://www.apache.org/licenses/LICENSE-2.0\n",
        "#\n",
        "# Unless required by applicable law or agreed to in writing, software\n",
        "# distributed under the License is distributed on an \"AS IS\" BASIS,\n",
        "# WITHOUT WARRANTIES OR CONDITIONS OF ANY KIND, either express or implied.\n",
        "# See the License for the specific language governing permissions and\n",
        "# limitations under the License."
      ]
    },
    {
      "cell_type": "markdown",
      "metadata": {
        "id": "sP8PQnz1QrcF"
      },
      "source": [
        "# Extract Information From INVOICE\n",
        "\n",
        "This notebook demonstrates how to use Google Gemini Pro Vision to automatically extract structured data (like invoice numbers, dates, line items, and totals) from invoice images. By converting images to Base64 and leveraging a custom JSON-structured prompt, it outputs machine-readable data for easy integration into accounting systems or spreadsheets. The solution addresses common pitfalls like local file restrictions and API errors, offering a scalable workflow for accounts payable automation, expense tracking, and document digitization using multimodal AI.\n",
        "\n"
      ]
    },
    {
      "cell_type": "markdown",
      "metadata": {
        "id": "bxGr_x3MRA0z"
      },
      "source": [
        "<a target=\"_blank\" href=\"https://colab.research.google.com/github/google-gemini/cookbook/blob/main/examples/Extract_Information_From_INVOICE.ipynb\"><img src=\"https://colab.research.google.com/assets/colab-badge.svg\" height=30/></a>"
      ]
    },
    {
      "cell_type": "code",
      "execution_count": 52,
      "metadata": {
        "id": "Ne-3gnXqR0hI"
      },
      "outputs": [],
      "source": [
        "%pip install -U -q \"google-genai>=1.0.0\""
      ]
    },
    {
      "cell_type": "code",
      "execution_count": 53,
      "metadata": {
        "id": "EconMHePQHGw"
      },
      "outputs": [],
      "source": [
        "from google import genai\n",
        "\n",
        "from IPython.display import Markdown"
      ]
    },
    {
      "cell_type": "markdown",
      "metadata": {
        "id": "eomJzCa6lb90"
      },
      "source": [
        "## Configure your API key\n",
        "\n",
        "To run the following cell, your API key must be stored it in a Colab Secret named `GOOGLE_API_KEY`. If you don't already have an API key, or you're not sure how to create a Colab Secret, see [Authentication](https://github.com/google-gemini/cookbook/blob/main/quickstarts/Authentication.ipynb) for an example."
      ]
    },
    {
      "cell_type": "code",
      "execution_count": 54,
      "metadata": {
        "id": "v-JZzORUpVR2"
      },
      "outputs": [],
      "source": [
        "from google.colab import userdata\n",
        "GOOGLE_API_KEY = userdata.get('GOOGLE_API_KEY')\n",
        "client = genai.Client(api_key=GOOGLE_API_KEY)"
      ]
    },
    {
      "cell_type": "code",
      "execution_count": 55,
      "metadata": {
        "id": "Ym4w9z3iWHlT"
      },
      "outputs": [],
      "source": [
        "MODEL_ID=\"gemini-2.0-flash\" # @param [\"gemini-2.0-flash-lite\",\"gemini-2.0-flash\",\"gemini-2.5-pro-exp-03-25\"] {\"allow-input\":true, isTemplate: true}"
      ]
    },
    {
      "cell_type": "markdown",
      "source": [
        "# LIST OF MODELS"
      ],
      "metadata": {
        "id": "X3W3_PdFXg_s"
      }
    },
    {
      "cell_type": "code",
      "source": [
        "genai.configure(api_key=GOOGLE_API_KEY)\n",
        "\n",
        "for m in genai.list_models():\n",
        "  if 'generateContent' in m.supported_generation_methods:\n",
        "    print(m.name)"
      ],
      "metadata": {
        "colab": {
          "base_uri": "https://localhost:8080/",
          "height": 694
        },
        "id": "OGx_4UG3R7hi",
        "outputId": "45294373-2626-4f66-f4d3-0c50122f22f3"
      },
      "execution_count": 57,
      "outputs": [
        {
          "output_type": "stream",
          "name": "stdout",
          "text": [
            "models/gemini-1.0-pro-vision-latest\n",
            "models/gemini-pro-vision\n",
            "models/gemini-1.5-pro-latest\n",
            "models/gemini-1.5-pro-001\n",
            "models/gemini-1.5-pro-002\n",
            "models/gemini-1.5-pro\n",
            "models/gemini-1.5-flash-latest\n",
            "models/gemini-1.5-flash-001\n",
            "models/gemini-1.5-flash-001-tuning\n",
            "models/gemini-1.5-flash\n",
            "models/gemini-1.5-flash-002\n",
            "models/gemini-1.5-flash-8b\n",
            "models/gemini-1.5-flash-8b-001\n",
            "models/gemini-1.5-flash-8b-latest\n",
            "models/gemini-1.5-flash-8b-exp-0827\n",
            "models/gemini-1.5-flash-8b-exp-0924\n",
            "models/gemini-2.5-pro-exp-03-25\n",
            "models/gemini-2.5-pro-preview-03-25\n",
            "models/gemini-2.5-flash-preview-04-17\n",
            "models/gemini-2.0-flash-exp\n",
            "models/gemini-2.0-flash\n",
            "models/gemini-2.0-flash-001\n",
            "models/gemini-2.0-flash-exp-image-generation\n",
            "models/gemini-2.0-flash-lite-001\n",
            "models/gemini-2.0-flash-lite\n",
            "models/gemini-2.0-flash-lite-preview-02-05\n",
            "models/gemini-2.0-flash-lite-preview\n",
            "models/gemini-2.0-pro-exp\n",
            "models/gemini-2.0-pro-exp-02-05\n",
            "models/gemini-exp-1206\n",
            "models/gemini-2.0-flash-thinking-exp-01-21\n",
            "models/gemini-2.0-flash-thinking-exp\n",
            "models/gemini-2.0-flash-thinking-exp-1219\n",
            "models/learnlm-1.5-pro-experimental\n",
            "models/learnlm-2.0-flash-experimental\n",
            "models/gemma-3-1b-it\n",
            "models/gemma-3-4b-it\n",
            "models/gemma-3-12b-it\n",
            "models/gemma-3-27b-it\n"
          ]
        }
      ]
    },
    {
      "cell_type": "code",
      "source": [
        "# Model Configuration\n",
        "MODEL_CONFIG = {\n",
        "  \"temperature\": 0.2,\n",
        "  \"top_p\": 1,\n",
        "  \"top_k\": 32,\n",
        "  \"max_output_tokens\": 4096,\n",
        "}\n",
        "\n",
        "## Safety Settings of Model\n",
        "safety_settings = [\n",
        "  {\n",
        "    \"category\": \"HARM_CATEGORY_HARASSMENT\",\n",
        "    \"threshold\": \"BLOCK_MEDIUM_AND_ABOVE\"\n",
        "  },\n",
        "  {\n",
        "    \"category\": \"HARM_CATEGORY_HATE_SPEECH\",\n",
        "    \"threshold\": \"BLOCK_MEDIUM_AND_ABOVE\"\n",
        "  },\n",
        "  {\n",
        "    \"category\": \"HARM_CATEGORY_SEXUALLY_EXPLICIT\",\n",
        "    \"threshold\": \"BLOCK_MEDIUM_AND_ABOVE\"\n",
        "  },\n",
        "  {\n",
        "    \"category\": \"HARM_CATEGORY_DANGEROUS_CONTENT\",\n",
        "    \"threshold\": \"BLOCK_MEDIUM_AND_ABOVE\"\n",
        "  }\n",
        "]"
      ],
      "metadata": {
        "id": "SXQB16k2R9iY"
      },
      "execution_count": 58,
      "outputs": []
    },
    {
      "cell_type": "markdown",
      "source": [
        "# LOAD GEMINI MODEL WITH MODEL CONFIGURATIONS"
      ],
      "metadata": {
        "id": "u7N1bFK2XbFP"
      }
    },
    {
      "cell_type": "code",
      "source": [
        "model = genai.GenerativeModel(\n",
        "    model_name = MODEL_ID,\n",
        "    generation_config = MODEL_CONFIG,\n",
        "    safety_settings = safety_settings\n",
        "    )"
      ],
      "metadata": {
        "id": "wSVy3cDmSFPr"
      },
      "execution_count": 59,
      "outputs": []
    },
    {
      "cell_type": "markdown",
      "source": [
        "# DEFINE IMAGE FORMAT TO INPUT IN GEMINI"
      ],
      "metadata": {
        "id": "tcTf_L8LXWfY"
      }
    },
    {
      "cell_type": "code",
      "source": [
        "from pathlib import Path\n",
        "\n",
        "def image_format(image_path):\n",
        "    img = Path(image_path)\n",
        "\n",
        "    if not img.exists():\n",
        "        raise FileNotFoundError(f\"Could not find image: {img}\")\n",
        "\n",
        "    image_parts = [\n",
        "        {\n",
        "            \"mime_type\": \"image/png\", ## Mime type are PNG - image/png. JPEG - image/jpeg. WEBP - image/webp\n",
        "            \"data\": img.read_bytes()\n",
        "        }\n",
        "    ]\n",
        "    return image_parts\n"
      ],
      "metadata": {
        "id": "Q5ltOdBxSOCJ"
      },
      "execution_count": 60,
      "outputs": []
    },
    {
      "cell_type": "markdown",
      "source": [
        "# GEMINI MODEL OUTPUT\n"
      ],
      "metadata": {
        "id": "EL1q0uCuXLKJ"
      }
    },
    {
      "cell_type": "code",
      "source": [
        "def gemini_output(image_path, system_prompt, user_prompt):\n",
        "    image_info = image_format(image_path)\n",
        "    input_prompt= [image_info[0], user_prompt]\n",
        "    response = model.generate_content(input_prompt)\n",
        "    return response.text"
      ],
      "metadata": {
        "id": "l3_b7MvaSOsV"
      },
      "execution_count": 61,
      "outputs": []
    },
    {
      "cell_type": "markdown",
      "source": [
        "# EXTRACTING PART OF THE INFORMATION FROM INVOICE"
      ],
      "metadata": {
        "id": "mTVY179aXGs3"
      }
    },
    {
      "cell_type": "code",
      "source": [
        "system_prompt = \"\"\"\n",
        "  You are a specialist in comprehending receipts.\n",
        "  Input images in the form of receipts will be provided to you,\n",
        "  and your task is to respond to questions based on the content of the input image.\n",
        "\"\"\"\n",
        "\n",
        "image_path = \"/content/Sample_Invoice1.png\"\n",
        "\n",
        "user_prompt = \"What is the balance amount in the image?\"\n",
        "\n",
        "gemini_output(image_path, system_prompt, user_prompt)"
      ],
      "metadata": {
        "colab": {
          "base_uri": "https://localhost:8080/",
          "height": 35
        },
        "id": "x4vSZClDSVkl",
        "outputId": "99f80960-ccaf-4e9d-d9da-b1c19b2abac7"
      },
      "execution_count": 62,
      "outputs": [
        {
          "output_type": "execute_result",
          "data": {
            "text/plain": [
              "'The balance amount in the image is $525.00.\\n'"
            ],
            "application/vnd.google.colaboratory.intrinsic+json": {
              "type": "string"
            }
          },
          "metadata": {},
          "execution_count": 62
        }
      ]
    },
    {
      "cell_type": "markdown",
      "source": [
        "# EXTRACTING WHOLE DATA IN JSON FROM INVOICE\n"
      ],
      "metadata": {
        "id": "wWsd-HqWW3oe"
      }
    },
    {
      "cell_type": "code",
      "source": [
        "system_prompt = \"\"\"\n",
        "  You are a specialist in comprehending receipts.\n",
        "  Input images in the form of receipts will be provided to you,\n",
        "  and your task is to respond to questions based on the content of the input image.\n",
        "\"\"\"\n",
        "image_path = \"/content/Sample_Invoice1.png\"\n",
        "user_prompt = \"\"\"\n",
        "  Convert Invoice data into json format\n",
        "  with appropriate json tags as required\n",
        "  for the data in image.\n",
        "\"\"\""
      ],
      "metadata": {
        "id": "FvpfFFHeSXGR"
      },
      "execution_count": 63,
      "outputs": []
    },
    {
      "cell_type": "code",
      "source": [
        "output = gemini_output(image_path, system_prompt, user_prompt)"
      ],
      "metadata": {
        "id": "uuF0CQOwWEuQ"
      },
      "execution_count": 64,
      "outputs": []
    },
    {
      "cell_type": "code",
      "source": [
        "from IPython.display import Markdown\n",
        "Markdown(output)"
      ],
      "metadata": {
        "colab": {
          "base_uri": "https://localhost:8080/",
          "height": 937
        },
        "id": "OHHvXPt-WFp_",
        "outputId": "28b83b68-6c88-4714-ebb1-1e9207a40c69"
      },
      "execution_count": 65,
      "outputs": [
        {
          "output_type": "execute_result",
          "data": {
            "text/plain": [
              "<IPython.core.display.Markdown object>"
            ],
            "text/markdown": "```json\n{\n  \"invoice\": {\n    \"company_name\": \"[Company Name]\",\n    \"company_address\": \"[Street Address]\",\n    \"company_city_state_zip\": \"[City, ST ZIP]\",\n    \"company_phone\": \"(000) 000-0000\",\n    \"invoice_number\": \"2034\",\n    \"date\": \"5/1/2014\",\n    \"customer_id\": \"564\",\n    \"terms\": \"Net 30 Days\",\n    \"bill_to\": {\n      \"name\": \"[Name]\",\n      \"company_name\": \"[Company Name]\",\n      \"address\": \"[Street Address]\",\n      \"city_state_zip\": \"[City, ST ZIP]\",\n      \"phone\": \"[Phone]\",\n      \"email\": \"[Email Address]\"\n    },\n    \"ship_to\": {\n      \"name\": \"[Name]\",\n      \"company_name\": \"[Company Name]\",\n      \"address\": \"[Street Address]\",\n      \"city_state_zip\": \"[City, ST ZIP]\",\n      \"phone\": \"[Phone]\"\n    },\n    \"items\": [\n      {\n        \"description\": \"Service Fee\",\n        \"quantity\": \"1\",\n        \"unit_price\": \"200.00\",\n        \"amount\": \"200.00\"\n      },\n      {\n        \"description\": \"Labor: 5 hours at $75/hr\",\n        \"quantity\": \"5\",\n        \"unit_price\": \"75.00\",\n        \"amount\": \"375.00\"\n      },\n      {\n        \"description\": \"New client discount\",\n        \"quantity\": null,\n        \"unit_price\": \"(50.00)\",\n        \"amount\": \"(50.00)\"\n      }\n    ],\n    \"total\": \"525.00\",\n    \"contact_info\": {\n      \"name\": \"[Name\",\n      \"phone\": \"Phone\",\n      \"email\": \"email@address.com]\"\n    }\n  }\n}\n```"
          },
          "metadata": {},
          "execution_count": 65
        }
      ]
    },
    {
      "cell_type": "code",
      "source": [],
      "metadata": {
        "id": "3zhvIyEehkZ7"
      },
      "execution_count": 65,
      "outputs": []
    }
  ],
  "metadata": {
    "colab": {
      "provenance": [],
      "include_colab_link": true
    },
    "kernelspec": {
      "display_name": "Python 3",
      "name": "python3"
    }
  },
  "nbformat": 4,
  "nbformat_minor": 0
}