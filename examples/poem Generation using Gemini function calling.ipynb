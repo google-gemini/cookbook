{
 "cells": [
  {
   "cell_type": "code",
   "execution_count": 12,
   "id": "d769b65f-33fa-4317-92b7-67ce45d73404",
   "metadata": {},
   "outputs": [
    {
     "name": "stdout",
     "output_type": "stream",
     "text": [
      "Welcome to the Poem Generator!\n"
     ]
    },
    {
     "name": "stdin",
     "output_type": "stream",
     "text": [
      "Enter the type of poem (e.g., sonnet, haiku, limerick, Free Verse, Ballad, Acrostic, Ode, Villanelle, Epic, Tanka, Cinquain, concrete poetry):  Acrostic\n",
      "Enter the theme of the poem (e.g., Love, Nature, Loss, Friendship, Life, Death, War, Peace, Hope, Despair, Happiness, Sorrow, Beauty, Freedom, Betrayal, Family, Courage, Time, Change, Identity, Memory, Youth, Aging, Fear, Justice, Equality, Isolation, Sacrifice, Grief, Faith, Redemption, Power, Conflict, Society, Dreams, Ambition, Hope, Truth):   Friendship\n",
      "Enter the tone of the poem (e.g., Romantic, Melancholic, Joyful, Mournful, Nostalgic, Optimistic, Pessimistic, Reflective, Angry, Calm, Confessional, Inspirational, Satirical, Playful, Dark, Spiritual, Tragic, Eerie, Philosophical, Surreal):  Inspirational\n",
      "Enter the emotion you want to evoke (e.g., Joy, Sadness, Anger, Fear, Love, Hope, Grief, Confusion, Nostalgia, Surprise, Excitement, Loneliness, Despair, Peace, Anxiety, Passion, Contentment, Envy, Empathy, Regret, Guilt, Pride, Relief, Awe, Compassion, Resentment, Sympathy, Melancholy, Euphoria, Resilience, Vulnerability, Frustration, Gratitude):  Pride\n"
     ]
    },
    {
     "name": "stdout",
     "output_type": "stream",
     "text": [
      "\n",
      "Generated Poem:\n",
      " Okay, here's an acrostic poem about Friendship, divided into stanzas, inspirational in tone, and aiming to evoke a strong emotional response, while adhering to your specifications:\n",
      "\n",
      "Faithful hearts, a bond so true,\n",
      "Radiant smiles shared between two.\n",
      "\n",
      "Inspiring dreams, together we chase,\n",
      "Encouraging words, filling every space.\n",
      "\n",
      "Nurturing souls, a gentle hand,\n",
      "Devotion shown across the land.\n",
      "\n",
      "Support unwavering, through thick and thin,\n",
      "Harmony found, where love begins.\n",
      "In moments of joy, or times of despair,\n",
      "Precious treasure, beyond compare.\n",
      "\n"
     ]
    },
    {
     "name": "stdin",
     "output_type": "stream",
     "text": [
      "\n",
      "Ask a question about the poem (or type 'exit' to stop asking questions):  where was love begins\n"
     ]
    },
    {
     "data": {
      "text/markdown": [
       "According to the poem, love begins where harmony is found.\n"
      ],
      "text/plain": [
       "<IPython.core.display.Markdown object>"
      ]
     },
     "metadata": {},
     "output_type": "display_data"
    },
    {
     "name": "stdin",
     "output_type": "stream",
     "text": [
      "\n",
      "Ask a question about the poem (or type 'exit' to stop asking questions):  exit'\n"
     ]
    },
    {
     "data": {
      "text/markdown": [
       "This query is incomplete. Please provide the question about the poem that you would like me to answer.\n"
      ],
      "text/plain": [
       "<IPython.core.display.Markdown object>"
      ]
     },
     "metadata": {},
     "output_type": "display_data"
    },
    {
     "name": "stdin",
     "output_type": "stream",
     "text": [
      "\n",
      "Ask a question about the poem (or type 'exit' to stop asking questions):  exit\n",
      "\n",
      "Do you want to generate another poem? (yes/no):  no\n"
     ]
    }
   ],
   "source": [
    "import google.generativeai as genai\n",
    "from google.api_core import retry\n",
    "from IPython.display import display, Markdown\n",
    "import re\n",
    "\n",
    "api_key = \"Your api key\"\n",
    "\n",
    "genai.configure(api_key=api_key)\n",
    "\n",
    "# Order-related functions (for managing poem generation)\n",
    "def generate_poem(poem_type, theme, tone, emotion) -> str:\n",
    "    \"\"\"Generates a poem based on the input specifications.\"\"\"\n",
    "    user_prompt = f\"\"\"\n",
    "    Write a {poem_type} that explores the theme of {theme}. \n",
    "    The poem should be divided into stanzas \n",
    "    follow the rules of the {poem_type} conditions like structure of the poem, number of lines for that poem type.\n",
    "    Maintain a {tone} tone throughout. \n",
    "    Choose words intentionally for {emotion} to evoke a strong emotional response from the reader.\n",
    "    Rules:\n",
    "    --donot generate an\n",
    "    \"\"\"\n",
    "    model_name = 'gemini-2.0-flash'\n",
    "    \n",
    "    # Initialize the model with the prompt and options\n",
    "    model = genai.GenerativeModel(model_name, system_instruction=user_prompt)\n",
    "    \n",
    "    # Start the conversation\n",
    "    convo = model.start_chat(enable_automatic_function_calling=True)\n",
    "    \n",
    "    # Request poem generation from Gemini\n",
    "    response = model.generate_content(user_prompt)\n",
    "    \n",
    "    response = response.text.replace('*', '').replace('#', '')\n",
    "    return response, convo\n",
    "\n",
    "def capture_user_inputs():\n",
    "    \"\"\"Captures user inputs for the poem generation.\"\"\"\n",
    "    print(\"Welcome to the Poem Generator!\")\n",
    "    \n",
    "    poem_type = input(\"Enter the type of poem (e.g., sonnet, haiku, limerick, Free Verse, Ballad, Acrostic, Ode, Villanelle, Epic, Tanka, Cinquain, concrete poetry): \")\n",
    "    theme = input(\"Enter the theme of the poem (e.g., Love, Nature, Loss, Friendship, Life, Death, War, Peace, Hope, Despair, Happiness, Sorrow, Beauty, Freedom, Betrayal, Family, Courage, Time, Change, Identity, Memory, Youth, Aging, Fear, Justice, Equality, Isolation, Sacrifice, Grief, Faith, Redemption, Power, Conflict, Society, Dreams, Ambition, Hope, Truth): \")\n",
    "    tone = input(\"Enter the tone of the poem (e.g., Romantic, Melancholic, Joyful, Mournful, Nostalgic, Optimistic, Pessimistic, Reflective, Angry, Calm, Confessional, Inspirational, Satirical, Playful, Dark, Spiritual, Tragic, Eerie, Philosophical, Surreal): \")\n",
    "    emotion = input(\"Enter the emotion you want to evoke (e.g., Joy, Sadness, Anger, Fear, Love, Hope, Grief, Confusion, Nostalgia, Surprise, Excitement, Loneliness, Despair, Peace, Anxiety, Passion, Contentment, Envy, Empathy, Regret, Guilt, Pride, Relief, Awe, Compassion, Resentment, Sympathy, Melancholy, Euphoria, Resilience, Vulnerability, Frustration, Gratitude): \")\n",
    "    \n",
    "    return poem_type, theme, tone, emotion\n",
    "\n",
    "# Function to send message to the model and get the response\n",
    "@retry.Retry(initial=30)\n",
    "def send_message(convo, message):\n",
    "    return convo.send_message(message)\n",
    "\n",
    "def qa_on_poem(poem, user_question, convo):\n",
    "    \"\"\"Generates an answer to a question based on the generated poem.\"\"\"\n",
    "    qa_prompt = f\"Here is a poem: {poem}\\nAnswer the following question about the poem: {user_question}\"\n",
    "    \n",
    "    model_name = 'gemini-2.0-flash'\n",
    "    model = genai.GenerativeModel(model_name, system_instruction=f\"{qa_prompt} You are a QA bot that answers questions based on the poem provided.\")\n",
    "    \n",
    "    response = model.generate_content(qa_prompt)\n",
    "    response = response.text.replace('*', '').replace('#', '')\n",
    "    \n",
    "    return response, convo\n",
    "\n",
    "# Initialize the ordering system for poem generation and QA bot\n",
    "def main():\n",
    "    # Initialize conversation with the model\n",
    "    model_name = 'gemini-2.0-flash'\n",
    "    poem_tools = [generate_poem]\n",
    "    \n",
    "    model = genai.GenerativeModel(\n",
    "        model_name, tools=poem_tools, system_instruction=\"You are a poem generator bot. Follow the user’s instructions to generate poems based on their preferences.\")\n",
    "    \n",
    "    convo = model.start_chat(enable_automatic_function_calling=True)\n",
    "\n",
    "    while True:\n",
    "        # Capture user inputs for poem generation\n",
    "        poem_type, theme, tone, emotion = capture_user_inputs()\n",
    "\n",
    "        # Generate the poem\n",
    "        poem, convo = generate_poem(poem_type, theme, tone, emotion)\n",
    "        print(\"\\nGenerated Poem:\\n\", poem)\n",
    "\n",
    "        # Allow user to ask questions about the poem\n",
    "        while True:\n",
    "            user_question = input(\"\\nAsk a question about the poem (or type 'exit' to stop asking questions): \")\n",
    "            if user_question.lower() == 'exit':\n",
    "                break\n",
    "            \n",
    "            answer, convo = qa_on_poem(poem, user_question, convo)\n",
    "            display(Markdown(answer))\n",
    "        \n",
    "        # Ask the user if they want to generate another poem\n",
    "        if input(\"\\nDo you want to generate another poem? (yes/no): \").lower() != 'yes':\n",
    "            break\n",
    "\n",
    "if __name__ == \"__main__\":\n",
    "    main()\n"
   ]
  },
  {
   "cell_type": "code",
   "execution_count": null,
   "id": "d4df6877-c1de-403a-9b24-1ad7e6784095",
   "metadata": {},
   "outputs": [],
   "source": []
  }
 ],
 "metadata": {
  "kernelspec": {
   "display_name": "Python 3 (ipykernel)",
   "language": "python",
   "name": "python3"
  },
  "language_info": {
   "codemirror_mode": {
    "name": "ipython",
    "version": 3
   },
   "file_extension": ".py",
   "mimetype": "text/x-python",
   "name": "python",
   "nbconvert_exporter": "python",
   "pygments_lexer": "ipython3",
   "version": "3.12.8"
  }
 },
 "nbformat": 4,
 "nbformat_minor": 5
}
