{
  "cells": [
    {
      "cell_type": "markdown",
      "metadata": {
        "id": "gy3KpnNx_Jl4"
      },
      "source": [
        "##### Copyright 2025 Google LLC."
      ]
    },
    {
      "cell_type": "code",
      "execution_count": 1,
      "metadata": {
        "id": "fKqk8LWo_TCU"
      },
      "outputs": [],
      "source": [
        "# @title Licensed under the Apache License, Version 2.0 (the \"License\");\n",
        "# you may not use this file except in compliance with the License.\n",
        "# You may obtain a copy of the License at\n",
        "#\n",
        "# https://www.apache.org/licenses/LICENSE-2.0\n",
        "#\n",
        "# Unless required by applicable law or agreed to in writing, software\n",
        "# distributed under the License is distributed on an \"AS IS\" BASIS,\n",
        "# WITHOUT WARRANTIES OR CONDITIONS OF ANY KIND, either express or implied.\n",
        "# See the License for the specific language governing permissions and\n",
        "# limitations under the License."
      ]
    },
    {
      "cell_type": "markdown",
      "metadata": {
        "id": "sP8PQnz1QrcF"
      },
      "source": [
        "# Gemini API: Providing base cases"
      ]
    },
    {
      "cell_type": "markdown",
      "metadata": {
        "id": "bxGr_x3MRA0z"
      },
      "source": [
        "<a target=\"_blank\" href=\"https://colab.research.google.com/github/google-gemini/cookbook/blob/main/examples/prompting/Providing_base_cases.ipynb\"><img src=\"https://colab.research.google.com/assets/colab-badge.svg\" height=30/></a>"
      ]
    },
    {
      "cell_type": "markdown",
      "metadata": {
        "id": "ysy--KfNRrCq"
      },
      "source": [
        "LLMs require specific instructions to provide the expected results. Because of this, it is vital to ensure that the model knows how it should behave when it lacks information or when it should not answer a given query and provide a default response instead."
      ]
    },
    {
      "cell_type": "code",
      "execution_count": 2,
      "metadata": {
        "id": "Ne-3gnXqR0hI"
      },
      "outputs": [],
      "source": [
        "%pip install -qU \"google-genai>=1.0.0\""
      ]
    },
    {
      "cell_type": "code",
      "execution_count": 3,
      "metadata": {
        "id": "EconMHePQHGw"
      },
      "outputs": [],
      "source": [
        "from google import genai"
      ]
    },
    {
      "cell_type": "markdown",
      "metadata": {
        "id": "eomJzCa6lb90"
      },
      "source": [
        "## Configure your API key\n",
        "\n",
        "To run the following cell, your API key must be stored it in a Colab Secret named `GOOGLE_API_KEY`. If you don't already have an API key, or you're not sure how to create a Colab Secret, see [Authentication](https://github.com/google-gemini/cookbook/blob/main/quickstarts/Authentication.ipynb) for an example."
      ]
    },
    {
      "cell_type": "code",
      "execution_count": 4,
      "metadata": {
        "id": "v-JZzORUpVR2"
      },
      "outputs": [],
      "source": [
        "from google.colab import userdata\n",
        "GOOGLE_API_KEY=userdata.get('GOOGLE_API_KEY')\n",
        "\n",
        "client = genai.Client(api_key=GOOGLE_API_KEY)"
      ]
    },
    {
      "cell_type": "markdown",
      "metadata": {
        "id": "FMne_rcZmz1X"
      },
      "source": [
        "## Examples"
      ]
    },
    {
      "cell_type": "markdown",
      "metadata": {
        "id": "0pZ-S0f8_mbQ"
      },
      "source": [
        "Let's go ahead and define the model, as well as give the model a template for how it should answer the question."
      ]
    },
    {
      "cell_type": "code",
      "execution_count": 5,
      "metadata": {
        "id": "O_q8ak-BU9kJ"
      },
      "outputs": [],
      "source": [
        "instructions = \"\"\"\n",
        "You are an assistant that helps tourists around the world to plan their vacation. Your responsibilities are:\n",
        "1. Helping book the hotel.\n",
        "2. Recommending restaurants.\n",
        "3. Warning about potential dangers.\n",
        "\n",
        "If other request is asked return \"I cannot help with this request.\"\n",
        "\"\"\""
      ]
    },
    {
      "cell_type": "code",
      "execution_count": 6,
      "metadata": {
        "id": "1k6LyJQYm1KM"
      },
      "outputs": [],
      "source": [
        "from google.genai import types\n",
        "\n",
        "MODEL_ID = \"gemini-2.0-flash\"\n",
        "\n",
        "on_topic_response = client.models.generate_content(\n",
        "    model=MODEL_ID,\n",
        "    contents=\"What should I look out for when I'm going to the beaches in San Diego?\",\n",
        "    config=types.GenerateContentConfig(\n",
        "        system_instruction=instructions\n",
        "    )\n",
        ")\n",
        "\n",
        "off_topic_response = client.models.generate_content(\n",
        "    model=MODEL_ID,\n",
        "    contents=\"What bowling places do you recommend in Moscow?\",\n",
        "    config=types.GenerateContentConfig(\n",
        "        system_instruction=instructions\n",
        "    )\n",
        ")"
      ]
    },
    {
      "cell_type": "code",
      "source": [
        "print(\"ON TOPIC:\", on_topic_response.text)\n",
        "print(\"OFF TOPIC:\", off_topic_response.text)"
      ],
      "metadata": {
        "id": "HBsqP9-x47Sh",
        "outputId": "6659d5b5-366e-40d8-a4ca-4bf941954442",
        "colab": {
          "base_uri": "https://localhost:8080/"
        }
      },
      "execution_count": 7,
      "outputs": [
        {
          "output_type": "stream",
          "name": "stdout",
          "text": [
            "ON TOPIC: When visiting the beaches in San Diego, here are some things to keep an eye on for your safety and enjoyment:\n",
            "\n",
            "*   **Strong Rip Currents:** San Diego beaches, like many coastal areas, can have strong rip currents. These currents can quickly pull you away from the shore.\n",
            "    *   **How to spot them:** Look for channels of churning, choppy water, a line of foam or seaweed moving seaward, or a difference in water color.\n",
            "    *   **What to do if caught in one:** Don't panic. Swim parallel to the shore until you're out of the current, then swim back to the beach at an angle. If you can't escape, float or tread water and signal for help.\n",
            "\n",
            "*   **Sun Exposure:** San Diego's sun can be intense, even on cloudy days.\n",
            "    *   **Protection:** Wear sunscreen with a high SPF (30 or higher), reapply frequently (especially after swimming), wear a hat and sunglasses, and seek shade during the hottest part of the day (10 AM - 4 PM).\n",
            "\n",
            "*   **Dehydration:** Spending time in the sun and swimming can lead to dehydration.\n",
            "    *   **Stay hydrated:** Drink plenty of water throughout the day.\n",
            "\n",
            "*   **Marine Life:** While generally safe, be aware of the marine life in the area.\n",
            "    *   **Jellyfish:** Stings are possible. If stung, rinse the area with vinegar (if available) or seawater, and remove any tentacles. Seek medical attention if the reaction is severe.\n",
            "    *   **Stingrays:** Shuffle your feet when entering the water to avoid stepping on a stingray. If stung, soak the affected area in hot (but not scalding) water and seek medical attention.\n",
            "    *   **Seals and Sea Lions:** These animals are common on San Diego beaches, especially around La Jolla. Admire them from a distance and do not approach, touch, or feed them. They are wild animals and can bite.\n",
            "\n",
            "*   **Tides:** Be aware of the tide schedule, especially if you plan on exploring tide pools.\n",
            "    *   **High Tide:** Can cut off access to certain areas or make beaches much smaller.\n",
            "    *   **Low Tide:** Provides opportunities for tide pooling but be mindful of the incoming tide.\n",
            "\n",
            "*   **Sharp Objects:** Be careful of broken glass or sharp shells in the sand. Wearing sandals or water shoes can help.\n",
            "\n",
            "*   **Theft:** Unfortunately, theft can occur on beaches. Don't leave valuables unattended.\n",
            "\n",
            "*   **Water Quality:** Check local water quality reports for any advisories before swimming.\n",
            "\n",
            "*   **Beach Regulations:** Be aware of any beach regulations regarding alcohol consumption, dogs, fires, or other activities.\n",
            "\n",
            "By being aware of these potential hazards and taking the necessary precautions, you can have a safe and enjoyable time at the beaches in San Diego.\n",
            "\n",
            "OFF TOPIC: I cannot help with this request.\n",
            "\n"
          ]
        }
      ]
    },
    {
      "cell_type": "markdown",
      "metadata": {
        "id": "BPUkURgrYgBr"
      },
      "source": [
        "Let's try another template."
      ]
    },
    {
      "cell_type": "code",
      "execution_count": 8,
      "metadata": {
        "id": "oz-kWAKQYiGi"
      },
      "outputs": [],
      "source": [
        "instructions = \"\"\"\n",
        "You are an assistant at a library. Your task is to recommend books to people, if they do not tell you the genre assume Horror.\n",
        "\"\"\""
      ]
    },
    {
      "cell_type": "code",
      "source": [
        "print(\"## Specified genre:\", client.models.generate_content(model=MODEL_ID, contents=\"Could you recommend me 3 books with hard magic system?\", config=types.GenerateContentConfig(system_instruction=instructions)).text, sep=\"\\n\")\n",
        "print(\"## Not specified genre:\", client.models.generate_content(model=MODEL_ID, contents=\"Could you recommend me 2 books?\", config=types.GenerateContentConfig(system_instruction=instructions)).text, sep=\"\\n\")"
      ],
      "metadata": {
        "id": "dWwzgvWrCWPn",
        "outputId": "8ea3b76c-ec43-469c-8931-734050b71f57",
        "colab": {
          "base_uri": "https://localhost:8080/"
        }
      },
      "execution_count": 9,
      "outputs": [
        {
          "output_type": "stream",
          "name": "stdout",
          "text": [
            "## Specified genre:\n",
            "Okay, I can definitely recommend three books with hard magic systems! To make sure these are a good fit for you, could you tell me what kind of genres you generally enjoy? This will help me tailor the recommendations a bit better.\n",
            "\n",
            "However, if you are interested in **horror** I can recommend these:\n",
            "\n",
            "1.  ***\"The Library at Mount Char\" by Scott Hawkins:*** This one features a group of people raised by their \"father,\" who teaches them each a specialized and incredibly powerful skill. The rules and limits of these skills are fairly well-defined, making it a hard magic system within a dark and often disturbing context.\n",
            "\n",
            "2.  ***\"The Magicians\" by Lev Grossman:***  While not strictly horror, it draws heavily on darker fantasy themes and deals with the potentially terrifying consequences of magic. The magic system is explored in detail, with a clear understanding of how it works and the effort required to master it.\n",
            "\n",
            "3.  ***\"Johannes Cabal the Necromancer\" by Jonathan L. Howard:***  This is a darkly humorous take on necromancy. Cabal is a brilliant but amoral scientist who treats necromancy with a scientific rigor, making the rules of his magic clear and consistent. It has elements of horror and dark fantasy.\n",
            "\n",
            "If you would like me to find books of another genre just tell me.\n",
            "\n",
            "## Not specified genre:\n",
            "Okay, I can definitely recommend two horror books for you! To give you the best recommendations, could you tell me if you have any preferences? For example:\n",
            "\n",
            "*   **Do you prefer classic horror, or something more modern?**\n",
            "*   **Are you looking for something particularly scary/gory, or more suspenseful/psychological?**\n",
            "*   **Are there any specific themes or settings you enjoy (e.g., haunted houses, supernatural creatures, psychological thrillers, gothic horror)?**\n",
            "\n",
            "In the meantime, here are two popular and well-regarded horror books that might pique your interest:\n",
            "\n",
            "1.  **\"The Haunting of Hill House\" by Shirley Jackson:** This is a classic of psychological horror. It tells the story of a group of people invited to stay at a house with a reputation for being haunted. It's less about jump scares and more about creating a deeply unsettling atmosphere and exploring the characters' minds.\n",
            "\n",
            "2.  **\"Bird Box\" by Josh Malerman:** A more modern horror novel, \"Bird Box\" is a suspenseful and gripping story about a world where looking at mysterious entities drives people insane. The protagonist and her children must navigate a post-apocalyptic landscape blindfolded.\n",
            "\n",
            "Let me know if these sound interesting, or if you have any specific preferences, and I can tailor my recommendations further!\n",
            "\n"
          ]
        }
      ]
    },
    {
      "cell_type": "markdown",
      "metadata": {
        "id": "8mzHkChy_5Ec"
      },
      "source": [
        "## Next steps\n",
        "\n",
        "Be sure to explore other examples of prompting in the repository. Try writing prompts about classifying your own data, or try some of the other prompting techniques such as few-shot prompting."
      ]
    }
  ],
  "metadata": {
    "colab": {
      "name": "Providing_base_cases.ipynb",
      "provenance": []
    },
    "kernelspec": {
      "display_name": "Python 3",
      "name": "python3"
    }
  },
  "nbformat": 4,
  "nbformat_minor": 0
}