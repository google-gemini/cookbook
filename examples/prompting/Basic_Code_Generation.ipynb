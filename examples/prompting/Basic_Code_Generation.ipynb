{
  "cells": [
    {
      "cell_type": "markdown",
      "metadata": {
        "id": "LweKUTqZUn4z"
      },
      "source": [
        "##### Copyright 2024 Google LLC."
      ]
    },
    {
      "cell_type": "code",
      "execution_count": 1,
      "metadata": {
        "cellView": "form",
        "id": "vQoUR__bUlfj"
      },
      "outputs": [],
      "source": [
        "# @title Licensed under the Apache License, Version 2.0 (the \"License\");\n",
        "# you may not use this file except in compliance with the License.\n",
        "# You may obtain a copy of the License at\n",
        "#\n",
        "# https://www.apache.org/licenses/LICENSE-2.0\n",
        "#\n",
        "# Unless required by applicable law or agreed to in writing, software\n",
        "# distributed under the License is distributed on an \"AS IS\" BASIS,\n",
        "# WITHOUT WARRANTIES OR CONDITIONS OF ANY KIND, either express or implied.\n",
        "# See the License for the specific language governing permissions and\n",
        "# limitations under the License."
      ]
    },
    {
      "cell_type": "markdown",
      "metadata": {
        "id": "sP8PQnz1QrcF"
      },
      "source": [
        "# Gemini API: Basic code generation\n",
        "\n",
        "This notebook demonstrates how to use prompting to perform basic code generation using the Gemini API's Python SDK. Two use cases are explored: error handling and code generation."
      ]
    },
    {
      "cell_type": "markdown",
      "metadata": {
        "id": "bxGr_x3MRA0z"
      },
      "source": [
        "<table class=\"tfo-notebook-buttons\" align=\"left\">\n",
        "  <td>\n",
        "    <a target=\"_blank\" href=\"https://colab.research.google.com/github/google-gemini/cookbook/blob/main/examples/prompting/Basic_Code_Generation.ipynb\"><img src = \"../../images/colab_logo_32px.png\"/>Run in Google Colab</a>\n",
        "  </td>\n",
        "</table>"
      ]
    },
    {
      "cell_type": "markdown",
      "metadata": {
        "id": "ysy--KfNRrCq"
      },
      "source": [
        "The Gemini API can be a great tool to save you time during the development process. Tasks such as code generation, debugging, or optimization can be done with the assistance of the Gemini model."
      ]
    },
    {
      "cell_type": "code",
      "execution_count": 2,
      "metadata": {
        "id": "Ne-3gnXqR0hI",
        "outputId": "ac8606da-32eb-4f90-93da-3c7a753408a9",
        "colab": {
          "base_uri": "https://localhost:8080/"
        }
      },
      "outputs": [
        {
          "output_type": "stream",
          "name": "stdout",
          "text": [
            "\u001b[?25l   \u001b[90m━━━━━━━━━━━━━━━━━━━━━━━━━━━━━━━━━━━━━━━━\u001b[0m \u001b[32m0.0/144.7 kB\u001b[0m \u001b[31m?\u001b[0m eta \u001b[36m-:--:--\u001b[0m\r\u001b[2K   \u001b[91m━━━━━━━━━━━━━━━━━━━━━━━━━━━━━━━━━━━━━━━\u001b[0m\u001b[91m╸\u001b[0m \u001b[32m143.4/144.7 kB\u001b[0m \u001b[31m7.0 MB/s\u001b[0m eta \u001b[36m0:00:01\u001b[0m\r\u001b[2K   \u001b[90m━━━━━━━━━━━━━━━━━━━━━━━━━━━━━━━━━━━━━━━━\u001b[0m \u001b[32m144.7/144.7 kB\u001b[0m \u001b[31m2.0 MB/s\u001b[0m eta \u001b[36m0:00:00\u001b[0m\n",
            "\u001b[?25h"
          ]
        }
      ],
      "source": [
        "%pip install -U -q \"google-genai>=1.0.0\""
      ]
    },
    {
      "cell_type": "markdown",
      "metadata": {
        "id": "eomJzCa6lb90"
      },
      "source": [
        "## Configure your API key\n",
        "\n",
        "To run the following cell, your API key must be stored it in a Colab Secret named `GOOGLE_API_KEY`. If you don't already have an API key, or you're not sure how to create a Colab Secret, see [Authentication](https://github.com/google-gemini/cookbook/blob/main/quickstarts/Authentication.ipynb) for an example."
      ]
    },
    {
      "cell_type": "code",
      "execution_count": 3,
      "metadata": {
        "id": "v-JZzORUpVR2"
      },
      "outputs": [],
      "source": [
        "from google import genai\n",
        "from google.colab import userdata\n",
        "\n",
        "GOOGLE_API_KEY=userdata.get('GOOGLE_API_KEY')\n",
        "client = genai.Client(api_key=GOOGLE_API_KEY)"
      ]
    },
    {
      "cell_type": "markdown",
      "metadata": {
        "id": "yQnqEPjephXi"
      },
      "source": [
        "## Examples"
      ]
    },
    {
      "cell_type": "markdown",
      "metadata": {
        "id": "bR-OOcC6pIm5"
      },
      "source": [
        "### Error handling"
      ]
    },
    {
      "cell_type": "code",
      "execution_count": 4,
      "metadata": {
        "id": "kVF8ZQ38Vs1P"
      },
      "outputs": [],
      "source": [
        "from google.genai import types\n",
        "\n",
        "error_handling_system_prompt =f\"\"\"\n",
        "  Your task is to explain exactly why this error occurred and how to fix it.\n",
        "\"\"\"\n",
        "\n",
        "error_handling_model_config = types.GenerateContentConfig(\n",
        "    temperature=0,\n",
        "    system_instruction=error_handling_system_prompt\n",
        ")"
      ]
    },
    {
      "cell_type": "code",
      "execution_count": 5,
      "metadata": {
        "id": "CHTdAVE0pIFf",
        "outputId": "3543233d-9f3a-484d-9807-87f3d674c865",
        "colab": {
          "base_uri": "https://localhost:8080/",
          "height": 1000
        }
      },
      "outputs": [
        {
          "output_type": "execute_result",
          "data": {
            "text/plain": [
              "<IPython.core.display.Markdown object>"
            ],
            "text/markdown": "Okay, let's break down this error and how to resolve it.\n\n**Understanding the Error: `IndexError: list index out of range`**\n\nThis error, `IndexError: list index out of range`, is a very common one in Python (and other programming languages). It means you're trying to access an element in a list (or other sequence-like object) using an index that is *outside* the valid range of indices for that list.\n\n*   **Lists are Zero-Indexed:**  In Python, list indices start at 0.  So, the first element of a list is at index 0, the second at index 1, the third at index 2, and so on.\n\n*   **Valid Index Range:** For a list of length `n`, the valid indices are from `0` to `n-1`.\n\n**Why the Error Occurred in Your Code**\n\nIn your code:\n\n```python\nmy_list = [1, 2, 3]\nprint(my_list[3])\n```\n\n1.  `my_list` is created with three elements: `1`, `2`, and `3`.\n2.  The length of `my_list` is 3.\n3.  Therefore, the valid indices for `my_list` are 0, 1, and 2.\n4.  You're trying to access `my_list[3]`.  Since 3 is *not* a valid index (it's one beyond the end of the list), Python raises the `IndexError`.\n\n**How to Fix the Error**\n\nTo fix the error, you need to make sure you're only accessing elements within the valid index range of the list.  Here are the most common solutions, depending on what you're trying to achieve:\n\n1.  **Access a Valid Element:** If you intended to access the *last* element of the list, you should use index 2:\n\n    ```python\n    my_list = [1, 2, 3]\n    print(my_list[2])  # Output: 3\n    ```\n\n2.  **Use the Length of the List:**  You can dynamically get the last element using `len(my_list) - 1`:\n\n    ```python\n    my_list = [1, 2, 3]\n    print(my_list[len(my_list) - 1])  # Output: 3\n    ```\n    This is useful if you don't know the list's length in advance.\n\n3.  **Negative Indexing:** Python supports negative indexing, where `my_list[-1]` refers to the last element, `my_list[-2]` refers to the second-to-last element, and so on.  This is a concise way to access elements from the end of the list:\n\n    ```python\n    my_list = [1, 2, 3]\n    print(my_list[-1])  # Output: 3\n    ```\n\n4.  **Iterate Through the List:** If you want to process *all* elements of the list, use a loop:\n\n    ```python\n    my_list = [1, 2, 3]\n    for item in my_list:\n        print(item)\n    ```\n\n    Or, if you need the index as well:\n\n    ```python\n    my_list = [1, 2, 3]\n    for index, item in enumerate(my_list):\n        print(f\"Index: {index}, Value: {item}\")\n    ```\n\n5.  **Check the List Length Before Accessing:** If you're getting the index from user input or some other dynamic source, you should validate that the index is within the valid range *before* trying to access the list:\n\n    ```python\n    my_list = [1, 2, 3]\n    index = int(input(\"Enter an index: \"))  # Get index from user\n\n    if 0 <= index < len(my_list):\n        print(my_list[index])\n    else:\n        print(\"Invalid index!\")\n    ```\n\n**In Summary**\n\nThe `IndexError: list index out of range` error is a signal that you're trying to access a list element that doesn't exist.  Double-check your indices, make sure they're within the valid range (0 to `len(list) - 1`), and use appropriate looping or conditional checks to prevent the error.  Understanding zero-based indexing is key to avoiding this problem.\n"
          },
          "metadata": {},
          "execution_count": 5
        }
      ],
      "source": [
        "from IPython.display import Markdown\n",
        "\n",
        "error_message = \"\"\"\n",
        "    1 my_list = [1,2,3]\n",
        "  ----> 2 print(my_list[3])\n",
        "\n",
        "  IndexError: list index out of range\n",
        "\"\"\"\n",
        "\n",
        "error_prompt = f\"\"\"\n",
        "  You've encountered the following error message:\n",
        "  Error Message: {error_message}\n",
        "\"\"\"\n",
        "\n",
        "response = client.models.generate_content(\n",
        "    model='gemini-2.0-flash',\n",
        "    contents=error_prompt,\n",
        "    config=error_handling_model_config\n",
        ")\n",
        "\n",
        "Markdown(response.text)"
      ]
    },
    {
      "cell_type": "markdown",
      "metadata": {
        "id": "kTDi8WyDqQRf"
      },
      "source": [
        "### Code generation"
      ]
    },
    {
      "cell_type": "code",
      "execution_count": 6,
      "metadata": {
        "id": "1T1QSzjVVvE_"
      },
      "outputs": [],
      "source": [
        "code_generation_system_prompt = f\"\"\"\n",
        "  You are a coding assistant. Your task is to generate a code snippet that\n",
        "  accomplishes a specific goal. The code snippet must be concise, efficient,\n",
        "  and well-commented for clarity. Consider any constraints or requirements\n",
        "  provided for the task.\n",
        "\n",
        "  If the task does not specify a programming language, default to Python.\n",
        "\"\"\"\n",
        "\n",
        "code_generation_model_config = types.GenerateContentConfig(\n",
        "    temperature= 0,\n",
        "    system_instruction=code_generation_system_prompt\n",
        "  )"
      ]
    },
    {
      "cell_type": "code",
      "execution_count": 7,
      "metadata": {
        "id": "8KVpzExDqRj2",
        "outputId": "d6806dac-6d7e-4299-d5ea-dd6cf70a3615",
        "colab": {
          "base_uri": "https://localhost:8080/",
          "height": 312
        }
      },
      "outputs": [
        {
          "output_type": "execute_result",
          "data": {
            "text/plain": [
              "<IPython.core.display.Markdown object>"
            ],
            "text/markdown": "```python\nimport time\n\ndef countdown(seconds):\n  \"\"\"\n  Counts down from a specified number of seconds, printing the remaining time each second.\n  After the countdown reaches zero, it prints \"Time is up!\".\n\n  Args:\n    seconds: The number of seconds to count down from.\n  \"\"\"\n  for i in range(seconds, 0, -1):\n    print(f\"{i} seconds remaining\")\n    time.sleep(1)  # Pause for 1 second\n  print(\"Time is up!\")\n\n# Example usage: Countdown from 20 seconds\ncountdown(20)\n```"
          },
          "metadata": {},
          "execution_count": 7
        }
      ],
      "source": [
        "code_generation_prompt = 'Create a countdown timer that ticks down every second and prints \"Time is up!\" after 20 seconds'\n",
        "\n",
        "response = client.models.generate_content(\n",
        "    model='gemini-2.0-flash',\n",
        "    contents=code_generation_prompt,\n",
        "    config=code_generation_model_config\n",
        ")\n",
        "Markdown(response.text)"
      ]
    },
    {
      "cell_type": "markdown",
      "metadata": {
        "id": "Z7X6pSdOMyvS"
      },
      "source": [
        "Let's check if generated code works."
      ]
    },
    {
      "cell_type": "code",
      "execution_count": 8,
      "metadata": {
        "id": "lOU_abTPSmZu",
        "outputId": "760e67e9-f9a5-4ff6-c42a-46ceec17a757",
        "colab": {
          "base_uri": "https://localhost:8080/"
        }
      },
      "outputs": [
        {
          "output_type": "stream",
          "name": "stdout",
          "text": [
            "20 seconds remaining\n",
            "19 seconds remaining\n",
            "18 seconds remaining\n",
            "17 seconds remaining\n",
            "16 seconds remaining\n",
            "15 seconds remaining\n",
            "14 seconds remaining\n",
            "13 seconds remaining\n",
            "12 seconds remaining\n",
            "11 seconds remaining\n",
            "10 seconds remaining\n",
            "9 seconds remaining\n",
            "8 seconds remaining\n",
            "7 seconds remaining\n",
            "6 seconds remaining\n",
            "5 seconds remaining\n",
            "4 seconds remaining\n",
            "3 seconds remaining\n",
            "2 seconds remaining\n",
            "1 seconds remaining\n",
            "Time is up!\n"
          ]
        }
      ],
      "source": [
        "import time\n",
        "\n",
        "def countdown(seconds):\n",
        "  \"\"\"\n",
        "  Counts down from a specified number of seconds, printing the remaining time each second.\n",
        "  After the countdown reaches zero, it prints \"Time is up!\".\n",
        "\n",
        "  Args:\n",
        "    seconds: The number of seconds to count down from.\n",
        "  \"\"\"\n",
        "  for i in range(seconds, 0, -1):\n",
        "    print(f\"{i} seconds remaining\")\n",
        "    time.sleep(1)  # Pause for 1 second\n",
        "  print(\"Time is up!\")\n",
        "\n",
        "# Example usage: Countdown from 20 seconds\n",
        "countdown(20)"
      ]
    },
    {
      "cell_type": "markdown",
      "metadata": {
        "id": "AiGF8I290YzL"
      },
      "source": [
        "## Next steps\n",
        "\n",
        "Be sure to explore other examples of prompting in the repository. Try writing prompts around your own code as well using the examples in this notebook."
      ]
    }
  ],
  "metadata": {
    "colab": {
      "name": "Basic_Code_Generation.ipynb",
      "provenance": []
    },
    "kernelspec": {
      "display_name": "Python 3",
      "name": "python3"
    }
  },
  "nbformat": 4,
  "nbformat_minor": 0
}