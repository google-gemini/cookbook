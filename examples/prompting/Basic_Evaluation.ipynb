{
  "cells": [
    {
      "cell_type": "markdown",
      "metadata": {
        "id": "X0doHtrEl66V"
      },
      "source": [
        "##### Copyright 2025 Google LLC."
      ]
    },
    {
      "cell_type": "code",
      "execution_count": null,
      "metadata": {
        "cellView": "form",
        "id": "2K6KP3hUl7_l"
      },
      "outputs": [],
      "source": [
        "# @title Licensed under the Apache License, Version 2.0 (the \"License\");\n",
        "# you may not use this file except in compliance with the License.\n",
        "# You may obtain a copy of the License at\n",
        "#\n",
        "# https://www.apache.org/licenses/LICENSE-2.0\n",
        "#\n",
        "# Unless required by applicable law or agreed to in writing, software\n",
        "# distributed under the License is distributed on an \"AS IS\" BASIS,\n",
        "# WITHOUT WARRANTIES OR CONDITIONS OF ANY KIND, either express or implied.\n",
        "# See the License for the specific language governing permissions and\n",
        "# limitations under the License."
      ]
    },
    {
      "cell_type": "markdown",
      "metadata": {
        "id": "sP8PQnz1QrcF"
      },
      "source": [
        "# Gemini API: Basic evaluation"
      ]
    },
    {
      "cell_type": "markdown",
      "metadata": {
        "id": "bxGr_x3MRA0z"
      },
      "source": [
        "<a target=\"_blank\" href=\"https://colab.research.google.com/github/google-gemini/cookbook/blob/main/examples/prompting/Basic_Evaluation.ipynb\"><img src=\"https://colab.research.google.com/assets/colab-badge.svg\" height=30/>"
      ]
    },
    {
      "cell_type": "markdown",
      "metadata": {
        "id": "ysy--KfNRrCq"
      },
      "source": [
        "Gemini API's Python SDK can be used for various forms of evaluation, including:\n",
        "- Providing feedback based on selected criteria\n",
        "- Comparing multiple texts\n",
        "- Assigning grades or confidence scores\n",
        "- Identifying weak areas\n",
        "\n",
        "Below is an example of using the LLM to enhance text quality through feedback and grading."
      ]
    },
    {
      "cell_type": "code",
      "execution_count": 1,
      "metadata": {
        "id": "Ne-3gnXqR0hI"
      },
      "outputs": [],
      "source": [
        "%pip install -U -q \"google-genai>=1.0.0\""
      ]
    },
    {
      "cell_type": "markdown",
      "metadata": {
        "id": "eomJzCa6lb90"
      },
      "source": [
        "## Configure your API key\n",
        "\n",
        "To run the following cell, your API key must be stored it in a Colab Secret named `GOOGLE_API_KEY`. If you don't already have an API key, or you're not sure how to create a Colab Secret, see [Authentication](https://github.com/google-gemini/cookbook/blob/main/quickstarts/Authentication.ipynb) for an example."
      ]
    },
    {
      "cell_type": "code",
      "execution_count": 2,
      "metadata": {
        "id": "v-JZzORUpVR2"
      },
      "outputs": [],
      "source": [
        "from google import genai\n",
        "from google.colab import userdata\n",
        "\n",
        "GOOGLE_API_KEY=userdata.get('GOOGLE_API_KEY')\n",
        "client = genai.Client(api_key=GOOGLE_API_KEY)"
      ]
    },
    {
      "cell_type": "markdown",
      "metadata": {
        "id": "L-Wt23A_uzFZ"
      },
      "source": [
        "## Example\n",
        "\n",
        "Start by defining some system instructions for this problem. For demonstration purposes, the use case involves prompting the model to write an essay with some mistakes. Remember that for generation tasks like writing an essay, you can change the temperature of the model to get more creative answers. Here, you can use `\"temperature\": 0` for predictability."
      ]
    },
    {
      "cell_type": "code",
      "execution_count": 3,
      "metadata": {
        "id": "zNw1Hele0Bne"
      },
      "outputs": [
        {
          "data": {
            "text/markdown": "Reading: It's Like, Really Good For You\n\nOkay, so like, everyone always says reading is good for you, right? And I guess they're not totally wrong. My thesis is that reading is beneficial because it makes you sound smarter, helps you learn new words, and, like, keeps you from being bored.\n\nFirst of all, reading makes you sound way more intelligent. I mean, think about it. If you read a lot of books, you'll just naturally start using bigger words and more complicated sentences. Like, instead of saying \"that's bad,\" you could say \"that is a deleterious outcome.\" See? Way smarter sounding. Plus, people will think you're, like, a genius or something, which is always a good thing. My mom always says I should read more so I can get a better job, and I think this is what she means.\n\nSecondly, reading is a great way to learn new vocabulary. I mean, duh. Every time you read a book, you're exposed to all sorts of new words that you've never heard before. And then, like, you can just look them up in the dictionary and boom! You know what they mean. This is especially helpful for writing essays, because you can use all those new words to make your writing sound more sophisticated. I once read a book about, like, quantum physics, and now I know all sorts of crazy words that I can use to impress my friends.\n\nFinally, reading is a great way to avoid boredom. I mean, what else are you going to do when you're stuck on a long car ride or waiting for the bus? Stare at your phone? That's so boring. But if you have a book, you can just escape into another world and forget all about your problems. Plus, reading is way more productive than watching TV or playing video games. My brother plays video games all day, and he's, like, totally wasting his life.\n\nIn conclusion, reading is super beneficial for a variety of reasons. It makes you sound smarter, helps you learn new words, and keeps you from being bored. So, like, go read a book already! You'll be glad you did. It's a win-win situation, really. And, like, it's way better than doing homework.\n",
            "text/plain": [
              "<IPython.core.display.Markdown object>"
            ]
          },
          "execution_count": 3,
          "metadata": {},
          "output_type": "execute_result"
        }
      ],
      "source": [
        "from IPython.display import Markdown\n",
        "from google.genai import types\n",
        "student_system_prompt = \"\"\"\n",
        "  You're a college student. Your job is to write an essay riddled with\n",
        "  common mistakes and a few major ones. The essay should have mistakes\n",
        "  regarding clarity, grammar, argumentation, and vocabulary. Ensure your\n",
        "  essay includes a clear thesis statement. You should write only an essay,\n",
        "  so do not include any notes.\n",
        "\"\"\"\n",
        "\n",
        "MODEL_ID = \"gemini-2.0-flash\" # @param [\"gemini-2.0-flash-lite\",\"gemini-2.0-flash\",\"gemini-2.5-pro-exp-03-25\"] {\"allow-input\":true, isTemplate: true}\n",
        "\n",
        "essay = client.models.generate_content(\n",
        "    model=MODEL_ID,\n",
        "    contents=\"Write an essay about benefits of reading.\",\n",
        "    config=types.GenerateContentConfig(\n",
        "        temperature=0,\n",
        "        system_instruction=student_system_prompt\n",
        "    )\n",
        ").text\n",
        "\n",
        "Markdown(essay)"
      ]
    },
    {
      "cell_type": "code",
      "execution_count": 6,
      "metadata": {
        "id": "mzp8ZFXf0-OT"
      },
      "outputs": [
        {
          "data": {
            "text/markdown": "Okay, here's a breakdown of the essay and a revised version:\n\n**Evaluation:**\n\n*   **Thesis Statement (2/5):** The thesis is present but simplistic and lacks sophistication. While it identifies three benefits, it could be more specific and engaging.\n*   **Clarity and Precision of Language (2/5):** The language is very informal and conversational (\"like,\" \"duh,\" \"way\"). This undermines the essay's credibility. The examples are simplistic.\n*   **Grammar and Punctuation (3/5):** Generally correct, but the overuse of \"like\" and informal phrasing detracts from the overall quality.\n*   **Argumentation (2/5):** The arguments are weak and rely on generalizations. There's a lack of evidence or deeper analysis to support the claims. The connection between reading and sounding smarter is superficial.\n\n**Corrected Essay:**\n\nReading: An Investment in Intellectual Growth\n\nThe pervasive notion that reading is beneficial holds considerable merit. Reading fosters intellectual growth by enhancing communication skills, expanding vocabulary, and providing an engaging alternative to passive entertainment.\n\nFirstly, engaging with literature cultivates more effective communication skills. Exposure to diverse writing styles and complex sentence structures refines one's ability to articulate ideas with clarity and precision. For instance, familiarity with sophisticated texts enables one to move beyond simplistic phrasing, replacing a vague statement like \"that's bad\" with a more nuanced expression such as \"that outcome presents significant challenges.\" This enhanced command of language not only facilitates clearer communication but also projects an image of competence and intellectual acuity.\n\nSecondly, reading serves as a powerful tool for vocabulary acquisition. Encountering unfamiliar words within context encourages active learning and vocabulary expansion. By consulting dictionaries or online resources to decipher the meaning of new terms, readers gradually integrate these words into their own lexicon. This expanded vocabulary proves invaluable in both written and verbal communication, allowing for more precise and nuanced expression. For example, exposure to scientific literature can introduce individuals to specialized terminology, enriching their understanding of complex concepts and enabling them to engage in more informed discussions.\n\nFinally, reading offers a stimulating and productive alternative to passive forms of entertainment. In moments of downtime, such as during commutes or periods of waiting, a book can provide an immersive escape from boredom. Unlike passive activities like watching television or playing video games, reading actively engages the mind, fostering critical thinking and imagination. Furthermore, the knowledge and insights gained from reading can contribute to personal growth and intellectual enrichment, making it a far more rewarding pursuit than mindless entertainment.\n\nIn conclusion, reading offers multifaceted benefits that extend beyond mere entertainment. By honing communication skills, expanding vocabulary, and providing a stimulating alternative to passive leisure activities, reading serves as a valuable investment in intellectual growth and personal development. Embracing a habit of reading can empower individuals to become more articulate communicators, lifelong learners, and engaged members of society.\n\n**Changes Made:**\n\n*   **Replaced Informal Language:** Removed \"like,\" \"so,\" \"duh,\" \"I mean,\" and other colloquialisms to create a more formal and academic tone.\n*   **Strengthened Thesis Statement:** The thesis is now more specific and sophisticated, focusing on intellectual growth.\n*   **Improved Argumentation:** Replaced generalizations with more concrete examples and explanations. For instance, instead of just saying reading makes you sound smarter, the revised essay explains how it improves communication skills.\n*   **Enhanced Vocabulary:** Used more precise and varied vocabulary to elevate the writing quality.\n*   **Improved Sentence Structure:** Restructured sentences for clarity and flow.\n*   **Added Transitions:** Incorporated transitional phrases to improve the coherence of the essay.\n*   **Removed Redundancy:** Eliminated repetitive phrases and ideas.\n*   **Focused on Credibility:** The overall tone is now more confident and authoritative.\n",
            "text/plain": [
              "<IPython.core.display.Markdown object>"
            ]
          },
          "execution_count": 6,
          "metadata": {},
          "output_type": "execute_result"
        }
      ],
      "source": [
        "teacher_system_prompt = f\"\"\"\n",
        "  As a teacher, you are tasked with grading students' essays.\n",
        "  Please follow these instructions for evaluation:\n",
        "\n",
        "  1. Evaluate the essay on a scale of 1-5 based on the following criteria:\n",
        "  - Thesis statement,\n",
        "  - Clarity and precision of language,\n",
        "  - Grammar and punctuation,\n",
        "  - Argumentation\n",
        "\n",
        "  2. Write a corrected version of the essay, addressing any identified issues\n",
        "  in the original submission. Point what changes were made.\n",
        "\"\"\"\n",
        "teacher_response = client.models.generate_content(\n",
        "    model=MODEL_ID,\n",
        "    contents=essay,\n",
        "    config=types.GenerateContentConfig(\n",
        "        system_instruction=teacher_system_prompt,\n",
        "        temperature=0\n",
        "    )\n",
        ")\n",
        "\n",
        "Markdown(teacher_response.text)"
      ]
    },
    {
      "cell_type": "markdown",
      "metadata": {
        "id": "4Hbzc0EVDHxS"
      },
      "source": [
        "## Next steps\n",
        "\n",
        "Be sure to explore other examples of prompting in the repository. Try writing your own prompts for evaluating texts."
      ]
    }
  ],
  "metadata": {
    "colab": {
      "name": "Basic_Evaluation.ipynb",
      "toc_visible": true
    },
    "kernelspec": {
      "display_name": "Python 3",
      "name": "python3"
    }
  },
  "nbformat": 4,
  "nbformat_minor": 0
}
