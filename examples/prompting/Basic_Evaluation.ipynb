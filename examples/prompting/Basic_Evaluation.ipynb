{
  "cells": [
    {
      "cell_type": "markdown",
      "metadata": {
        "id": "X0doHtrEl66V"
      },
      "source": [
        "##### Copyright 2025 Google LLC."
      ]
    },
    {
      "cell_type": "code",
      "execution_count": null,
      "metadata": {
        "cellView": "form",
        "id": "2K6KP3hUl7_l"
      },
      "outputs": [],
      "source": [
        "# @title Licensed under the Apache License, Version 2.0 (the \"License\");\n",
        "# you may not use this file except in compliance with the License.\n",
        "# You may obtain a copy of the License at\n",
        "#\n",
        "# https://www.apache.org/licenses/LICENSE-2.0\n",
        "#\n",
        "# Unless required by applicable law or agreed to in writing, software\n",
        "# distributed under the License is distributed on an \"AS IS\" BASIS,\n",
        "# WITHOUT WARRANTIES OR CONDITIONS OF ANY KIND, either express or implied.\n",
        "# See the License for the specific language governing permissions and\n",
        "# limitations under the License."
      ]
    },
    {
      "cell_type": "markdown",
      "metadata": {
        "id": "sP8PQnz1QrcF"
      },
      "source": [
        "# Gemini API: Basic evaluation"
      ]
    },
    {
      "cell_type": "markdown",
      "metadata": {
        "id": "bxGr_x3MRA0z"
      },
      "source": [
        "<a target=\"_blank\" href=\"https://colab.research.google.com/github/google-gemini/cookbook/blob/main/examples/prompting/Basic_Evaluation.ipynb\"><img src=\"https://colab.research.google.com/assets/colab-badge.svg\" height=30/>"
      ]
    },
    {
      "cell_type": "markdown",
      "metadata": {
        "id": "ysy--KfNRrCq"
      },
      "source": [
        "Gemini API's Python SDK can be used for various forms of evaluation, including:\n",
        "- Providing feedback based on selected criteria\n",
        "- Comparing multiple texts\n",
        "- Assigning grades or confidence scores\n",
        "- Identifying weak areas\n",
        "\n",
        "Below is an example of using the LLM to enhance text quality through feedback and grading."
      ]
    },
    {
      "cell_type": "code",
      "execution_count": null,
      "metadata": {
        "id": "Ne-3gnXqR0hI",
        "colab": {
          "base_uri": "https://localhost:8080/"
        },
        "outputId": "50e80356-dc93-4243-eead-59b12d859c38"
      },
      "outputs": [
        {
          "output_type": "stream",
          "name": "stdout",
          "text": [
            "\u001b[?25l   \u001b[90m━━━━━━━━━━━━━━━━━━━━━━━━━━━━━━━━━━━━━━━━\u001b[0m \u001b[32m0.0/149.6 kB\u001b[0m \u001b[31m?\u001b[0m eta \u001b[36m-:--:--\u001b[0m\r\u001b[2K   \u001b[91m━━━━━━━━━━━━━━━━━━━━━━━━━━━━━━━━━━━━━━\u001b[0m\u001b[90m╺\u001b[0m\u001b[90m━\u001b[0m \u001b[32m143.4/149.6 kB\u001b[0m \u001b[31m10.8 MB/s\u001b[0m eta \u001b[36m0:00:01\u001b[0m\r\u001b[2K   \u001b[90m━━━━━━━━━━━━━━━━━━━━━━━━━━━━━━━━━━━━━━━━\u001b[0m \u001b[32m149.6/149.6 kB\u001b[0m \u001b[31m3.8 MB/s\u001b[0m eta \u001b[36m0:00:00\u001b[0m\n",
            "\u001b[?25h"
          ]
        }
      ],
      "source": [
        "%pip install -U -q \"google-genai>=1.7.0\""
      ]
    },
    {
      "cell_type": "code",
      "execution_count": null,
      "metadata": {
        "id": "EconMHePQHGw"
      },
      "outputs": [],
      "source": [
        "from google import genai\n",
        "from google.genai import types\n",
        "from IPython.display import Markdown"
      ]
    },
    {
      "cell_type": "markdown",
      "metadata": {
        "id": "eomJzCa6lb90"
      },
      "source": [
        "## Configure your API key\n",
        "\n",
        "To run the following cell, your API key must be stored it in a Colab Secret named `GOOGLE_API_KEY`. If you don't already have an API key, or you're not sure how to create a Colab Secret, see [Authentication](https://github.com/google-gemini/cookbook/blob/main/quickstarts/Authentication.ipynb) for an example."
      ]
    },
    {
      "cell_type": "code",
      "execution_count": null,
      "metadata": {
        "id": "v-JZzORUpVR2"
      },
      "outputs": [],
      "source": [
        "from google.colab import userdata\n",
        "GOOGLE_API_KEY=userdata.get('GOOGLE_API_KEY')\n",
        "\n",
        "client = genai.Client(api_key=GOOGLE_API_KEY)"
      ]
    },
    {
      "cell_type": "markdown",
      "metadata": {
        "id": "L-Wt23A_uzFZ"
      },
      "source": [
        "## Example\n",
        "\n",
        "Start by defining some system instructions for this problem. For demonstration purposes, the use case involves prompting the model to write an essay with some mistakes. Remember that for generation tasks like writing an essay, you can change the temperature of the model to get more creative answers. Here, you can use `\"temperature\": 0` for predictability."
      ]
    },
    {
      "cell_type": "code",
      "execution_count": null,
      "metadata": {
        "id": "zNw1Hele0Bne",
        "outputId": "2f1e45ae-5256-4a47-f284-143ca8bed203",
        "colab": {
          "base_uri": "https://localhost:8080/",
          "height": 996
        }
      },
      "outputs": [
        {
          "output_type": "execute_result",
          "data": {
            "text/plain": [
              "<IPython.core.display.Markdown object>"
            ],
            "text/markdown": "## Reading: It's Good For You, I Think\n\nReading is like, a really good thing. Like, seriously. My thesis is that reading is beneficial for people in many ways, even though sometimes it's boring and you'd rather be on your phone.\n\nFirst of all, reading makes you smarter. When you read, you learn new words. These words, they like, go into your brain and then you can use them later. For example, I read this book about, like, the French Revolution, and now I know words like \"guillotine\" and \"bourgeoisie.\" Before that, I just knew, like, \"chopper\" and \"rich people.\" So, see? Smarter. Plus, the more you read, the more you know about stuff. This is good because then you can, like, impress people at parties or something.\n\nSecondly, reading helps you understand other people. When you read a book, you get to see the world from their perspective. Like, if you read a book about a refugee, you might understand why they had to leave their home. This is important because it makes you more empathetic. Empathy is good because it makes you a better person. It's like, if everyone read more, the world would be a better place. I think.\n\nFurthermore, reading is a great way to relax. After a long day of classes, there's nothing better than curling up with a good book. It's way better than watching TV because TV is just, like, mindless entertainment. Reading, on the other hand, is active. You're using your brain, but in a relaxing way. It's like a mental massage. Plus, you can escape into another world. You can be a wizard, or a detective, or even a talking animal. The possibilities are endless!\n\nHowever, some people say that reading is a waste of time. They say that there are better things to do, like playing video games or watching movies. But I disagree. Video games and movies are fun, but they don't make you smarter or more empathetic. They're just, like, a distraction. Reading, on the other hand, is an investment in yourself. It's something that will benefit you for the rest of your life.\n\nIn conclusion, reading is really good for you. It makes you smarter, more empathetic, and more relaxed. So, next time you're bored, pick up a book. You might be surprised at how much you enjoy it. And even if you don't, at least you'll be learning something. It's a win-win situation, really. Reading is just the best, and everyone should do it more often.\n"
          },
          "metadata": {},
          "execution_count": 6
        }
      ],
      "source": [
        "student_system_prompt = \"\"\"You're a college student. Your job is to write an essay riddled with common mistakes and a few major ones.\n",
        "The essay should have mistakes regarding clarity, grammar, argumentation, and vocabulary.\n",
        "Ensure your essay includes a clear thesis statement. You should write only an essay, so do not include any notes.\"\"\"\n",
        "\n",
        "\n",
        "MODEL_ID=\"gemini-2.0-flash\" # @param [\"gemini-2.0-flash-lite\",\"gemini-2.0-flash\",\"gemini-2.5-pro-exp-03-25\"] {\"allow-input\":true, isTemplate: true}\n",
        "\n",
        "student_response = client.models.generate_content(\n",
        "    model=MODEL_ID,\n",
        "    contents='Write an essay about the benefits of reading.',\n",
        "    config=types.GenerateContentConfig(\n",
        "        system_instruction=student_system_prompt,\n",
        "        temperature=0\n",
        "    ),\n",
        ")\n",
        "\n",
        "essay = student_response.text\n",
        "Markdown(essay)"
      ]
    },
    {
      "cell_type": "code",
      "execution_count": null,
      "metadata": {
        "id": "mzp8ZFXf0-OT",
        "outputId": "1bc79384-c7d4-408b-f4cb-b4230e2c0e9c",
        "colab": {
          "base_uri": "https://localhost:8080/",
          "height": 1000
        }
      },
      "outputs": [
        {
          "output_type": "execute_result",
          "data": {
            "text/plain": [
              "<IPython.core.display.Markdown object>"
            ],
            "text/markdown": "Okay, here's an evaluation of the essay and a revised version:\n\n**Evaluation:**\n\n*   **Thesis Statement (2/5):** The thesis is present but weak and lacks sophistication. It's too informal and doesn't clearly articulate the main points that will be discussed.\n*   **Clarity and Precision of Language (2/5):** The language is very informal, repetitive (\"like\"), and imprecise. There's a lack of strong vocabulary and a reliance on vague terms.\n*   **Grammar and Punctuation (3/5):** Grammar and punctuation are generally correct, but the writing suffers from excessive informality and colloquialisms.\n*   **Argumentation (3/5):** The essay presents several arguments in favor of reading, but they are not always developed fully or supported with strong evidence. The counter-argument is acknowledged but dismissed somewhat superficially.\n\n**Overall:** The essay demonstrates a basic understanding of the benefits of reading, but it needs significant improvement in terms of clarity, precision, and argumentation. The informal tone detracts from the essay's credibility.\n\n**Corrected Essay:**\n\n## The Enduring Benefits of Reading\n\nReading offers profound benefits, enriching individuals intellectually, emotionally, and personally. This essay argues that despite the allure of alternative pastimes, reading remains a vital activity that cultivates knowledge, empathy, and relaxation.\n\nFirstly, reading expands one's intellectual horizons. Exposure to diverse texts introduces new vocabulary and concepts, thereby enhancing cognitive abilities. For instance, engaging with historical literature, such as accounts of the French Revolution, can impart knowledge of complex socio-political structures and introduce terms like \"guillotine\" and \"bourgeoisie,\" broadening one's understanding of history and political science. Furthermore, consistent reading fosters a deeper understanding of various subjects, enabling individuals to engage in more informed discussions and demonstrate intellectual curiosity.\n\nSecondly, reading cultivates empathy by providing insights into diverse perspectives. By immersing themselves in narratives about different cultures, experiences, or social issues, readers can develop a greater understanding of the challenges and triumphs of others. For example, reading literature about refugees can foster empathy by illuminating the complex reasons behind their displacement and the hardships they face. This enhanced empathy promotes compassion and encourages more inclusive and understanding interactions within society.\n\nMoreover, reading offers a valuable avenue for relaxation and stress reduction. Unlike passive forms of entertainment such as television, reading actively engages the mind while providing an escape from daily pressures. Immersing oneself in a captivating novel can transport the reader to different worlds, allowing for mental rejuvenation and a temporary reprieve from anxieties. The act of reading, therefore, serves as a form of mental exercise that promotes relaxation and well-being.\n\nWhile some argue that alternative activities like video games or movies offer more engaging forms of entertainment, these pursuits often lack the intellectual and emotional depth of reading. Although video games and movies can be enjoyable, they primarily offer passive entertainment, whereas reading requires active engagement and critical thinking. Reading, therefore, represents an investment in personal growth and intellectual development.\n\nIn conclusion, reading offers a multitude of enduring benefits. It expands knowledge, cultivates empathy, and provides a means of relaxation. By prioritizing reading, individuals can enrich their lives and contribute to a more informed and compassionate society. Therefore, embracing reading as a regular practice is an investment in oneself and a pathway to personal and intellectual enrichment.\n\n**Changes Made:**\n\n*   **Thesis Statement:** Rewritten to be more formal and clearly state the main arguments.\n*   **Language:** Replaced informal language (\"like,\" \"stuff,\" \"good\") with more precise and academic vocabulary (\"thereby,\" \"fosters,\" \"avenue\").\n*   **Sentence Structure:** Varied sentence structure to improve flow and readability.\n*   **Argumentation:** Strengthened arguments by providing more specific examples and elaborating on the benefits of reading.\n*   **Counter-Argument:** Addressed the counter-argument more thoroughly by acknowledging the appeal of other forms of entertainment but emphasizing the unique benefits of reading.\n*   **Conclusion:** Rewritten to be more concise and impactful, summarizing the main points of the essay.\n*   **Removed:** Removed conversational tone.\n"
          },
          "metadata": {},
          "execution_count": 8
        }
      ],
      "source": [
        "teacher_system_prompt = f\"\"\"\n",
        "As a teacher, you are tasked with grading students' essays.\n",
        "Please follow these instructions for evaluation:\n",
        "\n",
        "1. Evaluate the essay on a scale of 1-5 based on the following criteria:\n",
        "- Thesis statement,\n",
        "- Clarity and precision of language,\n",
        "- Grammar and punctuation,\n",
        "- Argumentation\n",
        "\n",
        "2. Write a corrected version of the essay, addressing any identified issues\n",
        "in the original submission. Point what changes were made.\n",
        "\"\"\"\n",
        "\n",
        "teacher_response = client.models.generate_content(\n",
        "    model=MODEL_ID,\n",
        "    contents=essay,\n",
        "    config=types.GenerateContentConfig(\n",
        "        system_instruction=teacher_system_prompt,\n",
        "        temperature=0\n",
        "    ),\n",
        ")\n",
        "\n",
        "\n",
        "Markdown(teacher_response.text)"
      ]
    },
    {
      "cell_type": "markdown",
      "metadata": {
        "id": "4Hbzc0EVDHxS"
      },
      "source": [
        "## Next steps\n",
        "\n",
        "Be sure to explore other examples of prompting in the repository. Try writing your own prompts for evaluating texts."
      ]
    }
  ],
  "metadata": {
    "colab": {
      "provenance": []
    },
    "kernelspec": {
      "display_name": "Python 3",
      "name": "python3"
    }
  },
  "nbformat": 4,
  "nbformat_minor": 0
}