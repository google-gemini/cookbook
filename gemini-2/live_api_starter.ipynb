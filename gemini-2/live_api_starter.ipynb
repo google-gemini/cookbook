{
  "cells": [
    {
      "cell_type": "markdown",
      "metadata": {
        "id": "WMGdicu8PVD9"
      },
      "source": [
        "# Multimodal Live API - Quickstart"
      ]
    },
    {
      "cell_type": "markdown",
      "metadata": {
        "id": "84d7ee4c821b"
      },
      "source": [
        "### This notebook has been moved in the [quickstarts](../quickstarts/Get_started_LiveAPI.ipynb) section where you can find all the guides and tutorials to get to know the Gemini capabilities."
      ]
    }
  ],
  "metadata": {
    "colab": {
      "name": "live_api_starter.ipynb",
      "toc_visible": true
    },
    "kernelspec": {
      "display_name": "Python 3",
      "name": "python3"
    }
  },
  "nbformat": 4,
  "nbformat_minor": 0
}
