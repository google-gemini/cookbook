{
  "cells": [
    {
      "cell_type": "markdown",
      "metadata": {
        "id": "Tce3stUlHN0L"
      },
      "source": [
        "##### Copyright 2024 Google LLC."
      ]
    },
    {
      "cell_type": "code",
      "execution_count": null,
      "metadata": {
        "cellView": "form",
        "id": "tuOe1ymfHZPu"
      },
      "outputs": [],
      "source": [
        "# @title Licensed under the Apache License, Version 2.0 (the \"License\");\n",
        "# you may not use this file except in compliance with the License.\n",
        "# You may obtain a copy of the License at\n",
        "#\n",
        "# https://www.apache.org/licenses/LICENSE-2.0\n",
        "#\n",
        "# Unless required by applicable law or agreed to in writing, software\n",
        "# distributed under the License is distributed on an \"AS IS\" BASIS,\n",
        "# WITHOUT WARRANTIES OR CONDITIONS OF ANY KIND, either express or implied.\n",
        "# See the License for the specific language governing permissions and\n",
        "# limitations under the License."
      ]
    },
    {
      "cell_type": "markdown",
      "metadata": {
        "id": "oJt4OFKPgO8C"
      },
      "source": [
        "# Search re-ranking using Gemini embeddings"
      ]
    },
    {
      "cell_type": "markdown",
      "metadata": {
        "id": "k5n0sCc_fKcB"
      },
      "source": [
        "<table align=\"left\">\n",
        "  <td>\n",
        "    <a target=\"_blank\" href=\"https://colab.research.google.com/github/google-gemini/cookbook/blob/main/examples/Search_reranking_using_embeddings.ipynb\"><img src=\"../images/colab_logo_32px.png\" />Run in Google Colab</a>\n",
        "  </td>\n",
        "</table>"
      ]
    },
    {
      "cell_type": "markdown",
      "metadata": {
        "id": "0UO0Cgq0mRlG"
      },
      "source": [
        "This notebook demonstrates the use of embeddings to re-rank search results. This walkthrough will focus on the following objectives:\n",
        "\n",
        "\n",
        "\n",
        "1.   Setting up your development environment and API access to use Gemini.\n",
        "2.   Using Gemini's function calling support to access the Wikipedia API.\n",
        "3.   Embedding content via Gemini API.\n",
        "4.   Re-ranking the search results.\n"
      ]
    },
    {
      "cell_type": "markdown",
      "metadata": {
        "id": "-e5Aje-DTQOq"
      },
      "source": [
        "This is how you will implement search re-ranking:\n",
        "\n",
        "\n",
        "1.   The user will make a search query.\n",
        "2.   You will use Wikipedia API to return the relevant search results.\n",
        "3.   The search results will be embedded and their relevance will be evaluated by calculating distance metrics like cosine similarity.\n",
        "4.   The most relevant search result will be returned as the final answer."
      ]
    },
    {
      "cell_type": "markdown",
      "metadata": {
        "id": "rpVL_QrF5-oF"
      },
      "source": [
        "> The non-source code materials in this notebook are licensed under Creative Commons - Attribution-ShareAlike CC-BY-SA 4.0, https://creativecommons.org/licenses/by-sa/4.0/legalcode."
      ]
    },
    {
      "cell_type": "markdown",
      "metadata": {
        "id": "pwImlRg9DUp7"
      },
      "source": [
        "## Setup\n"
      ]
    },
    {
      "cell_type": "code",
      "execution_count": null,
      "metadata": {
        "id": "Nv_6f_qNHe_2"
      },
      "outputs": [],
      "source": [
        "!pip install -q -U \"google-generativeai>=0.7.2\""
      ]
    },
    {
      "cell_type": "code",
      "execution_count": null,
      "metadata": {
        "id": "5999faf240a4"
      },
      "outputs": [],
      "source": [
        "!pip install -q wikipedia"
      ]
    },
    {
      "cell_type": "markdown",
      "metadata": {
        "id": "739f0bb73f05"
      },
      "source": [
        "Note: The [`wikipedia` package](https://pypi.org/project/wikipedia/) notes that it was \"designed for ease of use and simplicity, not for advanced use\", and that production or heavy use should instead \"use [Pywikipediabot](http://www.mediawiki.org/wiki/Manual:Pywikipediabot) or one of the other more advanced [Python MediaWiki API wrappers](http://en.wikipedia.org/wiki/Wikipedia:Creating_a_bot#Python)\"."
      ]
    },
    {
      "cell_type": "code",
      "execution_count": null,
      "metadata": {
        "id": "D0qOtLI3FVid"
      },
      "outputs": [],
      "source": [
        "import json\n",
        "import textwrap\n",
        "\n",
        "import google.generativeai as genai\n",
        "\n",
        "import wikipedia\n",
        "from wikipedia.exceptions import DisambiguationError, PageError\n",
        "\n",
        "import numpy as np\n",
        "\n",
        "from IPython.display import Markdown\n",
        "\n",
        "def to_markdown(text):\n",
        "  text = text.replace('•', '  *')\n",
        "  return Markdown(textwrap.indent(text, '> ', predicate=lambda _: True))"
      ]
    },
    {
      "cell_type": "markdown",
      "metadata": {
        "id": "aeo_9J9iDtCx"
      },
      "source": [
        "To run the following cell, your API key must be stored it in a Colab Secret named `GOOGLE_API_KEY`. If you don't already have an API key, or you're not sure how to create a Colab Secret, see the [Authentication](https://github.com/google-gemini/cookbook/blob/main/quickstarts/Authentication.ipynb) quickstart for an example."
      ]
    },
    {
      "cell_type": "code",
      "execution_count": null,
      "metadata": {
        "id": "yxzEH0GqLshI"
      },
      "outputs": [],
      "source": [
        "from google.colab import userdata\n",
        "GOOGLE_API_KEY=userdata.get('GOOGLE_API_KEY')\n",
        "genai.configure(api_key=GOOGLE_API_KEY)"
      ]
    },
    {
      "cell_type": "markdown",
      "metadata": {
        "id": "0hkJSFIWI7G1"
      },
      "source": [
        "## Define tools"
      ]
    },
    {
      "cell_type": "markdown",
      "metadata": {
        "id": "7HjN6hsAJkOq"
      },
      "source": [
        "As stated earlier, this tutorial uses Gemini's function calling support to access the Wikipedia API. Please refer to the [docs](https://ai.google.dev/docs/function_calling) to learn more about function calling."
      ]
    },
    {
      "cell_type": "markdown",
      "metadata": {
        "id": "fpFkazXUenkK"
      },
      "source": [
        "### Define the search function"
      ]
    },
    {
      "cell_type": "markdown",
      "metadata": {
        "id": "2fp-m-5Ke0XY"
      },
      "source": [
        "To cater to the search engine needs, you will design this function in the following way:\n",
        "\n",
        "\n",
        "*   For each search query, the search engine will use the `wikipedia.search` method to get relevant topics.\n",
        "*   From the relevant topics, the engine will choose `n_topics(int)` top candidates and will use `gemini-2.0-flash` to extract relevant information from the page.\n",
        "*   The engine will avoid duplicate entries by maintaining a search history.\n"
      ]
    },
    {
      "cell_type": "code",
      "execution_count": 2,
      "metadata": {
        "id": "2U27tdP8OBys"
      },
      "outputs": [],
      "source": [
        "def wikipedia_search(search_queries: list[str]) -> list[str]:\n",
        "  \"\"\"Search wikipedia for each query and summarize relevant docs.\"\"\"\n",
        "  n_topics=3\n",
        "  search_history = set() # tracking search history\n",
        "  search_urls = []\n",
        "  mining_model = genai.GenerativeModel('gemini-2.0-flash')\n",
        "  summary_results = []\n",
        "\n",
        "  for query in search_queries:\n",
        "    print(f'Searching for \"{query}\"')\n",
        "    search_terms = wikipedia.search(query)\n",
        "\n",
        "    print(f\"Related search terms: {search_terms[:n_topics]}\")\n",
        "    for search_term in search_terms[:n_topics]: # select first `n_topics` candidates\n",
        "      if search_term in search_history: # check if the topic is already covered\n",
        "        continue\n",
        "\n",
        "      print(f'Fetching page: \"{search_term}\"')\n",
        "      search_history.add(search_term) # add to search history\n",
        "\n",
        "      try:\n",
        "        # extract the relevant data by using `gemini-2.0-flash` model\n",
        "        page = wikipedia.page(search_term, auto_suggest=False)\n",
        "        url = page.url\n",
        "        print(f\"Information Source: {url}\")\n",
        "        search_urls.append(url)\n",
        "        page = page.content\n",
        "        response = mining_model.generate_content(textwrap.dedent(f\"\"\"\\\n",
        "            Extract relevant information\n",
        "            about user's query: {query}\n",
        "            From this source:\n",
        "\n",
        "            {page}\n",
        "\n",
        "            Note: Do not summarize. Only Extract and return the relevant information\n",
        "        \"\"\"))\n",
        "\n",
        "        urls = [url]\n",
        "        if response.candidates[0].citation_metadata:\n",
        "          extra_citations = response.candidates[0].citation_metadata.citation_sources\n",
        "          extra_urls = [source.url for source in extra_citations]\n",
        "          urls.extend(extra_urls)\n",
        "          search_urls.extend(extra_urls)\n",
        "          print(\"Additional citations:\", response.candidates[0].citation_metadata.citation_sources)\n",
        "        try:\n",
        "          text = response.text\n",
        "        except ValueError:\n",
        "          pass\n",
        "        else:\n",
        "          summary_results.append(text + \"\\n\\nBased on:\\n  \" + ',\\n  '.join(urls))\n",
        "\n",
        "      except DisambiguationError:\n",
        "        print(f\"\"\"Results when searching for \"{search_term}\" (originally for \"{query}\")\n",
        "        were ambiguous, hence skipping\"\"\")\n",
        "        continue\n",
        "\n",
        "      except PageError:\n",
        "        print(f'{search_term} did not match with any page id, hence skipping.')\n",
        "        continue\n",
        "        \n",
        "      except:\n",
        "        print(f'{search_term} did not match with any page id, hence skipping.')\n",
        "        continue\n",
        "\n",
        "  print(f\"Information Sources:\")\n",
        "  for url in search_urls:\n",
        "    print('    ', url)\n",
        "\n",
        "  return summary_results\n"
      ]
    },
    {
      "cell_type": "code",
      "execution_count": 3,
      "metadata": {
        "id": "EWKkkKDXmzOX"
      },
      "outputs": [
        {
          "name": "stdout",
          "output_type": "stream",
          "text": [
            "Searching for \"What are LLMs?\"\n",
            "Related search terms: ['Large language model', 'Stochastic parrot', 'Prompt engineering']\n",
            "Fetching page: \"Large language model\"\n",
            "Information Source: https://en.wikipedia.org/wiki/Large_language_model\n",
            "Large language model did not match with any page id, hence skipping.\n",
            "Fetching page: \"Stochastic parrot\"\n",
            "Information Source: https://en.wikipedia.org/wiki/Stochastic_parrot\n",
            "Fetching page: \"Prompt engineering\"\n",
            "Information Source: https://en.wikipedia.org/wiki/Prompt_engineering\n",
            "Prompt engineering did not match with any page id, hence skipping.\n",
            "Information Sources:\n",
            "     https://en.wikipedia.org/wiki/Large_language_model\n",
            "     https://en.wikipedia.org/wiki/Stochastic_parrot\n",
            "     https://en.wikipedia.org/wiki/Prompt_engineering\n"
          ]
        }
      ],
      "source": [
        "example = wikipedia_search([\"What are LLMs?\"])"
      ]
    },
    {
      "cell_type": "markdown",
      "metadata": {
        "id": "8bPT114QEPgW"
      },
      "source": [
        "Here is what the search results look like:"
      ]
    },
    {
      "cell_type": "code",
      "execution_count": 4,
      "metadata": {
        "id": "8wy7YUFqEYTv"
      },
      "outputs": [
        {
          "data": {
            "text/markdown": [
              "> ## Relevant information about LLMs from the source:\n",
              "> \n",
              "> * **LLMs are described as \"stochastic parrots\"**: This means they can generate plausible language but lack understanding of the meaning of the words they process.\n",
              "> * **The term was coined in 2021**:  By Emily Bender, Timnit Gebru, Angelina McMillan-Major, and Margaret Mitchell in their paper \"On the Dangers of Stochastic Parrots: Can Language Models Be Too Big?\" 🦜.\n",
              "> * **LLMs have limitations**: They are limited by the data they are trained on and may produce dangerous outputs due to biases or limitations in the training data.\n",
              "> * **LLMs don't understand the meaning of language**: They only statistically link words and sentences together, unable to differentiate facts and fiction.\n",
              "> * **The debate about LLMs understanding is ongoing**: While some researchers argue LLMs are merely pattern matchers, others believe they are capable of understanding language.\n",
              "> * **LLMs' performance on benchmarks and experiments is contested**: Some argue their performance proves understanding, while others say they are exploiting shortcuts and correlations within the data.\n",
              "> * **The \"stochastic parrot\" concept is widely used**: It's a popular term among AI skeptics and has been adopted by some AI professionals to describe LLMs' limitations. \n",
              "> \n",
              "> \n",
              "> Based on:\n",
              ">   https://en.wikipedia.org/wiki/Stochastic_parrot"
            ],
            "text/plain": [
              "<IPython.core.display.Markdown object>"
            ]
          },
          "metadata": {},
          "output_type": "display_data"
        }
      ],
      "source": [
        "from IPython.display import display\n",
        "\n",
        "for e in example:\n",
        "  display(to_markdown(e))"
      ]
    },
    {
      "cell_type": "markdown",
      "metadata": {
        "id": "SKcH1LICeg5Z"
      },
      "source": [
        "### Pass the tools to the model"
      ]
    },
    {
      "cell_type": "markdown",
      "metadata": {
        "id": "qQcxR7cjLjGM"
      },
      "source": [
        "If you pass a list of functions to the `GenerativeModel`'s `tools` argument,\n",
        "it will extract a schema from the function's signature and type hints, and then pass schema along to the API calls. In response the model may return a `FunctionCall` object asking to call the function.\n",
        "\n",
        "Note: This approach only handles annotations of `AllowedTypes = int | float | str | dict | list['AllowedTypes']`\n",
        "\n",
        "The `GenerativeModel` will keep a reference to the function inself, so that it _can_ execute the function locally later."
      ]
    },
    {
      "cell_type": "code",
      "execution_count": 5,
      "metadata": {
        "id": "39kqTnBRLDeQ"
      },
      "outputs": [],
      "source": [
        "model = genai.GenerativeModel(\n",
        "    'gemini-2.0-flash',\n",
        "    tools=[wikipedia_search],\n",
        "    generation_config={'temperature': 0.6})"
      ]
    },
    {
      "cell_type": "markdown",
      "metadata": {
        "id": "VedPbpzlh6jX"
      },
      "source": [
        "## Generate supporting search queries"
      ]
    },
    {
      "cell_type": "markdown",
      "metadata": {
        "id": "5sLKZik7isBW"
      },
      "source": [
        "In order to have multiple supporting search queries to the user's original query, you will ask the model to generate more such queries. This would help the engine to cover the asked question on comprehensive levels."
      ]
    },
    {
      "cell_type": "code",
      "execution_count": 6,
      "metadata": {
        "id": "Z-Ym3H9KIosY"
      },
      "outputs": [],
      "source": [
        "instructions = \"\"\"You have access to the Wikipedia API which you will be using\n",
        "to answer a user's query. Your job is to generate a list of search queries which\n",
        "might answer a user's question. Be creative by using various key-phrases from\n",
        "the user's query. To generate variety of queries, ask questions which are\n",
        "related to  the user's query that might help to find the answer. The more\n",
        "queries you generate the better are the odds of you finding the correct answer.\n",
        "Here is an example:\n",
        "\n",
        "user: Tell me about Cricket World cup 2023 winners.\n",
        "\n",
        "function_call: wikipedia_search(['What is the name of the team that\n",
        "won the Cricket World Cup 2023?', 'Who was the captain of the Cricket World Cup\n",
        "2023 winning team?', 'Which country hosted the Cricket World Cup 2023?', 'What\n",
        "was the venue of the Cricket World Cup 2023 final match?', 'Cricket World cup 2023',\n",
        "'Who lifted the Cricket World Cup 2023 trophy?'])\n",
        "\n",
        "The search function will return a list of article summaries, use these to\n",
        "answer the  user's question.\n",
        "\n",
        "Here is the user's query: {query}\n",
        "\"\"\""
      ]
    },
    {
      "cell_type": "markdown",
      "metadata": {
        "id": "3Wyn3lV-d5S_"
      },
      "source": [
        "In order to yield creative and a more random variety of questions, you will set the model's temperature parameter to a value higher. Values can range from [0.0,1.0], inclusive. A value closer to 1.0 will produce responses that are more varied and creative, while a value closer to 0.0 will typically result in more straightforward responses from the model."
      ]
    },
    {
      "cell_type": "markdown",
      "metadata": {
        "id": "TD1vU6FXhYO5"
      },
      "source": [
        "## Enable automatic function calling and call the API"
      ]
    },
    {
      "cell_type": "markdown",
      "metadata": {
        "id": "qyUSnXJ5hg6x"
      },
      "source": [
        "Now start a new chat with `enable_automatic_function_calling=True`. With it enabled, the `genai.ChatSession` will handle the back and forth required to call the function, and return the final response:"
      ]
    },
    {
      "cell_type": "code",
      "execution_count": 7,
      "metadata": {
        "id": "ZNJqA60yKNpT"
      },
      "outputs": [
        {
          "name": "stdout",
          "output_type": "stream",
          "text": [
            "Searching for \"How do deep-sea creatures survive?\"\n",
            "Related search terms: ['Deep-sea community', 'Deep sea', 'Deep-sea fish']\n",
            "Fetching page: \"Deep-sea community\"\n",
            "Information Source: https://en.wikipedia.org/wiki/Deep-sea_community\n",
            "Fetching page: \"Deep sea\"\n",
            "Information Source: https://en.wikipedia.org/wiki/Deep_sea\n",
            "Fetching page: \"Deep-sea fish\"\n",
            "Information Source: https://en.wikipedia.org/wiki/Deep-sea_fish\n",
            "Searching for \"What are the adaptations of deep-sea animals?\"\n",
            "Related search terms: ['Deep sea', 'Deep-sea fish', 'Deep-sea community']\n",
            "Searching for \"Deep-sea life survival strategies\"\n",
            "Related search terms: ['Anglerfish', 'Thalassophobia', 'Brine pool']\n",
            "Fetching page: \"Anglerfish\"\n",
            "Information Source: https://en.wikipedia.org/wiki/Anglerfish\n",
            "Fetching page: \"Thalassophobia\"\n",
            "Information Source: https://en.wikipedia.org/wiki/Thalassophobia\n",
            "Fetching page: \"Brine pool\"\n",
            "Information Source: https://en.wikipedia.org/wiki/Brine_pool\n",
            "Searching for \"How do deep-sea animals get food?\"\n",
            "Related search terms: ['Marine life', 'Food', 'Anglerfish']\n",
            "Fetching page: \"Marine life\"\n",
            "Information Source: https://en.wikipedia.org/wiki/Marine_life\n",
            "Fetching page: \"Food\"\n",
            "Information Source: https://en.wikipedia.org/wiki/Food\n",
            "Searching for \"What are the challenges of living in the deep sea?\"\n",
            "Related search terms: ['Deep sea', 'Deep-sea community', 'From the river to the sea']\n",
            "Fetching page: \"From the river to the sea\"\n",
            "Information Source: https://en.wikipedia.org/wiki/From_the_river_to_the_sea\n",
            "Searching for \"Deep-sea environment and life\"\n",
            "Related search terms: ['Deep-sea fish', 'Deep-sea community', 'Deep sea']\n",
            "Searching for \"Adaptations of organisms to deep-sea environments\"\n",
            "Related search terms: ['Deep-sea fish', 'Deep sea', 'Brine pool']\n",
            "Searching for \"Deep-sea ecosystems and survival\"\n",
            "Related search terms: ['Deep-sea community', 'Hydrothermal vent', 'Deep sea mining']\n",
            "Fetching page: \"Hydrothermal vent\"\n",
            "Information Source: https://en.wikipedia.org/wiki/Hydrothermal_vent\n",
            "Fetching page: \"Deep sea mining\"\n",
            "Information Source: https://en.wikipedia.org/wiki/Deep_sea_mining\n",
            "Information Sources:\n",
            "     https://en.wikipedia.org/wiki/Deep-sea_community\n",
            "     https://en.wikipedia.org/wiki/Deep_sea\n",
            "     https://en.wikipedia.org/wiki/Deep-sea_fish\n",
            "     https://en.wikipedia.org/wiki/Anglerfish\n",
            "     https://en.wikipedia.org/wiki/Thalassophobia\n",
            "     https://en.wikipedia.org/wiki/Brine_pool\n",
            "     https://en.wikipedia.org/wiki/Marine_life\n",
            "     https://en.wikipedia.org/wiki/Food\n",
            "     https://en.wikipedia.org/wiki/From_the_river_to_the_sea\n",
            "     https://en.wikipedia.org/wiki/Hydrothermal_vent\n",
            "     https://en.wikipedia.org/wiki/Deep_sea_mining\n"
          ]
        }
      ],
      "source": [
        "model = genai.GenerativeModel(\n",
        "    'gemini-2.0-flash', tools=[wikipedia_search], generation_config={'temperature': 0.6})\n",
        "\n",
        "chat = model.start_chat(enable_automatic_function_calling=True)\n",
        "\n",
        "query = \"Explain how deep-sea life survives.\"\n",
        "\n",
        "res = chat.send_message(instructions.format(query=query))"
      ]
    },
    {
      "cell_type": "code",
      "execution_count": 8,
      "metadata": {
        "id": "1l8KWb13M_lJ"
      },
      "outputs": [
        {
          "data": {
            "text/markdown": [
              "> Deep-sea life faces unique challenges due to the extreme environment. Here's how they survive:\n",
              "> \n",
              "> * **Food Scarcity:**  The deep sea has limited food sources. Creatures rely on marine snow (sinking organic matter), whale falls (dead whale carcasses), and chemosynthesis (using chemicals from hydrothermal vents or cold seeps for energy).\n",
              "> * **Pressure:** Deep-sea animals have evolved to withstand immense pressure. They have small sizes, gelatinous flesh, minimal skeletal structure, and lack internal cavities that could collapse.\n",
              "> * **Darkness:**  The lack of sunlight has led to adaptations like large eyes for visual hunting and communication, bioluminescence for camouflage, and vertical migrations for food in the twilight zone. In the midnight zone, organisms have reduced or absent organs, relying on detritus for food. \n",
              "> * **Temperature:**  While generally cold and stable, deep-sea temperatures vary near hydrothermal vents, where extreme changes occur.\n",
              "> * **Salinity:**  Deep-sea salinity is generally constant, except in areas like the Mediterranean Sea and brine pools.\n",
              "> \n",
              "> Deep-sea creatures have evolved remarkable adaptations to thrive in this challenging environment. \n"
            ],
            "text/plain": [
              "<IPython.core.display.Markdown object>"
            ]
          },
          "execution_count": 8,
          "metadata": {},
          "output_type": "execute_result"
        }
      ],
      "source": [
        "to_markdown(res.text)"
      ]
    },
    {
      "cell_type": "markdown",
      "metadata": {
        "id": "ua7DPlj7HZyO"
      },
      "source": [
        "Check for additional citations:"
      ]
    },
    {
      "cell_type": "code",
      "execution_count": 9,
      "metadata": {
        "id": "ASotq7EcHAeo"
      },
      "outputs": [
        {
          "data": {
            "text/plain": [
              "'No citations found'"
            ]
          },
          "execution_count": 9,
          "metadata": {},
          "output_type": "execute_result"
        }
      ],
      "source": [
        "res.candidates[0].citation_metadata or 'No citations found'"
      ]
    },
    {
      "cell_type": "markdown",
      "metadata": {
        "id": "A0CfKMjYFSQm"
      },
      "source": [
        "That looks like it worked. You can go through the chat history to see the details of what was sent and received in the function calls:"
      ]
    },
    {
      "cell_type": "code",
      "execution_count": 10,
      "metadata": {
        "id": "_9h2b8saNnxh"
      },
      "outputs": [
        {
          "name": "stdout",
          "output_type": "stream",
          "text": [
            "user -> {\n",
            "  \"text\": \"You have access to the Wikipedia API which you will be using\\nto answer a user's query. Your job is to generate a list of search queries which\\nmight answer a user's question. Be creative by using various key-phrases from\\nthe user's query. To generate variety of queries, ask questions which are\\nrelated to  the user's query that might help to find the answer. The more\\nqueries you generate the better are the odds of you finding the correct answer.\\nHere is an example:\\n\\nuser: Tell me about Cricket World cup 2023 winners.\\n\\nfunction_call: wikipedia_search(['What is the name of the team that\\nwon the Cricket World Cup 2023?', 'Who was the captain of the Cricket World Cup\\n2023 winning team?', 'Which country hosted the Cricket World Cup 2023?', 'What\\nwas the venue of the Cricket World Cup 2023 final match?', 'Cricket World cup 2023',\\n'Who lifted the Cricket World Cup 2023 trophy?'])\\n\\nThe search function will return a list of article summaries, use these to\\nanswer the  user's question.\\n\\nHere is the user's query: Explain how deep-sea life survives.\\n\"\n",
            "}\n",
            "------------------------------------------------------------\n",
            "model -> {\n",
            "  \"function_call\": {\n",
            "    \"name\": \"wikipedia_search\",\n",
            "    \"args\": {\n",
            "      \"search_queries\": [\n",
            "        \"How do deep-sea creatures survive?\",\n",
            "        \"What are the adaptations of deep-sea animals?\",\n",
            "        \"Deep-sea life survival strategies\",\n",
            "        \"How do deep-sea animals get food?\",\n",
            "        \"What are the challenges of living in the deep sea?\",\n",
            "        \"Deep-sea environment and life\",\n",
            "        \"Adaptations of organisms to deep-sea environments\",\n",
            "        \"Deep-sea ecosystems and survival\"\n",
            "      ]\n",
            "    }\n",
            "  }\n",
            "}\n",
            "------------------------------------------------------------\n",
            "user -> {\n",
            "  \"function_response\": {\n",
            "    \"name\": \"wikipedia_search\",\n",
            "    \"response\": {\n",
            "      \"result\": [\n",
            "        \"## Relevant Information about Deep-Sea Creature Survival:\\n\\n**Energy Sources:**\\n\\n* **Marine Snow:**  Deep-sea organisms rely on organic matter (POM) that sinks from the surface, often repackaged into larger, faster-sinking particles known as \\\"marine snow.\\\"\\n* **Whale Falls:** The death of a whale provides a significant influx of organic matter, supporting a unique ecosystem through different stages: mobile scavengers, opportunistic colonizers, and sulfide-loving creatures.\\n* **Chemosynthesis:** \\n    * **Hydrothermal Vents:**  Bacteria utilize chemicals from these vents to produce energy, supporting a diverse ecosystem independent from sunlight.\\n    * **Cold Seeps:** Similar to hydrothermal vents, these areas release chemicals that fuel chemosynthetic bacteria, creating a specialized ecosystem.\\n\\n**Adaptations to the Deep Sea Environment:**\\n\\n* **Pressure:** Deep-sea creatures have evolved to survive immense pressure, with adaptations such as small size, gelatinous flesh, minimal skeletal structure, and the absence of internal cavities that could collapse.\\n* **Darkness:**  Organisms in the aphotic zone (perpetual darkness) have adapted to lack of light:\\n    * **Mesopelagic zone (Twilight zone):**  Large eyes for visual hunting and communication, bioluminescence for camouflage, and vertical migrations for food.\\n    * **Bathyal zone (Midnight zone):**  Reduced or absent organs, slimy skin, weak skeletal structure, and reliance on detritus for food.\\n* **Temperature:**  The deep sea is generally cold and stable, except near hydrothermal vents, where extreme temperature changes occur.\\n* **Salinity:** Salinity is generally constant in the deep sea, with notable exceptions like the Mediterranean Sea and brine pools.\\n\\n**Challenges to Deep Sea Research:**\\n\\n* **Extreme Pressure:** The significant difference in pressure between the seafloor and the surface makes it difficult to bring deep-sea creatures to the surface alive for study.\\n* **Limited Exploration:**  Only a small percentage of the ocean floor has been explored.\\n\\n**Research Innovations:**\\n\\n* **Pressurized Fish Traps:**  Designed to slowly adjust the internal pressure of captured creatures as they are brought to the surface.\\n* **PERISCOP:**  A capture device that maintains water pressure during ascent, keeping samples in a pressurized environment for study. \\n\\n\\nBased on:\\n  https://en.wikipedia.org/wiki/Deep-sea_community\",\n",
            "        \"## Deep-Sea Creature Survival Adaptations:\\n\\n* **Feeding:** Scavenging, predation, filtration, feeding on marine snow (organic material falling from upper waters).\\n* **Buoyancy:** Jelly-like flesh consisting mostly of glycosaminoglycans; flotation chamber filled with ammonium chloride.\\n* **Low Light:** Larger tubular eyes with only rod cells for upward vision; bioluminescence for counter-illumination camouflage.\\n* **Pressure:** Adaptations in proteins, anatomical structures, and metabolic systems to withstand high pressure; specific substitutions in \\u03b1-actin for muscle fiber stability; increased Trimethylamine N-oxide (TMAO) to protect proteins from pressure.\\n* **Chemosynthesis:** Some species rely on chemosynthetic bacteria at hydrothermal vents, which do not require sunlight for energy. \\n\\n\\nBased on:\\n  https://en.wikipedia.org/wiki/Deep_sea\",\n",
            "        \"Deep-sea creatures have evolved various adaptations to survive in the harsh conditions of the deep sea, including:\\n\\n* **Bioluminescence:** Many deep-sea fish produce their own light to attract prey, communicate, and find mates.\\n* **Large, sensitive eyes:** Some deep-sea fish have large eyes that are sensitive to the faint light in the deep sea.\\n* **Specialized sensory systems:** Deep-sea fish rely heavily on their senses of smell, touch, and sound to navigate and find food.\\n* **Slow metabolism:** Due to the limited food supply in the deep sea, deep-sea fish have slow metabolisms to conserve energy.\\n* **High internal pressure:** Deep-sea fish have the same pressure within their bodies as the surrounding water, which prevents them from being crushed.\\n* **Gelatinous layer:** Some deep-sea fish have a gelatinous layer beneath their skin or around their spine for buoyancy, growth, and swimming efficiency.\\n* **Unique protein structures:** Deep-sea fish have evolved proteins that are more resistant to pressure and temperature changes than those of shallow-water fish.\\n* **Hydrostatic pressure adaptations:** Deep-sea fish have adapted their cellular and physiological processes to withstand the extreme pressure of their environment.\\n* **Limited food supply:** The deep sea is a food-limited environment, so deep-sea fish have adaptations to help them find and capture prey.\\n* **High fat content:** Deep-sea fish have a high fat content to help them maintain buoyancy.\\n* **Reduced bone structure:** Deep-sea fish have reduced bone structure to decrease their weight. \\n\\nThese adaptations allow deep-sea creatures to thrive in a challenging environment that is unlike anything found on the surface of the Earth.\\n\\n\\nBased on:\\n  https://en.wikipedia.org/wiki/Deep-sea_fish\",\n",
            "        \"## Deep-sea life survival strategies of anglerfish:\\n\\n**Predation:**\\n\\n* **Luring:** Anglerfish use a modified dorsal fin spine (illicium) with a fleshy growth (esca) as bait to attract prey. \\n* **Bioluminescence:** Some deep-sea anglerfish use bioluminescent bacteria housed in their esca to lure prey.\\n* **Opportunistic foraging:**  Anglerfish show a range of preferred prey, with a preference for crustaceans and teleost fish. \\n* **Large jaws and stomachs:**  Anglerfish can distend their jaws and stomachs to swallow prey up to twice their size, allowing them to store food when abundant.\\n\\n**Reproduction:**\\n\\n* **Sexual dimorphism:**  Ceratioid anglerfish exhibit extreme sexual dimorphism, with females much larger than males.\\n* **Male parasitism:** Some male anglerfish attach to females and become parasitic, relying on the female for nutrients and providing sperm.\\n* **Symbiotic relationships:** Male anglerfish fuse with females via their circulatory systems, becoming dependent on the female for survival.\\n* **Multiple males:** Up to eight males can fuse with a single female.\\n* **Alternative reproduction:** Some species do not exhibit male parasitism and engage in temporary sexual attachments for spawning.\\n* **Evolution of symbiosis:** The low density of females in the deep sea, combined with the high energetic cost of finding mates, favors male parasitism.\\n\\n**Swimming and energy conservation:**\\n\\n* **Lethargic behavior:** Anglerfish are ambush predators and exhibit lethargic behavior to conserve energy in the energy-poor deep sea.\\n* **Inverted swimming:** Some species have been observed swimming inverted, possibly to attract prey from burrows.\\n\\n**Other:**\\n\\n* **Symbiotic bacteria:** The bioluminescent bacteria in anglerfish esca are experiencing genomic reduction, becoming dependent on their host.\\n* **Threatened by fishing:** Some anglerfish species are heavily fished and are listed as being outside safe biological limits. \\n\\n\\nBased on:\\n  https://en.wikipedia.org/wiki/Anglerfish\",\n",
            "        \"## Deep-sea Life Survival Strategies: Relevant Information Extracted\\n\\nThis document focuses on Thalassophobia (fear of deep bodies of water) and does not contain any information about deep-sea life survival strategies. \\n\\n\\nBased on:\\n  https://en.wikipedia.org/wiki/Thalassophobia\",\n",
            "        \"## Deep-sea life survival strategies in brine pools:\\n\\n**Harsh conditions:**\\n\\n* **High salinity:**  3-8 times greater than surrounding ocean, toxic to marine animals, can lead to death.\\n* **Anoxia:** Lack of oxygen, deadly to respiring organisms.\\n\\n**Survival strategies:**\\n\\n* **Chemosynthetic organisms:**  Utilize high concentrations of hydrogen sulfide and methane for energy.\\n* **Extremophiles:** Organisms adapted to survive extreme conditions.\\n* **Symbionts:** Organisms living in a mutually beneficial relationship.\\n* **Halophilic archaea:**  Tolerate and thrive in high salinity environments.\\n* **Microbes:**  Foundation of life in brine pools, contributing to nutrient cycling and supporting larger organisms.\\n* **Biofilms:**  Provide a protective layer for microbes in extreme environments.\\n* **Symbiotic relationships:**  Essential for survival, with bacteria playing a key role.\\n* **Nutrient cycling:**  Complex and diverse, including carbon, nitrogen, and sulfur cycling.\\n* **Methanogenesis:**  Important for carbon cycling, providing energy for organisms.\\n* **Nitrogen reduction:**  Thermodynamically favorable in anaerobic environments.\\n* **Sulfate reduction:**  Dominant in deeper layers of brine pools.\\n* **Epibiotic symbionts:**  Enhance the adaptation of organisms to brine pool environments.\\n\\n**Specific examples:**\\n\\n* **Apachecorbula muriatica:** Novel genus and species of bivalves found along the edge of brine pools.\\n* **Seep mussels:**  Thrive near cold seeps, with symbiotic relationships with methane-oxidizing bacteria.\\n* **Tubeworms and clams:**  Utilize chemosynthetic bacteria for energy.\\n\\n**Potential future uses:**\\n\\n* **Osmotic engine:**  Harnessing salinity for power generation.\\n* **HABIT instrument:**  Studying brine on Mars to investigate the presence of liquid water.\\n* **Bioprospecting:**  Exploring microorganisms for biomedical breakthroughs, including potential for new drugs. \\n\\n\\nBased on:\\n  https://en.wikipedia.org/wiki/Brine_pool\",\n",
            "        \"Deep-sea animals get food in a variety of ways, depending on their location and the availability of resources. Here's a breakdown of some key methods:\\n\\n* **Filter Feeding:** Many deep-sea animals, like sponges, filter food particles out of the water using specialized structures. They may use cilia to create currents, trapping small organisms like plankton, bacteria, and detritus. \\n* **Predation:** Some deep-sea creatures are predators, hunting and consuming other animals. These animals may use bioluminescence to attract prey, or have specialized adaptations like sharp teeth or venomous stings.\\n* **Scavenging:** Scavengers, such as some fish and invertebrates, feed on dead animals and decaying organic matter. This is especially important in the deep sea, where food is scarce.\\n* **Symbiosis:** Some deep-sea organisms form symbiotic relationships with other creatures. For example, some fish live in close association with hydrothermal vents and rely on chemosynthetic bacteria for food. \\n* **Chemosynthesis:**  In areas with limited sunlight, like hydrothermal vents and cold seeps, some bacteria use chemosynthesis to create food. They obtain energy from the oxidation of inorganic compounds, like hydrogen sulfide, and provide a food source for other animals. \\n\\n\\nBased on:\\n  https://en.wikipedia.org/wiki/Marine_life\",\n",
            "        \"Deep-sea animals get food in a variety of ways, depending on their specific niche.  The ocean is a vast ecosystem with a complex food web, with primary producers at the bottom and apex predators at the top.  Primary producers like algae, plants, bacteria, and protists acquire energy from sunlight through photosynthesis.  Herbivores, known as primary consumers, eat these plants, and carnivores, known as secondary consumers, eat the herbivores.  Some organisms are omnivores and eat both plants and animals.  The food chain ends with apex predators, which have no known predators in their ecosystem.  The text focuses on the food web and does not provide information on specific deep-sea animal feeding mechanisms. \\n\\n\\nBased on:\\n  https://en.wikipedia.org/wiki/Food\",\n",
            "        \"The article discusses the phrase \\\"from the river to the sea\\\" and its historical usage in the context of the Israeli-Palestinian conflict. It explores the varying interpretations of the phrase, its usage by both Palestinian and Israeli groups, and the controversies surrounding it. \\n\\n**Relevant information about challenges of living in the deep sea:**\\n\\nThis article does not contain any information about challenges of living in the deep sea. \\n\\n\\nBased on:\\n  https://en.wikipedia.org/wiki/From_the_river_to_the_sea\",\n",
            "        \"## Relevant Information about Deep-sea Ecosystems and Survival:\\n\\n**Hydrothermal Vents:**\\n\\n* **Definition:** Fissures on the seabed releasing geothermally heated water.\\n* **Location:** Found near volcanically active areas, mid-ocean ridges, ocean basins, and hotspots.\\n* **Formation:** Due to Earth's geological activity and abundant water.\\n* **Features:** Black smokers and white smokers.\\n* **Significance:** Support complex, productive ecosystems fueled by chemicals in vent fluids.\\n\\n**Chemosynthetic Ecosystems:**\\n\\n* **Base of Food Chain:** Chemosynthetic bacteria and archaea utilize chemicals for energy.\\n* **Diverse Organisms:** Giant tube worms, clams, limpets, shrimp, yeti crabs, eels, octopuses.\\n* **Symbiosis:**  Symbiotic relationships between chemosynthetic bacteria and macroinvertebrates.\\n* **Nutrient Acquisition:** Organisms acquire nutrients through symbiotic bacteria, which convert inorganic molecules into organic molecules.\\n* **Survival:** Vent organisms rely on continued existence of hydrothermal vent field as primary energy source.\\n\\n**Theory of Hydrothermal Origin of Life:**\\n\\n* **Possible Origin:** Hydrothermal vents provide suitable conditions for chemical evolution processes.\\n* **Iron-Sulfur World Theory:** Proposes early metabolism predating genetics.\\n* **Organic Molecule Synthesis:**  Minerals in vents catalyze the creation of simple organic molecules.\\n* **Supercritical CO2:**  Presence at some vents promotes organic reaction rates.\\n* **Alkaline Hydrothermal Vents:**  Specific type of vent with suitable pH conditions for emerging life.\\n* **Controversy:**  Absence of wet-dry cycles and UV exposure, differences in ionic concentration compared to intracellular fluids.\\n\\n**Exploration and Discovery:**\\n\\n* **First Evidence:** 1976, Gal\\u00e1pagos Rift, using Deep-Tow seafloor imaging system.\\n* **Direct Observations:** 1977, Gal\\u00e1pagos Rift, using submersible DSV Alvin.\\n* **Black Smokers Discovery:** 1979, East Pacific Rise, using submersible Alvin.\\n* **Deepest Known Vents:** Caribbean Sea, 5,000 meters (16,000 feet).\\n* **Distribution:** Along Earth's plate boundaries and at intra-plate locations like hotspots.\\n* **Biogeographic Provinces:**  At least 11 recognized provinces.\\n\\n**Exploitation:**\\n\\n* **Mineral Resources:** Hydrothermal vents form exploitable deposits of gold, copper, cobalt, rare earth metals.\\n* **Seafloor Mining:**  Increasing interest in extracting minerals from vents.\\n* **Environmental Concerns:** Dust plumes, vent collapse, methane release, noise pollution, light pollution, sediment plumes, heavy metal release.\\n\\n**Conservation:**\\n\\n* **Scientific Impact:** Scientists may be major contributors to habitat damage.\\n* **Code of Practice:** Agreement for scientists but no formal international agreement.\\n* **Post-Mining Recolonization:**  Takes 3-5 years for bacteria, 10 years for megafauna to return.\\n* **Species Composition Shift:**  Recolonized ecosystems often have different species composition.\\n\\n**Geochronological Dating:**\\n\\n* **Methods:**  Radiometric dating and electron spin resonance dating.\\n* **Challenges:**  Mineral purity, age range limitations, heating effects, multiple mineral formation episodes.\\n\\n\\nBased on:\\n  https://en.wikipedia.org/wiki/Hydrothermal_vent\",\n",
            "        \"## Relevant information about Deep-Sea Ecosystems and Survival:\\n\\n**Threats to Deep-Sea Ecosystems:**\\n\\n* **Sediment Plumes:**  Deep-sea mining generates plumes of fine sediment particles that can remain suspended in the water column for extended periods, spreading over large areas. These plumes increase water turbidity (cloudiness) and can harm filter-feeding organisms and impact the food web.\\n* **Benthic Disturbance:**  Removing parts of the seafloor disrupts the habitat of benthic organisms, potentially causing significant damage to fragile deep-sea ecosystems.\\n* **Noise and Light Pollution:**  Deep-sea mining generates noise and light pollution that can negatively impact marine life. This includes behavioral changes, communication difficulties, and hearing damage in fish and marine mammals. \\n\\n**Impact on Deep-Sea Organisms:**\\n\\n* **Polymetallic nodule fields** are hotspots of abundance and diversity for abyssal fauna. Mining these fields can destroy crucial habitats and impact biodiversity.\\n* **Sediment plumes** can clog filter-feeding organisms such as manta rays.\\n* **Light and turbidity** inhibit growth of photosynthesizing organisms, including coral and phytoplankton, which are at the bottom of the food chain. This can reduce food availability for other organisms.\\n* **Metals** carried by plumes can accumulate in tissues of shellfish and work their way through the food web, impacting predators, including humans.\\n\\n**Studies Highlight Concern:**\\n\\n*  Researchers have identified **over 1,000 species, 90% previously unknown, with over 50% dependent on polymetallic nodules for survival**, highlighting the vulnerability of these ecosystems.\\n*  While some reports claim that biomass loss from deep-sea mining is smaller than that from land mining, others suggest that deep-sea mining would be **approximately 25 times worse for biodiversity** than land mining.\\n\\n**Recovery Time:**\\n\\n*  Preliminary studies indicate that the **seabed requires decades to recover** from even minor disturbances, raising concerns about the long-term impact of deep-sea mining.\\n\\n**Need for Further Research:**\\n\\n*  Deep-sea mining has yet to receive a **comprehensive evaluation of its environmental impacts**. More research is urgently needed to fully understand the potential risks to deep-sea ecosystems. \\n\\n\\nBased on:\\n  https://en.wikipedia.org/wiki/Deep_sea_mining\"\n",
            "      ]\n",
            "    }\n",
            "  }\n",
            "}\n",
            "------------------------------------------------------------\n",
            "model -> {\n",
            "  \"text\": \"Deep-sea life faces unique challenges due to the extreme environment. Here's how they survive:\\n\\n* **Food Scarcity:**  The deep sea has limited food sources. Creatures rely on marine snow (sinking organic matter), whale falls (dead whale carcasses), and chemosynthesis (using chemicals from hydrothermal vents or cold seeps for energy).\\n* **Pressure:** Deep-sea animals have evolved to withstand immense pressure. They have small sizes, gelatinous flesh, minimal skeletal structure, and lack internal cavities that could collapse.\\n* **Darkness:**  The lack of sunlight has led to adaptations like large eyes for visual hunting and communication, bioluminescence for camouflage, and vertical migrations for food in the twilight zone. In the midnight zone, organisms have reduced or absent organs, relying on detritus for food. \\n* **Temperature:**  While generally cold and stable, deep-sea temperatures vary near hydrothermal vents, where extreme changes occur.\\n* **Salinity:**  Deep-sea salinity is generally constant, except in areas like the Mediterranean Sea and brine pools.\\n\\nDeep-sea creatures have evolved remarkable adaptations to thrive in this challenging environment. \\n\"\n",
            "}\n",
            "------------------------------------------------------------\n"
          ]
        }
      ],
      "source": [
        "for content in chat.history:\n",
        "  part = content.parts[0]\n",
        "\n",
        "  print(f'{content.role} -> ', end='')\n",
        "  print(json.dumps(type(part).to_dict(part), indent=2))\n",
        "  print('---' * 20)\n"
      ]
    },
    {
      "cell_type": "markdown",
      "metadata": {
        "id": "WDWc9Fj9Ig6A"
      },
      "source": [
        "In the chat history you can see all 4 steps:\n",
        "\n",
        "1. The user sent the query.\n",
        "2. The model replied with a `genai.protos.FunctionCall` calling the `wikipedia_search` with a number of relevant searches.\n",
        "3. Because you set `enable_automatic_function_calling=True` when creating the `genai.ChatSession`, it  executed the search function and returned the list of article summaries to the model.\n",
        "4. Folliwing the instructions in the prompt, the model generated a final answer based on those summaries.\n"
      ]
    },
    {
      "cell_type": "markdown",
      "metadata": {
        "id": "PJP1EAgfnPUA"
      },
      "source": [
        "## [Optional] Manually execute the function call"
      ]
    },
    {
      "cell_type": "markdown",
      "metadata": {
        "id": "Sa5ke2ssKl7M"
      },
      "source": [
        "If you want to understand what happened behind the scenes, this section executes the `FunctionCall` manually to demonstrate."
      ]
    },
    {
      "cell_type": "code",
      "execution_count": 12,
      "metadata": {
        "id": "wavbHrL3K5vo"
      },
      "outputs": [],
      "source": [
        "chat = model.start_chat()"
      ]
    },
    {
      "cell_type": "code",
      "execution_count": 13,
      "metadata": {
        "id": "ON4LTcmiLs2E"
      },
      "outputs": [],
      "source": [
        "result = chat.send_message(instructions.format(query=query))"
      ]
    },
    {
      "cell_type": "markdown",
      "metadata": {
        "id": "__JN3YuHe7fR"
      },
      "source": [
        "Initially the model returns a FunctionCall:"
      ]
    },
    {
      "cell_type": "code",
      "execution_count": 14,
      "metadata": {
        "id": "Lgngdvcdi06F"
      },
      "outputs": [
        {
          "name": "stdout",
          "output_type": "stream",
          "text": [
            "{\n",
            "  \"name\": \"wikipedia_search\",\n",
            "  \"args\": {\n",
            "    \"search_queries\": [\n",
            "      \"How do deep-sea creatures survive?\",\n",
            "      \"What are the adaptations of deep-sea life?\",\n",
            "      \"Deep-sea life survival mechanisms\",\n",
            "      \"Challenges of deep-sea survival\",\n",
            "      \"Deep-sea environment and its effect on life\",\n",
            "      \"How do deep-sea animals find food?\",\n",
            "      \"How do deep-sea animals reproduce?\",\n",
            "      \"Deep-sea food web\",\n",
            "      \"Adaptations of deep-sea fish\",\n",
            "      \"Deep-sea ecosystems\"\n",
            "    ]\n",
            "  }\n",
            "}\n"
          ]
        }
      ],
      "source": [
        "fc = result.candidates[0].content.parts[0].function_call\n",
        "fc = type(fc).to_dict(fc)\n",
        "print(json.dumps(fc, indent=2))"
      ]
    },
    {
      "cell_type": "code",
      "execution_count": 15,
      "metadata": {
        "id": "Bfp1Kqv7PE8N"
      },
      "outputs": [
        {
          "data": {
            "text/plain": [
              "'wikipedia_search'"
            ]
          },
          "execution_count": 15,
          "metadata": {},
          "output_type": "execute_result"
        }
      ],
      "source": [
        "fc['name']"
      ]
    },
    {
      "cell_type": "markdown",
      "metadata": {
        "id": "xpD3axtDmfZb"
      },
      "source": [
        "Call the function with generated arguments to get the results."
      ]
    },
    {
      "cell_type": "code",
      "execution_count": 16,
      "metadata": {
        "id": "Ek4g-CTAPSou"
      },
      "outputs": [
        {
          "name": "stdout",
          "output_type": "stream",
          "text": [
            "Searching for \"How do deep-sea creatures survive?\"\n",
            "Related search terms: ['Deep-sea community', 'Deep sea', 'Deep-sea fish']\n",
            "Fetching page: \"Deep-sea community\"\n",
            "Information Source: https://en.wikipedia.org/wiki/Deep-sea_community\n",
            "Fetching page: \"Deep sea\"\n",
            "Information Source: https://en.wikipedia.org/wiki/Deep_sea\n",
            "Fetching page: \"Deep-sea fish\"\n",
            "Information Source: https://en.wikipedia.org/wiki/Deep-sea_fish\n",
            "Searching for \"What are the adaptations of deep-sea life?\"\n",
            "Related search terms: ['Deep sea', 'Deep-sea fish', 'The Deep Blue Sea (play)']\n",
            "Fetching page: \"The Deep Blue Sea (play)\"\n",
            "Information Source: https://en.wikipedia.org/wiki/The_Deep_Blue_Sea_(play)\n",
            "Searching for \"Deep-sea life survival mechanisms\"\n",
            "Related search terms: ['Deep-sea community', 'Hydrothermal vent', 'Deep sea mining']\n",
            "Fetching page: \"Hydrothermal vent\"\n",
            "Information Source: https://en.wikipedia.org/wiki/Hydrothermal_vent\n",
            "Fetching page: \"Deep sea mining\"\n",
            "Information Source: https://en.wikipedia.org/wiki/Deep_sea_mining\n",
            "Searching for \"Challenges of deep-sea survival\"\n",
            "Related search terms: ['Deepsea Challenger', 'Deep-sea community', 'Stranded Deep']\n",
            "Fetching page: \"Deepsea Challenger\"\n",
            "Information Source: https://en.wikipedia.org/wiki/Deepsea_Challenger\n",
            "Fetching page: \"Stranded Deep\"\n",
            "Information Source: https://en.wikipedia.org/wiki/Stranded_Deep\n",
            "Searching for \"Deep-sea environment and its effect on life\"\n",
            "Related search terms: ['Deep-sea fish', 'Thalassophobia', 'Deep-sea community']\n",
            "Fetching page: \"Thalassophobia\"\n",
            "Information Source: https://en.wikipedia.org/wiki/Thalassophobia\n",
            "Searching for \"How do deep-sea animals find food?\"\n",
            "Related search terms: ['Deep-sea fish', 'Deep-sea community', 'Marine life']\n",
            "Fetching page: \"Marine life\"\n",
            "Information Source: https://en.wikipedia.org/wiki/Marine_life\n",
            "Searching for \"How do deep-sea animals reproduce?\"\n",
            "Related search terms: ['Marine life', 'Sea anemone', 'Sea cucumber']\n",
            "Fetching page: \"Sea anemone\"\n",
            "Information Source: https://en.wikipedia.org/wiki/Sea_anemone\n",
            "Fetching page: \"Sea cucumber\"\n",
            "Information Source: https://en.wikipedia.org/wiki/Sea_cucumber\n",
            "Searching for \"Deep-sea food web\"\n",
            "Related search terms: ['Deep-sea community', 'Marine food web', 'Deep-sea fish']\n",
            "Fetching page: \"Marine food web\"\n",
            "Information Source: https://en.wikipedia.org/wiki/Marine_food_web\n",
            "Searching for \"Adaptations of deep-sea fish\"\n",
            "Related search terms: ['Deep-sea fish', 'Deep sea', 'Anglerfish']\n",
            "Fetching page: \"Anglerfish\"\n",
            "Information Source: https://en.wikipedia.org/wiki/Anglerfish\n",
            "Searching for \"Deep-sea ecosystems\"\n",
            "Related search terms: ['Deep-sea community', 'Deep sea', 'Deep sea mining']\n",
            "Information Sources:\n",
            "     https://en.wikipedia.org/wiki/Deep-sea_community\n",
            "     https://en.wikipedia.org/wiki/Deep_sea\n",
            "     https://en.wikipedia.org/wiki/Deep-sea_fish\n",
            "     https://en.wikipedia.org/wiki/The_Deep_Blue_Sea_(play)\n",
            "     https://en.wikipedia.org/wiki/Hydrothermal_vent\n",
            "     https://en.wikipedia.org/wiki/Deep_sea_mining\n",
            "     https://en.wikipedia.org/wiki/Deepsea_Challenger\n",
            "     https://en.wikipedia.org/wiki/Stranded_Deep\n",
            "     https://en.wikipedia.org/wiki/Thalassophobia\n",
            "     https://en.wikipedia.org/wiki/Marine_life\n",
            "     https://en.wikipedia.org/wiki/Sea_anemone\n",
            "     https://en.wikipedia.org/wiki/Sea_cucumber\n",
            "     https://en.wikipedia.org/wiki/Marine_food_web\n",
            "     https://en.wikipedia.org/wiki/Anglerfish\n"
          ]
        }
      ],
      "source": [
        "summaries = wikipedia_search(**fc['args'])"
      ]
    },
    {
      "cell_type": "markdown",
      "metadata": {
        "id": "kv4WGnG_gT3F"
      },
      "source": [
        "Now send the `FunctionResult` to the model."
      ]
    },
    {
      "cell_type": "code",
      "execution_count": 17,
      "metadata": {
        "id": "bcLuieHqj9PW"
      },
      "outputs": [
        {
          "data": {
            "text/markdown": [
              "> Deep-sea life faces unique challenges to survive, including immense pressure, darkness, and limited food.  Here's what I found:\n",
              "> \n",
              "> * **Adaptations:** Deep-sea creatures have evolved a variety of adaptations to survive in these extreme conditions. These include bioluminescence for communication and attracting prey, specialized senses to navigate in the dark, and slow metabolisms to conserve energy.\n",
              "> * **Food Sources:**  Food is scarce in the deep sea, so many creatures are scavengers, feeding on dead organisms that fall from above.  Some rely on chemosynthesis, where bacteria use chemicals from hydrothermal vents to produce energy.\n",
              "> * **Challenges of Exploration:** Deep-sea exploration is challenging due to the extreme conditions and the cost of research.  This means we still have much to learn about how life survives in these depths. \n"
            ],
            "text/plain": [
              "<IPython.core.display.Markdown object>"
            ]
          },
          "execution_count": 17,
          "metadata": {},
          "output_type": "execute_result"
        }
      ],
      "source": [
        "response = chat.send_message(\n",
        "    genai.protos.Content(\n",
        "      parts=[genai.protos.Part(\n",
        "          function_response = genai.protos.FunctionResponse(\n",
        "            name='wikipedia_search',\n",
        "            response={'result': summaries}\n",
        "          )\n",
        "      )]\n",
        "    )\n",
        ")\n",
        "\n",
        "to_markdown(response.text)"
      ]
    },
    {
      "cell_type": "markdown",
      "metadata": {
        "id": "L2Vfv8xpmuV1"
      },
      "source": [
        "## Re-ranking the search results"
      ]
    },
    {
      "cell_type": "markdown",
      "metadata": {
        "id": "cQ3JUJLeGGzA"
      },
      "source": [
        "Helper function to embed the content:"
      ]
    },
    {
      "cell_type": "code",
      "execution_count": 18,
      "metadata": {
        "id": "mSkE7EynJBwF"
      },
      "outputs": [],
      "source": [
        "def get_embeddings(content: list[str]) -> np.ndarray:\n",
        "  embeddings = genai.embed_content('models/embedding-001', content, 'SEMANTIC_SIMILARITY')\n",
        "  embds = embeddings.get('embedding', None)\n",
        "  embds = np.array(embds).reshape(len(embds), -1)\n",
        "  return embds"
      ]
    },
    {
      "cell_type": "markdown",
      "metadata": {
        "id": "tip8ArqJf_ep"
      },
      "source": [
        "Please refer to the [embeddings guide](https://ai.google.dev/docs/embeddings_guide) for more information on embeddings."
      ]
    },
    {
      "cell_type": "markdown",
      "metadata": {
        "id": "nSPyycFuFj-_"
      },
      "source": [
        "Your next step is to define functions that you can use to calculate similarity scores between two embedding vectors. These scores will help you decide which embedding vector is the most relevant vector to the user's query.\n"
      ]
    },
    {
      "cell_type": "markdown",
      "metadata": {
        "id": "ltbB0vDsKQtI"
      },
      "source": [
        "You will now implement cosine similarity as your metric. Here returned embedding vectors will be of unit length and hence their L1 norm (`np.linalg.norm()`) will be ~1. Hence, calculating cosine similarity is esentially same as calculating their dot product score."
      ]
    },
    {
      "cell_type": "code",
      "execution_count": 19,
      "metadata": {
        "id": "9iDFdzq_JWJW"
      },
      "outputs": [],
      "source": [
        "def dot_product(a: np.ndarray, b: np.ndarray):\n",
        "  return (a @ b.T)"
      ]
    },
    {
      "cell_type": "markdown",
      "metadata": {
        "id": "MrF_1c_M_Hw3"
      },
      "source": [
        "### Similarity with user's query\n",
        "\n",
        "Now it's time to find the most relevant search result returned by the Wikipedia API.\n",
        "\n",
        "Use Gemini API to get embeddings for user's query and search results."
      ]
    },
    {
      "cell_type": "code",
      "execution_count": 20,
      "metadata": {
        "id": "gK9ryjftGDNe"
      },
      "outputs": [],
      "source": [
        "search_res = get_embeddings(summaries)\n",
        "embedded_query = get_embeddings([query])"
      ]
    },
    {
      "cell_type": "markdown",
      "metadata": {
        "id": "2wwWq30uGRG3"
      },
      "source": [
        "Calculate similarity score:"
      ]
    },
    {
      "cell_type": "code",
      "execution_count": 21,
      "metadata": {
        "id": "jWlFNYIsGV0X"
      },
      "outputs": [],
      "source": [
        "sim_value = dot_product(search_res, embedded_query)"
      ]
    },
    {
      "cell_type": "markdown",
      "metadata": {
        "id": "bJW1pQQXG2w2"
      },
      "source": [
        "using `np.argmax` best candidate is selected.\n",
        "\n",
        "**Users's Input:** Explain how deep-sea life survives.\n",
        "\n",
        "**Answer:**"
      ]
    },
    {
      "cell_type": "code",
      "execution_count": 22,
      "metadata": {
        "id": "8vDMDnCsG8Wn"
      },
      "outputs": [
        {
          "name": "stdout",
          "output_type": "stream",
          "text": [
            "## Deep-sea Life Survival Mechanisms:\n",
            "\n",
            "This document focuses on deep-sea mining and its environmental impacts, not on deep-sea life survival mechanisms. It does not provide information about the adaptations and strategies used by organisms to survive in the harsh conditions of the deep sea. \n",
            "\n",
            "\n",
            "Based on:\n",
            "  https://en.wikipedia.org/wiki/Deep_sea_mining\n"
          ]
        }
      ],
      "source": [
        "print(summaries[np.argmax(sim_value)])"
      ]
    },
    {
      "cell_type": "markdown",
      "metadata": {
        "id": "Ozn6mIFvoyJU"
      },
      "source": [
        "### Similarity with Hypothetical Document Embeddings (HyDE)\n",
        "\n",
        "Drawing inspiration from [Gao et al](https://arxiv.org/abs/2212.10496) the objective here is to generate a template answer to the user's query using `gemini-2.0-flash`'s internal knowledge. This hypothetical answer will serve as a baseline to calculate relevance of all the search results."
      ]
    },
    {
      "cell_type": "code",
      "execution_count": 23,
      "metadata": {
        "id": "J7m5KAkMREBH"
      },
      "outputs": [
        {
          "data": {
            "text/markdown": [
              "> Life in the deep sea is a fascinating world of adaptation and resilience. These creatures have had to develop incredible ways to survive in a place where sunlight doesn't reach, pressure is immense, and food is scarce.\n",
              "> \n",
              "> First, there's the issue of **[food source]**.  Since photosynthesis is impossible at those depths, deep-sea life relies on **[alternative food source]**. Some creatures are **[describe feeding strategy]**, while others are **[describe another feeding strategy]**. This makes the food web incredibly intricate and delicate.\n",
              "> \n",
              "> Then there's the **[pressure]**. The deep sea is like a giant weight pressing down on everything. To survive, creatures have developed **[adaptation related to pressure]**, which helps them thrive in such extreme conditions. \n",
              "> \n",
              "> And let's not forget the **[temperature]**.  It's **[describe temperature]**, but some creatures can tolerate even **[describe extreme temperature]**.  They have **[adaptation related to temperature]** to make sure they can survive in these frigid waters.\n",
              "> \n",
              "> Finally, the **[lack of light]**.  Without sunlight, it's a world of **[describe darkness]**.  Many creatures have **[adaptation related to darkness]**, like **[describe specific adaptation]**, to help them navigate and find their way around.\n",
              "> \n",
              "> All these adaptations, from their unique feeding habits to their incredible resistance to pressure, make deep-sea life one of the most fascinating and resilient ecosystems on Earth. It's a world of constant challenges, but also of incredible beauty and wonder. \n"
            ],
            "text/plain": [
              "<IPython.core.display.Markdown object>"
            ]
          },
          "execution_count": 23,
          "metadata": {},
          "output_type": "execute_result"
        }
      ],
      "source": [
        "hypothetical_ans_model = genai.GenerativeModel('gemini-2.0-flash')\n",
        "res = hypothetical_ans_model.generate_content(f\"\"\"Generate a hypothetical answer\n",
        "to the user's query by using your own knowledge. Assume that you know everything\n",
        "about the said topic. Do not use factual information, instead use placeholders\n",
        "to complete your answer. Your answer should feel like it has been written by a human.\n",
        "\n",
        "query: {query}\"\"\")\n",
        "\n",
        "to_markdown(res.text)"
      ]
    },
    {
      "cell_type": "markdown",
      "metadata": {
        "id": "85f4MpLgrYbW"
      },
      "source": [
        "Use Gemini API to get embeddings for the baseline answer and compare them with search results"
      ]
    },
    {
      "cell_type": "code",
      "execution_count": 24,
      "metadata": {
        "id": "fSI6-5eYI3me"
      },
      "outputs": [],
      "source": [
        "hypothetical_ans = get_embeddings([res.text])"
      ]
    },
    {
      "cell_type": "markdown",
      "metadata": {
        "id": "WxYGEWbqrh44"
      },
      "source": [
        "Calculate similarity scores to rank the search results"
      ]
    },
    {
      "cell_type": "code",
      "execution_count": 25,
      "metadata": {
        "id": "99sjvMtlJfL_"
      },
      "outputs": [],
      "source": [
        "sim_value = dot_product(search_res, hypothetical_ans)"
      ]
    },
    {
      "cell_type": "code",
      "execution_count": 26,
      "metadata": {
        "id": "C32IhIapQFNa"
      },
      "outputs": [
        {
          "data": {
            "text/plain": [
              "array([[0.83514002],\n",
              "       [0.83081487],\n",
              "       [0.84890951],\n",
              "       [0.70791981],\n",
              "       [0.78692995],\n",
              "       [0.79417004],\n",
              "       [0.78864686],\n",
              "       [0.74766133],\n",
              "       [0.7662298 ],\n",
              "       [0.87420404],\n",
              "       [0.72367365],\n",
              "       [0.75990845],\n",
              "       [0.75220328]])"
            ]
          },
          "execution_count": 26,
          "metadata": {},
          "output_type": "execute_result"
        }
      ],
      "source": [
        "sim_value"
      ]
    },
    {
      "cell_type": "markdown",
      "metadata": {
        "id": "wJ7pklxursSk"
      },
      "source": [
        "using `np.argmax` best candidate is selected.\n",
        "\n",
        "**Users's Input:** Explain how deep-sea life survives.\n",
        "\n",
        "**Answer:**"
      ]
    },
    {
      "cell_type": "code",
      "execution_count": 27,
      "metadata": {
        "id": "MzTfyU_mJ8-M"
      },
      "outputs": [
        {
          "data": {
            "text/markdown": [
              "> Deep-sea animals find food in various ways depending on their habitat and the type of food available. Some deep-sea animals are scavengers, feeding on dead animals and plants that fall to the ocean floor. Others are predators, hunting and capturing live prey. Some deep-sea animals have special adaptations that allow them to survive in the dark, cold, and high-pressure environment of the deep ocean. For example, some have bioluminescent organs that allow them to attract prey or mates. Others have long, sensitive tentacles that allow them to sense prey in the dark.\n",
              "> \n",
              "> \n",
              "> Based on:\n",
              ">   https://en.wikipedia.org/wiki/Marine_life"
            ],
            "text/plain": [
              "<IPython.core.display.Markdown object>"
            ]
          },
          "execution_count": 27,
          "metadata": {},
          "output_type": "execute_result"
        }
      ],
      "source": [
        "to_markdown(summaries[np.argmax(sim_value)])"
      ]
    },
    {
      "cell_type": "markdown",
      "metadata": {
        "id": "UjDN2OUpsL6M"
      },
      "source": [
        "You have now created a search re-ranking engine using embeddings!"
      ]
    },
    {
      "cell_type": "markdown",
      "metadata": {
        "id": "AKH2vs2Lc1R1"
      },
      "source": [
        "## Next steps\n",
        "\n",
        "I hope you found this example helpful! Check out more examples in the [Gemini Guide](https://github.com/google-gemini/gemini-guide/) to learn more."
      ]
    }
  ],
  "metadata": {
    "colab": {
      "name": "Search_reranking_using_embeddings.ipynb",
      "toc_visible": true
    },
    "kernelspec": {
      "display_name": "Python 3",
      "name": "python3"
    }
  },
  "nbformat": 4,
  "nbformat_minor": 0
}
