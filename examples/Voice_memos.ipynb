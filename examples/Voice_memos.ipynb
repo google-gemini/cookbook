{
  "cells": [
    {
      "cell_type": "markdown",
      "metadata": {
        "id": "Tce3stUlHN0L"
      },
      "source": [
        "##### Copyright 2025 Google LLC."
      ]
    },
    {
      "cell_type": "code",
      "execution_count": 2,
      "metadata": {
        "cellView": "form",
        "id": "tuOe1ymfHZPu"
      },
      "outputs": [],
      "source": [
        "# @title Licensed under the Apache License, Version 2.0 (the \"License\");\n",
        "# you may not use this file except in compliance with the License.\n",
        "# You may obtain a copy of the License at\n",
        "#\n",
        "# https://www.apache.org/licenses/LICENSE-2.0\n",
        "#\n",
        "# Unless required by applicable law or agreed to in writing, software\n",
        "# distributed under the License is distributed on an \"AS IS\" BASIS,\n",
        "# WITHOUT WARRANTIES OR CONDITIONS OF ANY KIND, either express or implied.\n",
        "# See the License for the specific language governing permissions and\n",
        "# limitations under the License."
      ]
    },
    {
      "cell_type": "markdown",
      "metadata": {
        "id": "084u8u0DpBlo"
      },
      "source": [
        "# Voice memos"
      ]
    },
    {
      "cell_type": "markdown",
      "metadata": {
        "id": "wnQ_LVlzIeXo"
      },
      "source": [
        "<a target=\"_blank\" href=\"https://colab.research.google.com/github/google-gemini/cookbook/blob/main/examples/Voice_memos.ipynb\"><img src=\"https://colab.research.google.com/assets/colab-badge.svg\" height=30/></a>"
      ]
    },
    {
      "cell_type": "markdown",
      "metadata": {
        "id": "q7QvXQMrIhuZ"
      },
      "source": [
        "This notebook provides a quick example of how to work with audio and text files in the same prompt. You'll use the Gemini API to help you generate ideas for your next blog post, based on voice memos you recorded on your phone, and previous articles you've written."
      ]
    },
    {
      "cell_type": "code",
      "execution_count": 3,
      "metadata": {
        "id": "qLuL9m7KhvxR"
      },
      "outputs": [],
      "source": [
        "%pip install -U -q \"google-genai>=1.0.0\""
      ]
    },
    {
      "cell_type": "markdown",
      "metadata": {
        "id": "l8g4hTRotheH"
      },
      "source": [
        "### Setup your API key\n",
        "\n",
        "To run the following cell, your API key must be stored it in a Colab Secret named `GOOGLE_API_KEY`. If you don't already have an API key, or you're not sure how to create a Colab Secret, see [Authentication](https://github.com/google-gemini/cookbook/blob/main/quickstarts/Authentication.ipynb) for an example."
      ]
    },
    {
      "cell_type": "code",
      "execution_count": 17,
      "metadata": {
        "id": "d6lYXRcjthKV"
      },
      "outputs": [],
      "source": [
        "from google.colab import userdata\n",
        "from google import genai\n",
        "\n",
        "GOOGLE_API_KEY=userdata.get('GOOGLE_API_KEY')\n",
        "client = genai.Client(api_key=GOOGLE_API_KEY)"
      ]
    },
    {
      "cell_type": "markdown",
      "metadata": {
        "id": "Mim5jZB6E1ag"
      },
      "source": [
        "Install PDF processing tools."
      ]
    },
    {
      "cell_type": "code",
      "execution_count": 19,
      "metadata": {
        "colab": {
          "base_uri": "https://localhost:8080/"
        },
        "id": "4YjBq1mCE2cX",
        "outputId": "d9d1b6d5-dc5b-4a46-c310-954de4412c47"
      },
      "outputs": [
        {
          "output_type": "stream",
          "name": "stdout",
          "text": [
            "Reading package lists...\n",
            "Building dependency tree...\n",
            "Reading state information...\n",
            "poppler-utils is already the newest version (22.02.0-2ubuntu0.7).\n",
            "0 upgraded, 0 newly installed, 0 to remove and 34 not upgraded.\n"
          ]
        }
      ],
      "source": [
        "!apt install -q poppler-utils"
      ]
    },
    {
      "cell_type": "markdown",
      "metadata": {
        "id": "MNvhBdoDFnTC"
      },
      "source": [
        "## Upload your audio and text files\n"
      ]
    },
    {
      "cell_type": "code",
      "execution_count": 23,
      "metadata": {
        "colab": {
          "base_uri": "https://localhost:8080/"
        },
        "id": "V4XeFdX1rxaE",
        "outputId": "efdd0d0e-85df-434e-a711-51c8d99c0c98"
      },
      "outputs": [
        {
          "output_type": "stream",
          "name": "stdout",
          "text": [
            "wget: missing URL\n",
            "Usage: wget [OPTION]... [URL]...\n",
            "\n",
            "Try `wget --help' for more options.\n",
            "--2025-04-25 09:34:41--  https://storage.googleapis.com/generativeai-downloads/data/A_Possible_Future_for_Online_Content.pdf\n",
            "Resolving storage.googleapis.com (storage.googleapis.com)... 74.125.135.207, 74.125.142.207, 74.125.195.207, ...\n",
            "Connecting to storage.googleapis.com (storage.googleapis.com)|74.125.135.207|:443... connected.\n",
            "HTTP request sent, awaiting response... 200 OK\n",
            "Length: 2798700 (2.7M) [application/pdf]\n",
            "Saving to: ‘A_Possible_Future_for_Online_Content.pdf.3’\n",
            "\n",
            "A_Possible_Future_f 100%[===================>]   2.67M  --.-KB/s    in 0.03s   \n",
            "\n",
            "2025-04-25 09:34:41 (82.8 MB/s) - ‘A_Possible_Future_for_Online_Content.pdf.3’ saved [2798700/2798700]\n",
            "\n",
            "--2025-04-25 09:34:41--  https://storage.googleapis.com/generativeai-downloads/data/Unanswered_Questions_and_Endless_Possibilities.pdf\n",
            "Resolving storage.googleapis.com (storage.googleapis.com)... 74.125.135.207, 74.125.142.207, 74.125.195.207, ...\n",
            "Connecting to storage.googleapis.com (storage.googleapis.com)|74.125.135.207|:443... connected.\n",
            "HTTP request sent, awaiting response... 200 OK\n",
            "Length: 4016102 (3.8M) [application/pdf]\n",
            "Saving to: ‘Unanswered_Questions_and_Endless_Possibilities.pdf.3’\n",
            "\n",
            "Unanswered_Question 100%[===================>]   3.83M  --.-KB/s    in 0.05s   \n",
            "\n",
            "2025-04-25 09:34:42 (80.0 MB/s) - ‘Unanswered_Questions_and_Endless_Possibilities.pdf.3’ saved [4016102/4016102]\n",
            "\n"
          ]
        }
      ],
      "source": [
        "!wget https://storage.googleapis.com/generativeai-downloads/data/Walking_thoughts_3.m4a\n",
        "!wget https://storage.googleapis.com/generativeai-downloads/data/A_Possible_Future_for_Online_Content.pdf\n",
        "!wget https://storage.googleapis.com/generativeai-downloads/data/Unanswered_Questions_and_Endless_Possibilities.pdf"
      ]
    },
    {
      "cell_type": "code",
      "execution_count": 22,
      "metadata": {
        "id": "_HzrDdp2Q1Cu"
      },
      "outputs": [],
      "source": [
        "audio_file_name = \"Walking_thoughts_3.m4a\"\n",
        "audio_file = client.files.upload(file=audio_file_name)"
      ]
    },
    {
      "cell_type": "markdown",
      "metadata": {
        "id": "MpAU9V3YEvXh"
      },
      "source": [
        "## Extract text from the PDFs"
      ]
    },
    {
      "cell_type": "code",
      "execution_count": 8,
      "metadata": {
        "id": "NttNb-M_ExlK"
      },
      "outputs": [],
      "source": [
        "!pdftotext A_Possible_Future_for_Online_Content.pdf\n",
        "!pdftotext Unanswered_Questions_and_Endless_Possibilities.pdf"
      ]
    },
    {
      "cell_type": "code",
      "execution_count": 9,
      "metadata": {
        "id": "LYA-OlD6Gw3v"
      },
      "outputs": [],
      "source": [
        "blog_file_name = \"A_Possible_Future_for_Online_Content.txt\"\n",
        "blog_file = client.files.upload(file=blog_file_name)"
      ]
    },
    {
      "cell_type": "code",
      "execution_count": 10,
      "metadata": {
        "id": "9Sf63anDG317"
      },
      "outputs": [],
      "source": [
        "blog_file_name2 = \"Unanswered_Questions_and_Endless_Possibilities.txt\"\n",
        "blog_file2 = client.files.upload(file=blog_file_name2)"
      ]
    },
    {
      "cell_type": "markdown",
      "metadata": {
        "id": "EPPOECHzsIGJ"
      },
      "source": [
        "## System instructions\n",
        "\n",
        "Write a detailed system instruction to configure the model."
      ]
    },
    {
      "cell_type": "code",
      "execution_count": 11,
      "metadata": {
        "id": "y5zh5WzwGiR5"
      },
      "outputs": [],
      "source": [
        "si=\"\"\"Objective: Transform raw thoughts and ideas into polished, engaging blog posts that capture a writers unique style and voice.\n",
        "Input:\n",
        "Example Blog Posts (1-5): A user will provide examples of blog posts that resonate with their desired style and tone. These will guide you in understanding the preferences for word choice, sentence structure, and overall voice.\n",
        "Audio Clips: A user will share a selection of brainstorming thoughts and key points through audio recordings. They will talk freely and openly, as if they were explaining their ideas to a friend.\n",
        "Output:\n",
        "Blog Post Draft: A well-structured first draft of the blog post, suitable for platforms like Substack or LinkedIn.\n",
        "The draft will include:\n",
        "Clear and engaging writing: you will strive to make the writing clear, concise, and interesting for the target audience.\n",
        "Tone and style alignment: The language and style will closely match the examples provided, ensuring consistency with the desired voice.\n",
        "Logical flow and structure: The draft will be organized with clear sections based on the content of the post.\n",
        "Target word count: Aim for 500-800 words, but this can be adjusted based on user preferences.\n",
        "Process:\n",
        "Style Analysis: Carefully analyze the example blog posts provided by the user to identify key elements of their preferred style, including:\n",
        "Vocabulary and word choice: Formal vs. informal, technical terms, slang, etc.\n",
        "Sentence structure and length: Short and impactful vs. longer and descriptive sentences.\n",
        "Tone and voice: Humorous, serious, informative, persuasive, etc.\n",
        "Audio Transcription and Comprehension: Your audio clips will be transcribed with high accuracy. you will analyze them to extract key ideas, arguments, and supporting points.\n",
        "Draft Generation: Using the insights from the audio and the style guidelines from the examples, you will generate a first draft of the blog post. This draft will include all relevant sections with supporting arguments or evidence, and a great ending that ties everything together and makes the reader want to invest in future readings.\n",
        "\"\"\""
      ]
    },
    {
      "cell_type": "markdown",
      "metadata": {
        "id": "CuEXqOnYzhM-"
      },
      "source": [
        "## Generate Content"
      ]
    },
    {
      "cell_type": "code",
      "execution_count": 12,
      "metadata": {
        "colab": {
          "base_uri": "https://localhost:8080/"
        },
        "id": "63ec84f8e8a8",
        "outputId": "1d82ad5a-e354-4d48-a7bc-5f64191bcf3b"
      },
      "outputs": [
        {
          "output_type": "stream",
          "name": "stdout",
          "text": [
            "Okay, here is a draft of a blog post based on your audio and the example posts. I focused on capturing your conversational tone and the key points you raised.\n",
            "\n",
            "**Title: The Power of \"Write to Think\": Why Imperfect Creation Fuels Future Success**\n",
            "\n",
            "I remember early in my career, spending countless hours crafting visions, roadmaps, and ideas. There was real effort put into these big projects, just to have them canned. Priorities change, markets shift... it still happens to me and my team today.\n",
            "\n",
            "Back then, fresh out of school, it was incredibly frustrating. School taught me: You get an assignment, you *do* it. You're given the content, you *produce* it, and then you're graded. In the work force none of it might matter at the end of the day. It felt like a monumental waste of time.\n",
            "\n",
            "It took me a while to get over it, but I don't think I truly appreciated the lesson until I joined my current team. Here, we have a culture of \"write to think,\" and it changed everything.\n",
            "\n",
            "It made me think about things differently. It isn't simply that priorities change, or things shift, or that sometimes you stop working on something to go on something else. It's understanding that the act of producing, the content you create—even if it never sees the light of day—is part of the process of making you better at what you do in the future. It's about honing your skills.\n",
            "\n",
            "The next question became: how do I extend that thinking to all aspects of my work? And how do I speed up that learning and growing? That’s where this culture of \"write to think\" comes into play.\n",
            "\n",
            "It boils down to this: write more. Write earlier, write often. Write not with the intention of it needing to be a final, polished product. Be willing to scrap it and move on once it's served its purpose.\n",
            "\n",
            "This idea of \"write to think\" ties in nicely to iterative processes and learning by doing. But it’s the framing that's powerful.\n",
            "\n",
            "I'm constantly talking about and going back to this concept. The importance of writing to think. Reframing young Jaclyn's mindset around \"throwaway work\" because in this model, there's no such thing. It's all helping you hone your skills and get better over time.\n",
            "\n",
            "***\n",
            "\n",
            "I hope this draft captures the essence of your thoughts and aligns with your desired style. Let me know if you'd like any adjustments or further refinements!\n"
          ]
        }
      ],
      "source": [
        "from google.genai import types\n",
        "\n",
        "prompt = \"Draft my next blog post based on my thoughts in this audio file and these two previous blog posts I wrote.\"\n",
        "MODEL_ID=\"gemini-2.0-flash\" # @param [\"gemini-2.0-flash-lite\",\"gemini-2.0-flash\",\"gemini-2.0-pro-exp-02-05\", \"gemini-2.5-flash-preview-04-17\"] {\"allow-input\":true, isTemplate: true}\n",
        "\n",
        "response = client.models.generate_content(\n",
        "    model=MODEL_ID,\n",
        "    contents=[prompt, blog_file, blog_file2, audio_file],\n",
        "    config=types.GenerateContentConfig(system_instruction=si, http_options=types.HttpOptions(timeout=60000))\n",
        ")\n",
        "\n",
        "print(response.text)"
      ]
    },
    {
      "cell_type": "markdown",
      "metadata": {
        "id": "K5oUCqb6IUnH"
      },
      "source": [
        "## Learning more\n",
        "\n",
        "* Learn more about the [File API](https://github.com/google-gemini/cookbook/blob/main/quickstarts/File_API.ipynb) with the quickstart."
      ]
    }
  ],
  "metadata": {
    "colab": {
      "collapsed_sections": [
        "Tce3stUlHN0L"
      ],
      "name": "Voice_memos.ipynb",
      "provenance": [],
      "toc_visible": true
    },
    "kernelspec": {
      "display_name": "Python 3",
      "name": "python3"
    }
  },
  "nbformat": 4,
  "nbformat_minor": 0
}