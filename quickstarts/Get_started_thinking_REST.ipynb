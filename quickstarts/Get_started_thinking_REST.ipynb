{
  "cells": [
    {
      "cell_type": "markdown",
      "metadata": {
        "id": "lb5yiH5h8x3h"
      },
      "source": [
        "##### Copyright 2025 Google LLC."
      ]
    },
    {
      "cell_type": "code",
      "execution_count": 20,
      "metadata": {
        "cellView": "form",
        "id": "906e07f6e562"
      },
      "outputs": [],
      "source": [
        "#@title Licensed under the Apache License, Version 2.0 (the \"License\");\n",
        "# you may not use this file except in compliance with the License.\n",
        "# You may obtain a copy of the License at\n",
        "#\n",
        "# https://www.apache.org/licenses/LICENSE-2.0\n",
        "#\n",
        "# Unless required by applicable law or agreed to in writing, software\n",
        "# distributed under the License is distributed on an \"AS IS\" BASIS,\n",
        "# WITHOUT WARRANTIES OR CONDITIONS OF ANY KIND, either express or implied.\n",
        "# See the License for the specific language governing permissions and\n",
        "# limitations under the License."
      ]
    },
    {
      "cell_type": "markdown",
      "metadata": {
        "id": "WMGdicu8PVD9"
      },
      "source": [
        "# Use Gemini thinking"
      ]
    },
    {
      "cell_type": "markdown",
      "metadata": {
        "id": "DR4Ti6Q0QKIl"
      },
      "source": [
        "<a target=\"_blank\" href=\"https://colab.research.google.com/github/google-gemini/cookbook/blob/main/quickstarts/Get_started_thinking_REST.ipynb\"><img src=\"https://colab.research.google.com/assets/colab-badge.svg\" height=30/></a>"
      ]
    },
    {
      "cell_type": "markdown",
      "metadata": {
        "id": "3w14yjWnPVD-"
      },
      "source": [
        "[Gemini 2.5 Flash](https://ai.google.dev/gemini-api/docs/models#gemini-2.5-flash-preview-04-17) and [Gemini 2.5 Pro](https://ai.google.dev/gemini-api/docs/models#gemini-2.5-pro-preview-03-25) are models that are\n",
        "trained to do a [thinking process](https://ai.google.dev/gemini-api/docs/thinking-mode) (or reasoning) before getting to a final answer. As a result,\n",
        "those models are capable of stronger reasoning capabilities in its responses than previous models.\n",
        "\n",
        "This notebook demonstrates how to control and observe this thinking behavior by making direct REST API calls to the `generateContent` endpoint.\n",
        "\n",
        "You'll see examples involving geometry, travia, math problems and brain teaser. The model's internal reasoning isn't automatically displayed as separate output in the REST response itself (unless the prompt or thinking process leads the model to include it in the final content), but you can observe its impact on the final answer and check the `usageMetadata` in the response to see if thinking tokens were used.\n"
      ]
    },
    {
      "cell_type": "markdown",
      "metadata": {
        "id": "aDUGen_kQYq2"
      },
      "source": [
        "### Setup your API key\n",
        "\n",
        "To run the following cell, your API key must be stored it in a Colab Secret named `GOOGLE_API_KEY`. If you don't already have an API key, or you're not sure how to create a Colab Secret, see [Authentication](../quickstarts/Authentication.ipynb) for an example."
      ]
    },
    {
      "cell_type": "code",
      "execution_count": 5,
      "metadata": {
        "id": "0H_lRdlrQYq3"
      },
      "outputs": [],
      "source": [
        "from google.colab import userdata\n",
        "\n",
        "GOOGLE_API_KEY=userdata.get('GOOGLE_API_KEY')"
      ]
    },
    {
      "cell_type": "markdown",
      "metadata": {
        "id": "ITgsQyaXQYq4"
      },
      "source": [
        "### Understanding the \"thinking\" models and `thinking_budget` via REST\n",
        "\n",
        "[Gemini 2.5 models](https://ai.google.dev/gemini-api/docs/thinking-mode) are optimized for complex tasks that need multiple rounds of strategyzing and iteratively solving.\n",
        "\n",
        "When making REST API calls, you control the thinking behavior by including a `thinkingConfig` object within the `generationConfig` in your JSON request payload.\n",
        "\n",
        "[Gemini 2.5 Flash](https://ai.google.dev/gemini-api/docs/models#gemini-2.5-flash-preview-04-17) in particular, brings the flexibility of using `thinking_budget` - a parameter\n",
        "that offers fine-grained control over the maximum number of tokens a model can generate while thinking. Alternatively, you can designate a precise token allowance for the\n",
        "\"thinking\" stage through the adjusment of the `thinking_budget` parameter. This allowance can vary between 0 and 24576 tokens for 2.5 Flash.\n",
        "\n",
        "For more information about all Gemini models, check the [documentation](https://ai.google.dev/gemini-api/docs/models/gemini) for extended information on each of them.\n",
        "\n",
        "**NOTE:** On this notebook all examples are using Gemini 2.5 Flash and the new `thinking_budget` parameter.\n",
        "The `thinking_budget` parameter is not available for Gemini 2.5 Pro for now - If you want to use Gemini 2.5 Pro, you can remove the `thinking_budget` parameter from the code."
      ]
    },
    {
      "cell_type": "code",
      "execution_count": 6,
      "metadata": {
        "id": "h41dkA8mX6v7"
      },
      "outputs": [],
      "source": [
        "import json\n",
        "import requests\n",
        "\n",
        "MODEL_ID=\"gemini-2.5-flash-preview-04-17\" # @param [\"gemini-2.5-flash-preview-04-17\", \"gemini-2.5-pro-preview-03-25\"] {\"allow-input\":true, isTemplate: true}\n",
        "url = f\"https://generativelanguage.googleapis.com/v1beta/models/{MODEL_ID}:generateContent?key={GOOGLE_API_KEY}\""
      ]
    },
    {
      "cell_type": "markdown",
      "metadata": {
        "id": "qAPiYdYMfeJP"
      },
      "source": [
        "# 1/ Examples\n",
        "\n",
        "Here are some quite complex examples of what Gemini 2.5 thinking model can solve.\n",
        "\n",
        "In each of them you can select different models to see how this new model compares to its predecesors.\n",
        "\n",
        "In some cases, you'll still get the good answer from the other models, in that case, re-run it a couple of times and you'll see that Gemini 2.5 thinking is more consistent thanks to its thinking step."
      ]
    },
    {
      "cell_type": "markdown",
      "metadata": {
        "id": "1987d241366e"
      },
      "source": [
        "## Example #1: Brain Teaser with Thinking\n",
        "\n",
        "You can start by asking the model to explain a concept and see how it does reasoning before answering.\n",
        "\n",
        "Starting with the adaptive `thinking_budget` - which is the default when you don't specify a budget - the model will dynamically adjust the budget based on the complexity of the request."
      ]
    },
    {
      "cell_type": "code",
      "execution_count": 7,
      "metadata": {
        "id": "ffa2fd81d26e"
      },
      "outputs": [
        {
          "data": {
            "text/markdown": [
              "Okay, let's break down the constraints you've been given in this round of 20 Questions:\n",
              "\n",
              "1.  **Aquatic Mammal:** It lives in water and is a mammal (warm-blooded, has fur/hair, mothers produce milk).\n",
              "2.  **Doesn't live in the sea:** This means it lives in **freshwater** (lakes, rivers, ponds, swamps).\n",
              "3.  **Smaller than a cat:** This is a size constraint.\n",
              "\n",
              "Let's think about freshwater aquatic mammals and see which ones are smaller than a typical house cat:\n",
              "\n",
              "*   **Beavers:** Too big.\n",
              "*   **Otters:** Most species are larger than a cat, especially the Giant Otter. Some smaller otters might be close in weight to a large cat, but are usually longer. Generally too big.\n",
              "*   **Muskrats:** These are rodents closely related to voles, but adapted for semi-aquatic life. They typically weigh 1.5 to 4 pounds and are 16-24 inches long (including the tail). A typical house cat weighs 8-10 pounds (though they can be smaller or larger) and is about 18 inches long plus tail. A muskrat is definitely often smaller than a cat, especially in weight.\n",
              "*   **Platypus:** Found in Australia. It's a monotreme (lays eggs) but is often thought of as a mammal. They are typically 12-15 inches long and weigh 1.5 to 5.3 pounds. Also fits the \"smaller than a cat\" criteria.\n",
              "*   **River Dolphins:** Much, much larger than a cat.\n",
              "*   **Hippos:** Much, much larger than a cat.\n",
              "*   **Baikal Seal:** A seal living in Russia's Lake Baikal. Much larger than a cat.\n",
              "\n",
              "Based on the criteria, the most likely and common answer is a **Muskrat**. A **Platypus** is also a possibility, though less widespread geographically.\n",
              "\n",
              "**What could that be?**\n",
              "\n",
              "A **Muskrat**.\n",
              "\n",
              "**How could you make sure?**\n",
              "\n",
              "Since you already know the three main constraints (aquatic mammal, freshwater, smaller than a cat), the \"making sure\" part using 20 Questions would involve asking questions to confirm it's specifically a muskrat (or perhaps differentiate it from the platypus, the other likely candidate). Here are some questions you could ask, staying within the 20 questions limit:\n",
              "\n",
              "1.  **Does it build a lodge or den in the water?** (Muskrats build lodges or bank dens; Platypuses primarily have burrows)\n",
              "2.  **Does it have a flat, vertically compressed tail?** (Muskrats do; Platypuses have a beaver-like flat, horizontal tail)\n",
              "3.  **Does it have a bill like a duck?** (Platypus does; Muskrat does not) - *This is a very strong differentiator.*\n",
              "4.  **Is it found in North America?** (Muskrats are; Platypuses are not) - *Another strong differentiator.*\n",
              "5.  **Does it primarily eat plants?** (Muskrats eat a lot of vegetation, but also small animals; Platypuses eat invertebrates like worms and insects) - *Less definitive, but can help.*\n",
              "6.  **Does it lay eggs?** (Platypus does; Muskrat does not - it gives birth to live young) - *Definitive proof it's a placental mammal like a muskrat, not a monotreme.*\n",
              "\n",
              "By asking questions like these that focus on specific physical characteristics, geographic location, or reproductive methods, you can confidently confirm that the creature fitting the initial criteria is indeed a Muskrat (or rule out a Platypus if that were the case)."
            ],
            "text/plain": [
              "<IPython.core.display.Markdown object>"
            ]
          },
          "execution_count": 7,
          "metadata": {},
          "output_type": "execute_result"
        }
      ],
      "source": [
        "from IPython.display import Markdown\n",
        "\n",
        "prompt = \"\"\"\n",
        "    You are playing the 20 question game. You know that what you are looking for\n",
        "    is a aquatic mammal that doesn't live in the sea, and that's smaller than a\n",
        "    cat. What could that be and how could you make sure?\n",
        "\"\"\"\n",
        "# The animal I'm thinking of is a platipus\n",
        "\n",
        "data = {\n",
        "    \"contents\": [\n",
        "        {\n",
        "            \"parts\": [\n",
        "                {\"text\": prompt}\n",
        "            ]\n",
        "        }\n",
        "    ]\n",
        "}\n",
        "\n",
        "response = requests.post(\n",
        "   url,\n",
        "   headers={'Content-Type': 'application/json'},\n",
        "   data=json.dumps(data)\n",
        ").json()\n",
        "\n",
        "Markdown(response['candidates'][0]['content']['parts'][0]['text'])"
      ]
    },
    {
      "cell_type": "markdown",
      "metadata": {
        "id": "cf57b6797848"
      },
      "source": [
        "Inspecting the Response Metadata: After making the REST call, the response JSON contains usageMetadata. This object provides information about the token counts for the request. Look for the `thoughtsTokenCount` field within usageMetadata to see how many tokens were consumed by the thinking process for this request. You'll also see `promptTokenCount`, `candidatesTokenCount` (for the final output), and `totalTokenCount`. As you can see here, the model used a significant number of tokens in the thinking steps."
      ]
    },
    {
      "cell_type": "code",
      "execution_count": 8,
      "metadata": {
        "id": "6d09a98f06e6"
      },
      "outputs": [
        {
          "name": "stdout",
          "output_type": "stream",
          "text": [
            "Prompt tokens: 58\n",
            "Thoughts tokens: 1477\n",
            "Output tokens: 820\n",
            "Total tokens: 2355\n"
          ]
        }
      ],
      "source": [
        "print(\"Prompt tokens:\",response[\"usageMetadata\"][\"promptTokenCount\"])\n",
        "print(\"Thoughts tokens:\",response[\"usageMetadata\"][\"thoughtsTokenCount\"])\n",
        "print(\"Output tokens:\", response[\"usageMetadata\"][\"candidatesTokenCount\"])\n",
        "print(\"Total tokens:\", response[\"usageMetadata\"][\"totalTokenCount\"])"
      ]
    },
    {
      "cell_type": "markdown",
      "metadata": {
        "id": "5aecf74aff72"
      },
      "source": [
        "### Disabling the thinking steps\n",
        "\n",
        "You can explicitly disable the thinking steps by including the `thinkingConfig` object in the `generationConfig` and setting the `thinkingBudget` parameter to `0` in the JSON payload. This tells the model not to perform any internal reasoning steps before generating the final output. You'll likely see that in this case, the model doesn't think of the platypus as a possible answer."
      ]
    },
    {
      "cell_type": "code",
      "execution_count": 9,
      "metadata": {
        "id": "602bf11f5b78"
      },
      "outputs": [
        {
          "data": {
            "text/markdown": [
              "Okay, let's break this down. We're looking for an animal with these characteristics:\n",
              "\n",
              "* **Aquatic Mammal:** It's a mammal that lives in water.\n",
              "* **Doesn't live in the sea:** This rules out whales, dolphins, seals, sea lions, manatees, and dugongs.\n",
              "* **Smaller than a cat:** This is a significant size constraint.\n",
              "\n",
              "Given these clues, here's a strong candidate and how you could verify:\n",
              "\n",
              "**Candidate:**\n",
              "\n",
              "* **River Otter (specifically, a young or smaller species/individual):** While adult river otters are typically larger than a house cat, some species, particularly young ones, can be smaller. They are definitely aquatic mammals that live in freshwater environments (rivers, lakes, swamps).\n",
              "\n",
              "**How to make sure (in a 20 questions game context):**\n",
              "\n",
              "Since we're playing 20 questions, you can't just say \"Is it a young river otter?\". You need to ask questions that narrow down the possibilities based on the clues you already have. Here's how you could approach it:\n",
              "\n",
              "1. **Focus on the \"Doesn't live in the sea\" and \"Aquatic Mammal\":**\n",
              "   * **Question:** Does it live in freshwater? (This directly confirms the \"doesn't live in the sea\" and reinforces the aquatic nature).\n",
              "   * **Expected Answer:** Yes.\n",
              "\n",
              "2. **Refine the size constraint:**\n",
              "   * **Question:** Is it typically found in North America? (This is a common range for some smaller otter species).\n",
              "   * **Expected Answer:** Could be yes or no, but a yes would lean towards some otter species.\n",
              "   * **Question:** Does its average adult weight exceed 10 pounds? (A typical adult cat is around 8-10 pounds. Asking about average adult weight helps distinguish from a fully grown, larger animal).\n",
              "   * **Expected Answer:** Likely Yes for most adult otters. This is where the \"smaller than a cat\" becomes tricky. You might need to adjust your understanding based on the age of the animal being considered.\n",
              "\n",
              "3. **Zero in on the \"Smaller than a cat\" with more specific questions, knowing your suspicion:**\n",
              "   * **Question:** Is the animal you're thinking of a baby? (This directly addresses the size discrepancy if you suspect an otter).\n",
              "   * **Expected Answer:** Possibly Yes.\n",
              "   * **Question:** Is it a type of otter? (This is a strong guess based on the other clues).\n",
              "   * **Expected Answer:** Hopefully Yes if you're on the right track!\n",
              "   * **Question:** Is it an animal known for being playful? (Otters are known for this, it's a characteristic that might help confirm).\n",
              "   * **Expected Answer:** Likely Yes.\n",
              "\n",
              "**If the answers consistently align with an otter, especially a young one, then you're very likely thinking of a baby or smaller species of river otter.**\n",
              "\n",
              "**Other Less Likely Possibilities (but worth considering in a 20 Questions context):**\n",
              "\n",
              "* **Water Shrew:** While they are mammals and somewhat aquatic, they are *much* smaller than a cat and primarily insectivores, not typically thought of as \"aquatic mammals\" in the same way as otters. You could ask questions about its diet or typical habitat (very small streams, damp areas) to rule this out.\n",
              "* **Muskrat Kit:** Very young muskrats could be smaller than a cat, and they are aquatic mammals that live in freshwater. However, adult muskrats are usually larger. You could ask questions about its tail (flat and scaly) or diet (mostly plants) to distinguish it from an otter.\n",
              "\n",
              "**In summary, based on the criteria, a young or smaller river otter is the most plausible answer. Your 20 Questions strategy would focus on confirming its freshwater habitat, refining the size based on age, and eventually asking about its species or characteristics associated with otters.**"
            ],
            "text/plain": [
              "<IPython.core.display.Markdown object>"
            ]
          },
          "execution_count": 9,
          "metadata": {},
          "output_type": "execute_result"
        }
      ],
      "source": [
        "prompt = \"\"\"\n",
        "    You are playing the 20 question game. You know that what you are looking for\n",
        "    is a aquatic mammal that doesn't live in the sea, and that's smaller than a\n",
        "    cat. What could that be and how could you make sure?\n",
        "\"\"\"\n",
        "\n",
        "data = {\n",
        "    \"contents\": [\n",
        "        {\n",
        "            \"parts\": [\n",
        "                {\"text\": prompt}\n",
        "            ]\n",
        "        }\n",
        "    ],\n",
        "     \"generationConfig\": {\n",
        "          \"thinkingConfig\": {\n",
        "              \"thinkingBudget\": 0\n",
        "          }\n",
        "    }\n",
        "}\n",
        "\n",
        "response = requests.post(\n",
        "   url,\n",
        "   headers={'Content-Type': 'application/json'},\n",
        "   data=json.dumps(data)\n",
        ").json()\n",
        "\n",
        "Markdown(response['candidates'][0]['content']['parts'][0]['text'])"
      ]
    },
    {
      "cell_type": "markdown",
      "metadata": {
        "id": "16dfc2a51e4d"
      },
      "source": [
        "Now you can see that the response is faster as the model didn't perform any thinking step. Also you can see that no tokens were used for the thinking step:"
      ]
    },
    {
      "cell_type": "code",
      "execution_count": 10,
      "metadata": {
        "id": "5dcd275d0b42"
      },
      "outputs": [
        {
          "name": "stdout",
          "output_type": "stream",
          "text": [
            "Prompt tokens: 58\n",
            "Thoughts tokens: None\n",
            "Output tokens: 841\n",
            "Total tokens: 899\n"
          ]
        }
      ],
      "source": [
        "print(\"Prompt tokens:\",response[\"usageMetadata\"][\"promptTokenCount\"])\n",
        "print(\"Thoughts tokens:\",response[\"usageMetadata\"][\"thoughtsTokenCount\"] if \"thoughtsTokenCount\" in response[\"usageMetadata\"] else \"None\")\n",
        "print(\"Output tokens:\", response[\"usageMetadata\"][\"candidatesTokenCount\"])\n",
        "print(\"Total tokens:\", response[\"usageMetadata\"][\"totalTokenCount\"])"
      ]
    },
    {
      "cell_type": "markdown",
      "metadata": {
        "id": "GAa7sCD7tuMW"
      },
      "source": [
        "## Example #2: Physics problem\n",
        "\n",
        "Now, try with a simple physics comprehension example. First you can disable the `thinking_budget` to see how the model performs:"
      ]
    },
    {
      "cell_type": "code",
      "execution_count": 11,
      "metadata": {
        "id": "PZw41-lsKKMf"
      },
      "outputs": [
        {
          "data": {
            "text/markdown": [
              "Here's the calculation of the maximum bending stress for the cantilever beam:\n",
              "\n",
              "**1. Calculate the maximum bending moment (M_max):**\n",
              "\n",
              "For a cantilever beam with a uniformly distributed load and a point load at the free end, the maximum bending moment occurs at the fixed support.\n",
              "\n",
              "* **Bending moment due to the uniformly distributed load (M_w):**\n",
              "   M_w = (w * L^2) / 2\n",
              "   M_w = (5 kN/m * (3 m)^2) / 2\n",
              "   M_w = (5 kN/m * 9 m^2) / 2\n",
              "   M_w = 22.5 kN.m\n",
              "\n",
              "* **Bending moment due to the point load (M_P):**\n",
              "   M_P = P * L\n",
              "   M_P = 10 kN * 3 m\n",
              "   M_P = 30 kN.m\n",
              "\n",
              "* **Total maximum bending moment (M_max):**\n",
              "   M_max = M_w + M_P\n",
              "   M_max = 22.5 kN.m + 30 kN.m\n",
              "   M_max = 52.5 kN.m\n",
              "\n",
              "**2. Convert the bending moment to Newton-meters (N.m):**\n",
              "\n",
              "M_max = 52.5 kN.m * 1000 N/kN\n",
              "M_max = 52500 N.m\n",
              "\n",
              "**3. Calculate the moment of inertia (I) of the rectangular cross-section:**\n",
              "\n",
              "The moment of inertia for a rectangular cross-section about the neutral axis is:\n",
              "I = (b * h^3) / 12\n",
              "I = (0.1 m * (0.2 m)^3) / 12\n",
              "I = (0.1 m * 0.008 m^3) / 12\n",
              "I = 0.0008 m^4 / 12\n",
              "I = 6.6667 x 10^-5 m^4\n",
              "\n",
              "**4. Determine the distance to the extreme fiber (y):**\n",
              "\n",
              "For a rectangular cross-section, the extreme fiber is located at the top or bottom surface, which is half of the height (h/2).\n",
              "y = h / 2\n",
              "y = 0.2 m / 2\n",
              "y = 0.1 m\n",
              "\n",
              "**5. Calculate the maximum bending stress (σ_max):**\n",
              "\n",
              "The bending stress is given by the formula:\n",
              "σ = (M * y) / I\n",
              "\n",
              "The maximum bending stress occurs where the bending moment is maximum and the distance to the extreme fiber is maximum.\n",
              "σ_max = (M_max * y) / I\n",
              "σ_max = (52500 N.m * 0.1 m) / (6.6667 x 10^-5 m^4)\n",
              "σ_max = 5250 N.m^2 / (6.6667 x 10^-5 m^4)\n",
              "σ_max = 78749999.99 Pa\n",
              "\n",
              "**6. Convert the stress to Megapascals (MPa):**\n",
              "\n",
              "σ_max = 78749999.99 Pa / 10^6 Pa/MPa\n",
              "σ_max ≈ 78.75 MPa\n",
              "\n",
              "**Therefore, the maximum bending stress (σ_max) in the cantilever beam is approximately 78.75 MPa.**"
            ],
            "text/plain": [
              "<IPython.core.display.Markdown object>"
            ]
          },
          "execution_count": 11,
          "metadata": {},
          "output_type": "execute_result"
        }
      ],
      "source": [
        "prompt = \"\"\"\n",
        "    A cantilever beam of length L=3m has a rectangular cross-section (width b=0.1m, height h=0.2m) and is made of steel (E=200 GPa).\n",
        "    It is subjected to a uniformly distributed load w=5 kN/m along its entire length and a point load P=10 kN at its free end.\n",
        "    Calculate the maximum bending stress (σ_max).\n",
        "\"\"\"\n",
        "\n",
        "data = {\n",
        "    \"contents\": [\n",
        "        {\n",
        "            \"parts\": [\n",
        "                {\"text\": prompt}\n",
        "            ]\n",
        "        }\n",
        "    ],\n",
        "     \"generationConfig\": {\n",
        "          \"thinkingConfig\": {\n",
        "              \"thinkingBudget\": 0\n",
        "          }\n",
        "    }\n",
        "}\n",
        "\n",
        "response = requests.post(\n",
        "   url,\n",
        "   headers={'Content-Type': 'application/json'},\n",
        "   data=json.dumps(data)\n",
        ").json()\n",
        "\n",
        "Markdown(response['candidates'][0]['content']['parts'][0]['text'])"
      ]
    },
    {
      "cell_type": "markdown",
      "metadata": {
        "id": "edf87bae4035"
      },
      "source": [
        "Metadata (Thinking Disabled): As expected, the `usageMetadata` for this request should show a `thoughtsTokenCount` of `0` or absence, as thinking was explicitly disabled in the request payload."
      ]
    },
    {
      "cell_type": "code",
      "execution_count": 12,
      "metadata": {
        "id": "7b59d32afd90"
      },
      "outputs": [
        {
          "name": "stdout",
          "output_type": "stream",
          "text": [
            "Prompt tokens: 95\n",
            "Thoughts tokens: None\n",
            "Output tokens: 761\n",
            "Total tokens: 856\n"
          ]
        }
      ],
      "source": [
        "print(\"Prompt tokens:\",response[\"usageMetadata\"][\"promptTokenCount\"])\n",
        "print(\"Thoughts tokens:\",response[\"usageMetadata\"][\"thoughtsTokenCount\"] if \"thoughtsTokenCount\" in response[\"usageMetadata\"] else \"None\")\n",
        "print(\"Output tokens:\", response[\"usageMetadata\"][\"candidatesTokenCount\"])\n",
        "print(\"Total tokens:\", response[\"usageMetadata\"][\"totalTokenCount\"])"
      ]
    },
    {
      "cell_type": "markdown",
      "metadata": {
        "id": "14873702305e"
      },
      "source": [
        "Then, set a fixed maximum budget `(e.g., thinking_budget=4096)` for the thinking step by including the `thinkingConfig` object with `thinkingBudget` set in the JSON payload. See how the model's output changes."
      ]
    },
    {
      "cell_type": "code",
      "execution_count": 13,
      "metadata": {
        "id": "1783ef351094"
      },
      "outputs": [
        {
          "data": {
            "text/markdown": [
              "Okay, let's calculate the maximum bending stress step-by-step.\n",
              "\n",
              "1.  **Identify the location of maximum bending moment:** For a cantilever beam under downward loads, the maximum bending moment occurs at the fixed support.\n",
              "\n",
              "2.  **Calculate the bending moment at the fixed support due to the point load (P):**\n",
              "    M_P = P * L\n",
              "    M_P = 10 kN * 3 m = 30 kN.m\n",
              "    Convert to N.m: M_P = 30 * 10³ N.m\n",
              "\n",
              "3.  **Calculate the bending moment at the fixed support due to the uniformly distributed load (w):**\n",
              "    M_w = w * L * (L/2) = w * L²/2\n",
              "    M_w = (5 kN/m) * (3 m)² / 2 = 5 * 9 / 2 = 45 / 2 = 22.5 kN.m\n",
              "    Convert to N.m: M_w = 22.5 * 10³ N.m\n",
              "\n",
              "4.  **Calculate the total maximum bending moment (M_max) at the fixed support:**\n",
              "    Since both loads cause bending in the same direction at the support, the moments add up.\n",
              "    M_max = M_P + M_w\n",
              "    M_max = 30 * 10³ N.m + 22.5 * 10³ N.m = 52.5 * 10³ N.m\n",
              "\n",
              "5.  **Calculate the area moment of inertia (I) of the rectangular cross-section:**\n",
              "    The formula for a rectangle about its neutral axis (centroid) is I = (b * h³) / 12.\n",
              "    b = 0.1 m, h = 0.2 m\n",
              "    I = (0.1 m * (0.2 m)³) / 12\n",
              "    I = (0.1 * 0.008) / 12 m⁴\n",
              "    I = 0.0008 / 12 m⁴\n",
              "    I = 8 * 10⁻⁴ / 12 m⁴ = 2 * 10⁻⁴ / 3 m⁴ ≈ 6.667 * 10⁻⁵ m⁴\n",
              "\n",
              "6.  **Identify the maximum distance from the neutral axis (y_max):**\n",
              "    For a rectangular section, the neutral axis is at mid-height. The maximum stress occurs at the top or bottom surface, which is h/2 from the neutral axis.\n",
              "    y_max = h / 2 = 0.2 m / 2 = 0.1 m\n",
              "\n",
              "7.  **Calculate the maximum bending stress (σ_max):**\n",
              "    The bending stress formula is σ = (M * y) / I. The maximum stress occurs at M_max and y_max.\n",
              "    σ_max = (M_max * y_max) / I\n",
              "    σ_max = (52.5 * 10³ N.m * 0.1 m) / (2 * 10⁻⁴ / 3 m⁴)\n",
              "    σ_max = (5.25 * 10³ N.m²) / (2 * 10⁻⁴ / 3 m⁴)\n",
              "    σ_max = (5.25 * 10³) * (3 / (2 * 10⁻⁴)) N/m²\n",
              "    σ_max = (5.25 * 10³) * (1.5 * 10⁴) N/m²\n",
              "    σ_max = 7.875 * 10⁷ N/m²\n",
              "\n",
              "8.  **Convert the stress to MPa:**\n",
              "    1 N/m² = 1 Pa\n",
              "    1 MPa = 10⁶ Pa = 10⁶ N/m²\n",
              "    σ_max = 7.875 * 10⁷ N/m² = 78.75 * 10⁶ N/m² = 78.75 MPa\n",
              "\n",
              "The maximum bending stress is 78.75 MPa. (Note: The Young's Modulus E is not needed for calculating the stress itself, only for deflection or strain).\n",
              "\n",
              "**Final Answer:** The maximum bending stress is **78.75 MPa**."
            ],
            "text/plain": [
              "<IPython.core.display.Markdown object>"
            ]
          },
          "execution_count": 13,
          "metadata": {},
          "output_type": "execute_result"
        }
      ],
      "source": [
        "prompt = \"\"\"\n",
        "    A cantilever beam of length L=3m has a rectangular cross-section (width b=0.1m, height h=0.2m) and is made of steel (E=200 GPa).\n",
        "    It is subjected to a uniformly distributed load w=5 kN/m along its entire length and a point load P=10 kN at its free end.\n",
        "    Calculate the maximum bending stress (σ_max).\n",
        "\"\"\"\n",
        "\n",
        "thinking_budget = 4096 # @param {type:\"slider\", min:0, max:24576, step:1}\n",
        "\n",
        "data = {\n",
        "    \"contents\": [\n",
        "        {\n",
        "            \"parts\": [\n",
        "                {\"text\": prompt}\n",
        "            ]\n",
        "        }\n",
        "    ],\n",
        "     \"generationConfig\": {\n",
        "          \"thinkingConfig\": {\n",
        "              \"thinkingBudget\": thinking_budget\n",
        "          }\n",
        "    }\n",
        "}\n",
        "\n",
        "response = requests.post(\n",
        "   url,\n",
        "   headers={'Content-Type': 'application/json'},\n",
        "   data=json.dumps(data)\n",
        ").json()\n",
        "\n",
        "Markdown(response['candidates'][0]['content']['parts'][0]['text'])"
      ]
    },
    {
      "cell_type": "markdown",
      "metadata": {
        "id": "fe9bafe22c64"
      },
      "source": [
        "Metadata (Thinking Enabled): Now, examine the `usageMetadata` for the call where `thinkingBudget` was set to a positive value. You should see a non-zero `thoughtsTokenCount`, indicating the number of tokens used for the thinking process (which will be less than or equal to the `thinkingBudget` you set)."
      ]
    },
    {
      "cell_type": "code",
      "execution_count": 14,
      "metadata": {
        "id": "3dfac516c27b"
      },
      "outputs": [
        {
          "name": "stdout",
          "output_type": "stream",
          "text": [
            "Prompt tokens: 95\n",
            "Thoughts tokens: 1674 / 4096\n",
            "Output tokens: 955\n",
            "Total tokens: 2724\n"
          ]
        }
      ],
      "source": [
        "print(\"Prompt tokens:\",response[\"usageMetadata\"][\"promptTokenCount\"])\n",
        "print(\"Thoughts tokens:\",response[\"usageMetadata\"][\"thoughtsTokenCount\"], '/', thinking_budget if \"thoughtsTokenCount\" in response[\"usageMetadata\"] else \"None\")\n",
        "print(\"Output tokens:\", response[\"usageMetadata\"][\"candidatesTokenCount\"])\n",
        "print(\"Total tokens:\", response[\"usageMetadata\"][\"totalTokenCount\"])"
      ]
    },
    {
      "cell_type": "markdown",
      "metadata": {
        "id": "FTuVuVeAnUVR"
      },
      "source": [
        "Keep in mind that the largest the thinking budget is, the longest the model will spend time thinking, with means a longer computation time and a more expensive request."
      ]
    },
    {
      "cell_type": "markdown",
      "metadata": {
        "id": "ADiJV-fFyjRe"
      },
      "source": [
        "## Example #3: Geometry problem (with image)\n",
        "\n",
        "This geometry problem requires complex reasoning and is also using Gemini multimodal abilities to read the image.\n",
        "In this case, you are fixing a value to the `thinking_budget` so the model will use up to 8196 tokens for the thinking step."
      ]
    },
    {
      "cell_type": "code",
      "execution_count": 15,
      "metadata": {
        "id": "MIcXWXqyzCjQ"
      },
      "outputs": [
        {
          "data": {
            "image/jpeg": "[encoded data removed]",
            "text/plain": [
              "<PIL.Image.Image image mode=RGBA size=256x256>"
            ]
          },
          "metadata": {},
          "output_type": "display_data"
        }
      ],
      "source": [
        "import base64\n",
        "from PIL import Image\n",
        "\n",
        "!wget https://storage.googleapis.com/generativeai-downloads/images/geometry.png -O geometry.png -q\n",
        "\n",
        "display(Image.open(\"geometry.png\").resize((256,256)))\n",
        "\n",
        "with open(\"geometry.png\", \"rb\") as image_file:\n",
        "     encoded_string = base64.b64encode(image_file.read()).decode(\"utf-8\")"
      ]
    },
    {
      "cell_type": "code",
      "execution_count": 16,
      "metadata": {
        "id": "Lb9o7AeDwVyZ"
      },
      "outputs": [
        {
          "data": {
            "text/markdown": [
              "The triangle is a right-angled triangle with legs of length 3. From the image, it appears that the right angle is at the origin, and the legs lie along the positive x and y axes. The vertices of the triangle are thus (0,0), (3,0), and (0,3).\n",
              "\n",
              "The circle is centered at the origin (0,0), and its radius is 3, as indicated by the segments of length 3 from the center to the circumference. The equation of the circle is $x^2 + y^2 = 3^2 = 9$. The region inside the circle is given by $x^2 + y^2 \\le 9$.\n",
              "\n",
              "The triangle is in the first quadrant and is defined by the inequalities $x \\ge 0$, $y \\ge 0$, and the line connecting (3,0) and (0,3), which has the equation $x+y=3$. Since the triangle contains the origin, the inequality is $x+y \\le 3$. So, the triangle is the set of points (x,y) such that $x \\ge 0$, $y \\ge 0$, and $x+y \\le 3$.\n",
              "\n",
              "The overlapping region is the intersection of the triangle and the circle, i.e., the set of points (x,y) such that $x \\ge 0$, $y \\ge 0$, $x+y \\le 3$, and $x^2 + y^2 \\le 9$.\n",
              "\n",
              "We need to determine if the entire triangle is contained within the circle.\n",
              "Let (x,y) be a point in the triangle. Then $x \\ge 0$, $y \\ge 0$, and $x+y \\le 3$.\n",
              "We need to check if $x^2 + y^2 \\le 9$.\n",
              "Since $x \\ge 0$ and $y \\ge 0$, $x^2 \\le x^2+y^2$ and $y^2 \\le x^2+y^2$.\n",
              "Consider the vertices of the triangle:\n",
              "(0,0): $0^2+0^2 = 0 \\le 9$.\n",
              "(3,0): $3^2+0^2 = 9 \\le 9$.\n",
              "(0,3): $0^2+3^2 = 9 \\le 9$.\n",
              "Since the vertices of the triangle are inside or on the circle, and the circle (a disk) is a convex set, and the triangle is a convex set with vertices in the circle, the entire triangle is contained within the circle.\n",
              "\n",
              "Alternatively, consider any point (x,y) in the triangle. Then $x \\ge 0, y \\ge 0, x+y \\le 3$. We want to maximize $f(x,y) = x^2+y^2$ subject to these constraints. Since the constraints define a convex set and the function is convex, the maximum occurs at the vertices. The maximum value is 9, occurring at (3,0) and (0,3). Since the maximum value of $x^2+y^2$ within the triangle is 9, all points (x,y) in the triangle satisfy $x^2+y^2 \\le 9$. Therefore, the entire triangle is contained in the circle.\n",
              "\n",
              "The overlapping region is the triangle itself.\n",
              "The area of a right-angled triangle with legs of length 3 is given by $\\frac{1}{2} \\times \\text{base} \\times \\text{height} = \\frac{1}{2} \\times 3 \\times 3 = \\frac{9}{2}$.\n",
              "\n",
              "The final answer is $\\boxed{9/2}$."
            ],
            "text/plain": [
              "<IPython.core.display.Markdown object>"
            ]
          },
          "execution_count": 16,
          "metadata": {},
          "output_type": "execute_result"
        }
      ],
      "source": [
        "prompt = \"What's the area of the overlapping region?\"\n",
        "\n",
        "data = {\n",
        "    \"contents\": [\n",
        "        {\n",
        "            \"parts\": [\n",
        "                {\"text\": prompt},\n",
        "                {\n",
        "                    \"inlineData\": {\n",
        "                        \"mimeType\": \"image/png\",\n",
        "                        \"data\": encoded_string\n",
        "                    }\n",
        "                }\n",
        "            ]\n",
        "        }\n",
        "    ],\n",
        "     \"generationConfig\": {\n",
        "          \"thinkingConfig\": {\n",
        "              \"thinkingBudget\": 8196\n",
        "          }\n",
        "    }\n",
        "}\n",
        "\n",
        "\n",
        "response = requests.post(\n",
        "   url,\n",
        "   headers={'Content-Type': 'application/json'},\n",
        "   data=json.dumps(data)\n",
        ").json()\n",
        "\n",
        "\n",
        "Markdown(response['candidates'][0]['content']['parts'][0]['text'])"
      ]
    },
    {
      "cell_type": "markdown",
      "metadata": {
        "id": "EXPPWpt6ttJZ"
      },
      "source": [
        "## Example #4: Brain teaser with a twist\n",
        "\n",
        "Here's another brain teaser based on an image, this time it looks like a mathematical problem, but it cannot actually be solved mathematically. If you check the toughts of the model you'll see that it will realize it and come up with an out-of-the-box solution.\n",
        "\n",
        "In this case, you are fixing a value to the `thinking_budget` so the model will use up to 24576 tokens for the thinking step."
      ]
    },
    {
      "cell_type": "code",
      "execution_count": 17,
      "metadata": {
        "id": "F2YeBqzC0J_i"
      },
      "outputs": [
        {
          "data": {
            "image/jpeg": "[encoded data removed]",
            "text/plain": [
              "<PIL.PngImagePlugin.PngImageFile image mode=RGBA size=1168x954>"
            ]
          },
          "metadata": {},
          "output_type": "display_data"
        }
      ],
      "source": [
        "!wget https://storage.googleapis.com/generativeai-downloads/images/pool.png -O pool.png -q\n",
        "\n",
        "display(Image.open(\"pool.png\"))\n",
        "\n",
        "with open(\"pool.png\", \"rb\") as image_file:\n",
        "     encoded_string = base64.b64encode(image_file.read()).decode(\"utf-8\")"
      ]
    },
    {
      "cell_type": "code",
      "execution_count": 18,
      "metadata": {
        "id": "Vt2dSjeqA9ZC"
      },
      "outputs": [
        {
          "data": {
            "text/markdown": [
              "This is a classic riddle! The key is the word \"manipulate\" and how the number 9 on a pool ball can be manipulated.\n",
              "\n",
              "1.  Look at the numbers on the balls: 7, 9, 11, and 13.\n",
              "2.  Notice that if you *rotate* the number 9 ball upside down, it becomes a 6.\n",
              "3.  Now, you have the numbers 7, (6), 11, and 13 available (treating the 9 as a 6).\n",
              "4.  Pick three of these numbers that add up to 30.\n",
              "5.  The combination is 11 + 13 + 6.\n",
              "\n",
              "So, you use the **11 ball**, the **13 ball**, and the **9 ball (turned upside down to represent a 6)**.\n",
              "\n",
              "11 + 13 + 6 = 30."
            ],
            "text/plain": [
              "<IPython.core.display.Markdown object>"
            ]
          },
          "execution_count": 18,
          "metadata": {},
          "output_type": "execute_result"
        }
      ],
      "source": [
        "prompt = \"How do I use and manipulate three of the pool balls to sum up to 30?\"\n",
        "\n",
        "data = {\n",
        "    \"contents\": [\n",
        "        {\n",
        "            \"parts\": [\n",
        "                {\"text\": prompt},\n",
        "                {\n",
        "                    \"inlineData\": {\n",
        "                        \"mimeType\": \"image/png\",\n",
        "                        \"data\": encoded_string\n",
        "                    }\n",
        "                }\n",
        "            ]\n",
        "        }\n",
        "    ],\n",
        "     \"generationConfig\": {\n",
        "          \"thinkingConfig\": {\n",
        "              \"thinkingBudget\": 24576\n",
        "          }\n",
        "    }\n",
        "}\n",
        "\n",
        "response = requests.post(\n",
        "   url,\n",
        "   headers={'Content-Type': 'application/json'},\n",
        "   data=json.dumps(data)\n",
        ").json()\n",
        "\n",
        "\n",
        "Markdown(response['candidates'][0]['content']['parts'][0]['text'])"
      ]
    },
    {
      "cell_type": "markdown",
      "metadata": {
        "id": "JyOLwLVlz-rP"
      },
      "source": [
        "## Example #5: Math puzzle\n",
        "\n",
        "This is typically a case where you want to fix a budget, as the model can spend a lot of time thinking in all directions before finding the right answer. It should not be too low either as non-thinking models have trouble with such questions.\n",
        "\n",
        "Play with the thinking budget and try to find how much it needs to be able to find the right answer most of the time.\n",
        "\n",
        "Note that Pro is usually better than Flash for those kind of riddles, but does not have the thinking budget yet."
      ]
    },
    {
      "cell_type": "code",
      "execution_count": 19,
      "metadata": {
        "id": "ixUsKEDFz980"
      },
      "outputs": [
        {
          "data": {
            "text/markdown": [
              "You can obtain 565 using the numbers 10, 8, 3, 7, 1, and 5 with common operations as follows:\n",
              "\n",
              "First, combine some of the numbers to get an intermediate result:\n",
              "10 + 7 = 17\n",
              "17 - 3 = 14\n",
              "\n",
              "Next, multiply this result by another number from the set:\n",
              "14 * 8 = 112\n",
              "\n",
              "Then, add another number from the set:\n",
              "112 + 1 = 113\n",
              "\n",
              "Finally, multiply this result by the last remaining number:\n",
              "113 * 5 = 565\n",
              "\n",
              "Putting it all together in a single expression:\n",
              "(((10 + 7 - 3) * 8) + 1) * 5 = 565\n",
              "\n",
              "Let's verify the usage of numbers and operations:\n",
              "Numbers used: 10, 7, 3, 8, 1, 5. All the given numbers are used exactly once.\n",
              "Operations used: addition (+), subtraction (-), multiplication (*), addition (+), multiplication (*). These are common operations.\n",
              "\n",
              "Calculation steps:\n",
              "10 + 7 = 17\n",
              "17 - 3 = 14\n",
              "14 * 8 = 112\n",
              "112 + 1 = 113\n",
              "113 * 5 = 565\n",
              "\n",
              "The expression is valid.\n",
              "\n",
              "The final answer is $\\boxed{(((10 + 7 - 3) * 8) + 1) * 5 = 565}$."
            ],
            "text/plain": [
              "<IPython.core.display.Markdown object>"
            ]
          },
          "execution_count": 19,
          "metadata": {},
          "output_type": "execute_result"
        }
      ],
      "source": [
        "prompt = \"\"\"\n",
        "   How can you obtain 565 with 10 8 3 7 1 and 5 and the common operations?\n",
        "   You can only use a number once.\n",
        "\"\"\"\n",
        "\n",
        "thinking_budget = 24576 # @param {type:\"slider\", min:0, max:24576, step:1}\n",
        "\n",
        "data = {\n",
        "    \"contents\": [\n",
        "        {\n",
        "            \"parts\": [\n",
        "                {\"text\": prompt},\n",
        "                {\n",
        "                    \"inlineData\": {\n",
        "                        \"mimeType\": \"image/png\",\n",
        "                        \"data\": encoded_string\n",
        "                    }\n",
        "                }\n",
        "            ]\n",
        "        }\n",
        "    ],\n",
        "     \"generationConfig\": {\n",
        "          \"thinkingConfig\": {\n",
        "              \"thinkingBudget\": 24576\n",
        "          }\n",
        "    }\n",
        "}\n",
        "\n",
        "response = requests.post(\n",
        "   url,\n",
        "   headers={'Content-Type': 'application/json'},\n",
        "   data=json.dumps(data)\n",
        ").json()\n",
        "\n",
        "\n",
        "Markdown(response['candidates'][0]['content']['parts'][0]['text'])"
      ]
    },
    {
      "cell_type": "markdown",
      "metadata": {
        "id": "lND4jB6MrsSk"
      },
      "source": [
        "# Next Steps\n",
        "\n",
        "Try Gemini 2.5 Pro Experimental in\n",
        "[Google AI Studio](https://aistudio.google.com/prompts/new_chat?model=gemini-2.5-pro-exp-03-25), and learn more about [Prompting for thinking models](https://ai.google.dev/gemini-api/docs/prompting-with-thinking).\n",
        "\n",
        "For more examples of the Gemini capabilities, check the other [Cookbook examples](https://github.com/google-gemini/cookbook). You'll learn how to use the [Live API](./Get_started.ipynb), juggle with [multiple tools](../examples/LiveAPI_plotting_and_mapping.ipynb) or use Gemini [spatial understanding](./Spatial_understanding.ipynb) abilities."
      ]
    }
  ],
  "metadata": {
    "colab": {
      "name": "Get_started_thinking_REST.ipynb",
      "toc_visible": true
    },
    "kernelspec": {
      "display_name": "Python 3",
      "name": "python3"
    }
  },
  "nbformat": 4,
  "nbformat_minor": 0
}
