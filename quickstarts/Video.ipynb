{
  "cells": [
    {
      "cell_type": "markdown",
      "metadata": {
        "id": "WMGdicu8PVD9"
      },
      "source": [
        "# Gemini API: Prompting with Video\n"
      ]
    },
    {
      "cell_type": "markdown",
      "metadata": {
        "id": "84d7ee4c821b"
      },
      "source": [
        "### This notebook has been replaced by the [Video understanding](../quickstarts/Video_understanding.ipynb) one in which you'll learn about all the latest video understanding capabilities.\n",
        "\n",
        "An archived version of this notebook can be found [here](https://github.com/google-gemini/cookbook/blob/gemini-1.5-archive/quickstarts/Video.ipynb)."
      ]
    }
  ],
  "metadata": {
    "colab": {
      "name": "Video.ipynb",
      "toc_visible": true
    },
    "kernelspec": {
      "display_name": "Python 3",
      "name": "python3"
    }
  },
  "nbformat": 4,
  "nbformat_minor": 0
}
