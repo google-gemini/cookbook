{
  "cells": [
    {
      "cell_type": "markdown",
      "metadata": {
        "id": "Tce3stUlHN0L"
      },
      "source": [
        "##### Copyright 2024 Google LLC."
      ]
    },
    {
      "cell_type": "code",
      "execution_count": 1,
      "metadata": {
        "cellView": "form",
        "id": "tuOe1ymfHZPu"
      },
      "outputs": [],
      "source": [
        "# @title Licensed under the Apache License, Version 2.0 (the \"License\");\n",
        "# you may not use this file except in compliance with the License.\n",
        "# You may obtain a copy of the License at\n",
        "#\n",
        "# https://www.apache.org/licenses/LICENSE-2.0\n",
        "#\n",
        "# Unless required by applicable law or agreed to in writing, software\n",
        "# distributed under the License is distributed on an \"AS IS\" BASIS,\n",
        "# WITHOUT WARRANTIES OR CONDITIONS OF ANY KIND, either express or implied.\n",
        "# See the License for the specific language governing permissions and\n",
        "# limitations under the License."
      ]
    },
    {
      "cell_type": "markdown",
      "metadata": {
        "id": "4BkXaeuqGFzD"
      },
      "source": [
        "# Code Execution in the Gemini API\n",
        "\n",
        "<table align=\"left\">\n",
        "  <td>\n",
        "    <a target=\"_blank\" href=\"https://colab.research.google.com/github/google-gemini/cookbook/blob/main/quickstarts/Code_Execution.ipynb\"><img src=\"../images/colab_logo_32px.png?raw=1\" />Run in Google Colab</a>\n",
        "  </td>\n",
        "</table>\n"
      ]
    },
    {
      "cell_type": "markdown",
      "metadata": {
        "id": "CDhVGsAHhwG5"
      },
      "source": [
        "The Gemini API [code execution](https://ai.google.dev/gemini-api/docs/code-execution) feature enables the model to generate and run Python code based on plain-text instructions that you give it. It can learn iteratively from the results until it arrives at a final output.\n",
        "\n",
        "This notebook is a walk through of how to use this feature."
      ]
    },
    {
      "cell_type": "markdown",
      "metadata": {
        "id": "kQoJWW8lM48-"
      },
      "source": [
        "### Set up"
      ]
    },
    {
      "cell_type": "code",
      "execution_count": 2,
      "metadata": {
        "id": "6rshwediCXto"
      },
      "outputs": [
        {
          "name": "stdout",
          "output_type": "stream",
          "text": [
            "\u001b[2K   \u001b[90m━━━━━━━━━━━━━━━━━━━━━━━━━━━━━━━━━━━━━━━━\u001b[0m \u001b[32m165.0/165.0 kB\u001b[0m \u001b[31m2.4 MB/s\u001b[0m eta \u001b[36m0:00:00\u001b[0m\n",
            "\u001b[2K   \u001b[90m━━━━━━━━━━━━━━━━━━━━━━━━━━━━━━━━━━━━━━━━\u001b[0m \u001b[32m725.4/725.4 kB\u001b[0m \u001b[31m10.5 MB/s\u001b[0m eta \u001b[36m0:00:00\u001b[0m\n",
            "\u001b[?25h"
          ]
        }
      ],
      "source": [
        "!pip install -Uq \"google-generativeai>=0.7.2\""
      ]
    },
    {
      "cell_type": "code",
      "execution_count": 3,
      "metadata": {
        "id": "OsxWu_BI50Ex"
      },
      "outputs": [
        {
          "data": {
            "application/vnd.google.colaboratory.intrinsic+json": {
              "type": "string"
            },
            "text/plain": [
              "'0.8.1'"
            ]
          },
          "execution_count": 3,
          "metadata": {},
          "output_type": "execute_result"
        }
      ],
      "source": [
        "import google.generativeai as genai\n",
        "genai.__version__"
      ]
    },
    {
      "cell_type": "markdown",
      "metadata": {
        "id": "b276ccf016b9"
      },
      "source": [
        "To run the following cell, your API key must be stored it in a Colab Secret named `GOOGLE_API_KEY`. If you don't already have an API key, or you're not sure how to create a Colab Secret, see the [Authentication](https://github.com/google-gemini/cookbook/blob/main/quickstarts/Authentication.ipynb) quickstart for an example."
      ]
    },
    {
      "cell_type": "code",
      "execution_count": 4,
      "metadata": {
        "id": "itMjtruv7QqE"
      },
      "outputs": [],
      "source": [
        "from google.colab import userdata\n",
        "genai.configure(api_key=userdata.get('GOOGLE_API_KEY'))"
      ]
    },
    {
      "cell_type": "markdown",
      "metadata": {
        "id": "rvmIpRX5IN1q"
      },
      "source": [
        "Tweak CSS for display in Colab"
      ]
    },
    {
      "cell_type": "code",
      "execution_count": 5,
      "metadata": {
        "id": "kS3JQzazOI48"
      },
      "outputs": [],
      "source": [
        "from IPython.display import HTML, Markdown\n",
        "\n",
        "def set_css_in_cell_output(unused):\n",
        "  display(HTML(\"\"\"<style>\n",
        "div.output_markdown {\n",
        "  font-size: 16px\n",
        "}\n",
        "\n",
        "div.output_markdown pre code {\n",
        "  color: #222222;\n",
        "}\n",
        "\n",
        "div.output_markdown pre:nth-of-type(even) {\n",
        "  background: #CCCCCC;\n",
        "  margin: 16px;\n",
        "  padding: 16px;\n",
        "}\n",
        "\n",
        "div.output_markdown pre:nth-of-type(odd) {\n",
        "  background: #BBBBEE;\n",
        "  margin: 16px;\n",
        "  padding: 16px;\n",
        "}\n",
        "</style>\"\"\"))\n",
        "\n",
        "get_ipython().events.register('pre_run_cell', set_css_in_cell_output)"
      ]
    },
    {
      "cell_type": "markdown",
      "metadata": {
        "id": "q-jdBwXlM67j"
      },
      "source": [
        "## Pass `\"code_execution\"` as a `tool`\n",
        "\n",
        "When initiating the model, pass `\"code_execution\"` as a `tool` to tell the model that it is allowed (but not forced) to generate and run code."
      ]
    },
    {
      "cell_type": "code",
      "execution_count": 6,
      "metadata": {
        "id": "BFxIcGkxbq3_"
      },
      "outputs": [
        {
          "data": {
            "text/html": [
              "<style>\n",
              "div.output_markdown {\n",
              "  font-size: 16px\n",
              "}\n",
              "\n",
              "div.output_markdown pre code {\n",
              "  color: #222222;\n",
              "}\n",
              "\n",
              "div.output_markdown pre:nth-of-type(even) {\n",
              "  background: #CCCCCC;\n",
              "  margin: 16px;\n",
              "  padding: 16px;\n",
              "}\n",
              "\n",
              "div.output_markdown pre:nth-of-type(odd) {\n",
              "  background: #BBBBEE;\n",
              "  margin: 16px;\n",
              "  padding: 16px;\n",
              "}\n",
              "</style>"
            ],
            "text/plain": [
              "<IPython.core.display.HTML object>"
            ]
          },
          "metadata": {},
          "output_type": "display_data"
        }
      ],
      "source": [
        "model = genai.GenerativeModel(model_name='gemini-2.0-flash', tools=\"code_execution\")"
      ]
    },
    {
      "cell_type": "markdown",
      "metadata": {
        "id": "mZgn5tm-NCfH"
      },
      "source": [
        "## Call `generate_content`"
      ]
    },
    {
      "cell_type": "code",
      "execution_count": 7,
      "metadata": {
        "id": "u2DRvZZde2C6"
      },
      "outputs": [
        {
          "data": {
            "text/html": [
              "<style>\n",
              "div.output_markdown {\n",
              "  font-size: 16px\n",
              "}\n",
              "\n",
              "div.output_markdown pre code {\n",
              "  color: #222222;\n",
              "}\n",
              "\n",
              "div.output_markdown pre:nth-of-type(even) {\n",
              "  background: #CCCCCC;\n",
              "  margin: 16px;\n",
              "  padding: 16px;\n",
              "}\n",
              "\n",
              "div.output_markdown pre:nth-of-type(odd) {\n",
              "  background: #BBBBEE;\n",
              "  margin: 16px;\n",
              "  padding: 16px;\n",
              "}\n",
              "</style>"
            ],
            "text/plain": [
              "<IPython.core.display.HTML object>"
            ]
          },
          "metadata": {},
          "output_type": "display_data"
        }
      ],
      "source": [
        "result = model.generate_content(\"What is the sum of the first 50 prime numbers?\"\n",
        "                                \"Generate and run code for the calculation, and make sure you get all 50.\")"
      ]
    },
    {
      "cell_type": "markdown",
      "metadata": {
        "id": "8uJ-Fk1I_AH8"
      },
      "source": [
        "The model returns a list of parts including `text`, `executable_code`, and `execution_result` parts."
      ]
    },
    {
      "cell_type": "code",
      "execution_count": 8,
      "metadata": {
        "id": "E1_KEd4P-_YB"
      },
      "outputs": [
        {
          "data": {
            "text/html": [
              "<style>\n",
              "div.output_markdown {\n",
              "  font-size: 16px\n",
              "}\n",
              "\n",
              "div.output_markdown pre code {\n",
              "  color: #222222;\n",
              "}\n",
              "\n",
              "div.output_markdown pre:nth-of-type(even) {\n",
              "  background: #CCCCCC;\n",
              "  margin: 16px;\n",
              "  padding: 16px;\n",
              "}\n",
              "\n",
              "div.output_markdown pre:nth-of-type(odd) {\n",
              "  background: #BBBBEE;\n",
              "  margin: 16px;\n",
              "  padding: 16px;\n",
              "}\n",
              "</style>"
            ],
            "text/plain": [
              "<IPython.core.display.HTML object>"
            ]
          },
          "metadata": {},
          "output_type": "display_data"
        },
        {
          "data": {
            "text/plain": [
              "[['text'], ['executable_code'], ['code_execution_result'], ['text']]"
            ]
          },
          "execution_count": 8,
          "metadata": {},
          "output_type": "execute_result"
        }
      ],
      "source": [
        "[\n",
        "    list(type(p).to_dict(p))\n",
        "    for p in result.candidates[0].content.parts\n",
        "]"
      ]
    },
    {
      "cell_type": "code",
      "execution_count": 9,
      "metadata": {
        "id": "JtL3wwKJA0Jf"
      },
      "outputs": [
        {
          "data": {
            "text/html": [
              "<style>\n",
              "div.output_markdown {\n",
              "  font-size: 16px\n",
              "}\n",
              "\n",
              "div.output_markdown pre code {\n",
              "  color: #222222;\n",
              "}\n",
              "\n",
              "div.output_markdown pre:nth-of-type(even) {\n",
              "  background: #CCCCCC;\n",
              "  margin: 16px;\n",
              "  padding: 16px;\n",
              "}\n",
              "\n",
              "div.output_markdown pre:nth-of-type(odd) {\n",
              "  background: #BBBBEE;\n",
              "  margin: 16px;\n",
              "  padding: 16px;\n",
              "}\n",
              "</style>"
            ],
            "text/plain": [
              "<IPython.core.display.HTML object>"
            ]
          },
          "metadata": {},
          "output_type": "display_data"
        },
        {
          "name": "stdout",
          "output_type": "stream",
          "text": [
            "text: \"I will determine the sum of the first 50 prime numbers. \\n\\nFirst, I need to define what a prime number is. A prime number is a whole number greater than 1 that has only two divisors: 1 and itself. \\n\\nTo calculate the sum of the first 50 prime numbers, we can use the following Python code:\\n\\n\"\n",
            "\n",
            "\n",
            "executable_code {\n",
            "  language: PYTHON\n",
            "  code: \"\\ndef is_prime(num):\\n    \\\"\\\"\\\"\\n    Checks if a number is prime.\\n    \\\"\\\"\\\"\\n    if num <= 1:\\n        return False\\n    for i in range(2, int(num**0.5) + 1):\\n        if num % i == 0:\\n            return False\\n    return True\\n\\n\\ndef find_primes(n):\\n    \\\"\\\"\\\"\\n    Generates a list of the first n prime numbers.\\n    \\\"\\\"\\\"\\n    primes = []\\n    count = 0\\n    num = 2\\n    while count < n:\\n        if is_prime(num):\\n            primes.append(num)\\n            count += 1\\n        num += 1\\n    return primes\\n\\n\\nprimes = find_primes(50)\\nsum_primes = sum(primes)\\n\\nprint(f\\\"The sum of the first 50 prime numbers is: {sum_primes}\\\")\\n\"\n",
            "}\n",
            "\n",
            "\n",
            "code_execution_result {\n",
            "  outcome: OUTCOME_OK\n",
            "  output: \"The sum of the first 50 prime numbers is: 5117\\n\"\n",
            "}\n",
            "\n",
            "\n",
            "text: \"The code first defines two functions: `is_prime` and `find_primes`. `is_prime` takes a number as input and returns `True` if the number is prime and `False` otherwise. It checks if the number is less than or equal to 1, in which case it is not prime. It then iterates through all numbers from 2 up to the square root of the input number. For each number, it checks if the input number is divisible by the current number. If it is, then the number is not prime and the function returns `False`. Otherwise, it continues to the next number. If the function reaches the end of the loop without returning `False`, then the number is prime and the function returns `True`.\\n\\n`find_primes` takes an integer `n` as input and returns a list of the first `n` prime numbers. It initializes an empty list `primes` and a counter `count` to 0. It then iterates through all numbers starting from 2. For each number, it calls the `is_prime` function to check if the number is prime. If it is, it appends the number to the `primes` list and increments the counter by 1. The loop continues until the counter reaches `n`. Finally, the function returns the `primes` list.\\n\\nThe code then calls the `find_primes` function with the argument 50 to get a list of the first 50 prime numbers. It then calls the `sum` function on the list to get the sum of all the elements in the list, which is the sum of the first 50 prime numbers. Finally, it prints the sum to the console.\\n\\nThe code successfully calculates the sum of the first 50 prime numbers, which is 5117.\"\n",
            "\n",
            "\n"
          ]
        }
      ],
      "source": [
        "for part in result.candidates[0].content.parts:\n",
        "  print(part)\n",
        "  print()"
      ]
    },
    {
      "cell_type": "markdown",
      "metadata": {
        "id": "TOKHOJQ6_LZO"
      },
      "source": [
        "The `.text` property formats the parts into Markdown compatible text:"
      ]
    },
    {
      "cell_type": "code",
      "execution_count": 10,
      "metadata": {
        "id": "Qe_aoIGoMlMc"
      },
      "outputs": [
        {
          "data": {
            "text/html": [
              "<style>\n",
              "div.output_markdown {\n",
              "  font-size: 16px\n",
              "}\n",
              "\n",
              "div.output_markdown pre code {\n",
              "  color: #222222;\n",
              "}\n",
              "\n",
              "div.output_markdown pre:nth-of-type(even) {\n",
              "  background: #CCCCCC;\n",
              "  margin: 16px;\n",
              "  padding: 16px;\n",
              "}\n",
              "\n",
              "div.output_markdown pre:nth-of-type(odd) {\n",
              "  background: #BBBBEE;\n",
              "  margin: 16px;\n",
              "  padding: 16px;\n",
              "}\n",
              "</style>"
            ],
            "text/plain": [
              "<IPython.core.display.HTML object>"
            ]
          },
          "metadata": {},
          "output_type": "display_data"
        },
        {
          "name": "stdout",
          "output_type": "stream",
          "text": [
            "I will determine the sum of the first 50 prime numbers. \n",
            "\n",
            "First, I need to define what a prime number is. A prime number is a whole number greater than 1 that has only two divisors: 1 and itself. \n",
            "\n",
            "To calculate the sum of the first 50 prime numbers, we can use the following Python code:\n",
            "\n",
            "\n",
            "``` python\n",
            "def is_prime(num):\n",
            "    \"\"\"\n",
            "    Checks if a number is prime.\n",
            "    \"\"\"\n",
            "    if num <= 1:\n",
            "        return False\n",
            "    for i in range(2, int(num**0.5) + 1):\n",
            "        if num % i == 0:\n",
            "            return False\n",
            "    return True\n",
            "\n",
            "\n",
            "def find_primes(n):\n",
            "    \"\"\"\n",
            "    Generates a list of the first n prime numbers.\n",
            "    \"\"\"\n",
            "    primes = []\n",
            "    count = 0\n",
            "    num = 2\n",
            "    while count < n:\n",
            "        if is_prime(num):\n",
            "            primes.append(num)\n",
            "            count += 1\n",
            "        num += 1\n",
            "    return primes\n",
            "\n",
            "\n",
            "primes = find_primes(50)\n",
            "sum_primes = sum(primes)\n",
            "\n",
            "print(f\"The sum of the first 50 prime numbers is: {sum_primes}\")\n",
            "\n",
            "```\n",
            "```\n",
            "The sum of the first 50 prime numbers is: 5117\n",
            "\n",
            "```\n",
            "The code first defines two functions: `is_prime` and `find_primes`. `is_prime` takes a number as input and returns `True` if the number is prime and `False` otherwise. It checks if the number is less than or equal to 1, in which case it is not prime. It then iterates through all numbers from 2 up to the square root of the input number. For each number, it checks if the input number is divisible by the current number. If it is, then the number is not prime and the function returns `False`. Otherwise, it continues to the next number. If the function reaches the end of the loop without returning `False`, then the number is prime and the function returns `True`.\n",
            "\n",
            "`find_primes` takes an integer `n` as input and returns a list of the first `n` prime numbers. It initializes an empty list `primes` and a counter `count` to 0. It then iterates through all numbers starting from 2. For each number, it calls the `is_prime` function to check if the number is prime. If it is, it appends the number to the `primes` list and increments the counter by 1. The loop continues until the counter reaches `n`. Finally, the function returns the `primes` list.\n",
            "\n",
            "The code then calls the `find_primes` function with the argument 50 to get a list of the first 50 prime numbers. It then calls the `sum` function on the list to get the sum of all the elements in the list, which is the sum of the first 50 prime numbers. Finally, it prints the sum to the console.\n",
            "\n",
            "The code successfully calculates the sum of the first 50 prime numbers, which is 5117.\n"
          ]
        }
      ],
      "source": [
        "print(result.text)"
      ]
    },
    {
      "cell_type": "markdown",
      "metadata": {
        "id": "hxfUg10DOxgE"
      },
      "source": [
        "In a notebook you can display the Markdown:"
      ]
    },
    {
      "cell_type": "code",
      "execution_count": 11,
      "metadata": {
        "id": "N-c7VXWoEFQB"
      },
      "outputs": [
        {
          "data": {
            "text/html": [
              "<style>\n",
              "div.output_markdown {\n",
              "  font-size: 16px\n",
              "}\n",
              "\n",
              "div.output_markdown pre code {\n",
              "  color: #222222;\n",
              "}\n",
              "\n",
              "div.output_markdown pre:nth-of-type(even) {\n",
              "  background: #CCCCCC;\n",
              "  margin: 16px;\n",
              "  padding: 16px;\n",
              "}\n",
              "\n",
              "div.output_markdown pre:nth-of-type(odd) {\n",
              "  background: #BBBBEE;\n",
              "  margin: 16px;\n",
              "  padding: 16px;\n",
              "}\n",
              "</style>"
            ],
            "text/plain": [
              "<IPython.core.display.HTML object>"
            ]
          },
          "metadata": {},
          "output_type": "display_data"
        },
        {
          "data": {
            "text/markdown": [
              "I will determine the sum of the first 50 prime numbers. \n",
              "\n",
              "First, I need to define what a prime number is. A prime number is a whole number greater than 1 that has only two divisors: 1 and itself. \n",
              "\n",
              "To calculate the sum of the first 50 prime numbers, we can use the following Python code:\n",
              "\n",
              "\n",
              "``` python\n",
              "def is_prime(num):\n",
              "    \"\"\"\n",
              "    Checks if a number is prime.\n",
              "    \"\"\"\n",
              "    if num <= 1:\n",
              "        return False\n",
              "    for i in range(2, int(num**0.5) + 1):\n",
              "        if num % i == 0:\n",
              "            return False\n",
              "    return True\n",
              "\n",
              "\n",
              "def find_primes(n):\n",
              "    \"\"\"\n",
              "    Generates a list of the first n prime numbers.\n",
              "    \"\"\"\n",
              "    primes = []\n",
              "    count = 0\n",
              "    num = 2\n",
              "    while count < n:\n",
              "        if is_prime(num):\n",
              "            primes.append(num)\n",
              "            count += 1\n",
              "        num += 1\n",
              "    return primes\n",
              "\n",
              "\n",
              "primes = find_primes(50)\n",
              "sum_primes = sum(primes)\n",
              "\n",
              "print(f\"The sum of the first 50 prime numbers is: {sum_primes}\")\n",
              "\n",
              "```\n",
              "```\n",
              "The sum of the first 50 prime numbers is: 5117\n",
              "\n",
              "```\n",
              "The code first defines two functions: `is_prime` and `find_primes`. `is_prime` takes a number as input and returns `True` if the number is prime and `False` otherwise. It checks if the number is less than or equal to 1, in which case it is not prime. It then iterates through all numbers from 2 up to the square root of the input number. For each number, it checks if the input number is divisible by the current number. If it is, then the number is not prime and the function returns `False`. Otherwise, it continues to the next number. If the function reaches the end of the loop without returning `False`, then the number is prime and the function returns `True`.\n",
              "\n",
              "`find_primes` takes an integer `n` as input and returns a list of the first `n` prime numbers. It initializes an empty list `primes` and a counter `count` to 0. It then iterates through all numbers starting from 2. For each number, it calls the `is_prime` function to check if the number is prime. If it is, it appends the number to the `primes` list and increments the counter by 1. The loop continues until the counter reaches `n`. Finally, the function returns the `primes` list.\n",
              "\n",
              "The code then calls the `find_primes` function with the argument 50 to get a list of the first 50 prime numbers. It then calls the `sum` function on the list to get the sum of all the elements in the list, which is the sum of the first 50 prime numbers. Finally, it prints the sum to the console.\n",
              "\n",
              "The code successfully calculates the sum of the first 50 prime numbers, which is 5117."
            ],
            "text/plain": [
              "<IPython.core.display.Markdown object>"
            ]
          },
          "execution_count": 11,
          "metadata": {},
          "output_type": "execute_result"
        }
      ],
      "source": [
        "from IPython.display import Markdown\n",
        "Markdown(result.text)"
      ]
    },
    {
      "cell_type": "markdown",
      "metadata": {
        "id": "avyoRa0XF5wR"
      },
      "source": [
        "Note: you can also set the `tools` argument on the call to `generate_content`:"
      ]
    },
    {
      "cell_type": "code",
      "execution_count": 12,
      "metadata": {
        "id": "DL2mRlNTF5JN"
      },
      "outputs": [
        {
          "data": {
            "text/html": [
              "<style>\n",
              "div.output_markdown {\n",
              "  font-size: 16px\n",
              "}\n",
              "\n",
              "div.output_markdown pre code {\n",
              "  color: #222222;\n",
              "}\n",
              "\n",
              "div.output_markdown pre:nth-of-type(even) {\n",
              "  background: #CCCCCC;\n",
              "  margin: 16px;\n",
              "  padding: 16px;\n",
              "}\n",
              "\n",
              "div.output_markdown pre:nth-of-type(odd) {\n",
              "  background: #BBBBEE;\n",
              "  margin: 16px;\n",
              "  padding: 16px;\n",
              "}\n",
              "</style>"
            ],
            "text/plain": [
              "<IPython.core.display.HTML object>"
            ]
          },
          "metadata": {},
          "output_type": "display_data"
        }
      ],
      "source": [
        "model2 = genai.GenerativeModel(model_name='gemini-2.0-flash')"
      ]
    },
    {
      "cell_type": "code",
      "execution_count": 13,
      "metadata": {
        "id": "fY062-nsGLBu"
      },
      "outputs": [
        {
          "data": {
            "text/html": [
              "<style>\n",
              "div.output_markdown {\n",
              "  font-size: 16px\n",
              "}\n",
              "\n",
              "div.output_markdown pre code {\n",
              "  color: #222222;\n",
              "}\n",
              "\n",
              "div.output_markdown pre:nth-of-type(even) {\n",
              "  background: #CCCCCC;\n",
              "  margin: 16px;\n",
              "  padding: 16px;\n",
              "}\n",
              "\n",
              "div.output_markdown pre:nth-of-type(odd) {\n",
              "  background: #BBBBEE;\n",
              "  margin: 16px;\n",
              "  padding: 16px;\n",
              "}\n",
              "</style>"
            ],
            "text/plain": [
              "<IPython.core.display.HTML object>"
            ]
          },
          "metadata": {},
          "output_type": "display_data"
        }
      ],
      "source": [
        "response = model2.generate_content(\n",
        "    \"Write code to count how many letter r in the word strawberry\",\n",
        "    tools=\"code_execution\")"
      ]
    },
    {
      "cell_type": "code",
      "execution_count": 14,
      "metadata": {
        "id": "fQY1_501GfP-"
      },
      "outputs": [
        {
          "data": {
            "text/html": [
              "<style>\n",
              "div.output_markdown {\n",
              "  font-size: 16px\n",
              "}\n",
              "\n",
              "div.output_markdown pre code {\n",
              "  color: #222222;\n",
              "}\n",
              "\n",
              "div.output_markdown pre:nth-of-type(even) {\n",
              "  background: #CCCCCC;\n",
              "  margin: 16px;\n",
              "  padding: 16px;\n",
              "}\n",
              "\n",
              "div.output_markdown pre:nth-of-type(odd) {\n",
              "  background: #BBBBEE;\n",
              "  margin: 16px;\n",
              "  padding: 16px;\n",
              "}\n",
              "</style>"
            ],
            "text/plain": [
              "<IPython.core.display.HTML object>"
            ]
          },
          "metadata": {},
          "output_type": "display_data"
        },
        {
          "data": {
            "text/markdown": [
              "\n",
              "``` python\n",
              "word = \"strawberry\"\n",
              "count = 0\n",
              "for letter in word:\n",
              "  if letter == \"r\":\n",
              "    count += 1\n",
              "print(f'There are {count} letter \"r\" in the word \"strawberry\"')\n",
              "\n",
              "```\n",
              "```\n",
              "There are 3 letter \"r\" in the word \"strawberry\"\n",
              "\n",
              "```\n",
              "I iterated over each letter in the word \"strawberry\" and counted how many times the letter \"r\" appears. The code counted 3 \"r\"s in the word \"strawberry\". \n"
            ],
            "text/plain": [
              "<IPython.core.display.Markdown object>"
            ]
          },
          "execution_count": 14,
          "metadata": {},
          "output_type": "execute_result"
        }
      ],
      "source": [
        "Markdown(response.text)"
      ]
    },
    {
      "cell_type": "markdown",
      "metadata": {
        "id": "4QTF9Lk6Ds-b"
      },
      "source": [
        "## Chat\n",
        "\n",
        "It works the same when using a `chat`:"
      ]
    },
    {
      "cell_type": "code",
      "execution_count": 15,
      "metadata": {
        "id": "_19QkCnQEZSu"
      },
      "outputs": [
        {
          "data": {
            "text/html": [
              "<style>\n",
              "div.output_markdown {\n",
              "  font-size: 16px\n",
              "}\n",
              "\n",
              "div.output_markdown pre code {\n",
              "  color: #222222;\n",
              "}\n",
              "\n",
              "div.output_markdown pre:nth-of-type(even) {\n",
              "  background: #CCCCCC;\n",
              "  margin: 16px;\n",
              "  padding: 16px;\n",
              "}\n",
              "\n",
              "div.output_markdown pre:nth-of-type(odd) {\n",
              "  background: #BBBBEE;\n",
              "  margin: 16px;\n",
              "  padding: 16px;\n",
              "}\n",
              "</style>"
            ],
            "text/plain": [
              "<IPython.core.display.HTML object>"
            ]
          },
          "metadata": {},
          "output_type": "display_data"
        }
      ],
      "source": [
        "chat = model.start_chat()"
      ]
    },
    {
      "cell_type": "markdown",
      "metadata": {
        "id": "9b2d47bf0927"
      },
      "source": [
        "This time, you're going to ask the model to use a [Bogo-sort](https://en.wikipedia.org/wiki/Bogosort) algorithm to sort a list of numbers."
      ]
    },
    {
      "cell_type": "code",
      "execution_count": 16,
      "metadata": {
        "id": "VFMAiEH_Dx6E"
      },
      "outputs": [
        {
          "data": {
            "text/html": [
              "<style>\n",
              "div.output_markdown {\n",
              "  font-size: 16px\n",
              "}\n",
              "\n",
              "div.output_markdown pre code {\n",
              "  color: #222222;\n",
              "}\n",
              "\n",
              "div.output_markdown pre:nth-of-type(even) {\n",
              "  background: #CCCCCC;\n",
              "  margin: 16px;\n",
              "  padding: 16px;\n",
              "}\n",
              "\n",
              "div.output_markdown pre:nth-of-type(odd) {\n",
              "  background: #BBBBEE;\n",
              "  margin: 16px;\n",
              "  padding: 16px;\n",
              "}\n",
              "</style>"
            ],
            "text/plain": [
              "<IPython.core.display.HTML object>"
            ]
          },
          "metadata": {},
          "output_type": "display_data"
        },
        {
          "data": {
            "text/markdown": [
              "\n",
              "``` python\n",
              "import random\n",
              "\n",
              "def bogo_sort(list_):\n",
              "    while not is_sorted(list_):\n",
              "        random.shuffle(list_)\n",
              "    return list_\n",
              "\n",
              "def is_sorted(list_):\n",
              "    for i in range(len(list_) - 1):\n",
              "        if list_[i] > list_[i + 1]:\n",
              "            return False\n",
              "    return True\n",
              "\n",
              "list_ = [2, 34, 1, 65, 4]\n",
              "sorted_list = bogo_sort(list_.copy())\n",
              "print(f'Sorted list: {sorted_list}')\n",
              "\n",
              "```\n",
              "```\n",
              "Sorted list: [1, 2, 4, 34, 65]\n",
              "\n",
              "```\n",
              "Bogo sort is a very inefficient sorting algorithm that relies on random shuffling of the list until the list is sorted.  I have implemented the bogo sort algorithm using the `random.shuffle` function, which randomly shuffles the list until the list is sorted.  The sorted list is outputted: `[1, 2, 4, 34, 65]`.  It is important to note that this solution is not recommended for practical use as it has a time complexity of O(n!), making it extremely inefficient for even small lists.  There are many much faster and more efficient sorting algorithms available. \n"
            ],
            "text/plain": [
              "<IPython.core.display.Markdown object>"
            ]
          },
          "execution_count": 16,
          "metadata": {},
          "output_type": "execute_result"
        }
      ],
      "source": [
        "response = chat.send_message(\"Can you run some code to bogo-sort this list of numbers?: [2,34,1,65,4]\")\n",
        "Markdown(response.text)"
      ]
    },
    {
      "cell_type": "code",
      "execution_count": 25,
      "metadata": {
        "id": "ANxrYfl0Bk6T"
      },
      "outputs": [
        {
          "data": {
            "text/html": [
              "<style>\n",
              "div.output_markdown {\n",
              "  font-size: 16px\n",
              "}\n",
              "\n",
              "div.output_markdown pre code {\n",
              "  color: #222222;\n",
              "}\n",
              "\n",
              "div.output_markdown pre:nth-of-type(even) {\n",
              "  background: #CCCCCC;\n",
              "  margin: 16px;\n",
              "  padding: 16px;\n",
              "}\n",
              "\n",
              "div.output_markdown pre:nth-of-type(odd) {\n",
              "  background: #BBBBEE;\n",
              "  margin: 16px;\n",
              "  padding: 16px;\n",
              "}\n",
              "</style>"
            ],
            "text/plain": [
              "<IPython.core.display.HTML object>"
            ]
          },
          "metadata": {},
          "output_type": "display_data"
        },
        {
          "data": {
            "text/markdown": [
              "\n",
              "``` python\n",
              "import random\n",
              "\n",
              "def bogo_sort(list_):\n",
              "    iterations = 0\n",
              "    while not is_sorted(list_):\n",
              "        random.shuffle(list_)\n",
              "        iterations += 1\n",
              "    return list_, iterations\n",
              "\n",
              "def is_sorted(list_):\n",
              "    for i in range(len(list_) - 1):\n",
              "        if list_[i] > list_[i + 1]:\n",
              "            return False\n",
              "    return True\n",
              "\n",
              "list_ = [2, 34, 1, 65, 4]\n",
              "sorted_list, iterations = bogo_sort(list_.copy())\n",
              "print(f'Sorted list: {sorted_list}')\n",
              "print(f'Iterations: {iterations}')\n",
              "\n",
              "```\n",
              "```\n",
              "Sorted list: [1, 2, 4, 34, 65]\n",
              "Iterations: 83\n",
              "\n",
              "```\n",
              "I've added a counter variable `iterations` to the `bogo_sort` function to track the number of shuffles. It took **83 iterations** to sort the list in this run.  \n",
              "\n",
              "Remember, bogo sort is extremely inefficient. The number of iterations can fluctuate wildly depending on the initial order of the list and how the random shuffling occurs.  It's unlikely to be a practical choice for real-world sorting tasks.\n"
            ],
            "text/plain": [
              "<IPython.core.display.Markdown object>"
            ]
          },
          "execution_count": 25,
          "metadata": {},
          "output_type": "execute_result"
        }
      ],
      "source": [
        "response = chat.send_message(\"Modify the code to count the number of iterations. How many iterations does it take?\")\n",
        "Markdown(response.text)"
      ]
    },
    {
      "cell_type": "markdown",
      "metadata": {
        "id": "69fc4457ffd4"
      },
      "source": [
        "Try running the previous cell multiple times and you'll see a different number of iterations, indicating that the Gemini API indeed ran the code and obtained different results due to the nature of the algorithm."
      ]
    },
    {
      "cell_type": "markdown",
      "metadata": {
        "id": "tQXlC1FdEnXH"
      },
      "source": [
        "## Multimedia"
      ]
    },
    {
      "cell_type": "markdown",
      "metadata": {
        "id": "_3PKhsYvF4Hs"
      },
      "source": [
        "You can pass media objects as part of the prompt, the model can look at these objects but it can't use them in the code."
      ]
    },
    {
      "cell_type": "code",
      "execution_count": 18,
      "metadata": {
        "id": "bDg1bDRpAnFR"
      },
      "outputs": [
        {
          "data": {
            "text/html": [
              "<style>\n",
              "div.output_markdown {\n",
              "  font-size: 16px\n",
              "}\n",
              "\n",
              "div.output_markdown pre code {\n",
              "  color: #222222;\n",
              "}\n",
              "\n",
              "div.output_markdown pre:nth-of-type(even) {\n",
              "  background: #CCCCCC;\n",
              "  margin: 16px;\n",
              "  padding: 16px;\n",
              "}\n",
              "\n",
              "div.output_markdown pre:nth-of-type(odd) {\n",
              "  background: #BBBBEE;\n",
              "  margin: 16px;\n",
              "  padding: 16px;\n",
              "}\n",
              "</style>"
            ],
            "text/plain": [
              "<IPython.core.display.HTML object>"
            ]
          },
          "metadata": {},
          "output_type": "display_data"
        },
        {
          "name": "stdout",
          "output_type": "stream",
          "text": [
            "  % Total    % Received % Xferd  Average Speed   Time    Time     Time  Current\n",
            "                                 Dload  Upload   Total   Spent    Left  Speed\n",
            "100 24719  100 24719    0     0   134k      0 --:--:-- --:--:-- --:--:--  134k\n"
          ]
        }
      ],
      "source": [
        "! curl -o montey_hall.png https://upload.wikimedia.org/wikipedia/commons/thumb/3/3f/Monty_open_door.svg/640px-Monty_open_door.svg.png"
      ]
    },
    {
      "cell_type": "code",
      "execution_count": 19,
      "metadata": {
        "id": "1Uhq7nZPEsvO"
      },
      "outputs": [
        {
          "data": {
            "text/html": [
              "<style>\n",
              "div.output_markdown {\n",
              "  font-size: 16px\n",
              "}\n",
              "\n",
              "div.output_markdown pre code {\n",
              "  color: #222222;\n",
              "}\n",
              "\n",
              "div.output_markdown pre:nth-of-type(even) {\n",
              "  background: #CCCCCC;\n",
              "  margin: 16px;\n",
              "  padding: 16px;\n",
              "}\n",
              "\n",
              "div.output_markdown pre:nth-of-type(odd) {\n",
              "  background: #BBBBEE;\n",
              "  margin: 16px;\n",
              "  padding: 16px;\n",
              "}\n",
              "</style>"
            ],
            "text/plain": [
              "<IPython.core.display.HTML object>"
            ]
          },
          "metadata": {},
          "output_type": "display_data"
        },
        {
          "data": {
            "image/png": "[encoded data removed]",
            "text/plain": [
              "<PIL.PngImagePlugin.PngImageFile image mode=RGBA size=640x356>"
            ]
          },
          "execution_count": 19,
          "metadata": {},
          "output_type": "execute_result"
        }
      ],
      "source": [
        "from PIL import Image\n",
        "montey_hall_image = Image.open(\"montey_hall.png\")\n",
        "montey_hall_image"
      ]
    },
    {
      "cell_type": "code",
      "execution_count": 20,
      "metadata": {
        "id": "2S0WIddTEzUm"
      },
      "outputs": [
        {
          "data": {
            "text/html": [
              "<style>\n",
              "div.output_markdown {\n",
              "  font-size: 16px\n",
              "}\n",
              "\n",
              "div.output_markdown pre code {\n",
              "  color: #222222;\n",
              "}\n",
              "\n",
              "div.output_markdown pre:nth-of-type(even) {\n",
              "  background: #CCCCCC;\n",
              "  margin: 16px;\n",
              "  padding: 16px;\n",
              "}\n",
              "\n",
              "div.output_markdown pre:nth-of-type(odd) {\n",
              "  background: #BBBBEE;\n",
              "  margin: 16px;\n",
              "  padding: 16px;\n",
              "}\n",
              "</style>"
            ],
            "text/plain": [
              "<IPython.core.display.HTML object>"
            ]
          },
          "metadata": {},
          "output_type": "display_data"
        },
        {
          "data": {
            "text/markdown": [
              "I understand. The Monty Hall problem is a classic probability puzzle that often leads to counterintuitive conclusions. Let's run a simulation in Python to see how the odds play out.\n",
              "\n",
              "\n",
              "``` python\n",
              "import random\n",
              "\n",
              "def monty_hall(switch):\n",
              "  \"\"\"Simulates a single round of the Monty Hall problem.\"\"\"\n",
              "  doors = [0, 1, 2]\n",
              "  car_door = random.choice(doors)\n",
              "  initial_choice = random.choice(doors)\n",
              "\n",
              "  # Host reveals a goat\n",
              "  if initial_choice != car_door:\n",
              "    host_reveal = random.choice([d for d in doors if d != initial_choice and d != car_door])\n",
              "  else:\n",
              "    host_reveal = random.choice([d for d in doors if d != initial_choice])\n",
              "\n",
              "  # Switch or stay\n",
              "  if switch:\n",
              "    final_choice = [d for d in doors if d != initial_choice and d != host_reveal][0]\n",
              "  else:\n",
              "    final_choice = initial_choice\n",
              "\n",
              "  return final_choice == car_door\n",
              "\n",
              "def run_trials(trials, switch):\n",
              "  \"\"\"Runs a set of Monty Hall trials with the specified switch strategy.\"\"\"\n",
              "  wins = 0\n",
              "  for _ in range(trials):\n",
              "    if monty_hall(switch):\n",
              "      wins += 1\n",
              "  return wins / trials\n",
              "\n",
              "# Run simulations\n",
              "trials = 1000\n",
              "stay_win_rate = run_trials(trials, switch=False)\n",
              "switch_win_rate = run_trials(trials, switch=True)\n",
              "\n",
              "print(f\"Win rate staying: {stay_win_rate * 100:.2f}%\")\n",
              "print(f\"Win rate switching: {switch_win_rate * 100:.2f}%\")\n",
              "\n",
              "```\n",
              "```\n",
              "Win rate staying: 32.60%\n",
              "Win rate switching: 66.90%\n",
              "\n",
              "```\n",
              "The simulation results show that switching doors significantly increases your chances of winning the car. The win rate for staying is around 33%, while the win rate for switching is around 67%. This confirms the counterintuitive but mathematically proven result of the Monty Hall problem: switching doors doubles your chances of winning. \n"
            ],
            "text/plain": [
              "<IPython.core.display.Markdown object>"
            ]
          },
          "execution_count": 20,
          "metadata": {},
          "output_type": "execute_result"
        }
      ],
      "source": [
        "prompt=\"\"\"\n",
        "Run a simulation of the Monty Hall Problem with 1,000 trials.\n",
        "\n",
        "\n",
        "Here's how this works as a reminder. In the Monty Hall Problem, you're on a game\n",
        "show with three doors. Behind one is a car, and behind the others are goats. You\n",
        "pick a door. The host, who knows what's behind the doors, opens a different door\n",
        "to reveal a goat. Should you switch to the remaining unopened door?\n",
        "\n",
        "\n",
        "The answer has always been a little difficult for me to understand when people\n",
        "solve it with math - so please run a simulation with Python to show me what the\n",
        "best strategy is.\n",
        "\n",
        "\n",
        "Thank you!\n",
        "\"\"\"\n",
        "result = model.generate_content([montey_hall_image, prompt])\n",
        "Markdown(result.text)"
      ]
    },
    {
      "cell_type": "markdown",
      "metadata": {
        "id": "nFZ3XoCRGnhO"
      },
      "source": [
        "## Streaming"
      ]
    },
    {
      "cell_type": "markdown",
      "metadata": {
        "id": "crv9H7euGuqP"
      },
      "source": [
        "Streaming is compatible with code execution. Just note that successive parts of the same type (`text`, `executable_code` or `execution_result`) are meant to be joined together:"
      ]
    },
    {
      "cell_type": "code",
      "execution_count": 21,
      "metadata": {
        "id": "J9s8DPy7GuKN"
      },
      "outputs": [
        {
          "data": {
            "text/html": [
              "<style>\n",
              "div.output_markdown {\n",
              "  font-size: 16px\n",
              "}\n",
              "\n",
              "div.output_markdown pre code {\n",
              "  color: #222222;\n",
              "}\n",
              "\n",
              "div.output_markdown pre:nth-of-type(even) {\n",
              "  background: #CCCCCC;\n",
              "  margin: 16px;\n",
              "  padding: 16px;\n",
              "}\n",
              "\n",
              "div.output_markdown pre:nth-of-type(odd) {\n",
              "  background: #BBBBEE;\n",
              "  margin: 16px;\n",
              "  padding: 16px;\n",
              "}\n",
              "</style>"
            ],
            "text/plain": [
              "<IPython.core.display.HTML object>"
            ]
          },
          "metadata": {},
          "output_type": "display_data"
        },
        {
          "name": "stdout",
          "output_type": "stream",
          "text": [
            "text: \"I understand\"\n",
            "\n",
            "----------------------------------------\n",
            "text: \", the Monty Hall Problem can be confusing! Let\\'s run a simulation to see\"\n",
            "\n",
            "----------------------------------------\n",
            "text: \" the results.\\n\\nI\\'ll simulate 1,000 trials of the\"\n",
            "\n",
            "----------------------------------------\n",
            "text: \" game and keep track of whether switching doors wins or loses. I\\'ll then compare the results of switching and not switching.\\n\\n\"\n",
            "\n",
            "----------------------------------------\n",
            "executable_code {\n",
            "  language: PYTHON\n",
            "  code: \"\\nimport random\\n\\ndef play_monty_hall(switch):\\n  \\\"\\\"\\\"Plays one round of the Monty Hall game and returns whether the player wins.\\\"\\\"\\\"\\n  # Choose a random door for the car\\n  car_door = random.randint(1, 3)\\n\\n  # Player picks a random door\\n  player_choice = random.randint(1, 3)\\n\\n  # Host opens a door with a goat\\n  if player_choice == car_door:\\n    # Host opens a random door that\\'s not the car door\\n    host_reveal = random.choice([door for door in [1, 2, 3] if door != car_door])\\n  else:\\n    # Host opens the other door with a goat\\n    host_reveal = [door for door in [1, 2, 3] if door != player_choice and door != car_door][0]\\n\\n  # Player switches doors\\n  if switch:\\n    player_choice = [door for door in [1, 2, 3] if door != player_choice and door != host_reveal][0]\\n\\n  # Player wins if they chose the car door\\n  return player_choice == car_door\\n\\n# Run 1,000 trials\\nnum_trials = 1000\\n\\n# Track wins and losses\\nswitch_wins = 0\\nswitch_losses = 0\\nstay_wins = 0\\nstay_losses = 0\\n\\nfor _ in range(num_trials):\\n  # Switch doors\\n  if play_monty_hall(switch=True):\\n    switch_wins += 1\\n  else:\\n    switch_losses += 1\\n\\n  # Stay with original choice\\n  if play_monty_hall(switch=False):\\n    stay_wins += 1\\n  else:\\n    stay_losses += 1\\n\\n# Print the results\\nprint(f\\'Switching doors wins: {switch_wins}/{num_trials} ({switch_wins / num_trials * 100:.2f}%)\\')\\nprint(f\\'Switching doors losses: {switch_losses}/{num_trials} ({switch_losses / num_trials * 100:.2f}%)\\')\\nprint(f\\'Staying with original choice wins: {stay_wins}/{num_trials} ({stay_wins / num_trials * 100:.2f}%)\\')\\nprint(f\\'Staying with original choice losses: {stay_losses}/{num_trials} ({stay_losses / num_trials * 100:.2f}%)\\')\\n\"\n",
            "}\n",
            "\n",
            "----------------------------------------\n",
            "code_execution_result {\n",
            "  outcome: OUTCOME_OK\n",
            "  output: \"Switching doors wins: 658/1000 (65.80%)\\nSwitching doors losses: 342/1000 (34.20%)\\nStaying with original choice wins: 339/1000 (33.90%)\\nStaying with original choice losses: 661/1000 (66.10%)\\n\"\n",
            "}\n",
            "\n",
            "----------------------------------------\n",
            "text: \"The\"\n",
            "\n",
            "----------------------------------------\n",
            "text: \" simulation ran 1,000 times, and the results show that switching\"\n",
            "\n",
            "----------------------------------------\n",
            "text: \" doors wins approximately 65.8% of the time, while staying with\"\n",
            "\n",
            "----------------------------------------\n",
            "text: \" the original choice wins about 33.9% of the time.\\n\\n\\nThis means that **switching doors is the much better strategy** in the Monty Hall\"\n",
            "\n",
            "----------------------------------------\n",
            "text: \" Problem. \\n\"\n",
            "\n",
            "----------------------------------------\n"
          ]
        }
      ],
      "source": [
        "result = model.generate_content([montey_hall_image, prompt], stream=True)\n",
        "for chunk in result:\n",
        "  print(chunk.candidates[0].content.parts[0])\n",
        "  print('----------------------------------------')"
      ]
    },
    {
      "cell_type": "markdown",
      "metadata": {
        "id": "QvIoEpQyifU_"
      },
      "source": [
        "The result object automatically joins the parts, as you iterate over them:"
      ]
    },
    {
      "cell_type": "code",
      "execution_count": 22,
      "metadata": {
        "id": "yjUSubFXiaEP"
      },
      "outputs": [
        {
          "data": {
            "text/html": [
              "<style>\n",
              "div.output_markdown {\n",
              "  font-size: 16px\n",
              "}\n",
              "\n",
              "div.output_markdown pre code {\n",
              "  color: #222222;\n",
              "}\n",
              "\n",
              "div.output_markdown pre:nth-of-type(even) {\n",
              "  background: #CCCCCC;\n",
              "  margin: 16px;\n",
              "  padding: 16px;\n",
              "}\n",
              "\n",
              "div.output_markdown pre:nth-of-type(odd) {\n",
              "  background: #BBBBEE;\n",
              "  margin: 16px;\n",
              "  padding: 16px;\n",
              "}\n",
              "</style>"
            ],
            "text/plain": [
              "<IPython.core.display.HTML object>"
            ]
          },
          "metadata": {},
          "output_type": "display_data"
        },
        {
          "name": "stdout",
          "output_type": "stream",
          "text": [
            "text: \"I understand, the Monty Hall Problem can be confusing! Let\\'s run a simulation to see the results.\\n\\nI\\'ll simulate 1,000 trials of the game and keep track of whether switching doors wins or loses. I\\'ll then compare the results of switching and not switching.\\n\\n\"\n",
            "\n",
            "----------------------------------------\n",
            "executable_code {\n",
            "  language: PYTHON\n",
            "  code: \"\\nimport random\\n\\ndef play_monty_hall(switch):\\n  \\\"\\\"\\\"Plays one round of the Monty Hall game and returns whether the player wins.\\\"\\\"\\\"\\n  # Choose a random door for the car\\n  car_door = random.randint(1, 3)\\n\\n  # Player picks a random door\\n  player_choice = random.randint(1, 3)\\n\\n  # Host opens a door with a goat\\n  if player_choice == car_door:\\n    # Host opens a random door that\\'s not the car door\\n    host_reveal = random.choice([door for door in [1, 2, 3] if door != car_door])\\n  else:\\n    # Host opens the other door with a goat\\n    host_reveal = [door for door in [1, 2, 3] if door != player_choice and door != car_door][0]\\n\\n  # Player switches doors\\n  if switch:\\n    player_choice = [door for door in [1, 2, 3] if door != player_choice and door != host_reveal][0]\\n\\n  # Player wins if they chose the car door\\n  return player_choice == car_door\\n\\n# Run 1,000 trials\\nnum_trials = 1000\\n\\n# Track wins and losses\\nswitch_wins = 0\\nswitch_losses = 0\\nstay_wins = 0\\nstay_losses = 0\\n\\nfor _ in range(num_trials):\\n  # Switch doors\\n  if play_monty_hall(switch=True):\\n    switch_wins += 1\\n  else:\\n    switch_losses += 1\\n\\n  # Stay with original choice\\n  if play_monty_hall(switch=False):\\n    stay_wins += 1\\n  else:\\n    stay_losses += 1\\n\\n# Print the results\\nprint(f\\'Switching doors wins: {switch_wins}/{num_trials} ({switch_wins / num_trials * 100:.2f}%)\\')\\nprint(f\\'Switching doors losses: {switch_losses}/{num_trials} ({switch_losses / num_trials * 100:.2f}%)\\')\\nprint(f\\'Staying with original choice wins: {stay_wins}/{num_trials} ({stay_wins / num_trials * 100:.2f}%)\\')\\nprint(f\\'Staying with original choice losses: {stay_losses}/{num_trials} ({stay_losses / num_trials * 100:.2f}%)\\')\\n\"\n",
            "}\n",
            "\n",
            "----------------------------------------\n",
            "code_execution_result {\n",
            "  outcome: OUTCOME_OK\n",
            "  output: \"Switching doors wins: 658/1000 (65.80%)\\nSwitching doors losses: 342/1000 (34.20%)\\nStaying with original choice wins: 339/1000 (33.90%)\\nStaying with original choice losses: 661/1000 (66.10%)\\n\"\n",
            "}\n",
            "\n",
            "----------------------------------------\n",
            "text: \"The simulation ran 1,000 times, and the results show that switching doors wins approximately 65.8% of the time, while staying with the original choice wins about 33.9% of the time.\\n\\n\\nThis means that **switching doors is the much better strategy** in the Monty Hall Problem. \\n\"\n",
            "\n",
            "----------------------------------------\n"
          ]
        }
      ],
      "source": [
        "for part in result.candidates[0].content.parts:\n",
        "  print(part)\n",
        "  print('----------------------------------------')"
      ]
    },
    {
      "cell_type": "code",
      "execution_count": 23,
      "metadata": {
        "id": "3sJ7LTpVFsqM"
      },
      "outputs": [
        {
          "data": {
            "text/html": [
              "<style>\n",
              "div.output_markdown {\n",
              "  font-size: 16px\n",
              "}\n",
              "\n",
              "div.output_markdown pre code {\n",
              "  color: #222222;\n",
              "}\n",
              "\n",
              "div.output_markdown pre:nth-of-type(even) {\n",
              "  background: #CCCCCC;\n",
              "  margin: 16px;\n",
              "  padding: 16px;\n",
              "}\n",
              "\n",
              "div.output_markdown pre:nth-of-type(odd) {\n",
              "  background: #BBBBEE;\n",
              "  margin: 16px;\n",
              "  padding: 16px;\n",
              "}\n",
              "</style>"
            ],
            "text/plain": [
              "<IPython.core.display.HTML object>"
            ]
          },
          "metadata": {},
          "output_type": "display_data"
        },
        {
          "name": "stdout",
          "output_type": "stream",
          "text": [
            "I understand, the Monty Hall Problem can be confusing! Let's run a simulation to see the results.\n",
            "\n",
            "I'll simulate 1,000 trials of the game and keep track of whether switching doors wins or loses. I'll then compare the results of switching and not switching.\n",
            "\n",
            "\n",
            "``` python\n",
            "import random\n",
            "\n",
            "def play_monty_hall(switch):\n",
            "  \"\"\"Plays one round of the Monty Hall game and returns whether the player wins.\"\"\"\n",
            "  # Choose a random door for the car\n",
            "  car_door = random.randint(1, 3)\n",
            "\n",
            "  # Player picks a random door\n",
            "  player_choice = random.randint(1, 3)\n",
            "\n",
            "  # Host opens a door with a goat\n",
            "  if player_choice == car_door:\n",
            "    # Host opens a random door that's not the car door\n",
            "    host_reveal = random.choice([door for door in [1, 2, 3] if door != car_door])\n",
            "  else:\n",
            "    # Host opens the other door with a goat\n",
            "    host_reveal = [door for door in [1, 2, 3] if door != player_choice and door != car_door][0]\n",
            "\n",
            "  # Player switches doors\n",
            "  if switch:\n",
            "    player_choice = [door for door in [1, 2, 3] if door != player_choice and door != host_reveal][0]\n",
            "\n",
            "  # Player wins if they chose the car door\n",
            "  return player_choice == car_door\n",
            "\n",
            "# Run 1,000 trials\n",
            "num_trials = 1000\n",
            "\n",
            "# Track wins and losses\n",
            "switch_wins = 0\n",
            "switch_losses = 0\n",
            "stay_wins = 0\n",
            "stay_losses = 0\n",
            "\n",
            "for _ in range(num_trials):\n",
            "  # Switch doors\n",
            "  if play_monty_hall(switch=True):\n",
            "    switch_wins += 1\n",
            "  else:\n",
            "    switch_losses += 1\n",
            "\n",
            "  # Stay with original choice\n",
            "  if play_monty_hall(switch=False):\n",
            "    stay_wins += 1\n",
            "  else:\n",
            "    stay_losses += 1\n",
            "\n",
            "# Print the results\n",
            "print(f'Switching doors wins: {switch_wins}/{num_trials} ({switch_wins / num_trials * 100:.2f}%)')\n",
            "print(f'Switching doors losses: {switch_losses}/{num_trials} ({switch_losses / num_trials * 100:.2f}%)')\n",
            "print(f'Staying with original choice wins: {stay_wins}/{num_trials} ({stay_wins / num_trials * 100:.2f}%)')\n",
            "print(f'Staying with original choice losses: {stay_losses}/{num_trials} ({stay_losses / num_trials * 100:.2f}%)')\n",
            "\n",
            "```\n",
            "```\n",
            "Switching doors wins: 658/1000 (65.80%)\n",
            "Switching doors losses: 342/1000 (34.20%)\n",
            "Staying with original choice wins: 339/1000 (33.90%)\n",
            "Staying with original choice losses: 661/1000 (66.10%)\n",
            "\n",
            "```\n",
            "The simulation ran 1,000 times, and the results show that switching doors wins approximately 65.8% of the time, while staying with the original choice wins about 33.9% of the time.\n",
            "\n",
            "\n",
            "This means that **switching doors is the much better strategy** in the Monty Hall Problem. \n",
            "\n"
          ]
        }
      ],
      "source": [
        "print(result.text)"
      ]
    },
    {
      "cell_type": "markdown",
      "metadata": {
        "id": "1a4c6e717f63"
      },
      "source": [
        "## Next Steps\n",
        "### Useful API references:\n",
        "\n",
        "Check the [Code execution documentation](https://ai.google.dev/gemini-api/docs/code-execution) for more details about the feature and in particular, the [recommendations](https://ai.google.dev/gemini-api/docs/code-execution?lang=python#code-execution-vs-function-calling) regarding when to use it instead of [function calling](https://ai.google.dev/gemini-api/docs/function-calling).\n",
        "\n",
        "### Continue your discovery of the Gemini API\n",
        "\n",
        "Learn how to control how the Gemini API can call your own functions using the [function calling](../quickstarts/Function_calling.ipynb) feature, or discover how to control the model output in [JSON](../quickstarts/JSON_mode.ipynb) or using an [Enum](../quickstarts/Enum.ipynb)."
      ]
    }
  ],
  "metadata": {
    "colab": {
      "collapsed_sections": [
        "kQoJWW8lM48-"
      ],
      "name": "Code_Execution.ipynb",
      "toc_visible": true
    },
    "kernelspec": {
      "display_name": "Python 3",
      "name": "python3"
    }
  },
  "nbformat": 4,
  "nbformat_minor": 0
}
