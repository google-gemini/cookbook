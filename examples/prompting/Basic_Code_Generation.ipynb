{
  "cells": [
    {
      "cell_type": "markdown",
      "metadata": {
        "id": "LweKUTqZUn4z"
      },
      "source": [
        "##### Copyright 2024 Google LLC."
      ]
    },
    {
      "cell_type": "code",
      "execution_count": null,
      "metadata": {
        "cellView": "form",
        "id": "vQoUR__bUlfj"
      },
      "outputs": [],
      "source": [
        "# @title Licensed under the Apache License, Version 2.0 (the \"License\");\n",
        "# you may not use this file except in compliance with the License.\n",
        "# You may obtain a copy of the License at\n",
        "#\n",
        "# https://www.apache.org/licenses/LICENSE-2.0\n",
        "#\n",
        "# Unless required by applicable law or agreed to in writing, software\n",
        "# distributed under the License is distributed on an \"AS IS\" BASIS,\n",
        "# WITHOUT WARRANTIES OR CONDITIONS OF ANY KIND, either express or implied.\n",
        "# See the License for the specific language governing permissions and\n",
        "# limitations under the License."
      ]
    },
    {
      "cell_type": "markdown",
      "metadata": {
        "id": "sP8PQnz1QrcF"
      },
      "source": [
        "# Gemini API: Basic code generation\n",
        "\n",
        "This notebook demonstrates how to use prompting to perform basic code generation using the Gemini API's Python SDK. Two use cases are explored: error handling and code generation."
      ]
    },
    {
      "cell_type": "markdown",
      "metadata": {
        "id": "bxGr_x3MRA0z"
      },
      "source": [
        "<table class=\"tfo-notebook-buttons\" align=\"left\">\n",
        "  <td>\n",
        "    <a target=\"_blank\" href=\"https://colab.research.google.com/github/google-gemini/cookbook/blob/main/examples/prompting/Basic_Code_Generation.ipynb\"><img src = \"../../images/colab_logo_32px.png\"/>Run in Google Colab</a>\n",
        "  </td>\n",
        "</table>"
      ]
    },
    {
      "cell_type": "markdown",
      "metadata": {
        "id": "ysy--KfNRrCq"
      },
      "source": [
        "The Gemini API can be a great tool to save you time during the development process. Tasks such as code generation, debugging, or optimization can be done with the assistance of the Gemini model."
      ]
    },
    {
      "cell_type": "code",
      "execution_count": null,
      "metadata": {
        "id": "Ne-3gnXqR0hI"
      },
      "outputs": [],
      "source": [
        "!pip install -U -q \"google-generativeai>=0.7.2\""
      ]
    },
    {
      "cell_type": "code",
      "execution_count": null,
      "metadata": {
        "id": "EconMHePQHGw"
      },
      "outputs": [],
      "source": [
        "import google.generativeai as genai\n",
        "\n",
        "from IPython.display import Markdown"
      ]
    },
    {
      "cell_type": "markdown",
      "metadata": {
        "id": "eomJzCa6lb90"
      },
      "source": [
        "## Configure your API key\n",
        "\n",
        "To run the following cell, your API key must be stored it in a Colab Secret named `GOOGLE_API_KEY`. If you don't already have an API key, or you're not sure how to create a Colab Secret, see [Authentication](https://github.com/google-gemini/cookbook/blob/main/quickstarts/Authentication.ipynb) for an example."
      ]
    },
    {
      "cell_type": "code",
      "execution_count": null,
      "metadata": {
        "id": "v-JZzORUpVR2"
      },
      "outputs": [],
      "source": [
        "from google.colab import userdata\n",
        "GOOGLE_API_KEY=userdata.get('GOOGLE_API_KEY')\n",
        "\n",
        "genai.configure(api_key=GOOGLE_API_KEY)"
      ]
    },
    {
      "cell_type": "markdown",
      "metadata": {
        "id": "yQnqEPjephXi"
      },
      "source": [
        "## Examples"
      ]
    },
    {
      "cell_type": "markdown",
      "metadata": {
        "id": "bR-OOcC6pIm5"
      },
      "source": [
        "### Error handling"
      ]
    },
    {
      "cell_type": "code",
      "execution_count": null,
      "metadata": {
        "id": "kVF8ZQ38Vs1P"
      },
      "outputs": [],
      "source": [
        "error_handling_system_prompt =f\"\"\"\n",
        "Your task is to explain exactly why this error occurred and how to fix it.\n",
        "\"\"\"\n",
        "error_handling_model = genai.GenerativeModel(model_name='gemini-2.0-flash', generation_config={\"temperature\": 0},\n",
        "                                             system_instruction=error_handling_system_prompt)"
      ]
    },
    {
      "cell_type": "code",
      "execution_count": null,
      "metadata": {
        "id": "CHTdAVE0pIFf"
      },
      "outputs": [
        {
          "data": {
            "text/markdown": "The error message \"IndexError: list index out of range\" means you're trying to access an element in a list using an index that doesn't exist.\n\n**Explanation:**\n\n* **List Indexing:** In Python, lists are zero-indexed. This means the first element has an index of 0, the second element has an index of 1, and so on.\n* **Your Code:** In your code, `my_list = [1, 2, 3]` has three elements. The valid indices for this list are 0, 1, and 2.\n* **The Error:** You're trying to access `my_list[3]`. Since the list only has three elements, there is no element at index 3. This causes the \"IndexError: list index out of range\" error.\n\n**How to Fix It:**\n\n1. **Check the Index:** Ensure the index you're using is within the valid range of the list. In this case, you should use an index between 0 and 2.\n2. **Adjust the Code:**  To access the last element of the list, use `my_list[2]`.\n\n**Corrected Code:**\n\n```python\nmy_list = [1, 2, 3]\nprint(my_list[2])  # This will print 3\n```\n\n**Important Note:**  Always be mindful of the size of your lists and the indices you use to avoid this common error. \n",
            "text/plain": [
              "<IPython.core.display.Markdown object>"
            ]
          },
          "execution_count": 5,
          "metadata": {},
          "output_type": "execute_result"
        }
      ],
      "source": [
        "error_message = \"\"\"\n",
        "   1 my_list = [1,2,3]\n",
        "----> 2 print(my_list[3])\n",
        "\n",
        "IndexError: list index out of range\n",
        "\"\"\"\n",
        "\n",
        "error_prompt = f\"\"\"\n",
        "You've encountered the following error message:\n",
        "Error Message: {error_message}\"\"\"\n",
        "\n",
        "Markdown(error_handling_model.generate_content(error_prompt).text)"
      ]
    },
    {
      "cell_type": "markdown",
      "metadata": {
        "id": "kTDi8WyDqQRf"
      },
      "source": [
        "### Code generation"
      ]
    },
    {
      "cell_type": "code",
      "execution_count": null,
      "metadata": {
        "id": "1T1QSzjVVvE_"
      },
      "outputs": [],
      "source": [
        "code_generation_system_prompt = f\"\"\"\n",
        "You are a coding assistant. Your task is to generate a code snippet that accomplishes a specific goal.\n",
        "The code snippet must be concise, efficient, and well-commented for clarity.\n",
        "Consider any constraints or requirements provided for the task.\n",
        "\n",
        "If the task does not specify a programming language, default to Python.\n",
        "\"\"\"\n",
        "code_generation_model = genai.GenerativeModel(model_name='gemini-2.0-flash', generation_config={\"temperature\": 0},\n",
        "                                             system_instruction=code_generation_system_prompt)"
      ]
    },
    {
      "cell_type": "code",
      "execution_count": null,
      "metadata": {
        "id": "8KVpzExDqRj2"
      },
      "outputs": [
        {
          "data": {
            "text/markdown": "```python\nimport time\n\n# Set the countdown duration in seconds\ncountdown_duration = 20\n\n# Start the countdown\nfor i in range(countdown_duration, 0, -1):\n    print(i, end=\" \")\n    time.sleep(1)  # Wait for 1 second\n\n# Print \"Time is up!\" after the countdown\nprint(\"Time is up!\")\n```",
            "text/plain": [
              "<IPython.core.display.Markdown object>"
            ]
          },
          "execution_count": 7,
          "metadata": {},
          "output_type": "execute_result"
        }
      ],
      "source": [
        "code_generation_prompt = 'Create a countdown timer that ticks down every second and prints \"Time is up!\" after 20 seconds'\n",
        "\n",
        "Markdown(code_generation_model.generate_content(code_generation_prompt).text)"
      ]
    },
    {
      "cell_type": "markdown",
      "metadata": {
        "id": "Z7X6pSdOMyvS"
      },
      "source": [
        "Let's check if generated code works."
      ]
    },
    {
      "cell_type": "code",
      "execution_count": null,
      "metadata": {
        "id": "lOU_abTPSmZu"
      },
      "outputs": [
        {
          "name": "stdout",
          "output_type": "stream",
          "text": [
            "20 19 18 17 16 15 14 13 12 11 10 9 8 7 6 5 4 3 2 1 Time is up!\n"
          ]
        }
      ],
      "source": [
        "import time\n",
        "\n",
        "# Set the countdown duration in seconds\n",
        "countdown_duration = 20\n",
        "\n",
        "# Start the countdown\n",
        "for i in range(countdown_duration, 0, -1):\n",
        "    print(i, end=\" \")\n",
        "    time.sleep(1)  # Wait for 1 second\n",
        "\n",
        "# Print \"Time is up!\" after the countdown\n",
        "print(\"Time is up!\")"
      ]
    },
    {
      "cell_type": "markdown",
      "metadata": {
        "id": "AiGF8I290YzL"
      },
      "source": [
        "## Next steps\n",
        "\n",
        "Be sure to explore other examples of prompting in the repository. Try writing prompts around your own code as well using the examples in this notebook."
      ]
    }
  ],
  "metadata": {
    "colab": {
      "name": "Basic_Code_Generation.ipynb",
      "toc_visible": true
    },
    "kernelspec": {
      "display_name": "Python 3",
      "name": "python3"
    }
  },
  "nbformat": 4,
  "nbformat_minor": 0
}
