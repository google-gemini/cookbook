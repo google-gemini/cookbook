{
  "cells": [
    {
      "cell_type": "markdown",
      "metadata": {
        "id": "UvTPRErEO2cl"
      },
      "source": [
        "##### Copyright 2024 Google LLC."
      ]
    },
    {
      "cell_type": "code",
      "execution_count": 1,
      "metadata": {
        "cellView": "form",
        "id": "LCJL7_hQO3jW"
      },
      "outputs": [],
      "source": [
        "# @title Licensed under the Apache License, Version 2.0 (the \"License\");\n",
        "# you may not use this file except in compliance with the License.\n",
        "# You may obtain a copy of the License at\n",
        "#\n",
        "# https://www.apache.org/licenses/LICENSE-2.0\n",
        "#\n",
        "# Unless required by applicable law or agreed to in writing, software\n",
        "# distributed under the License is distributed on an \"AS IS\" BASIS,\n",
        "# WITHOUT WARRANTIES OR CONDITIONS OF ANY KIND, either express or implied.\n",
        "# See the License for the specific language governing permissions and\n",
        "# limitations under the License."
      ]
    },
    {
      "cell_type": "markdown",
      "metadata": {
        "id": "2Xjw-LFKoD1-"
      },
      "source": [
        "# Gemini API: Analyze a Video - Historic Event Recognition\n",
        "\n",
        "This notebook shows how you can use Gemini models' multimodal capabilities to recognize which historic event is happening in the video."
      ]
    },
    {
      "cell_type": "markdown",
      "metadata": {
        "id": "dJY5C59gPf-m"
      },
      "source": [
        "<table class=\"tfo-notebook-buttons\" align=\"left\">\n",
        "  <td>\n",
        "    <a target=\"_blank\" href=\"https://colab.research.google.com/github/google-gemini/cookbook/blob/main/examples/Analyze_a_Video_Historic_Event_Recognition.ipynb\"><img src = \"../images/colab_logo_32px.png\"/>Run in Google Colab</a>\n",
        "  </td>\n",
        "</table>"
      ]
    },
    {
      "cell_type": "code",
      "execution_count": 2,
      "metadata": {
        "id": "NwP4PBGWoQiJ"
      },
      "outputs": [],
      "source": [
        "!pip install -U -q \"google-generativeai>=0.7.2\""
      ]
    },
    {
      "cell_type": "code",
      "execution_count": 3,
      "metadata": {
        "id": "gXEnnRD_MbRR"
      },
      "outputs": [],
      "source": [
        "import time\n",
        "import google.generativeai as genai"
      ]
    },
    {
      "cell_type": "markdown",
      "metadata": {
        "id": "KsMCUn_nRRtV"
      },
      "source": [
        "## Configure your API key\n",
        "\n",
        "To run the following cell, your API key must be stored in a Colab Secret named `GOOGLE_API_KEY`. If you don't already have an API key, or you're not sure how to create a Colab Secret, see [Authentication](https://github.com/google-gemini/cookbook/blob/main/quickstarts/Authentication.ipynb) for an example."
      ]
    },
    {
      "cell_type": "code",
      "execution_count": 5,
      "metadata": {
        "id": "yGjQlQ9hoSOk"
      },
      "outputs": [],
      "source": [
        "from google.colab import userdata\n",
        "api_key = userdata.get('GOOGLE_API_KEY')\n",
        "\n",
        "genai.configure(api_key=api_key)"
      ]
    },
    {
      "cell_type": "markdown",
      "metadata": {
        "id": "9y6o91Xb7RZb"
      },
      "source": [
        "## Example\n",
        "\n",
        "This example uses [video of President Ronald Reagan's Speech at the Berlin Wall](https://s3.amazonaws.com/NARAprodstorage/opastorage/live/16/147/6014716/content/presidential-libraries/reagan/5730544/6-12-1987-439.mp4) taken on June 12 1987."
      ]
    },
    {
      "cell_type": "code",
      "execution_count": 6,
      "metadata": {
        "id": "M794IEOG7QzI"
      },
      "outputs": [
        {
          "name": "stdout",
          "output_type": "stream",
          "text": [
            "--2024-08-15 17:25:44--  https://s3.amazonaws.com/NARAprodstorage/opastorage/live/16/147/6014716/content/presidential-libraries/reagan/5730544/6-12-1987-439.mp4\n",
            "Resolving s3.amazonaws.com (s3.amazonaws.com)... 52.217.170.208, 52.217.124.192, 52.216.54.104, ...\n",
            "Connecting to s3.amazonaws.com (s3.amazonaws.com)|52.217.170.208|:443... connected.\n",
            "HTTP request sent, awaiting response... 200 OK\n",
            "Length: 628645171 (600M) [video/mp4]\n",
            "Saving to: ‘berlin.mp4’\n",
            "\n",
            "berlin.mp4          100%[===================>] 599.52M  25.5MB/s    in 18s     \n",
            "\n",
            "2024-08-15 17:26:02 (33.9 MB/s) - ‘berlin.mp4’ saved [628645171/628645171]\n",
            "\n"
          ]
        }
      ],
      "source": [
        "# Download video\n",
        "path = \"berlin.mp4\"\n",
        "url = \"https://s3.amazonaws.com/NARAprodstorage/opastorage/live/16/147/6014716/content/presidential-libraries/reagan/5730544/6-12-1987-439.mp4\"\n",
        "!wget $url -O $path"
      ]
    },
    {
      "cell_type": "code",
      "execution_count": 7,
      "metadata": {
        "id": "efnp0oAq7kYx"
      },
      "outputs": [],
      "source": [
        "# Upload video\n",
        "video_file = genai.upload_file(path=path)"
      ]
    },
    {
      "cell_type": "code",
      "execution_count": 8,
      "metadata": {
        "id": "ij9-oG3g7yyj"
      },
      "outputs": [
        {
          "name": "stdout",
          "output_type": "stream",
          "text": [
            ".............."
          ]
        }
      ],
      "source": [
        "# Wait until the uploaded video is available\n",
        "while video_file.state.name == \"PROCESSING\":\n",
        "  print('.', end='')\n",
        "  time.sleep(5)\n",
        "  video_file = genai.get_file(video_file.name)\n",
        "\n",
        "if video_file.state.name == \"FAILED\":\n",
        "  raise ValueError(video_file.state.name)"
      ]
    },
    {
      "cell_type": "markdown",
      "metadata": {
        "id": "CFG1q42HTHmp"
      },
      "source": [
        "The uploaded video is ready for processing. This prompt instructs the model to provide basic information about the historical events portrayed in the video."
      ]
    },
    {
      "cell_type": "code",
      "execution_count": 9,
      "metadata": {
        "id": "Zhnsiy9O8OXG"
      },
      "outputs": [],
      "source": [
        "system_prompt = \"\"\"\n",
        "You are historian who specializes in events caught on film.\n",
        "When you receive a video answer following questions:\n",
        "When did it happen?\n",
        "Who is the most important person in video?\n",
        "How the event is called?\n",
        "\"\"\""
      ]
    },
    {
      "cell_type": "markdown",
      "metadata": {
        "id": "mvbM5XRJjp6T"
      },
      "source": [
        "Some historic events touch on controversial topics that may get flagged by Gemini API, which blocks the response for the query.\n",
        "\n",
        "Because of this, it might be a good idea to turn off safety settings."
      ]
    },
    {
      "cell_type": "code",
      "execution_count": 10,
      "metadata": {
        "id": "GroygcLLNH3J"
      },
      "outputs": [],
      "source": [
        "safety_settings = [\n",
        "    {\n",
        "        \"category\": \"HARM_CATEGORY_HARASSMENT\",\n",
        "        \"threshold\": \"BLOCK_NONE\",\n",
        "    },\n",
        "    {\n",
        "        \"category\": \"HARM_CATEGORY_HATE_SPEECH\",\n",
        "        \"threshold\": \"BLOCK_NONE\",\n",
        "    },\n",
        "    {\n",
        "        \"category\": \"HARM_CATEGORY_SEXUALLY_EXPLICIT\",\n",
        "        \"threshold\": \"BLOCK_NONE\",\n",
        "    },\n",
        "    {\n",
        "        \"category\": \"HARM_CATEGORY_DANGEROUS_CONTENT\",\n",
        "        \"threshold\": \"BLOCK_NONE\",\n",
        "    },\n",
        "]"
      ]
    },
    {
      "cell_type": "code",
      "execution_count": 11,
      "metadata": {
        "id": "PWLK7TEi7_mP"
      },
      "outputs": [
        {
          "name": "stdout",
          "output_type": "stream",
          "text": [
            "This is Ronald Reagan's speech at the Brandenburg Gate in West Berlin, Germany. It happened on June 12, 1987.  The most important person in this video is Ronald Reagan, the 40th president of the United States,  as he gave a landmark speech demanding the fall of the Berlin Wall. The event is called \"Tear Down This Wall\" speech. \n",
            "\n"
          ]
        }
      ],
      "source": [
        "model = genai.GenerativeModel(model_name=\"models/gemini-1.5-flash\", safety_settings=safety_settings,\n",
        "                              system_instruction=system_prompt)\n",
        "response = model.generate_content([\"Analyze that video please\",video_file])\n",
        "print(response.text)"
      ]
    },
    {
      "cell_type": "markdown",
      "metadata": {
        "id": "T6ByVwbmTfve"
      },
      "source": [
        "As you can see, the model correctly provided information about the dates, Ronald Reagan, who was the main subject of the video, and the name of this event.\n",
        "\n",
        "You can delete the video to prevent unnecessary data storage."
      ]
    },
    {
      "cell_type": "code",
      "execution_count": 12,
      "metadata": {
        "id": "SomiSVmu8Czk"
      },
      "outputs": [],
      "source": [
        "# Delete video\n",
        "genai.delete_file(video_file.name)"
      ]
    },
    {
      "cell_type": "markdown",
      "metadata": {
        "id": "aBM_LtQLLJA9"
      },
      "source": [
        "## Summary\n",
        "\n",
        "Now you know how you can prompt Gemini models with videos and use them to recognize historic events.\n",
        "\n",
        "This notebook shows only one of many use cases. Try thinking of more yourself or see other notebooks utilizing Gemini API with videos."
      ]
    }
  ],
  "metadata": {
    "colab": {
      "name": "Analyze_a_Video_Historic_Event_Recognition.ipynb",
      "toc_visible": true
    },
    "kernelspec": {
      "display_name": "Python 3",
      "name": "python3"
    }
  },
  "nbformat": 4,
  "nbformat_minor": 0
}
