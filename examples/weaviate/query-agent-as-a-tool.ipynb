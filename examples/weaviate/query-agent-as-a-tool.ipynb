{
 "cells": [
  {
   "cell_type": "markdown",
   "metadata": {},
   "source": [
    "## Weaviate Query Agent with Gemini API\n",
    "\n",
    "This notebook will show you how to define the Weaviate Query Agent as a tool through the Gemini API.\n",
    "\n",
    "### Requirements\n",
    "1. Weaviate Cloud instance (WCD): The Weaviate Query Agent is only accessible through WCD at the moment. You can create a serverless cluster or a free 14-day sandbox [here](https://console.weaviate.cloud/).\n",
    "2. Have a GCP project and Gemini API key (generate one [here](https://aistudio.google.com/))\n",
    "3. Install the Google Gen AI SDK with `pip install --upgrade --quiet google-genai`\n",
    "4. Install the Weaviate Agents package with `pip install weaviate-agents`\n",
    "5. You'll need a Weaviate cluster with data. If you don't have one, check out [this notebook](integrations/Weaviate-Import-Example.ipynb) to import the Weaviate Blogs.\n",
    "\n",
    "Connect with us and let us know if you have any questions!\n",
    "\n",
    "Erika's accounts:\n",
    "* [Follow on X](https://x.com/ecardenas300)\n",
    "* [Connect on LinkedIn](https://www.linkedin.com/in/erikacardenas300/)\n",
    "\n",
    "Patrick's accounts:\n",
    "* [Follow on X](https://x.com/patloeber)\n",
    "* [Connect on LinkedIn](https://www.linkedin.com/in/patrick-l%C3%B6ber-403022137/)\n",
    "\n",
    "Connor's accounts:\n",
    "* [LinkedIn](https://www.linkedin.com/in/connor-shorten-34923a178/)\n",
    "* [X](https://x.com/CShorten30)"
   ]
  },
  {
   "cell_type": "markdown",
   "metadata": {},
   "source": [
    "### Import libraries and keys"
   ]
  },
  {
   "cell_type": "code",
   "execution_count": 1,
   "metadata": {},
   "outputs": [],
   "source": [
    "import weaviate\n",
    "from weaviate_agents.query import QueryAgent\n",
    "import os\n",
    "import json\n",
    "\n",
    "from google import genai\n",
    "from google.genai import types\n",
    "\n",
    "from google.genai.types import FunctionDeclaration, GenerateContentConfig, Part, Tool\n",
    "import requests"
   ]
  },
  {
   "cell_type": "code",
   "execution_count": 2,
   "metadata": {},
   "outputs": [],
   "source": [
    "os.environ[\"WEAVIATE_URL\"] = \"\"\n",
    "os.environ[\"WEAVIATE_API_KEY\"] = \"\"\n",
    "os.environ[\"GOOGLE_API_KEY\"] = \"\"\n"
   ]
  },
  {
   "cell_type": "markdown",
   "metadata": {},
   "source": [
    "### Create API client"
   ]
  },
  {
   "cell_type": "code",
   "execution_count": 3,
   "metadata": {},
   "outputs": [],
   "source": [
    "client = genai.Client()"
   ]
  },
  {
   "cell_type": "markdown",
   "metadata": {},
   "source": [
    "### Define Query Agent function"
   ]
  },
  {
   "cell_type": "code",
   "execution_count": 8,
   "metadata": {},
   "outputs": [],
   "source": [
    "def query_agent_request(query: str) -> str:\n",
    "    \"\"\"\n",
    "    Send a query to the database and get the response.\n",
    "\n",
    "    Args:\n",
    "        query (str): The question or query to search for in the database. This can be any natural language question related to the content stored in the database.\n",
    "\n",
    "    Returns:\n",
    "        str: The response from the database containing relevant information.\n",
    "    \"\"\"\n",
    "\n",
    "    # connect to your Weaviate Cloud instance\n",
    "    weaviate_client = weaviate.connect_to_weaviate_cloud(\n",
    "        cluster_url=os.getenv(\"WEAVIATE_URL\"), \n",
    "        auth_credentials=weaviate.auth.AuthApiKey(os.getenv(\"WEAVIATE_API_KEY\")),\n",
    "        headers={  # add the API key to the model provider from your Weaviate collection, for example `headers={\"X-Goog-Studio-Api-Key\": os.getenv(\"GEMINI_API_KEY\")}` \n",
    "        }\n",
    "    )\n",
    "\n",
    "    # connect the query agent to your Weaviate collection(s)\n",
    "    query_agent = QueryAgent(\n",
    "        client=weaviate_client,\n",
    "        collections=[\"WeaviateBlogChunks\"] \n",
    "    )\n",
    "    return query_agent.run(query).final_answer"
   ]
  },
  {
   "cell_type": "markdown",
   "metadata": {},
   "source": [
    "### Configure Tool"
   ]
  },
  {
   "cell_type": "code",
   "execution_count": 10,
   "metadata": {},
   "outputs": [],
   "source": [
    "config = types.GenerateContentConfig(tools=[query_agent_request])"
   ]
  },
  {
   "cell_type": "markdown",
   "metadata": {},
   "source": [
    "### Query Time"
   ]
  },
  {
   "cell_type": "code",
   "execution_count": 11,
   "metadata": {},
   "outputs": [
    {
     "name": "stderr",
     "output_type": "stream",
     "text": [
      "/usr/local/lib/python3.11/site-packages/pydantic/main.py:426: UserWarning: Pydantic serializer warnings:\n",
      "  Expected `enum` but got `str` with value `'STRING'` - serialized value may not be as expected\n",
      "  return self.__pydantic_serializer__.to_python(\n"
     ]
    },
    {
     "name": "stdout",
     "output_type": "stream",
     "text": [
      "To deploy Weaviate with Docker, you need to:\n",
      "\n",
      "1.  Install Docker and Docker Compose.\n",
      "2.  Obtain the Weaviate Docker image using:\n",
      "    ```bash\n",
      "    docker pull cr.weaviate.io/semitechnologies/weaviate:latest\n",
      "    ```\n",
      "3.  Prepare a `docker-compose.yml` file, which you can generate using the Weaviate configuration tool or example files from the documentation.\n",
      "4.  Start Weaviate using either:\n",
      "    *   Directly with Docker:\n",
      "        ```bash\n",
      "        docker run -p 8080:8080 -p 50051:50051 cr.weaviate.io/semitechnologies/weaviate:latest\n",
      "        ```\n",
      "    *   Using Docker Compose:\n",
      "        ```bash\n",
      "        docker-compose up -d\n",
      "        ```\n",
      "5.  Access Weaviate at `http://localhost:8080` and configure as needed.\n",
      "6.  Check if Weaviate is ready by hitting the readiness endpoint:\n",
      "    ```bash\n",
      "    curl localhost:8080/v1/.well-known/ready\n",
      "    ```\n",
      "\n",
      "\n"
     ]
    }
   ],
   "source": [
    "prompt = \"\"\"\n",
    "You are connected to a database that has a blog post on deploying Weaviate on Docker. \n",
    "Can you answer how I can Weaviate with Docker? \n",
    "\"\"\"\n",
    "\n",
    "chat = client.chats.create(model='gemini-2.0-flash', config=config)\n",
    "response = chat.send_message(prompt)\n",
    "print(response.text)"
   ]
  }
 ],
 "metadata": {
  "kernelspec": {
   "display_name": "Python 3",
   "language": "python",
   "name": "python3"
  },
  "language_info": {
   "codemirror_mode": {
    "name": "ipython",
    "version": 3
   },
   "file_extension": ".py",
   "mimetype": "text/x-python",
   "name": "python",
   "nbconvert_exporter": "python",
   "pygments_lexer": "ipython3",
   "version": "3.11.6"
  }
 },
 "nbformat": 4,
 "nbformat_minor": 2
}
