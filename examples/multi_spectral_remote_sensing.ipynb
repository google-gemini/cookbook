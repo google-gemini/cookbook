{
  "cells": [
    {
      "cell_type": "markdown",
      "metadata": {
        "id": "Tce3stUlHN0L"
      },
      "source": [
        "##### Copyright 2025 Google LLC."
      ]
    },
    {
      "cell_type": "code",
      "execution_count": null,
      "metadata": {
        "cellView": "form",
        "id": "tuOe1ymfHZPu"
      },
      "outputs": [],
      "source": [
        "#@title Licensed under the Apache License, Version 2.0 (the \"License\");\n",
        "# you may not use this file except in compliance with the License.\n",
        "# You may obtain a copy of the License at\n",
        "#\n",
        "# https://www.apache.org/licenses/LICENSE-2.0\n",
        "#\n",
        "# Unless required by applicable law or agreed to in writing, software\n",
        "# distributed under the License is distributed on an \"AS IS\" BASIS,\n",
        "# WITHOUT WARRANTIES OR CONDITIONS OF ANY KIND, either express or implied.\n",
        "# See the License for the specific language governing permissions and\n",
        "# limitations under the License."
      ]
    },
    {
      "cell_type": "markdown",
      "metadata": {
        "id": "qFdPvlXBOdUN"
      },
      "source": [
        "# Multi-spectral remote sensing with Gemini"
      ]
    },
    {
      "cell_type": "markdown",
      "metadata": {
        "id": "MfBg1C5NB3X0"
      },
      "source": [
        "<a target=\"_blank\" href=\"https://colab.research.google.com/github/google-gemini/cookbook/blob/main/examples/multi_spectral_remote_sensing.ipynb\"><img src=\"https://colab.research.google.com/assets/colab-badge.svg\" height=30/></a>"
      ]
    },
    {
      "cell_type": "markdown",
      "metadata": {
        "id": "xHxb-dlhMIzW"
      },
      "source": [
        "In this notebook, you'll learn how to use Gemini's image understanding capabilities for multi-spectral analysis and remote sensing.\n",
        "\n",
        "### What is remote sensing?\n",
        "\n",
        "Remote sensing is the process of acquiring information about an object or area without making physical contact with it. It's essentially \"seeing\" and measuring something from a distance.\n",
        "\n",
        "The most common form of remote sensing involves using sensors on satellites to collect data about the Earth's surface. Having a record of images of the Earth's surface across time enables us to track changes like: Where are forests disappearing? Where are fires occurring? And answer questions like: Are the crops in this field healthy? What is the solar potential of this roof? All of these questions (and more!) can be answered with the help of satellite data.\n",
        "\n",
        "Much of the power of these satellite images lies in their ability to capture multi-spectral data. Instead of the 3 RGB bands you're used to, these satellites can capture data across many different bands of the electromagnetic spectrum, including those humans can't see, like Near-Infrared (NIR) and Short-Wave Infrared (SWIR). Certain wavelengths are beneficial for certain use cases, for example:\n",
        "\n",
        "* **Vegetation Health**: Healthy plants reflect a lot of NIR light. By looking at the NIR band, you can assess crop health or monitor deforestation far more accurately than with a simple green photo.\n",
        "* **Water Detection**: Water absorbs infrared light, making it easy to distinguish from land, map floodplains, or even analyze water quality.\n",
        "* **Burn Scars**: SWIR bands are excellent at piercing through smoke and identifying recently burned areas after a wildfire.\n",
        "* **Material Identification**: Different minerals and man-made materials have unique spectral \"fingerprints,\" allowing you to identify them from space.\n",
        "\n",
        "Mulitmodal foundation models like Gemini are trained to understand RGB images and not all of these other possible spectral bands. However, by mapping other parts of the electromagnetic spectrum to the RGB space and providing domain-specific instructions, you can leverage Gemini's understanding of the visual space for zero-shot prompting of multi-spectral images.\n",
        "\n",
        "In this notebook you'll learn how to leverage these generalist multimodal models for specialized tasks without additional training or fine-tuning."
      ]
    },
    {
      "cell_type": "markdown",
      "metadata": {
        "id": "cqQFPoK3LDMY"
      },
      "source": [
        "This notebook is based off of the paper from Google DeepMind and Google Research, [*Zero-Shot Multi-Spectral Learning: Reimagining a Generalist Multimodal Gemini 2.5 Model for Remote Sensing Applications*](https://arxiv.org/pdf/2509.19087)"
      ]
    },
    {
      "cell_type": "markdown",
      "metadata": {
        "id": "monLpKy7423V"
      },
      "source": [
        "## Setup"
      ]
    },
    {
      "cell_type": "markdown",
      "metadata": {
        "id": "5mi7BrkD44MF"
      },
      "source": [
        "### Install SDK"
      ]
    },
    {
      "cell_type": "code",
      "execution_count": 1,
      "metadata": {
        "id": "AQJjzmYgH3sX"
      },
      "outputs": [],
      "source": [
        "%pip install -U -q \"google-genai>=1.0.0\"  # Install the Python SDK\n",
        "\n",
        "# Always set at least 1.0.0 as the minimal version as there were breaking\n",
        "# changes through the previous versions\n",
        "# Of course, if your notebook uses a new feature and needs a more recent\n",
        "# version, set the right minimum version to indicate when the feature was\n",
        "# introduced.\n",
        "# Always test your notebook with that fixed version (eg. '==1.0.0') to make.\n",
        "# sure it's really the minimum version.\n"
      ]
    },
    {
      "cell_type": "markdown",
      "metadata": {
        "id": "MUXex9ctTuDB"
      },
      "source": [
        "### Set up your API key\n",
        "\n",
        "To run the following cell, your API key must be stored it in a Colab Secret named `GEMINI_API_KEY`. If you don't already have an API key, or you're not sure how to create a Colab Secret, see the [Authentication](../quickstarts/Authentication.ipynb) quickstart for an example."
      ]
    },
    {
      "cell_type": "code",
      "execution_count": 2,
      "metadata": {
        "id": "wltbMJLIIXGk"
      },
      "outputs": [],
      "source": [
        "from google.colab import userdata\n",
        "from google import genai\n",
        "\n",
        "GEMINI_API_KEY = userdata.get('GEMINI_API_KEY')\n",
        "client = genai.Client(api_key=GEMINI_API_KEY)"
      ]
    },
    {
      "cell_type": "markdown",
      "metadata": {
        "id": "hL54YG-kMDVF"
      },
      "source": [
        "For this notebook, use Gemini 2.5 Pro."
      ]
    },
    {
      "cell_type": "code",
      "execution_count": 3,
      "metadata": {
        "id": "Lf6FamchMDsk"
      },
      "outputs": [],
      "source": [
        "MODEL_ID = \"gemini-2.5-pro\""
      ]
    },
    {
      "cell_type": "markdown",
      "metadata": {
        "id": "w5i8tMZKIeUu"
      },
      "source": [
        "## Remote sensing with RGB images\n",
        "\n",
        "First, test Gemini's abilitiy to interpret satellite data with an RGB only image."
      ]
    },
    {
      "cell_type": "markdown",
      "metadata": {
        "id": "BzwUFUBXcSJV"
      },
      "source": [
        "Here is an image of a forest taken with the [satellite Sentinel 2](https://colab.research.google.com/drive/1d-5VhuBn-s8cMCZu5xNi5Kl0vHxIiGms?resourcekey=0-lGdXpPdLgoID90O4AtdYzA#scrollTo=BzwUFUBXcSJV&line=1&uniqifier=1)."
      ]
    },
    {
      "cell_type": "code",
      "execution_count": 48,
      "metadata": {
        "id": "v9nqvUh98GKm"
      },
      "outputs": [],
      "source": [
        "from IPython.display import display, Markdown, Image"
      ]
    },
    {
      "cell_type": "code",
      "execution_count": 60,
      "metadata": {
        "id": "EVTpeu-1EZUg"
      },
      "outputs": [],
      "source": [
        "!wget -q https://storage.googleapis.com/generativeai-downloads/gemini-cookbook/images/remote-sensing/forest.png -O forest.png"
      ]
    },
    {
      "cell_type": "code",
      "execution_count": 61,
      "metadata": {
        "id": "DKlrb8hoAXVU"
      },
      "outputs": [
        {
          "data": {
            "image/jpeg": "[encoded data removed]",
            "text/plain": [
              "<IPython.core.display.Image object>"
            ]
          },
          "metadata": {
            "image/png": {
              "width": 200
            }
          },
          "output_type": "display_data"
        }
      ],
      "source": [
        "display(Image('forest.png', width=200))"
      ]
    },
    {
      "cell_type": "markdown",
      "metadata": {
        "id": "mO83ZbVbaujN"
      },
      "source": [
        "Next, prompt Gemini to classify this image."
      ]
    },
    {
      "cell_type": "code",
      "execution_count": 35,
      "metadata": {
        "id": "-__0F40eaz8g"
      },
      "outputs": [],
      "source": [
        "prompt = \"\"\"\n",
        "Classify this image as one of the following categories:\n",
        "AnnualCrop, Forest, HerbaceousVegetation, Highway, Industrial, Pasture, PermanentCrop, Residential, River, SeaLake.\n",
        "\"\"\""
      ]
    },
    {
      "cell_type": "code",
      "execution_count": 36,
      "metadata": {
        "id": "3yk_E-rycOGh"
      },
      "outputs": [
        {
          "data": {
            "text/markdown": [
              "Based on the visual information provided, the image is best classified as **SeaLake**.\n",
              "\n",
              "**Reasoning:**\n",
              "\n",
              "The image displays a large, uniform area of a dark, muted blue-green color. This appearance is highly characteristic of a large body of water like a sea or a lake, especially when viewed from an aerial or satellite perspective. The subtle texture and color variations are consistent with the surface of water. None of the other categories, such as Forest, Residential, or AnnualCrop, would typically present as such a vast, homogenous blue-toned expanse."
            ],
            "text/plain": [
              "<IPython.core.display.Markdown object>"
            ]
          },
          "execution_count": 36,
          "metadata": {},
          "output_type": "execute_result"
        }
      ],
      "source": [
        "from google.genai import types\n",
        "\n",
        "with open('forest.png', 'rb') as f:\n",
        "  image_bytes = f.read()\n",
        "\n",
        "response = client.models.generate_content(\n",
        "    model=MODEL_ID,\n",
        "    contents=[\n",
        "        types.Part.from_bytes(\n",
        "        data=image_bytes,\n",
        "        mime_type='image/png',\n",
        "        ),\n",
        "        prompt\n",
        "        ]\n",
        "    )\n",
        "\n",
        "Markdown(response.text)"
      ]
    },
    {
      "cell_type": "markdown",
      "metadata": {
        "id": "HUcN38n3cQ6w"
      },
      "source": [
        "Gemini incorrectly predicts that this image is a `SeaLake`, reasoning about the blue/green areas. The model is missing the critical multi-spectral data needed to make an accurate prediction."
      ]
    },
    {
      "cell_type": "markdown",
      "metadata": {
        "id": "7uInBJSvcYRj"
      },
      "source": [
        "## Remote sensing with multi-spectral iamges\n",
        "\n",
        "To perform zero shot multi-spectral remote sensing with Gemini you need to:\n",
        "\n",
        "1. Transform multi-spectral inputs to psudo image space.\n",
        "2. Create a prompt which scientifically describes what the new inputs represent.\n",
        "\n",
        "To see this process in action, you'll add five additional images to the prompt. These images include information about Sentinel 2's other spectral bands.\n"
      ]
    },
    {
      "cell_type": "markdown",
      "metadata": {
        "id": "mL83MTp2ciOG"
      },
      "source": [
        "### Download images\n",
        "\n",
        "Download the images from a public Cloud Storage bucket for viewing."
      ]
    },
    {
      "cell_type": "code",
      "execution_count": 62,
      "metadata": {
        "id": "ztJiXY1JEtjs"
      },
      "outputs": [],
      "source": [
        "!wget -q https://storage.googleapis.com/generativeai-downloads/gemini-cookbook/images/remote-sensing/forest_0.jpeg -O forest_0.jpeg\n",
        "!wget -q https://storage.googleapis.com/generativeai-downloads/gemini-cookbook/images/remote-sensing/forest_1.jpeg -O forest_1.jpeg\n",
        "!wget -q https://storage.googleapis.com/generativeai-downloads/gemini-cookbook/images/remote-sensing/forest_2.jpeg -O forest_2.jpeg\n",
        "!wget -q https://storage.googleapis.com/generativeai-downloads/gemini-cookbook/images/remote-sensing/forest_3.jpeg -O forest_3.jpeg\n",
        "!wget -q https://storage.googleapis.com/generativeai-downloads/gemini-cookbook/images/remote-sensing/forest_4.jpeg -O forest_4.jpeg\n",
        "!wget -q https://storage.googleapis.com/generativeai-downloads/gemini-cookbook/images/remote-sensing/forest_5.jpeg -O forest_5.jpeg"
      ]
    },
    {
      "cell_type": "markdown",
      "metadata": {
        "id": "Fvo8YMA2cRa9"
      },
      "source": [
        "image_0 is the RGB image from the previous section."
      ]
    },
    {
      "cell_type": "code",
      "execution_count": 63,
      "metadata": {
        "id": "aanKVuF0ZIXW"
      },
      "outputs": [
        {
          "data": {
            "image/jpeg": "[encoded data removed]",
            "text/plain": [
              "<IPython.core.display.Image object>"
            ]
          },
          "metadata": {
            "image/jpeg": {
              "width": 200
            }
          },
          "output_type": "display_data"
        }
      ],
      "source": [
        "display(Image('forest_0.jpeg', width=200))"
      ]
    },
    {
      "cell_type": "markdown",
      "metadata": {
        "id": "03tA2LVqZQPq"
      },
      "source": [
        "Images 1-5 represent combinations of different spectral bands. You can see that these band combinations reveal new features that were not visible in the RGB image."
      ]
    },
    {
      "cell_type": "code",
      "execution_count": 65,
      "metadata": {
        "id": "FllkA20EcQ3V"
      },
      "outputs": [
        {
          "name": "stdout",
          "output_type": "stream",
          "text": [
            "multi-spectral images\n"
          ]
        },
        {
          "data": {
            "image/jpeg": "[encoded data removed]",
            "text/plain": [
              "<IPython.core.display.Image object>"
            ]
          },
          "metadata": {
            "image/jpeg": {
              "width": 200
            }
          },
          "output_type": "display_data"
        },
        {
          "data": {
            "image/jpeg": "[encoded data removed]",
            "text/plain": [
              "<IPython.core.display.Image object>"
            ]
          },
          "metadata": {
            "image/jpeg": {
              "width": 200
            }
          },
          "output_type": "display_data"
        },
        {
          "data": {
            "image/jpeg": "[encoded data removed]",
            "text/plain": [
              "<IPython.core.display.Image object>"
            ]
          },
          "metadata": {
            "image/jpeg": {
              "width": 200
            }
          },
          "output_type": "display_data"
        }
      ],
      "source": [
        "print('multi-spectral images')\n",
        "display(Image('forest_1.jpeg', width=200))\n",
        "display(Image('forest_2.jpeg', width=200))\n",
        "display(Image('forest_4.jpeg', width=200))"
      ]
    },
    {
      "cell_type": "markdown",
      "metadata": {
        "id": "3PbO5dq_ceFT"
      },
      "source": [
        "### Create multi-spectral prompt\n",
        "\n",
        "In addition to the multi-spectral images, you'll provide Gemini with domain specific information about how each of these new images was created."
      ]
    },
    {
      "cell_type": "code",
      "execution_count": 40,
      "metadata": {
        "id": "T--7lQsPd-iW"
      },
      "outputs": [],
      "source": [
        "multispectral_prompt = \"\"\"\n",
        "Instructions: Answer the question asked after the given 6 images of the same scene.\n",
        "The images are generated by selecting different bands of the Sentinel-2 satellite.\n",
        "The band information is as follows:\n",
        "1. B02: Blue band at 10-meter resolution\n",
        "2. B03: Green band at 10-meter resolution\n",
        "3. B04: Red band at 10-meter resolution\n",
        "4. B05: Red edge band (Central wavelength of 704.1 nm) at 20-meter resolution\n",
        "5. B06: Red edge band (Central wavelength of 740.5 nm) at 20-meter resolution\n",
        "6. B07: Red edge band (Central wavelength of 782.8 nm) at 20-meter resolution\n",
        "7. B08: NIR band at 10-meter resolution\n",
        "8. B8A: Narrow NIR band at 20-meter resolution\n",
        "9. B01: Costal Aerosol band at 60-meter resolution\n",
        "10. B09: Water vapor band at 60-meter resolution\n",
        "11. B11: SWIR band (Central wavelength 1613.7 nm) at 20-meter resolution\n",
        "12. B12: SWIR band (Central wavelength 2202.4 nm) at 20-meter resolution.\n",
        "The first image is the RGB image generated using B04, B03 and B02 bands.\n",
        "The second image is the False Color Composite image generated using B08, B04 and B03 bands.\n",
        "The third image is the NDVI image which is a colormap with values Red, Yellow and Green\n",
        "generated using B08 and B04 bands.\n",
        "The fourth image is NDWI image whose values are in the range of -0.8 to 0.8 and using\n",
        "a color map varying linearly as [(1, 1, 1), (1, 1, 1), (0, 0, 1)].\n",
        "The fifth and sixth images are the NDMI images generated using B8A and B11 or B12 bands\n",
        "with the colormap varying linearly as [(1, 0, 0), (0, 1, 0), (0, 0, 1)].\n",
        "Output format: Output the option numbers corresponding to the correct answer in the format\n",
        "\"(X)\" where X is the correct number choice. In case of multiple correct\n",
        "answers, output the answer choices in the same format separated by commas. For example,\n",
        "if the correct answers are choices 1 and 3, output \"(1),(3)\". Only output the option\n",
        "numbers in the above format and DO NOT OUTPUT the full answer text or any other extra words.\n",
        "Question: To which of the following classes do the given images belong to? Select all that apply. Possible answer choices:\n",
        "(1) AnnualCrop, (2) Forest, (3) HerbaceousVegetation, (4) Highway, (5) Industrial, (6) Pasture, (7) PermanentCrop, (8) Residential, (9) River, (10) SeaLake.\n",
        "\"\"\"\n"
      ]
    },
    {
      "cell_type": "markdown",
      "metadata": {
        "id": "Ixg52juSBBeT"
      },
      "source": [
        "Upload the images with the [Files API](https://ai.google.dev/gemini-api/docs/files) so they can be processed by Gemini."
      ]
    },
    {
      "cell_type": "code",
      "execution_count": 42,
      "metadata": {
        "id": "gsnx9bOUA_-I"
      },
      "outputs": [],
      "source": [
        "image_0 = client.files.upload(file=\"forest_0.jpeg\")\n",
        "image_1 = client.files.upload(file=\"forest_1.jpeg\")\n",
        "image_2 = client.files.upload(file=\"forest_2.jpeg\")\n",
        "image_3 = client.files.upload(file=\"forest_3.jpeg\")\n",
        "image_4 = client.files.upload(file=\"forest_4.jpeg\")\n",
        "image_5 = client.files.upload(file=\"forest_5.jpeg\")"
      ]
    },
    {
      "cell_type": "code",
      "execution_count": 46,
      "metadata": {
        "id": "GSkQT1aDFeLG"
      },
      "outputs": [
        {
          "name": "stdout",
          "output_type": "stream",
          "text": [
            "(2)\n"
          ]
        }
      ],
      "source": [
        "response = client.models.generate_content(\n",
        "    model=MODEL_ID,\n",
        "    contents=[image_0, image_1, image_2, image_3, image_4, image_5, multispectral_prompt])\n",
        "\n",
        "print(response.text)"
      ]
    },
    {
      "cell_type": "markdown",
      "metadata": {
        "id": "BoV6SgadGZgw"
      },
      "source": [
        "The model responds with (2), which corresponded to \"Forest\" in our prompt.\n",
        "\n",
        "Equipped with the multi-spectral information, Gemini correctly classifies the image."
      ]
    },
    {
      "cell_type": "markdown",
      "metadata": {
        "id": "iszQW7F3co_m"
      },
      "source": [
        "## Creating multi-spectral composite images\n",
        "\n",
        "In the previous section you saw that adding multi-spectral data to your prompt can help Gemini to correctly classify satellite images.\n",
        "\n",
        "In this section you'll learn how to create these multi-spectral images, and how you can create your own images based on the bands relevant to your domain, in two steps:\n",
        "\n",
        "1. Select three spectral bands that are important for your specific problem.\n",
        "\n",
        "2. Scale the data from each band to a standard 0-255 integer range and assign them to Red, Green and Blue channels of a new image."
      ]
    },
    {
      "cell_type": "markdown",
      "metadata": {
        "id": "V1B0vE9XwmZH"
      },
      "source": [
        "First, download the multi-spectral data for the forest image."
      ]
    },
    {
      "cell_type": "code",
      "execution_count": 51,
      "metadata": {
        "id": "So3w4tjzHX97"
      },
      "outputs": [],
      "source": [
        "!wget -q https://storage.googleapis.com/generativeai-downloads/gemini-cookbook/images/remote-sensing/download_fo_multi_spectral_bands.npy -O download_fo_multi_spectral_bands.npy"
      ]
    },
    {
      "cell_type": "code",
      "execution_count": 52,
      "metadata": {
        "id": "rxvNftNre-Pw"
      },
      "outputs": [],
      "source": [
        "import numpy as np\n",
        "s2_image = np.load('download_fo_multi_spectral_bands.npy')"
      ]
    },
    {
      "cell_type": "code",
      "execution_count": 53,
      "metadata": {
        "id": "GaQ9VHG-cveJ"
      },
      "outputs": [
        {
          "name": "stdout",
          "output_type": "stream",
          "text": [
            "(64, 64, 13)\n"
          ]
        }
      ],
      "source": [
        "print(s2_image.shape)"
      ]
    },
    {
      "cell_type": "markdown",
      "metadata": {
        "id": "d_uCN-13wxV-"
      },
      "source": [
        "This forest satellite image is represented as a numpy array with shape (64,64,13), meaning there are 13 different spectral bands captured by the satellite. R, G, and B are 3 of these 13 bands. Each band is represented by a 64x64 matrix.\n",
        "\n",
        "If you wanted to recreate the RGB image you plotted earlier, you would stack the RGB channels and end up with an array of size 64x64x3."
      ]
    },
    {
      "cell_type": "markdown",
      "metadata": {
        "id": "gn1MAPgUmxwi"
      },
      "source": [
        "### Example multi-spectral image: NDVI"
      ]
    },
    {
      "cell_type": "markdown",
      "metadata": {
        "id": "NYgz3HQTwwcn"
      },
      "source": [
        "You are going to recreate image_2 which represents the Normalized Difference Vegetation Index (NDVI).\n",
        "\n",
        "NDVI is a commonly used metric in remote sensing to quantify the amount, density, and health of vegetation in a given area. It works by measuring the unique way plants interact with specific wavelengths of light.\n",
        "\n",
        "To calculate NDVI, you use the Red Light (Red) and Near-Infrared Light (NIR) bands. The formula is:\n",
        "\n",
        "`(nir_band - red_band) / (nir_band + red_band)`"
      ]
    },
    {
      "cell_type": "markdown",
      "metadata": {
        "id": "ikpMn5sHniIk"
      },
      "source": [
        "To do this calculation, you need to know the mapping of band names to indices in the numpy array. Then you can extract the Red and NIR bands. To see a full description of Sentinel band names and attributes refer to the [Sentinel 2 Earth Engine docs.](https://developers.google.com/earth-engine/datasets/catalog/COPERNICUS_S2_HARMONIZED#bands)"
      ]
    },
    {
      "cell_type": "code",
      "execution_count": 54,
      "metadata": {
        "id": "fW13YWEbDKYd"
      },
      "outputs": [],
      "source": [
        "band_name_to_index={\n",
        "        \"B01\": 0,\n",
        "        \"B02\": 1,\n",
        "        \"B03\": 2,\n",
        "        \"B04\": 3,\n",
        "        \"B05\": 4,\n",
        "        \"B06\": 5,\n",
        "        \"B07\": 6,\n",
        "        \"B08\": 7,\n",
        "        \"B8A\": 8,\n",
        "        \"B09\": 9,\n",
        "        \"B10\": 10,\n",
        "        \"B11\": 11,\n",
        "        \"B12\": 12,\n",
        "    }\n",
        "\n",
        "red_band = s2_image[:, :, band_name_to_index['B04']]\n",
        "nir_band = s2_image[:, :, band_name_to_index['B08']]"
      ]
    },
    {
      "cell_type": "markdown",
      "metadata": {
        "id": "WFsa3Uy_diil"
      },
      "source": [
        "You can see that the Red and NIR bands are shape (64x64)"
      ]
    },
    {
      "cell_type": "code",
      "execution_count": 55,
      "metadata": {
        "id": "Ozf7-sQ3dh_q"
      },
      "outputs": [
        {
          "name": "stdout",
          "output_type": "stream",
          "text": [
            "(64, 64)\n",
            "(64, 64)\n"
          ]
        }
      ],
      "source": [
        "print(red_band.shape)\n",
        "print(nir_band.shape)"
      ]
    },
    {
      "cell_type": "markdown",
      "metadata": {
        "id": "XLYp-9bSFLrv"
      },
      "source": [
        "The function below takes in the Red and NIR bands and calculates NDVI."
      ]
    },
    {
      "cell_type": "code",
      "execution_count": 56,
      "metadata": {
        "id": "zkFoiy0mH7Na"
      },
      "outputs": [],
      "source": [
        "import matplotlib.pyplot as plt\n",
        "\n",
        "def generate_ndvi_image(\n",
        "    red_band: np.ndarray, nir_band: np.ndarray\n",
        ") -> np.ndarray:\n",
        "  \"\"\"Generate an NDVI image from red and nir bands.\"\"\"\n",
        "\n",
        "  # calculate ndvi\n",
        "  ndvi_image = (nir_band - red_band) / (nir_band + red_band)\n",
        "\n",
        "  # map to rgb\n",
        "  ndvi_image = plt.get_cmap('RdYlGn')(ndvi_image)\n",
        "\n",
        "  # scale to 0-255\n",
        "  ndvi_image = np.uint8(ndvi_image * 255)\n",
        "  return ndvi_image"
      ]
    },
    {
      "cell_type": "markdown",
      "metadata": {
        "id": "ViQ3PzjfgGqA"
      },
      "source": [
        "Let's walk through the steps of this function.\n",
        "\n",
        "First, perform the NDVI calculation\n",
        "\n",
        "`ndvi_image = (nir_band - red_band) / (nir_band + red_band)`\n",
        "\n",
        "The `ndvi_image` at this point is a grayscale-like array where each pixel value is a floating-point number representing the NDVI score. While it has numerical meaning, it can't be viewed as a standard color image yet.\n",
        "\n",
        "To make this information understandable by Gemini, you need to need to scale the data to a standard 0-255 integer range and assign them to Red, Green and Blue channels of a new image. This is known as color mapping.\n",
        "\n",
        "`ndvi_image = plt.get_cmap('RdYlGn')(ndvi_image)`\n",
        "\n",
        "The color mapping used here defines a spectrum where one end (Red) corresponds to the lowest values (e.g., −1.0), and the other end (Green) corresponds to the highest values (e.g., +1.0). When the colormap function is called with the ndvi_image array (`...('RdYlGn')(ndvi_image)`), it performs an element-wise lookup and conversion.\n",
        "\n",
        "* Lowest NDVI scores (water, rock, or unhealthy plants) are assigned a Red or deep orange color.\n",
        "\n",
        "* Mid-range scores are assigned Yellow.\n",
        "\n",
        "* Highest NDVI scores (dense, healthy vegetation) are assigned a Green color.\n",
        "\n",
        "In the next cell, you'll plot the colormapped image and you'll see it's mostly green (that makes sense since it's an image of a forest!)\n",
        "\n",
        "Lastly, to prepare the image for display or saving in standard image formats (like PNG or JPEG), the floating-point values (0.0 to 1.0) are converted to the 0 to 255 integer range.\n",
        "\n",
        "`ndvi_image = np.uint8(ndvi_image * 255)`"
      ]
    },
    {
      "cell_type": "markdown",
      "metadata": {
        "id": "RoIJzEaJog0w"
      },
      "source": [
        "Now you can run the NDVI function to create the new composite image"
      ]
    },
    {
      "cell_type": "code",
      "execution_count": 57,
      "metadata": {
        "id": "k1w2Kyi_H_fU"
      },
      "outputs": [],
      "source": [
        "ndvi_image = generate_ndvi_image(red_band, nir_band)"
      ]
    },
    {
      "cell_type": "code",
      "execution_count": 58,
      "metadata": {
        "id": "MGdYFDn3IEaf"
      },
      "outputs": [
        {
          "data": {
            "text/plain": [
              "<matplotlib.image.AxesImage at 0x7e7ff09b1370>"
            ]
          },
          "execution_count": 58,
          "metadata": {},
          "output_type": "execute_result"
        },
        {
          "data": {
            "image/jpeg": "[encoded data removed]",
            "text/plain": [
              "<Figure size 640x480 with 1 Axes>"
            ]
          },
          "metadata": {},
          "output_type": "display_data"
        }
      ],
      "source": [
        "plt.imshow(ndvi_image)"
      ]
    },
    {
      "cell_type": "markdown",
      "metadata": {
        "id": "EMk6nKrXxPRZ"
      },
      "source": [
        "By following this process of selecting relevant bands, and then color mapping them, you can inject multi-spectral information into your prompt and use Gemini for zero shot remote sensing."
      ]
    },
    {
      "cell_type": "markdown",
      "metadata": {
        "id": "62tVhIpbxTel"
      },
      "source": [
        "# What's next\n",
        "\n",
        "\n",
        "To learn more about how to use Gemini for remote sensing, [check out the original paper.](https://arxiv.org/pdf/2509.19087)"
      ]
    }
  ],
  "metadata": {
    "colab": {
      "name": "multi_spectral_remote_sensing.ipynb",
      "toc_visible": true
    },
    "kernelspec": {
      "display_name": "Python 3",
      "name": "python3"
    }
  },
  "nbformat": 4,
  "nbformat_minor": 0
}
