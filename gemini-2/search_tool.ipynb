{
  "cells": [
    {
      "cell_type": "markdown",
      "metadata": {
        "id": "WMGdicu8PVD9"
      },
      "source": [
        "# Gemini 2.0 - Search as a tool"
      ]
    },
    {
      "cell_type": "markdown",
      "metadata": {
        "id": "6d1d8c1be104"
      },
      "source": [
        "### This notebook has been moved in the [quickstarts](../quickstarts/Search_Grounding.ipynb) section where you can find all the guides and tutorials to get to know the Gemini capabilities."
      ]
    }
  ],
  "metadata": {
    "colab": {
      "name": "search_tool.ipynb",
      "toc_visible": true
    },
    "kernelspec": {
      "display_name": "Python 3",
      "name": "python3"
    }
  },
  "nbformat": 4,
  "nbformat_minor": 0
}
