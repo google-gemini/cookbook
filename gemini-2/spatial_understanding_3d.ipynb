{
  "cells": [
    {
      "cell_type": "markdown",
      "metadata": {
        "id": "WMGdicu8PVD9"
      },
      "source": [
        "# Pointing and 3D Spatial Understanding with Gemini 2.0 (Experimental)"
      ]
    },
    {
      "cell_type": "markdown",
      "metadata": {
        "id": "05f88b79e970"
      },
      "source": [
        "### This notebook has been moved in the [examples](../examples/Spatial_understanding_3d.ipynb) section where you can find all the cool examples you can build with Gemini 2.0."
      ]
    }
  ],
  "metadata": {
    "colab": {
      "name": "spatial_understanding_3d.ipynb",
      "toc_visible": true
    },
    "kernelspec": {
      "display_name": "Python 3",
      "name": "python3"
    }
  },
  "nbformat": 4,
  "nbformat_minor": 0
}
