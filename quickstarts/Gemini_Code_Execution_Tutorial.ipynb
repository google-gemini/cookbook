{
 "cells": [
  {
   "cell_type": "markdown",
   "id": "a98bc5e0-68ee-44bc-a61d-e072755d67b4",
   "metadata": {},
   "source": [
    "##### Copyright 2024 Google LLC."
   ]
  },
  {
   "cell_type": "markdown",
   "id": "ce0078c8-9e94-40d0-95e5-0d9d13261aaa",
   "metadata": {},
   "source": [
    "```python\n",
    "# @title Licensed under the Apache License, Version 2.0 (the \"License\");\n",
    "# you may not use this file except in compliance with the License.\n",
    "# You may obtain a copy of the License at\n",
    "#\n",
    "# https://www.apache.org/licenses/LICENSE-2.0\n",
    "#\n",
    "# Unless required by applicable law or agreed to in writing, software\n",
    "# distributed under the License is distributed on an \"AS IS\" BASIS,\n",
    "# WITHOUT WARRANTIES OR CONDITIONS OF ANY KIND, either express or implied.\n",
    "# See the License for the specific language governing permissions and\n",
    "# limitations under the License.\n",
    "```"
   ]
  },
  {
   "cell_type": "markdown",
   "id": "8690fcf5-6540-4254-900b-c62f4cbceaa3",
   "metadata": {},
   "source": [
    "# Gemini API: Code Generation Quickstart\n",
    "\n",
    "<a target=\"_blank\" href=\"https://colab.research.google.com/github/AbhigyanSrivastav/gemini-api-tutorial/blob/main/Gemini_Code_Execution_Tutorial.ipynb\">\n",
    "  <img src=\"https://colab.research.google.com/assets/colab-badge.svg\" height=30/>\n",
    "</a>\n",
    "\n",
    "---\n",
    "\n",
    "This notebook demonstrates how to use the **Gemini API for code generation**.  \n",
    "You'll learn how to generate and execute Python code snippets using Gemini models."
   ]
  },
  {
   "cell_type": "code",
   "execution_count": null,
   "id": "6d312326-ed69-4878-aac3-54d8f6d8cb1a",
   "metadata": {},
   "outputs": [],
   "source": [
    "# Install dependencies\n",
    "%pip install -U -q \"google-generativeai>=0.7.2\""
   ]
  },
  {
   "cell_type": "code",
   "execution_count": 2,
   "id": "aeaa2363-c7e9-4bb0-a3fc-e30e1833628d",
   "metadata": {},
   "outputs": [],
   "source": [
    "# Import necessary libraries\n",
    "import google.generativeai as genai"
   ]
  },
  {
   "cell_type": "markdown",
   "id": "2498585d-d1c9-4275-bfee-9f7f2ca04cb8",
   "metadata": {},
   "source": [
    "## Set up your API key\n",
    "\n",
    "To run the following cell, store your API key in a Colab Secret named `GOOGLE_API_KEY`.  \n",
    "If you don't already have an API key, or you're unsure how to create a Colab Secret, see the  \n",
    "[Authentication](https://github.com/google-gemini/cookbook/blob/a0b506a8f65141cec4eb9143db760c735f652a59/quickstarts/Authentication.ipynb) quickstart for an example.\n"
   ]
  },
  {
   "cell_type": "code",
   "execution_count": null,
   "id": "9c6fd38d-d5b2-4cde-ad57-c950dbdc1f78",
   "metadata": {},
   "outputs": [],
   "source": [
    "# Configure your API key using Colab Secrets\n",
    "from google.colab import userdata\n",
    "\n",
    "GOOGLE_API_KEY = userdata.get(\"GOOGLE_API_KEY\")\n",
    "genai.configure(api_key=GOOGLE_API_KEY)"
   ]
  },
  {
   "cell_type": "markdown",
   "id": "ba23449a-0640-45d0-b9df-9fa5c686441b",
   "metadata": {},
   "source": [
    "## Define a function to execute Python code  \n",
    "\n",
    "The function below sends a Python code snippet to the Gemini API and returns the executed output.  \n",
    "You can modify the model version using the `MODEL_ID` variable.  "
   ]
  },
  {
   "cell_type": "code",
   "execution_count": null,
   "id": "0e1a4b30-b941-4e97-84d8-5157b8aee457",
   "metadata": {},
   "outputs": [],
   "source": [
    "# Select the Gemini model\n",
    "MODEL_ID = \"gemini-2.0-flash\"  # @param [\"gemini-2.0-flash-lite\", \"gemini-2.0-flash\", \"gemini-2.0-pro-exp-02-05\"] {\"allow-input\": true, isTemplate: true}\n",
    "\n",
    "# Function to execute Python code using Gemini\n",
    "def execute_code(prompt: str) -> str:\n",
    "    \"\"\"Generates and executes Python code using the Gemini API.\"\"\"\n",
    "    \n",
    "    model = genai.GenerativeModel(MODEL_ID) # Use the selected model\n",
    "\n",
    "    response = model.generate_content(\n",
    "        contents=[{\n",
    "            \"parts\": [{\"text\": f\"Execute the following Python code and return the output:\\n\\n{prompt}\"}]\n",
    "        }]\n",
    "    )\n",
    "\n",
    "    return response.text if response else \"Execution failed.\"\n",
    "\n",
    "# Example: Generate and execute a Fibonacci sequence\n",
    "code_snippet = \"\"\"\n",
    "a, b = 0, 1\n",
    "for _ in range(8):\n",
    "    print(a, end=' ')\n",
    "    a, b = b, a + b\n",
    "\"\"\"\n",
    "\n",
    "execution_result = execute_code(code_snippet)\n",
    "print(\"Output:\", execution_result)"
   ]
  },
  {
   "cell_type": "markdown",
   "id": "aa949eda-ca5c-4a42-8952-159ece6d22b4",
   "metadata": {},
   "source": [
    "Output: ```\n",
    "0 1 1 2 3 5 8 13 \n",
    "```"
   ]
  }
 ],
 "metadata": {
  "kernelspec": {
   "display_name": "Python (gemini-code-execution)",
   "language": "python",
   "name": "gemini-code-execution"
  },
  "language_info": {
   "codemirror_mode": {
    "name": "ipython",
    "version": 3
   },
   "file_extension": ".py",
   "mimetype": "text/x-python",
   "name": "python",
   "nbconvert_exporter": "python",
   "pygments_lexer": "ipython3",
   "version": "3.10.16"
  }
 },
 "nbformat": 4,
 "nbformat_minor": 5
}
