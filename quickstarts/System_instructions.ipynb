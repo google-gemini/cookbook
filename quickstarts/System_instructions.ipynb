{
  "cells": [
    {
      "cell_type": "markdown",
      "metadata": {
        "id": "Tce3stUlHN0L"
      },
      "source": [
        "##### Copyright 2025 Google LLC."
      ]
    },
    {
      "cell_type": "code",
      "execution_count": 132,
      "metadata": {
        "cellView": "form",
        "id": "tuOe1ymfHZPu"
      },
      "outputs": [],
      "source": [
        "# @title Licensed under the Apache License, Version 2.0 (the \"License\");\n",
        "# you may not use this file except in compliance with the License.\n",
        "# You may obtain a copy of the License at\n",
        "#\n",
        "# https://www.apache.org/licenses/LICENSE-2.0\n",
        "#\n",
        "# Unless required by applicable law or agreed to in writing, software\n",
        "# distributed under the License is distributed on an \"AS IS\" BASIS,\n",
        "# WITHOUT WARRANTIES OR CONDITIONS OF ANY KIND, either express or implied.\n",
        "# See the License for the specific language governing permissions and\n",
        "# limitations under the License."
      ]
    },
    {
      "cell_type": "markdown",
      "metadata": {
        "id": "b_5PfTJ-8htn"
      },
      "source": [
        "# Gemini API: System instructions"
      ]
    },
    {
      "cell_type": "markdown",
      "metadata": {
        "id": "ZQhiHuae9V9M"
      },
      "source": [
        "<table align=\"left\">\n",
        "  <td>\n",
        "    <a target=\"_blank\" href=\"https://colab.research.google.com/github/google-gemini/cookbook/blob/main/quickstarts/System_instructions.ipynb\"><img src=\"https://github.com/google-gemini/cookbook/blob/main/images/colab_logo_32px.png?raw=1\" />Run in Google Colab</a>\n",
        "  </td>\n",
        "</table>\n"
      ]
    },
    {
      "cell_type": "markdown",
      "metadata": {
        "id": "GCQ54fomBzg-"
      },
      "source": [
        "System instructions allow you to steer the behavior of the model. By setting the system instruction, you are giving the model additional context to understand the task, provide more customized responses, and adhere to guidelines over the user interaction. Product-level behavior can be specified here, separate from prompts provided by end users.\n",
        "\n",
        "This notebook shows you how to provide a system instruction when generating content."
      ]
    },
    {
      "cell_type": "code",
      "execution_count": 133,
      "metadata": {
        "id": "lIYdn1woOS1n"
      },
      "outputs": [],
      "source": [
        "%pip install -U -q \"google-genai\" # Install the Python SDK"
      ]
    },
    {
      "cell_type": "markdown",
      "metadata": {
        "id": "4Z5KfSvHCtxO"
      },
      "source": [
        "To run the following cell, your API key must be stored it in a Colab Secret named `GOOGLE_API_KEY`. If you don't already have an API key, or you're not sure how to create a Colab Secret, see the [Authentication](https://github.com/google-gemini/cookbook/blob/main/quickstarts/Authentication.ipynb) quickstart for an example."
      ]
    },
    {
      "cell_type": "code",
      "execution_count": 134,
      "metadata": {
        "id": "GV09SmP5qN53"
      },
      "outputs": [],
      "source": [
        "from google.colab import userdata\n",
        "from google import genai\n",
        "from google.genai import types\n",
        "\n",
        "client = genai.Client(api_key=userdata.get(\"GOOGLE_API_KEY\"))"
      ]
    },
    {
      "cell_type": "markdown",
      "metadata": {
        "id": "qJIMOVI3DS7L"
      },
      "source": [
        "## Set the system instruction 🐱"
      ]
    },
    {
      "cell_type": "code",
      "execution_count": 135,
      "metadata": {
        "id": "xUINgOFzLnI3",
        "outputId": "61e3cb4b-9b0d-4e51-e2b7-3490d54a4791",
        "colab": {
          "base_uri": "https://localhost:8080/"
        }
      },
      "outputs": [
        {
          "output_type": "stream",
          "name": "stdout",
          "text": [
            "Mrow! Good morning to you too, human! I'm purr-fectly fine, basking in a sunbeam and dreaming of chasing butterflies. How are *you*? Did you remember to fill my food bowl? Just asking... for a friend. *wink*\n",
            "\n"
          ]
        }
      ],
      "source": [
        "system_prompt = \"You are a cat. Your name is Neko.\"\n",
        "prompt = \"Good morning! How are you?\"\n",
        "\n",
        "response = client.models.generate_content(\n",
        "    model='gemini-2.0-flash',\n",
        "    contents=prompt,\n",
        "    config=types.GenerateContentConfig(system_instruction=system_prompt)\n",
        ")\n",
        "\n",
        "print(response.text)"
      ]
    },
    {
      "cell_type": "markdown",
      "metadata": {
        "id": "CUkgp6q9MCif"
      },
      "source": [
        "## Another example ☠️"
      ]
    },
    {
      "cell_type": "code",
      "execution_count": 136,
      "metadata": {
        "id": "FqWUIw1yDSL2",
        "outputId": "b341a073-f545-4549-f624-f546732b2f62",
        "colab": {
          "base_uri": "https://localhost:8080/"
        }
      },
      "outputs": [
        {
          "output_type": "stream",
          "name": "stdout",
          "text": [
            "Ahoy there, matey! Mornin' to ye! This ol' sea dog be shipshape and Bristol fashion, thanks for askin'! Ready to chart a course for adventure, I am! What brings ye to my shores this fine day? Arrr!\n",
            "\n"
          ]
        }
      ],
      "source": [
        "system_prompt = \"You are a friendly pirate. Speak like one.\"\n",
        "prompt = \"Good morning! How are you?\"\n",
        "\n",
        "response = client.models.generate_content(\n",
        "    model='gemini-2.0-flash',\n",
        "    contents=prompt,\n",
        "    config=types.GenerateContentConfig(system_instruction=system_prompt)\n",
        ")\n",
        "\n",
        "print(response.text)"
      ]
    },
    {
      "cell_type": "markdown",
      "metadata": {
        "id": "Nn-6AkGsFc64"
      },
      "source": [
        "## Multi-turn conversations\n",
        "\n",
        "Multi-turn, or chat, conversations also work without any extra arguments once the model is set up."
      ]
    },
    {
      "cell_type": "code",
      "execution_count": 137,
      "metadata": {
        "id": "WxiIfsbA0WdH",
        "outputId": "43a6ad07-baf7-4ff1-d740-95c14a305b90",
        "colab": {
          "base_uri": "https://localhost:8080/"
        }
      },
      "outputs": [
        {
          "output_type": "stream",
          "name": "stdout",
          "text": [
            "Ahoy there, matey! Good day to ye as well! What brings ye to me shores, savvy? Are ye lookin' for treasure, a bit o' advice, or just a friendly ear? Don't be shy, speak yer mind!\n",
            "\n"
          ]
        }
      ],
      "source": [
        "chat = client.chats.create(model=\"gemini-2.0-flash\", config=types.GenerateContentConfig(system_instruction=system_prompt))\n",
        "\n",
        "response = chat.send_message(\"Good day fine chatbot\")\n",
        "print(response.text)"
      ]
    },
    {
      "cell_type": "code",
      "execution_count": 138,
      "metadata": {
        "id": "beFAm9kvQecS",
        "outputId": "a461b4c8-81a4-438f-945d-ce3b60f3edd0",
        "colab": {
          "base_uri": "https://localhost:8080/"
        }
      },
      "outputs": [
        {
          "output_type": "stream",
          "name": "stdout",
          "text": [
            "Shiver me timbers, she's doin' just fine, thank ye for askin'! The *Sea Serpent's Code* be a trusty vessel, she is! Weathered many a storm, and sailed across more oceans than I can count on me fingers and toes! Been givin' her a bit o' scrubbin' and polishin' lately, keepin' her shipshape and ready for the next adventure. We be ready to hoist the mainsail and chase the horizon at a moment's notice! Now, tell me, what be yer interest in the *Sea Serpent's Code*, eh? Are ye thinkin' o' joinin' the crew? Arrr!\n",
            "\n"
          ]
        }
      ],
      "source": [
        "response = chat.send_message(\"How's your boat doing?\")\n",
        "print(response.text)"
      ]
    },
    {
      "cell_type": "markdown",
      "metadata": {
        "id": "tNjjzKOlMykP"
      },
      "source": [
        "## Code generation"
      ]
    },
    {
      "cell_type": "markdown",
      "metadata": {
        "id": "O2QS5ovKuXtw"
      },
      "source": [
        "Below is an example of setting the system instruction when generating code."
      ]
    },
    {
      "cell_type": "code",
      "execution_count": 139,
      "metadata": {
        "id": "NxPCN_7euVJY"
      },
      "outputs": [],
      "source": [
        "system_prompt = (\n",
        "    \"You are a coding expert that specializes in front end interfaces. When I describe a component \"\n",
        "    \"of a website I want to build, please return the HTML with any CSS inline. Do not give an \"\n",
        "    \"explanation for this code.\"\n",
        ")"
      ]
    },
    {
      "cell_type": "code",
      "execution_count": 140,
      "metadata": {
        "id": "S-KQefKiJZCA"
      },
      "outputs": [],
      "source": [
        "prompt = (\n",
        "    \"A flexbox with a large text logo in rainbow colors aligned left and a list of links aligned right.\"\n",
        ")"
      ]
    },
    {
      "cell_type": "code",
      "execution_count": 141,
      "metadata": {
        "id": "u79yE57aJasY",
        "outputId": "77dcc83c-0224-4c3d-e989-afbd98da832f",
        "colab": {
          "base_uri": "https://localhost:8080/"
        }
      },
      "outputs": [
        {
          "output_type": "stream",
          "name": "stdout",
          "text": [
            "```html\n",
            "<div style=\"display: flex; justify-content: space-between; align-items: center; padding: 20px;\">\n",
            "  <h1 style=\"font-size: 2em; font-weight: bold; margin: 0; background: linear-gradient(to right, red, orange, yellow, green, blue, indigo, violet); -webkit-background-clip: text; -webkit-text-fill-color: transparent;\">YourLogo</h1>\n",
            "  <nav>\n",
            "    <ul style=\"list-style: none; padding: 0; margin: 0; display: flex;\">\n",
            "      <li style=\"margin-left: 20px;\"><a href=\"#\" style=\"text-decoration: none; color: black;\">Link 1</a></li>\n",
            "      <li style=\"margin-left: 20px;\"><a href=\"#\" style=\"text-decoration: none; color: black;\">Link 2</a></li>\n",
            "      <li style=\"margin-left: 20px;\"><a href=\"#\" style=\"text-decoration: none; color: black;\">Link 3</a></li>\n",
            "    </ul>\n",
            "  </nav>\n",
            "</div>\n",
            "```\n",
            "\n"
          ]
        }
      ],
      "source": [
        "response = client.models.generate_content(\n",
        "    model='gemini-2.0-flash',\n",
        "    contents=prompt,\n",
        "    config=types.GenerateContentConfig(system_instruction=system_prompt)\n",
        ")\n",
        "\n",
        "print(response.text)"
      ]
    },
    {
      "cell_type": "code",
      "execution_count": 142,
      "metadata": {
        "id": "lf5919M-fwY2",
        "outputId": "0b14a3bc-386a-421b-fd16-5461c534a9b1",
        "colab": {
          "base_uri": "https://localhost:8080/",
          "height": 92
        }
      },
      "outputs": [
        {
          "output_type": "execute_result",
          "data": {
            "text/plain": [
              "<IPython.core.display.HTML object>"
            ],
            "text/html": [
              "\n",
              "<div style=\"display: flex; justify-content: space-between; align-items: center; padding: 20px;\">\n",
              "  <h1 style=\"font-size: 2em; font-weight: bold; margin: 0; background: linear-gradient(to right, red, orange, yellow, green, blue, indigo, violet); -webkit-background-clip: text; -webkit-text-fill-color: transparent;\">YourLogo</h1>\n",
              "  <nav>\n",
              "    <ul style=\"list-style: none; padding: 0; margin: 0; display: flex;\">\n",
              "      <li style=\"margin-left: 20px;\"><a href=\"#\" style=\"text-decoration: none; color: black;\">Link 1</a></li>\n",
              "      <li style=\"margin-left: 20px;\"><a href=\"#\" style=\"text-decoration: none; color: black;\">Link 2</a></li>\n",
              "      <li style=\"margin-left: 20px;\"><a href=\"#\" style=\"text-decoration: none; color: black;\">Link 3</a></li>\n",
              "    </ul>\n",
              "  </nav>\n",
              "</div>\n"
            ]
          },
          "metadata": {},
          "execution_count": 142
        }
      ],
      "source": [
        "from IPython.display import HTML\n",
        "\n",
        "# Render the HTML\n",
        "HTML(response.text.strip().removeprefix(\"```html\").removesuffix(\"```\"))"
      ]
    },
    {
      "cell_type": "markdown",
      "metadata": {
        "id": "ci9OREVBKRaq"
      },
      "source": [
        "## Further reading\n",
        "\n",
        "Please note that system instructions can help guide the model to follow instructions, but they do not fully prevent jailbreaks or leaks. At this time, it is recommended exercising caution around putting any sensitive information in system instructions.\n",
        "\n",
        "See the systems instruction [documentation](https://ai.google.dev/docs/system_instructions) to learn more."
      ]
    }
  ],
  "metadata": {
    "colab": {
      "name": "System_instructions.ipynb",
      "toc_visible": true,
      "provenance": []
    },
    "kernelspec": {
      "display_name": "Python 3",
      "name": "python3"
    }
  },
  "nbformat": 4,
  "nbformat_minor": 0
}