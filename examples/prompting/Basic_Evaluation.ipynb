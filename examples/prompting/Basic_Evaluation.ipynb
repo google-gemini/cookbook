{
 "cells": [
  {
   "cell_type": "markdown",
   "metadata": {
    "id": "X0doHtrEl66V"
   },
   "source": [
    "##### Copyright 2025 Google LLC."
   ]
  },
  {
   "cell_type": "code",
   "execution_count": 7,
   "metadata": {
    "cellView": "form",
    "id": "2K6KP3hUl7_l"
   },
   "outputs": [],
   "source": [
    "# @title Licensed under the Apache License, Version 2.0 (the \"License\");\n",
    "# you may not use this file except in compliance with the License.\n",
    "# You may obtain a copy of the License at\n",
    "#\n",
    "# https://www.apache.org/licenses/LICENSE-2.0\n",
    "#\n",
    "# Unless required by applicable law or agreed to in writing, software\n",
    "# distributed under the License is distributed on an \"AS IS\" BASIS,\n",
    "# WITHOUT WARRANTIES OR CONDITIONS OF ANY KIND, either express or implied.\n",
    "# See the License for the specific language governing permissions and\n",
    "# limitations under the License."
   ]
  },
  {
   "cell_type": "markdown",
   "metadata": {
    "id": "sP8PQnz1QrcF"
   },
   "source": [
    "# Gemini API: Basic evaluation"
   ]
  },
  {
   "cell_type": "markdown",
   "metadata": {
    "id": "bxGr_x3MRA0z"
   },
   "source": [
    "<table class=\"tfo-notebook-buttons\" align=\"left\">\n",
    "  <td>\n",
    "    <a target=\"_blank\" href=\"https://colab.research.google.com/github/google-gemini/cookbook/blob/main/examples/prompting/Basic_Evaluation.ipynb\"><img src = \"../../images/colab_logo_32px.png\"/>Run in Google Colab</a>\n",
    "  </td>\n",
    "</table>"
   ]
  },
  {
   "cell_type": "markdown",
   "metadata": {
    "id": "ysy--KfNRrCq"
   },
   "source": [
    "Gemini API's Python SDK can be used for various forms of evaluation, including:\n",
    "- Providing feedback based on selected criteria\n",
    "- Comparing multiple texts\n",
    "- Assigning grades or confidence scores\n",
    "- Identifying weak areas\n",
    "\n",
    "Below is an example of using the LLM to enhance text quality through feedback and grading."
   ]
  },
  {
   "cell_type": "code",
   "execution_count": 8,
   "metadata": {
    "id": "Ne-3gnXqR0hI"
   },
   "outputs": [],
   "source": [
    "!pip install -U -q \"google-genai\""
   ]
  },
  {
   "cell_type": "markdown",
   "metadata": {
    "id": "eomJzCa6lb90"
   },
   "source": [
    "## Configure your API key\n",
    "\n",
    "To run the following cell, your API key must be stored it in a Colab Secret named `GOOGLE_API_KEY`. If you don't already have an API key, or you're not sure how to create a Colab Secret, see [Authentication](https://github.com/google-gemini/cookbook/blob/main/quickstarts/Authentication.ipynb) for an example."
   ]
  },
  {
   "cell_type": "code",
   "execution_count": 9,
   "metadata": {
    "id": "v-JZzORUpVR2"
   },
   "outputs": [],
   "source": [
    "from google import genai\n",
    "from google.colab import userdata\n",
    "\n",
    "GOOGLE_API_KEY=userdata.get('GOOGLE_API_KEY')\n",
    "client = genai.Client(api_key=GOOGLE_API_KEY)"
   ]
  },
  {
   "cell_type": "markdown",
   "metadata": {
    "id": "L-Wt23A_uzFZ"
   },
   "source": [
    "## Example\n",
    "\n",
    "Start by defining some system instructions for this problem. For demonstration purposes, the use case involves prompting the model to write an essay with some mistakes. Remember that for generation tasks like writing an essay, you can change the temperature of the model to get more creative answers. Here, you can use `\"temperature\": 0` for predictability."
   ]
  },
  {
   "cell_type": "code",
   "execution_count": 10,
   "metadata": {
    "colab": {
     "base_uri": "https://localhost:8080/",
     "height": 354
    },
    "id": "zNw1Hele0Bne",
    "outputId": "0106a838-a9cf-4042-fc57-535f841207ca"
   },
   "outputs": [
    {
     "data": {
      "text/markdown": [
       "Reading is like, really good for you. Like, seriously. It's not just something your teachers tell you to do so you don't end up, like, totally dumb. There are actually a lot of benefits of reading, and I'm going to tell you all about them in this essay. My thesis is that reading is good because it makes you smarter and stuff.\n",
       "\n",
       "First of all, reading makes you smarter. I mean, duh. When you read, you learn new words. These words are like, vocabulary, and the more vocabulary you have, the smarter you are. It's a fact. I read this article once, I think it was on the internet, and it said that people who read a lot have bigger vocabularies. And bigger vocabularies mean you can understand more things. So, like, if you're reading a book about, I don't know, astrophysics, you'll actually understand what they're talking about. Instead of just being like, \"What the heck is a black hole?\"\n",
       "\n",
       "Secondly, reading helps you with your writing. This is because when you read, you see how other people write. You see how they use grammar and punctuation and stuff. And then you can copy them! Not like, plagiarize, but like, be inspired by them. For example, I was reading this book by Stephen King, and he used a lot of really long sentences. So now I try to use long sentences too, because they sound really smart. Even if they don't always make sense.\n",
       "\n",
       "Another benefit of reading is that it helps you relax. Like, after a long day of school, or hanging out with your friends, or playing video games, it's nice to just curl up with a good book. It's like a mini-vacation for your brain. You can escape into another world and forget about all your problems. Plus, it's way better for you than watching TV, because TV is just, like, mindless entertainment. Reading actually makes you think.\n",
       "\n",
       "Finally, reading is important because it helps you learn about different cultures and perspectives. You can read books about people from all over the world, and learn about their lives and their experiences. This is really important because it helps you be more tolerant and understanding of other people. And in today's world, we really need more tolerance and understanding. It's like, a big problem.\n",
       "\n",
       "In conclusion, reading is good for you. It makes you smarter, it helps you with your writing, it helps you relax, and it helps you learn about different cultures. So, like, go read a book. You'll be glad you did. It's a win-win situation. And if you don't like reading, well, you're just missing out. Seriously.\n"
      ],
      "text/plain": [
       "<IPython.core.display.Markdown object>"
      ]
     },
     "execution_count": 10,
     "metadata": {},
     "output_type": "execute_result"
    }
   ],
   "source": [
    "from IPython.display import Markdown\n",
    "from google.genai import types\n",
    "\n",
    "student_system_prompt = \"\"\"\n",
    "  You're a college student. Your job is to write an essay riddled with common\n",
    "  mistakes and a few major ones. The essay should have mistakes regarding\n",
    "  clarity, grammar, argumentation, and vocabulary. Ensure your essay includes\n",
    "  a clear thesis statement. You should write only an essay, so do not include\n",
    "  any notes.\n",
    "\"\"\"\n",
    "\n",
    "student_model_config = types.GenerateContentConfig(\n",
    "    temperature=0,\n",
    "    system_instruction=student_system_prompt\n",
    ")\n",
    "\n",
    "essay = client.models.generate_content(\n",
    "    model='gemini-2.0-flash',\n",
    "    contents=\"Write an essay about benefits of reading.\",\n",
    "    config=student_model_config).text\n",
    "\n",
    "Markdown(essay)"
   ]
  },
  {
   "cell_type": "code",
   "execution_count": 11,
   "metadata": {
    "colab": {
     "base_uri": "https://localhost:8080/",
     "height": 864
    },
    "id": "mzp8ZFXf0-OT",
    "outputId": "3c3df9f4-2a4b-41a0-9bf2-406e5502fa60"
   },
   "outputs": [
    {
     "data": {
      "text/markdown": [
       "Okay, here's my evaluation of the essay and a revised version:\n",
       "\n",
       "**Evaluation:**\n",
       "\n",
       "*   **Thesis Statement (2/5):** The thesis (\"reading is good because it makes you smarter and stuff\") is weak, vague, and lacks sophistication. It doesn't provide a clear direction for the essay.\n",
       "*   **Clarity and Precision of Language (2/5):** The language is informal, repetitive (\"like,\" \"stuff\"), and lacks precision. The essay relies heavily on colloquialisms, which detracts from its credibility.\n",
       "*   **Grammar and Punctuation (3/5):** While generally correct, the grammar and punctuation are basic. There's overuse of simple sentence structures and a lack of varied sentence construction.\n",
       "*   **Argumentation (2/5):** The arguments are simplistic and lack depth. The evidence provided is anecdotal and lacks credible sources. The connections between reading and its benefits are not always clearly established.\n",
       "\n",
       "**Overall Score: 2.25/5**\n",
       "\n",
       "**Corrected Essay:**\n",
       "\n",
       "Reading offers a multitude of benefits that extend far beyond mere entertainment. While often promoted by educators, the advantages of reading encompass intellectual growth, enhanced communication skills, stress reduction, and broadened cultural understanding. This essay argues that engaging with literature and informational texts is crucial for personal and societal development.\n",
       "\n",
       "Firstly, reading significantly contributes to intellectual enrichment. Exposure to diverse vocabulary and complex sentence structures expands one's linguistic capabilities. As individuals encounter new words and concepts within various contexts, their comprehension skills improve, enabling them to grasp intricate ideas and arguments. A study published in the *Journal of Educational Psychology* demonstrated a strong correlation between reading frequency and vocabulary size, highlighting the direct impact of reading on cognitive development. For instance, understanding complex topics such as astrophysics requires a robust vocabulary and the ability to interpret nuanced language.\n",
       "\n",
       "Secondly, reading fosters improved writing abilities. By observing the writing styles of accomplished authors, readers internalize effective techniques related to grammar, syntax, and organization. This implicit learning process allows individuals to refine their own writing skills, resulting in clearer and more persuasive communication. While imitation should not be confused with plagiarism, analyzing the works of skilled writers, such as Stephen King, can provide valuable insights into crafting compelling narratives and engaging prose.\n",
       "\n",
       "Beyond its intellectual benefits, reading offers a valuable means of relaxation and stress reduction. Immersing oneself in a captivating book can provide a temporary escape from the pressures of daily life, allowing the mind to unwind and recharge. Unlike passive forms of entertainment such as television, reading actively engages the brain, promoting focus and reducing anxiety. Research conducted by the University of Sussex found that reading for just six minutes can lower stress levels by as much as 68%.\n",
       "\n",
       "Finally, reading plays a vital role in fostering empathy and cultural awareness. Through literature, readers can explore diverse perspectives, experiences, and cultures, gaining a deeper understanding of the human condition. By encountering characters and narratives from different backgrounds, individuals develop a greater sense of tolerance and compassion, which are essential qualities in an increasingly interconnected world. Exposure to diverse narratives can challenge preconceived notions and promote a more inclusive worldview.\n",
       "\n",
       "In conclusion, reading offers a wide array of benefits that contribute to personal and societal growth. From enhancing intellectual capabilities and communication skills to reducing stress and fostering cultural understanding, the act of reading is an invaluable investment in one's self-development. Therefore, individuals should be encouraged to embrace reading as a lifelong pursuit, reaping its numerous rewards.\n",
       "\n",
       "**Changes Made:**\n",
       "\n",
       "*   **Thesis Statement:** Rewrote the thesis to be more specific and argumentative.\n",
       "*   **Language:** Replaced informal language (\"like,\" \"stuff,\" \"duh\") with more formal and precise vocabulary.\n",
       "*   **Evidence:** Added a reference to a hypothetical study to strengthen the argument about vocabulary.\n",
       "*   **Sentence Structure:** Varied sentence structure to improve readability and flow.\n",
       "*   **Tone:** Adopted a more academic and persuasive tone.\n",
       "*   **Organization:** Improved the overall organization and flow of the essay.\n",
       "*   **Conclusion:** Strengthened the conclusion to provide a more impactful summary of the essay's main points.\n",
       "*   **Removed:** Removed conversational phrases to maintain a formal tone.\n"
      ],
      "text/plain": [
       "<IPython.core.display.Markdown object>"
      ]
     },
     "execution_count": 11,
     "metadata": {},
     "output_type": "execute_result"
    }
   ],
   "source": [
    "teacher_system_prompt = f\"\"\"\n",
    "  As a teacher, you are tasked with grading students' essays.\n",
    "  Please follow these instructions for evaluation:\n",
    "\n",
    "  1. Evaluate the essay on a scale of 1-5 based on the following criteria:\n",
    "  - Thesis statement,\n",
    "  - Clarity and precision of language,\n",
    "  - Grammar and punctuation,\n",
    "  - Argumentation\n",
    "\n",
    "  2. Write a corrected version of the essay, addressing any identified issues\n",
    "  in the original submission. Point what changes were made.\n",
    "\"\"\"\n",
    "teacher_model_config = types.GenerateContentConfig(\n",
    "    temperature=0,\n",
    "    system_instruction=teacher_system_prompt\n",
    ")\n",
    "\n",
    "evaluation = client.models.generate_content(\n",
    "    model='gemini-2.0-flash',\n",
    "    contents=essay,\n",
    "    config=teacher_model_config).text\n",
    "\n",
    "Markdown(evaluation)"
   ]
  },
  {
   "cell_type": "markdown",
   "metadata": {
    "id": "4Hbzc0EVDHxS"
   },
   "source": [
    "## Next steps\n",
    "\n",
    "Be sure to explore other examples of prompting in the repository. Try writing your own prompts for evaluating texts."
   ]
  }
 ],
 "metadata": {
  "colab": {
   "name": "Basic_Evaluation.ipynb",
   "provenance": [],
   "toc_visible": true
  },
  "kernelspec": {
   "display_name": "Python 3",
   "name": "python3"
  }
 },
 "nbformat": 4,
 "nbformat_minor": 0
}
