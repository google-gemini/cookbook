{
  "cells": [
    {
      "cell_type": "markdown",
      "metadata": {
        "id": "0fgOxpmGrOvn"
      },
      "source": [
        "##### Copyright 2024 Google LLC."
      ]
    },
    {
      "cell_type": "code",
      "execution_count": null,
      "metadata": {
        "cellView": "form",
        "id": "zxdx4xJxrTfP"
      },
      "outputs": [],
      "source": [
        "# @title Licensed under the Apache License, Version 2.0 (the \"License\");\n",
        "# you may not use this file except in compliance with the License.\n",
        "# You may obtain a copy of the License at\n",
        "#\n",
        "# https://www.apache.org/licenses/LICENSE-2.0\n",
        "#\n",
        "# Unless required by applicable law or agreed to in writing, software\n",
        "# distributed under the License is distributed on an \"AS IS\" BASIS,\n",
        "# WITHOUT WARRANTIES OR CONDITIONS OF ANY KIND, either express or implied.\n",
        "# See the License for the specific language governing permissions and\n",
        "# limitations under the License."
      ]
    },
    {
      "cell_type": "markdown",
      "metadata": {
        "id": "Qw6ttkOtrQ_D"
      },
      "source": [
        "# Gemini API: Search Grounding\n",
        "\n",
        "<table align=\"left\">\n",
        "  <td>\n",
        "    <a target=\"_blank\" href=\"https://colab.research.google.com/github/google-gemini/cookbook/blob/gemini-1.5-archive/quickstarts/Search_Grounding.ipynb\"><img src=\"https://github.com/google-gemini/cookbook/blob/main/images/colab_logo_32px.png?raw=1\" />Run in Google Colab</a>\n",
        "  </td>\n",
        "</table>"
      ]
    },
    {
      "cell_type": "markdown",
      "metadata": {
        "id": "hqsJDYHlR4fo"
      },
      "source": [
        "This notebook contains a walkthrough of how to use the search grounding feature in the Gemini API."
      ]
    },
    {
      "cell_type": "code",
      "execution_count": null,
      "metadata": {
        "id": "mo9jj2QPwPdp"
      },
      "outputs": [],
      "source": [
        "!pip install -U google-generativeai>=0.8.3"
      ]
    },
    {
      "cell_type": "code",
      "execution_count": null,
      "metadata": {
        "id": "qK3p_60ly_2u"
      },
      "outputs": [],
      "source": [
        "import google.generativeai as genai\n",
        "from IPython.display import Markdown, HTML"
      ]
    },
    {
      "cell_type": "markdown",
      "metadata": {
        "id": "qGycVxWJzHKH"
      },
      "source": [
        "## Set up your API key\n",
        "\n",
        "To run the following cell, your API key must be stored it in a Colab Secret named `GOOGLE_API_KEY`. If you don't already have an API key, or you're not sure how to create a Colab Secret, see the [Authentication](https://github.com/google-gemini/gemini-api-cookbook/blob/main/quickstarts/Authentication.ipynb) quickstart for an example."
      ]
    },
    {
      "cell_type": "code",
      "execution_count": null,
      "metadata": {
        "id": "ova_UQ0Ky9nv"
      },
      "outputs": [],
      "source": [
        "from google.colab import userdata\n",
        "GOOGLE_API_KEY=userdata.get('GOOGLE_API_KEY')\n",
        "genai.configure(api_key=GOOGLE_API_KEY)"
      ]
    },
    {
      "cell_type": "markdown",
      "metadata": {
        "id": "rPfJ9uJfFWBu"
      },
      "source": [
        "## Search Grounding"
      ]
    },
    {
      "cell_type": "markdown",
      "metadata": {
        "id": "giHhTw6fzUB2"
      },
      "source": [
        "Take a look at the available models from the Gemini API. To perform search grounding, use `'models/gemini-1.5-pro-002'` when calling the API."
      ]
    },
    {
      "cell_type": "code",
      "execution_count": null,
      "metadata": {
        "id": "vmv9wc7TzCdx"
      },
      "outputs": [],
      "source": [
        "for model in genai.list_models():\n",
        "  if '002' in model.name:\n",
        "    print(model.name)"
      ]
    },
    {
      "cell_type": "markdown",
      "metadata": {
        "id": "Odvk0g6J-YtT"
      },
      "source": [
        "`GoogleSearchRetrieval` is a tool to retrieve public web data for grounding, powered by Google. Part of `GoogleSearchRetrieval` is dynamic search retrieval, which uses real time retrieved data to build answers to queries.\n",
        "\n",
        "Two possible ways to use include `GoogleSearchRetrieval` are to pass in a string or dictionary to the field. First, you will pass in `google_search_retrieval` to the `tools` parameter in `generate_content`."
      ]
    },
    {
      "cell_type": "code",
      "execution_count": null,
      "metadata": {
        "id": "m5-7jx4szEUf"
      },
      "outputs": [],
      "source": [
        "model = genai.GenerativeModel('models/gemini-1.5-pro-002')\n",
        "response = model.generate_content(contents=\"What is the land area of Spain?\",\n",
        "                                  tools='google_search_retrieval')"
      ]
    },
    {
      "cell_type": "markdown",
      "metadata": {
        "id": "LTbJ7-8B6zMK"
      },
      "source": [
        "Take a look at the first response produced by the model."
      ]
    },
    {
      "cell_type": "code",
      "execution_count": null,
      "metadata": {
        "id": "gimhCk5M6Dg0"
      },
      "outputs": [],
      "source": [
        "Markdown(response.candidates[0].content.parts[0].text)"
      ]
    },
    {
      "cell_type": "markdown",
      "metadata": {
        "id": "ktLx_aeE62Fl"
      },
      "source": [
        "Now, take a look at the rendered HTML content gathered by the Gemini API.\n",
        "\n",
        "> Important: If you use search grounding you **must** follow the [requirements outlined here](https://ai.google.dev/gemini-api/docs/grounding/search-suggestions?hl=en#requirements), which includes \"Display the Search Suggestion exactly as provided\" and \"Take users directly to the Google Search results page (SRP) when they interact with the Search Suggestion\"."
      ]
    },
    {
      "cell_type": "code",
      "execution_count": null,
      "metadata": {
        "id": "nuRKeAov6JMq"
      },
      "outputs": [],
      "source": [
        "HTML(response.candidates[0].grounding_metadata.search_entry_point.rendered_content)"
      ]
    },
    {
      "cell_type": "markdown",
      "metadata": {
        "id": "FkTz4ebaFhkm"
      },
      "source": [
        "You will also receive links that direct you to sources used for your query."
      ]
    },
    {
      "cell_type": "code",
      "execution_count": null,
      "metadata": {
        "id": "ooeQfMFieXCM"
      },
      "outputs": [],
      "source": [
        "response.candidates[0].grounding_metadata.grounding_chunks"
      ]
    },
    {
      "cell_type": "markdown",
      "metadata": {
        "id": "7m4ms4Gii9Vb"
      },
      "source": [
        "And supporting segments, showing which parts of the output are quored from which source."
      ]
    },
    {
      "cell_type": "code",
      "execution_count": null,
      "metadata": {
        "id": "EhNz1_jEit1g"
      },
      "outputs": [],
      "source": [
        "response.candidates[0].grounding_metadata.grounding_supports"
      ]
    },
    {
      "cell_type": "markdown",
      "metadata": {
        "id": "xE2Xgidy-ft7"
      },
      "source": [
        "### Customize search grounding parameters\n",
        "\n",
        "For a dictionary implementation, you don't actually have to pass in `mode` or `dynamic_threshold` key-value pairs. If you don't pass in a value, a default value is created. See the next code cell for this. For the `mode` value, you can pass in one of two specifications:\n",
        "\n",
        "1. `unspecified`: Always trigger retrieval.\n",
        "2. `dynamic`: Run retrieval only when system decides it is necessary.\n",
        "\n",
        "The `dynamic_threshold` is a float value that acts as a threshold on how relevant answers returned should be. You can tweak this parameter depending on how much variation you want in your answer."
      ]
    },
    {
      "cell_type": "code",
      "execution_count": null,
      "metadata": {
        "id": "peaRvsMw0Mee"
      },
      "outputs": [],
      "source": [
        "model = genai.GenerativeModel('models/gemini-1.5-pro-002')\n",
        "response = model.generate_content(contents=\"What is the land area of Spain?\",\n",
        "                                  tools={\"google_search_retrieval\": {\"dynamic_retrieval_config\": {\"mode\": \"MODE_DYNAMIC\",\n",
        "                                                                                                  \"dynamic_threshold\": 0.5}}})"
      ]
    },
    {
      "cell_type": "code",
      "execution_count": null,
      "metadata": {
        "id": "yLJtDF78Fcjn"
      },
      "outputs": [],
      "source": [
        "Markdown(response.candidates[0].content.parts[0].text)"
      ]
    },
    {
      "cell_type": "markdown",
      "metadata": {
        "id": "zZK7tGTYIWmR"
      },
      "source": [
        "You can also pass in an empty dictionary. Default values for `mode` and `dynamic_threshold` will be used."
      ]
    },
    {
      "cell_type": "code",
      "execution_count": null,
      "metadata": {
        "id": "jfH3O8wT-BH_"
      },
      "outputs": [],
      "source": [
        "model = genai.GenerativeModel('models/gemini-1.5-pro-002')\n",
        "response = model.generate_content(contents=\"What is the land area of Spain?\",\n",
        "                                  tools={\"google_search_retrieval\": {}})"
      ]
    },
    {
      "cell_type": "code",
      "execution_count": null,
      "metadata": {
        "id": "MuYaEuGGIhrv"
      },
      "outputs": [],
      "source": [
        "Markdown(response.candidates[0].content.parts[0].text)"
      ]
    },
    {
      "cell_type": "markdown",
      "metadata": {
        "id": "X8WW6M_YBwVL"
      },
      "source": [
        "## With chat"
      ]
    },
    {
      "cell_type": "markdown",
      "metadata": {
        "id": "hb6Kmd3NCFa3"
      },
      "source": [
        "If you attach the `google_search_retrieval` tool to the model, it can be used in every turn of the chat:"
      ]
    },
    {
      "cell_type": "code",
      "execution_count": null,
      "metadata": {
        "id": "m7drY07ld7pG"
      },
      "outputs": [],
      "source": [
        "model = genai.GenerativeModel('models/gemini-1.5-pro-002', tools=\"google_search_retrieval\")\n",
        "chat = model.start_chat()\n",
        "result = chat.send_message('what is the area of spain?')"
      ]
    },
    {
      "cell_type": "code",
      "execution_count": null,
      "metadata": {
        "id": "o7ai4CTZ0uIQ"
      },
      "outputs": [],
      "source": [
        "display(Markdown(result.text))\n",
        "\n",
        "display(HTML(result.candidates[0].grounding_metadata.search_entry_point.rendered_content))"
      ]
    },
    {
      "cell_type": "code",
      "execution_count": null,
      "metadata": {
        "id": "XZRVpd9xBDRm"
      },
      "outputs": [],
      "source": [
        "result = chat.send_message('what is the google stock price?')\n",
        "\n",
        "\n",
        "display(Markdown(result.text))\n",
        "\n",
        "display(HTML(result.candidates[0].grounding_metadata.search_entry_point.rendered_content))"
      ]
    },
    {
      "cell_type": "markdown",
      "metadata": {
        "id": "M5DKNvBYCZjB"
      },
      "source": [
        "But you can also pass the tool through the `send_message` call."
      ]
    },
    {
      "cell_type": "code",
      "execution_count": null,
      "metadata": {
        "id": "37xr_XfvBR04"
      },
      "outputs": [],
      "source": [
        "model = genai.GenerativeModel('models/gemini-1.5-pro-002')\n",
        "chat = model.start_chat()\n",
        "result = chat.send_message('what is the area of spain?', tools=\"google_search_retrieval\")"
      ]
    }
  ],
  "metadata": {
    "colab": {
      "name": "Search_Grounding.ipynb",
      "toc_visible": true
    },
    "kernelspec": {
      "display_name": "Python 3",
      "name": "python3"
    }
  },
  "nbformat": 4,
  "nbformat_minor": 0
}
