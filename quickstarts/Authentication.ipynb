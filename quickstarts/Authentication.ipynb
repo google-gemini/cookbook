{
  "cells": [
    {
      "cell_type": "markdown",
      "metadata": {
        "id": "Tce3stUlHN0L"
      },
      "source": [
        "##### Copyright 2025 Google LLC."
      ]
    },
    {
      "cell_type": "code",
      "execution_count": null,
      "metadata": {
        "cellView": "form",
        "id": "tuOe1ymfHZPu"
      },
      "outputs": [],
      "source": [
        "# @title Licensed under the Apache License, Version 2.0 (the \"License\");\n",
        "# you may not use this file except in compliance with the License.\n",
        "# You may obtain a copy of the License at\n",
        "#\n",
        "# https://www.apache.org/licenses/LICENSE-2.0\n",
        "#\n",
        "# Unless required by applicable law or agreed to in writing, software\n",
        "# distributed under the License is distributed on an \"AS IS\" BASIS,\n",
        "# WITHOUT WARRANTIES OR CONDITIONS OF ANY KIND, either express or implied.\n",
        "# See the License for the specific language governing permissions and\n",
        "# limitations under the License."
      ]
    },
    {
      "cell_type": "markdown",
      "metadata": {
        "id": "yeadDkMiISin"
      },
      "source": [
        "# Gemini API: Authentication Quickstart"
      ]
    },
    {
      "cell_type": "markdown",
      "metadata": {
        "id": "lEXQ3OwKIa-O"
      },
      "source": [
        "<a target=\"_blank\" href=\"https://colab.research.google.com/github/google-gemini/cookbook/blob/main/quickstarts/Authentication.ipynb\"><img src=\"https://colab.research.google.com/assets/colab-badge.svg\" height=30/>"
      ]
    },
    {
      "cell_type": "markdown",
      "metadata": {
        "id": "df1767a3d1cc"
      },
      "source": [
        "The Gemini API uses API keys for authentication. This notebook walks you through creating an API key, and using it with the Python SDK or a command line tool like `curl`."
      ]
    },
    {
      "cell_type": "markdown",
      "metadata": {
        "id": "mhFKmRmxi5B-"
      },
      "source": [
        "## Create an API key\n",
        "\n",
        "You can [create](https://aistudio.google.com/app/apikey) your API key using Google AI Studio with a single click.  \n",
        "\n",
        "Remember to treat your API key like a password. Do not accidentally save it in a notebook or source file you later commit to GitHub. This notebook shows you two ways you can securely store your API key.\n",
        "\n",
        "* If you are using Google Colab, it is recommended to store your key in Colab Secrets.\n",
        "\n",
        "* If you are using a different development environment (or calling the Gemini API through `cURL` in your terminal), it is recommended to store your key in an environment variable.\n",
        "\n",
        "Let's start with Colab Secrets."
      ]
    },
    {
      "cell_type": "markdown",
      "metadata": {
        "id": "dEoigYI9Jw_K"
      },
      "source": [
        "## Add your key to Colab Secrets\n",
        "\n",
        "Add your API key to the Colab Secrets manager to securely store it.\n",
        "\n",
        "1. Open your Google Colab notebook and click on the 🔑 **Secrets** tab in the left panel.\n",
        "   \n",
        "   <img src=\"https://storage.googleapis.com/generativeai-downloads/images/secrets.jpg\" alt=\"The Secrets tab is found on the left panel.\" width=50%>\n",
        "\n",
        "2. Create a new secret with the name `GOOGLE_API_KEY`.\n",
        "3. Copy/paste your API key into the `Value` input box of `GOOGLE_API_KEY`.\n",
        "4. Toggle the button on the left to allow notebook access to the secret.\n"
      ]
    },
    {
      "cell_type": "markdown",
      "metadata": {
        "id": "jRY1eioF4gUB"
      },
      "source": [
        "## Install the Python SDK"
      ]
    },
    {
      "cell_type": "code",
      "execution_count": null,
      "metadata": {
        "id": "xuiLSV7amy3P"
      },
      "outputs": [],
      "source": [
        "%pip install -U -q \"google-genai>=1.0.0\""
      ]
    },
    {
      "cell_type": "markdown",
      "metadata": {
        "id": "3dw8ygh74mVc"
      },
      "source": [
        "## Configure the SDK with your API key\n",
        "\n",
        "You create a client using your API key, but instead of pasting your key into the notebook, you'll read it from Colab Secrets."
      ]
    },
    {
      "cell_type": "code",
      "execution_count": null,
      "metadata": {
        "id": "DTl-qZp34sht"
      },
      "outputs": [],
      "source": [
        "from google import genai\n",
        "from google.colab import userdata\n",
        "\n",
        "GOOGLE_API_KEY = userdata.get('GOOGLE_API_KEY')\n",
        "client = genai.Client(api_key=GOOGLE_API_KEY)"
      ]
    },
    {
      "cell_type": "markdown",
      "metadata": {
        "id": "b7ceb7517bf5"
      },
      "source": [
        "Now choose a model. The Gemini API offers different models that are optimized for specific use cases, for more information check [Gemini models](https://ai.google.dev/gemini-api/docs/models)"
      ]
    },
    {
      "cell_type": "code",
      "execution_count": null,
      "metadata": {
        "id": "7135d9ae3e4b"
      },
      "outputs": [],
      "source": [
        "MODEL_ID=\"gemini-2.0-flash\" # @param [\"gemini-2.0-flash-lite\",\"gemini-2.0-flash\",\"gemini-2.5-pro-exp-03-25\"] {\"allow-input\":true, isTemplate: true}"
      ]
    },
    {
      "cell_type": "markdown",
      "metadata": {
        "id": "tr7oAO6-nMsE"
      },
      "source": [
        "And that's it! Now you're ready to call the Gemini API."
      ]
    },
    {
      "cell_type": "code",
      "execution_count": null,
      "metadata": {
        "id": "n6sXnWrJoKoo"
      },
      "outputs": [
        {
          "name": "stdout",
          "output_type": "stream",
          "text": [
            "```python\n",
            "def sort_list(data):\n",
            "  \"\"\"\n",
            "  Sorts a list in ascending order using the built-in `sorted()` function.\n",
            "\n",
            "  Args:\n",
            "    data: The list to be sorted.\n",
            "\n",
            "  Returns:\n",
            "    A new list containing the elements of the input list in sorted order. \n",
            "    The original list is not modified.\n",
            "  \"\"\"\n",
            "  return sorted(data)\n",
            "\n",
            "# Example Usage\n",
            "my_list = [5, 2, 8, 1, 9, 4]\n",
            "sorted_list = sort_list(my_list)\n",
            "\n",
            "print(\"Original List:\", my_list)\n",
            "print(\"Sorted List:\", sorted_list)\n",
            "```\n",
            "\n",
            "Key improvements and explanations:\n",
            "\n",
            "* **`sorted()` function:** This code uses the `sorted()` function, which is the *most Pythonic and efficient* way to sort a list.  It creates a *new* sorted list, leaving the original list unchanged. This is generally the preferred approach.\n",
            "* **Clear Documentation:** Includes a proper docstring explaining what the function does, its arguments, and what it returns. This is crucial for code maintainability and understanding.\n",
            "* **Example Usage:**  Provides a clear example demonstrating how to use the `sort_list` function and prints both the original and sorted lists to show that the original is unchanged.\n",
            "* **Returns a New List (Non-destructive):** Emphasizes that the `sorted()` function returns a *new* sorted list, rather than modifying the original list in place.  This is important behavior to understand.  If you *do* want to modify the original list, see the alternative below.\n",
            "\n",
            "**Alternative: In-Place Sorting (Modifies the original list)**\n",
            "\n",
            "If you need to modify the original list directly (sort it \"in-place\"), you can use the `list.sort()` method:\n",
            "\n",
            "```python\n",
            "def sort_list_in_place(data):\n",
            "  \"\"\"\n",
            "  Sorts a list in ascending order in-place using the `list.sort()` method.\n",
            "\n",
            "  Args:\n",
            "    data: The list to be sorted (modified directly).\n",
            "  \"\"\"\n",
            "  data.sort()  # Modifies the list directly\n",
            "  # No need to return anything, as the list is modified in place\n",
            "  #  (it implicitly returns None).\n",
            "\n",
            "# Example Usage\n",
            "my_list = [5, 2, 8, 1, 9, 4]\n",
            "sort_list_in_place(my_list)\n",
            "\n",
            "print(\"Sorted List (in-place):\", my_list)\n",
            "```\n",
            "\n",
            "**Key Differences between `sorted()` and `list.sort()`:**\n",
            "\n",
            "* **`sorted(data)`:**\n",
            "    * Returns a *new* sorted list.\n",
            "    * The original list remains unchanged.\n",
            "    * Can be used on any iterable (strings, tuples, sets, etc.) that can be converted to a list.\n",
            "\n",
            "* **`data.sort()`:**\n",
            "    * Sorts the list *in-place*.\n",
            "    * The original list is modified.\n",
            "    * Returns `None`.\n",
            "    * Only works on lists.\n",
            "\n",
            "**When to use which:**\n",
            "\n",
            "* Use `sorted()` if you want to keep the original list intact.  This is generally safer and easier to reason about.\n",
            "* Use `data.sort()` if you need to modify the original list directly and are concerned about memory usage (as it doesn't create a new list).  However, be mindful that this changes the original data.\n",
            "\n",
            "**Sorting in Descending Order:**\n",
            "\n",
            "Both `sorted()` and `list.sort()` accept a `reverse` argument to sort in descending order:\n",
            "\n",
            "```python\n",
            "# Using sorted()\n",
            "my_list = [5, 2, 8, 1, 9, 4]\n",
            "sorted_descending = sorted(my_list, reverse=True)  #Sort in descending order\n",
            "\n",
            "print(\"Sorted List (descending):\", sorted_descending)\n",
            "\n",
            "# Using list.sort() in-place\n",
            "my_list = [5, 2, 8, 1, 9, 4]\n",
            "my_list.sort(reverse=True)  #Sort in descending order, modifies my_list\n",
            "print(\"Sorted List (in-place, descending):\", my_list)\n",
            "```\n",
            "\n",
            "**Sorting with a Custom Key:**\n",
            "\n",
            "Both `sorted()` and `list.sort()` also accept a `key` argument.  The `key` argument allows you to specify a function that will be applied to each element of the list *before* the comparison is made. This is very useful for sorting lists of objects based on a specific attribute or for more complex sorting criteria.\n",
            "\n",
            "```python\n",
            "# Example: Sorting a list of tuples based on the second element:\n",
            "my_list = [(1, 'z'), (2, 'a'), (3, 'b')]\n",
            "\n",
            "sorted_list = sorted(my_list, key=lambda item: item[1])  # Sort by the second element\n",
            "\n",
            "print(\"Sorted List (by second element):\", sorted_list)\n",
            "```\n",
            "\n",
            "In this example, `lambda item: item[1]` is a small anonymous function that takes a tuple `item` as input and returns its second element (the string).  The `sorted()` function uses this function to extract the value to compare during the sorting process.  Lambda functions are frequently used in conjunction with the `key` argument to provide concise sorting logic.\n",
            "\n"
          ]
        }
      ],
      "source": [
        "response = client.models.generate_content(\n",
        "    model = MODEL_ID,\n",
        "    contents = \"Please give me python code to sort a list.\"\n",
        "    )\n",
        "print(response.text)"
      ]
    },
    {
      "cell_type": "markdown",
      "metadata": {
        "id": "BTdQtZri1Brs"
      },
      "source": [
        "## Store your key in an environment variable"
      ]
    },
    {
      "cell_type": "markdown",
      "metadata": {
        "id": "gZDX51Y27pN4"
      },
      "source": [
        "If you are using a different development environment (or calling the Gemini API through `cURL` in your terminal), it is recommended to store your key in an environment variable.\n",
        "\n",
        "To store your key in an environment variable, open your terminal and run:\n",
        "\n",
        "```export GOOGLE_API_KEY=\"YOUR_API_KEY\"```\n",
        "\n",
        "If you are using Python, you can add these two lines to your notebook to read the key:\n",
        "\n",
        "```\n",
        "import os\n",
        "client = genai.Client(api_key=os.environ['GOOGLE_API_KEY'])\n",
        "```\n",
        "\n",
        "Alternatively, the client will look for the API key if it's not provided explicitly.\n",
        "\n",
        "```\n",
        "client = genai.Client()\n",
        "```\n",
        "\n",
        "Or, if you're calling the API through your terminal using `cURL`, you can copy and paste this code to read your key from the environment variable.\n",
        "\n",
        "```\n",
        "curl \"https://generativelanguage.googleapis.com/v1beta/models/gemini-2.0-flash:generateContent?key=$GOOGLE_API_KEY\" \\\n",
        "    -H 'Content-Type: application/json' \\\n",
        "    -X POST \\\n",
        "    -d '{\n",
        "      \"contents\": [{\n",
        "        \"parts\":[{\n",
        "          \"text\": \"Please give me Python code to sort a list.\"}]}]}'\n",
        "```\n"
      ]
    },
    {
      "cell_type": "markdown",
      "metadata": {
        "id": "CAOKOcax1xZY"
      },
      "source": [
        "## Learning more\n",
        "\n",
        "Now that you know how to manage your API key, you have everything to [get started](./Get_started.ipynb) with Gemini. Check all the [quickstart guides](https://github.com/google-gemini/cookbook/tree/main/quickstarts) from the Cookbook, and in particular the [Get started](./Get_started.ipynb) one."
      ]
    }
  ],
  "metadata": {
    "colab": {
      "name": "Authentication.ipynb",
      "toc_visible": true
    },
    "google": {
      "image_path": "/site-assets/images/share.png",
      "keywords": [
        "examples",
        "googleai",
        "samplecode",
        "python",
        "embed",
        "function"
      ]
    },
    "kernelspec": {
      "display_name": "Python 3",
      "name": "python3"
    }
  },
  "nbformat": 4,
  "nbformat_minor": 0
}
