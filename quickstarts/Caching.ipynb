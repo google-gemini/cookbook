{
  "cells": [
    {
      "cell_type": "markdown",
      "metadata": {
        "id": "navG4j6eqc_o"
      },
      "source": [
        "##### Copyright 2025 Google LLC."
      ]
    },
    {
      "cell_type": "code",
      "execution_count": null,
      "metadata": {
        "cellView": "form",
        "id": "0lpR41ozqBFp"
      },
      "outputs": [],
      "source": [
        "# @title Licensed under the Apache License, Version 2.0 (the \"License\");\n",
        "# you may not use this file except in compliance with the License.\n",
        "# You may obtain a copy of the License at\n",
        "#\n",
        "# https://www.apache.org/licenses/LICENSE-2.0\n",
        "#\n",
        "# Unless required by applicable law or agreed to in writing, software\n",
        "# distributed under the License is distributed on an \"AS IS\" BASIS,\n",
        "# WITHOUT WARRANTIES OR CONDITIONS OF ANY KIND, either express or implied.\n",
        "# See the License for the specific language governing permissions and\n",
        "# limitations under the License."
      ]
    },
    {
      "cell_type": "markdown",
      "metadata": {
        "id": "k9g4WhqtqiV-"
      },
      "source": [
        "# Gemini API: Context Caching Quickstart\n",
        "\n",
        "<a target=\"_blank\" href=\"https://colab.research.google.com/github/google-gemini/cookbook/blob/main/quickstarts/Caching.ipynb\"><img src=\"https://colab.research.google.com/assets/colab-badge.svg\" height=30/></a>"
      ]
    },
    {
      "cell_type": "markdown",
      "metadata": {
        "id": "WCC-LFNtqogI"
      },
      "source": [
        "This notebook introduces context caching with the Gemini API and provides examples of interacting with the Apollo 11 transcript using the Python SDK. For a more comprehensive look, check out [the caching guide](https://ai.google.dev/gemini-api/docs/caching?lang=python)."
      ]
    },
    {
      "cell_type": "markdown",
      "metadata": {
        "id": "857d8bf104ed"
      },
      "source": [
        "### Install dependencies"
      ]
    },
    {
      "cell_type": "code",
      "execution_count": 1,
      "metadata": {
        "id": "5yRLvyPhrXSf"
      },
      "outputs": [],
      "source": [
        "%pip install -U -q \"google-genai>=1.0.0\""
      ]
    },
    {
      "cell_type": "code",
      "execution_count": 2,
      "metadata": {
        "id": "4xdJSvLerazn"
      },
      "outputs": [],
      "source": [
        "from google import genai\n",
        "from google.genai import types"
      ]
    },
    {
      "cell_type": "markdown",
      "metadata": {
        "id": "xrJYxEpOrc3d"
      },
      "source": [
        "### Configure your API key\n",
        "\n",
        "To run the following cell, your API key must be stored it in a Colab Secret named `GOOGLE_API_KEY`. If you don't already have an API key, or you're not sure how to create a Colab Secret, see [Authentication](../quickstarts/Authentication.ipynb) for an example."
      ]
    },
    {
      "cell_type": "code",
      "execution_count": 3,
      "metadata": {
        "id": "EgO56yWoriI0"
      },
      "outputs": [],
      "source": [
        "from google.colab import userdata\n",
        "\n",
        "GOOGLE_API_KEY = userdata.get('GOOGLE_API_KEY')\n",
        "client = genai.Client(api_key=GOOGLE_API_KEY)"
      ]
    },
    {
      "cell_type": "markdown",
      "metadata": {
        "id": "2T-ZorTqrsoz"
      },
      "source": [
        "## Upload a file\n",
        "\n",
        "A common pattern with the Gemini API is to ask a number of questions of the same document. Context caching is designed to assist with this case, and can be more efficient by avoiding the need to pass the same tokens through the model for each new request.\n",
        "\n",
        "This example will be based on the transcript from the Apollo 11 mission.\n",
        "\n",
        "Start by downloading that transcript."
      ]
    },
    {
      "cell_type": "code",
      "execution_count": 4,
      "metadata": {
        "id": "Sa-r2s_ltBXy"
      },
      "outputs": [
        {
          "name": "stdout",
          "output_type": "stream",
          "text": [
            "INTRODUCTION\n",
            "\n",
            "This is the transcription of the Technical Air-to-Ground Voice Transmission (GOSS NET 1) from the Apollo 11 mission.\n",
            "\n",
            "Communicators in the text may be identified according to the following list.\n",
            "\n",
            "Spacecraft:\n",
            "CDR\tCommander\tNeil A. Armstrong\n",
            "CMP\tCommand module pilot   \tMichael Collins\n",
            "LMP\tLunar module pilot\tEdwin E. ALdrin, Jr.\n"
          ]
        }
      ],
      "source": [
        "!wget -q https://storage.googleapis.com/generativeai-downloads/data/a11.txt\n",
        "!head a11.txt"
      ]
    },
    {
      "cell_type": "markdown",
      "metadata": {
        "id": "014697858670"
      },
      "source": [
        "Now upload the transcript using the [File API](../quickstarts/File_API.ipynb)."
      ]
    },
    {
      "cell_type": "code",
      "execution_count": 5,
      "metadata": {
        "id": "b3bU9AvcvZ_x"
      },
      "outputs": [],
      "source": [
        "document = client.files.upload(file=\"a11.txt\")"
      ]
    },
    {
      "cell_type": "markdown",
      "metadata": {
        "id": "N4LP7unAvmce"
      },
      "source": [
        "## Cache the prompt\n",
        "\n",
        "Next create a [`CachedContent`](https://ai.google.dev/api/python/google/generativeai/protos/CachedContent) object specifying the prompt you want to use, including the file and other fields you wish to cache. In this example the [`system_instruction`](../quickstarts/System_instructions.ipynb) has been set, and the document was provided in the prompt."
      ]
    },
    {
      "cell_type": "code",
      "execution_count": 6,
      "metadata": {
        "id": "55V-QkaWv4tb"
      },
      "outputs": [
        {
          "data": {
            "text/plain": [
              "CachedContent(name='cachedContents/a8uq7cwrbfgx', display_name='', model='models/gemini-2.0-flash-001', create_time=datetime.datetime(2025, 4, 15, 18, 0, 21, 831586, tzinfo=TzInfo(UTC)), update_time=datetime.datetime(2025, 4, 15, 18, 0, 21, 831586, tzinfo=TzInfo(UTC)), expire_time=datetime.datetime(2025, 4, 15, 19, 0, 19, 197015, tzinfo=TzInfo(UTC)), usage_metadata=CachedContentUsageMetadata(audio_duration_seconds=None, image_count=None, text_count=None, total_token_count=322698, video_duration_seconds=None))"
            ]
          },
          "execution_count": 6,
          "metadata": {},
          "output_type": "execute_result"
        }
      ],
      "source": [
        "# Note that caching requires a frozen model, e.g. one with a `-001` suffix.\n",
        "MODEL_ID=\"gemini-2.0-flash-001\"  # @param [\"gemini-2.0-flash-001\", \"gemini-1.5-flash-002\",\"gemini-1.5-pro-002\",\"gemini-1.5-flash-8b-latest\"] {\"allow-input\":true, isTemplate: true}\n",
        "\n",
        "apollo_cache = client.caches.create(\n",
        "    model=MODEL_ID,\n",
        "    config={\n",
        "        'contents': [document],\n",
        "        'system_instruction': 'You are an expert at analyzing transcripts.',\n",
        "    },\n",
        ")\n",
        "\n",
        "apollo_cache"
      ]
    },
    {
      "cell_type": "markdown",
      "metadata": {
        "id": "9j5yzay5xyPC"
      },
      "source": [
        "## Manage the cache expiry\n",
        "\n",
        "Once you have a `CachedContent` object, you can update the expiry time to keep it alive while you need it."
      ]
    },
    {
      "cell_type": "code",
      "execution_count": 7,
      "metadata": {
        "id": "cUJT2ESUyTGb"
      },
      "outputs": [
        {
          "data": {
            "text/plain": [
              "CachedContent(name='cachedContents/a8uq7cwrbfgx', display_name='', model='models/gemini-2.0-flash-001', create_time=datetime.datetime(2025, 4, 15, 18, 0, 21, 831586, tzinfo=TzInfo(UTC)), update_time=datetime.datetime(2025, 4, 15, 18, 0, 31, 473887, tzinfo=TzInfo(UTC)), expire_time=datetime.datetime(2025, 4, 15, 20, 0, 31, 462272, tzinfo=TzInfo(UTC)), usage_metadata=CachedContentUsageMetadata(audio_duration_seconds=None, image_count=None, text_count=None, total_token_count=322698, video_duration_seconds=None))"
            ]
          },
          "execution_count": 7,
          "metadata": {},
          "output_type": "execute_result"
        }
      ],
      "source": [
        "client.caches.update(\n",
        "    name=apollo_cache.name,\n",
        "    config=types.UpdateCachedContentConfig(ttl=\"7200s\")  # 2 hours in seconds\n",
        ")\n",
        "apollo_cache = client.caches.get(name=apollo_cache.name) # Get the updated cache\n",
        "apollo_cache"
      ]
    },
    {
      "cell_type": "markdown",
      "metadata": {
        "id": "t_PWabuayrf-"
      },
      "source": [
        "## Use the cache for generation\n",
        "\n",
        "As the `CachedContent` object refers to a specific model and parameters, you must create a [`GenerativeModel`](https://ai.google.dev/api/python/google/generativeai/GenerativeModel) using [`from_cached_content`](https://ai.google.dev/api/python/google/generativeai/GenerativeModel#from_cached_content). Then, generate content as you would with a directly instantiated model object."
      ]
    },
    {
      "cell_type": "code",
      "execution_count": 14,
      "metadata": {
        "id": "EG8VNpuIzGwT"
      },
      "outputs": [
        {
          "name": "stdout",
          "output_type": "stream",
          "text": [
            "Here's a lighthearted exchange between the crew and Houston:\n",
            "\n",
            "00 05 20 31 CMP\n",
            "If we're late in answering you, it's because we're munching sandwiches.\n",
            "\n",
            "00 05 20 36 CC\n",
            "Roger. I wish I could do the same here.\n",
            "\n",
            "00 05 20 40 CMP\n",
            "No. Don't leave the console!\n",
            "\n",
            "00 05 20 42 CC\n",
            "Don't worry. I won't.\n",
            "\n",
            "00 05 20 47 CMP\n",
            "FLIGHT doesn't like it.\n",
            "\n",
            "00 05 20 54 CMP\n",
            "How is FLIGHT today?\n",
            "\n",
            "00 05 20 58 CC\n",
            "Oh, he's doing quite well.\n",
            "\n",
            "This exchange is humorous because it's a relatable moment of snacking while working, with the crew teasing Houston about taking breaks, and ending with an inquiry about Flight Director's well-being.\n",
            "\n"
          ]
        }
      ],
      "source": [
        "response = client.models.generate_content(\n",
        "    model=MODEL_ID,\n",
        "    contents='Find a lighthearted moment from this transcript',\n",
        "    config=types.GenerateContentConfig(\n",
        "        cached_content=apollo_cache.name,\n",
        "    )\n",
        ")\n",
        "\n",
        "print(response.text)"
      ]
    },
    {
      "cell_type": "markdown",
      "metadata": {
        "id": "SzixLQhC3AO2"
      },
      "source": [
        "You can inspect token usage through `usage_metadata`. Note that the cached prompt tokens are included in `prompt_token_count`, but excluded from the `total_token_count`."
      ]
    },
    {
      "cell_type": "code",
      "execution_count": 15,
      "metadata": {
        "id": "MLFd8DFZ29lC"
      },
      "outputs": [
        {
          "data": {
            "text/plain": [
              "GenerateContentResponseUsageMetadata(cache_tokens_details=[ModalityTokenCount(modality=<MediaModality.TEXT: 'TEXT'>, token_count=322698)], cached_content_token_count=322698, candidates_token_count=225, candidates_tokens_details=[ModalityTokenCount(modality=<MediaModality.TEXT: 'TEXT'>, token_count=225)], prompt_token_count=322706, prompt_tokens_details=[ModalityTokenCount(modality=<MediaModality.TEXT: 'TEXT'>, token_count=322706)], thoughts_token_count=None, tool_use_prompt_token_count=None, tool_use_prompt_tokens_details=None, total_token_count=322931, traffic_type=None)"
            ]
          },
          "execution_count": 15,
          "metadata": {},
          "output_type": "execute_result"
        }
      ],
      "source": [
        "response.usage_metadata"
      ]
    },
    {
      "cell_type": "markdown",
      "metadata": {
        "id": "o-24t14t302N"
      },
      "source": [
        "You can ask new questions of the model, and the cache is reused."
      ]
    },
    {
      "cell_type": "code",
      "execution_count": 16,
      "metadata": {
        "id": "pZngmGj13k9O"
      },
      "outputs": [
        {
          "name": "stdout",
          "output_type": "stream",
          "text": [
            "Based on the provided transcript, the most important part is when Neil Armstrong first sets foot on the moon. His quote is:\n",
            "\n",
            "\"THAT'S ONE SMALL STEP FOR (A) MAN, ONE GIANT LEAP FOR MANKIND.\"\n",
            "\n"
          ]
        }
      ],
      "source": [
        "chat = client.chats.create(\n",
        "  model = MODEL_ID,\n",
        "  config = {\"cached_content\": apollo_cache.name}\n",
        ")\n",
        "\n",
        "response = chat.send_message(message=\"Give me a quote from the most important part of the transcript.\")\n",
        "print(response.text)"
      ]
    },
    {
      "cell_type": "code",
      "execution_count": 17,
      "metadata": {
        "id": "GhGTutW65u7h"
      },
      "outputs": [
        {
          "name": "stdout",
          "output_type": "stream",
          "text": [
            "Immediately after Neil Armstrong's famous quote, the following details were recounted:\n",
            "\n",
            "*   He describes the surface as \"fine and powdery\" that adheres to his boots \"like powdered charcoal.\"\n",
            "*   He sinks into the surface \"a small fraction of an inch,\" seeing the footprints of his boots in the fine, sandy particles.\n",
            "*   He finds \"no difficulty in moving around,\" and finds it even easier than in simulations.\n",
            "*   He states that the descent engine did not leave a crater.\n",
            "*   He notes that the landing area is level.\n",
            "*   He sees \"evidence of rays emanating from the descent engine, but a very insignificant amount.\"\n"
          ]
        }
      ],
      "source": [
        "response = chat.send_message(\n",
        "    message=\"What was recounted after that?\",\n",
        "    config = {\"cached_content\": apollo_cache.name}\n",
        ")\n",
        "print(response.text)"
      ]
    },
    {
      "cell_type": "code",
      "execution_count": 18,
      "metadata": {
        "id": "SB5Ywx2D6cOn"
      },
      "outputs": [
        {
          "data": {
            "text/plain": [
              "GenerateContentResponseUsageMetadata(cache_tokens_details=[ModalityTokenCount(modality=<MediaModality.TEXT: 'TEXT'>, token_count=322698)], cached_content_token_count=322698, candidates_token_count=136, candidates_tokens_details=[ModalityTokenCount(modality=<MediaModality.TEXT: 'TEXT'>, token_count=136)], prompt_token_count=322766, prompt_tokens_details=[ModalityTokenCount(modality=<MediaModality.TEXT: 'TEXT'>, token_count=322766)], thoughts_token_count=None, tool_use_prompt_token_count=None, tool_use_prompt_tokens_details=None, total_token_count=322902, traffic_type=None)"
            ]
          },
          "execution_count": 18,
          "metadata": {},
          "output_type": "execute_result"
        }
      ],
      "source": [
        "response.usage_metadata"
      ]
    },
    {
      "cell_type": "markdown",
      "metadata": {
        "id": "7acf6cd63d2d"
      },
      "source": [
        "From the metadata, you can see that the `total_token_count=322902` and `cached_content_token_count=322698`, and `candidates_token_count=136`.\n",
        "\n",
        "This means that from the 322902 tokens, 322698 were cached (and thus less expensive) and only 136 were from the prompt.\n",
        "\n",
        "Since the cached tokens are cheaper than the normal ones, it means this prompt was much cheaper that if you had not used caching. Check the [pricing here](https://ai.google.dev/pricing) for the up-to-date discount on cached tokens."
      ]
    },
    {
      "cell_type": "markdown",
      "metadata": {
        "id": "kfeAxehx79ng"
      },
      "source": [
        "## Delete the cache\n",
        "\n",
        "The cache has a small recurring storage cost (cf. [pricing](https://ai.google.dev/pricing)) so by default it is only saved for an hour. In this case you even set it up for a shorter amont of time (using `\"ttl\"`) of 2h.\n",
        "\n",
        "Still, if you don't need you cache anymore, it is good practice to delete it proactively."
      ]
    },
    {
      "cell_type": "code",
      "execution_count": 19,
      "metadata": {
        "id": "HdP83dj08Nb1"
      },
      "outputs": [
        {
          "name": "stdout",
          "output_type": "stream",
          "text": [
            "cachedContents/a8uq7cwrbfgx\n"
          ]
        },
        {
          "data": {
            "text/plain": [
              "DeleteCachedContentResponse()"
            ]
          },
          "execution_count": 19,
          "metadata": {},
          "output_type": "execute_result"
        }
      ],
      "source": [
        "print(apollo_cache.name)\n",
        "client.caches.delete(name=apollo_cache.name)"
      ]
    },
    {
      "cell_type": "markdown",
      "metadata": {
        "id": "7396e8bfdcf8"
      },
      "source": [
        "## Next Steps\n",
        "### Useful API references:\n",
        "\n",
        "If you want to know more about the caching API, you can check the full [API specifications](https://ai.google.dev/api/rest/v1beta/cachedContents) and the [caching documentation](https://ai.google.dev/gemini-api/docs/caching).\n",
        "\n",
        "### Continue your discovery of the Gemini API\n",
        "\n",
        "Check the File API notebook to know more about that API. The [vision capabilities](../quickstarts/Video.ipynb) of the Gemini API are a good reason to use the File API and the caching.\n",
        "The Gemini API also has configurable [safety settings](../quickstarts/Safety.ipynb) that you might have to customize when dealing with big files.\n"
      ]
    }
  ],
  "metadata": {
    "colab": {
      "name": "Caching.ipynb",
      "toc_visible": true
    },
    "kernelspec": {
      "display_name": "Python 3",
      "name": "python3"
    }
  },
  "nbformat": 4,
  "nbformat_minor": 0
}
